{
  "cells": [
    {
      "cell_type": "code",
      "execution_count": null,
      "metadata": {
        "id": "aeOWx4IR8leF",
        "colab": {
          "base_uri": "https://localhost:8080/"
        },
        "outputId": "93dbab19-01d5-436f-ecb7-eebc8542b9c7"
      },
      "outputs": [
        {
          "output_type": "stream",
          "name": "stdout",
          "text": [
            "  Installing build dependencies ... \u001b[?25l\u001b[?25hdone\n",
            "  Getting requirements to build wheel ... \u001b[?25l\u001b[?25hdone\n",
            "  Preparing metadata (pyproject.toml) ... \u001b[?25l\u001b[?25hdone\n",
            "\u001b[2K     \u001b[90m━━━━━━━━━━━━━━━━━━━━━━━━━━━━━━━━━━━━━━━━\u001b[0m \u001b[32m401.2/401.2 kB\u001b[0m \u001b[31m10.1 MB/s\u001b[0m eta \u001b[36m0:00:00\u001b[0m\n",
            "\u001b[?25h  Building wheel for transformers (pyproject.toml) ... \u001b[?25l\u001b[?25hdone\n",
            "  Installing build dependencies ... \u001b[?25l\u001b[?25hdone\n",
            "  Getting requirements to build wheel ... \u001b[?25l\u001b[?25hdone\n",
            "  Preparing metadata (pyproject.toml) ... \u001b[?25l\u001b[?25hdone\n",
            "  Building wheel for accelerate (pyproject.toml) ... \u001b[?25l\u001b[?25hdone\n",
            "\u001b[2K     \u001b[90m━━━━━━━━━━━━━━━━━━━━━━━━━━━━━━━━━━━━━━━━\u001b[0m \u001b[32m119.8/119.8 MB\u001b[0m \u001b[31m14.3 MB/s\u001b[0m eta \u001b[36m0:00:00\u001b[0m\n",
            "\u001b[?25h  Installing build dependencies ... \u001b[?25l\u001b[?25hdone\n",
            "  Getting requirements to build wheel ... \u001b[?25l\u001b[?25hdone\n",
            "  Preparing metadata (pyproject.toml) ... \u001b[?25l\u001b[?25hdone\n",
            "  Building wheel for peft (pyproject.toml) ... \u001b[?25l\u001b[?25hdone\n",
            "\u001b[2K     \u001b[90m━━━━━━━━━━━━━━━━━━━━━━━━━━━━━━━━━━━━━━━━\u001b[0m \u001b[32m38.0/38.0 MB\u001b[0m \u001b[31m46.1 MB/s\u001b[0m eta \u001b[36m0:00:00\u001b[0m\n",
            "\u001b[2K     \u001b[90m━━━━━━━━━━━━━━━━━━━━━━━━━━━━━━━━━━━━━━━━\u001b[0m \u001b[32m542.0/542.0 kB\u001b[0m \u001b[31m11.6 MB/s\u001b[0m eta \u001b[36m0:00:00\u001b[0m\n",
            "\u001b[2K     \u001b[90m━━━━━━━━━━━━━━━━━━━━━━━━━━━━━━━━━━━━━━━━\u001b[0m \u001b[32m116.3/116.3 kB\u001b[0m \u001b[31m16.2 MB/s\u001b[0m eta \u001b[36m0:00:00\u001b[0m\n",
            "\u001b[2K     \u001b[90m━━━━━━━━━━━━━━━━━━━━━━━━━━━━━━━━━━━━━━━━\u001b[0m \u001b[32m194.1/194.1 kB\u001b[0m \u001b[31m278.0 kB/s\u001b[0m eta \u001b[36m0:00:00\u001b[0m\n",
            "\u001b[2K     \u001b[90m━━━━━━━━━━━━━━━━━━━━━━━━━━━━━━━━━━━━━━━━\u001b[0m \u001b[32m134.8/134.8 kB\u001b[0m \u001b[31m17.9 MB/s\u001b[0m eta \u001b[36m0:00:00\u001b[0m\n",
            "\u001b[?25hCollecting wandb\n",
            "  Downloading wandb-0.17.0-py3-none-manylinux_2_5_x86_64.manylinux1_x86_64.manylinux_2_17_x86_64.manylinux2014_x86_64.whl (6.7 MB)\n",
            "\u001b[2K     \u001b[90m━━━━━━━━━━━━━━━━━━━━━━━━━━━━━━━━━━━━━━━━\u001b[0m \u001b[32m6.7/6.7 MB\u001b[0m \u001b[31m22.0 MB/s\u001b[0m eta \u001b[36m0:00:00\u001b[0m\n",
            "\u001b[?25hRequirement already satisfied: click!=8.0.0,>=7.1 in /usr/local/lib/python3.10/dist-packages (from wandb) (8.1.7)\n",
            "Collecting docker-pycreds>=0.4.0 (from wandb)\n",
            "  Downloading docker_pycreds-0.4.0-py2.py3-none-any.whl (9.0 kB)\n",
            "Collecting gitpython!=3.1.29,>=1.0.0 (from wandb)\n",
            "  Downloading GitPython-3.1.43-py3-none-any.whl (207 kB)\n",
            "\u001b[2K     \u001b[90m━━━━━━━━━━━━━━━━━━━━━━━━━━━━━━━━━━━━━━━━\u001b[0m \u001b[32m207.3/207.3 kB\u001b[0m \u001b[31m27.1 MB/s\u001b[0m eta \u001b[36m0:00:00\u001b[0m\n",
            "\u001b[?25hRequirement already satisfied: platformdirs in /usr/local/lib/python3.10/dist-packages (from wandb) (4.2.1)\n",
            "Requirement already satisfied: protobuf!=4.21.0,<5,>=3.19.0 in /usr/local/lib/python3.10/dist-packages (from wandb) (3.20.3)\n",
            "Requirement already satisfied: psutil>=5.0.0 in /usr/local/lib/python3.10/dist-packages (from wandb) (5.9.5)\n",
            "Requirement already satisfied: pyyaml in /usr/local/lib/python3.10/dist-packages (from wandb) (6.0.1)\n",
            "Requirement already satisfied: requests<3,>=2.0.0 in /usr/local/lib/python3.10/dist-packages (from wandb) (2.31.0)\n",
            "Collecting sentry-sdk>=1.0.0 (from wandb)\n",
            "  Downloading sentry_sdk-2.1.1-py2.py3-none-any.whl (277 kB)\n",
            "\u001b[2K     \u001b[90m━━━━━━━━━━━━━━━━━━━━━━━━━━━━━━━━━━━━━━━━\u001b[0m \u001b[32m277.3/277.3 kB\u001b[0m \u001b[31m36.5 MB/s\u001b[0m eta \u001b[36m0:00:00\u001b[0m\n",
            "\u001b[?25hCollecting setproctitle (from wandb)\n",
            "  Downloading setproctitle-1.3.3-cp310-cp310-manylinux_2_5_x86_64.manylinux1_x86_64.manylinux_2_17_x86_64.manylinux2014_x86_64.whl (30 kB)\n",
            "Requirement already satisfied: setuptools in /usr/local/lib/python3.10/dist-packages (from wandb) (67.7.2)\n",
            "Requirement already satisfied: six>=1.4.0 in /usr/local/lib/python3.10/dist-packages (from docker-pycreds>=0.4.0->wandb) (1.16.0)\n",
            "Collecting gitdb<5,>=4.0.1 (from gitpython!=3.1.29,>=1.0.0->wandb)\n",
            "  Downloading gitdb-4.0.11-py3-none-any.whl (62 kB)\n",
            "\u001b[2K     \u001b[90m━━━━━━━━━━━━━━━━━━━━━━━━━━━━━━━━━━━━━━━━\u001b[0m \u001b[32m62.7/62.7 kB\u001b[0m \u001b[31m10.1 MB/s\u001b[0m eta \u001b[36m0:00:00\u001b[0m\n",
            "\u001b[?25hRequirement already satisfied: charset-normalizer<4,>=2 in /usr/local/lib/python3.10/dist-packages (from requests<3,>=2.0.0->wandb) (3.3.2)\n",
            "Requirement already satisfied: idna<4,>=2.5 in /usr/local/lib/python3.10/dist-packages (from requests<3,>=2.0.0->wandb) (3.7)\n",
            "Requirement already satisfied: urllib3<3,>=1.21.1 in /usr/local/lib/python3.10/dist-packages (from requests<3,>=2.0.0->wandb) (2.0.7)\n",
            "Requirement already satisfied: certifi>=2017.4.17 in /usr/local/lib/python3.10/dist-packages (from requests<3,>=2.0.0->wandb) (2024.2.2)\n",
            "Collecting smmap<6,>=3.0.1 (from gitdb<5,>=4.0.1->gitpython!=3.1.29,>=1.0.0->wandb)\n",
            "  Downloading smmap-5.0.1-py3-none-any.whl (24 kB)\n",
            "Installing collected packages: smmap, setproctitle, sentry-sdk, docker-pycreds, gitdb, gitpython, wandb\n",
            "Successfully installed docker-pycreds-0.4.0 gitdb-4.0.11 gitpython-3.1.43 sentry-sdk-2.1.1 setproctitle-1.3.3 smmap-5.0.1 wandb-0.17.0\n"
          ]
        }
      ],
      "source": [
        "!pip install -q -U git+https://github.com/huggingface/transformers.git\n",
        "!pip install -q -U git+https://github.com/huggingface/accelerate.git\n",
        "!pip install -q torch\n",
        "!pip install -q -U bitsandbytes\n",
        "!pip install -q -U git+https://github.com/huggingface/peft.git\n",
        "!pip install -q pyarrow==14.0.1\n",
        "!pip install -q datasets\n",
        "!pip install wandb"
      ]
    },
    {
      "cell_type": "code",
      "execution_count": null,
      "metadata": {
        "id": "X6Dk5_9ZIBZY",
        "colab": {
          "base_uri": "https://localhost:8080/"
        },
        "outputId": "044868a3-d6e3-46a1-d852-1a374aa40cca"
      },
      "outputs": [
        {
          "output_type": "stream",
          "name": "stdout",
          "text": [
            "Cloning into 'trl'...\n",
            "remote: Enumerating objects: 7046, done.\u001b[K\n",
            "remote: Counting objects: 100% (1745/1745), done.\u001b[K\n",
            "remote: Compressing objects: 100% (326/326), done.\u001b[K\n",
            "remote: Total 7046 (delta 1580), reused 1513 (delta 1413), pack-reused 5301\u001b[K\n",
            "Receiving objects: 100% (7046/7046), 6.50 MiB | 11.06 MiB/s, done.\n",
            "Resolving deltas: 100% (4759/4759), done.\n",
            "/content/trl\n",
            "Processing /content/trl\n",
            "  Installing build dependencies ... \u001b[?25l\u001b[?25hdone\n",
            "  Getting requirements to build wheel ... \u001b[?25l\u001b[?25hdone\n",
            "  Preparing metadata (pyproject.toml) ... \u001b[?25l\u001b[?25hdone\n",
            "Requirement already satisfied: torch>=1.4.0 in /usr/local/lib/python3.10/dist-packages (from trl==0.8.7.dev0) (2.2.1+cu121)\n",
            "Requirement already satisfied: transformers>=4.31.0 in /usr/local/lib/python3.10/dist-packages (from trl==0.8.7.dev0) (4.41.0.dev0)\n",
            "Requirement already satisfied: numpy>=1.18.2 in /usr/local/lib/python3.10/dist-packages (from trl==0.8.7.dev0) (1.25.2)\n",
            "Requirement already satisfied: accelerate in /usr/local/lib/python3.10/dist-packages (from trl==0.8.7.dev0) (0.31.0.dev0)\n",
            "Requirement already satisfied: datasets in /usr/local/lib/python3.10/dist-packages (from trl==0.8.7.dev0) (2.19.1)\n",
            "Collecting tyro>=0.5.11 (from trl==0.8.7.dev0)\n",
            "  Downloading tyro-0.8.3-py3-none-any.whl (102 kB)\n",
            "\u001b[2K     \u001b[90m━━━━━━━━━━━━━━━━━━━━━━━━━━━━━━━━━━━━━━━━\u001b[0m \u001b[32m102.0/102.0 kB\u001b[0m \u001b[31m3.2 MB/s\u001b[0m eta \u001b[36m0:00:00\u001b[0m\n",
            "\u001b[?25hRequirement already satisfied: filelock in /usr/local/lib/python3.10/dist-packages (from torch>=1.4.0->trl==0.8.7.dev0) (3.14.0)\n",
            "Requirement already satisfied: typing-extensions>=4.8.0 in /usr/local/lib/python3.10/dist-packages (from torch>=1.4.0->trl==0.8.7.dev0) (4.11.0)\n",
            "Requirement already satisfied: sympy in /usr/local/lib/python3.10/dist-packages (from torch>=1.4.0->trl==0.8.7.dev0) (1.12)\n",
            "Requirement already satisfied: networkx in /usr/local/lib/python3.10/dist-packages (from torch>=1.4.0->trl==0.8.7.dev0) (3.3)\n",
            "Requirement already satisfied: jinja2 in /usr/local/lib/python3.10/dist-packages (from torch>=1.4.0->trl==0.8.7.dev0) (3.1.4)\n",
            "Requirement already satisfied: fsspec in /usr/local/lib/python3.10/dist-packages (from torch>=1.4.0->trl==0.8.7.dev0) (2023.6.0)\n",
            "Requirement already satisfied: nvidia-cuda-nvrtc-cu12==12.1.105 in /usr/local/lib/python3.10/dist-packages (from torch>=1.4.0->trl==0.8.7.dev0) (12.1.105)\n",
            "Requirement already satisfied: nvidia-cuda-runtime-cu12==12.1.105 in /usr/local/lib/python3.10/dist-packages (from torch>=1.4.0->trl==0.8.7.dev0) (12.1.105)\n",
            "Requirement already satisfied: nvidia-cuda-cupti-cu12==12.1.105 in /usr/local/lib/python3.10/dist-packages (from torch>=1.4.0->trl==0.8.7.dev0) (12.1.105)\n",
            "Requirement already satisfied: nvidia-cudnn-cu12==8.9.2.26 in /usr/local/lib/python3.10/dist-packages (from torch>=1.4.0->trl==0.8.7.dev0) (8.9.2.26)\n",
            "Requirement already satisfied: nvidia-cublas-cu12==12.1.3.1 in /usr/local/lib/python3.10/dist-packages (from torch>=1.4.0->trl==0.8.7.dev0) (12.1.3.1)\n",
            "Requirement already satisfied: nvidia-cufft-cu12==11.0.2.54 in /usr/local/lib/python3.10/dist-packages (from torch>=1.4.0->trl==0.8.7.dev0) (11.0.2.54)\n",
            "Requirement already satisfied: nvidia-curand-cu12==10.3.2.106 in /usr/local/lib/python3.10/dist-packages (from torch>=1.4.0->trl==0.8.7.dev0) (10.3.2.106)\n",
            "Requirement already satisfied: nvidia-cusolver-cu12==11.4.5.107 in /usr/local/lib/python3.10/dist-packages (from torch>=1.4.0->trl==0.8.7.dev0) (11.4.5.107)\n",
            "Requirement already satisfied: nvidia-cusparse-cu12==12.1.0.106 in /usr/local/lib/python3.10/dist-packages (from torch>=1.4.0->trl==0.8.7.dev0) (12.1.0.106)\n",
            "Requirement already satisfied: nvidia-nccl-cu12==2.19.3 in /usr/local/lib/python3.10/dist-packages (from torch>=1.4.0->trl==0.8.7.dev0) (2.19.3)\n",
            "Requirement already satisfied: nvidia-nvtx-cu12==12.1.105 in /usr/local/lib/python3.10/dist-packages (from torch>=1.4.0->trl==0.8.7.dev0) (12.1.105)\n",
            "Requirement already satisfied: triton==2.2.0 in /usr/local/lib/python3.10/dist-packages (from torch>=1.4.0->trl==0.8.7.dev0) (2.2.0)\n",
            "Requirement already satisfied: nvidia-nvjitlink-cu12 in /usr/local/lib/python3.10/dist-packages (from nvidia-cusolver-cu12==11.4.5.107->torch>=1.4.0->trl==0.8.7.dev0) (12.4.127)\n",
            "Requirement already satisfied: huggingface-hub<1.0,>=0.23.0 in /usr/local/lib/python3.10/dist-packages (from transformers>=4.31.0->trl==0.8.7.dev0) (0.23.0)\n",
            "Requirement already satisfied: packaging>=20.0 in /usr/local/lib/python3.10/dist-packages (from transformers>=4.31.0->trl==0.8.7.dev0) (24.0)\n",
            "Requirement already satisfied: pyyaml>=5.1 in /usr/local/lib/python3.10/dist-packages (from transformers>=4.31.0->trl==0.8.7.dev0) (6.0.1)\n",
            "Requirement already satisfied: regex!=2019.12.17 in /usr/local/lib/python3.10/dist-packages (from transformers>=4.31.0->trl==0.8.7.dev0) (2023.12.25)\n",
            "Requirement already satisfied: requests in /usr/local/lib/python3.10/dist-packages (from transformers>=4.31.0->trl==0.8.7.dev0) (2.31.0)\n",
            "Requirement already satisfied: tokenizers<0.20,>=0.19 in /usr/local/lib/python3.10/dist-packages (from transformers>=4.31.0->trl==0.8.7.dev0) (0.19.1)\n",
            "Requirement already satisfied: safetensors>=0.4.1 in /usr/local/lib/python3.10/dist-packages (from transformers>=4.31.0->trl==0.8.7.dev0) (0.4.3)\n",
            "Requirement already satisfied: tqdm>=4.27 in /usr/local/lib/python3.10/dist-packages (from transformers>=4.31.0->trl==0.8.7.dev0) (4.66.4)\n",
            "Requirement already satisfied: docstring-parser>=0.14.1 in /usr/local/lib/python3.10/dist-packages (from tyro>=0.5.11->trl==0.8.7.dev0) (0.16)\n",
            "Requirement already satisfied: rich>=11.1.0 in /usr/local/lib/python3.10/dist-packages (from tyro>=0.5.11->trl==0.8.7.dev0) (13.7.1)\n",
            "Collecting shtab>=1.5.6 (from tyro>=0.5.11->trl==0.8.7.dev0)\n",
            "  Downloading shtab-1.7.1-py3-none-any.whl (14 kB)\n",
            "Requirement already satisfied: psutil in /usr/local/lib/python3.10/dist-packages (from accelerate->trl==0.8.7.dev0) (5.9.5)\n",
            "Requirement already satisfied: pyarrow>=12.0.0 in /usr/local/lib/python3.10/dist-packages (from datasets->trl==0.8.7.dev0) (14.0.1)\n",
            "Requirement already satisfied: pyarrow-hotfix in /usr/local/lib/python3.10/dist-packages (from datasets->trl==0.8.7.dev0) (0.6)\n",
            "Requirement already satisfied: dill<0.3.9,>=0.3.0 in /usr/local/lib/python3.10/dist-packages (from datasets->trl==0.8.7.dev0) (0.3.8)\n",
            "Requirement already satisfied: pandas in /usr/local/lib/python3.10/dist-packages (from datasets->trl==0.8.7.dev0) (2.0.3)\n",
            "Requirement already satisfied: xxhash in /usr/local/lib/python3.10/dist-packages (from datasets->trl==0.8.7.dev0) (3.4.1)\n",
            "Requirement already satisfied: multiprocess in /usr/local/lib/python3.10/dist-packages (from datasets->trl==0.8.7.dev0) (0.70.16)\n",
            "Requirement already satisfied: aiohttp in /usr/local/lib/python3.10/dist-packages (from datasets->trl==0.8.7.dev0) (3.9.5)\n",
            "Requirement already satisfied: aiosignal>=1.1.2 in /usr/local/lib/python3.10/dist-packages (from aiohttp->datasets->trl==0.8.7.dev0) (1.3.1)\n",
            "Requirement already satisfied: attrs>=17.3.0 in /usr/local/lib/python3.10/dist-packages (from aiohttp->datasets->trl==0.8.7.dev0) (23.2.0)\n",
            "Requirement already satisfied: frozenlist>=1.1.1 in /usr/local/lib/python3.10/dist-packages (from aiohttp->datasets->trl==0.8.7.dev0) (1.4.1)\n",
            "Requirement already satisfied: multidict<7.0,>=4.5 in /usr/local/lib/python3.10/dist-packages (from aiohttp->datasets->trl==0.8.7.dev0) (6.0.5)\n",
            "Requirement already satisfied: yarl<2.0,>=1.0 in /usr/local/lib/python3.10/dist-packages (from aiohttp->datasets->trl==0.8.7.dev0) (1.9.4)\n",
            "Requirement already satisfied: async-timeout<5.0,>=4.0 in /usr/local/lib/python3.10/dist-packages (from aiohttp->datasets->trl==0.8.7.dev0) (4.0.3)\n",
            "Requirement already satisfied: charset-normalizer<4,>=2 in /usr/local/lib/python3.10/dist-packages (from requests->transformers>=4.31.0->trl==0.8.7.dev0) (3.3.2)\n",
            "Requirement already satisfied: idna<4,>=2.5 in /usr/local/lib/python3.10/dist-packages (from requests->transformers>=4.31.0->trl==0.8.7.dev0) (3.7)\n",
            "Requirement already satisfied: urllib3<3,>=1.21.1 in /usr/local/lib/python3.10/dist-packages (from requests->transformers>=4.31.0->trl==0.8.7.dev0) (2.0.7)\n",
            "Requirement already satisfied: certifi>=2017.4.17 in /usr/local/lib/python3.10/dist-packages (from requests->transformers>=4.31.0->trl==0.8.7.dev0) (2024.2.2)\n",
            "Requirement already satisfied: markdown-it-py>=2.2.0 in /usr/local/lib/python3.10/dist-packages (from rich>=11.1.0->tyro>=0.5.11->trl==0.8.7.dev0) (3.0.0)\n",
            "Requirement already satisfied: pygments<3.0.0,>=2.13.0 in /usr/local/lib/python3.10/dist-packages (from rich>=11.1.0->tyro>=0.5.11->trl==0.8.7.dev0) (2.16.1)\n",
            "Requirement already satisfied: MarkupSafe>=2.0 in /usr/local/lib/python3.10/dist-packages (from jinja2->torch>=1.4.0->trl==0.8.7.dev0) (2.1.5)\n",
            "Requirement already satisfied: python-dateutil>=2.8.2 in /usr/local/lib/python3.10/dist-packages (from pandas->datasets->trl==0.8.7.dev0) (2.8.2)\n",
            "Requirement already satisfied: pytz>=2020.1 in /usr/local/lib/python3.10/dist-packages (from pandas->datasets->trl==0.8.7.dev0) (2023.4)\n",
            "Requirement already satisfied: tzdata>=2022.1 in /usr/local/lib/python3.10/dist-packages (from pandas->datasets->trl==0.8.7.dev0) (2024.1)\n",
            "Requirement already satisfied: mpmath>=0.19 in /usr/local/lib/python3.10/dist-packages (from sympy->torch>=1.4.0->trl==0.8.7.dev0) (1.3.0)\n",
            "Requirement already satisfied: mdurl~=0.1 in /usr/local/lib/python3.10/dist-packages (from markdown-it-py>=2.2.0->rich>=11.1.0->tyro>=0.5.11->trl==0.8.7.dev0) (0.1.2)\n",
            "Requirement already satisfied: six>=1.5 in /usr/local/lib/python3.10/dist-packages (from python-dateutil>=2.8.2->pandas->datasets->trl==0.8.7.dev0) (1.16.0)\n",
            "Building wheels for collected packages: trl\n",
            "  Building wheel for trl (pyproject.toml) ... \u001b[?25l\u001b[?25hdone\n",
            "  Created wheel for trl: filename=trl-0.8.7.dev0-py3-none-any.whl size=207432 sha256=07deecca37b87585745f7e48287cae60121334a1b445a048cb4e1bc95c0ccdc6\n",
            "  Stored in directory: /tmp/pip-ephem-wheel-cache-zz67b1vs/wheels/6b/25/27/3b1530fe7be4495c561eaab87402fdaffaf39de50283890e8e\n",
            "Successfully built trl\n",
            "Installing collected packages: shtab, tyro, trl\n",
            "Successfully installed shtab-1.7.1 trl-0.8.7.dev0 tyro-0.8.3\n"
          ]
        }
      ],
      "source": [
        "!git clone https://github.com/huggingface/trl.git\n",
        "%cd trl/\n",
        "!pip install ."
      ]
    },
    {
      "cell_type": "code",
      "execution_count": null,
      "metadata": {
        "id": "Pm_u2j2aICd8",
        "colab": {
          "base_uri": "https://localhost:8080/"
        },
        "outputId": "110f4b91-4260-494c-a07a-a5ddc5780b6b"
      },
      "outputs": [
        {
          "output_type": "stream",
          "name": "stdout",
          "text": [
            "/content\n"
          ]
        }
      ],
      "source": [
        "%cd .."
      ]
    },
    {
      "cell_type": "code",
      "execution_count": null,
      "metadata": {
        "id": "DODkVMmCs_PD",
        "colab": {
          "base_uri": "https://localhost:8080/"
        },
        "outputId": "efd7987f-05ed-4aef-e3f1-41493979b437"
      },
      "outputs": [
        {
          "output_type": "stream",
          "name": "stderr",
          "text": [
            "\u001b[34m\u001b[1mwandb\u001b[0m: W&B API key is configured. Use \u001b[1m`wandb login --relogin`\u001b[0m to force relogin\n",
            "\u001b[34m\u001b[1mwandb\u001b[0m: \u001b[33mWARNING\u001b[0m If you're specifying your api key in code, ensure this code is not shared publicly.\n",
            "\u001b[34m\u001b[1mwandb\u001b[0m: \u001b[33mWARNING\u001b[0m Consider setting the WANDB_API_KEY environment variable, or running `wandb login` from the command line.\n",
            "\u001b[34m\u001b[1mwandb\u001b[0m: Appending key for api.wandb.ai to your netrc file: /root/.netrc\n"
          ]
        },
        {
          "output_type": "execute_result",
          "data": {
            "text/plain": [
              "True"
            ]
          },
          "metadata": {},
          "execution_count": 4
        }
      ],
      "source": [
        "import wandb\n",
        "from google.colab import userdata, drive\n",
        "\n",
        "# Defined in the secrets tab in Google Colab\n",
        "hf_token = userdata.get('HuggingFace')\n",
        "wb_token = userdata.get('wandb')\n",
        "wandb.login(key=wb_token)"
      ]
    },
    {
      "cell_type": "code",
      "execution_count": null,
      "metadata": {
        "id": "uOSPEMlWatol"
      },
      "outputs": [],
      "source": [
        "from huggingface_hub import whoami\n",
        "\n",
        "user = whoami(token=hf_token)['name']"
      ]
    },
    {
      "cell_type": "code",
      "execution_count": null,
      "metadata": {
        "id": "VS50XVTzuN7P",
        "colab": {
          "base_uri": "https://localhost:8080/"
        },
        "outputId": "1237ffbc-45d1-4861-da78-3b00ab590493"
      },
      "outputs": [
        {
          "output_type": "stream",
          "name": "stdout",
          "text": [
            "Mounted at /content/drive\n"
          ]
        }
      ],
      "source": [
        "drive.mount('/content/drive')"
      ]
    },
    {
      "cell_type": "code",
      "execution_count": null,
      "metadata": {
        "id": "CGH60MCtF_6p"
      },
      "outputs": [],
      "source": [
        "from IPython.display import HTML, display\n",
        "\n",
        "def set_css():\n",
        "  display(HTML('''\n",
        "  <style>\n",
        "    pre {\n",
        "        white-space: pre-wrap;\n",
        "    }\n",
        "  </style>\n",
        "  '''))\n",
        "get_ipython().events.register('pre_run_cell', set_css)"
      ]
    },
    {
      "cell_type": "code",
      "execution_count": null,
      "metadata": {
        "id": "QWF_bxt6ycJL",
        "colab": {
          "base_uri": "https://localhost:8080/",
          "height": 17
        },
        "outputId": "0778bf97-1e75-4ce3-fb60-3186119702b7"
      },
      "outputs": [
        {
          "output_type": "display_data",
          "data": {
            "text/plain": [
              "<IPython.core.display.HTML object>"
            ],
            "text/html": [
              "\n",
              "  <style>\n",
              "    pre {\n",
              "        white-space: pre-wrap;\n",
              "    }\n",
              "  </style>\n",
              "  "
            ]
          },
          "metadata": {}
        }
      ],
      "source": [
        "from typing import TypeVar, List, Tuple, Dict, NoReturn\n",
        "from datasets import DatasetDict, Dataset, IterableDatasetDict, IterableDataset\n",
        "\n",
        "T = TypeVar(\"T\")\n",
        "\n",
        "DataPointType=DatasetDict | Dataset | IterableDatasetDict | IterableDataset\n",
        "DataPointTrain =Dataset | List | T\n",
        "DataPointTest =Dataset | List | T\n",
        "\n",
        "from transformers.models.llama.tokenization_llama_fast import LlamaTokenizerFast\n",
        "from transformers.models.mistral.modeling_mistral import MistralForCausalLM"
      ]
    },
    {
      "cell_type": "code",
      "execution_count": null,
      "metadata": {
        "id": "7TqEAuZbt9gW",
        "colab": {
          "base_uri": "https://localhost:8080/",
          "height": 17
        },
        "outputId": "eeacef60-d105-40b5-c667-27744425e0c1"
      },
      "outputs": [
        {
          "output_type": "display_data",
          "data": {
            "text/plain": [
              "<IPython.core.display.HTML object>"
            ],
            "text/html": [
              "\n",
              "  <style>\n",
              "    pre {\n",
              "        white-space: pre-wrap;\n",
              "    }\n",
              "  </style>\n",
              "  "
            ]
          },
          "metadata": {}
        }
      ],
      "source": [
        "# BASE_MODEL_NAME = \"mistralai/Mistral-7B-v0.1\"\n",
        "BASE_MODEL_NAME=\"mistralai/Mistral-7B-Instruct-v0.2\"\n",
        "\n",
        "OUTPUT_DIR_NAME = \"Blueprint_Planning_Mistral_7B_v2\"\n",
        "ADAPTER_CHECKPOINTS_NAME = \"ckpts_mistral_7B_blueprint_planning_v2\""
      ]
    },
    {
      "cell_type": "code",
      "execution_count": null,
      "metadata": {
        "id": "mn7O5oBr7lfJ",
        "colab": {
          "base_uri": "https://localhost:8080/",
          "height": 17
        },
        "outputId": "2a00662d-dc41-46d8-afa9-e049e20e51dc"
      },
      "outputs": [
        {
          "output_type": "display_data",
          "data": {
            "text/plain": [
              "<IPython.core.display.HTML object>"
            ],
            "text/html": [
              "\n",
              "  <style>\n",
              "    pre {\n",
              "        white-space: pre-wrap;\n",
              "    }\n",
              "  </style>\n",
              "  "
            ]
          },
          "metadata": {}
        }
      ],
      "source": [
        "from transformers import AutoTokenizer\n",
        "\n",
        "def load_tokenizer(model_id: str = BASE_MODEL_NAME)->LlamaTokenizerFast:\n",
        "    tokenizer = AutoTokenizer.from_pretrained(model_id, add_eos_token=True)\n",
        "\n",
        "    # Check if the pad token is already in the tokenizer\n",
        "    if '[<pad>]' not in tokenizer.get_vocab():\n",
        "        # Add the pad token\n",
        "        tokenizer.add_tokens(['[<pad>]'])\n",
        "        print(\"Added pad token\")\n",
        "\n",
        "    # Set the pad token\n",
        "    tokenizer.pad_token = '[<pad>]'\n",
        "\n",
        "    tokenizer.padding_side='left'\n",
        "\n",
        "    # Print the pad token ids\n",
        "    print('Tokenizer pad token ID:', tokenizer.pad_token_id)\n",
        "    return tokenizer"
      ]
    },
    {
      "cell_type": "code",
      "source": [
        "!pip install --upgrade huggingface_hub"
      ],
      "metadata": {
        "colab": {
          "base_uri": "https://localhost:8080/",
          "height": 374
        },
        "id": "2QoiFJ9Ld7B-",
        "outputId": "5d754430-8415-48c2-ca6a-e032969dd29a"
      },
      "execution_count": null,
      "outputs": [
        {
          "output_type": "display_data",
          "data": {
            "text/plain": [
              "<IPython.core.display.HTML object>"
            ],
            "text/html": [
              "\n",
              "  <style>\n",
              "    pre {\n",
              "        white-space: pre-wrap;\n",
              "    }\n",
              "  </style>\n",
              "  "
            ]
          },
          "metadata": {}
        },
        {
          "output_type": "stream",
          "name": "stdout",
          "text": [
            "Requirement already satisfied: huggingface_hub in /usr/local/lib/python3.10/dist-packages (0.23.0)\n",
            "Requirement already satisfied: filelock in /usr/local/lib/python3.10/dist-packages (from huggingface_hub) (3.14.0)\n",
            "Requirement already satisfied: fsspec>=2023.5.0 in /usr/local/lib/python3.10/dist-packages (from huggingface_hub) (2023.6.0)\n",
            "Requirement already satisfied: packaging>=20.9 in /usr/local/lib/python3.10/dist-packages (from huggingface_hub) (24.0)\n",
            "Requirement already satisfied: pyyaml>=5.1 in /usr/local/lib/python3.10/dist-packages (from huggingface_hub) (6.0.1)\n",
            "Requirement already satisfied: requests in /usr/local/lib/python3.10/dist-packages (from huggingface_hub) (2.31.0)\n",
            "Requirement already satisfied: tqdm>=4.42.1 in /usr/local/lib/python3.10/dist-packages (from huggingface_hub) (4.66.4)\n",
            "Requirement already satisfied: typing-extensions>=3.7.4.3 in /usr/local/lib/python3.10/dist-packages (from huggingface_hub) (4.11.0)\n",
            "Requirement already satisfied: charset-normalizer<4,>=2 in /usr/local/lib/python3.10/dist-packages (from requests->huggingface_hub) (3.3.2)\n",
            "Requirement already satisfied: idna<4,>=2.5 in /usr/local/lib/python3.10/dist-packages (from requests->huggingface_hub) (3.7)\n",
            "Requirement already satisfied: urllib3<3,>=1.21.1 in /usr/local/lib/python3.10/dist-packages (from requests->huggingface_hub) (2.0.7)\n",
            "Requirement already satisfied: certifi>=2017.4.17 in /usr/local/lib/python3.10/dist-packages (from requests->huggingface_hub) (2024.2.2)\n"
          ]
        }
      ]
    },
    {
      "cell_type": "code",
      "source": [
        "from huggingface_hub import login\n",
        "login()"
      ],
      "metadata": {
        "colab": {
          "base_uri": "https://localhost:8080/",
          "height": 145,
          "referenced_widgets": [
            "be18baea9c854346a7478b36fd9febad",
            "448dcb8b91514c2698279a73fefdb1bb",
            "6a44865e0090427993e54535423d9e2d",
            "ee6959d61d7040cb94a9b2c7276c07b8",
            "adc1b696d9934f0389aa80339bce6891",
            "0ff18af690504673b27596f2b9311552",
            "68fa138ec3ed496db2d08cb16c568bcc",
            "67df0a64794047248636d67faca7a234",
            "08183f887c6548ba88ed7dcdf32edba3",
            "cee44e645b0d441d9b553cd250036364",
            "4345c093244c45de8306dbfb513b3908",
            "8044ea96899c4428903bee7307f6b4b6",
            "ca98d78ebd7e43f4ac13133981e29319",
            "d53754abe96248e9b84aeae8e2bae6c1",
            "f2ca759c4a6d4bc2afb435a735d772c2",
            "190c2a19e12b480c8515f1f3c019c789",
            "a6c75d9050184c289f5118607cb26778",
            "f714cab3e8bd43b1a99c0e2e4e6d4b0d",
            "7a59efef0fc24a46b888685cd7827d13",
            "9f71b5ec25ef4e47b86c6a902f43f462",
            "30424d33d4014c7281f44f14ee74a248",
            "1292ff558f214be4abe2001ef710755b",
            "1b928734038f4166a943a2de66a86610",
            "b2d37dc34e7046cbb1ab970b6ba71764",
            "021afdf6238d44ec952e167c2534d912",
            "492e91c358a046a4ab55a4e6b88fadeb",
            "a37e62c82838437a98f0d71dba41490c",
            "d9eeb53620f64f7f8a1b1a8a0030bde0",
            "2bc13bf8cad944fe8a83f12021010c73",
            "12af40c89a874a05a9406ce68ac62117",
            "d7406463a14746c4b261eb86ca817e96",
            "2aed4195e46248e7b2842a6cbb89d6ce"
          ]
        },
        "id": "-qEz-boOd_JM",
        "outputId": "a4f352aa-e282-43c4-9942-ad7f1ac54b2b"
      },
      "execution_count": null,
      "outputs": [
        {
          "output_type": "display_data",
          "data": {
            "text/plain": [
              "<IPython.core.display.HTML object>"
            ],
            "text/html": [
              "\n",
              "  <style>\n",
              "    pre {\n",
              "        white-space: pre-wrap;\n",
              "    }\n",
              "  </style>\n",
              "  "
            ]
          },
          "metadata": {}
        },
        {
          "output_type": "display_data",
          "data": {
            "text/plain": [
              "VBox(children=(HTML(value='<center> <img\\nsrc=https://huggingface.co/front/assets/huggingface_logo-noborder.sv…"
            ],
            "application/vnd.jupyter.widget-view+json": {
              "version_major": 2,
              "version_minor": 0,
              "model_id": "be18baea9c854346a7478b36fd9febad"
            }
          },
          "metadata": {}
        }
      ]
    },
    {
      "cell_type": "code",
      "execution_count": null,
      "metadata": {
        "id": "i5deyYoanryb",
        "colab": {
          "base_uri": "https://localhost:8080/",
          "height": 179,
          "referenced_widgets": [
            "5a3ef9349928488b90989c89fc7bc185",
            "81365eff5ca640b492a90cd7638facd7",
            "6cd23befa5d14f079f91744f0cdd90e9",
            "5cfd1e8b96f3499eaf0fbd08d0e02d37",
            "84ba24780d594ed697e4c2fcd107265b",
            "b7db505a7d3f498f9e6e8672e13dd1c5",
            "bb66a0bd561b4168a2478aab78eb1a1b",
            "a1947c47f70e4809a9bed5e337d2d388",
            "939178a282b542e4b45d84dd496f3ae7",
            "a616502ade7e41cd9b3969f73b07b004",
            "5bc83da056004a0c8cc15a4c42f4b1b6",
            "cbc12c14f7324d54b55586a8d50e1c33",
            "f02fe897617240878cc028536a94189f",
            "78d0a1083da04b048ba30ae83365e089",
            "e5ff7c32ec75421a8aa00c0543047e09",
            "68b4f33c5ea94a15899301f13ccefe0a",
            "4393a61eb64e42dd96ef6d73ef8b583f",
            "8019672e2398433b9eab2db5a90664d4",
            "ee343e997c884721898290e7372cbdb5",
            "a92377c5bb9e41dbbc9cc08d74fce0e1",
            "b32e763d215a413e919cb1a2d687ff1a",
            "bc06517e95774dd6b59232f0ae296e6c",
            "60ac43e75a1f4f6fbd269f4354c72115",
            "095235fae9e646748fedf6a617004969",
            "6b78a9f066c74e4fb6b149d633b025db",
            "9370c78a4ca64284bda231d779d6d792",
            "fc66a08dbfc9496a942cfc2f9457a307",
            "6a8244b7008b4bb9bc6f2ae2857533b0",
            "893e2d2e77824d35ba315ac5c36b4c55",
            "784433eef5714159a30cd4ed1c3bb133",
            "c4a656288aa84540a6d02b8fb880ca16",
            "bbc1dd490c8f4afcb65fcdebf4d8f2f6",
            "55008cb1cd5d43a4bb2f77c4585128f9",
            "b273031d25814e35aef771d49b294024",
            "f485236369e043e3a4b709b65df66e20",
            "e861ea8a076a49e49197cabff6728381",
            "bd8bbafcc4de4611bcb696eeb72051ac",
            "911021302ede4684a6c4f72e8ce0735d",
            "71f21c8b216249d5bfbc55174c99c121",
            "f54e0d4927ac4e4b830bd20c4d7015b8",
            "63ec468654a84d32940b64ec26fca8f3",
            "a6fd50aed18b4d09a5b18e83e54f6b45",
            "ff427542170a4c38afae6c3569a58c0e",
            "e56812914a6b40d09f52788c72310bd2"
          ]
        },
        "outputId": "13072d0d-f993-47d9-b91b-4395aa38c9d9"
      },
      "outputs": [
        {
          "output_type": "display_data",
          "data": {
            "text/plain": [
              "<IPython.core.display.HTML object>"
            ],
            "text/html": [
              "\n",
              "  <style>\n",
              "    pre {\n",
              "        white-space: pre-wrap;\n",
              "    }\n",
              "  </style>\n",
              "  "
            ]
          },
          "metadata": {}
        },
        {
          "output_type": "display_data",
          "data": {
            "text/plain": [
              "tokenizer_config.json:   0%|          | 0.00/1.46k [00:00<?, ?B/s]"
            ],
            "application/vnd.jupyter.widget-view+json": {
              "version_major": 2,
              "version_minor": 0,
              "model_id": "5a3ef9349928488b90989c89fc7bc185"
            }
          },
          "metadata": {}
        },
        {
          "output_type": "display_data",
          "data": {
            "text/plain": [
              "tokenizer.model:   0%|          | 0.00/493k [00:00<?, ?B/s]"
            ],
            "application/vnd.jupyter.widget-view+json": {
              "version_major": 2,
              "version_minor": 0,
              "model_id": "cbc12c14f7324d54b55586a8d50e1c33"
            }
          },
          "metadata": {}
        },
        {
          "output_type": "display_data",
          "data": {
            "text/plain": [
              "tokenizer.json:   0%|          | 0.00/1.80M [00:00<?, ?B/s]"
            ],
            "application/vnd.jupyter.widget-view+json": {
              "version_major": 2,
              "version_minor": 0,
              "model_id": "60ac43e75a1f4f6fbd269f4354c72115"
            }
          },
          "metadata": {}
        },
        {
          "output_type": "display_data",
          "data": {
            "text/plain": [
              "special_tokens_map.json:   0%|          | 0.00/72.0 [00:00<?, ?B/s]"
            ],
            "application/vnd.jupyter.widget-view+json": {
              "version_major": 2,
              "version_minor": 0,
              "model_id": "b273031d25814e35aef771d49b294024"
            }
          },
          "metadata": {}
        },
        {
          "output_type": "stream",
          "name": "stdout",
          "text": [
            "Added pad token\n",
            "Tokenizer pad token ID: 32000\n"
          ]
        }
      ],
      "source": [
        "tokenizer=load_tokenizer()"
      ]
    },
    {
      "cell_type": "code",
      "execution_count": null,
      "metadata": {
        "id": "WYJ_oOv2n3Vj",
        "colab": {
          "base_uri": "https://localhost:8080/",
          "height": 255
        },
        "outputId": "4b5c1b63-4f52-43d5-c028-cf80e1352bc9"
      },
      "outputs": [
        {
          "output_type": "display_data",
          "data": {
            "text/plain": [
              "<IPython.core.display.HTML object>"
            ],
            "text/html": [
              "\n",
              "  <style>\n",
              "    pre {\n",
              "        white-space: pre-wrap;\n",
              "    }\n",
              "  </style>\n",
              "  "
            ]
          },
          "metadata": {}
        },
        {
          "output_type": "stream",
          "name": "stdout",
          "text": [
            "EOS token: </s>\n",
            "EOS token id: 2\n",
            "Pad token:  [<pad>]\n",
            "Pad token ID:  32000\n",
            "LlamaTokenizerFast(name_or_path='mistralai/Mistral-7B-Instruct-v0.2', vocab_size=32000, model_max_length=1000000000000000019884624838656, is_fast=True, padding_side='left', truncation_side='right', special_tokens={'bos_token': '<s>', 'eos_token': '</s>', 'unk_token': '<unk>', 'pad_token': '[<pad>]'}, clean_up_tokenization_spaces=False),  added_tokens_decoder={\n",
            "\t0: AddedToken(\"<unk>\", rstrip=False, lstrip=False, single_word=False, normalized=False, special=True),\n",
            "\t1: AddedToken(\"<s>\", rstrip=False, lstrip=False, single_word=False, normalized=False, special=True),\n",
            "\t2: AddedToken(\"</s>\", rstrip=False, lstrip=False, single_word=False, normalized=False, special=True),\n",
            "\t32000: AddedToken(\"[<pad>]\", rstrip=False, lstrip=False, single_word=False, normalized=True, special=False),\n",
            "}\n"
          ]
        }
      ],
      "source": [
        "print(\"EOS token:\", tokenizer.eos_token)\n",
        "print(\"EOS token id:\", tokenizer.eos_token_id)\n",
        "\n",
        "print(\"Pad token: \", tokenizer.pad_token)\n",
        "print(\"Pad token ID: \", tokenizer.pad_token_id)\n",
        "\n",
        "print(tokenizer)"
      ]
    },
    {
      "cell_type": "code",
      "execution_count": null,
      "metadata": {
        "id": "Wyjbw7dbIEY2",
        "colab": {
          "base_uri": "https://localhost:8080/",
          "height": 17
        },
        "outputId": "60891421-7e23-4771-8c54-7c9a85f81b70"
      },
      "outputs": [
        {
          "output_type": "display_data",
          "data": {
            "text/plain": [
              "<IPython.core.display.HTML object>"
            ],
            "text/html": [
              "\n",
              "  <style>\n",
              "    pre {\n",
              "        white-space: pre-wrap;\n",
              "    }\n",
              "  </style>\n",
              "  "
            ]
          },
          "metadata": {}
        }
      ],
      "source": [
        "from datasets import load_dataset\n",
        "\n",
        "def custom_dataset_load(data_dir: str)->DataPointType:\n",
        "    data = load_dataset(data_dir, split=\"train\")\n",
        "    return data"
      ]
    },
    {
      "cell_type": "code",
      "source": [
        "def format_dataset_blueprint_fn(data_points: DataPointType) -> DataPointType:\n",
        "    template = \"Below is an instruction that describes a composite task. Provide the structured blueprint planning for the following task.\"\n",
        "\n",
        "    INST = \"### Instruction:\"\n",
        "    RESP = \"### Response:\"\n",
        "\n",
        "    # Create the formatted text\n",
        "    formatted_dataset = data_points.map(\n",
        "        lambda x: {\n",
        "            \"prompt\": \"\".join(\n",
        "                [\n",
        "                    f\"{template}\\n\\n\",\n",
        "                    f\"{INST}{x['Instruction'].strip()}\\n\\n\",\n",
        "                    f\"{RESP}{x['Blueprint'].strip()}\",\n",
        "                ]\n",
        "            ),\n",
        "            \"response\": \"\".join(\n",
        "                [\n",
        "                    f\"{RESP}{x['Blueprint'].strip()}\",\n",
        "                ]\n",
        "            ),\n",
        "        }\n",
        "    )\n",
        "    return formatted_dataset"
      ],
      "metadata": {
        "colab": {
          "base_uri": "https://localhost:8080/",
          "height": 17
        },
        "id": "5X02PWSWUQ35",
        "outputId": "15ad539f-2afd-45fc-91f8-abe20e63587e"
      },
      "execution_count": null,
      "outputs": [
        {
          "output_type": "display_data",
          "data": {
            "text/plain": [
              "<IPython.core.display.HTML object>"
            ],
            "text/html": [
              "\n",
              "  <style>\n",
              "    pre {\n",
              "        white-space: pre-wrap;\n",
              "    }\n",
              "  </style>\n",
              "  "
            ]
          },
          "metadata": {}
        }
      ]
    },
    {
      "cell_type": "code",
      "source": [
        "def format_dataset_blueprint_instruct_fn(data_points: DataPointType) -> DataPointType:\n",
        "    template = \"Below is an instruction that describes a composite task. Provide the structured blueprint planning for the following task.\"\n",
        "\n",
        "    B_INST, E_INST = \"[INST]\", \"[/INST]\"\n",
        "    RESP = \"### Response:\"\n",
        "\n",
        "    # Create the formatted text\n",
        "    formatted_dataset = data_points.map(\n",
        "        lambda x: {\n",
        "            \"prompt\": \"\".join(\n",
        "                [\n",
        "                    f\"{B_INST}{template.strip()}{x['Instruction'].strip()}{E_INST}\\n\\n\",\n",
        "                    f\"{RESP}{x['Blueprint']}\",\n",
        "                ]\n",
        "            ),\n",
        "            \"response\": \"\".join(\n",
        "                [\n",
        "                    f\"{RESP}{x['Blueprint']}\",\n",
        "                ]\n",
        "            ),\n",
        "        }\n",
        "    )\n",
        "    return formatted_dataset"
      ],
      "metadata": {
        "colab": {
          "base_uri": "https://localhost:8080/",
          "height": 17
        },
        "id": "CqjlcZBqUW8T",
        "outputId": "a19f71ef-ebc4-40a6-bbe6-38626cc1fb91"
      },
      "execution_count": null,
      "outputs": [
        {
          "output_type": "display_data",
          "data": {
            "text/plain": [
              "<IPython.core.display.HTML object>"
            ],
            "text/html": [
              "\n",
              "  <style>\n",
              "    pre {\n",
              "        white-space: pre-wrap;\n",
              "    }\n",
              "  </style>\n",
              "  "
            ]
          },
          "metadata": {}
        }
      ]
    },
    {
      "cell_type": "code",
      "execution_count": null,
      "metadata": {
        "id": "kK8G6dIKWLBK",
        "colab": {
          "base_uri": "https://localhost:8080/",
          "height": 17
        },
        "outputId": "c6438920-43c2-4913-c930-a106837b672f"
      },
      "outputs": [
        {
          "output_type": "display_data",
          "data": {
            "text/plain": [
              "<IPython.core.display.HTML object>"
            ],
            "text/html": [
              "\n",
              "  <style>\n",
              "    pre {\n",
              "        white-space: pre-wrap;\n",
              "    }\n",
              "  </style>\n",
              "  "
            ]
          },
          "metadata": {}
        }
      ],
      "source": [
        "def shuffle_tokenize_batch(data:DataPointType, tokenizer:LlamaTokenizerFast)->DataPointType:\n",
        "    data = data.shuffle(seed=1234)  # Shuffle dataset here\n",
        "    data = data.map(lambda samples: tokenizer(samples[\"prompt\"]), batched=True)\n",
        "    return data"
      ]
    },
    {
      "cell_type": "code",
      "execution_count": null,
      "metadata": {
        "id": "MAkx8ZFrU4ly",
        "colab": {
          "base_uri": "https://localhost:8080/",
          "height": 17
        },
        "outputId": "ea843bf8-212b-45aa-80b9-58b0ad586cb2"
      },
      "outputs": [
        {
          "output_type": "display_data",
          "data": {
            "text/plain": [
              "<IPython.core.display.HTML object>"
            ],
            "text/html": [
              "\n",
              "  <style>\n",
              "    pre {\n",
              "        white-space: pre-wrap;\n",
              "    }\n",
              "  </style>\n",
              "  "
            ]
          },
          "metadata": {}
        }
      ],
      "source": [
        "def split_train_test_dataset(data:DataPointType, split_size: float = 0.1)->Tuple[DataPointTrain,DataPointTest]:\n",
        "    data = data.train_test_split(test_size=split_size)\n",
        "    train_data = data[\"train\"]\n",
        "    test_data = data[\"test\"]\n",
        "    return train_data, test_data"
      ]
    },
    {
      "cell_type": "code",
      "source": [
        "def format_prediction_blueprint_fn(data_point: DataPointType) -> str:\n",
        "    template=\"Below is an instruction that describes a composite task. Provide the structured blueprint planning for the following task. Your response should be in the form of a dictionary with transitions (one-to-one or one-to-many depending on the task) between different subtasks and appropriate failure handling options. \"\n",
        "\n",
        "    INST = \"### Instruction:\"\n",
        "    RESP = \"### Response:\"\n",
        "\n",
        "    # Create the formatted text\n",
        "    formatted_prediction = \"\".join(\n",
        "        [\n",
        "            f\"{template}\\n\\n\",\n",
        "            f\"{INST}{data_point['Instruction'].strip()}\\n\\n\",\n",
        "            f\"{RESP}\",\n",
        "        ]\n",
        "    )\n",
        "    return formatted_prediction"
      ],
      "metadata": {
        "colab": {
          "base_uri": "https://localhost:8080/",
          "height": 17
        },
        "id": "ZXUVFmjaUvGI",
        "outputId": "1e0324cb-63cf-40cf-e72e-87e1851506de"
      },
      "execution_count": null,
      "outputs": [
        {
          "output_type": "display_data",
          "data": {
            "text/plain": [
              "<IPython.core.display.HTML object>"
            ],
            "text/html": [
              "\n",
              "  <style>\n",
              "    pre {\n",
              "        white-space: pre-wrap;\n",
              "    }\n",
              "  </style>\n",
              "  "
            ]
          },
          "metadata": {}
        }
      ]
    },
    {
      "cell_type": "code",
      "source": [
        "def format_prediction_blueprint_instruct_fn(data_point: DataPointType) -> str:\n",
        "    template=\"Below is an instruction that describes a composite task. Provide the structured blueprint planning for the following task. Your response should be in the form of a dictionary with transitions (one-to-one or one-to-many depending on the task) between different subtasks and appropriate failure handling options. \"\n",
        "\n",
        "    B_INST, E_INST = \"[INST]\", \"[/INST]\"\n",
        "    RESP = \"### Response:\"\n",
        "\n",
        "    # Create the formatted text\n",
        "    formatted_prediction = \"\".join(\n",
        "        [\n",
        "            f\"{B_INST}{template}{data_point['Instruction'].strip()}{E_INST}\\n\\n\",\n",
        "            f\"{RESP}\",\n",
        "        ]\n",
        "    )\n",
        "    return formatted_prediction"
      ],
      "metadata": {
        "colab": {
          "base_uri": "https://localhost:8080/",
          "height": 17
        },
        "id": "qnEHaV08U68r",
        "outputId": "6799e0e7-cdaa-42fd-fee7-cb078366e2d0"
      },
      "execution_count": null,
      "outputs": [
        {
          "output_type": "display_data",
          "data": {
            "text/plain": [
              "<IPython.core.display.HTML object>"
            ],
            "text/html": [
              "\n",
              "  <style>\n",
              "    pre {\n",
              "        white-space: pre-wrap;\n",
              "    }\n",
              "  </style>\n",
              "  "
            ]
          },
          "metadata": {}
        }
      ]
    },
    {
      "cell_type": "code",
      "execution_count": null,
      "metadata": {
        "id": "j1E-X3evCc8S",
        "colab": {
          "base_uri": "https://localhost:8080/",
          "height": 17
        },
        "outputId": "33e166cd-53a0-4348-fe84-e36db94a39ab"
      },
      "outputs": [
        {
          "output_type": "display_data",
          "data": {
            "text/plain": [
              "<IPython.core.display.HTML object>"
            ],
            "text/html": [
              "\n",
              "  <style>\n",
              "    pre {\n",
              "        white-space: pre-wrap;\n",
              "    }\n",
              "  </style>\n",
              "  "
            ]
          },
          "metadata": {}
        }
      ],
      "source": [
        "import torch\n",
        "from transformers import StoppingCriteria\n",
        "\n",
        "class KeywordsStoppingCriteria(StoppingCriteria):\n",
        "    def __init__(self, keywords, tokenizer, input_ids):\n",
        "        self.keywords = keywords\n",
        "        self.keyword_ids = []\n",
        "        self.max_keyword_len = 0\n",
        "        for keyword in keywords:\n",
        "            cur_keyword_ids = tokenizer(keyword).input_ids\n",
        "            if len(cur_keyword_ids) > 1 and cur_keyword_ids[0] == tokenizer.bos_token_id:\n",
        "                cur_keyword_ids = cur_keyword_ids[1:]\n",
        "            if len(cur_keyword_ids) > self.max_keyword_len:\n",
        "                self.max_keyword_len = len(cur_keyword_ids)\n",
        "            self.keyword_ids.append(torch.tensor(cur_keyword_ids))\n",
        "        self.tokenizer = tokenizer\n",
        "        self.start_len = input_ids.shape[1]\n",
        "\n",
        "    def call_for_batch(self, output_ids: torch.LongTensor, scores: torch.FloatTensor, **kwargs) -> bool:\n",
        "        offset = min(output_ids.shape[1] - self.start_len, self.max_keyword_len)\n",
        "        self.keyword_ids = [keyword_id.to(output_ids.device) for keyword_id in self.keyword_ids]\n",
        "        for keyword_id in self.keyword_ids:\n",
        "            if (output_ids[0, -keyword_id.shape[0]:] == keyword_id).all():\n",
        "                return True\n",
        "        outputs = self.tokenizer.batch_decode(output_ids[:, -offset:], skip_special_tokens=True)[0]\n",
        "        for keyword in self.keywords:\n",
        "            if keyword in outputs:\n",
        "                return True\n",
        "        return False\n",
        "\n",
        "    def __call__(self, output_ids: torch.LongTensor, scores: torch.FloatTensor, **kwargs) -> bool:\n",
        "        outputs = []\n",
        "        for i in range(output_ids.shape[0]):\n",
        "            outputs.append(self.call_for_batch(output_ids[i].unsqueeze(0), scores))\n",
        "        return all(outputs)"
      ]
    },
    {
      "cell_type": "code",
      "execution_count": null,
      "metadata": {
        "id": "f8vk5MwoDFFe",
        "colab": {
          "base_uri": "https://localhost:8080/",
          "height": 17
        },
        "outputId": "43e77142-3b37-486a-92b1-55a9c0a9ee0b"
      },
      "outputs": [
        {
          "output_type": "display_data",
          "data": {
            "text/plain": [
              "<IPython.core.display.HTML object>"
            ],
            "text/html": [
              "\n",
              "  <style>\n",
              "    pre {\n",
              "        white-space: pre-wrap;\n",
              "    }\n",
              "  </style>\n",
              "  "
            ]
          },
          "metadata": {}
        }
      ],
      "source": [
        "def get_completion(prompt:str, model:MistralForCausalLM, tokenizer:LlamaTokenizerFast, keywords:List[str], keyword_stopping_criteria:KeywordsStoppingCriteria)->str:\n",
        "    input_ids = tokenizer.encode(prompt, return_tensors=\"pt\").to(model.device)\n",
        "\n",
        "    stopping_criteria = keyword_stopping_criteria(keywords, tokenizer, input_ids)\n",
        "\n",
        "    with torch.inference_mode():\n",
        "      output_ids = model.generate(\n",
        "          inputs=input_ids,\n",
        "          use_cache=True,\n",
        "          max_new_tokens=512,\n",
        "          stopping_criteria=[stopping_criteria],\n",
        "          attention_mask=None,\n",
        "          do_sample=False,\n",
        "          output_attentions=True,\n",
        "          output_scores=True,\n",
        "          return_dict_in_generate=True,\n",
        "      )\n",
        "\n",
        "    output = tokenizer.decode(output_ids['sequences'][0, input_ids.shape[1]:],skip_spectial_tokens=True).strip()\n",
        "\n",
        "    return output"
      ]
    },
    {
      "cell_type": "code",
      "execution_count": null,
      "metadata": {
        "id": "4dAMz8ZlKq3B",
        "colab": {
          "base_uri": "https://localhost:8080/",
          "height": 113,
          "referenced_widgets": [
            "5670815270974747962db9023cbf8c5f",
            "9fc16e059c714d4880772f6c23758e51",
            "13747184e90248a18a26249f21bed3aa",
            "e3e27fa50af34f698b68232c4dbac455",
            "45dfd14a8c274a30ae7508002c04eb22",
            "1190965dbf6741d4b9cf03f74fd42316",
            "0f62298537ff4205a753dce6c2f0f4bc",
            "8201f07e9d2748a0a7323ed1a02ed40c",
            "a4eafe129020437eb0a025ad48e516bd",
            "618510b3b1bd40c9b38189e40ac57bb7",
            "96bd6e2263644d2784dbca37e2168e5b",
            "ae88cf4578ab4ef0b426e7f991e00fb9",
            "5c1b4c99e39c4adb95ef570038749f8d",
            "9b15cc540baa441fbed78c5a76e9bf44",
            "42bb387f2b694b5683de34540f4a999a",
            "f24898105c354b6e81bacd2ebd01d620",
            "4f10ec08632f4cd9a06681bf9cf42ec3",
            "af0b4a0229b8436eb1a6ced1ccc474dc",
            "b03798457add461bbffe8cecf486e842",
            "a51894d018e7488caaeaebefddfa9f06",
            "34f5ca6c09d54178b4a76a4ab0cd4b9e",
            "568aa773494547138188bbe90e87ea6e",
            "9a44502a1c2747ad8226af0375a5c2fb",
            "76d9e888f8d34f239eeb9695be9f2b30",
            "4ca11aa823b14f568041c796c55aaab5",
            "9e728c1b31934b148cf20d1e46d421c7",
            "48c6046ea80b424fa79f3529c19f1531",
            "e9cc351309994fff90f64bf1960048bd",
            "7bf269317f664e40aa78486921ed203b",
            "c354ab2d32c646d698f9ef9746fee5d8",
            "c40edbdd0dce4b7aaab522a264972fbe",
            "b3e883dd72f34aca9611bf1c3e6f397b",
            "5afc71337e904c01905cc00f9af6cff9"
          ]
        },
        "outputId": "173802c3-0fd4-46cd-d258-15336acea004"
      },
      "outputs": [
        {
          "output_type": "display_data",
          "data": {
            "text/plain": [
              "<IPython.core.display.HTML object>"
            ],
            "text/html": [
              "\n",
              "  <style>\n",
              "    pre {\n",
              "        white-space: pre-wrap;\n",
              "    }\n",
              "  </style>\n",
              "  "
            ]
          },
          "metadata": {}
        },
        {
          "output_type": "display_data",
          "data": {
            "text/plain": [
              "Resolving data files:   0%|          | 0/202 [00:00<?, ?it/s]"
            ],
            "application/vnd.jupyter.widget-view+json": {
              "version_major": 2,
              "version_minor": 0,
              "model_id": "5670815270974747962db9023cbf8c5f"
            }
          },
          "metadata": {}
        },
        {
          "output_type": "display_data",
          "data": {
            "text/plain": [
              "Downloading data:   0%|          | 0/202 [00:00<?, ?files/s]"
            ],
            "application/vnd.jupyter.widget-view+json": {
              "version_major": 2,
              "version_minor": 0,
              "model_id": "ae88cf4578ab4ef0b426e7f991e00fb9"
            }
          },
          "metadata": {}
        },
        {
          "output_type": "display_data",
          "data": {
            "text/plain": [
              "Generating train split: 0 examples [00:00, ? examples/s]"
            ],
            "application/vnd.jupyter.widget-view+json": {
              "version_major": 2,
              "version_minor": 0,
              "model_id": "9a44502a1c2747ad8226af0375a5c2fb"
            }
          },
          "metadata": {}
        }
      ],
      "source": [
        "data=custom_dataset_load('/content/drive/MyDrive/data')"
      ]
    },
    {
      "cell_type": "code",
      "execution_count": null,
      "metadata": {
        "id": "ISGZlUOcHIyp",
        "colab": {
          "base_uri": "https://localhost:8080/",
          "height": 49,
          "referenced_widgets": [
            "74e371d8729b4ae094fab7bc93187d54",
            "6b748154479245cfbdf442476b10de3e",
            "c0c8278787644c8793b769240b3130ed",
            "0a3dbbf885654681966e6f01af885e3d",
            "416f9bc6ce2645329b909b20e1e28d6e",
            "1e93d35003c249508d10d8e8525f9530",
            "3f63418975bf491eb351b306f203b79b",
            "5867ac904bc3400487ccd26b7bb89ac6",
            "3889f2e6bd5f4433a239890b35db0e25",
            "6cee0eac4ca24f1ea595e266a0ea4fe9",
            "304b2661837c48a29d740d139f926d73"
          ]
        },
        "outputId": "5075dfd5-351c-4aaf-fa4d-9f45b6f2b0f7"
      },
      "outputs": [
        {
          "output_type": "display_data",
          "data": {
            "text/plain": [
              "<IPython.core.display.HTML object>"
            ],
            "text/html": [
              "\n",
              "  <style>\n",
              "    pre {\n",
              "        white-space: pre-wrap;\n",
              "    }\n",
              "  </style>\n",
              "  "
            ]
          },
          "metadata": {}
        },
        {
          "output_type": "display_data",
          "data": {
            "text/plain": [
              "Map:   0%|          | 0/1007 [00:00<?, ? examples/s]"
            ],
            "application/vnd.jupyter.widget-view+json": {
              "version_major": 2,
              "version_minor": 0,
              "model_id": "74e371d8729b4ae094fab7bc93187d54"
            }
          },
          "metadata": {}
        }
      ],
      "source": [
        "data_blueprint=format_dataset_blueprint_instruct_fn(data)"
      ]
    },
    {
      "cell_type": "code",
      "execution_count": null,
      "metadata": {
        "id": "u6MQz9viYH0e",
        "colab": {
          "base_uri": "https://localhost:8080/",
          "height": 49,
          "referenced_widgets": [
            "d6b19523eab64270bff96fb80555d29d",
            "ae0d4a312c5743f2b8a1d6d009d1b741",
            "f8cd79916bca4d3baa856e1586117175",
            "e2df88e7a50b40989ec592ce8c746027",
            "a08b22a0f8914a07918d9b5598cb24bd",
            "0757648bd2c4464aa4ee46c5b9d2fa2d",
            "321e822dcf444cbea72efc5ecc988808",
            "f4542e0d14a84c26a6ece2febf999d6f",
            "2ee7dadec57e4135a46a03954b366060",
            "45d6bcad5d6f411ab55e2cf72ac06bf6",
            "9885b1852c1d498582835fe59f9416ba"
          ]
        },
        "outputId": "6746ecd0-5c97-4111-dc9d-f645c8330834"
      },
      "outputs": [
        {
          "output_type": "display_data",
          "data": {
            "text/plain": [
              "<IPython.core.display.HTML object>"
            ],
            "text/html": [
              "\n",
              "  <style>\n",
              "    pre {\n",
              "        white-space: pre-wrap;\n",
              "    }\n",
              "  </style>\n",
              "  "
            ]
          },
          "metadata": {}
        },
        {
          "output_type": "display_data",
          "data": {
            "text/plain": [
              "Map:   0%|          | 0/1007 [00:00<?, ? examples/s]"
            ],
            "application/vnd.jupyter.widget-view+json": {
              "version_major": 2,
              "version_minor": 0,
              "model_id": "d6b19523eab64270bff96fb80555d29d"
            }
          },
          "metadata": {}
        }
      ],
      "source": [
        "processed_data_blueprint=shuffle_tokenize_batch(data_blueprint,tokenizer)"
      ]
    },
    {
      "cell_type": "code",
      "execution_count": null,
      "metadata": {
        "id": "hNEpR7x5Y3tn",
        "colab": {
          "base_uri": "https://localhost:8080/",
          "height": 459
        },
        "outputId": "e79a8bf4-7199-4dfe-d29b-0661d13aa285"
      },
      "outputs": [
        {
          "output_type": "display_data",
          "data": {
            "text/plain": [
              "<IPython.core.display.HTML object>"
            ],
            "text/html": [
              "\n",
              "  <style>\n",
              "    pre {\n",
              "        white-space: pre-wrap;\n",
              "    }\n",
              "  </style>\n",
              "  "
            ]
          },
          "metadata": {}
        },
        {
          "output_type": "execute_result",
          "data": {
            "text/plain": [
              "                                            Detailed  \\\n",
              "0  {'Convert the narrative and dialogues of a bri...   \n",
              "1  {\"Curate a collection of digital artworks that...   \n",
              "2  {'Utilize advanced text analysis tools to gaug...   \n",
              "3  {'Collect high-resolution aerial footage of ta...   \n",
              "4  {'Identify fundamental programming concepts an...   \n",
              "\n",
              "                                         Instruction  \\\n",
              "0  Translate a short story into a screenplay, the...   \n",
              "1  Create a virtual art gallery exhibit, featurin...   \n",
              "2  Analyze the sentiment of tweets related to a s...   \n",
              "3  Analyze traffic patterns from drone footage of...   \n",
              "4  Develop a software tutorial series including s...   \n",
              "\n",
              "                                           Blueprint  \\\n",
              "0  {'Translate short story into screenplay': {'ne...   \n",
              "1  {'Select artworks': {'next_modes': ['Write bio...   \n",
              "2  {'Analyze sentiment': {'next_modes': ['Visuali...   \n",
              "3  {'Capture drone footage': {'next_modes': ['Ana...   \n",
              "4  {'Topic selection': {'next_modes': ['Script wr...   \n",
              "\n",
              "                                              prompt  \\\n",
              "0  [INST]Below is an instruction that describes a...   \n",
              "1  [INST]Below is an instruction that describes a...   \n",
              "2  [INST]Below is an instruction that describes a...   \n",
              "3  [INST]Below is an instruction that describes a...   \n",
              "4  [INST]Below is an instruction that describes a...   \n",
              "\n",
              "                                            response  \\\n",
              "0  ### Response:{'Translate short story into scre...   \n",
              "1  ### Response:{'Select artworks': {'next_modes'...   \n",
              "2  ### Response:{'Analyze sentiment': {'next_mode...   \n",
              "3  ### Response:{'Capture drone footage': {'next_...   \n",
              "4  ### Response:{'Topic selection': {'next_modes'...   \n",
              "\n",
              "                                           input_ids  \\\n",
              "0  [1, 733, 16289, 28793, 20548, 336, 349, 396, 1...   \n",
              "1  [1, 733, 16289, 28793, 20548, 336, 349, 396, 1...   \n",
              "2  [1, 733, 16289, 28793, 20548, 336, 349, 396, 1...   \n",
              "3  [1, 733, 16289, 28793, 20548, 336, 349, 396, 1...   \n",
              "4  [1, 733, 16289, 28793, 20548, 336, 349, 396, 1...   \n",
              "\n",
              "                                      attention_mask  \n",
              "0  [1, 1, 1, 1, 1, 1, 1, 1, 1, 1, 1, 1, 1, 1, 1, ...  \n",
              "1  [1, 1, 1, 1, 1, 1, 1, 1, 1, 1, 1, 1, 1, 1, 1, ...  \n",
              "2  [1, 1, 1, 1, 1, 1, 1, 1, 1, 1, 1, 1, 1, 1, 1, ...  \n",
              "3  [1, 1, 1, 1, 1, 1, 1, 1, 1, 1, 1, 1, 1, 1, 1, ...  \n",
              "4  [1, 1, 1, 1, 1, 1, 1, 1, 1, 1, 1, 1, 1, 1, 1, ...  "
            ],
            "text/html": [
              "\n",
              "  <div id=\"df-8a937326-0890-43c9-bee9-bbda7ba693d8\" class=\"colab-df-container\">\n",
              "    <div>\n",
              "<style scoped>\n",
              "    .dataframe tbody tr th:only-of-type {\n",
              "        vertical-align: middle;\n",
              "    }\n",
              "\n",
              "    .dataframe tbody tr th {\n",
              "        vertical-align: top;\n",
              "    }\n",
              "\n",
              "    .dataframe thead th {\n",
              "        text-align: right;\n",
              "    }\n",
              "</style>\n",
              "<table border=\"1\" class=\"dataframe\">\n",
              "  <thead>\n",
              "    <tr style=\"text-align: right;\">\n",
              "      <th></th>\n",
              "      <th>Detailed</th>\n",
              "      <th>Instruction</th>\n",
              "      <th>Blueprint</th>\n",
              "      <th>prompt</th>\n",
              "      <th>response</th>\n",
              "      <th>input_ids</th>\n",
              "      <th>attention_mask</th>\n",
              "    </tr>\n",
              "  </thead>\n",
              "  <tbody>\n",
              "    <tr>\n",
              "      <th>0</th>\n",
              "      <td>{'Convert the narrative and dialogues of a bri...</td>\n",
              "      <td>Translate a short story into a screenplay, the...</td>\n",
              "      <td>{'Translate short story into screenplay': {'ne...</td>\n",
              "      <td>[INST]Below is an instruction that describes a...</td>\n",
              "      <td>### Response:{'Translate short story into scre...</td>\n",
              "      <td>[1, 733, 16289, 28793, 20548, 336, 349, 396, 1...</td>\n",
              "      <td>[1, 1, 1, 1, 1, 1, 1, 1, 1, 1, 1, 1, 1, 1, 1, ...</td>\n",
              "    </tr>\n",
              "    <tr>\n",
              "      <th>1</th>\n",
              "      <td>{\"Curate a collection of digital artworks that...</td>\n",
              "      <td>Create a virtual art gallery exhibit, featurin...</td>\n",
              "      <td>{'Select artworks': {'next_modes': ['Write bio...</td>\n",
              "      <td>[INST]Below is an instruction that describes a...</td>\n",
              "      <td>### Response:{'Select artworks': {'next_modes'...</td>\n",
              "      <td>[1, 733, 16289, 28793, 20548, 336, 349, 396, 1...</td>\n",
              "      <td>[1, 1, 1, 1, 1, 1, 1, 1, 1, 1, 1, 1, 1, 1, 1, ...</td>\n",
              "    </tr>\n",
              "    <tr>\n",
              "      <th>2</th>\n",
              "      <td>{'Utilize advanced text analysis tools to gaug...</td>\n",
              "      <td>Analyze the sentiment of tweets related to a s...</td>\n",
              "      <td>{'Analyze sentiment': {'next_modes': ['Visuali...</td>\n",
              "      <td>[INST]Below is an instruction that describes a...</td>\n",
              "      <td>### Response:{'Analyze sentiment': {'next_mode...</td>\n",
              "      <td>[1, 733, 16289, 28793, 20548, 336, 349, 396, 1...</td>\n",
              "      <td>[1, 1, 1, 1, 1, 1, 1, 1, 1, 1, 1, 1, 1, 1, 1, ...</td>\n",
              "    </tr>\n",
              "    <tr>\n",
              "      <th>3</th>\n",
              "      <td>{'Collect high-resolution aerial footage of ta...</td>\n",
              "      <td>Analyze traffic patterns from drone footage of...</td>\n",
              "      <td>{'Capture drone footage': {'next_modes': ['Ana...</td>\n",
              "      <td>[INST]Below is an instruction that describes a...</td>\n",
              "      <td>### Response:{'Capture drone footage': {'next_...</td>\n",
              "      <td>[1, 733, 16289, 28793, 20548, 336, 349, 396, 1...</td>\n",
              "      <td>[1, 1, 1, 1, 1, 1, 1, 1, 1, 1, 1, 1, 1, 1, 1, ...</td>\n",
              "    </tr>\n",
              "    <tr>\n",
              "      <th>4</th>\n",
              "      <td>{'Identify fundamental programming concepts an...</td>\n",
              "      <td>Develop a software tutorial series including s...</td>\n",
              "      <td>{'Topic selection': {'next_modes': ['Script wr...</td>\n",
              "      <td>[INST]Below is an instruction that describes a...</td>\n",
              "      <td>### Response:{'Topic selection': {'next_modes'...</td>\n",
              "      <td>[1, 733, 16289, 28793, 20548, 336, 349, 396, 1...</td>\n",
              "      <td>[1, 1, 1, 1, 1, 1, 1, 1, 1, 1, 1, 1, 1, 1, 1, ...</td>\n",
              "    </tr>\n",
              "  </tbody>\n",
              "</table>\n",
              "</div>\n",
              "    <div class=\"colab-df-buttons\">\n",
              "\n",
              "  <div class=\"colab-df-container\">\n",
              "    <button class=\"colab-df-convert\" onclick=\"convertToInteractive('df-8a937326-0890-43c9-bee9-bbda7ba693d8')\"\n",
              "            title=\"Convert this dataframe to an interactive table.\"\n",
              "            style=\"display:none;\">\n",
              "\n",
              "  <svg xmlns=\"http://www.w3.org/2000/svg\" height=\"24px\" viewBox=\"0 -960 960 960\">\n",
              "    <path d=\"M120-120v-720h720v720H120Zm60-500h600v-160H180v160Zm220 220h160v-160H400v160Zm0 220h160v-160H400v160ZM180-400h160v-160H180v160Zm440 0h160v-160H620v160ZM180-180h160v-160H180v160Zm440 0h160v-160H620v160Z\"/>\n",
              "  </svg>\n",
              "    </button>\n",
              "\n",
              "  <style>\n",
              "    .colab-df-container {\n",
              "      display:flex;\n",
              "      gap: 12px;\n",
              "    }\n",
              "\n",
              "    .colab-df-convert {\n",
              "      background-color: #E8F0FE;\n",
              "      border: none;\n",
              "      border-radius: 50%;\n",
              "      cursor: pointer;\n",
              "      display: none;\n",
              "      fill: #1967D2;\n",
              "      height: 32px;\n",
              "      padding: 0 0 0 0;\n",
              "      width: 32px;\n",
              "    }\n",
              "\n",
              "    .colab-df-convert:hover {\n",
              "      background-color: #E2EBFA;\n",
              "      box-shadow: 0px 1px 2px rgba(60, 64, 67, 0.3), 0px 1px 3px 1px rgba(60, 64, 67, 0.15);\n",
              "      fill: #174EA6;\n",
              "    }\n",
              "\n",
              "    .colab-df-buttons div {\n",
              "      margin-bottom: 4px;\n",
              "    }\n",
              "\n",
              "    [theme=dark] .colab-df-convert {\n",
              "      background-color: #3B4455;\n",
              "      fill: #D2E3FC;\n",
              "    }\n",
              "\n",
              "    [theme=dark] .colab-df-convert:hover {\n",
              "      background-color: #434B5C;\n",
              "      box-shadow: 0px 1px 3px 1px rgba(0, 0, 0, 0.15);\n",
              "      filter: drop-shadow(0px 1px 2px rgba(0, 0, 0, 0.3));\n",
              "      fill: #FFFFFF;\n",
              "    }\n",
              "  </style>\n",
              "\n",
              "    <script>\n",
              "      const buttonEl =\n",
              "        document.querySelector('#df-8a937326-0890-43c9-bee9-bbda7ba693d8 button.colab-df-convert');\n",
              "      buttonEl.style.display =\n",
              "        google.colab.kernel.accessAllowed ? 'block' : 'none';\n",
              "\n",
              "      async function convertToInteractive(key) {\n",
              "        const element = document.querySelector('#df-8a937326-0890-43c9-bee9-bbda7ba693d8');\n",
              "        const dataTable =\n",
              "          await google.colab.kernel.invokeFunction('convertToInteractive',\n",
              "                                                    [key], {});\n",
              "        if (!dataTable) return;\n",
              "\n",
              "        const docLinkHtml = 'Like what you see? Visit the ' +\n",
              "          '<a target=\"_blank\" href=https://colab.research.google.com/notebooks/data_table.ipynb>data table notebook</a>'\n",
              "          + ' to learn more about interactive tables.';\n",
              "        element.innerHTML = '';\n",
              "        dataTable['output_type'] = 'display_data';\n",
              "        await google.colab.output.renderOutput(dataTable, element);\n",
              "        const docLink = document.createElement('div');\n",
              "        docLink.innerHTML = docLinkHtml;\n",
              "        element.appendChild(docLink);\n",
              "      }\n",
              "    </script>\n",
              "  </div>\n",
              "\n",
              "\n",
              "<div id=\"df-e0427ae9-dbe8-43e2-ba15-4a10445c65ac\">\n",
              "  <button class=\"colab-df-quickchart\" onclick=\"quickchart('df-e0427ae9-dbe8-43e2-ba15-4a10445c65ac')\"\n",
              "            title=\"Suggest charts\"\n",
              "            style=\"display:none;\">\n",
              "\n",
              "<svg xmlns=\"http://www.w3.org/2000/svg\" height=\"24px\"viewBox=\"0 0 24 24\"\n",
              "     width=\"24px\">\n",
              "    <g>\n",
              "        <path d=\"M19 3H5c-1.1 0-2 .9-2 2v14c0 1.1.9 2 2 2h14c1.1 0 2-.9 2-2V5c0-1.1-.9-2-2-2zM9 17H7v-7h2v7zm4 0h-2V7h2v10zm4 0h-2v-4h2v4z\"/>\n",
              "    </g>\n",
              "</svg>\n",
              "  </button>\n",
              "\n",
              "<style>\n",
              "  .colab-df-quickchart {\n",
              "      --bg-color: #E8F0FE;\n",
              "      --fill-color: #1967D2;\n",
              "      --hover-bg-color: #E2EBFA;\n",
              "      --hover-fill-color: #174EA6;\n",
              "      --disabled-fill-color: #AAA;\n",
              "      --disabled-bg-color: #DDD;\n",
              "  }\n",
              "\n",
              "  [theme=dark] .colab-df-quickchart {\n",
              "      --bg-color: #3B4455;\n",
              "      --fill-color: #D2E3FC;\n",
              "      --hover-bg-color: #434B5C;\n",
              "      --hover-fill-color: #FFFFFF;\n",
              "      --disabled-bg-color: #3B4455;\n",
              "      --disabled-fill-color: #666;\n",
              "  }\n",
              "\n",
              "  .colab-df-quickchart {\n",
              "    background-color: var(--bg-color);\n",
              "    border: none;\n",
              "    border-radius: 50%;\n",
              "    cursor: pointer;\n",
              "    display: none;\n",
              "    fill: var(--fill-color);\n",
              "    height: 32px;\n",
              "    padding: 0;\n",
              "    width: 32px;\n",
              "  }\n",
              "\n",
              "  .colab-df-quickchart:hover {\n",
              "    background-color: var(--hover-bg-color);\n",
              "    box-shadow: 0 1px 2px rgba(60, 64, 67, 0.3), 0 1px 3px 1px rgba(60, 64, 67, 0.15);\n",
              "    fill: var(--button-hover-fill-color);\n",
              "  }\n",
              "\n",
              "  .colab-df-quickchart-complete:disabled,\n",
              "  .colab-df-quickchart-complete:disabled:hover {\n",
              "    background-color: var(--disabled-bg-color);\n",
              "    fill: var(--disabled-fill-color);\n",
              "    box-shadow: none;\n",
              "  }\n",
              "\n",
              "  .colab-df-spinner {\n",
              "    border: 2px solid var(--fill-color);\n",
              "    border-color: transparent;\n",
              "    border-bottom-color: var(--fill-color);\n",
              "    animation:\n",
              "      spin 1s steps(1) infinite;\n",
              "  }\n",
              "\n",
              "  @keyframes spin {\n",
              "    0% {\n",
              "      border-color: transparent;\n",
              "      border-bottom-color: var(--fill-color);\n",
              "      border-left-color: var(--fill-color);\n",
              "    }\n",
              "    20% {\n",
              "      border-color: transparent;\n",
              "      border-left-color: var(--fill-color);\n",
              "      border-top-color: var(--fill-color);\n",
              "    }\n",
              "    30% {\n",
              "      border-color: transparent;\n",
              "      border-left-color: var(--fill-color);\n",
              "      border-top-color: var(--fill-color);\n",
              "      border-right-color: var(--fill-color);\n",
              "    }\n",
              "    40% {\n",
              "      border-color: transparent;\n",
              "      border-right-color: var(--fill-color);\n",
              "      border-top-color: var(--fill-color);\n",
              "    }\n",
              "    60% {\n",
              "      border-color: transparent;\n",
              "      border-right-color: var(--fill-color);\n",
              "    }\n",
              "    80% {\n",
              "      border-color: transparent;\n",
              "      border-right-color: var(--fill-color);\n",
              "      border-bottom-color: var(--fill-color);\n",
              "    }\n",
              "    90% {\n",
              "      border-color: transparent;\n",
              "      border-bottom-color: var(--fill-color);\n",
              "    }\n",
              "  }\n",
              "</style>\n",
              "\n",
              "  <script>\n",
              "    async function quickchart(key) {\n",
              "      const quickchartButtonEl =\n",
              "        document.querySelector('#' + key + ' button');\n",
              "      quickchartButtonEl.disabled = true;  // To prevent multiple clicks.\n",
              "      quickchartButtonEl.classList.add('colab-df-spinner');\n",
              "      try {\n",
              "        const charts = await google.colab.kernel.invokeFunction(\n",
              "            'suggestCharts', [key], {});\n",
              "      } catch (error) {\n",
              "        console.error('Error during call to suggestCharts:', error);\n",
              "      }\n",
              "      quickchartButtonEl.classList.remove('colab-df-spinner');\n",
              "      quickchartButtonEl.classList.add('colab-df-quickchart-complete');\n",
              "    }\n",
              "    (() => {\n",
              "      let quickchartButtonEl =\n",
              "        document.querySelector('#df-e0427ae9-dbe8-43e2-ba15-4a10445c65ac button');\n",
              "      quickchartButtonEl.style.display =\n",
              "        google.colab.kernel.accessAllowed ? 'block' : 'none';\n",
              "    })();\n",
              "  </script>\n",
              "</div>\n",
              "    </div>\n",
              "  </div>\n"
            ],
            "application/vnd.google.colaboratory.intrinsic+json": {
              "type": "dataframe",
              "variable_name": "processed_df_blueprint",
              "summary": "{\n  \"name\": \"processed_df_blueprint\",\n  \"rows\": 1007,\n  \"fields\": [\n    {\n      \"column\": \"Detailed\",\n      \"properties\": {\n        \"dtype\": \"string\",\n        \"num_unique_values\": 1007,\n        \"samples\": [\n          \"{'Perform exhaustive research on climate change, gathering current data, trends, and expert opinions to inform the content of the series': {'next_modes': ['Compose detailed scripts that cover varied aspects of climate change, ensuring factual accuracy and audience engagement', 'Capture high-quality video footage that visually supports the scripted content'], 'failure': ['Retry the research incorporating recent findings', 'Exit the project if sufficient and reliable data cannot be obtained', 'Fallback Content with general climate education information', 'Log and Analyze difficulties in data gathering and expert consultation']}, 'Compose detailed scripts that cover varied aspects of climate change, ensuring factual accuracy and audience engagement, including outlines for visual aids': {'next_modes': ['Capture high-quality video footage that visually supports the scripted content'], 'failure': ['Retry with revisions based on peer or expert feedback', 'Request Human Intervention by consulting educational content experts', 'Quality Assurance Check to ensure alignment with educational standards']}, 'Capture high-quality video footage that visually supports the scripted content, including interviews with experts and on-location shots': {'next_modes': ['Use advanced editing software to piece together video clips, add visual effects, and overlay engaging narration'], 'failure': [\\\"Retry capturing footage that better aligns with the script's requirements\\\", 'Switch to Different Mode by incorporating stock footage or animation', 'Partial Content Delivery by focusing on the strongest segments produced so far']}, 'Use advanced editing software to piece together video clips, add visual effects, and overlay engaging narration, ensuring a cohesive and engaging narrative': {'next_modes': ['Publish the series on educational platforms and social media to reach a broad audience, accompanied by interactive learning materials'], 'failure': ['Retry with enhanced editing for clarity and engagement', 'Exit if the series does not meet educational quality standards', 'Quality Assurance Check for technical and narrative coherence', 'Mode Optimization by adjusting video formats for different platforms']}, 'Publish the series on educational platforms and social media to reach a broad audience, accompanied by interactive learning materials': {'next_modes': [], 'failure': None}}\",\n          \"{'Design and program a VR simulation that accurately depicts the chosen historical event, integrating interactive elements to engage users': {'next_modes': ['Record and synchronize a descriptive audio guide providing context and insights about the historical event within the VR simulation'], 'failure': ['Retry the development with adjusted historical accuracy or user engagement features', 'Exit the development if technical limitations are insurmountable', 'Fallback Content using a simplified version of the VR simulation']}, 'Record and synchronize a descriptive audio guide providing context and insights about the historical event within the VR simulation': {'next_modes': ['Perform a comprehensive quality assurance test on the VR simulation with the integrated audio guide'], 'failure': ['Retry the recording with improved script or audio quality', 'Alternative Data Sources for more accurate historical information', 'Partial Content Delivery with a note explaining missing elements']}}\",\n          \"{'Precisely translate the narrative, idiomatic expressions, and dialogues of the English short story to French, ensuring cultural nuances are respected': {'next_modes': [\\\"Narrate the translated French text, incorporating appropriate intonation and pacing to capture the story's mood\\\"], 'failure': ['Attempt translation again, perhaps consulting another language expert', 'Terminate the project if translation fidelity cannot be achieved', 'Notify a bilingual expert to review and intervene if necessary', 'Utilize a pre-existing French translation of a similar story as a placeholder']}, \\\"Narrate the translated French text, incorporating appropriate intonation and pacing to capture the story's mood\\\": {'next_modes': ['Perform final quality checks on the audiobook recording, focusing on clarity, volume, and listener engagement'], 'failure': ['Redo narration with adjustments based on feedback', 'Adopt a different storytelling technique or change narrator', 'Document the issue and analyze for recurrent problems', 'Ensure the audiobook passes a set of predefined quality standards']}, 'Perform final quality checks on the audiobook recording, focusing on clarity, volume, and listener engagement': {'next_modes': [], 'failure': None}}\"\n        ],\n        \"semantic_type\": \"\",\n        \"description\": \"\"\n      }\n    },\n    {\n      \"column\": \"Instruction\",\n      \"properties\": {\n        \"dtype\": \"string\",\n        \"num_unique_values\": 998,\n        \"samples\": [\n          \"Create a podcast episode discussing the impact of climate change on global agriculture, supported by expert interviews and soundscapes.\",\n          \"Write a short story, turn it into a screenplay, and then produce a trailer based on the screenplay.\",\n          \"Design a logo based on a client's brief, then create a promotional video showcasing the logo in various applications.\"\n        ],\n        \"semantic_type\": \"\",\n        \"description\": \"\"\n      }\n    },\n    {\n      \"column\": \"Blueprint\",\n      \"properties\": {\n        \"dtype\": \"string\",\n        \"num_unique_values\": 1006,\n        \"samples\": [\n          \"{'Analyze social media trends': {'next_modes': ['Craft tweets', 'Create Instagram stories', 'Produce promotional video'], 'failure': ['Retry', 'Exit', 'Log and Analyze']}, 'Craft tweets': {'next_modes': ['Analyzer'], 'failure': ['Retry', 'Fallback Content', 'Quality Assurance Check']}, 'Create Instagram stories': {'next_modes': ['Analyzer'], 'failure': ['Retry', 'Switch to Different Mode', 'Partial Content Delivery']}, 'Produce promotional video': {'next_modes': ['Analyzer'], 'failure': ['Retry', 'Request Human Intervention', 'Mode Optimization']}, 'Analyzer': {'next_modes': [], 'failure': None}}\",\n          \"{'Develop VR simulation': {'next_modes': ['Create audio guide'], 'failure': ['Retry', 'Exit', 'Fallback Content']}, 'Create audio guide': {'next_modes': ['Analyzer'], 'failure': ['Retry', 'Alternative Data Sources', 'Partial Content Delivery']}}\",\n          \"{'Translate short story to French': {'next_modes': ['Create audiobook in French'], 'failure': ['Retry', 'Exit', 'Request Human Intervention', 'Fallback Content']}, 'Create audiobook in French': {'next_modes': ['Analyzer'], 'failure': ['Retry', 'Switch to Different Mode', 'Log and Analyze', 'Quality Assurance Check']}, 'Analyzer': {'next_modes': [], 'failure': None}}\"\n        ],\n        \"semantic_type\": \"\",\n        \"description\": \"\"\n      }\n    },\n    {\n      \"column\": \"prompt\",\n      \"properties\": {\n        \"dtype\": \"string\",\n        \"num_unique_values\": 1007,\n        \"samples\": [\n          \"[INST]Below is an instruction that describes a composite task. Provide the structured blueprint planning for the following task.Create an educational video series on climate change, including research, scripting, filming, and editing before dissemination.[/INST]\\n\\n### Response:{'Conduct research': {'next_modes': ['Write scripts', 'Film videos'], 'failure': ['Retry', 'Exit', 'Fallback Content', 'Log and Analyze']}, 'Write scripts': {'next_modes': ['Film videos'], 'failure': ['Retry', 'Request Human Intervention', 'Quality Assurance Check']}, 'Film videos': {'next_modes': ['Edit videos'], 'failure': ['Retry', 'Switch to Different Mode', 'Partial Content Delivery']}, 'Edit videos': {'next_modes': ['Disseminate'], 'failure': ['Retry', 'Exit', 'Quality Assurance Check', 'Mode Optimization']}, 'Disseminate': {'next_modes': ['Analyzer'], 'failure': ['Retry', 'Exit', 'Quality Assurance Check', 'Alternative Data Sources']}, 'Analyzer': {'next_modes': [], 'failure': None}}\",\n          \"[INST]Below is an instruction that describes a composite task. Provide the structured blueprint planning for the following task.Develop a virtual reality (VR) simulation of a historical event, including a descriptive audio guide.[/INST]\\n\\n### Response:{'Develop VR simulation': {'next_modes': ['Create audio guide'], 'failure': ['Retry', 'Exit', 'Fallback Content']}, 'Create audio guide': {'next_modes': ['Analyzer'], 'failure': ['Retry', 'Alternative Data Sources', 'Partial Content Delivery']}}\",\n          \"[INST]Below is an instruction that describes a composite task. Provide the structured blueprint planning for the following task.Translate a short story from English to French, then create an audiobook version of the French translation.[/INST]\\n\\n### Response:{'Translate short story to French': {'next_modes': ['Create audiobook in French'], 'failure': ['Retry', 'Exit', 'Request Human Intervention', 'Fallback Content']}, 'Create audiobook in French': {'next_modes': ['Analyzer'], 'failure': ['Retry', 'Switch to Different Mode', 'Log and Analyze', 'Quality Assurance Check']}, 'Analyzer': {'next_modes': [], 'failure': None}}\"\n        ],\n        \"semantic_type\": \"\",\n        \"description\": \"\"\n      }\n    },\n    {\n      \"column\": \"response\",\n      \"properties\": {\n        \"dtype\": \"string\",\n        \"num_unique_values\": 1006,\n        \"samples\": [\n          \"### Response:{'Analyze social media trends': {'next_modes': ['Craft tweets', 'Create Instagram stories', 'Produce promotional video'], 'failure': ['Retry', 'Exit', 'Log and Analyze']}, 'Craft tweets': {'next_modes': ['Analyzer'], 'failure': ['Retry', 'Fallback Content', 'Quality Assurance Check']}, 'Create Instagram stories': {'next_modes': ['Analyzer'], 'failure': ['Retry', 'Switch to Different Mode', 'Partial Content Delivery']}, 'Produce promotional video': {'next_modes': ['Analyzer'], 'failure': ['Retry', 'Request Human Intervention', 'Mode Optimization']}, 'Analyzer': {'next_modes': [], 'failure': None}}\",\n          \"### Response:{'Develop VR simulation': {'next_modes': ['Create audio guide'], 'failure': ['Retry', 'Exit', 'Fallback Content']}, 'Create audio guide': {'next_modes': ['Analyzer'], 'failure': ['Retry', 'Alternative Data Sources', 'Partial Content Delivery']}}\",\n          \"### Response:{'Translate short story to French': {'next_modes': ['Create audiobook in French'], 'failure': ['Retry', 'Exit', 'Request Human Intervention', 'Fallback Content']}, 'Create audiobook in French': {'next_modes': ['Analyzer'], 'failure': ['Retry', 'Switch to Different Mode', 'Log and Analyze', 'Quality Assurance Check']}, 'Analyzer': {'next_modes': [], 'failure': None}}\"\n        ],\n        \"semantic_type\": \"\",\n        \"description\": \"\"\n      }\n    },\n    {\n      \"column\": \"input_ids\",\n      \"properties\": {\n        \"dtype\": \"object\",\n        \"semantic_type\": \"\",\n        \"description\": \"\"\n      }\n    },\n    {\n      \"column\": \"attention_mask\",\n      \"properties\": {\n        \"dtype\": \"object\",\n        \"semantic_type\": \"\",\n        \"description\": \"\"\n      }\n    }\n  ]\n}"
            }
          },
          "metadata": {},
          "execution_count": 28
        }
      ],
      "source": [
        "processed_df_blueprint = processed_data_blueprint.to_pandas()\n",
        "processed_df_blueprint.head(5)"
      ]
    },
    {
      "cell_type": "code",
      "execution_count": null,
      "metadata": {
        "id": "fpDVg7HZZC66",
        "colab": {
          "base_uri": "https://localhost:8080/",
          "height": 17
        },
        "outputId": "046f2471-36cb-4499-c040-70756a6429f3"
      },
      "outputs": [
        {
          "output_type": "display_data",
          "data": {
            "text/plain": [
              "<IPython.core.display.HTML object>"
            ],
            "text/html": [
              "\n",
              "  <style>\n",
              "    pre {\n",
              "        white-space: pre-wrap;\n",
              "    }\n",
              "  </style>\n",
              "  "
            ]
          },
          "metadata": {}
        }
      ],
      "source": [
        "train_data_blueprint,test_data_blueprint=split_train_test_dataset(processed_data_blueprint)"
      ]
    },
    {
      "cell_type": "code",
      "execution_count": null,
      "metadata": {
        "id": "Dj-mTURqZeiw",
        "colab": {
          "base_uri": "https://localhost:8080/",
          "height": 34
        },
        "outputId": "b14f5668-624e-4a32-c14f-e96f0919449a"
      },
      "outputs": [
        {
          "output_type": "display_data",
          "data": {
            "text/plain": [
              "<IPython.core.display.HTML object>"
            ],
            "text/html": [
              "\n",
              "  <style>\n",
              "    pre {\n",
              "        white-space: pre-wrap;\n",
              "    }\n",
              "  </style>\n",
              "  "
            ]
          },
          "metadata": {}
        },
        {
          "output_type": "stream",
          "name": "stdout",
          "text": [
            "906 101\n"
          ]
        }
      ],
      "source": [
        "print(len(train_data_blueprint),len(test_data_blueprint))"
      ]
    },
    {
      "cell_type": "code",
      "execution_count": null,
      "metadata": {
        "id": "H-8_4ROZCi8S",
        "colab": {
          "base_uri": "https://localhost:8080/",
          "height": 449
        },
        "outputId": "44b53685-685d-48f0-f1a6-d1e906d0e3ef"
      },
      "outputs": [
        {
          "output_type": "display_data",
          "data": {
            "text/plain": [
              "<IPython.core.display.HTML object>"
            ],
            "text/html": [
              "\n",
              "  <style>\n",
              "    pre {\n",
              "        white-space: pre-wrap;\n",
              "    }\n",
              "  </style>\n",
              "  "
            ]
          },
          "metadata": {}
        },
        {
          "output_type": "display_data",
          "data": {
            "text/plain": [
              "<Figure size 640x480 with 1 Axes>"
            ],
            "image/png": "[encoded data removed]"
          },
          "metadata": {}
        }
      ],
      "source": [
        "from matplotlib import pyplot as plt\n",
        "\n",
        "token_counts = []\n",
        "for example in train_data_blueprint:\n",
        "    token_counts.append(\n",
        "        len(tokenizer(example['prompt'], add_special_tokens=True, return_attention_mask=False)[\"input_ids\"])\n",
        "    )\n",
        "plt.hist(token_counts)\n",
        "plt.xlabel(\"Tokens\")\n",
        "plt.ylabel(\"Count\")\n",
        "plt.show();"
      ]
    },
    {
      "cell_type": "code",
      "execution_count": null,
      "metadata": {
        "id": "ErLSwxPZ9SnS",
        "colab": {
          "base_uri": "https://localhost:8080/",
          "height": 17
        },
        "outputId": "98e3044c-b2bc-437a-82e6-e8f32fdfef20"
      },
      "outputs": [
        {
          "output_type": "display_data",
          "data": {
            "text/plain": [
              "<IPython.core.display.HTML object>"
            ],
            "text/html": [
              "\n",
              "  <style>\n",
              "    pre {\n",
              "        white-space: pre-wrap;\n",
              "    }\n",
              "  </style>\n",
              "  "
            ]
          },
          "metadata": {}
        }
      ],
      "source": [
        "import torch\n",
        "from transformers import AutoModelForCausalLM,BitsAndBytesConfig\n",
        "\n",
        "def load_model_quantized(model_id: str = BASE_MODEL_NAME,device_map:Dict[str,int]={\"\": 0})->MistralForCausalLM:\n",
        "\n",
        "    bnb_config = BitsAndBytesConfig(\n",
        "        load_in_4bit=True,\n",
        "        bnb_4bit_use_double_quant=True,\n",
        "        bnb_4bit_quant_type=\"nf4\",\n",
        "        bnb_4bit_compute_dtype=torch.bfloat16,\n",
        "    )\n",
        "\n",
        "    model = AutoModelForCausalLM.from_pretrained(\n",
        "        model_id, quantization_config=bnb_config, device_map=device_map\n",
        "    )\n",
        "    return model"
      ]
    },
    {
      "cell_type": "code",
      "source": [
        "import torch\n",
        "from transformers import AutoModelForCausalLM\n",
        "\n",
        "def load_model(model_id: str = BASE_MODEL_NAME,device_map:Dict[str,int]={\"\": 0})->MistralForCausalLM:\n",
        "\n",
        "    model = AutoModelForCausalLM.from_pretrained(model_id, device_map=device_map)\n",
        "    return model"
      ],
      "metadata": {
        "id": "GB9Q9jMcJ337"
      },
      "execution_count": null,
      "outputs": []
    },
    {
      "cell_type": "code",
      "execution_count": null,
      "metadata": {
        "id": "LrybFetG5cZA",
        "colab": {
          "base_uri": "https://localhost:8080/",
          "height": 273,
          "referenced_widgets": [
            "1ec7f428d15c4308bce928dc3399f926",
            "d1620b45595748369d9915f9764b2730",
            "cac4a3be7a994ae09cf598b188bd1483",
            "d32c5503c3b141eb863f2edcd422f938",
            "6cf4d911ea7c4cdb998c7244665e6fe9",
            "afe2bad1506a4273ac68436e2bd47748",
            "d029506712af45658dd2c7c3ea5edda6",
            "037c31e8e7bf4445bdb06f524e498f1d",
            "e76386bb31df420aa01ca5019414459e",
            "31cd9be1d3934778aa497e34b80c98ec",
            "d4d6a65ab0ed4557b6757f45224a6343",
            "8d9979e0caa647858bfd63f3bb17b490",
            "5408eec798c9450d8beeb49432757cc6",
            "a19b6e99ff364f3db5f2c5c1349bac6d",
            "70072f7a01ee476599d1221136dd7b24",
            "c815b1cb05ae45408008551212389f64",
            "b5ab48db9eb14a918359e231a44ae281",
            "0981c45e84bc4dc9a9a617300e8b794a",
            "dc8d068a23e64cd086ec19c239a26437",
            "ba3a784cb954431fa5bef4490c6baded",
            "8e580fccb50b4f4596e79b31f89a0086",
            "a362b28b533b4bc6961d70628d9d7559",
            "f99ebdda53f94399aee5ea6867c3a48e",
            "5ab357790a1f417bb41e7521334afe61",
            "0f532b3e00de43779e665a312a2de80d",
            "f418cb5fd33d486ca89b8dbba811acfb",
            "7d4949c357964f0cbdbed406437091bf",
            "b32dc3e2bb4c4f9b8b4c5ece68efaeb8",
            "489de5d91007450695db767f85038a23",
            "df2364f4d28340a095c5bd094feed72c",
            "84d1cbfdc4ef47859d02adfe11b6806e",
            "80fa88e84f894a899eab9b2c9548a9ed",
            "6836ab9e05f54317898cbe82d45b8679",
            "01b6a4ecf4b64370840a4077b5369353",
            "9b85b7bb1be64d5ab54ae868bf351604",
            "87c598ace5eb425fae4409da54b3afcf",
            "ef77ba17ee3a416ba1acf9237489c534",
            "02ec5cd7f30d4b8782d78bba17c5ff31",
            "e05bc0d0cbae43eab25a3c58abcc0f51",
            "597daaffe8274213ba5e4d5e94da6b45",
            "31fc13191b2d45aabd65f6bcc423982f",
            "19a22a605c624a1b869af9191f63a57e",
            "06c1265572f94e94801af2683b899266",
            "dd1a879bc2774b6582fd6f960d675888",
            "1eccc0896d04451689c54107d23f2bd1",
            "9b635ab6c0a44c0492f57c073bbbd13a",
            "28cc0d64114349a5901c27b31bbf2fa6",
            "cd7dfda1823d4ee7a01fde8de3cc0947",
            "f8d17e193b38450a9161bd1f0e3245b6",
            "3f4664a0294847e68b5d0c1e7c373a36",
            "59c85358d5ec4c9fb139d9e019d758a2",
            "fe3e9d732426467488bcc0af272d050b",
            "cbc87b33a3a346eba74104845a5984e6",
            "0fcd3b6512014723a3b6128b5723133d",
            "eafa88f85bd84ced9783b9fabc4e9ffb",
            "20a0dfb7a0cc41e0b6352ddcc3413e1f",
            "08ff78646a76461b936bc8f37e6c5bcc",
            "1eec808a1226432da748bccadadb5a76",
            "3d319314a187456290f9dbb2caca3f85",
            "4acdbae3e2214a968af3671b9cb78dcd",
            "141bcd7de143434c9100f5201a7468e6",
            "24f71f2690ec4f74bd8386704ea3fa94",
            "1750c7a76e3e432496e7c55d5d9dcec6",
            "68ac59d29af3424ca66dab10e8f117ea",
            "e37324eb6fdc4531813cf336e5a47f6a",
            "22fbe862c1104d519e12adbf97069994",
            "d127d1675b6249cbbd123a3d0cba5580",
            "59d1499857674f87b446486050f4f7e1",
            "df77b6af30ca444bad23a12ac1629e1f",
            "bf5f79315c1c4a53821186c8aca675b8",
            "daa2019803914985a9bd3d03c5aac85c",
            "29d7dce567fc4b1a9a6a65fd187b945e",
            "165d5517c2004256810e31e04b947c3d",
            "1c9e3cf1b7d943788bc296f739cfa2d8",
            "35b147db9b564c78b35892639cd94b0a",
            "552ea1c3091d4d399c00e6e3210936d2",
            "527dbd05844f4497a5634e88c56c9cdf",
            "da2ebc31df514812a8009563df1051ec",
            "540b1811e7ec4deaa58a52e0d6209dae",
            "8aeffd9b851c402d8f9b8147e77791be",
            "5589379e73bc43bab203b4b967ecb053",
            "8868d8f546764d138d1fcb6468692d67",
            "6021331c1da940ebbf38217ce6157236",
            "57fd6b3db75a4a2194279377181c4173",
            "65f34224a1aa4bd39a4887537d762889",
            "553e5d6f27da4c9f9a32890b4e34a109",
            "722f955ddc4549b699b2827a94c21dbf",
            "a9310ed63a6645c9a30034ad405b54fa"
          ]
        },
        "outputId": "f16f5ba9-efd3-4e9c-d8b8-93c3f5fcfa1c"
      },
      "outputs": [
        {
          "output_type": "display_data",
          "data": {
            "text/plain": [
              "<IPython.core.display.HTML object>"
            ],
            "text/html": [
              "\n",
              "  <style>\n",
              "    pre {\n",
              "        white-space: pre-wrap;\n",
              "    }\n",
              "  </style>\n",
              "  "
            ]
          },
          "metadata": {}
        },
        {
          "output_type": "display_data",
          "data": {
            "text/plain": [
              "config.json:   0%|          | 0.00/596 [00:00<?, ?B/s]"
            ],
            "application/vnd.jupyter.widget-view+json": {
              "version_major": 2,
              "version_minor": 0,
              "model_id": "1ec7f428d15c4308bce928dc3399f926"
            }
          },
          "metadata": {}
        },
        {
          "output_type": "display_data",
          "data": {
            "text/plain": [
              "model.safetensors.index.json:   0%|          | 0.00/25.1k [00:00<?, ?B/s]"
            ],
            "application/vnd.jupyter.widget-view+json": {
              "version_major": 2,
              "version_minor": 0,
              "model_id": "8d9979e0caa647858bfd63f3bb17b490"
            }
          },
          "metadata": {}
        },
        {
          "output_type": "display_data",
          "data": {
            "text/plain": [
              "Downloading shards:   0%|          | 0/3 [00:00<?, ?it/s]"
            ],
            "application/vnd.jupyter.widget-view+json": {
              "version_major": 2,
              "version_minor": 0,
              "model_id": "f99ebdda53f94399aee5ea6867c3a48e"
            }
          },
          "metadata": {}
        },
        {
          "output_type": "display_data",
          "data": {
            "text/plain": [
              "model-00001-of-00003.safetensors:   0%|          | 0.00/4.94G [00:00<?, ?B/s]"
            ],
            "application/vnd.jupyter.widget-view+json": {
              "version_major": 2,
              "version_minor": 0,
              "model_id": "01b6a4ecf4b64370840a4077b5369353"
            }
          },
          "metadata": {}
        },
        {
          "output_type": "display_data",
          "data": {
            "text/plain": [
              "model-00002-of-00003.safetensors:   0%|          | 0.00/5.00G [00:00<?, ?B/s]"
            ],
            "application/vnd.jupyter.widget-view+json": {
              "version_major": 2,
              "version_minor": 0,
              "model_id": "1eccc0896d04451689c54107d23f2bd1"
            }
          },
          "metadata": {}
        },
        {
          "output_type": "display_data",
          "data": {
            "text/plain": [
              "model-00003-of-00003.safetensors:   0%|          | 0.00/4.54G [00:00<?, ?B/s]"
            ],
            "application/vnd.jupyter.widget-view+json": {
              "version_major": 2,
              "version_minor": 0,
              "model_id": "20a0dfb7a0cc41e0b6352ddcc3413e1f"
            }
          },
          "metadata": {}
        },
        {
          "output_type": "display_data",
          "data": {
            "text/plain": [
              "Loading checkpoint shards:   0%|          | 0/3 [00:00<?, ?it/s]"
            ],
            "application/vnd.jupyter.widget-view+json": {
              "version_major": 2,
              "version_minor": 0,
              "model_id": "d127d1675b6249cbbd123a3d0cba5580"
            }
          },
          "metadata": {}
        },
        {
          "output_type": "display_data",
          "data": {
            "text/plain": [
              "generation_config.json:   0%|          | 0.00/111 [00:00<?, ?B/s]"
            ],
            "application/vnd.jupyter.widget-view+json": {
              "version_major": 2,
              "version_minor": 0,
              "model_id": "da2ebc31df514812a8009563df1051ec"
            }
          },
          "metadata": {}
        }
      ],
      "source": [
        "model=load_model_quantized()"
      ]
    },
    {
      "cell_type": "code",
      "execution_count": null,
      "metadata": {
        "id": "cIBtryLB_0YG",
        "colab": {
          "base_uri": "https://localhost:8080/",
          "height": 17
        },
        "outputId": "9ae3e38e-5cf5-4b58-d6ae-bd6e185169c0"
      },
      "outputs": [
        {
          "output_type": "display_data",
          "data": {
            "text/plain": [
              "<IPython.core.display.HTML object>"
            ],
            "text/html": [
              "\n",
              "  <style>\n",
              "    pre {\n",
              "        white-space: pre-wrap;\n",
              "    }\n",
              "  </style>\n",
              "  "
            ]
          },
          "metadata": {}
        }
      ],
      "source": [
        "# Resize token embeddings\n",
        "model.resize_token_embeddings(len(tokenizer))\n",
        "\n",
        "# Update pad token id in model and its config\n",
        "model.pad_token_id = tokenizer.pad_token_id\n",
        "model.config.pad_token_id = tokenizer.pad_token_id\n",
        "\n",
        "# Check if they are equal\n",
        "assert model.pad_token_id == tokenizer.pad_token_id, \"The model's pad token ID does not match the tokenizer's pad token ID\""
      ]
    },
    {
      "cell_type": "code",
      "execution_count": null,
      "metadata": {
        "id": "KPX7SJvGNfbL",
        "colab": {
          "base_uri": "https://localhost:8080/",
          "height": 17
        },
        "outputId": "01302e28-5f95-424d-c545-84fd79e134a0"
      },
      "outputs": [
        {
          "output_type": "display_data",
          "data": {
            "text/plain": [
              "<IPython.core.display.HTML object>"
            ],
            "text/html": [
              "\n",
              "  <style>\n",
              "    pre {\n",
              "        white-space: pre-wrap;\n",
              "    }\n",
              "  </style>\n",
              "  "
            ]
          },
          "metadata": {}
        }
      ],
      "source": [
        "stop_keywords = [\"</s>\",\" </s>\", \"</s> \"]"
      ]
    },
    {
      "cell_type": "code",
      "source": [
        "pred_prompt=format_prediction_blueprint_instruct_fn(test_data_blueprint[0])\n",
        "print(pred_prompt)"
      ],
      "metadata": {
        "colab": {
          "base_uri": "https://localhost:8080/",
          "height": 119
        },
        "id": "ANLVJxuAZ7Vf",
        "outputId": "95005175-c7eb-41bc-a86d-dcd3c8113bcd"
      },
      "execution_count": null,
      "outputs": [
        {
          "output_type": "display_data",
          "data": {
            "text/plain": [
              "<IPython.core.display.HTML object>"
            ],
            "text/html": [
              "\n",
              "  <style>\n",
              "    pre {\n",
              "        white-space: pre-wrap;\n",
              "    }\n",
              "  </style>\n",
              "  "
            ]
          },
          "metadata": {}
        },
        {
          "output_type": "stream",
          "name": "stdout",
          "text": [
            "[INST]Below is an instruction that describes a composite task. Provide the structured blueprint planning for the following task. Your response should be in the form of a dictionary with transitions (one-to-one or one-to-many depending on the task) between different subtasks and appropriate failure handling options. Create a marketing video for a new product launch, including a script, a storyboard, filming, and editing.[/INST]\n",
            "\n",
            "### Response:\n"
          ]
        }
      ]
    },
    {
      "cell_type": "code",
      "source": [
        "output_base=get_completion(pred_prompt, model, tokenizer, stop_keywords, KeywordsStoppingCriteria)\n",
        "print(output_base)"
      ],
      "metadata": {
        "colab": {
          "base_uri": "https://localhost:8080/",
          "height": 1000
        },
        "id": "o6U_ekHAZ9EM",
        "outputId": "477dddc5-be9e-4069-d5ca-3b6f583d61ea"
      },
      "execution_count": null,
      "outputs": [
        {
          "output_type": "display_data",
          "data": {
            "text/plain": [
              "<IPython.core.display.HTML object>"
            ],
            "text/html": [
              "\n",
              "  <style>\n",
              "    pre {\n",
              "        white-space: pre-wrap;\n",
              "    }\n",
              "  </style>\n",
              "  "
            ]
          },
          "metadata": {}
        },
        {
          "output_type": "stream",
          "name": "stderr",
          "text": [
            "The attention mask and the pad token id were not set. As a consequence, you may observe unexpected behavior. Please pass your input's `attention_mask` to obtain reliable results.\n",
            "Setting `pad_token_id` to `eos_token_id`:2 for open-end generation.\n",
            "MistralModel is using MistralSdpaAttention, but `torch.nn.functional.scaled_dot_product_attention` does not support `output_attentions=True`. Falling back to the manual attention implementation, but specifying the manual implementation will be required from Transformers version v5.0.0 onwards. This warning can be removed using the argument `attn_implementation=\"eager\"` when loading the model.\n"
          ]
        },
        {
          "output_type": "stream",
          "name": "stdout",
          "text": [
            "```python\n",
            "# Marketing Video Production Blueprint\n",
            "\n",
            "# Task: Create a marketing video for a new product launch\n",
            "\n",
            "# Subtasks:\n",
            "# 1. Script Writing\n",
            "# 2. Storyboard Creation\n",
            "# 3. Filming\n",
            "# 4. Editing\n",
            "\n",
            "# Transitions:\n",
            "# Script Writing -> Storyboard Creation\n",
            "# Storyboard Creation -> Filming\n",
            "# Filming -> Editing\n",
            "\n",
            "# Dict:\n",
            "task = {\n",
            "    \"Task\": \"Create a marketing video for a new product launch\",\n",
            "    \"Subtasks\": {\n",
            "        \"Script Writing\": {\n",
            "            \"Description\": \"Write a compelling script for the marketing video\",\n",
            "            \"Output\": \"Final script\",\n",
            "            \"Transitions\": [\"[<pad>]([<pad>] Storyboard Creation)\"],\n",
            "            \"Failure Handling\": [\"[<pad>] Script Rewrite\"]\n",
            "        },\n",
            "        \"Storyboard Creation\": {\n",
            "            \"Description\": \"Create a visual representation of the video's content\",\n",
            "            \"Output\": \"[<pad>] Storyboard\",\n",
            "            \"Transitions\": [\"precede Script Writing\"],\n",
            "            \"Failure Handling\": [\"[<pad>] Revise Storyboard\"]\n",
            "        },\n",
            "        \"Filming\": {\n",
            "            \"Description\": \"Capture footage for the marketing video\",\n",
            "            \"Output\": \"Raw footage\",\n",
            "            \"Transitions\": [\"precede Editing\"],\n",
            "            \"Failure Handling\": [\"[<pad>] Reshoot Scenes\"]\n",
            "        },\n",
            "        \"Editing\": {\n",
            "            \"Description\": \"Edit and refine the marketing video\",\n",
            "            \"Output\": \"Finished marketing video\",\n",
            "            \"Transitions\": [\"precede None\"],\n",
            "            \"Failure Handling\": [\"[<pad>] Re-edit Video\"]\n",
            "        }\n",
            "    },\n",
            "    \"Transitions\": [\n",
            "        {\"From\": \"Script Writing\", \"To\": \"Storyboard Creation\"},\n",
            "        {\"From\": \"Storyboard Creation\", \"To\": \"Filming\"},\n",
            "        {\"From\": \"Filming\", \"To\": \"Editing\"}\n",
            "    ],\n",
            "    \"Failure Handling\": [\n",
            "        {\"Subtask\": \"Script Rewrite\", \"[<pad>]\": \"[<pad>] Script Writing\"},\n",
            "        {\"Subtask\": \"Revise Storyboard\", \"ancestor\": \"Storyboard Creation\"},\n",
            "        {\"Subtask\": \"Reshoot Scenes\", \"anc\n"
          ]
        }
      ]
    },
    {
      "cell_type": "code",
      "execution_count": null,
      "metadata": {
        "id": "evzPaUbTZkwD",
        "colab": {
          "base_uri": "https://localhost:8080/",
          "height": 17
        },
        "outputId": "23f2e2a9-1924-446c-ed99-8ac8a02b8f53"
      },
      "outputs": [
        {
          "output_type": "display_data",
          "data": {
            "text/plain": [
              "<IPython.core.display.HTML object>"
            ],
            "text/html": [
              "\n",
              "  <style>\n",
              "    pre {\n",
              "        white-space: pre-wrap;\n",
              "    }\n",
              "  </style>\n",
              "  "
            ]
          },
          "metadata": {}
        }
      ],
      "source": [
        "from peft import prepare_model_for_kbit_training,get_peft_model\n",
        "\n",
        "def prepare_model_for_qlora_training(model:MistralForCausalLM,lora_config)->MistralForCausalLM:\n",
        "  # Enable gradient checkpointing for the model\n",
        "  model.gradient_checkpointing_enable()\n",
        "\n",
        "  # Prepare the model for k-bit training using the \"prepare_model_for_kbit_training\" function\n",
        "  model = prepare_model_for_kbit_training(model)\n",
        "\n",
        "  # Get a model with LoRA applied to it using the defined configuration\n",
        "  model = get_peft_model(model, lora_config)\n",
        "\n",
        "  return model"
      ]
    },
    {
      "cell_type": "code",
      "execution_count": null,
      "metadata": {
        "id": "GxTGbsO0kEij",
        "colab": {
          "base_uri": "https://localhost:8080/",
          "height": 17
        },
        "outputId": "d955e245-4cbd-4704-80d1-04f1edf42aba"
      },
      "outputs": [
        {
          "output_type": "display_data",
          "data": {
            "text/plain": [
              "<IPython.core.display.HTML object>"
            ],
            "text/html": [
              "\n",
              "  <style>\n",
              "    pre {\n",
              "        white-space: pre-wrap;\n",
              "    }\n",
              "  </style>\n",
              "  "
            ]
          },
          "metadata": {}
        }
      ],
      "source": [
        "def print_trainable_parameters(model:MistralForCausalLM)->NoReturn:\n",
        "    \"\"\"\n",
        "    Prints the number of trainable parameters in the model.\n",
        "    \"\"\"\n",
        "    trainable_params = 0\n",
        "    all_param = 0\n",
        "    # Iterate through model parameters\n",
        "    for _, param in model.named_parameters():\n",
        "        all_param += param.numel()\n",
        "        if param.requires_grad:\n",
        "            trainable_params += param.numel()\n",
        "    # Print the number of trainable parameters, total parameters, and the percentage of trainable parameters\n",
        "    print(\n",
        "        f\"trainable params: {trainable_params} || all params: {all_param} || trainable%: {100 * trainable_params / all_param}\"\n",
        "    )"
      ]
    },
    {
      "cell_type": "code",
      "execution_count": null,
      "metadata": {
        "id": "wbM28NnIbsR2",
        "colab": {
          "base_uri": "https://localhost:8080/",
          "height": 17
        },
        "outputId": "1661fa77-947d-4317-d41e-fef06aec2222"
      },
      "outputs": [
        {
          "output_type": "display_data",
          "data": {
            "text/plain": [
              "<IPython.core.display.HTML object>"
            ],
            "text/html": [
              "\n",
              "  <style>\n",
              "    pre {\n",
              "        white-space: pre-wrap;\n",
              "    }\n",
              "  </style>\n",
              "  "
            ]
          },
          "metadata": {}
        }
      ],
      "source": [
        "from trl import DataCollatorForCompletionOnlyLM\n",
        "\n",
        "def custom_collator(tokenizer:LlamaTokenizerFast,response_template_with_context:str = \"\\n### Response:\"):\n",
        "  response_template_ids = tokenizer.encode(response_template_with_context, add_special_tokens=False)[2:]\n",
        "  collator = DataCollatorForCompletionOnlyLM(response_template_ids, tokenizer=tokenizer)\n",
        "  return collator"
      ]
    },
    {
      "cell_type": "code",
      "execution_count": null,
      "metadata": {
        "id": "-iJRQRRwe433",
        "colab": {
          "base_uri": "https://localhost:8080/",
          "height": 17
        },
        "outputId": "fb7d94b5-ee1b-4d53-8315-d1e83b8eea84"
      },
      "outputs": [
        {
          "output_type": "display_data",
          "data": {
            "text/plain": [
              "<IPython.core.display.HTML object>"
            ],
            "text/html": [
              "\n",
              "  <style>\n",
              "    pre {\n",
              "        white-space: pre-wrap;\n",
              "    }\n",
              "  </style>\n",
              "  "
            ]
          },
          "metadata": {}
        }
      ],
      "source": [
        "from transformers import Trainer\n",
        "\n",
        "def qlora_training_with_custom_collator(training_args,model:MistralForCausalLM,tokenizer:LlamaTokenizerFast,train_data,test_data,collator):\n",
        "  # Create a trainer for fine-tuning a model\n",
        "  trainer = Trainer(\n",
        "      model=model,               # The model to be trained\n",
        "      train_dataset=train_data,  # Training dataset\n",
        "      eval_dataset=test_data,    # Evaluation dataset\n",
        "      args=training_args,\n",
        "      data_collator=collator,    # Custom data collator for completion\n",
        "  )\n",
        "\n",
        "  model.config.use_cache = False  # silence the warnings. Please re-enable for inference!\n",
        "\n",
        "  trainer.train()\n",
        "\n",
        "  return trainer, tokenizer, model"
      ]
    },
    {
      "cell_type": "code",
      "execution_count": null,
      "metadata": {
        "id": "qROqi401kVu2",
        "colab": {
          "base_uri": "https://localhost:8080/",
          "height": 17
        },
        "outputId": "c02603ed-42cd-4882-cf2e-d8ce880aabc9"
      },
      "outputs": [
        {
          "output_type": "display_data",
          "data": {
            "text/plain": [
              "<IPython.core.display.HTML object>"
            ],
            "text/html": [
              "\n",
              "  <style>\n",
              "    pre {\n",
              "        white-space: pre-wrap;\n",
              "    }\n",
              "  </style>\n",
              "  "
            ]
          },
          "metadata": {}
        }
      ],
      "source": [
        "from peft import LoraConfig\n",
        "\n",
        "# Define a configuration for the LoRA (Learnable Requantization Activation) method\n",
        "lora_config = LoraConfig(\n",
        "    r=8,                                   # Number of quantization levels\n",
        "    lora_alpha=32,                         # Hyperparameter for LoRA\n",
        "    target_modules=[\"q_proj\",\n",
        "                    \"k_proj\",\n",
        "                    \"v_proj\",\n",
        "                    \"o_proj\",\n",
        "                    \"gate_proj\",\n",
        "                    \"up_proj\",\n",
        "                    \"down_proj\"\n",
        "                    ],             # Modules to apply LoRA to\n",
        "    lora_dropout=0.05,                     # Dropout probability\n",
        "    bias=\"none\",                           # Type of bias\n",
        "    task_type=\"CAUSAL_LM\"                  # Task type (in this case, Causal Language Modeling)\n",
        ")"
      ]
    },
    {
      "cell_type": "code",
      "source": [
        "from transformers import TrainingArguments"
      ],
      "metadata": {
        "id": "lUgoYozS3JFX",
        "colab": {
          "base_uri": "https://localhost:8080/",
          "height": 17
        },
        "outputId": "e4996386-ac49-4caf-96a2-908aca6ac13d"
      },
      "execution_count": null,
      "outputs": [
        {
          "output_type": "display_data",
          "data": {
            "text/plain": [
              "<IPython.core.display.HTML object>"
            ],
            "text/html": [
              "\n",
              "  <style>\n",
              "    pre {\n",
              "        white-space: pre-wrap;\n",
              "    }\n",
              "  </style>\n",
              "  "
            ]
          },
          "metadata": {}
        }
      ]
    },
    {
      "cell_type": "code",
      "source": [
        "# Define a configuration for the training\n",
        "training_args_blueprint=TrainingArguments(\n",
        "        per_device_train_batch_size=4,        # Batch size per device during training\n",
        "        gradient_accumulation_steps=4,        # Number of gradient accumulation steps\n",
        "        gradient_checkpointing=True,\n",
        "        warmup_ratio = 0.03 ,                 # Number of warm-up steps for learning rate\n",
        "        max_steps=100,                        # Maximum number of training steps\n",
        "        learning_rate=5e-5,                   # Learning rate\n",
        "        lr_scheduler_type=\"cosine\",           # cosine learning rate scheduler\n",
        "        # bf16=True,                          # Enable mixed-precision training (Amper GPU)\n",
        "        fp16=True,\n",
        "        logging_steps=1,                      # Logging frequency during training\n",
        "        output_dir=OUTPUT_DIR_NAME,           # Directory to save output files\n",
        "        optim=\"paged_adamw_32bit\",            # Optimizer type\n",
        "        save_strategy=\"epoch\",                # Strategy for saving checkpoints\n",
        "        # push_to_hub=True                    # Push to the Hugging Face model hub\n",
        "        report_to=\"wandb\",\n",
        "        do_eval=True,\n",
        "        eval_strategy=\"steps\",\n",
        "        eval_steps=5,\n",
        "    )"
      ],
      "metadata": {
        "id": "shDRIClKyGso",
        "colab": {
          "base_uri": "https://localhost:8080/",
          "height": 17
        },
        "outputId": "bc348fba-f27e-4ec7-bdf7-76ed5eb36e1c"
      },
      "execution_count": null,
      "outputs": [
        {
          "output_type": "display_data",
          "data": {
            "text/plain": [
              "<IPython.core.display.HTML object>"
            ],
            "text/html": [
              "\n",
              "  <style>\n",
              "    pre {\n",
              "        white-space: pre-wrap;\n",
              "    }\n",
              "  </style>\n",
              "  "
            ]
          },
          "metadata": {}
        }
      ]
    },
    {
      "cell_type": "code",
      "execution_count": null,
      "metadata": {
        "id": "wrGTlqBQn8h2",
        "colab": {
          "base_uri": "https://localhost:8080/",
          "height": 17
        },
        "outputId": "5a2d3ebf-c40f-4ad8-ab21-dfe651cb79bb"
      },
      "outputs": [
        {
          "output_type": "display_data",
          "data": {
            "text/plain": [
              "<IPython.core.display.HTML object>"
            ],
            "text/html": [
              "\n",
              "  <style>\n",
              "    pre {\n",
              "        white-space: pre-wrap;\n",
              "    }\n",
              "  </style>\n",
              "  "
            ]
          },
          "metadata": {}
        }
      ],
      "source": [
        "model = prepare_model_for_qlora_training(model,lora_config)"
      ]
    },
    {
      "cell_type": "code",
      "execution_count": null,
      "metadata": {
        "id": "1l8m3m7Fn-CP",
        "colab": {
          "base_uri": "https://localhost:8080/",
          "height": 34
        },
        "outputId": "861d2497-a4d7-4202-ef3f-370732a435e1"
      },
      "outputs": [
        {
          "output_type": "display_data",
          "data": {
            "text/plain": [
              "<IPython.core.display.HTML object>"
            ],
            "text/html": [
              "\n",
              "  <style>\n",
              "    pre {\n",
              "        white-space: pre-wrap;\n",
              "    }\n",
              "  </style>\n",
              "  "
            ]
          },
          "metadata": {}
        },
        {
          "output_type": "stream",
          "name": "stdout",
          "text": [
            "trainable params: 20971520 || all params: 3773050880 || trainable%: 0.5558239384251293\n"
          ]
        }
      ],
      "source": [
        "# Print the number of trainable parameters in the model after applying LoRA\n",
        "print_trainable_parameters(model)"
      ]
    },
    {
      "cell_type": "code",
      "execution_count": null,
      "metadata": {
        "id": "id-8xvOCchqZ",
        "colab": {
          "base_uri": "https://localhost:8080/",
          "height": 17
        },
        "outputId": "94dda56a-94f4-4327-d831-20d3f550ff1b"
      },
      "outputs": [
        {
          "output_type": "display_data",
          "data": {
            "text/plain": [
              "<IPython.core.display.HTML object>"
            ],
            "text/html": [
              "\n",
              "  <style>\n",
              "    pre {\n",
              "        white-space: pre-wrap;\n",
              "    }\n",
              "  </style>\n",
              "  "
            ]
          },
          "metadata": {}
        }
      ],
      "source": [
        "collator=custom_collator(tokenizer)"
      ]
    },
    {
      "cell_type": "code",
      "source": [
        "wandb.init(project=\"fine-tune mistral 7b for blueprint planning v2\", name=\"blueprint_planning_v2\")"
      ],
      "metadata": {
        "colab": {
          "base_uri": "https://localhost:8080/",
          "height": 137
        },
        "id": "RpqHtm3daf4N",
        "outputId": "fe91ce5d-99e7-4a8b-d47f-2fd9d9b2f46b"
      },
      "execution_count": null,
      "outputs": [
        {
          "output_type": "display_data",
          "data": {
            "text/plain": [
              "<IPython.core.display.HTML object>"
            ],
            "text/html": [
              "\n",
              "  <style>\n",
              "    pre {\n",
              "        white-space: pre-wrap;\n",
              "    }\n",
              "  </style>\n",
              "  "
            ]
          },
          "metadata": {}
        },
        {
          "output_type": "stream",
          "name": "stderr",
          "text": [
            "\u001b[34m\u001b[1mwandb\u001b[0m: Currently logged in as: \u001b[33mashmsn8665\u001b[0m. Use \u001b[1m`wandb login --relogin`\u001b[0m to force relogin\n"
          ]
        },
        {
          "output_type": "display_data",
          "data": {
            "text/plain": [
              "<IPython.core.display.HTML object>"
            ],
            "text/html": [
              "Tracking run with wandb version 0.17.0"
            ]
          },
          "metadata": {}
        },
        {
          "output_type": "display_data",
          "data": {
            "text/plain": [
              "<IPython.core.display.HTML object>"
            ],
            "text/html": [
              "Run data is saved locally in <code>/content/wandb/run-20240509_212430-jaxdii0s</code>"
            ]
          },
          "metadata": {}
        },
        {
          "output_type": "display_data",
          "data": {
            "text/plain": [
              "<IPython.core.display.HTML object>"
            ],
            "text/html": [
              "Syncing run <strong><a href='https://wandb.ai/ashmsn8665/fine-tune%20mistral%207b%20for%20blueprint%20planning%20v2/runs/jaxdii0s' target=\"_blank\">blueprint_planning_v2</a></strong> to <a href='https://wandb.ai/ashmsn8665/fine-tune%20mistral%207b%20for%20blueprint%20planning%20v2' target=\"_blank\">Weights & Biases</a> (<a href='https://wandb.me/run' target=\"_blank\">docs</a>)<br/>"
            ]
          },
          "metadata": {}
        },
        {
          "output_type": "display_data",
          "data": {
            "text/plain": [
              "<IPython.core.display.HTML object>"
            ],
            "text/html": [
              " View project at <a href='https://wandb.ai/ashmsn8665/fine-tune%20mistral%207b%20for%20blueprint%20planning%20v2' target=\"_blank\">https://wandb.ai/ashmsn8665/fine-tune%20mistral%207b%20for%20blueprint%20planning%20v2</a>"
            ]
          },
          "metadata": {}
        },
        {
          "output_type": "display_data",
          "data": {
            "text/plain": [
              "<IPython.core.display.HTML object>"
            ],
            "text/html": [
              " View run at <a href='https://wandb.ai/ashmsn8665/fine-tune%20mistral%207b%20for%20blueprint%20planning%20v2/runs/jaxdii0s' target=\"_blank\">https://wandb.ai/ashmsn8665/fine-tune%20mistral%207b%20for%20blueprint%20planning%20v2/runs/jaxdii0s</a>"
            ]
          },
          "metadata": {}
        },
        {
          "output_type": "execute_result",
          "data": {
            "text/html": [
              "<button onClick=\"this.nextSibling.style.display='block';this.style.display='none';\">Display W&B run</button><iframe src='https://wandb.ai/ashmsn8665/fine-tune%20mistral%207b%20for%20blueprint%20planning%20v2/runs/jaxdii0s?jupyter=true' style='border:none;width:100%;height:420px;display:none;'></iframe>"
            ],
            "text/plain": [
              "<wandb.sdk.wandb_run.Run at 0x7c1e507716c0>"
            ]
          },
          "metadata": {},
          "execution_count": 49
        }
      ]
    },
    {
      "cell_type": "code",
      "execution_count": null,
      "metadata": {
        "id": "uFx2bpdqhM_o",
        "colab": {
          "base_uri": "https://localhost:8080/",
          "height": 1000
        },
        "outputId": "5e1586df-9352-4db1-ef5a-a2e799afee83"
      },
      "outputs": [
        {
          "output_type": "display_data",
          "data": {
            "text/plain": [
              "<IPython.core.display.HTML object>"
            ],
            "text/html": [
              "\n",
              "  <style>\n",
              "    pre {\n",
              "        white-space: pre-wrap;\n",
              "    }\n",
              "  </style>\n",
              "  "
            ]
          },
          "metadata": {}
        },
        {
          "output_type": "stream",
          "name": "stderr",
          "text": [
            "max_steps is given, it will override any value given in num_train_epochs\n",
            "\u001b[34m\u001b[1mwandb\u001b[0m: \u001b[33mWARNING\u001b[0m The `run_name` is currently set to the same value as `TrainingArguments.output_dir`. If this was not intended, please specify a different run name by setting the `TrainingArguments.run_name` parameter.\n",
            "/usr/local/lib/python3.10/dist-packages/huggingface_hub/file_download.py:1132: FutureWarning: `resume_download` is deprecated and will be removed in version 1.0.0. Downloads always resume when possible. If you want to force a new download, use `force_download=True`.\n",
            "  warnings.warn(\n",
            "/usr/local/lib/python3.10/dist-packages/peft/utils/save_and_load.py:209: UserWarning: Setting `save_embedding_layers` to `True` as the embedding layer has been resized during finetuning.\n",
            "  warnings.warn(\n",
            "/usr/local/lib/python3.10/dist-packages/torch/utils/checkpoint.py:460: UserWarning: torch.utils.checkpoint: please pass in use_reentrant=True or use_reentrant=False explicitly. The default value of use_reentrant will be updated to be False in the future. To maintain current behavior, pass use_reentrant=True. It is recommended that you use use_reentrant=False. Refer to docs for more details on the differences between the two variants.\n",
            "  warnings.warn(\n"
          ]
        },
        {
          "output_type": "display_data",
          "data": {
            "text/plain": [
              "<IPython.core.display.HTML object>"
            ],
            "text/html": [
              "\n",
              "    <div>\n",
              "      \n",
              "      <progress value='100' max='100' style='width:300px; height:20px; vertical-align: middle;'></progress>\n",
              "      [100/100 25:44, Epoch 1/2]\n",
              "    </div>\n",
              "    <table border=\"1\" class=\"dataframe\">\n",
              "  <thead>\n",
              " <tr style=\"text-align: left;\">\n",
              "      <th>Step</th>\n",
              "      <th>Training Loss</th>\n",
              "      <th>Validation Loss</th>\n",
              "    </tr>\n",
              "  </thead>\n",
              "  <tbody>\n",
              "    <tr>\n",
              "      <td>5</td>\n",
              "      <td>1.838800</td>\n",
              "      <td>1.466372</td>\n",
              "    </tr>\n",
              "    <tr>\n",
              "      <td>10</td>\n",
              "      <td>0.708200</td>\n",
              "      <td>0.516668</td>\n",
              "    </tr>\n",
              "    <tr>\n",
              "      <td>15</td>\n",
              "      <td>0.262800</td>\n",
              "      <td>0.240221</td>\n",
              "    </tr>\n",
              "    <tr>\n",
              "      <td>20</td>\n",
              "      <td>0.205600</td>\n",
              "      <td>0.210068</td>\n",
              "    </tr>\n",
              "    <tr>\n",
              "      <td>25</td>\n",
              "      <td>0.237700</td>\n",
              "      <td>0.197475</td>\n",
              "    </tr>\n",
              "    <tr>\n",
              "      <td>30</td>\n",
              "      <td>0.180300</td>\n",
              "      <td>0.193587</td>\n",
              "    </tr>\n",
              "    <tr>\n",
              "      <td>35</td>\n",
              "      <td>0.171700</td>\n",
              "      <td>0.185918</td>\n",
              "    </tr>\n",
              "    <tr>\n",
              "      <td>40</td>\n",
              "      <td>0.181900</td>\n",
              "      <td>0.184072</td>\n",
              "    </tr>\n",
              "    <tr>\n",
              "      <td>45</td>\n",
              "      <td>0.188000</td>\n",
              "      <td>0.179911</td>\n",
              "    </tr>\n",
              "    <tr>\n",
              "      <td>50</td>\n",
              "      <td>0.163600</td>\n",
              "      <td>0.178185</td>\n",
              "    </tr>\n",
              "    <tr>\n",
              "      <td>55</td>\n",
              "      <td>0.198900</td>\n",
              "      <td>0.176644</td>\n",
              "    </tr>\n",
              "    <tr>\n",
              "      <td>60</td>\n",
              "      <td>0.175800</td>\n",
              "      <td>0.173460</td>\n",
              "    </tr>\n",
              "    <tr>\n",
              "      <td>65</td>\n",
              "      <td>0.152800</td>\n",
              "      <td>0.173725</td>\n",
              "    </tr>\n",
              "    <tr>\n",
              "      <td>70</td>\n",
              "      <td>0.157800</td>\n",
              "      <td>0.172077</td>\n",
              "    </tr>\n",
              "    <tr>\n",
              "      <td>75</td>\n",
              "      <td>0.146300</td>\n",
              "      <td>0.170550</td>\n",
              "    </tr>\n",
              "    <tr>\n",
              "      <td>80</td>\n",
              "      <td>0.141300</td>\n",
              "      <td>0.170074</td>\n",
              "    </tr>\n",
              "    <tr>\n",
              "      <td>85</td>\n",
              "      <td>0.135600</td>\n",
              "      <td>0.169973</td>\n",
              "    </tr>\n",
              "    <tr>\n",
              "      <td>90</td>\n",
              "      <td>0.140200</td>\n",
              "      <td>0.169442</td>\n",
              "    </tr>\n",
              "    <tr>\n",
              "      <td>95</td>\n",
              "      <td>0.141800</td>\n",
              "      <td>0.169239</td>\n",
              "    </tr>\n",
              "    <tr>\n",
              "      <td>100</td>\n",
              "      <td>0.148900</td>\n",
              "      <td>0.169176</td>\n",
              "    </tr>\n",
              "  </tbody>\n",
              "</table><p>"
            ]
          },
          "metadata": {}
        },
        {
          "output_type": "stream",
          "name": "stderr",
          "text": [
            "/usr/local/lib/python3.10/dist-packages/torch/utils/checkpoint.py:460: UserWarning: torch.utils.checkpoint: please pass in use_reentrant=True or use_reentrant=False explicitly. The default value of use_reentrant will be updated to be False in the future. To maintain current behavior, pass use_reentrant=True. It is recommended that you use use_reentrant=False. Refer to docs for more details on the differences between the two variants.\n",
            "  warnings.warn(\n",
            "/usr/local/lib/python3.10/dist-packages/huggingface_hub/file_download.py:1132: FutureWarning: `resume_download` is deprecated and will be removed in version 1.0.0. Downloads always resume when possible. If you want to force a new download, use `force_download=True`.\n",
            "  warnings.warn(\n",
            "/usr/local/lib/python3.10/dist-packages/peft/utils/save_and_load.py:209: UserWarning: Setting `save_embedding_layers` to `True` as the embedding layer has been resized during finetuning.\n",
            "  warnings.warn(\n"
          ]
        }
      ],
      "source": [
        "# Start QLORA fine-tuning for the blueprint planning\n",
        "trainer, tokenizer, model = qlora_training_with_custom_collator(training_args_blueprint,model,tokenizer,train_data_blueprint,test_data_blueprint,collator)"
      ]
    },
    {
      "cell_type": "code",
      "source": [
        "# Good practice to end your run\n",
        "wandb.finish()"
      ],
      "metadata": {
        "colab": {
          "base_uri": "https://localhost:8080/",
          "height": 761,
          "referenced_widgets": [
            "b075e0a07b55409da1222ed1ff3514ac",
            "277d90fa30ef4dbe9046a056cb8d7733",
            "d0b3e20b27a24c93ab57b83a49c64d35",
            "1eab23ecf7a54dfe8febb64bd0ae0e2e",
            "1e9dc610633a4ef5aaf16161d4346fa0",
            "0b82134f049846859c76ff8af14a58ac",
            "ada18c31496041b791fa5b9f19d302a8",
            "01fe6ac490334d8e93c8c2e1b6bbf946"
          ]
        },
        "id": "83PUOPWpajTZ",
        "outputId": "f517220f-2f87-485e-ed2a-871167c712ec"
      },
      "execution_count": null,
      "outputs": [
        {
          "output_type": "display_data",
          "data": {
            "text/plain": [
              "<IPython.core.display.HTML object>"
            ],
            "text/html": [
              "\n",
              "  <style>\n",
              "    pre {\n",
              "        white-space: pre-wrap;\n",
              "    }\n",
              "  </style>\n",
              "  "
            ]
          },
          "metadata": {}
        },
        {
          "output_type": "display_data",
          "data": {
            "text/plain": [
              "VBox(children=(Label(value='1080.103 MB of 1080.103 MB uploaded\\r'), FloatProgress(value=1.0, max=1.0)))"
            ],
            "application/vnd.jupyter.widget-view+json": {
              "version_major": 2,
              "version_minor": 0,
              "model_id": "b075e0a07b55409da1222ed1ff3514ac"
            }
          },
          "metadata": {}
        },
        {
          "output_type": "display_data",
          "data": {
            "text/plain": [
              "<IPython.core.display.HTML object>"
            ],
            "text/html": [
              "<style>\n",
              "    table.wandb td:nth-child(1) { padding: 0 10px; text-align: left ; width: auto;} td:nth-child(2) {text-align: left ; width: 100%}\n",
              "    .wandb-row { display: flex; flex-direction: row; flex-wrap: wrap; justify-content: flex-start; width: 100% }\n",
              "    .wandb-col { display: flex; flex-direction: column; flex-basis: 100%; flex: 1; padding: 10px; }\n",
              "    </style>\n",
              "<div class=\"wandb-row\"><div class=\"wandb-col\"><h3>Run history:</h3><br/><table class=\"wandb\"><tr><td>eval/loss</td><td>█▃▁▁▁▁▁▁▁▁▁▁▁▁▁▁▁▁▁▁</td></tr><tr><td>eval/runtime</td><td>▁▆▇▇▅▅▆▇█▇▆██▆▆▆▆▆█▆</td></tr><tr><td>eval/samples_per_second</td><td>█▃▂▂▄▄▃▂▁▂▃▂▁▃▃▄▃▃▁▃</td></tr><tr><td>eval/steps_per_second</td><td>█▃▁▃▃▃▃▃▁▁▃▁▁▃▃▃▃▃▁▃</td></tr><tr><td>train/epoch</td><td>▁▁▁▂▂▂▂▂▂▃▃▃▃▃▄▄▄▄▄▄▅▅▅▅▅▆▆▆▆▆▆▇▇▇▇▇████</td></tr><tr><td>train/global_step</td><td>▁▁▁▂▂▂▂▂▂▃▃▃▃▃▄▄▄▄▄▄▅▅▅▅▅▆▆▆▆▆▆▇▇▇▇▇████</td></tr><tr><td>train/grad_norm</td><td>██ ▄▄▂▂▂▂▁▁▁▁▁▁▁▁▁▁▁▁▁▁▁▁▁▁▁▁▁▁▁▁▁▁▁▁▁▁▁</td></tr><tr><td>train/learning_rate</td><td>▃███████▇▇▇▇▇▆▆▆▆▅▅▅▅▄▄▄▄▃▃▃▂▂▂▂▂▂▁▁▁▁▁▁</td></tr><tr><td>train/loss</td><td>██▄▄▂▁▁▁▁▁▁▁▁▁▁▁▁▁▁▁▁▁▁▁▁▁▁▁▁▁▁▁▁▁▁▁▁▁▁▁</td></tr></table><br/></div><div class=\"wandb-col\"><h3>Run summary:</h3><br/><table class=\"wandb\"><tr><td>eval/loss</td><td>0.16918</td></tr><tr><td>eval/runtime</td><td>20.8026</td></tr><tr><td>eval/samples_per_second</td><td>4.855</td></tr><tr><td>eval/steps_per_second</td><td>0.625</td></tr><tr><td>total_flos</td><td>1.8642323963510784e+16</td></tr><tr><td>train/epoch</td><td>1.76211</td></tr><tr><td>train/global_step</td><td>100</td></tr><tr><td>train/grad_norm</td><td>0.91276</td></tr><tr><td>train/learning_rate</td><td>0.0</td></tr><tr><td>train/loss</td><td>0.1489</td></tr><tr><td>train_loss</td><td>0.33971</td></tr><tr><td>train_runtime</td><td>1568.9352</td></tr><tr><td>train_samples_per_second</td><td>1.02</td></tr><tr><td>train_steps_per_second</td><td>0.064</td></tr></table><br/></div></div>"
            ]
          },
          "metadata": {}
        },
        {
          "output_type": "display_data",
          "data": {
            "text/plain": [
              "<IPython.core.display.HTML object>"
            ],
            "text/html": [
              " View run <strong style=\"color:#cdcd00\">blueprint_planning_v2</strong> at: <a href='https://wandb.ai/ashmsn8665/fine-tune%20mistral%207b%20for%20blueprint%20planning%20v2/runs/jaxdii0s' target=\"_blank\">https://wandb.ai/ashmsn8665/fine-tune%20mistral%207b%20for%20blueprint%20planning%20v2/runs/jaxdii0s</a><br/> View project at: <a href='https://wandb.ai/ashmsn8665/fine-tune%20mistral%207b%20for%20blueprint%20planning%20v2' target=\"_blank\">https://wandb.ai/ashmsn8665/fine-tune%20mistral%207b%20for%20blueprint%20planning%20v2</a><br/>Synced 5 W&B file(s), 0 media file(s), 4 artifact file(s) and 0 other file(s)"
            ]
          },
          "metadata": {}
        },
        {
          "output_type": "display_data",
          "data": {
            "text/plain": [
              "<IPython.core.display.HTML object>"
            ],
            "text/html": [
              "Find logs at: <code>./wandb/run-20240509_212430-jaxdii0s/logs</code>"
            ]
          },
          "metadata": {}
        }
      ]
    },
    {
      "cell_type": "code",
      "execution_count": null,
      "metadata": {
        "id": "N6eyow9PQJ17",
        "colab": {
          "base_uri": "https://localhost:8080/",
          "height": 221
        },
        "outputId": "fd842f5c-edf4-411f-ba86-c4c2c008f8f1"
      },
      "outputs": [
        {
          "output_type": "display_data",
          "data": {
            "text/plain": [
              "<IPython.core.display.HTML object>"
            ],
            "text/html": [
              "\n",
              "  <style>\n",
              "    pre {\n",
              "        white-space: pre-wrap;\n",
              "    }\n",
              "  </style>\n",
              "  "
            ]
          },
          "metadata": {}
        },
        {
          "output_type": "stream",
          "name": "stderr",
          "text": [
            "/usr/local/lib/python3.10/dist-packages/huggingface_hub/file_download.py:1132: FutureWarning: `resume_download` is deprecated and will be removed in version 1.0.0. Downloads always resume when possible. If you want to force a new download, use `force_download=True`.\n",
            "  warnings.warn(\n",
            "/usr/local/lib/python3.10/dist-packages/peft/utils/save_and_load.py:209: UserWarning: Setting `save_embedding_layers` to `True` as the embedding layer has been resized during finetuning.\n",
            "  warnings.warn(\n"
          ]
        },
        {
          "output_type": "execute_result",
          "data": {
            "text/plain": [
              "('ckpts_mistral_7B_blueprint_planning_v2/tokenizer_config.json',\n",
              " 'ckpts_mistral_7B_blueprint_planning_v2/special_tokens_map.json',\n",
              " 'ckpts_mistral_7B_blueprint_planning_v2/tokenizer.model',\n",
              " 'ckpts_mistral_7B_blueprint_planning_v2/added_tokens.json',\n",
              " 'ckpts_mistral_7B_blueprint_planning_v2/tokenizer.json')"
            ]
          },
          "metadata": {},
          "execution_count": 52
        }
      ],
      "source": [
        "# Save artifacts\n",
        "trainer.model.save_pretrained(ADAPTER_CHECKPOINTS_NAME)\n",
        "tokenizer.save_pretrained(ADAPTER_CHECKPOINTS_NAME)"
      ]
    },
    {
      "cell_type": "code",
      "source": [
        "output=get_completion(pred_prompt, model, tokenizer, stop_keywords, KeywordsStoppingCriteria)\n",
        "\n",
        "print(pred_prompt)\n",
        "print(output)"
      ],
      "metadata": {
        "colab": {
          "base_uri": "https://localhost:8080/",
          "height": 272
        },
        "id": "0Ewu5Ru7agst",
        "outputId": "1eb38586-e17f-4d38-cb93-6957b8550c6c"
      },
      "execution_count": null,
      "outputs": [
        {
          "output_type": "display_data",
          "data": {
            "text/plain": [
              "<IPython.core.display.HTML object>"
            ],
            "text/html": [
              "\n",
              "  <style>\n",
              "    pre {\n",
              "        white-space: pre-wrap;\n",
              "    }\n",
              "  </style>\n",
              "  "
            ]
          },
          "metadata": {}
        },
        {
          "output_type": "stream",
          "name": "stderr",
          "text": [
            "The attention mask and the pad token id were not set. As a consequence, you may observe unexpected behavior. Please pass your input's `attention_mask` to obtain reliable results.\n",
            "Setting `pad_token_id` to `eos_token_id`:2 for open-end generation.\n"
          ]
        },
        {
          "output_type": "stream",
          "name": "stdout",
          "text": [
            "[INST]Below is an instruction that describes a composite task. Provide the structured blueprint planning for the following task. Your response should be in the form of a dictionary with transitions (one-to-one or one-to-many depending on the task) between different subtasks and appropriate failure handling options. Create a marketing video for a new product launch, including a script, a storyboard, filming, and editing.[/INST]\n",
            "\n",
            "### Response:\n",
            "{'Develop script': {'next_modes': ['Create storyboard'], 'failure': ['Retry', 'Exit', 'Fallback Content', 'Request Human Intervention']}, 'Create storyboard': {'next_modes': ['Film video'], 'failure': ['Retry', 'Switch to Different Mode', 'Log and Analyze', 'Quality Assurance Check']}, 'Film video': {'next_modes': ['Edit video'], 'failure': ['Retry', 'Exit', 'Partial Content Delivery', 'Mode Optimization']}, 'Edit video': {'next_modes': ['Analyzer'], 'failure': ['Retry', 'Exit', 'Quality Assurance Check', 'Alternative Data Sources']}, 'Analyzer': {'next_modes': [], 'failure': None}}</s>\n"
          ]
        }
      ]
    },
    {
      "cell_type": "code",
      "source": [
        "print(output.strip(\"### Response:\").strip(\"</s>\"))"
      ],
      "metadata": {
        "colab": {
          "base_uri": "https://localhost:8080/",
          "height": 102
        },
        "id": "5smXeTUSajUC",
        "outputId": "45ba2522-19b6-4140-a153-c64bde1a2245"
      },
      "execution_count": null,
      "outputs": [
        {
          "output_type": "display_data",
          "data": {
            "text/plain": [
              "<IPython.core.display.HTML object>"
            ],
            "text/html": [
              "\n",
              "  <style>\n",
              "    pre {\n",
              "        white-space: pre-wrap;\n",
              "    }\n",
              "  </style>\n",
              "  "
            ]
          },
          "metadata": {}
        },
        {
          "output_type": "stream",
          "name": "stdout",
          "text": [
            "{'Create virtual tour': {'next_modes': ['Record narrator audio', 'Design multimedia elements'], 'failure': ['Retry', 'Exit', 'Fallback Content', 'Request Human Intervention']}, 'Record narrator audio': {'next_modes': ['Design multimedia elements'], 'failure': ['Retry', 'Switch to Different Mode', 'Quality Assurance Check', 'Partial Content Delivery']}, 'Design multimedia elements': {'next_modes': ['Analyzer'], 'failure': ['Retry', 'Exit', 'Log and Analyze', 'Alternative Data Sources']}, 'Analyzer': {'next_modes': [], 'failure': None}}\n"
          ]
        }
      ]
    },
    {
      "cell_type": "code",
      "source": [
        "test_data_blueprint[0]['Blueprint']"
      ],
      "metadata": {
        "colab": {
          "base_uri": "https://localhost:8080/",
          "height": 120
        },
        "id": "8sxtttbPm9y2",
        "outputId": "30382813-4ccf-4396-884b-8462a303b49c"
      },
      "execution_count": null,
      "outputs": [
        {
          "output_type": "display_data",
          "data": {
            "text/plain": [
              "<IPython.core.display.HTML object>"
            ],
            "text/html": [
              "\n",
              "  <style>\n",
              "    pre {\n",
              "        white-space: pre-wrap;\n",
              "    }\n",
              "  </style>\n",
              "  "
            ]
          },
          "metadata": {}
        },
        {
          "output_type": "execute_result",
          "data": {
            "text/plain": [
              "\"{'Develop script': {'next_modes': ['Design storyboard', 'Write blog post'], 'failure': ['Retry', 'Exit', 'Fallback Content', 'Request Human Intervention']}, 'Design storyboard': {'next_modes': ['Film content'], 'failure': ['Retry', 'Exit', 'Switch to Different Mode', 'Quality Assurance Check']}, 'Film content': {'next_modes': ['Edit video'], 'failure': ['Retry', 'Request Human Intervention', 'Graceful Degradation', 'Partial Content Delivery']}, 'Edit video': {'next_modes': ['Analyzer'], 'failure': ['Retry', 'Exit', 'Log and Analyze', 'Mode Optimization']}, 'Analyzer': {'next_modes': [], 'failure': None}}\""
            ],
            "application/vnd.google.colaboratory.intrinsic+json": {
              "type": "string"
            }
          },
          "metadata": {},
          "execution_count": 66
        }
      ]
    },
    {
      "cell_type": "code",
      "execution_count": null,
      "metadata": {
        "id": "9lYQxwI4QK7D",
        "colab": {
          "base_uri": "https://localhost:8080/",
          "height": 17
        },
        "outputId": "6089802b-568b-421c-c194-1aef0dfadd5e"
      },
      "outputs": [
        {
          "output_type": "display_data",
          "data": {
            "text/plain": [
              "<IPython.core.display.HTML object>"
            ],
            "text/html": [
              "\n",
              "  <style>\n",
              "    pre {\n",
              "        white-space: pre-wrap;\n",
              "    }\n",
              "  </style>\n",
              "  "
            ]
          },
          "metadata": {}
        }
      ],
      "source": [
        "model.pad_token_id=tokenizer.pad_token_id\n",
        "model.config.pad_token_id=tokenizer.pad_token_id\n",
        "\n",
        "model.config.use_cache = True"
      ]
    },
    {
      "cell_type": "code",
      "execution_count": null,
      "metadata": {
        "id": "pYK4289-R47C",
        "colab": {
          "base_uri": "https://localhost:8080/",
          "height": 1000
        },
        "outputId": "32934d38-7939-4c3c-971a-6e9fd20ea011"
      },
      "outputs": [
        {
          "output_type": "display_data",
          "data": {
            "text/plain": [
              "<IPython.core.display.HTML object>"
            ],
            "text/html": [
              "\n",
              "  <style>\n",
              "    pre {\n",
              "        white-space: pre-wrap;\n",
              "    }\n",
              "  </style>\n",
              "  "
            ]
          },
          "metadata": {}
        },
        {
          "output_type": "stream",
          "name": "stderr",
          "text": [
            "\r  0%|          | 0/101 [00:00<?, ?it/s]The attention mask and the pad token id were not set. As a consequence, you may observe unexpected behavior. Please pass your input's `attention_mask` to obtain reliable results.\n",
            "Setting `pad_token_id` to `eos_token_id`:2 for open-end generation.\n",
            "  1%|          | 1/101 [00:21<36:36, 21.96s/it]The attention mask and the pad token id were not set. As a consequence, you may observe unexpected behavior. Please pass your input's `attention_mask` to obtain reliable results.\n",
            "Setting `pad_token_id` to `eos_token_id`:2 for open-end generation.\n",
            "  2%|▏         | 2/101 [00:35<27:45, 16.82s/it]The attention mask and the pad token id were not set. As a consequence, you may observe unexpected behavior. Please pass your input's `attention_mask` to obtain reliable results.\n",
            "Setting `pad_token_id` to `eos_token_id`:2 for open-end generation.\n",
            "  3%|▎         | 3/101 [00:53<28:30, 17.45s/it]The attention mask and the pad token id were not set. As a consequence, you may observe unexpected behavior. Please pass your input's `attention_mask` to obtain reliable results.\n",
            "Setting `pad_token_id` to `eos_token_id`:2 for open-end generation.\n",
            "  4%|▍         | 4/101 [01:11<28:48, 17.82s/it]The attention mask and the pad token id were not set. As a consequence, you may observe unexpected behavior. Please pass your input's `attention_mask` to obtain reliable results.\n",
            "Setting `pad_token_id` to `eos_token_id`:2 for open-end generation.\n",
            "  5%|▍         | 5/101 [01:29<28:18, 17.69s/it]The attention mask and the pad token id were not set. As a consequence, you may observe unexpected behavior. Please pass your input's `attention_mask` to obtain reliable results.\n",
            "Setting `pad_token_id` to `eos_token_id`:2 for open-end generation.\n",
            "  6%|▌         | 6/101 [01:47<28:04, 17.73s/it]The attention mask and the pad token id were not set. As a consequence, you may observe unexpected behavior. Please pass your input's `attention_mask` to obtain reliable results.\n",
            "Setting `pad_token_id` to `eos_token_id`:2 for open-end generation.\n",
            "  7%|▋         | 7/101 [02:09<30:21, 19.37s/it]The attention mask and the pad token id were not set. As a consequence, you may observe unexpected behavior. Please pass your input's `attention_mask` to obtain reliable results.\n",
            "Setting `pad_token_id` to `eos_token_id`:2 for open-end generation.\n",
            "  8%|▊         | 8/101 [02:21<26:28, 17.09s/it]The attention mask and the pad token id were not set. As a consequence, you may observe unexpected behavior. Please pass your input's `attention_mask` to obtain reliable results.\n",
            "Setting `pad_token_id` to `eos_token_id`:2 for open-end generation.\n",
            "  9%|▉         | 9/101 [02:41<27:21, 17.85s/it]The attention mask and the pad token id were not set. As a consequence, you may observe unexpected behavior. Please pass your input's `attention_mask` to obtain reliable results.\n",
            "Setting `pad_token_id` to `eos_token_id`:2 for open-end generation.\n",
            " 10%|▉         | 10/101 [02:59<27:00, 17.81s/it]The attention mask and the pad token id were not set. As a consequence, you may observe unexpected behavior. Please pass your input's `attention_mask` to obtain reliable results.\n",
            "Setting `pad_token_id` to `eos_token_id`:2 for open-end generation.\n",
            " 11%|█         | 11/101 [03:16<26:34, 17.72s/it]The attention mask and the pad token id were not set. As a consequence, you may observe unexpected behavior. Please pass your input's `attention_mask` to obtain reliable results.\n",
            "Setting `pad_token_id` to `eos_token_id`:2 for open-end generation.\n",
            " 12%|█▏        | 12/101 [03:29<24:03, 16.21s/it]The attention mask and the pad token id were not set. As a consequence, you may observe unexpected behavior. Please pass your input's `attention_mask` to obtain reliable results.\n",
            "Setting `pad_token_id` to `eos_token_id`:2 for open-end generation.\n",
            " 13%|█▎        | 13/101 [04:10<34:41, 23.66s/it]The attention mask and the pad token id were not set. As a consequence, you may observe unexpected behavior. Please pass your input's `attention_mask` to obtain reliable results.\n",
            "Setting `pad_token_id` to `eos_token_id`:2 for open-end generation.\n",
            " 14%|█▍        | 14/101 [04:28<31:46, 21.91s/it]The attention mask and the pad token id were not set. As a consequence, you may observe unexpected behavior. Please pass your input's `attention_mask` to obtain reliable results.\n",
            "Setting `pad_token_id` to `eos_token_id`:2 for open-end generation.\n",
            " 15%|█▍        | 15/101 [04:51<32:10, 22.45s/it]The attention mask and the pad token id were not set. As a consequence, you may observe unexpected behavior. Please pass your input's `attention_mask` to obtain reliable results.\n",
            "Setting `pad_token_id` to `eos_token_id`:2 for open-end generation.\n",
            " 16%|█▌        | 16/101 [05:15<32:30, 22.94s/it]The attention mask and the pad token id were not set. As a consequence, you may observe unexpected behavior. Please pass your input's `attention_mask` to obtain reliable results.\n",
            "Setting `pad_token_id` to `eos_token_id`:2 for open-end generation.\n",
            " 17%|█▋        | 17/101 [05:34<30:19, 21.66s/it]The attention mask and the pad token id were not set. As a consequence, you may observe unexpected behavior. Please pass your input's `attention_mask` to obtain reliable results.\n",
            "Setting `pad_token_id` to `eos_token_id`:2 for open-end generation.\n",
            " 18%|█▊        | 18/101 [05:52<28:13, 20.40s/it]The attention mask and the pad token id were not set. As a consequence, you may observe unexpected behavior. Please pass your input's `attention_mask` to obtain reliable results.\n",
            "Setting `pad_token_id` to `eos_token_id`:2 for open-end generation.\n",
            " 19%|█▉        | 19/101 [06:14<28:36, 20.94s/it]The attention mask and the pad token id were not set. As a consequence, you may observe unexpected behavior. Please pass your input's `attention_mask` to obtain reliable results.\n",
            "Setting `pad_token_id` to `eos_token_id`:2 for open-end generation.\n",
            " 20%|█▉        | 20/101 [06:37<29:05, 21.55s/it]The attention mask and the pad token id were not set. As a consequence, you may observe unexpected behavior. Please pass your input's `attention_mask` to obtain reliable results.\n",
            "Setting `pad_token_id` to `eos_token_id`:2 for open-end generation.\n",
            " 21%|██        | 21/101 [06:59<29:11, 21.89s/it]The attention mask and the pad token id were not set. As a consequence, you may observe unexpected behavior. Please pass your input's `attention_mask` to obtain reliable results.\n",
            "Setting `pad_token_id` to `eos_token_id`:2 for open-end generation.\n",
            " 22%|██▏       | 22/101 [07:22<28:58, 22.01s/it]The attention mask and the pad token id were not set. As a consequence, you may observe unexpected behavior. Please pass your input's `attention_mask` to obtain reliable results.\n",
            "Setting `pad_token_id` to `eos_token_id`:2 for open-end generation.\n",
            " 23%|██▎       | 23/101 [07:34<24:44, 19.03s/it]The attention mask and the pad token id were not set. As a consequence, you may observe unexpected behavior. Please pass your input's `attention_mask` to obtain reliable results.\n",
            "Setting `pad_token_id` to `eos_token_id`:2 for open-end generation.\n",
            " 24%|██▍       | 24/101 [08:07<29:45, 23.19s/it]The attention mask and the pad token id were not set. As a consequence, you may observe unexpected behavior. Please pass your input's `attention_mask` to obtain reliable results.\n",
            "Setting `pad_token_id` to `eos_token_id`:2 for open-end generation.\n",
            " 25%|██▍       | 25/101 [08:24<27:03, 21.37s/it]The attention mask and the pad token id were not set. As a consequence, you may observe unexpected behavior. Please pass your input's `attention_mask` to obtain reliable results.\n",
            "Setting `pad_token_id` to `eos_token_id`:2 for open-end generation.\n",
            " 26%|██▌       | 26/101 [08:46<26:59, 21.60s/it]The attention mask and the pad token id were not set. As a consequence, you may observe unexpected behavior. Please pass your input's `attention_mask` to obtain reliable results.\n",
            "Setting `pad_token_id` to `eos_token_id`:2 for open-end generation.\n",
            " 27%|██▋       | 27/101 [08:59<23:17, 18.89s/it]The attention mask and the pad token id were not set. As a consequence, you may observe unexpected behavior. Please pass your input's `attention_mask` to obtain reliable results.\n",
            "Setting `pad_token_id` to `eos_token_id`:2 for open-end generation.\n",
            " 28%|██▊       | 28/101 [09:15<22:16, 18.31s/it]The attention mask and the pad token id were not set. As a consequence, you may observe unexpected behavior. Please pass your input's `attention_mask` to obtain reliable results.\n",
            "Setting `pad_token_id` to `eos_token_id`:2 for open-end generation.\n",
            " 29%|██▊       | 29/101 [09:34<21:59, 18.33s/it]The attention mask and the pad token id were not set. As a consequence, you may observe unexpected behavior. Please pass your input's `attention_mask` to obtain reliable results.\n",
            "Setting `pad_token_id` to `eos_token_id`:2 for open-end generation.\n",
            " 30%|██▉       | 30/101 [09:52<21:42, 18.34s/it]The attention mask and the pad token id were not set. As a consequence, you may observe unexpected behavior. Please pass your input's `attention_mask` to obtain reliable results.\n",
            "Setting `pad_token_id` to `eos_token_id`:2 for open-end generation.\n",
            " 31%|███       | 31/101 [10:09<20:56, 17.95s/it]The attention mask and the pad token id were not set. As a consequence, you may observe unexpected behavior. Please pass your input's `attention_mask` to obtain reliable results.\n",
            "Setting `pad_token_id` to `eos_token_id`:2 for open-end generation.\n",
            " 32%|███▏      | 32/101 [10:32<22:21, 19.43s/it]The attention mask and the pad token id were not set. As a consequence, you may observe unexpected behavior. Please pass your input's `attention_mask` to obtain reliable results.\n",
            "Setting `pad_token_id` to `eos_token_id`:2 for open-end generation.\n",
            " 33%|███▎      | 33/101 [10:56<23:33, 20.79s/it]The attention mask and the pad token id were not set. As a consequence, you may observe unexpected behavior. Please pass your input's `attention_mask` to obtain reliable results.\n",
            "Setting `pad_token_id` to `eos_token_id`:2 for open-end generation.\n",
            " 34%|███▎      | 34/101 [11:09<20:28, 18.34s/it]The attention mask and the pad token id were not set. As a consequence, you may observe unexpected behavior. Please pass your input's `attention_mask` to obtain reliable results.\n",
            "Setting `pad_token_id` to `eos_token_id`:2 for open-end generation.\n",
            " 35%|███▍      | 35/101 [11:30<21:16, 19.34s/it]The attention mask and the pad token id were not set. As a consequence, you may observe unexpected behavior. Please pass your input's `attention_mask` to obtain reliable results.\n",
            "Setting `pad_token_id` to `eos_token_id`:2 for open-end generation.\n",
            " 36%|███▌      | 36/101 [11:59<24:04, 22.23s/it]The attention mask and the pad token id were not set. As a consequence, you may observe unexpected behavior. Please pass your input's `attention_mask` to obtain reliable results.\n",
            "Setting `pad_token_id` to `eos_token_id`:2 for open-end generation.\n",
            " 37%|███▋      | 37/101 [12:12<20:37, 19.34s/it]The attention mask and the pad token id were not set. As a consequence, you may observe unexpected behavior. Please pass your input's `attention_mask` to obtain reliable results.\n",
            "Setting `pad_token_id` to `eos_token_id`:2 for open-end generation.\n",
            " 38%|███▊      | 38/101 [12:29<19:37, 18.69s/it]The attention mask and the pad token id were not set. As a consequence, you may observe unexpected behavior. Please pass your input's `attention_mask` to obtain reliable results.\n",
            "Setting `pad_token_id` to `eos_token_id`:2 for open-end generation.\n",
            " 39%|███▊      | 39/101 [12:51<20:21, 19.71s/it]The attention mask and the pad token id were not set. As a consequence, you may observe unexpected behavior. Please pass your input's `attention_mask` to obtain reliable results.\n",
            "Setting `pad_token_id` to `eos_token_id`:2 for open-end generation.\n",
            " 40%|███▉      | 40/101 [13:13<20:45, 20.42s/it]The attention mask and the pad token id were not set. As a consequence, you may observe unexpected behavior. Please pass your input's `attention_mask` to obtain reliable results.\n",
            "Setting `pad_token_id` to `eos_token_id`:2 for open-end generation.\n",
            " 41%|████      | 41/101 [13:26<18:08, 18.15s/it]The attention mask and the pad token id were not set. As a consequence, you may observe unexpected behavior. Please pass your input's `attention_mask` to obtain reliable results.\n",
            "Setting `pad_token_id` to `eos_token_id`:2 for open-end generation.\n",
            " 42%|████▏     | 42/101 [13:40<16:27, 16.74s/it]The attention mask and the pad token id were not set. As a consequence, you may observe unexpected behavior. Please pass your input's `attention_mask` to obtain reliable results.\n",
            "Setting `pad_token_id` to `eos_token_id`:2 for open-end generation.\n",
            " 43%|████▎     | 43/101 [13:52<15:02, 15.56s/it]The attention mask and the pad token id were not set. As a consequence, you may observe unexpected behavior. Please pass your input's `attention_mask` to obtain reliable results.\n",
            "Setting `pad_token_id` to `eos_token_id`:2 for open-end generation.\n",
            " 44%|████▎     | 44/101 [14:11<15:42, 16.53s/it]The attention mask and the pad token id were not set. As a consequence, you may observe unexpected behavior. Please pass your input's `attention_mask` to obtain reliable results.\n",
            "Setting `pad_token_id` to `eos_token_id`:2 for open-end generation.\n",
            " 45%|████▍     | 45/101 [14:24<14:15, 15.27s/it]The attention mask and the pad token id were not set. As a consequence, you may observe unexpected behavior. Please pass your input's `attention_mask` to obtain reliable results.\n",
            "Setting `pad_token_id` to `eos_token_id`:2 for open-end generation.\n",
            " 46%|████▌     | 46/101 [14:36<13:14, 14.44s/it]The attention mask and the pad token id were not set. As a consequence, you may observe unexpected behavior. Please pass your input's `attention_mask` to obtain reliable results.\n",
            "Setting `pad_token_id` to `eos_token_id`:2 for open-end generation.\n",
            " 47%|████▋     | 47/101 [14:49<12:31, 13.91s/it]The attention mask and the pad token id were not set. As a consequence, you may observe unexpected behavior. Please pass your input's `attention_mask` to obtain reliable results.\n",
            "Setting `pad_token_id` to `eos_token_id`:2 for open-end generation.\n",
            " 48%|████▊     | 48/101 [15:11<14:31, 16.44s/it]The attention mask and the pad token id were not set. As a consequence, you may observe unexpected behavior. Please pass your input's `attention_mask` to obtain reliable results.\n",
            "Setting `pad_token_id` to `eos_token_id`:2 for open-end generation.\n",
            " 49%|████▊     | 49/101 [15:34<15:57, 18.41s/it]The attention mask and the pad token id were not set. As a consequence, you may observe unexpected behavior. Please pass your input's `attention_mask` to obtain reliable results.\n",
            "Setting `pad_token_id` to `eos_token_id`:2 for open-end generation.\n",
            " 50%|████▉     | 50/101 [15:47<14:10, 16.67s/it]The attention mask and the pad token id were not set. As a consequence, you may observe unexpected behavior. Please pass your input's `attention_mask` to obtain reliable results.\n",
            "Setting `pad_token_id` to `eos_token_id`:2 for open-end generation.\n",
            " 50%|█████     | 51/101 [16:05<14:14, 17.08s/it]The attention mask and the pad token id were not set. As a consequence, you may observe unexpected behavior. Please pass your input's `attention_mask` to obtain reliable results.\n",
            "Setting `pad_token_id` to `eos_token_id`:2 for open-end generation.\n",
            " 51%|█████▏    | 52/101 [16:17<12:40, 15.52s/it]The attention mask and the pad token id were not set. As a consequence, you may observe unexpected behavior. Please pass your input's `attention_mask` to obtain reliable results.\n",
            "Setting `pad_token_id` to `eos_token_id`:2 for open-end generation.\n",
            " 52%|█████▏    | 53/101 [16:29<11:39, 14.56s/it]The attention mask and the pad token id were not set. As a consequence, you may observe unexpected behavior. Please pass your input's `attention_mask` to obtain reliable results.\n",
            "Setting `pad_token_id` to `eos_token_id`:2 for open-end generation.\n",
            " 53%|█████▎    | 54/101 [16:42<11:00, 14.06s/it]The attention mask and the pad token id were not set. As a consequence, you may observe unexpected behavior. Please pass your input's `attention_mask` to obtain reliable results.\n",
            "Setting `pad_token_id` to `eos_token_id`:2 for open-end generation.\n",
            " 54%|█████▍    | 55/101 [16:54<10:22, 13.53s/it]The attention mask and the pad token id were not set. As a consequence, you may observe unexpected behavior. Please pass your input's `attention_mask` to obtain reliable results.\n",
            "Setting `pad_token_id` to `eos_token_id`:2 for open-end generation.\n",
            " 55%|█████▌    | 56/101 [17:17<12:20, 16.46s/it]The attention mask and the pad token id were not set. As a consequence, you may observe unexpected behavior. Please pass your input's `attention_mask` to obtain reliable results.\n",
            "Setting `pad_token_id` to `eos_token_id`:2 for open-end generation.\n",
            " 56%|█████▋    | 57/101 [17:41<13:37, 18.59s/it]The attention mask and the pad token id were not set. As a consequence, you may observe unexpected behavior. Please pass your input's `attention_mask` to obtain reliable results.\n",
            "Setting `pad_token_id` to `eos_token_id`:2 for open-end generation.\n",
            " 57%|█████▋    | 58/101 [17:54<12:03, 16.82s/it]The attention mask and the pad token id were not set. As a consequence, you may observe unexpected behavior. Please pass your input's `attention_mask` to obtain reliable results.\n",
            "Setting `pad_token_id` to `eos_token_id`:2 for open-end generation.\n",
            " 58%|█████▊    | 59/101 [18:06<10:55, 15.61s/it]The attention mask and the pad token id were not set. As a consequence, you may observe unexpected behavior. Please pass your input's `attention_mask` to obtain reliable results.\n",
            "Setting `pad_token_id` to `eos_token_id`:2 for open-end generation.\n",
            " 59%|█████▉    | 60/101 [18:28<11:56, 17.49s/it]The attention mask and the pad token id were not set. As a consequence, you may observe unexpected behavior. Please pass your input's `attention_mask` to obtain reliable results.\n",
            "Setting `pad_token_id` to `eos_token_id`:2 for open-end generation.\n",
            " 60%|██████    | 61/101 [18:51<12:40, 19.01s/it]The attention mask and the pad token id were not set. As a consequence, you may observe unexpected behavior. Please pass your input's `attention_mask` to obtain reliable results.\n",
            "Setting `pad_token_id` to `eos_token_id`:2 for open-end generation.\n",
            " 61%|██████▏   | 62/101 [19:09<12:11, 18.77s/it]The attention mask and the pad token id were not set. As a consequence, you may observe unexpected behavior. Please pass your input's `attention_mask` to obtain reliable results.\n",
            "Setting `pad_token_id` to `eos_token_id`:2 for open-end generation.\n",
            " 62%|██████▏   | 63/101 [19:37<13:35, 21.45s/it]The attention mask and the pad token id were not set. As a consequence, you may observe unexpected behavior. Please pass your input's `attention_mask` to obtain reliable results.\n",
            "Setting `pad_token_id` to `eos_token_id`:2 for open-end generation.\n",
            " 63%|██████▎   | 64/101 [19:59<13:22, 21.69s/it]The attention mask and the pad token id were not set. As a consequence, you may observe unexpected behavior. Please pass your input's `attention_mask` to obtain reliable results.\n",
            "Setting `pad_token_id` to `eos_token_id`:2 for open-end generation.\n",
            " 64%|██████▍   | 65/101 [20:12<11:28, 19.12s/it]The attention mask and the pad token id were not set. As a consequence, you may observe unexpected behavior. Please pass your input's `attention_mask` to obtain reliable results.\n",
            "Setting `pad_token_id` to `eos_token_id`:2 for open-end generation.\n",
            " 65%|██████▌   | 66/101 [20:25<09:59, 17.14s/it]The attention mask and the pad token id were not set. As a consequence, you may observe unexpected behavior. Please pass your input's `attention_mask` to obtain reliable results.\n",
            "Setting `pad_token_id` to `eos_token_id`:2 for open-end generation.\n",
            " 66%|██████▋   | 67/101 [20:44<10:00, 17.65s/it]The attention mask and the pad token id were not set. As a consequence, you may observe unexpected behavior. Please pass your input's `attention_mask` to obtain reliable results.\n",
            "Setting `pad_token_id` to `eos_token_id`:2 for open-end generation.\n",
            " 67%|██████▋   | 68/101 [20:57<09:05, 16.52s/it]The attention mask and the pad token id were not set. As a consequence, you may observe unexpected behavior. Please pass your input's `attention_mask` to obtain reliable results.\n",
            "Setting `pad_token_id` to `eos_token_id`:2 for open-end generation.\n",
            " 68%|██████▊   | 69/101 [21:10<08:09, 15.29s/it]The attention mask and the pad token id were not set. As a consequence, you may observe unexpected behavior. Please pass your input's `attention_mask` to obtain reliable results.\n",
            "Setting `pad_token_id` to `eos_token_id`:2 for open-end generation.\n",
            " 69%|██████▉   | 70/101 [21:35<09:25, 18.25s/it]The attention mask and the pad token id were not set. As a consequence, you may observe unexpected behavior. Please pass your input's `attention_mask` to obtain reliable results.\n",
            "Setting `pad_token_id` to `eos_token_id`:2 for open-end generation.\n",
            " 70%|███████   | 71/101 [21:52<09:00, 18.02s/it]The attention mask and the pad token id were not set. As a consequence, you may observe unexpected behavior. Please pass your input's `attention_mask` to obtain reliable results.\n",
            "Setting `pad_token_id` to `eos_token_id`:2 for open-end generation.\n",
            " 71%|███████▏  | 72/101 [22:18<09:44, 20.16s/it]The attention mask and the pad token id were not set. As a consequence, you may observe unexpected behavior. Please pass your input's `attention_mask` to obtain reliable results.\n",
            "Setting `pad_token_id` to `eos_token_id`:2 for open-end generation.\n",
            " 72%|███████▏  | 73/101 [22:46<10:30, 22.52s/it]The attention mask and the pad token id were not set. As a consequence, you may observe unexpected behavior. Please pass your input's `attention_mask` to obtain reliable results.\n",
            "Setting `pad_token_id` to `eos_token_id`:2 for open-end generation.\n",
            " 73%|███████▎  | 74/101 [23:09<10:12, 22.68s/it]The attention mask and the pad token id were not set. As a consequence, you may observe unexpected behavior. Please pass your input's `attention_mask` to obtain reliable results.\n",
            "Setting `pad_token_id` to `eos_token_id`:2 for open-end generation.\n",
            " 74%|███████▍  | 75/101 [23:27<09:11, 21.22s/it]The attention mask and the pad token id were not set. As a consequence, you may observe unexpected behavior. Please pass your input's `attention_mask` to obtain reliable results.\n",
            "Setting `pad_token_id` to `eos_token_id`:2 for open-end generation.\n",
            " 75%|███████▌  | 76/101 [23:44<08:25, 20.21s/it]The attention mask and the pad token id were not set. As a consequence, you may observe unexpected behavior. Please pass your input's `attention_mask` to obtain reliable results.\n",
            "Setting `pad_token_id` to `eos_token_id`:2 for open-end generation.\n",
            " 76%|███████▌  | 77/101 [24:02<07:42, 19.29s/it]The attention mask and the pad token id were not set. As a consequence, you may observe unexpected behavior. Please pass your input's `attention_mask` to obtain reliable results.\n",
            "Setting `pad_token_id` to `eos_token_id`:2 for open-end generation.\n",
            " 77%|███████▋  | 78/101 [24:14<06:37, 17.28s/it]The attention mask and the pad token id were not set. As a consequence, you may observe unexpected behavior. Please pass your input's `attention_mask` to obtain reliable results.\n",
            "Setting `pad_token_id` to `eos_token_id`:2 for open-end generation.\n",
            " 78%|███████▊  | 79/101 [24:27<05:48, 15.84s/it]The attention mask and the pad token id were not set. As a consequence, you may observe unexpected behavior. Please pass your input's `attention_mask` to obtain reliable results.\n",
            "Setting `pad_token_id` to `eos_token_id`:2 for open-end generation.\n",
            " 79%|███████▉  | 80/101 [24:45<05:46, 16.48s/it]The attention mask and the pad token id were not set. As a consequence, you may observe unexpected behavior. Please pass your input's `attention_mask` to obtain reliable results.\n",
            "Setting `pad_token_id` to `eos_token_id`:2 for open-end generation.\n",
            " 80%|████████  | 81/101 [25:02<05:33, 16.70s/it]The attention mask and the pad token id were not set. As a consequence, you may observe unexpected behavior. Please pass your input's `attention_mask` to obtain reliable results.\n",
            "Setting `pad_token_id` to `eos_token_id`:2 for open-end generation.\n",
            " 81%|████████  | 82/101 [25:31<06:26, 20.35s/it]The attention mask and the pad token id were not set. As a consequence, you may observe unexpected behavior. Please pass your input's `attention_mask` to obtain reliable results.\n",
            "Setting `pad_token_id` to `eos_token_id`:2 for open-end generation.\n",
            " 82%|████████▏ | 83/101 [25:48<05:51, 19.50s/it]The attention mask and the pad token id were not set. As a consequence, you may observe unexpected behavior. Please pass your input's `attention_mask` to obtain reliable results.\n",
            "Setting `pad_token_id` to `eos_token_id`:2 for open-end generation.\n",
            " 83%|████████▎ | 84/101 [26:06<05:25, 19.12s/it]The attention mask and the pad token id were not set. As a consequence, you may observe unexpected behavior. Please pass your input's `attention_mask` to obtain reliable results.\n",
            "Setting `pad_token_id` to `eos_token_id`:2 for open-end generation.\n",
            " 84%|████████▍ | 85/101 [26:23<04:55, 18.49s/it]The attention mask and the pad token id were not set. As a consequence, you may observe unexpected behavior. Please pass your input's `attention_mask` to obtain reliable results.\n",
            "Setting `pad_token_id` to `eos_token_id`:2 for open-end generation.\n",
            " 85%|████████▌ | 86/101 [27:07<06:31, 26.13s/it]The attention mask and the pad token id were not set. As a consequence, you may observe unexpected behavior. Please pass your input's `attention_mask` to obtain reliable results.\n",
            "Setting `pad_token_id` to `eos_token_id`:2 for open-end generation.\n",
            " 86%|████████▌ | 87/101 [27:20<05:09, 22.13s/it]The attention mask and the pad token id were not set. As a consequence, you may observe unexpected behavior. Please pass your input's `attention_mask` to obtain reliable results.\n",
            "Setting `pad_token_id` to `eos_token_id`:2 for open-end generation.\n",
            " 87%|████████▋ | 88/101 [27:38<04:32, 20.94s/it]The attention mask and the pad token id were not set. As a consequence, you may observe unexpected behavior. Please pass your input's `attention_mask` to obtain reliable results.\n",
            "Setting `pad_token_id` to `eos_token_id`:2 for open-end generation.\n",
            " 88%|████████▊ | 89/101 [27:51<03:40, 18.36s/it]The attention mask and the pad token id were not set. As a consequence, you may observe unexpected behavior. Please pass your input's `attention_mask` to obtain reliable results.\n",
            "Setting `pad_token_id` to `eos_token_id`:2 for open-end generation.\n",
            " 89%|████████▉ | 90/101 [28:08<03:18, 18.01s/it]The attention mask and the pad token id were not set. As a consequence, you may observe unexpected behavior. Please pass your input's `attention_mask` to obtain reliable results.\n",
            "Setting `pad_token_id` to `eos_token_id`:2 for open-end generation.\n",
            " 90%|█████████ | 91/101 [28:26<03:00, 18.04s/it]The attention mask and the pad token id were not set. As a consequence, you may observe unexpected behavior. Please pass your input's `attention_mask` to obtain reliable results.\n",
            "Setting `pad_token_id` to `eos_token_id`:2 for open-end generation.\n",
            " 91%|█████████ | 92/101 [28:44<02:41, 17.95s/it]The attention mask and the pad token id were not set. As a consequence, you may observe unexpected behavior. Please pass your input's `attention_mask` to obtain reliable results.\n",
            "Setting `pad_token_id` to `eos_token_id`:2 for open-end generation.\n",
            " 92%|█████████▏| 93/101 [29:01<02:22, 17.87s/it]The attention mask and the pad token id were not set. As a consequence, you may observe unexpected behavior. Please pass your input's `attention_mask` to obtain reliable results.\n",
            "Setting `pad_token_id` to `eos_token_id`:2 for open-end generation.\n",
            " 93%|█████████▎| 94/101 [29:14<01:53, 16.15s/it]The attention mask and the pad token id were not set. As a consequence, you may observe unexpected behavior. Please pass your input's `attention_mask` to obtain reliable results.\n",
            "Setting `pad_token_id` to `eos_token_id`:2 for open-end generation.\n",
            " 94%|█████████▍| 95/101 [29:31<01:39, 16.65s/it]The attention mask and the pad token id were not set. As a consequence, you may observe unexpected behavior. Please pass your input's `attention_mask` to obtain reliable results.\n",
            "Setting `pad_token_id` to `eos_token_id`:2 for open-end generation.\n",
            " 95%|█████████▌| 96/101 [29:49<01:24, 16.93s/it]The attention mask and the pad token id were not set. As a consequence, you may observe unexpected behavior. Please pass your input's `attention_mask` to obtain reliable results.\n",
            "Setting `pad_token_id` to `eos_token_id`:2 for open-end generation.\n",
            " 96%|█████████▌| 97/101 [30:06<01:07, 16.99s/it]The attention mask and the pad token id were not set. As a consequence, you may observe unexpected behavior. Please pass your input's `attention_mask` to obtain reliable results.\n",
            "Setting `pad_token_id` to `eos_token_id`:2 for open-end generation.\n",
            " 97%|█████████▋| 98/101 [30:25<00:52, 17.58s/it]The attention mask and the pad token id were not set. As a consequence, you may observe unexpected behavior. Please pass your input's `attention_mask` to obtain reliable results.\n",
            "Setting `pad_token_id` to `eos_token_id`:2 for open-end generation.\n",
            " 98%|█████████▊| 99/101 [30:43<00:35, 17.66s/it]The attention mask and the pad token id were not set. As a consequence, you may observe unexpected behavior. Please pass your input's `attention_mask` to obtain reliable results.\n",
            "Setting `pad_token_id` to `eos_token_id`:2 for open-end generation.\n",
            " 99%|█████████▉| 100/101 [31:00<00:17, 17.64s/it]The attention mask and the pad token id were not set. As a consequence, you may observe unexpected behavior. Please pass your input's `attention_mask` to obtain reliable results.\n",
            "Setting `pad_token_id` to `eos_token_id`:2 for open-end generation.\n",
            "100%|██████████| 101/101 [31:19<00:00, 18.61s/it]"
          ]
        },
        {
          "output_type": "stream",
          "name": "stdout",
          "text": [
            "[\"{'Develop script': {'next_modes': ['Create storyboard'], 'failure': ['Retry', 'Exit', 'Fallback Content', 'Request Human Intervention']}, 'Create storyboard': {'next_modes': ['Film video'], 'failure': ['Retry', 'Switch to Different Mode', 'Log and Analyze', 'Quality Assurance Check']}, 'Film video': {'next_modes': ['Edit video'], 'failure': ['Retry', 'Exit', 'Partial Content Delivery', 'Mode Optimization']}, 'Edit video': {'next_modes': ['Analyzer'], 'failure': ['Retry', 'Exit', 'Quality Assurance Check', 'Alternative Data Sources']}, 'Analyzer': {'next_modes': [], 'failure': None}}</s>\", \"{'Analyze social media trends': {'next_modes': ['Develop memes'], 'failure': ['Retry', 'Exit', 'Fallback Content', 'Log and Analyze']}, 'Develop memes': {'next_modes': ['Analyzer'], 'failure': ['Retry', 'Switch to Different Mode', 'Quality Assurance Check', 'Alternative Data Sources']}, 'Analyzer': {'next_modes': [], 'failure': None}}</s>\", \"{'Write a science fiction short story': {'next_modes': ['Convert into a screenplay'], 'failure': ['Retry', 'Exit', 'Fallback Content', 'Request Human Intervention']}, 'Convert into a screenplay': {'next_modes': ['Produce a short film'], 'failure': ['Retry', 'Switch to Different Mode', 'Log and Analyze', 'Quality Assurance Check']}, 'Produce a short film': {'next_modes': ['Analyzer'], 'failure': ['Retry', 'Exit', 'Partial Content Delivery', 'Mode Optimization']}, 'Analyzer': {'next_modes': [], 'failure': None}}</s>\", \"{'Write a short story': {'next_modes': ['Adapt into a screenplay'], 'failure': ['Retry', 'Exit', 'Fallback Content', 'Request Human Intervention']}, 'Adapt into a screenplay': {'next_modes': ['Produce a short film'], 'failure': ['Retry', 'Switch to Different Mode', 'Log and Analyze', 'Quality Assurance Check']}, 'Produce a short film': {'next_modes': ['Analyzer'], 'failure': ['Retry', 'Exit', 'Partial Content Delivery', 'Mode Optimization']}, 'Analyzer': {'next_modes': [], 'failure': None}}</s>\", \"{'Analyze reviews': {'next_modes': ['Implement changes', 'Measure impact'], 'failure': ['Retry', 'Exit', 'Fallback Content', 'Log and Analyze']}, 'Implement changes': {'next_modes': ['Analyzer'], 'failure': ['Retry', 'Request Human Intervention', 'Quality Assurance Check', 'Partial Content Delivery']}, 'Measure impact': {'next_modes': ['Analyzer'], 'failure': ['Retry', 'Switch to Different Mode', 'Alternative Data Sources', 'Mode Optimization']}, 'Analyzer': {'next_modes': [], 'failure': None}}</s>\", \"{'Set up website': {'next_modes': ['Schedule speakers', 'Stream event live'], 'failure': ['Retry', 'Exit', 'Fallback Content', 'Log and Analyze']}, 'Schedule speakers': {'next_modes': ['Stream event live'], 'failure': ['Retry', 'Request Human Intervention', 'Quality Assurance Check', 'Mode Optimization']}, 'Stream event live': {'next_modes': ['Analyzer'], 'failure': ['Retry', 'Switch to Different Mode', 'Partial Content Delivery', 'Alternative Data Sources']}, 'Analyzer': {'next_modes': [], 'failure': None}}</s>\", \"{'List ingredients': {'next_modes': ['Gather tools', 'Bake cake'], 'failure': ['Retry', 'Exit', 'Fallback Content', 'Request Human Intervention']}, 'Gather tools': {'next_modes': ['Bake cake'], 'failure': ['Retry', 'Switch to Different Mode', 'Log and Analyze', 'Quality Assurance Check']}, 'Bake cake': {'next_modes': ['Decorate cake'], 'failure': ['Retry', 'Exit', 'Partial Content Delivery', 'Mode Optimization']}, 'Decorate cake': {'next_modes': ['Analyzer'], 'failure': ['Retry', 'Exit', 'Quality Assurance Check', 'Alternative Data Sources']}, 'Analyzer': {'next_modes': [], 'failure': None}}</s>\", \"{'Narrate script': {'next_modes': ['Edit recording'], 'failure': ['Retry', 'Exit', 'Fallback Content', 'Request Human Intervention']}, 'Edit recording': {'next_modes': ['Analyzer'], 'failure': ['Retry', 'Switch to Different Mode', 'Quality Assurance Check', 'Log and Analyze']}, 'Analyzer': {'next_modes': [], 'failure': None}}</s>\", \"{'Create social media posts': {'next_modes': ['Produce informative video', 'Organize live Q&A session'], 'failure': ['Retry', 'Exit', 'Fallback Content', 'Log and Analyze']}, 'Produce informative video': {'next_modes': ['Analyzer'], 'failure': ['Retry', 'Request Human Intervention', 'Quality Assurance Check', 'Mode Optimization']}, 'Organize live Q&A session': {'next_modes': ['Analyzer'], 'failure': ['Retry', 'Switch to Different Mode', 'Partial Content Delivery', 'Alternative Data Sources']}, 'Analyzer': {'next_modes': [], 'failure': None}}</s>\", \"{'Compile report': {'next_modes': ['Create infographic', 'Write analysis'], 'failure': ['Retry', 'Exit', 'Fallback Content', 'Log and Analyze']}, 'Create infographic': {'next_modes': ['Analyzer'], 'failure': ['Retry', 'Switch to Different Mode', 'Quality Assurance Check', 'Alternative Data Sources']}, 'Write analysis': {'next_modes': ['Analyzer'], 'failure': ['Retry', 'Request Human Intervention', 'Partial Content Delivery', 'Mode Optimization']}, 'Analyzer': {'next_modes': [], 'failure': None}}</s>\", \"{'Design VR tour': {'next_modes': ['Record audio descriptions', 'Add interactive elements'], 'failure': ['Retry', 'Exit', 'Fallback Content', 'Request Human Intervention']}, 'Record audio descriptions': {'next_modes': ['Analyzer'], 'failure': ['Retry', 'Switch to Different Mode', 'Quality Assurance Check', 'Log and Analyze']}, 'Add interactive elements': {'next_modes': ['Analyzer'], 'failure': ['Retry', 'Exit', 'Partial Content Delivery', 'Mode Optimization']}, 'Analyzer': {'next_modes': [], 'failure': None}}</s>\", \"{'Translate book': {'next_modes': ['Create audiobook'], 'failure': ['Retry', 'Exit', 'Fallback Content', 'Request Human Intervention']}, 'Create audiobook': {'next_modes': ['Analyzer'], 'failure': ['Retry', 'Switch to Different Mode', 'Quality Assurance Check', 'Log and Analyze']}, 'Analyzer': {'next_modes': [], 'failure': None}}</s>\", \"{'Select fairy tale': {'next_modes': ['Write story', 'Create illustrations'], 'failure': ['Retry', 'Exit', 'Fallback Content', 'Request Human Intervention']}, 'Write story': {'next_modes': ['Record narration', 'Design ebook layout'], 'failure': ['Retry', 'Switch to Different Mode', 'Log and Analyze', 'Quality Assurance Check']}, 'Create illustrations': {'next_modes': ['Animate illustrations'], 'failure': ['Retry', 'Request Human Intervention', 'Partial Content Delivery', 'Alternative Data Sources']}, 'Animate illustrations': {'next_modes': ['Integrate narration and illustrations'], 'failure': ['Retry', 'Exit', 'Quality Assurance Check', 'Mode Optimization']}, 'Record narration': {'next_modes': ['Integrate narration and illustrations'], 'failure': ['Retry', 'Switch to Different Mode', 'Fallback Content', 'Request Human Intervention']}, 'Design ebook layout': {'next_modes': ['Integrate narration and illustrations'], 'failure': ['Retry', 'Exit', 'Log and Analyze', 'Quality Assurance Check']}, 'Integrate narration and illustrations': {'next_modes': ['Analyzer'], 'failure': ['Retry', 'Exit', 'Log and Analyze', 'Partial Content Delivery']}, 'Analyzer': {'next_modes': [], 'failure': None}}</s>\", \"{'Analyze data': {'next_modes': ['Create report', 'Summarize findings'], 'failure': ['Retry', 'Exit', 'Fallback Content', 'Log and Analyze']}, 'Create report': {'next_modes': ['Summarize findings'], 'failure': ['Retry', 'Request Human Intervention', 'Quality Assurance Check', 'Alternative Data Sources']}, 'Summarize findings': {'next_modes': ['Analyzer'], 'failure': ['Retry', 'Exit', 'Partial Content Delivery', 'Mode Optimization']}, 'Analyzer': {'next_modes': [], 'failure': None}}</s>\", \"{'Develop app': {'next_modes': ['Integrate speech recognition', 'Support multiple languages'], 'failure': ['Retry', 'Exit', 'Fallback Content', 'Log and Analyze']}, 'Integrate speech recognition': {'next_modes': ['Save texts in digital notebook'], 'failure': ['Retry', 'Switch to Different Mode', 'Quality Assurance Check', 'Alternative Data Sources']}, 'Support multiple languages': {'next_modes': ['Save texts in digital notebook'], 'failure': ['Retry', 'Exit', 'Request Human Intervention', 'Partial Content Delivery']}, 'Save texts in digital notebook': {'next_modes': ['Analyzer'], 'failure': ['Retry', 'Exit', 'Log and Analyze', 'Mode Optimization']}, 'Analyzer': {'next_modes': [], 'failure': None}}</s>\", \"{'Design game concept': {'next_modes': ['Develop game mechanics', 'Create game art'], 'failure': ['Retry', 'Exit', 'Fallback Content', 'Request Human Intervention']}, 'Develop game mechanics': {'next_modes': ['Integrate game components'], 'failure': ['Retry', 'Switch to Different Mode', 'Log and Analyze', 'Quality Assurance Check']}, 'Create game art': {'next_modes': ['Integrate game components'], 'failure': ['Retry', 'Request Human Intervention', 'Partial Content Delivery', 'Alternative Data Sources']}, 'Integrate game components': {'next_modes': ['Analyzer'], 'failure': ['Retry', 'Exit', 'Mode Optimization', 'Graceful Degradation']}, 'Analyzer': {'next_modes': [], 'failure': None}}</s>\", \"{'Design workout routine': {'next_modes': ['Create nutritional guide', 'Develop meditation track'], 'failure': ['Retry', 'Exit', 'Fallback Content', 'Request Human Intervention']}, 'Create nutritional guide': {'next_modes': ['Analyzer'], 'failure': ['Retry', 'Switch to Different Mode', 'Quality Assurance Check', 'Log and Analyze']}, 'Develop meditation track': {'next_modes': ['Analyzer'], 'failure': ['Retry', 'Exit', 'Alternative Data Sources', 'Mode Optimization']}, 'Analyzer': {'next_modes': [], 'failure': None}}</s>\", \"{'Create multi-course meal': {'next_modes': ['Photograph dishes'], 'failure': ['Retry', 'Exit', 'Fallback Content', 'Request Human Intervention']}, 'Photograph dishes': {'next_modes': ['Write cookbook'], 'failure': ['Retry', 'Switch to Different Mode', 'Quality Assurance Check', 'Log and Analyze']}, 'Write cookbook': {'next_modes': ['Analyzer'], 'failure': ['Retry', 'Exit', 'Partial Content Delivery', 'Mode Optimization']}, 'Analyzer': {'next_modes': [], 'failure': None}}</s>\", \"{'Write script': {'next_modes': ['Record voiceover', 'Edit video'], 'failure': ['Retry', 'Exit', 'Fallback Content', 'Request Human Intervention']}, 'Record voiceover': {'next_modes': ['Edit video'], 'failure': ['Retry', 'Switch to Different Mode', 'Quality Assurance Check', 'Alternative Data Sources']}, 'Edit video': {'next_modes': ['Publish video'], 'failure': ['Retry', 'Exit', 'Log and Analyze', 'Partial Content Delivery']}, 'Publish video': {'next_modes': ['Analyzer'], 'failure': ['Retry', 'Exit', 'Mode Optimization', 'Quality Assurance Check']}, 'Analyzer': {'next_modes': [], 'failure': None}}</s>\", \"{'Plan episodes': {'next_modes': ['Conduct interviews', 'Edit episodes'], 'failure': ['Retry', 'Exit', 'Fallback Content', 'Log and Analyze']}, 'Conduct interviews': {'next_modes': ['Edit episodes'], 'failure': ['Retry', 'Request Human Intervention', 'Quality Assurance Check', 'Mode Optimization']}, 'Edit episodes': {'next_modes': ['Publish on platforms'], 'failure': ['Retry', 'Switch to Different Mode', 'Partial Content Delivery', 'Alternative Data Sources']}, 'Publish on platforms': {'next_modes': ['Analyzer'], 'failure': ['Retry', 'Exit', 'Log and Analyze', 'Quality Assurance Check']}, 'Analyzer': {'next_modes': [], 'failure': None}}</s>\", \"{'Research jazz history': {'next_modes': ['Conduct interviews', 'Record podcast episode'], 'failure': ['Retry', 'Exit', 'Fallback Content', 'Request Human Intervention']}, 'Conduct interviews': {'next_modes': ['Record podcast episode'], 'failure': ['Retry', 'Switch to Different Mode', 'Quality Assurance Check', 'Alternative Data Sources']}, 'Record podcast episode': {'next_modes': ['Write blog post'], 'failure': ['Retry', 'Exit', 'Log and Analyze', 'Partial Content Delivery']}, 'Write blog post': {'next_modes': ['Analyzer'], 'failure': ['Retry', 'Exit', 'Quality Assurance Check', 'Mode Optimization']}, 'Analyzer': {'next_modes': [], 'failure': None}}</s>\", \"{'Record screen': {'next_modes': ['Record voice-over', 'Write FAQ'], 'failure': ['Retry', 'Exit', 'Fallback Content', 'Request Human Intervention']}, 'Record voice-over': {'next_modes': ['Edit video'], 'failure': ['Retry', 'Switch to Different Mode', 'Quality Assurance Check', 'Log and Analyze']}, 'Write FAQ': {'next_modes': ['Edit video'], 'failure': ['Retry', 'Exit', 'Alternative Data Sources', 'Partial Content Delivery']}, 'Edit video': {'next_modes': ['Analyzer'], 'failure': ['Retry', 'Exit', 'Quality Assurance Check', 'Mode Optimization']}, 'Analyzer': {'next_modes': [], 'failure': None}}</s>\", \"{'Generate forest soundscape': {'next_modes': ['Write story'], 'failure': ['Retry', 'Exit', 'Fallback Content', 'Request Human Intervention']}, 'Write story': {'next_modes': ['Analyzer'], 'failure': ['Retry', 'Switch to Different Mode', 'Quality Assurance Check', 'Log and Analyze']}, 'Analyzer': {'next_modes': [], 'failure': None}}</s>\", \"{'Research jazz history': {'next_modes': ['Record music clips', 'Write narrative story'], 'failure': ['Retry', 'Exit', 'Fallback Content', 'Request Human Intervention']}, 'Record music clips': {'next_modes': ['Edit music clips'], 'failure': ['Retry', 'Switch to Different Mode', 'Quality Assurance Check', 'Partial Content Delivery']}, 'Write narrative story': {'next_modes': ['Edit narrative story'], 'failure': ['Retry', 'Exit', 'Log and Analyze', 'Alternative Data Sources']}, 'Edit music clips': {'next_modes': ['Edit narrative story'], 'failure': ['Retry', 'Exit', 'Quality Assurance Check', 'Mode Optimization']}, 'Edit narrative story': {'next_modes': ['Analyzer'], 'failure': ['Retry', 'Exit', 'Log and Analyze', 'Request Human Intervention']}, 'Interview musicians': {'next_modes': ['Edit narrative story'], 'failure': ['Retry', 'Exit', 'Quality Assurance Check', 'Partial Content Delivery']}, 'Analyzer': {'next_modes': [], 'failure': None}}</s>\", \"{'Translate story': {'next_modes': ['Convert to script'], 'failure': ['Retry', 'Exit', 'Fallback Content', 'Request Human Intervention']}, 'Convert to script': {'next_modes': ['Produce voiceover'], 'failure': ['Retry', 'Switch to Different Mode', 'Log and Analyze', 'Quality Assurance Check']}, 'Produce voiceover': {'next_modes': ['Analyzer'], 'failure': ['Retry', 'Exit', 'Partial Content Delivery', 'Mode Optimization']}, 'Analyzer': {'next_modes': [], 'failure': None}}</s>\", \"{'Record natural soundscapes': {'next_modes': ['Compose meditation script'], 'failure': ['Retry', 'Exit', 'Fallback Content', 'Request Human Intervention']}, 'Compose meditation script': {'next_modes': ['Record meditation script'], 'failure': ['Retry', 'Switch to Different Mode', 'Log and Analyze', 'Quality Assurance Check']}, 'Record meditation script': {'next_modes': ['Edit audio track'], 'failure': ['Retry', 'Exit', 'Fallback Content', 'Partial Content Delivery']}, 'Edit audio track': {'next_modes': ['Analyzer'], 'failure': ['Retry', 'Exit', 'Quality Assurance Check', 'Mode Optimization']}, 'Analyzer': {'next_modes': [], 'failure': None}}</s>\", \"{'Create tutorial video': {'next_modes': ['Write reflective essay'], 'failure': ['Retry', 'Exit', 'Fallback Content', 'Request Human Intervention']}, 'Write reflective essay': {'next_modes': ['Analyzer'], 'failure': ['Retry', 'Switch to Different Mode', 'Quality Assurance Check', 'Log and Analyze']}, 'Analyzer': {'next_modes': [], 'failure': None}}</s>\", \"{'Design logo': {'next_modes': ['Animate logo'], 'failure': ['Retry', 'Exit', 'Fallback Content', 'Request Human Intervention']}, 'Animate logo': {'next_modes': ['Write blog post'], 'failure': ['Retry', 'Switch to Different Mode', 'Quality Assurance Check', 'Alternative Data Sources']}, 'Write blog post': {'next_modes': ['Analyzer'], 'failure': ['Retry', 'Exit', 'Log and Analyze', 'Mode Optimization']}, 'Analyzer': {'next_modes': [], 'failure': None}}</s>\", \"{'Analyze social media trends': {'next_modes': ['Create infographics'], 'failure': ['Retry', 'Exit', 'Fallback Content', 'Log and Analyze']}, 'Create infographics': {'next_modes': ['Publish on various platforms'], 'failure': ['Retry', 'Switch to Different Mode', 'Quality Assurance Check', 'Alternative Data Sources']}, 'Publish on various platforms': {'next_modes': ['Analyzer'], 'failure': ['Retry', 'Exit', 'Log and Analyze', 'Partial Content Delivery']}, 'Analyzer': {'next_modes': [], 'failure': None}}</s>\", \"{'Write review': {'next_modes': ['Collect specs', 'Gather user experience insights'], 'failure': ['Retry', 'Exit', 'Fallback Content', 'Log and Analyze']}, 'Collect specs': {'next_modes': ['Analyzer'], 'failure': ['Retry', 'Request Human Intervention', 'Quality Assurance Check', 'Alternative Data Sources']}, 'Gather user experience insights': {'next_modes': ['Analyzer'], 'failure': ['Retry', 'Switch to Different Mode', 'Partial Content Delivery', 'Mode Optimization']}, 'Analyzer': {'next_modes': [], 'failure': None}}</s>\", \"{'Collect climate change data': {'next_modes': ['Design infographic'], 'failure': ['Retry', 'Exit', 'Fallback Content', 'Log and Analyze']}, 'Design infographic': {'next_modes': ['Write summary article'], 'failure': ['Retry', 'Switch to Different Mode', 'Request Human Intervention', 'Quality Assurance Check']}, 'Write summary article': {'next_modes': ['Analyzer'], 'failure': ['Retry', 'Exit', 'Partial Content Delivery', 'Mode Optimization']}, 'Analyzer': {'next_modes': [], 'failure': None}}</s>\", \"{'Select paintings': {'next_modes': ['Create digital renditions', 'Write historical analysis'], 'failure': ['Retry', 'Exit', 'Fallback Content', 'Request Human Intervention']}, 'Create digital renditions': {'next_modes': ['Design interactive guide'], 'failure': ['Retry', 'Switch to Different Mode', 'Quality Assurance Check', 'Alternative Data Sources']}, 'Write historical analysis': {'next_modes': ['Design interactive guide'], 'failure': ['Retry', 'Exit', 'Log and Analyze', 'Partial Content Delivery']}, 'Design interactive guide': {'next_modes': ['Analyzer'], 'failure': ['Retry', 'Exit', 'Quality Assurance Check', 'Mode Optimization']}, 'Analyzer': {'next_modes': [], 'failure': None}}</s>\", \"{'Analyze social media trends': {'next_modes': ['Create targeted advertising campaign'], 'failure': ['Retry', 'Exit', 'Fallback Content', 'Log and Analyze']}, 'Create targeted advertising campaign': {'next_modes': ['Produce video ad'], 'failure': ['Retry', 'Request Human Intervention', 'Quality Assurance Check', 'Alternative Data Sources']}, 'Produce video ad': {'next_modes': ['Disseminate video ad'], 'failure': ['Retry', 'Switch to Different Mode', 'Partial Content Delivery', 'Mode Optimization']}, 'Disseminate video ad': {'next_modes': ['Analyzer'], 'failure': ['Retry', 'Exit', 'Log and Analyze', 'Quality Assurance Check']}, 'Analyzer': {'next_modes': [], 'failure': None}}</s>\", \"{'Develop VR tour': {'next_modes': ['Write educational guide'], 'failure': ['Retry', 'Exit', 'Fallback Content', 'Request Human Intervention']}, 'Write educational guide': {'next_modes': ['Analyzer'], 'failure': ['Retry', 'Switch to Different Mode', 'Quality Assurance Check', 'Log and Analyze']}, 'Analyzer': {'next_modes': [], 'failure': None}}</s>\", '{\\n\"Write a science fiction short story\": {\\n\"next_modes\": [\"Adapt into a script\", \"Produce a trailer\"],\\n\"failure\": [\"Retry\", \"Exit\", \"Fallback Content\", \"Request Human Intervention\"]\\n},\\n\"Adapt into a script\": {\\n\"next_modes\": [\"Produce a trailer\"],\\n\"failure\": [\"Retry\", \"Switch to Different Mode\", \"Log and Analyze\", \"Quality Assurance Check\"]\\n},\\n\"Produce a trailer\": {\\n\"next_modes\": [\"Analyzer\"],\\n\"failure\": [\"Retry\", \"Exit\", \"Partial Content Delivery\", \"Mode Optimization\"]\\n},\\n\"Analyzer\": {\\n\"next_modes\": [],\\n\"failure\": None\\n}</s>', \"{'Curate art pieces': {'next_modes': ['Design VR environment', 'Prepare traditional art'], 'failure': ['Retry', 'Exit', 'Fallback Content', 'Request Human Intervention']}, 'Design VR environment': {'next_modes': ['Integrate digital art'], 'failure': ['Retry', 'Switch to Different Mode', 'Quality Assurance Check', 'Partial Content Delivery']}, 'Prepare traditional art': {'next_modes': ['Integrate traditional art'], 'failure': ['Retry', 'Exit', 'Log and Analyze', 'Alternative Data Sources']}, 'Integrate digital art': {'next_modes': ['Integrate traditional art'], 'failure': ['Retry', 'Exit', 'Quality Assurance Check', 'Mode Optimization']}, 'Integrate traditional art': {'next_modes': ['Analyzer'], 'failure': ['Retry', 'Exit', 'Log and Analyze', 'Graceful Degradation']}, 'Analyzer': {'next_modes': [], 'failure': None}}</s>\", \"{'Design logo': {'next_modes': ['Create promotional video'], 'failure': ['Retry', 'Exit', 'Fallback Content', 'Request Human Intervention']}, 'Create promotional video': {'next_modes': ['Analyzer'], 'failure': ['Retry', 'Switch to Different Mode', 'Quality Assurance Check', 'Alternative Data Sources']}, 'Analyzer': {'next_modes': [], 'failure': None}}</s>\", \"{'Research traditional cuisines': {'next_modes': ['Write blog posts'], 'failure': ['Retry', 'Exit', 'Fallback Content', 'Request Human Intervention']}, 'Write blog posts': {'next_modes': ['Create cooking videos'], 'failure': ['Retry', 'Switch to Different Mode', 'Quality Assurance Check', 'Partial Content Delivery']}, 'Create cooking videos': {'next_modes': ['Analyzer'], 'failure': ['Retry', 'Exit', 'Log and Analyze', 'Mode Optimization']}, 'Analyzer': {'next_modes': [], 'failure': None}}</s>\", \"{'Plan episodes': {'next_modes': ['Conduct interviews', 'Record podcast'], 'failure': ['Retry', 'Exit', 'Fallback Content', 'Log and Analyze']}, 'Conduct interviews': {'next_modes': ['Record podcast'], 'failure': ['Retry', 'Request Human Intervention', 'Quality Assurance Check', 'Mode Optimization']}, 'Record podcast': {'next_modes': ['Edit podcast'], 'failure': ['Retry', 'Switch to Different Mode', 'Partial Content Delivery', 'Alternative Data Sources']}, 'Edit podcast': {'next_modes': ['Analyzer'], 'failure': ['Retry', 'Exit', 'Quality Assurance Check', 'Mode Optimization']}, 'Analyzer': {'next_modes': [], 'failure': None}}</s>\", \"{'Outline video series': {'next_modes': ['Script writing', 'Video recording'], 'failure': ['Retry', 'Exit', 'Fallback Content', 'Request Human Intervention']}, 'Script writing': {'next_modes': ['Video recording'], 'failure': ['Retry', 'Switch to Different Mode', 'Quality Assurance Check', 'Alternative Data Sources']}, 'Video recording': {'next_modes': ['Video editing'], 'failure': ['Retry', 'Exit', 'Log and Analyze', 'Partial Content Delivery']}, 'Video editing': {'next_modes': ['Analyzer'], 'failure': ['Retry', 'Exit', 'Quality Assurance Check', 'Mode Optimization']}, 'Analyzer': {'next_modes': [], 'failure': None}}</s>\", \"{'Develop VR tour': {'next_modes': ['Craft interactive elements'], 'failure': ['Retry', 'Exit', 'Fallback Content', 'Log and Analyze']}, 'Craft interactive elements': {'next_modes': ['Analyzer'], 'failure': ['Retry', 'Switch to Different Mode', 'Quality Assurance Check', 'Partial Content Delivery']}, 'Analyzer': {'next_modes': [], 'failure': None}}</s>\", \"{'Write a short story': {'next_modes': ['Create an audiobook version'], 'failure': ['Retry', 'Exit', 'Fallback Content', 'Request Human Intervention']}, 'Create an audiobook version': {'next_modes': ['Analyzer'], 'failure': ['Retry', 'Switch to Different Mode', 'Quality Assurance Check', 'Log and Analyze']}, 'Analyzer': {'next_modes': [], 'failure': None}}</s>\", \"{'Design a logo': {'next_modes': ['Create a brand slogan'], 'failure': ['Retry', 'Exit', 'Fallback Content', 'Request Human Intervention']}, 'Create a brand slogan': {'next_modes': ['Analyzer'], 'failure': ['Retry', 'Switch to Different Mode', 'Log and Analyze', 'Quality Assurance Check']}, 'Analyzer': {'next_modes': [], 'failure': None}}</s>\", \"{'Analyze social media trends': {'next_modes': ['Create animation clips', 'Write analytical report'], 'failure': ['Retry', 'Exit', 'Fallback Content', 'Log and Analyze']}, 'Create animation clips': {'next_modes': ['Write analytical report'], 'failure': ['Retry', 'Request Human Intervention', 'Quality Assurance Check', 'Alternative Data Sources']}, 'Write analytical report': {'next_modes': ['Analyzer'], 'failure': ['Retry', 'Exit', 'Quality Assurance Check', 'Mode Optimization']}, 'Analyzer': {'next_modes': [], 'failure': None}}</s>\", \"{'Translate article': {'next_modes': ['Create infographic'], 'failure': ['Retry', 'Exit', 'Fallback Content', 'Request Human Intervention']}, 'Create infographic': {'next_modes': ['Analyzer'], 'failure': ['Retry', 'Switch to Different Mode', 'Quality Assurance Check', 'Log and Analyze']}, 'Analyzer': {'next_modes': [], 'failure': None}}</s>\", \"{'Design a logo': {'next_modes': ['Create an animated video'], 'failure': ['Retry', 'Exit', 'Fallback Content', 'Request Human Intervention']}, 'Create an animated video': {'next_modes': ['Analyzer'], 'failure': ['Retry', 'Switch to Different Mode', 'Quality Assurance Check', 'Log and Analyze']}, 'Analyzer': {'next_modes': [], 'failure': None}}</s>\", \"{'Speech recognition': {'next_modes': ['Comic strip creation'], 'failure': ['Retry', 'Exit', 'Fallback Content', 'Log and Analyze']}, 'Comic strip creation': {'next_modes': ['Analyzer'], 'failure': ['Retry', 'Switch to Different Mode', 'Quality Assurance Check', 'Alternative Data Sources']}, 'Analyzer': {'next_modes': [], 'failure': None}}</s>\", \"{'Bake sourdough bread': {'next_modes': ['Record baking tutorial'], 'failure': ['Retry', 'Exit', 'Fallback Content', 'Request Human Intervention']}, 'Record baking tutorial': {'next_modes': ['Edit video'], 'failure': ['Retry', 'Switch to Different Mode', 'Quality Assurance Check', 'Alternative Data Sources']}, 'Edit video': {'next_modes': ['Add subtitles'], 'failure': ['Retry', 'Exit', 'Log and Analyze', 'Partial Content Delivery']}, 'Add subtitles': {'next_modes': ['Analyzer'], 'failure': ['Retry', 'Exit', 'Quality Assurance Check', 'Mode Optimization']}, 'Analyzer': {'next_modes': [], 'failure': None}}</s>\", \"{'Research AI impact on modern art': {'next_modes': ['Write script for podcast episode'], 'failure': ['Retry', 'Exit', 'Fallback Content', 'Log and Analyze']}, 'Write script for podcast episode': {'next_modes': ['Record podcast episode'], 'failure': ['Retry', 'Switch to Different Mode', 'Request Human Intervention', 'Quality Assurance Check']}, 'Record podcast episode': {'next_modes': ['Edit podcast episode'], 'failure': ['Retry', 'Exit', 'Partial Content Delivery', 'Mode Optimization']}, 'Edit podcast episode': {'next_modes': ['Analyzer'], 'failure': ['Retry', 'Exit', 'Log and Analyze', 'Alternative Data Sources']}, 'Analyzer': {'next_modes': [], 'failure': None}}</s>\", \"{'Design a logo': {'next_modes': ['Create an animated introduction video'], 'failure': ['Retry', 'Exit', 'Fallback Content', 'Request Human Intervention']}, 'Create an animated introduction video': {'next_modes': ['Analyzer'], 'failure': ['Retry', 'Switch to Different Mode', 'Quality Assurance Check', 'Log and Analyze']}, 'Analyzer': {'next_modes': [], 'failure': None}}</s>\", \"{'Write a short story': {'next_modes': ['Adapt into a screenplay'], 'failure': ['Retry', 'Exit', 'Fallback Content', 'Request Human Intervention']}, 'Adapt into a screenplay': {'next_modes': ['Create comic strips'], 'failure': ['Retry', 'Switch to Different Mode', 'Log and Analyze', 'Quality Assurance Check']}, 'Create comic strips': {'next_modes': ['Analyzer'], 'failure': ['Retry', 'Exit', 'Partial Content Delivery', 'Mode Optimization']}, 'Analyzer': {'next_modes': [], 'failure': None}}</s>\", \"{'Design infographic': {'next_modes': ['Generate video'], 'failure': ['Retry', 'Exit', 'Fallback Content', 'Request Human Intervention']}, 'Generate video': {'next_modes': ['Analyzer'], 'failure': ['Retry', 'Switch to Different Mode', 'Quality Assurance Check', 'Log and Analyze']}, 'Analyzer': {'next_modes': [], 'failure': None}}</s>\", \"{'Translate blog post': {'next_modes': ['Convert to audio'], 'failure': ['Retry', 'Exit', 'Fallback Content', 'Request Human Intervention']}, 'Convert to audio': {'next_modes': ['Analyzer'], 'failure': ['Retry', 'Switch to Different Mode', 'Quality Assurance Check', 'Log and Analyze']}, 'Analyzer': {'next_modes': [], 'failure': None}}</s>\", \"{'Develop e-book': {'next_modes': ['Create instructional videos'], 'failure': ['Retry', 'Exit', 'Fallback Content', 'Request Human Intervention']}, 'Create instructional videos': {'next_modes': ['Analyzer'], 'failure': ['Retry', 'Switch to Different Mode', 'Quality Assurance Check', 'Log and Analyze']}, 'Analyzer': {'next_modes': [], 'failure': None}}</s>\", \"{'Record podcast episode': {'next_modes': ['Write blog post'], 'failure': ['Retry', 'Exit', 'Fallback Content', 'Request Human Intervention']}, 'Write blog post': {'next_modes': ['Analyzer'], 'failure': ['Retry', 'Switch to Different Mode', 'Quality Assurance Check', 'Alternative Data Sources']}, 'Analyzer': {'next_modes': [], 'failure': None}}</s>\", \"{'Research climate change impact': {'next_modes': ['Conduct interviews', 'Capture on-location footage'], 'failure': ['Retry', 'Exit', 'Fallback Content', 'Log and Analyze']}, 'Conduct interviews': {'next_modes': ['Edit documentary'], 'failure': ['Retry', 'Request Human Intervention', 'Quality Assurance Check', 'Mode Optimization']}, 'Capture on-location footage': {'next_modes': ['Edit documentary'], 'failure': ['Retry', 'Switch to Different Mode', 'Partial Content Delivery', 'Alternative Data Sources']}, 'Edit documentary': {'next_modes': ['Analyzer'], 'failure': ['Retry', 'Exit', 'Quality Assurance Check', 'Mode Optimization']}, 'Analyzer': {'next_modes': [], 'failure': None}}</s>\", \"{'Write script': {'next_modes': ['Film product demos', 'Collect user testimonials'], 'failure': ['Retry', 'Exit', 'Fallback Content', 'Request Human Intervention']}, 'Film product demos': {'next_modes': ['Edit montage'], 'failure': ['Retry', 'Switch to Different Mode', 'Quality Assurance Check', 'Partial Content Delivery']}, 'Collect user testimonials': {'next_modes': ['Edit montage'], 'failure': ['Retry', 'Exit', 'Log and Analyze', 'Alternative Data Sources']}, 'Edit montage': {'next_modes': ['Analyzer'], 'failure': ['Retry', 'Exit', 'Quality Assurance Check', 'Mode Optimization']}, 'Analyzer': {'next_modes': [], 'failure': None}}</s>\", \"{'Create virtual art gallery': {'next_modes': ['Produce audio guide'], 'failure': ['Retry', 'Exit', 'Fallback Content', 'Request Human Intervention']}, 'Produce audio guide': {'next_modes': ['Analyzer'], 'failure': ['Retry', 'Switch to Different Mode', 'Quality Assurance Check', 'Log and Analyze']}, 'Analyzer': {'next_modes': [], 'failure': None}}</s>\", \"{'Write a short story': {'next_modes': ['Animate the story'], 'failure': ['Retry', 'Exit', 'Fallback Content', 'Request Human Intervention']}, 'Animate the story': {'next_modes': ['Analyzer'], 'failure': ['Retry', 'Switch to Different Mode', 'Quality Assurance Check', 'Log and Analyze']}, 'Analyzer': {'next_modes': [], 'failure': None}}</s>\", \"{'Research technology impact': {'next_modes': ['Write script'], 'failure': ['Retry', 'Exit', 'Fallback Content', 'Log and Analyze']}, 'Write script': {'next_modes': ['Record podcast'], 'failure': ['Retry', 'Request Human Intervention', 'Quality Assurance Check', 'Alternative Data Sources']}, 'Record podcast': {'next_modes': ['Edit podcast'], 'failure': ['Retry', 'Switch to Different Mode', 'Partial Content Delivery', 'Mode Optimization']}, 'Edit podcast': {'next_modes': ['Analyzer'], 'failure': ['Retry', 'Exit', 'Log and Analyze', 'Quality Assurance Check']}, 'Analyzer': {'next_modes': [], 'failure': None}}</s>\", \"{'Write story': {'next_modes': ['Create illustrations', 'Record narration'], 'failure': ['Retry', 'Exit', 'Fallback Content', 'Request Human Intervention']}, 'Create illustrations': {'next_modes': ['Record narration'], 'failure': ['Retry', 'Switch to Different Mode', 'Quality Assurance Check', 'Alternative Data Sources']}, 'Record narration': {'next_modes': ['Add sound effects'], 'failure': ['Retry', 'Exit', 'Log and Analyze', 'Partial Content Delivery']}, 'Add sound effects': {'next_modes': ['Analyzer'], 'failure': ['Retry', 'Exit', 'Quality Assurance Check', 'Mode Optimization']}, 'Analyzer': {'next_modes': [], 'failure': None}}</s>\", \"{'Develop AR app': {'next_modes': ['Design historical facts'], 'failure': ['Retry', 'Exit', 'Fallback Content', 'Log and Analyze']}, 'Design historical facts': {'next_modes': ['Integrate AR and historical facts'], 'failure': ['Retry', 'Request Human Intervention', 'Quality Assurance Check', 'Alternative Data Sources']}, 'Integrate AR and historical facts': {'next_modes': ['Analyzer'], 'failure': ['Retry', 'Exit', 'Partial Content Delivery', 'Mode Optimization']}, 'Analyzer': {'next_modes': [], 'failure': None}}</s>\", \"{'Conduct interviews': {'next_modes': ['Film affected areas', 'Research solutions'], 'failure': ['Retry', 'Exit', 'Fallback Content', 'Request Human Intervention']}, 'Film affected areas': {'next_modes': ['Edit documentary'], 'failure': ['Retry', 'Switch to Different Mode', 'Quality Assurance Check', 'Alternative Data Sources']}, 'Research solutions': {'next_modes': ['Edit documentary'], 'failure': ['Retry', 'Exit', 'Log and Analyze', 'Partial Content Delivery']}, 'Edit documentary': {'next_modes': ['Organize discussion panel'], 'failure': ['Retry', 'Exit', 'Quality Assurance Check', 'Mode Optimization']}, 'Organize discussion panel': {'next_modes': ['Analyzer'], 'failure': ['Retry', 'Exit', 'Log and Analyze', 'Request Human Intervention']}, 'Analyzer': {'next_modes': [], 'failure': None}}</s>\", \"{'Write film script': {'next_modes': ['Direct film', 'Compose soundtrack'], 'failure': ['Retry', 'Exit', 'Fallback Content', 'Request Human Intervention']}, 'Direct film': {'next_modes': ['Edit film'], 'failure': ['Retry', 'Switch to Different Mode', 'Quality Assurance Check', 'Partial Content Delivery']}, 'Compose soundtrack': {'next_modes': ['Edit film'], 'failure': ['Retry', 'Exit', 'Log and Analyze', 'Alternative Data Sources']}, 'Edit film': {'next_modes': ['Analyzer'], 'failure': ['Retry', 'Exit', 'Quality Assurance Check', 'Mode Optimization']}, 'Analyzer': {'next_modes': [], 'failure': None}}</s>\", \"{'Create tutorial video': {'next_modes': ['Transcribe video to text'], 'failure': ['Retry', 'Exit', 'Fallback Content', 'Request Human Intervention']}, 'Transcribe video to text': {'next_modes': ['Analyzer'], 'failure': ['Retry', 'Switch to Different Mode', 'Quality Assurance Check', 'Log and Analyze']}, 'Analyzer': {'next_modes': [], 'failure': None}}</s>\", \"{'Translate article': {'next_modes': ['Create explainer video'], 'failure': ['Retry', 'Exit', 'Fallback Content', 'Request Human Intervention']}, 'Create explainer video': {'next_modes': ['Analyzer'], 'failure': ['Retry', 'Switch to Different Mode', 'Quality Assurance Check', 'Log and Analyze']}, 'Analyzer': {'next_modes': [], 'failure': None}}</s>\", \"{'Narrate a story': {'next_modes': ['Create a soundtrack'], 'failure': ['Retry', 'Exit', 'Fallback Content', 'Request Human Intervention']}, 'Create a soundtrack': {'next_modes': ['Combine into an audiobook'], 'failure': ['Retry', 'Switch to Different Mode', 'Log and Analyze', 'Quality Assurance Check']}, 'Combine into an audiobook': {'next_modes': ['Analyzer'], 'failure': ['Retry', 'Exit', 'Partial Content Delivery', 'Mode Optimization']}, 'Analyzer': {'next_modes': [], 'failure': None}}</s>\", \"{'Write a short story': {'next_modes': ['Produce an audiobook version'], 'failure': ['Retry', 'Exit', 'Fallback Content', 'Request Human Intervention']}, 'Produce an audiobook version': {'next_modes': ['Analyzer'], 'failure': ['Retry', 'Switch to Different Mode', 'Quality Assurance Check', 'Log and Analyze']}, 'Analyzer': {'next_modes': [], 'failure': None}}</s>\", \"{'Design logo': {'next_modes': ['Create promotional video'], 'failure': ['Retry', 'Exit', 'Fallback Content', 'Request Human Intervention']}, 'Create promotional video': {'next_modes': ['Analyzer'], 'failure': ['Retry', 'Switch to Different Mode', 'Quality Assurance Check', 'Log and Analyze']}, 'Analyzer': {'next_modes': [], 'failure': None}}</s>\", \"{'Develop VR training program': {'next_modes': ['Create fire scenarios', 'Create earthquake scenarios', 'Create medical emergency scenarios'], 'failure': ['Retry', 'Exit', 'Fallback Content', 'Request Human Intervention']}, 'Create fire scenarios': {'next_modes': ['Analyzer'], 'failure': ['Retry', 'Switch to Different Mode', 'Quality Assurance Check', 'Log and Analyze']}, 'Create earthquake scenarios': {'next_modes': ['Analyzer'], 'failure': ['Retry', 'Switch to Different Mode', 'Quality Assurance Check', 'Log and Analyze']}, 'Create medical emergency scenarios': {'next_modes': ['Analyzer'], 'failure': ['Retry', 'Switch to Different Mode', 'Quality Assurance Check', 'Log and Analyze']}, 'Analyzer': {'next_modes': [], 'failure': None}}</s>\", \"{'Analyze social media trends': {'next_modes': ['Create visual predictions'], 'failure': ['Retry', 'Exit', 'Fallback Content', 'Log and Analyze']}, 'Create visual predictions': {'next_modes': ['Compile report'], 'failure': ['Retry', 'Request Human Intervention', 'Quality Assurance Check', 'Alternative Data Sources']}, 'Compile report': {'next_modes': ['Analyzer'], 'failure': ['Retry', 'Exit', 'Quality Assurance Check', 'Mode Optimization']}, 'Analyzer': {'next_modes': [], 'failure': None}}</s>\", \"{'Organize conference': {'next_modes': ['Conduct webinars', 'Host Q&A sessions'], 'failure': ['Retry', 'Exit', 'Fallback Content', 'Log and Analyze']}, 'Conduct webinars': {'next_modes': ['Host Q&A sessions'], 'failure': ['Retry', 'Request Human Intervention', 'Quality Assurance Check', 'Mode Optimization']}, 'Host Q&A sessions': {'next_modes': ['Create post-event summaries'], 'failure': ['Retry', 'Switch to Different Mode', 'Partial Content Delivery', 'Alternative Data Sources']}, 'Create post-event summaries': {'next_modes': ['Analyzer'], 'failure': ['Retry', 'Exit', 'Log and Analyze', 'Quality Assurance Check']}, 'Analyzer': {'next_modes': [], 'failure': None}}</s>\", \"{'Develop a script': {'next_modes': ['Create animated content', 'Conduct expert interviews'], 'failure': ['Retry', 'Exit', 'Fallback Content', 'Request Human Intervention']}, 'Create animated content': {'next_modes': ['Edit video'], 'failure': ['Retry', 'Switch to Different Mode', 'Quality Assurance Check', 'Alternative Data Sources']}, 'Conduct expert interviews': {'next_modes': ['Edit video'], 'failure': ['Retry', 'Exit', 'Log and Analyze', 'Partial Content Delivery']}, 'Edit video': {'next_modes': ['Design quiz'], 'failure': ['Retry', 'Exit', 'Quality Assurance Check', 'Mode Optimization']}, 'Design quiz': {'next_modes': ['Analyzer'], 'failure': ['Retry', 'Exit', 'Log and Analyze', 'Graceful Degradation']}, 'Analyzer': {'next_modes': [], 'failure': None}}</s>\", \"{'Develop course content': {'next_modes': ['Design course layout', 'Record video lectures'], 'failure': ['Retry', 'Exit', 'Fallback Content', 'Request Human Intervention']}, 'Design course layout': {'next_modes': ['Record video lectures'], 'failure': ['Retry', 'Switch to Different Mode', 'Log and Analyze', 'Quality Assurance Check']}, 'Record video lectures': {'next_modes': ['Edit videos'], 'failure': ['Retry', 'Exit', 'Fallback Content', 'Mode Optimization']}, 'Edit videos': {'next_modes': ['Analyzer'], 'failure': ['Retry', 'Exit', 'Quality Assurance Check', 'Alternative Data Sources']}, 'Analyzer': {'next_modes': [], 'failure': None}}</s>\", \"{'Design park layout': {'next_modes': ['Select art installations', 'Plan interactive features'], 'failure': ['Retry', 'Exit', 'Fallback Content', 'Request Human Intervention']}, 'Select art installations': {'next_modes': ['Plan interactive features'], 'failure': ['Retry', 'Switch to Different Mode', 'Log and Analyze', 'Quality Assurance Check']}, 'Plan interactive features': {'next_modes': ['Analyzer'], 'failure': ['Retry', 'Exit', 'Partial Content Delivery', 'Mode Optimization']}, 'Analyzer': {'next_modes': [], 'failure': None}}</s>\", \"{'Design logo': {'next_modes': ['Animate logo', 'Create jingle'], 'failure': ['Retry', 'Exit', 'Fallback Content', 'Request Human Intervention']}, 'Animate logo': {'next_modes': ['Analyzer'], 'failure': ['Retry', 'Switch to Different Mode', 'Quality Assurance Check', 'Log and Analyze']}, 'Create jingle': {'next_modes': ['Analyzer'], 'failure': ['Retry', 'Exit', 'Alternative Data Sources', 'Partial Content Delivery']}, 'Analyzer': {'next_modes': [], 'failure': None}}</s>\", \"{'Translate story': {'next_modes': ['Narrate story'], 'failure': ['Retry', 'Exit', 'Fallback Content', 'Request Human Intervention']}, 'Narrate story': {'next_modes': ['Create video'], 'failure': ['Retry', 'Switch to Different Mode', 'Log and Analyze', 'Quality Assurance Check']}, 'Create video': {'next_modes': ['Analyzer'], 'failure': ['Retry', 'Exit', 'Partial Content Delivery', 'Mode Optimization']}, 'Analyzer': {'next_modes': [], 'failure': None}}</s>\", \"{'Translate article': {'next_modes': ['Generate audio narration'], 'failure': ['Retry', 'Exit', 'Fallback Content', 'Request Human Intervention']}, 'Generate audio narration': {'next_modes': ['Analyzer'], 'failure': ['Retry', 'Switch to Different Mode', 'Quality Assurance Check', 'Log and Analyze']}, 'Analyzer': {'next_modes': [], 'failure': None}}</s>\", \"{'Translate paragraph': {'next_modes': ['Generate voice-over'], 'failure': ['Retry', 'Exit', 'Fallback Content', 'Request Human Intervention']}, 'Generate voice-over': {'next_modes': ['Analyzer'], 'failure': ['Retry', 'Switch to Different Mode', 'Quality Assurance Check', 'Log and Analyze']}, 'Analyzer': {'next_modes': [], 'failure': None}}</s>\", \"{'Create logo': {'next_modes': ['Produce advertisement video', 'Write press release'], 'failure': ['Retry', 'Exit', 'Fallback Content', 'Request Human Intervention']}, 'Produce advertisement video': {'next_modes': ['Analyzer'], 'failure': ['Retry', 'Switch to Different Mode', 'Quality Assurance Check', 'Alternative Data Sources']}, 'Write press release': {'next_modes': ['Analyzer'], 'failure': ['Retry', 'Exit', 'Log and Analyze', 'Mode Optimization']}, 'Analyzer': {'next_modes': [], 'failure': None}}</s>\", \"{'Develop tutorial': {'next_modes': ['Publish tutorial'], 'failure': ['Retry', 'Exit', 'Fallback Content', 'Request Human Intervention']}, 'Publish tutorial': {'next_modes': ['Gather user feedback'], 'failure': ['Retry', 'Switch to Different Mode', 'Log and Analyze', 'Quality Assurance Check']}, 'Gather user feedback': {'next_modes': ['Analyzer'], 'failure': ['Retry', 'Exit', 'Partial Content Delivery', 'Mode Optimization']}, 'Analyzer': {'next_modes': [], 'failure': None}}</s>\", \"{'Design website': {'next_modes': ['Register participants', 'Live stream sessions'], 'failure': ['Retry', 'Exit', 'Fallback Content', 'Request Human Intervention']}, 'Register participants': {'next_modes': ['Interactive sessions'], 'failure': ['Retry', 'Switch to Different Mode', 'Log and Analyze', 'Partial Content Delivery']}, 'Live stream sessions': {'next_modes': ['Interactive sessions'], 'failure': ['Retry', 'Request Human Intervention', 'Quality Assurance Check', 'Alternative Data Sources']}, 'Interactive sessions': {'next_modes': ['Compile recordings'], 'failure': ['Retry', 'Exit', 'Mode Optimization', 'Graceful Degradation']}, 'Compile recordings': {'next_modes': ['Analyzer'], 'failure': ['Retry', 'Log and Analyze', 'Quality Assurance Check', 'Partial Content Delivery']}, 'Analyzer': {'next_modes': [], 'failure': None}}</s>\", \"{'Analyze trends': {'next_modes': ['Create infographic', 'Write report'], 'failure': ['Retry', 'Exit', 'Fallback Content', 'Log and Analyze']}, 'Create infographic': {'next_modes': ['Write report'], 'failure': ['Retry', 'Switch to Different Mode', 'Quality Assurance Check', 'Alternative Data Sources']}, 'Write report': {'next_modes': ['Analyzer'], 'failure': ['Retry', 'Exit', 'Request Human Intervention', 'Partial Content Delivery']}, 'Analyzer': {'next_modes': [], 'failure': None}}</s>\", \"{'Write a short story': {'next_modes': ['Create an accompanying soundtrack', 'Design a book cover'], 'failure': ['Retry', 'Exit', 'Fallback Content', 'Request Human Intervention']}, 'Create an accompanying soundtrack': {'next_modes': ['Analyzer'], 'failure': ['Retry', 'Switch to Different Mode', 'Quality Assurance Check', 'Log and Analyze']}, 'Design a book cover': {'next_modes': ['Analyzer'], 'failure': ['Retry', 'Exit', 'Partial Content Delivery', 'Mode Optimization']}, 'Analyzer': {'next_modes': [], 'failure': None}}</s>\", \"{'Conduct survey': {'next_modes': ['Analyze data'], 'failure': ['Retry', 'Exit', 'Fallback Content', 'Log and Analyze']}, 'Analyze data': {'next_modes': ['Generate report'], 'failure': ['Retry', 'Request Human Intervention', 'Quality Assurance Check', 'Alternative Data Sources']}, 'Generate report': {'next_modes': ['Analyzer'], 'failure': ['Retry', 'Exit', 'Quality Assurance Check', 'Mode Optimization']}, 'Analyzer': {'next_modes': [], 'failure': None}}</s>\", \"{'Translate poem': {'next_modes': ['Translate poem to language 1', 'Translate poem to language 2', 'Translate poem to language 3'], 'failure': ['Retry', 'Exit', 'Fallback Content', 'Request Human Intervention']}, 'Translate poem to language 1': {'next_modes': ['Create audio recording in language 1'], 'failure': ['Retry', 'Switch to Different Mode', 'Log and Analyze', 'Quality Assurance Check']}, 'Translate poem to language 2': {'next_modes': ['Create audio recording in language 2'], 'failure': ['Retry', 'Exit', 'Fallback Content', 'Alternative Data Sources']}, 'Translate poem to language 3': {'next_modes': ['Create audio recording in language 3'], 'failure': ['Retry', 'Exit', 'Fallback Content', 'Mode Optimization']}, 'Create audio recording in language 1': {'next_modes': ['Analyzer'], 'failure': ['Retry', 'Exit', 'Log and Analyze', 'Quality Assurance Check']}, 'Create audio recording in language 2': {'next_modes': ['Analyzer'], 'failure': ['Retry', 'Exit', 'Log and Analyze', 'Quality Assurance Check']}, 'Create audio recording in language 3': {'next_modes': ['Analyzer'], 'failure': ['Retry', 'Exit', 'Log and Analyze', 'Quality Assurance Check']}, 'Analyzer': {'next_modes': [], 'failure': None}}</s>\", \"{'Collect weather images': {'next_modes': ['Develop AI model'], 'failure': ['Retry', 'Exit', 'Fallback Content', 'Request Human Intervention']}, 'Develop AI model': {'next_modes': ['Analyzer'], 'failure': ['Retry', 'Switch to Different Mode', 'Log and Analyze', 'Quality Assurance Check']}, 'Analyzer': {'next_modes': [], 'failure': None}}</s>\", \"{'Translate story': {'next_modes': ['Create graphic novel', 'Create audio narration'], 'failure': ['Retry', 'Exit', 'Fallback Content', 'Request Human Intervention']}, 'Create graphic novel': {'next_modes': ['Create audio narration'], 'failure': ['Retry', 'Switch to Different Mode', 'Quality Assurance Check', 'Log and Analyze']}, 'Create audio narration': {'next_modes': ['Analyzer'], 'failure': ['Retry', 'Exit', 'Quality Assurance Check', 'Mode Optimization']}, 'Analyzer': {'next_modes': [], 'failure': None}}</s>\", \"{'Design logo': {'next_modes': ['Create social media campaign'], 'failure': ['Retry', 'Exit', 'Fallback Content', 'Request Human Intervention']}, 'Create social media campaign': {'next_modes': ['Analyzer'], 'failure': ['Retry', 'Switch to Different Mode', 'Log and Analyze', 'Quality Assurance Check']}, 'Analyzer': {'next_modes': [], 'failure': None}}</s>\", \"{'Generate quotes': {'next_modes': ['Design graphics'], 'failure': ['Retry', 'Exit', 'Fallback Content', 'Log and Analyze']}, 'Design graphics': {'next_modes': ['Analyze engagement metrics'], 'failure': ['Retry', 'Switch to Different Mode', 'Quality Assurance Check', 'Alternative Data Sources']}, 'Analyze engagement metrics': {'next_modes': ['Analyzer'], 'failure': ['Retry', 'Exit', 'Log and Analyze', 'Mode Optimization']}, 'Analyzer': {'next_modes': [], 'failure': None}}</s>\", \"{'Produce marketing video': {'next_modes': ['Write press release', 'Create multimedia presentation'], 'failure': ['Retry', 'Exit', 'Fallback Content', 'Request Human Intervention']}, 'Write press release': {'next_modes': ['Create multimedia presentation'], 'failure': ['Retry', 'Switch to Different Mode', 'Log and Analyze', 'Quality Assurance Check']}, 'Create multimedia presentation': {'next_modes': ['Analyzer'], 'failure': ['Retry', 'Exit', 'Partial Content Delivery', 'Mode Optimization']}, 'Analyzer': {'next_modes': [], 'failure': None}}</s>\", \"{'Curate exhibition': {'next_modes': ['Create virtual tour', 'Conduct interviews'], 'failure': ['Retry', 'Exit', 'Fallback Content', 'Request Human Intervention']}, 'Create virtual tour': {'next_modes': ['Analyzer'], 'failure': ['Retry', 'Switch to Different Mode', 'Quality Assurance Check', 'Alternative Data Sources']}, 'Conduct interviews': {'next_modes': ['Analyzer'], 'failure': ['Retry', 'Exit', 'Log and Analyze', 'Mode Optimization']}, 'Analyzer': {'next_modes': [], 'failure': None}}</s>\", \"{'Translate story': {'next_modes': ['Generate audiobook'], 'failure': ['Retry', 'Exit', 'Fallback Content', 'Request Human Intervention']}, 'Generate audiobook': {'next_modes': ['Write comparative analysis'], 'failure': ['Retry', 'Switch to Different Mode', 'Log and Analyze', 'Quality Assurance Check']}, 'Write comparative analysis': {'next_modes': ['Analyzer'], 'failure': ['Retry', 'Exit', 'Partial Content Delivery', 'Mode Optimization']}, 'Analyzer': {'next_modes': [], 'failure': None}}</s>\", \"{'Design logo': {'next_modes': ['Prepare presentation'], 'failure': ['Retry', 'Exit', 'Fallback Content', 'Request Human Intervention']}, 'Prepare presentation': {'next_modes': ['Analyzer'], 'failure': ['Retry', 'Switch to Different Mode', 'Quality Assurance Check', 'Log and Analyze']}, 'Analyzer': {'next_modes': [], 'failure': None}}</s>\", \"{'Create VR tour': {'next_modes': ['Narrate facts', 'Add interactive elements'], 'failure': ['Retry', 'Exit', 'Fallback Content', 'Request Human Intervention']}, 'Narrate facts': {'next_modes': ['Analyzer'], 'failure': ['Retry', 'Switch to Different Mode', 'Quality Assurance Check', 'Log and Analyze']}, 'Add interactive elements': {'next_modes': ['Analyzer'], 'failure': ['Retry', 'Exit', 'Partial Content Delivery', 'Mode Optimization']}, 'Analyzer': {'next_modes': [], 'failure': None}}</s>\", \"{'Write a short story': {'next_modes': ['Convert to script'], 'failure': ['Retry', 'Exit', 'Fallback Content', 'Log and Analyze']}, 'Convert to script': {'next_modes': ['Add sound effects'], 'failure': ['Retry', 'Switch to Different Mode', 'Quality Assurance Check', 'Alternative Data Sources']}, 'Add sound effects': {'next_modes': ['Analyzer'], 'failure': ['Retry', 'Exit', 'Request Human Intervention', 'Partial Content Delivery']}, 'Analyzer': {'next_modes': [], 'failure': None}}</s>\", \"{'Write song': {'next_modes': ['Perform song'], 'failure': ['Retry', 'Exit', 'Fallback Content', 'Request Human Intervention']}, 'Perform song': {'next_modes': ['Create music video'], 'failure': ['Retry', 'Switch to Different Mode', 'Quality Assurance Check', 'Partial Content Delivery']}, 'Create music video': {'next_modes': ['Analyzer'], 'failure': ['Retry', 'Exit', 'Log and Analyze', 'Alternative Data Sources']}, 'Analyzer': {'next_modes': [], 'failure': None}}</s>\", \"{'Develop interactive lessons': {'next_modes': ['Create quizzes', 'Provide code snippets'], 'failure': ['Retry', 'Exit', 'Fallback Content', 'Log and Analyze']}, 'Create quizzes': {'next_modes': ['Analyzer'], 'failure': ['Retry', 'Switch to Different Mode', 'Quality Assurance Check', 'Alternative Data Sources']}, 'Provide code snippets': {'next_modes': ['Analyzer'], 'failure': ['Retry', 'Exit', 'Request Human Intervention', 'Mode Optimization']}, 'Analyzer': {'next_modes': [], 'failure': None}}</s>\", \"{'Compose soundtrack': {'next_modes': ['Perform live session recording'], 'failure': ['Retry', 'Exit', 'Fallback Content', 'Request Human Intervention']}, 'Perform live session recording': {'next_modes': ['Mix and master audio'], 'failure': ['Retry', 'Switch to Different Mode', 'Quality Assurance Check', 'Partial Content Delivery']}, 'Mix and master audio': {'next_modes': ['Analyzer'], 'failure': ['Retry', 'Exit', 'Log and Analyze', 'Mode Optimization']}, 'Analyzer': {'next_modes': [], 'failure': None}}</s>\", \"{'Research techniques': {'next_modes': ['Film woodworking process'], 'failure': ['Retry', 'Exit', 'Fallback Content', 'Request Human Intervention']}, 'Film woodworking process': {'next_modes': ['Edit documentary'], 'failure': ['Retry', 'Switch to Different Mode', 'Quality Assurance Check', 'Alternative Data Sources']}, 'Edit documentary': {'next_modes': ['Analyzer'], 'failure': ['Retry', 'Exit', 'Log and Analyze', 'Partial Content Delivery']}, 'Analyzer': {'next_modes': [], 'failure': None}}</s>\", \"{'Create virtual tour': {'next_modes': ['Record narrator audio', 'Design multimedia elements'], 'failure': ['Retry', 'Exit', 'Fallback Content', 'Request Human Intervention']}, 'Record narrator audio': {'next_modes': ['Design multimedia elements'], 'failure': ['Retry', 'Switch to Different Mode', 'Quality Assurance Check', 'Partial Content Delivery']}, 'Design multimedia elements': {'next_modes': ['Analyzer'], 'failure': ['Retry', 'Exit', 'Log and Analyze', 'Alternative Data Sources']}, 'Analyzer': {'next_modes': [], 'failure': None}}</s>\"]\n"
          ]
        },
        {
          "output_type": "stream",
          "name": "stderr",
          "text": [
            "\n"
          ]
        }
      ],
      "source": [
        "from tqdm import tqdm\n",
        "\n",
        "outputs=[]\n",
        "for i in tqdm(range(len(test_data_blueprint))):\n",
        "  pred_prompt=format_prediction_blueprint_instruct_fn(test_data_blueprint[i])\n",
        "\n",
        "  output=get_completion(pred_prompt, model, tokenizer, stop_keywords, KeywordsStoppingCriteria)\n",
        "\n",
        "  outputs.append(output)\n",
        "\n",
        "print(outputs)"
      ]
    },
    {
      "cell_type": "code",
      "execution_count": null,
      "metadata": {
        "id": "QfHSNaxJScnS",
        "colab": {
          "base_uri": "https://localhost:8080/",
          "height": 49,
          "referenced_widgets": [
            "0ed10079ba8e48bb9bb658a08067da64",
            "9e657706059a4be9a1a58b5f0e5a0d20",
            "8016cdfc8ce84687b10c30eec1dcd9ae",
            "e7b144c2a6a94604b388b877780d6324",
            "8b937b2a02604a70a0f8d712ea52e8fc",
            "e2c33975a59443eea3b86e9482ccd898",
            "b9c685b5748741c0b5eb7a65276e2a0d",
            "207f18e064c445d9a0bae6da1e2bd1b7",
            "94044fb9c98342b5ae4372c50c0bc65a",
            "dceae9f4226a445984205c00d5348c16",
            "ca26f0bd449d4cf28d4b18f1beea6df5"
          ]
        },
        "outputId": "b898938c-16db-4982-83ce-3a79801318e3"
      },
      "outputs": [
        {
          "output_type": "display_data",
          "data": {
            "text/plain": [
              "<IPython.core.display.HTML object>"
            ],
            "text/html": [
              "\n",
              "  <style>\n",
              "    pre {\n",
              "        white-space: pre-wrap;\n",
              "    }\n",
              "  </style>\n",
              "  "
            ]
          },
          "metadata": {}
        },
        {
          "output_type": "display_data",
          "data": {
            "text/plain": [
              "Flattening the indices:   0%|          | 0/101 [00:00<?, ? examples/s]"
            ],
            "application/vnd.jupyter.widget-view+json": {
              "version_major": 2,
              "version_minor": 0,
              "model_id": "0ed10079ba8e48bb9bb658a08067da64"
            }
          },
          "metadata": {}
        }
      ],
      "source": [
        "test_data_with_blueprint_pred=test_data_blueprint.add_column(\"blueprint-pred\",outputs)"
      ]
    },
    {
      "cell_type": "code",
      "execution_count": null,
      "metadata": {
        "id": "5ew2Hb_qS_Qu",
        "colab": {
          "base_uri": "https://localhost:8080/",
          "height": 17
        },
        "outputId": "04a5d218-824c-4e6c-e00d-ae300be82562"
      },
      "outputs": [
        {
          "output_type": "display_data",
          "data": {
            "text/plain": [
              "<IPython.core.display.HTML object>"
            ],
            "text/html": [
              "\n",
              "  <style>\n",
              "    pre {\n",
              "        white-space: pre-wrap;\n",
              "    }\n",
              "  </style>\n",
              "  "
            ]
          },
          "metadata": {}
        }
      ],
      "source": [
        "df_test_with_blueprint_pred = test_data_with_blueprint_pred.to_pandas()"
      ]
    },
    {
      "cell_type": "code",
      "execution_count": null,
      "metadata": {
        "id": "tkbDAEtjTDHC",
        "colab": {
          "base_uri": "https://localhost:8080/",
          "height": 561
        },
        "outputId": "6fd9dd93-5bfd-42a0-dd86-c3fbe7d752ee"
      },
      "outputs": [
        {
          "output_type": "display_data",
          "data": {
            "text/plain": [
              "<IPython.core.display.HTML object>"
            ],
            "text/html": [
              "\n",
              "  <style>\n",
              "    pre {\n",
              "        white-space: pre-wrap;\n",
              "    }\n",
              "  </style>\n",
              "  "
            ]
          },
          "metadata": {}
        },
        {
          "output_type": "execute_result",
          "data": {
            "text/plain": [
              "                                            Detailed  \\\n",
              "0  {\"Brainstorm and write a captivating script hi...   \n",
              "1  {'Conduct in-depth research on current social ...   \n",
              "2  {'Craft a compelling science fiction short sto...   \n",
              "3  {'Develop a narrative for a short story focusi...   \n",
              "4  {'Conduct a detailed sentiment analysis on cus...   \n",
              "\n",
              "                                         Instruction  \\\n",
              "0  Create a marketing video for a new product lau...   \n",
              "1  Analyze social media trends to develop a serie...   \n",
              "2  Write a science fiction short story, convert i...   \n",
              "3  Write a short story, adapt it into a screenpla...   \n",
              "4  Analyze customer reviews to identify improveme...   \n",
              "\n",
              "                                           Blueprint  \\\n",
              "0  {'Develop script': {'next_modes': ['Design sto...   \n",
              "1  {'Research trends': {'next_modes': ['Create me...   \n",
              "2  {'Write a short story': {'next_modes': ['Conve...   \n",
              "3  {'Write a short story': {'next_modes': ['Adapt...   \n",
              "4  {'Analyze customer reviews': {'next_modes': ['...   \n",
              "\n",
              "                                              prompt  \\\n",
              "0  [INST]Below is an instruction that describes a...   \n",
              "1  [INST]Below is an instruction that describes a...   \n",
              "2  [INST]Below is an instruction that describes a...   \n",
              "3  [INST]Below is an instruction that describes a...   \n",
              "4  [INST]Below is an instruction that describes a...   \n",
              "\n",
              "                                            response  \\\n",
              "0  ### Response:{'Develop script': {'next_modes':...   \n",
              "1  ### Response:{'Research trends': {'next_modes'...   \n",
              "2  ### Response:{'Write a short story': {'next_mo...   \n",
              "3  ### Response:{'Write a short story': {'next_mo...   \n",
              "4  ### Response:{'Analyze customer reviews': {'ne...   \n",
              "\n",
              "                                           input_ids  \\\n",
              "0  [1, 733, 16289, 28793, 20548, 336, 349, 396, 1...   \n",
              "1  [1, 733, 16289, 28793, 20548, 336, 349, 396, 1...   \n",
              "2  [1, 733, 16289, 28793, 20548, 336, 349, 396, 1...   \n",
              "3  [1, 733, 16289, 28793, 20548, 336, 349, 396, 1...   \n",
              "4  [1, 733, 16289, 28793, 20548, 336, 349, 396, 1...   \n",
              "\n",
              "                                      attention_mask  \\\n",
              "0  [1, 1, 1, 1, 1, 1, 1, 1, 1, 1, 1, 1, 1, 1, 1, ...   \n",
              "1  [1, 1, 1, 1, 1, 1, 1, 1, 1, 1, 1, 1, 1, 1, 1, ...   \n",
              "2  [1, 1, 1, 1, 1, 1, 1, 1, 1, 1, 1, 1, 1, 1, 1, ...   \n",
              "3  [1, 1, 1, 1, 1, 1, 1, 1, 1, 1, 1, 1, 1, 1, 1, ...   \n",
              "4  [1, 1, 1, 1, 1, 1, 1, 1, 1, 1, 1, 1, 1, 1, 1, ...   \n",
              "\n",
              "                                      blueprint-pred  \n",
              "0  {'Develop script': {'next_modes': ['Create sto...  \n",
              "1  {'Analyze social media trends': {'next_modes':...  \n",
              "2  {'Write a science fiction short story': {'next...  \n",
              "3  {'Write a short story': {'next_modes': ['Adapt...  \n",
              "4  {'Analyze reviews': {'next_modes': ['Implement...  "
            ],
            "text/html": [
              "\n",
              "  <div id=\"df-fc922046-d142-4fc7-a291-ee8eeaa453d5\" class=\"colab-df-container\">\n",
              "    <div>\n",
              "<style scoped>\n",
              "    .dataframe tbody tr th:only-of-type {\n",
              "        vertical-align: middle;\n",
              "    }\n",
              "\n",
              "    .dataframe tbody tr th {\n",
              "        vertical-align: top;\n",
              "    }\n",
              "\n",
              "    .dataframe thead th {\n",
              "        text-align: right;\n",
              "    }\n",
              "</style>\n",
              "<table border=\"1\" class=\"dataframe\">\n",
              "  <thead>\n",
              "    <tr style=\"text-align: right;\">\n",
              "      <th></th>\n",
              "      <th>Detailed</th>\n",
              "      <th>Instruction</th>\n",
              "      <th>Blueprint</th>\n",
              "      <th>prompt</th>\n",
              "      <th>response</th>\n",
              "      <th>input_ids</th>\n",
              "      <th>attention_mask</th>\n",
              "      <th>blueprint-pred</th>\n",
              "    </tr>\n",
              "  </thead>\n",
              "  <tbody>\n",
              "    <tr>\n",
              "      <th>0</th>\n",
              "      <td>{\"Brainstorm and write a captivating script hi...</td>\n",
              "      <td>Create a marketing video for a new product lau...</td>\n",
              "      <td>{'Develop script': {'next_modes': ['Design sto...</td>\n",
              "      <td>[INST]Below is an instruction that describes a...</td>\n",
              "      <td>### Response:{'Develop script': {'next_modes':...</td>\n",
              "      <td>[1, 733, 16289, 28793, 20548, 336, 349, 396, 1...</td>\n",
              "      <td>[1, 1, 1, 1, 1, 1, 1, 1, 1, 1, 1, 1, 1, 1, 1, ...</td>\n",
              "      <td>{'Develop script': {'next_modes': ['Create sto...</td>\n",
              "    </tr>\n",
              "    <tr>\n",
              "      <th>1</th>\n",
              "      <td>{'Conduct in-depth research on current social ...</td>\n",
              "      <td>Analyze social media trends to develop a serie...</td>\n",
              "      <td>{'Research trends': {'next_modes': ['Create me...</td>\n",
              "      <td>[INST]Below is an instruction that describes a...</td>\n",
              "      <td>### Response:{'Research trends': {'next_modes'...</td>\n",
              "      <td>[1, 733, 16289, 28793, 20548, 336, 349, 396, 1...</td>\n",
              "      <td>[1, 1, 1, 1, 1, 1, 1, 1, 1, 1, 1, 1, 1, 1, 1, ...</td>\n",
              "      <td>{'Analyze social media trends': {'next_modes':...</td>\n",
              "    </tr>\n",
              "    <tr>\n",
              "      <th>2</th>\n",
              "      <td>{'Craft a compelling science fiction short sto...</td>\n",
              "      <td>Write a science fiction short story, convert i...</td>\n",
              "      <td>{'Write a short story': {'next_modes': ['Conve...</td>\n",
              "      <td>[INST]Below is an instruction that describes a...</td>\n",
              "      <td>### Response:{'Write a short story': {'next_mo...</td>\n",
              "      <td>[1, 733, 16289, 28793, 20548, 336, 349, 396, 1...</td>\n",
              "      <td>[1, 1, 1, 1, 1, 1, 1, 1, 1, 1, 1, 1, 1, 1, 1, ...</td>\n",
              "      <td>{'Write a science fiction short story': {'next...</td>\n",
              "    </tr>\n",
              "    <tr>\n",
              "      <th>3</th>\n",
              "      <td>{'Develop a narrative for a short story focusi...</td>\n",
              "      <td>Write a short story, adapt it into a screenpla...</td>\n",
              "      <td>{'Write a short story': {'next_modes': ['Adapt...</td>\n",
              "      <td>[INST]Below is an instruction that describes a...</td>\n",
              "      <td>### Response:{'Write a short story': {'next_mo...</td>\n",
              "      <td>[1, 733, 16289, 28793, 20548, 336, 349, 396, 1...</td>\n",
              "      <td>[1, 1, 1, 1, 1, 1, 1, 1, 1, 1, 1, 1, 1, 1, 1, ...</td>\n",
              "      <td>{'Write a short story': {'next_modes': ['Adapt...</td>\n",
              "    </tr>\n",
              "    <tr>\n",
              "      <th>4</th>\n",
              "      <td>{'Conduct a detailed sentiment analysis on cus...</td>\n",
              "      <td>Analyze customer reviews to identify improveme...</td>\n",
              "      <td>{'Analyze customer reviews': {'next_modes': ['...</td>\n",
              "      <td>[INST]Below is an instruction that describes a...</td>\n",
              "      <td>### Response:{'Analyze customer reviews': {'ne...</td>\n",
              "      <td>[1, 733, 16289, 28793, 20548, 336, 349, 396, 1...</td>\n",
              "      <td>[1, 1, 1, 1, 1, 1, 1, 1, 1, 1, 1, 1, 1, 1, 1, ...</td>\n",
              "      <td>{'Analyze reviews': {'next_modes': ['Implement...</td>\n",
              "    </tr>\n",
              "  </tbody>\n",
              "</table>\n",
              "</div>\n",
              "    <div class=\"colab-df-buttons\">\n",
              "\n",
              "  <div class=\"colab-df-container\">\n",
              "    <button class=\"colab-df-convert\" onclick=\"convertToInteractive('df-fc922046-d142-4fc7-a291-ee8eeaa453d5')\"\n",
              "            title=\"Convert this dataframe to an interactive table.\"\n",
              "            style=\"display:none;\">\n",
              "\n",
              "  <svg xmlns=\"http://www.w3.org/2000/svg\" height=\"24px\" viewBox=\"0 -960 960 960\">\n",
              "    <path d=\"M120-120v-720h720v720H120Zm60-500h600v-160H180v160Zm220 220h160v-160H400v160Zm0 220h160v-160H400v160ZM180-400h160v-160H180v160Zm440 0h160v-160H620v160ZM180-180h160v-160H180v160Zm440 0h160v-160H620v160Z\"/>\n",
              "  </svg>\n",
              "    </button>\n",
              "\n",
              "  <style>\n",
              "    .colab-df-container {\n",
              "      display:flex;\n",
              "      gap: 12px;\n",
              "    }\n",
              "\n",
              "    .colab-df-convert {\n",
              "      background-color: #E8F0FE;\n",
              "      border: none;\n",
              "      border-radius: 50%;\n",
              "      cursor: pointer;\n",
              "      display: none;\n",
              "      fill: #1967D2;\n",
              "      height: 32px;\n",
              "      padding: 0 0 0 0;\n",
              "      width: 32px;\n",
              "    }\n",
              "\n",
              "    .colab-df-convert:hover {\n",
              "      background-color: #E2EBFA;\n",
              "      box-shadow: 0px 1px 2px rgba(60, 64, 67, 0.3), 0px 1px 3px 1px rgba(60, 64, 67, 0.15);\n",
              "      fill: #174EA6;\n",
              "    }\n",
              "\n",
              "    .colab-df-buttons div {\n",
              "      margin-bottom: 4px;\n",
              "    }\n",
              "\n",
              "    [theme=dark] .colab-df-convert {\n",
              "      background-color: #3B4455;\n",
              "      fill: #D2E3FC;\n",
              "    }\n",
              "\n",
              "    [theme=dark] .colab-df-convert:hover {\n",
              "      background-color: #434B5C;\n",
              "      box-shadow: 0px 1px 3px 1px rgba(0, 0, 0, 0.15);\n",
              "      filter: drop-shadow(0px 1px 2px rgba(0, 0, 0, 0.3));\n",
              "      fill: #FFFFFF;\n",
              "    }\n",
              "  </style>\n",
              "\n",
              "    <script>\n",
              "      const buttonEl =\n",
              "        document.querySelector('#df-fc922046-d142-4fc7-a291-ee8eeaa453d5 button.colab-df-convert');\n",
              "      buttonEl.style.display =\n",
              "        google.colab.kernel.accessAllowed ? 'block' : 'none';\n",
              "\n",
              "      async function convertToInteractive(key) {\n",
              "        const element = document.querySelector('#df-fc922046-d142-4fc7-a291-ee8eeaa453d5');\n",
              "        const dataTable =\n",
              "          await google.colab.kernel.invokeFunction('convertToInteractive',\n",
              "                                                    [key], {});\n",
              "        if (!dataTable) return;\n",
              "\n",
              "        const docLinkHtml = 'Like what you see? Visit the ' +\n",
              "          '<a target=\"_blank\" href=https://colab.research.google.com/notebooks/data_table.ipynb>data table notebook</a>'\n",
              "          + ' to learn more about interactive tables.';\n",
              "        element.innerHTML = '';\n",
              "        dataTable['output_type'] = 'display_data';\n",
              "        await google.colab.output.renderOutput(dataTable, element);\n",
              "        const docLink = document.createElement('div');\n",
              "        docLink.innerHTML = docLinkHtml;\n",
              "        element.appendChild(docLink);\n",
              "      }\n",
              "    </script>\n",
              "  </div>\n",
              "\n",
              "\n",
              "<div id=\"df-7d984c01-fcc7-4ca0-b55c-2562c02cec7a\">\n",
              "  <button class=\"colab-df-quickchart\" onclick=\"quickchart('df-7d984c01-fcc7-4ca0-b55c-2562c02cec7a')\"\n",
              "            title=\"Suggest charts\"\n",
              "            style=\"display:none;\">\n",
              "\n",
              "<svg xmlns=\"http://www.w3.org/2000/svg\" height=\"24px\"viewBox=\"0 0 24 24\"\n",
              "     width=\"24px\">\n",
              "    <g>\n",
              "        <path d=\"M19 3H5c-1.1 0-2 .9-2 2v14c0 1.1.9 2 2 2h14c1.1 0 2-.9 2-2V5c0-1.1-.9-2-2-2zM9 17H7v-7h2v7zm4 0h-2V7h2v10zm4 0h-2v-4h2v4z\"/>\n",
              "    </g>\n",
              "</svg>\n",
              "  </button>\n",
              "\n",
              "<style>\n",
              "  .colab-df-quickchart {\n",
              "      --bg-color: #E8F0FE;\n",
              "      --fill-color: #1967D2;\n",
              "      --hover-bg-color: #E2EBFA;\n",
              "      --hover-fill-color: #174EA6;\n",
              "      --disabled-fill-color: #AAA;\n",
              "      --disabled-bg-color: #DDD;\n",
              "  }\n",
              "\n",
              "  [theme=dark] .colab-df-quickchart {\n",
              "      --bg-color: #3B4455;\n",
              "      --fill-color: #D2E3FC;\n",
              "      --hover-bg-color: #434B5C;\n",
              "      --hover-fill-color: #FFFFFF;\n",
              "      --disabled-bg-color: #3B4455;\n",
              "      --disabled-fill-color: #666;\n",
              "  }\n",
              "\n",
              "  .colab-df-quickchart {\n",
              "    background-color: var(--bg-color);\n",
              "    border: none;\n",
              "    border-radius: 50%;\n",
              "    cursor: pointer;\n",
              "    display: none;\n",
              "    fill: var(--fill-color);\n",
              "    height: 32px;\n",
              "    padding: 0;\n",
              "    width: 32px;\n",
              "  }\n",
              "\n",
              "  .colab-df-quickchart:hover {\n",
              "    background-color: var(--hover-bg-color);\n",
              "    box-shadow: 0 1px 2px rgba(60, 64, 67, 0.3), 0 1px 3px 1px rgba(60, 64, 67, 0.15);\n",
              "    fill: var(--button-hover-fill-color);\n",
              "  }\n",
              "\n",
              "  .colab-df-quickchart-complete:disabled,\n",
              "  .colab-df-quickchart-complete:disabled:hover {\n",
              "    background-color: var(--disabled-bg-color);\n",
              "    fill: var(--disabled-fill-color);\n",
              "    box-shadow: none;\n",
              "  }\n",
              "\n",
              "  .colab-df-spinner {\n",
              "    border: 2px solid var(--fill-color);\n",
              "    border-color: transparent;\n",
              "    border-bottom-color: var(--fill-color);\n",
              "    animation:\n",
              "      spin 1s steps(1) infinite;\n",
              "  }\n",
              "\n",
              "  @keyframes spin {\n",
              "    0% {\n",
              "      border-color: transparent;\n",
              "      border-bottom-color: var(--fill-color);\n",
              "      border-left-color: var(--fill-color);\n",
              "    }\n",
              "    20% {\n",
              "      border-color: transparent;\n",
              "      border-left-color: var(--fill-color);\n",
              "      border-top-color: var(--fill-color);\n",
              "    }\n",
              "    30% {\n",
              "      border-color: transparent;\n",
              "      border-left-color: var(--fill-color);\n",
              "      border-top-color: var(--fill-color);\n",
              "      border-right-color: var(--fill-color);\n",
              "    }\n",
              "    40% {\n",
              "      border-color: transparent;\n",
              "      border-right-color: var(--fill-color);\n",
              "      border-top-color: var(--fill-color);\n",
              "    }\n",
              "    60% {\n",
              "      border-color: transparent;\n",
              "      border-right-color: var(--fill-color);\n",
              "    }\n",
              "    80% {\n",
              "      border-color: transparent;\n",
              "      border-right-color: var(--fill-color);\n",
              "      border-bottom-color: var(--fill-color);\n",
              "    }\n",
              "    90% {\n",
              "      border-color: transparent;\n",
              "      border-bottom-color: var(--fill-color);\n",
              "    }\n",
              "  }\n",
              "</style>\n",
              "\n",
              "  <script>\n",
              "    async function quickchart(key) {\n",
              "      const quickchartButtonEl =\n",
              "        document.querySelector('#' + key + ' button');\n",
              "      quickchartButtonEl.disabled = true;  // To prevent multiple clicks.\n",
              "      quickchartButtonEl.classList.add('colab-df-spinner');\n",
              "      try {\n",
              "        const charts = await google.colab.kernel.invokeFunction(\n",
              "            'suggestCharts', [key], {});\n",
              "      } catch (error) {\n",
              "        console.error('Error during call to suggestCharts:', error);\n",
              "      }\n",
              "      quickchartButtonEl.classList.remove('colab-df-spinner');\n",
              "      quickchartButtonEl.classList.add('colab-df-quickchart-complete');\n",
              "    }\n",
              "    (() => {\n",
              "      let quickchartButtonEl =\n",
              "        document.querySelector('#df-7d984c01-fcc7-4ca0-b55c-2562c02cec7a button');\n",
              "      quickchartButtonEl.style.display =\n",
              "        google.colab.kernel.accessAllowed ? 'block' : 'none';\n",
              "    })();\n",
              "  </script>\n",
              "</div>\n",
              "    </div>\n",
              "  </div>\n"
            ],
            "application/vnd.google.colaboratory.intrinsic+json": {
              "type": "dataframe",
              "variable_name": "df_test_with_blueprint_pred",
              "summary": "{\n  \"name\": \"df_test_with_blueprint_pred\",\n  \"rows\": 101,\n  \"fields\": [\n    {\n      \"column\": \"Detailed\",\n      \"properties\": {\n        \"dtype\": \"string\",\n        \"num_unique_values\": 101,\n        \"samples\": [\n          \"{'Execute a comprehensive market research survey, employing both digital and traditional mediums to collect data across diverse demographics': {'next_modes': ['Perform a thorough analysis of the collected data using statistical software', 'Evaluate the data to discern observable trends relevant to the market'], 'failure': ['Redo the survey focusing on areas with insufficient responses', 'Adapt the survey medium or questions if the initial approach fails', 'Document and study the failed approach for adjustments', 'Ensure data integrity through a rigorous quality check']}, 'Perform a thorough analysis of the collected data using statistical software, aiming to extract meaningful insights and patterns': {'next_modes': ['Compile the findings into a comprehensive report, augmented with visual graphs to highlight key points'], 'failure': ['Reanalyze the data with adjusted parameters or methods', 'Consult with a data analyst for deeper insights', 'Replace complex analyses with simplified, high-level summaries', 'Deliver partial findings if complete analysis is unviable']}, 'Evaluate the data to discern observable trends relevant to the market, identifying potential opportunities or risks': {'next_modes': ['Compile the findings into a comprehensive report, augmented with visual graphs to highlight key points'], 'failure': ['Reassess the data for overlooked trends', 'Terminate the project if no actionable insight is found', 'Seek alternative data sources for a broader perspective', 'Optimize data presentation techniques for clarity']}, 'Compile the findings into a comprehensive report, augmented with visual graphs to highlight key points, aimed at informing strategic decisions': {'next_modes': ['Assess the report\\u2019s clarity, completeness, and relevance to support informed decision-making processes'], 'failure': ['Revise the report for improved accuracy or presentation', 'Discontinue if the report does not meet strategic needs', 'Conduct a quality review to verify data representation', 'Adjust graphical elements for better interpretability']}, 'Assess the report\\u2019s clarity, completeness, and relevance to support informed decision-making processes': {'next_modes': [], 'failure': None}}\",\n          \"{'Comprehensive research on the impact of climate change specifically on coastal communities using a variety of credible sources to gather global data and trends': {'next_modes': ['Organize interviews with environmental experts, local authorities, and affected community members', 'Gather on-location footage showcasing the visible impact of climate change on coastal regions'], 'failure': ['Attempt the operation again with the same mode, ensuring current environmental studies and reports are included', 'Record failure events for later analysis to identify patterns of overlooked data or sources', 'Notify a human operator for manual resolution in locating hard-to-find data or sources']}, 'Organize interviews with environmental experts, local authorities, and affected community members to gather personal insights and expert opinions on climate change': {'next_modes': ['Compile and edit video footage incorporating the interviews, highlighted research findings, and on-location evidence of climate change effects'], 'failure': ['Attempt the operation again ensuring questions cover a wide range of perspectives and impacts', 'Use predetermined content as a placeholder for unavailable interviewees', 'Automatically assess the quality of interviews and decide on re-shooting or adjustments']}, 'Gather on-location footage showcasing the visible impact of climate change on coastal regions, including eroded shorelines and flooded areas': {'next_modes': ['Compile and edit video footage incorporating the interviews, highlighted research findings, and on-location evidence of climate change effects'], 'failure': ['Attempt the operation again with the same mode, choosing alternative coastal locations if necessary', 'Switch to a different mode using stock footage where shooting is not possible', 'Deliver partially completed content indicating the areas where footage could not be captured']}, 'Compile and edit video footage incorporating the interviews, highlighted research findings, and on-location evidence of climate change effects to produce a compelling narrative': {'next_modes': ['Conduct a final review to ensure the documentary accurately depicts the impact of climate change on coastal communities while being engaging'], 'failure': ['Retry the editing process with a focus on narrative clarity and pacing adjustments', 'Stop the process and exit if the edited content fails to meet predefined quality standards', 'Adjust parameters or settings for video editing based on previous feedback on pacing and visual effects']}, 'Conduct a final review to ensure the documentary accurately depicts the impact of climate change on coastal communities while being engaging': {'next_modes': [], 'failure': None}}\",\n          \"{'Craft a compelling short story with a clear beginning, middle, and end, tailored to the audiobook format. Ensure the story evokes vivid imagery and emotional resonance.': {'next_modes': ['Use professional recording equipment to capture the narration, employing expressive voice modulation', 'Create a unique soundtrack that aligns with the story\\u2019s mood and themes, using various musical instruments and software'], 'failure': ['Rewrite portions of the story for clarity or impact', \\\"Seek feedback on the draft from a writers' group or beta readers\\\", 'Select a backup story from previously unpublished works if original story fails to engage']}, 'Use professional recording equipment to capture the narration, employing expressive voice modulation. Pay attention to pacing and enunciation to enhance listener engagement.': {'next_modes': ['Merge the narrated audio and soundtrack using audio editing software, carefully balancing volume levels and ensuring seamless transitions'], 'failure': ['Re-record sections with audio issues', 'Perform a quality assurance check with focus groups', 'Opt for a simpler narrative technique if recording complications persist']}, 'Create a unique soundtrack that aligns with the story\\u2019s mood and themes, using various musical instruments and software. Consider the narrative pace and emotional beats when composing.': {'next_modes': ['Merge the narrated audio and soundtrack using audio editing software, carefully balancing volume levels and ensuring seamless transitions'], 'failure': ['Re-compose sections of the soundtrack to better match the narration', 'Use royalty-free music as a fallback if original compositions do not fit', 'Search for alternative inspiration if initial musical themes do not resonate']}, 'Merge the narrated audio and soundtrack using audio editing software, carefully balancing volume levels and ensuring seamless transitions. Finalize the audiobook production.': {'next_modes': ['Conduct a final review of the audiobook for audio quality, narrative coherence, and musical alignment'], 'failure': ['Edit the audio to fix any balance or quality issues', 'Reduce the complexity of audio layers if clarity is compromised', 'Deliver a version of the audiobook with narration only if music integration fails']}, 'Conduct a final review of the audiobook for audio quality, narrative coherence, and musical alignment': {'next_modes': [], 'failure': None}}\"\n        ],\n        \"semantic_type\": \"\",\n        \"description\": \"\"\n      }\n    },\n    {\n      \"column\": \"Instruction\",\n      \"properties\": {\n        \"dtype\": \"string\",\n        \"num_unique_values\": 101,\n        \"samples\": [\n          \"Conduct a market research survey, analyze the data to identify trends, and generate a report with visual graphs.\",\n          \"Produce a short documentary on the impact of climate change on coastal communities, including interviews and on-location footage.\",\n          \"Narrate a short story and create a complementary soundtrack, then combine both into an audiobook.\"\n        ],\n        \"semantic_type\": \"\",\n        \"description\": \"\"\n      }\n    },\n    {\n      \"column\": \"Blueprint\",\n      \"properties\": {\n        \"dtype\": \"string\",\n        \"num_unique_values\": 101,\n        \"samples\": [\n          \"{'Conduct survey': {'next_modes': ['Analyze data', 'Identify trends'], 'failure': ['Retry', 'Switch to Different Mode', 'Log and Analyze', 'Quality Assurance Check']}, 'Analyze data': {'next_modes': ['Generate report'], 'failure': ['Retry', 'Request Human Intervention', 'Fallback Content', 'Partial Content Delivery']}, 'Identify trends': {'next_modes': ['Generate report'], 'failure': ['Retry', 'Exit', 'Quality Assurance Check', 'Alternative Data Sources']}, 'Generate report': {'next_modes': ['Analyzer'], 'failure': ['Retry', 'Exit', 'Quality Assurance Check', 'Mode Optimization']}, 'Analyzer': {'next_modes': [], 'failure': None}}\",\n          \"{'Research climate change effects': {'next_modes': ['Conduct interviews', 'Capture on-location footage'], 'failure': ['Retry', 'Log and Analyze', 'Request Human Intervention']}, 'Conduct interviews': {'next_modes': ['Edit video'], 'failure': ['Retry', 'Fallback Content', 'Quality Assurance Check']}, 'Capture on-location footage': {'next_modes': ['Edit video'], 'failure': ['Retry', 'Switch to Different Mode', 'Partial Content Delivery']}, 'Edit video': {'next_modes': ['Analyzer'], 'failure': ['Retry', 'Exit', 'Mode Optimization']}, 'Analyzer': {'next_modes': [], 'failure': None}}\",\n          \"{'Write short story': {'next_modes': ['Record narration', 'Compose soundtrack'], 'failure': ['Retry', 'Request Human Intervention', 'Fallback Content']}, 'Record narration': {'next_modes': ['Edit audio'], 'failure': ['Retry', 'Quality Assurance Check', 'Switch to Different Mode']}, 'Compose soundtrack': {'next_modes': ['Edit audio'], 'failure': ['Retry', 'Fallback Content', 'Alternative Data Sources']}, 'Edit audio': {'next_modes': ['Analyzer'], 'failure': ['Retry', 'Graceful Degradation', 'Partial Content Delivery']}, 'Analyzer': {'next_modes': [], 'failure': None}}\"\n        ],\n        \"semantic_type\": \"\",\n        \"description\": \"\"\n      }\n    },\n    {\n      \"column\": \"prompt\",\n      \"properties\": {\n        \"dtype\": \"string\",\n        \"num_unique_values\": 101,\n        \"samples\": [\n          \"[INST]Below is an instruction that describes a composite task. Provide the structured blueprint planning for the following task.Conduct a market research survey, analyze the data to identify trends, and generate a report with visual graphs.[/INST]\\n\\n### Response:{'Conduct survey': {'next_modes': ['Analyze data', 'Identify trends'], 'failure': ['Retry', 'Switch to Different Mode', 'Log and Analyze', 'Quality Assurance Check']}, 'Analyze data': {'next_modes': ['Generate report'], 'failure': ['Retry', 'Request Human Intervention', 'Fallback Content', 'Partial Content Delivery']}, 'Identify trends': {'next_modes': ['Generate report'], 'failure': ['Retry', 'Exit', 'Quality Assurance Check', 'Alternative Data Sources']}, 'Generate report': {'next_modes': ['Analyzer'], 'failure': ['Retry', 'Exit', 'Quality Assurance Check', 'Mode Optimization']}, 'Analyzer': {'next_modes': [], 'failure': None}}\",\n          \"[INST]Below is an instruction that describes a composite task. Provide the structured blueprint planning for the following task.Produce a short documentary on the impact of climate change on coastal communities, including interviews and on-location footage.[/INST]\\n\\n### Response:{'Research climate change effects': {'next_modes': ['Conduct interviews', 'Capture on-location footage'], 'failure': ['Retry', 'Log and Analyze', 'Request Human Intervention']}, 'Conduct interviews': {'next_modes': ['Edit video'], 'failure': ['Retry', 'Fallback Content', 'Quality Assurance Check']}, 'Capture on-location footage': {'next_modes': ['Edit video'], 'failure': ['Retry', 'Switch to Different Mode', 'Partial Content Delivery']}, 'Edit video': {'next_modes': ['Analyzer'], 'failure': ['Retry', 'Exit', 'Mode Optimization']}, 'Analyzer': {'next_modes': [], 'failure': None}}\",\n          \"[INST]Below is an instruction that describes a composite task. Provide the structured blueprint planning for the following task.Narrate a short story and create a complementary soundtrack, then combine both into an audiobook.[/INST]\\n\\n### Response:{'Write short story': {'next_modes': ['Record narration', 'Compose soundtrack'], 'failure': ['Retry', 'Request Human Intervention', 'Fallback Content']}, 'Record narration': {'next_modes': ['Edit audio'], 'failure': ['Retry', 'Quality Assurance Check', 'Switch to Different Mode']}, 'Compose soundtrack': {'next_modes': ['Edit audio'], 'failure': ['Retry', 'Fallback Content', 'Alternative Data Sources']}, 'Edit audio': {'next_modes': ['Analyzer'], 'failure': ['Retry', 'Graceful Degradation', 'Partial Content Delivery']}, 'Analyzer': {'next_modes': [], 'failure': None}}\"\n        ],\n        \"semantic_type\": \"\",\n        \"description\": \"\"\n      }\n    },\n    {\n      \"column\": \"response\",\n      \"properties\": {\n        \"dtype\": \"string\",\n        \"num_unique_values\": 101,\n        \"samples\": [\n          \"### Response:{'Conduct survey': {'next_modes': ['Analyze data', 'Identify trends'], 'failure': ['Retry', 'Switch to Different Mode', 'Log and Analyze', 'Quality Assurance Check']}, 'Analyze data': {'next_modes': ['Generate report'], 'failure': ['Retry', 'Request Human Intervention', 'Fallback Content', 'Partial Content Delivery']}, 'Identify trends': {'next_modes': ['Generate report'], 'failure': ['Retry', 'Exit', 'Quality Assurance Check', 'Alternative Data Sources']}, 'Generate report': {'next_modes': ['Analyzer'], 'failure': ['Retry', 'Exit', 'Quality Assurance Check', 'Mode Optimization']}, 'Analyzer': {'next_modes': [], 'failure': None}}\",\n          \"### Response:{'Research climate change effects': {'next_modes': ['Conduct interviews', 'Capture on-location footage'], 'failure': ['Retry', 'Log and Analyze', 'Request Human Intervention']}, 'Conduct interviews': {'next_modes': ['Edit video'], 'failure': ['Retry', 'Fallback Content', 'Quality Assurance Check']}, 'Capture on-location footage': {'next_modes': ['Edit video'], 'failure': ['Retry', 'Switch to Different Mode', 'Partial Content Delivery']}, 'Edit video': {'next_modes': ['Analyzer'], 'failure': ['Retry', 'Exit', 'Mode Optimization']}, 'Analyzer': {'next_modes': [], 'failure': None}}\",\n          \"### Response:{'Write short story': {'next_modes': ['Record narration', 'Compose soundtrack'], 'failure': ['Retry', 'Request Human Intervention', 'Fallback Content']}, 'Record narration': {'next_modes': ['Edit audio'], 'failure': ['Retry', 'Quality Assurance Check', 'Switch to Different Mode']}, 'Compose soundtrack': {'next_modes': ['Edit audio'], 'failure': ['Retry', 'Fallback Content', 'Alternative Data Sources']}, 'Edit audio': {'next_modes': ['Analyzer'], 'failure': ['Retry', 'Graceful Degradation', 'Partial Content Delivery']}, 'Analyzer': {'next_modes': [], 'failure': None}}\"\n        ],\n        \"semantic_type\": \"\",\n        \"description\": \"\"\n      }\n    },\n    {\n      \"column\": \"input_ids\",\n      \"properties\": {\n        \"dtype\": \"object\",\n        \"semantic_type\": \"\",\n        \"description\": \"\"\n      }\n    },\n    {\n      \"column\": \"attention_mask\",\n      \"properties\": {\n        \"dtype\": \"object\",\n        \"semantic_type\": \"\",\n        \"description\": \"\"\n      }\n    },\n    {\n      \"column\": \"blueprint-pred\",\n      \"properties\": {\n        \"dtype\": \"string\",\n        \"num_unique_values\": 101,\n        \"samples\": [\n          \"{'Conduct survey': {'next_modes': ['Analyze data'], 'failure': ['Retry', 'Exit', 'Fallback Content', 'Log and Analyze']}, 'Analyze data': {'next_modes': ['Generate report'], 'failure': ['Retry', 'Request Human Intervention', 'Quality Assurance Check', 'Alternative Data Sources']}, 'Generate report': {'next_modes': ['Analyzer'], 'failure': ['Retry', 'Exit', 'Quality Assurance Check', 'Mode Optimization']}, 'Analyzer': {'next_modes': [], 'failure': None}}</s>\",\n          \"{'Research climate change impact': {'next_modes': ['Conduct interviews', 'Capture on-location footage'], 'failure': ['Retry', 'Exit', 'Fallback Content', 'Log and Analyze']}, 'Conduct interviews': {'next_modes': ['Edit documentary'], 'failure': ['Retry', 'Request Human Intervention', 'Quality Assurance Check', 'Mode Optimization']}, 'Capture on-location footage': {'next_modes': ['Edit documentary'], 'failure': ['Retry', 'Switch to Different Mode', 'Partial Content Delivery', 'Alternative Data Sources']}, 'Edit documentary': {'next_modes': ['Analyzer'], 'failure': ['Retry', 'Exit', 'Quality Assurance Check', 'Mode Optimization']}, 'Analyzer': {'next_modes': [], 'failure': None}}</s>\",\n          \"{'Narrate a story': {'next_modes': ['Create a soundtrack'], 'failure': ['Retry', 'Exit', 'Fallback Content', 'Request Human Intervention']}, 'Create a soundtrack': {'next_modes': ['Combine into an audiobook'], 'failure': ['Retry', 'Switch to Different Mode', 'Log and Analyze', 'Quality Assurance Check']}, 'Combine into an audiobook': {'next_modes': ['Analyzer'], 'failure': ['Retry', 'Exit', 'Partial Content Delivery', 'Mode Optimization']}, 'Analyzer': {'next_modes': [], 'failure': None}}</s>\"\n        ],\n        \"semantic_type\": \"\",\n        \"description\": \"\"\n      }\n    }\n  ]\n}"
            }
          },
          "metadata": {},
          "execution_count": 60
        }
      ],
      "source": [
        "df_test_with_blueprint_pred.head(5)"
      ]
    },
    {
      "cell_type": "code",
      "execution_count": null,
      "metadata": {
        "id": "sYt_Tgg4TXAt",
        "colab": {
          "base_uri": "https://localhost:8080/",
          "height": 17
        },
        "outputId": "5f5f92d6-bba0-4976-c792-776e05d67b58"
      },
      "outputs": [
        {
          "output_type": "display_data",
          "data": {
            "text/plain": [
              "<IPython.core.display.HTML object>"
            ],
            "text/html": [
              "\n",
              "  <style>\n",
              "    pre {\n",
              "        white-space: pre-wrap;\n",
              "    }\n",
              "  </style>\n",
              "  "
            ]
          },
          "metadata": {}
        }
      ],
      "source": [
        "import json\n",
        "import numpy as np\n",
        "\n",
        "# Convert DataFrame to a dictionary for prettier JSON\n",
        "data_dict = df_test_with_blueprint_pred.to_dict(orient='records')\n",
        "\n",
        "class NumpyEncoder(json.JSONEncoder):\n",
        "    \"\"\" Special json encoder for numpy types \"\"\"\n",
        "    def default(self, obj):\n",
        "        if isinstance(obj, np.integer):\n",
        "            return int(obj)\n",
        "        elif isinstance(obj, np.floating):\n",
        "            return float(obj)\n",
        "        elif isinstance(obj, np.ndarray):\n",
        "            return obj.tolist()\n",
        "        return json.JSONEncoder.default(self, obj)\n",
        "\n",
        "dumped = json.dumps(data_dict, cls=NumpyEncoder)\n",
        "\n",
        "# Writing prettified JSON to a file\n",
        "with open('data_test_with_blueprint_pred_v2.json', 'w') as f:\n",
        "    json.dump(dumped, f, indent=4)"
      ]
    },
    {
      "cell_type": "code",
      "execution_count": null,
      "metadata": {
        "id": "V0ZROuajT1J9",
        "colab": {
          "base_uri": "https://localhost:8080/",
          "height": 17
        },
        "outputId": "541e9539-57ed-4609-aa20-cd7e71150d75"
      },
      "outputs": [
        {
          "output_type": "display_data",
          "data": {
            "text/plain": [
              "<IPython.core.display.HTML object>"
            ],
            "text/html": [
              "\n",
              "  <style>\n",
              "    pre {\n",
              "        white-space: pre-wrap;\n",
              "    }\n",
              "  </style>\n",
              "  "
            ]
          },
          "metadata": {}
        },
        {
          "output_type": "display_data",
          "data": {
            "text/plain": [
              "<IPython.core.display.Javascript object>"
            ],
            "application/javascript": [
              "\n",
              "    async function download(id, filename, size) {\n",
              "      if (!google.colab.kernel.accessAllowed) {\n",
              "        return;\n",
              "      }\n",
              "      const div = document.createElement('div');\n",
              "      const label = document.createElement('label');\n",
              "      label.textContent = `Downloading \"${filename}\": `;\n",
              "      div.appendChild(label);\n",
              "      const progress = document.createElement('progress');\n",
              "      progress.max = size;\n",
              "      div.appendChild(progress);\n",
              "      document.body.appendChild(div);\n",
              "\n",
              "      const buffers = [];\n",
              "      let downloaded = 0;\n",
              "\n",
              "      const channel = await google.colab.kernel.comms.open(id);\n",
              "      // Send a message to notify the kernel that we're ready.\n",
              "      channel.send({})\n",
              "\n",
              "      for await (const message of channel.messages) {\n",
              "        // Send a message to notify the kernel that we're ready.\n",
              "        channel.send({})\n",
              "        if (message.buffers) {\n",
              "          for (const buffer of message.buffers) {\n",
              "            buffers.push(buffer);\n",
              "            downloaded += buffer.byteLength;\n",
              "            progress.value = downloaded;\n",
              "          }\n",
              "        }\n",
              "      }\n",
              "      const blob = new Blob(buffers, {type: 'application/binary'});\n",
              "      const a = document.createElement('a');\n",
              "      a.href = window.URL.createObjectURL(blob);\n",
              "      a.download = filename;\n",
              "      div.appendChild(a);\n",
              "      a.click();\n",
              "      div.remove();\n",
              "    }\n",
              "  "
            ]
          },
          "metadata": {}
        },
        {
          "output_type": "display_data",
          "data": {
            "text/plain": [
              "<IPython.core.display.Javascript object>"
            ],
            "application/javascript": [
              "download(\"download_e9199a19-2085-4dbe-bbab-2e93b19d7729\", \"data_test_with_blueprint_pred_v2.json\", 655548)"
            ]
          },
          "metadata": {}
        }
      ],
      "source": [
        "from google.colab import files\n",
        "\n",
        "files.download('data_test_with_blueprint_pred_v2.json')"
      ]
    },
    {
      "cell_type": "code",
      "execution_count": null,
      "metadata": {
        "id": "vd02CmrnT_RS",
        "colab": {
          "base_uri": "https://localhost:8080/",
          "height": 17
        },
        "outputId": "9c6a27aa-c520-4c80-b7e9-0991cac9f388"
      },
      "outputs": [
        {
          "output_type": "display_data",
          "data": {
            "text/plain": [
              "<IPython.core.display.HTML object>"
            ],
            "text/html": [
              "\n",
              "  <style>\n",
              "    pre {\n",
              "        white-space: pre-wrap;\n",
              "    }\n",
              "  </style>\n",
              "  "
            ]
          },
          "metadata": {}
        }
      ],
      "source": [
        "import locale\n",
        "locale.getpreferredencoding = lambda: \"UTF-8\""
      ]
    },
    {
      "cell_type": "code",
      "execution_count": null,
      "metadata": {
        "id": "E2nLRfA-UApE",
        "colab": {
          "base_uri": "https://localhost:8080/",
          "height": 170
        },
        "outputId": "9d4d0fa3-dccc-42fd-c8fc-1b66b058535d"
      },
      "outputs": [
        {
          "output_type": "display_data",
          "data": {
            "text/plain": [
              "<IPython.core.display.HTML object>"
            ],
            "text/html": [
              "\n",
              "  <style>\n",
              "    pre {\n",
              "        white-space: pre-wrap;\n",
              "    }\n",
              "  </style>\n",
              "  "
            ]
          },
          "metadata": {}
        },
        {
          "output_type": "stream",
          "name": "stdout",
          "text": [
            "  adding: ckpts_mistral_7B_blueprint_planning_v2/ (stored 0%)\n",
            "  adding: ckpts_mistral_7B_blueprint_planning_v2/tokenizer.model (deflated 55%)\n",
            "  adding: ckpts_mistral_7B_blueprint_planning_v2/tokenizer_config.json (deflated 66%)\n",
            "  adding: ckpts_mistral_7B_blueprint_planning_v2/added_tokens.json (stored 0%)\n",
            "  adding: ckpts_mistral_7B_blueprint_planning_v2/special_tokens_map.json (deflated 72%)\n",
            "  adding: ckpts_mistral_7B_blueprint_planning_v2/adapter_model.safetensors (deflated 50%)\n",
            "  adding: ckpts_mistral_7B_blueprint_planning_v2/adapter_config.json (deflated 54%)\n",
            "  adding: ckpts_mistral_7B_blueprint_planning_v2/README.md (deflated 66%)\n",
            "  adding: ckpts_mistral_7B_blueprint_planning_v2/tokenizer.json (deflated 74%)\n"
          ]
        }
      ],
      "source": [
        "!zip -r ckpts_mistral_7B_blueprint_planning_v2.zip ckpts_mistral_7B_blueprint_planning_v2/"
      ]
    },
    {
      "cell_type": "code",
      "source": [
        "from google.colab import drive\n",
        "drive.mount('/content/drive',force_remount=True)"
      ],
      "metadata": {
        "colab": {
          "base_uri": "https://localhost:8080/",
          "height": 34
        },
        "id": "dGvvMALx357R",
        "outputId": "9d01681f-8587-4deb-f875-8927a52953e6"
      },
      "execution_count": null,
      "outputs": [
        {
          "output_type": "display_data",
          "data": {
            "text/plain": [
              "<IPython.core.display.HTML object>"
            ],
            "text/html": [
              "\n",
              "  <style>\n",
              "    pre {\n",
              "        white-space: pre-wrap;\n",
              "    }\n",
              "  </style>\n",
              "  "
            ]
          },
          "metadata": {}
        },
        {
          "output_type": "stream",
          "name": "stdout",
          "text": [
            "Mounted at /content/drive\n"
          ]
        }
      ]
    },
    {
      "cell_type": "code",
      "source": [
        "!cp ckpts_mistral_7B_blueprint_planning_v2.zip '/content/drive/MyDrive'"
      ],
      "metadata": {
        "colab": {
          "base_uri": "https://localhost:8080/",
          "height": 17
        },
        "id": "fO3sTJqq59WG",
        "outputId": "ca9204fc-eba4-4fe0-f881-1525500e87f2"
      },
      "execution_count": null,
      "outputs": [
        {
          "output_type": "display_data",
          "data": {
            "text/plain": [
              "<IPython.core.display.HTML object>"
            ],
            "text/html": [
              "\n",
              "  <style>\n",
              "    pre {\n",
              "        white-space: pre-wrap;\n",
              "    }\n",
              "  </style>\n",
              "  "
            ]
          },
          "metadata": {}
        }
      ]
    },
    {
      "cell_type": "code",
      "execution_count": null,
      "metadata": {
        "id": "GmMzCJVQr_pI"
      },
      "outputs": [],
      "source": [
        "# from huggingface_hub import create_repo\n",
        "\n",
        "# repo_id = f'{user}/{OUTPUT_DIR_NAME}'\n",
        "\n",
        "# # Set exist_ok to False if the repo has not been created yet\n",
        "# url = create_repo(repo_id, token=hf_token, exist_ok=True)\n",
        "\n",
        "# print(url)"
      ]
    },
    {
      "cell_type": "code",
      "execution_count": null,
      "metadata": {
        "id": "l4Oa2mb-QjLt"
      },
      "outputs": [],
      "source": [
        "# # Flush memory\n",
        "# del trainer, model\n",
        "# gc.collect()\n",
        "# torch.cuda.empty_cache()"
      ]
    },
    {
      "cell_type": "code",
      "execution_count": null,
      "metadata": {
        "id": "9NeTsQOPRSN2"
      },
      "outputs": [],
      "source": [
        "# import torch\n",
        "# from transformers import AutoModelForCausalLM, AutoTokenizer\n",
        "# from peft import PeftModel\n",
        "\n",
        "# base_model = AutoModelForCausalLM.from_pretrained(\n",
        "#     BASE_MODEL_NAME,\n",
        "#     device_map=\"auto\",\n",
        "#     torch_dtype=torch.bfloat16,\n",
        "#     attn_implementation=\"flash_attention_2\" # for Amper GPU\n",
        "# )\n",
        "\n",
        "# model = PeftModel.from_pretrained(base_model, ADAPTER_CHECKPOINTS_NAME)\n",
        "# model = model.merge_and_unload()\n",
        "\n",
        "# tokenizer = AutoTokenizer.from_pretrained(ADAPTER_CHECKPOINTS_NAME)\n",
        "# tokenizer.pad_token, tokenizer.pad_token_id, tokenizer.padding_side"
      ]
    },
    {
      "cell_type": "code",
      "execution_count": null,
      "metadata": {
        "id": "dQPO09ETRsDT"
      },
      "outputs": [],
      "source": [
        "# # Save model and tokenizer\n",
        "# model.save_pretrained(OUTPUT_DIR_NAME)\n",
        "# tokenizer.save_pretrained(OUTPUT_DIR_NAME)"
      ]
    },
    {
      "cell_type": "code",
      "execution_count": null,
      "metadata": {
        "id": "XqD3r3aP18ff"
      },
      "outputs": [],
      "source": [
        "# from pathlib import Path\n",
        "\n",
        "# from huggingface_hub import ModelCard, ModelCardData\n",
        "\n",
        "# card_data = ModelCardData(language='en', license='MIT', library_name='torch')\n",
        "\n",
        "# # Define your jinja template\n",
        "# template_text = \"\"\"\n",
        "# ---\n",
        "# {{ card_data }}\n",
        "# ---\n",
        "\n",
        "# # Model Card for Decompose_Task_Mistral-7B\n",
        "\n",
        "# ## Model Details\n",
        "\n",
        "# ### Model Description\n",
        "\n",
        "# This model decomposes a multi-modal composite task to detailed actionable subtasks\n",
        "\n",
        "# - **Developed by:** Arash Shahmansoori\n",
        "# - **Language(s) (NLP):** en\n",
        "# - **License:** mit\n",
        "# - **Finetuned from model:** Mistral-7B-v0.1\n",
        "\n",
        "# ### Model Sources\n",
        "\n",
        "# - **Repository:** https://github.com/arash-shahmansoori/decompose_net.git\n",
        "# - **Paper [optional]:** https://medium.com/@arash.mansoori65/decompose-and-conquer-introducing-the-first-open-source-large-language-model-with-multi-modal-task-9d3683dd8bed\n",
        "# \"\"\".strip()\n",
        "\n",
        "# # Write the template to a file\n",
        "# Path('custom_template.md').write_text(template_text)\n",
        "\n",
        "# # Define card metadata\n",
        "# card_data = ModelCardData(language='en', license='mit', library_name='torch')\n",
        "\n",
        "# # Create card from template, passing it any jinja template variables you want.\n",
        "# # In our case, we'll pass author\n",
        "# card = ModelCard.from_template(card_data, template_path='custom_template.md', author='Arash Shahmansoori')\n",
        "# card.save('decompose_net_card.md')\n",
        "# print(card)"
      ]
    },
    {
      "cell_type": "code",
      "execution_count": null,
      "metadata": {
        "id": "KiQNWo6E6v2W"
      },
      "outputs": [],
      "source": [
        "# card.push_to_hub(repo_id, token=hf_token)"
      ]
    }
  ],
  "metadata": {
    "accelerator": "GPU",
    "colab": {
      "gpuType": "L4",
      "machine_shape": "hm",
      "provenance": []
    },
    "kernelspec": {
      "display_name": "Python 3",
      "name": "python3"
    },
    "language_info": {
      "name": "python"
    },
    "widgets": {
      "application/vnd.jupyter.widget-state+json": {
        "be18baea9c854346a7478b36fd9febad": {
          "model_module": "@jupyter-widgets/controls",
          "model_name": "VBoxModel",
          "model_module_version": "1.5.0",
          "state": {
            "_dom_classes": [],
            "_model_module": "@jupyter-widgets/controls",
            "_model_module_version": "1.5.0",
            "_model_name": "VBoxModel",
            "_view_count": null,
            "_view_module": "@jupyter-widgets/controls",
            "_view_module_version": "1.5.0",
            "_view_name": "VBoxView",
            "box_style": "",
            "children": [
              "IPY_MODEL_30424d33d4014c7281f44f14ee74a248",
              "IPY_MODEL_1292ff558f214be4abe2001ef710755b",
              "IPY_MODEL_1b928734038f4166a943a2de66a86610",
              "IPY_MODEL_b2d37dc34e7046cbb1ab970b6ba71764"
            ],
            "layout": "IPY_MODEL_68fa138ec3ed496db2d08cb16c568bcc"
          }
        },
        "448dcb8b91514c2698279a73fefdb1bb": {
          "model_module": "@jupyter-widgets/controls",
          "model_name": "HTMLModel",
          "model_module_version": "1.5.0",
          "state": {
            "_dom_classes": [],
            "_model_module": "@jupyter-widgets/controls",
            "_model_module_version": "1.5.0",
            "_model_name": "HTMLModel",
            "_view_count": null,
            "_view_module": "@jupyter-widgets/controls",
            "_view_module_version": "1.5.0",
            "_view_name": "HTMLView",
            "description": "",
            "description_tooltip": null,
            "layout": "IPY_MODEL_67df0a64794047248636d67faca7a234",
            "placeholder": "​",
            "style": "IPY_MODEL_08183f887c6548ba88ed7dcdf32edba3",
            "value": "<center> <img\nsrc=https://huggingface.co/front/assets/huggingface_logo-noborder.svg\nalt='Hugging Face'> <br> Copy a token from <a\nhref=\"https://huggingface.co/settings/tokens\" target=\"_blank\">your Hugging Face\ntokens page</a> and paste it below. <br> Immediately click login after copying\nyour token or it might be stored in plain text in this notebook file. </center>"
          }
        },
        "6a44865e0090427993e54535423d9e2d": {
          "model_module": "@jupyter-widgets/controls",
          "model_name": "PasswordModel",
          "model_module_version": "1.5.0",
          "state": {
            "_dom_classes": [],
            "_model_module": "@jupyter-widgets/controls",
            "_model_module_version": "1.5.0",
            "_model_name": "PasswordModel",
            "_view_count": null,
            "_view_module": "@jupyter-widgets/controls",
            "_view_module_version": "1.5.0",
            "_view_name": "PasswordView",
            "continuous_update": true,
            "description": "Token:",
            "description_tooltip": null,
            "disabled": false,
            "layout": "IPY_MODEL_cee44e645b0d441d9b553cd250036364",
            "placeholder": "​",
            "style": "IPY_MODEL_4345c093244c45de8306dbfb513b3908",
            "value": ""
          }
        },
        "ee6959d61d7040cb94a9b2c7276c07b8": {
          "model_module": "@jupyter-widgets/controls",
          "model_name": "CheckboxModel",
          "model_module_version": "1.5.0",
          "state": {
            "_dom_classes": [],
            "_model_module": "@jupyter-widgets/controls",
            "_model_module_version": "1.5.0",
            "_model_name": "CheckboxModel",
            "_view_count": null,
            "_view_module": "@jupyter-widgets/controls",
            "_view_module_version": "1.5.0",
            "_view_name": "CheckboxView",
            "description": "Add token as git credential?",
            "description_tooltip": null,
            "disabled": false,
            "indent": true,
            "layout": "IPY_MODEL_8044ea96899c4428903bee7307f6b4b6",
            "style": "IPY_MODEL_ca98d78ebd7e43f4ac13133981e29319",
            "value": true
          }
        },
        "adc1b696d9934f0389aa80339bce6891": {
          "model_module": "@jupyter-widgets/controls",
          "model_name": "ButtonModel",
          "model_module_version": "1.5.0",
          "state": {
            "_dom_classes": [],
            "_model_module": "@jupyter-widgets/controls",
            "_model_module_version": "1.5.0",
            "_model_name": "ButtonModel",
            "_view_count": null,
            "_view_module": "@jupyter-widgets/controls",
            "_view_module_version": "1.5.0",
            "_view_name": "ButtonView",
            "button_style": "",
            "description": "Login",
            "disabled": false,
            "icon": "",
            "layout": "IPY_MODEL_d53754abe96248e9b84aeae8e2bae6c1",
            "style": "IPY_MODEL_f2ca759c4a6d4bc2afb435a735d772c2",
            "tooltip": ""
          }
        },
        "0ff18af690504673b27596f2b9311552": {
          "model_module": "@jupyter-widgets/controls",
          "model_name": "HTMLModel",
          "model_module_version": "1.5.0",
          "state": {
            "_dom_classes": [],
            "_model_module": "@jupyter-widgets/controls",
            "_model_module_version": "1.5.0",
            "_model_name": "HTMLModel",
            "_view_count": null,
            "_view_module": "@jupyter-widgets/controls",
            "_view_module_version": "1.5.0",
            "_view_name": "HTMLView",
            "description": "",
            "description_tooltip": null,
            "layout": "IPY_MODEL_190c2a19e12b480c8515f1f3c019c789",
            "placeholder": "​",
            "style": "IPY_MODEL_a6c75d9050184c289f5118607cb26778",
            "value": "\n<b>Pro Tip:</b> If you don't already have one, you can create a dedicated\n'notebooks' token with 'write' access, that you can then easily reuse for all\nnotebooks. </center>"
          }
        },
        "68fa138ec3ed496db2d08cb16c568bcc": {
          "model_module": "@jupyter-widgets/base",
          "model_name": "LayoutModel",
          "model_module_version": "1.2.0",
          "state": {
            "_model_module": "@jupyter-widgets/base",
            "_model_module_version": "1.2.0",
            "_model_name": "LayoutModel",
            "_view_count": null,
            "_view_module": "@jupyter-widgets/base",
            "_view_module_version": "1.2.0",
            "_view_name": "LayoutView",
            "align_content": null,
            "align_items": "center",
            "align_self": null,
            "border": null,
            "bottom": null,
            "display": "flex",
            "flex": null,
            "flex_flow": "column",
            "grid_area": null,
            "grid_auto_columns": null,
            "grid_auto_flow": null,
            "grid_auto_rows": null,
            "grid_column": null,
            "grid_gap": null,
            "grid_row": null,
            "grid_template_areas": null,
            "grid_template_columns": null,
            "grid_template_rows": null,
            "height": null,
            "justify_content": null,
            "justify_items": null,
            "left": null,
            "margin": null,
            "max_height": null,
            "max_width": null,
            "min_height": null,
            "min_width": null,
            "object_fit": null,
            "object_position": null,
            "order": null,
            "overflow": null,
            "overflow_x": null,
            "overflow_y": null,
            "padding": null,
            "right": null,
            "top": null,
            "visibility": null,
            "width": "50%"
          }
        },
        "67df0a64794047248636d67faca7a234": {
          "model_module": "@jupyter-widgets/base",
          "model_name": "LayoutModel",
          "model_module_version": "1.2.0",
          "state": {
            "_model_module": "@jupyter-widgets/base",
            "_model_module_version": "1.2.0",
            "_model_name": "LayoutModel",
            "_view_count": null,
            "_view_module": "@jupyter-widgets/base",
            "_view_module_version": "1.2.0",
            "_view_name": "LayoutView",
            "align_content": null,
            "align_items": null,
            "align_self": null,
            "border": null,
            "bottom": null,
            "display": null,
            "flex": null,
            "flex_flow": null,
            "grid_area": null,
            "grid_auto_columns": null,
            "grid_auto_flow": null,
            "grid_auto_rows": null,
            "grid_column": null,
            "grid_gap": null,
            "grid_row": null,
            "grid_template_areas": null,
            "grid_template_columns": null,
            "grid_template_rows": null,
            "height": null,
            "justify_content": null,
            "justify_items": null,
            "left": null,
            "margin": null,
            "max_height": null,
            "max_width": null,
            "min_height": null,
            "min_width": null,
            "object_fit": null,
            "object_position": null,
            "order": null,
            "overflow": null,
            "overflow_x": null,
            "overflow_y": null,
            "padding": null,
            "right": null,
            "top": null,
            "visibility": null,
            "width": null
          }
        },
        "08183f887c6548ba88ed7dcdf32edba3": {
          "model_module": "@jupyter-widgets/controls",
          "model_name": "DescriptionStyleModel",
          "model_module_version": "1.5.0",
          "state": {
            "_model_module": "@jupyter-widgets/controls",
            "_model_module_version": "1.5.0",
            "_model_name": "DescriptionStyleModel",
            "_view_count": null,
            "_view_module": "@jupyter-widgets/base",
            "_view_module_version": "1.2.0",
            "_view_name": "StyleView",
            "description_width": ""
          }
        },
        "cee44e645b0d441d9b553cd250036364": {
          "model_module": "@jupyter-widgets/base",
          "model_name": "LayoutModel",
          "model_module_version": "1.2.0",
          "state": {
            "_model_module": "@jupyter-widgets/base",
            "_model_module_version": "1.2.0",
            "_model_name": "LayoutModel",
            "_view_count": null,
            "_view_module": "@jupyter-widgets/base",
            "_view_module_version": "1.2.0",
            "_view_name": "LayoutView",
            "align_content": null,
            "align_items": null,
            "align_self": null,
            "border": null,
            "bottom": null,
            "display": null,
            "flex": null,
            "flex_flow": null,
            "grid_area": null,
            "grid_auto_columns": null,
            "grid_auto_flow": null,
            "grid_auto_rows": null,
            "grid_column": null,
            "grid_gap": null,
            "grid_row": null,
            "grid_template_areas": null,
            "grid_template_columns": null,
            "grid_template_rows": null,
            "height": null,
            "justify_content": null,
            "justify_items": null,
            "left": null,
            "margin": null,
            "max_height": null,
            "max_width": null,
            "min_height": null,
            "min_width": null,
            "object_fit": null,
            "object_position": null,
            "order": null,
            "overflow": null,
            "overflow_x": null,
            "overflow_y": null,
            "padding": null,
            "right": null,
            "top": null,
            "visibility": null,
            "width": null
          }
        },
        "4345c093244c45de8306dbfb513b3908": {
          "model_module": "@jupyter-widgets/controls",
          "model_name": "DescriptionStyleModel",
          "model_module_version": "1.5.0",
          "state": {
            "_model_module": "@jupyter-widgets/controls",
            "_model_module_version": "1.5.0",
            "_model_name": "DescriptionStyleModel",
            "_view_count": null,
            "_view_module": "@jupyter-widgets/base",
            "_view_module_version": "1.2.0",
            "_view_name": "StyleView",
            "description_width": ""
          }
        },
        "8044ea96899c4428903bee7307f6b4b6": {
          "model_module": "@jupyter-widgets/base",
          "model_name": "LayoutModel",
          "model_module_version": "1.2.0",
          "state": {
            "_model_module": "@jupyter-widgets/base",
            "_model_module_version": "1.2.0",
            "_model_name": "LayoutModel",
            "_view_count": null,
            "_view_module": "@jupyter-widgets/base",
            "_view_module_version": "1.2.0",
            "_view_name": "LayoutView",
            "align_content": null,
            "align_items": null,
            "align_self": null,
            "border": null,
            "bottom": null,
            "display": null,
            "flex": null,
            "flex_flow": null,
            "grid_area": null,
            "grid_auto_columns": null,
            "grid_auto_flow": null,
            "grid_auto_rows": null,
            "grid_column": null,
            "grid_gap": null,
            "grid_row": null,
            "grid_template_areas": null,
            "grid_template_columns": null,
            "grid_template_rows": null,
            "height": null,
            "justify_content": null,
            "justify_items": null,
            "left": null,
            "margin": null,
            "max_height": null,
            "max_width": null,
            "min_height": null,
            "min_width": null,
            "object_fit": null,
            "object_position": null,
            "order": null,
            "overflow": null,
            "overflow_x": null,
            "overflow_y": null,
            "padding": null,
            "right": null,
            "top": null,
            "visibility": null,
            "width": null
          }
        },
        "ca98d78ebd7e43f4ac13133981e29319": {
          "model_module": "@jupyter-widgets/controls",
          "model_name": "DescriptionStyleModel",
          "model_module_version": "1.5.0",
          "state": {
            "_model_module": "@jupyter-widgets/controls",
            "_model_module_version": "1.5.0",
            "_model_name": "DescriptionStyleModel",
            "_view_count": null,
            "_view_module": "@jupyter-widgets/base",
            "_view_module_version": "1.2.0",
            "_view_name": "StyleView",
            "description_width": ""
          }
        },
        "d53754abe96248e9b84aeae8e2bae6c1": {
          "model_module": "@jupyter-widgets/base",
          "model_name": "LayoutModel",
          "model_module_version": "1.2.0",
          "state": {
            "_model_module": "@jupyter-widgets/base",
            "_model_module_version": "1.2.0",
            "_model_name": "LayoutModel",
            "_view_count": null,
            "_view_module": "@jupyter-widgets/base",
            "_view_module_version": "1.2.0",
            "_view_name": "LayoutView",
            "align_content": null,
            "align_items": null,
            "align_self": null,
            "border": null,
            "bottom": null,
            "display": null,
            "flex": null,
            "flex_flow": null,
            "grid_area": null,
            "grid_auto_columns": null,
            "grid_auto_flow": null,
            "grid_auto_rows": null,
            "grid_column": null,
            "grid_gap": null,
            "grid_row": null,
            "grid_template_areas": null,
            "grid_template_columns": null,
            "grid_template_rows": null,
            "height": null,
            "justify_content": null,
            "justify_items": null,
            "left": null,
            "margin": null,
            "max_height": null,
            "max_width": null,
            "min_height": null,
            "min_width": null,
            "object_fit": null,
            "object_position": null,
            "order": null,
            "overflow": null,
            "overflow_x": null,
            "overflow_y": null,
            "padding": null,
            "right": null,
            "top": null,
            "visibility": null,
            "width": null
          }
        },
        "f2ca759c4a6d4bc2afb435a735d772c2": {
          "model_module": "@jupyter-widgets/controls",
          "model_name": "ButtonStyleModel",
          "model_module_version": "1.5.0",
          "state": {
            "_model_module": "@jupyter-widgets/controls",
            "_model_module_version": "1.5.0",
            "_model_name": "ButtonStyleModel",
            "_view_count": null,
            "_view_module": "@jupyter-widgets/base",
            "_view_module_version": "1.2.0",
            "_view_name": "StyleView",
            "button_color": null,
            "font_weight": ""
          }
        },
        "190c2a19e12b480c8515f1f3c019c789": {
          "model_module": "@jupyter-widgets/base",
          "model_name": "LayoutModel",
          "model_module_version": "1.2.0",
          "state": {
            "_model_module": "@jupyter-widgets/base",
            "_model_module_version": "1.2.0",
            "_model_name": "LayoutModel",
            "_view_count": null,
            "_view_module": "@jupyter-widgets/base",
            "_view_module_version": "1.2.0",
            "_view_name": "LayoutView",
            "align_content": null,
            "align_items": null,
            "align_self": null,
            "border": null,
            "bottom": null,
            "display": null,
            "flex": null,
            "flex_flow": null,
            "grid_area": null,
            "grid_auto_columns": null,
            "grid_auto_flow": null,
            "grid_auto_rows": null,
            "grid_column": null,
            "grid_gap": null,
            "grid_row": null,
            "grid_template_areas": null,
            "grid_template_columns": null,
            "grid_template_rows": null,
            "height": null,
            "justify_content": null,
            "justify_items": null,
            "left": null,
            "margin": null,
            "max_height": null,
            "max_width": null,
            "min_height": null,
            "min_width": null,
            "object_fit": null,
            "object_position": null,
            "order": null,
            "overflow": null,
            "overflow_x": null,
            "overflow_y": null,
            "padding": null,
            "right": null,
            "top": null,
            "visibility": null,
            "width": null
          }
        },
        "a6c75d9050184c289f5118607cb26778": {
          "model_module": "@jupyter-widgets/controls",
          "model_name": "DescriptionStyleModel",
          "model_module_version": "1.5.0",
          "state": {
            "_model_module": "@jupyter-widgets/controls",
            "_model_module_version": "1.5.0",
            "_model_name": "DescriptionStyleModel",
            "_view_count": null,
            "_view_module": "@jupyter-widgets/base",
            "_view_module_version": "1.2.0",
            "_view_name": "StyleView",
            "description_width": ""
          }
        },
        "f714cab3e8bd43b1a99c0e2e4e6d4b0d": {
          "model_module": "@jupyter-widgets/controls",
          "model_name": "LabelModel",
          "model_module_version": "1.5.0",
          "state": {
            "_dom_classes": [],
            "_model_module": "@jupyter-widgets/controls",
            "_model_module_version": "1.5.0",
            "_model_name": "LabelModel",
            "_view_count": null,
            "_view_module": "@jupyter-widgets/controls",
            "_view_module_version": "1.5.0",
            "_view_name": "LabelView",
            "description": "",
            "description_tooltip": null,
            "layout": "IPY_MODEL_7a59efef0fc24a46b888685cd7827d13",
            "placeholder": "​",
            "style": "IPY_MODEL_9f71b5ec25ef4e47b86c6a902f43f462",
            "value": "Connecting..."
          }
        },
        "7a59efef0fc24a46b888685cd7827d13": {
          "model_module": "@jupyter-widgets/base",
          "model_name": "LayoutModel",
          "model_module_version": "1.2.0",
          "state": {
            "_model_module": "@jupyter-widgets/base",
            "_model_module_version": "1.2.0",
            "_model_name": "LayoutModel",
            "_view_count": null,
            "_view_module": "@jupyter-widgets/base",
            "_view_module_version": "1.2.0",
            "_view_name": "LayoutView",
            "align_content": null,
            "align_items": null,
            "align_self": null,
            "border": null,
            "bottom": null,
            "display": null,
            "flex": null,
            "flex_flow": null,
            "grid_area": null,
            "grid_auto_columns": null,
            "grid_auto_flow": null,
            "grid_auto_rows": null,
            "grid_column": null,
            "grid_gap": null,
            "grid_row": null,
            "grid_template_areas": null,
            "grid_template_columns": null,
            "grid_template_rows": null,
            "height": null,
            "justify_content": null,
            "justify_items": null,
            "left": null,
            "margin": null,
            "max_height": null,
            "max_width": null,
            "min_height": null,
            "min_width": null,
            "object_fit": null,
            "object_position": null,
            "order": null,
            "overflow": null,
            "overflow_x": null,
            "overflow_y": null,
            "padding": null,
            "right": null,
            "top": null,
            "visibility": null,
            "width": null
          }
        },
        "9f71b5ec25ef4e47b86c6a902f43f462": {
          "model_module": "@jupyter-widgets/controls",
          "model_name": "DescriptionStyleModel",
          "model_module_version": "1.5.0",
          "state": {
            "_model_module": "@jupyter-widgets/controls",
            "_model_module_version": "1.5.0",
            "_model_name": "DescriptionStyleModel",
            "_view_count": null,
            "_view_module": "@jupyter-widgets/base",
            "_view_module_version": "1.2.0",
            "_view_name": "StyleView",
            "description_width": ""
          }
        },
        "30424d33d4014c7281f44f14ee74a248": {
          "model_module": "@jupyter-widgets/controls",
          "model_name": "LabelModel",
          "model_module_version": "1.5.0",
          "state": {
            "_dom_classes": [],
            "_model_module": "@jupyter-widgets/controls",
            "_model_module_version": "1.5.0",
            "_model_name": "LabelModel",
            "_view_count": null,
            "_view_module": "@jupyter-widgets/controls",
            "_view_module_version": "1.5.0",
            "_view_name": "LabelView",
            "description": "",
            "description_tooltip": null,
            "layout": "IPY_MODEL_021afdf6238d44ec952e167c2534d912",
            "placeholder": "​",
            "style": "IPY_MODEL_492e91c358a046a4ab55a4e6b88fadeb",
            "value": "Token is valid (permission: write)."
          }
        },
        "1292ff558f214be4abe2001ef710755b": {
          "model_module": "@jupyter-widgets/controls",
          "model_name": "LabelModel",
          "model_module_version": "1.5.0",
          "state": {
            "_dom_classes": [],
            "_model_module": "@jupyter-widgets/controls",
            "_model_module_version": "1.5.0",
            "_model_name": "LabelModel",
            "_view_count": null,
            "_view_module": "@jupyter-widgets/controls",
            "_view_module_version": "1.5.0",
            "_view_name": "LabelView",
            "description": "",
            "description_tooltip": null,
            "layout": "IPY_MODEL_a37e62c82838437a98f0d71dba41490c",
            "placeholder": "​",
            "style": "IPY_MODEL_d9eeb53620f64f7f8a1b1a8a0030bde0",
            "value": "Your token has been saved in your configured git credential helpers (store)."
          }
        },
        "1b928734038f4166a943a2de66a86610": {
          "model_module": "@jupyter-widgets/controls",
          "model_name": "LabelModel",
          "model_module_version": "1.5.0",
          "state": {
            "_dom_classes": [],
            "_model_module": "@jupyter-widgets/controls",
            "_model_module_version": "1.5.0",
            "_model_name": "LabelModel",
            "_view_count": null,
            "_view_module": "@jupyter-widgets/controls",
            "_view_module_version": "1.5.0",
            "_view_name": "LabelView",
            "description": "",
            "description_tooltip": null,
            "layout": "IPY_MODEL_2bc13bf8cad944fe8a83f12021010c73",
            "placeholder": "​",
            "style": "IPY_MODEL_12af40c89a874a05a9406ce68ac62117",
            "value": "Your token has been saved to /root/.cache/huggingface/token"
          }
        },
        "b2d37dc34e7046cbb1ab970b6ba71764": {
          "model_module": "@jupyter-widgets/controls",
          "model_name": "LabelModel",
          "model_module_version": "1.5.0",
          "state": {
            "_dom_classes": [],
            "_model_module": "@jupyter-widgets/controls",
            "_model_module_version": "1.5.0",
            "_model_name": "LabelModel",
            "_view_count": null,
            "_view_module": "@jupyter-widgets/controls",
            "_view_module_version": "1.5.0",
            "_view_name": "LabelView",
            "description": "",
            "description_tooltip": null,
            "layout": "IPY_MODEL_d7406463a14746c4b261eb86ca817e96",
            "placeholder": "​",
            "style": "IPY_MODEL_2aed4195e46248e7b2842a6cbb89d6ce",
            "value": "Login successful"
          }
        },
        "021afdf6238d44ec952e167c2534d912": {
          "model_module": "@jupyter-widgets/base",
          "model_name": "LayoutModel",
          "model_module_version": "1.2.0",
          "state": {
            "_model_module": "@jupyter-widgets/base",
            "_model_module_version": "1.2.0",
            "_model_name": "LayoutModel",
            "_view_count": null,
            "_view_module": "@jupyter-widgets/base",
            "_view_module_version": "1.2.0",
            "_view_name": "LayoutView",
            "align_content": null,
            "align_items": null,
            "align_self": null,
            "border": null,
            "bottom": null,
            "display": null,
            "flex": null,
            "flex_flow": null,
            "grid_area": null,
            "grid_auto_columns": null,
            "grid_auto_flow": null,
            "grid_auto_rows": null,
            "grid_column": null,
            "grid_gap": null,
            "grid_row": null,
            "grid_template_areas": null,
            "grid_template_columns": null,
            "grid_template_rows": null,
            "height": null,
            "justify_content": null,
            "justify_items": null,
            "left": null,
            "margin": null,
            "max_height": null,
            "max_width": null,
            "min_height": null,
            "min_width": null,
            "object_fit": null,
            "object_position": null,
            "order": null,
            "overflow": null,
            "overflow_x": null,
            "overflow_y": null,
            "padding": null,
            "right": null,
            "top": null,
            "visibility": null,
            "width": null
          }
        },
        "492e91c358a046a4ab55a4e6b88fadeb": {
          "model_module": "@jupyter-widgets/controls",
          "model_name": "DescriptionStyleModel",
          "model_module_version": "1.5.0",
          "state": {
            "_model_module": "@jupyter-widgets/controls",
            "_model_module_version": "1.5.0",
            "_model_name": "DescriptionStyleModel",
            "_view_count": null,
            "_view_module": "@jupyter-widgets/base",
            "_view_module_version": "1.2.0",
            "_view_name": "StyleView",
            "description_width": ""
          }
        },
        "a37e62c82838437a98f0d71dba41490c": {
          "model_module": "@jupyter-widgets/base",
          "model_name": "LayoutModel",
          "model_module_version": "1.2.0",
          "state": {
            "_model_module": "@jupyter-widgets/base",
            "_model_module_version": "1.2.0",
            "_model_name": "LayoutModel",
            "_view_count": null,
            "_view_module": "@jupyter-widgets/base",
            "_view_module_version": "1.2.0",
            "_view_name": "LayoutView",
            "align_content": null,
            "align_items": null,
            "align_self": null,
            "border": null,
            "bottom": null,
            "display": null,
            "flex": null,
            "flex_flow": null,
            "grid_area": null,
            "grid_auto_columns": null,
            "grid_auto_flow": null,
            "grid_auto_rows": null,
            "grid_column": null,
            "grid_gap": null,
            "grid_row": null,
            "grid_template_areas": null,
            "grid_template_columns": null,
            "grid_template_rows": null,
            "height": null,
            "justify_content": null,
            "justify_items": null,
            "left": null,
            "margin": null,
            "max_height": null,
            "max_width": null,
            "min_height": null,
            "min_width": null,
            "object_fit": null,
            "object_position": null,
            "order": null,
            "overflow": null,
            "overflow_x": null,
            "overflow_y": null,
            "padding": null,
            "right": null,
            "top": null,
            "visibility": null,
            "width": null
          }
        },
        "d9eeb53620f64f7f8a1b1a8a0030bde0": {
          "model_module": "@jupyter-widgets/controls",
          "model_name": "DescriptionStyleModel",
          "model_module_version": "1.5.0",
          "state": {
            "_model_module": "@jupyter-widgets/controls",
            "_model_module_version": "1.5.0",
            "_model_name": "DescriptionStyleModel",
            "_view_count": null,
            "_view_module": "@jupyter-widgets/base",
            "_view_module_version": "1.2.0",
            "_view_name": "StyleView",
            "description_width": ""
          }
        },
        "2bc13bf8cad944fe8a83f12021010c73": {
          "model_module": "@jupyter-widgets/base",
          "model_name": "LayoutModel",
          "model_module_version": "1.2.0",
          "state": {
            "_model_module": "@jupyter-widgets/base",
            "_model_module_version": "1.2.0",
            "_model_name": "LayoutModel",
            "_view_count": null,
            "_view_module": "@jupyter-widgets/base",
            "_view_module_version": "1.2.0",
            "_view_name": "LayoutView",
            "align_content": null,
            "align_items": null,
            "align_self": null,
            "border": null,
            "bottom": null,
            "display": null,
            "flex": null,
            "flex_flow": null,
            "grid_area": null,
            "grid_auto_columns": null,
            "grid_auto_flow": null,
            "grid_auto_rows": null,
            "grid_column": null,
            "grid_gap": null,
            "grid_row": null,
            "grid_template_areas": null,
            "grid_template_columns": null,
            "grid_template_rows": null,
            "height": null,
            "justify_content": null,
            "justify_items": null,
            "left": null,
            "margin": null,
            "max_height": null,
            "max_width": null,
            "min_height": null,
            "min_width": null,
            "object_fit": null,
            "object_position": null,
            "order": null,
            "overflow": null,
            "overflow_x": null,
            "overflow_y": null,
            "padding": null,
            "right": null,
            "top": null,
            "visibility": null,
            "width": null
          }
        },
        "12af40c89a874a05a9406ce68ac62117": {
          "model_module": "@jupyter-widgets/controls",
          "model_name": "DescriptionStyleModel",
          "model_module_version": "1.5.0",
          "state": {
            "_model_module": "@jupyter-widgets/controls",
            "_model_module_version": "1.5.0",
            "_model_name": "DescriptionStyleModel",
            "_view_count": null,
            "_view_module": "@jupyter-widgets/base",
            "_view_module_version": "1.2.0",
            "_view_name": "StyleView",
            "description_width": ""
          }
        },
        "d7406463a14746c4b261eb86ca817e96": {
          "model_module": "@jupyter-widgets/base",
          "model_name": "LayoutModel",
          "model_module_version": "1.2.0",
          "state": {
            "_model_module": "@jupyter-widgets/base",
            "_model_module_version": "1.2.0",
            "_model_name": "LayoutModel",
            "_view_count": null,
            "_view_module": "@jupyter-widgets/base",
            "_view_module_version": "1.2.0",
            "_view_name": "LayoutView",
            "align_content": null,
            "align_items": null,
            "align_self": null,
            "border": null,
            "bottom": null,
            "display": null,
            "flex": null,
            "flex_flow": null,
            "grid_area": null,
            "grid_auto_columns": null,
            "grid_auto_flow": null,
            "grid_auto_rows": null,
            "grid_column": null,
            "grid_gap": null,
            "grid_row": null,
            "grid_template_areas": null,
            "grid_template_columns": null,
            "grid_template_rows": null,
            "height": null,
            "justify_content": null,
            "justify_items": null,
            "left": null,
            "margin": null,
            "max_height": null,
            "max_width": null,
            "min_height": null,
            "min_width": null,
            "object_fit": null,
            "object_position": null,
            "order": null,
            "overflow": null,
            "overflow_x": null,
            "overflow_y": null,
            "padding": null,
            "right": null,
            "top": null,
            "visibility": null,
            "width": null
          }
        },
        "2aed4195e46248e7b2842a6cbb89d6ce": {
          "model_module": "@jupyter-widgets/controls",
          "model_name": "DescriptionStyleModel",
          "model_module_version": "1.5.0",
          "state": {
            "_model_module": "@jupyter-widgets/controls",
            "_model_module_version": "1.5.0",
            "_model_name": "DescriptionStyleModel",
            "_view_count": null,
            "_view_module": "@jupyter-widgets/base",
            "_view_module_version": "1.2.0",
            "_view_name": "StyleView",
            "description_width": ""
          }
        },
        "5a3ef9349928488b90989c89fc7bc185": {
          "model_module": "@jupyter-widgets/controls",
          "model_name": "HBoxModel",
          "model_module_version": "1.5.0",
          "state": {
            "_dom_classes": [],
            "_model_module": "@jupyter-widgets/controls",
            "_model_module_version": "1.5.0",
            "_model_name": "HBoxModel",
            "_view_count": null,
            "_view_module": "@jupyter-widgets/controls",
            "_view_module_version": "1.5.0",
            "_view_name": "HBoxView",
            "box_style": "",
            "children": [
              "IPY_MODEL_81365eff5ca640b492a90cd7638facd7",
              "IPY_MODEL_6cd23befa5d14f079f91744f0cdd90e9",
              "IPY_MODEL_5cfd1e8b96f3499eaf0fbd08d0e02d37"
            ],
            "layout": "IPY_MODEL_84ba24780d594ed697e4c2fcd107265b"
          }
        },
        "81365eff5ca640b492a90cd7638facd7": {
          "model_module": "@jupyter-widgets/controls",
          "model_name": "HTMLModel",
          "model_module_version": "1.5.0",
          "state": {
            "_dom_classes": [],
            "_model_module": "@jupyter-widgets/controls",
            "_model_module_version": "1.5.0",
            "_model_name": "HTMLModel",
            "_view_count": null,
            "_view_module": "@jupyter-widgets/controls",
            "_view_module_version": "1.5.0",
            "_view_name": "HTMLView",
            "description": "",
            "description_tooltip": null,
            "layout": "IPY_MODEL_b7db505a7d3f498f9e6e8672e13dd1c5",
            "placeholder": "​",
            "style": "IPY_MODEL_bb66a0bd561b4168a2478aab78eb1a1b",
            "value": "tokenizer_config.json: 100%"
          }
        },
        "6cd23befa5d14f079f91744f0cdd90e9": {
          "model_module": "@jupyter-widgets/controls",
          "model_name": "FloatProgressModel",
          "model_module_version": "1.5.0",
          "state": {
            "_dom_classes": [],
            "_model_module": "@jupyter-widgets/controls",
            "_model_module_version": "1.5.0",
            "_model_name": "FloatProgressModel",
            "_view_count": null,
            "_view_module": "@jupyter-widgets/controls",
            "_view_module_version": "1.5.0",
            "_view_name": "ProgressView",
            "bar_style": "success",
            "description": "",
            "description_tooltip": null,
            "layout": "IPY_MODEL_a1947c47f70e4809a9bed5e337d2d388",
            "max": 1460,
            "min": 0,
            "orientation": "horizontal",
            "style": "IPY_MODEL_939178a282b542e4b45d84dd496f3ae7",
            "value": 1460
          }
        },
        "5cfd1e8b96f3499eaf0fbd08d0e02d37": {
          "model_module": "@jupyter-widgets/controls",
          "model_name": "HTMLModel",
          "model_module_version": "1.5.0",
          "state": {
            "_dom_classes": [],
            "_model_module": "@jupyter-widgets/controls",
            "_model_module_version": "1.5.0",
            "_model_name": "HTMLModel",
            "_view_count": null,
            "_view_module": "@jupyter-widgets/controls",
            "_view_module_version": "1.5.0",
            "_view_name": "HTMLView",
            "description": "",
            "description_tooltip": null,
            "layout": "IPY_MODEL_a616502ade7e41cd9b3969f73b07b004",
            "placeholder": "​",
            "style": "IPY_MODEL_5bc83da056004a0c8cc15a4c42f4b1b6",
            "value": " 1.46k/1.46k [00:00&lt;00:00, 128kB/s]"
          }
        },
        "84ba24780d594ed697e4c2fcd107265b": {
          "model_module": "@jupyter-widgets/base",
          "model_name": "LayoutModel",
          "model_module_version": "1.2.0",
          "state": {
            "_model_module": "@jupyter-widgets/base",
            "_model_module_version": "1.2.0",
            "_model_name": "LayoutModel",
            "_view_count": null,
            "_view_module": "@jupyter-widgets/base",
            "_view_module_version": "1.2.0",
            "_view_name": "LayoutView",
            "align_content": null,
            "align_items": null,
            "align_self": null,
            "border": null,
            "bottom": null,
            "display": null,
            "flex": null,
            "flex_flow": null,
            "grid_area": null,
            "grid_auto_columns": null,
            "grid_auto_flow": null,
            "grid_auto_rows": null,
            "grid_column": null,
            "grid_gap": null,
            "grid_row": null,
            "grid_template_areas": null,
            "grid_template_columns": null,
            "grid_template_rows": null,
            "height": null,
            "justify_content": null,
            "justify_items": null,
            "left": null,
            "margin": null,
            "max_height": null,
            "max_width": null,
            "min_height": null,
            "min_width": null,
            "object_fit": null,
            "object_position": null,
            "order": null,
            "overflow": null,
            "overflow_x": null,
            "overflow_y": null,
            "padding": null,
            "right": null,
            "top": null,
            "visibility": null,
            "width": null
          }
        },
        "b7db505a7d3f498f9e6e8672e13dd1c5": {
          "model_module": "@jupyter-widgets/base",
          "model_name": "LayoutModel",
          "model_module_version": "1.2.0",
          "state": {
            "_model_module": "@jupyter-widgets/base",
            "_model_module_version": "1.2.0",
            "_model_name": "LayoutModel",
            "_view_count": null,
            "_view_module": "@jupyter-widgets/base",
            "_view_module_version": "1.2.0",
            "_view_name": "LayoutView",
            "align_content": null,
            "align_items": null,
            "align_self": null,
            "border": null,
            "bottom": null,
            "display": null,
            "flex": null,
            "flex_flow": null,
            "grid_area": null,
            "grid_auto_columns": null,
            "grid_auto_flow": null,
            "grid_auto_rows": null,
            "grid_column": null,
            "grid_gap": null,
            "grid_row": null,
            "grid_template_areas": null,
            "grid_template_columns": null,
            "grid_template_rows": null,
            "height": null,
            "justify_content": null,
            "justify_items": null,
            "left": null,
            "margin": null,
            "max_height": null,
            "max_width": null,
            "min_height": null,
            "min_width": null,
            "object_fit": null,
            "object_position": null,
            "order": null,
            "overflow": null,
            "overflow_x": null,
            "overflow_y": null,
            "padding": null,
            "right": null,
            "top": null,
            "visibility": null,
            "width": null
          }
        },
        "bb66a0bd561b4168a2478aab78eb1a1b": {
          "model_module": "@jupyter-widgets/controls",
          "model_name": "DescriptionStyleModel",
          "model_module_version": "1.5.0",
          "state": {
            "_model_module": "@jupyter-widgets/controls",
            "_model_module_version": "1.5.0",
            "_model_name": "DescriptionStyleModel",
            "_view_count": null,
            "_view_module": "@jupyter-widgets/base",
            "_view_module_version": "1.2.0",
            "_view_name": "StyleView",
            "description_width": ""
          }
        },
        "a1947c47f70e4809a9bed5e337d2d388": {
          "model_module": "@jupyter-widgets/base",
          "model_name": "LayoutModel",
          "model_module_version": "1.2.0",
          "state": {
            "_model_module": "@jupyter-widgets/base",
            "_model_module_version": "1.2.0",
            "_model_name": "LayoutModel",
            "_view_count": null,
            "_view_module": "@jupyter-widgets/base",
            "_view_module_version": "1.2.0",
            "_view_name": "LayoutView",
            "align_content": null,
            "align_items": null,
            "align_self": null,
            "border": null,
            "bottom": null,
            "display": null,
            "flex": null,
            "flex_flow": null,
            "grid_area": null,
            "grid_auto_columns": null,
            "grid_auto_flow": null,
            "grid_auto_rows": null,
            "grid_column": null,
            "grid_gap": null,
            "grid_row": null,
            "grid_template_areas": null,
            "grid_template_columns": null,
            "grid_template_rows": null,
            "height": null,
            "justify_content": null,
            "justify_items": null,
            "left": null,
            "margin": null,
            "max_height": null,
            "max_width": null,
            "min_height": null,
            "min_width": null,
            "object_fit": null,
            "object_position": null,
            "order": null,
            "overflow": null,
            "overflow_x": null,
            "overflow_y": null,
            "padding": null,
            "right": null,
            "top": null,
            "visibility": null,
            "width": null
          }
        },
        "939178a282b542e4b45d84dd496f3ae7": {
          "model_module": "@jupyter-widgets/controls",
          "model_name": "ProgressStyleModel",
          "model_module_version": "1.5.0",
          "state": {
            "_model_module": "@jupyter-widgets/controls",
            "_model_module_version": "1.5.0",
            "_model_name": "ProgressStyleModel",
            "_view_count": null,
            "_view_module": "@jupyter-widgets/base",
            "_view_module_version": "1.2.0",
            "_view_name": "StyleView",
            "bar_color": null,
            "description_width": ""
          }
        },
        "a616502ade7e41cd9b3969f73b07b004": {
          "model_module": "@jupyter-widgets/base",
          "model_name": "LayoutModel",
          "model_module_version": "1.2.0",
          "state": {
            "_model_module": "@jupyter-widgets/base",
            "_model_module_version": "1.2.0",
            "_model_name": "LayoutModel",
            "_view_count": null,
            "_view_module": "@jupyter-widgets/base",
            "_view_module_version": "1.2.0",
            "_view_name": "LayoutView",
            "align_content": null,
            "align_items": null,
            "align_self": null,
            "border": null,
            "bottom": null,
            "display": null,
            "flex": null,
            "flex_flow": null,
            "grid_area": null,
            "grid_auto_columns": null,
            "grid_auto_flow": null,
            "grid_auto_rows": null,
            "grid_column": null,
            "grid_gap": null,
            "grid_row": null,
            "grid_template_areas": null,
            "grid_template_columns": null,
            "grid_template_rows": null,
            "height": null,
            "justify_content": null,
            "justify_items": null,
            "left": null,
            "margin": null,
            "max_height": null,
            "max_width": null,
            "min_height": null,
            "min_width": null,
            "object_fit": null,
            "object_position": null,
            "order": null,
            "overflow": null,
            "overflow_x": null,
            "overflow_y": null,
            "padding": null,
            "right": null,
            "top": null,
            "visibility": null,
            "width": null
          }
        },
        "5bc83da056004a0c8cc15a4c42f4b1b6": {
          "model_module": "@jupyter-widgets/controls",
          "model_name": "DescriptionStyleModel",
          "model_module_version": "1.5.0",
          "state": {
            "_model_module": "@jupyter-widgets/controls",
            "_model_module_version": "1.5.0",
            "_model_name": "DescriptionStyleModel",
            "_view_count": null,
            "_view_module": "@jupyter-widgets/base",
            "_view_module_version": "1.2.0",
            "_view_name": "StyleView",
            "description_width": ""
          }
        },
        "cbc12c14f7324d54b55586a8d50e1c33": {
          "model_module": "@jupyter-widgets/controls",
          "model_name": "HBoxModel",
          "model_module_version": "1.5.0",
          "state": {
            "_dom_classes": [],
            "_model_module": "@jupyter-widgets/controls",
            "_model_module_version": "1.5.0",
            "_model_name": "HBoxModel",
            "_view_count": null,
            "_view_module": "@jupyter-widgets/controls",
            "_view_module_version": "1.5.0",
            "_view_name": "HBoxView",
            "box_style": "",
            "children": [
              "IPY_MODEL_f02fe897617240878cc028536a94189f",
              "IPY_MODEL_78d0a1083da04b048ba30ae83365e089",
              "IPY_MODEL_e5ff7c32ec75421a8aa00c0543047e09"
            ],
            "layout": "IPY_MODEL_68b4f33c5ea94a15899301f13ccefe0a"
          }
        },
        "f02fe897617240878cc028536a94189f": {
          "model_module": "@jupyter-widgets/controls",
          "model_name": "HTMLModel",
          "model_module_version": "1.5.0",
          "state": {
            "_dom_classes": [],
            "_model_module": "@jupyter-widgets/controls",
            "_model_module_version": "1.5.0",
            "_model_name": "HTMLModel",
            "_view_count": null,
            "_view_module": "@jupyter-widgets/controls",
            "_view_module_version": "1.5.0",
            "_view_name": "HTMLView",
            "description": "",
            "description_tooltip": null,
            "layout": "IPY_MODEL_4393a61eb64e42dd96ef6d73ef8b583f",
            "placeholder": "​",
            "style": "IPY_MODEL_8019672e2398433b9eab2db5a90664d4",
            "value": "tokenizer.model: 100%"
          }
        },
        "78d0a1083da04b048ba30ae83365e089": {
          "model_module": "@jupyter-widgets/controls",
          "model_name": "FloatProgressModel",
          "model_module_version": "1.5.0",
          "state": {
            "_dom_classes": [],
            "_model_module": "@jupyter-widgets/controls",
            "_model_module_version": "1.5.0",
            "_model_name": "FloatProgressModel",
            "_view_count": null,
            "_view_module": "@jupyter-widgets/controls",
            "_view_module_version": "1.5.0",
            "_view_name": "ProgressView",
            "bar_style": "success",
            "description": "",
            "description_tooltip": null,
            "layout": "IPY_MODEL_ee343e997c884721898290e7372cbdb5",
            "max": 493443,
            "min": 0,
            "orientation": "horizontal",
            "style": "IPY_MODEL_a92377c5bb9e41dbbc9cc08d74fce0e1",
            "value": 493443
          }
        },
        "e5ff7c32ec75421a8aa00c0543047e09": {
          "model_module": "@jupyter-widgets/controls",
          "model_name": "HTMLModel",
          "model_module_version": "1.5.0",
          "state": {
            "_dom_classes": [],
            "_model_module": "@jupyter-widgets/controls",
            "_model_module_version": "1.5.0",
            "_model_name": "HTMLModel",
            "_view_count": null,
            "_view_module": "@jupyter-widgets/controls",
            "_view_module_version": "1.5.0",
            "_view_name": "HTMLView",
            "description": "",
            "description_tooltip": null,
            "layout": "IPY_MODEL_b32e763d215a413e919cb1a2d687ff1a",
            "placeholder": "​",
            "style": "IPY_MODEL_bc06517e95774dd6b59232f0ae296e6c",
            "value": " 493k/493k [00:00&lt;00:00, 28.2MB/s]"
          }
        },
        "68b4f33c5ea94a15899301f13ccefe0a": {
          "model_module": "@jupyter-widgets/base",
          "model_name": "LayoutModel",
          "model_module_version": "1.2.0",
          "state": {
            "_model_module": "@jupyter-widgets/base",
            "_model_module_version": "1.2.0",
            "_model_name": "LayoutModel",
            "_view_count": null,
            "_view_module": "@jupyter-widgets/base",
            "_view_module_version": "1.2.0",
            "_view_name": "LayoutView",
            "align_content": null,
            "align_items": null,
            "align_self": null,
            "border": null,
            "bottom": null,
            "display": null,
            "flex": null,
            "flex_flow": null,
            "grid_area": null,
            "grid_auto_columns": null,
            "grid_auto_flow": null,
            "grid_auto_rows": null,
            "grid_column": null,
            "grid_gap": null,
            "grid_row": null,
            "grid_template_areas": null,
            "grid_template_columns": null,
            "grid_template_rows": null,
            "height": null,
            "justify_content": null,
            "justify_items": null,
            "left": null,
            "margin": null,
            "max_height": null,
            "max_width": null,
            "min_height": null,
            "min_width": null,
            "object_fit": null,
            "object_position": null,
            "order": null,
            "overflow": null,
            "overflow_x": null,
            "overflow_y": null,
            "padding": null,
            "right": null,
            "top": null,
            "visibility": null,
            "width": null
          }
        },
        "4393a61eb64e42dd96ef6d73ef8b583f": {
          "model_module": "@jupyter-widgets/base",
          "model_name": "LayoutModel",
          "model_module_version": "1.2.0",
          "state": {
            "_model_module": "@jupyter-widgets/base",
            "_model_module_version": "1.2.0",
            "_model_name": "LayoutModel",
            "_view_count": null,
            "_view_module": "@jupyter-widgets/base",
            "_view_module_version": "1.2.0",
            "_view_name": "LayoutView",
            "align_content": null,
            "align_items": null,
            "align_self": null,
            "border": null,
            "bottom": null,
            "display": null,
            "flex": null,
            "flex_flow": null,
            "grid_area": null,
            "grid_auto_columns": null,
            "grid_auto_flow": null,
            "grid_auto_rows": null,
            "grid_column": null,
            "grid_gap": null,
            "grid_row": null,
            "grid_template_areas": null,
            "grid_template_columns": null,
            "grid_template_rows": null,
            "height": null,
            "justify_content": null,
            "justify_items": null,
            "left": null,
            "margin": null,
            "max_height": null,
            "max_width": null,
            "min_height": null,
            "min_width": null,
            "object_fit": null,
            "object_position": null,
            "order": null,
            "overflow": null,
            "overflow_x": null,
            "overflow_y": null,
            "padding": null,
            "right": null,
            "top": null,
            "visibility": null,
            "width": null
          }
        },
        "8019672e2398433b9eab2db5a90664d4": {
          "model_module": "@jupyter-widgets/controls",
          "model_name": "DescriptionStyleModel",
          "model_module_version": "1.5.0",
          "state": {
            "_model_module": "@jupyter-widgets/controls",
            "_model_module_version": "1.5.0",
            "_model_name": "DescriptionStyleModel",
            "_view_count": null,
            "_view_module": "@jupyter-widgets/base",
            "_view_module_version": "1.2.0",
            "_view_name": "StyleView",
            "description_width": ""
          }
        },
        "ee343e997c884721898290e7372cbdb5": {
          "model_module": "@jupyter-widgets/base",
          "model_name": "LayoutModel",
          "model_module_version": "1.2.0",
          "state": {
            "_model_module": "@jupyter-widgets/base",
            "_model_module_version": "1.2.0",
            "_model_name": "LayoutModel",
            "_view_count": null,
            "_view_module": "@jupyter-widgets/base",
            "_view_module_version": "1.2.0",
            "_view_name": "LayoutView",
            "align_content": null,
            "align_items": null,
            "align_self": null,
            "border": null,
            "bottom": null,
            "display": null,
            "flex": null,
            "flex_flow": null,
            "grid_area": null,
            "grid_auto_columns": null,
            "grid_auto_flow": null,
            "grid_auto_rows": null,
            "grid_column": null,
            "grid_gap": null,
            "grid_row": null,
            "grid_template_areas": null,
            "grid_template_columns": null,
            "grid_template_rows": null,
            "height": null,
            "justify_content": null,
            "justify_items": null,
            "left": null,
            "margin": null,
            "max_height": null,
            "max_width": null,
            "min_height": null,
            "min_width": null,
            "object_fit": null,
            "object_position": null,
            "order": null,
            "overflow": null,
            "overflow_x": null,
            "overflow_y": null,
            "padding": null,
            "right": null,
            "top": null,
            "visibility": null,
            "width": null
          }
        },
        "a92377c5bb9e41dbbc9cc08d74fce0e1": {
          "model_module": "@jupyter-widgets/controls",
          "model_name": "ProgressStyleModel",
          "model_module_version": "1.5.0",
          "state": {
            "_model_module": "@jupyter-widgets/controls",
            "_model_module_version": "1.5.0",
            "_model_name": "ProgressStyleModel",
            "_view_count": null,
            "_view_module": "@jupyter-widgets/base",
            "_view_module_version": "1.2.0",
            "_view_name": "StyleView",
            "bar_color": null,
            "description_width": ""
          }
        },
        "b32e763d215a413e919cb1a2d687ff1a": {
          "model_module": "@jupyter-widgets/base",
          "model_name": "LayoutModel",
          "model_module_version": "1.2.0",
          "state": {
            "_model_module": "@jupyter-widgets/base",
            "_model_module_version": "1.2.0",
            "_model_name": "LayoutModel",
            "_view_count": null,
            "_view_module": "@jupyter-widgets/base",
            "_view_module_version": "1.2.0",
            "_view_name": "LayoutView",
            "align_content": null,
            "align_items": null,
            "align_self": null,
            "border": null,
            "bottom": null,
            "display": null,
            "flex": null,
            "flex_flow": null,
            "grid_area": null,
            "grid_auto_columns": null,
            "grid_auto_flow": null,
            "grid_auto_rows": null,
            "grid_column": null,
            "grid_gap": null,
            "grid_row": null,
            "grid_template_areas": null,
            "grid_template_columns": null,
            "grid_template_rows": null,
            "height": null,
            "justify_content": null,
            "justify_items": null,
            "left": null,
            "margin": null,
            "max_height": null,
            "max_width": null,
            "min_height": null,
            "min_width": null,
            "object_fit": null,
            "object_position": null,
            "order": null,
            "overflow": null,
            "overflow_x": null,
            "overflow_y": null,
            "padding": null,
            "right": null,
            "top": null,
            "visibility": null,
            "width": null
          }
        },
        "bc06517e95774dd6b59232f0ae296e6c": {
          "model_module": "@jupyter-widgets/controls",
          "model_name": "DescriptionStyleModel",
          "model_module_version": "1.5.0",
          "state": {
            "_model_module": "@jupyter-widgets/controls",
            "_model_module_version": "1.5.0",
            "_model_name": "DescriptionStyleModel",
            "_view_count": null,
            "_view_module": "@jupyter-widgets/base",
            "_view_module_version": "1.2.0",
            "_view_name": "StyleView",
            "description_width": ""
          }
        },
        "60ac43e75a1f4f6fbd269f4354c72115": {
          "model_module": "@jupyter-widgets/controls",
          "model_name": "HBoxModel",
          "model_module_version": "1.5.0",
          "state": {
            "_dom_classes": [],
            "_model_module": "@jupyter-widgets/controls",
            "_model_module_version": "1.5.0",
            "_model_name": "HBoxModel",
            "_view_count": null,
            "_view_module": "@jupyter-widgets/controls",
            "_view_module_version": "1.5.0",
            "_view_name": "HBoxView",
            "box_style": "",
            "children": [
              "IPY_MODEL_095235fae9e646748fedf6a617004969",
              "IPY_MODEL_6b78a9f066c74e4fb6b149d633b025db",
              "IPY_MODEL_9370c78a4ca64284bda231d779d6d792"
            ],
            "layout": "IPY_MODEL_fc66a08dbfc9496a942cfc2f9457a307"
          }
        },
        "095235fae9e646748fedf6a617004969": {
          "model_module": "@jupyter-widgets/controls",
          "model_name": "HTMLModel",
          "model_module_version": "1.5.0",
          "state": {
            "_dom_classes": [],
            "_model_module": "@jupyter-widgets/controls",
            "_model_module_version": "1.5.0",
            "_model_name": "HTMLModel",
            "_view_count": null,
            "_view_module": "@jupyter-widgets/controls",
            "_view_module_version": "1.5.0",
            "_view_name": "HTMLView",
            "description": "",
            "description_tooltip": null,
            "layout": "IPY_MODEL_6a8244b7008b4bb9bc6f2ae2857533b0",
            "placeholder": "​",
            "style": "IPY_MODEL_893e2d2e77824d35ba315ac5c36b4c55",
            "value": "tokenizer.json: 100%"
          }
        },
        "6b78a9f066c74e4fb6b149d633b025db": {
          "model_module": "@jupyter-widgets/controls",
          "model_name": "FloatProgressModel",
          "model_module_version": "1.5.0",
          "state": {
            "_dom_classes": [],
            "_model_module": "@jupyter-widgets/controls",
            "_model_module_version": "1.5.0",
            "_model_name": "FloatProgressModel",
            "_view_count": null,
            "_view_module": "@jupyter-widgets/controls",
            "_view_module_version": "1.5.0",
            "_view_name": "ProgressView",
            "bar_style": "success",
            "description": "",
            "description_tooltip": null,
            "layout": "IPY_MODEL_784433eef5714159a30cd4ed1c3bb133",
            "max": 1795303,
            "min": 0,
            "orientation": "horizontal",
            "style": "IPY_MODEL_c4a656288aa84540a6d02b8fb880ca16",
            "value": 1795303
          }
        },
        "9370c78a4ca64284bda231d779d6d792": {
          "model_module": "@jupyter-widgets/controls",
          "model_name": "HTMLModel",
          "model_module_version": "1.5.0",
          "state": {
            "_dom_classes": [],
            "_model_module": "@jupyter-widgets/controls",
            "_model_module_version": "1.5.0",
            "_model_name": "HTMLModel",
            "_view_count": null,
            "_view_module": "@jupyter-widgets/controls",
            "_view_module_version": "1.5.0",
            "_view_name": "HTMLView",
            "description": "",
            "description_tooltip": null,
            "layout": "IPY_MODEL_bbc1dd490c8f4afcb65fcdebf4d8f2f6",
            "placeholder": "​",
            "style": "IPY_MODEL_55008cb1cd5d43a4bb2f77c4585128f9",
            "value": " 1.80M/1.80M [00:00&lt;00:00, 13.5MB/s]"
          }
        },
        "fc66a08dbfc9496a942cfc2f9457a307": {
          "model_module": "@jupyter-widgets/base",
          "model_name": "LayoutModel",
          "model_module_version": "1.2.0",
          "state": {
            "_model_module": "@jupyter-widgets/base",
            "_model_module_version": "1.2.0",
            "_model_name": "LayoutModel",
            "_view_count": null,
            "_view_module": "@jupyter-widgets/base",
            "_view_module_version": "1.2.0",
            "_view_name": "LayoutView",
            "align_content": null,
            "align_items": null,
            "align_self": null,
            "border": null,
            "bottom": null,
            "display": null,
            "flex": null,
            "flex_flow": null,
            "grid_area": null,
            "grid_auto_columns": null,
            "grid_auto_flow": null,
            "grid_auto_rows": null,
            "grid_column": null,
            "grid_gap": null,
            "grid_row": null,
            "grid_template_areas": null,
            "grid_template_columns": null,
            "grid_template_rows": null,
            "height": null,
            "justify_content": null,
            "justify_items": null,
            "left": null,
            "margin": null,
            "max_height": null,
            "max_width": null,
            "min_height": null,
            "min_width": null,
            "object_fit": null,
            "object_position": null,
            "order": null,
            "overflow": null,
            "overflow_x": null,
            "overflow_y": null,
            "padding": null,
            "right": null,
            "top": null,
            "visibility": null,
            "width": null
          }
        },
        "6a8244b7008b4bb9bc6f2ae2857533b0": {
          "model_module": "@jupyter-widgets/base",
          "model_name": "LayoutModel",
          "model_module_version": "1.2.0",
          "state": {
            "_model_module": "@jupyter-widgets/base",
            "_model_module_version": "1.2.0",
            "_model_name": "LayoutModel",
            "_view_count": null,
            "_view_module": "@jupyter-widgets/base",
            "_view_module_version": "1.2.0",
            "_view_name": "LayoutView",
            "align_content": null,
            "align_items": null,
            "align_self": null,
            "border": null,
            "bottom": null,
            "display": null,
            "flex": null,
            "flex_flow": null,
            "grid_area": null,
            "grid_auto_columns": null,
            "grid_auto_flow": null,
            "grid_auto_rows": null,
            "grid_column": null,
            "grid_gap": null,
            "grid_row": null,
            "grid_template_areas": null,
            "grid_template_columns": null,
            "grid_template_rows": null,
            "height": null,
            "justify_content": null,
            "justify_items": null,
            "left": null,
            "margin": null,
            "max_height": null,
            "max_width": null,
            "min_height": null,
            "min_width": null,
            "object_fit": null,
            "object_position": null,
            "order": null,
            "overflow": null,
            "overflow_x": null,
            "overflow_y": null,
            "padding": null,
            "right": null,
            "top": null,
            "visibility": null,
            "width": null
          }
        },
        "893e2d2e77824d35ba315ac5c36b4c55": {
          "model_module": "@jupyter-widgets/controls",
          "model_name": "DescriptionStyleModel",
          "model_module_version": "1.5.0",
          "state": {
            "_model_module": "@jupyter-widgets/controls",
            "_model_module_version": "1.5.0",
            "_model_name": "DescriptionStyleModel",
            "_view_count": null,
            "_view_module": "@jupyter-widgets/base",
            "_view_module_version": "1.2.0",
            "_view_name": "StyleView",
            "description_width": ""
          }
        },
        "784433eef5714159a30cd4ed1c3bb133": {
          "model_module": "@jupyter-widgets/base",
          "model_name": "LayoutModel",
          "model_module_version": "1.2.0",
          "state": {
            "_model_module": "@jupyter-widgets/base",
            "_model_module_version": "1.2.0",
            "_model_name": "LayoutModel",
            "_view_count": null,
            "_view_module": "@jupyter-widgets/base",
            "_view_module_version": "1.2.0",
            "_view_name": "LayoutView",
            "align_content": null,
            "align_items": null,
            "align_self": null,
            "border": null,
            "bottom": null,
            "display": null,
            "flex": null,
            "flex_flow": null,
            "grid_area": null,
            "grid_auto_columns": null,
            "grid_auto_flow": null,
            "grid_auto_rows": null,
            "grid_column": null,
            "grid_gap": null,
            "grid_row": null,
            "grid_template_areas": null,
            "grid_template_columns": null,
            "grid_template_rows": null,
            "height": null,
            "justify_content": null,
            "justify_items": null,
            "left": null,
            "margin": null,
            "max_height": null,
            "max_width": null,
            "min_height": null,
            "min_width": null,
            "object_fit": null,
            "object_position": null,
            "order": null,
            "overflow": null,
            "overflow_x": null,
            "overflow_y": null,
            "padding": null,
            "right": null,
            "top": null,
            "visibility": null,
            "width": null
          }
        },
        "c4a656288aa84540a6d02b8fb880ca16": {
          "model_module": "@jupyter-widgets/controls",
          "model_name": "ProgressStyleModel",
          "model_module_version": "1.5.0",
          "state": {
            "_model_module": "@jupyter-widgets/controls",
            "_model_module_version": "1.5.0",
            "_model_name": "ProgressStyleModel",
            "_view_count": null,
            "_view_module": "@jupyter-widgets/base",
            "_view_module_version": "1.2.0",
            "_view_name": "StyleView",
            "bar_color": null,
            "description_width": ""
          }
        },
        "bbc1dd490c8f4afcb65fcdebf4d8f2f6": {
          "model_module": "@jupyter-widgets/base",
          "model_name": "LayoutModel",
          "model_module_version": "1.2.0",
          "state": {
            "_model_module": "@jupyter-widgets/base",
            "_model_module_version": "1.2.0",
            "_model_name": "LayoutModel",
            "_view_count": null,
            "_view_module": "@jupyter-widgets/base",
            "_view_module_version": "1.2.0",
            "_view_name": "LayoutView",
            "align_content": null,
            "align_items": null,
            "align_self": null,
            "border": null,
            "bottom": null,
            "display": null,
            "flex": null,
            "flex_flow": null,
            "grid_area": null,
            "grid_auto_columns": null,
            "grid_auto_flow": null,
            "grid_auto_rows": null,
            "grid_column": null,
            "grid_gap": null,
            "grid_row": null,
            "grid_template_areas": null,
            "grid_template_columns": null,
            "grid_template_rows": null,
            "height": null,
            "justify_content": null,
            "justify_items": null,
            "left": null,
            "margin": null,
            "max_height": null,
            "max_width": null,
            "min_height": null,
            "min_width": null,
            "object_fit": null,
            "object_position": null,
            "order": null,
            "overflow": null,
            "overflow_x": null,
            "overflow_y": null,
            "padding": null,
            "right": null,
            "top": null,
            "visibility": null,
            "width": null
          }
        },
        "55008cb1cd5d43a4bb2f77c4585128f9": {
          "model_module": "@jupyter-widgets/controls",
          "model_name": "DescriptionStyleModel",
          "model_module_version": "1.5.0",
          "state": {
            "_model_module": "@jupyter-widgets/controls",
            "_model_module_version": "1.5.0",
            "_model_name": "DescriptionStyleModel",
            "_view_count": null,
            "_view_module": "@jupyter-widgets/base",
            "_view_module_version": "1.2.0",
            "_view_name": "StyleView",
            "description_width": ""
          }
        },
        "b273031d25814e35aef771d49b294024": {
          "model_module": "@jupyter-widgets/controls",
          "model_name": "HBoxModel",
          "model_module_version": "1.5.0",
          "state": {
            "_dom_classes": [],
            "_model_module": "@jupyter-widgets/controls",
            "_model_module_version": "1.5.0",
            "_model_name": "HBoxModel",
            "_view_count": null,
            "_view_module": "@jupyter-widgets/controls",
            "_view_module_version": "1.5.0",
            "_view_name": "HBoxView",
            "box_style": "",
            "children": [
              "IPY_MODEL_f485236369e043e3a4b709b65df66e20",
              "IPY_MODEL_e861ea8a076a49e49197cabff6728381",
              "IPY_MODEL_bd8bbafcc4de4611bcb696eeb72051ac"
            ],
            "layout": "IPY_MODEL_911021302ede4684a6c4f72e8ce0735d"
          }
        },
        "f485236369e043e3a4b709b65df66e20": {
          "model_module": "@jupyter-widgets/controls",
          "model_name": "HTMLModel",
          "model_module_version": "1.5.0",
          "state": {
            "_dom_classes": [],
            "_model_module": "@jupyter-widgets/controls",
            "_model_module_version": "1.5.0",
            "_model_name": "HTMLModel",
            "_view_count": null,
            "_view_module": "@jupyter-widgets/controls",
            "_view_module_version": "1.5.0",
            "_view_name": "HTMLView",
            "description": "",
            "description_tooltip": null,
            "layout": "IPY_MODEL_71f21c8b216249d5bfbc55174c99c121",
            "placeholder": "​",
            "style": "IPY_MODEL_f54e0d4927ac4e4b830bd20c4d7015b8",
            "value": "special_tokens_map.json: 100%"
          }
        },
        "e861ea8a076a49e49197cabff6728381": {
          "model_module": "@jupyter-widgets/controls",
          "model_name": "FloatProgressModel",
          "model_module_version": "1.5.0",
          "state": {
            "_dom_classes": [],
            "_model_module": "@jupyter-widgets/controls",
            "_model_module_version": "1.5.0",
            "_model_name": "FloatProgressModel",
            "_view_count": null,
            "_view_module": "@jupyter-widgets/controls",
            "_view_module_version": "1.5.0",
            "_view_name": "ProgressView",
            "bar_style": "success",
            "description": "",
            "description_tooltip": null,
            "layout": "IPY_MODEL_63ec468654a84d32940b64ec26fca8f3",
            "max": 72,
            "min": 0,
            "orientation": "horizontal",
            "style": "IPY_MODEL_a6fd50aed18b4d09a5b18e83e54f6b45",
            "value": 72
          }
        },
        "bd8bbafcc4de4611bcb696eeb72051ac": {
          "model_module": "@jupyter-widgets/controls",
          "model_name": "HTMLModel",
          "model_module_version": "1.5.0",
          "state": {
            "_dom_classes": [],
            "_model_module": "@jupyter-widgets/controls",
            "_model_module_version": "1.5.0",
            "_model_name": "HTMLModel",
            "_view_count": null,
            "_view_module": "@jupyter-widgets/controls",
            "_view_module_version": "1.5.0",
            "_view_name": "HTMLView",
            "description": "",
            "description_tooltip": null,
            "layout": "IPY_MODEL_ff427542170a4c38afae6c3569a58c0e",
            "placeholder": "​",
            "style": "IPY_MODEL_e56812914a6b40d09f52788c72310bd2",
            "value": " 72.0/72.0 [00:00&lt;00:00, 5.97kB/s]"
          }
        },
        "911021302ede4684a6c4f72e8ce0735d": {
          "model_module": "@jupyter-widgets/base",
          "model_name": "LayoutModel",
          "model_module_version": "1.2.0",
          "state": {
            "_model_module": "@jupyter-widgets/base",
            "_model_module_version": "1.2.0",
            "_model_name": "LayoutModel",
            "_view_count": null,
            "_view_module": "@jupyter-widgets/base",
            "_view_module_version": "1.2.0",
            "_view_name": "LayoutView",
            "align_content": null,
            "align_items": null,
            "align_self": null,
            "border": null,
            "bottom": null,
            "display": null,
            "flex": null,
            "flex_flow": null,
            "grid_area": null,
            "grid_auto_columns": null,
            "grid_auto_flow": null,
            "grid_auto_rows": null,
            "grid_column": null,
            "grid_gap": null,
            "grid_row": null,
            "grid_template_areas": null,
            "grid_template_columns": null,
            "grid_template_rows": null,
            "height": null,
            "justify_content": null,
            "justify_items": null,
            "left": null,
            "margin": null,
            "max_height": null,
            "max_width": null,
            "min_height": null,
            "min_width": null,
            "object_fit": null,
            "object_position": null,
            "order": null,
            "overflow": null,
            "overflow_x": null,
            "overflow_y": null,
            "padding": null,
            "right": null,
            "top": null,
            "visibility": null,
            "width": null
          }
        },
        "71f21c8b216249d5bfbc55174c99c121": {
          "model_module": "@jupyter-widgets/base",
          "model_name": "LayoutModel",
          "model_module_version": "1.2.0",
          "state": {
            "_model_module": "@jupyter-widgets/base",
            "_model_module_version": "1.2.0",
            "_model_name": "LayoutModel",
            "_view_count": null,
            "_view_module": "@jupyter-widgets/base",
            "_view_module_version": "1.2.0",
            "_view_name": "LayoutView",
            "align_content": null,
            "align_items": null,
            "align_self": null,
            "border": null,
            "bottom": null,
            "display": null,
            "flex": null,
            "flex_flow": null,
            "grid_area": null,
            "grid_auto_columns": null,
            "grid_auto_flow": null,
            "grid_auto_rows": null,
            "grid_column": null,
            "grid_gap": null,
            "grid_row": null,
            "grid_template_areas": null,
            "grid_template_columns": null,
            "grid_template_rows": null,
            "height": null,
            "justify_content": null,
            "justify_items": null,
            "left": null,
            "margin": null,
            "max_height": null,
            "max_width": null,
            "min_height": null,
            "min_width": null,
            "object_fit": null,
            "object_position": null,
            "order": null,
            "overflow": null,
            "overflow_x": null,
            "overflow_y": null,
            "padding": null,
            "right": null,
            "top": null,
            "visibility": null,
            "width": null
          }
        },
        "f54e0d4927ac4e4b830bd20c4d7015b8": {
          "model_module": "@jupyter-widgets/controls",
          "model_name": "DescriptionStyleModel",
          "model_module_version": "1.5.0",
          "state": {
            "_model_module": "@jupyter-widgets/controls",
            "_model_module_version": "1.5.0",
            "_model_name": "DescriptionStyleModel",
            "_view_count": null,
            "_view_module": "@jupyter-widgets/base",
            "_view_module_version": "1.2.0",
            "_view_name": "StyleView",
            "description_width": ""
          }
        },
        "63ec468654a84d32940b64ec26fca8f3": {
          "model_module": "@jupyter-widgets/base",
          "model_name": "LayoutModel",
          "model_module_version": "1.2.0",
          "state": {
            "_model_module": "@jupyter-widgets/base",
            "_model_module_version": "1.2.0",
            "_model_name": "LayoutModel",
            "_view_count": null,
            "_view_module": "@jupyter-widgets/base",
            "_view_module_version": "1.2.0",
            "_view_name": "LayoutView",
            "align_content": null,
            "align_items": null,
            "align_self": null,
            "border": null,
            "bottom": null,
            "display": null,
            "flex": null,
            "flex_flow": null,
            "grid_area": null,
            "grid_auto_columns": null,
            "grid_auto_flow": null,
            "grid_auto_rows": null,
            "grid_column": null,
            "grid_gap": null,
            "grid_row": null,
            "grid_template_areas": null,
            "grid_template_columns": null,
            "grid_template_rows": null,
            "height": null,
            "justify_content": null,
            "justify_items": null,
            "left": null,
            "margin": null,
            "max_height": null,
            "max_width": null,
            "min_height": null,
            "min_width": null,
            "object_fit": null,
            "object_position": null,
            "order": null,
            "overflow": null,
            "overflow_x": null,
            "overflow_y": null,
            "padding": null,
            "right": null,
            "top": null,
            "visibility": null,
            "width": null
          }
        },
        "a6fd50aed18b4d09a5b18e83e54f6b45": {
          "model_module": "@jupyter-widgets/controls",
          "model_name": "ProgressStyleModel",
          "model_module_version": "1.5.0",
          "state": {
            "_model_module": "@jupyter-widgets/controls",
            "_model_module_version": "1.5.0",
            "_model_name": "ProgressStyleModel",
            "_view_count": null,
            "_view_module": "@jupyter-widgets/base",
            "_view_module_version": "1.2.0",
            "_view_name": "StyleView",
            "bar_color": null,
            "description_width": ""
          }
        },
        "ff427542170a4c38afae6c3569a58c0e": {
          "model_module": "@jupyter-widgets/base",
          "model_name": "LayoutModel",
          "model_module_version": "1.2.0",
          "state": {
            "_model_module": "@jupyter-widgets/base",
            "_model_module_version": "1.2.0",
            "_model_name": "LayoutModel",
            "_view_count": null,
            "_view_module": "@jupyter-widgets/base",
            "_view_module_version": "1.2.0",
            "_view_name": "LayoutView",
            "align_content": null,
            "align_items": null,
            "align_self": null,
            "border": null,
            "bottom": null,
            "display": null,
            "flex": null,
            "flex_flow": null,
            "grid_area": null,
            "grid_auto_columns": null,
            "grid_auto_flow": null,
            "grid_auto_rows": null,
            "grid_column": null,
            "grid_gap": null,
            "grid_row": null,
            "grid_template_areas": null,
            "grid_template_columns": null,
            "grid_template_rows": null,
            "height": null,
            "justify_content": null,
            "justify_items": null,
            "left": null,
            "margin": null,
            "max_height": null,
            "max_width": null,
            "min_height": null,
            "min_width": null,
            "object_fit": null,
            "object_position": null,
            "order": null,
            "overflow": null,
            "overflow_x": null,
            "overflow_y": null,
            "padding": null,
            "right": null,
            "top": null,
            "visibility": null,
            "width": null
          }
        },
        "e56812914a6b40d09f52788c72310bd2": {
          "model_module": "@jupyter-widgets/controls",
          "model_name": "DescriptionStyleModel",
          "model_module_version": "1.5.0",
          "state": {
            "_model_module": "@jupyter-widgets/controls",
            "_model_module_version": "1.5.0",
            "_model_name": "DescriptionStyleModel",
            "_view_count": null,
            "_view_module": "@jupyter-widgets/base",
            "_view_module_version": "1.2.0",
            "_view_name": "StyleView",
            "description_width": ""
          }
        },
        "5670815270974747962db9023cbf8c5f": {
          "model_module": "@jupyter-widgets/controls",
          "model_name": "HBoxModel",
          "model_module_version": "1.5.0",
          "state": {
            "_dom_classes": [],
            "_model_module": "@jupyter-widgets/controls",
            "_model_module_version": "1.5.0",
            "_model_name": "HBoxModel",
            "_view_count": null,
            "_view_module": "@jupyter-widgets/controls",
            "_view_module_version": "1.5.0",
            "_view_name": "HBoxView",
            "box_style": "",
            "children": [
              "IPY_MODEL_9fc16e059c714d4880772f6c23758e51",
              "IPY_MODEL_13747184e90248a18a26249f21bed3aa",
              "IPY_MODEL_e3e27fa50af34f698b68232c4dbac455"
            ],
            "layout": "IPY_MODEL_45dfd14a8c274a30ae7508002c04eb22"
          }
        },
        "9fc16e059c714d4880772f6c23758e51": {
          "model_module": "@jupyter-widgets/controls",
          "model_name": "HTMLModel",
          "model_module_version": "1.5.0",
          "state": {
            "_dom_classes": [],
            "_model_module": "@jupyter-widgets/controls",
            "_model_module_version": "1.5.0",
            "_model_name": "HTMLModel",
            "_view_count": null,
            "_view_module": "@jupyter-widgets/controls",
            "_view_module_version": "1.5.0",
            "_view_name": "HTMLView",
            "description": "",
            "description_tooltip": null,
            "layout": "IPY_MODEL_1190965dbf6741d4b9cf03f74fd42316",
            "placeholder": "​",
            "style": "IPY_MODEL_0f62298537ff4205a753dce6c2f0f4bc",
            "value": "Resolving data files: 100%"
          }
        },
        "13747184e90248a18a26249f21bed3aa": {
          "model_module": "@jupyter-widgets/controls",
          "model_name": "FloatProgressModel",
          "model_module_version": "1.5.0",
          "state": {
            "_dom_classes": [],
            "_model_module": "@jupyter-widgets/controls",
            "_model_module_version": "1.5.0",
            "_model_name": "FloatProgressModel",
            "_view_count": null,
            "_view_module": "@jupyter-widgets/controls",
            "_view_module_version": "1.5.0",
            "_view_name": "ProgressView",
            "bar_style": "success",
            "description": "",
            "description_tooltip": null,
            "layout": "IPY_MODEL_8201f07e9d2748a0a7323ed1a02ed40c",
            "max": 202,
            "min": 0,
            "orientation": "horizontal",
            "style": "IPY_MODEL_a4eafe129020437eb0a025ad48e516bd",
            "value": 202
          }
        },
        "e3e27fa50af34f698b68232c4dbac455": {
          "model_module": "@jupyter-widgets/controls",
          "model_name": "HTMLModel",
          "model_module_version": "1.5.0",
          "state": {
            "_dom_classes": [],
            "_model_module": "@jupyter-widgets/controls",
            "_model_module_version": "1.5.0",
            "_model_name": "HTMLModel",
            "_view_count": null,
            "_view_module": "@jupyter-widgets/controls",
            "_view_module_version": "1.5.0",
            "_view_name": "HTMLView",
            "description": "",
            "description_tooltip": null,
            "layout": "IPY_MODEL_618510b3b1bd40c9b38189e40ac57bb7",
            "placeholder": "​",
            "style": "IPY_MODEL_96bd6e2263644d2784dbca37e2168e5b",
            "value": " 202/202 [00:00&lt;00:00, 8179.35it/s]"
          }
        },
        "45dfd14a8c274a30ae7508002c04eb22": {
          "model_module": "@jupyter-widgets/base",
          "model_name": "LayoutModel",
          "model_module_version": "1.2.0",
          "state": {
            "_model_module": "@jupyter-widgets/base",
            "_model_module_version": "1.2.0",
            "_model_name": "LayoutModel",
            "_view_count": null,
            "_view_module": "@jupyter-widgets/base",
            "_view_module_version": "1.2.0",
            "_view_name": "LayoutView",
            "align_content": null,
            "align_items": null,
            "align_self": null,
            "border": null,
            "bottom": null,
            "display": null,
            "flex": null,
            "flex_flow": null,
            "grid_area": null,
            "grid_auto_columns": null,
            "grid_auto_flow": null,
            "grid_auto_rows": null,
            "grid_column": null,
            "grid_gap": null,
            "grid_row": null,
            "grid_template_areas": null,
            "grid_template_columns": null,
            "grid_template_rows": null,
            "height": null,
            "justify_content": null,
            "justify_items": null,
            "left": null,
            "margin": null,
            "max_height": null,
            "max_width": null,
            "min_height": null,
            "min_width": null,
            "object_fit": null,
            "object_position": null,
            "order": null,
            "overflow": null,
            "overflow_x": null,
            "overflow_y": null,
            "padding": null,
            "right": null,
            "top": null,
            "visibility": null,
            "width": null
          }
        },
        "1190965dbf6741d4b9cf03f74fd42316": {
          "model_module": "@jupyter-widgets/base",
          "model_name": "LayoutModel",
          "model_module_version": "1.2.0",
          "state": {
            "_model_module": "@jupyter-widgets/base",
            "_model_module_version": "1.2.0",
            "_model_name": "LayoutModel",
            "_view_count": null,
            "_view_module": "@jupyter-widgets/base",
            "_view_module_version": "1.2.0",
            "_view_name": "LayoutView",
            "align_content": null,
            "align_items": null,
            "align_self": null,
            "border": null,
            "bottom": null,
            "display": null,
            "flex": null,
            "flex_flow": null,
            "grid_area": null,
            "grid_auto_columns": null,
            "grid_auto_flow": null,
            "grid_auto_rows": null,
            "grid_column": null,
            "grid_gap": null,
            "grid_row": null,
            "grid_template_areas": null,
            "grid_template_columns": null,
            "grid_template_rows": null,
            "height": null,
            "justify_content": null,
            "justify_items": null,
            "left": null,
            "margin": null,
            "max_height": null,
            "max_width": null,
            "min_height": null,
            "min_width": null,
            "object_fit": null,
            "object_position": null,
            "order": null,
            "overflow": null,
            "overflow_x": null,
            "overflow_y": null,
            "padding": null,
            "right": null,
            "top": null,
            "visibility": null,
            "width": null
          }
        },
        "0f62298537ff4205a753dce6c2f0f4bc": {
          "model_module": "@jupyter-widgets/controls",
          "model_name": "DescriptionStyleModel",
          "model_module_version": "1.5.0",
          "state": {
            "_model_module": "@jupyter-widgets/controls",
            "_model_module_version": "1.5.0",
            "_model_name": "DescriptionStyleModel",
            "_view_count": null,
            "_view_module": "@jupyter-widgets/base",
            "_view_module_version": "1.2.0",
            "_view_name": "StyleView",
            "description_width": ""
          }
        },
        "8201f07e9d2748a0a7323ed1a02ed40c": {
          "model_module": "@jupyter-widgets/base",
          "model_name": "LayoutModel",
          "model_module_version": "1.2.0",
          "state": {
            "_model_module": "@jupyter-widgets/base",
            "_model_module_version": "1.2.0",
            "_model_name": "LayoutModel",
            "_view_count": null,
            "_view_module": "@jupyter-widgets/base",
            "_view_module_version": "1.2.0",
            "_view_name": "LayoutView",
            "align_content": null,
            "align_items": null,
            "align_self": null,
            "border": null,
            "bottom": null,
            "display": null,
            "flex": null,
            "flex_flow": null,
            "grid_area": null,
            "grid_auto_columns": null,
            "grid_auto_flow": null,
            "grid_auto_rows": null,
            "grid_column": null,
            "grid_gap": null,
            "grid_row": null,
            "grid_template_areas": null,
            "grid_template_columns": null,
            "grid_template_rows": null,
            "height": null,
            "justify_content": null,
            "justify_items": null,
            "left": null,
            "margin": null,
            "max_height": null,
            "max_width": null,
            "min_height": null,
            "min_width": null,
            "object_fit": null,
            "object_position": null,
            "order": null,
            "overflow": null,
            "overflow_x": null,
            "overflow_y": null,
            "padding": null,
            "right": null,
            "top": null,
            "visibility": null,
            "width": null
          }
        },
        "a4eafe129020437eb0a025ad48e516bd": {
          "model_module": "@jupyter-widgets/controls",
          "model_name": "ProgressStyleModel",
          "model_module_version": "1.5.0",
          "state": {
            "_model_module": "@jupyter-widgets/controls",
            "_model_module_version": "1.5.0",
            "_model_name": "ProgressStyleModel",
            "_view_count": null,
            "_view_module": "@jupyter-widgets/base",
            "_view_module_version": "1.2.0",
            "_view_name": "StyleView",
            "bar_color": null,
            "description_width": ""
          }
        },
        "618510b3b1bd40c9b38189e40ac57bb7": {
          "model_module": "@jupyter-widgets/base",
          "model_name": "LayoutModel",
          "model_module_version": "1.2.0",
          "state": {
            "_model_module": "@jupyter-widgets/base",
            "_model_module_version": "1.2.0",
            "_model_name": "LayoutModel",
            "_view_count": null,
            "_view_module": "@jupyter-widgets/base",
            "_view_module_version": "1.2.0",
            "_view_name": "LayoutView",
            "align_content": null,
            "align_items": null,
            "align_self": null,
            "border": null,
            "bottom": null,
            "display": null,
            "flex": null,
            "flex_flow": null,
            "grid_area": null,
            "grid_auto_columns": null,
            "grid_auto_flow": null,
            "grid_auto_rows": null,
            "grid_column": null,
            "grid_gap": null,
            "grid_row": null,
            "grid_template_areas": null,
            "grid_template_columns": null,
            "grid_template_rows": null,
            "height": null,
            "justify_content": null,
            "justify_items": null,
            "left": null,
            "margin": null,
            "max_height": null,
            "max_width": null,
            "min_height": null,
            "min_width": null,
            "object_fit": null,
            "object_position": null,
            "order": null,
            "overflow": null,
            "overflow_x": null,
            "overflow_y": null,
            "padding": null,
            "right": null,
            "top": null,
            "visibility": null,
            "width": null
          }
        },
        "96bd6e2263644d2784dbca37e2168e5b": {
          "model_module": "@jupyter-widgets/controls",
          "model_name": "DescriptionStyleModel",
          "model_module_version": "1.5.0",
          "state": {
            "_model_module": "@jupyter-widgets/controls",
            "_model_module_version": "1.5.0",
            "_model_name": "DescriptionStyleModel",
            "_view_count": null,
            "_view_module": "@jupyter-widgets/base",
            "_view_module_version": "1.2.0",
            "_view_name": "StyleView",
            "description_width": ""
          }
        },
        "ae88cf4578ab4ef0b426e7f991e00fb9": {
          "model_module": "@jupyter-widgets/controls",
          "model_name": "HBoxModel",
          "model_module_version": "1.5.0",
          "state": {
            "_dom_classes": [],
            "_model_module": "@jupyter-widgets/controls",
            "_model_module_version": "1.5.0",
            "_model_name": "HBoxModel",
            "_view_count": null,
            "_view_module": "@jupyter-widgets/controls",
            "_view_module_version": "1.5.0",
            "_view_name": "HBoxView",
            "box_style": "",
            "children": [
              "IPY_MODEL_5c1b4c99e39c4adb95ef570038749f8d",
              "IPY_MODEL_9b15cc540baa441fbed78c5a76e9bf44",
              "IPY_MODEL_42bb387f2b694b5683de34540f4a999a"
            ],
            "layout": "IPY_MODEL_f24898105c354b6e81bacd2ebd01d620"
          }
        },
        "5c1b4c99e39c4adb95ef570038749f8d": {
          "model_module": "@jupyter-widgets/controls",
          "model_name": "HTMLModel",
          "model_module_version": "1.5.0",
          "state": {
            "_dom_classes": [],
            "_model_module": "@jupyter-widgets/controls",
            "_model_module_version": "1.5.0",
            "_model_name": "HTMLModel",
            "_view_count": null,
            "_view_module": "@jupyter-widgets/controls",
            "_view_module_version": "1.5.0",
            "_view_name": "HTMLView",
            "description": "",
            "description_tooltip": null,
            "layout": "IPY_MODEL_4f10ec08632f4cd9a06681bf9cf42ec3",
            "placeholder": "​",
            "style": "IPY_MODEL_af0b4a0229b8436eb1a6ced1ccc474dc",
            "value": "Downloading data: 100%"
          }
        },
        "9b15cc540baa441fbed78c5a76e9bf44": {
          "model_module": "@jupyter-widgets/controls",
          "model_name": "FloatProgressModel",
          "model_module_version": "1.5.0",
          "state": {
            "_dom_classes": [],
            "_model_module": "@jupyter-widgets/controls",
            "_model_module_version": "1.5.0",
            "_model_name": "FloatProgressModel",
            "_view_count": null,
            "_view_module": "@jupyter-widgets/controls",
            "_view_module_version": "1.5.0",
            "_view_name": "ProgressView",
            "bar_style": "success",
            "description": "",
            "description_tooltip": null,
            "layout": "IPY_MODEL_b03798457add461bbffe8cecf486e842",
            "max": 202,
            "min": 0,
            "orientation": "horizontal",
            "style": "IPY_MODEL_a51894d018e7488caaeaebefddfa9f06",
            "value": 202
          }
        },
        "42bb387f2b694b5683de34540f4a999a": {
          "model_module": "@jupyter-widgets/controls",
          "model_name": "HTMLModel",
          "model_module_version": "1.5.0",
          "state": {
            "_dom_classes": [],
            "_model_module": "@jupyter-widgets/controls",
            "_model_module_version": "1.5.0",
            "_model_name": "HTMLModel",
            "_view_count": null,
            "_view_module": "@jupyter-widgets/controls",
            "_view_module_version": "1.5.0",
            "_view_name": "HTMLView",
            "description": "",
            "description_tooltip": null,
            "layout": "IPY_MODEL_34f5ca6c09d54178b4a76a4ab0cd4b9e",
            "placeholder": "​",
            "style": "IPY_MODEL_568aa773494547138188bbe90e87ea6e",
            "value": " 202/202 [00:00&lt;00:00, 8800.85files/s]"
          }
        },
        "f24898105c354b6e81bacd2ebd01d620": {
          "model_module": "@jupyter-widgets/base",
          "model_name": "LayoutModel",
          "model_module_version": "1.2.0",
          "state": {
            "_model_module": "@jupyter-widgets/base",
            "_model_module_version": "1.2.0",
            "_model_name": "LayoutModel",
            "_view_count": null,
            "_view_module": "@jupyter-widgets/base",
            "_view_module_version": "1.2.0",
            "_view_name": "LayoutView",
            "align_content": null,
            "align_items": null,
            "align_self": null,
            "border": null,
            "bottom": null,
            "display": null,
            "flex": null,
            "flex_flow": null,
            "grid_area": null,
            "grid_auto_columns": null,
            "grid_auto_flow": null,
            "grid_auto_rows": null,
            "grid_column": null,
            "grid_gap": null,
            "grid_row": null,
            "grid_template_areas": null,
            "grid_template_columns": null,
            "grid_template_rows": null,
            "height": null,
            "justify_content": null,
            "justify_items": null,
            "left": null,
            "margin": null,
            "max_height": null,
            "max_width": null,
            "min_height": null,
            "min_width": null,
            "object_fit": null,
            "object_position": null,
            "order": null,
            "overflow": null,
            "overflow_x": null,
            "overflow_y": null,
            "padding": null,
            "right": null,
            "top": null,
            "visibility": null,
            "width": null
          }
        },
        "4f10ec08632f4cd9a06681bf9cf42ec3": {
          "model_module": "@jupyter-widgets/base",
          "model_name": "LayoutModel",
          "model_module_version": "1.2.0",
          "state": {
            "_model_module": "@jupyter-widgets/base",
            "_model_module_version": "1.2.0",
            "_model_name": "LayoutModel",
            "_view_count": null,
            "_view_module": "@jupyter-widgets/base",
            "_view_module_version": "1.2.0",
            "_view_name": "LayoutView",
            "align_content": null,
            "align_items": null,
            "align_self": null,
            "border": null,
            "bottom": null,
            "display": null,
            "flex": null,
            "flex_flow": null,
            "grid_area": null,
            "grid_auto_columns": null,
            "grid_auto_flow": null,
            "grid_auto_rows": null,
            "grid_column": null,
            "grid_gap": null,
            "grid_row": null,
            "grid_template_areas": null,
            "grid_template_columns": null,
            "grid_template_rows": null,
            "height": null,
            "justify_content": null,
            "justify_items": null,
            "left": null,
            "margin": null,
            "max_height": null,
            "max_width": null,
            "min_height": null,
            "min_width": null,
            "object_fit": null,
            "object_position": null,
            "order": null,
            "overflow": null,
            "overflow_x": null,
            "overflow_y": null,
            "padding": null,
            "right": null,
            "top": null,
            "visibility": null,
            "width": null
          }
        },
        "af0b4a0229b8436eb1a6ced1ccc474dc": {
          "model_module": "@jupyter-widgets/controls",
          "model_name": "DescriptionStyleModel",
          "model_module_version": "1.5.0",
          "state": {
            "_model_module": "@jupyter-widgets/controls",
            "_model_module_version": "1.5.0",
            "_model_name": "DescriptionStyleModel",
            "_view_count": null,
            "_view_module": "@jupyter-widgets/base",
            "_view_module_version": "1.2.0",
            "_view_name": "StyleView",
            "description_width": ""
          }
        },
        "b03798457add461bbffe8cecf486e842": {
          "model_module": "@jupyter-widgets/base",
          "model_name": "LayoutModel",
          "model_module_version": "1.2.0",
          "state": {
            "_model_module": "@jupyter-widgets/base",
            "_model_module_version": "1.2.0",
            "_model_name": "LayoutModel",
            "_view_count": null,
            "_view_module": "@jupyter-widgets/base",
            "_view_module_version": "1.2.0",
            "_view_name": "LayoutView",
            "align_content": null,
            "align_items": null,
            "align_self": null,
            "border": null,
            "bottom": null,
            "display": null,
            "flex": null,
            "flex_flow": null,
            "grid_area": null,
            "grid_auto_columns": null,
            "grid_auto_flow": null,
            "grid_auto_rows": null,
            "grid_column": null,
            "grid_gap": null,
            "grid_row": null,
            "grid_template_areas": null,
            "grid_template_columns": null,
            "grid_template_rows": null,
            "height": null,
            "justify_content": null,
            "justify_items": null,
            "left": null,
            "margin": null,
            "max_height": null,
            "max_width": null,
            "min_height": null,
            "min_width": null,
            "object_fit": null,
            "object_position": null,
            "order": null,
            "overflow": null,
            "overflow_x": null,
            "overflow_y": null,
            "padding": null,
            "right": null,
            "top": null,
            "visibility": null,
            "width": null
          }
        },
        "a51894d018e7488caaeaebefddfa9f06": {
          "model_module": "@jupyter-widgets/controls",
          "model_name": "ProgressStyleModel",
          "model_module_version": "1.5.0",
          "state": {
            "_model_module": "@jupyter-widgets/controls",
            "_model_module_version": "1.5.0",
            "_model_name": "ProgressStyleModel",
            "_view_count": null,
            "_view_module": "@jupyter-widgets/base",
            "_view_module_version": "1.2.0",
            "_view_name": "StyleView",
            "bar_color": null,
            "description_width": ""
          }
        },
        "34f5ca6c09d54178b4a76a4ab0cd4b9e": {
          "model_module": "@jupyter-widgets/base",
          "model_name": "LayoutModel",
          "model_module_version": "1.2.0",
          "state": {
            "_model_module": "@jupyter-widgets/base",
            "_model_module_version": "1.2.0",
            "_model_name": "LayoutModel",
            "_view_count": null,
            "_view_module": "@jupyter-widgets/base",
            "_view_module_version": "1.2.0",
            "_view_name": "LayoutView",
            "align_content": null,
            "align_items": null,
            "align_self": null,
            "border": null,
            "bottom": null,
            "display": null,
            "flex": null,
            "flex_flow": null,
            "grid_area": null,
            "grid_auto_columns": null,
            "grid_auto_flow": null,
            "grid_auto_rows": null,
            "grid_column": null,
            "grid_gap": null,
            "grid_row": null,
            "grid_template_areas": null,
            "grid_template_columns": null,
            "grid_template_rows": null,
            "height": null,
            "justify_content": null,
            "justify_items": null,
            "left": null,
            "margin": null,
            "max_height": null,
            "max_width": null,
            "min_height": null,
            "min_width": null,
            "object_fit": null,
            "object_position": null,
            "order": null,
            "overflow": null,
            "overflow_x": null,
            "overflow_y": null,
            "padding": null,
            "right": null,
            "top": null,
            "visibility": null,
            "width": null
          }
        },
        "568aa773494547138188bbe90e87ea6e": {
          "model_module": "@jupyter-widgets/controls",
          "model_name": "DescriptionStyleModel",
          "model_module_version": "1.5.0",
          "state": {
            "_model_module": "@jupyter-widgets/controls",
            "_model_module_version": "1.5.0",
            "_model_name": "DescriptionStyleModel",
            "_view_count": null,
            "_view_module": "@jupyter-widgets/base",
            "_view_module_version": "1.2.0",
            "_view_name": "StyleView",
            "description_width": ""
          }
        },
        "9a44502a1c2747ad8226af0375a5c2fb": {
          "model_module": "@jupyter-widgets/controls",
          "model_name": "HBoxModel",
          "model_module_version": "1.5.0",
          "state": {
            "_dom_classes": [],
            "_model_module": "@jupyter-widgets/controls",
            "_model_module_version": "1.5.0",
            "_model_name": "HBoxModel",
            "_view_count": null,
            "_view_module": "@jupyter-widgets/controls",
            "_view_module_version": "1.5.0",
            "_view_name": "HBoxView",
            "box_style": "",
            "children": [
              "IPY_MODEL_76d9e888f8d34f239eeb9695be9f2b30",
              "IPY_MODEL_4ca11aa823b14f568041c796c55aaab5",
              "IPY_MODEL_9e728c1b31934b148cf20d1e46d421c7"
            ],
            "layout": "IPY_MODEL_48c6046ea80b424fa79f3529c19f1531"
          }
        },
        "76d9e888f8d34f239eeb9695be9f2b30": {
          "model_module": "@jupyter-widgets/controls",
          "model_name": "HTMLModel",
          "model_module_version": "1.5.0",
          "state": {
            "_dom_classes": [],
            "_model_module": "@jupyter-widgets/controls",
            "_model_module_version": "1.5.0",
            "_model_name": "HTMLModel",
            "_view_count": null,
            "_view_module": "@jupyter-widgets/controls",
            "_view_module_version": "1.5.0",
            "_view_name": "HTMLView",
            "description": "",
            "description_tooltip": null,
            "layout": "IPY_MODEL_e9cc351309994fff90f64bf1960048bd",
            "placeholder": "​",
            "style": "IPY_MODEL_7bf269317f664e40aa78486921ed203b",
            "value": "Generating train split: "
          }
        },
        "4ca11aa823b14f568041c796c55aaab5": {
          "model_module": "@jupyter-widgets/controls",
          "model_name": "FloatProgressModel",
          "model_module_version": "1.5.0",
          "state": {
            "_dom_classes": [],
            "_model_module": "@jupyter-widgets/controls",
            "_model_module_version": "1.5.0",
            "_model_name": "FloatProgressModel",
            "_view_count": null,
            "_view_module": "@jupyter-widgets/controls",
            "_view_module_version": "1.5.0",
            "_view_name": "ProgressView",
            "bar_style": "success",
            "description": "",
            "description_tooltip": null,
            "layout": "IPY_MODEL_c354ab2d32c646d698f9ef9746fee5d8",
            "max": 1,
            "min": 0,
            "orientation": "horizontal",
            "style": "IPY_MODEL_c40edbdd0dce4b7aaab522a264972fbe",
            "value": 1
          }
        },
        "9e728c1b31934b148cf20d1e46d421c7": {
          "model_module": "@jupyter-widgets/controls",
          "model_name": "HTMLModel",
          "model_module_version": "1.5.0",
          "state": {
            "_dom_classes": [],
            "_model_module": "@jupyter-widgets/controls",
            "_model_module_version": "1.5.0",
            "_model_name": "HTMLModel",
            "_view_count": null,
            "_view_module": "@jupyter-widgets/controls",
            "_view_module_version": "1.5.0",
            "_view_name": "HTMLView",
            "description": "",
            "description_tooltip": null,
            "layout": "IPY_MODEL_b3e883dd72f34aca9611bf1c3e6f397b",
            "placeholder": "​",
            "style": "IPY_MODEL_5afc71337e904c01905cc00f9af6cff9",
            "value": " 1007/0 [00:00&lt;00:00, 1512.61 examples/s]"
          }
        },
        "48c6046ea80b424fa79f3529c19f1531": {
          "model_module": "@jupyter-widgets/base",
          "model_name": "LayoutModel",
          "model_module_version": "1.2.0",
          "state": {
            "_model_module": "@jupyter-widgets/base",
            "_model_module_version": "1.2.0",
            "_model_name": "LayoutModel",
            "_view_count": null,
            "_view_module": "@jupyter-widgets/base",
            "_view_module_version": "1.2.0",
            "_view_name": "LayoutView",
            "align_content": null,
            "align_items": null,
            "align_self": null,
            "border": null,
            "bottom": null,
            "display": null,
            "flex": null,
            "flex_flow": null,
            "grid_area": null,
            "grid_auto_columns": null,
            "grid_auto_flow": null,
            "grid_auto_rows": null,
            "grid_column": null,
            "grid_gap": null,
            "grid_row": null,
            "grid_template_areas": null,
            "grid_template_columns": null,
            "grid_template_rows": null,
            "height": null,
            "justify_content": null,
            "justify_items": null,
            "left": null,
            "margin": null,
            "max_height": null,
            "max_width": null,
            "min_height": null,
            "min_width": null,
            "object_fit": null,
            "object_position": null,
            "order": null,
            "overflow": null,
            "overflow_x": null,
            "overflow_y": null,
            "padding": null,
            "right": null,
            "top": null,
            "visibility": null,
            "width": null
          }
        },
        "e9cc351309994fff90f64bf1960048bd": {
          "model_module": "@jupyter-widgets/base",
          "model_name": "LayoutModel",
          "model_module_version": "1.2.0",
          "state": {
            "_model_module": "@jupyter-widgets/base",
            "_model_module_version": "1.2.0",
            "_model_name": "LayoutModel",
            "_view_count": null,
            "_view_module": "@jupyter-widgets/base",
            "_view_module_version": "1.2.0",
            "_view_name": "LayoutView",
            "align_content": null,
            "align_items": null,
            "align_self": null,
            "border": null,
            "bottom": null,
            "display": null,
            "flex": null,
            "flex_flow": null,
            "grid_area": null,
            "grid_auto_columns": null,
            "grid_auto_flow": null,
            "grid_auto_rows": null,
            "grid_column": null,
            "grid_gap": null,
            "grid_row": null,
            "grid_template_areas": null,
            "grid_template_columns": null,
            "grid_template_rows": null,
            "height": null,
            "justify_content": null,
            "justify_items": null,
            "left": null,
            "margin": null,
            "max_height": null,
            "max_width": null,
            "min_height": null,
            "min_width": null,
            "object_fit": null,
            "object_position": null,
            "order": null,
            "overflow": null,
            "overflow_x": null,
            "overflow_y": null,
            "padding": null,
            "right": null,
            "top": null,
            "visibility": null,
            "width": null
          }
        },
        "7bf269317f664e40aa78486921ed203b": {
          "model_module": "@jupyter-widgets/controls",
          "model_name": "DescriptionStyleModel",
          "model_module_version": "1.5.0",
          "state": {
            "_model_module": "@jupyter-widgets/controls",
            "_model_module_version": "1.5.0",
            "_model_name": "DescriptionStyleModel",
            "_view_count": null,
            "_view_module": "@jupyter-widgets/base",
            "_view_module_version": "1.2.0",
            "_view_name": "StyleView",
            "description_width": ""
          }
        },
        "c354ab2d32c646d698f9ef9746fee5d8": {
          "model_module": "@jupyter-widgets/base",
          "model_name": "LayoutModel",
          "model_module_version": "1.2.0",
          "state": {
            "_model_module": "@jupyter-widgets/base",
            "_model_module_version": "1.2.0",
            "_model_name": "LayoutModel",
            "_view_count": null,
            "_view_module": "@jupyter-widgets/base",
            "_view_module_version": "1.2.0",
            "_view_name": "LayoutView",
            "align_content": null,
            "align_items": null,
            "align_self": null,
            "border": null,
            "bottom": null,
            "display": null,
            "flex": null,
            "flex_flow": null,
            "grid_area": null,
            "grid_auto_columns": null,
            "grid_auto_flow": null,
            "grid_auto_rows": null,
            "grid_column": null,
            "grid_gap": null,
            "grid_row": null,
            "grid_template_areas": null,
            "grid_template_columns": null,
            "grid_template_rows": null,
            "height": null,
            "justify_content": null,
            "justify_items": null,
            "left": null,
            "margin": null,
            "max_height": null,
            "max_width": null,
            "min_height": null,
            "min_width": null,
            "object_fit": null,
            "object_position": null,
            "order": null,
            "overflow": null,
            "overflow_x": null,
            "overflow_y": null,
            "padding": null,
            "right": null,
            "top": null,
            "visibility": null,
            "width": "20px"
          }
        },
        "c40edbdd0dce4b7aaab522a264972fbe": {
          "model_module": "@jupyter-widgets/controls",
          "model_name": "ProgressStyleModel",
          "model_module_version": "1.5.0",
          "state": {
            "_model_module": "@jupyter-widgets/controls",
            "_model_module_version": "1.5.0",
            "_model_name": "ProgressStyleModel",
            "_view_count": null,
            "_view_module": "@jupyter-widgets/base",
            "_view_module_version": "1.2.0",
            "_view_name": "StyleView",
            "bar_color": null,
            "description_width": ""
          }
        },
        "b3e883dd72f34aca9611bf1c3e6f397b": {
          "model_module": "@jupyter-widgets/base",
          "model_name": "LayoutModel",
          "model_module_version": "1.2.0",
          "state": {
            "_model_module": "@jupyter-widgets/base",
            "_model_module_version": "1.2.0",
            "_model_name": "LayoutModel",
            "_view_count": null,
            "_view_module": "@jupyter-widgets/base",
            "_view_module_version": "1.2.0",
            "_view_name": "LayoutView",
            "align_content": null,
            "align_items": null,
            "align_self": null,
            "border": null,
            "bottom": null,
            "display": null,
            "flex": null,
            "flex_flow": null,
            "grid_area": null,
            "grid_auto_columns": null,
            "grid_auto_flow": null,
            "grid_auto_rows": null,
            "grid_column": null,
            "grid_gap": null,
            "grid_row": null,
            "grid_template_areas": null,
            "grid_template_columns": null,
            "grid_template_rows": null,
            "height": null,
            "justify_content": null,
            "justify_items": null,
            "left": null,
            "margin": null,
            "max_height": null,
            "max_width": null,
            "min_height": null,
            "min_width": null,
            "object_fit": null,
            "object_position": null,
            "order": null,
            "overflow": null,
            "overflow_x": null,
            "overflow_y": null,
            "padding": null,
            "right": null,
            "top": null,
            "visibility": null,
            "width": null
          }
        },
        "5afc71337e904c01905cc00f9af6cff9": {
          "model_module": "@jupyter-widgets/controls",
          "model_name": "DescriptionStyleModel",
          "model_module_version": "1.5.0",
          "state": {
            "_model_module": "@jupyter-widgets/controls",
            "_model_module_version": "1.5.0",
            "_model_name": "DescriptionStyleModel",
            "_view_count": null,
            "_view_module": "@jupyter-widgets/base",
            "_view_module_version": "1.2.0",
            "_view_name": "StyleView",
            "description_width": ""
          }
        },
        "74e371d8729b4ae094fab7bc93187d54": {
          "model_module": "@jupyter-widgets/controls",
          "model_name": "HBoxModel",
          "model_module_version": "1.5.0",
          "state": {
            "_dom_classes": [],
            "_model_module": "@jupyter-widgets/controls",
            "_model_module_version": "1.5.0",
            "_model_name": "HBoxModel",
            "_view_count": null,
            "_view_module": "@jupyter-widgets/controls",
            "_view_module_version": "1.5.0",
            "_view_name": "HBoxView",
            "box_style": "",
            "children": [
              "IPY_MODEL_6b748154479245cfbdf442476b10de3e",
              "IPY_MODEL_c0c8278787644c8793b769240b3130ed",
              "IPY_MODEL_0a3dbbf885654681966e6f01af885e3d"
            ],
            "layout": "IPY_MODEL_416f9bc6ce2645329b909b20e1e28d6e"
          }
        },
        "6b748154479245cfbdf442476b10de3e": {
          "model_module": "@jupyter-widgets/controls",
          "model_name": "HTMLModel",
          "model_module_version": "1.5.0",
          "state": {
            "_dom_classes": [],
            "_model_module": "@jupyter-widgets/controls",
            "_model_module_version": "1.5.0",
            "_model_name": "HTMLModel",
            "_view_count": null,
            "_view_module": "@jupyter-widgets/controls",
            "_view_module_version": "1.5.0",
            "_view_name": "HTMLView",
            "description": "",
            "description_tooltip": null,
            "layout": "IPY_MODEL_1e93d35003c249508d10d8e8525f9530",
            "placeholder": "​",
            "style": "IPY_MODEL_3f63418975bf491eb351b306f203b79b",
            "value": "Map: 100%"
          }
        },
        "c0c8278787644c8793b769240b3130ed": {
          "model_module": "@jupyter-widgets/controls",
          "model_name": "FloatProgressModel",
          "model_module_version": "1.5.0",
          "state": {
            "_dom_classes": [],
            "_model_module": "@jupyter-widgets/controls",
            "_model_module_version": "1.5.0",
            "_model_name": "FloatProgressModel",
            "_view_count": null,
            "_view_module": "@jupyter-widgets/controls",
            "_view_module_version": "1.5.0",
            "_view_name": "ProgressView",
            "bar_style": "success",
            "description": "",
            "description_tooltip": null,
            "layout": "IPY_MODEL_5867ac904bc3400487ccd26b7bb89ac6",
            "max": 1007,
            "min": 0,
            "orientation": "horizontal",
            "style": "IPY_MODEL_3889f2e6bd5f4433a239890b35db0e25",
            "value": 1007
          }
        },
        "0a3dbbf885654681966e6f01af885e3d": {
          "model_module": "@jupyter-widgets/controls",
          "model_name": "HTMLModel",
          "model_module_version": "1.5.0",
          "state": {
            "_dom_classes": [],
            "_model_module": "@jupyter-widgets/controls",
            "_model_module_version": "1.5.0",
            "_model_name": "HTMLModel",
            "_view_count": null,
            "_view_module": "@jupyter-widgets/controls",
            "_view_module_version": "1.5.0",
            "_view_name": "HTMLView",
            "description": "",
            "description_tooltip": null,
            "layout": "IPY_MODEL_6cee0eac4ca24f1ea595e266a0ea4fe9",
            "placeholder": "​",
            "style": "IPY_MODEL_304b2661837c48a29d740d139f926d73",
            "value": " 1007/1007 [00:00&lt;00:00, 12408.82 examples/s]"
          }
        },
        "416f9bc6ce2645329b909b20e1e28d6e": {
          "model_module": "@jupyter-widgets/base",
          "model_name": "LayoutModel",
          "model_module_version": "1.2.0",
          "state": {
            "_model_module": "@jupyter-widgets/base",
            "_model_module_version": "1.2.0",
            "_model_name": "LayoutModel",
            "_view_count": null,
            "_view_module": "@jupyter-widgets/base",
            "_view_module_version": "1.2.0",
            "_view_name": "LayoutView",
            "align_content": null,
            "align_items": null,
            "align_self": null,
            "border": null,
            "bottom": null,
            "display": null,
            "flex": null,
            "flex_flow": null,
            "grid_area": null,
            "grid_auto_columns": null,
            "grid_auto_flow": null,
            "grid_auto_rows": null,
            "grid_column": null,
            "grid_gap": null,
            "grid_row": null,
            "grid_template_areas": null,
            "grid_template_columns": null,
            "grid_template_rows": null,
            "height": null,
            "justify_content": null,
            "justify_items": null,
            "left": null,
            "margin": null,
            "max_height": null,
            "max_width": null,
            "min_height": null,
            "min_width": null,
            "object_fit": null,
            "object_position": null,
            "order": null,
            "overflow": null,
            "overflow_x": null,
            "overflow_y": null,
            "padding": null,
            "right": null,
            "top": null,
            "visibility": null,
            "width": null
          }
        },
        "1e93d35003c249508d10d8e8525f9530": {
          "model_module": "@jupyter-widgets/base",
          "model_name": "LayoutModel",
          "model_module_version": "1.2.0",
          "state": {
            "_model_module": "@jupyter-widgets/base",
            "_model_module_version": "1.2.0",
            "_model_name": "LayoutModel",
            "_view_count": null,
            "_view_module": "@jupyter-widgets/base",
            "_view_module_version": "1.2.0",
            "_view_name": "LayoutView",
            "align_content": null,
            "align_items": null,
            "align_self": null,
            "border": null,
            "bottom": null,
            "display": null,
            "flex": null,
            "flex_flow": null,
            "grid_area": null,
            "grid_auto_columns": null,
            "grid_auto_flow": null,
            "grid_auto_rows": null,
            "grid_column": null,
            "grid_gap": null,
            "grid_row": null,
            "grid_template_areas": null,
            "grid_template_columns": null,
            "grid_template_rows": null,
            "height": null,
            "justify_content": null,
            "justify_items": null,
            "left": null,
            "margin": null,
            "max_height": null,
            "max_width": null,
            "min_height": null,
            "min_width": null,
            "object_fit": null,
            "object_position": null,
            "order": null,
            "overflow": null,
            "overflow_x": null,
            "overflow_y": null,
            "padding": null,
            "right": null,
            "top": null,
            "visibility": null,
            "width": null
          }
        },
        "3f63418975bf491eb351b306f203b79b": {
          "model_module": "@jupyter-widgets/controls",
          "model_name": "DescriptionStyleModel",
          "model_module_version": "1.5.0",
          "state": {
            "_model_module": "@jupyter-widgets/controls",
            "_model_module_version": "1.5.0",
            "_model_name": "DescriptionStyleModel",
            "_view_count": null,
            "_view_module": "@jupyter-widgets/base",
            "_view_module_version": "1.2.0",
            "_view_name": "StyleView",
            "description_width": ""
          }
        },
        "5867ac904bc3400487ccd26b7bb89ac6": {
          "model_module": "@jupyter-widgets/base",
          "model_name": "LayoutModel",
          "model_module_version": "1.2.0",
          "state": {
            "_model_module": "@jupyter-widgets/base",
            "_model_module_version": "1.2.0",
            "_model_name": "LayoutModel",
            "_view_count": null,
            "_view_module": "@jupyter-widgets/base",
            "_view_module_version": "1.2.0",
            "_view_name": "LayoutView",
            "align_content": null,
            "align_items": null,
            "align_self": null,
            "border": null,
            "bottom": null,
            "display": null,
            "flex": null,
            "flex_flow": null,
            "grid_area": null,
            "grid_auto_columns": null,
            "grid_auto_flow": null,
            "grid_auto_rows": null,
            "grid_column": null,
            "grid_gap": null,
            "grid_row": null,
            "grid_template_areas": null,
            "grid_template_columns": null,
            "grid_template_rows": null,
            "height": null,
            "justify_content": null,
            "justify_items": null,
            "left": null,
            "margin": null,
            "max_height": null,
            "max_width": null,
            "min_height": null,
            "min_width": null,
            "object_fit": null,
            "object_position": null,
            "order": null,
            "overflow": null,
            "overflow_x": null,
            "overflow_y": null,
            "padding": null,
            "right": null,
            "top": null,
            "visibility": null,
            "width": null
          }
        },
        "3889f2e6bd5f4433a239890b35db0e25": {
          "model_module": "@jupyter-widgets/controls",
          "model_name": "ProgressStyleModel",
          "model_module_version": "1.5.0",
          "state": {
            "_model_module": "@jupyter-widgets/controls",
            "_model_module_version": "1.5.0",
            "_model_name": "ProgressStyleModel",
            "_view_count": null,
            "_view_module": "@jupyter-widgets/base",
            "_view_module_version": "1.2.0",
            "_view_name": "StyleView",
            "bar_color": null,
            "description_width": ""
          }
        },
        "6cee0eac4ca24f1ea595e266a0ea4fe9": {
          "model_module": "@jupyter-widgets/base",
          "model_name": "LayoutModel",
          "model_module_version": "1.2.0",
          "state": {
            "_model_module": "@jupyter-widgets/base",
            "_model_module_version": "1.2.0",
            "_model_name": "LayoutModel",
            "_view_count": null,
            "_view_module": "@jupyter-widgets/base",
            "_view_module_version": "1.2.0",
            "_view_name": "LayoutView",
            "align_content": null,
            "align_items": null,
            "align_self": null,
            "border": null,
            "bottom": null,
            "display": null,
            "flex": null,
            "flex_flow": null,
            "grid_area": null,
            "grid_auto_columns": null,
            "grid_auto_flow": null,
            "grid_auto_rows": null,
            "grid_column": null,
            "grid_gap": null,
            "grid_row": null,
            "grid_template_areas": null,
            "grid_template_columns": null,
            "grid_template_rows": null,
            "height": null,
            "justify_content": null,
            "justify_items": null,
            "left": null,
            "margin": null,
            "max_height": null,
            "max_width": null,
            "min_height": null,
            "min_width": null,
            "object_fit": null,
            "object_position": null,
            "order": null,
            "overflow": null,
            "overflow_x": null,
            "overflow_y": null,
            "padding": null,
            "right": null,
            "top": null,
            "visibility": null,
            "width": null
          }
        },
        "304b2661837c48a29d740d139f926d73": {
          "model_module": "@jupyter-widgets/controls",
          "model_name": "DescriptionStyleModel",
          "model_module_version": "1.5.0",
          "state": {
            "_model_module": "@jupyter-widgets/controls",
            "_model_module_version": "1.5.0",
            "_model_name": "DescriptionStyleModel",
            "_view_count": null,
            "_view_module": "@jupyter-widgets/base",
            "_view_module_version": "1.2.0",
            "_view_name": "StyleView",
            "description_width": ""
          }
        },
        "d6b19523eab64270bff96fb80555d29d": {
          "model_module": "@jupyter-widgets/controls",
          "model_name": "HBoxModel",
          "model_module_version": "1.5.0",
          "state": {
            "_dom_classes": [],
            "_model_module": "@jupyter-widgets/controls",
            "_model_module_version": "1.5.0",
            "_model_name": "HBoxModel",
            "_view_count": null,
            "_view_module": "@jupyter-widgets/controls",
            "_view_module_version": "1.5.0",
            "_view_name": "HBoxView",
            "box_style": "",
            "children": [
              "IPY_MODEL_ae0d4a312c5743f2b8a1d6d009d1b741",
              "IPY_MODEL_f8cd79916bca4d3baa856e1586117175",
              "IPY_MODEL_e2df88e7a50b40989ec592ce8c746027"
            ],
            "layout": "IPY_MODEL_a08b22a0f8914a07918d9b5598cb24bd"
          }
        },
        "ae0d4a312c5743f2b8a1d6d009d1b741": {
          "model_module": "@jupyter-widgets/controls",
          "model_name": "HTMLModel",
          "model_module_version": "1.5.0",
          "state": {
            "_dom_classes": [],
            "_model_module": "@jupyter-widgets/controls",
            "_model_module_version": "1.5.0",
            "_model_name": "HTMLModel",
            "_view_count": null,
            "_view_module": "@jupyter-widgets/controls",
            "_view_module_version": "1.5.0",
            "_view_name": "HTMLView",
            "description": "",
            "description_tooltip": null,
            "layout": "IPY_MODEL_0757648bd2c4464aa4ee46c5b9d2fa2d",
            "placeholder": "​",
            "style": "IPY_MODEL_321e822dcf444cbea72efc5ecc988808",
            "value": "Map: 100%"
          }
        },
        "f8cd79916bca4d3baa856e1586117175": {
          "model_module": "@jupyter-widgets/controls",
          "model_name": "FloatProgressModel",
          "model_module_version": "1.5.0",
          "state": {
            "_dom_classes": [],
            "_model_module": "@jupyter-widgets/controls",
            "_model_module_version": "1.5.0",
            "_model_name": "FloatProgressModel",
            "_view_count": null,
            "_view_module": "@jupyter-widgets/controls",
            "_view_module_version": "1.5.0",
            "_view_name": "ProgressView",
            "bar_style": "success",
            "description": "",
            "description_tooltip": null,
            "layout": "IPY_MODEL_f4542e0d14a84c26a6ece2febf999d6f",
            "max": 1007,
            "min": 0,
            "orientation": "horizontal",
            "style": "IPY_MODEL_2ee7dadec57e4135a46a03954b366060",
            "value": 1007
          }
        },
        "e2df88e7a50b40989ec592ce8c746027": {
          "model_module": "@jupyter-widgets/controls",
          "model_name": "HTMLModel",
          "model_module_version": "1.5.0",
          "state": {
            "_dom_classes": [],
            "_model_module": "@jupyter-widgets/controls",
            "_model_module_version": "1.5.0",
            "_model_name": "HTMLModel",
            "_view_count": null,
            "_view_module": "@jupyter-widgets/controls",
            "_view_module_version": "1.5.0",
            "_view_name": "HTMLView",
            "description": "",
            "description_tooltip": null,
            "layout": "IPY_MODEL_45d6bcad5d6f411ab55e2cf72ac06bf6",
            "placeholder": "​",
            "style": "IPY_MODEL_9885b1852c1d498582835fe59f9416ba",
            "value": " 1007/1007 [00:00&lt;00:00, 4959.72 examples/s]"
          }
        },
        "a08b22a0f8914a07918d9b5598cb24bd": {
          "model_module": "@jupyter-widgets/base",
          "model_name": "LayoutModel",
          "model_module_version": "1.2.0",
          "state": {
            "_model_module": "@jupyter-widgets/base",
            "_model_module_version": "1.2.0",
            "_model_name": "LayoutModel",
            "_view_count": null,
            "_view_module": "@jupyter-widgets/base",
            "_view_module_version": "1.2.0",
            "_view_name": "LayoutView",
            "align_content": null,
            "align_items": null,
            "align_self": null,
            "border": null,
            "bottom": null,
            "display": null,
            "flex": null,
            "flex_flow": null,
            "grid_area": null,
            "grid_auto_columns": null,
            "grid_auto_flow": null,
            "grid_auto_rows": null,
            "grid_column": null,
            "grid_gap": null,
            "grid_row": null,
            "grid_template_areas": null,
            "grid_template_columns": null,
            "grid_template_rows": null,
            "height": null,
            "justify_content": null,
            "justify_items": null,
            "left": null,
            "margin": null,
            "max_height": null,
            "max_width": null,
            "min_height": null,
            "min_width": null,
            "object_fit": null,
            "object_position": null,
            "order": null,
            "overflow": null,
            "overflow_x": null,
            "overflow_y": null,
            "padding": null,
            "right": null,
            "top": null,
            "visibility": null,
            "width": null
          }
        },
        "0757648bd2c4464aa4ee46c5b9d2fa2d": {
          "model_module": "@jupyter-widgets/base",
          "model_name": "LayoutModel",
          "model_module_version": "1.2.0",
          "state": {
            "_model_module": "@jupyter-widgets/base",
            "_model_module_version": "1.2.0",
            "_model_name": "LayoutModel",
            "_view_count": null,
            "_view_module": "@jupyter-widgets/base",
            "_view_module_version": "1.2.0",
            "_view_name": "LayoutView",
            "align_content": null,
            "align_items": null,
            "align_self": null,
            "border": null,
            "bottom": null,
            "display": null,
            "flex": null,
            "flex_flow": null,
            "grid_area": null,
            "grid_auto_columns": null,
            "grid_auto_flow": null,
            "grid_auto_rows": null,
            "grid_column": null,
            "grid_gap": null,
            "grid_row": null,
            "grid_template_areas": null,
            "grid_template_columns": null,
            "grid_template_rows": null,
            "height": null,
            "justify_content": null,
            "justify_items": null,
            "left": null,
            "margin": null,
            "max_height": null,
            "max_width": null,
            "min_height": null,
            "min_width": null,
            "object_fit": null,
            "object_position": null,
            "order": null,
            "overflow": null,
            "overflow_x": null,
            "overflow_y": null,
            "padding": null,
            "right": null,
            "top": null,
            "visibility": null,
            "width": null
          }
        },
        "321e822dcf444cbea72efc5ecc988808": {
          "model_module": "@jupyter-widgets/controls",
          "model_name": "DescriptionStyleModel",
          "model_module_version": "1.5.0",
          "state": {
            "_model_module": "@jupyter-widgets/controls",
            "_model_module_version": "1.5.0",
            "_model_name": "DescriptionStyleModel",
            "_view_count": null,
            "_view_module": "@jupyter-widgets/base",
            "_view_module_version": "1.2.0",
            "_view_name": "StyleView",
            "description_width": ""
          }
        },
        "f4542e0d14a84c26a6ece2febf999d6f": {
          "model_module": "@jupyter-widgets/base",
          "model_name": "LayoutModel",
          "model_module_version": "1.2.0",
          "state": {
            "_model_module": "@jupyter-widgets/base",
            "_model_module_version": "1.2.0",
            "_model_name": "LayoutModel",
            "_view_count": null,
            "_view_module": "@jupyter-widgets/base",
            "_view_module_version": "1.2.0",
            "_view_name": "LayoutView",
            "align_content": null,
            "align_items": null,
            "align_self": null,
            "border": null,
            "bottom": null,
            "display": null,
            "flex": null,
            "flex_flow": null,
            "grid_area": null,
            "grid_auto_columns": null,
            "grid_auto_flow": null,
            "grid_auto_rows": null,
            "grid_column": null,
            "grid_gap": null,
            "grid_row": null,
            "grid_template_areas": null,
            "grid_template_columns": null,
            "grid_template_rows": null,
            "height": null,
            "justify_content": null,
            "justify_items": null,
            "left": null,
            "margin": null,
            "max_height": null,
            "max_width": null,
            "min_height": null,
            "min_width": null,
            "object_fit": null,
            "object_position": null,
            "order": null,
            "overflow": null,
            "overflow_x": null,
            "overflow_y": null,
            "padding": null,
            "right": null,
            "top": null,
            "visibility": null,
            "width": null
          }
        },
        "2ee7dadec57e4135a46a03954b366060": {
          "model_module": "@jupyter-widgets/controls",
          "model_name": "ProgressStyleModel",
          "model_module_version": "1.5.0",
          "state": {
            "_model_module": "@jupyter-widgets/controls",
            "_model_module_version": "1.5.0",
            "_model_name": "ProgressStyleModel",
            "_view_count": null,
            "_view_module": "@jupyter-widgets/base",
            "_view_module_version": "1.2.0",
            "_view_name": "StyleView",
            "bar_color": null,
            "description_width": ""
          }
        },
        "45d6bcad5d6f411ab55e2cf72ac06bf6": {
          "model_module": "@jupyter-widgets/base",
          "model_name": "LayoutModel",
          "model_module_version": "1.2.0",
          "state": {
            "_model_module": "@jupyter-widgets/base",
            "_model_module_version": "1.2.0",
            "_model_name": "LayoutModel",
            "_view_count": null,
            "_view_module": "@jupyter-widgets/base",
            "_view_module_version": "1.2.0",
            "_view_name": "LayoutView",
            "align_content": null,
            "align_items": null,
            "align_self": null,
            "border": null,
            "bottom": null,
            "display": null,
            "flex": null,
            "flex_flow": null,
            "grid_area": null,
            "grid_auto_columns": null,
            "grid_auto_flow": null,
            "grid_auto_rows": null,
            "grid_column": null,
            "grid_gap": null,
            "grid_row": null,
            "grid_template_areas": null,
            "grid_template_columns": null,
            "grid_template_rows": null,
            "height": null,
            "justify_content": null,
            "justify_items": null,
            "left": null,
            "margin": null,
            "max_height": null,
            "max_width": null,
            "min_height": null,
            "min_width": null,
            "object_fit": null,
            "object_position": null,
            "order": null,
            "overflow": null,
            "overflow_x": null,
            "overflow_y": null,
            "padding": null,
            "right": null,
            "top": null,
            "visibility": null,
            "width": null
          }
        },
        "9885b1852c1d498582835fe59f9416ba": {
          "model_module": "@jupyter-widgets/controls",
          "model_name": "DescriptionStyleModel",
          "model_module_version": "1.5.0",
          "state": {
            "_model_module": "@jupyter-widgets/controls",
            "_model_module_version": "1.5.0",
            "_model_name": "DescriptionStyleModel",
            "_view_count": null,
            "_view_module": "@jupyter-widgets/base",
            "_view_module_version": "1.2.0",
            "_view_name": "StyleView",
            "description_width": ""
          }
        },
        "1ec7f428d15c4308bce928dc3399f926": {
          "model_module": "@jupyter-widgets/controls",
          "model_name": "HBoxModel",
          "model_module_version": "1.5.0",
          "state": {
            "_dom_classes": [],
            "_model_module": "@jupyter-widgets/controls",
            "_model_module_version": "1.5.0",
            "_model_name": "HBoxModel",
            "_view_count": null,
            "_view_module": "@jupyter-widgets/controls",
            "_view_module_version": "1.5.0",
            "_view_name": "HBoxView",
            "box_style": "",
            "children": [
              "IPY_MODEL_d1620b45595748369d9915f9764b2730",
              "IPY_MODEL_cac4a3be7a994ae09cf598b188bd1483",
              "IPY_MODEL_d32c5503c3b141eb863f2edcd422f938"
            ],
            "layout": "IPY_MODEL_6cf4d911ea7c4cdb998c7244665e6fe9"
          }
        },
        "d1620b45595748369d9915f9764b2730": {
          "model_module": "@jupyter-widgets/controls",
          "model_name": "HTMLModel",
          "model_module_version": "1.5.0",
          "state": {
            "_dom_classes": [],
            "_model_module": "@jupyter-widgets/controls",
            "_model_module_version": "1.5.0",
            "_model_name": "HTMLModel",
            "_view_count": null,
            "_view_module": "@jupyter-widgets/controls",
            "_view_module_version": "1.5.0",
            "_view_name": "HTMLView",
            "description": "",
            "description_tooltip": null,
            "layout": "IPY_MODEL_afe2bad1506a4273ac68436e2bd47748",
            "placeholder": "​",
            "style": "IPY_MODEL_d029506712af45658dd2c7c3ea5edda6",
            "value": "config.json: 100%"
          }
        },
        "cac4a3be7a994ae09cf598b188bd1483": {
          "model_module": "@jupyter-widgets/controls",
          "model_name": "FloatProgressModel",
          "model_module_version": "1.5.0",
          "state": {
            "_dom_classes": [],
            "_model_module": "@jupyter-widgets/controls",
            "_model_module_version": "1.5.0",
            "_model_name": "FloatProgressModel",
            "_view_count": null,
            "_view_module": "@jupyter-widgets/controls",
            "_view_module_version": "1.5.0",
            "_view_name": "ProgressView",
            "bar_style": "success",
            "description": "",
            "description_tooltip": null,
            "layout": "IPY_MODEL_037c31e8e7bf4445bdb06f524e498f1d",
            "max": 596,
            "min": 0,
            "orientation": "horizontal",
            "style": "IPY_MODEL_e76386bb31df420aa01ca5019414459e",
            "value": 596
          }
        },
        "d32c5503c3b141eb863f2edcd422f938": {
          "model_module": "@jupyter-widgets/controls",
          "model_name": "HTMLModel",
          "model_module_version": "1.5.0",
          "state": {
            "_dom_classes": [],
            "_model_module": "@jupyter-widgets/controls",
            "_model_module_version": "1.5.0",
            "_model_name": "HTMLModel",
            "_view_count": null,
            "_view_module": "@jupyter-widgets/controls",
            "_view_module_version": "1.5.0",
            "_view_name": "HTMLView",
            "description": "",
            "description_tooltip": null,
            "layout": "IPY_MODEL_31cd9be1d3934778aa497e34b80c98ec",
            "placeholder": "​",
            "style": "IPY_MODEL_d4d6a65ab0ed4557b6757f45224a6343",
            "value": " 596/596 [00:00&lt;00:00, 50.2kB/s]"
          }
        },
        "6cf4d911ea7c4cdb998c7244665e6fe9": {
          "model_module": "@jupyter-widgets/base",
          "model_name": "LayoutModel",
          "model_module_version": "1.2.0",
          "state": {
            "_model_module": "@jupyter-widgets/base",
            "_model_module_version": "1.2.0",
            "_model_name": "LayoutModel",
            "_view_count": null,
            "_view_module": "@jupyter-widgets/base",
            "_view_module_version": "1.2.0",
            "_view_name": "LayoutView",
            "align_content": null,
            "align_items": null,
            "align_self": null,
            "border": null,
            "bottom": null,
            "display": null,
            "flex": null,
            "flex_flow": null,
            "grid_area": null,
            "grid_auto_columns": null,
            "grid_auto_flow": null,
            "grid_auto_rows": null,
            "grid_column": null,
            "grid_gap": null,
            "grid_row": null,
            "grid_template_areas": null,
            "grid_template_columns": null,
            "grid_template_rows": null,
            "height": null,
            "justify_content": null,
            "justify_items": null,
            "left": null,
            "margin": null,
            "max_height": null,
            "max_width": null,
            "min_height": null,
            "min_width": null,
            "object_fit": null,
            "object_position": null,
            "order": null,
            "overflow": null,
            "overflow_x": null,
            "overflow_y": null,
            "padding": null,
            "right": null,
            "top": null,
            "visibility": null,
            "width": null
          }
        },
        "afe2bad1506a4273ac68436e2bd47748": {
          "model_module": "@jupyter-widgets/base",
          "model_name": "LayoutModel",
          "model_module_version": "1.2.0",
          "state": {
            "_model_module": "@jupyter-widgets/base",
            "_model_module_version": "1.2.0",
            "_model_name": "LayoutModel",
            "_view_count": null,
            "_view_module": "@jupyter-widgets/base",
            "_view_module_version": "1.2.0",
            "_view_name": "LayoutView",
            "align_content": null,
            "align_items": null,
            "align_self": null,
            "border": null,
            "bottom": null,
            "display": null,
            "flex": null,
            "flex_flow": null,
            "grid_area": null,
            "grid_auto_columns": null,
            "grid_auto_flow": null,
            "grid_auto_rows": null,
            "grid_column": null,
            "grid_gap": null,
            "grid_row": null,
            "grid_template_areas": null,
            "grid_template_columns": null,
            "grid_template_rows": null,
            "height": null,
            "justify_content": null,
            "justify_items": null,
            "left": null,
            "margin": null,
            "max_height": null,
            "max_width": null,
            "min_height": null,
            "min_width": null,
            "object_fit": null,
            "object_position": null,
            "order": null,
            "overflow": null,
            "overflow_x": null,
            "overflow_y": null,
            "padding": null,
            "right": null,
            "top": null,
            "visibility": null,
            "width": null
          }
        },
        "d029506712af45658dd2c7c3ea5edda6": {
          "model_module": "@jupyter-widgets/controls",
          "model_name": "DescriptionStyleModel",
          "model_module_version": "1.5.0",
          "state": {
            "_model_module": "@jupyter-widgets/controls",
            "_model_module_version": "1.5.0",
            "_model_name": "DescriptionStyleModel",
            "_view_count": null,
            "_view_module": "@jupyter-widgets/base",
            "_view_module_version": "1.2.0",
            "_view_name": "StyleView",
            "description_width": ""
          }
        },
        "037c31e8e7bf4445bdb06f524e498f1d": {
          "model_module": "@jupyter-widgets/base",
          "model_name": "LayoutModel",
          "model_module_version": "1.2.0",
          "state": {
            "_model_module": "@jupyter-widgets/base",
            "_model_module_version": "1.2.0",
            "_model_name": "LayoutModel",
            "_view_count": null,
            "_view_module": "@jupyter-widgets/base",
            "_view_module_version": "1.2.0",
            "_view_name": "LayoutView",
            "align_content": null,
            "align_items": null,
            "align_self": null,
            "border": null,
            "bottom": null,
            "display": null,
            "flex": null,
            "flex_flow": null,
            "grid_area": null,
            "grid_auto_columns": null,
            "grid_auto_flow": null,
            "grid_auto_rows": null,
            "grid_column": null,
            "grid_gap": null,
            "grid_row": null,
            "grid_template_areas": null,
            "grid_template_columns": null,
            "grid_template_rows": null,
            "height": null,
            "justify_content": null,
            "justify_items": null,
            "left": null,
            "margin": null,
            "max_height": null,
            "max_width": null,
            "min_height": null,
            "min_width": null,
            "object_fit": null,
            "object_position": null,
            "order": null,
            "overflow": null,
            "overflow_x": null,
            "overflow_y": null,
            "padding": null,
            "right": null,
            "top": null,
            "visibility": null,
            "width": null
          }
        },
        "e76386bb31df420aa01ca5019414459e": {
          "model_module": "@jupyter-widgets/controls",
          "model_name": "ProgressStyleModel",
          "model_module_version": "1.5.0",
          "state": {
            "_model_module": "@jupyter-widgets/controls",
            "_model_module_version": "1.5.0",
            "_model_name": "ProgressStyleModel",
            "_view_count": null,
            "_view_module": "@jupyter-widgets/base",
            "_view_module_version": "1.2.0",
            "_view_name": "StyleView",
            "bar_color": null,
            "description_width": ""
          }
        },
        "31cd9be1d3934778aa497e34b80c98ec": {
          "model_module": "@jupyter-widgets/base",
          "model_name": "LayoutModel",
          "model_module_version": "1.2.0",
          "state": {
            "_model_module": "@jupyter-widgets/base",
            "_model_module_version": "1.2.0",
            "_model_name": "LayoutModel",
            "_view_count": null,
            "_view_module": "@jupyter-widgets/base",
            "_view_module_version": "1.2.0",
            "_view_name": "LayoutView",
            "align_content": null,
            "align_items": null,
            "align_self": null,
            "border": null,
            "bottom": null,
            "display": null,
            "flex": null,
            "flex_flow": null,
            "grid_area": null,
            "grid_auto_columns": null,
            "grid_auto_flow": null,
            "grid_auto_rows": null,
            "grid_column": null,
            "grid_gap": null,
            "grid_row": null,
            "grid_template_areas": null,
            "grid_template_columns": null,
            "grid_template_rows": null,
            "height": null,
            "justify_content": null,
            "justify_items": null,
            "left": null,
            "margin": null,
            "max_height": null,
            "max_width": null,
            "min_height": null,
            "min_width": null,
            "object_fit": null,
            "object_position": null,
            "order": null,
            "overflow": null,
            "overflow_x": null,
            "overflow_y": null,
            "padding": null,
            "right": null,
            "top": null,
            "visibility": null,
            "width": null
          }
        },
        "d4d6a65ab0ed4557b6757f45224a6343": {
          "model_module": "@jupyter-widgets/controls",
          "model_name": "DescriptionStyleModel",
          "model_module_version": "1.5.0",
          "state": {
            "_model_module": "@jupyter-widgets/controls",
            "_model_module_version": "1.5.0",
            "_model_name": "DescriptionStyleModel",
            "_view_count": null,
            "_view_module": "@jupyter-widgets/base",
            "_view_module_version": "1.2.0",
            "_view_name": "StyleView",
            "description_width": ""
          }
        },
        "8d9979e0caa647858bfd63f3bb17b490": {
          "model_module": "@jupyter-widgets/controls",
          "model_name": "HBoxModel",
          "model_module_version": "1.5.0",
          "state": {
            "_dom_classes": [],
            "_model_module": "@jupyter-widgets/controls",
            "_model_module_version": "1.5.0",
            "_model_name": "HBoxModel",
            "_view_count": null,
            "_view_module": "@jupyter-widgets/controls",
            "_view_module_version": "1.5.0",
            "_view_name": "HBoxView",
            "box_style": "",
            "children": [
              "IPY_MODEL_5408eec798c9450d8beeb49432757cc6",
              "IPY_MODEL_a19b6e99ff364f3db5f2c5c1349bac6d",
              "IPY_MODEL_70072f7a01ee476599d1221136dd7b24"
            ],
            "layout": "IPY_MODEL_c815b1cb05ae45408008551212389f64"
          }
        },
        "5408eec798c9450d8beeb49432757cc6": {
          "model_module": "@jupyter-widgets/controls",
          "model_name": "HTMLModel",
          "model_module_version": "1.5.0",
          "state": {
            "_dom_classes": [],
            "_model_module": "@jupyter-widgets/controls",
            "_model_module_version": "1.5.0",
            "_model_name": "HTMLModel",
            "_view_count": null,
            "_view_module": "@jupyter-widgets/controls",
            "_view_module_version": "1.5.0",
            "_view_name": "HTMLView",
            "description": "",
            "description_tooltip": null,
            "layout": "IPY_MODEL_b5ab48db9eb14a918359e231a44ae281",
            "placeholder": "​",
            "style": "IPY_MODEL_0981c45e84bc4dc9a9a617300e8b794a",
            "value": "model.safetensors.index.json: 100%"
          }
        },
        "a19b6e99ff364f3db5f2c5c1349bac6d": {
          "model_module": "@jupyter-widgets/controls",
          "model_name": "FloatProgressModel",
          "model_module_version": "1.5.0",
          "state": {
            "_dom_classes": [],
            "_model_module": "@jupyter-widgets/controls",
            "_model_module_version": "1.5.0",
            "_model_name": "FloatProgressModel",
            "_view_count": null,
            "_view_module": "@jupyter-widgets/controls",
            "_view_module_version": "1.5.0",
            "_view_name": "ProgressView",
            "bar_style": "success",
            "description": "",
            "description_tooltip": null,
            "layout": "IPY_MODEL_dc8d068a23e64cd086ec19c239a26437",
            "max": 25125,
            "min": 0,
            "orientation": "horizontal",
            "style": "IPY_MODEL_ba3a784cb954431fa5bef4490c6baded",
            "value": 25125
          }
        },
        "70072f7a01ee476599d1221136dd7b24": {
          "model_module": "@jupyter-widgets/controls",
          "model_name": "HTMLModel",
          "model_module_version": "1.5.0",
          "state": {
            "_dom_classes": [],
            "_model_module": "@jupyter-widgets/controls",
            "_model_module_version": "1.5.0",
            "_model_name": "HTMLModel",
            "_view_count": null,
            "_view_module": "@jupyter-widgets/controls",
            "_view_module_version": "1.5.0",
            "_view_name": "HTMLView",
            "description": "",
            "description_tooltip": null,
            "layout": "IPY_MODEL_8e580fccb50b4f4596e79b31f89a0086",
            "placeholder": "​",
            "style": "IPY_MODEL_a362b28b533b4bc6961d70628d9d7559",
            "value": " 25.1k/25.1k [00:00&lt;00:00, 2.07MB/s]"
          }
        },
        "c815b1cb05ae45408008551212389f64": {
          "model_module": "@jupyter-widgets/base",
          "model_name": "LayoutModel",
          "model_module_version": "1.2.0",
          "state": {
            "_model_module": "@jupyter-widgets/base",
            "_model_module_version": "1.2.0",
            "_model_name": "LayoutModel",
            "_view_count": null,
            "_view_module": "@jupyter-widgets/base",
            "_view_module_version": "1.2.0",
            "_view_name": "LayoutView",
            "align_content": null,
            "align_items": null,
            "align_self": null,
            "border": null,
            "bottom": null,
            "display": null,
            "flex": null,
            "flex_flow": null,
            "grid_area": null,
            "grid_auto_columns": null,
            "grid_auto_flow": null,
            "grid_auto_rows": null,
            "grid_column": null,
            "grid_gap": null,
            "grid_row": null,
            "grid_template_areas": null,
            "grid_template_columns": null,
            "grid_template_rows": null,
            "height": null,
            "justify_content": null,
            "justify_items": null,
            "left": null,
            "margin": null,
            "max_height": null,
            "max_width": null,
            "min_height": null,
            "min_width": null,
            "object_fit": null,
            "object_position": null,
            "order": null,
            "overflow": null,
            "overflow_x": null,
            "overflow_y": null,
            "padding": null,
            "right": null,
            "top": null,
            "visibility": null,
            "width": null
          }
        },
        "b5ab48db9eb14a918359e231a44ae281": {
          "model_module": "@jupyter-widgets/base",
          "model_name": "LayoutModel",
          "model_module_version": "1.2.0",
          "state": {
            "_model_module": "@jupyter-widgets/base",
            "_model_module_version": "1.2.0",
            "_model_name": "LayoutModel",
            "_view_count": null,
            "_view_module": "@jupyter-widgets/base",
            "_view_module_version": "1.2.0",
            "_view_name": "LayoutView",
            "align_content": null,
            "align_items": null,
            "align_self": null,
            "border": null,
            "bottom": null,
            "display": null,
            "flex": null,
            "flex_flow": null,
            "grid_area": null,
            "grid_auto_columns": null,
            "grid_auto_flow": null,
            "grid_auto_rows": null,
            "grid_column": null,
            "grid_gap": null,
            "grid_row": null,
            "grid_template_areas": null,
            "grid_template_columns": null,
            "grid_template_rows": null,
            "height": null,
            "justify_content": null,
            "justify_items": null,
            "left": null,
            "margin": null,
            "max_height": null,
            "max_width": null,
            "min_height": null,
            "min_width": null,
            "object_fit": null,
            "object_position": null,
            "order": null,
            "overflow": null,
            "overflow_x": null,
            "overflow_y": null,
            "padding": null,
            "right": null,
            "top": null,
            "visibility": null,
            "width": null
          }
        },
        "0981c45e84bc4dc9a9a617300e8b794a": {
          "model_module": "@jupyter-widgets/controls",
          "model_name": "DescriptionStyleModel",
          "model_module_version": "1.5.0",
          "state": {
            "_model_module": "@jupyter-widgets/controls",
            "_model_module_version": "1.5.0",
            "_model_name": "DescriptionStyleModel",
            "_view_count": null,
            "_view_module": "@jupyter-widgets/base",
            "_view_module_version": "1.2.0",
            "_view_name": "StyleView",
            "description_width": ""
          }
        },
        "dc8d068a23e64cd086ec19c239a26437": {
          "model_module": "@jupyter-widgets/base",
          "model_name": "LayoutModel",
          "model_module_version": "1.2.0",
          "state": {
            "_model_module": "@jupyter-widgets/base",
            "_model_module_version": "1.2.0",
            "_model_name": "LayoutModel",
            "_view_count": null,
            "_view_module": "@jupyter-widgets/base",
            "_view_module_version": "1.2.0",
            "_view_name": "LayoutView",
            "align_content": null,
            "align_items": null,
            "align_self": null,
            "border": null,
            "bottom": null,
            "display": null,
            "flex": null,
            "flex_flow": null,
            "grid_area": null,
            "grid_auto_columns": null,
            "grid_auto_flow": null,
            "grid_auto_rows": null,
            "grid_column": null,
            "grid_gap": null,
            "grid_row": null,
            "grid_template_areas": null,
            "grid_template_columns": null,
            "grid_template_rows": null,
            "height": null,
            "justify_content": null,
            "justify_items": null,
            "left": null,
            "margin": null,
            "max_height": null,
            "max_width": null,
            "min_height": null,
            "min_width": null,
            "object_fit": null,
            "object_position": null,
            "order": null,
            "overflow": null,
            "overflow_x": null,
            "overflow_y": null,
            "padding": null,
            "right": null,
            "top": null,
            "visibility": null,
            "width": null
          }
        },
        "ba3a784cb954431fa5bef4490c6baded": {
          "model_module": "@jupyter-widgets/controls",
          "model_name": "ProgressStyleModel",
          "model_module_version": "1.5.0",
          "state": {
            "_model_module": "@jupyter-widgets/controls",
            "_model_module_version": "1.5.0",
            "_model_name": "ProgressStyleModel",
            "_view_count": null,
            "_view_module": "@jupyter-widgets/base",
            "_view_module_version": "1.2.0",
            "_view_name": "StyleView",
            "bar_color": null,
            "description_width": ""
          }
        },
        "8e580fccb50b4f4596e79b31f89a0086": {
          "model_module": "@jupyter-widgets/base",
          "model_name": "LayoutModel",
          "model_module_version": "1.2.0",
          "state": {
            "_model_module": "@jupyter-widgets/base",
            "_model_module_version": "1.2.0",
            "_model_name": "LayoutModel",
            "_view_count": null,
            "_view_module": "@jupyter-widgets/base",
            "_view_module_version": "1.2.0",
            "_view_name": "LayoutView",
            "align_content": null,
            "align_items": null,
            "align_self": null,
            "border": null,
            "bottom": null,
            "display": null,
            "flex": null,
            "flex_flow": null,
            "grid_area": null,
            "grid_auto_columns": null,
            "grid_auto_flow": null,
            "grid_auto_rows": null,
            "grid_column": null,
            "grid_gap": null,
            "grid_row": null,
            "grid_template_areas": null,
            "grid_template_columns": null,
            "grid_template_rows": null,
            "height": null,
            "justify_content": null,
            "justify_items": null,
            "left": null,
            "margin": null,
            "max_height": null,
            "max_width": null,
            "min_height": null,
            "min_width": null,
            "object_fit": null,
            "object_position": null,
            "order": null,
            "overflow": null,
            "overflow_x": null,
            "overflow_y": null,
            "padding": null,
            "right": null,
            "top": null,
            "visibility": null,
            "width": null
          }
        },
        "a362b28b533b4bc6961d70628d9d7559": {
          "model_module": "@jupyter-widgets/controls",
          "model_name": "DescriptionStyleModel",
          "model_module_version": "1.5.0",
          "state": {
            "_model_module": "@jupyter-widgets/controls",
            "_model_module_version": "1.5.0",
            "_model_name": "DescriptionStyleModel",
            "_view_count": null,
            "_view_module": "@jupyter-widgets/base",
            "_view_module_version": "1.2.0",
            "_view_name": "StyleView",
            "description_width": ""
          }
        },
        "f99ebdda53f94399aee5ea6867c3a48e": {
          "model_module": "@jupyter-widgets/controls",
          "model_name": "HBoxModel",
          "model_module_version": "1.5.0",
          "state": {
            "_dom_classes": [],
            "_model_module": "@jupyter-widgets/controls",
            "_model_module_version": "1.5.0",
            "_model_name": "HBoxModel",
            "_view_count": null,
            "_view_module": "@jupyter-widgets/controls",
            "_view_module_version": "1.5.0",
            "_view_name": "HBoxView",
            "box_style": "",
            "children": [
              "IPY_MODEL_5ab357790a1f417bb41e7521334afe61",
              "IPY_MODEL_0f532b3e00de43779e665a312a2de80d",
              "IPY_MODEL_f418cb5fd33d486ca89b8dbba811acfb"
            ],
            "layout": "IPY_MODEL_7d4949c357964f0cbdbed406437091bf"
          }
        },
        "5ab357790a1f417bb41e7521334afe61": {
          "model_module": "@jupyter-widgets/controls",
          "model_name": "HTMLModel",
          "model_module_version": "1.5.0",
          "state": {
            "_dom_classes": [],
            "_model_module": "@jupyter-widgets/controls",
            "_model_module_version": "1.5.0",
            "_model_name": "HTMLModel",
            "_view_count": null,
            "_view_module": "@jupyter-widgets/controls",
            "_view_module_version": "1.5.0",
            "_view_name": "HTMLView",
            "description": "",
            "description_tooltip": null,
            "layout": "IPY_MODEL_b32dc3e2bb4c4f9b8b4c5ece68efaeb8",
            "placeholder": "​",
            "style": "IPY_MODEL_489de5d91007450695db767f85038a23",
            "value": "Downloading shards: 100%"
          }
        },
        "0f532b3e00de43779e665a312a2de80d": {
          "model_module": "@jupyter-widgets/controls",
          "model_name": "FloatProgressModel",
          "model_module_version": "1.5.0",
          "state": {
            "_dom_classes": [],
            "_model_module": "@jupyter-widgets/controls",
            "_model_module_version": "1.5.0",
            "_model_name": "FloatProgressModel",
            "_view_count": null,
            "_view_module": "@jupyter-widgets/controls",
            "_view_module_version": "1.5.0",
            "_view_name": "ProgressView",
            "bar_style": "success",
            "description": "",
            "description_tooltip": null,
            "layout": "IPY_MODEL_df2364f4d28340a095c5bd094feed72c",
            "max": 3,
            "min": 0,
            "orientation": "horizontal",
            "style": "IPY_MODEL_84d1cbfdc4ef47859d02adfe11b6806e",
            "value": 3
          }
        },
        "f418cb5fd33d486ca89b8dbba811acfb": {
          "model_module": "@jupyter-widgets/controls",
          "model_name": "HTMLModel",
          "model_module_version": "1.5.0",
          "state": {
            "_dom_classes": [],
            "_model_module": "@jupyter-widgets/controls",
            "_model_module_version": "1.5.0",
            "_model_name": "HTMLModel",
            "_view_count": null,
            "_view_module": "@jupyter-widgets/controls",
            "_view_module_version": "1.5.0",
            "_view_name": "HTMLView",
            "description": "",
            "description_tooltip": null,
            "layout": "IPY_MODEL_80fa88e84f894a899eab9b2c9548a9ed",
            "placeholder": "​",
            "style": "IPY_MODEL_6836ab9e05f54317898cbe82d45b8679",
            "value": " 3/3 [00:41&lt;00:00, 13.52s/it]"
          }
        },
        "7d4949c357964f0cbdbed406437091bf": {
          "model_module": "@jupyter-widgets/base",
          "model_name": "LayoutModel",
          "model_module_version": "1.2.0",
          "state": {
            "_model_module": "@jupyter-widgets/base",
            "_model_module_version": "1.2.0",
            "_model_name": "LayoutModel",
            "_view_count": null,
            "_view_module": "@jupyter-widgets/base",
            "_view_module_version": "1.2.0",
            "_view_name": "LayoutView",
            "align_content": null,
            "align_items": null,
            "align_self": null,
            "border": null,
            "bottom": null,
            "display": null,
            "flex": null,
            "flex_flow": null,
            "grid_area": null,
            "grid_auto_columns": null,
            "grid_auto_flow": null,
            "grid_auto_rows": null,
            "grid_column": null,
            "grid_gap": null,
            "grid_row": null,
            "grid_template_areas": null,
            "grid_template_columns": null,
            "grid_template_rows": null,
            "height": null,
            "justify_content": null,
            "justify_items": null,
            "left": null,
            "margin": null,
            "max_height": null,
            "max_width": null,
            "min_height": null,
            "min_width": null,
            "object_fit": null,
            "object_position": null,
            "order": null,
            "overflow": null,
            "overflow_x": null,
            "overflow_y": null,
            "padding": null,
            "right": null,
            "top": null,
            "visibility": null,
            "width": null
          }
        },
        "b32dc3e2bb4c4f9b8b4c5ece68efaeb8": {
          "model_module": "@jupyter-widgets/base",
          "model_name": "LayoutModel",
          "model_module_version": "1.2.0",
          "state": {
            "_model_module": "@jupyter-widgets/base",
            "_model_module_version": "1.2.0",
            "_model_name": "LayoutModel",
            "_view_count": null,
            "_view_module": "@jupyter-widgets/base",
            "_view_module_version": "1.2.0",
            "_view_name": "LayoutView",
            "align_content": null,
            "align_items": null,
            "align_self": null,
            "border": null,
            "bottom": null,
            "display": null,
            "flex": null,
            "flex_flow": null,
            "grid_area": null,
            "grid_auto_columns": null,
            "grid_auto_flow": null,
            "grid_auto_rows": null,
            "grid_column": null,
            "grid_gap": null,
            "grid_row": null,
            "grid_template_areas": null,
            "grid_template_columns": null,
            "grid_template_rows": null,
            "height": null,
            "justify_content": null,
            "justify_items": null,
            "left": null,
            "margin": null,
            "max_height": null,
            "max_width": null,
            "min_height": null,
            "min_width": null,
            "object_fit": null,
            "object_position": null,
            "order": null,
            "overflow": null,
            "overflow_x": null,
            "overflow_y": null,
            "padding": null,
            "right": null,
            "top": null,
            "visibility": null,
            "width": null
          }
        },
        "489de5d91007450695db767f85038a23": {
          "model_module": "@jupyter-widgets/controls",
          "model_name": "DescriptionStyleModel",
          "model_module_version": "1.5.0",
          "state": {
            "_model_module": "@jupyter-widgets/controls",
            "_model_module_version": "1.5.0",
            "_model_name": "DescriptionStyleModel",
            "_view_count": null,
            "_view_module": "@jupyter-widgets/base",
            "_view_module_version": "1.2.0",
            "_view_name": "StyleView",
            "description_width": ""
          }
        },
        "df2364f4d28340a095c5bd094feed72c": {
          "model_module": "@jupyter-widgets/base",
          "model_name": "LayoutModel",
          "model_module_version": "1.2.0",
          "state": {
            "_model_module": "@jupyter-widgets/base",
            "_model_module_version": "1.2.0",
            "_model_name": "LayoutModel",
            "_view_count": null,
            "_view_module": "@jupyter-widgets/base",
            "_view_module_version": "1.2.0",
            "_view_name": "LayoutView",
            "align_content": null,
            "align_items": null,
            "align_self": null,
            "border": null,
            "bottom": null,
            "display": null,
            "flex": null,
            "flex_flow": null,
            "grid_area": null,
            "grid_auto_columns": null,
            "grid_auto_flow": null,
            "grid_auto_rows": null,
            "grid_column": null,
            "grid_gap": null,
            "grid_row": null,
            "grid_template_areas": null,
            "grid_template_columns": null,
            "grid_template_rows": null,
            "height": null,
            "justify_content": null,
            "justify_items": null,
            "left": null,
            "margin": null,
            "max_height": null,
            "max_width": null,
            "min_height": null,
            "min_width": null,
            "object_fit": null,
            "object_position": null,
            "order": null,
            "overflow": null,
            "overflow_x": null,
            "overflow_y": null,
            "padding": null,
            "right": null,
            "top": null,
            "visibility": null,
            "width": null
          }
        },
        "84d1cbfdc4ef47859d02adfe11b6806e": {
          "model_module": "@jupyter-widgets/controls",
          "model_name": "ProgressStyleModel",
          "model_module_version": "1.5.0",
          "state": {
            "_model_module": "@jupyter-widgets/controls",
            "_model_module_version": "1.5.0",
            "_model_name": "ProgressStyleModel",
            "_view_count": null,
            "_view_module": "@jupyter-widgets/base",
            "_view_module_version": "1.2.0",
            "_view_name": "StyleView",
            "bar_color": null,
            "description_width": ""
          }
        },
        "80fa88e84f894a899eab9b2c9548a9ed": {
          "model_module": "@jupyter-widgets/base",
          "model_name": "LayoutModel",
          "model_module_version": "1.2.0",
          "state": {
            "_model_module": "@jupyter-widgets/base",
            "_model_module_version": "1.2.0",
            "_model_name": "LayoutModel",
            "_view_count": null,
            "_view_module": "@jupyter-widgets/base",
            "_view_module_version": "1.2.0",
            "_view_name": "LayoutView",
            "align_content": null,
            "align_items": null,
            "align_self": null,
            "border": null,
            "bottom": null,
            "display": null,
            "flex": null,
            "flex_flow": null,
            "grid_area": null,
            "grid_auto_columns": null,
            "grid_auto_flow": null,
            "grid_auto_rows": null,
            "grid_column": null,
            "grid_gap": null,
            "grid_row": null,
            "grid_template_areas": null,
            "grid_template_columns": null,
            "grid_template_rows": null,
            "height": null,
            "justify_content": null,
            "justify_items": null,
            "left": null,
            "margin": null,
            "max_height": null,
            "max_width": null,
            "min_height": null,
            "min_width": null,
            "object_fit": null,
            "object_position": null,
            "order": null,
            "overflow": null,
            "overflow_x": null,
            "overflow_y": null,
            "padding": null,
            "right": null,
            "top": null,
            "visibility": null,
            "width": null
          }
        },
        "6836ab9e05f54317898cbe82d45b8679": {
          "model_module": "@jupyter-widgets/controls",
          "model_name": "DescriptionStyleModel",
          "model_module_version": "1.5.0",
          "state": {
            "_model_module": "@jupyter-widgets/controls",
            "_model_module_version": "1.5.0",
            "_model_name": "DescriptionStyleModel",
            "_view_count": null,
            "_view_module": "@jupyter-widgets/base",
            "_view_module_version": "1.2.0",
            "_view_name": "StyleView",
            "description_width": ""
          }
        },
        "01b6a4ecf4b64370840a4077b5369353": {
          "model_module": "@jupyter-widgets/controls",
          "model_name": "HBoxModel",
          "model_module_version": "1.5.0",
          "state": {
            "_dom_classes": [],
            "_model_module": "@jupyter-widgets/controls",
            "_model_module_version": "1.5.0",
            "_model_name": "HBoxModel",
            "_view_count": null,
            "_view_module": "@jupyter-widgets/controls",
            "_view_module_version": "1.5.0",
            "_view_name": "HBoxView",
            "box_style": "",
            "children": [
              "IPY_MODEL_9b85b7bb1be64d5ab54ae868bf351604",
              "IPY_MODEL_87c598ace5eb425fae4409da54b3afcf",
              "IPY_MODEL_ef77ba17ee3a416ba1acf9237489c534"
            ],
            "layout": "IPY_MODEL_02ec5cd7f30d4b8782d78bba17c5ff31"
          }
        },
        "9b85b7bb1be64d5ab54ae868bf351604": {
          "model_module": "@jupyter-widgets/controls",
          "model_name": "HTMLModel",
          "model_module_version": "1.5.0",
          "state": {
            "_dom_classes": [],
            "_model_module": "@jupyter-widgets/controls",
            "_model_module_version": "1.5.0",
            "_model_name": "HTMLModel",
            "_view_count": null,
            "_view_module": "@jupyter-widgets/controls",
            "_view_module_version": "1.5.0",
            "_view_name": "HTMLView",
            "description": "",
            "description_tooltip": null,
            "layout": "IPY_MODEL_e05bc0d0cbae43eab25a3c58abcc0f51",
            "placeholder": "​",
            "style": "IPY_MODEL_597daaffe8274213ba5e4d5e94da6b45",
            "value": "model-00001-of-00003.safetensors: 100%"
          }
        },
        "87c598ace5eb425fae4409da54b3afcf": {
          "model_module": "@jupyter-widgets/controls",
          "model_name": "FloatProgressModel",
          "model_module_version": "1.5.0",
          "state": {
            "_dom_classes": [],
            "_model_module": "@jupyter-widgets/controls",
            "_model_module_version": "1.5.0",
            "_model_name": "FloatProgressModel",
            "_view_count": null,
            "_view_module": "@jupyter-widgets/controls",
            "_view_module_version": "1.5.0",
            "_view_name": "ProgressView",
            "bar_style": "success",
            "description": "",
            "description_tooltip": null,
            "layout": "IPY_MODEL_31fc13191b2d45aabd65f6bcc423982f",
            "max": 4943162336,
            "min": 0,
            "orientation": "horizontal",
            "style": "IPY_MODEL_19a22a605c624a1b869af9191f63a57e",
            "value": 4943162336
          }
        },
        "ef77ba17ee3a416ba1acf9237489c534": {
          "model_module": "@jupyter-widgets/controls",
          "model_name": "HTMLModel",
          "model_module_version": "1.5.0",
          "state": {
            "_dom_classes": [],
            "_model_module": "@jupyter-widgets/controls",
            "_model_module_version": "1.5.0",
            "_model_name": "HTMLModel",
            "_view_count": null,
            "_view_module": "@jupyter-widgets/controls",
            "_view_module_version": "1.5.0",
            "_view_name": "HTMLView",
            "description": "",
            "description_tooltip": null,
            "layout": "IPY_MODEL_06c1265572f94e94801af2683b899266",
            "placeholder": "​",
            "style": "IPY_MODEL_dd1a879bc2774b6582fd6f960d675888",
            "value": " 4.94G/4.94G [00:15&lt;00:00, 371MB/s]"
          }
        },
        "02ec5cd7f30d4b8782d78bba17c5ff31": {
          "model_module": "@jupyter-widgets/base",
          "model_name": "LayoutModel",
          "model_module_version": "1.2.0",
          "state": {
            "_model_module": "@jupyter-widgets/base",
            "_model_module_version": "1.2.0",
            "_model_name": "LayoutModel",
            "_view_count": null,
            "_view_module": "@jupyter-widgets/base",
            "_view_module_version": "1.2.0",
            "_view_name": "LayoutView",
            "align_content": null,
            "align_items": null,
            "align_self": null,
            "border": null,
            "bottom": null,
            "display": null,
            "flex": null,
            "flex_flow": null,
            "grid_area": null,
            "grid_auto_columns": null,
            "grid_auto_flow": null,
            "grid_auto_rows": null,
            "grid_column": null,
            "grid_gap": null,
            "grid_row": null,
            "grid_template_areas": null,
            "grid_template_columns": null,
            "grid_template_rows": null,
            "height": null,
            "justify_content": null,
            "justify_items": null,
            "left": null,
            "margin": null,
            "max_height": null,
            "max_width": null,
            "min_height": null,
            "min_width": null,
            "object_fit": null,
            "object_position": null,
            "order": null,
            "overflow": null,
            "overflow_x": null,
            "overflow_y": null,
            "padding": null,
            "right": null,
            "top": null,
            "visibility": null,
            "width": null
          }
        },
        "e05bc0d0cbae43eab25a3c58abcc0f51": {
          "model_module": "@jupyter-widgets/base",
          "model_name": "LayoutModel",
          "model_module_version": "1.2.0",
          "state": {
            "_model_module": "@jupyter-widgets/base",
            "_model_module_version": "1.2.0",
            "_model_name": "LayoutModel",
            "_view_count": null,
            "_view_module": "@jupyter-widgets/base",
            "_view_module_version": "1.2.0",
            "_view_name": "LayoutView",
            "align_content": null,
            "align_items": null,
            "align_self": null,
            "border": null,
            "bottom": null,
            "display": null,
            "flex": null,
            "flex_flow": null,
            "grid_area": null,
            "grid_auto_columns": null,
            "grid_auto_flow": null,
            "grid_auto_rows": null,
            "grid_column": null,
            "grid_gap": null,
            "grid_row": null,
            "grid_template_areas": null,
            "grid_template_columns": null,
            "grid_template_rows": null,
            "height": null,
            "justify_content": null,
            "justify_items": null,
            "left": null,
            "margin": null,
            "max_height": null,
            "max_width": null,
            "min_height": null,
            "min_width": null,
            "object_fit": null,
            "object_position": null,
            "order": null,
            "overflow": null,
            "overflow_x": null,
            "overflow_y": null,
            "padding": null,
            "right": null,
            "top": null,
            "visibility": null,
            "width": null
          }
        },
        "597daaffe8274213ba5e4d5e94da6b45": {
          "model_module": "@jupyter-widgets/controls",
          "model_name": "DescriptionStyleModel",
          "model_module_version": "1.5.0",
          "state": {
            "_model_module": "@jupyter-widgets/controls",
            "_model_module_version": "1.5.0",
            "_model_name": "DescriptionStyleModel",
            "_view_count": null,
            "_view_module": "@jupyter-widgets/base",
            "_view_module_version": "1.2.0",
            "_view_name": "StyleView",
            "description_width": ""
          }
        },
        "31fc13191b2d45aabd65f6bcc423982f": {
          "model_module": "@jupyter-widgets/base",
          "model_name": "LayoutModel",
          "model_module_version": "1.2.0",
          "state": {
            "_model_module": "@jupyter-widgets/base",
            "_model_module_version": "1.2.0",
            "_model_name": "LayoutModel",
            "_view_count": null,
            "_view_module": "@jupyter-widgets/base",
            "_view_module_version": "1.2.0",
            "_view_name": "LayoutView",
            "align_content": null,
            "align_items": null,
            "align_self": null,
            "border": null,
            "bottom": null,
            "display": null,
            "flex": null,
            "flex_flow": null,
            "grid_area": null,
            "grid_auto_columns": null,
            "grid_auto_flow": null,
            "grid_auto_rows": null,
            "grid_column": null,
            "grid_gap": null,
            "grid_row": null,
            "grid_template_areas": null,
            "grid_template_columns": null,
            "grid_template_rows": null,
            "height": null,
            "justify_content": null,
            "justify_items": null,
            "left": null,
            "margin": null,
            "max_height": null,
            "max_width": null,
            "min_height": null,
            "min_width": null,
            "object_fit": null,
            "object_position": null,
            "order": null,
            "overflow": null,
            "overflow_x": null,
            "overflow_y": null,
            "padding": null,
            "right": null,
            "top": null,
            "visibility": null,
            "width": null
          }
        },
        "19a22a605c624a1b869af9191f63a57e": {
          "model_module": "@jupyter-widgets/controls",
          "model_name": "ProgressStyleModel",
          "model_module_version": "1.5.0",
          "state": {
            "_model_module": "@jupyter-widgets/controls",
            "_model_module_version": "1.5.0",
            "_model_name": "ProgressStyleModel",
            "_view_count": null,
            "_view_module": "@jupyter-widgets/base",
            "_view_module_version": "1.2.0",
            "_view_name": "StyleView",
            "bar_color": null,
            "description_width": ""
          }
        },
        "06c1265572f94e94801af2683b899266": {
          "model_module": "@jupyter-widgets/base",
          "model_name": "LayoutModel",
          "model_module_version": "1.2.0",
          "state": {
            "_model_module": "@jupyter-widgets/base",
            "_model_module_version": "1.2.0",
            "_model_name": "LayoutModel",
            "_view_count": null,
            "_view_module": "@jupyter-widgets/base",
            "_view_module_version": "1.2.0",
            "_view_name": "LayoutView",
            "align_content": null,
            "align_items": null,
            "align_self": null,
            "border": null,
            "bottom": null,
            "display": null,
            "flex": null,
            "flex_flow": null,
            "grid_area": null,
            "grid_auto_columns": null,
            "grid_auto_flow": null,
            "grid_auto_rows": null,
            "grid_column": null,
            "grid_gap": null,
            "grid_row": null,
            "grid_template_areas": null,
            "grid_template_columns": null,
            "grid_template_rows": null,
            "height": null,
            "justify_content": null,
            "justify_items": null,
            "left": null,
            "margin": null,
            "max_height": null,
            "max_width": null,
            "min_height": null,
            "min_width": null,
            "object_fit": null,
            "object_position": null,
            "order": null,
            "overflow": null,
            "overflow_x": null,
            "overflow_y": null,
            "padding": null,
            "right": null,
            "top": null,
            "visibility": null,
            "width": null
          }
        },
        "dd1a879bc2774b6582fd6f960d675888": {
          "model_module": "@jupyter-widgets/controls",
          "model_name": "DescriptionStyleModel",
          "model_module_version": "1.5.0",
          "state": {
            "_model_module": "@jupyter-widgets/controls",
            "_model_module_version": "1.5.0",
            "_model_name": "DescriptionStyleModel",
            "_view_count": null,
            "_view_module": "@jupyter-widgets/base",
            "_view_module_version": "1.2.0",
            "_view_name": "StyleView",
            "description_width": ""
          }
        },
        "1eccc0896d04451689c54107d23f2bd1": {
          "model_module": "@jupyter-widgets/controls",
          "model_name": "HBoxModel",
          "model_module_version": "1.5.0",
          "state": {
            "_dom_classes": [],
            "_model_module": "@jupyter-widgets/controls",
            "_model_module_version": "1.5.0",
            "_model_name": "HBoxModel",
            "_view_count": null,
            "_view_module": "@jupyter-widgets/controls",
            "_view_module_version": "1.5.0",
            "_view_name": "HBoxView",
            "box_style": "",
            "children": [
              "IPY_MODEL_9b635ab6c0a44c0492f57c073bbbd13a",
              "IPY_MODEL_28cc0d64114349a5901c27b31bbf2fa6",
              "IPY_MODEL_cd7dfda1823d4ee7a01fde8de3cc0947"
            ],
            "layout": "IPY_MODEL_f8d17e193b38450a9161bd1f0e3245b6"
          }
        },
        "9b635ab6c0a44c0492f57c073bbbd13a": {
          "model_module": "@jupyter-widgets/controls",
          "model_name": "HTMLModel",
          "model_module_version": "1.5.0",
          "state": {
            "_dom_classes": [],
            "_model_module": "@jupyter-widgets/controls",
            "_model_module_version": "1.5.0",
            "_model_name": "HTMLModel",
            "_view_count": null,
            "_view_module": "@jupyter-widgets/controls",
            "_view_module_version": "1.5.0",
            "_view_name": "HTMLView",
            "description": "",
            "description_tooltip": null,
            "layout": "IPY_MODEL_3f4664a0294847e68b5d0c1e7c373a36",
            "placeholder": "​",
            "style": "IPY_MODEL_59c85358d5ec4c9fb139d9e019d758a2",
            "value": "model-00002-of-00003.safetensors: 100%"
          }
        },
        "28cc0d64114349a5901c27b31bbf2fa6": {
          "model_module": "@jupyter-widgets/controls",
          "model_name": "FloatProgressModel",
          "model_module_version": "1.5.0",
          "state": {
            "_dom_classes": [],
            "_model_module": "@jupyter-widgets/controls",
            "_model_module_version": "1.5.0",
            "_model_name": "FloatProgressModel",
            "_view_count": null,
            "_view_module": "@jupyter-widgets/controls",
            "_view_module_version": "1.5.0",
            "_view_name": "ProgressView",
            "bar_style": "success",
            "description": "",
            "description_tooltip": null,
            "layout": "IPY_MODEL_fe3e9d732426467488bcc0af272d050b",
            "max": 4999819336,
            "min": 0,
            "orientation": "horizontal",
            "style": "IPY_MODEL_cbc87b33a3a346eba74104845a5984e6",
            "value": 4999819336
          }
        },
        "cd7dfda1823d4ee7a01fde8de3cc0947": {
          "model_module": "@jupyter-widgets/controls",
          "model_name": "HTMLModel",
          "model_module_version": "1.5.0",
          "state": {
            "_dom_classes": [],
            "_model_module": "@jupyter-widgets/controls",
            "_model_module_version": "1.5.0",
            "_model_name": "HTMLModel",
            "_view_count": null,
            "_view_module": "@jupyter-widgets/controls",
            "_view_module_version": "1.5.0",
            "_view_name": "HTMLView",
            "description": "",
            "description_tooltip": null,
            "layout": "IPY_MODEL_0fcd3b6512014723a3b6128b5723133d",
            "placeholder": "​",
            "style": "IPY_MODEL_eafa88f85bd84ced9783b9fabc4e9ffb",
            "value": " 5.00G/5.00G [00:13&lt;00:00, 259MB/s]"
          }
        },
        "f8d17e193b38450a9161bd1f0e3245b6": {
          "model_module": "@jupyter-widgets/base",
          "model_name": "LayoutModel",
          "model_module_version": "1.2.0",
          "state": {
            "_model_module": "@jupyter-widgets/base",
            "_model_module_version": "1.2.0",
            "_model_name": "LayoutModel",
            "_view_count": null,
            "_view_module": "@jupyter-widgets/base",
            "_view_module_version": "1.2.0",
            "_view_name": "LayoutView",
            "align_content": null,
            "align_items": null,
            "align_self": null,
            "border": null,
            "bottom": null,
            "display": null,
            "flex": null,
            "flex_flow": null,
            "grid_area": null,
            "grid_auto_columns": null,
            "grid_auto_flow": null,
            "grid_auto_rows": null,
            "grid_column": null,
            "grid_gap": null,
            "grid_row": null,
            "grid_template_areas": null,
            "grid_template_columns": null,
            "grid_template_rows": null,
            "height": null,
            "justify_content": null,
            "justify_items": null,
            "left": null,
            "margin": null,
            "max_height": null,
            "max_width": null,
            "min_height": null,
            "min_width": null,
            "object_fit": null,
            "object_position": null,
            "order": null,
            "overflow": null,
            "overflow_x": null,
            "overflow_y": null,
            "padding": null,
            "right": null,
            "top": null,
            "visibility": null,
            "width": null
          }
        },
        "3f4664a0294847e68b5d0c1e7c373a36": {
          "model_module": "@jupyter-widgets/base",
          "model_name": "LayoutModel",
          "model_module_version": "1.2.0",
          "state": {
            "_model_module": "@jupyter-widgets/base",
            "_model_module_version": "1.2.0",
            "_model_name": "LayoutModel",
            "_view_count": null,
            "_view_module": "@jupyter-widgets/base",
            "_view_module_version": "1.2.0",
            "_view_name": "LayoutView",
            "align_content": null,
            "align_items": null,
            "align_self": null,
            "border": null,
            "bottom": null,
            "display": null,
            "flex": null,
            "flex_flow": null,
            "grid_area": null,
            "grid_auto_columns": null,
            "grid_auto_flow": null,
            "grid_auto_rows": null,
            "grid_column": null,
            "grid_gap": null,
            "grid_row": null,
            "grid_template_areas": null,
            "grid_template_columns": null,
            "grid_template_rows": null,
            "height": null,
            "justify_content": null,
            "justify_items": null,
            "left": null,
            "margin": null,
            "max_height": null,
            "max_width": null,
            "min_height": null,
            "min_width": null,
            "object_fit": null,
            "object_position": null,
            "order": null,
            "overflow": null,
            "overflow_x": null,
            "overflow_y": null,
            "padding": null,
            "right": null,
            "top": null,
            "visibility": null,
            "width": null
          }
        },
        "59c85358d5ec4c9fb139d9e019d758a2": {
          "model_module": "@jupyter-widgets/controls",
          "model_name": "DescriptionStyleModel",
          "model_module_version": "1.5.0",
          "state": {
            "_model_module": "@jupyter-widgets/controls",
            "_model_module_version": "1.5.0",
            "_model_name": "DescriptionStyleModel",
            "_view_count": null,
            "_view_module": "@jupyter-widgets/base",
            "_view_module_version": "1.2.0",
            "_view_name": "StyleView",
            "description_width": ""
          }
        },
        "fe3e9d732426467488bcc0af272d050b": {
          "model_module": "@jupyter-widgets/base",
          "model_name": "LayoutModel",
          "model_module_version": "1.2.0",
          "state": {
            "_model_module": "@jupyter-widgets/base",
            "_model_module_version": "1.2.0",
            "_model_name": "LayoutModel",
            "_view_count": null,
            "_view_module": "@jupyter-widgets/base",
            "_view_module_version": "1.2.0",
            "_view_name": "LayoutView",
            "align_content": null,
            "align_items": null,
            "align_self": null,
            "border": null,
            "bottom": null,
            "display": null,
            "flex": null,
            "flex_flow": null,
            "grid_area": null,
            "grid_auto_columns": null,
            "grid_auto_flow": null,
            "grid_auto_rows": null,
            "grid_column": null,
            "grid_gap": null,
            "grid_row": null,
            "grid_template_areas": null,
            "grid_template_columns": null,
            "grid_template_rows": null,
            "height": null,
            "justify_content": null,
            "justify_items": null,
            "left": null,
            "margin": null,
            "max_height": null,
            "max_width": null,
            "min_height": null,
            "min_width": null,
            "object_fit": null,
            "object_position": null,
            "order": null,
            "overflow": null,
            "overflow_x": null,
            "overflow_y": null,
            "padding": null,
            "right": null,
            "top": null,
            "visibility": null,
            "width": null
          }
        },
        "cbc87b33a3a346eba74104845a5984e6": {
          "model_module": "@jupyter-widgets/controls",
          "model_name": "ProgressStyleModel",
          "model_module_version": "1.5.0",
          "state": {
            "_model_module": "@jupyter-widgets/controls",
            "_model_module_version": "1.5.0",
            "_model_name": "ProgressStyleModel",
            "_view_count": null,
            "_view_module": "@jupyter-widgets/base",
            "_view_module_version": "1.2.0",
            "_view_name": "StyleView",
            "bar_color": null,
            "description_width": ""
          }
        },
        "0fcd3b6512014723a3b6128b5723133d": {
          "model_module": "@jupyter-widgets/base",
          "model_name": "LayoutModel",
          "model_module_version": "1.2.0",
          "state": {
            "_model_module": "@jupyter-widgets/base",
            "_model_module_version": "1.2.0",
            "_model_name": "LayoutModel",
            "_view_count": null,
            "_view_module": "@jupyter-widgets/base",
            "_view_module_version": "1.2.0",
            "_view_name": "LayoutView",
            "align_content": null,
            "align_items": null,
            "align_self": null,
            "border": null,
            "bottom": null,
            "display": null,
            "flex": null,
            "flex_flow": null,
            "grid_area": null,
            "grid_auto_columns": null,
            "grid_auto_flow": null,
            "grid_auto_rows": null,
            "grid_column": null,
            "grid_gap": null,
            "grid_row": null,
            "grid_template_areas": null,
            "grid_template_columns": null,
            "grid_template_rows": null,
            "height": null,
            "justify_content": null,
            "justify_items": null,
            "left": null,
            "margin": null,
            "max_height": null,
            "max_width": null,
            "min_height": null,
            "min_width": null,
            "object_fit": null,
            "object_position": null,
            "order": null,
            "overflow": null,
            "overflow_x": null,
            "overflow_y": null,
            "padding": null,
            "right": null,
            "top": null,
            "visibility": null,
            "width": null
          }
        },
        "eafa88f85bd84ced9783b9fabc4e9ffb": {
          "model_module": "@jupyter-widgets/controls",
          "model_name": "DescriptionStyleModel",
          "model_module_version": "1.5.0",
          "state": {
            "_model_module": "@jupyter-widgets/controls",
            "_model_module_version": "1.5.0",
            "_model_name": "DescriptionStyleModel",
            "_view_count": null,
            "_view_module": "@jupyter-widgets/base",
            "_view_module_version": "1.2.0",
            "_view_name": "StyleView",
            "description_width": ""
          }
        },
        "20a0dfb7a0cc41e0b6352ddcc3413e1f": {
          "model_module": "@jupyter-widgets/controls",
          "model_name": "HBoxModel",
          "model_module_version": "1.5.0",
          "state": {
            "_dom_classes": [],
            "_model_module": "@jupyter-widgets/controls",
            "_model_module_version": "1.5.0",
            "_model_name": "HBoxModel",
            "_view_count": null,
            "_view_module": "@jupyter-widgets/controls",
            "_view_module_version": "1.5.0",
            "_view_name": "HBoxView",
            "box_style": "",
            "children": [
              "IPY_MODEL_08ff78646a76461b936bc8f37e6c5bcc",
              "IPY_MODEL_1eec808a1226432da748bccadadb5a76",
              "IPY_MODEL_3d319314a187456290f9dbb2caca3f85"
            ],
            "layout": "IPY_MODEL_4acdbae3e2214a968af3671b9cb78dcd"
          }
        },
        "08ff78646a76461b936bc8f37e6c5bcc": {
          "model_module": "@jupyter-widgets/controls",
          "model_name": "HTMLModel",
          "model_module_version": "1.5.0",
          "state": {
            "_dom_classes": [],
            "_model_module": "@jupyter-widgets/controls",
            "_model_module_version": "1.5.0",
            "_model_name": "HTMLModel",
            "_view_count": null,
            "_view_module": "@jupyter-widgets/controls",
            "_view_module_version": "1.5.0",
            "_view_name": "HTMLView",
            "description": "",
            "description_tooltip": null,
            "layout": "IPY_MODEL_141bcd7de143434c9100f5201a7468e6",
            "placeholder": "​",
            "style": "IPY_MODEL_24f71f2690ec4f74bd8386704ea3fa94",
            "value": "model-00003-of-00003.safetensors: 100%"
          }
        },
        "1eec808a1226432da748bccadadb5a76": {
          "model_module": "@jupyter-widgets/controls",
          "model_name": "FloatProgressModel",
          "model_module_version": "1.5.0",
          "state": {
            "_dom_classes": [],
            "_model_module": "@jupyter-widgets/controls",
            "_model_module_version": "1.5.0",
            "_model_name": "FloatProgressModel",
            "_view_count": null,
            "_view_module": "@jupyter-widgets/controls",
            "_view_module_version": "1.5.0",
            "_view_name": "ProgressView",
            "bar_style": "success",
            "description": "",
            "description_tooltip": null,
            "layout": "IPY_MODEL_1750c7a76e3e432496e7c55d5d9dcec6",
            "max": 4540516344,
            "min": 0,
            "orientation": "horizontal",
            "style": "IPY_MODEL_68ac59d29af3424ca66dab10e8f117ea",
            "value": 4540516344
          }
        },
        "3d319314a187456290f9dbb2caca3f85": {
          "model_module": "@jupyter-widgets/controls",
          "model_name": "HTMLModel",
          "model_module_version": "1.5.0",
          "state": {
            "_dom_classes": [],
            "_model_module": "@jupyter-widgets/controls",
            "_model_module_version": "1.5.0",
            "_model_name": "HTMLModel",
            "_view_count": null,
            "_view_module": "@jupyter-widgets/controls",
            "_view_module_version": "1.5.0",
            "_view_name": "HTMLView",
            "description": "",
            "description_tooltip": null,
            "layout": "IPY_MODEL_e37324eb6fdc4531813cf336e5a47f6a",
            "placeholder": "​",
            "style": "IPY_MODEL_22fbe862c1104d519e12adbf97069994",
            "value": " 4.54G/4.54G [00:12&lt;00:00, 402MB/s]"
          }
        },
        "4acdbae3e2214a968af3671b9cb78dcd": {
          "model_module": "@jupyter-widgets/base",
          "model_name": "LayoutModel",
          "model_module_version": "1.2.0",
          "state": {
            "_model_module": "@jupyter-widgets/base",
            "_model_module_version": "1.2.0",
            "_model_name": "LayoutModel",
            "_view_count": null,
            "_view_module": "@jupyter-widgets/base",
            "_view_module_version": "1.2.0",
            "_view_name": "LayoutView",
            "align_content": null,
            "align_items": null,
            "align_self": null,
            "border": null,
            "bottom": null,
            "display": null,
            "flex": null,
            "flex_flow": null,
            "grid_area": null,
            "grid_auto_columns": null,
            "grid_auto_flow": null,
            "grid_auto_rows": null,
            "grid_column": null,
            "grid_gap": null,
            "grid_row": null,
            "grid_template_areas": null,
            "grid_template_columns": null,
            "grid_template_rows": null,
            "height": null,
            "justify_content": null,
            "justify_items": null,
            "left": null,
            "margin": null,
            "max_height": null,
            "max_width": null,
            "min_height": null,
            "min_width": null,
            "object_fit": null,
            "object_position": null,
            "order": null,
            "overflow": null,
            "overflow_x": null,
            "overflow_y": null,
            "padding": null,
            "right": null,
            "top": null,
            "visibility": null,
            "width": null
          }
        },
        "141bcd7de143434c9100f5201a7468e6": {
          "model_module": "@jupyter-widgets/base",
          "model_name": "LayoutModel",
          "model_module_version": "1.2.0",
          "state": {
            "_model_module": "@jupyter-widgets/base",
            "_model_module_version": "1.2.0",
            "_model_name": "LayoutModel",
            "_view_count": null,
            "_view_module": "@jupyter-widgets/base",
            "_view_module_version": "1.2.0",
            "_view_name": "LayoutView",
            "align_content": null,
            "align_items": null,
            "align_self": null,
            "border": null,
            "bottom": null,
            "display": null,
            "flex": null,
            "flex_flow": null,
            "grid_area": null,
            "grid_auto_columns": null,
            "grid_auto_flow": null,
            "grid_auto_rows": null,
            "grid_column": null,
            "grid_gap": null,
            "grid_row": null,
            "grid_template_areas": null,
            "grid_template_columns": null,
            "grid_template_rows": null,
            "height": null,
            "justify_content": null,
            "justify_items": null,
            "left": null,
            "margin": null,
            "max_height": null,
            "max_width": null,
            "min_height": null,
            "min_width": null,
            "object_fit": null,
            "object_position": null,
            "order": null,
            "overflow": null,
            "overflow_x": null,
            "overflow_y": null,
            "padding": null,
            "right": null,
            "top": null,
            "visibility": null,
            "width": null
          }
        },
        "24f71f2690ec4f74bd8386704ea3fa94": {
          "model_module": "@jupyter-widgets/controls",
          "model_name": "DescriptionStyleModel",
          "model_module_version": "1.5.0",
          "state": {
            "_model_module": "@jupyter-widgets/controls",
            "_model_module_version": "1.5.0",
            "_model_name": "DescriptionStyleModel",
            "_view_count": null,
            "_view_module": "@jupyter-widgets/base",
            "_view_module_version": "1.2.0",
            "_view_name": "StyleView",
            "description_width": ""
          }
        },
        "1750c7a76e3e432496e7c55d5d9dcec6": {
          "model_module": "@jupyter-widgets/base",
          "model_name": "LayoutModel",
          "model_module_version": "1.2.0",
          "state": {
            "_model_module": "@jupyter-widgets/base",
            "_model_module_version": "1.2.0",
            "_model_name": "LayoutModel",
            "_view_count": null,
            "_view_module": "@jupyter-widgets/base",
            "_view_module_version": "1.2.0",
            "_view_name": "LayoutView",
            "align_content": null,
            "align_items": null,
            "align_self": null,
            "border": null,
            "bottom": null,
            "display": null,
            "flex": null,
            "flex_flow": null,
            "grid_area": null,
            "grid_auto_columns": null,
            "grid_auto_flow": null,
            "grid_auto_rows": null,
            "grid_column": null,
            "grid_gap": null,
            "grid_row": null,
            "grid_template_areas": null,
            "grid_template_columns": null,
            "grid_template_rows": null,
            "height": null,
            "justify_content": null,
            "justify_items": null,
            "left": null,
            "margin": null,
            "max_height": null,
            "max_width": null,
            "min_height": null,
            "min_width": null,
            "object_fit": null,
            "object_position": null,
            "order": null,
            "overflow": null,
            "overflow_x": null,
            "overflow_y": null,
            "padding": null,
            "right": null,
            "top": null,
            "visibility": null,
            "width": null
          }
        },
        "68ac59d29af3424ca66dab10e8f117ea": {
          "model_module": "@jupyter-widgets/controls",
          "model_name": "ProgressStyleModel",
          "model_module_version": "1.5.0",
          "state": {
            "_model_module": "@jupyter-widgets/controls",
            "_model_module_version": "1.5.0",
            "_model_name": "ProgressStyleModel",
            "_view_count": null,
            "_view_module": "@jupyter-widgets/base",
            "_view_module_version": "1.2.0",
            "_view_name": "StyleView",
            "bar_color": null,
            "description_width": ""
          }
        },
        "e37324eb6fdc4531813cf336e5a47f6a": {
          "model_module": "@jupyter-widgets/base",
          "model_name": "LayoutModel",
          "model_module_version": "1.2.0",
          "state": {
            "_model_module": "@jupyter-widgets/base",
            "_model_module_version": "1.2.0",
            "_model_name": "LayoutModel",
            "_view_count": null,
            "_view_module": "@jupyter-widgets/base",
            "_view_module_version": "1.2.0",
            "_view_name": "LayoutView",
            "align_content": null,
            "align_items": null,
            "align_self": null,
            "border": null,
            "bottom": null,
            "display": null,
            "flex": null,
            "flex_flow": null,
            "grid_area": null,
            "grid_auto_columns": null,
            "grid_auto_flow": null,
            "grid_auto_rows": null,
            "grid_column": null,
            "grid_gap": null,
            "grid_row": null,
            "grid_template_areas": null,
            "grid_template_columns": null,
            "grid_template_rows": null,
            "height": null,
            "justify_content": null,
            "justify_items": null,
            "left": null,
            "margin": null,
            "max_height": null,
            "max_width": null,
            "min_height": null,
            "min_width": null,
            "object_fit": null,
            "object_position": null,
            "order": null,
            "overflow": null,
            "overflow_x": null,
            "overflow_y": null,
            "padding": null,
            "right": null,
            "top": null,
            "visibility": null,
            "width": null
          }
        },
        "22fbe862c1104d519e12adbf97069994": {
          "model_module": "@jupyter-widgets/controls",
          "model_name": "DescriptionStyleModel",
          "model_module_version": "1.5.0",
          "state": {
            "_model_module": "@jupyter-widgets/controls",
            "_model_module_version": "1.5.0",
            "_model_name": "DescriptionStyleModel",
            "_view_count": null,
            "_view_module": "@jupyter-widgets/base",
            "_view_module_version": "1.2.0",
            "_view_name": "StyleView",
            "description_width": ""
          }
        },
        "d127d1675b6249cbbd123a3d0cba5580": {
          "model_module": "@jupyter-widgets/controls",
          "model_name": "HBoxModel",
          "model_module_version": "1.5.0",
          "state": {
            "_dom_classes": [],
            "_model_module": "@jupyter-widgets/controls",
            "_model_module_version": "1.5.0",
            "_model_name": "HBoxModel",
            "_view_count": null,
            "_view_module": "@jupyter-widgets/controls",
            "_view_module_version": "1.5.0",
            "_view_name": "HBoxView",
            "box_style": "",
            "children": [
              "IPY_MODEL_59d1499857674f87b446486050f4f7e1",
              "IPY_MODEL_df77b6af30ca444bad23a12ac1629e1f",
              "IPY_MODEL_bf5f79315c1c4a53821186c8aca675b8"
            ],
            "layout": "IPY_MODEL_daa2019803914985a9bd3d03c5aac85c"
          }
        },
        "59d1499857674f87b446486050f4f7e1": {
          "model_module": "@jupyter-widgets/controls",
          "model_name": "HTMLModel",
          "model_module_version": "1.5.0",
          "state": {
            "_dom_classes": [],
            "_model_module": "@jupyter-widgets/controls",
            "_model_module_version": "1.5.0",
            "_model_name": "HTMLModel",
            "_view_count": null,
            "_view_module": "@jupyter-widgets/controls",
            "_view_module_version": "1.5.0",
            "_view_name": "HTMLView",
            "description": "",
            "description_tooltip": null,
            "layout": "IPY_MODEL_29d7dce567fc4b1a9a6a65fd187b945e",
            "placeholder": "​",
            "style": "IPY_MODEL_165d5517c2004256810e31e04b947c3d",
            "value": "Loading checkpoint shards: 100%"
          }
        },
        "df77b6af30ca444bad23a12ac1629e1f": {
          "model_module": "@jupyter-widgets/controls",
          "model_name": "FloatProgressModel",
          "model_module_version": "1.5.0",
          "state": {
            "_dom_classes": [],
            "_model_module": "@jupyter-widgets/controls",
            "_model_module_version": "1.5.0",
            "_model_name": "FloatProgressModel",
            "_view_count": null,
            "_view_module": "@jupyter-widgets/controls",
            "_view_module_version": "1.5.0",
            "_view_name": "ProgressView",
            "bar_style": "success",
            "description": "",
            "description_tooltip": null,
            "layout": "IPY_MODEL_1c9e3cf1b7d943788bc296f739cfa2d8",
            "max": 3,
            "min": 0,
            "orientation": "horizontal",
            "style": "IPY_MODEL_35b147db9b564c78b35892639cd94b0a",
            "value": 3
          }
        },
        "bf5f79315c1c4a53821186c8aca675b8": {
          "model_module": "@jupyter-widgets/controls",
          "model_name": "HTMLModel",
          "model_module_version": "1.5.0",
          "state": {
            "_dom_classes": [],
            "_model_module": "@jupyter-widgets/controls",
            "_model_module_version": "1.5.0",
            "_model_name": "HTMLModel",
            "_view_count": null,
            "_view_module": "@jupyter-widgets/controls",
            "_view_module_version": "1.5.0",
            "_view_name": "HTMLView",
            "description": "",
            "description_tooltip": null,
            "layout": "IPY_MODEL_552ea1c3091d4d399c00e6e3210936d2",
            "placeholder": "​",
            "style": "IPY_MODEL_527dbd05844f4497a5634e88c56c9cdf",
            "value": " 3/3 [00:08&lt;00:00,  2.66s/it]"
          }
        },
        "daa2019803914985a9bd3d03c5aac85c": {
          "model_module": "@jupyter-widgets/base",
          "model_name": "LayoutModel",
          "model_module_version": "1.2.0",
          "state": {
            "_model_module": "@jupyter-widgets/base",
            "_model_module_version": "1.2.0",
            "_model_name": "LayoutModel",
            "_view_count": null,
            "_view_module": "@jupyter-widgets/base",
            "_view_module_version": "1.2.0",
            "_view_name": "LayoutView",
            "align_content": null,
            "align_items": null,
            "align_self": null,
            "border": null,
            "bottom": null,
            "display": null,
            "flex": null,
            "flex_flow": null,
            "grid_area": null,
            "grid_auto_columns": null,
            "grid_auto_flow": null,
            "grid_auto_rows": null,
            "grid_column": null,
            "grid_gap": null,
            "grid_row": null,
            "grid_template_areas": null,
            "grid_template_columns": null,
            "grid_template_rows": null,
            "height": null,
            "justify_content": null,
            "justify_items": null,
            "left": null,
            "margin": null,
            "max_height": null,
            "max_width": null,
            "min_height": null,
            "min_width": null,
            "object_fit": null,
            "object_position": null,
            "order": null,
            "overflow": null,
            "overflow_x": null,
            "overflow_y": null,
            "padding": null,
            "right": null,
            "top": null,
            "visibility": null,
            "width": null
          }
        },
        "29d7dce567fc4b1a9a6a65fd187b945e": {
          "model_module": "@jupyter-widgets/base",
          "model_name": "LayoutModel",
          "model_module_version": "1.2.0",
          "state": {
            "_model_module": "@jupyter-widgets/base",
            "_model_module_version": "1.2.0",
            "_model_name": "LayoutModel",
            "_view_count": null,
            "_view_module": "@jupyter-widgets/base",
            "_view_module_version": "1.2.0",
            "_view_name": "LayoutView",
            "align_content": null,
            "align_items": null,
            "align_self": null,
            "border": null,
            "bottom": null,
            "display": null,
            "flex": null,
            "flex_flow": null,
            "grid_area": null,
            "grid_auto_columns": null,
            "grid_auto_flow": null,
            "grid_auto_rows": null,
            "grid_column": null,
            "grid_gap": null,
            "grid_row": null,
            "grid_template_areas": null,
            "grid_template_columns": null,
            "grid_template_rows": null,
            "height": null,
            "justify_content": null,
            "justify_items": null,
            "left": null,
            "margin": null,
            "max_height": null,
            "max_width": null,
            "min_height": null,
            "min_width": null,
            "object_fit": null,
            "object_position": null,
            "order": null,
            "overflow": null,
            "overflow_x": null,
            "overflow_y": null,
            "padding": null,
            "right": null,
            "top": null,
            "visibility": null,
            "width": null
          }
        },
        "165d5517c2004256810e31e04b947c3d": {
          "model_module": "@jupyter-widgets/controls",
          "model_name": "DescriptionStyleModel",
          "model_module_version": "1.5.0",
          "state": {
            "_model_module": "@jupyter-widgets/controls",
            "_model_module_version": "1.5.0",
            "_model_name": "DescriptionStyleModel",
            "_view_count": null,
            "_view_module": "@jupyter-widgets/base",
            "_view_module_version": "1.2.0",
            "_view_name": "StyleView",
            "description_width": ""
          }
        },
        "1c9e3cf1b7d943788bc296f739cfa2d8": {
          "model_module": "@jupyter-widgets/base",
          "model_name": "LayoutModel",
          "model_module_version": "1.2.0",
          "state": {
            "_model_module": "@jupyter-widgets/base",
            "_model_module_version": "1.2.0",
            "_model_name": "LayoutModel",
            "_view_count": null,
            "_view_module": "@jupyter-widgets/base",
            "_view_module_version": "1.2.0",
            "_view_name": "LayoutView",
            "align_content": null,
            "align_items": null,
            "align_self": null,
            "border": null,
            "bottom": null,
            "display": null,
            "flex": null,
            "flex_flow": null,
            "grid_area": null,
            "grid_auto_columns": null,
            "grid_auto_flow": null,
            "grid_auto_rows": null,
            "grid_column": null,
            "grid_gap": null,
            "grid_row": null,
            "grid_template_areas": null,
            "grid_template_columns": null,
            "grid_template_rows": null,
            "height": null,
            "justify_content": null,
            "justify_items": null,
            "left": null,
            "margin": null,
            "max_height": null,
            "max_width": null,
            "min_height": null,
            "min_width": null,
            "object_fit": null,
            "object_position": null,
            "order": null,
            "overflow": null,
            "overflow_x": null,
            "overflow_y": null,
            "padding": null,
            "right": null,
            "top": null,
            "visibility": null,
            "width": null
          }
        },
        "35b147db9b564c78b35892639cd94b0a": {
          "model_module": "@jupyter-widgets/controls",
          "model_name": "ProgressStyleModel",
          "model_module_version": "1.5.0",
          "state": {
            "_model_module": "@jupyter-widgets/controls",
            "_model_module_version": "1.5.0",
            "_model_name": "ProgressStyleModel",
            "_view_count": null,
            "_view_module": "@jupyter-widgets/base",
            "_view_module_version": "1.2.0",
            "_view_name": "StyleView",
            "bar_color": null,
            "description_width": ""
          }
        },
        "552ea1c3091d4d399c00e6e3210936d2": {
          "model_module": "@jupyter-widgets/base",
          "model_name": "LayoutModel",
          "model_module_version": "1.2.0",
          "state": {
            "_model_module": "@jupyter-widgets/base",
            "_model_module_version": "1.2.0",
            "_model_name": "LayoutModel",
            "_view_count": null,
            "_view_module": "@jupyter-widgets/base",
            "_view_module_version": "1.2.0",
            "_view_name": "LayoutView",
            "align_content": null,
            "align_items": null,
            "align_self": null,
            "border": null,
            "bottom": null,
            "display": null,
            "flex": null,
            "flex_flow": null,
            "grid_area": null,
            "grid_auto_columns": null,
            "grid_auto_flow": null,
            "grid_auto_rows": null,
            "grid_column": null,
            "grid_gap": null,
            "grid_row": null,
            "grid_template_areas": null,
            "grid_template_columns": null,
            "grid_template_rows": null,
            "height": null,
            "justify_content": null,
            "justify_items": null,
            "left": null,
            "margin": null,
            "max_height": null,
            "max_width": null,
            "min_height": null,
            "min_width": null,
            "object_fit": null,
            "object_position": null,
            "order": null,
            "overflow": null,
            "overflow_x": null,
            "overflow_y": null,
            "padding": null,
            "right": null,
            "top": null,
            "visibility": null,
            "width": null
          }
        },
        "527dbd05844f4497a5634e88c56c9cdf": {
          "model_module": "@jupyter-widgets/controls",
          "model_name": "DescriptionStyleModel",
          "model_module_version": "1.5.0",
          "state": {
            "_model_module": "@jupyter-widgets/controls",
            "_model_module_version": "1.5.0",
            "_model_name": "DescriptionStyleModel",
            "_view_count": null,
            "_view_module": "@jupyter-widgets/base",
            "_view_module_version": "1.2.0",
            "_view_name": "StyleView",
            "description_width": ""
          }
        },
        "da2ebc31df514812a8009563df1051ec": {
          "model_module": "@jupyter-widgets/controls",
          "model_name": "HBoxModel",
          "model_module_version": "1.5.0",
          "state": {
            "_dom_classes": [],
            "_model_module": "@jupyter-widgets/controls",
            "_model_module_version": "1.5.0",
            "_model_name": "HBoxModel",
            "_view_count": null,
            "_view_module": "@jupyter-widgets/controls",
            "_view_module_version": "1.5.0",
            "_view_name": "HBoxView",
            "box_style": "",
            "children": [
              "IPY_MODEL_540b1811e7ec4deaa58a52e0d6209dae",
              "IPY_MODEL_8aeffd9b851c402d8f9b8147e77791be",
              "IPY_MODEL_5589379e73bc43bab203b4b967ecb053"
            ],
            "layout": "IPY_MODEL_8868d8f546764d138d1fcb6468692d67"
          }
        },
        "540b1811e7ec4deaa58a52e0d6209dae": {
          "model_module": "@jupyter-widgets/controls",
          "model_name": "HTMLModel",
          "model_module_version": "1.5.0",
          "state": {
            "_dom_classes": [],
            "_model_module": "@jupyter-widgets/controls",
            "_model_module_version": "1.5.0",
            "_model_name": "HTMLModel",
            "_view_count": null,
            "_view_module": "@jupyter-widgets/controls",
            "_view_module_version": "1.5.0",
            "_view_name": "HTMLView",
            "description": "",
            "description_tooltip": null,
            "layout": "IPY_MODEL_6021331c1da940ebbf38217ce6157236",
            "placeholder": "​",
            "style": "IPY_MODEL_57fd6b3db75a4a2194279377181c4173",
            "value": "generation_config.json: 100%"
          }
        },
        "8aeffd9b851c402d8f9b8147e77791be": {
          "model_module": "@jupyter-widgets/controls",
          "model_name": "FloatProgressModel",
          "model_module_version": "1.5.0",
          "state": {
            "_dom_classes": [],
            "_model_module": "@jupyter-widgets/controls",
            "_model_module_version": "1.5.0",
            "_model_name": "FloatProgressModel",
            "_view_count": null,
            "_view_module": "@jupyter-widgets/controls",
            "_view_module_version": "1.5.0",
            "_view_name": "ProgressView",
            "bar_style": "success",
            "description": "",
            "description_tooltip": null,
            "layout": "IPY_MODEL_65f34224a1aa4bd39a4887537d762889",
            "max": 111,
            "min": 0,
            "orientation": "horizontal",
            "style": "IPY_MODEL_553e5d6f27da4c9f9a32890b4e34a109",
            "value": 111
          }
        },
        "5589379e73bc43bab203b4b967ecb053": {
          "model_module": "@jupyter-widgets/controls",
          "model_name": "HTMLModel",
          "model_module_version": "1.5.0",
          "state": {
            "_dom_classes": [],
            "_model_module": "@jupyter-widgets/controls",
            "_model_module_version": "1.5.0",
            "_model_name": "HTMLModel",
            "_view_count": null,
            "_view_module": "@jupyter-widgets/controls",
            "_view_module_version": "1.5.0",
            "_view_name": "HTMLView",
            "description": "",
            "description_tooltip": null,
            "layout": "IPY_MODEL_722f955ddc4549b699b2827a94c21dbf",
            "placeholder": "​",
            "style": "IPY_MODEL_a9310ed63a6645c9a30034ad405b54fa",
            "value": " 111/111 [00:00&lt;00:00, 9.14kB/s]"
          }
        },
        "8868d8f546764d138d1fcb6468692d67": {
          "model_module": "@jupyter-widgets/base",
          "model_name": "LayoutModel",
          "model_module_version": "1.2.0",
          "state": {
            "_model_module": "@jupyter-widgets/base",
            "_model_module_version": "1.2.0",
            "_model_name": "LayoutModel",
            "_view_count": null,
            "_view_module": "@jupyter-widgets/base",
            "_view_module_version": "1.2.0",
            "_view_name": "LayoutView",
            "align_content": null,
            "align_items": null,
            "align_self": null,
            "border": null,
            "bottom": null,
            "display": null,
            "flex": null,
            "flex_flow": null,
            "grid_area": null,
            "grid_auto_columns": null,
            "grid_auto_flow": null,
            "grid_auto_rows": null,
            "grid_column": null,
            "grid_gap": null,
            "grid_row": null,
            "grid_template_areas": null,
            "grid_template_columns": null,
            "grid_template_rows": null,
            "height": null,
            "justify_content": null,
            "justify_items": null,
            "left": null,
            "margin": null,
            "max_height": null,
            "max_width": null,
            "min_height": null,
            "min_width": null,
            "object_fit": null,
            "object_position": null,
            "order": null,
            "overflow": null,
            "overflow_x": null,
            "overflow_y": null,
            "padding": null,
            "right": null,
            "top": null,
            "visibility": null,
            "width": null
          }
        },
        "6021331c1da940ebbf38217ce6157236": {
          "model_module": "@jupyter-widgets/base",
          "model_name": "LayoutModel",
          "model_module_version": "1.2.0",
          "state": {
            "_model_module": "@jupyter-widgets/base",
            "_model_module_version": "1.2.0",
            "_model_name": "LayoutModel",
            "_view_count": null,
            "_view_module": "@jupyter-widgets/base",
            "_view_module_version": "1.2.0",
            "_view_name": "LayoutView",
            "align_content": null,
            "align_items": null,
            "align_self": null,
            "border": null,
            "bottom": null,
            "display": null,
            "flex": null,
            "flex_flow": null,
            "grid_area": null,
            "grid_auto_columns": null,
            "grid_auto_flow": null,
            "grid_auto_rows": null,
            "grid_column": null,
            "grid_gap": null,
            "grid_row": null,
            "grid_template_areas": null,
            "grid_template_columns": null,
            "grid_template_rows": null,
            "height": null,
            "justify_content": null,
            "justify_items": null,
            "left": null,
            "margin": null,
            "max_height": null,
            "max_width": null,
            "min_height": null,
            "min_width": null,
            "object_fit": null,
            "object_position": null,
            "order": null,
            "overflow": null,
            "overflow_x": null,
            "overflow_y": null,
            "padding": null,
            "right": null,
            "top": null,
            "visibility": null,
            "width": null
          }
        },
        "57fd6b3db75a4a2194279377181c4173": {
          "model_module": "@jupyter-widgets/controls",
          "model_name": "DescriptionStyleModel",
          "model_module_version": "1.5.0",
          "state": {
            "_model_module": "@jupyter-widgets/controls",
            "_model_module_version": "1.5.0",
            "_model_name": "DescriptionStyleModel",
            "_view_count": null,
            "_view_module": "@jupyter-widgets/base",
            "_view_module_version": "1.2.0",
            "_view_name": "StyleView",
            "description_width": ""
          }
        },
        "65f34224a1aa4bd39a4887537d762889": {
          "model_module": "@jupyter-widgets/base",
          "model_name": "LayoutModel",
          "model_module_version": "1.2.0",
          "state": {
            "_model_module": "@jupyter-widgets/base",
            "_model_module_version": "1.2.0",
            "_model_name": "LayoutModel",
            "_view_count": null,
            "_view_module": "@jupyter-widgets/base",
            "_view_module_version": "1.2.0",
            "_view_name": "LayoutView",
            "align_content": null,
            "align_items": null,
            "align_self": null,
            "border": null,
            "bottom": null,
            "display": null,
            "flex": null,
            "flex_flow": null,
            "grid_area": null,
            "grid_auto_columns": null,
            "grid_auto_flow": null,
            "grid_auto_rows": null,
            "grid_column": null,
            "grid_gap": null,
            "grid_row": null,
            "grid_template_areas": null,
            "grid_template_columns": null,
            "grid_template_rows": null,
            "height": null,
            "justify_content": null,
            "justify_items": null,
            "left": null,
            "margin": null,
            "max_height": null,
            "max_width": null,
            "min_height": null,
            "min_width": null,
            "object_fit": null,
            "object_position": null,
            "order": null,
            "overflow": null,
            "overflow_x": null,
            "overflow_y": null,
            "padding": null,
            "right": null,
            "top": null,
            "visibility": null,
            "width": null
          }
        },
        "553e5d6f27da4c9f9a32890b4e34a109": {
          "model_module": "@jupyter-widgets/controls",
          "model_name": "ProgressStyleModel",
          "model_module_version": "1.5.0",
          "state": {
            "_model_module": "@jupyter-widgets/controls",
            "_model_module_version": "1.5.0",
            "_model_name": "ProgressStyleModel",
            "_view_count": null,
            "_view_module": "@jupyter-widgets/base",
            "_view_module_version": "1.2.0",
            "_view_name": "StyleView",
            "bar_color": null,
            "description_width": ""
          }
        },
        "722f955ddc4549b699b2827a94c21dbf": {
          "model_module": "@jupyter-widgets/base",
          "model_name": "LayoutModel",
          "model_module_version": "1.2.0",
          "state": {
            "_model_module": "@jupyter-widgets/base",
            "_model_module_version": "1.2.0",
            "_model_name": "LayoutModel",
            "_view_count": null,
            "_view_module": "@jupyter-widgets/base",
            "_view_module_version": "1.2.0",
            "_view_name": "LayoutView",
            "align_content": null,
            "align_items": null,
            "align_self": null,
            "border": null,
            "bottom": null,
            "display": null,
            "flex": null,
            "flex_flow": null,
            "grid_area": null,
            "grid_auto_columns": null,
            "grid_auto_flow": null,
            "grid_auto_rows": null,
            "grid_column": null,
            "grid_gap": null,
            "grid_row": null,
            "grid_template_areas": null,
            "grid_template_columns": null,
            "grid_template_rows": null,
            "height": null,
            "justify_content": null,
            "justify_items": null,
            "left": null,
            "margin": null,
            "max_height": null,
            "max_width": null,
            "min_height": null,
            "min_width": null,
            "object_fit": null,
            "object_position": null,
            "order": null,
            "overflow": null,
            "overflow_x": null,
            "overflow_y": null,
            "padding": null,
            "right": null,
            "top": null,
            "visibility": null,
            "width": null
          }
        },
        "a9310ed63a6645c9a30034ad405b54fa": {
          "model_module": "@jupyter-widgets/controls",
          "model_name": "DescriptionStyleModel",
          "model_module_version": "1.5.0",
          "state": {
            "_model_module": "@jupyter-widgets/controls",
            "_model_module_version": "1.5.0",
            "_model_name": "DescriptionStyleModel",
            "_view_count": null,
            "_view_module": "@jupyter-widgets/base",
            "_view_module_version": "1.2.0",
            "_view_name": "StyleView",
            "description_width": ""
          }
        },
        "b075e0a07b55409da1222ed1ff3514ac": {
          "model_module": "@jupyter-widgets/controls",
          "model_name": "VBoxModel",
          "model_module_version": "1.5.0",
          "state": {
            "_dom_classes": [],
            "_model_module": "@jupyter-widgets/controls",
            "_model_module_version": "1.5.0",
            "_model_name": "VBoxModel",
            "_view_count": null,
            "_view_module": "@jupyter-widgets/controls",
            "_view_module_version": "1.5.0",
            "_view_name": "VBoxView",
            "box_style": "",
            "children": [
              "IPY_MODEL_277d90fa30ef4dbe9046a056cb8d7733",
              "IPY_MODEL_d0b3e20b27a24c93ab57b83a49c64d35"
            ],
            "layout": "IPY_MODEL_1eab23ecf7a54dfe8febb64bd0ae0e2e"
          }
        },
        "277d90fa30ef4dbe9046a056cb8d7733": {
          "model_module": "@jupyter-widgets/controls",
          "model_name": "LabelModel",
          "model_module_version": "1.5.0",
          "state": {
            "_dom_classes": [],
            "_model_module": "@jupyter-widgets/controls",
            "_model_module_version": "1.5.0",
            "_model_name": "LabelModel",
            "_view_count": null,
            "_view_module": "@jupyter-widgets/controls",
            "_view_module_version": "1.5.0",
            "_view_name": "LabelView",
            "description": "",
            "description_tooltip": null,
            "layout": "IPY_MODEL_1e9dc610633a4ef5aaf16161d4346fa0",
            "placeholder": "​",
            "style": "IPY_MODEL_0b82134f049846859c76ff8af14a58ac",
            "value": "1080.126 MB of 1080.126 MB uploaded\r"
          }
        },
        "d0b3e20b27a24c93ab57b83a49c64d35": {
          "model_module": "@jupyter-widgets/controls",
          "model_name": "FloatProgressModel",
          "model_module_version": "1.5.0",
          "state": {
            "_dom_classes": [],
            "_model_module": "@jupyter-widgets/controls",
            "_model_module_version": "1.5.0",
            "_model_name": "FloatProgressModel",
            "_view_count": null,
            "_view_module": "@jupyter-widgets/controls",
            "_view_module_version": "1.5.0",
            "_view_name": "ProgressView",
            "bar_style": "",
            "description": "",
            "description_tooltip": null,
            "layout": "IPY_MODEL_ada18c31496041b791fa5b9f19d302a8",
            "max": 1,
            "min": 0,
            "orientation": "horizontal",
            "style": "IPY_MODEL_01fe6ac490334d8e93c8c2e1b6bbf946",
            "value": 1
          }
        },
        "1eab23ecf7a54dfe8febb64bd0ae0e2e": {
          "model_module": "@jupyter-widgets/base",
          "model_name": "LayoutModel",
          "model_module_version": "1.2.0",
          "state": {
            "_model_module": "@jupyter-widgets/base",
            "_model_module_version": "1.2.0",
            "_model_name": "LayoutModel",
            "_view_count": null,
            "_view_module": "@jupyter-widgets/base",
            "_view_module_version": "1.2.0",
            "_view_name": "LayoutView",
            "align_content": null,
            "align_items": null,
            "align_self": null,
            "border": null,
            "bottom": null,
            "display": null,
            "flex": null,
            "flex_flow": null,
            "grid_area": null,
            "grid_auto_columns": null,
            "grid_auto_flow": null,
            "grid_auto_rows": null,
            "grid_column": null,
            "grid_gap": null,
            "grid_row": null,
            "grid_template_areas": null,
            "grid_template_columns": null,
            "grid_template_rows": null,
            "height": null,
            "justify_content": null,
            "justify_items": null,
            "left": null,
            "margin": null,
            "max_height": null,
            "max_width": null,
            "min_height": null,
            "min_width": null,
            "object_fit": null,
            "object_position": null,
            "order": null,
            "overflow": null,
            "overflow_x": null,
            "overflow_y": null,
            "padding": null,
            "right": null,
            "top": null,
            "visibility": null,
            "width": null
          }
        },
        "1e9dc610633a4ef5aaf16161d4346fa0": {
          "model_module": "@jupyter-widgets/base",
          "model_name": "LayoutModel",
          "model_module_version": "1.2.0",
          "state": {
            "_model_module": "@jupyter-widgets/base",
            "_model_module_version": "1.2.0",
            "_model_name": "LayoutModel",
            "_view_count": null,
            "_view_module": "@jupyter-widgets/base",
            "_view_module_version": "1.2.0",
            "_view_name": "LayoutView",
            "align_content": null,
            "align_items": null,
            "align_self": null,
            "border": null,
            "bottom": null,
            "display": null,
            "flex": null,
            "flex_flow": null,
            "grid_area": null,
            "grid_auto_columns": null,
            "grid_auto_flow": null,
            "grid_auto_rows": null,
            "grid_column": null,
            "grid_gap": null,
            "grid_row": null,
            "grid_template_areas": null,
            "grid_template_columns": null,
            "grid_template_rows": null,
            "height": null,
            "justify_content": null,
            "justify_items": null,
            "left": null,
            "margin": null,
            "max_height": null,
            "max_width": null,
            "min_height": null,
            "min_width": null,
            "object_fit": null,
            "object_position": null,
            "order": null,
            "overflow": null,
            "overflow_x": null,
            "overflow_y": null,
            "padding": null,
            "right": null,
            "top": null,
            "visibility": null,
            "width": null
          }
        },
        "0b82134f049846859c76ff8af14a58ac": {
          "model_module": "@jupyter-widgets/controls",
          "model_name": "DescriptionStyleModel",
          "model_module_version": "1.5.0",
          "state": {
            "_model_module": "@jupyter-widgets/controls",
            "_model_module_version": "1.5.0",
            "_model_name": "DescriptionStyleModel",
            "_view_count": null,
            "_view_module": "@jupyter-widgets/base",
            "_view_module_version": "1.2.0",
            "_view_name": "StyleView",
            "description_width": ""
          }
        },
        "ada18c31496041b791fa5b9f19d302a8": {
          "model_module": "@jupyter-widgets/base",
          "model_name": "LayoutModel",
          "model_module_version": "1.2.0",
          "state": {
            "_model_module": "@jupyter-widgets/base",
            "_model_module_version": "1.2.0",
            "_model_name": "LayoutModel",
            "_view_count": null,
            "_view_module": "@jupyter-widgets/base",
            "_view_module_version": "1.2.0",
            "_view_name": "LayoutView",
            "align_content": null,
            "align_items": null,
            "align_self": null,
            "border": null,
            "bottom": null,
            "display": null,
            "flex": null,
            "flex_flow": null,
            "grid_area": null,
            "grid_auto_columns": null,
            "grid_auto_flow": null,
            "grid_auto_rows": null,
            "grid_column": null,
            "grid_gap": null,
            "grid_row": null,
            "grid_template_areas": null,
            "grid_template_columns": null,
            "grid_template_rows": null,
            "height": null,
            "justify_content": null,
            "justify_items": null,
            "left": null,
            "margin": null,
            "max_height": null,
            "max_width": null,
            "min_height": null,
            "min_width": null,
            "object_fit": null,
            "object_position": null,
            "order": null,
            "overflow": null,
            "overflow_x": null,
            "overflow_y": null,
            "padding": null,
            "right": null,
            "top": null,
            "visibility": null,
            "width": null
          }
        },
        "01fe6ac490334d8e93c8c2e1b6bbf946": {
          "model_module": "@jupyter-widgets/controls",
          "model_name": "ProgressStyleModel",
          "model_module_version": "1.5.0",
          "state": {
            "_model_module": "@jupyter-widgets/controls",
            "_model_module_version": "1.5.0",
            "_model_name": "ProgressStyleModel",
            "_view_count": null,
            "_view_module": "@jupyter-widgets/base",
            "_view_module_version": "1.2.0",
            "_view_name": "StyleView",
            "bar_color": null,
            "description_width": ""
          }
        },
        "0ed10079ba8e48bb9bb658a08067da64": {
          "model_module": "@jupyter-widgets/controls",
          "model_name": "HBoxModel",
          "model_module_version": "1.5.0",
          "state": {
            "_dom_classes": [],
            "_model_module": "@jupyter-widgets/controls",
            "_model_module_version": "1.5.0",
            "_model_name": "HBoxModel",
            "_view_count": null,
            "_view_module": "@jupyter-widgets/controls",
            "_view_module_version": "1.5.0",
            "_view_name": "HBoxView",
            "box_style": "",
            "children": [
              "IPY_MODEL_9e657706059a4be9a1a58b5f0e5a0d20",
              "IPY_MODEL_8016cdfc8ce84687b10c30eec1dcd9ae",
              "IPY_MODEL_e7b144c2a6a94604b388b877780d6324"
            ],
            "layout": "IPY_MODEL_8b937b2a02604a70a0f8d712ea52e8fc"
          }
        },
        "9e657706059a4be9a1a58b5f0e5a0d20": {
          "model_module": "@jupyter-widgets/controls",
          "model_name": "HTMLModel",
          "model_module_version": "1.5.0",
          "state": {
            "_dom_classes": [],
            "_model_module": "@jupyter-widgets/controls",
            "_model_module_version": "1.5.0",
            "_model_name": "HTMLModel",
            "_view_count": null,
            "_view_module": "@jupyter-widgets/controls",
            "_view_module_version": "1.5.0",
            "_view_name": "HTMLView",
            "description": "",
            "description_tooltip": null,
            "layout": "IPY_MODEL_e2c33975a59443eea3b86e9482ccd898",
            "placeholder": "​",
            "style": "IPY_MODEL_b9c685b5748741c0b5eb7a65276e2a0d",
            "value": "Flattening the indices: 100%"
          }
        },
        "8016cdfc8ce84687b10c30eec1dcd9ae": {
          "model_module": "@jupyter-widgets/controls",
          "model_name": "FloatProgressModel",
          "model_module_version": "1.5.0",
          "state": {
            "_dom_classes": [],
            "_model_module": "@jupyter-widgets/controls",
            "_model_module_version": "1.5.0",
            "_model_name": "FloatProgressModel",
            "_view_count": null,
            "_view_module": "@jupyter-widgets/controls",
            "_view_module_version": "1.5.0",
            "_view_name": "ProgressView",
            "bar_style": "success",
            "description": "",
            "description_tooltip": null,
            "layout": "IPY_MODEL_207f18e064c445d9a0bae6da1e2bd1b7",
            "max": 101,
            "min": 0,
            "orientation": "horizontal",
            "style": "IPY_MODEL_94044fb9c98342b5ae4372c50c0bc65a",
            "value": 101
          }
        },
        "e7b144c2a6a94604b388b877780d6324": {
          "model_module": "@jupyter-widgets/controls",
          "model_name": "HTMLModel",
          "model_module_version": "1.5.0",
          "state": {
            "_dom_classes": [],
            "_model_module": "@jupyter-widgets/controls",
            "_model_module_version": "1.5.0",
            "_model_name": "HTMLModel",
            "_view_count": null,
            "_view_module": "@jupyter-widgets/controls",
            "_view_module_version": "1.5.0",
            "_view_name": "HTMLView",
            "description": "",
            "description_tooltip": null,
            "layout": "IPY_MODEL_dceae9f4226a445984205c00d5348c16",
            "placeholder": "​",
            "style": "IPY_MODEL_ca26f0bd449d4cf28d4b18f1beea6df5",
            "value": " 101/101 [00:00&lt;00:00, 4222.52 examples/s]"
          }
        },
        "8b937b2a02604a70a0f8d712ea52e8fc": {
          "model_module": "@jupyter-widgets/base",
          "model_name": "LayoutModel",
          "model_module_version": "1.2.0",
          "state": {
            "_model_module": "@jupyter-widgets/base",
            "_model_module_version": "1.2.0",
            "_model_name": "LayoutModel",
            "_view_count": null,
            "_view_module": "@jupyter-widgets/base",
            "_view_module_version": "1.2.0",
            "_view_name": "LayoutView",
            "align_content": null,
            "align_items": null,
            "align_self": null,
            "border": null,
            "bottom": null,
            "display": null,
            "flex": null,
            "flex_flow": null,
            "grid_area": null,
            "grid_auto_columns": null,
            "grid_auto_flow": null,
            "grid_auto_rows": null,
            "grid_column": null,
            "grid_gap": null,
            "grid_row": null,
            "grid_template_areas": null,
            "grid_template_columns": null,
            "grid_template_rows": null,
            "height": null,
            "justify_content": null,
            "justify_items": null,
            "left": null,
            "margin": null,
            "max_height": null,
            "max_width": null,
            "min_height": null,
            "min_width": null,
            "object_fit": null,
            "object_position": null,
            "order": null,
            "overflow": null,
            "overflow_x": null,
            "overflow_y": null,
            "padding": null,
            "right": null,
            "top": null,
            "visibility": null,
            "width": null
          }
        },
        "e2c33975a59443eea3b86e9482ccd898": {
          "model_module": "@jupyter-widgets/base",
          "model_name": "LayoutModel",
          "model_module_version": "1.2.0",
          "state": {
            "_model_module": "@jupyter-widgets/base",
            "_model_module_version": "1.2.0",
            "_model_name": "LayoutModel",
            "_view_count": null,
            "_view_module": "@jupyter-widgets/base",
            "_view_module_version": "1.2.0",
            "_view_name": "LayoutView",
            "align_content": null,
            "align_items": null,
            "align_self": null,
            "border": null,
            "bottom": null,
            "display": null,
            "flex": null,
            "flex_flow": null,
            "grid_area": null,
            "grid_auto_columns": null,
            "grid_auto_flow": null,
            "grid_auto_rows": null,
            "grid_column": null,
            "grid_gap": null,
            "grid_row": null,
            "grid_template_areas": null,
            "grid_template_columns": null,
            "grid_template_rows": null,
            "height": null,
            "justify_content": null,
            "justify_items": null,
            "left": null,
            "margin": null,
            "max_height": null,
            "max_width": null,
            "min_height": null,
            "min_width": null,
            "object_fit": null,
            "object_position": null,
            "order": null,
            "overflow": null,
            "overflow_x": null,
            "overflow_y": null,
            "padding": null,
            "right": null,
            "top": null,
            "visibility": null,
            "width": null
          }
        },
        "b9c685b5748741c0b5eb7a65276e2a0d": {
          "model_module": "@jupyter-widgets/controls",
          "model_name": "DescriptionStyleModel",
          "model_module_version": "1.5.0",
          "state": {
            "_model_module": "@jupyter-widgets/controls",
            "_model_module_version": "1.5.0",
            "_model_name": "DescriptionStyleModel",
            "_view_count": null,
            "_view_module": "@jupyter-widgets/base",
            "_view_module_version": "1.2.0",
            "_view_name": "StyleView",
            "description_width": ""
          }
        },
        "207f18e064c445d9a0bae6da1e2bd1b7": {
          "model_module": "@jupyter-widgets/base",
          "model_name": "LayoutModel",
          "model_module_version": "1.2.0",
          "state": {
            "_model_module": "@jupyter-widgets/base",
            "_model_module_version": "1.2.0",
            "_model_name": "LayoutModel",
            "_view_count": null,
            "_view_module": "@jupyter-widgets/base",
            "_view_module_version": "1.2.0",
            "_view_name": "LayoutView",
            "align_content": null,
            "align_items": null,
            "align_self": null,
            "border": null,
            "bottom": null,
            "display": null,
            "flex": null,
            "flex_flow": null,
            "grid_area": null,
            "grid_auto_columns": null,
            "grid_auto_flow": null,
            "grid_auto_rows": null,
            "grid_column": null,
            "grid_gap": null,
            "grid_row": null,
            "grid_template_areas": null,
            "grid_template_columns": null,
            "grid_template_rows": null,
            "height": null,
            "justify_content": null,
            "justify_items": null,
            "left": null,
            "margin": null,
            "max_height": null,
            "max_width": null,
            "min_height": null,
            "min_width": null,
            "object_fit": null,
            "object_position": null,
            "order": null,
            "overflow": null,
            "overflow_x": null,
            "overflow_y": null,
            "padding": null,
            "right": null,
            "top": null,
            "visibility": null,
            "width": null
          }
        },
        "94044fb9c98342b5ae4372c50c0bc65a": {
          "model_module": "@jupyter-widgets/controls",
          "model_name": "ProgressStyleModel",
          "model_module_version": "1.5.0",
          "state": {
            "_model_module": "@jupyter-widgets/controls",
            "_model_module_version": "1.5.0",
            "_model_name": "ProgressStyleModel",
            "_view_count": null,
            "_view_module": "@jupyter-widgets/base",
            "_view_module_version": "1.2.0",
            "_view_name": "StyleView",
            "bar_color": null,
            "description_width": ""
          }
        },
        "dceae9f4226a445984205c00d5348c16": {
          "model_module": "@jupyter-widgets/base",
          "model_name": "LayoutModel",
          "model_module_version": "1.2.0",
          "state": {
            "_model_module": "@jupyter-widgets/base",
            "_model_module_version": "1.2.0",
            "_model_name": "LayoutModel",
            "_view_count": null,
            "_view_module": "@jupyter-widgets/base",
            "_view_module_version": "1.2.0",
            "_view_name": "LayoutView",
            "align_content": null,
            "align_items": null,
            "align_self": null,
            "border": null,
            "bottom": null,
            "display": null,
            "flex": null,
            "flex_flow": null,
            "grid_area": null,
            "grid_auto_columns": null,
            "grid_auto_flow": null,
            "grid_auto_rows": null,
            "grid_column": null,
            "grid_gap": null,
            "grid_row": null,
            "grid_template_areas": null,
            "grid_template_columns": null,
            "grid_template_rows": null,
            "height": null,
            "justify_content": null,
            "justify_items": null,
            "left": null,
            "margin": null,
            "max_height": null,
            "max_width": null,
            "min_height": null,
            "min_width": null,
            "object_fit": null,
            "object_position": null,
            "order": null,
            "overflow": null,
            "overflow_x": null,
            "overflow_y": null,
            "padding": null,
            "right": null,
            "top": null,
            "visibility": null,
            "width": null
          }
        },
        "ca26f0bd449d4cf28d4b18f1beea6df5": {
          "model_module": "@jupyter-widgets/controls",
          "model_name": "DescriptionStyleModel",
          "model_module_version": "1.5.0",
          "state": {
            "_model_module": "@jupyter-widgets/controls",
            "_model_module_version": "1.5.0",
            "_model_name": "DescriptionStyleModel",
            "_view_count": null,
            "_view_module": "@jupyter-widgets/base",
            "_view_module_version": "1.2.0",
            "_view_name": "StyleView",
            "description_width": ""
          }
        }
      }
    }
  },
  "nbformat": 4,
  "nbformat_minor": 0
}