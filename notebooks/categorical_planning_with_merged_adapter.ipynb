{
  "nbformat": 4,
  "nbformat_minor": 0,
  "metadata": {
    "colab": {
      "provenance": [],
      "gpuType": "L4",
      "machine_shape": "hm"
    },
    "kernelspec": {
      "name": "python3",
      "display_name": "Python 3"
    },
    "language_info": {
      "name": "python"
    },
    "accelerator": "GPU",
    "widgets": {
      "application/vnd.jupyter.widget-state+json": {
        "0cf830872cfd4edf9fbb804d2cfc0dd7": {
          "model_module": "@jupyter-widgets/controls",
          "model_name": "HBoxModel",
          "model_module_version": "1.5.0",
          "state": {
            "_dom_classes": [],
            "_model_module": "@jupyter-widgets/controls",
            "_model_module_version": "1.5.0",
            "_model_name": "HBoxModel",
            "_view_count": null,
            "_view_module": "@jupyter-widgets/controls",
            "_view_module_version": "1.5.0",
            "_view_name": "HBoxView",
            "box_style": "",
            "children": [
              "IPY_MODEL_8cff4e3af89d4b1486abc148e07dc00e",
              "IPY_MODEL_41f45ff755c24e70ac42f0c11234704f",
              "IPY_MODEL_688fde1ba9604c7db85476adb515e377"
            ],
            "layout": "IPY_MODEL_a97bc7855e2e47f188947c2e69147530"
          }
        },
        "8cff4e3af89d4b1486abc148e07dc00e": {
          "model_module": "@jupyter-widgets/controls",
          "model_name": "HTMLModel",
          "model_module_version": "1.5.0",
          "state": {
            "_dom_classes": [],
            "_model_module": "@jupyter-widgets/controls",
            "_model_module_version": "1.5.0",
            "_model_name": "HTMLModel",
            "_view_count": null,
            "_view_module": "@jupyter-widgets/controls",
            "_view_module_version": "1.5.0",
            "_view_name": "HTMLView",
            "description": "",
            "description_tooltip": null,
            "layout": "IPY_MODEL_bf52668824674fa590de20dd61b16665",
            "placeholder": "​",
            "style": "IPY_MODEL_a1fce3f14b944245989f94c81de1d7f1",
            "value": "Flattening the indices: 100%"
          }
        },
        "41f45ff755c24e70ac42f0c11234704f": {
          "model_module": "@jupyter-widgets/controls",
          "model_name": "FloatProgressModel",
          "model_module_version": "1.5.0",
          "state": {
            "_dom_classes": [],
            "_model_module": "@jupyter-widgets/controls",
            "_model_module_version": "1.5.0",
            "_model_name": "FloatProgressModel",
            "_view_count": null,
            "_view_module": "@jupyter-widgets/controls",
            "_view_module_version": "1.5.0",
            "_view_name": "ProgressView",
            "bar_style": "success",
            "description": "",
            "description_tooltip": null,
            "layout": "IPY_MODEL_a970aaaeea8b40288e82646b5a902709",
            "max": 101,
            "min": 0,
            "orientation": "horizontal",
            "style": "IPY_MODEL_09c3274d00d34b578e9c66d2f6601491",
            "value": 101
          }
        },
        "688fde1ba9604c7db85476adb515e377": {
          "model_module": "@jupyter-widgets/controls",
          "model_name": "HTMLModel",
          "model_module_version": "1.5.0",
          "state": {
            "_dom_classes": [],
            "_model_module": "@jupyter-widgets/controls",
            "_model_module_version": "1.5.0",
            "_model_name": "HTMLModel",
            "_view_count": null,
            "_view_module": "@jupyter-widgets/controls",
            "_view_module_version": "1.5.0",
            "_view_name": "HTMLView",
            "description": "",
            "description_tooltip": null,
            "layout": "IPY_MODEL_1ee4c6d25ba64f6290c57062d96cc179",
            "placeholder": "​",
            "style": "IPY_MODEL_7d057877dbbd4dc19cc86bf7ee482322",
            "value": " 101/101 [00:00&lt;00:00, 4814.35 examples/s]"
          }
        },
        "a97bc7855e2e47f188947c2e69147530": {
          "model_module": "@jupyter-widgets/base",
          "model_name": "LayoutModel",
          "model_module_version": "1.2.0",
          "state": {
            "_model_module": "@jupyter-widgets/base",
            "_model_module_version": "1.2.0",
            "_model_name": "LayoutModel",
            "_view_count": null,
            "_view_module": "@jupyter-widgets/base",
            "_view_module_version": "1.2.0",
            "_view_name": "LayoutView",
            "align_content": null,
            "align_items": null,
            "align_self": null,
            "border": null,
            "bottom": null,
            "display": null,
            "flex": null,
            "flex_flow": null,
            "grid_area": null,
            "grid_auto_columns": null,
            "grid_auto_flow": null,
            "grid_auto_rows": null,
            "grid_column": null,
            "grid_gap": null,
            "grid_row": null,
            "grid_template_areas": null,
            "grid_template_columns": null,
            "grid_template_rows": null,
            "height": null,
            "justify_content": null,
            "justify_items": null,
            "left": null,
            "margin": null,
            "max_height": null,
            "max_width": null,
            "min_height": null,
            "min_width": null,
            "object_fit": null,
            "object_position": null,
            "order": null,
            "overflow": null,
            "overflow_x": null,
            "overflow_y": null,
            "padding": null,
            "right": null,
            "top": null,
            "visibility": null,
            "width": null
          }
        },
        "bf52668824674fa590de20dd61b16665": {
          "model_module": "@jupyter-widgets/base",
          "model_name": "LayoutModel",
          "model_module_version": "1.2.0",
          "state": {
            "_model_module": "@jupyter-widgets/base",
            "_model_module_version": "1.2.0",
            "_model_name": "LayoutModel",
            "_view_count": null,
            "_view_module": "@jupyter-widgets/base",
            "_view_module_version": "1.2.0",
            "_view_name": "LayoutView",
            "align_content": null,
            "align_items": null,
            "align_self": null,
            "border": null,
            "bottom": null,
            "display": null,
            "flex": null,
            "flex_flow": null,
            "grid_area": null,
            "grid_auto_columns": null,
            "grid_auto_flow": null,
            "grid_auto_rows": null,
            "grid_column": null,
            "grid_gap": null,
            "grid_row": null,
            "grid_template_areas": null,
            "grid_template_columns": null,
            "grid_template_rows": null,
            "height": null,
            "justify_content": null,
            "justify_items": null,
            "left": null,
            "margin": null,
            "max_height": null,
            "max_width": null,
            "min_height": null,
            "min_width": null,
            "object_fit": null,
            "object_position": null,
            "order": null,
            "overflow": null,
            "overflow_x": null,
            "overflow_y": null,
            "padding": null,
            "right": null,
            "top": null,
            "visibility": null,
            "width": null
          }
        },
        "a1fce3f14b944245989f94c81de1d7f1": {
          "model_module": "@jupyter-widgets/controls",
          "model_name": "DescriptionStyleModel",
          "model_module_version": "1.5.0",
          "state": {
            "_model_module": "@jupyter-widgets/controls",
            "_model_module_version": "1.5.0",
            "_model_name": "DescriptionStyleModel",
            "_view_count": null,
            "_view_module": "@jupyter-widgets/base",
            "_view_module_version": "1.2.0",
            "_view_name": "StyleView",
            "description_width": ""
          }
        },
        "a970aaaeea8b40288e82646b5a902709": {
          "model_module": "@jupyter-widgets/base",
          "model_name": "LayoutModel",
          "model_module_version": "1.2.0",
          "state": {
            "_model_module": "@jupyter-widgets/base",
            "_model_module_version": "1.2.0",
            "_model_name": "LayoutModel",
            "_view_count": null,
            "_view_module": "@jupyter-widgets/base",
            "_view_module_version": "1.2.0",
            "_view_name": "LayoutView",
            "align_content": null,
            "align_items": null,
            "align_self": null,
            "border": null,
            "bottom": null,
            "display": null,
            "flex": null,
            "flex_flow": null,
            "grid_area": null,
            "grid_auto_columns": null,
            "grid_auto_flow": null,
            "grid_auto_rows": null,
            "grid_column": null,
            "grid_gap": null,
            "grid_row": null,
            "grid_template_areas": null,
            "grid_template_columns": null,
            "grid_template_rows": null,
            "height": null,
            "justify_content": null,
            "justify_items": null,
            "left": null,
            "margin": null,
            "max_height": null,
            "max_width": null,
            "min_height": null,
            "min_width": null,
            "object_fit": null,
            "object_position": null,
            "order": null,
            "overflow": null,
            "overflow_x": null,
            "overflow_y": null,
            "padding": null,
            "right": null,
            "top": null,
            "visibility": null,
            "width": null
          }
        },
        "09c3274d00d34b578e9c66d2f6601491": {
          "model_module": "@jupyter-widgets/controls",
          "model_name": "ProgressStyleModel",
          "model_module_version": "1.5.0",
          "state": {
            "_model_module": "@jupyter-widgets/controls",
            "_model_module_version": "1.5.0",
            "_model_name": "ProgressStyleModel",
            "_view_count": null,
            "_view_module": "@jupyter-widgets/base",
            "_view_module_version": "1.2.0",
            "_view_name": "StyleView",
            "bar_color": null,
            "description_width": ""
          }
        },
        "1ee4c6d25ba64f6290c57062d96cc179": {
          "model_module": "@jupyter-widgets/base",
          "model_name": "LayoutModel",
          "model_module_version": "1.2.0",
          "state": {
            "_model_module": "@jupyter-widgets/base",
            "_model_module_version": "1.2.0",
            "_model_name": "LayoutModel",
            "_view_count": null,
            "_view_module": "@jupyter-widgets/base",
            "_view_module_version": "1.2.0",
            "_view_name": "LayoutView",
            "align_content": null,
            "align_items": null,
            "align_self": null,
            "border": null,
            "bottom": null,
            "display": null,
            "flex": null,
            "flex_flow": null,
            "grid_area": null,
            "grid_auto_columns": null,
            "grid_auto_flow": null,
            "grid_auto_rows": null,
            "grid_column": null,
            "grid_gap": null,
            "grid_row": null,
            "grid_template_areas": null,
            "grid_template_columns": null,
            "grid_template_rows": null,
            "height": null,
            "justify_content": null,
            "justify_items": null,
            "left": null,
            "margin": null,
            "max_height": null,
            "max_width": null,
            "min_height": null,
            "min_width": null,
            "object_fit": null,
            "object_position": null,
            "order": null,
            "overflow": null,
            "overflow_x": null,
            "overflow_y": null,
            "padding": null,
            "right": null,
            "top": null,
            "visibility": null,
            "width": null
          }
        },
        "7d057877dbbd4dc19cc86bf7ee482322": {
          "model_module": "@jupyter-widgets/controls",
          "model_name": "DescriptionStyleModel",
          "model_module_version": "1.5.0",
          "state": {
            "_model_module": "@jupyter-widgets/controls",
            "_model_module_version": "1.5.0",
            "_model_name": "DescriptionStyleModel",
            "_view_count": null,
            "_view_module": "@jupyter-widgets/base",
            "_view_module_version": "1.2.0",
            "_view_name": "StyleView",
            "description_width": ""
          }
        },
        "3d6a7fd548f74c438ad24b41149cb5b0": {
          "model_module": "@jupyter-widgets/controls",
          "model_name": "HBoxModel",
          "model_module_version": "1.5.0",
          "state": {
            "_dom_classes": [],
            "_model_module": "@jupyter-widgets/controls",
            "_model_module_version": "1.5.0",
            "_model_name": "HBoxModel",
            "_view_count": null,
            "_view_module": "@jupyter-widgets/controls",
            "_view_module_version": "1.5.0",
            "_view_name": "HBoxView",
            "box_style": "",
            "children": [
              "IPY_MODEL_50fd2f62127e43869055cc195e7d0d2e",
              "IPY_MODEL_9ed299d60d7f4ef08043fb432cbaaefd",
              "IPY_MODEL_28414689d62d4bc69fbce6970ee694c3"
            ],
            "layout": "IPY_MODEL_ead55cbc5e0247a9a802cd2c08adc813"
          }
        },
        "50fd2f62127e43869055cc195e7d0d2e": {
          "model_module": "@jupyter-widgets/controls",
          "model_name": "HTMLModel",
          "model_module_version": "1.5.0",
          "state": {
            "_dom_classes": [],
            "_model_module": "@jupyter-widgets/controls",
            "_model_module_version": "1.5.0",
            "_model_name": "HTMLModel",
            "_view_count": null,
            "_view_module": "@jupyter-widgets/controls",
            "_view_module_version": "1.5.0",
            "_view_name": "HTMLView",
            "description": "",
            "description_tooltip": null,
            "layout": "IPY_MODEL_58fe2a2c3b8243cf8a36cbc0f93a13ba",
            "placeholder": "​",
            "style": "IPY_MODEL_4bbac46b24e94cb69ad16772aba5960f",
            "value": "Flattening the indices: 100%"
          }
        },
        "9ed299d60d7f4ef08043fb432cbaaefd": {
          "model_module": "@jupyter-widgets/controls",
          "model_name": "FloatProgressModel",
          "model_module_version": "1.5.0",
          "state": {
            "_dom_classes": [],
            "_model_module": "@jupyter-widgets/controls",
            "_model_module_version": "1.5.0",
            "_model_name": "FloatProgressModel",
            "_view_count": null,
            "_view_module": "@jupyter-widgets/controls",
            "_view_module_version": "1.5.0",
            "_view_name": "ProgressView",
            "bar_style": "success",
            "description": "",
            "description_tooltip": null,
            "layout": "IPY_MODEL_b49ac944994845f68f7c2319dd9345a1",
            "max": 101,
            "min": 0,
            "orientation": "horizontal",
            "style": "IPY_MODEL_f6040b2a21304c63a3dcfd94144ad8d6",
            "value": 101
          }
        },
        "28414689d62d4bc69fbce6970ee694c3": {
          "model_module": "@jupyter-widgets/controls",
          "model_name": "HTMLModel",
          "model_module_version": "1.5.0",
          "state": {
            "_dom_classes": [],
            "_model_module": "@jupyter-widgets/controls",
            "_model_module_version": "1.5.0",
            "_model_name": "HTMLModel",
            "_view_count": null,
            "_view_module": "@jupyter-widgets/controls",
            "_view_module_version": "1.5.0",
            "_view_name": "HTMLView",
            "description": "",
            "description_tooltip": null,
            "layout": "IPY_MODEL_93bd75deda6341a2912b96b2049a5fe7",
            "placeholder": "​",
            "style": "IPY_MODEL_db39f1830d38438a9950851334f88cb0",
            "value": " 101/101 [00:00&lt;00:00, 4265.42 examples/s]"
          }
        },
        "ead55cbc5e0247a9a802cd2c08adc813": {
          "model_module": "@jupyter-widgets/base",
          "model_name": "LayoutModel",
          "model_module_version": "1.2.0",
          "state": {
            "_model_module": "@jupyter-widgets/base",
            "_model_module_version": "1.2.0",
            "_model_name": "LayoutModel",
            "_view_count": null,
            "_view_module": "@jupyter-widgets/base",
            "_view_module_version": "1.2.0",
            "_view_name": "LayoutView",
            "align_content": null,
            "align_items": null,
            "align_self": null,
            "border": null,
            "bottom": null,
            "display": null,
            "flex": null,
            "flex_flow": null,
            "grid_area": null,
            "grid_auto_columns": null,
            "grid_auto_flow": null,
            "grid_auto_rows": null,
            "grid_column": null,
            "grid_gap": null,
            "grid_row": null,
            "grid_template_areas": null,
            "grid_template_columns": null,
            "grid_template_rows": null,
            "height": null,
            "justify_content": null,
            "justify_items": null,
            "left": null,
            "margin": null,
            "max_height": null,
            "max_width": null,
            "min_height": null,
            "min_width": null,
            "object_fit": null,
            "object_position": null,
            "order": null,
            "overflow": null,
            "overflow_x": null,
            "overflow_y": null,
            "padding": null,
            "right": null,
            "top": null,
            "visibility": null,
            "width": null
          }
        },
        "58fe2a2c3b8243cf8a36cbc0f93a13ba": {
          "model_module": "@jupyter-widgets/base",
          "model_name": "LayoutModel",
          "model_module_version": "1.2.0",
          "state": {
            "_model_module": "@jupyter-widgets/base",
            "_model_module_version": "1.2.0",
            "_model_name": "LayoutModel",
            "_view_count": null,
            "_view_module": "@jupyter-widgets/base",
            "_view_module_version": "1.2.0",
            "_view_name": "LayoutView",
            "align_content": null,
            "align_items": null,
            "align_self": null,
            "border": null,
            "bottom": null,
            "display": null,
            "flex": null,
            "flex_flow": null,
            "grid_area": null,
            "grid_auto_columns": null,
            "grid_auto_flow": null,
            "grid_auto_rows": null,
            "grid_column": null,
            "grid_gap": null,
            "grid_row": null,
            "grid_template_areas": null,
            "grid_template_columns": null,
            "grid_template_rows": null,
            "height": null,
            "justify_content": null,
            "justify_items": null,
            "left": null,
            "margin": null,
            "max_height": null,
            "max_width": null,
            "min_height": null,
            "min_width": null,
            "object_fit": null,
            "object_position": null,
            "order": null,
            "overflow": null,
            "overflow_x": null,
            "overflow_y": null,
            "padding": null,
            "right": null,
            "top": null,
            "visibility": null,
            "width": null
          }
        },
        "4bbac46b24e94cb69ad16772aba5960f": {
          "model_module": "@jupyter-widgets/controls",
          "model_name": "DescriptionStyleModel",
          "model_module_version": "1.5.0",
          "state": {
            "_model_module": "@jupyter-widgets/controls",
            "_model_module_version": "1.5.0",
            "_model_name": "DescriptionStyleModel",
            "_view_count": null,
            "_view_module": "@jupyter-widgets/base",
            "_view_module_version": "1.2.0",
            "_view_name": "StyleView",
            "description_width": ""
          }
        },
        "b49ac944994845f68f7c2319dd9345a1": {
          "model_module": "@jupyter-widgets/base",
          "model_name": "LayoutModel",
          "model_module_version": "1.2.0",
          "state": {
            "_model_module": "@jupyter-widgets/base",
            "_model_module_version": "1.2.0",
            "_model_name": "LayoutModel",
            "_view_count": null,
            "_view_module": "@jupyter-widgets/base",
            "_view_module_version": "1.2.0",
            "_view_name": "LayoutView",
            "align_content": null,
            "align_items": null,
            "align_self": null,
            "border": null,
            "bottom": null,
            "display": null,
            "flex": null,
            "flex_flow": null,
            "grid_area": null,
            "grid_auto_columns": null,
            "grid_auto_flow": null,
            "grid_auto_rows": null,
            "grid_column": null,
            "grid_gap": null,
            "grid_row": null,
            "grid_template_areas": null,
            "grid_template_columns": null,
            "grid_template_rows": null,
            "height": null,
            "justify_content": null,
            "justify_items": null,
            "left": null,
            "margin": null,
            "max_height": null,
            "max_width": null,
            "min_height": null,
            "min_width": null,
            "object_fit": null,
            "object_position": null,
            "order": null,
            "overflow": null,
            "overflow_x": null,
            "overflow_y": null,
            "padding": null,
            "right": null,
            "top": null,
            "visibility": null,
            "width": null
          }
        },
        "f6040b2a21304c63a3dcfd94144ad8d6": {
          "model_module": "@jupyter-widgets/controls",
          "model_name": "ProgressStyleModel",
          "model_module_version": "1.5.0",
          "state": {
            "_model_module": "@jupyter-widgets/controls",
            "_model_module_version": "1.5.0",
            "_model_name": "ProgressStyleModel",
            "_view_count": null,
            "_view_module": "@jupyter-widgets/base",
            "_view_module_version": "1.2.0",
            "_view_name": "StyleView",
            "bar_color": null,
            "description_width": ""
          }
        },
        "93bd75deda6341a2912b96b2049a5fe7": {
          "model_module": "@jupyter-widgets/base",
          "model_name": "LayoutModel",
          "model_module_version": "1.2.0",
          "state": {
            "_model_module": "@jupyter-widgets/base",
            "_model_module_version": "1.2.0",
            "_model_name": "LayoutModel",
            "_view_count": null,
            "_view_module": "@jupyter-widgets/base",
            "_view_module_version": "1.2.0",
            "_view_name": "LayoutView",
            "align_content": null,
            "align_items": null,
            "align_self": null,
            "border": null,
            "bottom": null,
            "display": null,
            "flex": null,
            "flex_flow": null,
            "grid_area": null,
            "grid_auto_columns": null,
            "grid_auto_flow": null,
            "grid_auto_rows": null,
            "grid_column": null,
            "grid_gap": null,
            "grid_row": null,
            "grid_template_areas": null,
            "grid_template_columns": null,
            "grid_template_rows": null,
            "height": null,
            "justify_content": null,
            "justify_items": null,
            "left": null,
            "margin": null,
            "max_height": null,
            "max_width": null,
            "min_height": null,
            "min_width": null,
            "object_fit": null,
            "object_position": null,
            "order": null,
            "overflow": null,
            "overflow_x": null,
            "overflow_y": null,
            "padding": null,
            "right": null,
            "top": null,
            "visibility": null,
            "width": null
          }
        },
        "db39f1830d38438a9950851334f88cb0": {
          "model_module": "@jupyter-widgets/controls",
          "model_name": "DescriptionStyleModel",
          "model_module_version": "1.5.0",
          "state": {
            "_model_module": "@jupyter-widgets/controls",
            "_model_module_version": "1.5.0",
            "_model_name": "DescriptionStyleModel",
            "_view_count": null,
            "_view_module": "@jupyter-widgets/base",
            "_view_module_version": "1.2.0",
            "_view_name": "StyleView",
            "description_width": ""
          }
        },
        "da03ade692004039b227d748ca2e429f": {
          "model_module": "@jupyter-widgets/controls",
          "model_name": "VBoxModel",
          "model_module_version": "1.5.0",
          "state": {
            "_dom_classes": [],
            "_model_module": "@jupyter-widgets/controls",
            "_model_module_version": "1.5.0",
            "_model_name": "VBoxModel",
            "_view_count": null,
            "_view_module": "@jupyter-widgets/controls",
            "_view_module_version": "1.5.0",
            "_view_name": "VBoxView",
            "box_style": "",
            "children": [
              "IPY_MODEL_4cdf18ee8ac84874abc808b4a5b74b66",
              "IPY_MODEL_29b36e6eaccb4d5fa45bb5b548b63481",
              "IPY_MODEL_996c97b9efdd41838495df405337b272",
              "IPY_MODEL_0c5688dacbaf49c9948a8f66f402ec47"
            ],
            "layout": "IPY_MODEL_bee221cdb6f64f3fa1fecd9611aa2e6a"
          }
        },
        "14ba29091eb44b51ba0296f0537d211c": {
          "model_module": "@jupyter-widgets/controls",
          "model_name": "HTMLModel",
          "model_module_version": "1.5.0",
          "state": {
            "_dom_classes": [],
            "_model_module": "@jupyter-widgets/controls",
            "_model_module_version": "1.5.0",
            "_model_name": "HTMLModel",
            "_view_count": null,
            "_view_module": "@jupyter-widgets/controls",
            "_view_module_version": "1.5.0",
            "_view_name": "HTMLView",
            "description": "",
            "description_tooltip": null,
            "layout": "IPY_MODEL_978c574e676b4054964efbee1641d9e1",
            "placeholder": "​",
            "style": "IPY_MODEL_cb5cf6d6baba4520b9d175f30b892688",
            "value": "<center> <img\nsrc=https://huggingface.co/front/assets/huggingface_logo-noborder.svg\nalt='Hugging Face'> <br> Copy a token from <a\nhref=\"https://huggingface.co/settings/tokens\" target=\"_blank\">your Hugging Face\ntokens page</a> and paste it below. <br> Immediately click login after copying\nyour token or it might be stored in plain text in this notebook file. </center>"
          }
        },
        "5e8c797216604ef9b1260265da0db28f": {
          "model_module": "@jupyter-widgets/controls",
          "model_name": "PasswordModel",
          "model_module_version": "1.5.0",
          "state": {
            "_dom_classes": [],
            "_model_module": "@jupyter-widgets/controls",
            "_model_module_version": "1.5.0",
            "_model_name": "PasswordModel",
            "_view_count": null,
            "_view_module": "@jupyter-widgets/controls",
            "_view_module_version": "1.5.0",
            "_view_name": "PasswordView",
            "continuous_update": true,
            "description": "Token:",
            "description_tooltip": null,
            "disabled": false,
            "layout": "IPY_MODEL_2d03034da8504832b24a8431245a1a08",
            "placeholder": "​",
            "style": "IPY_MODEL_a0b1db74de244d6fa22f762b438e875a",
            "value": ""
          }
        },
        "db66807a21a7464a9702491e5cb08d4d": {
          "model_module": "@jupyter-widgets/controls",
          "model_name": "CheckboxModel",
          "model_module_version": "1.5.0",
          "state": {
            "_dom_classes": [],
            "_model_module": "@jupyter-widgets/controls",
            "_model_module_version": "1.5.0",
            "_model_name": "CheckboxModel",
            "_view_count": null,
            "_view_module": "@jupyter-widgets/controls",
            "_view_module_version": "1.5.0",
            "_view_name": "CheckboxView",
            "description": "Add token as git credential?",
            "description_tooltip": null,
            "disabled": false,
            "indent": true,
            "layout": "IPY_MODEL_e5dfe56399ba4f399486c68428846ea5",
            "style": "IPY_MODEL_ea22358cbe3d436da23b4492607de7a9",
            "value": true
          }
        },
        "256703b90d994b3e90d54c68a47773db": {
          "model_module": "@jupyter-widgets/controls",
          "model_name": "ButtonModel",
          "model_module_version": "1.5.0",
          "state": {
            "_dom_classes": [],
            "_model_module": "@jupyter-widgets/controls",
            "_model_module_version": "1.5.0",
            "_model_name": "ButtonModel",
            "_view_count": null,
            "_view_module": "@jupyter-widgets/controls",
            "_view_module_version": "1.5.0",
            "_view_name": "ButtonView",
            "button_style": "",
            "description": "Login",
            "disabled": false,
            "icon": "",
            "layout": "IPY_MODEL_e96f64d725e04a309259a3f50ab2d1e4",
            "style": "IPY_MODEL_7d416295fcbb4e1bb197dec05824cec7",
            "tooltip": ""
          }
        },
        "129741d5521a4f6a907d7f966edfad44": {
          "model_module": "@jupyter-widgets/controls",
          "model_name": "HTMLModel",
          "model_module_version": "1.5.0",
          "state": {
            "_dom_classes": [],
            "_model_module": "@jupyter-widgets/controls",
            "_model_module_version": "1.5.0",
            "_model_name": "HTMLModel",
            "_view_count": null,
            "_view_module": "@jupyter-widgets/controls",
            "_view_module_version": "1.5.0",
            "_view_name": "HTMLView",
            "description": "",
            "description_tooltip": null,
            "layout": "IPY_MODEL_1661b61ca1e24c558de2f3dc0ddbc011",
            "placeholder": "​",
            "style": "IPY_MODEL_cdf0d88ca8654974a6ef0b5251f5d096",
            "value": "\n<b>Pro Tip:</b> If you don't already have one, you can create a dedicated\n'notebooks' token with 'write' access, that you can then easily reuse for all\nnotebooks. </center>"
          }
        },
        "bee221cdb6f64f3fa1fecd9611aa2e6a": {
          "model_module": "@jupyter-widgets/base",
          "model_name": "LayoutModel",
          "model_module_version": "1.2.0",
          "state": {
            "_model_module": "@jupyter-widgets/base",
            "_model_module_version": "1.2.0",
            "_model_name": "LayoutModel",
            "_view_count": null,
            "_view_module": "@jupyter-widgets/base",
            "_view_module_version": "1.2.0",
            "_view_name": "LayoutView",
            "align_content": null,
            "align_items": "center",
            "align_self": null,
            "border": null,
            "bottom": null,
            "display": "flex",
            "flex": null,
            "flex_flow": "column",
            "grid_area": null,
            "grid_auto_columns": null,
            "grid_auto_flow": null,
            "grid_auto_rows": null,
            "grid_column": null,
            "grid_gap": null,
            "grid_row": null,
            "grid_template_areas": null,
            "grid_template_columns": null,
            "grid_template_rows": null,
            "height": null,
            "justify_content": null,
            "justify_items": null,
            "left": null,
            "margin": null,
            "max_height": null,
            "max_width": null,
            "min_height": null,
            "min_width": null,
            "object_fit": null,
            "object_position": null,
            "order": null,
            "overflow": null,
            "overflow_x": null,
            "overflow_y": null,
            "padding": null,
            "right": null,
            "top": null,
            "visibility": null,
            "width": "50%"
          }
        },
        "978c574e676b4054964efbee1641d9e1": {
          "model_module": "@jupyter-widgets/base",
          "model_name": "LayoutModel",
          "model_module_version": "1.2.0",
          "state": {
            "_model_module": "@jupyter-widgets/base",
            "_model_module_version": "1.2.0",
            "_model_name": "LayoutModel",
            "_view_count": null,
            "_view_module": "@jupyter-widgets/base",
            "_view_module_version": "1.2.0",
            "_view_name": "LayoutView",
            "align_content": null,
            "align_items": null,
            "align_self": null,
            "border": null,
            "bottom": null,
            "display": null,
            "flex": null,
            "flex_flow": null,
            "grid_area": null,
            "grid_auto_columns": null,
            "grid_auto_flow": null,
            "grid_auto_rows": null,
            "grid_column": null,
            "grid_gap": null,
            "grid_row": null,
            "grid_template_areas": null,
            "grid_template_columns": null,
            "grid_template_rows": null,
            "height": null,
            "justify_content": null,
            "justify_items": null,
            "left": null,
            "margin": null,
            "max_height": null,
            "max_width": null,
            "min_height": null,
            "min_width": null,
            "object_fit": null,
            "object_position": null,
            "order": null,
            "overflow": null,
            "overflow_x": null,
            "overflow_y": null,
            "padding": null,
            "right": null,
            "top": null,
            "visibility": null,
            "width": null
          }
        },
        "cb5cf6d6baba4520b9d175f30b892688": {
          "model_module": "@jupyter-widgets/controls",
          "model_name": "DescriptionStyleModel",
          "model_module_version": "1.5.0",
          "state": {
            "_model_module": "@jupyter-widgets/controls",
            "_model_module_version": "1.5.0",
            "_model_name": "DescriptionStyleModel",
            "_view_count": null,
            "_view_module": "@jupyter-widgets/base",
            "_view_module_version": "1.2.0",
            "_view_name": "StyleView",
            "description_width": ""
          }
        },
        "2d03034da8504832b24a8431245a1a08": {
          "model_module": "@jupyter-widgets/base",
          "model_name": "LayoutModel",
          "model_module_version": "1.2.0",
          "state": {
            "_model_module": "@jupyter-widgets/base",
            "_model_module_version": "1.2.0",
            "_model_name": "LayoutModel",
            "_view_count": null,
            "_view_module": "@jupyter-widgets/base",
            "_view_module_version": "1.2.0",
            "_view_name": "LayoutView",
            "align_content": null,
            "align_items": null,
            "align_self": null,
            "border": null,
            "bottom": null,
            "display": null,
            "flex": null,
            "flex_flow": null,
            "grid_area": null,
            "grid_auto_columns": null,
            "grid_auto_flow": null,
            "grid_auto_rows": null,
            "grid_column": null,
            "grid_gap": null,
            "grid_row": null,
            "grid_template_areas": null,
            "grid_template_columns": null,
            "grid_template_rows": null,
            "height": null,
            "justify_content": null,
            "justify_items": null,
            "left": null,
            "margin": null,
            "max_height": null,
            "max_width": null,
            "min_height": null,
            "min_width": null,
            "object_fit": null,
            "object_position": null,
            "order": null,
            "overflow": null,
            "overflow_x": null,
            "overflow_y": null,
            "padding": null,
            "right": null,
            "top": null,
            "visibility": null,
            "width": null
          }
        },
        "a0b1db74de244d6fa22f762b438e875a": {
          "model_module": "@jupyter-widgets/controls",
          "model_name": "DescriptionStyleModel",
          "model_module_version": "1.5.0",
          "state": {
            "_model_module": "@jupyter-widgets/controls",
            "_model_module_version": "1.5.0",
            "_model_name": "DescriptionStyleModel",
            "_view_count": null,
            "_view_module": "@jupyter-widgets/base",
            "_view_module_version": "1.2.0",
            "_view_name": "StyleView",
            "description_width": ""
          }
        },
        "e5dfe56399ba4f399486c68428846ea5": {
          "model_module": "@jupyter-widgets/base",
          "model_name": "LayoutModel",
          "model_module_version": "1.2.0",
          "state": {
            "_model_module": "@jupyter-widgets/base",
            "_model_module_version": "1.2.0",
            "_model_name": "LayoutModel",
            "_view_count": null,
            "_view_module": "@jupyter-widgets/base",
            "_view_module_version": "1.2.0",
            "_view_name": "LayoutView",
            "align_content": null,
            "align_items": null,
            "align_self": null,
            "border": null,
            "bottom": null,
            "display": null,
            "flex": null,
            "flex_flow": null,
            "grid_area": null,
            "grid_auto_columns": null,
            "grid_auto_flow": null,
            "grid_auto_rows": null,
            "grid_column": null,
            "grid_gap": null,
            "grid_row": null,
            "grid_template_areas": null,
            "grid_template_columns": null,
            "grid_template_rows": null,
            "height": null,
            "justify_content": null,
            "justify_items": null,
            "left": null,
            "margin": null,
            "max_height": null,
            "max_width": null,
            "min_height": null,
            "min_width": null,
            "object_fit": null,
            "object_position": null,
            "order": null,
            "overflow": null,
            "overflow_x": null,
            "overflow_y": null,
            "padding": null,
            "right": null,
            "top": null,
            "visibility": null,
            "width": null
          }
        },
        "ea22358cbe3d436da23b4492607de7a9": {
          "model_module": "@jupyter-widgets/controls",
          "model_name": "DescriptionStyleModel",
          "model_module_version": "1.5.0",
          "state": {
            "_model_module": "@jupyter-widgets/controls",
            "_model_module_version": "1.5.0",
            "_model_name": "DescriptionStyleModel",
            "_view_count": null,
            "_view_module": "@jupyter-widgets/base",
            "_view_module_version": "1.2.0",
            "_view_name": "StyleView",
            "description_width": ""
          }
        },
        "e96f64d725e04a309259a3f50ab2d1e4": {
          "model_module": "@jupyter-widgets/base",
          "model_name": "LayoutModel",
          "model_module_version": "1.2.0",
          "state": {
            "_model_module": "@jupyter-widgets/base",
            "_model_module_version": "1.2.0",
            "_model_name": "LayoutModel",
            "_view_count": null,
            "_view_module": "@jupyter-widgets/base",
            "_view_module_version": "1.2.0",
            "_view_name": "LayoutView",
            "align_content": null,
            "align_items": null,
            "align_self": null,
            "border": null,
            "bottom": null,
            "display": null,
            "flex": null,
            "flex_flow": null,
            "grid_area": null,
            "grid_auto_columns": null,
            "grid_auto_flow": null,
            "grid_auto_rows": null,
            "grid_column": null,
            "grid_gap": null,
            "grid_row": null,
            "grid_template_areas": null,
            "grid_template_columns": null,
            "grid_template_rows": null,
            "height": null,
            "justify_content": null,
            "justify_items": null,
            "left": null,
            "margin": null,
            "max_height": null,
            "max_width": null,
            "min_height": null,
            "min_width": null,
            "object_fit": null,
            "object_position": null,
            "order": null,
            "overflow": null,
            "overflow_x": null,
            "overflow_y": null,
            "padding": null,
            "right": null,
            "top": null,
            "visibility": null,
            "width": null
          }
        },
        "7d416295fcbb4e1bb197dec05824cec7": {
          "model_module": "@jupyter-widgets/controls",
          "model_name": "ButtonStyleModel",
          "model_module_version": "1.5.0",
          "state": {
            "_model_module": "@jupyter-widgets/controls",
            "_model_module_version": "1.5.0",
            "_model_name": "ButtonStyleModel",
            "_view_count": null,
            "_view_module": "@jupyter-widgets/base",
            "_view_module_version": "1.2.0",
            "_view_name": "StyleView",
            "button_color": null,
            "font_weight": ""
          }
        },
        "1661b61ca1e24c558de2f3dc0ddbc011": {
          "model_module": "@jupyter-widgets/base",
          "model_name": "LayoutModel",
          "model_module_version": "1.2.0",
          "state": {
            "_model_module": "@jupyter-widgets/base",
            "_model_module_version": "1.2.0",
            "_model_name": "LayoutModel",
            "_view_count": null,
            "_view_module": "@jupyter-widgets/base",
            "_view_module_version": "1.2.0",
            "_view_name": "LayoutView",
            "align_content": null,
            "align_items": null,
            "align_self": null,
            "border": null,
            "bottom": null,
            "display": null,
            "flex": null,
            "flex_flow": null,
            "grid_area": null,
            "grid_auto_columns": null,
            "grid_auto_flow": null,
            "grid_auto_rows": null,
            "grid_column": null,
            "grid_gap": null,
            "grid_row": null,
            "grid_template_areas": null,
            "grid_template_columns": null,
            "grid_template_rows": null,
            "height": null,
            "justify_content": null,
            "justify_items": null,
            "left": null,
            "margin": null,
            "max_height": null,
            "max_width": null,
            "min_height": null,
            "min_width": null,
            "object_fit": null,
            "object_position": null,
            "order": null,
            "overflow": null,
            "overflow_x": null,
            "overflow_y": null,
            "padding": null,
            "right": null,
            "top": null,
            "visibility": null,
            "width": null
          }
        },
        "cdf0d88ca8654974a6ef0b5251f5d096": {
          "model_module": "@jupyter-widgets/controls",
          "model_name": "DescriptionStyleModel",
          "model_module_version": "1.5.0",
          "state": {
            "_model_module": "@jupyter-widgets/controls",
            "_model_module_version": "1.5.0",
            "_model_name": "DescriptionStyleModel",
            "_view_count": null,
            "_view_module": "@jupyter-widgets/base",
            "_view_module_version": "1.2.0",
            "_view_name": "StyleView",
            "description_width": ""
          }
        },
        "e69c5b95854f4f21a55295d5a457eff2": {
          "model_module": "@jupyter-widgets/controls",
          "model_name": "LabelModel",
          "model_module_version": "1.5.0",
          "state": {
            "_dom_classes": [],
            "_model_module": "@jupyter-widgets/controls",
            "_model_module_version": "1.5.0",
            "_model_name": "LabelModel",
            "_view_count": null,
            "_view_module": "@jupyter-widgets/controls",
            "_view_module_version": "1.5.0",
            "_view_name": "LabelView",
            "description": "",
            "description_tooltip": null,
            "layout": "IPY_MODEL_34029dc8bb6b4e2aa3a013b68c22ac9a",
            "placeholder": "​",
            "style": "IPY_MODEL_897c26d24359411e9000d8f9c5b350d1",
            "value": "Connecting..."
          }
        },
        "34029dc8bb6b4e2aa3a013b68c22ac9a": {
          "model_module": "@jupyter-widgets/base",
          "model_name": "LayoutModel",
          "model_module_version": "1.2.0",
          "state": {
            "_model_module": "@jupyter-widgets/base",
            "_model_module_version": "1.2.0",
            "_model_name": "LayoutModel",
            "_view_count": null,
            "_view_module": "@jupyter-widgets/base",
            "_view_module_version": "1.2.0",
            "_view_name": "LayoutView",
            "align_content": null,
            "align_items": null,
            "align_self": null,
            "border": null,
            "bottom": null,
            "display": null,
            "flex": null,
            "flex_flow": null,
            "grid_area": null,
            "grid_auto_columns": null,
            "grid_auto_flow": null,
            "grid_auto_rows": null,
            "grid_column": null,
            "grid_gap": null,
            "grid_row": null,
            "grid_template_areas": null,
            "grid_template_columns": null,
            "grid_template_rows": null,
            "height": null,
            "justify_content": null,
            "justify_items": null,
            "left": null,
            "margin": null,
            "max_height": null,
            "max_width": null,
            "min_height": null,
            "min_width": null,
            "object_fit": null,
            "object_position": null,
            "order": null,
            "overflow": null,
            "overflow_x": null,
            "overflow_y": null,
            "padding": null,
            "right": null,
            "top": null,
            "visibility": null,
            "width": null
          }
        },
        "897c26d24359411e9000d8f9c5b350d1": {
          "model_module": "@jupyter-widgets/controls",
          "model_name": "DescriptionStyleModel",
          "model_module_version": "1.5.0",
          "state": {
            "_model_module": "@jupyter-widgets/controls",
            "_model_module_version": "1.5.0",
            "_model_name": "DescriptionStyleModel",
            "_view_count": null,
            "_view_module": "@jupyter-widgets/base",
            "_view_module_version": "1.2.0",
            "_view_name": "StyleView",
            "description_width": ""
          }
        },
        "4cdf18ee8ac84874abc808b4a5b74b66": {
          "model_module": "@jupyter-widgets/controls",
          "model_name": "LabelModel",
          "model_module_version": "1.5.0",
          "state": {
            "_dom_classes": [],
            "_model_module": "@jupyter-widgets/controls",
            "_model_module_version": "1.5.0",
            "_model_name": "LabelModel",
            "_view_count": null,
            "_view_module": "@jupyter-widgets/controls",
            "_view_module_version": "1.5.0",
            "_view_name": "LabelView",
            "description": "",
            "description_tooltip": null,
            "layout": "IPY_MODEL_c506aa8a252140728f12b5d58c6aa3a5",
            "placeholder": "​",
            "style": "IPY_MODEL_bc781d00b661490cb9a3e0dffd46566d",
            "value": "Token is valid (permission: write)."
          }
        },
        "29b36e6eaccb4d5fa45bb5b548b63481": {
          "model_module": "@jupyter-widgets/controls",
          "model_name": "LabelModel",
          "model_module_version": "1.5.0",
          "state": {
            "_dom_classes": [],
            "_model_module": "@jupyter-widgets/controls",
            "_model_module_version": "1.5.0",
            "_model_name": "LabelModel",
            "_view_count": null,
            "_view_module": "@jupyter-widgets/controls",
            "_view_module_version": "1.5.0",
            "_view_name": "LabelView",
            "description": "",
            "description_tooltip": null,
            "layout": "IPY_MODEL_0c64032cfbd84a369a26b5cb397b2677",
            "placeholder": "​",
            "style": "IPY_MODEL_81d0f7567bb74c4ca76adef2909f2860",
            "value": "Your token has been saved in your configured git credential helpers (store)."
          }
        },
        "996c97b9efdd41838495df405337b272": {
          "model_module": "@jupyter-widgets/controls",
          "model_name": "LabelModel",
          "model_module_version": "1.5.0",
          "state": {
            "_dom_classes": [],
            "_model_module": "@jupyter-widgets/controls",
            "_model_module_version": "1.5.0",
            "_model_name": "LabelModel",
            "_view_count": null,
            "_view_module": "@jupyter-widgets/controls",
            "_view_module_version": "1.5.0",
            "_view_name": "LabelView",
            "description": "",
            "description_tooltip": null,
            "layout": "IPY_MODEL_55caeaee7b7343de9e7af1b112041aba",
            "placeholder": "​",
            "style": "IPY_MODEL_dd58728fcb9b41ad84579eac4ca39318",
            "value": "Your token has been saved to /root/.cache/huggingface/token"
          }
        },
        "0c5688dacbaf49c9948a8f66f402ec47": {
          "model_module": "@jupyter-widgets/controls",
          "model_name": "LabelModel",
          "model_module_version": "1.5.0",
          "state": {
            "_dom_classes": [],
            "_model_module": "@jupyter-widgets/controls",
            "_model_module_version": "1.5.0",
            "_model_name": "LabelModel",
            "_view_count": null,
            "_view_module": "@jupyter-widgets/controls",
            "_view_module_version": "1.5.0",
            "_view_name": "LabelView",
            "description": "",
            "description_tooltip": null,
            "layout": "IPY_MODEL_39e4ddd5f59548adbf4705d0764e75af",
            "placeholder": "​",
            "style": "IPY_MODEL_892daa66996d4d8db2047f343b3bea47",
            "value": "Login successful"
          }
        },
        "c506aa8a252140728f12b5d58c6aa3a5": {
          "model_module": "@jupyter-widgets/base",
          "model_name": "LayoutModel",
          "model_module_version": "1.2.0",
          "state": {
            "_model_module": "@jupyter-widgets/base",
            "_model_module_version": "1.2.0",
            "_model_name": "LayoutModel",
            "_view_count": null,
            "_view_module": "@jupyter-widgets/base",
            "_view_module_version": "1.2.0",
            "_view_name": "LayoutView",
            "align_content": null,
            "align_items": null,
            "align_self": null,
            "border": null,
            "bottom": null,
            "display": null,
            "flex": null,
            "flex_flow": null,
            "grid_area": null,
            "grid_auto_columns": null,
            "grid_auto_flow": null,
            "grid_auto_rows": null,
            "grid_column": null,
            "grid_gap": null,
            "grid_row": null,
            "grid_template_areas": null,
            "grid_template_columns": null,
            "grid_template_rows": null,
            "height": null,
            "justify_content": null,
            "justify_items": null,
            "left": null,
            "margin": null,
            "max_height": null,
            "max_width": null,
            "min_height": null,
            "min_width": null,
            "object_fit": null,
            "object_position": null,
            "order": null,
            "overflow": null,
            "overflow_x": null,
            "overflow_y": null,
            "padding": null,
            "right": null,
            "top": null,
            "visibility": null,
            "width": null
          }
        },
        "bc781d00b661490cb9a3e0dffd46566d": {
          "model_module": "@jupyter-widgets/controls",
          "model_name": "DescriptionStyleModel",
          "model_module_version": "1.5.0",
          "state": {
            "_model_module": "@jupyter-widgets/controls",
            "_model_module_version": "1.5.0",
            "_model_name": "DescriptionStyleModel",
            "_view_count": null,
            "_view_module": "@jupyter-widgets/base",
            "_view_module_version": "1.2.0",
            "_view_name": "StyleView",
            "description_width": ""
          }
        },
        "0c64032cfbd84a369a26b5cb397b2677": {
          "model_module": "@jupyter-widgets/base",
          "model_name": "LayoutModel",
          "model_module_version": "1.2.0",
          "state": {
            "_model_module": "@jupyter-widgets/base",
            "_model_module_version": "1.2.0",
            "_model_name": "LayoutModel",
            "_view_count": null,
            "_view_module": "@jupyter-widgets/base",
            "_view_module_version": "1.2.0",
            "_view_name": "LayoutView",
            "align_content": null,
            "align_items": null,
            "align_self": null,
            "border": null,
            "bottom": null,
            "display": null,
            "flex": null,
            "flex_flow": null,
            "grid_area": null,
            "grid_auto_columns": null,
            "grid_auto_flow": null,
            "grid_auto_rows": null,
            "grid_column": null,
            "grid_gap": null,
            "grid_row": null,
            "grid_template_areas": null,
            "grid_template_columns": null,
            "grid_template_rows": null,
            "height": null,
            "justify_content": null,
            "justify_items": null,
            "left": null,
            "margin": null,
            "max_height": null,
            "max_width": null,
            "min_height": null,
            "min_width": null,
            "object_fit": null,
            "object_position": null,
            "order": null,
            "overflow": null,
            "overflow_x": null,
            "overflow_y": null,
            "padding": null,
            "right": null,
            "top": null,
            "visibility": null,
            "width": null
          }
        },
        "81d0f7567bb74c4ca76adef2909f2860": {
          "model_module": "@jupyter-widgets/controls",
          "model_name": "DescriptionStyleModel",
          "model_module_version": "1.5.0",
          "state": {
            "_model_module": "@jupyter-widgets/controls",
            "_model_module_version": "1.5.0",
            "_model_name": "DescriptionStyleModel",
            "_view_count": null,
            "_view_module": "@jupyter-widgets/base",
            "_view_module_version": "1.2.0",
            "_view_name": "StyleView",
            "description_width": ""
          }
        },
        "55caeaee7b7343de9e7af1b112041aba": {
          "model_module": "@jupyter-widgets/base",
          "model_name": "LayoutModel",
          "model_module_version": "1.2.0",
          "state": {
            "_model_module": "@jupyter-widgets/base",
            "_model_module_version": "1.2.0",
            "_model_name": "LayoutModel",
            "_view_count": null,
            "_view_module": "@jupyter-widgets/base",
            "_view_module_version": "1.2.0",
            "_view_name": "LayoutView",
            "align_content": null,
            "align_items": null,
            "align_self": null,
            "border": null,
            "bottom": null,
            "display": null,
            "flex": null,
            "flex_flow": null,
            "grid_area": null,
            "grid_auto_columns": null,
            "grid_auto_flow": null,
            "grid_auto_rows": null,
            "grid_column": null,
            "grid_gap": null,
            "grid_row": null,
            "grid_template_areas": null,
            "grid_template_columns": null,
            "grid_template_rows": null,
            "height": null,
            "justify_content": null,
            "justify_items": null,
            "left": null,
            "margin": null,
            "max_height": null,
            "max_width": null,
            "min_height": null,
            "min_width": null,
            "object_fit": null,
            "object_position": null,
            "order": null,
            "overflow": null,
            "overflow_x": null,
            "overflow_y": null,
            "padding": null,
            "right": null,
            "top": null,
            "visibility": null,
            "width": null
          }
        },
        "dd58728fcb9b41ad84579eac4ca39318": {
          "model_module": "@jupyter-widgets/controls",
          "model_name": "DescriptionStyleModel",
          "model_module_version": "1.5.0",
          "state": {
            "_model_module": "@jupyter-widgets/controls",
            "_model_module_version": "1.5.0",
            "_model_name": "DescriptionStyleModel",
            "_view_count": null,
            "_view_module": "@jupyter-widgets/base",
            "_view_module_version": "1.2.0",
            "_view_name": "StyleView",
            "description_width": ""
          }
        },
        "39e4ddd5f59548adbf4705d0764e75af": {
          "model_module": "@jupyter-widgets/base",
          "model_name": "LayoutModel",
          "model_module_version": "1.2.0",
          "state": {
            "_model_module": "@jupyter-widgets/base",
            "_model_module_version": "1.2.0",
            "_model_name": "LayoutModel",
            "_view_count": null,
            "_view_module": "@jupyter-widgets/base",
            "_view_module_version": "1.2.0",
            "_view_name": "LayoutView",
            "align_content": null,
            "align_items": null,
            "align_self": null,
            "border": null,
            "bottom": null,
            "display": null,
            "flex": null,
            "flex_flow": null,
            "grid_area": null,
            "grid_auto_columns": null,
            "grid_auto_flow": null,
            "grid_auto_rows": null,
            "grid_column": null,
            "grid_gap": null,
            "grid_row": null,
            "grid_template_areas": null,
            "grid_template_columns": null,
            "grid_template_rows": null,
            "height": null,
            "justify_content": null,
            "justify_items": null,
            "left": null,
            "margin": null,
            "max_height": null,
            "max_width": null,
            "min_height": null,
            "min_width": null,
            "object_fit": null,
            "object_position": null,
            "order": null,
            "overflow": null,
            "overflow_x": null,
            "overflow_y": null,
            "padding": null,
            "right": null,
            "top": null,
            "visibility": null,
            "width": null
          }
        },
        "892daa66996d4d8db2047f343b3bea47": {
          "model_module": "@jupyter-widgets/controls",
          "model_name": "DescriptionStyleModel",
          "model_module_version": "1.5.0",
          "state": {
            "_model_module": "@jupyter-widgets/controls",
            "_model_module_version": "1.5.0",
            "_model_name": "DescriptionStyleModel",
            "_view_count": null,
            "_view_module": "@jupyter-widgets/base",
            "_view_module_version": "1.2.0",
            "_view_name": "StyleView",
            "description_width": ""
          }
        },
        "39c575e3e1a045259a5bc3fba7ccf348": {
          "model_module": "@jupyter-widgets/controls",
          "model_name": "HBoxModel",
          "model_module_version": "1.5.0",
          "state": {
            "_dom_classes": [],
            "_model_module": "@jupyter-widgets/controls",
            "_model_module_version": "1.5.0",
            "_model_name": "HBoxModel",
            "_view_count": null,
            "_view_module": "@jupyter-widgets/controls",
            "_view_module_version": "1.5.0",
            "_view_name": "HBoxView",
            "box_style": "",
            "children": [
              "IPY_MODEL_28e2d0c18bcf4adb8864dfa765668471",
              "IPY_MODEL_9374eaa096e64b19b9b3c490851cfa6b",
              "IPY_MODEL_263a1821c9f246f5bb503debee7ef1bc"
            ],
            "layout": "IPY_MODEL_0f631615a8c04c4394f38ceba5de4057"
          }
        },
        "28e2d0c18bcf4adb8864dfa765668471": {
          "model_module": "@jupyter-widgets/controls",
          "model_name": "HTMLModel",
          "model_module_version": "1.5.0",
          "state": {
            "_dom_classes": [],
            "_model_module": "@jupyter-widgets/controls",
            "_model_module_version": "1.5.0",
            "_model_name": "HTMLModel",
            "_view_count": null,
            "_view_module": "@jupyter-widgets/controls",
            "_view_module_version": "1.5.0",
            "_view_name": "HTMLView",
            "description": "",
            "description_tooltip": null,
            "layout": "IPY_MODEL_194c34cbbaf94cd5b84180db1e76d4d7",
            "placeholder": "​",
            "style": "IPY_MODEL_2bc89f05ef724755b6c8f4566ae697bf",
            "value": "tokenizer_config.json: 100%"
          }
        },
        "9374eaa096e64b19b9b3c490851cfa6b": {
          "model_module": "@jupyter-widgets/controls",
          "model_name": "FloatProgressModel",
          "model_module_version": "1.5.0",
          "state": {
            "_dom_classes": [],
            "_model_module": "@jupyter-widgets/controls",
            "_model_module_version": "1.5.0",
            "_model_name": "FloatProgressModel",
            "_view_count": null,
            "_view_module": "@jupyter-widgets/controls",
            "_view_module_version": "1.5.0",
            "_view_name": "ProgressView",
            "bar_style": "success",
            "description": "",
            "description_tooltip": null,
            "layout": "IPY_MODEL_edc60a7f40c34f45a54b6aa769ea85c9",
            "max": 1460,
            "min": 0,
            "orientation": "horizontal",
            "style": "IPY_MODEL_b9f1dd81af5a4200848d09b0b02fc71e",
            "value": 1460
          }
        },
        "263a1821c9f246f5bb503debee7ef1bc": {
          "model_module": "@jupyter-widgets/controls",
          "model_name": "HTMLModel",
          "model_module_version": "1.5.0",
          "state": {
            "_dom_classes": [],
            "_model_module": "@jupyter-widgets/controls",
            "_model_module_version": "1.5.0",
            "_model_name": "HTMLModel",
            "_view_count": null,
            "_view_module": "@jupyter-widgets/controls",
            "_view_module_version": "1.5.0",
            "_view_name": "HTMLView",
            "description": "",
            "description_tooltip": null,
            "layout": "IPY_MODEL_e2e8dd5f32af4e6fb3c8c7718058a466",
            "placeholder": "​",
            "style": "IPY_MODEL_d57f229fe264451b88dcf17654604c38",
            "value": " 1.46k/1.46k [00:00&lt;00:00, 127kB/s]"
          }
        },
        "0f631615a8c04c4394f38ceba5de4057": {
          "model_module": "@jupyter-widgets/base",
          "model_name": "LayoutModel",
          "model_module_version": "1.2.0",
          "state": {
            "_model_module": "@jupyter-widgets/base",
            "_model_module_version": "1.2.0",
            "_model_name": "LayoutModel",
            "_view_count": null,
            "_view_module": "@jupyter-widgets/base",
            "_view_module_version": "1.2.0",
            "_view_name": "LayoutView",
            "align_content": null,
            "align_items": null,
            "align_self": null,
            "border": null,
            "bottom": null,
            "display": null,
            "flex": null,
            "flex_flow": null,
            "grid_area": null,
            "grid_auto_columns": null,
            "grid_auto_flow": null,
            "grid_auto_rows": null,
            "grid_column": null,
            "grid_gap": null,
            "grid_row": null,
            "grid_template_areas": null,
            "grid_template_columns": null,
            "grid_template_rows": null,
            "height": null,
            "justify_content": null,
            "justify_items": null,
            "left": null,
            "margin": null,
            "max_height": null,
            "max_width": null,
            "min_height": null,
            "min_width": null,
            "object_fit": null,
            "object_position": null,
            "order": null,
            "overflow": null,
            "overflow_x": null,
            "overflow_y": null,
            "padding": null,
            "right": null,
            "top": null,
            "visibility": null,
            "width": null
          }
        },
        "194c34cbbaf94cd5b84180db1e76d4d7": {
          "model_module": "@jupyter-widgets/base",
          "model_name": "LayoutModel",
          "model_module_version": "1.2.0",
          "state": {
            "_model_module": "@jupyter-widgets/base",
            "_model_module_version": "1.2.0",
            "_model_name": "LayoutModel",
            "_view_count": null,
            "_view_module": "@jupyter-widgets/base",
            "_view_module_version": "1.2.0",
            "_view_name": "LayoutView",
            "align_content": null,
            "align_items": null,
            "align_self": null,
            "border": null,
            "bottom": null,
            "display": null,
            "flex": null,
            "flex_flow": null,
            "grid_area": null,
            "grid_auto_columns": null,
            "grid_auto_flow": null,
            "grid_auto_rows": null,
            "grid_column": null,
            "grid_gap": null,
            "grid_row": null,
            "grid_template_areas": null,
            "grid_template_columns": null,
            "grid_template_rows": null,
            "height": null,
            "justify_content": null,
            "justify_items": null,
            "left": null,
            "margin": null,
            "max_height": null,
            "max_width": null,
            "min_height": null,
            "min_width": null,
            "object_fit": null,
            "object_position": null,
            "order": null,
            "overflow": null,
            "overflow_x": null,
            "overflow_y": null,
            "padding": null,
            "right": null,
            "top": null,
            "visibility": null,
            "width": null
          }
        },
        "2bc89f05ef724755b6c8f4566ae697bf": {
          "model_module": "@jupyter-widgets/controls",
          "model_name": "DescriptionStyleModel",
          "model_module_version": "1.5.0",
          "state": {
            "_model_module": "@jupyter-widgets/controls",
            "_model_module_version": "1.5.0",
            "_model_name": "DescriptionStyleModel",
            "_view_count": null,
            "_view_module": "@jupyter-widgets/base",
            "_view_module_version": "1.2.0",
            "_view_name": "StyleView",
            "description_width": ""
          }
        },
        "edc60a7f40c34f45a54b6aa769ea85c9": {
          "model_module": "@jupyter-widgets/base",
          "model_name": "LayoutModel",
          "model_module_version": "1.2.0",
          "state": {
            "_model_module": "@jupyter-widgets/base",
            "_model_module_version": "1.2.0",
            "_model_name": "LayoutModel",
            "_view_count": null,
            "_view_module": "@jupyter-widgets/base",
            "_view_module_version": "1.2.0",
            "_view_name": "LayoutView",
            "align_content": null,
            "align_items": null,
            "align_self": null,
            "border": null,
            "bottom": null,
            "display": null,
            "flex": null,
            "flex_flow": null,
            "grid_area": null,
            "grid_auto_columns": null,
            "grid_auto_flow": null,
            "grid_auto_rows": null,
            "grid_column": null,
            "grid_gap": null,
            "grid_row": null,
            "grid_template_areas": null,
            "grid_template_columns": null,
            "grid_template_rows": null,
            "height": null,
            "justify_content": null,
            "justify_items": null,
            "left": null,
            "margin": null,
            "max_height": null,
            "max_width": null,
            "min_height": null,
            "min_width": null,
            "object_fit": null,
            "object_position": null,
            "order": null,
            "overflow": null,
            "overflow_x": null,
            "overflow_y": null,
            "padding": null,
            "right": null,
            "top": null,
            "visibility": null,
            "width": null
          }
        },
        "b9f1dd81af5a4200848d09b0b02fc71e": {
          "model_module": "@jupyter-widgets/controls",
          "model_name": "ProgressStyleModel",
          "model_module_version": "1.5.0",
          "state": {
            "_model_module": "@jupyter-widgets/controls",
            "_model_module_version": "1.5.0",
            "_model_name": "ProgressStyleModel",
            "_view_count": null,
            "_view_module": "@jupyter-widgets/base",
            "_view_module_version": "1.2.0",
            "_view_name": "StyleView",
            "bar_color": null,
            "description_width": ""
          }
        },
        "e2e8dd5f32af4e6fb3c8c7718058a466": {
          "model_module": "@jupyter-widgets/base",
          "model_name": "LayoutModel",
          "model_module_version": "1.2.0",
          "state": {
            "_model_module": "@jupyter-widgets/base",
            "_model_module_version": "1.2.0",
            "_model_name": "LayoutModel",
            "_view_count": null,
            "_view_module": "@jupyter-widgets/base",
            "_view_module_version": "1.2.0",
            "_view_name": "LayoutView",
            "align_content": null,
            "align_items": null,
            "align_self": null,
            "border": null,
            "bottom": null,
            "display": null,
            "flex": null,
            "flex_flow": null,
            "grid_area": null,
            "grid_auto_columns": null,
            "grid_auto_flow": null,
            "grid_auto_rows": null,
            "grid_column": null,
            "grid_gap": null,
            "grid_row": null,
            "grid_template_areas": null,
            "grid_template_columns": null,
            "grid_template_rows": null,
            "height": null,
            "justify_content": null,
            "justify_items": null,
            "left": null,
            "margin": null,
            "max_height": null,
            "max_width": null,
            "min_height": null,
            "min_width": null,
            "object_fit": null,
            "object_position": null,
            "order": null,
            "overflow": null,
            "overflow_x": null,
            "overflow_y": null,
            "padding": null,
            "right": null,
            "top": null,
            "visibility": null,
            "width": null
          }
        },
        "d57f229fe264451b88dcf17654604c38": {
          "model_module": "@jupyter-widgets/controls",
          "model_name": "DescriptionStyleModel",
          "model_module_version": "1.5.0",
          "state": {
            "_model_module": "@jupyter-widgets/controls",
            "_model_module_version": "1.5.0",
            "_model_name": "DescriptionStyleModel",
            "_view_count": null,
            "_view_module": "@jupyter-widgets/base",
            "_view_module_version": "1.2.0",
            "_view_name": "StyleView",
            "description_width": ""
          }
        },
        "52a5fba47c594de59e62b379d3bddc38": {
          "model_module": "@jupyter-widgets/controls",
          "model_name": "HBoxModel",
          "model_module_version": "1.5.0",
          "state": {
            "_dom_classes": [],
            "_model_module": "@jupyter-widgets/controls",
            "_model_module_version": "1.5.0",
            "_model_name": "HBoxModel",
            "_view_count": null,
            "_view_module": "@jupyter-widgets/controls",
            "_view_module_version": "1.5.0",
            "_view_name": "HBoxView",
            "box_style": "",
            "children": [
              "IPY_MODEL_244449c5cb554bb8a6fc82d0ebb74c54",
              "IPY_MODEL_adedbaff192b4ab5a39cb1e1af915e89",
              "IPY_MODEL_0313ba8ab57a4d468564f31c42fab633"
            ],
            "layout": "IPY_MODEL_4bc60e3363e44732848213402e05652e"
          }
        },
        "244449c5cb554bb8a6fc82d0ebb74c54": {
          "model_module": "@jupyter-widgets/controls",
          "model_name": "HTMLModel",
          "model_module_version": "1.5.0",
          "state": {
            "_dom_classes": [],
            "_model_module": "@jupyter-widgets/controls",
            "_model_module_version": "1.5.0",
            "_model_name": "HTMLModel",
            "_view_count": null,
            "_view_module": "@jupyter-widgets/controls",
            "_view_module_version": "1.5.0",
            "_view_name": "HTMLView",
            "description": "",
            "description_tooltip": null,
            "layout": "IPY_MODEL_6fbf8942904f40df85ea909b24e70ede",
            "placeholder": "​",
            "style": "IPY_MODEL_33a871d1da5b47a1adbd0d9b7ef9c6ac",
            "value": "tokenizer.model: 100%"
          }
        },
        "adedbaff192b4ab5a39cb1e1af915e89": {
          "model_module": "@jupyter-widgets/controls",
          "model_name": "FloatProgressModel",
          "model_module_version": "1.5.0",
          "state": {
            "_dom_classes": [],
            "_model_module": "@jupyter-widgets/controls",
            "_model_module_version": "1.5.0",
            "_model_name": "FloatProgressModel",
            "_view_count": null,
            "_view_module": "@jupyter-widgets/controls",
            "_view_module_version": "1.5.0",
            "_view_name": "ProgressView",
            "bar_style": "success",
            "description": "",
            "description_tooltip": null,
            "layout": "IPY_MODEL_efe48d2e459049dab3399d0bb3e394c5",
            "max": 493443,
            "min": 0,
            "orientation": "horizontal",
            "style": "IPY_MODEL_270f4d3eb49d4a6893bb748c42923bc7",
            "value": 493443
          }
        },
        "0313ba8ab57a4d468564f31c42fab633": {
          "model_module": "@jupyter-widgets/controls",
          "model_name": "HTMLModel",
          "model_module_version": "1.5.0",
          "state": {
            "_dom_classes": [],
            "_model_module": "@jupyter-widgets/controls",
            "_model_module_version": "1.5.0",
            "_model_name": "HTMLModel",
            "_view_count": null,
            "_view_module": "@jupyter-widgets/controls",
            "_view_module_version": "1.5.0",
            "_view_name": "HTMLView",
            "description": "",
            "description_tooltip": null,
            "layout": "IPY_MODEL_520cef11ddef4f68950565a17f791f5e",
            "placeholder": "​",
            "style": "IPY_MODEL_bf4df79f21aa47e0864f407366417d4f",
            "value": " 493k/493k [00:00&lt;00:00, 10.2MB/s]"
          }
        },
        "4bc60e3363e44732848213402e05652e": {
          "model_module": "@jupyter-widgets/base",
          "model_name": "LayoutModel",
          "model_module_version": "1.2.0",
          "state": {
            "_model_module": "@jupyter-widgets/base",
            "_model_module_version": "1.2.0",
            "_model_name": "LayoutModel",
            "_view_count": null,
            "_view_module": "@jupyter-widgets/base",
            "_view_module_version": "1.2.0",
            "_view_name": "LayoutView",
            "align_content": null,
            "align_items": null,
            "align_self": null,
            "border": null,
            "bottom": null,
            "display": null,
            "flex": null,
            "flex_flow": null,
            "grid_area": null,
            "grid_auto_columns": null,
            "grid_auto_flow": null,
            "grid_auto_rows": null,
            "grid_column": null,
            "grid_gap": null,
            "grid_row": null,
            "grid_template_areas": null,
            "grid_template_columns": null,
            "grid_template_rows": null,
            "height": null,
            "justify_content": null,
            "justify_items": null,
            "left": null,
            "margin": null,
            "max_height": null,
            "max_width": null,
            "min_height": null,
            "min_width": null,
            "object_fit": null,
            "object_position": null,
            "order": null,
            "overflow": null,
            "overflow_x": null,
            "overflow_y": null,
            "padding": null,
            "right": null,
            "top": null,
            "visibility": null,
            "width": null
          }
        },
        "6fbf8942904f40df85ea909b24e70ede": {
          "model_module": "@jupyter-widgets/base",
          "model_name": "LayoutModel",
          "model_module_version": "1.2.0",
          "state": {
            "_model_module": "@jupyter-widgets/base",
            "_model_module_version": "1.2.0",
            "_model_name": "LayoutModel",
            "_view_count": null,
            "_view_module": "@jupyter-widgets/base",
            "_view_module_version": "1.2.0",
            "_view_name": "LayoutView",
            "align_content": null,
            "align_items": null,
            "align_self": null,
            "border": null,
            "bottom": null,
            "display": null,
            "flex": null,
            "flex_flow": null,
            "grid_area": null,
            "grid_auto_columns": null,
            "grid_auto_flow": null,
            "grid_auto_rows": null,
            "grid_column": null,
            "grid_gap": null,
            "grid_row": null,
            "grid_template_areas": null,
            "grid_template_columns": null,
            "grid_template_rows": null,
            "height": null,
            "justify_content": null,
            "justify_items": null,
            "left": null,
            "margin": null,
            "max_height": null,
            "max_width": null,
            "min_height": null,
            "min_width": null,
            "object_fit": null,
            "object_position": null,
            "order": null,
            "overflow": null,
            "overflow_x": null,
            "overflow_y": null,
            "padding": null,
            "right": null,
            "top": null,
            "visibility": null,
            "width": null
          }
        },
        "33a871d1da5b47a1adbd0d9b7ef9c6ac": {
          "model_module": "@jupyter-widgets/controls",
          "model_name": "DescriptionStyleModel",
          "model_module_version": "1.5.0",
          "state": {
            "_model_module": "@jupyter-widgets/controls",
            "_model_module_version": "1.5.0",
            "_model_name": "DescriptionStyleModel",
            "_view_count": null,
            "_view_module": "@jupyter-widgets/base",
            "_view_module_version": "1.2.0",
            "_view_name": "StyleView",
            "description_width": ""
          }
        },
        "efe48d2e459049dab3399d0bb3e394c5": {
          "model_module": "@jupyter-widgets/base",
          "model_name": "LayoutModel",
          "model_module_version": "1.2.0",
          "state": {
            "_model_module": "@jupyter-widgets/base",
            "_model_module_version": "1.2.0",
            "_model_name": "LayoutModel",
            "_view_count": null,
            "_view_module": "@jupyter-widgets/base",
            "_view_module_version": "1.2.0",
            "_view_name": "LayoutView",
            "align_content": null,
            "align_items": null,
            "align_self": null,
            "border": null,
            "bottom": null,
            "display": null,
            "flex": null,
            "flex_flow": null,
            "grid_area": null,
            "grid_auto_columns": null,
            "grid_auto_flow": null,
            "grid_auto_rows": null,
            "grid_column": null,
            "grid_gap": null,
            "grid_row": null,
            "grid_template_areas": null,
            "grid_template_columns": null,
            "grid_template_rows": null,
            "height": null,
            "justify_content": null,
            "justify_items": null,
            "left": null,
            "margin": null,
            "max_height": null,
            "max_width": null,
            "min_height": null,
            "min_width": null,
            "object_fit": null,
            "object_position": null,
            "order": null,
            "overflow": null,
            "overflow_x": null,
            "overflow_y": null,
            "padding": null,
            "right": null,
            "top": null,
            "visibility": null,
            "width": null
          }
        },
        "270f4d3eb49d4a6893bb748c42923bc7": {
          "model_module": "@jupyter-widgets/controls",
          "model_name": "ProgressStyleModel",
          "model_module_version": "1.5.0",
          "state": {
            "_model_module": "@jupyter-widgets/controls",
            "_model_module_version": "1.5.0",
            "_model_name": "ProgressStyleModel",
            "_view_count": null,
            "_view_module": "@jupyter-widgets/base",
            "_view_module_version": "1.2.0",
            "_view_name": "StyleView",
            "bar_color": null,
            "description_width": ""
          }
        },
        "520cef11ddef4f68950565a17f791f5e": {
          "model_module": "@jupyter-widgets/base",
          "model_name": "LayoutModel",
          "model_module_version": "1.2.0",
          "state": {
            "_model_module": "@jupyter-widgets/base",
            "_model_module_version": "1.2.0",
            "_model_name": "LayoutModel",
            "_view_count": null,
            "_view_module": "@jupyter-widgets/base",
            "_view_module_version": "1.2.0",
            "_view_name": "LayoutView",
            "align_content": null,
            "align_items": null,
            "align_self": null,
            "border": null,
            "bottom": null,
            "display": null,
            "flex": null,
            "flex_flow": null,
            "grid_area": null,
            "grid_auto_columns": null,
            "grid_auto_flow": null,
            "grid_auto_rows": null,
            "grid_column": null,
            "grid_gap": null,
            "grid_row": null,
            "grid_template_areas": null,
            "grid_template_columns": null,
            "grid_template_rows": null,
            "height": null,
            "justify_content": null,
            "justify_items": null,
            "left": null,
            "margin": null,
            "max_height": null,
            "max_width": null,
            "min_height": null,
            "min_width": null,
            "object_fit": null,
            "object_position": null,
            "order": null,
            "overflow": null,
            "overflow_x": null,
            "overflow_y": null,
            "padding": null,
            "right": null,
            "top": null,
            "visibility": null,
            "width": null
          }
        },
        "bf4df79f21aa47e0864f407366417d4f": {
          "model_module": "@jupyter-widgets/controls",
          "model_name": "DescriptionStyleModel",
          "model_module_version": "1.5.0",
          "state": {
            "_model_module": "@jupyter-widgets/controls",
            "_model_module_version": "1.5.0",
            "_model_name": "DescriptionStyleModel",
            "_view_count": null,
            "_view_module": "@jupyter-widgets/base",
            "_view_module_version": "1.2.0",
            "_view_name": "StyleView",
            "description_width": ""
          }
        },
        "c2a24537afaf43df9a02c66c536f063c": {
          "model_module": "@jupyter-widgets/controls",
          "model_name": "HBoxModel",
          "model_module_version": "1.5.0",
          "state": {
            "_dom_classes": [],
            "_model_module": "@jupyter-widgets/controls",
            "_model_module_version": "1.5.0",
            "_model_name": "HBoxModel",
            "_view_count": null,
            "_view_module": "@jupyter-widgets/controls",
            "_view_module_version": "1.5.0",
            "_view_name": "HBoxView",
            "box_style": "",
            "children": [
              "IPY_MODEL_485c9dc4945745859ad23bb287c003ac",
              "IPY_MODEL_5d3afd029d5943e0be3dbe26d88d2cb3",
              "IPY_MODEL_cfe739d4dbb6490caf942adf08236a5d"
            ],
            "layout": "IPY_MODEL_9a783b7aa5064c54aa7b64a20e501bd4"
          }
        },
        "485c9dc4945745859ad23bb287c003ac": {
          "model_module": "@jupyter-widgets/controls",
          "model_name": "HTMLModel",
          "model_module_version": "1.5.0",
          "state": {
            "_dom_classes": [],
            "_model_module": "@jupyter-widgets/controls",
            "_model_module_version": "1.5.0",
            "_model_name": "HTMLModel",
            "_view_count": null,
            "_view_module": "@jupyter-widgets/controls",
            "_view_module_version": "1.5.0",
            "_view_name": "HTMLView",
            "description": "",
            "description_tooltip": null,
            "layout": "IPY_MODEL_de306bfb1152484f80d1f0759f747a99",
            "placeholder": "​",
            "style": "IPY_MODEL_83f88e10da994ff49942c21b40cce4e9",
            "value": "tokenizer.json: 100%"
          }
        },
        "5d3afd029d5943e0be3dbe26d88d2cb3": {
          "model_module": "@jupyter-widgets/controls",
          "model_name": "FloatProgressModel",
          "model_module_version": "1.5.0",
          "state": {
            "_dom_classes": [],
            "_model_module": "@jupyter-widgets/controls",
            "_model_module_version": "1.5.0",
            "_model_name": "FloatProgressModel",
            "_view_count": null,
            "_view_module": "@jupyter-widgets/controls",
            "_view_module_version": "1.5.0",
            "_view_name": "ProgressView",
            "bar_style": "success",
            "description": "",
            "description_tooltip": null,
            "layout": "IPY_MODEL_9633be83238941099c52132d9f7c80a1",
            "max": 1795303,
            "min": 0,
            "orientation": "horizontal",
            "style": "IPY_MODEL_56c19376ae774472b77027e641c87f7d",
            "value": 1795303
          }
        },
        "cfe739d4dbb6490caf942adf08236a5d": {
          "model_module": "@jupyter-widgets/controls",
          "model_name": "HTMLModel",
          "model_module_version": "1.5.0",
          "state": {
            "_dom_classes": [],
            "_model_module": "@jupyter-widgets/controls",
            "_model_module_version": "1.5.0",
            "_model_name": "HTMLModel",
            "_view_count": null,
            "_view_module": "@jupyter-widgets/controls",
            "_view_module_version": "1.5.0",
            "_view_name": "HTMLView",
            "description": "",
            "description_tooltip": null,
            "layout": "IPY_MODEL_0490db0750844fcd80aeff43347491f0",
            "placeholder": "​",
            "style": "IPY_MODEL_1e1105fbabd5455bac30ab69aae668b6",
            "value": " 1.80M/1.80M [00:00&lt;00:00, 6.25MB/s]"
          }
        },
        "9a783b7aa5064c54aa7b64a20e501bd4": {
          "model_module": "@jupyter-widgets/base",
          "model_name": "LayoutModel",
          "model_module_version": "1.2.0",
          "state": {
            "_model_module": "@jupyter-widgets/base",
            "_model_module_version": "1.2.0",
            "_model_name": "LayoutModel",
            "_view_count": null,
            "_view_module": "@jupyter-widgets/base",
            "_view_module_version": "1.2.0",
            "_view_name": "LayoutView",
            "align_content": null,
            "align_items": null,
            "align_self": null,
            "border": null,
            "bottom": null,
            "display": null,
            "flex": null,
            "flex_flow": null,
            "grid_area": null,
            "grid_auto_columns": null,
            "grid_auto_flow": null,
            "grid_auto_rows": null,
            "grid_column": null,
            "grid_gap": null,
            "grid_row": null,
            "grid_template_areas": null,
            "grid_template_columns": null,
            "grid_template_rows": null,
            "height": null,
            "justify_content": null,
            "justify_items": null,
            "left": null,
            "margin": null,
            "max_height": null,
            "max_width": null,
            "min_height": null,
            "min_width": null,
            "object_fit": null,
            "object_position": null,
            "order": null,
            "overflow": null,
            "overflow_x": null,
            "overflow_y": null,
            "padding": null,
            "right": null,
            "top": null,
            "visibility": null,
            "width": null
          }
        },
        "de306bfb1152484f80d1f0759f747a99": {
          "model_module": "@jupyter-widgets/base",
          "model_name": "LayoutModel",
          "model_module_version": "1.2.0",
          "state": {
            "_model_module": "@jupyter-widgets/base",
            "_model_module_version": "1.2.0",
            "_model_name": "LayoutModel",
            "_view_count": null,
            "_view_module": "@jupyter-widgets/base",
            "_view_module_version": "1.2.0",
            "_view_name": "LayoutView",
            "align_content": null,
            "align_items": null,
            "align_self": null,
            "border": null,
            "bottom": null,
            "display": null,
            "flex": null,
            "flex_flow": null,
            "grid_area": null,
            "grid_auto_columns": null,
            "grid_auto_flow": null,
            "grid_auto_rows": null,
            "grid_column": null,
            "grid_gap": null,
            "grid_row": null,
            "grid_template_areas": null,
            "grid_template_columns": null,
            "grid_template_rows": null,
            "height": null,
            "justify_content": null,
            "justify_items": null,
            "left": null,
            "margin": null,
            "max_height": null,
            "max_width": null,
            "min_height": null,
            "min_width": null,
            "object_fit": null,
            "object_position": null,
            "order": null,
            "overflow": null,
            "overflow_x": null,
            "overflow_y": null,
            "padding": null,
            "right": null,
            "top": null,
            "visibility": null,
            "width": null
          }
        },
        "83f88e10da994ff49942c21b40cce4e9": {
          "model_module": "@jupyter-widgets/controls",
          "model_name": "DescriptionStyleModel",
          "model_module_version": "1.5.0",
          "state": {
            "_model_module": "@jupyter-widgets/controls",
            "_model_module_version": "1.5.0",
            "_model_name": "DescriptionStyleModel",
            "_view_count": null,
            "_view_module": "@jupyter-widgets/base",
            "_view_module_version": "1.2.0",
            "_view_name": "StyleView",
            "description_width": ""
          }
        },
        "9633be83238941099c52132d9f7c80a1": {
          "model_module": "@jupyter-widgets/base",
          "model_name": "LayoutModel",
          "model_module_version": "1.2.0",
          "state": {
            "_model_module": "@jupyter-widgets/base",
            "_model_module_version": "1.2.0",
            "_model_name": "LayoutModel",
            "_view_count": null,
            "_view_module": "@jupyter-widgets/base",
            "_view_module_version": "1.2.0",
            "_view_name": "LayoutView",
            "align_content": null,
            "align_items": null,
            "align_self": null,
            "border": null,
            "bottom": null,
            "display": null,
            "flex": null,
            "flex_flow": null,
            "grid_area": null,
            "grid_auto_columns": null,
            "grid_auto_flow": null,
            "grid_auto_rows": null,
            "grid_column": null,
            "grid_gap": null,
            "grid_row": null,
            "grid_template_areas": null,
            "grid_template_columns": null,
            "grid_template_rows": null,
            "height": null,
            "justify_content": null,
            "justify_items": null,
            "left": null,
            "margin": null,
            "max_height": null,
            "max_width": null,
            "min_height": null,
            "min_width": null,
            "object_fit": null,
            "object_position": null,
            "order": null,
            "overflow": null,
            "overflow_x": null,
            "overflow_y": null,
            "padding": null,
            "right": null,
            "top": null,
            "visibility": null,
            "width": null
          }
        },
        "56c19376ae774472b77027e641c87f7d": {
          "model_module": "@jupyter-widgets/controls",
          "model_name": "ProgressStyleModel",
          "model_module_version": "1.5.0",
          "state": {
            "_model_module": "@jupyter-widgets/controls",
            "_model_module_version": "1.5.0",
            "_model_name": "ProgressStyleModel",
            "_view_count": null,
            "_view_module": "@jupyter-widgets/base",
            "_view_module_version": "1.2.0",
            "_view_name": "StyleView",
            "bar_color": null,
            "description_width": ""
          }
        },
        "0490db0750844fcd80aeff43347491f0": {
          "model_module": "@jupyter-widgets/base",
          "model_name": "LayoutModel",
          "model_module_version": "1.2.0",
          "state": {
            "_model_module": "@jupyter-widgets/base",
            "_model_module_version": "1.2.0",
            "_model_name": "LayoutModel",
            "_view_count": null,
            "_view_module": "@jupyter-widgets/base",
            "_view_module_version": "1.2.0",
            "_view_name": "LayoutView",
            "align_content": null,
            "align_items": null,
            "align_self": null,
            "border": null,
            "bottom": null,
            "display": null,
            "flex": null,
            "flex_flow": null,
            "grid_area": null,
            "grid_auto_columns": null,
            "grid_auto_flow": null,
            "grid_auto_rows": null,
            "grid_column": null,
            "grid_gap": null,
            "grid_row": null,
            "grid_template_areas": null,
            "grid_template_columns": null,
            "grid_template_rows": null,
            "height": null,
            "justify_content": null,
            "justify_items": null,
            "left": null,
            "margin": null,
            "max_height": null,
            "max_width": null,
            "min_height": null,
            "min_width": null,
            "object_fit": null,
            "object_position": null,
            "order": null,
            "overflow": null,
            "overflow_x": null,
            "overflow_y": null,
            "padding": null,
            "right": null,
            "top": null,
            "visibility": null,
            "width": null
          }
        },
        "1e1105fbabd5455bac30ab69aae668b6": {
          "model_module": "@jupyter-widgets/controls",
          "model_name": "DescriptionStyleModel",
          "model_module_version": "1.5.0",
          "state": {
            "_model_module": "@jupyter-widgets/controls",
            "_model_module_version": "1.5.0",
            "_model_name": "DescriptionStyleModel",
            "_view_count": null,
            "_view_module": "@jupyter-widgets/base",
            "_view_module_version": "1.2.0",
            "_view_name": "StyleView",
            "description_width": ""
          }
        },
        "618d16a7d60d4c8c9826fbf0dfff8012": {
          "model_module": "@jupyter-widgets/controls",
          "model_name": "HBoxModel",
          "model_module_version": "1.5.0",
          "state": {
            "_dom_classes": [],
            "_model_module": "@jupyter-widgets/controls",
            "_model_module_version": "1.5.0",
            "_model_name": "HBoxModel",
            "_view_count": null,
            "_view_module": "@jupyter-widgets/controls",
            "_view_module_version": "1.5.0",
            "_view_name": "HBoxView",
            "box_style": "",
            "children": [
              "IPY_MODEL_8513e451b5a74f4cb51516f9c5b648f4",
              "IPY_MODEL_aa34da8de7f54e3d9fcc399fbc663786",
              "IPY_MODEL_1abfed310cda45c8b12bccf8e6a49dea"
            ],
            "layout": "IPY_MODEL_8f77ca3277ed445b89bff6e6a57aa3c1"
          }
        },
        "8513e451b5a74f4cb51516f9c5b648f4": {
          "model_module": "@jupyter-widgets/controls",
          "model_name": "HTMLModel",
          "model_module_version": "1.5.0",
          "state": {
            "_dom_classes": [],
            "_model_module": "@jupyter-widgets/controls",
            "_model_module_version": "1.5.0",
            "_model_name": "HTMLModel",
            "_view_count": null,
            "_view_module": "@jupyter-widgets/controls",
            "_view_module_version": "1.5.0",
            "_view_name": "HTMLView",
            "description": "",
            "description_tooltip": null,
            "layout": "IPY_MODEL_5ac74e0b36e64d418bc5dfb16b7839d3",
            "placeholder": "​",
            "style": "IPY_MODEL_6251bce68d1f4b4c89448f7a71c5cc38",
            "value": "special_tokens_map.json: 100%"
          }
        },
        "aa34da8de7f54e3d9fcc399fbc663786": {
          "model_module": "@jupyter-widgets/controls",
          "model_name": "FloatProgressModel",
          "model_module_version": "1.5.0",
          "state": {
            "_dom_classes": [],
            "_model_module": "@jupyter-widgets/controls",
            "_model_module_version": "1.5.0",
            "_model_name": "FloatProgressModel",
            "_view_count": null,
            "_view_module": "@jupyter-widgets/controls",
            "_view_module_version": "1.5.0",
            "_view_name": "ProgressView",
            "bar_style": "success",
            "description": "",
            "description_tooltip": null,
            "layout": "IPY_MODEL_16fb134d20de47879f368c22e21448e2",
            "max": 72,
            "min": 0,
            "orientation": "horizontal",
            "style": "IPY_MODEL_ff047f5c6dd346718902f9bbbbacfd28",
            "value": 72
          }
        },
        "1abfed310cda45c8b12bccf8e6a49dea": {
          "model_module": "@jupyter-widgets/controls",
          "model_name": "HTMLModel",
          "model_module_version": "1.5.0",
          "state": {
            "_dom_classes": [],
            "_model_module": "@jupyter-widgets/controls",
            "_model_module_version": "1.5.0",
            "_model_name": "HTMLModel",
            "_view_count": null,
            "_view_module": "@jupyter-widgets/controls",
            "_view_module_version": "1.5.0",
            "_view_name": "HTMLView",
            "description": "",
            "description_tooltip": null,
            "layout": "IPY_MODEL_1322e330d52a4c13a8a6de4a0a51a6ed",
            "placeholder": "​",
            "style": "IPY_MODEL_50d3c586c052429a9cb99775c8a60c45",
            "value": " 72.0/72.0 [00:00&lt;00:00, 4.28kB/s]"
          }
        },
        "8f77ca3277ed445b89bff6e6a57aa3c1": {
          "model_module": "@jupyter-widgets/base",
          "model_name": "LayoutModel",
          "model_module_version": "1.2.0",
          "state": {
            "_model_module": "@jupyter-widgets/base",
            "_model_module_version": "1.2.0",
            "_model_name": "LayoutModel",
            "_view_count": null,
            "_view_module": "@jupyter-widgets/base",
            "_view_module_version": "1.2.0",
            "_view_name": "LayoutView",
            "align_content": null,
            "align_items": null,
            "align_self": null,
            "border": null,
            "bottom": null,
            "display": null,
            "flex": null,
            "flex_flow": null,
            "grid_area": null,
            "grid_auto_columns": null,
            "grid_auto_flow": null,
            "grid_auto_rows": null,
            "grid_column": null,
            "grid_gap": null,
            "grid_row": null,
            "grid_template_areas": null,
            "grid_template_columns": null,
            "grid_template_rows": null,
            "height": null,
            "justify_content": null,
            "justify_items": null,
            "left": null,
            "margin": null,
            "max_height": null,
            "max_width": null,
            "min_height": null,
            "min_width": null,
            "object_fit": null,
            "object_position": null,
            "order": null,
            "overflow": null,
            "overflow_x": null,
            "overflow_y": null,
            "padding": null,
            "right": null,
            "top": null,
            "visibility": null,
            "width": null
          }
        },
        "5ac74e0b36e64d418bc5dfb16b7839d3": {
          "model_module": "@jupyter-widgets/base",
          "model_name": "LayoutModel",
          "model_module_version": "1.2.0",
          "state": {
            "_model_module": "@jupyter-widgets/base",
            "_model_module_version": "1.2.0",
            "_model_name": "LayoutModel",
            "_view_count": null,
            "_view_module": "@jupyter-widgets/base",
            "_view_module_version": "1.2.0",
            "_view_name": "LayoutView",
            "align_content": null,
            "align_items": null,
            "align_self": null,
            "border": null,
            "bottom": null,
            "display": null,
            "flex": null,
            "flex_flow": null,
            "grid_area": null,
            "grid_auto_columns": null,
            "grid_auto_flow": null,
            "grid_auto_rows": null,
            "grid_column": null,
            "grid_gap": null,
            "grid_row": null,
            "grid_template_areas": null,
            "grid_template_columns": null,
            "grid_template_rows": null,
            "height": null,
            "justify_content": null,
            "justify_items": null,
            "left": null,
            "margin": null,
            "max_height": null,
            "max_width": null,
            "min_height": null,
            "min_width": null,
            "object_fit": null,
            "object_position": null,
            "order": null,
            "overflow": null,
            "overflow_x": null,
            "overflow_y": null,
            "padding": null,
            "right": null,
            "top": null,
            "visibility": null,
            "width": null
          }
        },
        "6251bce68d1f4b4c89448f7a71c5cc38": {
          "model_module": "@jupyter-widgets/controls",
          "model_name": "DescriptionStyleModel",
          "model_module_version": "1.5.0",
          "state": {
            "_model_module": "@jupyter-widgets/controls",
            "_model_module_version": "1.5.0",
            "_model_name": "DescriptionStyleModel",
            "_view_count": null,
            "_view_module": "@jupyter-widgets/base",
            "_view_module_version": "1.2.0",
            "_view_name": "StyleView",
            "description_width": ""
          }
        },
        "16fb134d20de47879f368c22e21448e2": {
          "model_module": "@jupyter-widgets/base",
          "model_name": "LayoutModel",
          "model_module_version": "1.2.0",
          "state": {
            "_model_module": "@jupyter-widgets/base",
            "_model_module_version": "1.2.0",
            "_model_name": "LayoutModel",
            "_view_count": null,
            "_view_module": "@jupyter-widgets/base",
            "_view_module_version": "1.2.0",
            "_view_name": "LayoutView",
            "align_content": null,
            "align_items": null,
            "align_self": null,
            "border": null,
            "bottom": null,
            "display": null,
            "flex": null,
            "flex_flow": null,
            "grid_area": null,
            "grid_auto_columns": null,
            "grid_auto_flow": null,
            "grid_auto_rows": null,
            "grid_column": null,
            "grid_gap": null,
            "grid_row": null,
            "grid_template_areas": null,
            "grid_template_columns": null,
            "grid_template_rows": null,
            "height": null,
            "justify_content": null,
            "justify_items": null,
            "left": null,
            "margin": null,
            "max_height": null,
            "max_width": null,
            "min_height": null,
            "min_width": null,
            "object_fit": null,
            "object_position": null,
            "order": null,
            "overflow": null,
            "overflow_x": null,
            "overflow_y": null,
            "padding": null,
            "right": null,
            "top": null,
            "visibility": null,
            "width": null
          }
        },
        "ff047f5c6dd346718902f9bbbbacfd28": {
          "model_module": "@jupyter-widgets/controls",
          "model_name": "ProgressStyleModel",
          "model_module_version": "1.5.0",
          "state": {
            "_model_module": "@jupyter-widgets/controls",
            "_model_module_version": "1.5.0",
            "_model_name": "ProgressStyleModel",
            "_view_count": null,
            "_view_module": "@jupyter-widgets/base",
            "_view_module_version": "1.2.0",
            "_view_name": "StyleView",
            "bar_color": null,
            "description_width": ""
          }
        },
        "1322e330d52a4c13a8a6de4a0a51a6ed": {
          "model_module": "@jupyter-widgets/base",
          "model_name": "LayoutModel",
          "model_module_version": "1.2.0",
          "state": {
            "_model_module": "@jupyter-widgets/base",
            "_model_module_version": "1.2.0",
            "_model_name": "LayoutModel",
            "_view_count": null,
            "_view_module": "@jupyter-widgets/base",
            "_view_module_version": "1.2.0",
            "_view_name": "LayoutView",
            "align_content": null,
            "align_items": null,
            "align_self": null,
            "border": null,
            "bottom": null,
            "display": null,
            "flex": null,
            "flex_flow": null,
            "grid_area": null,
            "grid_auto_columns": null,
            "grid_auto_flow": null,
            "grid_auto_rows": null,
            "grid_column": null,
            "grid_gap": null,
            "grid_row": null,
            "grid_template_areas": null,
            "grid_template_columns": null,
            "grid_template_rows": null,
            "height": null,
            "justify_content": null,
            "justify_items": null,
            "left": null,
            "margin": null,
            "max_height": null,
            "max_width": null,
            "min_height": null,
            "min_width": null,
            "object_fit": null,
            "object_position": null,
            "order": null,
            "overflow": null,
            "overflow_x": null,
            "overflow_y": null,
            "padding": null,
            "right": null,
            "top": null,
            "visibility": null,
            "width": null
          }
        },
        "50d3c586c052429a9cb99775c8a60c45": {
          "model_module": "@jupyter-widgets/controls",
          "model_name": "DescriptionStyleModel",
          "model_module_version": "1.5.0",
          "state": {
            "_model_module": "@jupyter-widgets/controls",
            "_model_module_version": "1.5.0",
            "_model_name": "DescriptionStyleModel",
            "_view_count": null,
            "_view_module": "@jupyter-widgets/base",
            "_view_module_version": "1.2.0",
            "_view_name": "StyleView",
            "description_width": ""
          }
        },
        "217c90c98dd34509bec83accc2661527": {
          "model_module": "@jupyter-widgets/controls",
          "model_name": "HBoxModel",
          "model_module_version": "1.5.0",
          "state": {
            "_dom_classes": [],
            "_model_module": "@jupyter-widgets/controls",
            "_model_module_version": "1.5.0",
            "_model_name": "HBoxModel",
            "_view_count": null,
            "_view_module": "@jupyter-widgets/controls",
            "_view_module_version": "1.5.0",
            "_view_name": "HBoxView",
            "box_style": "",
            "children": [
              "IPY_MODEL_3c7a2df66c1b4dd0a1eb8318420d52cc",
              "IPY_MODEL_9a74fae24d884f23aefb2abc7116c39a",
              "IPY_MODEL_8c279bbc3ab14130ae1e46861b35478b"
            ],
            "layout": "IPY_MODEL_e13d274b89334402afd75b8f5a7492d4"
          }
        },
        "3c7a2df66c1b4dd0a1eb8318420d52cc": {
          "model_module": "@jupyter-widgets/controls",
          "model_name": "HTMLModel",
          "model_module_version": "1.5.0",
          "state": {
            "_dom_classes": [],
            "_model_module": "@jupyter-widgets/controls",
            "_model_module_version": "1.5.0",
            "_model_name": "HTMLModel",
            "_view_count": null,
            "_view_module": "@jupyter-widgets/controls",
            "_view_module_version": "1.5.0",
            "_view_name": "HTMLView",
            "description": "",
            "description_tooltip": null,
            "layout": "IPY_MODEL_eda998451e704026a28d1d1c272e72f6",
            "placeholder": "​",
            "style": "IPY_MODEL_8d5ec741ea234abba194343effd16c31",
            "value": "Resolving data files: 100%"
          }
        },
        "9a74fae24d884f23aefb2abc7116c39a": {
          "model_module": "@jupyter-widgets/controls",
          "model_name": "FloatProgressModel",
          "model_module_version": "1.5.0",
          "state": {
            "_dom_classes": [],
            "_model_module": "@jupyter-widgets/controls",
            "_model_module_version": "1.5.0",
            "_model_name": "FloatProgressModel",
            "_view_count": null,
            "_view_module": "@jupyter-widgets/controls",
            "_view_module_version": "1.5.0",
            "_view_name": "ProgressView",
            "bar_style": "success",
            "description": "",
            "description_tooltip": null,
            "layout": "IPY_MODEL_84a160d6bfc24ca3844f30a47bcab190",
            "max": 202,
            "min": 0,
            "orientation": "horizontal",
            "style": "IPY_MODEL_6db664fa6ae5411e9a80631dc3f297b4",
            "value": 202
          }
        },
        "8c279bbc3ab14130ae1e46861b35478b": {
          "model_module": "@jupyter-widgets/controls",
          "model_name": "HTMLModel",
          "model_module_version": "1.5.0",
          "state": {
            "_dom_classes": [],
            "_model_module": "@jupyter-widgets/controls",
            "_model_module_version": "1.5.0",
            "_model_name": "HTMLModel",
            "_view_count": null,
            "_view_module": "@jupyter-widgets/controls",
            "_view_module_version": "1.5.0",
            "_view_name": "HTMLView",
            "description": "",
            "description_tooltip": null,
            "layout": "IPY_MODEL_fcb0624262574a92a985c52fc87aaaaa",
            "placeholder": "​",
            "style": "IPY_MODEL_280584a2be5547a09ca76cbfc67ae1b4",
            "value": " 202/202 [00:00&lt;00:00, 7730.45it/s]"
          }
        },
        "e13d274b89334402afd75b8f5a7492d4": {
          "model_module": "@jupyter-widgets/base",
          "model_name": "LayoutModel",
          "model_module_version": "1.2.0",
          "state": {
            "_model_module": "@jupyter-widgets/base",
            "_model_module_version": "1.2.0",
            "_model_name": "LayoutModel",
            "_view_count": null,
            "_view_module": "@jupyter-widgets/base",
            "_view_module_version": "1.2.0",
            "_view_name": "LayoutView",
            "align_content": null,
            "align_items": null,
            "align_self": null,
            "border": null,
            "bottom": null,
            "display": null,
            "flex": null,
            "flex_flow": null,
            "grid_area": null,
            "grid_auto_columns": null,
            "grid_auto_flow": null,
            "grid_auto_rows": null,
            "grid_column": null,
            "grid_gap": null,
            "grid_row": null,
            "grid_template_areas": null,
            "grid_template_columns": null,
            "grid_template_rows": null,
            "height": null,
            "justify_content": null,
            "justify_items": null,
            "left": null,
            "margin": null,
            "max_height": null,
            "max_width": null,
            "min_height": null,
            "min_width": null,
            "object_fit": null,
            "object_position": null,
            "order": null,
            "overflow": null,
            "overflow_x": null,
            "overflow_y": null,
            "padding": null,
            "right": null,
            "top": null,
            "visibility": null,
            "width": null
          }
        },
        "eda998451e704026a28d1d1c272e72f6": {
          "model_module": "@jupyter-widgets/base",
          "model_name": "LayoutModel",
          "model_module_version": "1.2.0",
          "state": {
            "_model_module": "@jupyter-widgets/base",
            "_model_module_version": "1.2.0",
            "_model_name": "LayoutModel",
            "_view_count": null,
            "_view_module": "@jupyter-widgets/base",
            "_view_module_version": "1.2.0",
            "_view_name": "LayoutView",
            "align_content": null,
            "align_items": null,
            "align_self": null,
            "border": null,
            "bottom": null,
            "display": null,
            "flex": null,
            "flex_flow": null,
            "grid_area": null,
            "grid_auto_columns": null,
            "grid_auto_flow": null,
            "grid_auto_rows": null,
            "grid_column": null,
            "grid_gap": null,
            "grid_row": null,
            "grid_template_areas": null,
            "grid_template_columns": null,
            "grid_template_rows": null,
            "height": null,
            "justify_content": null,
            "justify_items": null,
            "left": null,
            "margin": null,
            "max_height": null,
            "max_width": null,
            "min_height": null,
            "min_width": null,
            "object_fit": null,
            "object_position": null,
            "order": null,
            "overflow": null,
            "overflow_x": null,
            "overflow_y": null,
            "padding": null,
            "right": null,
            "top": null,
            "visibility": null,
            "width": null
          }
        },
        "8d5ec741ea234abba194343effd16c31": {
          "model_module": "@jupyter-widgets/controls",
          "model_name": "DescriptionStyleModel",
          "model_module_version": "1.5.0",
          "state": {
            "_model_module": "@jupyter-widgets/controls",
            "_model_module_version": "1.5.0",
            "_model_name": "DescriptionStyleModel",
            "_view_count": null,
            "_view_module": "@jupyter-widgets/base",
            "_view_module_version": "1.2.0",
            "_view_name": "StyleView",
            "description_width": ""
          }
        },
        "84a160d6bfc24ca3844f30a47bcab190": {
          "model_module": "@jupyter-widgets/base",
          "model_name": "LayoutModel",
          "model_module_version": "1.2.0",
          "state": {
            "_model_module": "@jupyter-widgets/base",
            "_model_module_version": "1.2.0",
            "_model_name": "LayoutModel",
            "_view_count": null,
            "_view_module": "@jupyter-widgets/base",
            "_view_module_version": "1.2.0",
            "_view_name": "LayoutView",
            "align_content": null,
            "align_items": null,
            "align_self": null,
            "border": null,
            "bottom": null,
            "display": null,
            "flex": null,
            "flex_flow": null,
            "grid_area": null,
            "grid_auto_columns": null,
            "grid_auto_flow": null,
            "grid_auto_rows": null,
            "grid_column": null,
            "grid_gap": null,
            "grid_row": null,
            "grid_template_areas": null,
            "grid_template_columns": null,
            "grid_template_rows": null,
            "height": null,
            "justify_content": null,
            "justify_items": null,
            "left": null,
            "margin": null,
            "max_height": null,
            "max_width": null,
            "min_height": null,
            "min_width": null,
            "object_fit": null,
            "object_position": null,
            "order": null,
            "overflow": null,
            "overflow_x": null,
            "overflow_y": null,
            "padding": null,
            "right": null,
            "top": null,
            "visibility": null,
            "width": null
          }
        },
        "6db664fa6ae5411e9a80631dc3f297b4": {
          "model_module": "@jupyter-widgets/controls",
          "model_name": "ProgressStyleModel",
          "model_module_version": "1.5.0",
          "state": {
            "_model_module": "@jupyter-widgets/controls",
            "_model_module_version": "1.5.0",
            "_model_name": "ProgressStyleModel",
            "_view_count": null,
            "_view_module": "@jupyter-widgets/base",
            "_view_module_version": "1.2.0",
            "_view_name": "StyleView",
            "bar_color": null,
            "description_width": ""
          }
        },
        "fcb0624262574a92a985c52fc87aaaaa": {
          "model_module": "@jupyter-widgets/base",
          "model_name": "LayoutModel",
          "model_module_version": "1.2.0",
          "state": {
            "_model_module": "@jupyter-widgets/base",
            "_model_module_version": "1.2.0",
            "_model_name": "LayoutModel",
            "_view_count": null,
            "_view_module": "@jupyter-widgets/base",
            "_view_module_version": "1.2.0",
            "_view_name": "LayoutView",
            "align_content": null,
            "align_items": null,
            "align_self": null,
            "border": null,
            "bottom": null,
            "display": null,
            "flex": null,
            "flex_flow": null,
            "grid_area": null,
            "grid_auto_columns": null,
            "grid_auto_flow": null,
            "grid_auto_rows": null,
            "grid_column": null,
            "grid_gap": null,
            "grid_row": null,
            "grid_template_areas": null,
            "grid_template_columns": null,
            "grid_template_rows": null,
            "height": null,
            "justify_content": null,
            "justify_items": null,
            "left": null,
            "margin": null,
            "max_height": null,
            "max_width": null,
            "min_height": null,
            "min_width": null,
            "object_fit": null,
            "object_position": null,
            "order": null,
            "overflow": null,
            "overflow_x": null,
            "overflow_y": null,
            "padding": null,
            "right": null,
            "top": null,
            "visibility": null,
            "width": null
          }
        },
        "280584a2be5547a09ca76cbfc67ae1b4": {
          "model_module": "@jupyter-widgets/controls",
          "model_name": "DescriptionStyleModel",
          "model_module_version": "1.5.0",
          "state": {
            "_model_module": "@jupyter-widgets/controls",
            "_model_module_version": "1.5.0",
            "_model_name": "DescriptionStyleModel",
            "_view_count": null,
            "_view_module": "@jupyter-widgets/base",
            "_view_module_version": "1.2.0",
            "_view_name": "StyleView",
            "description_width": ""
          }
        },
        "4fc7afea2f0848b1ac2fe8e783907e0f": {
          "model_module": "@jupyter-widgets/controls",
          "model_name": "HBoxModel",
          "model_module_version": "1.5.0",
          "state": {
            "_dom_classes": [],
            "_model_module": "@jupyter-widgets/controls",
            "_model_module_version": "1.5.0",
            "_model_name": "HBoxModel",
            "_view_count": null,
            "_view_module": "@jupyter-widgets/controls",
            "_view_module_version": "1.5.0",
            "_view_name": "HBoxView",
            "box_style": "",
            "children": [
              "IPY_MODEL_1eae8dfd65d14cd28e3440956467bf0d",
              "IPY_MODEL_9a3271f4a0654c5fa21f726a541976f9",
              "IPY_MODEL_bd34b0a17db5412fbe67d3f6566ae6fb"
            ],
            "layout": "IPY_MODEL_a3a0ee8fe2474eb5b65aebd8d3faa0df"
          }
        },
        "1eae8dfd65d14cd28e3440956467bf0d": {
          "model_module": "@jupyter-widgets/controls",
          "model_name": "HTMLModel",
          "model_module_version": "1.5.0",
          "state": {
            "_dom_classes": [],
            "_model_module": "@jupyter-widgets/controls",
            "_model_module_version": "1.5.0",
            "_model_name": "HTMLModel",
            "_view_count": null,
            "_view_module": "@jupyter-widgets/controls",
            "_view_module_version": "1.5.0",
            "_view_name": "HTMLView",
            "description": "",
            "description_tooltip": null,
            "layout": "IPY_MODEL_83d530ef6dd74e5193c306f2dd875949",
            "placeholder": "​",
            "style": "IPY_MODEL_0db334f386e64296a45d1fb784ee2cdf",
            "value": "Downloading data: 100%"
          }
        },
        "9a3271f4a0654c5fa21f726a541976f9": {
          "model_module": "@jupyter-widgets/controls",
          "model_name": "FloatProgressModel",
          "model_module_version": "1.5.0",
          "state": {
            "_dom_classes": [],
            "_model_module": "@jupyter-widgets/controls",
            "_model_module_version": "1.5.0",
            "_model_name": "FloatProgressModel",
            "_view_count": null,
            "_view_module": "@jupyter-widgets/controls",
            "_view_module_version": "1.5.0",
            "_view_name": "ProgressView",
            "bar_style": "success",
            "description": "",
            "description_tooltip": null,
            "layout": "IPY_MODEL_0d8627a0910141b4b115b74c9995a3de",
            "max": 202,
            "min": 0,
            "orientation": "horizontal",
            "style": "IPY_MODEL_64ebd63fe3204e0e98829a11f6481915",
            "value": 202
          }
        },
        "bd34b0a17db5412fbe67d3f6566ae6fb": {
          "model_module": "@jupyter-widgets/controls",
          "model_name": "HTMLModel",
          "model_module_version": "1.5.0",
          "state": {
            "_dom_classes": [],
            "_model_module": "@jupyter-widgets/controls",
            "_model_module_version": "1.5.0",
            "_model_name": "HTMLModel",
            "_view_count": null,
            "_view_module": "@jupyter-widgets/controls",
            "_view_module_version": "1.5.0",
            "_view_name": "HTMLView",
            "description": "",
            "description_tooltip": null,
            "layout": "IPY_MODEL_23bb012c645b4bd1b6a406674b843ad9",
            "placeholder": "​",
            "style": "IPY_MODEL_da4b1afdace646fa9a82b7b3142dc528",
            "value": " 202/202 [00:00&lt;00:00, 7800.91files/s]"
          }
        },
        "a3a0ee8fe2474eb5b65aebd8d3faa0df": {
          "model_module": "@jupyter-widgets/base",
          "model_name": "LayoutModel",
          "model_module_version": "1.2.0",
          "state": {
            "_model_module": "@jupyter-widgets/base",
            "_model_module_version": "1.2.0",
            "_model_name": "LayoutModel",
            "_view_count": null,
            "_view_module": "@jupyter-widgets/base",
            "_view_module_version": "1.2.0",
            "_view_name": "LayoutView",
            "align_content": null,
            "align_items": null,
            "align_self": null,
            "border": null,
            "bottom": null,
            "display": null,
            "flex": null,
            "flex_flow": null,
            "grid_area": null,
            "grid_auto_columns": null,
            "grid_auto_flow": null,
            "grid_auto_rows": null,
            "grid_column": null,
            "grid_gap": null,
            "grid_row": null,
            "grid_template_areas": null,
            "grid_template_columns": null,
            "grid_template_rows": null,
            "height": null,
            "justify_content": null,
            "justify_items": null,
            "left": null,
            "margin": null,
            "max_height": null,
            "max_width": null,
            "min_height": null,
            "min_width": null,
            "object_fit": null,
            "object_position": null,
            "order": null,
            "overflow": null,
            "overflow_x": null,
            "overflow_y": null,
            "padding": null,
            "right": null,
            "top": null,
            "visibility": null,
            "width": null
          }
        },
        "83d530ef6dd74e5193c306f2dd875949": {
          "model_module": "@jupyter-widgets/base",
          "model_name": "LayoutModel",
          "model_module_version": "1.2.0",
          "state": {
            "_model_module": "@jupyter-widgets/base",
            "_model_module_version": "1.2.0",
            "_model_name": "LayoutModel",
            "_view_count": null,
            "_view_module": "@jupyter-widgets/base",
            "_view_module_version": "1.2.0",
            "_view_name": "LayoutView",
            "align_content": null,
            "align_items": null,
            "align_self": null,
            "border": null,
            "bottom": null,
            "display": null,
            "flex": null,
            "flex_flow": null,
            "grid_area": null,
            "grid_auto_columns": null,
            "grid_auto_flow": null,
            "grid_auto_rows": null,
            "grid_column": null,
            "grid_gap": null,
            "grid_row": null,
            "grid_template_areas": null,
            "grid_template_columns": null,
            "grid_template_rows": null,
            "height": null,
            "justify_content": null,
            "justify_items": null,
            "left": null,
            "margin": null,
            "max_height": null,
            "max_width": null,
            "min_height": null,
            "min_width": null,
            "object_fit": null,
            "object_position": null,
            "order": null,
            "overflow": null,
            "overflow_x": null,
            "overflow_y": null,
            "padding": null,
            "right": null,
            "top": null,
            "visibility": null,
            "width": null
          }
        },
        "0db334f386e64296a45d1fb784ee2cdf": {
          "model_module": "@jupyter-widgets/controls",
          "model_name": "DescriptionStyleModel",
          "model_module_version": "1.5.0",
          "state": {
            "_model_module": "@jupyter-widgets/controls",
            "_model_module_version": "1.5.0",
            "_model_name": "DescriptionStyleModel",
            "_view_count": null,
            "_view_module": "@jupyter-widgets/base",
            "_view_module_version": "1.2.0",
            "_view_name": "StyleView",
            "description_width": ""
          }
        },
        "0d8627a0910141b4b115b74c9995a3de": {
          "model_module": "@jupyter-widgets/base",
          "model_name": "LayoutModel",
          "model_module_version": "1.2.0",
          "state": {
            "_model_module": "@jupyter-widgets/base",
            "_model_module_version": "1.2.0",
            "_model_name": "LayoutModel",
            "_view_count": null,
            "_view_module": "@jupyter-widgets/base",
            "_view_module_version": "1.2.0",
            "_view_name": "LayoutView",
            "align_content": null,
            "align_items": null,
            "align_self": null,
            "border": null,
            "bottom": null,
            "display": null,
            "flex": null,
            "flex_flow": null,
            "grid_area": null,
            "grid_auto_columns": null,
            "grid_auto_flow": null,
            "grid_auto_rows": null,
            "grid_column": null,
            "grid_gap": null,
            "grid_row": null,
            "grid_template_areas": null,
            "grid_template_columns": null,
            "grid_template_rows": null,
            "height": null,
            "justify_content": null,
            "justify_items": null,
            "left": null,
            "margin": null,
            "max_height": null,
            "max_width": null,
            "min_height": null,
            "min_width": null,
            "object_fit": null,
            "object_position": null,
            "order": null,
            "overflow": null,
            "overflow_x": null,
            "overflow_y": null,
            "padding": null,
            "right": null,
            "top": null,
            "visibility": null,
            "width": null
          }
        },
        "64ebd63fe3204e0e98829a11f6481915": {
          "model_module": "@jupyter-widgets/controls",
          "model_name": "ProgressStyleModel",
          "model_module_version": "1.5.0",
          "state": {
            "_model_module": "@jupyter-widgets/controls",
            "_model_module_version": "1.5.0",
            "_model_name": "ProgressStyleModel",
            "_view_count": null,
            "_view_module": "@jupyter-widgets/base",
            "_view_module_version": "1.2.0",
            "_view_name": "StyleView",
            "bar_color": null,
            "description_width": ""
          }
        },
        "23bb012c645b4bd1b6a406674b843ad9": {
          "model_module": "@jupyter-widgets/base",
          "model_name": "LayoutModel",
          "model_module_version": "1.2.0",
          "state": {
            "_model_module": "@jupyter-widgets/base",
            "_model_module_version": "1.2.0",
            "_model_name": "LayoutModel",
            "_view_count": null,
            "_view_module": "@jupyter-widgets/base",
            "_view_module_version": "1.2.0",
            "_view_name": "LayoutView",
            "align_content": null,
            "align_items": null,
            "align_self": null,
            "border": null,
            "bottom": null,
            "display": null,
            "flex": null,
            "flex_flow": null,
            "grid_area": null,
            "grid_auto_columns": null,
            "grid_auto_flow": null,
            "grid_auto_rows": null,
            "grid_column": null,
            "grid_gap": null,
            "grid_row": null,
            "grid_template_areas": null,
            "grid_template_columns": null,
            "grid_template_rows": null,
            "height": null,
            "justify_content": null,
            "justify_items": null,
            "left": null,
            "margin": null,
            "max_height": null,
            "max_width": null,
            "min_height": null,
            "min_width": null,
            "object_fit": null,
            "object_position": null,
            "order": null,
            "overflow": null,
            "overflow_x": null,
            "overflow_y": null,
            "padding": null,
            "right": null,
            "top": null,
            "visibility": null,
            "width": null
          }
        },
        "da4b1afdace646fa9a82b7b3142dc528": {
          "model_module": "@jupyter-widgets/controls",
          "model_name": "DescriptionStyleModel",
          "model_module_version": "1.5.0",
          "state": {
            "_model_module": "@jupyter-widgets/controls",
            "_model_module_version": "1.5.0",
            "_model_name": "DescriptionStyleModel",
            "_view_count": null,
            "_view_module": "@jupyter-widgets/base",
            "_view_module_version": "1.2.0",
            "_view_name": "StyleView",
            "description_width": ""
          }
        },
        "f072606c9b554d2eb54fc9a2f837c5c2": {
          "model_module": "@jupyter-widgets/controls",
          "model_name": "HBoxModel",
          "model_module_version": "1.5.0",
          "state": {
            "_dom_classes": [],
            "_model_module": "@jupyter-widgets/controls",
            "_model_module_version": "1.5.0",
            "_model_name": "HBoxModel",
            "_view_count": null,
            "_view_module": "@jupyter-widgets/controls",
            "_view_module_version": "1.5.0",
            "_view_name": "HBoxView",
            "box_style": "",
            "children": [
              "IPY_MODEL_2d61b0dc7826429f92306979bbab4e7f",
              "IPY_MODEL_bf6fb6efae604a0ca076cf74c5372fa7",
              "IPY_MODEL_5dbb8cb5fbaa443c848d9b9df4c2209e"
            ],
            "layout": "IPY_MODEL_14d74463b5d540148b68532cc1fe01fd"
          }
        },
        "2d61b0dc7826429f92306979bbab4e7f": {
          "model_module": "@jupyter-widgets/controls",
          "model_name": "HTMLModel",
          "model_module_version": "1.5.0",
          "state": {
            "_dom_classes": [],
            "_model_module": "@jupyter-widgets/controls",
            "_model_module_version": "1.5.0",
            "_model_name": "HTMLModel",
            "_view_count": null,
            "_view_module": "@jupyter-widgets/controls",
            "_view_module_version": "1.5.0",
            "_view_name": "HTMLView",
            "description": "",
            "description_tooltip": null,
            "layout": "IPY_MODEL_c352e319fe8a465d88f2608ea883a053",
            "placeholder": "​",
            "style": "IPY_MODEL_87ff5061cd8244ad9cafa226b7d62cdb",
            "value": "Generating train split: "
          }
        },
        "bf6fb6efae604a0ca076cf74c5372fa7": {
          "model_module": "@jupyter-widgets/controls",
          "model_name": "FloatProgressModel",
          "model_module_version": "1.5.0",
          "state": {
            "_dom_classes": [],
            "_model_module": "@jupyter-widgets/controls",
            "_model_module_version": "1.5.0",
            "_model_name": "FloatProgressModel",
            "_view_count": null,
            "_view_module": "@jupyter-widgets/controls",
            "_view_module_version": "1.5.0",
            "_view_name": "ProgressView",
            "bar_style": "success",
            "description": "",
            "description_tooltip": null,
            "layout": "IPY_MODEL_2c6b1cf1d57b4ab4ba71a4221fcd0251",
            "max": 1,
            "min": 0,
            "orientation": "horizontal",
            "style": "IPY_MODEL_f088739e94ac4756b3f1fbc4771c2c39",
            "value": 1
          }
        },
        "5dbb8cb5fbaa443c848d9b9df4c2209e": {
          "model_module": "@jupyter-widgets/controls",
          "model_name": "HTMLModel",
          "model_module_version": "1.5.0",
          "state": {
            "_dom_classes": [],
            "_model_module": "@jupyter-widgets/controls",
            "_model_module_version": "1.5.0",
            "_model_name": "HTMLModel",
            "_view_count": null,
            "_view_module": "@jupyter-widgets/controls",
            "_view_module_version": "1.5.0",
            "_view_name": "HTMLView",
            "description": "",
            "description_tooltip": null,
            "layout": "IPY_MODEL_b59a162c153c48fa8d8d1bc3366d7bdf",
            "placeholder": "​",
            "style": "IPY_MODEL_ba981109c4944ebaae4684bdb43d6f8d",
            "value": " 1007/0 [00:00&lt;00:00, 1603.34 examples/s]"
          }
        },
        "14d74463b5d540148b68532cc1fe01fd": {
          "model_module": "@jupyter-widgets/base",
          "model_name": "LayoutModel",
          "model_module_version": "1.2.0",
          "state": {
            "_model_module": "@jupyter-widgets/base",
            "_model_module_version": "1.2.0",
            "_model_name": "LayoutModel",
            "_view_count": null,
            "_view_module": "@jupyter-widgets/base",
            "_view_module_version": "1.2.0",
            "_view_name": "LayoutView",
            "align_content": null,
            "align_items": null,
            "align_self": null,
            "border": null,
            "bottom": null,
            "display": null,
            "flex": null,
            "flex_flow": null,
            "grid_area": null,
            "grid_auto_columns": null,
            "grid_auto_flow": null,
            "grid_auto_rows": null,
            "grid_column": null,
            "grid_gap": null,
            "grid_row": null,
            "grid_template_areas": null,
            "grid_template_columns": null,
            "grid_template_rows": null,
            "height": null,
            "justify_content": null,
            "justify_items": null,
            "left": null,
            "margin": null,
            "max_height": null,
            "max_width": null,
            "min_height": null,
            "min_width": null,
            "object_fit": null,
            "object_position": null,
            "order": null,
            "overflow": null,
            "overflow_x": null,
            "overflow_y": null,
            "padding": null,
            "right": null,
            "top": null,
            "visibility": null,
            "width": null
          }
        },
        "c352e319fe8a465d88f2608ea883a053": {
          "model_module": "@jupyter-widgets/base",
          "model_name": "LayoutModel",
          "model_module_version": "1.2.0",
          "state": {
            "_model_module": "@jupyter-widgets/base",
            "_model_module_version": "1.2.0",
            "_model_name": "LayoutModel",
            "_view_count": null,
            "_view_module": "@jupyter-widgets/base",
            "_view_module_version": "1.2.0",
            "_view_name": "LayoutView",
            "align_content": null,
            "align_items": null,
            "align_self": null,
            "border": null,
            "bottom": null,
            "display": null,
            "flex": null,
            "flex_flow": null,
            "grid_area": null,
            "grid_auto_columns": null,
            "grid_auto_flow": null,
            "grid_auto_rows": null,
            "grid_column": null,
            "grid_gap": null,
            "grid_row": null,
            "grid_template_areas": null,
            "grid_template_columns": null,
            "grid_template_rows": null,
            "height": null,
            "justify_content": null,
            "justify_items": null,
            "left": null,
            "margin": null,
            "max_height": null,
            "max_width": null,
            "min_height": null,
            "min_width": null,
            "object_fit": null,
            "object_position": null,
            "order": null,
            "overflow": null,
            "overflow_x": null,
            "overflow_y": null,
            "padding": null,
            "right": null,
            "top": null,
            "visibility": null,
            "width": null
          }
        },
        "87ff5061cd8244ad9cafa226b7d62cdb": {
          "model_module": "@jupyter-widgets/controls",
          "model_name": "DescriptionStyleModel",
          "model_module_version": "1.5.0",
          "state": {
            "_model_module": "@jupyter-widgets/controls",
            "_model_module_version": "1.5.0",
            "_model_name": "DescriptionStyleModel",
            "_view_count": null,
            "_view_module": "@jupyter-widgets/base",
            "_view_module_version": "1.2.0",
            "_view_name": "StyleView",
            "description_width": ""
          }
        },
        "2c6b1cf1d57b4ab4ba71a4221fcd0251": {
          "model_module": "@jupyter-widgets/base",
          "model_name": "LayoutModel",
          "model_module_version": "1.2.0",
          "state": {
            "_model_module": "@jupyter-widgets/base",
            "_model_module_version": "1.2.0",
            "_model_name": "LayoutModel",
            "_view_count": null,
            "_view_module": "@jupyter-widgets/base",
            "_view_module_version": "1.2.0",
            "_view_name": "LayoutView",
            "align_content": null,
            "align_items": null,
            "align_self": null,
            "border": null,
            "bottom": null,
            "display": null,
            "flex": null,
            "flex_flow": null,
            "grid_area": null,
            "grid_auto_columns": null,
            "grid_auto_flow": null,
            "grid_auto_rows": null,
            "grid_column": null,
            "grid_gap": null,
            "grid_row": null,
            "grid_template_areas": null,
            "grid_template_columns": null,
            "grid_template_rows": null,
            "height": null,
            "justify_content": null,
            "justify_items": null,
            "left": null,
            "margin": null,
            "max_height": null,
            "max_width": null,
            "min_height": null,
            "min_width": null,
            "object_fit": null,
            "object_position": null,
            "order": null,
            "overflow": null,
            "overflow_x": null,
            "overflow_y": null,
            "padding": null,
            "right": null,
            "top": null,
            "visibility": null,
            "width": "20px"
          }
        },
        "f088739e94ac4756b3f1fbc4771c2c39": {
          "model_module": "@jupyter-widgets/controls",
          "model_name": "ProgressStyleModel",
          "model_module_version": "1.5.0",
          "state": {
            "_model_module": "@jupyter-widgets/controls",
            "_model_module_version": "1.5.0",
            "_model_name": "ProgressStyleModel",
            "_view_count": null,
            "_view_module": "@jupyter-widgets/base",
            "_view_module_version": "1.2.0",
            "_view_name": "StyleView",
            "bar_color": null,
            "description_width": ""
          }
        },
        "b59a162c153c48fa8d8d1bc3366d7bdf": {
          "model_module": "@jupyter-widgets/base",
          "model_name": "LayoutModel",
          "model_module_version": "1.2.0",
          "state": {
            "_model_module": "@jupyter-widgets/base",
            "_model_module_version": "1.2.0",
            "_model_name": "LayoutModel",
            "_view_count": null,
            "_view_module": "@jupyter-widgets/base",
            "_view_module_version": "1.2.0",
            "_view_name": "LayoutView",
            "align_content": null,
            "align_items": null,
            "align_self": null,
            "border": null,
            "bottom": null,
            "display": null,
            "flex": null,
            "flex_flow": null,
            "grid_area": null,
            "grid_auto_columns": null,
            "grid_auto_flow": null,
            "grid_auto_rows": null,
            "grid_column": null,
            "grid_gap": null,
            "grid_row": null,
            "grid_template_areas": null,
            "grid_template_columns": null,
            "grid_template_rows": null,
            "height": null,
            "justify_content": null,
            "justify_items": null,
            "left": null,
            "margin": null,
            "max_height": null,
            "max_width": null,
            "min_height": null,
            "min_width": null,
            "object_fit": null,
            "object_position": null,
            "order": null,
            "overflow": null,
            "overflow_x": null,
            "overflow_y": null,
            "padding": null,
            "right": null,
            "top": null,
            "visibility": null,
            "width": null
          }
        },
        "ba981109c4944ebaae4684bdb43d6f8d": {
          "model_module": "@jupyter-widgets/controls",
          "model_name": "DescriptionStyleModel",
          "model_module_version": "1.5.0",
          "state": {
            "_model_module": "@jupyter-widgets/controls",
            "_model_module_version": "1.5.0",
            "_model_name": "DescriptionStyleModel",
            "_view_count": null,
            "_view_module": "@jupyter-widgets/base",
            "_view_module_version": "1.2.0",
            "_view_name": "StyleView",
            "description_width": ""
          }
        },
        "019354a503834fb596482a5669546519": {
          "model_module": "@jupyter-widgets/controls",
          "model_name": "HBoxModel",
          "model_module_version": "1.5.0",
          "state": {
            "_dom_classes": [],
            "_model_module": "@jupyter-widgets/controls",
            "_model_module_version": "1.5.0",
            "_model_name": "HBoxModel",
            "_view_count": null,
            "_view_module": "@jupyter-widgets/controls",
            "_view_module_version": "1.5.0",
            "_view_name": "HBoxView",
            "box_style": "",
            "children": [
              "IPY_MODEL_542927aadb004d9b938a8f40937020bb",
              "IPY_MODEL_a62423bea66744c4a772892865a33fd3",
              "IPY_MODEL_6c4a404ae91a47a287e651abc6777119"
            ],
            "layout": "IPY_MODEL_2caa08b05b4c4aa48e196bb368b1f362"
          }
        },
        "542927aadb004d9b938a8f40937020bb": {
          "model_module": "@jupyter-widgets/controls",
          "model_name": "HTMLModel",
          "model_module_version": "1.5.0",
          "state": {
            "_dom_classes": [],
            "_model_module": "@jupyter-widgets/controls",
            "_model_module_version": "1.5.0",
            "_model_name": "HTMLModel",
            "_view_count": null,
            "_view_module": "@jupyter-widgets/controls",
            "_view_module_version": "1.5.0",
            "_view_name": "HTMLView",
            "description": "",
            "description_tooltip": null,
            "layout": "IPY_MODEL_ed08a0df437d45d8a5d1f764c195f11f",
            "placeholder": "​",
            "style": "IPY_MODEL_bd6248d08d964166b167144db5482820",
            "value": "Map: 100%"
          }
        },
        "a62423bea66744c4a772892865a33fd3": {
          "model_module": "@jupyter-widgets/controls",
          "model_name": "FloatProgressModel",
          "model_module_version": "1.5.0",
          "state": {
            "_dom_classes": [],
            "_model_module": "@jupyter-widgets/controls",
            "_model_module_version": "1.5.0",
            "_model_name": "FloatProgressModel",
            "_view_count": null,
            "_view_module": "@jupyter-widgets/controls",
            "_view_module_version": "1.5.0",
            "_view_name": "ProgressView",
            "bar_style": "success",
            "description": "",
            "description_tooltip": null,
            "layout": "IPY_MODEL_8aedf2bebaac4374966dce1a2d690490",
            "max": 1007,
            "min": 0,
            "orientation": "horizontal",
            "style": "IPY_MODEL_ff537c07a45746458527f467c480c10f",
            "value": 1007
          }
        },
        "6c4a404ae91a47a287e651abc6777119": {
          "model_module": "@jupyter-widgets/controls",
          "model_name": "HTMLModel",
          "model_module_version": "1.5.0",
          "state": {
            "_dom_classes": [],
            "_model_module": "@jupyter-widgets/controls",
            "_model_module_version": "1.5.0",
            "_model_name": "HTMLModel",
            "_view_count": null,
            "_view_module": "@jupyter-widgets/controls",
            "_view_module_version": "1.5.0",
            "_view_name": "HTMLView",
            "description": "",
            "description_tooltip": null,
            "layout": "IPY_MODEL_5f26dda9058f442f9c5f38289f6a6bdd",
            "placeholder": "​",
            "style": "IPY_MODEL_6dd8ed66fdf84a918a113b1bfdbc844c",
            "value": " 1007/1007 [00:00&lt;00:00, 12102.67 examples/s]"
          }
        },
        "2caa08b05b4c4aa48e196bb368b1f362": {
          "model_module": "@jupyter-widgets/base",
          "model_name": "LayoutModel",
          "model_module_version": "1.2.0",
          "state": {
            "_model_module": "@jupyter-widgets/base",
            "_model_module_version": "1.2.0",
            "_model_name": "LayoutModel",
            "_view_count": null,
            "_view_module": "@jupyter-widgets/base",
            "_view_module_version": "1.2.0",
            "_view_name": "LayoutView",
            "align_content": null,
            "align_items": null,
            "align_self": null,
            "border": null,
            "bottom": null,
            "display": null,
            "flex": null,
            "flex_flow": null,
            "grid_area": null,
            "grid_auto_columns": null,
            "grid_auto_flow": null,
            "grid_auto_rows": null,
            "grid_column": null,
            "grid_gap": null,
            "grid_row": null,
            "grid_template_areas": null,
            "grid_template_columns": null,
            "grid_template_rows": null,
            "height": null,
            "justify_content": null,
            "justify_items": null,
            "left": null,
            "margin": null,
            "max_height": null,
            "max_width": null,
            "min_height": null,
            "min_width": null,
            "object_fit": null,
            "object_position": null,
            "order": null,
            "overflow": null,
            "overflow_x": null,
            "overflow_y": null,
            "padding": null,
            "right": null,
            "top": null,
            "visibility": null,
            "width": null
          }
        },
        "ed08a0df437d45d8a5d1f764c195f11f": {
          "model_module": "@jupyter-widgets/base",
          "model_name": "LayoutModel",
          "model_module_version": "1.2.0",
          "state": {
            "_model_module": "@jupyter-widgets/base",
            "_model_module_version": "1.2.0",
            "_model_name": "LayoutModel",
            "_view_count": null,
            "_view_module": "@jupyter-widgets/base",
            "_view_module_version": "1.2.0",
            "_view_name": "LayoutView",
            "align_content": null,
            "align_items": null,
            "align_self": null,
            "border": null,
            "bottom": null,
            "display": null,
            "flex": null,
            "flex_flow": null,
            "grid_area": null,
            "grid_auto_columns": null,
            "grid_auto_flow": null,
            "grid_auto_rows": null,
            "grid_column": null,
            "grid_gap": null,
            "grid_row": null,
            "grid_template_areas": null,
            "grid_template_columns": null,
            "grid_template_rows": null,
            "height": null,
            "justify_content": null,
            "justify_items": null,
            "left": null,
            "margin": null,
            "max_height": null,
            "max_width": null,
            "min_height": null,
            "min_width": null,
            "object_fit": null,
            "object_position": null,
            "order": null,
            "overflow": null,
            "overflow_x": null,
            "overflow_y": null,
            "padding": null,
            "right": null,
            "top": null,
            "visibility": null,
            "width": null
          }
        },
        "bd6248d08d964166b167144db5482820": {
          "model_module": "@jupyter-widgets/controls",
          "model_name": "DescriptionStyleModel",
          "model_module_version": "1.5.0",
          "state": {
            "_model_module": "@jupyter-widgets/controls",
            "_model_module_version": "1.5.0",
            "_model_name": "DescriptionStyleModel",
            "_view_count": null,
            "_view_module": "@jupyter-widgets/base",
            "_view_module_version": "1.2.0",
            "_view_name": "StyleView",
            "description_width": ""
          }
        },
        "8aedf2bebaac4374966dce1a2d690490": {
          "model_module": "@jupyter-widgets/base",
          "model_name": "LayoutModel",
          "model_module_version": "1.2.0",
          "state": {
            "_model_module": "@jupyter-widgets/base",
            "_model_module_version": "1.2.0",
            "_model_name": "LayoutModel",
            "_view_count": null,
            "_view_module": "@jupyter-widgets/base",
            "_view_module_version": "1.2.0",
            "_view_name": "LayoutView",
            "align_content": null,
            "align_items": null,
            "align_self": null,
            "border": null,
            "bottom": null,
            "display": null,
            "flex": null,
            "flex_flow": null,
            "grid_area": null,
            "grid_auto_columns": null,
            "grid_auto_flow": null,
            "grid_auto_rows": null,
            "grid_column": null,
            "grid_gap": null,
            "grid_row": null,
            "grid_template_areas": null,
            "grid_template_columns": null,
            "grid_template_rows": null,
            "height": null,
            "justify_content": null,
            "justify_items": null,
            "left": null,
            "margin": null,
            "max_height": null,
            "max_width": null,
            "min_height": null,
            "min_width": null,
            "object_fit": null,
            "object_position": null,
            "order": null,
            "overflow": null,
            "overflow_x": null,
            "overflow_y": null,
            "padding": null,
            "right": null,
            "top": null,
            "visibility": null,
            "width": null
          }
        },
        "ff537c07a45746458527f467c480c10f": {
          "model_module": "@jupyter-widgets/controls",
          "model_name": "ProgressStyleModel",
          "model_module_version": "1.5.0",
          "state": {
            "_model_module": "@jupyter-widgets/controls",
            "_model_module_version": "1.5.0",
            "_model_name": "ProgressStyleModel",
            "_view_count": null,
            "_view_module": "@jupyter-widgets/base",
            "_view_module_version": "1.2.0",
            "_view_name": "StyleView",
            "bar_color": null,
            "description_width": ""
          }
        },
        "5f26dda9058f442f9c5f38289f6a6bdd": {
          "model_module": "@jupyter-widgets/base",
          "model_name": "LayoutModel",
          "model_module_version": "1.2.0",
          "state": {
            "_model_module": "@jupyter-widgets/base",
            "_model_module_version": "1.2.0",
            "_model_name": "LayoutModel",
            "_view_count": null,
            "_view_module": "@jupyter-widgets/base",
            "_view_module_version": "1.2.0",
            "_view_name": "LayoutView",
            "align_content": null,
            "align_items": null,
            "align_self": null,
            "border": null,
            "bottom": null,
            "display": null,
            "flex": null,
            "flex_flow": null,
            "grid_area": null,
            "grid_auto_columns": null,
            "grid_auto_flow": null,
            "grid_auto_rows": null,
            "grid_column": null,
            "grid_gap": null,
            "grid_row": null,
            "grid_template_areas": null,
            "grid_template_columns": null,
            "grid_template_rows": null,
            "height": null,
            "justify_content": null,
            "justify_items": null,
            "left": null,
            "margin": null,
            "max_height": null,
            "max_width": null,
            "min_height": null,
            "min_width": null,
            "object_fit": null,
            "object_position": null,
            "order": null,
            "overflow": null,
            "overflow_x": null,
            "overflow_y": null,
            "padding": null,
            "right": null,
            "top": null,
            "visibility": null,
            "width": null
          }
        },
        "6dd8ed66fdf84a918a113b1bfdbc844c": {
          "model_module": "@jupyter-widgets/controls",
          "model_name": "DescriptionStyleModel",
          "model_module_version": "1.5.0",
          "state": {
            "_model_module": "@jupyter-widgets/controls",
            "_model_module_version": "1.5.0",
            "_model_name": "DescriptionStyleModel",
            "_view_count": null,
            "_view_module": "@jupyter-widgets/base",
            "_view_module_version": "1.2.0",
            "_view_name": "StyleView",
            "description_width": ""
          }
        },
        "e7dd543c4dd44ec181c8a45954273cd2": {
          "model_module": "@jupyter-widgets/controls",
          "model_name": "HBoxModel",
          "model_module_version": "1.5.0",
          "state": {
            "_dom_classes": [],
            "_model_module": "@jupyter-widgets/controls",
            "_model_module_version": "1.5.0",
            "_model_name": "HBoxModel",
            "_view_count": null,
            "_view_module": "@jupyter-widgets/controls",
            "_view_module_version": "1.5.0",
            "_view_name": "HBoxView",
            "box_style": "",
            "children": [
              "IPY_MODEL_a733fc319fb04be699d79dea298b6479",
              "IPY_MODEL_9623d9cb97c045609e2267f9440dd8bd",
              "IPY_MODEL_161e07ae64fa4ff186e29f93f3f0c392"
            ],
            "layout": "IPY_MODEL_a40626bee89e44ed8cff9ae6fb1170d9"
          }
        },
        "a733fc319fb04be699d79dea298b6479": {
          "model_module": "@jupyter-widgets/controls",
          "model_name": "HTMLModel",
          "model_module_version": "1.5.0",
          "state": {
            "_dom_classes": [],
            "_model_module": "@jupyter-widgets/controls",
            "_model_module_version": "1.5.0",
            "_model_name": "HTMLModel",
            "_view_count": null,
            "_view_module": "@jupyter-widgets/controls",
            "_view_module_version": "1.5.0",
            "_view_name": "HTMLView",
            "description": "",
            "description_tooltip": null,
            "layout": "IPY_MODEL_40e832a750d84f1c96488b3f6a0b17a7",
            "placeholder": "​",
            "style": "IPY_MODEL_2e86a89b021f43c3a65d8f4114bf88ed",
            "value": "Map: 100%"
          }
        },
        "9623d9cb97c045609e2267f9440dd8bd": {
          "model_module": "@jupyter-widgets/controls",
          "model_name": "FloatProgressModel",
          "model_module_version": "1.5.0",
          "state": {
            "_dom_classes": [],
            "_model_module": "@jupyter-widgets/controls",
            "_model_module_version": "1.5.0",
            "_model_name": "FloatProgressModel",
            "_view_count": null,
            "_view_module": "@jupyter-widgets/controls",
            "_view_module_version": "1.5.0",
            "_view_name": "ProgressView",
            "bar_style": "success",
            "description": "",
            "description_tooltip": null,
            "layout": "IPY_MODEL_130a8038864b484ab851e310fdbcda38",
            "max": 1007,
            "min": 0,
            "orientation": "horizontal",
            "style": "IPY_MODEL_3379eadcbd8e48fea2fa987b9bfe0eb4",
            "value": 1007
          }
        },
        "161e07ae64fa4ff186e29f93f3f0c392": {
          "model_module": "@jupyter-widgets/controls",
          "model_name": "HTMLModel",
          "model_module_version": "1.5.0",
          "state": {
            "_dom_classes": [],
            "_model_module": "@jupyter-widgets/controls",
            "_model_module_version": "1.5.0",
            "_model_name": "HTMLModel",
            "_view_count": null,
            "_view_module": "@jupyter-widgets/controls",
            "_view_module_version": "1.5.0",
            "_view_name": "HTMLView",
            "description": "",
            "description_tooltip": null,
            "layout": "IPY_MODEL_36d05d38459849c9a02a3dd6979544c7",
            "placeholder": "​",
            "style": "IPY_MODEL_3856f7ea206f4a438061d80d6545cdbd",
            "value": " 1007/1007 [00:00&lt;00:00, 10112.44 examples/s]"
          }
        },
        "a40626bee89e44ed8cff9ae6fb1170d9": {
          "model_module": "@jupyter-widgets/base",
          "model_name": "LayoutModel",
          "model_module_version": "1.2.0",
          "state": {
            "_model_module": "@jupyter-widgets/base",
            "_model_module_version": "1.2.0",
            "_model_name": "LayoutModel",
            "_view_count": null,
            "_view_module": "@jupyter-widgets/base",
            "_view_module_version": "1.2.0",
            "_view_name": "LayoutView",
            "align_content": null,
            "align_items": null,
            "align_self": null,
            "border": null,
            "bottom": null,
            "display": null,
            "flex": null,
            "flex_flow": null,
            "grid_area": null,
            "grid_auto_columns": null,
            "grid_auto_flow": null,
            "grid_auto_rows": null,
            "grid_column": null,
            "grid_gap": null,
            "grid_row": null,
            "grid_template_areas": null,
            "grid_template_columns": null,
            "grid_template_rows": null,
            "height": null,
            "justify_content": null,
            "justify_items": null,
            "left": null,
            "margin": null,
            "max_height": null,
            "max_width": null,
            "min_height": null,
            "min_width": null,
            "object_fit": null,
            "object_position": null,
            "order": null,
            "overflow": null,
            "overflow_x": null,
            "overflow_y": null,
            "padding": null,
            "right": null,
            "top": null,
            "visibility": null,
            "width": null
          }
        },
        "40e832a750d84f1c96488b3f6a0b17a7": {
          "model_module": "@jupyter-widgets/base",
          "model_name": "LayoutModel",
          "model_module_version": "1.2.0",
          "state": {
            "_model_module": "@jupyter-widgets/base",
            "_model_module_version": "1.2.0",
            "_model_name": "LayoutModel",
            "_view_count": null,
            "_view_module": "@jupyter-widgets/base",
            "_view_module_version": "1.2.0",
            "_view_name": "LayoutView",
            "align_content": null,
            "align_items": null,
            "align_self": null,
            "border": null,
            "bottom": null,
            "display": null,
            "flex": null,
            "flex_flow": null,
            "grid_area": null,
            "grid_auto_columns": null,
            "grid_auto_flow": null,
            "grid_auto_rows": null,
            "grid_column": null,
            "grid_gap": null,
            "grid_row": null,
            "grid_template_areas": null,
            "grid_template_columns": null,
            "grid_template_rows": null,
            "height": null,
            "justify_content": null,
            "justify_items": null,
            "left": null,
            "margin": null,
            "max_height": null,
            "max_width": null,
            "min_height": null,
            "min_width": null,
            "object_fit": null,
            "object_position": null,
            "order": null,
            "overflow": null,
            "overflow_x": null,
            "overflow_y": null,
            "padding": null,
            "right": null,
            "top": null,
            "visibility": null,
            "width": null
          }
        },
        "2e86a89b021f43c3a65d8f4114bf88ed": {
          "model_module": "@jupyter-widgets/controls",
          "model_name": "DescriptionStyleModel",
          "model_module_version": "1.5.0",
          "state": {
            "_model_module": "@jupyter-widgets/controls",
            "_model_module_version": "1.5.0",
            "_model_name": "DescriptionStyleModel",
            "_view_count": null,
            "_view_module": "@jupyter-widgets/base",
            "_view_module_version": "1.2.0",
            "_view_name": "StyleView",
            "description_width": ""
          }
        },
        "130a8038864b484ab851e310fdbcda38": {
          "model_module": "@jupyter-widgets/base",
          "model_name": "LayoutModel",
          "model_module_version": "1.2.0",
          "state": {
            "_model_module": "@jupyter-widgets/base",
            "_model_module_version": "1.2.0",
            "_model_name": "LayoutModel",
            "_view_count": null,
            "_view_module": "@jupyter-widgets/base",
            "_view_module_version": "1.2.0",
            "_view_name": "LayoutView",
            "align_content": null,
            "align_items": null,
            "align_self": null,
            "border": null,
            "bottom": null,
            "display": null,
            "flex": null,
            "flex_flow": null,
            "grid_area": null,
            "grid_auto_columns": null,
            "grid_auto_flow": null,
            "grid_auto_rows": null,
            "grid_column": null,
            "grid_gap": null,
            "grid_row": null,
            "grid_template_areas": null,
            "grid_template_columns": null,
            "grid_template_rows": null,
            "height": null,
            "justify_content": null,
            "justify_items": null,
            "left": null,
            "margin": null,
            "max_height": null,
            "max_width": null,
            "min_height": null,
            "min_width": null,
            "object_fit": null,
            "object_position": null,
            "order": null,
            "overflow": null,
            "overflow_x": null,
            "overflow_y": null,
            "padding": null,
            "right": null,
            "top": null,
            "visibility": null,
            "width": null
          }
        },
        "3379eadcbd8e48fea2fa987b9bfe0eb4": {
          "model_module": "@jupyter-widgets/controls",
          "model_name": "ProgressStyleModel",
          "model_module_version": "1.5.0",
          "state": {
            "_model_module": "@jupyter-widgets/controls",
            "_model_module_version": "1.5.0",
            "_model_name": "ProgressStyleModel",
            "_view_count": null,
            "_view_module": "@jupyter-widgets/base",
            "_view_module_version": "1.2.0",
            "_view_name": "StyleView",
            "bar_color": null,
            "description_width": ""
          }
        },
        "36d05d38459849c9a02a3dd6979544c7": {
          "model_module": "@jupyter-widgets/base",
          "model_name": "LayoutModel",
          "model_module_version": "1.2.0",
          "state": {
            "_model_module": "@jupyter-widgets/base",
            "_model_module_version": "1.2.0",
            "_model_name": "LayoutModel",
            "_view_count": null,
            "_view_module": "@jupyter-widgets/base",
            "_view_module_version": "1.2.0",
            "_view_name": "LayoutView",
            "align_content": null,
            "align_items": null,
            "align_self": null,
            "border": null,
            "bottom": null,
            "display": null,
            "flex": null,
            "flex_flow": null,
            "grid_area": null,
            "grid_auto_columns": null,
            "grid_auto_flow": null,
            "grid_auto_rows": null,
            "grid_column": null,
            "grid_gap": null,
            "grid_row": null,
            "grid_template_areas": null,
            "grid_template_columns": null,
            "grid_template_rows": null,
            "height": null,
            "justify_content": null,
            "justify_items": null,
            "left": null,
            "margin": null,
            "max_height": null,
            "max_width": null,
            "min_height": null,
            "min_width": null,
            "object_fit": null,
            "object_position": null,
            "order": null,
            "overflow": null,
            "overflow_x": null,
            "overflow_y": null,
            "padding": null,
            "right": null,
            "top": null,
            "visibility": null,
            "width": null
          }
        },
        "3856f7ea206f4a438061d80d6545cdbd": {
          "model_module": "@jupyter-widgets/controls",
          "model_name": "DescriptionStyleModel",
          "model_module_version": "1.5.0",
          "state": {
            "_model_module": "@jupyter-widgets/controls",
            "_model_module_version": "1.5.0",
            "_model_name": "DescriptionStyleModel",
            "_view_count": null,
            "_view_module": "@jupyter-widgets/base",
            "_view_module_version": "1.2.0",
            "_view_name": "StyleView",
            "description_width": ""
          }
        },
        "830aa62e4e4d478f88ebd3890079e7ef": {
          "model_module": "@jupyter-widgets/controls",
          "model_name": "HBoxModel",
          "model_module_version": "1.5.0",
          "state": {
            "_dom_classes": [],
            "_model_module": "@jupyter-widgets/controls",
            "_model_module_version": "1.5.0",
            "_model_name": "HBoxModel",
            "_view_count": null,
            "_view_module": "@jupyter-widgets/controls",
            "_view_module_version": "1.5.0",
            "_view_name": "HBoxView",
            "box_style": "",
            "children": [
              "IPY_MODEL_3cefc96e240e4a64a5bef3c7a07f9b2e",
              "IPY_MODEL_be5fb10a82ce4f66b3defb75fc7f49b7",
              "IPY_MODEL_906a0ab7b8c748a39725e06f570477cc"
            ],
            "layout": "IPY_MODEL_3fad6994233948448db26feba84c97b6"
          }
        },
        "3cefc96e240e4a64a5bef3c7a07f9b2e": {
          "model_module": "@jupyter-widgets/controls",
          "model_name": "HTMLModel",
          "model_module_version": "1.5.0",
          "state": {
            "_dom_classes": [],
            "_model_module": "@jupyter-widgets/controls",
            "_model_module_version": "1.5.0",
            "_model_name": "HTMLModel",
            "_view_count": null,
            "_view_module": "@jupyter-widgets/controls",
            "_view_module_version": "1.5.0",
            "_view_name": "HTMLView",
            "description": "",
            "description_tooltip": null,
            "layout": "IPY_MODEL_1d62c0ab570b4cce8368a33cff675187",
            "placeholder": "​",
            "style": "IPY_MODEL_c2305460905347b1ad42bfe756fb51ff",
            "value": "Map: 100%"
          }
        },
        "be5fb10a82ce4f66b3defb75fc7f49b7": {
          "model_module": "@jupyter-widgets/controls",
          "model_name": "FloatProgressModel",
          "model_module_version": "1.5.0",
          "state": {
            "_dom_classes": [],
            "_model_module": "@jupyter-widgets/controls",
            "_model_module_version": "1.5.0",
            "_model_name": "FloatProgressModel",
            "_view_count": null,
            "_view_module": "@jupyter-widgets/controls",
            "_view_module_version": "1.5.0",
            "_view_name": "ProgressView",
            "bar_style": "success",
            "description": "",
            "description_tooltip": null,
            "layout": "IPY_MODEL_dcd63964152c4d30a958636bda773389",
            "max": 1007,
            "min": 0,
            "orientation": "horizontal",
            "style": "IPY_MODEL_620e049a0d004d6595de9e001f50e814",
            "value": 1007
          }
        },
        "906a0ab7b8c748a39725e06f570477cc": {
          "model_module": "@jupyter-widgets/controls",
          "model_name": "HTMLModel",
          "model_module_version": "1.5.0",
          "state": {
            "_dom_classes": [],
            "_model_module": "@jupyter-widgets/controls",
            "_model_module_version": "1.5.0",
            "_model_name": "HTMLModel",
            "_view_count": null,
            "_view_module": "@jupyter-widgets/controls",
            "_view_module_version": "1.5.0",
            "_view_name": "HTMLView",
            "description": "",
            "description_tooltip": null,
            "layout": "IPY_MODEL_ce88445963ab4c2a8fddbdf13ec2b1fe",
            "placeholder": "​",
            "style": "IPY_MODEL_235d793fce6240de8fc1ee0843c6f414",
            "value": " 1007/1007 [00:00&lt;00:00, 4833.04 examples/s]"
          }
        },
        "3fad6994233948448db26feba84c97b6": {
          "model_module": "@jupyter-widgets/base",
          "model_name": "LayoutModel",
          "model_module_version": "1.2.0",
          "state": {
            "_model_module": "@jupyter-widgets/base",
            "_model_module_version": "1.2.0",
            "_model_name": "LayoutModel",
            "_view_count": null,
            "_view_module": "@jupyter-widgets/base",
            "_view_module_version": "1.2.0",
            "_view_name": "LayoutView",
            "align_content": null,
            "align_items": null,
            "align_self": null,
            "border": null,
            "bottom": null,
            "display": null,
            "flex": null,
            "flex_flow": null,
            "grid_area": null,
            "grid_auto_columns": null,
            "grid_auto_flow": null,
            "grid_auto_rows": null,
            "grid_column": null,
            "grid_gap": null,
            "grid_row": null,
            "grid_template_areas": null,
            "grid_template_columns": null,
            "grid_template_rows": null,
            "height": null,
            "justify_content": null,
            "justify_items": null,
            "left": null,
            "margin": null,
            "max_height": null,
            "max_width": null,
            "min_height": null,
            "min_width": null,
            "object_fit": null,
            "object_position": null,
            "order": null,
            "overflow": null,
            "overflow_x": null,
            "overflow_y": null,
            "padding": null,
            "right": null,
            "top": null,
            "visibility": null,
            "width": null
          }
        },
        "1d62c0ab570b4cce8368a33cff675187": {
          "model_module": "@jupyter-widgets/base",
          "model_name": "LayoutModel",
          "model_module_version": "1.2.0",
          "state": {
            "_model_module": "@jupyter-widgets/base",
            "_model_module_version": "1.2.0",
            "_model_name": "LayoutModel",
            "_view_count": null,
            "_view_module": "@jupyter-widgets/base",
            "_view_module_version": "1.2.0",
            "_view_name": "LayoutView",
            "align_content": null,
            "align_items": null,
            "align_self": null,
            "border": null,
            "bottom": null,
            "display": null,
            "flex": null,
            "flex_flow": null,
            "grid_area": null,
            "grid_auto_columns": null,
            "grid_auto_flow": null,
            "grid_auto_rows": null,
            "grid_column": null,
            "grid_gap": null,
            "grid_row": null,
            "grid_template_areas": null,
            "grid_template_columns": null,
            "grid_template_rows": null,
            "height": null,
            "justify_content": null,
            "justify_items": null,
            "left": null,
            "margin": null,
            "max_height": null,
            "max_width": null,
            "min_height": null,
            "min_width": null,
            "object_fit": null,
            "object_position": null,
            "order": null,
            "overflow": null,
            "overflow_x": null,
            "overflow_y": null,
            "padding": null,
            "right": null,
            "top": null,
            "visibility": null,
            "width": null
          }
        },
        "c2305460905347b1ad42bfe756fb51ff": {
          "model_module": "@jupyter-widgets/controls",
          "model_name": "DescriptionStyleModel",
          "model_module_version": "1.5.0",
          "state": {
            "_model_module": "@jupyter-widgets/controls",
            "_model_module_version": "1.5.0",
            "_model_name": "DescriptionStyleModel",
            "_view_count": null,
            "_view_module": "@jupyter-widgets/base",
            "_view_module_version": "1.2.0",
            "_view_name": "StyleView",
            "description_width": ""
          }
        },
        "dcd63964152c4d30a958636bda773389": {
          "model_module": "@jupyter-widgets/base",
          "model_name": "LayoutModel",
          "model_module_version": "1.2.0",
          "state": {
            "_model_module": "@jupyter-widgets/base",
            "_model_module_version": "1.2.0",
            "_model_name": "LayoutModel",
            "_view_count": null,
            "_view_module": "@jupyter-widgets/base",
            "_view_module_version": "1.2.0",
            "_view_name": "LayoutView",
            "align_content": null,
            "align_items": null,
            "align_self": null,
            "border": null,
            "bottom": null,
            "display": null,
            "flex": null,
            "flex_flow": null,
            "grid_area": null,
            "grid_auto_columns": null,
            "grid_auto_flow": null,
            "grid_auto_rows": null,
            "grid_column": null,
            "grid_gap": null,
            "grid_row": null,
            "grid_template_areas": null,
            "grid_template_columns": null,
            "grid_template_rows": null,
            "height": null,
            "justify_content": null,
            "justify_items": null,
            "left": null,
            "margin": null,
            "max_height": null,
            "max_width": null,
            "min_height": null,
            "min_width": null,
            "object_fit": null,
            "object_position": null,
            "order": null,
            "overflow": null,
            "overflow_x": null,
            "overflow_y": null,
            "padding": null,
            "right": null,
            "top": null,
            "visibility": null,
            "width": null
          }
        },
        "620e049a0d004d6595de9e001f50e814": {
          "model_module": "@jupyter-widgets/controls",
          "model_name": "ProgressStyleModel",
          "model_module_version": "1.5.0",
          "state": {
            "_model_module": "@jupyter-widgets/controls",
            "_model_module_version": "1.5.0",
            "_model_name": "ProgressStyleModel",
            "_view_count": null,
            "_view_module": "@jupyter-widgets/base",
            "_view_module_version": "1.2.0",
            "_view_name": "StyleView",
            "bar_color": null,
            "description_width": ""
          }
        },
        "ce88445963ab4c2a8fddbdf13ec2b1fe": {
          "model_module": "@jupyter-widgets/base",
          "model_name": "LayoutModel",
          "model_module_version": "1.2.0",
          "state": {
            "_model_module": "@jupyter-widgets/base",
            "_model_module_version": "1.2.0",
            "_model_name": "LayoutModel",
            "_view_count": null,
            "_view_module": "@jupyter-widgets/base",
            "_view_module_version": "1.2.0",
            "_view_name": "LayoutView",
            "align_content": null,
            "align_items": null,
            "align_self": null,
            "border": null,
            "bottom": null,
            "display": null,
            "flex": null,
            "flex_flow": null,
            "grid_area": null,
            "grid_auto_columns": null,
            "grid_auto_flow": null,
            "grid_auto_rows": null,
            "grid_column": null,
            "grid_gap": null,
            "grid_row": null,
            "grid_template_areas": null,
            "grid_template_columns": null,
            "grid_template_rows": null,
            "height": null,
            "justify_content": null,
            "justify_items": null,
            "left": null,
            "margin": null,
            "max_height": null,
            "max_width": null,
            "min_height": null,
            "min_width": null,
            "object_fit": null,
            "object_position": null,
            "order": null,
            "overflow": null,
            "overflow_x": null,
            "overflow_y": null,
            "padding": null,
            "right": null,
            "top": null,
            "visibility": null,
            "width": null
          }
        },
        "235d793fce6240de8fc1ee0843c6f414": {
          "model_module": "@jupyter-widgets/controls",
          "model_name": "DescriptionStyleModel",
          "model_module_version": "1.5.0",
          "state": {
            "_model_module": "@jupyter-widgets/controls",
            "_model_module_version": "1.5.0",
            "_model_name": "DescriptionStyleModel",
            "_view_count": null,
            "_view_module": "@jupyter-widgets/base",
            "_view_module_version": "1.2.0",
            "_view_name": "StyleView",
            "description_width": ""
          }
        },
        "c32a68b6e1184f63a70f0e990e686e19": {
          "model_module": "@jupyter-widgets/controls",
          "model_name": "HBoxModel",
          "model_module_version": "1.5.0",
          "state": {
            "_dom_classes": [],
            "_model_module": "@jupyter-widgets/controls",
            "_model_module_version": "1.5.0",
            "_model_name": "HBoxModel",
            "_view_count": null,
            "_view_module": "@jupyter-widgets/controls",
            "_view_module_version": "1.5.0",
            "_view_name": "HBoxView",
            "box_style": "",
            "children": [
              "IPY_MODEL_53272b03a4eb48e78751751f8c044273",
              "IPY_MODEL_bd23391931494832b38b6dbc14151c00",
              "IPY_MODEL_07fee93151a94dfc83696518cd98abe7"
            ],
            "layout": "IPY_MODEL_e0efc88d32e84623a761ec5a62501eba"
          }
        },
        "53272b03a4eb48e78751751f8c044273": {
          "model_module": "@jupyter-widgets/controls",
          "model_name": "HTMLModel",
          "model_module_version": "1.5.0",
          "state": {
            "_dom_classes": [],
            "_model_module": "@jupyter-widgets/controls",
            "_model_module_version": "1.5.0",
            "_model_name": "HTMLModel",
            "_view_count": null,
            "_view_module": "@jupyter-widgets/controls",
            "_view_module_version": "1.5.0",
            "_view_name": "HTMLView",
            "description": "",
            "description_tooltip": null,
            "layout": "IPY_MODEL_842826f2819840eb9975bd021700277a",
            "placeholder": "​",
            "style": "IPY_MODEL_3859aae1d9f84e57adb60196abb08e31",
            "value": "Map: 100%"
          }
        },
        "bd23391931494832b38b6dbc14151c00": {
          "model_module": "@jupyter-widgets/controls",
          "model_name": "FloatProgressModel",
          "model_module_version": "1.5.0",
          "state": {
            "_dom_classes": [],
            "_model_module": "@jupyter-widgets/controls",
            "_model_module_version": "1.5.0",
            "_model_name": "FloatProgressModel",
            "_view_count": null,
            "_view_module": "@jupyter-widgets/controls",
            "_view_module_version": "1.5.0",
            "_view_name": "ProgressView",
            "bar_style": "success",
            "description": "",
            "description_tooltip": null,
            "layout": "IPY_MODEL_e863d5d211b84bf2876d0f9ce8b469d6",
            "max": 1007,
            "min": 0,
            "orientation": "horizontal",
            "style": "IPY_MODEL_42aa7c3a0615498eaab5d89a02226d91",
            "value": 1007
          }
        },
        "07fee93151a94dfc83696518cd98abe7": {
          "model_module": "@jupyter-widgets/controls",
          "model_name": "HTMLModel",
          "model_module_version": "1.5.0",
          "state": {
            "_dom_classes": [],
            "_model_module": "@jupyter-widgets/controls",
            "_model_module_version": "1.5.0",
            "_model_name": "HTMLModel",
            "_view_count": null,
            "_view_module": "@jupyter-widgets/controls",
            "_view_module_version": "1.5.0",
            "_view_name": "HTMLView",
            "description": "",
            "description_tooltip": null,
            "layout": "IPY_MODEL_85fafafb213446beab72a9693884f11b",
            "placeholder": "​",
            "style": "IPY_MODEL_305f865bf12d4fdabf5eb4d1c8c93de2",
            "value": " 1007/1007 [00:00&lt;00:00, 3001.51 examples/s]"
          }
        },
        "e0efc88d32e84623a761ec5a62501eba": {
          "model_module": "@jupyter-widgets/base",
          "model_name": "LayoutModel",
          "model_module_version": "1.2.0",
          "state": {
            "_model_module": "@jupyter-widgets/base",
            "_model_module_version": "1.2.0",
            "_model_name": "LayoutModel",
            "_view_count": null,
            "_view_module": "@jupyter-widgets/base",
            "_view_module_version": "1.2.0",
            "_view_name": "LayoutView",
            "align_content": null,
            "align_items": null,
            "align_self": null,
            "border": null,
            "bottom": null,
            "display": null,
            "flex": null,
            "flex_flow": null,
            "grid_area": null,
            "grid_auto_columns": null,
            "grid_auto_flow": null,
            "grid_auto_rows": null,
            "grid_column": null,
            "grid_gap": null,
            "grid_row": null,
            "grid_template_areas": null,
            "grid_template_columns": null,
            "grid_template_rows": null,
            "height": null,
            "justify_content": null,
            "justify_items": null,
            "left": null,
            "margin": null,
            "max_height": null,
            "max_width": null,
            "min_height": null,
            "min_width": null,
            "object_fit": null,
            "object_position": null,
            "order": null,
            "overflow": null,
            "overflow_x": null,
            "overflow_y": null,
            "padding": null,
            "right": null,
            "top": null,
            "visibility": null,
            "width": null
          }
        },
        "842826f2819840eb9975bd021700277a": {
          "model_module": "@jupyter-widgets/base",
          "model_name": "LayoutModel",
          "model_module_version": "1.2.0",
          "state": {
            "_model_module": "@jupyter-widgets/base",
            "_model_module_version": "1.2.0",
            "_model_name": "LayoutModel",
            "_view_count": null,
            "_view_module": "@jupyter-widgets/base",
            "_view_module_version": "1.2.0",
            "_view_name": "LayoutView",
            "align_content": null,
            "align_items": null,
            "align_self": null,
            "border": null,
            "bottom": null,
            "display": null,
            "flex": null,
            "flex_flow": null,
            "grid_area": null,
            "grid_auto_columns": null,
            "grid_auto_flow": null,
            "grid_auto_rows": null,
            "grid_column": null,
            "grid_gap": null,
            "grid_row": null,
            "grid_template_areas": null,
            "grid_template_columns": null,
            "grid_template_rows": null,
            "height": null,
            "justify_content": null,
            "justify_items": null,
            "left": null,
            "margin": null,
            "max_height": null,
            "max_width": null,
            "min_height": null,
            "min_width": null,
            "object_fit": null,
            "object_position": null,
            "order": null,
            "overflow": null,
            "overflow_x": null,
            "overflow_y": null,
            "padding": null,
            "right": null,
            "top": null,
            "visibility": null,
            "width": null
          }
        },
        "3859aae1d9f84e57adb60196abb08e31": {
          "model_module": "@jupyter-widgets/controls",
          "model_name": "DescriptionStyleModel",
          "model_module_version": "1.5.0",
          "state": {
            "_model_module": "@jupyter-widgets/controls",
            "_model_module_version": "1.5.0",
            "_model_name": "DescriptionStyleModel",
            "_view_count": null,
            "_view_module": "@jupyter-widgets/base",
            "_view_module_version": "1.2.0",
            "_view_name": "StyleView",
            "description_width": ""
          }
        },
        "e863d5d211b84bf2876d0f9ce8b469d6": {
          "model_module": "@jupyter-widgets/base",
          "model_name": "LayoutModel",
          "model_module_version": "1.2.0",
          "state": {
            "_model_module": "@jupyter-widgets/base",
            "_model_module_version": "1.2.0",
            "_model_name": "LayoutModel",
            "_view_count": null,
            "_view_module": "@jupyter-widgets/base",
            "_view_module_version": "1.2.0",
            "_view_name": "LayoutView",
            "align_content": null,
            "align_items": null,
            "align_self": null,
            "border": null,
            "bottom": null,
            "display": null,
            "flex": null,
            "flex_flow": null,
            "grid_area": null,
            "grid_auto_columns": null,
            "grid_auto_flow": null,
            "grid_auto_rows": null,
            "grid_column": null,
            "grid_gap": null,
            "grid_row": null,
            "grid_template_areas": null,
            "grid_template_columns": null,
            "grid_template_rows": null,
            "height": null,
            "justify_content": null,
            "justify_items": null,
            "left": null,
            "margin": null,
            "max_height": null,
            "max_width": null,
            "min_height": null,
            "min_width": null,
            "object_fit": null,
            "object_position": null,
            "order": null,
            "overflow": null,
            "overflow_x": null,
            "overflow_y": null,
            "padding": null,
            "right": null,
            "top": null,
            "visibility": null,
            "width": null
          }
        },
        "42aa7c3a0615498eaab5d89a02226d91": {
          "model_module": "@jupyter-widgets/controls",
          "model_name": "ProgressStyleModel",
          "model_module_version": "1.5.0",
          "state": {
            "_model_module": "@jupyter-widgets/controls",
            "_model_module_version": "1.5.0",
            "_model_name": "ProgressStyleModel",
            "_view_count": null,
            "_view_module": "@jupyter-widgets/base",
            "_view_module_version": "1.2.0",
            "_view_name": "StyleView",
            "bar_color": null,
            "description_width": ""
          }
        },
        "85fafafb213446beab72a9693884f11b": {
          "model_module": "@jupyter-widgets/base",
          "model_name": "LayoutModel",
          "model_module_version": "1.2.0",
          "state": {
            "_model_module": "@jupyter-widgets/base",
            "_model_module_version": "1.2.0",
            "_model_name": "LayoutModel",
            "_view_count": null,
            "_view_module": "@jupyter-widgets/base",
            "_view_module_version": "1.2.0",
            "_view_name": "LayoutView",
            "align_content": null,
            "align_items": null,
            "align_self": null,
            "border": null,
            "bottom": null,
            "display": null,
            "flex": null,
            "flex_flow": null,
            "grid_area": null,
            "grid_auto_columns": null,
            "grid_auto_flow": null,
            "grid_auto_rows": null,
            "grid_column": null,
            "grid_gap": null,
            "grid_row": null,
            "grid_template_areas": null,
            "grid_template_columns": null,
            "grid_template_rows": null,
            "height": null,
            "justify_content": null,
            "justify_items": null,
            "left": null,
            "margin": null,
            "max_height": null,
            "max_width": null,
            "min_height": null,
            "min_width": null,
            "object_fit": null,
            "object_position": null,
            "order": null,
            "overflow": null,
            "overflow_x": null,
            "overflow_y": null,
            "padding": null,
            "right": null,
            "top": null,
            "visibility": null,
            "width": null
          }
        },
        "305f865bf12d4fdabf5eb4d1c8c93de2": {
          "model_module": "@jupyter-widgets/controls",
          "model_name": "DescriptionStyleModel",
          "model_module_version": "1.5.0",
          "state": {
            "_model_module": "@jupyter-widgets/controls",
            "_model_module_version": "1.5.0",
            "_model_name": "DescriptionStyleModel",
            "_view_count": null,
            "_view_module": "@jupyter-widgets/base",
            "_view_module_version": "1.2.0",
            "_view_name": "StyleView",
            "description_width": ""
          }
        },
        "432ee2c8d42040ddb30c92b1152bc35f": {
          "model_module": "@jupyter-widgets/controls",
          "model_name": "HBoxModel",
          "model_module_version": "1.5.0",
          "state": {
            "_dom_classes": [],
            "_model_module": "@jupyter-widgets/controls",
            "_model_module_version": "1.5.0",
            "_model_name": "HBoxModel",
            "_view_count": null,
            "_view_module": "@jupyter-widgets/controls",
            "_view_module_version": "1.5.0",
            "_view_name": "HBoxView",
            "box_style": "",
            "children": [
              "IPY_MODEL_80fde84e016a40fcb52c03bd8e58552c",
              "IPY_MODEL_397387035e0b43969606ce77d3496f7b",
              "IPY_MODEL_aedb433878804767961d82f1e004499b"
            ],
            "layout": "IPY_MODEL_3673aa36c3a244faa83ef328f893ec72"
          }
        },
        "80fde84e016a40fcb52c03bd8e58552c": {
          "model_module": "@jupyter-widgets/controls",
          "model_name": "HTMLModel",
          "model_module_version": "1.5.0",
          "state": {
            "_dom_classes": [],
            "_model_module": "@jupyter-widgets/controls",
            "_model_module_version": "1.5.0",
            "_model_name": "HTMLModel",
            "_view_count": null,
            "_view_module": "@jupyter-widgets/controls",
            "_view_module_version": "1.5.0",
            "_view_name": "HTMLView",
            "description": "",
            "description_tooltip": null,
            "layout": "IPY_MODEL_6cd2cf754d6c493d834f9df0f73de822",
            "placeholder": "​",
            "style": "IPY_MODEL_16acaa1e51c14090bf96fe3c7cf42a15",
            "value": "config.json: 100%"
          }
        },
        "397387035e0b43969606ce77d3496f7b": {
          "model_module": "@jupyter-widgets/controls",
          "model_name": "FloatProgressModel",
          "model_module_version": "1.5.0",
          "state": {
            "_dom_classes": [],
            "_model_module": "@jupyter-widgets/controls",
            "_model_module_version": "1.5.0",
            "_model_name": "FloatProgressModel",
            "_view_count": null,
            "_view_module": "@jupyter-widgets/controls",
            "_view_module_version": "1.5.0",
            "_view_name": "ProgressView",
            "bar_style": "success",
            "description": "",
            "description_tooltip": null,
            "layout": "IPY_MODEL_a7280e9bd4cb4a57ac9e6d6984f56fc3",
            "max": 596,
            "min": 0,
            "orientation": "horizontal",
            "style": "IPY_MODEL_9d898933f0604b58a2d7209982871153",
            "value": 596
          }
        },
        "aedb433878804767961d82f1e004499b": {
          "model_module": "@jupyter-widgets/controls",
          "model_name": "HTMLModel",
          "model_module_version": "1.5.0",
          "state": {
            "_dom_classes": [],
            "_model_module": "@jupyter-widgets/controls",
            "_model_module_version": "1.5.0",
            "_model_name": "HTMLModel",
            "_view_count": null,
            "_view_module": "@jupyter-widgets/controls",
            "_view_module_version": "1.5.0",
            "_view_name": "HTMLView",
            "description": "",
            "description_tooltip": null,
            "layout": "IPY_MODEL_aecc5cdefc734c44a5ea33d509211c18",
            "placeholder": "​",
            "style": "IPY_MODEL_277daf70a6f1499b8a45331270e617f9",
            "value": " 596/596 [00:00&lt;00:00, 57.4kB/s]"
          }
        },
        "3673aa36c3a244faa83ef328f893ec72": {
          "model_module": "@jupyter-widgets/base",
          "model_name": "LayoutModel",
          "model_module_version": "1.2.0",
          "state": {
            "_model_module": "@jupyter-widgets/base",
            "_model_module_version": "1.2.0",
            "_model_name": "LayoutModel",
            "_view_count": null,
            "_view_module": "@jupyter-widgets/base",
            "_view_module_version": "1.2.0",
            "_view_name": "LayoutView",
            "align_content": null,
            "align_items": null,
            "align_self": null,
            "border": null,
            "bottom": null,
            "display": null,
            "flex": null,
            "flex_flow": null,
            "grid_area": null,
            "grid_auto_columns": null,
            "grid_auto_flow": null,
            "grid_auto_rows": null,
            "grid_column": null,
            "grid_gap": null,
            "grid_row": null,
            "grid_template_areas": null,
            "grid_template_columns": null,
            "grid_template_rows": null,
            "height": null,
            "justify_content": null,
            "justify_items": null,
            "left": null,
            "margin": null,
            "max_height": null,
            "max_width": null,
            "min_height": null,
            "min_width": null,
            "object_fit": null,
            "object_position": null,
            "order": null,
            "overflow": null,
            "overflow_x": null,
            "overflow_y": null,
            "padding": null,
            "right": null,
            "top": null,
            "visibility": null,
            "width": null
          }
        },
        "6cd2cf754d6c493d834f9df0f73de822": {
          "model_module": "@jupyter-widgets/base",
          "model_name": "LayoutModel",
          "model_module_version": "1.2.0",
          "state": {
            "_model_module": "@jupyter-widgets/base",
            "_model_module_version": "1.2.0",
            "_model_name": "LayoutModel",
            "_view_count": null,
            "_view_module": "@jupyter-widgets/base",
            "_view_module_version": "1.2.0",
            "_view_name": "LayoutView",
            "align_content": null,
            "align_items": null,
            "align_self": null,
            "border": null,
            "bottom": null,
            "display": null,
            "flex": null,
            "flex_flow": null,
            "grid_area": null,
            "grid_auto_columns": null,
            "grid_auto_flow": null,
            "grid_auto_rows": null,
            "grid_column": null,
            "grid_gap": null,
            "grid_row": null,
            "grid_template_areas": null,
            "grid_template_columns": null,
            "grid_template_rows": null,
            "height": null,
            "justify_content": null,
            "justify_items": null,
            "left": null,
            "margin": null,
            "max_height": null,
            "max_width": null,
            "min_height": null,
            "min_width": null,
            "object_fit": null,
            "object_position": null,
            "order": null,
            "overflow": null,
            "overflow_x": null,
            "overflow_y": null,
            "padding": null,
            "right": null,
            "top": null,
            "visibility": null,
            "width": null
          }
        },
        "16acaa1e51c14090bf96fe3c7cf42a15": {
          "model_module": "@jupyter-widgets/controls",
          "model_name": "DescriptionStyleModel",
          "model_module_version": "1.5.0",
          "state": {
            "_model_module": "@jupyter-widgets/controls",
            "_model_module_version": "1.5.0",
            "_model_name": "DescriptionStyleModel",
            "_view_count": null,
            "_view_module": "@jupyter-widgets/base",
            "_view_module_version": "1.2.0",
            "_view_name": "StyleView",
            "description_width": ""
          }
        },
        "a7280e9bd4cb4a57ac9e6d6984f56fc3": {
          "model_module": "@jupyter-widgets/base",
          "model_name": "LayoutModel",
          "model_module_version": "1.2.0",
          "state": {
            "_model_module": "@jupyter-widgets/base",
            "_model_module_version": "1.2.0",
            "_model_name": "LayoutModel",
            "_view_count": null,
            "_view_module": "@jupyter-widgets/base",
            "_view_module_version": "1.2.0",
            "_view_name": "LayoutView",
            "align_content": null,
            "align_items": null,
            "align_self": null,
            "border": null,
            "bottom": null,
            "display": null,
            "flex": null,
            "flex_flow": null,
            "grid_area": null,
            "grid_auto_columns": null,
            "grid_auto_flow": null,
            "grid_auto_rows": null,
            "grid_column": null,
            "grid_gap": null,
            "grid_row": null,
            "grid_template_areas": null,
            "grid_template_columns": null,
            "grid_template_rows": null,
            "height": null,
            "justify_content": null,
            "justify_items": null,
            "left": null,
            "margin": null,
            "max_height": null,
            "max_width": null,
            "min_height": null,
            "min_width": null,
            "object_fit": null,
            "object_position": null,
            "order": null,
            "overflow": null,
            "overflow_x": null,
            "overflow_y": null,
            "padding": null,
            "right": null,
            "top": null,
            "visibility": null,
            "width": null
          }
        },
        "9d898933f0604b58a2d7209982871153": {
          "model_module": "@jupyter-widgets/controls",
          "model_name": "ProgressStyleModel",
          "model_module_version": "1.5.0",
          "state": {
            "_model_module": "@jupyter-widgets/controls",
            "_model_module_version": "1.5.0",
            "_model_name": "ProgressStyleModel",
            "_view_count": null,
            "_view_module": "@jupyter-widgets/base",
            "_view_module_version": "1.2.0",
            "_view_name": "StyleView",
            "bar_color": null,
            "description_width": ""
          }
        },
        "aecc5cdefc734c44a5ea33d509211c18": {
          "model_module": "@jupyter-widgets/base",
          "model_name": "LayoutModel",
          "model_module_version": "1.2.0",
          "state": {
            "_model_module": "@jupyter-widgets/base",
            "_model_module_version": "1.2.0",
            "_model_name": "LayoutModel",
            "_view_count": null,
            "_view_module": "@jupyter-widgets/base",
            "_view_module_version": "1.2.0",
            "_view_name": "LayoutView",
            "align_content": null,
            "align_items": null,
            "align_self": null,
            "border": null,
            "bottom": null,
            "display": null,
            "flex": null,
            "flex_flow": null,
            "grid_area": null,
            "grid_auto_columns": null,
            "grid_auto_flow": null,
            "grid_auto_rows": null,
            "grid_column": null,
            "grid_gap": null,
            "grid_row": null,
            "grid_template_areas": null,
            "grid_template_columns": null,
            "grid_template_rows": null,
            "height": null,
            "justify_content": null,
            "justify_items": null,
            "left": null,
            "margin": null,
            "max_height": null,
            "max_width": null,
            "min_height": null,
            "min_width": null,
            "object_fit": null,
            "object_position": null,
            "order": null,
            "overflow": null,
            "overflow_x": null,
            "overflow_y": null,
            "padding": null,
            "right": null,
            "top": null,
            "visibility": null,
            "width": null
          }
        },
        "277daf70a6f1499b8a45331270e617f9": {
          "model_module": "@jupyter-widgets/controls",
          "model_name": "DescriptionStyleModel",
          "model_module_version": "1.5.0",
          "state": {
            "_model_module": "@jupyter-widgets/controls",
            "_model_module_version": "1.5.0",
            "_model_name": "DescriptionStyleModel",
            "_view_count": null,
            "_view_module": "@jupyter-widgets/base",
            "_view_module_version": "1.2.0",
            "_view_name": "StyleView",
            "description_width": ""
          }
        },
        "14d21e155e7945568bbd44babb8f14f5": {
          "model_module": "@jupyter-widgets/controls",
          "model_name": "HBoxModel",
          "model_module_version": "1.5.0",
          "state": {
            "_dom_classes": [],
            "_model_module": "@jupyter-widgets/controls",
            "_model_module_version": "1.5.0",
            "_model_name": "HBoxModel",
            "_view_count": null,
            "_view_module": "@jupyter-widgets/controls",
            "_view_module_version": "1.5.0",
            "_view_name": "HBoxView",
            "box_style": "",
            "children": [
              "IPY_MODEL_cba25daa96ac4af5896e98f2dd8cc60a",
              "IPY_MODEL_2eab0723937241b5ac652345d6fc4ec1",
              "IPY_MODEL_8bc3417a12d2426fab86b17205995d99"
            ],
            "layout": "IPY_MODEL_37f70ed11e6b4d439b22588f9608f86f"
          }
        },
        "cba25daa96ac4af5896e98f2dd8cc60a": {
          "model_module": "@jupyter-widgets/controls",
          "model_name": "HTMLModel",
          "model_module_version": "1.5.0",
          "state": {
            "_dom_classes": [],
            "_model_module": "@jupyter-widgets/controls",
            "_model_module_version": "1.5.0",
            "_model_name": "HTMLModel",
            "_view_count": null,
            "_view_module": "@jupyter-widgets/controls",
            "_view_module_version": "1.5.0",
            "_view_name": "HTMLView",
            "description": "",
            "description_tooltip": null,
            "layout": "IPY_MODEL_f4e102f9381447209c993c565dad46f3",
            "placeholder": "​",
            "style": "IPY_MODEL_3af756c40da94323b4e167e372d26e77",
            "value": "model.safetensors.index.json: 100%"
          }
        },
        "2eab0723937241b5ac652345d6fc4ec1": {
          "model_module": "@jupyter-widgets/controls",
          "model_name": "FloatProgressModel",
          "model_module_version": "1.5.0",
          "state": {
            "_dom_classes": [],
            "_model_module": "@jupyter-widgets/controls",
            "_model_module_version": "1.5.0",
            "_model_name": "FloatProgressModel",
            "_view_count": null,
            "_view_module": "@jupyter-widgets/controls",
            "_view_module_version": "1.5.0",
            "_view_name": "ProgressView",
            "bar_style": "success",
            "description": "",
            "description_tooltip": null,
            "layout": "IPY_MODEL_013351bce9014ff08d09a5ba04d3210c",
            "max": 25125,
            "min": 0,
            "orientation": "horizontal",
            "style": "IPY_MODEL_f4d0334955c64c3e86b454920e700d01",
            "value": 25125
          }
        },
        "8bc3417a12d2426fab86b17205995d99": {
          "model_module": "@jupyter-widgets/controls",
          "model_name": "HTMLModel",
          "model_module_version": "1.5.0",
          "state": {
            "_dom_classes": [],
            "_model_module": "@jupyter-widgets/controls",
            "_model_module_version": "1.5.0",
            "_model_name": "HTMLModel",
            "_view_count": null,
            "_view_module": "@jupyter-widgets/controls",
            "_view_module_version": "1.5.0",
            "_view_name": "HTMLView",
            "description": "",
            "description_tooltip": null,
            "layout": "IPY_MODEL_f65a77fc46d44abeabf9cc7b8767ddfa",
            "placeholder": "​",
            "style": "IPY_MODEL_f7fe964fc921407a96ad4d9db184151c",
            "value": " 25.1k/25.1k [00:00&lt;00:00, 2.17MB/s]"
          }
        },
        "37f70ed11e6b4d439b22588f9608f86f": {
          "model_module": "@jupyter-widgets/base",
          "model_name": "LayoutModel",
          "model_module_version": "1.2.0",
          "state": {
            "_model_module": "@jupyter-widgets/base",
            "_model_module_version": "1.2.0",
            "_model_name": "LayoutModel",
            "_view_count": null,
            "_view_module": "@jupyter-widgets/base",
            "_view_module_version": "1.2.0",
            "_view_name": "LayoutView",
            "align_content": null,
            "align_items": null,
            "align_self": null,
            "border": null,
            "bottom": null,
            "display": null,
            "flex": null,
            "flex_flow": null,
            "grid_area": null,
            "grid_auto_columns": null,
            "grid_auto_flow": null,
            "grid_auto_rows": null,
            "grid_column": null,
            "grid_gap": null,
            "grid_row": null,
            "grid_template_areas": null,
            "grid_template_columns": null,
            "grid_template_rows": null,
            "height": null,
            "justify_content": null,
            "justify_items": null,
            "left": null,
            "margin": null,
            "max_height": null,
            "max_width": null,
            "min_height": null,
            "min_width": null,
            "object_fit": null,
            "object_position": null,
            "order": null,
            "overflow": null,
            "overflow_x": null,
            "overflow_y": null,
            "padding": null,
            "right": null,
            "top": null,
            "visibility": null,
            "width": null
          }
        },
        "f4e102f9381447209c993c565dad46f3": {
          "model_module": "@jupyter-widgets/base",
          "model_name": "LayoutModel",
          "model_module_version": "1.2.0",
          "state": {
            "_model_module": "@jupyter-widgets/base",
            "_model_module_version": "1.2.0",
            "_model_name": "LayoutModel",
            "_view_count": null,
            "_view_module": "@jupyter-widgets/base",
            "_view_module_version": "1.2.0",
            "_view_name": "LayoutView",
            "align_content": null,
            "align_items": null,
            "align_self": null,
            "border": null,
            "bottom": null,
            "display": null,
            "flex": null,
            "flex_flow": null,
            "grid_area": null,
            "grid_auto_columns": null,
            "grid_auto_flow": null,
            "grid_auto_rows": null,
            "grid_column": null,
            "grid_gap": null,
            "grid_row": null,
            "grid_template_areas": null,
            "grid_template_columns": null,
            "grid_template_rows": null,
            "height": null,
            "justify_content": null,
            "justify_items": null,
            "left": null,
            "margin": null,
            "max_height": null,
            "max_width": null,
            "min_height": null,
            "min_width": null,
            "object_fit": null,
            "object_position": null,
            "order": null,
            "overflow": null,
            "overflow_x": null,
            "overflow_y": null,
            "padding": null,
            "right": null,
            "top": null,
            "visibility": null,
            "width": null
          }
        },
        "3af756c40da94323b4e167e372d26e77": {
          "model_module": "@jupyter-widgets/controls",
          "model_name": "DescriptionStyleModel",
          "model_module_version": "1.5.0",
          "state": {
            "_model_module": "@jupyter-widgets/controls",
            "_model_module_version": "1.5.0",
            "_model_name": "DescriptionStyleModel",
            "_view_count": null,
            "_view_module": "@jupyter-widgets/base",
            "_view_module_version": "1.2.0",
            "_view_name": "StyleView",
            "description_width": ""
          }
        },
        "013351bce9014ff08d09a5ba04d3210c": {
          "model_module": "@jupyter-widgets/base",
          "model_name": "LayoutModel",
          "model_module_version": "1.2.0",
          "state": {
            "_model_module": "@jupyter-widgets/base",
            "_model_module_version": "1.2.0",
            "_model_name": "LayoutModel",
            "_view_count": null,
            "_view_module": "@jupyter-widgets/base",
            "_view_module_version": "1.2.0",
            "_view_name": "LayoutView",
            "align_content": null,
            "align_items": null,
            "align_self": null,
            "border": null,
            "bottom": null,
            "display": null,
            "flex": null,
            "flex_flow": null,
            "grid_area": null,
            "grid_auto_columns": null,
            "grid_auto_flow": null,
            "grid_auto_rows": null,
            "grid_column": null,
            "grid_gap": null,
            "grid_row": null,
            "grid_template_areas": null,
            "grid_template_columns": null,
            "grid_template_rows": null,
            "height": null,
            "justify_content": null,
            "justify_items": null,
            "left": null,
            "margin": null,
            "max_height": null,
            "max_width": null,
            "min_height": null,
            "min_width": null,
            "object_fit": null,
            "object_position": null,
            "order": null,
            "overflow": null,
            "overflow_x": null,
            "overflow_y": null,
            "padding": null,
            "right": null,
            "top": null,
            "visibility": null,
            "width": null
          }
        },
        "f4d0334955c64c3e86b454920e700d01": {
          "model_module": "@jupyter-widgets/controls",
          "model_name": "ProgressStyleModel",
          "model_module_version": "1.5.0",
          "state": {
            "_model_module": "@jupyter-widgets/controls",
            "_model_module_version": "1.5.0",
            "_model_name": "ProgressStyleModel",
            "_view_count": null,
            "_view_module": "@jupyter-widgets/base",
            "_view_module_version": "1.2.0",
            "_view_name": "StyleView",
            "bar_color": null,
            "description_width": ""
          }
        },
        "f65a77fc46d44abeabf9cc7b8767ddfa": {
          "model_module": "@jupyter-widgets/base",
          "model_name": "LayoutModel",
          "model_module_version": "1.2.0",
          "state": {
            "_model_module": "@jupyter-widgets/base",
            "_model_module_version": "1.2.0",
            "_model_name": "LayoutModel",
            "_view_count": null,
            "_view_module": "@jupyter-widgets/base",
            "_view_module_version": "1.2.0",
            "_view_name": "LayoutView",
            "align_content": null,
            "align_items": null,
            "align_self": null,
            "border": null,
            "bottom": null,
            "display": null,
            "flex": null,
            "flex_flow": null,
            "grid_area": null,
            "grid_auto_columns": null,
            "grid_auto_flow": null,
            "grid_auto_rows": null,
            "grid_column": null,
            "grid_gap": null,
            "grid_row": null,
            "grid_template_areas": null,
            "grid_template_columns": null,
            "grid_template_rows": null,
            "height": null,
            "justify_content": null,
            "justify_items": null,
            "left": null,
            "margin": null,
            "max_height": null,
            "max_width": null,
            "min_height": null,
            "min_width": null,
            "object_fit": null,
            "object_position": null,
            "order": null,
            "overflow": null,
            "overflow_x": null,
            "overflow_y": null,
            "padding": null,
            "right": null,
            "top": null,
            "visibility": null,
            "width": null
          }
        },
        "f7fe964fc921407a96ad4d9db184151c": {
          "model_module": "@jupyter-widgets/controls",
          "model_name": "DescriptionStyleModel",
          "model_module_version": "1.5.0",
          "state": {
            "_model_module": "@jupyter-widgets/controls",
            "_model_module_version": "1.5.0",
            "_model_name": "DescriptionStyleModel",
            "_view_count": null,
            "_view_module": "@jupyter-widgets/base",
            "_view_module_version": "1.2.0",
            "_view_name": "StyleView",
            "description_width": ""
          }
        },
        "a61815dd9a4e411293111c5dbb274787": {
          "model_module": "@jupyter-widgets/controls",
          "model_name": "HBoxModel",
          "model_module_version": "1.5.0",
          "state": {
            "_dom_classes": [],
            "_model_module": "@jupyter-widgets/controls",
            "_model_module_version": "1.5.0",
            "_model_name": "HBoxModel",
            "_view_count": null,
            "_view_module": "@jupyter-widgets/controls",
            "_view_module_version": "1.5.0",
            "_view_name": "HBoxView",
            "box_style": "",
            "children": [
              "IPY_MODEL_f7613344ffe4465fb838db2f99da4d0f",
              "IPY_MODEL_d4fbbd877df743d9a822c43ec758ef42",
              "IPY_MODEL_6dcf7bd75d99421e906ee718715119c6"
            ],
            "layout": "IPY_MODEL_554b47bd0d304bc8b10512ffdb7dd730"
          }
        },
        "f7613344ffe4465fb838db2f99da4d0f": {
          "model_module": "@jupyter-widgets/controls",
          "model_name": "HTMLModel",
          "model_module_version": "1.5.0",
          "state": {
            "_dom_classes": [],
            "_model_module": "@jupyter-widgets/controls",
            "_model_module_version": "1.5.0",
            "_model_name": "HTMLModel",
            "_view_count": null,
            "_view_module": "@jupyter-widgets/controls",
            "_view_module_version": "1.5.0",
            "_view_name": "HTMLView",
            "description": "",
            "description_tooltip": null,
            "layout": "IPY_MODEL_2bbf5fe7add9401989509b751f2d4fdf",
            "placeholder": "​",
            "style": "IPY_MODEL_54fb7b673eff4268892cb4286c2bd17e",
            "value": "Downloading shards: 100%"
          }
        },
        "d4fbbd877df743d9a822c43ec758ef42": {
          "model_module": "@jupyter-widgets/controls",
          "model_name": "FloatProgressModel",
          "model_module_version": "1.5.0",
          "state": {
            "_dom_classes": [],
            "_model_module": "@jupyter-widgets/controls",
            "_model_module_version": "1.5.0",
            "_model_name": "FloatProgressModel",
            "_view_count": null,
            "_view_module": "@jupyter-widgets/controls",
            "_view_module_version": "1.5.0",
            "_view_name": "ProgressView",
            "bar_style": "success",
            "description": "",
            "description_tooltip": null,
            "layout": "IPY_MODEL_6b8fd23e09cc4d30a27ff276b99e691d",
            "max": 3,
            "min": 0,
            "orientation": "horizontal",
            "style": "IPY_MODEL_2e9433b5972143378126117513bfcfc3",
            "value": 3
          }
        },
        "6dcf7bd75d99421e906ee718715119c6": {
          "model_module": "@jupyter-widgets/controls",
          "model_name": "HTMLModel",
          "model_module_version": "1.5.0",
          "state": {
            "_dom_classes": [],
            "_model_module": "@jupyter-widgets/controls",
            "_model_module_version": "1.5.0",
            "_model_name": "HTMLModel",
            "_view_count": null,
            "_view_module": "@jupyter-widgets/controls",
            "_view_module_version": "1.5.0",
            "_view_name": "HTMLView",
            "description": "",
            "description_tooltip": null,
            "layout": "IPY_MODEL_a3865af3165a4418b77ec47741a4402d",
            "placeholder": "​",
            "style": "IPY_MODEL_b129ca4495e946cb8029b2180154a487",
            "value": " 3/3 [01:32&lt;00:00, 30.22s/it]"
          }
        },
        "554b47bd0d304bc8b10512ffdb7dd730": {
          "model_module": "@jupyter-widgets/base",
          "model_name": "LayoutModel",
          "model_module_version": "1.2.0",
          "state": {
            "_model_module": "@jupyter-widgets/base",
            "_model_module_version": "1.2.0",
            "_model_name": "LayoutModel",
            "_view_count": null,
            "_view_module": "@jupyter-widgets/base",
            "_view_module_version": "1.2.0",
            "_view_name": "LayoutView",
            "align_content": null,
            "align_items": null,
            "align_self": null,
            "border": null,
            "bottom": null,
            "display": null,
            "flex": null,
            "flex_flow": null,
            "grid_area": null,
            "grid_auto_columns": null,
            "grid_auto_flow": null,
            "grid_auto_rows": null,
            "grid_column": null,
            "grid_gap": null,
            "grid_row": null,
            "grid_template_areas": null,
            "grid_template_columns": null,
            "grid_template_rows": null,
            "height": null,
            "justify_content": null,
            "justify_items": null,
            "left": null,
            "margin": null,
            "max_height": null,
            "max_width": null,
            "min_height": null,
            "min_width": null,
            "object_fit": null,
            "object_position": null,
            "order": null,
            "overflow": null,
            "overflow_x": null,
            "overflow_y": null,
            "padding": null,
            "right": null,
            "top": null,
            "visibility": null,
            "width": null
          }
        },
        "2bbf5fe7add9401989509b751f2d4fdf": {
          "model_module": "@jupyter-widgets/base",
          "model_name": "LayoutModel",
          "model_module_version": "1.2.0",
          "state": {
            "_model_module": "@jupyter-widgets/base",
            "_model_module_version": "1.2.0",
            "_model_name": "LayoutModel",
            "_view_count": null,
            "_view_module": "@jupyter-widgets/base",
            "_view_module_version": "1.2.0",
            "_view_name": "LayoutView",
            "align_content": null,
            "align_items": null,
            "align_self": null,
            "border": null,
            "bottom": null,
            "display": null,
            "flex": null,
            "flex_flow": null,
            "grid_area": null,
            "grid_auto_columns": null,
            "grid_auto_flow": null,
            "grid_auto_rows": null,
            "grid_column": null,
            "grid_gap": null,
            "grid_row": null,
            "grid_template_areas": null,
            "grid_template_columns": null,
            "grid_template_rows": null,
            "height": null,
            "justify_content": null,
            "justify_items": null,
            "left": null,
            "margin": null,
            "max_height": null,
            "max_width": null,
            "min_height": null,
            "min_width": null,
            "object_fit": null,
            "object_position": null,
            "order": null,
            "overflow": null,
            "overflow_x": null,
            "overflow_y": null,
            "padding": null,
            "right": null,
            "top": null,
            "visibility": null,
            "width": null
          }
        },
        "54fb7b673eff4268892cb4286c2bd17e": {
          "model_module": "@jupyter-widgets/controls",
          "model_name": "DescriptionStyleModel",
          "model_module_version": "1.5.0",
          "state": {
            "_model_module": "@jupyter-widgets/controls",
            "_model_module_version": "1.5.0",
            "_model_name": "DescriptionStyleModel",
            "_view_count": null,
            "_view_module": "@jupyter-widgets/base",
            "_view_module_version": "1.2.0",
            "_view_name": "StyleView",
            "description_width": ""
          }
        },
        "6b8fd23e09cc4d30a27ff276b99e691d": {
          "model_module": "@jupyter-widgets/base",
          "model_name": "LayoutModel",
          "model_module_version": "1.2.0",
          "state": {
            "_model_module": "@jupyter-widgets/base",
            "_model_module_version": "1.2.0",
            "_model_name": "LayoutModel",
            "_view_count": null,
            "_view_module": "@jupyter-widgets/base",
            "_view_module_version": "1.2.0",
            "_view_name": "LayoutView",
            "align_content": null,
            "align_items": null,
            "align_self": null,
            "border": null,
            "bottom": null,
            "display": null,
            "flex": null,
            "flex_flow": null,
            "grid_area": null,
            "grid_auto_columns": null,
            "grid_auto_flow": null,
            "grid_auto_rows": null,
            "grid_column": null,
            "grid_gap": null,
            "grid_row": null,
            "grid_template_areas": null,
            "grid_template_columns": null,
            "grid_template_rows": null,
            "height": null,
            "justify_content": null,
            "justify_items": null,
            "left": null,
            "margin": null,
            "max_height": null,
            "max_width": null,
            "min_height": null,
            "min_width": null,
            "object_fit": null,
            "object_position": null,
            "order": null,
            "overflow": null,
            "overflow_x": null,
            "overflow_y": null,
            "padding": null,
            "right": null,
            "top": null,
            "visibility": null,
            "width": null
          }
        },
        "2e9433b5972143378126117513bfcfc3": {
          "model_module": "@jupyter-widgets/controls",
          "model_name": "ProgressStyleModel",
          "model_module_version": "1.5.0",
          "state": {
            "_model_module": "@jupyter-widgets/controls",
            "_model_module_version": "1.5.0",
            "_model_name": "ProgressStyleModel",
            "_view_count": null,
            "_view_module": "@jupyter-widgets/base",
            "_view_module_version": "1.2.0",
            "_view_name": "StyleView",
            "bar_color": null,
            "description_width": ""
          }
        },
        "a3865af3165a4418b77ec47741a4402d": {
          "model_module": "@jupyter-widgets/base",
          "model_name": "LayoutModel",
          "model_module_version": "1.2.0",
          "state": {
            "_model_module": "@jupyter-widgets/base",
            "_model_module_version": "1.2.0",
            "_model_name": "LayoutModel",
            "_view_count": null,
            "_view_module": "@jupyter-widgets/base",
            "_view_module_version": "1.2.0",
            "_view_name": "LayoutView",
            "align_content": null,
            "align_items": null,
            "align_self": null,
            "border": null,
            "bottom": null,
            "display": null,
            "flex": null,
            "flex_flow": null,
            "grid_area": null,
            "grid_auto_columns": null,
            "grid_auto_flow": null,
            "grid_auto_rows": null,
            "grid_column": null,
            "grid_gap": null,
            "grid_row": null,
            "grid_template_areas": null,
            "grid_template_columns": null,
            "grid_template_rows": null,
            "height": null,
            "justify_content": null,
            "justify_items": null,
            "left": null,
            "margin": null,
            "max_height": null,
            "max_width": null,
            "min_height": null,
            "min_width": null,
            "object_fit": null,
            "object_position": null,
            "order": null,
            "overflow": null,
            "overflow_x": null,
            "overflow_y": null,
            "padding": null,
            "right": null,
            "top": null,
            "visibility": null,
            "width": null
          }
        },
        "b129ca4495e946cb8029b2180154a487": {
          "model_module": "@jupyter-widgets/controls",
          "model_name": "DescriptionStyleModel",
          "model_module_version": "1.5.0",
          "state": {
            "_model_module": "@jupyter-widgets/controls",
            "_model_module_version": "1.5.0",
            "_model_name": "DescriptionStyleModel",
            "_view_count": null,
            "_view_module": "@jupyter-widgets/base",
            "_view_module_version": "1.2.0",
            "_view_name": "StyleView",
            "description_width": ""
          }
        },
        "de48126aeeac4795b6dec7069b949117": {
          "model_module": "@jupyter-widgets/controls",
          "model_name": "HBoxModel",
          "model_module_version": "1.5.0",
          "state": {
            "_dom_classes": [],
            "_model_module": "@jupyter-widgets/controls",
            "_model_module_version": "1.5.0",
            "_model_name": "HBoxModel",
            "_view_count": null,
            "_view_module": "@jupyter-widgets/controls",
            "_view_module_version": "1.5.0",
            "_view_name": "HBoxView",
            "box_style": "",
            "children": [
              "IPY_MODEL_d29e35e58bb54a6fa63fa53deb61eb44",
              "IPY_MODEL_dbf5b3a2a69342b399cb3210fd72a2fe",
              "IPY_MODEL_1c9d63c4ed474b0780130d17fcf0f1dd"
            ],
            "layout": "IPY_MODEL_8d9423a2b887496aa7a5c324949c2bd7"
          }
        },
        "d29e35e58bb54a6fa63fa53deb61eb44": {
          "model_module": "@jupyter-widgets/controls",
          "model_name": "HTMLModel",
          "model_module_version": "1.5.0",
          "state": {
            "_dom_classes": [],
            "_model_module": "@jupyter-widgets/controls",
            "_model_module_version": "1.5.0",
            "_model_name": "HTMLModel",
            "_view_count": null,
            "_view_module": "@jupyter-widgets/controls",
            "_view_module_version": "1.5.0",
            "_view_name": "HTMLView",
            "description": "",
            "description_tooltip": null,
            "layout": "IPY_MODEL_42c6913389594ae2b63197162a5ddd65",
            "placeholder": "​",
            "style": "IPY_MODEL_630285b670c84f25958889d9caf0b43f",
            "value": "model-00001-of-00003.safetensors: 100%"
          }
        },
        "dbf5b3a2a69342b399cb3210fd72a2fe": {
          "model_module": "@jupyter-widgets/controls",
          "model_name": "FloatProgressModel",
          "model_module_version": "1.5.0",
          "state": {
            "_dom_classes": [],
            "_model_module": "@jupyter-widgets/controls",
            "_model_module_version": "1.5.0",
            "_model_name": "FloatProgressModel",
            "_view_count": null,
            "_view_module": "@jupyter-widgets/controls",
            "_view_module_version": "1.5.0",
            "_view_name": "ProgressView",
            "bar_style": "success",
            "description": "",
            "description_tooltip": null,
            "layout": "IPY_MODEL_37c6ae238eb94eda893350b337d0e993",
            "max": 4943162336,
            "min": 0,
            "orientation": "horizontal",
            "style": "IPY_MODEL_96fe7b98104f4cbaaea3e095f4a1cd36",
            "value": 4943162336
          }
        },
        "1c9d63c4ed474b0780130d17fcf0f1dd": {
          "model_module": "@jupyter-widgets/controls",
          "model_name": "HTMLModel",
          "model_module_version": "1.5.0",
          "state": {
            "_dom_classes": [],
            "_model_module": "@jupyter-widgets/controls",
            "_model_module_version": "1.5.0",
            "_model_name": "HTMLModel",
            "_view_count": null,
            "_view_module": "@jupyter-widgets/controls",
            "_view_module_version": "1.5.0",
            "_view_name": "HTMLView",
            "description": "",
            "description_tooltip": null,
            "layout": "IPY_MODEL_83cb65e0ae4145fbad0fd38417af001a",
            "placeholder": "​",
            "style": "IPY_MODEL_3e1293fc5a5a4bcab498aadeee0edd05",
            "value": " 4.94G/4.94G [00:32&lt;00:00, 182MB/s]"
          }
        },
        "8d9423a2b887496aa7a5c324949c2bd7": {
          "model_module": "@jupyter-widgets/base",
          "model_name": "LayoutModel",
          "model_module_version": "1.2.0",
          "state": {
            "_model_module": "@jupyter-widgets/base",
            "_model_module_version": "1.2.0",
            "_model_name": "LayoutModel",
            "_view_count": null,
            "_view_module": "@jupyter-widgets/base",
            "_view_module_version": "1.2.0",
            "_view_name": "LayoutView",
            "align_content": null,
            "align_items": null,
            "align_self": null,
            "border": null,
            "bottom": null,
            "display": null,
            "flex": null,
            "flex_flow": null,
            "grid_area": null,
            "grid_auto_columns": null,
            "grid_auto_flow": null,
            "grid_auto_rows": null,
            "grid_column": null,
            "grid_gap": null,
            "grid_row": null,
            "grid_template_areas": null,
            "grid_template_columns": null,
            "grid_template_rows": null,
            "height": null,
            "justify_content": null,
            "justify_items": null,
            "left": null,
            "margin": null,
            "max_height": null,
            "max_width": null,
            "min_height": null,
            "min_width": null,
            "object_fit": null,
            "object_position": null,
            "order": null,
            "overflow": null,
            "overflow_x": null,
            "overflow_y": null,
            "padding": null,
            "right": null,
            "top": null,
            "visibility": null,
            "width": null
          }
        },
        "42c6913389594ae2b63197162a5ddd65": {
          "model_module": "@jupyter-widgets/base",
          "model_name": "LayoutModel",
          "model_module_version": "1.2.0",
          "state": {
            "_model_module": "@jupyter-widgets/base",
            "_model_module_version": "1.2.0",
            "_model_name": "LayoutModel",
            "_view_count": null,
            "_view_module": "@jupyter-widgets/base",
            "_view_module_version": "1.2.0",
            "_view_name": "LayoutView",
            "align_content": null,
            "align_items": null,
            "align_self": null,
            "border": null,
            "bottom": null,
            "display": null,
            "flex": null,
            "flex_flow": null,
            "grid_area": null,
            "grid_auto_columns": null,
            "grid_auto_flow": null,
            "grid_auto_rows": null,
            "grid_column": null,
            "grid_gap": null,
            "grid_row": null,
            "grid_template_areas": null,
            "grid_template_columns": null,
            "grid_template_rows": null,
            "height": null,
            "justify_content": null,
            "justify_items": null,
            "left": null,
            "margin": null,
            "max_height": null,
            "max_width": null,
            "min_height": null,
            "min_width": null,
            "object_fit": null,
            "object_position": null,
            "order": null,
            "overflow": null,
            "overflow_x": null,
            "overflow_y": null,
            "padding": null,
            "right": null,
            "top": null,
            "visibility": null,
            "width": null
          }
        },
        "630285b670c84f25958889d9caf0b43f": {
          "model_module": "@jupyter-widgets/controls",
          "model_name": "DescriptionStyleModel",
          "model_module_version": "1.5.0",
          "state": {
            "_model_module": "@jupyter-widgets/controls",
            "_model_module_version": "1.5.0",
            "_model_name": "DescriptionStyleModel",
            "_view_count": null,
            "_view_module": "@jupyter-widgets/base",
            "_view_module_version": "1.2.0",
            "_view_name": "StyleView",
            "description_width": ""
          }
        },
        "37c6ae238eb94eda893350b337d0e993": {
          "model_module": "@jupyter-widgets/base",
          "model_name": "LayoutModel",
          "model_module_version": "1.2.0",
          "state": {
            "_model_module": "@jupyter-widgets/base",
            "_model_module_version": "1.2.0",
            "_model_name": "LayoutModel",
            "_view_count": null,
            "_view_module": "@jupyter-widgets/base",
            "_view_module_version": "1.2.0",
            "_view_name": "LayoutView",
            "align_content": null,
            "align_items": null,
            "align_self": null,
            "border": null,
            "bottom": null,
            "display": null,
            "flex": null,
            "flex_flow": null,
            "grid_area": null,
            "grid_auto_columns": null,
            "grid_auto_flow": null,
            "grid_auto_rows": null,
            "grid_column": null,
            "grid_gap": null,
            "grid_row": null,
            "grid_template_areas": null,
            "grid_template_columns": null,
            "grid_template_rows": null,
            "height": null,
            "justify_content": null,
            "justify_items": null,
            "left": null,
            "margin": null,
            "max_height": null,
            "max_width": null,
            "min_height": null,
            "min_width": null,
            "object_fit": null,
            "object_position": null,
            "order": null,
            "overflow": null,
            "overflow_x": null,
            "overflow_y": null,
            "padding": null,
            "right": null,
            "top": null,
            "visibility": null,
            "width": null
          }
        },
        "96fe7b98104f4cbaaea3e095f4a1cd36": {
          "model_module": "@jupyter-widgets/controls",
          "model_name": "ProgressStyleModel",
          "model_module_version": "1.5.0",
          "state": {
            "_model_module": "@jupyter-widgets/controls",
            "_model_module_version": "1.5.0",
            "_model_name": "ProgressStyleModel",
            "_view_count": null,
            "_view_module": "@jupyter-widgets/base",
            "_view_module_version": "1.2.0",
            "_view_name": "StyleView",
            "bar_color": null,
            "description_width": ""
          }
        },
        "83cb65e0ae4145fbad0fd38417af001a": {
          "model_module": "@jupyter-widgets/base",
          "model_name": "LayoutModel",
          "model_module_version": "1.2.0",
          "state": {
            "_model_module": "@jupyter-widgets/base",
            "_model_module_version": "1.2.0",
            "_model_name": "LayoutModel",
            "_view_count": null,
            "_view_module": "@jupyter-widgets/base",
            "_view_module_version": "1.2.0",
            "_view_name": "LayoutView",
            "align_content": null,
            "align_items": null,
            "align_self": null,
            "border": null,
            "bottom": null,
            "display": null,
            "flex": null,
            "flex_flow": null,
            "grid_area": null,
            "grid_auto_columns": null,
            "grid_auto_flow": null,
            "grid_auto_rows": null,
            "grid_column": null,
            "grid_gap": null,
            "grid_row": null,
            "grid_template_areas": null,
            "grid_template_columns": null,
            "grid_template_rows": null,
            "height": null,
            "justify_content": null,
            "justify_items": null,
            "left": null,
            "margin": null,
            "max_height": null,
            "max_width": null,
            "min_height": null,
            "min_width": null,
            "object_fit": null,
            "object_position": null,
            "order": null,
            "overflow": null,
            "overflow_x": null,
            "overflow_y": null,
            "padding": null,
            "right": null,
            "top": null,
            "visibility": null,
            "width": null
          }
        },
        "3e1293fc5a5a4bcab498aadeee0edd05": {
          "model_module": "@jupyter-widgets/controls",
          "model_name": "DescriptionStyleModel",
          "model_module_version": "1.5.0",
          "state": {
            "_model_module": "@jupyter-widgets/controls",
            "_model_module_version": "1.5.0",
            "_model_name": "DescriptionStyleModel",
            "_view_count": null,
            "_view_module": "@jupyter-widgets/base",
            "_view_module_version": "1.2.0",
            "_view_name": "StyleView",
            "description_width": ""
          }
        },
        "c1022052a7994bc9906eddc3fcbab6a8": {
          "model_module": "@jupyter-widgets/controls",
          "model_name": "HBoxModel",
          "model_module_version": "1.5.0",
          "state": {
            "_dom_classes": [],
            "_model_module": "@jupyter-widgets/controls",
            "_model_module_version": "1.5.0",
            "_model_name": "HBoxModel",
            "_view_count": null,
            "_view_module": "@jupyter-widgets/controls",
            "_view_module_version": "1.5.0",
            "_view_name": "HBoxView",
            "box_style": "",
            "children": [
              "IPY_MODEL_9300abd92e2f4bc591488babbd180495",
              "IPY_MODEL_7cd6cb8e2b1445fb8ddaff2e04e3033b",
              "IPY_MODEL_3c132dc67c1543dcb0c09fc2759d0959"
            ],
            "layout": "IPY_MODEL_a8c65d3f11454a62af0acb8bddfcb9ab"
          }
        },
        "9300abd92e2f4bc591488babbd180495": {
          "model_module": "@jupyter-widgets/controls",
          "model_name": "HTMLModel",
          "model_module_version": "1.5.0",
          "state": {
            "_dom_classes": [],
            "_model_module": "@jupyter-widgets/controls",
            "_model_module_version": "1.5.0",
            "_model_name": "HTMLModel",
            "_view_count": null,
            "_view_module": "@jupyter-widgets/controls",
            "_view_module_version": "1.5.0",
            "_view_name": "HTMLView",
            "description": "",
            "description_tooltip": null,
            "layout": "IPY_MODEL_0328f090ba764742b304edd1cdef0623",
            "placeholder": "​",
            "style": "IPY_MODEL_1ff63d60f5094b8ca92480a3f564aec3",
            "value": "model-00002-of-00003.safetensors: 100%"
          }
        },
        "7cd6cb8e2b1445fb8ddaff2e04e3033b": {
          "model_module": "@jupyter-widgets/controls",
          "model_name": "FloatProgressModel",
          "model_module_version": "1.5.0",
          "state": {
            "_dom_classes": [],
            "_model_module": "@jupyter-widgets/controls",
            "_model_module_version": "1.5.0",
            "_model_name": "FloatProgressModel",
            "_view_count": null,
            "_view_module": "@jupyter-widgets/controls",
            "_view_module_version": "1.5.0",
            "_view_name": "ProgressView",
            "bar_style": "success",
            "description": "",
            "description_tooltip": null,
            "layout": "IPY_MODEL_8d0d33de8294458e8be7f9d4afc7a651",
            "max": 4999819336,
            "min": 0,
            "orientation": "horizontal",
            "style": "IPY_MODEL_b6e0da5eeaba4570947be25ffa28796d",
            "value": 4999819336
          }
        },
        "3c132dc67c1543dcb0c09fc2759d0959": {
          "model_module": "@jupyter-widgets/controls",
          "model_name": "HTMLModel",
          "model_module_version": "1.5.0",
          "state": {
            "_dom_classes": [],
            "_model_module": "@jupyter-widgets/controls",
            "_model_module_version": "1.5.0",
            "_model_name": "HTMLModel",
            "_view_count": null,
            "_view_module": "@jupyter-widgets/controls",
            "_view_module_version": "1.5.0",
            "_view_name": "HTMLView",
            "description": "",
            "description_tooltip": null,
            "layout": "IPY_MODEL_3d660928c823442b8ca0c8ead60817dd",
            "placeholder": "​",
            "style": "IPY_MODEL_2f01b323960348c88a820b71e4ef42dd",
            "value": " 5.00G/5.00G [00:32&lt;00:00, 188MB/s]"
          }
        },
        "a8c65d3f11454a62af0acb8bddfcb9ab": {
          "model_module": "@jupyter-widgets/base",
          "model_name": "LayoutModel",
          "model_module_version": "1.2.0",
          "state": {
            "_model_module": "@jupyter-widgets/base",
            "_model_module_version": "1.2.0",
            "_model_name": "LayoutModel",
            "_view_count": null,
            "_view_module": "@jupyter-widgets/base",
            "_view_module_version": "1.2.0",
            "_view_name": "LayoutView",
            "align_content": null,
            "align_items": null,
            "align_self": null,
            "border": null,
            "bottom": null,
            "display": null,
            "flex": null,
            "flex_flow": null,
            "grid_area": null,
            "grid_auto_columns": null,
            "grid_auto_flow": null,
            "grid_auto_rows": null,
            "grid_column": null,
            "grid_gap": null,
            "grid_row": null,
            "grid_template_areas": null,
            "grid_template_columns": null,
            "grid_template_rows": null,
            "height": null,
            "justify_content": null,
            "justify_items": null,
            "left": null,
            "margin": null,
            "max_height": null,
            "max_width": null,
            "min_height": null,
            "min_width": null,
            "object_fit": null,
            "object_position": null,
            "order": null,
            "overflow": null,
            "overflow_x": null,
            "overflow_y": null,
            "padding": null,
            "right": null,
            "top": null,
            "visibility": null,
            "width": null
          }
        },
        "0328f090ba764742b304edd1cdef0623": {
          "model_module": "@jupyter-widgets/base",
          "model_name": "LayoutModel",
          "model_module_version": "1.2.0",
          "state": {
            "_model_module": "@jupyter-widgets/base",
            "_model_module_version": "1.2.0",
            "_model_name": "LayoutModel",
            "_view_count": null,
            "_view_module": "@jupyter-widgets/base",
            "_view_module_version": "1.2.0",
            "_view_name": "LayoutView",
            "align_content": null,
            "align_items": null,
            "align_self": null,
            "border": null,
            "bottom": null,
            "display": null,
            "flex": null,
            "flex_flow": null,
            "grid_area": null,
            "grid_auto_columns": null,
            "grid_auto_flow": null,
            "grid_auto_rows": null,
            "grid_column": null,
            "grid_gap": null,
            "grid_row": null,
            "grid_template_areas": null,
            "grid_template_columns": null,
            "grid_template_rows": null,
            "height": null,
            "justify_content": null,
            "justify_items": null,
            "left": null,
            "margin": null,
            "max_height": null,
            "max_width": null,
            "min_height": null,
            "min_width": null,
            "object_fit": null,
            "object_position": null,
            "order": null,
            "overflow": null,
            "overflow_x": null,
            "overflow_y": null,
            "padding": null,
            "right": null,
            "top": null,
            "visibility": null,
            "width": null
          }
        },
        "1ff63d60f5094b8ca92480a3f564aec3": {
          "model_module": "@jupyter-widgets/controls",
          "model_name": "DescriptionStyleModel",
          "model_module_version": "1.5.0",
          "state": {
            "_model_module": "@jupyter-widgets/controls",
            "_model_module_version": "1.5.0",
            "_model_name": "DescriptionStyleModel",
            "_view_count": null,
            "_view_module": "@jupyter-widgets/base",
            "_view_module_version": "1.2.0",
            "_view_name": "StyleView",
            "description_width": ""
          }
        },
        "8d0d33de8294458e8be7f9d4afc7a651": {
          "model_module": "@jupyter-widgets/base",
          "model_name": "LayoutModel",
          "model_module_version": "1.2.0",
          "state": {
            "_model_module": "@jupyter-widgets/base",
            "_model_module_version": "1.2.0",
            "_model_name": "LayoutModel",
            "_view_count": null,
            "_view_module": "@jupyter-widgets/base",
            "_view_module_version": "1.2.0",
            "_view_name": "LayoutView",
            "align_content": null,
            "align_items": null,
            "align_self": null,
            "border": null,
            "bottom": null,
            "display": null,
            "flex": null,
            "flex_flow": null,
            "grid_area": null,
            "grid_auto_columns": null,
            "grid_auto_flow": null,
            "grid_auto_rows": null,
            "grid_column": null,
            "grid_gap": null,
            "grid_row": null,
            "grid_template_areas": null,
            "grid_template_columns": null,
            "grid_template_rows": null,
            "height": null,
            "justify_content": null,
            "justify_items": null,
            "left": null,
            "margin": null,
            "max_height": null,
            "max_width": null,
            "min_height": null,
            "min_width": null,
            "object_fit": null,
            "object_position": null,
            "order": null,
            "overflow": null,
            "overflow_x": null,
            "overflow_y": null,
            "padding": null,
            "right": null,
            "top": null,
            "visibility": null,
            "width": null
          }
        },
        "b6e0da5eeaba4570947be25ffa28796d": {
          "model_module": "@jupyter-widgets/controls",
          "model_name": "ProgressStyleModel",
          "model_module_version": "1.5.0",
          "state": {
            "_model_module": "@jupyter-widgets/controls",
            "_model_module_version": "1.5.0",
            "_model_name": "ProgressStyleModel",
            "_view_count": null,
            "_view_module": "@jupyter-widgets/base",
            "_view_module_version": "1.2.0",
            "_view_name": "StyleView",
            "bar_color": null,
            "description_width": ""
          }
        },
        "3d660928c823442b8ca0c8ead60817dd": {
          "model_module": "@jupyter-widgets/base",
          "model_name": "LayoutModel",
          "model_module_version": "1.2.0",
          "state": {
            "_model_module": "@jupyter-widgets/base",
            "_model_module_version": "1.2.0",
            "_model_name": "LayoutModel",
            "_view_count": null,
            "_view_module": "@jupyter-widgets/base",
            "_view_module_version": "1.2.0",
            "_view_name": "LayoutView",
            "align_content": null,
            "align_items": null,
            "align_self": null,
            "border": null,
            "bottom": null,
            "display": null,
            "flex": null,
            "flex_flow": null,
            "grid_area": null,
            "grid_auto_columns": null,
            "grid_auto_flow": null,
            "grid_auto_rows": null,
            "grid_column": null,
            "grid_gap": null,
            "grid_row": null,
            "grid_template_areas": null,
            "grid_template_columns": null,
            "grid_template_rows": null,
            "height": null,
            "justify_content": null,
            "justify_items": null,
            "left": null,
            "margin": null,
            "max_height": null,
            "max_width": null,
            "min_height": null,
            "min_width": null,
            "object_fit": null,
            "object_position": null,
            "order": null,
            "overflow": null,
            "overflow_x": null,
            "overflow_y": null,
            "padding": null,
            "right": null,
            "top": null,
            "visibility": null,
            "width": null
          }
        },
        "2f01b323960348c88a820b71e4ef42dd": {
          "model_module": "@jupyter-widgets/controls",
          "model_name": "DescriptionStyleModel",
          "model_module_version": "1.5.0",
          "state": {
            "_model_module": "@jupyter-widgets/controls",
            "_model_module_version": "1.5.0",
            "_model_name": "DescriptionStyleModel",
            "_view_count": null,
            "_view_module": "@jupyter-widgets/base",
            "_view_module_version": "1.2.0",
            "_view_name": "StyleView",
            "description_width": ""
          }
        },
        "0e64f5b7a26043409352f8e358d4545e": {
          "model_module": "@jupyter-widgets/controls",
          "model_name": "HBoxModel",
          "model_module_version": "1.5.0",
          "state": {
            "_dom_classes": [],
            "_model_module": "@jupyter-widgets/controls",
            "_model_module_version": "1.5.0",
            "_model_name": "HBoxModel",
            "_view_count": null,
            "_view_module": "@jupyter-widgets/controls",
            "_view_module_version": "1.5.0",
            "_view_name": "HBoxView",
            "box_style": "",
            "children": [
              "IPY_MODEL_61b09cad77d04d29ae18fa25c0319c61",
              "IPY_MODEL_029d04181e7f4c6d81886102bbde902d",
              "IPY_MODEL_5d0a7a3437804b6a84a161f1f121c7ba"
            ],
            "layout": "IPY_MODEL_760010f660a44785ae97450519788fe7"
          }
        },
        "61b09cad77d04d29ae18fa25c0319c61": {
          "model_module": "@jupyter-widgets/controls",
          "model_name": "HTMLModel",
          "model_module_version": "1.5.0",
          "state": {
            "_dom_classes": [],
            "_model_module": "@jupyter-widgets/controls",
            "_model_module_version": "1.5.0",
            "_model_name": "HTMLModel",
            "_view_count": null,
            "_view_module": "@jupyter-widgets/controls",
            "_view_module_version": "1.5.0",
            "_view_name": "HTMLView",
            "description": "",
            "description_tooltip": null,
            "layout": "IPY_MODEL_4effb2c86ccb4df984e5967cb08ffcb3",
            "placeholder": "​",
            "style": "IPY_MODEL_4806744570ea488bb0e36ff634d265bd",
            "value": "model-00003-of-00003.safetensors: 100%"
          }
        },
        "029d04181e7f4c6d81886102bbde902d": {
          "model_module": "@jupyter-widgets/controls",
          "model_name": "FloatProgressModel",
          "model_module_version": "1.5.0",
          "state": {
            "_dom_classes": [],
            "_model_module": "@jupyter-widgets/controls",
            "_model_module_version": "1.5.0",
            "_model_name": "FloatProgressModel",
            "_view_count": null,
            "_view_module": "@jupyter-widgets/controls",
            "_view_module_version": "1.5.0",
            "_view_name": "ProgressView",
            "bar_style": "success",
            "description": "",
            "description_tooltip": null,
            "layout": "IPY_MODEL_4060b483437f4b5987a7494d5744b4db",
            "max": 4540516344,
            "min": 0,
            "orientation": "horizontal",
            "style": "IPY_MODEL_8820e7c81ecb4961925fb3bec8b37a17",
            "value": 4540516344
          }
        },
        "5d0a7a3437804b6a84a161f1f121c7ba": {
          "model_module": "@jupyter-widgets/controls",
          "model_name": "HTMLModel",
          "model_module_version": "1.5.0",
          "state": {
            "_dom_classes": [],
            "_model_module": "@jupyter-widgets/controls",
            "_model_module_version": "1.5.0",
            "_model_name": "HTMLModel",
            "_view_count": null,
            "_view_module": "@jupyter-widgets/controls",
            "_view_module_version": "1.5.0",
            "_view_name": "HTMLView",
            "description": "",
            "description_tooltip": null,
            "layout": "IPY_MODEL_1aae2ea39c4c4f108db8fcccc970fe7c",
            "placeholder": "​",
            "style": "IPY_MODEL_fc8a359bab694dfa8a2b4f8c697ea8ec",
            "value": " 4.54G/4.54G [00:27&lt;00:00, 98.5MB/s]"
          }
        },
        "760010f660a44785ae97450519788fe7": {
          "model_module": "@jupyter-widgets/base",
          "model_name": "LayoutModel",
          "model_module_version": "1.2.0",
          "state": {
            "_model_module": "@jupyter-widgets/base",
            "_model_module_version": "1.2.0",
            "_model_name": "LayoutModel",
            "_view_count": null,
            "_view_module": "@jupyter-widgets/base",
            "_view_module_version": "1.2.0",
            "_view_name": "LayoutView",
            "align_content": null,
            "align_items": null,
            "align_self": null,
            "border": null,
            "bottom": null,
            "display": null,
            "flex": null,
            "flex_flow": null,
            "grid_area": null,
            "grid_auto_columns": null,
            "grid_auto_flow": null,
            "grid_auto_rows": null,
            "grid_column": null,
            "grid_gap": null,
            "grid_row": null,
            "grid_template_areas": null,
            "grid_template_columns": null,
            "grid_template_rows": null,
            "height": null,
            "justify_content": null,
            "justify_items": null,
            "left": null,
            "margin": null,
            "max_height": null,
            "max_width": null,
            "min_height": null,
            "min_width": null,
            "object_fit": null,
            "object_position": null,
            "order": null,
            "overflow": null,
            "overflow_x": null,
            "overflow_y": null,
            "padding": null,
            "right": null,
            "top": null,
            "visibility": null,
            "width": null
          }
        },
        "4effb2c86ccb4df984e5967cb08ffcb3": {
          "model_module": "@jupyter-widgets/base",
          "model_name": "LayoutModel",
          "model_module_version": "1.2.0",
          "state": {
            "_model_module": "@jupyter-widgets/base",
            "_model_module_version": "1.2.0",
            "_model_name": "LayoutModel",
            "_view_count": null,
            "_view_module": "@jupyter-widgets/base",
            "_view_module_version": "1.2.0",
            "_view_name": "LayoutView",
            "align_content": null,
            "align_items": null,
            "align_self": null,
            "border": null,
            "bottom": null,
            "display": null,
            "flex": null,
            "flex_flow": null,
            "grid_area": null,
            "grid_auto_columns": null,
            "grid_auto_flow": null,
            "grid_auto_rows": null,
            "grid_column": null,
            "grid_gap": null,
            "grid_row": null,
            "grid_template_areas": null,
            "grid_template_columns": null,
            "grid_template_rows": null,
            "height": null,
            "justify_content": null,
            "justify_items": null,
            "left": null,
            "margin": null,
            "max_height": null,
            "max_width": null,
            "min_height": null,
            "min_width": null,
            "object_fit": null,
            "object_position": null,
            "order": null,
            "overflow": null,
            "overflow_x": null,
            "overflow_y": null,
            "padding": null,
            "right": null,
            "top": null,
            "visibility": null,
            "width": null
          }
        },
        "4806744570ea488bb0e36ff634d265bd": {
          "model_module": "@jupyter-widgets/controls",
          "model_name": "DescriptionStyleModel",
          "model_module_version": "1.5.0",
          "state": {
            "_model_module": "@jupyter-widgets/controls",
            "_model_module_version": "1.5.0",
            "_model_name": "DescriptionStyleModel",
            "_view_count": null,
            "_view_module": "@jupyter-widgets/base",
            "_view_module_version": "1.2.0",
            "_view_name": "StyleView",
            "description_width": ""
          }
        },
        "4060b483437f4b5987a7494d5744b4db": {
          "model_module": "@jupyter-widgets/base",
          "model_name": "LayoutModel",
          "model_module_version": "1.2.0",
          "state": {
            "_model_module": "@jupyter-widgets/base",
            "_model_module_version": "1.2.0",
            "_model_name": "LayoutModel",
            "_view_count": null,
            "_view_module": "@jupyter-widgets/base",
            "_view_module_version": "1.2.0",
            "_view_name": "LayoutView",
            "align_content": null,
            "align_items": null,
            "align_self": null,
            "border": null,
            "bottom": null,
            "display": null,
            "flex": null,
            "flex_flow": null,
            "grid_area": null,
            "grid_auto_columns": null,
            "grid_auto_flow": null,
            "grid_auto_rows": null,
            "grid_column": null,
            "grid_gap": null,
            "grid_row": null,
            "grid_template_areas": null,
            "grid_template_columns": null,
            "grid_template_rows": null,
            "height": null,
            "justify_content": null,
            "justify_items": null,
            "left": null,
            "margin": null,
            "max_height": null,
            "max_width": null,
            "min_height": null,
            "min_width": null,
            "object_fit": null,
            "object_position": null,
            "order": null,
            "overflow": null,
            "overflow_x": null,
            "overflow_y": null,
            "padding": null,
            "right": null,
            "top": null,
            "visibility": null,
            "width": null
          }
        },
        "8820e7c81ecb4961925fb3bec8b37a17": {
          "model_module": "@jupyter-widgets/controls",
          "model_name": "ProgressStyleModel",
          "model_module_version": "1.5.0",
          "state": {
            "_model_module": "@jupyter-widgets/controls",
            "_model_module_version": "1.5.0",
            "_model_name": "ProgressStyleModel",
            "_view_count": null,
            "_view_module": "@jupyter-widgets/base",
            "_view_module_version": "1.2.0",
            "_view_name": "StyleView",
            "bar_color": null,
            "description_width": ""
          }
        },
        "1aae2ea39c4c4f108db8fcccc970fe7c": {
          "model_module": "@jupyter-widgets/base",
          "model_name": "LayoutModel",
          "model_module_version": "1.2.0",
          "state": {
            "_model_module": "@jupyter-widgets/base",
            "_model_module_version": "1.2.0",
            "_model_name": "LayoutModel",
            "_view_count": null,
            "_view_module": "@jupyter-widgets/base",
            "_view_module_version": "1.2.0",
            "_view_name": "LayoutView",
            "align_content": null,
            "align_items": null,
            "align_self": null,
            "border": null,
            "bottom": null,
            "display": null,
            "flex": null,
            "flex_flow": null,
            "grid_area": null,
            "grid_auto_columns": null,
            "grid_auto_flow": null,
            "grid_auto_rows": null,
            "grid_column": null,
            "grid_gap": null,
            "grid_row": null,
            "grid_template_areas": null,
            "grid_template_columns": null,
            "grid_template_rows": null,
            "height": null,
            "justify_content": null,
            "justify_items": null,
            "left": null,
            "margin": null,
            "max_height": null,
            "max_width": null,
            "min_height": null,
            "min_width": null,
            "object_fit": null,
            "object_position": null,
            "order": null,
            "overflow": null,
            "overflow_x": null,
            "overflow_y": null,
            "padding": null,
            "right": null,
            "top": null,
            "visibility": null,
            "width": null
          }
        },
        "fc8a359bab694dfa8a2b4f8c697ea8ec": {
          "model_module": "@jupyter-widgets/controls",
          "model_name": "DescriptionStyleModel",
          "model_module_version": "1.5.0",
          "state": {
            "_model_module": "@jupyter-widgets/controls",
            "_model_module_version": "1.5.0",
            "_model_name": "DescriptionStyleModel",
            "_view_count": null,
            "_view_module": "@jupyter-widgets/base",
            "_view_module_version": "1.2.0",
            "_view_name": "StyleView",
            "description_width": ""
          }
        },
        "5f5a42fb318c467daca12312028ee472": {
          "model_module": "@jupyter-widgets/controls",
          "model_name": "HBoxModel",
          "model_module_version": "1.5.0",
          "state": {
            "_dom_classes": [],
            "_model_module": "@jupyter-widgets/controls",
            "_model_module_version": "1.5.0",
            "_model_name": "HBoxModel",
            "_view_count": null,
            "_view_module": "@jupyter-widgets/controls",
            "_view_module_version": "1.5.0",
            "_view_name": "HBoxView",
            "box_style": "",
            "children": [
              "IPY_MODEL_61e3f792082c4a05b139b632d6464fd9",
              "IPY_MODEL_8bd2a0fce31b4689962ab8c26b102338",
              "IPY_MODEL_1a2460d1266a4e31a7d7659d73745f97"
            ],
            "layout": "IPY_MODEL_15fe595893ac4cfeb37cd5bd96c52718"
          }
        },
        "61e3f792082c4a05b139b632d6464fd9": {
          "model_module": "@jupyter-widgets/controls",
          "model_name": "HTMLModel",
          "model_module_version": "1.5.0",
          "state": {
            "_dom_classes": [],
            "_model_module": "@jupyter-widgets/controls",
            "_model_module_version": "1.5.0",
            "_model_name": "HTMLModel",
            "_view_count": null,
            "_view_module": "@jupyter-widgets/controls",
            "_view_module_version": "1.5.0",
            "_view_name": "HTMLView",
            "description": "",
            "description_tooltip": null,
            "layout": "IPY_MODEL_d4c9a9e6120e4b9d990cdc81a90f8b8a",
            "placeholder": "​",
            "style": "IPY_MODEL_2e8517cc68ba43e9811145b5e8756123",
            "value": "Loading checkpoint shards: 100%"
          }
        },
        "8bd2a0fce31b4689962ab8c26b102338": {
          "model_module": "@jupyter-widgets/controls",
          "model_name": "FloatProgressModel",
          "model_module_version": "1.5.0",
          "state": {
            "_dom_classes": [],
            "_model_module": "@jupyter-widgets/controls",
            "_model_module_version": "1.5.0",
            "_model_name": "FloatProgressModel",
            "_view_count": null,
            "_view_module": "@jupyter-widgets/controls",
            "_view_module_version": "1.5.0",
            "_view_name": "ProgressView",
            "bar_style": "success",
            "description": "",
            "description_tooltip": null,
            "layout": "IPY_MODEL_4a090c21546e44c6996a50a7d0209a68",
            "max": 3,
            "min": 0,
            "orientation": "horizontal",
            "style": "IPY_MODEL_56c02aa20cc143608db7f13602a7e28e",
            "value": 3
          }
        },
        "1a2460d1266a4e31a7d7659d73745f97": {
          "model_module": "@jupyter-widgets/controls",
          "model_name": "HTMLModel",
          "model_module_version": "1.5.0",
          "state": {
            "_dom_classes": [],
            "_model_module": "@jupyter-widgets/controls",
            "_model_module_version": "1.5.0",
            "_model_name": "HTMLModel",
            "_view_count": null,
            "_view_module": "@jupyter-widgets/controls",
            "_view_module_version": "1.5.0",
            "_view_name": "HTMLView",
            "description": "",
            "description_tooltip": null,
            "layout": "IPY_MODEL_5a6763f0652f4d7ab14d81f99a9f9dd1",
            "placeholder": "​",
            "style": "IPY_MODEL_e5b248513be74f2bbae41fbb33ea86b8",
            "value": " 3/3 [00:08&lt;00:00,  2.61s/it]"
          }
        },
        "15fe595893ac4cfeb37cd5bd96c52718": {
          "model_module": "@jupyter-widgets/base",
          "model_name": "LayoutModel",
          "model_module_version": "1.2.0",
          "state": {
            "_model_module": "@jupyter-widgets/base",
            "_model_module_version": "1.2.0",
            "_model_name": "LayoutModel",
            "_view_count": null,
            "_view_module": "@jupyter-widgets/base",
            "_view_module_version": "1.2.0",
            "_view_name": "LayoutView",
            "align_content": null,
            "align_items": null,
            "align_self": null,
            "border": null,
            "bottom": null,
            "display": null,
            "flex": null,
            "flex_flow": null,
            "grid_area": null,
            "grid_auto_columns": null,
            "grid_auto_flow": null,
            "grid_auto_rows": null,
            "grid_column": null,
            "grid_gap": null,
            "grid_row": null,
            "grid_template_areas": null,
            "grid_template_columns": null,
            "grid_template_rows": null,
            "height": null,
            "justify_content": null,
            "justify_items": null,
            "left": null,
            "margin": null,
            "max_height": null,
            "max_width": null,
            "min_height": null,
            "min_width": null,
            "object_fit": null,
            "object_position": null,
            "order": null,
            "overflow": null,
            "overflow_x": null,
            "overflow_y": null,
            "padding": null,
            "right": null,
            "top": null,
            "visibility": null,
            "width": null
          }
        },
        "d4c9a9e6120e4b9d990cdc81a90f8b8a": {
          "model_module": "@jupyter-widgets/base",
          "model_name": "LayoutModel",
          "model_module_version": "1.2.0",
          "state": {
            "_model_module": "@jupyter-widgets/base",
            "_model_module_version": "1.2.0",
            "_model_name": "LayoutModel",
            "_view_count": null,
            "_view_module": "@jupyter-widgets/base",
            "_view_module_version": "1.2.0",
            "_view_name": "LayoutView",
            "align_content": null,
            "align_items": null,
            "align_self": null,
            "border": null,
            "bottom": null,
            "display": null,
            "flex": null,
            "flex_flow": null,
            "grid_area": null,
            "grid_auto_columns": null,
            "grid_auto_flow": null,
            "grid_auto_rows": null,
            "grid_column": null,
            "grid_gap": null,
            "grid_row": null,
            "grid_template_areas": null,
            "grid_template_columns": null,
            "grid_template_rows": null,
            "height": null,
            "justify_content": null,
            "justify_items": null,
            "left": null,
            "margin": null,
            "max_height": null,
            "max_width": null,
            "min_height": null,
            "min_width": null,
            "object_fit": null,
            "object_position": null,
            "order": null,
            "overflow": null,
            "overflow_x": null,
            "overflow_y": null,
            "padding": null,
            "right": null,
            "top": null,
            "visibility": null,
            "width": null
          }
        },
        "2e8517cc68ba43e9811145b5e8756123": {
          "model_module": "@jupyter-widgets/controls",
          "model_name": "DescriptionStyleModel",
          "model_module_version": "1.5.0",
          "state": {
            "_model_module": "@jupyter-widgets/controls",
            "_model_module_version": "1.5.0",
            "_model_name": "DescriptionStyleModel",
            "_view_count": null,
            "_view_module": "@jupyter-widgets/base",
            "_view_module_version": "1.2.0",
            "_view_name": "StyleView",
            "description_width": ""
          }
        },
        "4a090c21546e44c6996a50a7d0209a68": {
          "model_module": "@jupyter-widgets/base",
          "model_name": "LayoutModel",
          "model_module_version": "1.2.0",
          "state": {
            "_model_module": "@jupyter-widgets/base",
            "_model_module_version": "1.2.0",
            "_model_name": "LayoutModel",
            "_view_count": null,
            "_view_module": "@jupyter-widgets/base",
            "_view_module_version": "1.2.0",
            "_view_name": "LayoutView",
            "align_content": null,
            "align_items": null,
            "align_self": null,
            "border": null,
            "bottom": null,
            "display": null,
            "flex": null,
            "flex_flow": null,
            "grid_area": null,
            "grid_auto_columns": null,
            "grid_auto_flow": null,
            "grid_auto_rows": null,
            "grid_column": null,
            "grid_gap": null,
            "grid_row": null,
            "grid_template_areas": null,
            "grid_template_columns": null,
            "grid_template_rows": null,
            "height": null,
            "justify_content": null,
            "justify_items": null,
            "left": null,
            "margin": null,
            "max_height": null,
            "max_width": null,
            "min_height": null,
            "min_width": null,
            "object_fit": null,
            "object_position": null,
            "order": null,
            "overflow": null,
            "overflow_x": null,
            "overflow_y": null,
            "padding": null,
            "right": null,
            "top": null,
            "visibility": null,
            "width": null
          }
        },
        "56c02aa20cc143608db7f13602a7e28e": {
          "model_module": "@jupyter-widgets/controls",
          "model_name": "ProgressStyleModel",
          "model_module_version": "1.5.0",
          "state": {
            "_model_module": "@jupyter-widgets/controls",
            "_model_module_version": "1.5.0",
            "_model_name": "ProgressStyleModel",
            "_view_count": null,
            "_view_module": "@jupyter-widgets/base",
            "_view_module_version": "1.2.0",
            "_view_name": "StyleView",
            "bar_color": null,
            "description_width": ""
          }
        },
        "5a6763f0652f4d7ab14d81f99a9f9dd1": {
          "model_module": "@jupyter-widgets/base",
          "model_name": "LayoutModel",
          "model_module_version": "1.2.0",
          "state": {
            "_model_module": "@jupyter-widgets/base",
            "_model_module_version": "1.2.0",
            "_model_name": "LayoutModel",
            "_view_count": null,
            "_view_module": "@jupyter-widgets/base",
            "_view_module_version": "1.2.0",
            "_view_name": "LayoutView",
            "align_content": null,
            "align_items": null,
            "align_self": null,
            "border": null,
            "bottom": null,
            "display": null,
            "flex": null,
            "flex_flow": null,
            "grid_area": null,
            "grid_auto_columns": null,
            "grid_auto_flow": null,
            "grid_auto_rows": null,
            "grid_column": null,
            "grid_gap": null,
            "grid_row": null,
            "grid_template_areas": null,
            "grid_template_columns": null,
            "grid_template_rows": null,
            "height": null,
            "justify_content": null,
            "justify_items": null,
            "left": null,
            "margin": null,
            "max_height": null,
            "max_width": null,
            "min_height": null,
            "min_width": null,
            "object_fit": null,
            "object_position": null,
            "order": null,
            "overflow": null,
            "overflow_x": null,
            "overflow_y": null,
            "padding": null,
            "right": null,
            "top": null,
            "visibility": null,
            "width": null
          }
        },
        "e5b248513be74f2bbae41fbb33ea86b8": {
          "model_module": "@jupyter-widgets/controls",
          "model_name": "DescriptionStyleModel",
          "model_module_version": "1.5.0",
          "state": {
            "_model_module": "@jupyter-widgets/controls",
            "_model_module_version": "1.5.0",
            "_model_name": "DescriptionStyleModel",
            "_view_count": null,
            "_view_module": "@jupyter-widgets/base",
            "_view_module_version": "1.2.0",
            "_view_name": "StyleView",
            "description_width": ""
          }
        },
        "34475b4c084d4b61afb7a91dce429f14": {
          "model_module": "@jupyter-widgets/controls",
          "model_name": "HBoxModel",
          "model_module_version": "1.5.0",
          "state": {
            "_dom_classes": [],
            "_model_module": "@jupyter-widgets/controls",
            "_model_module_version": "1.5.0",
            "_model_name": "HBoxModel",
            "_view_count": null,
            "_view_module": "@jupyter-widgets/controls",
            "_view_module_version": "1.5.0",
            "_view_name": "HBoxView",
            "box_style": "",
            "children": [
              "IPY_MODEL_e2ea6bb43a924ee6a30966ec839c2f51",
              "IPY_MODEL_c71d2d95e3884995b8bdb5c71ff47545",
              "IPY_MODEL_a6171592a2ac446f876826c6502e4a68"
            ],
            "layout": "IPY_MODEL_0daa1b8d43e949f6ba4ede86530cc162"
          }
        },
        "e2ea6bb43a924ee6a30966ec839c2f51": {
          "model_module": "@jupyter-widgets/controls",
          "model_name": "HTMLModel",
          "model_module_version": "1.5.0",
          "state": {
            "_dom_classes": [],
            "_model_module": "@jupyter-widgets/controls",
            "_model_module_version": "1.5.0",
            "_model_name": "HTMLModel",
            "_view_count": null,
            "_view_module": "@jupyter-widgets/controls",
            "_view_module_version": "1.5.0",
            "_view_name": "HTMLView",
            "description": "",
            "description_tooltip": null,
            "layout": "IPY_MODEL_b7bfbb15cd0343639e43b1e403592e38",
            "placeholder": "​",
            "style": "IPY_MODEL_f66562ad84d9490c95d682b5edc5775c",
            "value": "generation_config.json: 100%"
          }
        },
        "c71d2d95e3884995b8bdb5c71ff47545": {
          "model_module": "@jupyter-widgets/controls",
          "model_name": "FloatProgressModel",
          "model_module_version": "1.5.0",
          "state": {
            "_dom_classes": [],
            "_model_module": "@jupyter-widgets/controls",
            "_model_module_version": "1.5.0",
            "_model_name": "FloatProgressModel",
            "_view_count": null,
            "_view_module": "@jupyter-widgets/controls",
            "_view_module_version": "1.5.0",
            "_view_name": "ProgressView",
            "bar_style": "success",
            "description": "",
            "description_tooltip": null,
            "layout": "IPY_MODEL_83a9a1e53c604ac8a2d01d32dc138a7d",
            "max": 111,
            "min": 0,
            "orientation": "horizontal",
            "style": "IPY_MODEL_187a7e699a834f588b4ed46be2d35077",
            "value": 111
          }
        },
        "a6171592a2ac446f876826c6502e4a68": {
          "model_module": "@jupyter-widgets/controls",
          "model_name": "HTMLModel",
          "model_module_version": "1.5.0",
          "state": {
            "_dom_classes": [],
            "_model_module": "@jupyter-widgets/controls",
            "_model_module_version": "1.5.0",
            "_model_name": "HTMLModel",
            "_view_count": null,
            "_view_module": "@jupyter-widgets/controls",
            "_view_module_version": "1.5.0",
            "_view_name": "HTMLView",
            "description": "",
            "description_tooltip": null,
            "layout": "IPY_MODEL_ff1beeac59884b5d828d89168e7ec0de",
            "placeholder": "​",
            "style": "IPY_MODEL_203b9c94b5f744408853ea64ca038f01",
            "value": " 111/111 [00:00&lt;00:00, 10.4kB/s]"
          }
        },
        "0daa1b8d43e949f6ba4ede86530cc162": {
          "model_module": "@jupyter-widgets/base",
          "model_name": "LayoutModel",
          "model_module_version": "1.2.0",
          "state": {
            "_model_module": "@jupyter-widgets/base",
            "_model_module_version": "1.2.0",
            "_model_name": "LayoutModel",
            "_view_count": null,
            "_view_module": "@jupyter-widgets/base",
            "_view_module_version": "1.2.0",
            "_view_name": "LayoutView",
            "align_content": null,
            "align_items": null,
            "align_self": null,
            "border": null,
            "bottom": null,
            "display": null,
            "flex": null,
            "flex_flow": null,
            "grid_area": null,
            "grid_auto_columns": null,
            "grid_auto_flow": null,
            "grid_auto_rows": null,
            "grid_column": null,
            "grid_gap": null,
            "grid_row": null,
            "grid_template_areas": null,
            "grid_template_columns": null,
            "grid_template_rows": null,
            "height": null,
            "justify_content": null,
            "justify_items": null,
            "left": null,
            "margin": null,
            "max_height": null,
            "max_width": null,
            "min_height": null,
            "min_width": null,
            "object_fit": null,
            "object_position": null,
            "order": null,
            "overflow": null,
            "overflow_x": null,
            "overflow_y": null,
            "padding": null,
            "right": null,
            "top": null,
            "visibility": null,
            "width": null
          }
        },
        "b7bfbb15cd0343639e43b1e403592e38": {
          "model_module": "@jupyter-widgets/base",
          "model_name": "LayoutModel",
          "model_module_version": "1.2.0",
          "state": {
            "_model_module": "@jupyter-widgets/base",
            "_model_module_version": "1.2.0",
            "_model_name": "LayoutModel",
            "_view_count": null,
            "_view_module": "@jupyter-widgets/base",
            "_view_module_version": "1.2.0",
            "_view_name": "LayoutView",
            "align_content": null,
            "align_items": null,
            "align_self": null,
            "border": null,
            "bottom": null,
            "display": null,
            "flex": null,
            "flex_flow": null,
            "grid_area": null,
            "grid_auto_columns": null,
            "grid_auto_flow": null,
            "grid_auto_rows": null,
            "grid_column": null,
            "grid_gap": null,
            "grid_row": null,
            "grid_template_areas": null,
            "grid_template_columns": null,
            "grid_template_rows": null,
            "height": null,
            "justify_content": null,
            "justify_items": null,
            "left": null,
            "margin": null,
            "max_height": null,
            "max_width": null,
            "min_height": null,
            "min_width": null,
            "object_fit": null,
            "object_position": null,
            "order": null,
            "overflow": null,
            "overflow_x": null,
            "overflow_y": null,
            "padding": null,
            "right": null,
            "top": null,
            "visibility": null,
            "width": null
          }
        },
        "f66562ad84d9490c95d682b5edc5775c": {
          "model_module": "@jupyter-widgets/controls",
          "model_name": "DescriptionStyleModel",
          "model_module_version": "1.5.0",
          "state": {
            "_model_module": "@jupyter-widgets/controls",
            "_model_module_version": "1.5.0",
            "_model_name": "DescriptionStyleModel",
            "_view_count": null,
            "_view_module": "@jupyter-widgets/base",
            "_view_module_version": "1.2.0",
            "_view_name": "StyleView",
            "description_width": ""
          }
        },
        "83a9a1e53c604ac8a2d01d32dc138a7d": {
          "model_module": "@jupyter-widgets/base",
          "model_name": "LayoutModel",
          "model_module_version": "1.2.0",
          "state": {
            "_model_module": "@jupyter-widgets/base",
            "_model_module_version": "1.2.0",
            "_model_name": "LayoutModel",
            "_view_count": null,
            "_view_module": "@jupyter-widgets/base",
            "_view_module_version": "1.2.0",
            "_view_name": "LayoutView",
            "align_content": null,
            "align_items": null,
            "align_self": null,
            "border": null,
            "bottom": null,
            "display": null,
            "flex": null,
            "flex_flow": null,
            "grid_area": null,
            "grid_auto_columns": null,
            "grid_auto_flow": null,
            "grid_auto_rows": null,
            "grid_column": null,
            "grid_gap": null,
            "grid_row": null,
            "grid_template_areas": null,
            "grid_template_columns": null,
            "grid_template_rows": null,
            "height": null,
            "justify_content": null,
            "justify_items": null,
            "left": null,
            "margin": null,
            "max_height": null,
            "max_width": null,
            "min_height": null,
            "min_width": null,
            "object_fit": null,
            "object_position": null,
            "order": null,
            "overflow": null,
            "overflow_x": null,
            "overflow_y": null,
            "padding": null,
            "right": null,
            "top": null,
            "visibility": null,
            "width": null
          }
        },
        "187a7e699a834f588b4ed46be2d35077": {
          "model_module": "@jupyter-widgets/controls",
          "model_name": "ProgressStyleModel",
          "model_module_version": "1.5.0",
          "state": {
            "_model_module": "@jupyter-widgets/controls",
            "_model_module_version": "1.5.0",
            "_model_name": "ProgressStyleModel",
            "_view_count": null,
            "_view_module": "@jupyter-widgets/base",
            "_view_module_version": "1.2.0",
            "_view_name": "StyleView",
            "bar_color": null,
            "description_width": ""
          }
        },
        "ff1beeac59884b5d828d89168e7ec0de": {
          "model_module": "@jupyter-widgets/base",
          "model_name": "LayoutModel",
          "model_module_version": "1.2.0",
          "state": {
            "_model_module": "@jupyter-widgets/base",
            "_model_module_version": "1.2.0",
            "_model_name": "LayoutModel",
            "_view_count": null,
            "_view_module": "@jupyter-widgets/base",
            "_view_module_version": "1.2.0",
            "_view_name": "LayoutView",
            "align_content": null,
            "align_items": null,
            "align_self": null,
            "border": null,
            "bottom": null,
            "display": null,
            "flex": null,
            "flex_flow": null,
            "grid_area": null,
            "grid_auto_columns": null,
            "grid_auto_flow": null,
            "grid_auto_rows": null,
            "grid_column": null,
            "grid_gap": null,
            "grid_row": null,
            "grid_template_areas": null,
            "grid_template_columns": null,
            "grid_template_rows": null,
            "height": null,
            "justify_content": null,
            "justify_items": null,
            "left": null,
            "margin": null,
            "max_height": null,
            "max_width": null,
            "min_height": null,
            "min_width": null,
            "object_fit": null,
            "object_position": null,
            "order": null,
            "overflow": null,
            "overflow_x": null,
            "overflow_y": null,
            "padding": null,
            "right": null,
            "top": null,
            "visibility": null,
            "width": null
          }
        },
        "203b9c94b5f744408853ea64ca038f01": {
          "model_module": "@jupyter-widgets/controls",
          "model_name": "DescriptionStyleModel",
          "model_module_version": "1.5.0",
          "state": {
            "_model_module": "@jupyter-widgets/controls",
            "_model_module_version": "1.5.0",
            "_model_name": "DescriptionStyleModel",
            "_view_count": null,
            "_view_module": "@jupyter-widgets/base",
            "_view_module_version": "1.2.0",
            "_view_name": "StyleView",
            "description_width": ""
          }
        }
      }
    }
  },
  "cells": [
    {
      "cell_type": "code",
      "execution_count": null,
      "metadata": {
        "id": "COvg0hoeTP8C",
        "colab": {
          "base_uri": "https://localhost:8080/"
        },
        "outputId": "f3b000b9-f7d6-44cd-be0d-3efed5347a8a"
      },
      "outputs": [
        {
          "output_type": "stream",
          "name": "stdout",
          "text": [
            "  Installing build dependencies ... \u001b[?25l\u001b[?25hdone\n",
            "  Getting requirements to build wheel ... \u001b[?25l\u001b[?25hdone\n",
            "  Preparing metadata (pyproject.toml) ... \u001b[?25l\u001b[?25hdone\n",
            "\u001b[2K     \u001b[90m━━━━━━━━━━━━━━━━━━━━━━━━━━━━━━━━━━━━━━━━\u001b[0m \u001b[32m401.2/401.2 kB\u001b[0m \u001b[31m7.8 MB/s\u001b[0m eta \u001b[36m0:00:00\u001b[0m\n",
            "\u001b[?25h  Building wheel for transformers (pyproject.toml) ... \u001b[?25l\u001b[?25hdone\n",
            "  Installing build dependencies ... \u001b[?25l\u001b[?25hdone\n",
            "  Getting requirements to build wheel ... \u001b[?25l\u001b[?25hdone\n",
            "  Preparing metadata (pyproject.toml) ... \u001b[?25l\u001b[?25hdone\n",
            "  Building wheel for accelerate (pyproject.toml) ... \u001b[?25l\u001b[?25hdone\n",
            "\u001b[2K     \u001b[90m━━━━━━━━━━━━━━━━━━━━━━━━━━━━━━━━━━━━━━━━\u001b[0m \u001b[32m119.8/119.8 MB\u001b[0m \u001b[31m14.1 MB/s\u001b[0m eta \u001b[36m0:00:00\u001b[0m\n",
            "\u001b[?25h  Installing build dependencies ... \u001b[?25l\u001b[?25hdone\n",
            "  Getting requirements to build wheel ... \u001b[?25l\u001b[?25hdone\n",
            "  Preparing metadata (pyproject.toml) ... \u001b[?25l\u001b[?25hdone\n",
            "  Building wheel for peft (pyproject.toml) ... \u001b[?25l\u001b[?25hdone\n",
            "\u001b[2K     \u001b[90m━━━━━━━━━━━━━━━━━━━━━━━━━━━━━━━━━━━━━━━━\u001b[0m \u001b[32m38.0/38.0 MB\u001b[0m \u001b[31m45.0 MB/s\u001b[0m eta \u001b[36m0:00:00\u001b[0m\n",
            "\u001b[2K     \u001b[90m━━━━━━━━━━━━━━━━━━━━━━━━━━━━━━━━━━━━━━━━\u001b[0m \u001b[32m542.0/542.0 kB\u001b[0m \u001b[31m8.8 MB/s\u001b[0m eta \u001b[36m0:00:00\u001b[0m\n",
            "\u001b[2K     \u001b[90m━━━━━━━━━━━━━━━━━━━━━━━━━━━━━━━━━━━━━━━━\u001b[0m \u001b[32m116.3/116.3 kB\u001b[0m \u001b[31m8.8 MB/s\u001b[0m eta \u001b[36m0:00:00\u001b[0m\n",
            "\u001b[2K     \u001b[90m━━━━━━━━━━━━━━━━━━━━━━━━━━━━━━━━━━━━━━━━\u001b[0m \u001b[32m194.1/194.1 kB\u001b[0m \u001b[31m14.8 MB/s\u001b[0m eta \u001b[36m0:00:00\u001b[0m\n",
            "\u001b[2K     \u001b[90m━━━━━━━━━━━━━━━━━━━━━━━━━━━━━━━━━━━━━━━━\u001b[0m \u001b[32m134.8/134.8 kB\u001b[0m \u001b[31m13.1 MB/s\u001b[0m eta \u001b[36m0:00:00\u001b[0m\n",
            "\u001b[?25h"
          ]
        }
      ],
      "source": [
        "!pip install -q -U git+https://github.com/huggingface/transformers.git\n",
        "!pip install -q -U git+https://github.com/huggingface/accelerate.git\n",
        "!pip install -q torch\n",
        "!pip install -q -U bitsandbytes\n",
        "!pip install -q -U git+https://github.com/huggingface/peft.git\n",
        "!pip install -q pyarrow==14.0.1\n",
        "!pip install -q datasets"
      ]
    },
    {
      "cell_type": "code",
      "source": [
        "from google.colab import userdata\n",
        "\n",
        "# Defined in the secrets tab in Google Colab\n",
        "hf_token = userdata.get('HuggingFace')"
      ],
      "metadata": {
        "id": "J8eIb4ooUURe"
      },
      "execution_count": null,
      "outputs": []
    },
    {
      "cell_type": "code",
      "source": [
        "from huggingface_hub import whoami\n",
        "\n",
        "user = whoami(token=hf_token)['name']"
      ],
      "metadata": {
        "id": "7KzNlaATUvHy"
      },
      "execution_count": null,
      "outputs": []
    },
    {
      "cell_type": "code",
      "source": [
        "from google.colab import drive\n",
        "\n",
        "drive.mount('/content/drive')"
      ],
      "metadata": {
        "id": "OQIFbqHDUGDr",
        "colab": {
          "base_uri": "https://localhost:8080/"
        },
        "outputId": "e9a9effc-5148-411d-a9ff-f95a0b357b07"
      },
      "execution_count": null,
      "outputs": [
        {
          "output_type": "stream",
          "name": "stdout",
          "text": [
            "Mounted at /content/drive\n"
          ]
        }
      ]
    },
    {
      "cell_type": "code",
      "source": [
        "import torch\n",
        "import random\n",
        "\n",
        "from peft import PeftConfig, PeftModel, PeftModelForCausalLM\n",
        "from transformers import AutoModelForCausalLM, AutoTokenizer\n",
        "from datasets import load_dataset"
      ],
      "metadata": {
        "id": "v6A9xDyET22d"
      },
      "execution_count": null,
      "outputs": []
    },
    {
      "cell_type": "code",
      "source": [
        "from typing import TypeVar, List, Tuple, Dict, NoReturn\n",
        "from datasets import DatasetDict, Dataset, IterableDatasetDict, IterableDataset\n",
        "\n",
        "T = TypeVar(\"T\")\n",
        "\n",
        "DataPointType=DatasetDict | Dataset | IterableDatasetDict | IterableDataset\n",
        "DataPointTrain =Dataset | List | T\n",
        "DataPointTest =Dataset | List | T\n",
        "\n",
        "from transformers.models.llama.tokenization_llama_fast import LlamaTokenizerFast\n",
        "from transformers.models.mistral.modeling_mistral import MistralForCausalLM"
      ],
      "metadata": {
        "id": "yltW8V0waepV"
      },
      "execution_count": null,
      "outputs": []
    },
    {
      "cell_type": "code",
      "source": [
        "# BASE_MODEL_NAME = \"mistralai/Mistral-7B-v0.1\"\n",
        "BASE_MODEL_NAME=\"mistralai/Mistral-7B-Instruct-v0.2\"\n",
        "\n",
        "BLUEPRINT_ADAPTER_CHECKPOINTS_NAME = \"ckpts_mistral_7B_blueprint_planning_v2\"\n",
        "DETAIL_ADAPTER_CHECKPOINTS_NAME = \"ckpts_mistral_7B_detailed_planning_v2\"\n",
        "\n",
        "MERGED_MODEL_NAME=\"Categorical_Planning_Mistral-7B-Instruct-v0.2\""
      ],
      "metadata": {
        "id": "jVtt4mK1U7Vm"
      },
      "execution_count": null,
      "outputs": []
    },
    {
      "cell_type": "code",
      "source": [
        "from IPython.display import HTML, display\n",
        "\n",
        "def set_css():\n",
        "  display(HTML('''\n",
        "  <style>\n",
        "    pre {\n",
        "        white-space: pre-wrap;\n",
        "    }\n",
        "  </style>\n",
        "  '''))\n",
        "get_ipython().events.register('pre_run_cell', set_css)"
      ],
      "metadata": {
        "id": "K9iFBfiPsbpP"
      },
      "execution_count": null,
      "outputs": []
    },
    {
      "cell_type": "code",
      "source": [
        "from transformers import AutoTokenizer\n",
        "\n",
        "def load_tokenizer(model_id: str = BASE_MODEL_NAME)->LlamaTokenizerFast:\n",
        "    tokenizer = AutoTokenizer.from_pretrained(model_id, add_eos_token=True)\n",
        "\n",
        "    # Check if the pad token is already in the tokenizer\n",
        "    if '[<pad>]' not in tokenizer.get_vocab():\n",
        "        # Add the pad token\n",
        "        tokenizer.add_tokens(['[<pad>]'])\n",
        "        print(\"Added pad token\")\n",
        "\n",
        "    # Set the pad token\n",
        "    tokenizer.pad_token = '[<pad>]'\n",
        "\n",
        "    tokenizer.padding_side='left'\n",
        "\n",
        "    # Print the pad token ids\n",
        "    print('Tokenizer pad token ID:', tokenizer.pad_token_id)\n",
        "    return tokenizer"
      ],
      "metadata": {
        "id": "v63ux-I6V9zB",
        "colab": {
          "base_uri": "https://localhost:8080/",
          "height": 17
        },
        "outputId": "c6b77532-06e7-4e07-e78c-5fafbf9f7cd3"
      },
      "execution_count": null,
      "outputs": [
        {
          "output_type": "display_data",
          "data": {
            "text/plain": [
              "<IPython.core.display.HTML object>"
            ],
            "text/html": [
              "\n",
              "  <style>\n",
              "    pre {\n",
              "        white-space: pre-wrap;\n",
              "    }\n",
              "  </style>\n",
              "  "
            ]
          },
          "metadata": {}
        }
      ]
    },
    {
      "cell_type": "code",
      "source": [
        "!pip install --upgrade huggingface_hub"
      ],
      "metadata": {
        "id": "vazUYa2eo6Om",
        "colab": {
          "base_uri": "https://localhost:8080/",
          "height": 408
        },
        "outputId": "8c54cb7b-6184-4b9c-9d6b-51b9580f62cd"
      },
      "execution_count": null,
      "outputs": [
        {
          "output_type": "display_data",
          "data": {
            "text/plain": [
              "<IPython.core.display.HTML object>"
            ],
            "text/html": [
              "\n",
              "  <style>\n",
              "    pre {\n",
              "        white-space: pre-wrap;\n",
              "    }\n",
              "  </style>\n",
              "  "
            ]
          },
          "metadata": {}
        },
        {
          "output_type": "stream",
          "name": "stdout",
          "text": [
            "Requirement already satisfied: huggingface_hub in /usr/local/lib/python3.10/dist-packages (0.23.0)\n",
            "Requirement already satisfied: filelock in /usr/local/lib/python3.10/dist-packages (from huggingface_hub) (3.14.0)\n",
            "Requirement already satisfied: fsspec>=2023.5.0 in /usr/local/lib/python3.10/dist-packages (from huggingface_hub) (2023.6.0)\n",
            "Requirement already satisfied: packaging>=20.9 in /usr/local/lib/python3.10/dist-packages (from huggingface_hub) (24.0)\n",
            "Requirement already satisfied: pyyaml>=5.1 in /usr/local/lib/python3.10/dist-packages (from huggingface_hub) (6.0.1)\n",
            "Requirement already satisfied: requests in /usr/local/lib/python3.10/dist-packages (from huggingface_hub) (2.31.0)\n",
            "Requirement already satisfied: tqdm>=4.42.1 in /usr/local/lib/python3.10/dist-packages (from huggingface_hub) (4.66.4)\n",
            "Requirement already satisfied: typing-extensions>=3.7.4.3 in /usr/local/lib/python3.10/dist-packages (from huggingface_hub) (4.11.0)\n",
            "Requirement already satisfied: charset-normalizer<4,>=2 in /usr/local/lib/python3.10/dist-packages (from requests->huggingface_hub) (3.3.2)\n",
            "Requirement already satisfied: idna<4,>=2.5 in /usr/local/lib/python3.10/dist-packages (from requests->huggingface_hub) (3.7)\n",
            "Requirement already satisfied: urllib3<3,>=1.21.1 in /usr/local/lib/python3.10/dist-packages (from requests->huggingface_hub) (2.0.7)\n",
            "Requirement already satisfied: certifi>=2017.4.17 in /usr/local/lib/python3.10/dist-packages (from requests->huggingface_hub) (2024.2.2)\n"
          ]
        }
      ]
    },
    {
      "cell_type": "code",
      "source": [
        "from huggingface_hub import login\n",
        "login()"
      ],
      "metadata": {
        "id": "Cxt78ilho7T9",
        "colab": {
          "base_uri": "https://localhost:8080/",
          "height": 145,
          "referenced_widgets": [
            "da03ade692004039b227d748ca2e429f",
            "14ba29091eb44b51ba0296f0537d211c",
            "5e8c797216604ef9b1260265da0db28f",
            "db66807a21a7464a9702491e5cb08d4d",
            "256703b90d994b3e90d54c68a47773db",
            "129741d5521a4f6a907d7f966edfad44",
            "bee221cdb6f64f3fa1fecd9611aa2e6a",
            "978c574e676b4054964efbee1641d9e1",
            "cb5cf6d6baba4520b9d175f30b892688",
            "2d03034da8504832b24a8431245a1a08",
            "a0b1db74de244d6fa22f762b438e875a",
            "e5dfe56399ba4f399486c68428846ea5",
            "ea22358cbe3d436da23b4492607de7a9",
            "e96f64d725e04a309259a3f50ab2d1e4",
            "7d416295fcbb4e1bb197dec05824cec7",
            "1661b61ca1e24c558de2f3dc0ddbc011",
            "cdf0d88ca8654974a6ef0b5251f5d096",
            "e69c5b95854f4f21a55295d5a457eff2",
            "34029dc8bb6b4e2aa3a013b68c22ac9a",
            "897c26d24359411e9000d8f9c5b350d1",
            "4cdf18ee8ac84874abc808b4a5b74b66",
            "29b36e6eaccb4d5fa45bb5b548b63481",
            "996c97b9efdd41838495df405337b272",
            "0c5688dacbaf49c9948a8f66f402ec47",
            "c506aa8a252140728f12b5d58c6aa3a5",
            "bc781d00b661490cb9a3e0dffd46566d",
            "0c64032cfbd84a369a26b5cb397b2677",
            "81d0f7567bb74c4ca76adef2909f2860",
            "55caeaee7b7343de9e7af1b112041aba",
            "dd58728fcb9b41ad84579eac4ca39318",
            "39e4ddd5f59548adbf4705d0764e75af",
            "892daa66996d4d8db2047f343b3bea47"
          ]
        },
        "outputId": "bd61d749-f45b-4f9b-bc20-f6fdfc4ddda9"
      },
      "execution_count": null,
      "outputs": [
        {
          "output_type": "display_data",
          "data": {
            "text/plain": [
              "<IPython.core.display.HTML object>"
            ],
            "text/html": [
              "\n",
              "  <style>\n",
              "    pre {\n",
              "        white-space: pre-wrap;\n",
              "    }\n",
              "  </style>\n",
              "  "
            ]
          },
          "metadata": {}
        },
        {
          "output_type": "display_data",
          "data": {
            "text/plain": [
              "VBox(children=(HTML(value='<center> <img\\nsrc=https://huggingface.co/front/assets/huggingface_logo-noborder.sv…"
            ],
            "application/vnd.jupyter.widget-view+json": {
              "version_major": 2,
              "version_minor": 0,
              "model_id": "da03ade692004039b227d748ca2e429f"
            }
          },
          "metadata": {}
        }
      ]
    },
    {
      "cell_type": "code",
      "source": [
        "tokenizer=load_tokenizer()"
      ],
      "metadata": {
        "id": "d1fcChxCV_qO",
        "colab": {
          "base_uri": "https://localhost:8080/",
          "height": 298,
          "referenced_widgets": [
            "39c575e3e1a045259a5bc3fba7ccf348",
            "28e2d0c18bcf4adb8864dfa765668471",
            "9374eaa096e64b19b9b3c490851cfa6b",
            "263a1821c9f246f5bb503debee7ef1bc",
            "0f631615a8c04c4394f38ceba5de4057",
            "194c34cbbaf94cd5b84180db1e76d4d7",
            "2bc89f05ef724755b6c8f4566ae697bf",
            "edc60a7f40c34f45a54b6aa769ea85c9",
            "b9f1dd81af5a4200848d09b0b02fc71e",
            "e2e8dd5f32af4e6fb3c8c7718058a466",
            "d57f229fe264451b88dcf17654604c38",
            "52a5fba47c594de59e62b379d3bddc38",
            "244449c5cb554bb8a6fc82d0ebb74c54",
            "adedbaff192b4ab5a39cb1e1af915e89",
            "0313ba8ab57a4d468564f31c42fab633",
            "4bc60e3363e44732848213402e05652e",
            "6fbf8942904f40df85ea909b24e70ede",
            "33a871d1da5b47a1adbd0d9b7ef9c6ac",
            "efe48d2e459049dab3399d0bb3e394c5",
            "270f4d3eb49d4a6893bb748c42923bc7",
            "520cef11ddef4f68950565a17f791f5e",
            "bf4df79f21aa47e0864f407366417d4f",
            "c2a24537afaf43df9a02c66c536f063c",
            "485c9dc4945745859ad23bb287c003ac",
            "5d3afd029d5943e0be3dbe26d88d2cb3",
            "cfe739d4dbb6490caf942adf08236a5d",
            "9a783b7aa5064c54aa7b64a20e501bd4",
            "de306bfb1152484f80d1f0759f747a99",
            "83f88e10da994ff49942c21b40cce4e9",
            "9633be83238941099c52132d9f7c80a1",
            "56c19376ae774472b77027e641c87f7d",
            "0490db0750844fcd80aeff43347491f0",
            "1e1105fbabd5455bac30ab69aae668b6",
            "618d16a7d60d4c8c9826fbf0dfff8012",
            "8513e451b5a74f4cb51516f9c5b648f4",
            "aa34da8de7f54e3d9fcc399fbc663786",
            "1abfed310cda45c8b12bccf8e6a49dea",
            "8f77ca3277ed445b89bff6e6a57aa3c1",
            "5ac74e0b36e64d418bc5dfb16b7839d3",
            "6251bce68d1f4b4c89448f7a71c5cc38",
            "16fb134d20de47879f368c22e21448e2",
            "ff047f5c6dd346718902f9bbbbacfd28",
            "1322e330d52a4c13a8a6de4a0a51a6ed",
            "50d3c586c052429a9cb99775c8a60c45"
          ]
        },
        "outputId": "c58203e6-fac8-4ae1-b201-64e2b4354fa9"
      },
      "execution_count": null,
      "outputs": [
        {
          "output_type": "display_data",
          "data": {
            "text/plain": [
              "<IPython.core.display.HTML object>"
            ],
            "text/html": [
              "\n",
              "  <style>\n",
              "    pre {\n",
              "        white-space: pre-wrap;\n",
              "    }\n",
              "  </style>\n",
              "  "
            ]
          },
          "metadata": {}
        },
        {
          "output_type": "stream",
          "name": "stderr",
          "text": [
            "/usr/local/lib/python3.10/dist-packages/huggingface_hub/utils/_token.py:89: UserWarning: \n",
            "The secret `HF_TOKEN` does not exist in your Colab secrets.\n",
            "To authenticate with the Hugging Face Hub, create a token in your settings tab (https://huggingface.co/settings/tokens), set it as secret in your Google Colab and restart your session.\n",
            "You will be able to reuse this secret in all of your notebooks.\n",
            "Please note that authentication is recommended but still optional to access public models or datasets.\n",
            "  warnings.warn(\n"
          ]
        },
        {
          "output_type": "display_data",
          "data": {
            "text/plain": [
              "tokenizer_config.json:   0%|          | 0.00/1.46k [00:00<?, ?B/s]"
            ],
            "application/vnd.jupyter.widget-view+json": {
              "version_major": 2,
              "version_minor": 0,
              "model_id": "39c575e3e1a045259a5bc3fba7ccf348"
            }
          },
          "metadata": {}
        },
        {
          "output_type": "display_data",
          "data": {
            "text/plain": [
              "tokenizer.model:   0%|          | 0.00/493k [00:00<?, ?B/s]"
            ],
            "application/vnd.jupyter.widget-view+json": {
              "version_major": 2,
              "version_minor": 0,
              "model_id": "52a5fba47c594de59e62b379d3bddc38"
            }
          },
          "metadata": {}
        },
        {
          "output_type": "display_data",
          "data": {
            "text/plain": [
              "tokenizer.json:   0%|          | 0.00/1.80M [00:00<?, ?B/s]"
            ],
            "application/vnd.jupyter.widget-view+json": {
              "version_major": 2,
              "version_minor": 0,
              "model_id": "c2a24537afaf43df9a02c66c536f063c"
            }
          },
          "metadata": {}
        },
        {
          "output_type": "display_data",
          "data": {
            "text/plain": [
              "special_tokens_map.json:   0%|          | 0.00/72.0 [00:00<?, ?B/s]"
            ],
            "application/vnd.jupyter.widget-view+json": {
              "version_major": 2,
              "version_minor": 0,
              "model_id": "618d16a7d60d4c8c9826fbf0dfff8012"
            }
          },
          "metadata": {}
        },
        {
          "output_type": "stream",
          "name": "stdout",
          "text": [
            "Added pad token\n",
            "Tokenizer pad token ID: 32000\n"
          ]
        }
      ]
    },
    {
      "cell_type": "code",
      "source": [
        "print(\"EOS token:\", tokenizer.eos_token)\n",
        "print(\"EOS token id:\", tokenizer.eos_token_id)\n",
        "\n",
        "print(\"Pad token: \", tokenizer.pad_token)\n",
        "print(\"Pad token ID: \", tokenizer.pad_token_id)\n",
        "\n",
        "print(tokenizer)"
      ],
      "metadata": {
        "id": "-9It8jLvWENj",
        "colab": {
          "base_uri": "https://localhost:8080/",
          "height": 255
        },
        "outputId": "2bbb3e99-565a-4d6e-bd85-d4f0a412281a"
      },
      "execution_count": null,
      "outputs": [
        {
          "output_type": "display_data",
          "data": {
            "text/plain": [
              "<IPython.core.display.HTML object>"
            ],
            "text/html": [
              "\n",
              "  <style>\n",
              "    pre {\n",
              "        white-space: pre-wrap;\n",
              "    }\n",
              "  </style>\n",
              "  "
            ]
          },
          "metadata": {}
        },
        {
          "output_type": "stream",
          "name": "stdout",
          "text": [
            "EOS token: </s>\n",
            "EOS token id: 2\n",
            "Pad token:  [<pad>]\n",
            "Pad token ID:  32000\n",
            "LlamaTokenizerFast(name_or_path='mistralai/Mistral-7B-Instruct-v0.2', vocab_size=32000, model_max_length=1000000000000000019884624838656, is_fast=True, padding_side='left', truncation_side='right', special_tokens={'bos_token': '<s>', 'eos_token': '</s>', 'unk_token': '<unk>', 'pad_token': '[<pad>]'}, clean_up_tokenization_spaces=False),  added_tokens_decoder={\n",
            "\t0: AddedToken(\"<unk>\", rstrip=False, lstrip=False, single_word=False, normalized=False, special=True),\n",
            "\t1: AddedToken(\"<s>\", rstrip=False, lstrip=False, single_word=False, normalized=False, special=True),\n",
            "\t2: AddedToken(\"</s>\", rstrip=False, lstrip=False, single_word=False, normalized=False, special=True),\n",
            "\t32000: AddedToken(\"[<pad>]\", rstrip=False, lstrip=False, single_word=False, normalized=True, special=False),\n",
            "}\n"
          ]
        }
      ]
    },
    {
      "cell_type": "code",
      "source": [
        "from datasets import load_dataset\n",
        "\n",
        "def custom_dataset_load(data_dir: str)->DataPointType:\n",
        "    data = load_dataset(data_dir, split=\"train\")\n",
        "    return data"
      ],
      "metadata": {
        "id": "SU2MApszWLic",
        "colab": {
          "base_uri": "https://localhost:8080/",
          "height": 17
        },
        "outputId": "32ab672d-3a27-4bbe-ee42-8cd942929ae5"
      },
      "execution_count": null,
      "outputs": [
        {
          "output_type": "display_data",
          "data": {
            "text/plain": [
              "<IPython.core.display.HTML object>"
            ],
            "text/html": [
              "\n",
              "  <style>\n",
              "    pre {\n",
              "        white-space: pre-wrap;\n",
              "    }\n",
              "  </style>\n",
              "  "
            ]
          },
          "metadata": {}
        }
      ]
    },
    {
      "cell_type": "code",
      "source": [
        "def format_dataset_blueprint_fn(data_points: DataPointType) -> DataPointType:\n",
        "    template = \"Below is an instruction that describes a composite task. Provide the structured blueprint planning for the following task.\"\n",
        "\n",
        "    INST = \"### Instruction:\"\n",
        "    RESP = \"### Response:\"\n",
        "\n",
        "    # Create the formatted text\n",
        "    formatted_dataset = data_points.map(\n",
        "        lambda x: {\n",
        "            \"prompt\": \"\".join(\n",
        "                [\n",
        "                    f\"{template}\\n\\n\",\n",
        "                    f\"{INST}{x['Instruction'].strip()}\\n\\n\",\n",
        "                    f\"{RESP}{x['Blueprint'].strip()}\",\n",
        "                ]\n",
        "            ),\n",
        "            \"response\": \"\".join(\n",
        "                [\n",
        "                    f\"{RESP}{x['Blueprint'].strip()}\",\n",
        "                ]\n",
        "            ),\n",
        "        }\n",
        "    )\n",
        "    return formatted_dataset"
      ],
      "metadata": {
        "id": "z7Fa71K4Wt-s",
        "colab": {
          "base_uri": "https://localhost:8080/",
          "height": 17
        },
        "outputId": "4303b1a0-da4f-44b9-e9b0-d72ea55acc79"
      },
      "execution_count": null,
      "outputs": [
        {
          "output_type": "display_data",
          "data": {
            "text/plain": [
              "<IPython.core.display.HTML object>"
            ],
            "text/html": [
              "\n",
              "  <style>\n",
              "    pre {\n",
              "        white-space: pre-wrap;\n",
              "    }\n",
              "  </style>\n",
              "  "
            ]
          },
          "metadata": {}
        }
      ]
    },
    {
      "cell_type": "code",
      "source": [
        "def format_dataset_blueprint_instruct_fn(data_points: DataPointType) -> DataPointType:\n",
        "    template = \"Below is an instruction that describes a composite task. Provide the structured blueprint planning for the following task.\"\n",
        "\n",
        "    B_INST, E_INST = \"[INST]\", \"[/INST]\"\n",
        "    RESP = \"### Response:\"\n",
        "\n",
        "    # Create the formatted text\n",
        "    formatted_dataset = data_points.map(\n",
        "        lambda x: {\n",
        "            \"prompt\": \"\".join(\n",
        "                [\n",
        "                    f\"{B_INST}{template.strip()}{x['Instruction'].strip()}{E_INST}\\n\\n\",\n",
        "                    f\"{RESP}{x['Blueprint']}\",\n",
        "                ]\n",
        "            ),\n",
        "            \"response\": \"\".join(\n",
        "                [\n",
        "                    f\"{RESP}{x['Blueprint']}\",\n",
        "                ]\n",
        "            ),\n",
        "        }\n",
        "    )\n",
        "    return formatted_dataset"
      ],
      "metadata": {
        "id": "EuzpAzYYWuJK",
        "colab": {
          "base_uri": "https://localhost:8080/",
          "height": 17
        },
        "outputId": "118ae905-aa54-4afc-845c-8b82eb17fe8f"
      },
      "execution_count": null,
      "outputs": [
        {
          "output_type": "display_data",
          "data": {
            "text/plain": [
              "<IPython.core.display.HTML object>"
            ],
            "text/html": [
              "\n",
              "  <style>\n",
              "    pre {\n",
              "        white-space: pre-wrap;\n",
              "    }\n",
              "  </style>\n",
              "  "
            ]
          },
          "metadata": {}
        }
      ]
    },
    {
      "cell_type": "code",
      "source": [
        "def format_dataset_detail_fn(data_points: DataPointType) -> DataPointType:\n",
        "    template = \"Below is an instruction that describes a composite task. Provide the structured detail planning for the following task.\"\n",
        "\n",
        "    INST = \"### Instruction:\"\n",
        "    RESP = \"### Response:\"\n",
        "\n",
        "    # Create the formatted text\n",
        "    formatted_dataset = data_points.map(\n",
        "        lambda x: {\n",
        "            \"prompt\": \"\".join(\n",
        "                [\n",
        "                    f\"{template}\\n\\n\",\n",
        "                    f\"{INST}{x['Instruction'].strip()}\\n\\n\",\n",
        "                    f\"{RESP}{x['Detailed'].strip()}\",\n",
        "                ]\n",
        "            ),\n",
        "            \"response\": \"\".join(\n",
        "                [\n",
        "                    f\"{RESP}{x['Detailed'].strip()}\",\n",
        "                ]\n",
        "            ),\n",
        "        }\n",
        "    )\n",
        "    return formatted_dataset"
      ],
      "metadata": {
        "id": "Olpp0kbyWnp7",
        "colab": {
          "base_uri": "https://localhost:8080/",
          "height": 17
        },
        "outputId": "efdcb122-4368-4fbe-a004-85a76c3c1ca8"
      },
      "execution_count": null,
      "outputs": [
        {
          "output_type": "display_data",
          "data": {
            "text/plain": [
              "<IPython.core.display.HTML object>"
            ],
            "text/html": [
              "\n",
              "  <style>\n",
              "    pre {\n",
              "        white-space: pre-wrap;\n",
              "    }\n",
              "  </style>\n",
              "  "
            ]
          },
          "metadata": {}
        }
      ]
    },
    {
      "cell_type": "code",
      "source": [
        "def format_dataset_detail_instruct_fn(data_points: DataPointType) -> DataPointType:\n",
        "    template = \"Below is an instruction that describes a composite task. Provide the structured detail planning for the following task.\"\n",
        "\n",
        "    B_INST, E_INST = \"[INST]\", \"[/INST]\"\n",
        "    RESP = \"### Response:\"\n",
        "\n",
        "    # Create the formatted text\n",
        "    formatted_dataset = data_points.map(\n",
        "        lambda x: {\n",
        "            \"prompt\": \"\".join(\n",
        "                [\n",
        "                    f\"{B_INST}{template.strip()}{x['Instruction'].strip()}{E_INST}\\n\\n\",\n",
        "                    f\"{RESP}{x['Detailed'].strip()}\",\n",
        "                ]\n",
        "            ),\n",
        "            \"response\": \"\".join(\n",
        "                [\n",
        "                    f\"{RESP}{x['Detailed'].strip()}\",\n",
        "                ]\n",
        "            ),\n",
        "        }\n",
        "    )\n",
        "    return formatted_dataset"
      ],
      "metadata": {
        "id": "Sl_AkhwEWoem",
        "colab": {
          "base_uri": "https://localhost:8080/",
          "height": 17
        },
        "outputId": "8b02f6e1-7e98-411a-8c25-59903d75e88a"
      },
      "execution_count": null,
      "outputs": [
        {
          "output_type": "display_data",
          "data": {
            "text/plain": [
              "<IPython.core.display.HTML object>"
            ],
            "text/html": [
              "\n",
              "  <style>\n",
              "    pre {\n",
              "        white-space: pre-wrap;\n",
              "    }\n",
              "  </style>\n",
              "  "
            ]
          },
          "metadata": {}
        }
      ]
    },
    {
      "cell_type": "code",
      "source": [
        "def shuffle_tokenize_batch(data:DataPointType, tokenizer:LlamaTokenizerFast)->DataPointType:\n",
        "    data = data.shuffle(seed=1234)  # Shuffle dataset here\n",
        "    data = data.map(lambda samples: tokenizer(samples[\"prompt\"]), batched=True)\n",
        "    return data"
      ],
      "metadata": {
        "id": "vT8K1kW8XDnd",
        "colab": {
          "base_uri": "https://localhost:8080/",
          "height": 17
        },
        "outputId": "6112647d-6ef9-4ae8-a1a2-d869c3eaafc3"
      },
      "execution_count": null,
      "outputs": [
        {
          "output_type": "display_data",
          "data": {
            "text/plain": [
              "<IPython.core.display.HTML object>"
            ],
            "text/html": [
              "\n",
              "  <style>\n",
              "    pre {\n",
              "        white-space: pre-wrap;\n",
              "    }\n",
              "  </style>\n",
              "  "
            ]
          },
          "metadata": {}
        }
      ]
    },
    {
      "cell_type": "code",
      "source": [
        "def split_train_test_dataset(data:DataPointType, split_size: float = 0.1)->Tuple[DataPointTrain,DataPointTest]:\n",
        "    data = data.train_test_split(test_size=split_size)\n",
        "    train_data = data[\"train\"]\n",
        "    test_data = data[\"test\"]\n",
        "    return train_data, test_data"
      ],
      "metadata": {
        "id": "s7R9BqFgXKCV",
        "colab": {
          "base_uri": "https://localhost:8080/",
          "height": 17
        },
        "outputId": "377d9e7b-f839-4107-a826-d369df44b407"
      },
      "execution_count": null,
      "outputs": [
        {
          "output_type": "display_data",
          "data": {
            "text/plain": [
              "<IPython.core.display.HTML object>"
            ],
            "text/html": [
              "\n",
              "  <style>\n",
              "    pre {\n",
              "        white-space: pre-wrap;\n",
              "    }\n",
              "  </style>\n",
              "  "
            ]
          },
          "metadata": {}
        }
      ]
    },
    {
      "cell_type": "code",
      "source": [
        "def format_prediction_blueprint_fn(data_point: DataPointType) -> str:\n",
        "    template=\"Below is an instruction that describes a composite task. Provide the structured blueprint planning for the following task. Your response should be in the form of a dictionary with transitions (one-to-one or one-to-many depending on the task) between different subtasks and appropriate failure handling options. \"\n",
        "\n",
        "    INST = \"### Instruction:\"\n",
        "    RESP = \"### Response:\"\n",
        "\n",
        "    # Create the formatted text\n",
        "    formatted_prediction = \"\".join(\n",
        "        [\n",
        "            f\"{template}\\n\\n\",\n",
        "            f\"{INST}{data_point['Instruction'].strip()}\\n\\n\",\n",
        "            f\"{RESP}\",\n",
        "        ]\n",
        "    )\n",
        "    return formatted_prediction"
      ],
      "metadata": {
        "id": "7aPBqK8phcgX",
        "colab": {
          "base_uri": "https://localhost:8080/",
          "height": 17
        },
        "outputId": "42e2bbc3-e1ba-4266-bda1-955423f854ef"
      },
      "execution_count": null,
      "outputs": [
        {
          "output_type": "display_data",
          "data": {
            "text/plain": [
              "<IPython.core.display.HTML object>"
            ],
            "text/html": [
              "\n",
              "  <style>\n",
              "    pre {\n",
              "        white-space: pre-wrap;\n",
              "    }\n",
              "  </style>\n",
              "  "
            ]
          },
          "metadata": {}
        }
      ]
    },
    {
      "cell_type": "code",
      "source": [
        "def format_prediction_blueprint_instruct_fn(data_point: DataPointType) -> str:\n",
        "    template=\"Below is an instruction that describes a composite task. Provide the structured blueprint planning for the following task. Your response should be in the form of a dictionary with transitions (one-to-one or one-to-many depending on the task) between different subtasks and appropriate failure handling options. \"\n",
        "\n",
        "    B_INST, E_INST = \"[INST]\", \"[/INST]\"\n",
        "    RESP = \"### Response:\"\n",
        "\n",
        "    # Create the formatted text\n",
        "    formatted_prediction = \"\".join(\n",
        "        [\n",
        "            f\"{B_INST}{template}{data_point['Instruction'].strip()}{E_INST}\\n\\n\",\n",
        "            f\"{RESP}\",\n",
        "        ]\n",
        "    )\n",
        "    return formatted_prediction"
      ],
      "metadata": {
        "id": "OVbsAEvmeC53",
        "colab": {
          "base_uri": "https://localhost:8080/",
          "height": 17
        },
        "outputId": "983fc9a7-072b-4bf7-acee-4c6a6450f2d7"
      },
      "execution_count": null,
      "outputs": [
        {
          "output_type": "display_data",
          "data": {
            "text/plain": [
              "<IPython.core.display.HTML object>"
            ],
            "text/html": [
              "\n",
              "  <style>\n",
              "    pre {\n",
              "        white-space: pre-wrap;\n",
              "    }\n",
              "  </style>\n",
              "  "
            ]
          },
          "metadata": {}
        }
      ]
    },
    {
      "cell_type": "code",
      "source": [
        "def format_prediction_detail_fn(data_point: DataPointType) -> str:\n",
        "    template=\"Below is an instruction that describes a composite task. Provide the structured detailed planning for the following task. Your response should be in the form of a dictionary with transitions (one-to-one or one-to-many depending on the task) between different subtasks and appropriate failure handling options. \"\n",
        "\n",
        "    INST = \"### Instruction:\"\n",
        "    RESP = \"### Response:\"\n",
        "\n",
        "    # Create the formatted text\n",
        "    formatted_prediction = \"\".join(\n",
        "        [\n",
        "            f\"{template}\\n\\n\",\n",
        "            f\"{INST}{data_point['Instruction'].strip()}\\n\\n\",\n",
        "            f\"{RESP}\",\n",
        "        ]\n",
        "    )\n",
        "    return formatted_prediction"
      ],
      "metadata": {
        "id": "1lvTnnaCho0b",
        "colab": {
          "base_uri": "https://localhost:8080/",
          "height": 17
        },
        "outputId": "47f6139b-546c-420c-e682-1be51b144376"
      },
      "execution_count": null,
      "outputs": [
        {
          "output_type": "display_data",
          "data": {
            "text/plain": [
              "<IPython.core.display.HTML object>"
            ],
            "text/html": [
              "\n",
              "  <style>\n",
              "    pre {\n",
              "        white-space: pre-wrap;\n",
              "    }\n",
              "  </style>\n",
              "  "
            ]
          },
          "metadata": {}
        }
      ]
    },
    {
      "cell_type": "code",
      "source": [
        "def format_prediction_detail_instruct_fn(data_point: DataPointType) -> str:\n",
        "    template=\"Below is an instruction that describes a composite task. Provide the structured detailed planning for the following task. Your response should be in the form of a dictionary with transitions (one-to-one or one-to-many depending on the task) between different subtasks and appropriate failure handling options. \"\n",
        "\n",
        "    B_INST, E_INST = \"[INST]\", \"[/INST]\"\n",
        "    RESP = \"### Response:\"\n",
        "\n",
        "    # Create the formatted text\n",
        "    formatted_prediction = \"\".join(\n",
        "        [\n",
        "            f\"{B_INST}{template}{data_point['Instruction'].strip()}{E_INST}\\n\\n\",\n",
        "            f\"{RESP}\",\n",
        "        ]\n",
        "    )\n",
        "    return formatted_prediction"
      ],
      "metadata": {
        "id": "3JRn4_Y1eJZg",
        "colab": {
          "base_uri": "https://localhost:8080/",
          "height": 17
        },
        "outputId": "3ab3bfb9-a495-4317-c504-d1dc7dac0fb4"
      },
      "execution_count": null,
      "outputs": [
        {
          "output_type": "display_data",
          "data": {
            "text/plain": [
              "<IPython.core.display.HTML object>"
            ],
            "text/html": [
              "\n",
              "  <style>\n",
              "    pre {\n",
              "        white-space: pre-wrap;\n",
              "    }\n",
              "  </style>\n",
              "  "
            ]
          },
          "metadata": {}
        }
      ]
    },
    {
      "cell_type": "code",
      "source": [
        "import torch\n",
        "from transformers import StoppingCriteria\n",
        "\n",
        "class KeywordsStoppingCriteria(StoppingCriteria):\n",
        "    def __init__(self, keywords, tokenizer, input_ids):\n",
        "        self.keywords = keywords\n",
        "        self.keyword_ids = []\n",
        "        self.max_keyword_len = 0\n",
        "        for keyword in keywords:\n",
        "            cur_keyword_ids = tokenizer(keyword).input_ids\n",
        "            if len(cur_keyword_ids) > 1 and cur_keyword_ids[0] == tokenizer.bos_token_id:\n",
        "                cur_keyword_ids = cur_keyword_ids[1:]\n",
        "            if len(cur_keyword_ids) > self.max_keyword_len:\n",
        "                self.max_keyword_len = len(cur_keyword_ids)\n",
        "            self.keyword_ids.append(torch.tensor(cur_keyword_ids))\n",
        "        self.tokenizer = tokenizer\n",
        "        self.start_len = input_ids.shape[1]\n",
        "\n",
        "    def call_for_batch(self, output_ids: torch.LongTensor, scores: torch.FloatTensor, **kwargs) -> bool:\n",
        "        offset = min(output_ids.shape[1] - self.start_len, self.max_keyword_len)\n",
        "        self.keyword_ids = [keyword_id.to(output_ids.device) for keyword_id in self.keyword_ids]\n",
        "        for keyword_id in self.keyword_ids:\n",
        "            if (output_ids[0, -keyword_id.shape[0]:] == keyword_id).all():\n",
        "                return True\n",
        "        outputs = self.tokenizer.batch_decode(output_ids[:, -offset:], skip_special_tokens=True)[0]\n",
        "        for keyword in self.keywords:\n",
        "            if keyword in outputs:\n",
        "                return True\n",
        "        return False\n",
        "\n",
        "    def __call__(self, output_ids: torch.LongTensor, scores: torch.FloatTensor, **kwargs) -> bool:\n",
        "        outputs = []\n",
        "        for i in range(output_ids.shape[0]):\n",
        "            outputs.append(self.call_for_batch(output_ids[i].unsqueeze(0), scores))\n",
        "        return all(outputs)"
      ],
      "metadata": {
        "id": "1l3AP1zKXXnB",
        "colab": {
          "base_uri": "https://localhost:8080/",
          "height": 17
        },
        "outputId": "16b152b9-49da-4d1b-9350-2bd973976023"
      },
      "execution_count": null,
      "outputs": [
        {
          "output_type": "display_data",
          "data": {
            "text/plain": [
              "<IPython.core.display.HTML object>"
            ],
            "text/html": [
              "\n",
              "  <style>\n",
              "    pre {\n",
              "        white-space: pre-wrap;\n",
              "    }\n",
              "  </style>\n",
              "  "
            ]
          },
          "metadata": {}
        }
      ]
    },
    {
      "cell_type": "code",
      "source": [
        "def get_completion(prompt:str, model:MistralForCausalLM, tokenizer:LlamaTokenizerFast, keywords:List[str], keyword_stopping_criteria:KeywordsStoppingCriteria)->str:\n",
        "    input_ids = tokenizer.encode(prompt, return_tensors=\"pt\").to(model.device)\n",
        "\n",
        "    stopping_criteria = keyword_stopping_criteria(keywords, tokenizer, input_ids)\n",
        "\n",
        "    with torch.inference_mode():\n",
        "      output_ids = model.generate(\n",
        "          inputs=input_ids,\n",
        "          use_cache=True,\n",
        "          max_new_tokens=512,\n",
        "          stopping_criteria=[stopping_criteria],\n",
        "          attention_mask=None,\n",
        "          do_sample=False,\n",
        "          output_attentions=True,\n",
        "          output_scores=True,\n",
        "          return_dict_in_generate=True,\n",
        "      )\n",
        "\n",
        "    output = tokenizer.decode(output_ids['sequences'][0, input_ids.shape[1]:],skip_spectial_tokens=True).strip()\n",
        "\n",
        "    return output"
      ],
      "metadata": {
        "id": "jKHMgj3ZXea2",
        "colab": {
          "base_uri": "https://localhost:8080/",
          "height": 17
        },
        "outputId": "8116581b-abea-4de2-fb90-5bff4f621c84"
      },
      "execution_count": null,
      "outputs": [
        {
          "output_type": "display_data",
          "data": {
            "text/plain": [
              "<IPython.core.display.HTML object>"
            ],
            "text/html": [
              "\n",
              "  <style>\n",
              "    pre {\n",
              "        white-space: pre-wrap;\n",
              "    }\n",
              "  </style>\n",
              "  "
            ]
          },
          "metadata": {}
        }
      ]
    },
    {
      "cell_type": "code",
      "source": [
        "def generate_handle_permutations(\n",
        "    handle_opts: List[str], weights: List[float]\n",
        ") -> List[List[str]]:\n",
        "    # Pair each failure handling option with its weight and sort by the weights in descending order\n",
        "    paired_sorted_opts = sorted(list(zip(handle_opts, weights)), key=lambda x: -x[1])\n",
        "\n",
        "    # Initialize the result list to store the permutations\n",
        "    result = []\n",
        "\n",
        "    # Define a recursive helper function to perform backtracking\n",
        "    def backtrack(curr_perm: List[str]):\n",
        "        # If the current permutation is complete, add it to the result list\n",
        "        if len(curr_perm) == len(handle_opts):\n",
        "            result.append(curr_perm.copy())\n",
        "            return\n",
        "\n",
        "        for option, _ in paired_sorted_opts:\n",
        "            if option not in curr_perm:\n",
        "                # Choose the current option to add to the permutation\n",
        "                curr_perm.append(option)\n",
        "                # Explore further by continuing to build the permutation\n",
        "                backtrack(curr_perm)\n",
        "                # Unchoose the last option to try a different option in the next iteration\n",
        "                curr_perm.pop()\n",
        "\n",
        "    # Start the recursive backtracking from an empty permutation\n",
        "    backtrack([])\n",
        "\n",
        "    return result"
      ],
      "metadata": {
        "colab": {
          "base_uri": "https://localhost:8080/",
          "height": 17
        },
        "id": "YyTddtp7gcfE",
        "outputId": "c3126c62-5a0a-46c7-e940-ec516c78a528"
      },
      "execution_count": null,
      "outputs": [
        {
          "output_type": "display_data",
          "data": {
            "text/plain": [
              "<IPython.core.display.HTML object>"
            ],
            "text/html": [
              "\n",
              "  <style>\n",
              "    pre {\n",
              "        white-space: pre-wrap;\n",
              "    }\n",
              "  </style>\n",
              "  "
            ]
          },
          "metadata": {}
        }
      ]
    },
    {
      "cell_type": "code",
      "source": [
        "data=custom_dataset_load('/content/drive/MyDrive/data')"
      ],
      "metadata": {
        "id": "jebBjn48Xi9g",
        "colab": {
          "base_uri": "https://localhost:8080/",
          "height": 113,
          "referenced_widgets": [
            "217c90c98dd34509bec83accc2661527",
            "3c7a2df66c1b4dd0a1eb8318420d52cc",
            "9a74fae24d884f23aefb2abc7116c39a",
            "8c279bbc3ab14130ae1e46861b35478b",
            "e13d274b89334402afd75b8f5a7492d4",
            "eda998451e704026a28d1d1c272e72f6",
            "8d5ec741ea234abba194343effd16c31",
            "84a160d6bfc24ca3844f30a47bcab190",
            "6db664fa6ae5411e9a80631dc3f297b4",
            "fcb0624262574a92a985c52fc87aaaaa",
            "280584a2be5547a09ca76cbfc67ae1b4",
            "4fc7afea2f0848b1ac2fe8e783907e0f",
            "1eae8dfd65d14cd28e3440956467bf0d",
            "9a3271f4a0654c5fa21f726a541976f9",
            "bd34b0a17db5412fbe67d3f6566ae6fb",
            "a3a0ee8fe2474eb5b65aebd8d3faa0df",
            "83d530ef6dd74e5193c306f2dd875949",
            "0db334f386e64296a45d1fb784ee2cdf",
            "0d8627a0910141b4b115b74c9995a3de",
            "64ebd63fe3204e0e98829a11f6481915",
            "23bb012c645b4bd1b6a406674b843ad9",
            "da4b1afdace646fa9a82b7b3142dc528",
            "f072606c9b554d2eb54fc9a2f837c5c2",
            "2d61b0dc7826429f92306979bbab4e7f",
            "bf6fb6efae604a0ca076cf74c5372fa7",
            "5dbb8cb5fbaa443c848d9b9df4c2209e",
            "14d74463b5d540148b68532cc1fe01fd",
            "c352e319fe8a465d88f2608ea883a053",
            "87ff5061cd8244ad9cafa226b7d62cdb",
            "2c6b1cf1d57b4ab4ba71a4221fcd0251",
            "f088739e94ac4756b3f1fbc4771c2c39",
            "b59a162c153c48fa8d8d1bc3366d7bdf",
            "ba981109c4944ebaae4684bdb43d6f8d"
          ]
        },
        "outputId": "d1d0278e-570e-4b5d-afe1-604f5c3dfd38"
      },
      "execution_count": null,
      "outputs": [
        {
          "output_type": "display_data",
          "data": {
            "text/plain": [
              "<IPython.core.display.HTML object>"
            ],
            "text/html": [
              "\n",
              "  <style>\n",
              "    pre {\n",
              "        white-space: pre-wrap;\n",
              "    }\n",
              "  </style>\n",
              "  "
            ]
          },
          "metadata": {}
        },
        {
          "output_type": "display_data",
          "data": {
            "text/plain": [
              "Resolving data files:   0%|          | 0/202 [00:00<?, ?it/s]"
            ],
            "application/vnd.jupyter.widget-view+json": {
              "version_major": 2,
              "version_minor": 0,
              "model_id": "217c90c98dd34509bec83accc2661527"
            }
          },
          "metadata": {}
        },
        {
          "output_type": "display_data",
          "data": {
            "text/plain": [
              "Downloading data:   0%|          | 0/202 [00:00<?, ?files/s]"
            ],
            "application/vnd.jupyter.widget-view+json": {
              "version_major": 2,
              "version_minor": 0,
              "model_id": "4fc7afea2f0848b1ac2fe8e783907e0f"
            }
          },
          "metadata": {}
        },
        {
          "output_type": "display_data",
          "data": {
            "text/plain": [
              "Generating train split: 0 examples [00:00, ? examples/s]"
            ],
            "application/vnd.jupyter.widget-view+json": {
              "version_major": 2,
              "version_minor": 0,
              "model_id": "f072606c9b554d2eb54fc9a2f837c5c2"
            }
          },
          "metadata": {}
        }
      ]
    },
    {
      "cell_type": "code",
      "source": [
        "data_blueprint=format_dataset_blueprint_instruct_fn(data)"
      ],
      "metadata": {
        "id": "a4ekCRM6X1l7",
        "colab": {
          "base_uri": "https://localhost:8080/",
          "height": 49,
          "referenced_widgets": [
            "019354a503834fb596482a5669546519",
            "542927aadb004d9b938a8f40937020bb",
            "a62423bea66744c4a772892865a33fd3",
            "6c4a404ae91a47a287e651abc6777119",
            "2caa08b05b4c4aa48e196bb368b1f362",
            "ed08a0df437d45d8a5d1f764c195f11f",
            "bd6248d08d964166b167144db5482820",
            "8aedf2bebaac4374966dce1a2d690490",
            "ff537c07a45746458527f467c480c10f",
            "5f26dda9058f442f9c5f38289f6a6bdd",
            "6dd8ed66fdf84a918a113b1bfdbc844c"
          ]
        },
        "outputId": "1257b5cc-79c6-4770-ed98-f7eccbe6034b"
      },
      "execution_count": null,
      "outputs": [
        {
          "output_type": "display_data",
          "data": {
            "text/plain": [
              "<IPython.core.display.HTML object>"
            ],
            "text/html": [
              "\n",
              "  <style>\n",
              "    pre {\n",
              "        white-space: pre-wrap;\n",
              "    }\n",
              "  </style>\n",
              "  "
            ]
          },
          "metadata": {}
        },
        {
          "output_type": "display_data",
          "data": {
            "text/plain": [
              "Map:   0%|          | 0/1007 [00:00<?, ? examples/s]"
            ],
            "application/vnd.jupyter.widget-view+json": {
              "version_major": 2,
              "version_minor": 0,
              "model_id": "019354a503834fb596482a5669546519"
            }
          },
          "metadata": {}
        }
      ]
    },
    {
      "cell_type": "code",
      "source": [
        "data_detail=format_dataset_detail_instruct_fn(data)"
      ],
      "metadata": {
        "id": "t_1QX8rnX3Vf",
        "colab": {
          "base_uri": "https://localhost:8080/",
          "height": 49,
          "referenced_widgets": [
            "e7dd543c4dd44ec181c8a45954273cd2",
            "a733fc319fb04be699d79dea298b6479",
            "9623d9cb97c045609e2267f9440dd8bd",
            "161e07ae64fa4ff186e29f93f3f0c392",
            "a40626bee89e44ed8cff9ae6fb1170d9",
            "40e832a750d84f1c96488b3f6a0b17a7",
            "2e86a89b021f43c3a65d8f4114bf88ed",
            "130a8038864b484ab851e310fdbcda38",
            "3379eadcbd8e48fea2fa987b9bfe0eb4",
            "36d05d38459849c9a02a3dd6979544c7",
            "3856f7ea206f4a438061d80d6545cdbd"
          ]
        },
        "outputId": "581bd29b-bc8f-4510-fc4a-02ba51d48f44"
      },
      "execution_count": null,
      "outputs": [
        {
          "output_type": "display_data",
          "data": {
            "text/plain": [
              "<IPython.core.display.HTML object>"
            ],
            "text/html": [
              "\n",
              "  <style>\n",
              "    pre {\n",
              "        white-space: pre-wrap;\n",
              "    }\n",
              "  </style>\n",
              "  "
            ]
          },
          "metadata": {}
        },
        {
          "output_type": "display_data",
          "data": {
            "text/plain": [
              "Map:   0%|          | 0/1007 [00:00<?, ? examples/s]"
            ],
            "application/vnd.jupyter.widget-view+json": {
              "version_major": 2,
              "version_minor": 0,
              "model_id": "e7dd543c4dd44ec181c8a45954273cd2"
            }
          },
          "metadata": {}
        }
      ]
    },
    {
      "cell_type": "code",
      "source": [
        "processed_data_blueprint=shuffle_tokenize_batch(data_blueprint,tokenizer)"
      ],
      "metadata": {
        "id": "RFfhIiTjX-eC",
        "colab": {
          "base_uri": "https://localhost:8080/",
          "height": 49,
          "referenced_widgets": [
            "830aa62e4e4d478f88ebd3890079e7ef",
            "3cefc96e240e4a64a5bef3c7a07f9b2e",
            "be5fb10a82ce4f66b3defb75fc7f49b7",
            "906a0ab7b8c748a39725e06f570477cc",
            "3fad6994233948448db26feba84c97b6",
            "1d62c0ab570b4cce8368a33cff675187",
            "c2305460905347b1ad42bfe756fb51ff",
            "dcd63964152c4d30a958636bda773389",
            "620e049a0d004d6595de9e001f50e814",
            "ce88445963ab4c2a8fddbdf13ec2b1fe",
            "235d793fce6240de8fc1ee0843c6f414"
          ]
        },
        "outputId": "11ab8277-7dff-46d5-9447-ea482b14a507"
      },
      "execution_count": null,
      "outputs": [
        {
          "output_type": "display_data",
          "data": {
            "text/plain": [
              "<IPython.core.display.HTML object>"
            ],
            "text/html": [
              "\n",
              "  <style>\n",
              "    pre {\n",
              "        white-space: pre-wrap;\n",
              "    }\n",
              "  </style>\n",
              "  "
            ]
          },
          "metadata": {}
        },
        {
          "output_type": "display_data",
          "data": {
            "text/plain": [
              "Map:   0%|          | 0/1007 [00:00<?, ? examples/s]"
            ],
            "application/vnd.jupyter.widget-view+json": {
              "version_major": 2,
              "version_minor": 0,
              "model_id": "830aa62e4e4d478f88ebd3890079e7ef"
            }
          },
          "metadata": {}
        }
      ]
    },
    {
      "cell_type": "code",
      "source": [
        "processed_data_detail=shuffle_tokenize_batch(data_detail,tokenizer)"
      ],
      "metadata": {
        "id": "B-0IueVkYBq-",
        "colab": {
          "base_uri": "https://localhost:8080/",
          "height": 49,
          "referenced_widgets": [
            "c32a68b6e1184f63a70f0e990e686e19",
            "53272b03a4eb48e78751751f8c044273",
            "bd23391931494832b38b6dbc14151c00",
            "07fee93151a94dfc83696518cd98abe7",
            "e0efc88d32e84623a761ec5a62501eba",
            "842826f2819840eb9975bd021700277a",
            "3859aae1d9f84e57adb60196abb08e31",
            "e863d5d211b84bf2876d0f9ce8b469d6",
            "42aa7c3a0615498eaab5d89a02226d91",
            "85fafafb213446beab72a9693884f11b",
            "305f865bf12d4fdabf5eb4d1c8c93de2"
          ]
        },
        "outputId": "36f28455-71fc-4961-c19b-b0b59c203892"
      },
      "execution_count": null,
      "outputs": [
        {
          "output_type": "display_data",
          "data": {
            "text/plain": [
              "<IPython.core.display.HTML object>"
            ],
            "text/html": [
              "\n",
              "  <style>\n",
              "    pre {\n",
              "        white-space: pre-wrap;\n",
              "    }\n",
              "  </style>\n",
              "  "
            ]
          },
          "metadata": {}
        },
        {
          "output_type": "display_data",
          "data": {
            "text/plain": [
              "Map:   0%|          | 0/1007 [00:00<?, ? examples/s]"
            ],
            "application/vnd.jupyter.widget-view+json": {
              "version_major": 2,
              "version_minor": 0,
              "model_id": "c32a68b6e1184f63a70f0e990e686e19"
            }
          },
          "metadata": {}
        }
      ]
    },
    {
      "cell_type": "code",
      "source": [
        "processed_df_blueprint = processed_data_blueprint.to_pandas()\n",
        "processed_df_blueprint.head(5)"
      ],
      "metadata": {
        "id": "Nn4hytC5YEsl",
        "colab": {
          "base_uri": "https://localhost:8080/",
          "height": 459
        },
        "outputId": "5b5bed28-8f63-4589-9ab7-bb432c829cc6"
      },
      "execution_count": null,
      "outputs": [
        {
          "output_type": "display_data",
          "data": {
            "text/plain": [
              "<IPython.core.display.HTML object>"
            ],
            "text/html": [
              "\n",
              "  <style>\n",
              "    pre {\n",
              "        white-space: pre-wrap;\n",
              "    }\n",
              "  </style>\n",
              "  "
            ]
          },
          "metadata": {}
        },
        {
          "output_type": "execute_result",
          "data": {
            "text/plain": [
              "                                           Blueprint  \\\n",
              "0  {'Translate short story into screenplay': {'ne...   \n",
              "1  {'Select artworks': {'next_modes': ['Write bio...   \n",
              "2  {'Analyze sentiment': {'next_modes': ['Visuali...   \n",
              "3  {'Capture drone footage': {'next_modes': ['Ana...   \n",
              "4  {'Topic selection': {'next_modes': ['Script wr...   \n",
              "\n",
              "                                         Instruction  \\\n",
              "0  Translate a short story into a screenplay, the...   \n",
              "1  Create a virtual art gallery exhibit, featurin...   \n",
              "2  Analyze the sentiment of tweets related to a s...   \n",
              "3  Analyze traffic patterns from drone footage of...   \n",
              "4  Develop a software tutorial series including s...   \n",
              "\n",
              "                                            Detailed  \\\n",
              "0  {'Convert the narrative and dialogues of a bri...   \n",
              "1  {\"Curate a collection of digital artworks that...   \n",
              "2  {'Utilize advanced text analysis tools to gaug...   \n",
              "3  {'Collect high-resolution aerial footage of ta...   \n",
              "4  {'Identify fundamental programming concepts an...   \n",
              "\n",
              "                                              prompt  \\\n",
              "0  [INST]Below is an instruction that describes a...   \n",
              "1  [INST]Below is an instruction that describes a...   \n",
              "2  [INST]Below is an instruction that describes a...   \n",
              "3  [INST]Below is an instruction that describes a...   \n",
              "4  [INST]Below is an instruction that describes a...   \n",
              "\n",
              "                                            response  \\\n",
              "0  ### Response:{'Translate short story into scre...   \n",
              "1  ### Response:{'Select artworks': {'next_modes'...   \n",
              "2  ### Response:{'Analyze sentiment': {'next_mode...   \n",
              "3  ### Response:{'Capture drone footage': {'next_...   \n",
              "4  ### Response:{'Topic selection': {'next_modes'...   \n",
              "\n",
              "                                           input_ids  \\\n",
              "0  [1, 733, 16289, 28793, 20548, 336, 349, 396, 1...   \n",
              "1  [1, 733, 16289, 28793, 20548, 336, 349, 396, 1...   \n",
              "2  [1, 733, 16289, 28793, 20548, 336, 349, 396, 1...   \n",
              "3  [1, 733, 16289, 28793, 20548, 336, 349, 396, 1...   \n",
              "4  [1, 733, 16289, 28793, 20548, 336, 349, 396, 1...   \n",
              "\n",
              "                                      attention_mask  \n",
              "0  [1, 1, 1, 1, 1, 1, 1, 1, 1, 1, 1, 1, 1, 1, 1, ...  \n",
              "1  [1, 1, 1, 1, 1, 1, 1, 1, 1, 1, 1, 1, 1, 1, 1, ...  \n",
              "2  [1, 1, 1, 1, 1, 1, 1, 1, 1, 1, 1, 1, 1, 1, 1, ...  \n",
              "3  [1, 1, 1, 1, 1, 1, 1, 1, 1, 1, 1, 1, 1, 1, 1, ...  \n",
              "4  [1, 1, 1, 1, 1, 1, 1, 1, 1, 1, 1, 1, 1, 1, 1, ...  "
            ],
            "text/html": [
              "\n",
              "  <div id=\"df-b0ac5d4e-845a-44c6-8641-1070607458cd\" class=\"colab-df-container\">\n",
              "    <div>\n",
              "<style scoped>\n",
              "    .dataframe tbody tr th:only-of-type {\n",
              "        vertical-align: middle;\n",
              "    }\n",
              "\n",
              "    .dataframe tbody tr th {\n",
              "        vertical-align: top;\n",
              "    }\n",
              "\n",
              "    .dataframe thead th {\n",
              "        text-align: right;\n",
              "    }\n",
              "</style>\n",
              "<table border=\"1\" class=\"dataframe\">\n",
              "  <thead>\n",
              "    <tr style=\"text-align: right;\">\n",
              "      <th></th>\n",
              "      <th>Blueprint</th>\n",
              "      <th>Instruction</th>\n",
              "      <th>Detailed</th>\n",
              "      <th>prompt</th>\n",
              "      <th>response</th>\n",
              "      <th>input_ids</th>\n",
              "      <th>attention_mask</th>\n",
              "    </tr>\n",
              "  </thead>\n",
              "  <tbody>\n",
              "    <tr>\n",
              "      <th>0</th>\n",
              "      <td>{'Translate short story into screenplay': {'ne...</td>\n",
              "      <td>Translate a short story into a screenplay, the...</td>\n",
              "      <td>{'Convert the narrative and dialogues of a bri...</td>\n",
              "      <td>[INST]Below is an instruction that describes a...</td>\n",
              "      <td>### Response:{'Translate short story into scre...</td>\n",
              "      <td>[1, 733, 16289, 28793, 20548, 336, 349, 396, 1...</td>\n",
              "      <td>[1, 1, 1, 1, 1, 1, 1, 1, 1, 1, 1, 1, 1, 1, 1, ...</td>\n",
              "    </tr>\n",
              "    <tr>\n",
              "      <th>1</th>\n",
              "      <td>{'Select artworks': {'next_modes': ['Write bio...</td>\n",
              "      <td>Create a virtual art gallery exhibit, featurin...</td>\n",
              "      <td>{\"Curate a collection of digital artworks that...</td>\n",
              "      <td>[INST]Below is an instruction that describes a...</td>\n",
              "      <td>### Response:{'Select artworks': {'next_modes'...</td>\n",
              "      <td>[1, 733, 16289, 28793, 20548, 336, 349, 396, 1...</td>\n",
              "      <td>[1, 1, 1, 1, 1, 1, 1, 1, 1, 1, 1, 1, 1, 1, 1, ...</td>\n",
              "    </tr>\n",
              "    <tr>\n",
              "      <th>2</th>\n",
              "      <td>{'Analyze sentiment': {'next_modes': ['Visuali...</td>\n",
              "      <td>Analyze the sentiment of tweets related to a s...</td>\n",
              "      <td>{'Utilize advanced text analysis tools to gaug...</td>\n",
              "      <td>[INST]Below is an instruction that describes a...</td>\n",
              "      <td>### Response:{'Analyze sentiment': {'next_mode...</td>\n",
              "      <td>[1, 733, 16289, 28793, 20548, 336, 349, 396, 1...</td>\n",
              "      <td>[1, 1, 1, 1, 1, 1, 1, 1, 1, 1, 1, 1, 1, 1, 1, ...</td>\n",
              "    </tr>\n",
              "    <tr>\n",
              "      <th>3</th>\n",
              "      <td>{'Capture drone footage': {'next_modes': ['Ana...</td>\n",
              "      <td>Analyze traffic patterns from drone footage of...</td>\n",
              "      <td>{'Collect high-resolution aerial footage of ta...</td>\n",
              "      <td>[INST]Below is an instruction that describes a...</td>\n",
              "      <td>### Response:{'Capture drone footage': {'next_...</td>\n",
              "      <td>[1, 733, 16289, 28793, 20548, 336, 349, 396, 1...</td>\n",
              "      <td>[1, 1, 1, 1, 1, 1, 1, 1, 1, 1, 1, 1, 1, 1, 1, ...</td>\n",
              "    </tr>\n",
              "    <tr>\n",
              "      <th>4</th>\n",
              "      <td>{'Topic selection': {'next_modes': ['Script wr...</td>\n",
              "      <td>Develop a software tutorial series including s...</td>\n",
              "      <td>{'Identify fundamental programming concepts an...</td>\n",
              "      <td>[INST]Below is an instruction that describes a...</td>\n",
              "      <td>### Response:{'Topic selection': {'next_modes'...</td>\n",
              "      <td>[1, 733, 16289, 28793, 20548, 336, 349, 396, 1...</td>\n",
              "      <td>[1, 1, 1, 1, 1, 1, 1, 1, 1, 1, 1, 1, 1, 1, 1, ...</td>\n",
              "    </tr>\n",
              "  </tbody>\n",
              "</table>\n",
              "</div>\n",
              "    <div class=\"colab-df-buttons\">\n",
              "\n",
              "  <div class=\"colab-df-container\">\n",
              "    <button class=\"colab-df-convert\" onclick=\"convertToInteractive('df-b0ac5d4e-845a-44c6-8641-1070607458cd')\"\n",
              "            title=\"Convert this dataframe to an interactive table.\"\n",
              "            style=\"display:none;\">\n",
              "\n",
              "  <svg xmlns=\"http://www.w3.org/2000/svg\" height=\"24px\" viewBox=\"0 -960 960 960\">\n",
              "    <path d=\"M120-120v-720h720v720H120Zm60-500h600v-160H180v160Zm220 220h160v-160H400v160Zm0 220h160v-160H400v160ZM180-400h160v-160H180v160Zm440 0h160v-160H620v160ZM180-180h160v-160H180v160Zm440 0h160v-160H620v160Z\"/>\n",
              "  </svg>\n",
              "    </button>\n",
              "\n",
              "  <style>\n",
              "    .colab-df-container {\n",
              "      display:flex;\n",
              "      gap: 12px;\n",
              "    }\n",
              "\n",
              "    .colab-df-convert {\n",
              "      background-color: #E8F0FE;\n",
              "      border: none;\n",
              "      border-radius: 50%;\n",
              "      cursor: pointer;\n",
              "      display: none;\n",
              "      fill: #1967D2;\n",
              "      height: 32px;\n",
              "      padding: 0 0 0 0;\n",
              "      width: 32px;\n",
              "    }\n",
              "\n",
              "    .colab-df-convert:hover {\n",
              "      background-color: #E2EBFA;\n",
              "      box-shadow: 0px 1px 2px rgba(60, 64, 67, 0.3), 0px 1px 3px 1px rgba(60, 64, 67, 0.15);\n",
              "      fill: #174EA6;\n",
              "    }\n",
              "\n",
              "    .colab-df-buttons div {\n",
              "      margin-bottom: 4px;\n",
              "    }\n",
              "\n",
              "    [theme=dark] .colab-df-convert {\n",
              "      background-color: #3B4455;\n",
              "      fill: #D2E3FC;\n",
              "    }\n",
              "\n",
              "    [theme=dark] .colab-df-convert:hover {\n",
              "      background-color: #434B5C;\n",
              "      box-shadow: 0px 1px 3px 1px rgba(0, 0, 0, 0.15);\n",
              "      filter: drop-shadow(0px 1px 2px rgba(0, 0, 0, 0.3));\n",
              "      fill: #FFFFFF;\n",
              "    }\n",
              "  </style>\n",
              "\n",
              "    <script>\n",
              "      const buttonEl =\n",
              "        document.querySelector('#df-b0ac5d4e-845a-44c6-8641-1070607458cd button.colab-df-convert');\n",
              "      buttonEl.style.display =\n",
              "        google.colab.kernel.accessAllowed ? 'block' : 'none';\n",
              "\n",
              "      async function convertToInteractive(key) {\n",
              "        const element = document.querySelector('#df-b0ac5d4e-845a-44c6-8641-1070607458cd');\n",
              "        const dataTable =\n",
              "          await google.colab.kernel.invokeFunction('convertToInteractive',\n",
              "                                                    [key], {});\n",
              "        if (!dataTable) return;\n",
              "\n",
              "        const docLinkHtml = 'Like what you see? Visit the ' +\n",
              "          '<a target=\"_blank\" href=https://colab.research.google.com/notebooks/data_table.ipynb>data table notebook</a>'\n",
              "          + ' to learn more about interactive tables.';\n",
              "        element.innerHTML = '';\n",
              "        dataTable['output_type'] = 'display_data';\n",
              "        await google.colab.output.renderOutput(dataTable, element);\n",
              "        const docLink = document.createElement('div');\n",
              "        docLink.innerHTML = docLinkHtml;\n",
              "        element.appendChild(docLink);\n",
              "      }\n",
              "    </script>\n",
              "  </div>\n",
              "\n",
              "\n",
              "<div id=\"df-625e35eb-0448-4877-a13e-15d855bcd502\">\n",
              "  <button class=\"colab-df-quickchart\" onclick=\"quickchart('df-625e35eb-0448-4877-a13e-15d855bcd502')\"\n",
              "            title=\"Suggest charts\"\n",
              "            style=\"display:none;\">\n",
              "\n",
              "<svg xmlns=\"http://www.w3.org/2000/svg\" height=\"24px\"viewBox=\"0 0 24 24\"\n",
              "     width=\"24px\">\n",
              "    <g>\n",
              "        <path d=\"M19 3H5c-1.1 0-2 .9-2 2v14c0 1.1.9 2 2 2h14c1.1 0 2-.9 2-2V5c0-1.1-.9-2-2-2zM9 17H7v-7h2v7zm4 0h-2V7h2v10zm4 0h-2v-4h2v4z\"/>\n",
              "    </g>\n",
              "</svg>\n",
              "  </button>\n",
              "\n",
              "<style>\n",
              "  .colab-df-quickchart {\n",
              "      --bg-color: #E8F0FE;\n",
              "      --fill-color: #1967D2;\n",
              "      --hover-bg-color: #E2EBFA;\n",
              "      --hover-fill-color: #174EA6;\n",
              "      --disabled-fill-color: #AAA;\n",
              "      --disabled-bg-color: #DDD;\n",
              "  }\n",
              "\n",
              "  [theme=dark] .colab-df-quickchart {\n",
              "      --bg-color: #3B4455;\n",
              "      --fill-color: #D2E3FC;\n",
              "      --hover-bg-color: #434B5C;\n",
              "      --hover-fill-color: #FFFFFF;\n",
              "      --disabled-bg-color: #3B4455;\n",
              "      --disabled-fill-color: #666;\n",
              "  }\n",
              "\n",
              "  .colab-df-quickchart {\n",
              "    background-color: var(--bg-color);\n",
              "    border: none;\n",
              "    border-radius: 50%;\n",
              "    cursor: pointer;\n",
              "    display: none;\n",
              "    fill: var(--fill-color);\n",
              "    height: 32px;\n",
              "    padding: 0;\n",
              "    width: 32px;\n",
              "  }\n",
              "\n",
              "  .colab-df-quickchart:hover {\n",
              "    background-color: var(--hover-bg-color);\n",
              "    box-shadow: 0 1px 2px rgba(60, 64, 67, 0.3), 0 1px 3px 1px rgba(60, 64, 67, 0.15);\n",
              "    fill: var(--button-hover-fill-color);\n",
              "  }\n",
              "\n",
              "  .colab-df-quickchart-complete:disabled,\n",
              "  .colab-df-quickchart-complete:disabled:hover {\n",
              "    background-color: var(--disabled-bg-color);\n",
              "    fill: var(--disabled-fill-color);\n",
              "    box-shadow: none;\n",
              "  }\n",
              "\n",
              "  .colab-df-spinner {\n",
              "    border: 2px solid var(--fill-color);\n",
              "    border-color: transparent;\n",
              "    border-bottom-color: var(--fill-color);\n",
              "    animation:\n",
              "      spin 1s steps(1) infinite;\n",
              "  }\n",
              "\n",
              "  @keyframes spin {\n",
              "    0% {\n",
              "      border-color: transparent;\n",
              "      border-bottom-color: var(--fill-color);\n",
              "      border-left-color: var(--fill-color);\n",
              "    }\n",
              "    20% {\n",
              "      border-color: transparent;\n",
              "      border-left-color: var(--fill-color);\n",
              "      border-top-color: var(--fill-color);\n",
              "    }\n",
              "    30% {\n",
              "      border-color: transparent;\n",
              "      border-left-color: var(--fill-color);\n",
              "      border-top-color: var(--fill-color);\n",
              "      border-right-color: var(--fill-color);\n",
              "    }\n",
              "    40% {\n",
              "      border-color: transparent;\n",
              "      border-right-color: var(--fill-color);\n",
              "      border-top-color: var(--fill-color);\n",
              "    }\n",
              "    60% {\n",
              "      border-color: transparent;\n",
              "      border-right-color: var(--fill-color);\n",
              "    }\n",
              "    80% {\n",
              "      border-color: transparent;\n",
              "      border-right-color: var(--fill-color);\n",
              "      border-bottom-color: var(--fill-color);\n",
              "    }\n",
              "    90% {\n",
              "      border-color: transparent;\n",
              "      border-bottom-color: var(--fill-color);\n",
              "    }\n",
              "  }\n",
              "</style>\n",
              "\n",
              "  <script>\n",
              "    async function quickchart(key) {\n",
              "      const quickchartButtonEl =\n",
              "        document.querySelector('#' + key + ' button');\n",
              "      quickchartButtonEl.disabled = true;  // To prevent multiple clicks.\n",
              "      quickchartButtonEl.classList.add('colab-df-spinner');\n",
              "      try {\n",
              "        const charts = await google.colab.kernel.invokeFunction(\n",
              "            'suggestCharts', [key], {});\n",
              "      } catch (error) {\n",
              "        console.error('Error during call to suggestCharts:', error);\n",
              "      }\n",
              "      quickchartButtonEl.classList.remove('colab-df-spinner');\n",
              "      quickchartButtonEl.classList.add('colab-df-quickchart-complete');\n",
              "    }\n",
              "    (() => {\n",
              "      let quickchartButtonEl =\n",
              "        document.querySelector('#df-625e35eb-0448-4877-a13e-15d855bcd502 button');\n",
              "      quickchartButtonEl.style.display =\n",
              "        google.colab.kernel.accessAllowed ? 'block' : 'none';\n",
              "    })();\n",
              "  </script>\n",
              "</div>\n",
              "    </div>\n",
              "  </div>\n"
            ],
            "application/vnd.google.colaboratory.intrinsic+json": {
              "type": "dataframe",
              "variable_name": "processed_df_blueprint",
              "summary": "{\n  \"name\": \"processed_df_blueprint\",\n  \"rows\": 1007,\n  \"fields\": [\n    {\n      \"column\": \"Blueprint\",\n      \"properties\": {\n        \"dtype\": \"string\",\n        \"num_unique_values\": 1006,\n        \"samples\": [\n          \"{'Analyze social media trends': {'next_modes': ['Craft tweets', 'Create Instagram stories', 'Produce promotional video'], 'failure': ['Retry', 'Exit', 'Log and Analyze']}, 'Craft tweets': {'next_modes': ['Analyzer'], 'failure': ['Retry', 'Fallback Content', 'Quality Assurance Check']}, 'Create Instagram stories': {'next_modes': ['Analyzer'], 'failure': ['Retry', 'Switch to Different Mode', 'Partial Content Delivery']}, 'Produce promotional video': {'next_modes': ['Analyzer'], 'failure': ['Retry', 'Request Human Intervention', 'Mode Optimization']}, 'Analyzer': {'next_modes': [], 'failure': None}}\",\n          \"{'Develop VR simulation': {'next_modes': ['Create audio guide'], 'failure': ['Retry', 'Exit', 'Fallback Content']}, 'Create audio guide': {'next_modes': ['Analyzer'], 'failure': ['Retry', 'Alternative Data Sources', 'Partial Content Delivery']}}\",\n          \"{'Translate short story to French': {'next_modes': ['Create audiobook in French'], 'failure': ['Retry', 'Exit', 'Request Human Intervention', 'Fallback Content']}, 'Create audiobook in French': {'next_modes': ['Analyzer'], 'failure': ['Retry', 'Switch to Different Mode', 'Log and Analyze', 'Quality Assurance Check']}, 'Analyzer': {'next_modes': [], 'failure': None}}\"\n        ],\n        \"semantic_type\": \"\",\n        \"description\": \"\"\n      }\n    },\n    {\n      \"column\": \"Instruction\",\n      \"properties\": {\n        \"dtype\": \"string\",\n        \"num_unique_values\": 998,\n        \"samples\": [\n          \"Create a podcast episode discussing the impact of climate change on global agriculture, supported by expert interviews and soundscapes.\",\n          \"Write a short story, turn it into a screenplay, and then produce a trailer based on the screenplay.\",\n          \"Design a logo based on a client's brief, then create a promotional video showcasing the logo in various applications.\"\n        ],\n        \"semantic_type\": \"\",\n        \"description\": \"\"\n      }\n    },\n    {\n      \"column\": \"Detailed\",\n      \"properties\": {\n        \"dtype\": \"string\",\n        \"num_unique_values\": 1007,\n        \"samples\": [\n          \"{'Perform exhaustive research on climate change, gathering current data, trends, and expert opinions to inform the content of the series': {'next_modes': ['Compose detailed scripts that cover varied aspects of climate change, ensuring factual accuracy and audience engagement', 'Capture high-quality video footage that visually supports the scripted content'], 'failure': ['Retry the research incorporating recent findings', 'Exit the project if sufficient and reliable data cannot be obtained', 'Fallback Content with general climate education information', 'Log and Analyze difficulties in data gathering and expert consultation']}, 'Compose detailed scripts that cover varied aspects of climate change, ensuring factual accuracy and audience engagement, including outlines for visual aids': {'next_modes': ['Capture high-quality video footage that visually supports the scripted content'], 'failure': ['Retry with revisions based on peer or expert feedback', 'Request Human Intervention by consulting educational content experts', 'Quality Assurance Check to ensure alignment with educational standards']}, 'Capture high-quality video footage that visually supports the scripted content, including interviews with experts and on-location shots': {'next_modes': ['Use advanced editing software to piece together video clips, add visual effects, and overlay engaging narration'], 'failure': [\\\"Retry capturing footage that better aligns with the script's requirements\\\", 'Switch to Different Mode by incorporating stock footage or animation', 'Partial Content Delivery by focusing on the strongest segments produced so far']}, 'Use advanced editing software to piece together video clips, add visual effects, and overlay engaging narration, ensuring a cohesive and engaging narrative': {'next_modes': ['Publish the series on educational platforms and social media to reach a broad audience, accompanied by interactive learning materials'], 'failure': ['Retry with enhanced editing for clarity and engagement', 'Exit if the series does not meet educational quality standards', 'Quality Assurance Check for technical and narrative coherence', 'Mode Optimization by adjusting video formats for different platforms']}, 'Publish the series on educational platforms and social media to reach a broad audience, accompanied by interactive learning materials': {'next_modes': [], 'failure': None}}\",\n          \"{'Design and program a VR simulation that accurately depicts the chosen historical event, integrating interactive elements to engage users': {'next_modes': ['Record and synchronize a descriptive audio guide providing context and insights about the historical event within the VR simulation'], 'failure': ['Retry the development with adjusted historical accuracy or user engagement features', 'Exit the development if technical limitations are insurmountable', 'Fallback Content using a simplified version of the VR simulation']}, 'Record and synchronize a descriptive audio guide providing context and insights about the historical event within the VR simulation': {'next_modes': ['Perform a comprehensive quality assurance test on the VR simulation with the integrated audio guide'], 'failure': ['Retry the recording with improved script or audio quality', 'Alternative Data Sources for more accurate historical information', 'Partial Content Delivery with a note explaining missing elements']}}\",\n          \"{'Precisely translate the narrative, idiomatic expressions, and dialogues of the English short story to French, ensuring cultural nuances are respected': {'next_modes': [\\\"Narrate the translated French text, incorporating appropriate intonation and pacing to capture the story's mood\\\"], 'failure': ['Attempt translation again, perhaps consulting another language expert', 'Terminate the project if translation fidelity cannot be achieved', 'Notify a bilingual expert to review and intervene if necessary', 'Utilize a pre-existing French translation of a similar story as a placeholder']}, \\\"Narrate the translated French text, incorporating appropriate intonation and pacing to capture the story's mood\\\": {'next_modes': ['Perform final quality checks on the audiobook recording, focusing on clarity, volume, and listener engagement'], 'failure': ['Redo narration with adjustments based on feedback', 'Adopt a different storytelling technique or change narrator', 'Document the issue and analyze for recurrent problems', 'Ensure the audiobook passes a set of predefined quality standards']}, 'Perform final quality checks on the audiobook recording, focusing on clarity, volume, and listener engagement': {'next_modes': [], 'failure': None}}\"\n        ],\n        \"semantic_type\": \"\",\n        \"description\": \"\"\n      }\n    },\n    {\n      \"column\": \"prompt\",\n      \"properties\": {\n        \"dtype\": \"string\",\n        \"num_unique_values\": 1007,\n        \"samples\": [\n          \"[INST]Below is an instruction that describes a composite task. Provide the structured blueprint planning for the following task.Create an educational video series on climate change, including research, scripting, filming, and editing before dissemination.[/INST]\\n\\n### Response:{'Conduct research': {'next_modes': ['Write scripts', 'Film videos'], 'failure': ['Retry', 'Exit', 'Fallback Content', 'Log and Analyze']}, 'Write scripts': {'next_modes': ['Film videos'], 'failure': ['Retry', 'Request Human Intervention', 'Quality Assurance Check']}, 'Film videos': {'next_modes': ['Edit videos'], 'failure': ['Retry', 'Switch to Different Mode', 'Partial Content Delivery']}, 'Edit videos': {'next_modes': ['Disseminate'], 'failure': ['Retry', 'Exit', 'Quality Assurance Check', 'Mode Optimization']}, 'Disseminate': {'next_modes': ['Analyzer'], 'failure': ['Retry', 'Exit', 'Quality Assurance Check', 'Alternative Data Sources']}, 'Analyzer': {'next_modes': [], 'failure': None}}\",\n          \"[INST]Below is an instruction that describes a composite task. Provide the structured blueprint planning for the following task.Develop a virtual reality (VR) simulation of a historical event, including a descriptive audio guide.[/INST]\\n\\n### Response:{'Develop VR simulation': {'next_modes': ['Create audio guide'], 'failure': ['Retry', 'Exit', 'Fallback Content']}, 'Create audio guide': {'next_modes': ['Analyzer'], 'failure': ['Retry', 'Alternative Data Sources', 'Partial Content Delivery']}}\",\n          \"[INST]Below is an instruction that describes a composite task. Provide the structured blueprint planning for the following task.Translate a short story from English to French, then create an audiobook version of the French translation.[/INST]\\n\\n### Response:{'Translate short story to French': {'next_modes': ['Create audiobook in French'], 'failure': ['Retry', 'Exit', 'Request Human Intervention', 'Fallback Content']}, 'Create audiobook in French': {'next_modes': ['Analyzer'], 'failure': ['Retry', 'Switch to Different Mode', 'Log and Analyze', 'Quality Assurance Check']}, 'Analyzer': {'next_modes': [], 'failure': None}}\"\n        ],\n        \"semantic_type\": \"\",\n        \"description\": \"\"\n      }\n    },\n    {\n      \"column\": \"response\",\n      \"properties\": {\n        \"dtype\": \"string\",\n        \"num_unique_values\": 1006,\n        \"samples\": [\n          \"### Response:{'Analyze social media trends': {'next_modes': ['Craft tweets', 'Create Instagram stories', 'Produce promotional video'], 'failure': ['Retry', 'Exit', 'Log and Analyze']}, 'Craft tweets': {'next_modes': ['Analyzer'], 'failure': ['Retry', 'Fallback Content', 'Quality Assurance Check']}, 'Create Instagram stories': {'next_modes': ['Analyzer'], 'failure': ['Retry', 'Switch to Different Mode', 'Partial Content Delivery']}, 'Produce promotional video': {'next_modes': ['Analyzer'], 'failure': ['Retry', 'Request Human Intervention', 'Mode Optimization']}, 'Analyzer': {'next_modes': [], 'failure': None}}\",\n          \"### Response:{'Develop VR simulation': {'next_modes': ['Create audio guide'], 'failure': ['Retry', 'Exit', 'Fallback Content']}, 'Create audio guide': {'next_modes': ['Analyzer'], 'failure': ['Retry', 'Alternative Data Sources', 'Partial Content Delivery']}}\",\n          \"### Response:{'Translate short story to French': {'next_modes': ['Create audiobook in French'], 'failure': ['Retry', 'Exit', 'Request Human Intervention', 'Fallback Content']}, 'Create audiobook in French': {'next_modes': ['Analyzer'], 'failure': ['Retry', 'Switch to Different Mode', 'Log and Analyze', 'Quality Assurance Check']}, 'Analyzer': {'next_modes': [], 'failure': None}}\"\n        ],\n        \"semantic_type\": \"\",\n        \"description\": \"\"\n      }\n    },\n    {\n      \"column\": \"input_ids\",\n      \"properties\": {\n        \"dtype\": \"object\",\n        \"semantic_type\": \"\",\n        \"description\": \"\"\n      }\n    },\n    {\n      \"column\": \"attention_mask\",\n      \"properties\": {\n        \"dtype\": \"object\",\n        \"semantic_type\": \"\",\n        \"description\": \"\"\n      }\n    }\n  ]\n}"
            }
          },
          "metadata": {},
          "execution_count": 33
        }
      ]
    },
    {
      "cell_type": "code",
      "source": [
        "processed_df_detail = processed_data_detail.to_pandas()\n",
        "processed_df_detail.head(5)"
      ],
      "metadata": {
        "id": "UmdWROM7YOyF",
        "colab": {
          "base_uri": "https://localhost:8080/",
          "height": 459
        },
        "outputId": "fd71a01e-960e-4bbd-c776-e98422b56f26"
      },
      "execution_count": null,
      "outputs": [
        {
          "output_type": "display_data",
          "data": {
            "text/plain": [
              "<IPython.core.display.HTML object>"
            ],
            "text/html": [
              "\n",
              "  <style>\n",
              "    pre {\n",
              "        white-space: pre-wrap;\n",
              "    }\n",
              "  </style>\n",
              "  "
            ]
          },
          "metadata": {}
        },
        {
          "output_type": "execute_result",
          "data": {
            "text/plain": [
              "                                           Blueprint  \\\n",
              "0  {'Translate short story into screenplay': {'ne...   \n",
              "1  {'Select artworks': {'next_modes': ['Write bio...   \n",
              "2  {'Analyze sentiment': {'next_modes': ['Visuali...   \n",
              "3  {'Capture drone footage': {'next_modes': ['Ana...   \n",
              "4  {'Topic selection': {'next_modes': ['Script wr...   \n",
              "\n",
              "                                         Instruction  \\\n",
              "0  Translate a short story into a screenplay, the...   \n",
              "1  Create a virtual art gallery exhibit, featurin...   \n",
              "2  Analyze the sentiment of tweets related to a s...   \n",
              "3  Analyze traffic patterns from drone footage of...   \n",
              "4  Develop a software tutorial series including s...   \n",
              "\n",
              "                                            Detailed  \\\n",
              "0  {'Convert the narrative and dialogues of a bri...   \n",
              "1  {\"Curate a collection of digital artworks that...   \n",
              "2  {'Utilize advanced text analysis tools to gaug...   \n",
              "3  {'Collect high-resolution aerial footage of ta...   \n",
              "4  {'Identify fundamental programming concepts an...   \n",
              "\n",
              "                                              prompt  \\\n",
              "0  [INST]Below is an instruction that describes a...   \n",
              "1  [INST]Below is an instruction that describes a...   \n",
              "2  [INST]Below is an instruction that describes a...   \n",
              "3  [INST]Below is an instruction that describes a...   \n",
              "4  [INST]Below is an instruction that describes a...   \n",
              "\n",
              "                                            response  \\\n",
              "0  ### Response:{'Convert the narrative and dialo...   \n",
              "1  ### Response:{\"Curate a collection of digital ...   \n",
              "2  ### Response:{'Utilize advanced text analysis ...   \n",
              "3  ### Response:{'Collect high-resolution aerial ...   \n",
              "4  ### Response:{'Identify fundamental programmin...   \n",
              "\n",
              "                                           input_ids  \\\n",
              "0  [1, 733, 16289, 28793, 20548, 336, 349, 396, 1...   \n",
              "1  [1, 733, 16289, 28793, 20548, 336, 349, 396, 1...   \n",
              "2  [1, 733, 16289, 28793, 20548, 336, 349, 396, 1...   \n",
              "3  [1, 733, 16289, 28793, 20548, 336, 349, 396, 1...   \n",
              "4  [1, 733, 16289, 28793, 20548, 336, 349, 396, 1...   \n",
              "\n",
              "                                      attention_mask  \n",
              "0  [1, 1, 1, 1, 1, 1, 1, 1, 1, 1, 1, 1, 1, 1, 1, ...  \n",
              "1  [1, 1, 1, 1, 1, 1, 1, 1, 1, 1, 1, 1, 1, 1, 1, ...  \n",
              "2  [1, 1, 1, 1, 1, 1, 1, 1, 1, 1, 1, 1, 1, 1, 1, ...  \n",
              "3  [1, 1, 1, 1, 1, 1, 1, 1, 1, 1, 1, 1, 1, 1, 1, ...  \n",
              "4  [1, 1, 1, 1, 1, 1, 1, 1, 1, 1, 1, 1, 1, 1, 1, ...  "
            ],
            "text/html": [
              "\n",
              "  <div id=\"df-f1461eac-429b-4767-b945-f4ed764f21b4\" class=\"colab-df-container\">\n",
              "    <div>\n",
              "<style scoped>\n",
              "    .dataframe tbody tr th:only-of-type {\n",
              "        vertical-align: middle;\n",
              "    }\n",
              "\n",
              "    .dataframe tbody tr th {\n",
              "        vertical-align: top;\n",
              "    }\n",
              "\n",
              "    .dataframe thead th {\n",
              "        text-align: right;\n",
              "    }\n",
              "</style>\n",
              "<table border=\"1\" class=\"dataframe\">\n",
              "  <thead>\n",
              "    <tr style=\"text-align: right;\">\n",
              "      <th></th>\n",
              "      <th>Blueprint</th>\n",
              "      <th>Instruction</th>\n",
              "      <th>Detailed</th>\n",
              "      <th>prompt</th>\n",
              "      <th>response</th>\n",
              "      <th>input_ids</th>\n",
              "      <th>attention_mask</th>\n",
              "    </tr>\n",
              "  </thead>\n",
              "  <tbody>\n",
              "    <tr>\n",
              "      <th>0</th>\n",
              "      <td>{'Translate short story into screenplay': {'ne...</td>\n",
              "      <td>Translate a short story into a screenplay, the...</td>\n",
              "      <td>{'Convert the narrative and dialogues of a bri...</td>\n",
              "      <td>[INST]Below is an instruction that describes a...</td>\n",
              "      <td>### Response:{'Convert the narrative and dialo...</td>\n",
              "      <td>[1, 733, 16289, 28793, 20548, 336, 349, 396, 1...</td>\n",
              "      <td>[1, 1, 1, 1, 1, 1, 1, 1, 1, 1, 1, 1, 1, 1, 1, ...</td>\n",
              "    </tr>\n",
              "    <tr>\n",
              "      <th>1</th>\n",
              "      <td>{'Select artworks': {'next_modes': ['Write bio...</td>\n",
              "      <td>Create a virtual art gallery exhibit, featurin...</td>\n",
              "      <td>{\"Curate a collection of digital artworks that...</td>\n",
              "      <td>[INST]Below is an instruction that describes a...</td>\n",
              "      <td>### Response:{\"Curate a collection of digital ...</td>\n",
              "      <td>[1, 733, 16289, 28793, 20548, 336, 349, 396, 1...</td>\n",
              "      <td>[1, 1, 1, 1, 1, 1, 1, 1, 1, 1, 1, 1, 1, 1, 1, ...</td>\n",
              "    </tr>\n",
              "    <tr>\n",
              "      <th>2</th>\n",
              "      <td>{'Analyze sentiment': {'next_modes': ['Visuali...</td>\n",
              "      <td>Analyze the sentiment of tweets related to a s...</td>\n",
              "      <td>{'Utilize advanced text analysis tools to gaug...</td>\n",
              "      <td>[INST]Below is an instruction that describes a...</td>\n",
              "      <td>### Response:{'Utilize advanced text analysis ...</td>\n",
              "      <td>[1, 733, 16289, 28793, 20548, 336, 349, 396, 1...</td>\n",
              "      <td>[1, 1, 1, 1, 1, 1, 1, 1, 1, 1, 1, 1, 1, 1, 1, ...</td>\n",
              "    </tr>\n",
              "    <tr>\n",
              "      <th>3</th>\n",
              "      <td>{'Capture drone footage': {'next_modes': ['Ana...</td>\n",
              "      <td>Analyze traffic patterns from drone footage of...</td>\n",
              "      <td>{'Collect high-resolution aerial footage of ta...</td>\n",
              "      <td>[INST]Below is an instruction that describes a...</td>\n",
              "      <td>### Response:{'Collect high-resolution aerial ...</td>\n",
              "      <td>[1, 733, 16289, 28793, 20548, 336, 349, 396, 1...</td>\n",
              "      <td>[1, 1, 1, 1, 1, 1, 1, 1, 1, 1, 1, 1, 1, 1, 1, ...</td>\n",
              "    </tr>\n",
              "    <tr>\n",
              "      <th>4</th>\n",
              "      <td>{'Topic selection': {'next_modes': ['Script wr...</td>\n",
              "      <td>Develop a software tutorial series including s...</td>\n",
              "      <td>{'Identify fundamental programming concepts an...</td>\n",
              "      <td>[INST]Below is an instruction that describes a...</td>\n",
              "      <td>### Response:{'Identify fundamental programmin...</td>\n",
              "      <td>[1, 733, 16289, 28793, 20548, 336, 349, 396, 1...</td>\n",
              "      <td>[1, 1, 1, 1, 1, 1, 1, 1, 1, 1, 1, 1, 1, 1, 1, ...</td>\n",
              "    </tr>\n",
              "  </tbody>\n",
              "</table>\n",
              "</div>\n",
              "    <div class=\"colab-df-buttons\">\n",
              "\n",
              "  <div class=\"colab-df-container\">\n",
              "    <button class=\"colab-df-convert\" onclick=\"convertToInteractive('df-f1461eac-429b-4767-b945-f4ed764f21b4')\"\n",
              "            title=\"Convert this dataframe to an interactive table.\"\n",
              "            style=\"display:none;\">\n",
              "\n",
              "  <svg xmlns=\"http://www.w3.org/2000/svg\" height=\"24px\" viewBox=\"0 -960 960 960\">\n",
              "    <path d=\"M120-120v-720h720v720H120Zm60-500h600v-160H180v160Zm220 220h160v-160H400v160Zm0 220h160v-160H400v160ZM180-400h160v-160H180v160Zm440 0h160v-160H620v160ZM180-180h160v-160H180v160Zm440 0h160v-160H620v160Z\"/>\n",
              "  </svg>\n",
              "    </button>\n",
              "\n",
              "  <style>\n",
              "    .colab-df-container {\n",
              "      display:flex;\n",
              "      gap: 12px;\n",
              "    }\n",
              "\n",
              "    .colab-df-convert {\n",
              "      background-color: #E8F0FE;\n",
              "      border: none;\n",
              "      border-radius: 50%;\n",
              "      cursor: pointer;\n",
              "      display: none;\n",
              "      fill: #1967D2;\n",
              "      height: 32px;\n",
              "      padding: 0 0 0 0;\n",
              "      width: 32px;\n",
              "    }\n",
              "\n",
              "    .colab-df-convert:hover {\n",
              "      background-color: #E2EBFA;\n",
              "      box-shadow: 0px 1px 2px rgba(60, 64, 67, 0.3), 0px 1px 3px 1px rgba(60, 64, 67, 0.15);\n",
              "      fill: #174EA6;\n",
              "    }\n",
              "\n",
              "    .colab-df-buttons div {\n",
              "      margin-bottom: 4px;\n",
              "    }\n",
              "\n",
              "    [theme=dark] .colab-df-convert {\n",
              "      background-color: #3B4455;\n",
              "      fill: #D2E3FC;\n",
              "    }\n",
              "\n",
              "    [theme=dark] .colab-df-convert:hover {\n",
              "      background-color: #434B5C;\n",
              "      box-shadow: 0px 1px 3px 1px rgba(0, 0, 0, 0.15);\n",
              "      filter: drop-shadow(0px 1px 2px rgba(0, 0, 0, 0.3));\n",
              "      fill: #FFFFFF;\n",
              "    }\n",
              "  </style>\n",
              "\n",
              "    <script>\n",
              "      const buttonEl =\n",
              "        document.querySelector('#df-f1461eac-429b-4767-b945-f4ed764f21b4 button.colab-df-convert');\n",
              "      buttonEl.style.display =\n",
              "        google.colab.kernel.accessAllowed ? 'block' : 'none';\n",
              "\n",
              "      async function convertToInteractive(key) {\n",
              "        const element = document.querySelector('#df-f1461eac-429b-4767-b945-f4ed764f21b4');\n",
              "        const dataTable =\n",
              "          await google.colab.kernel.invokeFunction('convertToInteractive',\n",
              "                                                    [key], {});\n",
              "        if (!dataTable) return;\n",
              "\n",
              "        const docLinkHtml = 'Like what you see? Visit the ' +\n",
              "          '<a target=\"_blank\" href=https://colab.research.google.com/notebooks/data_table.ipynb>data table notebook</a>'\n",
              "          + ' to learn more about interactive tables.';\n",
              "        element.innerHTML = '';\n",
              "        dataTable['output_type'] = 'display_data';\n",
              "        await google.colab.output.renderOutput(dataTable, element);\n",
              "        const docLink = document.createElement('div');\n",
              "        docLink.innerHTML = docLinkHtml;\n",
              "        element.appendChild(docLink);\n",
              "      }\n",
              "    </script>\n",
              "  </div>\n",
              "\n",
              "\n",
              "<div id=\"df-21a9ca98-5034-42a9-b960-3f6f986c1195\">\n",
              "  <button class=\"colab-df-quickchart\" onclick=\"quickchart('df-21a9ca98-5034-42a9-b960-3f6f986c1195')\"\n",
              "            title=\"Suggest charts\"\n",
              "            style=\"display:none;\">\n",
              "\n",
              "<svg xmlns=\"http://www.w3.org/2000/svg\" height=\"24px\"viewBox=\"0 0 24 24\"\n",
              "     width=\"24px\">\n",
              "    <g>\n",
              "        <path d=\"M19 3H5c-1.1 0-2 .9-2 2v14c0 1.1.9 2 2 2h14c1.1 0 2-.9 2-2V5c0-1.1-.9-2-2-2zM9 17H7v-7h2v7zm4 0h-2V7h2v10zm4 0h-2v-4h2v4z\"/>\n",
              "    </g>\n",
              "</svg>\n",
              "  </button>\n",
              "\n",
              "<style>\n",
              "  .colab-df-quickchart {\n",
              "      --bg-color: #E8F0FE;\n",
              "      --fill-color: #1967D2;\n",
              "      --hover-bg-color: #E2EBFA;\n",
              "      --hover-fill-color: #174EA6;\n",
              "      --disabled-fill-color: #AAA;\n",
              "      --disabled-bg-color: #DDD;\n",
              "  }\n",
              "\n",
              "  [theme=dark] .colab-df-quickchart {\n",
              "      --bg-color: #3B4455;\n",
              "      --fill-color: #D2E3FC;\n",
              "      --hover-bg-color: #434B5C;\n",
              "      --hover-fill-color: #FFFFFF;\n",
              "      --disabled-bg-color: #3B4455;\n",
              "      --disabled-fill-color: #666;\n",
              "  }\n",
              "\n",
              "  .colab-df-quickchart {\n",
              "    background-color: var(--bg-color);\n",
              "    border: none;\n",
              "    border-radius: 50%;\n",
              "    cursor: pointer;\n",
              "    display: none;\n",
              "    fill: var(--fill-color);\n",
              "    height: 32px;\n",
              "    padding: 0;\n",
              "    width: 32px;\n",
              "  }\n",
              "\n",
              "  .colab-df-quickchart:hover {\n",
              "    background-color: var(--hover-bg-color);\n",
              "    box-shadow: 0 1px 2px rgba(60, 64, 67, 0.3), 0 1px 3px 1px rgba(60, 64, 67, 0.15);\n",
              "    fill: var(--button-hover-fill-color);\n",
              "  }\n",
              "\n",
              "  .colab-df-quickchart-complete:disabled,\n",
              "  .colab-df-quickchart-complete:disabled:hover {\n",
              "    background-color: var(--disabled-bg-color);\n",
              "    fill: var(--disabled-fill-color);\n",
              "    box-shadow: none;\n",
              "  }\n",
              "\n",
              "  .colab-df-spinner {\n",
              "    border: 2px solid var(--fill-color);\n",
              "    border-color: transparent;\n",
              "    border-bottom-color: var(--fill-color);\n",
              "    animation:\n",
              "      spin 1s steps(1) infinite;\n",
              "  }\n",
              "\n",
              "  @keyframes spin {\n",
              "    0% {\n",
              "      border-color: transparent;\n",
              "      border-bottom-color: var(--fill-color);\n",
              "      border-left-color: var(--fill-color);\n",
              "    }\n",
              "    20% {\n",
              "      border-color: transparent;\n",
              "      border-left-color: var(--fill-color);\n",
              "      border-top-color: var(--fill-color);\n",
              "    }\n",
              "    30% {\n",
              "      border-color: transparent;\n",
              "      border-left-color: var(--fill-color);\n",
              "      border-top-color: var(--fill-color);\n",
              "      border-right-color: var(--fill-color);\n",
              "    }\n",
              "    40% {\n",
              "      border-color: transparent;\n",
              "      border-right-color: var(--fill-color);\n",
              "      border-top-color: var(--fill-color);\n",
              "    }\n",
              "    60% {\n",
              "      border-color: transparent;\n",
              "      border-right-color: var(--fill-color);\n",
              "    }\n",
              "    80% {\n",
              "      border-color: transparent;\n",
              "      border-right-color: var(--fill-color);\n",
              "      border-bottom-color: var(--fill-color);\n",
              "    }\n",
              "    90% {\n",
              "      border-color: transparent;\n",
              "      border-bottom-color: var(--fill-color);\n",
              "    }\n",
              "  }\n",
              "</style>\n",
              "\n",
              "  <script>\n",
              "    async function quickchart(key) {\n",
              "      const quickchartButtonEl =\n",
              "        document.querySelector('#' + key + ' button');\n",
              "      quickchartButtonEl.disabled = true;  // To prevent multiple clicks.\n",
              "      quickchartButtonEl.classList.add('colab-df-spinner');\n",
              "      try {\n",
              "        const charts = await google.colab.kernel.invokeFunction(\n",
              "            'suggestCharts', [key], {});\n",
              "      } catch (error) {\n",
              "        console.error('Error during call to suggestCharts:', error);\n",
              "      }\n",
              "      quickchartButtonEl.classList.remove('colab-df-spinner');\n",
              "      quickchartButtonEl.classList.add('colab-df-quickchart-complete');\n",
              "    }\n",
              "    (() => {\n",
              "      let quickchartButtonEl =\n",
              "        document.querySelector('#df-21a9ca98-5034-42a9-b960-3f6f986c1195 button');\n",
              "      quickchartButtonEl.style.display =\n",
              "        google.colab.kernel.accessAllowed ? 'block' : 'none';\n",
              "    })();\n",
              "  </script>\n",
              "</div>\n",
              "    </div>\n",
              "  </div>\n"
            ],
            "application/vnd.google.colaboratory.intrinsic+json": {
              "type": "dataframe",
              "variable_name": "processed_df_detail",
              "summary": "{\n  \"name\": \"processed_df_detail\",\n  \"rows\": 1007,\n  \"fields\": [\n    {\n      \"column\": \"Blueprint\",\n      \"properties\": {\n        \"dtype\": \"string\",\n        \"num_unique_values\": 1006,\n        \"samples\": [\n          \"{'Analyze social media trends': {'next_modes': ['Craft tweets', 'Create Instagram stories', 'Produce promotional video'], 'failure': ['Retry', 'Exit', 'Log and Analyze']}, 'Craft tweets': {'next_modes': ['Analyzer'], 'failure': ['Retry', 'Fallback Content', 'Quality Assurance Check']}, 'Create Instagram stories': {'next_modes': ['Analyzer'], 'failure': ['Retry', 'Switch to Different Mode', 'Partial Content Delivery']}, 'Produce promotional video': {'next_modes': ['Analyzer'], 'failure': ['Retry', 'Request Human Intervention', 'Mode Optimization']}, 'Analyzer': {'next_modes': [], 'failure': None}}\",\n          \"{'Develop VR simulation': {'next_modes': ['Create audio guide'], 'failure': ['Retry', 'Exit', 'Fallback Content']}, 'Create audio guide': {'next_modes': ['Analyzer'], 'failure': ['Retry', 'Alternative Data Sources', 'Partial Content Delivery']}}\",\n          \"{'Translate short story to French': {'next_modes': ['Create audiobook in French'], 'failure': ['Retry', 'Exit', 'Request Human Intervention', 'Fallback Content']}, 'Create audiobook in French': {'next_modes': ['Analyzer'], 'failure': ['Retry', 'Switch to Different Mode', 'Log and Analyze', 'Quality Assurance Check']}, 'Analyzer': {'next_modes': [], 'failure': None}}\"\n        ],\n        \"semantic_type\": \"\",\n        \"description\": \"\"\n      }\n    },\n    {\n      \"column\": \"Instruction\",\n      \"properties\": {\n        \"dtype\": \"string\",\n        \"num_unique_values\": 998,\n        \"samples\": [\n          \"Create a podcast episode discussing the impact of climate change on global agriculture, supported by expert interviews and soundscapes.\",\n          \"Write a short story, turn it into a screenplay, and then produce a trailer based on the screenplay.\",\n          \"Design a logo based on a client's brief, then create a promotional video showcasing the logo in various applications.\"\n        ],\n        \"semantic_type\": \"\",\n        \"description\": \"\"\n      }\n    },\n    {\n      \"column\": \"Detailed\",\n      \"properties\": {\n        \"dtype\": \"string\",\n        \"num_unique_values\": 1007,\n        \"samples\": [\n          \"{'Perform exhaustive research on climate change, gathering current data, trends, and expert opinions to inform the content of the series': {'next_modes': ['Compose detailed scripts that cover varied aspects of climate change, ensuring factual accuracy and audience engagement', 'Capture high-quality video footage that visually supports the scripted content'], 'failure': ['Retry the research incorporating recent findings', 'Exit the project if sufficient and reliable data cannot be obtained', 'Fallback Content with general climate education information', 'Log and Analyze difficulties in data gathering and expert consultation']}, 'Compose detailed scripts that cover varied aspects of climate change, ensuring factual accuracy and audience engagement, including outlines for visual aids': {'next_modes': ['Capture high-quality video footage that visually supports the scripted content'], 'failure': ['Retry with revisions based on peer or expert feedback', 'Request Human Intervention by consulting educational content experts', 'Quality Assurance Check to ensure alignment with educational standards']}, 'Capture high-quality video footage that visually supports the scripted content, including interviews with experts and on-location shots': {'next_modes': ['Use advanced editing software to piece together video clips, add visual effects, and overlay engaging narration'], 'failure': [\\\"Retry capturing footage that better aligns with the script's requirements\\\", 'Switch to Different Mode by incorporating stock footage or animation', 'Partial Content Delivery by focusing on the strongest segments produced so far']}, 'Use advanced editing software to piece together video clips, add visual effects, and overlay engaging narration, ensuring a cohesive and engaging narrative': {'next_modes': ['Publish the series on educational platforms and social media to reach a broad audience, accompanied by interactive learning materials'], 'failure': ['Retry with enhanced editing for clarity and engagement', 'Exit if the series does not meet educational quality standards', 'Quality Assurance Check for technical and narrative coherence', 'Mode Optimization by adjusting video formats for different platforms']}, 'Publish the series on educational platforms and social media to reach a broad audience, accompanied by interactive learning materials': {'next_modes': [], 'failure': None}}\",\n          \"{'Design and program a VR simulation that accurately depicts the chosen historical event, integrating interactive elements to engage users': {'next_modes': ['Record and synchronize a descriptive audio guide providing context and insights about the historical event within the VR simulation'], 'failure': ['Retry the development with adjusted historical accuracy or user engagement features', 'Exit the development if technical limitations are insurmountable', 'Fallback Content using a simplified version of the VR simulation']}, 'Record and synchronize a descriptive audio guide providing context and insights about the historical event within the VR simulation': {'next_modes': ['Perform a comprehensive quality assurance test on the VR simulation with the integrated audio guide'], 'failure': ['Retry the recording with improved script or audio quality', 'Alternative Data Sources for more accurate historical information', 'Partial Content Delivery with a note explaining missing elements']}}\",\n          \"{'Precisely translate the narrative, idiomatic expressions, and dialogues of the English short story to French, ensuring cultural nuances are respected': {'next_modes': [\\\"Narrate the translated French text, incorporating appropriate intonation and pacing to capture the story's mood\\\"], 'failure': ['Attempt translation again, perhaps consulting another language expert', 'Terminate the project if translation fidelity cannot be achieved', 'Notify a bilingual expert to review and intervene if necessary', 'Utilize a pre-existing French translation of a similar story as a placeholder']}, \\\"Narrate the translated French text, incorporating appropriate intonation and pacing to capture the story's mood\\\": {'next_modes': ['Perform final quality checks on the audiobook recording, focusing on clarity, volume, and listener engagement'], 'failure': ['Redo narration with adjustments based on feedback', 'Adopt a different storytelling technique or change narrator', 'Document the issue and analyze for recurrent problems', 'Ensure the audiobook passes a set of predefined quality standards']}, 'Perform final quality checks on the audiobook recording, focusing on clarity, volume, and listener engagement': {'next_modes': [], 'failure': None}}\"\n        ],\n        \"semantic_type\": \"\",\n        \"description\": \"\"\n      }\n    },\n    {\n      \"column\": \"prompt\",\n      \"properties\": {\n        \"dtype\": \"string\",\n        \"num_unique_values\": 1007,\n        \"samples\": [\n          \"[INST]Below is an instruction that describes a composite task. Provide the structured detail planning for the following task.Create an educational video series on climate change, including research, scripting, filming, and editing before dissemination.[/INST]\\n\\n### Response:{'Perform exhaustive research on climate change, gathering current data, trends, and expert opinions to inform the content of the series': {'next_modes': ['Compose detailed scripts that cover varied aspects of climate change, ensuring factual accuracy and audience engagement', 'Capture high-quality video footage that visually supports the scripted content'], 'failure': ['Retry the research incorporating recent findings', 'Exit the project if sufficient and reliable data cannot be obtained', 'Fallback Content with general climate education information', 'Log and Analyze difficulties in data gathering and expert consultation']}, 'Compose detailed scripts that cover varied aspects of climate change, ensuring factual accuracy and audience engagement, including outlines for visual aids': {'next_modes': ['Capture high-quality video footage that visually supports the scripted content'], 'failure': ['Retry with revisions based on peer or expert feedback', 'Request Human Intervention by consulting educational content experts', 'Quality Assurance Check to ensure alignment with educational standards']}, 'Capture high-quality video footage that visually supports the scripted content, including interviews with experts and on-location shots': {'next_modes': ['Use advanced editing software to piece together video clips, add visual effects, and overlay engaging narration'], 'failure': [\\\"Retry capturing footage that better aligns with the script's requirements\\\", 'Switch to Different Mode by incorporating stock footage or animation', 'Partial Content Delivery by focusing on the strongest segments produced so far']}, 'Use advanced editing software to piece together video clips, add visual effects, and overlay engaging narration, ensuring a cohesive and engaging narrative': {'next_modes': ['Publish the series on educational platforms and social media to reach a broad audience, accompanied by interactive learning materials'], 'failure': ['Retry with enhanced editing for clarity and engagement', 'Exit if the series does not meet educational quality standards', 'Quality Assurance Check for technical and narrative coherence', 'Mode Optimization by adjusting video formats for different platforms']}, 'Publish the series on educational platforms and social media to reach a broad audience, accompanied by interactive learning materials': {'next_modes': [], 'failure': None}}\",\n          \"[INST]Below is an instruction that describes a composite task. Provide the structured detail planning for the following task.Develop a virtual reality (VR) simulation of a historical event, including a descriptive audio guide.[/INST]\\n\\n### Response:{'Design and program a VR simulation that accurately depicts the chosen historical event, integrating interactive elements to engage users': {'next_modes': ['Record and synchronize a descriptive audio guide providing context and insights about the historical event within the VR simulation'], 'failure': ['Retry the development with adjusted historical accuracy or user engagement features', 'Exit the development if technical limitations are insurmountable', 'Fallback Content using a simplified version of the VR simulation']}, 'Record and synchronize a descriptive audio guide providing context and insights about the historical event within the VR simulation': {'next_modes': ['Perform a comprehensive quality assurance test on the VR simulation with the integrated audio guide'], 'failure': ['Retry the recording with improved script or audio quality', 'Alternative Data Sources for more accurate historical information', 'Partial Content Delivery with a note explaining missing elements']}}\",\n          \"[INST]Below is an instruction that describes a composite task. Provide the structured detail planning for the following task.Translate a short story from English to French, then create an audiobook version of the French translation.[/INST]\\n\\n### Response:{'Precisely translate the narrative, idiomatic expressions, and dialogues of the English short story to French, ensuring cultural nuances are respected': {'next_modes': [\\\"Narrate the translated French text, incorporating appropriate intonation and pacing to capture the story's mood\\\"], 'failure': ['Attempt translation again, perhaps consulting another language expert', 'Terminate the project if translation fidelity cannot be achieved', 'Notify a bilingual expert to review and intervene if necessary', 'Utilize a pre-existing French translation of a similar story as a placeholder']}, \\\"Narrate the translated French text, incorporating appropriate intonation and pacing to capture the story's mood\\\": {'next_modes': ['Perform final quality checks on the audiobook recording, focusing on clarity, volume, and listener engagement'], 'failure': ['Redo narration with adjustments based on feedback', 'Adopt a different storytelling technique or change narrator', 'Document the issue and analyze for recurrent problems', 'Ensure the audiobook passes a set of predefined quality standards']}, 'Perform final quality checks on the audiobook recording, focusing on clarity, volume, and listener engagement': {'next_modes': [], 'failure': None}}\"\n        ],\n        \"semantic_type\": \"\",\n        \"description\": \"\"\n      }\n    },\n    {\n      \"column\": \"response\",\n      \"properties\": {\n        \"dtype\": \"string\",\n        \"num_unique_values\": 1007,\n        \"samples\": [\n          \"### Response:{'Perform exhaustive research on climate change, gathering current data, trends, and expert opinions to inform the content of the series': {'next_modes': ['Compose detailed scripts that cover varied aspects of climate change, ensuring factual accuracy and audience engagement', 'Capture high-quality video footage that visually supports the scripted content'], 'failure': ['Retry the research incorporating recent findings', 'Exit the project if sufficient and reliable data cannot be obtained', 'Fallback Content with general climate education information', 'Log and Analyze difficulties in data gathering and expert consultation']}, 'Compose detailed scripts that cover varied aspects of climate change, ensuring factual accuracy and audience engagement, including outlines for visual aids': {'next_modes': ['Capture high-quality video footage that visually supports the scripted content'], 'failure': ['Retry with revisions based on peer or expert feedback', 'Request Human Intervention by consulting educational content experts', 'Quality Assurance Check to ensure alignment with educational standards']}, 'Capture high-quality video footage that visually supports the scripted content, including interviews with experts and on-location shots': {'next_modes': ['Use advanced editing software to piece together video clips, add visual effects, and overlay engaging narration'], 'failure': [\\\"Retry capturing footage that better aligns with the script's requirements\\\", 'Switch to Different Mode by incorporating stock footage or animation', 'Partial Content Delivery by focusing on the strongest segments produced so far']}, 'Use advanced editing software to piece together video clips, add visual effects, and overlay engaging narration, ensuring a cohesive and engaging narrative': {'next_modes': ['Publish the series on educational platforms and social media to reach a broad audience, accompanied by interactive learning materials'], 'failure': ['Retry with enhanced editing for clarity and engagement', 'Exit if the series does not meet educational quality standards', 'Quality Assurance Check for technical and narrative coherence', 'Mode Optimization by adjusting video formats for different platforms']}, 'Publish the series on educational platforms and social media to reach a broad audience, accompanied by interactive learning materials': {'next_modes': [], 'failure': None}}\",\n          \"### Response:{'Design and program a VR simulation that accurately depicts the chosen historical event, integrating interactive elements to engage users': {'next_modes': ['Record and synchronize a descriptive audio guide providing context and insights about the historical event within the VR simulation'], 'failure': ['Retry the development with adjusted historical accuracy or user engagement features', 'Exit the development if technical limitations are insurmountable', 'Fallback Content using a simplified version of the VR simulation']}, 'Record and synchronize a descriptive audio guide providing context and insights about the historical event within the VR simulation': {'next_modes': ['Perform a comprehensive quality assurance test on the VR simulation with the integrated audio guide'], 'failure': ['Retry the recording with improved script or audio quality', 'Alternative Data Sources for more accurate historical information', 'Partial Content Delivery with a note explaining missing elements']}}\",\n          \"### Response:{'Precisely translate the narrative, idiomatic expressions, and dialogues of the English short story to French, ensuring cultural nuances are respected': {'next_modes': [\\\"Narrate the translated French text, incorporating appropriate intonation and pacing to capture the story's mood\\\"], 'failure': ['Attempt translation again, perhaps consulting another language expert', 'Terminate the project if translation fidelity cannot be achieved', 'Notify a bilingual expert to review and intervene if necessary', 'Utilize a pre-existing French translation of a similar story as a placeholder']}, \\\"Narrate the translated French text, incorporating appropriate intonation and pacing to capture the story's mood\\\": {'next_modes': ['Perform final quality checks on the audiobook recording, focusing on clarity, volume, and listener engagement'], 'failure': ['Redo narration with adjustments based on feedback', 'Adopt a different storytelling technique or change narrator', 'Document the issue and analyze for recurrent problems', 'Ensure the audiobook passes a set of predefined quality standards']}, 'Perform final quality checks on the audiobook recording, focusing on clarity, volume, and listener engagement': {'next_modes': [], 'failure': None}}\"\n        ],\n        \"semantic_type\": \"\",\n        \"description\": \"\"\n      }\n    },\n    {\n      \"column\": \"input_ids\",\n      \"properties\": {\n        \"dtype\": \"object\",\n        \"semantic_type\": \"\",\n        \"description\": \"\"\n      }\n    },\n    {\n      \"column\": \"attention_mask\",\n      \"properties\": {\n        \"dtype\": \"object\",\n        \"semantic_type\": \"\",\n        \"description\": \"\"\n      }\n    }\n  ]\n}"
            }
          },
          "metadata": {},
          "execution_count": 34
        }
      ]
    },
    {
      "cell_type": "code",
      "source": [
        "_,test_data_blueprint=split_train_test_dataset(processed_data_blueprint)"
      ],
      "metadata": {
        "id": "zs2KHAXvYYr4",
        "colab": {
          "base_uri": "https://localhost:8080/",
          "height": 17
        },
        "outputId": "132f7072-8cb6-4514-cdc7-777d1638f9b2"
      },
      "execution_count": null,
      "outputs": [
        {
          "output_type": "display_data",
          "data": {
            "text/plain": [
              "<IPython.core.display.HTML object>"
            ],
            "text/html": [
              "\n",
              "  <style>\n",
              "    pre {\n",
              "        white-space: pre-wrap;\n",
              "    }\n",
              "  </style>\n",
              "  "
            ]
          },
          "metadata": {}
        }
      ]
    },
    {
      "cell_type": "code",
      "source": [
        "_,test_data_detail=split_train_test_dataset(processed_data_detail)"
      ],
      "metadata": {
        "id": "97HZG71DYZpq",
        "colab": {
          "base_uri": "https://localhost:8080/",
          "height": 17
        },
        "outputId": "1304215d-0085-4bc1-b601-6cadfd805001"
      },
      "execution_count": null,
      "outputs": [
        {
          "output_type": "display_data",
          "data": {
            "text/plain": [
              "<IPython.core.display.HTML object>"
            ],
            "text/html": [
              "\n",
              "  <style>\n",
              "    pre {\n",
              "        white-space: pre-wrap;\n",
              "    }\n",
              "  </style>\n",
              "  "
            ]
          },
          "metadata": {}
        }
      ]
    },
    {
      "cell_type": "code",
      "source": [
        "import torch\n",
        "from transformers import AutoModelForCausalLM,BitsAndBytesConfig\n",
        "\n",
        "def load_quantized_model(model_id: str = BASE_MODEL_NAME,device_map:Dict[str,int]={\"\": 0})->MistralForCausalLM:\n",
        "\n",
        "    bnb_config = BitsAndBytesConfig(\n",
        "        load_in_4bit=True,\n",
        "        bnb_4bit_use_double_quant=True,\n",
        "        bnb_4bit_quant_type=\"nf4\",\n",
        "        bnb_4bit_compute_dtype=torch.bfloat16,\n",
        "    )\n",
        "\n",
        "    model = AutoModelForCausalLM.from_pretrained(\n",
        "        model_id, quantization_config=bnb_config, device_map=device_map\n",
        "    )\n",
        "    return model"
      ],
      "metadata": {
        "id": "1ifTCuWWYe9m",
        "colab": {
          "base_uri": "https://localhost:8080/",
          "height": 17
        },
        "outputId": "7ddf34fd-e1e4-469a-d7e4-a7222146430a"
      },
      "execution_count": null,
      "outputs": [
        {
          "output_type": "display_data",
          "data": {
            "text/plain": [
              "<IPython.core.display.HTML object>"
            ],
            "text/html": [
              "\n",
              "  <style>\n",
              "    pre {\n",
              "        white-space: pre-wrap;\n",
              "    }\n",
              "  </style>\n",
              "  "
            ]
          },
          "metadata": {}
        }
      ]
    },
    {
      "cell_type": "code",
      "source": [
        "model=load_quantized_model()"
      ],
      "metadata": {
        "id": "fZAOvk6CYuF3",
        "colab": {
          "base_uri": "https://localhost:8080/",
          "height": 273,
          "referenced_widgets": [
            "432ee2c8d42040ddb30c92b1152bc35f",
            "80fde84e016a40fcb52c03bd8e58552c",
            "397387035e0b43969606ce77d3496f7b",
            "aedb433878804767961d82f1e004499b",
            "3673aa36c3a244faa83ef328f893ec72",
            "6cd2cf754d6c493d834f9df0f73de822",
            "16acaa1e51c14090bf96fe3c7cf42a15",
            "a7280e9bd4cb4a57ac9e6d6984f56fc3",
            "9d898933f0604b58a2d7209982871153",
            "aecc5cdefc734c44a5ea33d509211c18",
            "277daf70a6f1499b8a45331270e617f9",
            "14d21e155e7945568bbd44babb8f14f5",
            "cba25daa96ac4af5896e98f2dd8cc60a",
            "2eab0723937241b5ac652345d6fc4ec1",
            "8bc3417a12d2426fab86b17205995d99",
            "37f70ed11e6b4d439b22588f9608f86f",
            "f4e102f9381447209c993c565dad46f3",
            "3af756c40da94323b4e167e372d26e77",
            "013351bce9014ff08d09a5ba04d3210c",
            "f4d0334955c64c3e86b454920e700d01",
            "f65a77fc46d44abeabf9cc7b8767ddfa",
            "f7fe964fc921407a96ad4d9db184151c",
            "a61815dd9a4e411293111c5dbb274787",
            "f7613344ffe4465fb838db2f99da4d0f",
            "d4fbbd877df743d9a822c43ec758ef42",
            "6dcf7bd75d99421e906ee718715119c6",
            "554b47bd0d304bc8b10512ffdb7dd730",
            "2bbf5fe7add9401989509b751f2d4fdf",
            "54fb7b673eff4268892cb4286c2bd17e",
            "6b8fd23e09cc4d30a27ff276b99e691d",
            "2e9433b5972143378126117513bfcfc3",
            "a3865af3165a4418b77ec47741a4402d",
            "b129ca4495e946cb8029b2180154a487",
            "de48126aeeac4795b6dec7069b949117",
            "d29e35e58bb54a6fa63fa53deb61eb44",
            "dbf5b3a2a69342b399cb3210fd72a2fe",
            "1c9d63c4ed474b0780130d17fcf0f1dd",
            "8d9423a2b887496aa7a5c324949c2bd7",
            "42c6913389594ae2b63197162a5ddd65",
            "630285b670c84f25958889d9caf0b43f",
            "37c6ae238eb94eda893350b337d0e993",
            "96fe7b98104f4cbaaea3e095f4a1cd36",
            "83cb65e0ae4145fbad0fd38417af001a",
            "3e1293fc5a5a4bcab498aadeee0edd05",
            "c1022052a7994bc9906eddc3fcbab6a8",
            "9300abd92e2f4bc591488babbd180495",
            "7cd6cb8e2b1445fb8ddaff2e04e3033b",
            "3c132dc67c1543dcb0c09fc2759d0959",
            "a8c65d3f11454a62af0acb8bddfcb9ab",
            "0328f090ba764742b304edd1cdef0623",
            "1ff63d60f5094b8ca92480a3f564aec3",
            "8d0d33de8294458e8be7f9d4afc7a651",
            "b6e0da5eeaba4570947be25ffa28796d",
            "3d660928c823442b8ca0c8ead60817dd",
            "2f01b323960348c88a820b71e4ef42dd",
            "0e64f5b7a26043409352f8e358d4545e",
            "61b09cad77d04d29ae18fa25c0319c61",
            "029d04181e7f4c6d81886102bbde902d",
            "5d0a7a3437804b6a84a161f1f121c7ba",
            "760010f660a44785ae97450519788fe7",
            "4effb2c86ccb4df984e5967cb08ffcb3",
            "4806744570ea488bb0e36ff634d265bd",
            "4060b483437f4b5987a7494d5744b4db",
            "8820e7c81ecb4961925fb3bec8b37a17",
            "1aae2ea39c4c4f108db8fcccc970fe7c",
            "fc8a359bab694dfa8a2b4f8c697ea8ec",
            "5f5a42fb318c467daca12312028ee472",
            "61e3f792082c4a05b139b632d6464fd9",
            "8bd2a0fce31b4689962ab8c26b102338",
            "1a2460d1266a4e31a7d7659d73745f97",
            "15fe595893ac4cfeb37cd5bd96c52718",
            "d4c9a9e6120e4b9d990cdc81a90f8b8a",
            "2e8517cc68ba43e9811145b5e8756123",
            "4a090c21546e44c6996a50a7d0209a68",
            "56c02aa20cc143608db7f13602a7e28e",
            "5a6763f0652f4d7ab14d81f99a9f9dd1",
            "e5b248513be74f2bbae41fbb33ea86b8",
            "34475b4c084d4b61afb7a91dce429f14",
            "e2ea6bb43a924ee6a30966ec839c2f51",
            "c71d2d95e3884995b8bdb5c71ff47545",
            "a6171592a2ac446f876826c6502e4a68",
            "0daa1b8d43e949f6ba4ede86530cc162",
            "b7bfbb15cd0343639e43b1e403592e38",
            "f66562ad84d9490c95d682b5edc5775c",
            "83a9a1e53c604ac8a2d01d32dc138a7d",
            "187a7e699a834f588b4ed46be2d35077",
            "ff1beeac59884b5d828d89168e7ec0de",
            "203b9c94b5f744408853ea64ca038f01"
          ]
        },
        "outputId": "d15abb79-07e8-4d30-c0cb-e92aba84d88d"
      },
      "execution_count": null,
      "outputs": [
        {
          "output_type": "display_data",
          "data": {
            "text/plain": [
              "<IPython.core.display.HTML object>"
            ],
            "text/html": [
              "\n",
              "  <style>\n",
              "    pre {\n",
              "        white-space: pre-wrap;\n",
              "    }\n",
              "  </style>\n",
              "  "
            ]
          },
          "metadata": {}
        },
        {
          "output_type": "display_data",
          "data": {
            "text/plain": [
              "config.json:   0%|          | 0.00/596 [00:00<?, ?B/s]"
            ],
            "application/vnd.jupyter.widget-view+json": {
              "version_major": 2,
              "version_minor": 0,
              "model_id": "432ee2c8d42040ddb30c92b1152bc35f"
            }
          },
          "metadata": {}
        },
        {
          "output_type": "display_data",
          "data": {
            "text/plain": [
              "model.safetensors.index.json:   0%|          | 0.00/25.1k [00:00<?, ?B/s]"
            ],
            "application/vnd.jupyter.widget-view+json": {
              "version_major": 2,
              "version_minor": 0,
              "model_id": "14d21e155e7945568bbd44babb8f14f5"
            }
          },
          "metadata": {}
        },
        {
          "output_type": "display_data",
          "data": {
            "text/plain": [
              "Downloading shards:   0%|          | 0/3 [00:00<?, ?it/s]"
            ],
            "application/vnd.jupyter.widget-view+json": {
              "version_major": 2,
              "version_minor": 0,
              "model_id": "a61815dd9a4e411293111c5dbb274787"
            }
          },
          "metadata": {}
        },
        {
          "output_type": "display_data",
          "data": {
            "text/plain": [
              "model-00001-of-00003.safetensors:   0%|          | 0.00/4.94G [00:00<?, ?B/s]"
            ],
            "application/vnd.jupyter.widget-view+json": {
              "version_major": 2,
              "version_minor": 0,
              "model_id": "de48126aeeac4795b6dec7069b949117"
            }
          },
          "metadata": {}
        },
        {
          "output_type": "display_data",
          "data": {
            "text/plain": [
              "model-00002-of-00003.safetensors:   0%|          | 0.00/5.00G [00:00<?, ?B/s]"
            ],
            "application/vnd.jupyter.widget-view+json": {
              "version_major": 2,
              "version_minor": 0,
              "model_id": "c1022052a7994bc9906eddc3fcbab6a8"
            }
          },
          "metadata": {}
        },
        {
          "output_type": "display_data",
          "data": {
            "text/plain": [
              "model-00003-of-00003.safetensors:   0%|          | 0.00/4.54G [00:00<?, ?B/s]"
            ],
            "application/vnd.jupyter.widget-view+json": {
              "version_major": 2,
              "version_minor": 0,
              "model_id": "0e64f5b7a26043409352f8e358d4545e"
            }
          },
          "metadata": {}
        },
        {
          "output_type": "display_data",
          "data": {
            "text/plain": [
              "Loading checkpoint shards:   0%|          | 0/3 [00:00<?, ?it/s]"
            ],
            "application/vnd.jupyter.widget-view+json": {
              "version_major": 2,
              "version_minor": 0,
              "model_id": "5f5a42fb318c467daca12312028ee472"
            }
          },
          "metadata": {}
        },
        {
          "output_type": "display_data",
          "data": {
            "text/plain": [
              "generation_config.json:   0%|          | 0.00/111 [00:00<?, ?B/s]"
            ],
            "application/vnd.jupyter.widget-view+json": {
              "version_major": 2,
              "version_minor": 0,
              "model_id": "34475b4c084d4b61afb7a91dce429f14"
            }
          },
          "metadata": {}
        }
      ]
    },
    {
      "cell_type": "code",
      "source": [
        "# Resize token embeddings\n",
        "model.resize_token_embeddings(len(tokenizer))\n",
        "\n",
        "# Update pad token id in model and its config\n",
        "model.pad_token_id = tokenizer.pad_token_id\n",
        "model.config.pad_token_id = tokenizer.pad_token_id\n",
        "\n",
        "# Check if they are equal\n",
        "assert model.pad_token_id == tokenizer.pad_token_id, \"The model's pad token ID does not match the tokenizer's pad token ID\""
      ],
      "metadata": {
        "id": "_wXOUZS1YyS5",
        "colab": {
          "base_uri": "https://localhost:8080/",
          "height": 17
        },
        "outputId": "dce98bc5-565f-41a9-829e-5f94be341a73"
      },
      "execution_count": null,
      "outputs": [
        {
          "output_type": "display_data",
          "data": {
            "text/plain": [
              "<IPython.core.display.HTML object>"
            ],
            "text/html": [
              "\n",
              "  <style>\n",
              "    pre {\n",
              "        white-space: pre-wrap;\n",
              "    }\n",
              "  </style>\n",
              "  "
            ]
          },
          "metadata": {}
        }
      ]
    },
    {
      "cell_type": "code",
      "source": [
        "model.pad_token_id=tokenizer.pad_token_id\n",
        "model.config.pad_token_id=tokenizer.pad_token_id\n",
        "\n",
        "model.config.use_cache = True"
      ],
      "metadata": {
        "id": "UBrytvVidw8m",
        "colab": {
          "base_uri": "https://localhost:8080/",
          "height": 17
        },
        "outputId": "3c193b1e-6b1c-48eb-cc57-ae2c2bce9454"
      },
      "execution_count": null,
      "outputs": [
        {
          "output_type": "display_data",
          "data": {
            "text/plain": [
              "<IPython.core.display.HTML object>"
            ],
            "text/html": [
              "\n",
              "  <style>\n",
              "    pre {\n",
              "        white-space: pre-wrap;\n",
              "    }\n",
              "  </style>\n",
              "  "
            ]
          },
          "metadata": {}
        }
      ]
    },
    {
      "cell_type": "code",
      "source": [
        "stop_keywords = [\"</s>\",\" </s>\", \"</s> \"]"
      ],
      "metadata": {
        "id": "nF6IeHhkY2_f",
        "colab": {
          "base_uri": "https://localhost:8080/",
          "height": 17
        },
        "outputId": "02426642-a29c-47dc-df7d-55277d3a117c"
      },
      "execution_count": null,
      "outputs": [
        {
          "output_type": "display_data",
          "data": {
            "text/plain": [
              "<IPython.core.display.HTML object>"
            ],
            "text/html": [
              "\n",
              "  <style>\n",
              "    pre {\n",
              "        white-space: pre-wrap;\n",
              "    }\n",
              "  </style>\n",
              "  "
            ]
          },
          "metadata": {}
        }
      ]
    },
    {
      "cell_type": "code",
      "source": [
        "test_data_0=test_data_blueprint[0]"
      ],
      "metadata": {
        "id": "IpUc3-UUs-6n",
        "colab": {
          "base_uri": "https://localhost:8080/",
          "height": 17
        },
        "outputId": "c7847e79-9f09-4582-d218-4e0b3eddaee3"
      },
      "execution_count": null,
      "outputs": [
        {
          "output_type": "display_data",
          "data": {
            "text/plain": [
              "<IPython.core.display.HTML object>"
            ],
            "text/html": [
              "\n",
              "  <style>\n",
              "    pre {\n",
              "        white-space: pre-wrap;\n",
              "    }\n",
              "  </style>\n",
              "  "
            ]
          },
          "metadata": {}
        }
      ]
    },
    {
      "cell_type": "code",
      "source": [
        "print(test_data_0[\"Blueprint\"])"
      ],
      "metadata": {
        "id": "b3GknjXmwzj9",
        "colab": {
          "base_uri": "https://localhost:8080/",
          "height": 85
        },
        "outputId": "a5064ca3-4df1-4ea7-abb3-f360c5a84636"
      },
      "execution_count": null,
      "outputs": [
        {
          "output_type": "display_data",
          "data": {
            "text/plain": [
              "<IPython.core.display.HTML object>"
            ],
            "text/html": [
              "\n",
              "  <style>\n",
              "    pre {\n",
              "        white-space: pre-wrap;\n",
              "    }\n",
              "  </style>\n",
              "  "
            ]
          },
          "metadata": {}
        },
        {
          "output_type": "stream",
          "name": "stdout",
          "text": [
            "{'Translate article': {'next_modes': ['Create infographic'], 'failure': ['Retry', 'Switch to Different Mode', 'Request Human Intervention', 'Log and Analyze']}, 'Create infographic': {'next_modes': ['Analyzer'], 'failure': ['Retry', 'Fallback Content', 'Quality Assurance Check', 'Partial Content Delivery']}, 'Analyzer': {'next_modes': [], 'failure': None}}\n"
          ]
        }
      ]
    },
    {
      "cell_type": "code",
      "source": [
        "print(test_data_0[\"Detailed\"])"
      ],
      "metadata": {
        "id": "ivxZ5ZNow0CZ",
        "colab": {
          "base_uri": "https://localhost:8080/",
          "height": 221
        },
        "outputId": "9e1969bc-46e7-49ca-a72e-ecf1d47bfd2b"
      },
      "execution_count": null,
      "outputs": [
        {
          "output_type": "display_data",
          "data": {
            "text/plain": [
              "<IPython.core.display.HTML object>"
            ],
            "text/html": [
              "\n",
              "  <style>\n",
              "    pre {\n",
              "        white-space: pre-wrap;\n",
              "    }\n",
              "  </style>\n",
              "  "
            ]
          },
          "metadata": {}
        },
        {
          "output_type": "stream",
          "name": "stdout",
          "text": [
            "{'Carefully convert the article into the target language, ensuring technical terms are accurately translated': {'next_modes': [\"Design an infographic that visually represents the article's key points, using relevant data and quotations for emphasis\"], 'failure': ['Employ a more experienced translator for a second opinion', 'Opt for a simpler version of the article if translation complexities arise', 'Request feedback from a native speaker in the scientific community', 'Record and review translation challenges for future reference']}, \"Design an infographic that visually represents the article's key points, using relevant data and quotations for emphasis, and ensuring the design is accessible and engaging\": {'next_modes': [\"Critically review the infographic for accuracy, visual impact, and alignment with the translated article's messaging\"], 'failure': ['Redesign the infographic with feedback from peers', 'Utilize pre-designed templates if design quality is lacking', 'Verify all data points and quotes for accuracy with the translated text', 'Deliver a simplified version if completion is jeopardized']}, \"Critically review the infographic for accuracy, visual impact, and alignment with the translated article's messaging\": {'next_modes': [], 'failure': None}}\n"
          ]
        }
      ]
    },
    {
      "cell_type": "code",
      "source": [
        "pred_prompt_blueprint=format_prediction_blueprint_instruct_fn(test_data_0)\n",
        "print(pred_prompt_blueprint)"
      ],
      "metadata": {
        "id": "xKEl6zEmeqMG",
        "colab": {
          "base_uri": "https://localhost:8080/",
          "height": 119
        },
        "outputId": "2fa7a611-cf19-4375-ca97-96d531b6e80c"
      },
      "execution_count": null,
      "outputs": [
        {
          "output_type": "display_data",
          "data": {
            "text/plain": [
              "<IPython.core.display.HTML object>"
            ],
            "text/html": [
              "\n",
              "  <style>\n",
              "    pre {\n",
              "        white-space: pre-wrap;\n",
              "    }\n",
              "  </style>\n",
              "  "
            ]
          },
          "metadata": {}
        },
        {
          "output_type": "stream",
          "name": "stdout",
          "text": [
            "[INST]Below is an instruction that describes a composite task. Provide the structured blueprint planning for the following task. Your response should be in the form of a dictionary with transitions (one-to-one or one-to-many depending on the task) between different subtasks and appropriate failure handling options. Translate a popular science article into another language and then create an infographic that summarizes it.[/INST]\n",
            "\n",
            "### Response:\n"
          ]
        }
      ]
    },
    {
      "cell_type": "code",
      "source": [
        "test_data_90 = test_data_blueprint[90]\n",
        "pred_prompt_blueprint_b=format_prediction_blueprint_instruct_fn(test_data_90)\n",
        "print(pred_prompt_blueprint_b)"
      ],
      "metadata": {
        "colab": {
          "base_uri": "https://localhost:8080/",
          "height": 119
        },
        "id": "FIHuy91fq2kY",
        "outputId": "968bd342-3595-4253-fc5a-431a55306497"
      },
      "execution_count": null,
      "outputs": [
        {
          "output_type": "display_data",
          "data": {
            "text/plain": [
              "<IPython.core.display.HTML object>"
            ],
            "text/html": [
              "\n",
              "  <style>\n",
              "    pre {\n",
              "        white-space: pre-wrap;\n",
              "    }\n",
              "  </style>\n",
              "  "
            ]
          },
          "metadata": {}
        },
        {
          "output_type": "stream",
          "name": "stdout",
          "text": [
            "[INST]Below is an instruction that describes a composite task. Provide the structured blueprint planning for the following task. Your response should be in the form of a dictionary with transitions (one-to-one or one-to-many depending on the task) between different subtasks and appropriate failure handling options. Write and illustrate a children's book, then create an audiobook version.[/INST]\n",
            "\n",
            "### Response:\n"
          ]
        }
      ]
    },
    {
      "cell_type": "code",
      "source": [
        "pred_prompt_detail=format_prediction_detail_instruct_fn(test_data_0)\n",
        "print(pred_prompt_detail)"
      ],
      "metadata": {
        "id": "h2shz-cYethk",
        "colab": {
          "base_uri": "https://localhost:8080/",
          "height": 119
        },
        "outputId": "7aeba968-2c2f-4f05-c05a-a3782bc5cc21"
      },
      "execution_count": null,
      "outputs": [
        {
          "output_type": "display_data",
          "data": {
            "text/plain": [
              "<IPython.core.display.HTML object>"
            ],
            "text/html": [
              "\n",
              "  <style>\n",
              "    pre {\n",
              "        white-space: pre-wrap;\n",
              "    }\n",
              "  </style>\n",
              "  "
            ]
          },
          "metadata": {}
        },
        {
          "output_type": "stream",
          "name": "stdout",
          "text": [
            "[INST]Below is an instruction that describes a composite task. Provide the structured detailed planning for the following task. Your response should be in the form of a dictionary with transitions (one-to-one or one-to-many depending on the task) between different subtasks and appropriate failure handling options. Translate a popular science article into another language and then create an infographic that summarizes it.[/INST]\n",
            "\n",
            "### Response:\n"
          ]
        }
      ]
    },
    {
      "cell_type": "code",
      "source": [
        "pred_prompt_detail_b=format_prediction_detail_instruct_fn(test_data_90)\n",
        "print(pred_prompt_detail_b)"
      ],
      "metadata": {
        "colab": {
          "base_uri": "https://localhost:8080/",
          "height": 119
        },
        "id": "BJMf4_RqsyeK",
        "outputId": "a7d565a6-7e1b-46c8-ba3f-4e701aa1b724"
      },
      "execution_count": null,
      "outputs": [
        {
          "output_type": "display_data",
          "data": {
            "text/plain": [
              "<IPython.core.display.HTML object>"
            ],
            "text/html": [
              "\n",
              "  <style>\n",
              "    pre {\n",
              "        white-space: pre-wrap;\n",
              "    }\n",
              "  </style>\n",
              "  "
            ]
          },
          "metadata": {}
        },
        {
          "output_type": "stream",
          "name": "stdout",
          "text": [
            "[INST]Below is an instruction that describes a composite task. Provide the structured detailed planning for the following task. Your response should be in the form of a dictionary with transitions (one-to-one or one-to-many depending on the task) between different subtasks and appropriate failure handling options. Write and illustrate a children's book, then create an audiobook version.[/INST]\n",
            "\n",
            "### Response:\n"
          ]
        }
      ]
    },
    {
      "cell_type": "code",
      "source": [
        "additional_info=\"\"\"Use the following structure as your response:\n",
        "{'subtask-i': {'next_modes': ['...,subtask-j,...,subtask-n'],\n",
        "'failure': [a list of strings including different failure handling options]},...,\n",
        "'subtask-n': {'next_modes': ['Analyzer'], 'failure': [a list of strings including different failure handling options]},\n",
        "'Analyzer': {'next_modes': [], 'failure': None}}. \"\"\""
      ],
      "metadata": {
        "colab": {
          "base_uri": "https://localhost:8080/",
          "height": 17
        },
        "id": "4NEP_KaghZJd",
        "outputId": "820b328e-2cb0-44bc-b65d-a61ba6d26141"
      },
      "execution_count": null,
      "outputs": [
        {
          "output_type": "display_data",
          "data": {
            "text/plain": [
              "<IPython.core.display.HTML object>"
            ],
            "text/html": [
              "\n",
              "  <style>\n",
              "    pre {\n",
              "        white-space: pre-wrap;\n",
              "    }\n",
              "  </style>\n",
              "  "
            ]
          },
          "metadata": {}
        }
      ]
    },
    {
      "cell_type": "code",
      "source": [
        "additional_info_blueprint=additional_info+\"\"\"Use ONLY SHORT PHRASES for each subtask and corresponding failure options. Make 'Analyzer' as the final subtask with corresponding failure options as empty list.\"\"\""
      ],
      "metadata": {
        "colab": {
          "base_uri": "https://localhost:8080/",
          "height": 17
        },
        "id": "SqKcVZfhhLvX",
        "outputId": "a8f19059-d0a9-4004-9024-b3840856f0bb"
      },
      "execution_count": null,
      "outputs": [
        {
          "output_type": "display_data",
          "data": {
            "text/plain": [
              "<IPython.core.display.HTML object>"
            ],
            "text/html": [
              "\n",
              "  <style>\n",
              "    pre {\n",
              "        white-space: pre-wrap;\n",
              "    }\n",
              "  </style>\n",
              "  "
            ]
          },
          "metadata": {}
        }
      ]
    },
    {
      "cell_type": "code",
      "source": [
        "additional_info_blueprint"
      ],
      "metadata": {
        "id": "XbWRANrpy0B5",
        "outputId": "fbb65024-1d5f-4518-e475-eec9bd33c487",
        "colab": {
          "base_uri": "https://localhost:8080/",
          "height": 103
        }
      },
      "execution_count": null,
      "outputs": [
        {
          "output_type": "display_data",
          "data": {
            "text/plain": [
              "<IPython.core.display.HTML object>"
            ],
            "text/html": [
              "\n",
              "  <style>\n",
              "    pre {\n",
              "        white-space: pre-wrap;\n",
              "    }\n",
              "  </style>\n",
              "  "
            ]
          },
          "metadata": {}
        },
        {
          "output_type": "execute_result",
          "data": {
            "text/plain": [
              "\"Use the following structure as your response:\\n{'subtask-i': {'next_modes': ['...,subtask-j,...,subtask-n'],\\n'failure': [a list of strings including different failure handling options]},...,\\n'subtask-n': {'next_modes': ['Analyzer'], 'failure': [a list of strings including different failure handling options]},\\n'Analyzer': {'next_modes': [], 'failure': None}}. Use ONLY SHORT PHRASES for each subtask and corresponding failure options. Make 'Analyzer' as the final subtask with corresponding failure options as empty list.\""
            ],
            "application/vnd.google.colaboratory.intrinsic+json": {
              "type": "string"
            }
          },
          "metadata": {},
          "execution_count": 109
        }
      ]
    },
    {
      "cell_type": "code",
      "source": [
        "additional_info_detail=\"\"\"Use the following structure as your response:\n",
        "{'detailed description of subtask-i': {'next_modes': ['..., detailed description of subtask-j,...,detailed description of subtask-n'],\n",
        "'detailed description of failure': [a list of strings including different failure handling options with detailed description]},...,\n",
        "'detailed description of subtask-n': {'next_modes': ['detailed description of Analyzer'], 'failure': [a list of strings including different failure handling options with detailed description]},\n",
        "'detailed description of Analyzer': {'next_modes': [], 'failure': None}}. \"\"\""
      ],
      "metadata": {
        "colab": {
          "base_uri": "https://localhost:8080/",
          "height": 17
        },
        "id": "FeWwIAirhbz-",
        "outputId": "bb8034a0-8533-4ada-e64f-090397140cef"
      },
      "execution_count": null,
      "outputs": [
        {
          "output_type": "display_data",
          "data": {
            "text/plain": [
              "<IPython.core.display.HTML object>"
            ],
            "text/html": [
              "\n",
              "  <style>\n",
              "    pre {\n",
              "        white-space: pre-wrap;\n",
              "    }\n",
              "  </style>\n",
              "  "
            ]
          },
          "metadata": {}
        }
      ]
    },
    {
      "cell_type": "code",
      "source": [
        "# with model.disable_adapter(): Use this if you intend to disable adapters (i.e., after merging the adapters with the base model)\n",
        "output_base_blueprint=get_completion(pred_prompt_blueprint, model, tokenizer, stop_keywords, KeywordsStoppingCriteria)\n",
        "print(output_base_blueprint)"
      ],
      "metadata": {
        "id": "qOz9st3efCPF",
        "colab": {
          "base_uri": "https://localhost:8080/",
          "height": 1000
        },
        "outputId": "16e8f720-acae-4ab2-86dd-bf6625edab53"
      },
      "execution_count": null,
      "outputs": [
        {
          "output_type": "display_data",
          "data": {
            "text/plain": [
              "<IPython.core.display.HTML object>"
            ],
            "text/html": [
              "\n",
              "  <style>\n",
              "    pre {\n",
              "        white-space: pre-wrap;\n",
              "    }\n",
              "  </style>\n",
              "  "
            ]
          },
          "metadata": {}
        },
        {
          "output_type": "stream",
          "name": "stderr",
          "text": [
            "The attention mask and the pad token id were not set. As a consequence, you may observe unexpected behavior. Please pass your input's `attention_mask` to obtain reliable results.\n",
            "Setting `pad_token_id` to `eos_token_id`:2 for open-end generation.\n",
            "MistralModel is using MistralSdpaAttention, but `torch.nn.functional.scaled_dot_product_attention` does not support `output_attentions=True`. Falling back to the manual attention implementation, but specifying the manual implementation will be required from Transformers version v5.0.0 onwards. This warning can be removed using the argument `attn_implementation=\"eager\"` when loading the model.\n"
          ]
        },
        {
          "output_type": "stream",
          "name": "stdout",
          "text": [
            "[<pad>][<pad>][<pad>][<pad>][<pad>][<pad>][<pad>][<pad>][<pad>][<pad>][<pad>][<pad>][<pad>][<pad>][<pad>][<pad>][<pad>][<pad>][<pad>][<pad>][<pad>][<pad>][<pad>][<pad>][<pad>][<pad>][<pad>][<pad>][<pad>][<pad>][<pad>][<pad>][<pad>][<pad>][<pad>][<pad>][<pad>][<pad>][<pad>][<pad>][<pad>][<pad>][<pad>][<pad>][<pad>][<pad>][<pad>][<pad>][<pad>][<pad>][<pad>][<pad>][<pad>][<pad>][<pad>][<pad>][<pad>][<pad>][<pad>][<pad>][<pad>][<pad>][<pad>][<pad>][<pad>][<pad>][<pad>][<pad>][<pad>][<pad>][<pad>][<pad>][<pad>][<pad>][<pad>][<pad>][<pad>][<pad>][<pad>][<pad>][<pad>][<pad>][<pad>][<pad>][<pad>][<pad>][<pad>][<pad>][<pad>][<pad>][<pad>][<pad>][<pad>][<pad>][<pad>][<pad>][<pad>][<pad>][<pad>][<pad>][<pad>][<pad>][<pad>][<pad>][<pad>][<pad>][<pad>][<pad>][<pad>][<pad>][<pad>][<pad>][<pad>][<pad>][<pad>][<pad>][<pad>][<pad>][<pad>][<pad>][<pad>][<pad>][<pad>][<pad>][<pad>][<pad>][<pad>]Four tasks and Transitions for Translating the Given Instructions for Translating the Popular Science Article Translation Task:\n",
            "\n",
            "#### article_selection:\n",
            "1. Obtain the original article\n",
            "2. Identify the language and topic of the article\n",
            "\n",
            "#### article_translation:\n",
            "1. Translate the article text\n",
            "2. Transcribe the key points and main ideas of the article\n",
            "\n",
            "#### language_translation:\n",
            "1. Translate the article into the target language\n",
            "2. Transcribe the meaning and message of the article[<pad>][<pad>][<pad>][<pad>][<pad>]Four Subtasks and Transitions for Creating the Infographic:\n",
            "\n",
            "#### infographic_creation:\n",
            "1. Create the infographic design\n",
            "2. Create the infographic data visualization\n",
            "3. Create the infographic layout and composition\n",
            "\n",
            "### article_selection:\n",
            "1. Obtain the article\n",
            "2. Identify the language and topic of the article\n",
            "\n",
            "#### translation_process:\n",
            "1. Translate the article text\n",
            "2. Transcribe the key points and main ideas\n",
            "3. Transcribe the meaning and message\n",
            "\n",
            "#### infographic_creation:\n",
            "1. Design the infographic\n",
            "2. Data_visualize the infographic design\n",
            "3. Layout_and_composition the infographic\n",
            "\n",
            "### Translation_process:\n",
            "1. Translate the article text\n",
            "2. Transcribe the key points and main ideas\n",
            "3. Transcribe the meaning and message\n",
            "\n",
            "#### failure_handling:\n",
            "1. Handle the failure\n",
            "2. Identify the root cause\n",
            "3. Implement_corrective_measures handle the failure\n",
            "\n",
            "#### infographic_creation_failure:\n",
            "1. Address_failure the infographic creation\n",
            "2. Analyze_the_design failure\n",
            "3. Adjust_the\n"
          ]
        }
      ]
    },
    {
      "cell_type": "code",
      "source": [
        "output_base_blueprint_with=get_completion(pred_prompt_blueprint+additional_info_blueprint, model, tokenizer, stop_keywords, KeywordsStoppingCriteria)\n",
        "print(output_base_blueprint_with)"
      ],
      "metadata": {
        "colab": {
          "base_uri": "https://localhost:8080/",
          "height": 697
        },
        "id": "f9Lfy6fhid7G",
        "outputId": "dd3825b5-8af0-4180-874f-1e06c5d1b0bb"
      },
      "execution_count": null,
      "outputs": [
        {
          "output_type": "display_data",
          "data": {
            "text/plain": [
              "<IPython.core.display.HTML object>"
            ],
            "text/html": [
              "\n",
              "  <style>\n",
              "    pre {\n",
              "        white-space: pre-wrap;\n",
              "    }\n",
              "  </style>\n",
              "  "
            ]
          },
          "metadata": {}
        },
        {
          "output_type": "stream",
          "name": "stderr",
          "text": [
            "The attention mask and the pad token id were not set. As a consequence, you may observe unexpected behavior. Please pass your input's `attention_mask` to obtain reliable results.\n",
            "Setting `pad_token_id` to `eos_token_id`:2 for open-end generation.\n"
          ]
        },
        {
          "output_type": "stream",
          "name": "stdout",
          "text": [
            "[<pad>][<pad>][<pad>] Translation:\n",
            "{'Translation:\n",
            "{'article_source': 'English',\n",
            "'target_language': 'Spanish',\n",
            "'article_text': '',\n",
            "'next_modes': ['Infographic_Creation'],\n",
            "'failure': ['Unable to find article text', 'Unable to access internet for translation']},\n",
            "Infographic_Creation:\n",
            "{'article_text': '',\n",
            "'next_modes': ['Design_Infographic', 'Failure_Handler'],\n",
            "'failure': ['Unable to understand article text', 'Unable to access design tools']},\n",
            "Design_Infographic:\n",
            "{'article_text': '',\n",
            "'next_modes': ['Finalize_Infographic'],\n",
            "'failure': ['Unable to design infographic']},\n",
            "Finalize_Infographic:\n",
            "{'infographic': '',\n",
            "'next_modes': ['Analyzer'],\n",
            "'failure': ['Unable to save infographic']},\n",
            "Analyzer:\n",
            "{'infographic': '',\n",
            "'next_modes': [],\n",
            "'failure': None}}\n",
            "\n",
            "This blueprint describes a composite task where a popular science article is translated into another language and then an infographic is created summarizing it. The 'Translation' subtask is responsible for fetching the article text, translating it into the target language, and preparing it for the next subtask. The 'Infographic_Creation' subtask takes the translated article text and creates an infographic. The 'Design_Infographic' subtask designs the infographic, and the 'Finalize_Infographic' subtask finalizes it. The 'Analyzer' subtask is the final subtask with no next modes, and it is responsible for checking the final output of the entire task.\n",
            "\n",
            "The failure handling options are included for each subtask, and they cover various scenarios that might prevent the successful completion of the subtask. For example, the 'Translation' subtask might fail to find the article text or might not be able to access the internet for translation. Similarly, the 'Infographic_Creation' subtask might fail to understand the article text or might not be able to access design tools. The 'Analyzer' subtask has no failure handling options as it is the final subtask and should not encounter any errors.</s>\n"
          ]
        }
      ]
    },
    {
      "cell_type": "code",
      "source": [
        "with model.disable_adapter():\n",
        "  output_base_blueprint_with_b=get_completion(pred_prompt_blueprint_b+additional_info_blueprint, model, tokenizer, stop_keywords, KeywordsStoppingCriteria)\n",
        "  print(output_base_blueprint_with_b)"
      ],
      "metadata": {
        "colab": {
          "base_uri": "https://localhost:8080/",
          "height": 510
        },
        "id": "y2CulrATtMMh",
        "outputId": "6ba24f90-3aac-452a-e1cd-2aa7edb002da"
      },
      "execution_count": null,
      "outputs": [
        {
          "output_type": "display_data",
          "data": {
            "text/plain": [
              "<IPython.core.display.HTML object>"
            ],
            "text/html": [
              "\n",
              "  <style>\n",
              "    pre {\n",
              "        white-space: pre-wrap;\n",
              "    }\n",
              "  </style>\n",
              "  "
            ]
          },
          "metadata": {}
        },
        {
          "output_type": "stream",
          "name": "stderr",
          "text": [
            "The attention mask and the pad token id were not set. As a consequence, you may observe unexpected behavior. Please pass your input's `attention_mask` to obtain reliable results.\n",
            "Setting `pad_token_id` to `eos_token_id`:2 for open-end generation.\n"
          ]
        },
        {
          "output_type": "stream",
          "name": "stdout",
          "text": [
            "```python\n",
            "{'Write_story': {'next_modes': ['Illustrate_story'], 'failure': ['Story_unclear']},\n",
            " 'Illustrate_story': {'next_modes': ['Record_voice'], 'failure': ['Illustrations_incomplete']},\n",
            " 'Record_voice': {'next_modes': ['Edit_voice'], 'failure': ['Recording_unclear']},\n",
            " 'Edit_voice': {'next_modes': ['Create_audiobook'], 'failure': ['Editing_unsatisfactory']},\n",
            " 'Create_audiobook': {'next_modes': ['Analyzer'], 'failure': ['Audiobook_creation_[<pad>]Failed']},\n",
            " 'Analyzer': {'next_modes': [], 'failure': []}}\n",
            "```\n",
            "\n",
            "### Explanation:\n",
            "\n",
            "1. Write_story: Write the story for the children's book.\n",
            "2. Illustrate_story: Illustrate the story with appropriate pictures.\n",
            "3. Record_voice: Record the voice for the audiobook version.\n",
            "4. Edit_voice: Edit the recorded voice for clarity and quality.\n",
            "5. Create_audiobook: Create the final audiobook version.\n",
            "6. Analyzer: Analyze the completion of the entire project.\n",
            "\n",
            "Failure handling options:\n",
            "- Story_unclear: If the story is unclear, go back to Write_story and revise it.\n",
            "- Illustrations_incomplete: If illustrations are incomplete, go back to Illustrate_story and add missing elements.\n",
            "- Recording_unclear: If the recording is unclear, go back to Record_voice and re-record.\n",
            "- Editing_unsatisfactory: If editing is unsatisfactory, go back to Edit_voice and re-edit.\n",
            "- Audiobook_creation_Failed: If creating the audiobook fails, consider seeking professional help or re-evaluating the project.</s>\n"
          ]
        }
      ]
    },
    {
      "cell_type": "code",
      "source": [
        "# with model.disable_adapter():\n",
        "output_base_detail=get_completion(pred_prompt_detail, model, tokenizer, stop_keywords, KeywordsStoppingCriteria)\n",
        "print(output_base_detail)"
      ],
      "metadata": {
        "id": "MeYON_PwfISC",
        "colab": {
          "base_uri": "https://localhost:8080/",
          "height": 952
        },
        "outputId": "1c288d04-8b03-4a40-9f5e-052174e6033c"
      },
      "execution_count": null,
      "outputs": [
        {
          "output_type": "display_data",
          "data": {
            "text/plain": [
              "<IPython.core.display.HTML object>"
            ],
            "text/html": [
              "\n",
              "  <style>\n",
              "    pre {\n",
              "        white-space: pre-wrap;\n",
              "    }\n",
              "  </style>\n",
              "  "
            ]
          },
          "metadata": {}
        },
        {
          "output_type": "stream",
          "name": "stderr",
          "text": [
            "The attention mask and the pad token id were not set. As a consequence, you may observe unexpected behavior. Please pass your input's `attention_mask` to obtain reliable results.\n",
            "Setting `pad_token_id` to `eos_token_id`:2 for open-end generation.\n"
          ]
        },
        {
          "output_type": "stream",
          "name": "stdout",
          "text": [
            "[<pad>][<pad>][<pad>][<pad>][<pad>][<pad>][<pad>][<pad>][<pad>][<pad>][<pad>][<pad>][<pad>][<pad>][<pad>][<pad>][<pad>][<pad>][<pad>][<pad>][<pad>][<pad>][<pad>][<pad>][<pad>][<pad>][<pad>][<pad>][<pad>][<pad>][<pad>][<pad>][<pad>][<pad>][<pad>][<pad>][<pad>][<pad>][<pad>][<pad>][<pad>][<pad>][<pad>][<pad>][<pad>][<pad>][<pad>][<pad>][<pad>][<pad>][<pad>][<pad>][<pad>][<pad>][<pad>][<pad>][<pad>][<pad>][<pad>][<pad>][<pad>][<pad>][<pad>][<pad>][<pad>][<pad>][<pad>][<pad>][<pad>][<pad>][<pad>][<pad>][<pad>][<pad>][<pad>][<pad>][<pad>][<pad>][<pad>][<pad>][<pad>][<pad>][<pad>][<pad>][<pad>][<pad>][<pad>][<pad>][<pad>][<pad>][<pad>][<pad>][<pad>][<pad>][<pad>][<pad>][<pad>][<pad>][<pad>][<pad>][<pad>][<pad>][<pad>][<pad>][<pad>][<pad>][<pad>][<pad>][<pad>][<pad>][<pad>][<pad>][<pad>][<pad>][<pad>][<pad>][<pad>][<pad>][<pad>][<pad>][<pad>][<pad>][<pad>][<pad>][<pad>][<pad>]Four-step Planning for Translating a Popular Science Article to Infographic Translation of Translation of a Scientific Article into a Research Article into a Study Article into a Report Article into a Paper\n",
            "\n",
            "### Translation Process:\n",
            "\n",
            "1. **Identify the Source Article**:\n",
            "   * Read the original article in the target language.\n",
            "   * Understand the main points and arguments of the article.\n",
            "\n",
            "2. **Select the Target Language**:\n",
            "   * Choose the language for translation.\n",
            "   * Decide on the best language for the task.\n",
            "\n",
            "3. **Prepare the Translation**:\n",
            "   * Gather all necessary information for the translation.\n",
            "   * Ensure accuracy and completeness of the translation.\n",
            "\n",
            "4. **Create the Infographic**:\n",
            "   * Design the layout and visuals for the infographic.\n",
            "   * Develop the graphics and charts for the infographic.\n",
            "\n",
            "### Planning and Failure Handling:\n",
            "\n",
            "1. **Handle potential Issues**:\n",
            "   * Manage any potential issues that may arise during the translation process.\n",
            "   * Monitor for errors and inconsistencies.\n",
            "\n",
            "2. **Resolve any Discrepancies**:\n",
            "   * Solve any discrepancies that may occur during the translation process.\n",
            "   * Tackle any obstacles and hindrances.\n",
            "\n",
            "3. **Review the Translation**:\n",
            "   * Examine the translation for accuracy and completeness.\n",
            "   * Evaluate the translation for clarity and coherence.\n",
            "\n",
            "4. **Revise the Infographic**:\n",
            "   * Check the infographic for accuracy and completeness.\n",
            "   * Ensure the infographic is clear and concise.\n",
            "\n",
            "### Translation and Error Handling:\n",
            "\n",
            "1. **Identify and Address Errors**:\n",
            "   * Locate and pinpoint any errors that\n"
          ]
        }
      ]
    },
    {
      "cell_type": "code",
      "source": [
        "with model.disable_adapter():\n",
        "  output_base_detail_b=get_completion(pred_prompt_detail_b, model, tokenizer, stop_keywords, KeywordsStoppingCriteria)\n",
        "  print(output_base_detail_b)"
      ],
      "metadata": {
        "colab": {
          "base_uri": "https://localhost:8080/",
          "height": 969
        },
        "id": "fg743TELuJEH",
        "outputId": "9f46dad4-e5e3-4714-b349-0cd89de4479d"
      },
      "execution_count": null,
      "outputs": [
        {
          "output_type": "display_data",
          "data": {
            "text/plain": [
              "<IPython.core.display.HTML object>"
            ],
            "text/html": [
              "\n",
              "  <style>\n",
              "    pre {\n",
              "        white-space: pre-wrap;\n",
              "    }\n",
              "  </style>\n",
              "  "
            ]
          },
          "metadata": {}
        },
        {
          "output_type": "stream",
          "name": "stderr",
          "text": [
            "The attention mask and the pad token id were not set. As a consequence, you may observe unexpected behavior. Please pass your input's `attention_mask` to obtain reliable results.\n",
            "Setting `pad_token_id` to `eos_token_id`:2 for open-end generation.\n"
          ]
        },
        {
          "output_type": "stream",
          "name": "stdout",
          "text": [
            "```python\n",
            "# Write and illustrate a children's book\n",
            "children_book = {\n",
            "    \"Write Story\": {\n",
            "        \"input\": \"Story idea\",\n",
            "        \"output\": \"Written story\",\n",
            "        \"steps\": [\n",
            "            \"Brainstorm story ideas\",\n",
            "            \"Create story outline\",\n",
            "            \"Write first draft\",\n",
            "            \"Revise and edit draft\",\n",
            "            \"Finalize story\"\n",
            "        ],\n",
            "        \"failure_handling\": [\n",
            "            \"If story idea is not engaging, brainstorm more ideas.\",\n",
            "            \"If story outline is not clear, create a more detailed outline.\",\n",
            "            \"If first draft is not satisfactory, revise and edit more thoroughly.\",\n",
            "            \"If finalized story is not age-appropriate or developmentally suitable, revise and edit further.\"\n",
            "        ]\n",
            "    },\n",
            "    \"Illustrate\": {\n",
            "        \"input\": \"Written story\",\n",
            "        \"output\": \"Illustrated story\",\n",
            "        \"steps\": [\n",
            "            \"Sketch initial illustrations\",\n",
            "            \"Refine and color illustrations\",\n",
            "            \"Add text and labels to illustrations\"\n",
            "        ],\n",
            "        \"failure_handling\": [\n",
            "            \"If initial sketches are not clear or effective, repeat sketching process.\",\n",
            "            \"If colors are not vibrant or appealing, try different color schemes.\",\n",
            "            \"If text and labels are not legible or clear, revise and edit.\"\n",
            "        ]\n",
            "    },\n",
            "    \"Review and Finalize\": {\n",
            "        \"input\": \"Illustrated story\",\n",
            "        \"output\": \"Finalized children's book\",\n",
            "        \"steps\": [\n",
            "            \"Review story and illustrations for consistency and coherence\",\n",
            "            \"Make any necessary revisions and edits\",\n",
            "            \"Format and design the layout of the book\",\n",
            "            \"Proofread for errors and typos\"\n",
            "        ],\n",
            "        \"failure_handling\": [\n",
            "            \"If story and illustrations are not consistent or cohesive, revise and edit accordingly.\",\n",
            "            \"If formatting and design are not visually appealing or effective, try different options.\",\n",
            "            \"If errors and typos are found, correct them.\"\n",
            "        ]\n",
            "    },\n",
            "\n",
            "    # Create an audiobook version\n",
            "    \"Create Audiobook\": {\n",
            "        \"input\n"
          ]
        }
      ]
    },
    {
      "cell_type": "code",
      "source": [
        "output_base_detail_with=get_completion(pred_prompt_detail+additional_info_detail, model, tokenizer, stop_keywords, KeywordsStoppingCriteria)\n",
        "print(output_base_detail_with)"
      ],
      "metadata": {
        "colab": {
          "base_uri": "https://localhost:8080/",
          "height": 493
        },
        "id": "alzm_RMiirp8",
        "outputId": "b1acc9d3-b301-4b03-ed10-2dc96079b84e"
      },
      "execution_count": null,
      "outputs": [
        {
          "output_type": "display_data",
          "data": {
            "text/plain": [
              "<IPython.core.display.HTML object>"
            ],
            "text/html": [
              "\n",
              "  <style>\n",
              "    pre {\n",
              "        white-space: pre-wrap;\n",
              "    }\n",
              "  </style>\n",
              "  "
            ]
          },
          "metadata": {}
        },
        {
          "output_type": "stream",
          "name": "stderr",
          "text": [
            "The attention mask and the pad token id were not set. As a consequence, you may observe unexpected behavior. Please pass your input's `attention_mask` to obtain reliable results.\n",
            "Setting `pad_token_id` to `eos_token_id`:2 for open-end generation.\n"
          ]
        },
        {
          "output_type": "stream",
          "name": "stdout",
          "text": [
            "[<pad>][<pad>][<pad>]! Here's a detailed planning for translating a popular science article into another language and creating an infographic that summarizes it:\n",
            "\n",
            "{'Translate the article': {'next_modes': ['Translate Text', 'Proofreading'], 'failure': ['Unable to find the article', 'Unable to access the article due to technical issues']},\n",
            "'Translate Text': {'next_modes': ['Review Translation', 'Edit Translation'], 'failure': ['Inaccurate translation', 'Unclear translation']},\n",
            "'Review Translation': {'next_modes': ['Finalize Translation', 'Revise Translation'], 'failure': ['Major errors in translation', 'Minor errors in translation']},\n",
            "'Edit Translation': {'next_modes': ['Review Translation', 'Finalize Translation'], 'failure': ['Unable to edit translation']},\n",
            "'Finalize Translation': {'next_modes': ['Create Infographic', 'Review Infographic'], 'failure': ['Unable to create infographic']},\n",
            "'Create Infographic': {'next_modes': ['Review Infographic', 'Publish Infographic'], 'failure': ['Unable to create visually appealing infographic']},\n",
            "'Review Infographic': {'next_modes': ['Finalize Infographic', 'Revise Infographic'], 'failure': ['Inaccurate information in infographic', 'Unclear information in infographic']},\n",
            "'Publish Infographic': {'next_modes': ['Share Infographic', 'Save for Future Use'], 'failure': ['Unable to publish infographic']},\n",
            "'Analyzer': {'next_modes': [], 'failure': None}}\n",
            "\n",
            "The 'Analyzer' subtask is an optional step that can be added to the process to ensure the quality of the translation and infographic. It can be implemented using a language model or a human expert to check for any errors or inconsistencies in the translation and infographic. The 'Analyzer' subtask does not have any failure handling options as it is an additional step to improve the quality of the output.</s>\n"
          ]
        }
      ]
    },
    {
      "cell_type": "code",
      "source": [
        "with model.disable_adapter():\n",
        "  output_base_detail_with_b=get_completion(pred_prompt_detail_b+additional_info_detail, model, tokenizer, stop_keywords, KeywordsStoppingCriteria)\n",
        "  print(output_base_detail_with_b)"
      ],
      "metadata": {
        "colab": {
          "base_uri": "https://localhost:8080/",
          "height": 782
        },
        "id": "RZpSQC6fvN4i",
        "outputId": "4ffefb3d-200e-4cd7-a795-bf7831e611b9"
      },
      "execution_count": null,
      "outputs": [
        {
          "output_type": "display_data",
          "data": {
            "text/plain": [
              "<IPython.core.display.HTML object>"
            ],
            "text/html": [
              "\n",
              "  <style>\n",
              "    pre {\n",
              "        white-space: pre-wrap;\n",
              "    }\n",
              "  </style>\n",
              "  "
            ]
          },
          "metadata": {}
        },
        {
          "output_type": "stream",
          "name": "stderr",
          "text": [
            "The attention mask and the pad token id were not set. As a consequence, you may observe unexpected behavior. Please pass your input's `attention_mask` to obtain reliable results.\n",
            "Setting `pad_token_id` to `eos_token_id`:2 for open-end generation.\n"
          ]
        },
        {
          "output_type": "stream",
          "name": "stdout",
          "text": [
            "#### Task: Write and illustrate a children's book, then create an audiobook version\n",
            "\n",
            "#### Subtask: Write a children's book\n",
            "{'detailed description of writing a children's book': {\n",
            "'next_modes': ['Determine the story concept', 'Create a story outline', 'Write the first draft', 'Revise and edit the manuscript', 'Illustrate the manuscript'],\n",
            "'failure': ['Unable to come up with a story concept', 'Unable to create a satisfactory story outline', 'Unable to write a coherent first draft', 'Unable to revise and edit the manuscript effectively', 'Unable to illustrate the manuscript']},\n",
            "\n",
            "##### Determine the story concept\n",
            "{'next_modes': ['Brainstorm ideas', 'Choose a concept'], 'failure': ['Unable to brainstorm ideas', 'Unable to choose a concept']},\n",
            "\n",
            "##### Brainstorm ideas\n",
            "{'next_modes': ['Research popular children's book genres', 'Consider personal experiences', 'Generate ideas from observations'], 'failure': ['Unable to find inspiration from research', 'Unable to generate ideas from personal experiences or observations']},\n",
            "\n",
            "##### Choose a concept\n",
            "{'next_modes': ['Refine the chosen concept', 'Begin writing the story'], 'failure': ['Unable to refine the concept satisfactorily']},\n",
            "\n",
            "##### Create a story outline\n",
            "{'next_modes': ['Develop characters', 'Create a plot structure', 'Determine the setting'], 'failure': ['Unable to develop characters', 'Unable to create a satisfactory plot structure', 'Unable to determine a suitable setting']},\n",
            "\n",
            "##### Develop characters\n",
            "{'next_modes': ['Create character profiles', 'Determine character motivations'], 'failure': ['Unable to create believable character profiles', 'Unable to determine character motivations']},\n",
            "\n",
            "##### Create character profiles\n",
            "{'next_modes': ['Research character archetypes', 'Add unique traits'], 'failure': ['Unable to find suitable character archetypes', 'Unable to add unique traits']},\n",
            "\n",
            "##### Determine character motivations\n",
            "{'next_modes': ['Consider character goals', 'Determine character conflicts'], 'failure': ['Unable to determine character goals', 'Unable to create character conflicts']},\n",
            "\n",
            "##### Create a plot structure\n",
            "{'next_modes': ['Det\n"
          ]
        }
      ]
    },
    {
      "cell_type": "code",
      "source": [
        "adapter_id_blueprint='/content/drive/MyDrive/ckpts_mistral_7B_blueprint_planning_v2'\n",
        "adapter_id_detail=\"/content/drive/MyDrive/ckpts_mistral_7B_detailed_planning_v2\""
      ],
      "metadata": {
        "id": "7wnWa-sWbqc8",
        "colab": {
          "base_uri": "https://localhost:8080/",
          "height": 17
        },
        "outputId": "2978aa19-7edb-420a-971a-6d0e7a3d7ea6"
      },
      "execution_count": null,
      "outputs": [
        {
          "output_type": "display_data",
          "data": {
            "text/plain": [
              "<IPython.core.display.HTML object>"
            ],
            "text/html": [
              "\n",
              "  <style>\n",
              "    pre {\n",
              "        white-space: pre-wrap;\n",
              "    }\n",
              "  </style>\n",
              "  "
            ]
          },
          "metadata": {}
        }
      ]
    },
    {
      "cell_type": "code",
      "source": [
        "import locale\n",
        "locale.getpreferredencoding = lambda: \"UTF-8\""
      ],
      "metadata": {
        "id": "UX1olAF5ntvC",
        "colab": {
          "base_uri": "https://localhost:8080/",
          "height": 17
        },
        "outputId": "1c839f6e-eb58-4860-8bab-ddd7faa50e19"
      },
      "execution_count": null,
      "outputs": [
        {
          "output_type": "display_data",
          "data": {
            "text/plain": [
              "<IPython.core.display.HTML object>"
            ],
            "text/html": [
              "\n",
              "  <style>\n",
              "    pre {\n",
              "        white-space: pre-wrap;\n",
              "    }\n",
              "  </style>\n",
              "  "
            ]
          },
          "metadata": {}
        }
      ]
    },
    {
      "cell_type": "code",
      "source": [
        "!unzip /content/drive/MyDrive/ckpts_mistral_7B_blueprint_planning_v2.zip -d ."
      ],
      "metadata": {
        "id": "lVUkKW1Kgx_F",
        "colab": {
          "base_uri": "https://localhost:8080/",
          "height": 187
        },
        "outputId": "c0a96514-dde4-49eb-eba3-6728fc816ee3"
      },
      "execution_count": null,
      "outputs": [
        {
          "output_type": "display_data",
          "data": {
            "text/plain": [
              "<IPython.core.display.HTML object>"
            ],
            "text/html": [
              "\n",
              "  <style>\n",
              "    pre {\n",
              "        white-space: pre-wrap;\n",
              "    }\n",
              "  </style>\n",
              "  "
            ]
          },
          "metadata": {}
        },
        {
          "output_type": "stream",
          "name": "stdout",
          "text": [
            "Archive:  /content/drive/MyDrive/ckpts_mistral_7B_blueprint_planning_v2.zip\n",
            "   creating: ./ckpts_mistral_7B_blueprint_planning_v2/\n",
            "  inflating: ./ckpts_mistral_7B_blueprint_planning_v2/tokenizer.model  \n",
            "  inflating: ./ckpts_mistral_7B_blueprint_planning_v2/tokenizer_config.json  \n",
            " extracting: ./ckpts_mistral_7B_blueprint_planning_v2/added_tokens.json  \n",
            "  inflating: ./ckpts_mistral_7B_blueprint_planning_v2/special_tokens_map.json  \n",
            "  inflating: ./ckpts_mistral_7B_blueprint_planning_v2/adapter_model.safetensors  \n",
            "  inflating: ./ckpts_mistral_7B_blueprint_planning_v2/adapter_config.json  \n",
            "  inflating: ./ckpts_mistral_7B_blueprint_planning_v2/README.md  \n",
            "  inflating: ./ckpts_mistral_7B_blueprint_planning_v2/tokenizer.json  \n"
          ]
        }
      ]
    },
    {
      "cell_type": "code",
      "source": [
        "!unzip /content/drive/MyDrive/ckpts_mistral_7B_detailed_planning_v2.zip -d ."
      ],
      "metadata": {
        "id": "HRsUkgmQhh03",
        "colab": {
          "base_uri": "https://localhost:8080/",
          "height": 187
        },
        "outputId": "95e4e196-6af6-468e-d5e2-fa0c8440fd4d"
      },
      "execution_count": null,
      "outputs": [
        {
          "output_type": "display_data",
          "data": {
            "text/plain": [
              "<IPython.core.display.HTML object>"
            ],
            "text/html": [
              "\n",
              "  <style>\n",
              "    pre {\n",
              "        white-space: pre-wrap;\n",
              "    }\n",
              "  </style>\n",
              "  "
            ]
          },
          "metadata": {}
        },
        {
          "output_type": "stream",
          "name": "stdout",
          "text": [
            "Archive:  /content/drive/MyDrive/ckpts_mistral_7B_detailed_planning_v2.zip\n",
            "   creating: ./ckpts_mistral_7B_detailed_planning_v2/\n",
            "  inflating: ./ckpts_mistral_7B_detailed_planning_v2/tokenizer.model  \n",
            "  inflating: ./ckpts_mistral_7B_detailed_planning_v2/tokenizer_config.json  \n",
            " extracting: ./ckpts_mistral_7B_detailed_planning_v2/added_tokens.json  \n",
            "  inflating: ./ckpts_mistral_7B_detailed_planning_v2/special_tokens_map.json  \n",
            "  inflating: ./ckpts_mistral_7B_detailed_planning_v2/adapter_model.safetensors  \n",
            "  inflating: ./ckpts_mistral_7B_detailed_planning_v2/adapter_config.json  \n",
            "  inflating: ./ckpts_mistral_7B_detailed_planning_v2/README.md  \n",
            "  inflating: ./ckpts_mistral_7B_detailed_planning_v2/tokenizer.json  \n"
          ]
        }
      ]
    },
    {
      "cell_type": "code",
      "source": [
        "model = PeftModel.from_pretrained(model,'/content/ckpts_mistral_7B_blueprint_planning_v2', adapter_name=\"blueprint\")\n",
        "_ = model.load_adapter('/content/ckpts_mistral_7B_detailed_planning_v2', adapter_name=\"detailed\")"
      ],
      "metadata": {
        "id": "0xawLvMFVovU",
        "colab": {
          "base_uri": "https://localhost:8080/",
          "height": 17
        },
        "outputId": "87a59b2c-6172-4711-8624-07ff3dd014da"
      },
      "execution_count": null,
      "outputs": [
        {
          "output_type": "display_data",
          "data": {
            "text/plain": [
              "<IPython.core.display.HTML object>"
            ],
            "text/html": [
              "\n",
              "  <style>\n",
              "    pre {\n",
              "        white-space: pre-wrap;\n",
              "    }\n",
              "  </style>\n",
              "  "
            ]
          },
          "metadata": {}
        }
      ]
    },
    {
      "cell_type": "code",
      "source": [
        "%%time\n",
        "\n",
        "adapters = [\"blueprint\", \"detailed\"]\n",
        "weights = [1.0, 1.0]\n",
        "adapter_name = \"merge\"\n",
        "density = 0.2\n",
        "sign_method=\"frequency\"\n",
        "combination_type = \"ties\"\n",
        "if adapter_name in model.peft_config:\n",
        "   model.delete_adapter(adapter_name)\n",
        "\n",
        "model.add_weighted_adapter(\n",
        "    adapters,\n",
        "    weights,\n",
        "    adapter_name,\n",
        "    combination_type=combination_type,\n",
        "    density=density,\n",
        "    majority_sign_method=sign_method\n",
        "    )"
      ],
      "metadata": {
        "id": "zAWcHqVdbEMm",
        "colab": {
          "base_uri": "https://localhost:8080/",
          "height": 51
        },
        "outputId": "4c0e0835-a98b-4200-eb9f-bae1714439b3"
      },
      "execution_count": null,
      "outputs": [
        {
          "output_type": "display_data",
          "data": {
            "text/plain": [
              "<IPython.core.display.HTML object>"
            ],
            "text/html": [
              "\n",
              "  <style>\n",
              "    pre {\n",
              "        white-space: pre-wrap;\n",
              "    }\n",
              "  </style>\n",
              "  "
            ]
          },
          "metadata": {}
        },
        {
          "output_type": "stream",
          "name": "stdout",
          "text": [
            "CPU times: user 2.54 s, sys: 7.9 ms, total: 2.55 s\n",
            "Wall time: 1.11 s\n"
          ]
        }
      ]
    },
    {
      "cell_type": "code",
      "source": [
        "model.delete_adapter(\"blueprint\")\n",
        "model.delete_adapter(\"detailed\")\n",
        "model.set_adapter(\"merge\")"
      ],
      "metadata": {
        "colab": {
          "base_uri": "https://localhost:8080/",
          "height": 119
        },
        "id": "8I3VuU7FMPiu",
        "outputId": "12e6e9ee-2d5d-47ae-8e80-d54a612d3129"
      },
      "execution_count": null,
      "outputs": [
        {
          "output_type": "display_data",
          "data": {
            "text/plain": [
              "<IPython.core.display.HTML object>"
            ],
            "text/html": [
              "\n",
              "  <style>\n",
              "    pre {\n",
              "        white-space: pre-wrap;\n",
              "    }\n",
              "  </style>\n",
              "  "
            ]
          },
          "metadata": {}
        },
        {
          "output_type": "stream",
          "name": "stderr",
          "text": [
            "/usr/local/lib/python3.10/dist-packages/peft/tuners/tuners_utils.py:626: UserWarning: Adapter blueprint was active which is now deleted. Setting active adapter to detailed.\n",
            "  warnings.warn(\n",
            "/usr/local/lib/python3.10/dist-packages/peft/tuners/tuners_utils.py:626: UserWarning: Adapter detailed was active which is now deleted. Setting active adapter to merge.\n",
            "  warnings.warn(\n"
          ]
        }
      ]
    },
    {
      "cell_type": "code",
      "source": [
        "prediction_blueprint_with=get_completion(pred_prompt_blueprint+additional_info_blueprint, model, tokenizer, stop_keywords, KeywordsStoppingCriteria)"
      ],
      "metadata": {
        "colab": {
          "base_uri": "https://localhost:8080/",
          "height": 68
        },
        "id": "yNbFF4cVNf9q",
        "outputId": "d1e4a488-67db-4b61-f3c8-a45489975a01"
      },
      "execution_count": null,
      "outputs": [
        {
          "output_type": "display_data",
          "data": {
            "text/plain": [
              "<IPython.core.display.HTML object>"
            ],
            "text/html": [
              "\n",
              "  <style>\n",
              "    pre {\n",
              "        white-space: pre-wrap;\n",
              "    }\n",
              "  </style>\n",
              "  "
            ]
          },
          "metadata": {}
        },
        {
          "output_type": "stream",
          "name": "stderr",
          "text": [
            "The attention mask and the pad token id were not set. As a consequence, you may observe unexpected behavior. Please pass your input's `attention_mask` to obtain reliable results.\n",
            "Setting `pad_token_id` to `eos_token_id`:2 for open-end generation.\n"
          ]
        }
      ]
    },
    {
      "cell_type": "code",
      "source": [
        "prediction_blueprint_with"
      ],
      "metadata": {
        "colab": {
          "base_uri": "https://localhost:8080/",
          "height": 86
        },
        "id": "8FLacNCtUTj-",
        "outputId": "1eb64efa-0979-477a-e432-ea0daafdeaa5"
      },
      "execution_count": null,
      "outputs": [
        {
          "output_type": "display_data",
          "data": {
            "text/plain": [
              "<IPython.core.display.HTML object>"
            ],
            "text/html": [
              "\n",
              "  <style>\n",
              "    pre {\n",
              "        white-space: pre-wrap;\n",
              "    }\n",
              "  </style>\n",
              "  "
            ]
          },
          "metadata": {}
        },
        {
          "output_type": "execute_result",
          "data": {
            "text/plain": [
              "\"{'Translate article': {'next_modes': ['Create infographic'], 'failure': ['Retry with different translation software', 'Request human translation', 'Fallback to summary without visuals']},\\n'Create infographic': {'next_modes': ['Analyzer'], 'failure': ['Retry with different design software', 'Fallback to text-only summary', 'Request human design assistance']}}</s>\""
            ],
            "application/vnd.google.colaboratory.intrinsic+json": {
              "type": "string"
            }
          },
          "metadata": {},
          "execution_count": 62
        }
      ]
    },
    {
      "cell_type": "code",
      "source": [
        "failure_handling_options=['Retry with different translation software', 'Request human translation', 'Fallback to summary without visuals']\n",
        "corresponding_weights=[8.4, 0., 1.5]\n",
        "# Here we assign the smallest weight to the human intervention because we want error handling to be\n",
        "# as autonomous as possible\n",
        "\n",
        "failure_handling_options_weighted=generate_handle_permutations(failure_handling_options,corresponding_weights)\n",
        "print(failure_handling_options_weighted)"
      ],
      "metadata": {
        "colab": {
          "base_uri": "https://localhost:8080/",
          "height": 136
        },
        "id": "cWR9pqiNxgAD",
        "outputId": "bbc983e2-d266-4eb3-8f28-c3c671de5acd"
      },
      "execution_count": null,
      "outputs": [
        {
          "output_type": "display_data",
          "data": {
            "text/plain": [
              "<IPython.core.display.HTML object>"
            ],
            "text/html": [
              "\n",
              "  <style>\n",
              "    pre {\n",
              "        white-space: pre-wrap;\n",
              "    }\n",
              "  </style>\n",
              "  "
            ]
          },
          "metadata": {}
        },
        {
          "output_type": "stream",
          "name": "stdout",
          "text": [
            "[['Retry with different translation software', 'Fallback to summary without visuals', 'Request human translation'], ['Retry with different translation software', 'Request human translation', 'Fallback to summary without visuals'], ['Fallback to summary without visuals', 'Retry with different translation software', 'Request human translation'], ['Fallback to summary without visuals', 'Request human translation', 'Retry with different translation software'], ['Request human translation', 'Retry with different translation software', 'Fallback to summary without visuals'], ['Request human translation', 'Fallback to summary without visuals', 'Retry with different translation software']]\n"
          ]
        }
      ]
    },
    {
      "cell_type": "code",
      "source": [
        "prediction_blueprint_without=get_completion(pred_prompt_blueprint, model, tokenizer, stop_keywords, KeywordsStoppingCriteria)"
      ],
      "metadata": {
        "colab": {
          "base_uri": "https://localhost:8080/",
          "height": 68
        },
        "id": "nNkSvTKsX22d",
        "outputId": "df9a2571-484b-4594-a532-b12c9c7e969e"
      },
      "execution_count": null,
      "outputs": [
        {
          "output_type": "display_data",
          "data": {
            "text/plain": [
              "<IPython.core.display.HTML object>"
            ],
            "text/html": [
              "\n",
              "  <style>\n",
              "    pre {\n",
              "        white-space: pre-wrap;\n",
              "    }\n",
              "  </style>\n",
              "  "
            ]
          },
          "metadata": {}
        },
        {
          "output_type": "stream",
          "name": "stderr",
          "text": [
            "The attention mask and the pad token id were not set. As a consequence, you may observe unexpected behavior. Please pass your input's `attention_mask` to obtain reliable results.\n",
            "Setting `pad_token_id` to `eos_token_id`:2 for open-end generation.\n"
          ]
        }
      ]
    },
    {
      "cell_type": "code",
      "source": [
        "prediction_blueprint_without"
      ],
      "metadata": {
        "colab": {
          "base_uri": "https://localhost:8080/",
          "height": 103
        },
        "id": "K-qo7yx-YFqk",
        "outputId": "adfc30e5-0988-4e55-cf92-ce09d9fb8226"
      },
      "execution_count": null,
      "outputs": [
        {
          "output_type": "display_data",
          "data": {
            "text/plain": [
              "<IPython.core.display.HTML object>"
            ],
            "text/html": [
              "\n",
              "  <style>\n",
              "    pre {\n",
              "        white-space: pre-wrap;\n",
              "    }\n",
              "  </style>\n",
              "  "
            ]
          },
          "metadata": {}
        },
        {
          "output_type": "execute_result",
          "data": {
            "text/plain": [
              "'{\\n\"Translate article\": {\\n\"next_modes\": [\"Create infographic\"],\\n\"failure\": [\"Retry translation with different tools or settings\", \"Switch to a different article\", \"Request human translation\"]\\n},\\n\"Create infographic\": {\\n\"next_modes\": [\"Review and finalize\"],\\n\"failure\": [\"Retry with different design tools or templates\", \"Seek assistance from a graphic designer\", \"Fallback to a simpler format like a text summary\"]\\n},\\n\"Review and finalize\": {\\n\"next_modes\": [],\\n\"failure\": None\\n}\\n}</s>'"
            ],
            "application/vnd.google.colaboratory.intrinsic+json": {
              "type": "string"
            }
          },
          "metadata": {},
          "execution_count": 64
        }
      ]
    },
    {
      "cell_type": "code",
      "source": [
        "prediction_blueprint_with_b=get_completion(pred_prompt_blueprint_b+additional_info_blueprint, model, tokenizer, stop_keywords, KeywordsStoppingCriteria)"
      ],
      "metadata": {
        "colab": {
          "base_uri": "https://localhost:8080/",
          "height": 68
        },
        "id": "MTi7TNBMO6bS",
        "outputId": "995d7f2f-a007-4741-924c-62eda249924d"
      },
      "execution_count": null,
      "outputs": [
        {
          "output_type": "display_data",
          "data": {
            "text/plain": [
              "<IPython.core.display.HTML object>"
            ],
            "text/html": [
              "\n",
              "  <style>\n",
              "    pre {\n",
              "        white-space: pre-wrap;\n",
              "    }\n",
              "  </style>\n",
              "  "
            ]
          },
          "metadata": {}
        },
        {
          "output_type": "stream",
          "name": "stderr",
          "text": [
            "The attention mask and the pad token id were not set. As a consequence, you may observe unexpected behavior. Please pass your input's `attention_mask` to obtain reliable results.\n",
            "Setting `pad_token_id` to `eos_token_id`:2 for open-end generation.\n"
          ]
        }
      ]
    },
    {
      "cell_type": "code",
      "source": [
        "prediction_blueprint_with_b"
      ],
      "metadata": {
        "colab": {
          "base_uri": "https://localhost:8080/",
          "height": 103
        },
        "id": "N0JEWF6fV95B",
        "outputId": "bc18df57-540b-4597-aabd-6e396c4ba284"
      },
      "execution_count": null,
      "outputs": [
        {
          "output_type": "display_data",
          "data": {
            "text/plain": [
              "<IPython.core.display.HTML object>"
            ],
            "text/html": [
              "\n",
              "  <style>\n",
              "    pre {\n",
              "        white-space: pre-wrap;\n",
              "    }\n",
              "  </style>\n",
              "  "
            ]
          },
          "metadata": {}
        },
        {
          "output_type": "execute_result",
          "data": {
            "text/plain": [
              "\"{'Write story': {'next_modes': ['Illustrate story'], 'failure': ['Retry with different plot ideas', 'Switch to a different story', 'Request human intervention']},\\n'Illustrate story': {'next_modes': ['Record audiobook'], 'failure': ['Retry with different illustrations', 'Switch to a different story', 'Request human intervention']},\\n'Record audiobook': {'next_modes': ['Analyzer'], 'failure': ['Retry with different narration', 'Switch to a different story', 'Request human intervention']}}</s>\""
            ],
            "application/vnd.google.colaboratory.intrinsic+json": {
              "type": "string"
            }
          },
          "metadata": {},
          "execution_count": 105
        }
      ]
    },
    {
      "cell_type": "code",
      "source": [
        "failure_handling_options=['Retry with different plot ideas', 'Switch to a different story', 'Request human intervention']\n",
        "corresponding_weights=[5,3,0]\n",
        "\n",
        "failure_handling_options_weighted=generate_handle_permutations(failure_handling_options,corresponding_weights)\n",
        "print(failure_handling_options_weighted)"
      ],
      "metadata": {
        "colab": {
          "base_uri": "https://localhost:8080/",
          "height": 119
        },
        "id": "CGSeB_E9v-c3",
        "outputId": "620a18b9-a755-47f4-abc5-ea329aac98e1"
      },
      "execution_count": null,
      "outputs": [
        {
          "output_type": "display_data",
          "data": {
            "text/plain": [
              "<IPython.core.display.HTML object>"
            ],
            "text/html": [
              "\n",
              "  <style>\n",
              "    pre {\n",
              "        white-space: pre-wrap;\n",
              "    }\n",
              "  </style>\n",
              "  "
            ]
          },
          "metadata": {}
        },
        {
          "output_type": "stream",
          "name": "stdout",
          "text": [
            "[['Retry with different plot ideas', 'Switch to a different story', 'Request human intervention'], ['Retry with different plot ideas', 'Request human intervention', 'Switch to a different story'], ['Switch to a different story', 'Retry with different plot ideas', 'Request human intervention'], ['Switch to a different story', 'Request human intervention', 'Retry with different plot ideas'], ['Request human intervention', 'Retry with different plot ideas', 'Switch to a different story'], ['Request human intervention', 'Switch to a different story', 'Retry with different plot ideas']]\n"
          ]
        }
      ]
    },
    {
      "cell_type": "code",
      "source": [
        "prediction_blueprint_without_b=get_completion(pred_prompt_blueprint_b, model, tokenizer, stop_keywords, KeywordsStoppingCriteria)"
      ],
      "metadata": {
        "colab": {
          "base_uri": "https://localhost:8080/",
          "height": 68
        },
        "id": "cJuOJzW_nc4G",
        "outputId": "2c7dbc04-34bf-4e09-dad1-c9a1bc39802a"
      },
      "execution_count": null,
      "outputs": [
        {
          "output_type": "display_data",
          "data": {
            "text/plain": [
              "<IPython.core.display.HTML object>"
            ],
            "text/html": [
              "\n",
              "  <style>\n",
              "    pre {\n",
              "        white-space: pre-wrap;\n",
              "    }\n",
              "  </style>\n",
              "  "
            ]
          },
          "metadata": {}
        },
        {
          "output_type": "stream",
          "name": "stderr",
          "text": [
            "The attention mask and the pad token id were not set. As a consequence, you may observe unexpected behavior. Please pass your input's `attention_mask` to obtain reliable results.\n",
            "Setting `pad_token_id` to `eos_token_id`:2 for open-end generation.\n"
          ]
        }
      ]
    },
    {
      "cell_type": "code",
      "source": [
        "prediction_blueprint_without_b"
      ],
      "metadata": {
        "colab": {
          "base_uri": "https://localhost:8080/",
          "height": 256
        },
        "id": "z3q9myJDnsKU",
        "outputId": "e9168123-298a-466d-8356-c3a762653731"
      },
      "execution_count": null,
      "outputs": [
        {
          "output_type": "display_data",
          "data": {
            "text/plain": [
              "<IPython.core.display.HTML object>"
            ],
            "text/html": [
              "\n",
              "  <style>\n",
              "    pre {\n",
              "        white-space: pre-wrap;\n",
              "    }\n",
              "  </style>\n",
              "  "
            ]
          },
          "metadata": {}
        },
        {
          "output_type": "execute_result",
          "data": {
            "text/plain": [
              "'{\\n\"Write and illustrate a children\\'s book\": {\\n\"next_modes\": [\"Record narration for audiobook\", \"Edit and finalize illustrations\"],\\n\"failure\": [\"Retry with different illustration styles\", \"Switch to a different project\", \"Request human intervention for creative direction\"]\\n},\\n\"Record narration for audiobook\": {\\n\"next_modes\": [\"Edit and mix audio tracks\"],\\n\"failure\": [\"Retry recording with improved equipment\", \"Use text-to-speech software as an alternative\", \"Seek professional voice actor assistance\"]\\n},\\n\"Edit and finalize illustrations\": {\\n\"next_modes\": [\"Design cover art for the audiobook version\"],\\n\"failure\": [\"Retry with different illustration techniques\", \"Outsource to a professional illustrator\", \"Consider simplifying the illustrations\"]\\n},\\n\"Edit and mix audio tracks\": {\\n\"next_modes\": [\"Finalize audiobook production\"],\\n\"failure\": [\"Retry editing with improved software\", \"Use pre-existing royalty-free audio\", \"Consider alternative narration styles\"]\\n},\\n\"Design cover art for the audiobook version\": {\\n\"next_modes\": [\"Finalize audiobook production\"],\\n\"failure\": [\"Retry with different design concepts\", \"Use stock art as a placeholder\", \"Seek professional graphic design assistance\"]\\n},\\n\"Finalize audiobook production\": {\\n\"next_modes\": [\"Distribute the audiobook version\"],\\n\"failure\": [\"Retry production with improved quality control\", \"Consider alternative distribution platforms\", \"Request human intervention for troubleshooting\"]\\n}\\n}</s>'"
            ],
            "application/vnd.google.colaboratory.intrinsic+json": {
              "type": "string"
            }
          },
          "metadata": {},
          "execution_count": 69
        }
      ]
    },
    {
      "cell_type": "code",
      "source": [
        "test_data_90['Blueprint']"
      ],
      "metadata": {
        "colab": {
          "base_uri": "https://localhost:8080/",
          "height": 86
        },
        "id": "r0hsRi8mQi1g",
        "outputId": "071e3c1e-b760-405b-c88a-7dcca68f1ae2"
      },
      "execution_count": null,
      "outputs": [
        {
          "output_type": "display_data",
          "data": {
            "text/plain": [
              "<IPython.core.display.HTML object>"
            ],
            "text/html": [
              "\n",
              "  <style>\n",
              "    pre {\n",
              "        white-space: pre-wrap;\n",
              "    }\n",
              "  </style>\n",
              "  "
            ]
          },
          "metadata": {}
        },
        {
          "output_type": "execute_result",
          "data": {
            "text/plain": [
              "\"{'Write story': {'next_modes': ['Illustrate story', 'Record audiobook'], 'failure': ['Retry', 'Fallback Content', 'Request Human Intervention']}, 'Illustrate story': {'next_modes': ['Record audiobook'], 'failure': ['Retry', 'Switch to Different Mode', 'Log and Analyze']}, 'Record audiobook': {'next_modes': ['Analyzer'], 'failure': ['Retry', 'Exit', 'Quality Assurance Check']}, 'Analyzer': {'next_modes': [], 'failure': None}}\""
            ],
            "application/vnd.google.colaboratory.intrinsic+json": {
              "type": "string"
            }
          },
          "metadata": {},
          "execution_count": 70
        }
      ]
    },
    {
      "cell_type": "code",
      "source": [
        "prediction_detail_with=get_completion(pred_prompt_detail+additional_info_detail, model, tokenizer, stop_keywords, KeywordsStoppingCriteria)"
      ],
      "metadata": {
        "colab": {
          "base_uri": "https://localhost:8080/",
          "height": 68
        },
        "id": "tL-dUckcNgmZ",
        "outputId": "c2e65c36-201c-47ae-d0e5-aecb3e3d6269"
      },
      "execution_count": null,
      "outputs": [
        {
          "output_type": "display_data",
          "data": {
            "text/plain": [
              "<IPython.core.display.HTML object>"
            ],
            "text/html": [
              "\n",
              "  <style>\n",
              "    pre {\n",
              "        white-space: pre-wrap;\n",
              "    }\n",
              "  </style>\n",
              "  "
            ]
          },
          "metadata": {}
        },
        {
          "output_type": "stream",
          "name": "stderr",
          "text": [
            "The attention mask and the pad token id were not set. As a consequence, you may observe unexpected behavior. Please pass your input's `attention_mask` to obtain reliable results.\n",
            "Setting `pad_token_id` to `eos_token_id`:2 for open-end generation.\n"
          ]
        }
      ]
    },
    {
      "cell_type": "code",
      "source": [
        "prediction_detail_with"
      ],
      "metadata": {
        "colab": {
          "base_uri": "https://localhost:8080/",
          "height": 103
        },
        "id": "lTm4YIaMda5d",
        "outputId": "b2bebec1-e159-4500-820b-fad1c878416b"
      },
      "execution_count": null,
      "outputs": [
        {
          "output_type": "display_data",
          "data": {
            "text/plain": [
              "<IPython.core.display.HTML object>"
            ],
            "text/html": [
              "\n",
              "  <style>\n",
              "    pre {\n",
              "        white-space: pre-wrap;\n",
              "    }\n",
              "  </style>\n",
              "  "
            ]
          },
          "metadata": {}
        },
        {
          "output_type": "execute_result",
          "data": {
            "text/plain": [
              "\"Here's a detailed planning for the given composite task:\\n\\n{'Translate the article': {'next_modes': ['Create an infographic'], 'failure': ['Retry with a different translation tool', 'Request human intervention for translation', 'Fallback to a summary of the article']},\\n 'Create an infographic': {'next_modes': [], 'failure': ['Retry with a different design tool', 'Switch to a different format like a video or podcast', 'Fallback to a plain text summary']}}</s>\""
            ],
            "application/vnd.google.colaboratory.intrinsic+json": {
              "type": "string"
            }
          },
          "metadata": {},
          "execution_count": 92
        }
      ]
    },
    {
      "cell_type": "code",
      "source": [
        "prediction_detail_without=get_completion(pred_prompt_detail, model, tokenizer, stop_keywords, KeywordsStoppingCriteria)"
      ],
      "metadata": {
        "colab": {
          "base_uri": "https://localhost:8080/",
          "height": 68
        },
        "id": "AYMSbLDedoie",
        "outputId": "67f342dc-47bb-4626-aba0-817397d65826"
      },
      "execution_count": null,
      "outputs": [
        {
          "output_type": "display_data",
          "data": {
            "text/plain": [
              "<IPython.core.display.HTML object>"
            ],
            "text/html": [
              "\n",
              "  <style>\n",
              "    pre {\n",
              "        white-space: pre-wrap;\n",
              "    }\n",
              "  </style>\n",
              "  "
            ]
          },
          "metadata": {}
        },
        {
          "output_type": "stream",
          "name": "stderr",
          "text": [
            "The attention mask and the pad token id were not set. As a consequence, you may observe unexpected behavior. Please pass your input's `attention_mask` to obtain reliable results.\n",
            "Setting `pad_token_id` to `eos_token_id`:2 for open-end generation.\n"
          ]
        }
      ]
    },
    {
      "cell_type": "code",
      "source": [
        "prediction_detail_without"
      ],
      "metadata": {
        "colab": {
          "base_uri": "https://localhost:8080/",
          "height": 103
        },
        "id": "PdXEYCiedsT2",
        "outputId": "66e68ade-88e9-42f5-db02-1bf00f857aea"
      },
      "execution_count": null,
      "outputs": [
        {
          "output_type": "display_data",
          "data": {
            "text/plain": [
              "<IPython.core.display.HTML object>"
            ],
            "text/html": [
              "\n",
              "  <style>\n",
              "    pre {\n",
              "        white-space: pre-wrap;\n",
              "    }\n",
              "  </style>\n",
              "  "
            ]
          },
          "metadata": {}
        },
        {
          "output_type": "execute_result",
          "data": {
            "text/plain": [
              "'{\\n\"Translate article\": {\\n\"next_modes\": [\"Create infographic\"],\\n\"failure\": [\"Retry translation with different tools or settings\", \"Switch to a different article\", \"Request human translation\"]\\n},\\n\"Create infographic\": {\\n\"next_modes\": [\"Review and finalize\"],\\n\"failure\": [\"Retry with different design elements or software\", \"Seek assistance from a graphic designer\", \"Fallback to a simpler format such as a text summary\"]\\n},\\n\"Review and finalize\": {\\n\"next_modes\": [],\\n\"failure\": None\\n}\\n}</s>'"
            ],
            "application/vnd.google.colaboratory.intrinsic+json": {
              "type": "string"
            }
          },
          "metadata": {},
          "execution_count": 94
        }
      ]
    },
    {
      "cell_type": "code",
      "source": [
        "pred_prompt_detail_b=format_prediction_detail_instruct_fn(test_data_90)\n",
        "\n",
        "prediction_detail_b=get_completion(pred_prompt_detail_b+additional_info_detail, model, tokenizer, stop_keywords, KeywordsStoppingCriteria)"
      ],
      "metadata": {
        "colab": {
          "base_uri": "https://localhost:8080/",
          "height": 68
        },
        "id": "Dw6UznNpNgr5",
        "outputId": "a0863d29-f373-4838-d5f4-9ac58b8623b1"
      },
      "execution_count": null,
      "outputs": [
        {
          "output_type": "display_data",
          "data": {
            "text/plain": [
              "<IPython.core.display.HTML object>"
            ],
            "text/html": [
              "\n",
              "  <style>\n",
              "    pre {\n",
              "        white-space: pre-wrap;\n",
              "    }\n",
              "  </style>\n",
              "  "
            ]
          },
          "metadata": {}
        },
        {
          "output_type": "stream",
          "name": "stderr",
          "text": [
            "The attention mask and the pad token id were not set. As a consequence, you may observe unexpected behavior. Please pass your input's `attention_mask` to obtain reliable results.\n",
            "Setting `pad_token_id` to `eos_token_id`:2 for open-end generation.\n"
          ]
        }
      ]
    },
    {
      "cell_type": "code",
      "source": [
        "prediction_detail_b"
      ],
      "metadata": {
        "colab": {
          "base_uri": "https://localhost:8080/",
          "height": 103
        },
        "id": "PtWFBiwH2dCu",
        "outputId": "36cc015f-77bf-4cb9-b356-e8116450ec2d"
      },
      "execution_count": null,
      "outputs": [
        {
          "output_type": "display_data",
          "data": {
            "text/plain": [
              "<IPython.core.display.HTML object>"
            ],
            "text/html": [
              "\n",
              "  <style>\n",
              "    pre {\n",
              "        white-space: pre-wrap;\n",
              "    }\n",
              "  </style>\n",
              "  "
            ]
          },
          "metadata": {}
        },
        {
          "output_type": "execute_result",
          "data": {
            "text/plain": [
              "\"### Example:\\n{'Write and illustrate a children's book': {'next_modes': ['Record the audiobook version'], 'failure': ['Retry with different illustrations', 'Switch to a different project', 'Request human intervention']},\\n'Record the audiobook version': {'next_modes': ['Analyzer'], 'failure': ['Retry with improved recording quality', 'Switch to a different narrator', 'Fallback to a pre-recorded version']},\\n'Analyzer': {'next_modes': [], 'failure': None}}</s>\""
            ],
            "application/vnd.google.colaboratory.intrinsic+json": {
              "type": "string"
            }
          },
          "metadata": {},
          "execution_count": 96
        }
      ]
    },
    {
      "cell_type": "code",
      "source": [
        "prediction_detail_without_b=get_completion(pred_prompt_detail_b, model, tokenizer, stop_keywords, KeywordsStoppingCriteria)"
      ],
      "metadata": {
        "colab": {
          "base_uri": "https://localhost:8080/",
          "height": 68
        },
        "id": "tZtlpHQNp9wg",
        "outputId": "f2bf5f5b-acfa-41f4-b9e3-47df29570115"
      },
      "execution_count": null,
      "outputs": [
        {
          "output_type": "display_data",
          "data": {
            "text/plain": [
              "<IPython.core.display.HTML object>"
            ],
            "text/html": [
              "\n",
              "  <style>\n",
              "    pre {\n",
              "        white-space: pre-wrap;\n",
              "    }\n",
              "  </style>\n",
              "  "
            ]
          },
          "metadata": {}
        },
        {
          "output_type": "stream",
          "name": "stderr",
          "text": [
            "The attention mask and the pad token id were not set. As a consequence, you may observe unexpected behavior. Please pass your input's `attention_mask` to obtain reliable results.\n",
            "Setting `pad_token_id` to `eos_token_id`:2 for open-end generation.\n"
          ]
        }
      ]
    },
    {
      "cell_type": "code",
      "source": [
        "prediction_detail_without_b"
      ],
      "metadata": {
        "colab": {
          "base_uri": "https://localhost:8080/",
          "height": 205
        },
        "id": "w6bU3XO_qGJJ",
        "outputId": "a64d8645-63ac-437b-ad5b-8a431979f92f"
      },
      "execution_count": null,
      "outputs": [
        {
          "output_type": "display_data",
          "data": {
            "text/plain": [
              "<IPython.core.display.HTML object>"
            ],
            "text/html": [
              "\n",
              "  <style>\n",
              "    pre {\n",
              "        white-space: pre-wrap;\n",
              "    }\n",
              "  </style>\n",
              "  "
            ]
          },
          "metadata": {}
        },
        {
          "output_type": "execute_result",
          "data": {
            "text/plain": [
              "'{\\n\"Write and illustrate a children\\'s book\": {\\n\"next_modes\": [\"Record narration for audiobook\", \"Design and layout for print version\"],\\n\"failure\": [\"Retry with different story ideas\", \"Switch to a different project\", \"Seek feedback from peers\"]\\n},\\n\"Record narration for audiobook\": {\\n\"next_modes\": [\"Edit and finalize audiobook recording\"],\\n\"failure\": [\"Retry with improved recording equipment\", \"Use text-to-speech software as alternative\", \"Consult a professional voice actor\"]\\n},\\n\"Edit and finalize audiobook recording\": {\\n\"next_modes\": [\"Create cover art for audiobook\"],\\n\"failure\": [\"Retry with different editing techniques\", \"Outsource editing to a professional\", \"Consider releasing an unedited version\"]\\n},\\n\"Create cover art for audiobook\": {\\n\"next_modes\": [\"Publish both print and audiobook versions\"],\\n\"failure\": [\"Retry with different design concepts\", \"Use stock art as temporary solution\", \"Delay publication until cover art is satisfactory\"]\\n},\\n\"Publish both print and audiobook versions\": {\\n\"next_modes\": [],\\n\"failure\": [\"Retry with different distribution channels\", \"Seek legal advice for copyright issues\", \"Document the process for future improvement\"]\\n}\\n}</s>'"
            ],
            "application/vnd.google.colaboratory.intrinsic+json": {
              "type": "string"
            }
          },
          "metadata": {},
          "execution_count": 98
        }
      ]
    },
    {
      "cell_type": "code",
      "source": [
        "test_data_90['Detailed']"
      ],
      "metadata": {
        "colab": {
          "base_uri": "https://localhost:8080/",
          "height": 188
        },
        "id": "EScWl2ALQF3z",
        "outputId": "2474ce8e-890e-4909-eb1c-96c0b5d32f66"
      },
      "execution_count": null,
      "outputs": [
        {
          "output_type": "display_data",
          "data": {
            "text/plain": [
              "<IPython.core.display.HTML object>"
            ],
            "text/html": [
              "\n",
              "  <style>\n",
              "    pre {\n",
              "        white-space: pre-wrap;\n",
              "    }\n",
              "  </style>\n",
              "  "
            ]
          },
          "metadata": {}
        },
        {
          "output_type": "execute_result",
          "data": {
            "text/plain": [
              "'{\"Develop a captivating plot for the children\\'s book with a meaningful moral, and write the manuscript catering to a young audience\": {\\'next_modes\\': [\\'Create engaging and colorful illustrations that complement the story narrative\\', \\'Narrate and record the story with expressive voice modulation to captivate young listeners\\'], \\'failure\\': [\"Retry the story development with feedback from children\\'s focus groups\", \\'Fallback Content by adapting well-known fairy tales with a unique twist\\', \\'Request Human Intervention for creative direction\\']}, \\'Create engaging and colorful illustrations that complement the story narrative, using a style that appeals to children\\': {\\'next_modes\\': [\\'Narrate and record the story with expressive voice modulation to captivate young listeners\\'], \\'failure\\': [\\'Retry illustration with different art styles or mediums based on feedback\\', \\'Switch to Different Mode by considering digital illustration techniques\\', \"Log and Analyze preferences in children\\'s illustrative books for better alignment\"]}, \\'Narrate and record the story with expressive voice modulation to captivate young listeners, ensuring high audio quality\\': {\\'next_modes\\': [\"Review the audiobook and illustrations for consistency and engagement, ensuring they match the intended age group\\'s preferences\"], \\'failure\\': [\\'Retry narration with improved recording equipment or environment\\', \\'Exit the project if consistent quality cannot be achieved\\', \\'Quality Assurance Check for audio clarity and suitability for children\\']}, \"Review the audiobook and illustrations for consistency and engagement, ensuring they match the intended age group\\'s preferences\": {\\'next_modes\\': [], \\'failure\\': None}}'"
            ],
            "application/vnd.google.colaboratory.intrinsic+json": {
              "type": "string"
            }
          },
          "metadata": {},
          "execution_count": 85
        }
      ]
    },
    {
      "cell_type": "code",
      "source": [
        "from tqdm import tqdm\n",
        "\n",
        "outputs_blueprint=[]\n",
        "for i in tqdm(range(len(test_data_blueprint))):\n",
        "  pred_prompt_blueprint_category=format_prediction_blueprint_instruct_fn(test_data_blueprint[i])\n",
        "\n",
        "  output_blueprint=get_completion(pred_prompt_blueprint_category+additional_info_blueprint, model, tokenizer, stop_keywords, KeywordsStoppingCriteria)\n",
        "\n",
        "  outputs_blueprint.append(output_blueprint)\n",
        "\n",
        "print(outputs_blueprint)"
      ],
      "metadata": {
        "colab": {
          "base_uri": "https://localhost:8080/",
          "height": 1000
        },
        "id": "MaRxuIHvXZd0",
        "outputId": "034cd4ae-db51-446f-a972-6d36d5c88941"
      },
      "execution_count": null,
      "outputs": [
        {
          "output_type": "display_data",
          "data": {
            "text/plain": [
              "<IPython.core.display.HTML object>"
            ],
            "text/html": [
              "\n",
              "  <style>\n",
              "    pre {\n",
              "        white-space: pre-wrap;\n",
              "    }\n",
              "  </style>\n",
              "  "
            ]
          },
          "metadata": {}
        },
        {
          "output_type": "stream",
          "name": "stderr",
          "text": [
            "\r  0%|          | 0/101 [00:00<?, ?it/s]The attention mask and the pad token id were not set. As a consequence, you may observe unexpected behavior. Please pass your input's `attention_mask` to obtain reliable results.\n",
            "Setting `pad_token_id` to `eos_token_id`:2 for open-end generation.\n",
            "  1%|          | 1/101 [00:12<21:14, 12.74s/it]The attention mask and the pad token id were not set. As a consequence, you may observe unexpected behavior. Please pass your input's `attention_mask` to obtain reliable results.\n",
            "Setting `pad_token_id` to `eos_token_id`:2 for open-end generation.\n",
            "  2%|▏         | 2/101 [00:37<32:45, 19.85s/it]The attention mask and the pad token id were not set. As a consequence, you may observe unexpected behavior. Please pass your input's `attention_mask` to obtain reliable results.\n",
            "Setting `pad_token_id` to `eos_token_id`:2 for open-end generation.\n",
            "  3%|▎         | 3/101 [00:54<30:22, 18.60s/it]The attention mask and the pad token id were not set. As a consequence, you may observe unexpected behavior. Please pass your input's `attention_mask` to obtain reliable results.\n",
            "Setting `pad_token_id` to `eos_token_id`:2 for open-end generation.\n",
            "  4%|▍         | 4/101 [01:46<51:06, 31.61s/it]The attention mask and the pad token id were not set. As a consequence, you may observe unexpected behavior. Please pass your input's `attention_mask` to obtain reliable results.\n",
            "Setting `pad_token_id` to `eos_token_id`:2 for open-end generation.\n",
            "  5%|▍         | 5/101 [02:03<42:23, 26.50s/it]The attention mask and the pad token id were not set. As a consequence, you may observe unexpected behavior. Please pass your input's `attention_mask` to obtain reliable results.\n",
            "Setting `pad_token_id` to `eos_token_id`:2 for open-end generation.\n",
            "  6%|▌         | 6/101 [02:20<36:40, 23.16s/it]The attention mask and the pad token id were not set. As a consequence, you may observe unexpected behavior. Please pass your input's `attention_mask` to obtain reliable results.\n",
            "Setting `pad_token_id` to `eos_token_id`:2 for open-end generation.\n",
            "  7%|▋         | 7/101 [02:47<38:15, 24.42s/it]The attention mask and the pad token id were not set. As a consequence, you may observe unexpected behavior. Please pass your input's `attention_mask` to obtain reliable results.\n",
            "Setting `pad_token_id` to `eos_token_id`:2 for open-end generation.\n",
            "  8%|▊         | 8/101 [03:14<39:23, 25.41s/it]The attention mask and the pad token id were not set. As a consequence, you may observe unexpected behavior. Please pass your input's `attention_mask` to obtain reliable results.\n",
            "Setting `pad_token_id` to `eos_token_id`:2 for open-end generation.\n",
            "  9%|▉         | 9/101 [03:36<36:56, 24.09s/it]The attention mask and the pad token id were not set. As a consequence, you may observe unexpected behavior. Please pass your input's `attention_mask` to obtain reliable results.\n",
            "Setting `pad_token_id` to `eos_token_id`:2 for open-end generation.\n",
            " 10%|▉         | 10/101 [03:58<35:43, 23.55s/it]The attention mask and the pad token id were not set. As a consequence, you may observe unexpected behavior. Please pass your input's `attention_mask` to obtain reliable results.\n",
            "Setting `pad_token_id` to `eos_token_id`:2 for open-end generation.\n",
            " 11%|█         | 11/101 [04:22<35:37, 23.75s/it]The attention mask and the pad token id were not set. As a consequence, you may observe unexpected behavior. Please pass your input's `attention_mask` to obtain reliable results.\n",
            "Setting `pad_token_id` to `eos_token_id`:2 for open-end generation.\n",
            " 12%|█▏        | 12/101 [04:42<33:22, 22.51s/it]The attention mask and the pad token id were not set. As a consequence, you may observe unexpected behavior. Please pass your input's `attention_mask` to obtain reliable results.\n",
            "Setting `pad_token_id` to `eos_token_id`:2 for open-end generation.\n",
            " 13%|█▎        | 13/101 [05:29<44:05, 30.07s/it]The attention mask and the pad token id were not set. As a consequence, you may observe unexpected behavior. Please pass your input's `attention_mask` to obtain reliable results.\n",
            "Setting `pad_token_id` to `eos_token_id`:2 for open-end generation.\n",
            " 14%|█▍        | 14/101 [05:46<37:40, 25.99s/it]The attention mask and the pad token id were not set. As a consequence, you may observe unexpected behavior. Please pass your input's `attention_mask` to obtain reliable results.\n",
            "Setting `pad_token_id` to `eos_token_id`:2 for open-end generation.\n",
            " 15%|█▍        | 15/101 [06:04<33:57, 23.69s/it]The attention mask and the pad token id were not set. As a consequence, you may observe unexpected behavior. Please pass your input's `attention_mask` to obtain reliable results.\n",
            "Setting `pad_token_id` to `eos_token_id`:2 for open-end generation.\n",
            " 16%|█▌        | 16/101 [06:23<31:31, 22.26s/it]The attention mask and the pad token id were not set. As a consequence, you may observe unexpected behavior. Please pass your input's `attention_mask` to obtain reliable results.\n",
            "Setting `pad_token_id` to `eos_token_id`:2 for open-end generation.\n",
            " 17%|█▋        | 17/101 [06:38<27:53, 19.92s/it]The attention mask and the pad token id were not set. As a consequence, you may observe unexpected behavior. Please pass your input's `attention_mask` to obtain reliable results.\n",
            "Setting `pad_token_id` to `eos_token_id`:2 for open-end generation.\n",
            " 18%|█▊        | 18/101 [06:56<26:53, 19.44s/it]The attention mask and the pad token id were not set. As a consequence, you may observe unexpected behavior. Please pass your input's `attention_mask` to obtain reliable results.\n",
            "Setting `pad_token_id` to `eos_token_id`:2 for open-end generation.\n",
            " 19%|█▉        | 19/101 [07:08<23:33, 17.24s/it]The attention mask and the pad token id were not set. As a consequence, you may observe unexpected behavior. Please pass your input's `attention_mask` to obtain reliable results.\n",
            "Setting `pad_token_id` to `eos_token_id`:2 for open-end generation.\n",
            " 20%|█▉        | 20/101 [07:31<25:34, 18.94s/it]The attention mask and the pad token id were not set. As a consequence, you may observe unexpected behavior. Please pass your input's `attention_mask` to obtain reliable results.\n",
            "Setting `pad_token_id` to `eos_token_id`:2 for open-end generation.\n",
            " 21%|██        | 21/101 [07:55<27:22, 20.53s/it]The attention mask and the pad token id were not set. As a consequence, you may observe unexpected behavior. Please pass your input's `attention_mask` to obtain reliable results.\n",
            "Setting `pad_token_id` to `eos_token_id`:2 for open-end generation.\n",
            " 22%|██▏       | 22/101 [08:21<29:13, 22.20s/it]The attention mask and the pad token id were not set. As a consequence, you may observe unexpected behavior. Please pass your input's `attention_mask` to obtain reliable results.\n",
            "Setting `pad_token_id` to `eos_token_id`:2 for open-end generation.\n",
            " 23%|██▎       | 23/101 [08:38<26:38, 20.49s/it]The attention mask and the pad token id were not set. As a consequence, you may observe unexpected behavior. Please pass your input's `attention_mask` to obtain reliable results.\n",
            "Setting `pad_token_id` to `eos_token_id`:2 for open-end generation.\n",
            " 24%|██▍       | 24/101 [08:54<24:28, 19.07s/it]The attention mask and the pad token id were not set. As a consequence, you may observe unexpected behavior. Please pass your input's `attention_mask` to obtain reliable results.\n",
            "Setting `pad_token_id` to `eos_token_id`:2 for open-end generation.\n",
            " 25%|██▍       | 25/101 [09:10<23:11, 18.32s/it]The attention mask and the pad token id were not set. As a consequence, you may observe unexpected behavior. Please pass your input's `attention_mask` to obtain reliable results.\n",
            "Setting `pad_token_id` to `eos_token_id`:2 for open-end generation.\n",
            " 26%|██▌       | 26/101 [09:34<24:50, 19.87s/it]The attention mask and the pad token id were not set. As a consequence, you may observe unexpected behavior. Please pass your input's `attention_mask` to obtain reliable results.\n",
            "Setting `pad_token_id` to `eos_token_id`:2 for open-end generation.\n",
            " 27%|██▋       | 27/101 [09:47<22:16, 18.06s/it]The attention mask and the pad token id were not set. As a consequence, you may observe unexpected behavior. Please pass your input's `attention_mask` to obtain reliable results.\n",
            "Setting `pad_token_id` to `eos_token_id`:2 for open-end generation.\n",
            " 28%|██▊       | 28/101 [10:17<26:15, 21.59s/it]The attention mask and the pad token id were not set. As a consequence, you may observe unexpected behavior. Please pass your input's `attention_mask` to obtain reliable results.\n",
            "Setting `pad_token_id` to `eos_token_id`:2 for open-end generation.\n",
            " 29%|██▊       | 29/101 [10:36<24:43, 20.60s/it]The attention mask and the pad token id were not set. As a consequence, you may observe unexpected behavior. Please pass your input's `attention_mask` to obtain reliable results.\n",
            "Setting `pad_token_id` to `eos_token_id`:2 for open-end generation.\n",
            " 30%|██▉       | 30/101 [10:54<23:38, 19.97s/it]The attention mask and the pad token id were not set. As a consequence, you may observe unexpected behavior. Please pass your input's `attention_mask` to obtain reliable results.\n",
            "Setting `pad_token_id` to `eos_token_id`:2 for open-end generation.\n",
            " 31%|███       | 31/101 [11:15<23:41, 20.30s/it]The attention mask and the pad token id were not set. As a consequence, you may observe unexpected behavior. Please pass your input's `attention_mask` to obtain reliable results.\n",
            "Setting `pad_token_id` to `eos_token_id`:2 for open-end generation.\n",
            " 32%|███▏      | 32/101 [11:27<20:30, 17.83s/it]The attention mask and the pad token id were not set. As a consequence, you may observe unexpected behavior. Please pass your input's `attention_mask` to obtain reliable results.\n",
            "Setting `pad_token_id` to `eos_token_id`:2 for open-end generation.\n",
            " 33%|███▎      | 33/101 [11:54<23:06, 20.39s/it]The attention mask and the pad token id were not set. As a consequence, you may observe unexpected behavior. Please pass your input's `attention_mask` to obtain reliable results.\n",
            "Setting `pad_token_id` to `eos_token_id`:2 for open-end generation.\n",
            " 34%|███▎      | 34/101 [12:12<21:57, 19.67s/it]The attention mask and the pad token id were not set. As a consequence, you may observe unexpected behavior. Please pass your input's `attention_mask` to obtain reliable results.\n",
            "Setting `pad_token_id` to `eos_token_id`:2 for open-end generation.\n",
            " 35%|███▍      | 35/101 [12:29<20:58, 19.07s/it]The attention mask and the pad token id were not set. As a consequence, you may observe unexpected behavior. Please pass your input's `attention_mask` to obtain reliable results.\n",
            "Setting `pad_token_id` to `eos_token_id`:2 for open-end generation.\n",
            " 36%|███▌      | 36/101 [12:54<22:37, 20.89s/it]The attention mask and the pad token id were not set. As a consequence, you may observe unexpected behavior. Please pass your input's `attention_mask` to obtain reliable results.\n",
            "Setting `pad_token_id` to `eos_token_id`:2 for open-end generation.\n",
            " 37%|███▋      | 37/101 [13:18<23:17, 21.84s/it]The attention mask and the pad token id were not set. As a consequence, you may observe unexpected behavior. Please pass your input's `attention_mask` to obtain reliable results.\n",
            "Setting `pad_token_id` to `eos_token_id`:2 for open-end generation.\n",
            " 38%|███▊      | 38/101 [13:42<23:26, 22.32s/it]The attention mask and the pad token id were not set. As a consequence, you may observe unexpected behavior. Please pass your input's `attention_mask` to obtain reliable results.\n",
            "Setting `pad_token_id` to `eos_token_id`:2 for open-end generation.\n",
            " 39%|███▊      | 39/101 [13:57<20:52, 20.21s/it]The attention mask and the pad token id were not set. As a consequence, you may observe unexpected behavior. Please pass your input's `attention_mask` to obtain reliable results.\n",
            "Setting `pad_token_id` to `eos_token_id`:2 for open-end generation.\n",
            " 40%|███▉      | 40/101 [14:39<27:06, 26.66s/it]The attention mask and the pad token id were not set. As a consequence, you may observe unexpected behavior. Please pass your input's `attention_mask` to obtain reliable results.\n",
            "Setting `pad_token_id` to `eos_token_id`:2 for open-end generation.\n",
            " 41%|████      | 41/101 [14:55<23:22, 23.38s/it]The attention mask and the pad token id were not set. As a consequence, you may observe unexpected behavior. Please pass your input's `attention_mask` to obtain reliable results.\n",
            "Setting `pad_token_id` to `eos_token_id`:2 for open-end generation.\n",
            " 42%|████▏     | 42/101 [15:13<21:27, 21.82s/it]The attention mask and the pad token id were not set. As a consequence, you may observe unexpected behavior. Please pass your input's `attention_mask` to obtain reliable results.\n",
            "Setting `pad_token_id` to `eos_token_id`:2 for open-end generation.\n",
            " 43%|████▎     | 43/101 [15:25<18:18, 18.94s/it]The attention mask and the pad token id were not set. As a consequence, you may observe unexpected behavior. Please pass your input's `attention_mask` to obtain reliable results.\n",
            "Setting `pad_token_id` to `eos_token_id`:2 for open-end generation.\n",
            " 44%|████▎     | 44/101 [15:51<19:56, 20.99s/it]The attention mask and the pad token id were not set. As a consequence, you may observe unexpected behavior. Please pass your input's `attention_mask` to obtain reliable results.\n",
            "Setting `pad_token_id` to `eos_token_id`:2 for open-end generation.\n",
            " 45%|████▍     | 45/101 [16:17<21:10, 22.68s/it]The attention mask and the pad token id were not set. As a consequence, you may observe unexpected behavior. Please pass your input's `attention_mask` to obtain reliable results.\n",
            "Setting `pad_token_id` to `eos_token_id`:2 for open-end generation.\n",
            " 46%|████▌     | 46/101 [16:50<23:35, 25.74s/it]The attention mask and the pad token id were not set. As a consequence, you may observe unexpected behavior. Please pass your input's `attention_mask` to obtain reliable results.\n",
            "Setting `pad_token_id` to `eos_token_id`:2 for open-end generation.\n",
            " 47%|████▋     | 47/101 [17:03<19:45, 21.96s/it]The attention mask and the pad token id were not set. As a consequence, you may observe unexpected behavior. Please pass your input's `attention_mask` to obtain reliable results.\n",
            "Setting `pad_token_id` to `eos_token_id`:2 for open-end generation.\n",
            " 48%|████▊     | 48/101 [17:24<18:59, 21.51s/it]The attention mask and the pad token id were not set. As a consequence, you may observe unexpected behavior. Please pass your input's `attention_mask` to obtain reliable results.\n",
            "Setting `pad_token_id` to `eos_token_id`:2 for open-end generation.\n",
            " 49%|████▊     | 49/101 [17:41<17:34, 20.28s/it]The attention mask and the pad token id were not set. As a consequence, you may observe unexpected behavior. Please pass your input's `attention_mask` to obtain reliable results.\n",
            "Setting `pad_token_id` to `eos_token_id`:2 for open-end generation.\n",
            " 50%|████▉     | 50/101 [17:59<16:40, 19.61s/it]The attention mask and the pad token id were not set. As a consequence, you may observe unexpected behavior. Please pass your input's `attention_mask` to obtain reliable results.\n",
            "Setting `pad_token_id` to `eos_token_id`:2 for open-end generation.\n",
            " 50%|█████     | 51/101 [18:15<15:22, 18.45s/it]The attention mask and the pad token id were not set. As a consequence, you may observe unexpected behavior. Please pass your input's `attention_mask` to obtain reliable results.\n",
            "Setting `pad_token_id` to `eos_token_id`:2 for open-end generation.\n",
            " 51%|█████▏    | 52/101 [18:36<15:45, 19.30s/it]The attention mask and the pad token id were not set. As a consequence, you may observe unexpected behavior. Please pass your input's `attention_mask` to obtain reliable results.\n",
            "Setting `pad_token_id` to `eos_token_id`:2 for open-end generation.\n",
            " 52%|█████▏    | 53/101 [18:54<14:55, 18.67s/it]The attention mask and the pad token id were not set. As a consequence, you may observe unexpected behavior. Please pass your input's `attention_mask` to obtain reliable results.\n",
            "Setting `pad_token_id` to `eos_token_id`:2 for open-end generation.\n",
            " 53%|█████▎    | 54/101 [19:11<14:15, 18.19s/it]The attention mask and the pad token id were not set. As a consequence, you may observe unexpected behavior. Please pass your input's `attention_mask` to obtain reliable results.\n",
            "Setting `pad_token_id` to `eos_token_id`:2 for open-end generation.\n",
            " 54%|█████▍    | 55/101 [19:45<17:37, 22.99s/it]The attention mask and the pad token id were not set. As a consequence, you may observe unexpected behavior. Please pass your input's `attention_mask` to obtain reliable results.\n",
            "Setting `pad_token_id` to `eos_token_id`:2 for open-end generation.\n",
            " 55%|█████▌    | 56/101 [19:59<15:15, 20.34s/it]The attention mask and the pad token id were not set. As a consequence, you may observe unexpected behavior. Please pass your input's `attention_mask` to obtain reliable results.\n",
            "Setting `pad_token_id` to `eos_token_id`:2 for open-end generation.\n",
            " 56%|█████▋    | 57/101 [20:10<12:50, 17.50s/it]The attention mask and the pad token id were not set. As a consequence, you may observe unexpected behavior. Please pass your input's `attention_mask` to obtain reliable results.\n",
            "Setting `pad_token_id` to `eos_token_id`:2 for open-end generation.\n",
            " 57%|█████▋    | 58/101 [20:32<13:35, 18.96s/it]The attention mask and the pad token id were not set. As a consequence, you may observe unexpected behavior. Please pass your input's `attention_mask` to obtain reliable results.\n",
            "Setting `pad_token_id` to `eos_token_id`:2 for open-end generation.\n",
            " 58%|█████▊    | 59/101 [20:54<13:48, 19.73s/it]The attention mask and the pad token id were not set. As a consequence, you may observe unexpected behavior. Please pass your input's `attention_mask` to obtain reliable results.\n",
            "Setting `pad_token_id` to `eos_token_id`:2 for open-end generation.\n",
            " 59%|█████▉    | 60/101 [21:26<16:03, 23.50s/it]The attention mask and the pad token id were not set. As a consequence, you may observe unexpected behavior. Please pass your input's `attention_mask` to obtain reliable results.\n",
            "Setting `pad_token_id` to `eos_token_id`:2 for open-end generation.\n",
            " 60%|██████    | 61/101 [21:56<16:52, 25.31s/it]The attention mask and the pad token id were not set. As a consequence, you may observe unexpected behavior. Please pass your input's `attention_mask` to obtain reliable results.\n",
            "Setting `pad_token_id` to `eos_token_id`:2 for open-end generation.\n",
            " 61%|██████▏   | 62/101 [22:07<13:47, 21.23s/it]The attention mask and the pad token id were not set. As a consequence, you may observe unexpected behavior. Please pass your input's `attention_mask` to obtain reliable results.\n",
            "Setting `pad_token_id` to `eos_token_id`:2 for open-end generation.\n",
            " 62%|██████▏   | 63/101 [22:26<12:53, 20.36s/it]The attention mask and the pad token id were not set. As a consequence, you may observe unexpected behavior. Please pass your input's `attention_mask` to obtain reliable results.\n",
            "Setting `pad_token_id` to `eos_token_id`:2 for open-end generation.\n",
            " 63%|██████▎   | 64/101 [23:09<16:54, 27.41s/it]The attention mask and the pad token id were not set. As a consequence, you may observe unexpected behavior. Please pass your input's `attention_mask` to obtain reliable results.\n",
            "Setting `pad_token_id` to `eos_token_id`:2 for open-end generation.\n",
            " 64%|██████▍   | 65/101 [23:22<13:50, 23.07s/it]The attention mask and the pad token id were not set. As a consequence, you may observe unexpected behavior. Please pass your input's `attention_mask` to obtain reliable results.\n",
            "Setting `pad_token_id` to `eos_token_id`:2 for open-end generation.\n",
            " 65%|██████▌   | 66/101 [23:43<13:06, 22.46s/it]The attention mask and the pad token id were not set. As a consequence, you may observe unexpected behavior. Please pass your input's `attention_mask` to obtain reliable results.\n",
            "Setting `pad_token_id` to `eos_token_id`:2 for open-end generation.\n",
            " 66%|██████▋   | 67/101 [23:55<10:53, 19.23s/it]The attention mask and the pad token id were not set. As a consequence, you may observe unexpected behavior. Please pass your input's `attention_mask` to obtain reliable results.\n",
            "Setting `pad_token_id` to `eos_token_id`:2 for open-end generation.\n",
            " 67%|██████▋   | 68/101 [24:27<12:38, 22.97s/it]The attention mask and the pad token id were not set. As a consequence, you may observe unexpected behavior. Please pass your input's `attention_mask` to obtain reliable results.\n",
            "Setting `pad_token_id` to `eos_token_id`:2 for open-end generation.\n",
            " 68%|██████▊   | 69/101 [24:55<13:05, 24.54s/it]The attention mask and the pad token id were not set. As a consequence, you may observe unexpected behavior. Please pass your input's `attention_mask` to obtain reliable results.\n",
            "Setting `pad_token_id` to `eos_token_id`:2 for open-end generation.\n",
            " 69%|██████▉   | 70/101 [25:20<12:47, 24.76s/it]The attention mask and the pad token id were not set. As a consequence, you may observe unexpected behavior. Please pass your input's `attention_mask` to obtain reliable results.\n",
            "Setting `pad_token_id` to `eos_token_id`:2 for open-end generation.\n",
            " 70%|███████   | 71/101 [25:42<11:56, 23.87s/it]The attention mask and the pad token id were not set. As a consequence, you may observe unexpected behavior. Please pass your input's `attention_mask` to obtain reliable results.\n",
            "Setting `pad_token_id` to `eos_token_id`:2 for open-end generation.\n",
            " 71%|███████▏  | 72/101 [26:14<12:43, 26.32s/it]The attention mask and the pad token id were not set. As a consequence, you may observe unexpected behavior. Please pass your input's `attention_mask` to obtain reliable results.\n",
            "Setting `pad_token_id` to `eos_token_id`:2 for open-end generation.\n",
            " 72%|███████▏  | 73/101 [26:47<13:11, 28.25s/it]The attention mask and the pad token id were not set. As a consequence, you may observe unexpected behavior. Please pass your input's `attention_mask` to obtain reliable results.\n",
            "Setting `pad_token_id` to `eos_token_id`:2 for open-end generation.\n",
            " 73%|███████▎  | 74/101 [27:15<12:41, 28.20s/it]The attention mask and the pad token id were not set. As a consequence, you may observe unexpected behavior. Please pass your input's `attention_mask` to obtain reliable results.\n",
            "Setting `pad_token_id` to `eos_token_id`:2 for open-end generation.\n",
            " 74%|███████▍  | 75/101 [27:35<11:11, 25.82s/it]The attention mask and the pad token id were not set. As a consequence, you may observe unexpected behavior. Please pass your input's `attention_mask` to obtain reliable results.\n",
            "Setting `pad_token_id` to `eos_token_id`:2 for open-end generation.\n",
            " 75%|███████▌  | 76/101 [27:55<10:03, 24.14s/it]The attention mask and the pad token id were not set. As a consequence, you may observe unexpected behavior. Please pass your input's `attention_mask` to obtain reliable results.\n",
            "Setting `pad_token_id` to `eos_token_id`:2 for open-end generation.\n",
            " 76%|███████▌  | 77/101 [28:10<08:26, 21.12s/it]The attention mask and the pad token id were not set. As a consequence, you may observe unexpected behavior. Please pass your input's `attention_mask` to obtain reliable results.\n",
            "Setting `pad_token_id` to `eos_token_id`:2 for open-end generation.\n",
            " 77%|███████▋  | 78/101 [28:23<07:10, 18.73s/it]The attention mask and the pad token id were not set. As a consequence, you may observe unexpected behavior. Please pass your input's `attention_mask` to obtain reliable results.\n",
            "Setting `pad_token_id` to `eos_token_id`:2 for open-end generation.\n",
            " 78%|███████▊  | 79/101 [28:48<07:37, 20.80s/it]The attention mask and the pad token id were not set. As a consequence, you may observe unexpected behavior. Please pass your input's `attention_mask` to obtain reliable results.\n",
            "Setting `pad_token_id` to `eos_token_id`:2 for open-end generation.\n",
            " 79%|███████▉  | 80/101 [29:25<08:57, 25.61s/it]The attention mask and the pad token id were not set. As a consequence, you may observe unexpected behavior. Please pass your input's `attention_mask` to obtain reliable results.\n",
            "Setting `pad_token_id` to `eos_token_id`:2 for open-end generation.\n",
            " 80%|████████  | 81/101 [29:54<08:54, 26.72s/it]The attention mask and the pad token id were not set. As a consequence, you may observe unexpected behavior. Please pass your input's `attention_mask` to obtain reliable results.\n",
            "Setting `pad_token_id` to `eos_token_id`:2 for open-end generation.\n",
            " 81%|████████  | 82/101 [30:31<09:21, 29.54s/it]The attention mask and the pad token id were not set. As a consequence, you may observe unexpected behavior. Please pass your input's `attention_mask` to obtain reliable results.\n",
            "Setting `pad_token_id` to `eos_token_id`:2 for open-end generation.\n",
            " 82%|████████▏ | 83/101 [30:43<07:18, 24.36s/it]The attention mask and the pad token id were not set. As a consequence, you may observe unexpected behavior. Please pass your input's `attention_mask` to obtain reliable results.\n",
            "Setting `pad_token_id` to `eos_token_id`:2 for open-end generation.\n",
            " 83%|████████▎ | 84/101 [30:53<05:43, 20.24s/it]The attention mask and the pad token id were not set. As a consequence, you may observe unexpected behavior. Please pass your input's `attention_mask` to obtain reliable results.\n",
            "Setting `pad_token_id` to `eos_token_id`:2 for open-end generation.\n",
            " 84%|████████▍ | 85/101 [31:12<05:17, 19.87s/it]The attention mask and the pad token id were not set. As a consequence, you may observe unexpected behavior. Please pass your input's `attention_mask` to obtain reliable results.\n",
            "Setting `pad_token_id` to `eos_token_id`:2 for open-end generation.\n",
            " 85%|████████▌ | 86/101 [31:31<04:54, 19.61s/it]The attention mask and the pad token id were not set. As a consequence, you may observe unexpected behavior. Please pass your input's `attention_mask` to obtain reliable results.\n",
            "Setting `pad_token_id` to `eos_token_id`:2 for open-end generation.\n",
            " 86%|████████▌ | 87/101 [32:25<06:58, 29.92s/it]The attention mask and the pad token id were not set. As a consequence, you may observe unexpected behavior. Please pass your input's `attention_mask` to obtain reliable results.\n",
            "Setting `pad_token_id` to `eos_token_id`:2 for open-end generation.\n",
            " 87%|████████▋ | 88/101 [33:08<07:17, 33.65s/it]The attention mask and the pad token id were not set. As a consequence, you may observe unexpected behavior. Please pass your input's `attention_mask` to obtain reliable results.\n",
            "Setting `pad_token_id` to `eos_token_id`:2 for open-end generation.\n",
            " 88%|████████▊ | 89/101 [33:34<06:16, 31.39s/it]The attention mask and the pad token id were not set. As a consequence, you may observe unexpected behavior. Please pass your input's `attention_mask` to obtain reliable results.\n",
            "Setting `pad_token_id` to `eos_token_id`:2 for open-end generation.\n",
            " 89%|████████▉ | 90/101 [34:04<05:41, 31.02s/it]The attention mask and the pad token id were not set. As a consequence, you may observe unexpected behavior. Please pass your input's `attention_mask` to obtain reliable results.\n",
            "Setting `pad_token_id` to `eos_token_id`:2 for open-end generation.\n",
            " 90%|█████████ | 91/101 [34:34<05:07, 30.80s/it]The attention mask and the pad token id were not set. As a consequence, you may observe unexpected behavior. Please pass your input's `attention_mask` to obtain reliable results.\n",
            "Setting `pad_token_id` to `eos_token_id`:2 for open-end generation.\n",
            " 91%|█████████ | 92/101 [35:14<05:00, 33.43s/it]The attention mask and the pad token id were not set. As a consequence, you may observe unexpected behavior. Please pass your input's `attention_mask` to obtain reliable results.\n",
            "Setting `pad_token_id` to `eos_token_id`:2 for open-end generation.\n",
            " 92%|█████████▏| 93/101 [35:45<04:22, 32.85s/it]The attention mask and the pad token id were not set. As a consequence, you may observe unexpected behavior. Please pass your input's `attention_mask` to obtain reliable results.\n",
            "Setting `pad_token_id` to `eos_token_id`:2 for open-end generation.\n",
            " 93%|█████████▎| 94/101 [35:57<03:04, 26.41s/it]The attention mask and the pad token id were not set. As a consequence, you may observe unexpected behavior. Please pass your input's `attention_mask` to obtain reliable results.\n",
            "Setting `pad_token_id` to `eos_token_id`:2 for open-end generation.\n",
            " 94%|█████████▍| 95/101 [36:09<02:12, 22.09s/it]The attention mask and the pad token id were not set. As a consequence, you may observe unexpected behavior. Please pass your input's `attention_mask` to obtain reliable results.\n",
            "Setting `pad_token_id` to `eos_token_id`:2 for open-end generation.\n",
            " 95%|█████████▌| 96/101 [36:26<01:42, 20.54s/it]The attention mask and the pad token id were not set. As a consequence, you may observe unexpected behavior. Please pass your input's `attention_mask` to obtain reliable results.\n",
            "Setting `pad_token_id` to `eos_token_id`:2 for open-end generation.\n",
            " 96%|█████████▌| 97/101 [37:00<01:38, 24.57s/it]The attention mask and the pad token id were not set. As a consequence, you may observe unexpected behavior. Please pass your input's `attention_mask` to obtain reliable results.\n",
            "Setting `pad_token_id` to `eos_token_id`:2 for open-end generation.\n",
            " 97%|█████████▋| 98/101 [37:17<01:07, 22.34s/it]The attention mask and the pad token id were not set. As a consequence, you may observe unexpected behavior. Please pass your input's `attention_mask` to obtain reliable results.\n",
            "Setting `pad_token_id` to `eos_token_id`:2 for open-end generation.\n",
            " 98%|█████████▊| 99/101 [37:29<00:38, 19.25s/it]The attention mask and the pad token id were not set. As a consequence, you may observe unexpected behavior. Please pass your input's `attention_mask` to obtain reliable results.\n",
            "Setting `pad_token_id` to `eos_token_id`:2 for open-end generation.\n",
            " 99%|█████████▉| 100/101 [37:52<00:20, 20.38s/it]The attention mask and the pad token id were not set. As a consequence, you may observe unexpected behavior. Please pass your input's `attention_mask` to obtain reliable results.\n",
            "Setting `pad_token_id` to `eos_token_id`:2 for open-end generation.\n",
            "100%|██████████| 101/101 [38:25<00:00, 22.82s/it]"
          ]
        },
        {
          "output_type": "stream",
          "name": "stdout",
          "text": [
            "[\"{'Develop VR tour of the solar system': {'next_modes': ['Write educational guide'], 'failure': ['Retry with different VR software', 'Switch to 2D animation', 'Request human intervention']},\\n'Write educational guide': {'next_modes': ['Analyzer'], 'failure': ['Retry with different writing style', 'Use pre-existing content', 'Request human intervention']}}</s>\", \"{'Scripting': {'next_modes': ['Shooting product shots'], 'failure': ['Retry with different script ideas', 'Switch to a different scripting approach', 'Fallback to stock scripts']},\\n'Shooting product shots': {'next_modes': ['Composing background music'], 'failure': ['Retry with different shooting angles', 'Switch to a different shooting location', 'Fallback to stock images']},\\n'Composing background music': {'next_modes': ['Editing'], 'failure': ['Retry with different music styles', 'Switch to a different music source', 'Fallback to silence']},\\n'Editing': {'next_modes': ['Analyzer'], 'failure': ['Retry with different editing techniques', 'Switch to a different editing software', 'Fallback to a simple video']}}</s>\", \"{'Narrated animation creation': {'next_modes': ['Interactive quiz development', 'VR tour design'], 'failure': ['Retry', 'Switch to different animation style', 'Fallback Content']},\\n'Interactive quiz development': {'next_modes': ['VR tour design'], 'failure': ['Retry', 'Request Human Intervention', 'Alternative Content']},\\n'VR tour design': {'next_modes': ['Analyzer'], 'failure': ['Retry', 'Switch to different VR platform', 'Partial Content Delivery']}}</s>\", \"{'Translate novel to Language-1': {'next_modes': ['Translate novel to Language-2', 'Translate novel to Language-3', 'Create audiobook for Language-1'],\\n'failure': ['Retry with different translation software', 'Switch to a different translator', 'Fallback to a previously translated version']},\\n'Translate novel to Language-2': {'next_modes': ['Translate novel to Language-3', 'Create audiobook for Language-2'],\\n'failure': ['Retry with different translation software', 'Switch to a different translator', 'Fallback to a previously translated version']},\\n'Translate novel to Language-3': {'next_modes': ['Create audiobook for Language-3'], 'failure': ['Retry with different translation software', 'Switch to a different translator', 'Fallback to a previously translated version']},\\n'Create audiobook for Language-1': {'next_modes': ['Analyzer'], 'failure': ['Retry recording', 'Switch to a different voice actor', 'Fallback to a text-to-speech version']},\\n'Create audiobook for Language-2': {'next_modes': ['Analyzer'], 'failure': ['Retry recording', 'Switch to a different voice actor', 'Fallback to a text-to-speech version']},\\n'Create audiobook for Language-3': {'next_modes': ['Analyzer'], 'failure': ['Retry recording', 'Switch to a different voice actor', 'Fallback to a text-to-speech version']},\\n'Analyzer': {'next_modes': [], 'failure': None}}</s>\", \"{'Develop mobile app prototype': {'next_modes': ['Create user manual', 'Prepare presentation'], 'failure': ['Retry development', 'Switch to different app concept', 'Request expert assistance']},\\n 'Create user manual': {'next_modes': ['Prepare presentation'], 'failure': ['Retry creation', 'Use alternative formats', 'Seek professional help']},\\n 'Prepare presentation': {'next_modes': ['Analyzer'], 'failure': ['Retry preparation', 'Alter content to better suit audience', 'Consider alternative presentation methods']}}</s>\", \"{'Scriptwriting': {'next_modes': ['Filming'], 'failure': ['Retry with a different approach', 'Switch to a different script', 'Request human intervention']},\\n 'Filming': {'next_modes': ['Editing'], 'failure': ['Retry with a different setup', 'Switch to a different location', 'Request human intervention']},\\n 'Editing': {'next_modes': ['Analyzer'], 'failure': ['Retry with a different editing software', 'Switch to a different editing style', 'Request human intervention']}}</s>\", \"{'Research wildlife facts': {'next_modes': ['Film wildlife', 'Narrate facts'], 'failure': ['Retry research', 'Switch to different topic']},\\n 'Film wildlife': {'next_modes': ['Edit footage'], 'failure': ['Reshoot footage', 'Use stock footage']},\\n 'Narrate facts': {'next_modes': ['Edit narration'], 'failure': ['Retry narration', 'Use pre-written scripts']},\\n 'Edit footage': {'next_modes': ['Edit narration'], 'failure': ['Retry editing', 'Outsource editing']},\\n 'Edit narration': {'next_modes': ['Combine footage and narration'], 'failure': ['Retry editing', 'Use alternative narration']},\\n 'Combine footage and narration': {'next_modes': ['Analyzer'], 'failure': None}}</s>\", \"{'Design VR environment': {'next_modes': ['Create 3D models of planets', 'Develop interactive elements'], 'failure': ['Retry', 'Switch to alternative content', 'Request human intervention']},\\n'Create 3D models of planets': {'next_modes': ['Integrate models into VR environment'], 'failure': ['Retry', 'Fallback to pre-existing models', 'Log and analyze for future improvements']},\\n'Develop interactive elements': {'next_modes': ['Integrate elements into VR environment'], 'failure': ['Retry', 'Switch to alternative content', 'Log and analyze for future improvements']},\\n'Integrate models and elements': {'next_modes': ['Analyzer'], 'failure': ['Retry', 'Fallback to simpler design', 'Request human intervention']},\\n'Analyzer': {'next_modes': [], 'failure': None}}</s>\", \"{'Define campaign goals': {'next_modes': ['Select social media platforms', 'Create campaign content'], 'failure': ['Retry', 'Switch to Different Mode', 'Fallback Content']},\\n 'Select social media platforms': {'next_modes': ['Create campaign content'], 'failure': ['Retry', 'Switch to Different Mode', 'Alternative Platforms']},\\n 'Create campaign content': {'next_modes': ['Schedule posts'], 'failure': ['Retry', 'Request Human Intervention', 'Fallback Content']},\\n 'Schedule posts': {'next_modes': ['Analyzer'], 'failure': ['Retry', 'Switch to Different Mode', 'Partial Content Delivery']}}</s>\", \"{'Create explainer video script': {'next_modes': ['Produce explainer video'], 'failure': ['Retry script writing', 'Switch to different video format']},\\n 'Produce explainer video': {'next_modes': ['Write blog posts'], 'failure': ['Retry video production', 'Outsource to professional video editor']},\\n 'Write blog posts': {'next_modes': ['Create social media content'], 'failure': ['Retry writing', 'Switch to different blog format']},\\n 'Create social media content': {'next_modes': ['Analyzer'], 'failure': ['Retry content creation', 'Switch to different social media platform']},\\n 'Analyzer': {'next_modes': [], 'failure': None}}</s>\", \"{'Write e-book on Roman history': {'next_modes': ['Record video lectures', 'Design quiz'], 'failure': ['Retry writing', 'Switch to different topic', 'Request human intervention']},\\n'Record video lectures': {'next_modes': ['Edit videos'], 'failure': ['Retry recording', 'Use stock footage', 'Request human intervention']},\\n'Design quiz': {'next_modes': ['Analyzer'], 'failure': ['Retry designing', 'Use pre-existing quiz', 'Request human intervention']},\\n'Edit videos': {'next_modes': ['Analyzer'], 'failure': ['Retry editing', 'Use alternative video editing software', 'Request human intervention']},\\n'Analyzer': {'next_modes': [], 'failure': None}}</s>\", \"{'Research historical weather patterns': {'next_modes': ['Create predictive model', 'Develop educational video series'],\\n'failure': ['Retry research', 'Switch to different data source', 'Log and Analyze']},\\n'Create predictive model': {'next_modes': ['Develop educational video series'], 'failure': ['Retry model creation', 'Fallback to simpler model', 'Log and Analyze']},\\n'Develop educational video series': {'next_modes': ['Analyzer'], 'failure': ['Retry video development', 'Switch to different format', 'Log and Analyze']}}</s>\", \"{'Design UI/UX': {'next_modes': ['Develop interactive lessons', 'Create quizzes', 'Develop forum'], 'failure': ['Retry design', 'Switch to different design approach', 'Request human intervention']},\\n'Develop interactive lessons': {'next_modes': ['Integrate lessons into app'], 'failure': ['Retry development', 'Fallback to simpler lessons', 'Log and analyze errors']},\\n'Create quizzes': {'next_modes': ['Integrate quizzes into app'], 'failure': ['Retry creation', 'Use pre-existing quizzes', 'Log and analyze errors']},\\n'Develop forum': {'next_modes': ['Integrate forum into app'], 'failure': ['Retry development', 'Switch to different forum software', 'Log and analyze errors']},\\n'Integrate lessons into app': {'next_modes': ['Integrate quizzes into app', 'Integrate forum into app'], 'failure': ['Retry integration', 'Fallback to offline lessons', 'Log and analyze errors']},\\n'Integrate quizzes into app': {'next_modes': ['Integrate forum into app'], 'failure': ['Retry integration', 'Fallback to offline quizzes', 'Log and analyze errors']},\\n'Integrate forum into app': {'next_modes': ['Analyzer'], 'failure': ['Retry integration', 'Switch to different forum software', 'Log and analyze errors']},\\n'Analyzer': {'next_modes': [], 'failure': None}}</s>\", \"{'Translate story': {'next_modes': ['Record narration'], 'failure': ['Retry translation', 'Switch to different translation tool', 'Request human intervention']},\\n'Record narration': {'next_modes': ['Edit audio'], 'failure': ['Retry recording', 'Switch to different recording software', 'Use pre-recorded audio']},\\n'Edit audio': {'next_modes': ['Analyzer'], 'failure': ['Retry editing', 'Switch to different audio editing software', 'Consider publishing as-is']}}</s>\", \"{'Write storybook': {'next_modes': ['Illustrate storybook', 'Publish storybook'], 'failure': ['Retry writing, Request feedback, Switch to another story idea']},\\n'Illustrate storybook': {'next_modes': ['Publish storybook'], 'failure': ['Retry illustrating, Request feedback, Use stock images']},\\n'Publish storybook': {'next_modes': ['Analyzer'], 'failure': ['Retry publishing, Request feedback, Switch to digital publishing']},\\n'Analyzer': {'next_modes': [], 'failure': None}}</s>\", \"{'Translate story to Spanish': {'next_modes': ['Record narration in Spanish', 'Create audiobook'], 'failure': ['Retry translation', 'Switch to different translation tool', 'Request human intervention']},\\n'Record narration in Spanish': {'next_modes': ['Create audiobook'], 'failure': ['Retry recording', 'Switch to different recording software', 'Request human intervention']},\\n'Create audiobook': {'next_modes': ['Analyzer'], 'failure': ['Retry creation', 'Switch to different audiobook creation tool', 'Request human intervention']}}</s>\", \"{'Scriptwriting': {'next_modes': ['Filming'], 'failure': ['Retry with a different topic', 'Switch to a different video format']},\\n 'Filming': {'next_modes': ['Video editing'], 'failure': ['Retry with a different setup', 'Outsource to a professional']},\\n 'Video editing': {'next_modes': ['Analyzer'], 'failure': ['Retry with a different editing software', 'Request human intervention']}}</s>\", \"{'Analyze reviews': {'next_modes': ['Predict trends', 'Create presentation'],\\n'failure': ['Retry with different keywords', 'Switch to manual analysis', 'Log and Analyze']},\\n'Predict trends': {'next_modes': ['Create presentation'], 'failure': ['Retry with different algorithms', 'Fallback to industry reports', 'Log and Analyze']},\\n'Create presentation': {'next_modes': ['Analyzer'], 'failure': ['Retry with different visuals', 'Fallback to text-only presentation', 'Log and Analyze']}}</s>\", \"{'Compose a romantic poem': {'next_modes': ['Record a poem audio'], 'failure': ['Retry with different themes', 'Switch to a different genre', 'Request human intervention']},\\n'Record a poem audio': {'next_modes': ['Analyzer'], 'failure': ['Retry with improved recording quality', 'Switch to a different recording method', 'Request human intervention']}}</s>\", \"{'Design VR environment': {'next_modes': ['Create educational content', 'Develop interactive quizzes'], 'failure': ['Retry', 'Switch to alternative content', 'Request human intervention']},\\n 'Create educational content': {'next_modes': ['Integrate with VR environment'], 'failure': ['Retry', 'Fallback to textual content', 'Exit']},\\n 'Develop interactive quizzes': {'next_modes': ['Integrate with VR environment'], 'failure': ['Retry', 'Switch to alternative quiz format', 'Exit']},\\n 'Integrate with VR environment': {'next_modes': ['Analyzer'], 'failure': ['Retry', 'Fallback to static content', 'Exit']}}</s>\", \"{'Develop VR environment': {'next_modes': ['Create interactive elements', 'Record educational narration'],\\n'failure': ['Retry', 'Switch to alternative content', 'Request human intervention']},\\n'Create interactive elements': {'next_modes': ['Integrate with VR environment'],\\n'failure': ['Retry', 'Fallback to simpler elements', 'Log and analyze for future improvements']},\\n'Record educational narration': {'next_modes': ['Integrate with VR environment'],\\n'failure': ['Retry', 'Use pre-recorded narration', 'Seek professional assistance']},\\n'Integrate with VR environment': {'next_modes': ['Analyzer'], 'failure': ['Retry', 'Exit and document failure', 'Fallback to a simpler version']}}</s>\", \"{'Develop video tutorials': {'next_modes': ['Create motivational audio messages', 'Implement tracking features'],\\n'failure': ['Retry with different content', 'Switch to alternative content', 'Request human intervention']},\\n'Create motivational audio messages': {'next_modes': ['Integrate with app'], 'failure': ['Retry with different messages', 'Switch to alternative messages', 'Request human intervention']},\\n'Implement tracking features': {'next_modes': ['Integrate with app'], 'failure': ['Retry with different implementation', 'Switch to alternative tracking methods', 'Request human intervention']},\\n'Integrate with app': {'next_modes': ['Analyzer'], 'failure': ['Retry integration', 'Fallback to basic features', 'Exit and log error']},\\n'Analyzer': {'next_modes': [], 'failure': None}}</s>\", \"{'Write science fiction story': {'next_modes': ['Convert to podcast episode'], 'failure': ['Retry with different plot elements', 'Switch to a different genre', 'Request human intervention']},\\n 'Convert to podcast episode': {'next_modes': ['Engage in audience sentiment analysis'], 'failure': ['Retry with different narration styles', 'Outsource to professional voice actor', 'Fallback to text-to-speech']},\\n 'Engage in audience sentiment analysis': {'next_modes': [], 'failure': None}}</s>\", \"{'Analyze sentiment': {'next_modes': ['Generate infographic'], 'failure': ['Retry with different sentiment analysis tool', 'Fallback to manual analysis', 'Log and Analyze for future improvements']},\\n'Generate infographic': {'next_modes': ['Discuss impact'], 'failure': ['Retry with different design tool', 'Fallback to text summary', 'Log and Analyze for future improvements']},\\n'Discuss impact': {'next_modes': [], 'failure': None}}</s>\", \"{'Conduct market research': {'next_modes': ['Write infographic'], 'failure': ['Retry research', 'Switch to different research method', 'Log and Analyze']},\\n 'Write infographic': {'next_modes': ['Design infographic'], 'failure': ['Retry writing', 'Switch to different format', 'Log and Analyze']},\\n 'Design infographic': {'next_modes': ['Analyzer'], 'failure': ['Retry design', 'Switch to different design tool', 'Log and Analyze']}}</s>\", \"{'Brainstorm logo ideas': {'next_modes': ['Sketch initial designs'], 'failure': ['Retry with different keywords', 'Switch to a different concept']},\\n'Sketch initial designs': {'next_modes': ['Refine selected designs'], 'failure': ['Retry with different approaches', 'Request human intervention']},\\n'Refine selected designs': {'next_modes': ['Finalize design'], 'failure': ['Retry with different design elements', 'Fallback to a simpler design']},\\n'Finalize design': {'next_modes': ['Write rationale'], 'failure': ['Retry with different design elements', 'Fallback to a previously successful design']},\\n'Write rationale': {'next_modes': ['Analyzer'], 'failure': None}}</s>\", \"{'Organize contest': {'next_modes': ['Curate gallery', 'Write critique'], 'failure': ['Contest canceled', 'Contest extended']},\\n 'Curate gallery': {'next_modes': ['Analyzer'], 'failure': ['Re-curation', 'Alternative theme']},\\n 'Write critique': {'next_modes': ['Analyzer'], 'failure': ['Re-write', 'Use template']}}</s>\", \"{'Record video segments': {'next_modes': ['Scripting maintenance guide', 'Filming troubleshooting guide'], 'failure': ['Retry recording', 'Switch to different mode', 'Request human intervention']},\\n'Scripting maintenance guide': {'next_modes': ['Filming maintenance guide'], 'failure': ['Retry scripting', 'Fallback to pre-written guide', 'Exit and document failure']},\\n'Filming maintenance guide': {'next_modes': ['Filming troubleshooting guide'], 'failure': ['Retry filming', 'Switch to different mode', 'Exit and document failure']},\\n'Filming troubleshooting guide': {'next_modes': ['Editing video'], 'failure': ['Retry filming', 'Switch to different mode', 'Exit and document failure']},\\n'Editing video': {'next_modes': ['Analyzer'], 'failure': ['Retry editing', 'Switch to different mode', 'Exit and document failure']}}</s>\", \"{'Design logo': {'next_modes': ['Compose slogan', 'Create jingle'],\\n'failure': ['Retry with different design elements', 'Switch to a different design approach', 'Request human intervention']},\\n'Compose slogan': {'next_modes': ['Create jingle'], 'failure': ['Retry with different wording', 'Switch to a different theme', 'Request human intervention']},\\n'Create jingle': {'next_modes': ['Analyzer'], 'failure': ['Retry with different melody', 'Switch to a different genre', 'Request human intervention']}}</s>\", \"{'Write French cuisine guide': {'next_modes': ['Record instructional videos', 'Create audio glossary'], 'failure': ['Retry', 'Switch to different recipe', 'Request human intervention']},\\n 'Record instructional videos': {'next_modes': ['Analyzer'], 'failure': ['Retry', 'Fallback Content', 'Exit']},\\n 'Create audio glossary': {'next_modes': ['Analyzer'], 'failure': ['Retry', 'Switch to different term', 'Exit']},\\n 'Analyzer': {'next_modes': [], 'failure': None}}</s>\", \"{'Organize webinars': {'next_modes': ['Schedule interactive Q&A sessions', 'Create post-event summaries'],\\n'failure': ['Reschedule webinars', 'Use pre-recorded sessions', 'Cancel webinars']},\\n'Schedule interactive Q&A sessions': {'next_modes': ['Analyzer'], 'failure': ['Reschedule sessions', 'Switch to text-based Q&A']},\\n'Create post-event summaries': {'next_modes': ['Analyzer'], 'failure': ['Revise summaries', 'Use alternative content']},\\n'Analyzer': {'next_modes': [], 'failure': None}}</s>\", \"{'Translate story to graphic novel format': {'next_modes': ['Create audio narration'], 'failure': ['Retry with different visual elements, Request human intervention, Use alternative story format']},\\n'Create audio narration': {'next_modes': ['Analyzer'], 'failure': ['Retry with different voice actor, Use text-to-speech, Adjust audio quality']}}</s>\", \"{'Select novel': {'next_modes': ['Script adaptation', 'Casting'], 'failure': ['Retry with a different novel', 'Exit']},\\n 'Script adaptation': {'next_modes': ['Recording'], 'failure': ['Retry with a different adaptation', 'Exit']},\\n 'Casting': {'next_modes': ['Recording'], 'failure': ['Retry with a different cast', 'Exit']},\\n 'Recording': {'next_modes': ['Sound effects integration', 'Final editing'], 'failure': ['Retry with a different recording', 'Exit']},\\n 'Sound effects integration': {'next_modes': ['Final editing'], 'failure': ['Retry with a different sound effect', 'Exit']},\\n 'Final editing': {'next_modes': ['Analyzer'], 'failure': ['Retry with a different edit', 'Exit']}}</s>\", \"{'Record podcast episode': {'next_modes': ['Write show notes'], 'failure': ['Retry recording', 'Switch to video format', 'Use pre-recorded content']},\\n'Interview expert': {'next_modes': ['Record podcast episode'], 'failure': ['Reschedule interview', 'Use alternative expert']},\\n'Write show notes': {'next_modes': ['Publish episode'], 'failure': ['Retry writing', 'Use template', 'Request feedback']},\\n'Publish episode': {'next_modes': ['Analyzer'], 'failure': None}}</s>\", \"{'Design logo': {'next_modes': ['Produce video', 'Write press release'],\\n'failure': ['Retry with different design elements', 'Switch to alternative design', 'Request human intervention']},\\n'Produce video': {'next_modes': ['Write press release'], 'failure': ['Retry with different filming techniques', 'Switch to alternative video format', 'Request human intervention']},\\n'Write press release': {'next_modes': ['Analyzer'], 'failure': ['Retry with different writing style', 'Switch to alternative content', 'Request human intervention']}}</s>\", \"{'Read reviews': {'next_modes': ['Identify improvement areas', 'Suggest enhancements'],\\n'failure': ['Retry with different search terms', 'Switch to alternative data sources', 'Log and Analyze']},\\n'Identify improvement areas': {'next_modes': ['Create updated design'], 'failure': ['Retry with different search terms', 'Switch to alternative data sources', 'Log and Analyze']},\\n'Suggest enhancements': {'next_modes': ['Create updated design'], 'failure': ['Retry with different search terms', 'Switch to alternative data sources', 'Log and Analyze']},\\n'Create updated design': {'next_modes': ['Analyzer'], 'failure': ['Retry with different design approaches', 'Switch to alternative design tools', 'Log and Analyze']}}</s>\", \"{'Compose jingle': {'next_modes': ['Record jingle'], 'failure': ['Retry composition', 'Switch to alternative music']},\\n 'Record jingle': {'next_modes': ['Film product demo'], 'failure': ['Retry recording', 'Use pre-recorded jingle']},\\n 'Film product demo': {'next_modes': ['Gather customer testimonials'], 'failure': ['Retry filming', 'Use stock footage']},\\n 'Gather customer testimonials': {'next_modes': ['Edit video'], 'failure': ['Retry gathering testimonials', 'Use pre-existing testimonials']},\\n 'Edit video': {'next_modes': ['Analyzer'], 'failure': ['Retry editing', 'Outsource editing']}}</s>\", \"{'Film user testimonials': {'next_modes': ['Select motivational music', 'Create workout previews'], 'failure': ['Retry filming', 'Switch to text testimonials', 'Request professional help']},\\n'Select motivational music': {'next_modes': ['Edit video'], 'failure': ['Retry selection', 'Use royalty-free music', 'Consult a music expert']},\\n'Create workout previews': {'next_modes': ['Edit video'], 'failure': ['Retry filming', 'Use stock footage', 'Consult a fitness expert']},\\n'Edit video': {'next_modes': ['Analyzer'], 'failure': ['Retry editing', 'Outsource editing', 'Fallback to a simpler video format']}}</s>\", \"{'Develop mobile app concept': {'next_modes': ['Create prototype', 'Pitch presentation'], 'failure': ['Revisit concept', 'Seek external feedback']},\\n 'Create prototype': {'next_modes': ['Pitch presentation'], 'failure': ['Revisit prototype design', 'Consider alternative technologies']},\\n 'Pitch presentation': {'next_modes': ['Analyzer'], 'failure': ['Revisit presentation content', 'Seek professional help']}}</s>\", \"{'Design UI/UX': {'next_modes': ['Develop app code', 'Create fitness goal setting feature'], 'failure': ['Retry design', 'Switch to different design tool', 'Fallback to basic UI']},\\n'Develop app code': {'next_modes': ['Integrate fitness tracking feature', 'Implement graph visualization'], 'failure': ['Retry coding', 'Switch to different programming language', 'Fallback to a simpler app version']},\\n'Create fitness goal setting feature': {'next_modes': ['Integrate fitness tracking feature'], 'failure': ['Retry feature development', 'Switch to different development approach', 'Fallback to a simpler feature']},\\n'Integrate fitness tracking feature': {'next_modes': ['Implement graph visualization'], 'failure': ['Retry integration', 'Switch to different integration method', 'Fallback to a simpler feature']},\\n'Implement graph visualization': {'next_modes': ['Integrate motivational notifications'], 'failure': ['Retry implementation', 'Switch to different visualization tool', 'Fallback to a simpler visualization']},\\n'Integrate motivational notifications': {'next_modes': ['Analyzer'], 'failure': ['Retry integration', 'Switch to different notification service', 'Fallback to a simpler notification system']},\\n'Analyzer': {'next_modes': [], 'failure': None}}</s>\", \"{'Script writing': {'next_modes': ['Recording interviews', 'Integrating sound effects'], 'failure': ['Retry with different topic', 'Switch to another episode']},\\n 'Recording interviews': {'next_modes': ['Integrating sound effects'], 'failure': ['Retry with different expert', 'Use pre-recorded interviews']},\\n 'Integrating sound effects': {'next_modes': ['Analyzer'], 'failure': ['Retry with different effects', 'Fallback to music only']}}</s>\", \"{'Market research': {'next_modes': ['Content creation', 'Campaign execution'],\\n'failure': ['Retry with different research methods', 'Switch to alternative product', 'Request expert consultation']},\\n'Content creation': {'next_modes': ['Campaign execution'],\\n'failure': ['Retry with different content formats', 'Outsource to professional content creators', 'Fallback to existing content']},\\n'Campaign execution': {'next_modes': ['Analyzer'],\\n'failure': ['Retry with different execution strategies', 'Adjust campaign budget', 'Terminate campaign']}}</s>\", \"{'Translate articles to Spanish': {'next_modes': ['Record audio versions'], 'failure': ['Retry translation', 'Switch to different translator', 'Fallback to machine translation']},\\n'Record audio versions': {'next_modes': ['Analyzer'], 'failure': ['Retry recording', 'Switch to different voice actor', 'Fallback to text-to-speech']}}</s>\", \"{'Prepare ingredients': {'next_modes': ['Mix ingredients', 'Film preparation'], 'failure': ['Retry with fresh ingredients', 'Switch to a different recipe']},\\n'Mix ingredients': {'next_modes': ['Bake cake', 'Film mixing process'], 'failure': ['Retry with adjusted ingredients', 'Request human intervention']},\\n'Bake cake': {'next_modes': ['Film baking process'], 'failure': ['Retry with adjusted oven settings', 'Document failure for later analysis']},\\n'Film preparation, mixing process, and baking process': {'next_modes': ['Edit video'], 'failure': ['Retry filming', 'Use stock footage']},\\n'Edit video': {'next_modes': ['Analyzer'], 'failure': ['Retry editing', 'Fallback to written recipe']}}</s>\", \"{'Develop mobile app': {'next_modes': ['Collect user data', 'Visualize progress'], 'failure': ['Retry development', 'Switch to different platform', 'Log and Analyze']},\\n'Collect user data': {'next_modes': ['Use machine learning'], 'failure': ['Retry data collection', 'Fallback to manual data entry', 'Log and Analyze']},\\n'Visualize progress': {'next_modes': ['Analyzer'], 'failure': ['Retry visualization', 'Switch to different visualization method', 'Log and Analyze']},\\n'Use machine learning': {'next_modes': ['Analyzer'], 'failure': ['Retry with different model', 'Fallback to rule-based system', 'Log and Analyze']},\\n'Analyzer': {'next_modes': [], 'failure': None}}</s>\", \"{'Design VR environment': {'next_modes': ['Record narrative audio', 'Develop interactive elements'], 'failure': ['Retry', 'Switch to alternative content', 'Request human intervention']},\\n'Record narrative audio': {'next_modes': ['Integrate audio with VR tour'], 'failure': ['Retry', 'Fallback to textual guide', 'Exit']},\\n'Develop interactive elements': {'next_modes': ['Integrate interactive elements with VR tour'], 'failure': ['Retry', 'Switch to simpler elements', 'Exit']},\\n'Integrate audio with VR tour': {'next_modes': ['Integrate interactive elements with VR tour'], 'failure': ['Retry', 'Fallback to textual guide', 'Exit']},\\n'Integrate interactive elements with VR tour': {'next_modes': ['Create quiz'], 'failure': ['Retry', 'Switch to alternative content', 'Exit']},\\n'Create quiz': {'next_modes': ['Analyzer'], 'failure': ['Retry', 'Exit']}}</s>\", \"{'Translate stories to Spanish': {'next_modes': ['Record audiobook'], 'failure': ['Retry with different translation software', 'Switch to human translation', 'Fallback to previously translated stories']},\\n'Record audiobook': {'next_modes': ['Analyzer'], 'failure': ['Retry recording', 'Switch to a different narrator', 'Use text-to-speech software']}}</s>\", \"{'Design logo based on client's brief': {'next_modes': ['Animate logo for video intro', 'Create jingle for intro'], 'failure': ['Retry with different design concepts', 'Switch to alternative design tools', 'Request client feedback']},\\n'Animate logo for video intro': {'next_modes': ['Create jingle for intro'], 'failure': ['Retry with different animation techniques', 'Switch to alternative animation software', 'Request client feedback']},\\n'Create jingle for intro': {'next_modes': ['Analyzer'], 'failure': ['Retry with different jingle concepts', 'Switch to alternative music software', 'Request client feedback']}}</s>\", \"{'Record podcast episode': {'next_modes': ['Edit podcast episode', 'Create promotional video'], 'failure': ['Retry recording', 'Switch to a different topic', 'Request assistance']},\\n 'Edit podcast episode': {'next_modes': ['Analyzer'], 'failure': ['Retry editing', 'Use a pre-recorded episode', 'Seek professional editing']},\\n 'Create promotional video': {'next_modes': ['Analyzer'], 'failure': ['Retry filming', 'Use stock footage', 'Outsource to a video editor']}}</s>\", \"{'Write science fiction short story': {'next_modes': ['Adapt story to script', 'Analyzer'], 'failure': ['Retry writing, Change genre, Use template, Request human intervention']},\\n'Adapt story to script': {'next_modes': ['Produce trailer', 'Analyzer'], 'failure': ['Retry adapting, Simplify script, Use stock footage, Request human intervention']},\\n'Produce trailer': {'next_modes': ['Analyzer'], 'failure': ['Retry producing, Use alternative footage, Use stock music, Request human intervention']}}</s>\", \"{'Write song': {'next_modes': ['Record song'], 'failure': ['Retry with different lyrics', 'Switch to a different genre', 'Request human intervention']},\\n 'Record song': {'next_modes': ['Create music video'], 'failure': ['Retry recording', 'Use a previously recorded version', 'Request human intervention']},\\n 'Create music video': {'next_modes': ['Analyzer'], 'failure': ['Retry filming', 'Use stock footage', 'Request human intervention']}}</s>\", \"{'Conduct research on traditional pottery making': {'next_modes': ['Film pottery making process'], 'failure': ['Retry with different sources', 'Switch to a different topic']},\\n'Film pottery making process': {'next_modes': ['Interview artisans'], 'failure': ['Retry with better equipment', 'Use stock footage']},\\n'Interview artisans': {'next_modes': ['Edit documentary'], 'failure': ['Retry with different questions', 'Use voiceover narration']},\\n'Edit documentary': {'next_modes': ['Analyzer'], 'failure': ['Retry with different editing software', 'Outsource editing to a professional']}}</s>\", \"{'Design logo': {'next_modes': ['Animate logo', 'Draft press release'], 'failure': ['Retry design', 'Switch to different design approach', 'Request human intervention']},\\n 'Animate logo': {'next_modes': ['Draft press release'], 'failure': ['Retry animation', 'Switch to different animation style', 'Request human intervention']},\\n 'Draft press release': {'next_modes': ['Analyzer'], 'failure': ['Retry drafting', 'Switch to different writing style', 'Request human intervention']}}</s>\", \"{'Photo selection': {'next_modes': ['Graphic design'], 'failure': ['Retry with different photos', 'Switch to a different celebrity', 'Use a stock photo']},\\n 'Graphic design': {'next_modes': ['Short editorial'], 'failure': ['Retry with different design elements', 'Outsource to a professional designer', 'Simplify design']},\\n 'Short editorial': {'next_modes': ['Analyzer'], 'failure': ['Retry with different content', 'Use pre-written content', 'Request human intervention']}}</s>\", \"{'Conduct research on emerging renewable energy technologies': {'next_modes': ['Identify experts for interviews', 'Create infographic content'], 'failure': ['Retry research', 'Switch to different technology focus']},\\n'Identify experts for interviews': {'next_modes': ['Schedule interviews', 'Design infographic content'], 'failure': ['Retry identification', 'Use alternative sources']},\\n'Schedule interviews': {'next_modes': ['Conduct interviews', 'Design infographic content'], 'failure': ['Retry scheduling', 'Cancel interview']},\\n'Conduct interviews': {'next_modes': ['Analyze interview data'], 'failure': ['Retry interview', 'Use previously recorded interviews']},\\n'Design infographic content': {'next_modes': ['Analyze interview data'], 'failure': ['Retry design', 'Use stock images']},\\n'Analyze interview data': {'next_modes': ['Finalize blog post draft'], 'failure': ['Retry analysis', 'Seek external review']},\\n'Finalize blog post draft': {'next_modes': ['Analyzer'], 'failure': None}}</s>\", \"{'Design a logo inspired by environmental conservation': {'next_modes': ['Create an animated version of the logo'], 'failure': ['Retry with a different concept', 'Switch to a different design tool', 'Request human intervention']},\\n'Create an animated version of the logo': {'next_modes': ['Analyzer'], 'failure': ['Retry with a different animation style', 'Switch to a different animation software', 'Fallback to a static logo']}}</s>\", \"{'Design infographic on climate change': {'next_modes': ['Write summary'], 'failure': ['Retry design', 'Switch to different medium', 'Request human intervention']},\\n'Write summary': {'next_modes': ['Analyzer'], 'failure': ['Retry writing', 'Fallback to bullet points', 'Exit and document failure']}}</s>\", \"{'Generate a science fiction story': {'next_modes': ['Create digital paintings based on key scenes'], 'failure': ['Retry with a different theme', 'Switch to a different genre', 'Request human intervention']},\\n'Create digital paintings based on key scenes': {'next_modes': ['Compile elements into an interactive eBook'], 'failure': ['Retry with a different scene', 'Switch to a different medium', 'Request human intervention']},\\n'Compile elements into an interactive eBook': {'next_modes': ['Analyzer'], 'failure': ['Retry with a different format', 'Switch to a different platform', 'Request human intervention']},\\n'Analyzer': {'next_modes': [], 'failure': None}}</s>\", \"{'Conduct research on renewable energy sources': {'next_modes': ['Write research paper'], 'failure': ['Retry research', 'Switch to different topic']},\\n 'Write research paper': {'next_modes': ['Prepare webinar presentation'], 'failure': ['Revise and resubmit', 'Request expert review']},\\n 'Prepare webinar presentation': {'next_modes': ['Conduct webinar with interactive Q&A'], 'failure': ['Retry presentation', 'Use pre-recorded webinar']},\\n 'Conduct webinar with interactive Q&A': {'next_modes': ['Analyzer'], 'failure': ['Retry webinar', 'End the project']}}</s>\", \"{'Research latest smartphones': {'next_modes': ['Collect specs', 'Gather user reviews'], 'failure': ['Retry', 'Switch to alternative sources']},\\n 'Collect specs': {'next_modes': ['Analyze specs'], 'failure': ['Retry', 'Exit']},\\n 'Gather user reviews': {'next_modes': ['Analyze user experiences'], 'failure': ['Retry', 'Exit']},\\n 'Analyze specs': {'next_modes': ['Analyze user experiences'], 'failure': ['Retry', 'Exit']},\\n 'Analyze user experiences': {'next_modes': ['Capture photographic samples'], 'failure': ['Retry', 'Exit']},\\n 'Capture photographic samples': {'next_modes': ['Analyze photographic samples'], 'failure': ['Retry', 'Exit']},\\n 'Analyze photographic samples': {'next_modes': ['Analyzer'], 'failure': ['Retry', 'Exit']},\\n 'Analyzer': {'next_modes': [], 'failure': None}}</s>\", \"{'Translate article': {'next_modes': ['Create video script', 'Translate video script'], 'failure': ['Retry with different translation software', 'Switch to human translation', 'Fallback to summary in original language']},\\n'Create video script': {'next_modes': ['Record video'], 'failure': ['Retry with different script', 'Fallback to text-only format']},\\n'Record video': {'next_modes': ['Edit video'], 'failure': ['Retry recording', 'Switch to animation', 'Fallback to audio-only format']},\\n'Edit video': {'next_modes': ['Analyzer'], 'failure': ['Retry editing', 'Fallback to original version']},\\n'Translate video script': {'next_modes': ['Record video'], 'failure': ['Retry with different translation software', 'Fallback to text-only format']},\\n'Analyzer': {'next_modes': [], 'failure': None}}</s>\", \"{'Design infographic': {'next_modes': ['Develop quiz'], 'failure': ['Retry design', 'Switch to different medium', 'Request human intervention']},\\n'Develop quiz': {'next_modes': ['Analyzer'], 'failure': ['Retry development', 'Fallback to simpler quiz format', 'Exit and document failure']}}</s>\", \"{'3D environment modeling': {'next_modes': ['Audio narrations', 'Interactive elements'],\\n'failure': ['Retry', 'Fallback Content', 'Request Human Intervention']},\\n'Audio narrations': {'next_modes': ['Interactive elements'],\\n'failure': ['Retry', 'Fallback Content', 'Switch to Different Mode']},\\n'Interactive elements': {'next_modes': ['Analyzer'],\\n'failure': ['Retry', 'Fallback Content', 'Exit']},\\n'Analyzer': {'next_modes': [], 'failure': None}}</s>\", \"{'Research climate change effects': {'next_modes': ['Collect marine life data', 'Schedule expert interviews'], 'failure': ['Retry research', 'Switch to alternative data sources', 'Request expert assistance']},\\n'Collect marine life data': {'next_modes': ['Analyze data'], 'failure': ['Retry data collection', 'Use pre-existing data', 'Consider alternative data types']},\\n'Schedule expert interviews': {'next_modes': ['Conduct interviews'], 'failure': ['Reschedule interviews', 'Use recorded interviews', 'Seek alternative experts']},\\n'Conduct interviews': {'next_modes': ['Analyze interview data'], 'failure': ['Retry interviews', 'Use written responses', 'Consider alternative data sources']},\\n'Analyze data': {'next_modes': ['Create visualizations'], 'failure': ['Retry data analysis', 'Use alternative visualization tools', 'Seek expert advice']},\\n'Create visualizations': {'next_modes': ['Write analytic report'], 'failure': ['Retry visualization creation', 'Use alternative visualization types', 'Consider simplifying visualizations']},\\n'Write analytic report': {'next_modes': ['Review and finalize report'], 'failure': ['Retry report writing', 'Use a template', 'Seek professional editing']},\\n'Review and finalize report': {'next_modes': ['Analyzer'], 'failure': None}}</s>\", \"{'Translate story to French': {'next_modes': ['Create e-book'], 'failure': ['Retry with different translation software', 'Request human translation', 'Use pre-translated text']},\\n'Create e-book': {'next_modes': ['Analyzer'], 'failure': ['Retry with different software', 'Switch to paperback format', 'Use pre-existing e-book template']}}</s>\", \"{'Design conceptual layout': {'next_modes': ['Create motion graphics', 'Select fashion brand elements'], 'failure': ['Retry with different concept', 'Switch to static design']},\\n 'Create motion graphics': {'next_modes': ['Integrate with layout'], 'failure': ['Retry with different graphics', 'Fallback to static graphics']},\\n 'Select fashion brand elements': {'next_modes': ['Integrate with layout'], 'failure': ['Retry with different elements', 'Fallback to generic branding']},\\n 'Integrate with layout': {'next_modes': ['Analyzer'], 'failure': ['Retry with different integration', 'Exit and document failure']}}</s>\", \"{'Write VR game review': {'next_modes': ['Create VR game walkthrough'], 'failure': ['Retry', 'Switch to Different Game', 'Request Human Intervention']},\\n 'Create VR game walkthrough': {'next_modes': ['Analyzer'], 'failure': ['Retry', 'Fallback Content', 'Log and Analyze']}}</s>\", \"{'Script writing': {'next_modes': ['Storyboard creation', 'Voiceover recording'], 'failure': ['Retry', 'Switch to different script', 'Request human intervention']},\\n'Storyboard creation': {'next_modes': ['Animatic creation'], 'failure': ['Retry', 'Fallback to simpler visuals', 'Request human intervention']},\\n'Animatic creation': {'next_modes': ['Voiceover integration'], 'failure': ['Retry', 'Switch to different animation style', 'Request human intervention']},\\n'Voiceover recording': {'next_modes': ['Voiceover integration'], 'failure': ['Retry', 'Use pre-recorded voiceovers', 'Request human intervention']},\\n'Voiceover integration': {'next_modes': ['Animatic finalization'], 'failure': ['Retry', 'Switch to text-to-speech', 'Request human intervention']},\\n'Animatic finalization': {'next_modes': ['Analyzer'], 'failure': None}}</s>\", \"{'Conduct research on the Renaissance period': {'next_modes': ['Identify key artists and art movements', 'Gather primary and secondary sources'], 'failure': ['Retry with different search terms', 'Switch to a different research method', 'Request human intervention']},\\n'Identify key artists and art movements': {'next_modes': ['Analyze the impact of these artists and movements on modern art'], 'failure': ['Retry with a different set of artists or movements', 'Fallback to a general analysis of the Renaissance period', 'Exit and document the failure']},\\n'Analyze the impact of these artists and movements on modern art': {'next_modes': ['Analyzer'], 'failure': ['Retry with a different approach', 'Fallback to a general analysis of the Renaissance period', 'Exit and document the failure']},\\n'Analyzer': {'next_modes': [], 'failure': None}}</s>\", \"{'Design VR environment': {'next_modes': ['Create interactive elements', 'Research historical facts'], 'failure': ['Retry', 'Switch to different environment design', 'Fallback Content']},\\n'Create interactive elements': {'next_modes': ['Integrate with VR environment'], 'failure': ['Retry', 'Request Human Intervention', 'Alternative Content']},\\n'Integrate with VR environment': {'next_modes': ['Analyzer'], 'failure': ['Retry', 'Exit', 'Log and Analyze']},\\n'Research historical facts': {'next_modes': ['Integrate with VR environment'], 'failure': ['Retry', 'Switch to different historical facts', 'Fallback Content']},\\n'Analyzer': {'next_modes': [], 'failure': None}}</s>\", \"{'Prepare ingredients list': {'next_modes': ['Record step-by-step guide', 'Compile baking tips'], 'failure': ['Retry with alternative ingredients', 'Request human intervention']},\\n'Record step-by-step guide': {'next_modes': ['Edit video for clarity'], 'failure': ['Retry with better lighting', 'Switch to different recording device']},\\n'Compile baking tips': {'next_modes': ['Edit video for clarity'], 'failure': ['Retry with more specific tips', 'Fallback to written instructions']},\\n'Edit video for clarity': {'next_modes': ['Analyzer'], 'failure': ['Retry with different editing software', 'Request human intervention']}}</s>\", \"{'Conduct research on VR in education': {'next_modes': ['Identify experts', 'Gather listener questions'], 'failure': ['Retry research', 'Switch to different topic']},\\n'Identify experts': {'next_modes': ['Schedule interviews'], 'failure': ['Retry identification', 'Use pre-recorded interviews']},\\n'Gather listener questions': {'next_modes': ['Compile questions'], 'failure': ['Retry gathering', 'Use generic questions']},\\n'Schedule interviews': {'next_modes': ['Record interviews'], 'failure': ['Reschedule', 'Cancel interview']},\\n'Record interviews': {'next_modes': ['Edit interviews'], 'failure': ['Retry recording', 'Use alternative sources']},\\n'Edit interviews': {'next_modes': ['Compile episode'], 'failure': ['Retry editing', 'Use pre-edited content']},\\n'Compile episode': {'next_modes': ['Analyzer'], 'failure': ['Retry compilation', 'Use pre-compiled episodes']}}</s>\", \"{'Research smartphones': {'next_modes': ['Select features for comparison', 'Create a draft blog post'], 'failure': ['Retry with different search terms', 'Switch to a different comparison topic']},\\n'Select features for comparison': {'next_modes': ['Gather data for comparison', 'Create a draft blog post'], 'failure': ['Retry with different features', 'Exit the task']},\\n'Gather data for comparison': {'next_modes': ['Create a draft blog post'], 'failure': ['Retry with alternative data sources', 'Request human intervention']},\\n'Create a draft blog post': {'next_modes': ['Design a comparison infographic'], 'failure': ['Retry with a different writing approach', 'Fallback to a text-only comparison']},\\n'Design a comparison infographic': {'next_modes': ['Finalize the blog post'], 'failure': ['Retry with a different design tool', 'Use a pre-existing template']},\\n'Finalize the blog post': {'next_modes': ['Analyzer'], 'failure': None}}</s>\", \"{'Create video scripts': {'next_modes': ['Record videos', 'Design quizzes'], 'failure': ['Retry script writing', 'Switch to different topic']},\\n 'Record videos': {'next_modes': ['Edit videos', 'Create quiz questions'], 'failure': ['Retry recording', 'Use stock footage']},\\n 'Edit videos': {'next_modes': ['Publish videos'], 'failure': ['Retry editing', 'Outsource editing']},\\n 'Design quizzes': {'next_modes': ['Create interactive quizzes'], 'failure': ['Retry quiz design', 'Use pre-made quizzes']},\\n 'Create interactive quizzes': {'next_modes': ['Publish videos'], 'failure': ['Retry quiz creation', 'Use alternative quiz formats']},\\n 'Publish videos': {'next_modes': ['Analyzer'], 'failure': None}}</s>\", \"{'Script development': {'next_modes': ['Video production', 'Quiz creation'], 'failure': ['Retry script development', 'Switch to different topic']},\\n 'Video production': {'next_modes': ['Quiz integration'], 'failure': ['Retry video production', 'Outsource to professional video editor']},\\n 'Quiz creation': {'next_modes': ['Quiz integration'], 'failure': ['Retry quiz creation', 'Use pre-existing quizzes']},\\n 'Quiz integration': {'next_modes': ['Analyzer'], 'failure': ['Retry quiz integration', 'Fallback to text-based quizzes']}}</s>\", \"{'Scriptwriting': {'next_modes': ['Illustrations'], 'failure': ['Retry with different content', 'Switch to a different topic']},\\n 'Illustrations': {'next_modes': ['Voice-over recording'], 'failure': ['Retry with different visuals', 'Outsource to a professional']},\\n 'Voice-over recording': {'next_modes': ['Video editing'], 'failure': ['Retry with a different voice actor', 'Use text-to-speech']},\\n 'Video editing': {'next_modes': ['Analyzer'], 'failure': ['Retry with different editing techniques', 'Request human intervention']}}</s>\", \"{'Gather climate data': {'next_modes': ['Design infographic'], 'failure': ['Retry data collection', 'Switch to alternative data source']},\\n'Design infographic': {'next_modes': ['Write summary article'], 'failure': ['Retry design', 'Request human intervention']},\\n'Write summary article': {'next_modes': ['Analyzer'], 'failure': ['Retry writing', 'Fallback to pre-written content']}}</s>\", \"{'Compose symphony': {'next_modes': ['Create animated video'], 'failure': ['Retry composition', 'Switch to different theme', 'Request human intervention']},\\n 'Create animated video': {'next_modes': ['Analyzer'], 'failure': ['Retry animation creation', 'Switch to different software', 'Request human intervention']},\\n 'Analyzer': {'next_modes': [], 'failure': None}}</s>\", \"{'Design course content': {'next_modes': ['Create interactive elements', 'Develop quizzes'], 'failure': ['Retry with different content', 'Switch to different topic', 'Request human intervention']},\\n'Create interactive elements': {'next_modes': ['Integrate with course platform'], 'failure': ['Retry with different design', 'Fallback to static content', 'Log and analyze for future improvements']},\\n'Develop quizzes': {'next_modes': ['Integrate with course platform'], 'failure': ['Retry with different question types', 'Fallback to multiple-choice questions', 'Log and analyze for future improvements']},\\n'Integrate with course platform': {'next_modes': ['Analyzer'], 'failure': ['Retry integration', 'Switch to different platform', 'Log and analyze for future improvements']}}</s>\", \"{'Plan video content': {'next_modes': ['Record video', 'Write recipe text', 'Capture images'], 'failure': ['Retry', 'Switch to different recipe', 'Request human intervention']},\\n 'Record video': {'next_modes': ['Edit video'], 'failure': ['Retry', 'Switch to different recipe', 'Request human intervention']},\\n 'Write recipe text': {'next_modes': ['Edit text'], 'failure': ['Retry', 'Switch to different recipe', 'Request human intervention']},\\n 'Capture images': {'next_modes': ['Edit images'], 'failure': ['Retry', 'Switch to different recipe', 'Request human intervention']},\\n 'Edit video': {'next_modes': ['Analyzer'], 'failure': ['Retry', 'Switch to different recipe', 'Request human intervention']},\\n 'Edit text': {'next_modes': ['Analyzer'], 'failure': ['Retry', 'Switch to different recipe', 'Request human intervention']},\\n 'Edit images': {'next_modes': ['Analyzer'], 'failure': ['Retry', 'Switch to different recipe', 'Request human intervention']},\\n 'Analyzer': {'next_modes': [], 'failure': None}}</s>\", \"Here's a possible blueprint for a tutorial blog post on making homemade candles, incorporating a video demonstrating key steps:\\n\\n{'Write blog post content': {'next_modes': ['Record video demonstration', 'Design visuals'], 'failure': ['Retry writing', 'Switch to different topic', 'Request human intervention']},\\n 'Record video demonstration': {'next_modes': ['Edit video for blog post'], 'failure': ['Retry recording', 'Use stock footage', 'Alternative content']},\\n 'Design visuals': {'next_modes': ['Edit video for blog post'], 'failure': ['Retry designing', 'Use free stock images', 'Simplify design']},\\n 'Edit video for blog post': {'next_modes': ['Analyzer'], 'failure': ['Retry editing', 'Use alternative video editing software', 'Fallback content']},\\n 'Analyzer': {'next_modes': [], 'failure': None}}</s>\", \"{'Script development for user testimonials': {'next_modes': ['Filming user testimonials', '3D product modeling'], 'failure': ['Retry script development', 'Switch to alternative content']},\\n'Filming user testimonials': {'next_modes': ['Editing user testimonials'], 'failure': ['Reshoot testimonials', 'Use stock footage']},\\n'3D product modeling': {'next_modes': ['Integrating 3D models into video'], 'failure': ['Retry modeling', 'Use 2D illustrations']},\\n'Editing user testimonials': {'next_modes': ['Integrating 3D models into video'], 'failure': ['Retry editing', 'Use voiceover instead']},\\n'Integrating 3D models into video': {'next_modes': ['Composing background score'], 'failure': ['Retry integration', 'Use static images']},\\n'Composing background score': {'next_modes': ['Final video editing'], 'failure': ['Retry composition', 'Use royalty-free music']},\\n'Final video editing': {'next_modes': ['Analyzer'], 'failure': None}}</s>\", \"{'Write blog posts on emerging technologies': {'next_modes': ['Record podcast episode'], 'failure': ['Retry writing, Change topic, Request feedback']},\\n'Record podcast episode': {'next_modes': ['Analyzer'], 'failure': ['Retry recording, Use alternative format, Seek technical assistance']},\\n'Analyzer': {'next_modes': [], 'failure': None}}</s>\", \"{'Organize VR exhibition': {'next_modes': ['Create interactive guide'], 'failure': ['Retry', 'Fallback Content', 'Request Human Intervention']},\\n 'Create interactive guide': {'next_modes': ['Analyzer'], 'failure': ['Retry', 'Switch to Different Mode', 'Log and Analyze']}}</s>\", \"{'Translate storybook': {'next_modes': ['Translate audio book', 'Design promotional material'], 'failure': ['Retry with different translators', 'Fallback to simpler language', 'Request human intervention']},\\n'Translate audio book': {'next_modes': ['Analyzer'], 'failure': ['Retry with different voice actors', 'Fallback to text-to-speech', 'Request human intervention']},\\n'Design promotional material': {'next_modes': ['Analyzer'], 'failure': ['Retry with different design templates', 'Fallback to simpler designs', 'Request human intervention']}}</s>\", \"{'Slogan creation': {'next_modes': ['Features description', 'User testimonials'], 'failure': ['Retry with different words', 'Switch to a different slogan generator']},\\n'Features description': {'next_modes': ['User testimonials'], 'failure': ['Retry with clearer descriptions', 'Fallback to a pre-written script']},\\n'User testimonials': {'next_modes': ['Analyzer'], 'failure': ['Retry with different users', 'Use stock footage as a placeholder']},\\n'Analyzer': {'next_modes': [], 'failure': None}}</s>\", \"#### Subtask 1: Design UI/UX for the mobile application\\n- next_modes: ['Develop the prototype', 'Conduct usability testing']\\n- failure: ['Retry with different design elements', 'Switch to a different design approach', 'Log and analyze the design issues']\\n\\n#### Subtask 2: Develop the prototype\\n- next_modes: ['Perform integration testing', 'Conduct usability testing']\\n- failure: ['Retry with different code', 'Fallback to a simpler prototype', 'Log and analyze the development issues']\\n\\n#### Subtask 3: Perform integration testing\\n- next_modes: ['Conduct usability testing']\\n- failure: ['Retry with different configurations', 'Switch to a different testing framework', 'Log and analyze the integration issues']\\n\\n#### Subtask 4: Conduct usability testing\\n- next_modes: ['Analyzer']\\n- failure: ['Retry with different test subjects', 'Switch to a different testing methodology', 'Log and analyze the usability issues']\\n\\n#### Subtask 5: Prepare for live demo\\n- next_modes: ['Analyzer']\\n- failure: ['Retry with different demo content', 'Switch to a different presentation format', 'Log and analyze the demo preparation issues']\\n\\n#### Subtask 6: Live demo presentation\\n- next_modes: ['Q&A session']\\n- failure: ['Retry with different demo content', 'Switch to a different presentation format', 'Log and analyze the demo issues']\\n\\n#### Subtask 7: Q&A session\\n- next_modes: ['Analyzer']\\n- failure: ['Retry with different answers', 'Switch to a different Q&A format', 'Log and analyze the Q&A session issues']</s>\", \"{'Conceptualize podcast theme': {'next_modes': ['Identify experts', 'Gather listener questions'], 'failure': ['Retry', 'Switch to different theme']},\\n'Identify experts': {'next_modes': ['Schedule interviews'], 'failure': ['Retry with different experts', 'Fallback content']},\\n'Gather listener questions': {'next_modes': ['Compile questions'], 'failure': ['Retry', 'Use pre-prepared questions']},\\n'Schedule interviews': {'next_modes': ['Record interviews'], 'failure': ['Retry', 'Use pre-recorded interviews']},\\n'Compile questions': {'next_modes': ['Integrate questions into podcast script'], 'failure': ['Retry', 'Use pre-prepared questions']},\\n'Record interviews': {'next_modes': ['Integrate interviews into podcast script'], 'failure': ['Retry', 'Use pre-recorded interviews']},\\n'Integrate interviews into podcast script': {'next_modes': ['Add futuristic sound effects'], 'failure': ['Retry', 'Fallback to text-only content']},\\n'Add futuristic sound effects': {'next_modes': ['Finalize podcast episode'], 'failure': ['Retry', 'Fallback to simpler sound effects']},\\n'Finalize podcast episode': {'next_modes': ['Analyzer'], 'failure': None}}</s>\", \"{'Convert blog post to script': {'next_modes': ['Create storyboard', 'Design video style'], 'failure': ['Retry with different content', 'Switch to different format', 'Request human intervention']},\\n'Create storyboard': {'next_modes': ['Produce animated video'], 'failure': ['Retry with different visuals', 'Switch to different animation style', 'Request human intervention']},\\n'Design video style': {'next_modes': ['Produce animated video'], 'failure': ['Retry with different style', 'Switch to different animation software', 'Request human intervention']},\\n'Produce animated video': {'next_modes': ['Analyzer'], 'failure': ['Retry with different animation techniques', 'Switch to different animation software', 'Request human intervention']},\\n'Analyzer': {'next_modes': [], 'failure': None}}</s>\", \"Here's a possible blueprint for the podcast episode on AI's impact on future jobs:\\n\\n{'Research AI trends and their potential impact on jobs': {'next_modes': ['Interview experts', 'Script writing'], 'failure': ['Retry research', 'Switch to different topic']},\\n 'Interview experts': {'next_modes': ['Script writing'], 'failure': ['Retry interview', 'Use alternative sources']},\\n 'Script writing': {'next_modes': ['Recording session'], 'failure': ['Retry scripting', 'Outsource scripting']},\\n 'Recording session': {'next_modes': ['Editing and post-production'], 'failure': ['Retry recording', 'Use pre-recorded segments']},\\n 'Editing and post-production': {'next_modes': ['Analyzer'], 'failure': ['Retry editing', 'Alternative distribution channels']},\\n 'Analyzer': {'next_modes': [], 'failure': None}}</s>\", \"{'Develop VR scenarios': {'next_modes': ['Design real-time decision-making', 'Create post-activity analysis tools'], 'failure': ['Retry with different scenario design', 'Switch to alternative VR platform', 'Request human intervention']},\\n'Design real-time decision-making': {'next_modes': ['Integrate with VR scenarios'], 'failure': ['Retry with different design approach', 'Fallback to pre-designed scenarios', 'Log and analyze for future improvements']},\\n'Create post-activity analysis tools': {'next_modes': ['Integrate with VR scenarios'], 'failure': ['Retry with different tool design', 'Use existing analysis tools', 'Seek external expertise']},\\n'Integrate with VR scenarios': {'next_modes': ['Analyzer'], 'failure': ['Retry integration', 'Switch to alternative VR platform', 'Partial content delivery']},\\n'Analyzer': {'next_modes': [], 'failure': None}}</s>\", \"{'Conduct interviews with local wildlife experts': {'next_modes': ['Record wildlife sounds', 'Write narration script'], 'failure': ['Retry interview', 'Switch to different expert', 'Use pre-recorded interviews']},\\n'Record wildlife sounds': {'next_modes': ['Edit sound recordings'], 'failure': ['Retry recording', 'Use stock sounds', 'Request assistance']},\\n'Write narration script': {'next_modes': ['Record narration'], 'failure': ['Retry writing', 'Use pre-written script', 'Seek professional help']},\\n'Record narration': {'next_modes': ['Edit narration'], 'failure': ['Retry recording', 'Use pre-recorded narration', 'Consider alternative narration styles']},\\n'Edit sound recordings': {'next_modes': ['Edit narration'], 'failure': ['Retry editing', 'Use alternative sound sources', 'Request assistance']},\\n'Edit narration': {'next_modes': ['Combine audio and video'], 'failure': ['Retry editing', 'Use alternative narration', 'Consider hiring a professional editor']},\\n'Combine audio and video': {'next_modes': ['Analyzer'], 'failure': ['Retry combining', 'Use alternative footage', 'Seek professional help']}}</s>\", \"{'Organize workshop schedule': {'next_modes': ['Select workshop topics', 'Arrange guest speakers'], 'failure': ['Retry', 'Fallback Content', 'Request Human Intervention']},\\n 'Select workshop topics': {'next_modes': ['Design workshop agenda'], 'failure': ['Retry', 'Switch to Different Topic', 'Alternative Data Sources']},\\n 'Arrange guest speakers': {'next_modes': ['Design workshop agenda'], 'failure': ['Retry', 'Fallback Content', 'Alternative Data Sources']},\\n 'Design workshop agenda': {'next_modes': ['Conduct online workshop'], 'failure': ['Retry', 'Fallback Content', 'Alternative Data Sources']},\\n 'Conduct online workshop': {'next_modes': ['Announce participant photo contest'], 'failure': ['Retry', 'Fallback Content', 'Alternative Data Sources']},\\n 'Announce participant photo contest': {'next_modes': ['Analyzer'], 'failure': None}}</s>\", \"{'Design logo': {'next_modes': ['Create promotional video'], 'failure': ['Retry with different design elements, Request human intervention, Use a pre-made logo template']},\\n 'Create promotional video': {'next_modes': ['Analyzer'], 'failure': ['Retry with different filming techniques, Use stock footage, Request human intervention']}}</s>\", \"{'Develop model': {'next_modes': ['Create infographic'], 'failure': ['Retry with different data', 'Switch to a different model', 'Log and Analyze']},\\n 'Create infographic': {'next_modes': ['Analyzer'], 'failure': ['Retry with different data', 'Switch to a different format', 'Log and Analyze']}}</s>\", \"{'Script writing for voiceover': {'next_modes': ['Graph creation', 'Video editing'], 'failure': ['Retry with different content', 'Switch to alternative content', 'Request human intervention']},\\n'Graph creation': {'next_modes': ['Video editing'], 'failure': ['Retry with different data', 'Switch to alternative data', 'Request human intervention']},\\n'Video editing': {'next_modes': ['Analyzer'], 'failure': ['Retry with different editing techniques', 'Switch to alternative editing software', 'Request human intervention']}}</s>\", \"{'Create storyboard': {'next_modes': ['Script writing', 'Design characters'], 'failure': ['Retry', 'Switch to different theme', 'Fallback Content']},\\n'Script writing': {'next_modes': ['Voice recording', 'Sound effects selection'], 'failure': ['Retry', 'Fallback Content']},\\n'Design characters': {'next_modes': ['Background design'], 'failure': ['Retry', 'Switch to different design style']},\\n'Background design': {'next_modes': ['Animation production'], 'failure': ['Retry', 'Switch to different design style']},\\n'Animation production': {'next_modes': ['Narration recording'], 'failure': ['Retry', 'Switch to different animation software']},\\n'Narration recording': {'next_modes': ['Final editing'], 'failure': ['Retry', 'Fallback Content']},\\n'Sound effects selection': {'next_modes': ['Final editing'], 'failure': ['Retry', 'Switch to different sound effects']},\\n'Final editing': {'next_modes': ['Analyzer'], 'failure': None}}</s>\", \"{'Translate poems': {'next_modes': ['Record audio for translations'], 'failure': ['Retry with different translators', 'Switch to different translation method', 'Fallback to previously translated poems']},\\n'Record audio for translations': {'next_modes': ['Compile multilingual anthology'], 'failure': ['Retry recording', 'Switch to text-to-speech', 'Fallback to previously recorded poems']},\\n'Compile multilingual anthology': {'next_modes': ['Analyzer'], 'failure': None}}</s>\", \"{'Analyze artwork': {'next_modes': ['Create infographic'], 'failure': ['Retry with different analysis techniques', 'Switch to a different artwork', 'Log and Analyze for future improvement']},\\n'Create infographic': {'next_modes': [], 'failure': ['Retry with different design tools', 'Fallback to a simpler design', 'Request human intervention']}}</s>\", \"Here's a possible blueprint for the task:\\n\\n{'Research renewable energy benefits': {'next_modes': ['Create infographic', 'Write blog post'], 'failure': ['Retry with different sources', 'Switch to alternative content']},\\n 'Create infographic': {'next_modes': ['Review and refine'], 'failure': ['Retry with different design tools', 'Request human intervention']},\\n 'Write blog post': {'next_modes': ['Review and refine'], 'failure': ['Retry with different writing style', 'Request human intervention']},\\n 'Review and refine': {'next_modes': ['Analyzer'], 'failure': None},\\n 'Analyzer': {'next_modes': [], 'failure': None}}</s>\", \"{'Design logo': {'next_modes': ['Create video script', 'Select music'], 'failure': ['Retry design', 'Switch to different design style', 'Request human intervention']},\\n 'Create video script': {'next_modes': ['Record voiceover', 'Film brand story'], 'failure': ['Retry script', 'Switch to different script format', 'Request human intervention']},\\n 'Record voiceover': {'next_modes': ['Film brand story'], 'failure': ['Retry recording', 'Switch to different voice actor', 'Request human intervention']},\\n 'Film brand story': {'next_modes': ['Edit video'], 'failure': ['Retry filming', 'Switch to different filming location', 'Request human intervention']},\\n 'Select music': {'next_modes': ['Edit video'], 'failure': ['Retry selection', 'Switch to different genre', 'Request human intervention']},\\n 'Edit video': {'next_modes': ['Analyzer'], 'failure': ['Retry editing', 'Switch to different editing software', 'Request human intervention']}}</s>\"]\n"
          ]
        },
        {
          "output_type": "stream",
          "name": "stderr",
          "text": [
            "\n"
          ]
        }
      ]
    },
    {
      "cell_type": "code",
      "source": [
        "from tqdm import tqdm\n",
        "\n",
        "outputs_detail=[]\n",
        "for i in tqdm(range(len(test_data_detail))):\n",
        "  pred_prompt_detail_category=format_prediction_detail_instruct_fn(test_data_detail[i])\n",
        "\n",
        "  output_detail=get_completion(pred_prompt_detail_category+additional_info_detail, model, tokenizer, stop_keywords, KeywordsStoppingCriteria)\n",
        "\n",
        "  outputs_detail.append(output_detail)\n",
        "\n",
        "print(outputs_detail)"
      ],
      "metadata": {
        "colab": {
          "base_uri": "https://localhost:8080/",
          "height": 1000
        },
        "id": "JuyqtC30XZNT",
        "outputId": "845f3405-de05-49f4-c578-b399d8989942"
      },
      "execution_count": null,
      "outputs": [
        {
          "output_type": "display_data",
          "data": {
            "text/plain": [
              "<IPython.core.display.HTML object>"
            ],
            "text/html": [
              "\n",
              "  <style>\n",
              "    pre {\n",
              "        white-space: pre-wrap;\n",
              "    }\n",
              "  </style>\n",
              "  "
            ]
          },
          "metadata": {}
        },
        {
          "output_type": "stream",
          "name": "stderr",
          "text": [
            "\r  0%|          | 0/101 [00:00<?, ?it/s]The attention mask and the pad token id were not set. As a consequence, you may observe unexpected behavior. Please pass your input's `attention_mask` to obtain reliable results.\n",
            "Setting `pad_token_id` to `eos_token_id`:2 for open-end generation.\n",
            "  1%|          | 1/101 [00:51<1:26:02, 51.62s/it]The attention mask and the pad token id were not set. As a consequence, you may observe unexpected behavior. Please pass your input's `attention_mask` to obtain reliable results.\n",
            "Setting `pad_token_id` to `eos_token_id`:2 for open-end generation.\n",
            "  2%|▏         | 2/101 [01:23<1:05:50, 39.91s/it]The attention mask and the pad token id were not set. As a consequence, you may observe unexpected behavior. Please pass your input's `attention_mask` to obtain reliable results.\n",
            "Setting `pad_token_id` to `eos_token_id`:2 for open-end generation.\n",
            "  3%|▎         | 3/101 [02:05<1:06:56, 40.99s/it]The attention mask and the pad token id were not set. As a consequence, you may observe unexpected behavior. Please pass your input's `attention_mask` to obtain reliable results.\n",
            "Setting `pad_token_id` to `eos_token_id`:2 for open-end generation.\n",
            "  4%|▍         | 4/101 [02:31<56:51, 35.17s/it]  The attention mask and the pad token id were not set. As a consequence, you may observe unexpected behavior. Please pass your input's `attention_mask` to obtain reliable results.\n",
            "Setting `pad_token_id` to `eos_token_id`:2 for open-end generation.\n",
            "  5%|▍         | 5/101 [03:06<56:12, 35.13s/it]The attention mask and the pad token id were not set. As a consequence, you may observe unexpected behavior. Please pass your input's `attention_mask` to obtain reliable results.\n",
            "Setting `pad_token_id` to `eos_token_id`:2 for open-end generation.\n",
            "  6%|▌         | 6/101 [03:49<59:53, 37.83s/it]The attention mask and the pad token id were not set. As a consequence, you may observe unexpected behavior. Please pass your input's `attention_mask` to obtain reliable results.\n",
            "Setting `pad_token_id` to `eos_token_id`:2 for open-end generation.\n",
            "  7%|▋         | 7/101 [04:11<50:55, 32.50s/it]The attention mask and the pad token id were not set. As a consequence, you may observe unexpected behavior. Please pass your input's `attention_mask` to obtain reliable results.\n",
            "Setting `pad_token_id` to `eos_token_id`:2 for open-end generation.\n",
            "  8%|▊         | 8/101 [04:47<51:53, 33.47s/it]The attention mask and the pad token id were not set. As a consequence, you may observe unexpected behavior. Please pass your input's `attention_mask` to obtain reliable results.\n",
            "Setting `pad_token_id` to `eos_token_id`:2 for open-end generation.\n",
            "  9%|▉         | 9/101 [05:19<50:41, 33.06s/it]The attention mask and the pad token id were not set. As a consequence, you may observe unexpected behavior. Please pass your input's `attention_mask` to obtain reliable results.\n",
            "Setting `pad_token_id` to `eos_token_id`:2 for open-end generation.\n",
            " 10%|▉         | 10/101 [05:58<52:59, 34.94s/it]The attention mask and the pad token id were not set. As a consequence, you may observe unexpected behavior. Please pass your input's `attention_mask` to obtain reliable results.\n",
            "Setting `pad_token_id` to `eos_token_id`:2 for open-end generation.\n",
            " 11%|█         | 11/101 [06:17<45:03, 30.04s/it]The attention mask and the pad token id were not set. As a consequence, you may observe unexpected behavior. Please pass your input's `attention_mask` to obtain reliable results.\n",
            "Setting `pad_token_id` to `eos_token_id`:2 for open-end generation.\n",
            " 12%|█▏        | 12/101 [07:09<54:27, 36.72s/it]The attention mask and the pad token id were not set. As a consequence, you may observe unexpected behavior. Please pass your input's `attention_mask` to obtain reliable results.\n",
            "Setting `pad_token_id` to `eos_token_id`:2 for open-end generation.\n",
            " 13%|█▎        | 13/101 [07:40<51:25, 35.06s/it]The attention mask and the pad token id were not set. As a consequence, you may observe unexpected behavior. Please pass your input's `attention_mask` to obtain reliable results.\n",
            "Setting `pad_token_id` to `eos_token_id`:2 for open-end generation.\n",
            " 14%|█▍        | 14/101 [08:06<46:54, 32.35s/it]The attention mask and the pad token id were not set. As a consequence, you may observe unexpected behavior. Please pass your input's `attention_mask` to obtain reliable results.\n",
            "Setting `pad_token_id` to `eos_token_id`:2 for open-end generation.\n",
            " 15%|█▍        | 15/101 [08:29<42:29, 29.64s/it]The attention mask and the pad token id were not set. As a consequence, you may observe unexpected behavior. Please pass your input's `attention_mask` to obtain reliable results.\n",
            "Setting `pad_token_id` to `eos_token_id`:2 for open-end generation.\n",
            " 16%|█▌        | 16/101 [09:12<47:40, 33.65s/it]The attention mask and the pad token id were not set. As a consequence, you may observe unexpected behavior. Please pass your input's `attention_mask` to obtain reliable results.\n",
            "Setting `pad_token_id` to `eos_token_id`:2 for open-end generation.\n",
            " 17%|█▋        | 17/101 [09:39<44:18, 31.65s/it]The attention mask and the pad token id were not set. As a consequence, you may observe unexpected behavior. Please pass your input's `attention_mask` to obtain reliable results.\n",
            "Setting `pad_token_id` to `eos_token_id`:2 for open-end generation.\n",
            " 18%|█▊        | 18/101 [09:58<38:16, 27.66s/it]The attention mask and the pad token id were not set. As a consequence, you may observe unexpected behavior. Please pass your input's `attention_mask` to obtain reliable results.\n",
            "Setting `pad_token_id` to `eos_token_id`:2 for open-end generation.\n",
            " 19%|█▉        | 19/101 [10:16<33:49, 24.75s/it]The attention mask and the pad token id were not set. As a consequence, you may observe unexpected behavior. Please pass your input's `attention_mask` to obtain reliable results.\n",
            "Setting `pad_token_id` to `eos_token_id`:2 for open-end generation.\n",
            " 20%|█▉        | 20/101 [10:46<35:30, 26.30s/it]The attention mask and the pad token id were not set. As a consequence, you may observe unexpected behavior. Please pass your input's `attention_mask` to obtain reliable results.\n",
            "Setting `pad_token_id` to `eos_token_id`:2 for open-end generation.\n",
            " 21%|██        | 21/101 [11:13<35:30, 26.63s/it]The attention mask and the pad token id were not set. As a consequence, you may observe unexpected behavior. Please pass your input's `attention_mask` to obtain reliable results.\n",
            "Setting `pad_token_id` to `eos_token_id`:2 for open-end generation.\n",
            " 22%|██▏       | 22/101 [12:04<44:37, 33.90s/it]The attention mask and the pad token id were not set. As a consequence, you may observe unexpected behavior. Please pass your input's `attention_mask` to obtain reliable results.\n",
            "Setting `pad_token_id` to `eos_token_id`:2 for open-end generation.\n",
            " 23%|██▎       | 23/101 [12:27<39:54, 30.70s/it]The attention mask and the pad token id were not set. As a consequence, you may observe unexpected behavior. Please pass your input's `attention_mask` to obtain reliable results.\n",
            "Setting `pad_token_id` to `eos_token_id`:2 for open-end generation.\n",
            " 24%|██▍       | 24/101 [12:58<39:26, 30.73s/it]The attention mask and the pad token id were not set. As a consequence, you may observe unexpected behavior. Please pass your input's `attention_mask` to obtain reliable results.\n",
            "Setting `pad_token_id` to `eos_token_id`:2 for open-end generation.\n",
            " 25%|██▍       | 25/101 [14:10<54:41, 43.18s/it]The attention mask and the pad token id were not set. As a consequence, you may observe unexpected behavior. Please pass your input's `attention_mask` to obtain reliable results.\n",
            "Setting `pad_token_id` to `eos_token_id`:2 for open-end generation.\n",
            " 26%|██▌       | 26/101 [14:43<49:53, 39.92s/it]The attention mask and the pad token id were not set. As a consequence, you may observe unexpected behavior. Please pass your input's `attention_mask` to obtain reliable results.\n",
            "Setting `pad_token_id` to `eos_token_id`:2 for open-end generation.\n",
            " 27%|██▋       | 27/101 [15:03<41:55, 33.99s/it]The attention mask and the pad token id were not set. As a consequence, you may observe unexpected behavior. Please pass your input's `attention_mask` to obtain reliable results.\n",
            "Setting `pad_token_id` to `eos_token_id`:2 for open-end generation.\n",
            " 28%|██▊       | 28/101 [15:39<42:04, 34.59s/it]The attention mask and the pad token id were not set. As a consequence, you may observe unexpected behavior. Please pass your input's `attention_mask` to obtain reliable results.\n",
            "Setting `pad_token_id` to `eos_token_id`:2 for open-end generation.\n",
            " 29%|██▊       | 29/101 [16:01<37:03, 30.88s/it]The attention mask and the pad token id were not set. As a consequence, you may observe unexpected behavior. Please pass your input's `attention_mask` to obtain reliable results.\n",
            "Setting `pad_token_id` to `eos_token_id`:2 for open-end generation.\n",
            " 30%|██▉       | 30/101 [16:30<36:02, 30.46s/it]The attention mask and the pad token id were not set. As a consequence, you may observe unexpected behavior. Please pass your input's `attention_mask` to obtain reliable results.\n",
            "Setting `pad_token_id` to `eos_token_id`:2 for open-end generation.\n",
            " 31%|███       | 31/101 [17:00<35:04, 30.06s/it]The attention mask and the pad token id were not set. As a consequence, you may observe unexpected behavior. Please pass your input's `attention_mask` to obtain reliable results.\n",
            "Setting `pad_token_id` to `eos_token_id`:2 for open-end generation.\n",
            " 32%|███▏      | 32/101 [17:39<37:49, 32.89s/it]The attention mask and the pad token id were not set. As a consequence, you may observe unexpected behavior. Please pass your input's `attention_mask` to obtain reliable results.\n",
            "Setting `pad_token_id` to `eos_token_id`:2 for open-end generation.\n",
            " 33%|███▎      | 33/101 [18:15<38:26, 33.92s/it]The attention mask and the pad token id were not set. As a consequence, you may observe unexpected behavior. Please pass your input's `attention_mask` to obtain reliable results.\n",
            "Setting `pad_token_id` to `eos_token_id`:2 for open-end generation.\n",
            " 34%|███▎      | 34/101 [18:48<37:26, 33.53s/it]The attention mask and the pad token id were not set. As a consequence, you may observe unexpected behavior. Please pass your input's `attention_mask` to obtain reliable results.\n",
            "Setting `pad_token_id` to `eos_token_id`:2 for open-end generation.\n",
            " 35%|███▍      | 35/101 [19:06<31:50, 28.94s/it]The attention mask and the pad token id were not set. As a consequence, you may observe unexpected behavior. Please pass your input's `attention_mask` to obtain reliable results.\n",
            "Setting `pad_token_id` to `eos_token_id`:2 for open-end generation.\n",
            " 36%|███▌      | 36/101 [19:48<35:34, 32.83s/it]The attention mask and the pad token id were not set. As a consequence, you may observe unexpected behavior. Please pass your input's `attention_mask` to obtain reliable results.\n",
            "Setting `pad_token_id` to `eos_token_id`:2 for open-end generation.\n",
            " 37%|███▋      | 37/101 [20:06<30:20, 28.45s/it]The attention mask and the pad token id were not set. As a consequence, you may observe unexpected behavior. Please pass your input's `attention_mask` to obtain reliable results.\n",
            "Setting `pad_token_id` to `eos_token_id`:2 for open-end generation.\n",
            " 38%|███▊      | 38/101 [20:44<32:52, 31.31s/it]The attention mask and the pad token id were not set. As a consequence, you may observe unexpected behavior. Please pass your input's `attention_mask` to obtain reliable results.\n",
            "Setting `pad_token_id` to `eos_token_id`:2 for open-end generation.\n",
            " 39%|███▊      | 39/101 [21:05<29:01, 28.08s/it]The attention mask and the pad token id were not set. As a consequence, you may observe unexpected behavior. Please pass your input's `attention_mask` to obtain reliable results.\n",
            "Setting `pad_token_id` to `eos_token_id`:2 for open-end generation.\n",
            " 40%|███▉      | 40/101 [22:10<39:47, 39.15s/it]The attention mask and the pad token id were not set. As a consequence, you may observe unexpected behavior. Please pass your input's `attention_mask` to obtain reliable results.\n",
            "Setting `pad_token_id` to `eos_token_id`:2 for open-end generation.\n",
            " 41%|████      | 41/101 [22:48<38:50, 38.84s/it]The attention mask and the pad token id were not set. As a consequence, you may observe unexpected behavior. Please pass your input's `attention_mask` to obtain reliable results.\n",
            "Setting `pad_token_id` to `eos_token_id`:2 for open-end generation.\n",
            " 42%|████▏     | 42/101 [23:12<33:49, 34.39s/it]The attention mask and the pad token id were not set. As a consequence, you may observe unexpected behavior. Please pass your input's `attention_mask` to obtain reliable results.\n",
            "Setting `pad_token_id` to `eos_token_id`:2 for open-end generation.\n",
            " 43%|████▎     | 43/101 [23:50<34:23, 35.57s/it]The attention mask and the pad token id were not set. As a consequence, you may observe unexpected behavior. Please pass your input's `attention_mask` to obtain reliable results.\n",
            "Setting `pad_token_id` to `eos_token_id`:2 for open-end generation.\n",
            " 44%|████▎     | 44/101 [24:11<29:28, 31.03s/it]The attention mask and the pad token id were not set. As a consequence, you may observe unexpected behavior. Please pass your input's `attention_mask` to obtain reliable results.\n",
            "Setting `pad_token_id` to `eos_token_id`:2 for open-end generation.\n",
            " 45%|████▍     | 45/101 [24:34<26:45, 28.67s/it]The attention mask and the pad token id were not set. As a consequence, you may observe unexpected behavior. Please pass your input's `attention_mask` to obtain reliable results.\n",
            "Setting `pad_token_id` to `eos_token_id`:2 for open-end generation.\n",
            " 46%|████▌     | 46/101 [24:55<24:14, 26.44s/it]The attention mask and the pad token id were not set. As a consequence, you may observe unexpected behavior. Please pass your input's `attention_mask` to obtain reliable results.\n",
            "Setting `pad_token_id` to `eos_token_id`:2 for open-end generation.\n",
            " 47%|████▋     | 47/101 [25:23<24:03, 26.73s/it]The attention mask and the pad token id were not set. As a consequence, you may observe unexpected behavior. Please pass your input's `attention_mask` to obtain reliable results.\n",
            "Setting `pad_token_id` to `eos_token_id`:2 for open-end generation.\n",
            " 48%|████▊     | 48/101 [26:03<27:19, 30.94s/it]The attention mask and the pad token id were not set. As a consequence, you may observe unexpected behavior. Please pass your input's `attention_mask` to obtain reliable results.\n",
            "Setting `pad_token_id` to `eos_token_id`:2 for open-end generation.\n",
            " 49%|████▊     | 49/101 [26:37<27:29, 31.72s/it]The attention mask and the pad token id were not set. As a consequence, you may observe unexpected behavior. Please pass your input's `attention_mask` to obtain reliable results.\n",
            "Setting `pad_token_id` to `eos_token_id`:2 for open-end generation.\n",
            " 50%|████▉     | 50/101 [27:03<25:31, 30.02s/it]The attention mask and the pad token id were not set. As a consequence, you may observe unexpected behavior. Please pass your input's `attention_mask` to obtain reliable results.\n",
            "Setting `pad_token_id` to `eos_token_id`:2 for open-end generation.\n",
            " 50%|█████     | 51/101 [27:25<22:59, 27.60s/it]The attention mask and the pad token id were not set. As a consequence, you may observe unexpected behavior. Please pass your input's `attention_mask` to obtain reliable results.\n",
            "Setting `pad_token_id` to `eos_token_id`:2 for open-end generation.\n",
            " 51%|█████▏    | 52/101 [27:57<23:35, 28.89s/it]The attention mask and the pad token id were not set. As a consequence, you may observe unexpected behavior. Please pass your input's `attention_mask` to obtain reliable results.\n",
            "Setting `pad_token_id` to `eos_token_id`:2 for open-end generation.\n",
            " 52%|█████▏    | 53/101 [28:46<28:00, 35.02s/it]The attention mask and the pad token id were not set. As a consequence, you may observe unexpected behavior. Please pass your input's `attention_mask` to obtain reliable results.\n",
            "Setting `pad_token_id` to `eos_token_id`:2 for open-end generation.\n",
            " 53%|█████▎    | 54/101 [29:37<31:16, 39.93s/it]The attention mask and the pad token id were not set. As a consequence, you may observe unexpected behavior. Please pass your input's `attention_mask` to obtain reliable results.\n",
            "Setting `pad_token_id` to `eos_token_id`:2 for open-end generation.\n",
            " 54%|█████▍    | 55/101 [30:17<30:36, 39.92s/it]The attention mask and the pad token id were not set. As a consequence, you may observe unexpected behavior. Please pass your input's `attention_mask` to obtain reliable results.\n",
            "Setting `pad_token_id` to `eos_token_id`:2 for open-end generation.\n",
            " 55%|█████▌    | 56/101 [30:35<24:51, 33.15s/it]The attention mask and the pad token id were not set. As a consequence, you may observe unexpected behavior. Please pass your input's `attention_mask` to obtain reliable results.\n",
            "Setting `pad_token_id` to `eos_token_id`:2 for open-end generation.\n",
            " 56%|█████▋    | 57/101 [30:59<22:28, 30.65s/it]The attention mask and the pad token id were not set. As a consequence, you may observe unexpected behavior. Please pass your input's `attention_mask` to obtain reliable results.\n",
            "Setting `pad_token_id` to `eos_token_id`:2 for open-end generation.\n",
            " 57%|█████▋    | 58/101 [31:51<26:22, 36.79s/it]The attention mask and the pad token id were not set. As a consequence, you may observe unexpected behavior. Please pass your input's `attention_mask` to obtain reliable results.\n",
            "Setting `pad_token_id` to `eos_token_id`:2 for open-end generation.\n",
            " 58%|█████▊    | 59/101 [32:42<28:50, 41.20s/it]The attention mask and the pad token id were not set. As a consequence, you may observe unexpected behavior. Please pass your input's `attention_mask` to obtain reliable results.\n",
            "Setting `pad_token_id` to `eos_token_id`:2 for open-end generation.\n",
            " 59%|█████▉    | 60/101 [33:44<32:19, 47.29s/it]The attention mask and the pad token id were not set. As a consequence, you may observe unexpected behavior. Please pass your input's `attention_mask` to obtain reliable results.\n",
            "Setting `pad_token_id` to `eos_token_id`:2 for open-end generation.\n",
            " 60%|██████    | 61/101 [34:19<29:09, 43.74s/it]The attention mask and the pad token id were not set. As a consequence, you may observe unexpected behavior. Please pass your input's `attention_mask` to obtain reliable results.\n",
            "Setting `pad_token_id` to `eos_token_id`:2 for open-end generation.\n",
            " 61%|██████▏   | 62/101 [34:50<25:59, 39.98s/it]The attention mask and the pad token id were not set. As a consequence, you may observe unexpected behavior. Please pass your input's `attention_mask` to obtain reliable results.\n",
            "Setting `pad_token_id` to `eos_token_id`:2 for open-end generation.\n",
            " 62%|██████▏   | 63/101 [35:48<28:39, 45.25s/it]The attention mask and the pad token id were not set. As a consequence, you may observe unexpected behavior. Please pass your input's `attention_mask` to obtain reliable results.\n",
            "Setting `pad_token_id` to `eos_token_id`:2 for open-end generation.\n",
            " 63%|██████▎   | 64/101 [36:26<26:35, 43.13s/it]The attention mask and the pad token id were not set. As a consequence, you may observe unexpected behavior. Please pass your input's `attention_mask` to obtain reliable results.\n",
            "Setting `pad_token_id` to `eos_token_id`:2 for open-end generation.\n",
            " 64%|██████▍   | 65/101 [37:03<24:43, 41.22s/it]The attention mask and the pad token id were not set. As a consequence, you may observe unexpected behavior. Please pass your input's `attention_mask` to obtain reliable results.\n",
            "Setting `pad_token_id` to `eos_token_id`:2 for open-end generation.\n",
            " 65%|██████▌   | 66/101 [37:31<21:46, 37.32s/it]The attention mask and the pad token id were not set. As a consequence, you may observe unexpected behavior. Please pass your input's `attention_mask` to obtain reliable results.\n",
            "Setting `pad_token_id` to `eos_token_id`:2 for open-end generation.\n",
            " 66%|██████▋   | 67/101 [38:11<21:32, 38.02s/it]The attention mask and the pad token id were not set. As a consequence, you may observe unexpected behavior. Please pass your input's `attention_mask` to obtain reliable results.\n",
            "Setting `pad_token_id` to `eos_token_id`:2 for open-end generation.\n",
            " 67%|██████▋   | 68/101 [38:34<18:34, 33.76s/it]The attention mask and the pad token id were not set. As a consequence, you may observe unexpected behavior. Please pass your input's `attention_mask` to obtain reliable results.\n",
            "Setting `pad_token_id` to `eos_token_id`:2 for open-end generation.\n",
            " 68%|██████▊   | 69/101 [39:00<16:42, 31.34s/it]The attention mask and the pad token id were not set. As a consequence, you may observe unexpected behavior. Please pass your input's `attention_mask` to obtain reliable results.\n",
            "Setting `pad_token_id` to `eos_token_id`:2 for open-end generation.\n",
            " 69%|██████▉   | 70/101 [39:37<16:59, 32.90s/it]The attention mask and the pad token id were not set. As a consequence, you may observe unexpected behavior. Please pass your input's `attention_mask` to obtain reliable results.\n",
            "Setting `pad_token_id` to `eos_token_id`:2 for open-end generation.\n",
            " 70%|███████   | 71/101 [39:56<14:23, 28.78s/it]The attention mask and the pad token id were not set. As a consequence, you may observe unexpected behavior. Please pass your input's `attention_mask` to obtain reliable results.\n",
            "Setting `pad_token_id` to `eos_token_id`:2 for open-end generation.\n",
            " 71%|███████▏  | 72/101 [40:21<13:22, 27.67s/it]The attention mask and the pad token id were not set. As a consequence, you may observe unexpected behavior. Please pass your input's `attention_mask` to obtain reliable results.\n",
            "Setting `pad_token_id` to `eos_token_id`:2 for open-end generation.\n",
            " 72%|███████▏  | 73/101 [40:42<11:56, 25.60s/it]The attention mask and the pad token id were not set. As a consequence, you may observe unexpected behavior. Please pass your input's `attention_mask` to obtain reliable results.\n",
            "Setting `pad_token_id` to `eos_token_id`:2 for open-end generation.\n",
            " 73%|███████▎  | 74/101 [41:04<11:05, 24.64s/it]The attention mask and the pad token id were not set. As a consequence, you may observe unexpected behavior. Please pass your input's `attention_mask` to obtain reliable results.\n",
            "Setting `pad_token_id` to `eos_token_id`:2 for open-end generation.\n",
            " 74%|███████▍  | 75/101 [41:43<12:33, 29.00s/it]The attention mask and the pad token id were not set. As a consequence, you may observe unexpected behavior. Please pass your input's `attention_mask` to obtain reliable results.\n",
            "Setting `pad_token_id` to `eos_token_id`:2 for open-end generation.\n",
            " 75%|███████▌  | 76/101 [42:14<12:16, 29.46s/it]The attention mask and the pad token id were not set. As a consequence, you may observe unexpected behavior. Please pass your input's `attention_mask` to obtain reliable results.\n",
            "Setting `pad_token_id` to `eos_token_id`:2 for open-end generation.\n",
            " 76%|███████▌  | 77/101 [42:40<11:25, 28.58s/it]The attention mask and the pad token id were not set. As a consequence, you may observe unexpected behavior. Please pass your input's `attention_mask` to obtain reliable results.\n",
            "Setting `pad_token_id` to `eos_token_id`:2 for open-end generation.\n",
            " 77%|███████▋  | 78/101 [43:00<09:54, 25.85s/it]The attention mask and the pad token id were not set. As a consequence, you may observe unexpected behavior. Please pass your input's `attention_mask` to obtain reliable results.\n",
            "Setting `pad_token_id` to `eos_token_id`:2 for open-end generation.\n",
            " 78%|███████▊  | 79/101 [43:20<08:53, 24.26s/it]The attention mask and the pad token id were not set. As a consequence, you may observe unexpected behavior. Please pass your input's `attention_mask` to obtain reliable results.\n",
            "Setting `pad_token_id` to `eos_token_id`:2 for open-end generation.\n",
            " 79%|███████▉  | 80/101 [43:55<09:35, 27.41s/it]The attention mask and the pad token id were not set. As a consequence, you may observe unexpected behavior. Please pass your input's `attention_mask` to obtain reliable results.\n",
            "Setting `pad_token_id` to `eos_token_id`:2 for open-end generation.\n",
            " 80%|████████  | 81/101 [44:11<07:57, 23.86s/it]The attention mask and the pad token id were not set. As a consequence, you may observe unexpected behavior. Please pass your input's `attention_mask` to obtain reliable results.\n",
            "Setting `pad_token_id` to `eos_token_id`:2 for open-end generation.\n",
            " 81%|████████  | 82/101 [44:48<08:50, 27.95s/it]The attention mask and the pad token id were not set. As a consequence, you may observe unexpected behavior. Please pass your input's `attention_mask` to obtain reliable results.\n",
            "Setting `pad_token_id` to `eos_token_id`:2 for open-end generation.\n",
            " 82%|████████▏ | 83/101 [45:16<08:21, 27.84s/it]The attention mask and the pad token id were not set. As a consequence, you may observe unexpected behavior. Please pass your input's `attention_mask` to obtain reliable results.\n",
            "Setting `pad_token_id` to `eos_token_id`:2 for open-end generation.\n",
            " 83%|████████▎ | 84/101 [45:36<07:13, 25.51s/it]The attention mask and the pad token id were not set. As a consequence, you may observe unexpected behavior. Please pass your input's `attention_mask` to obtain reliable results.\n",
            "Setting `pad_token_id` to `eos_token_id`:2 for open-end generation.\n",
            " 84%|████████▍ | 85/101 [46:00<06:42, 25.18s/it]The attention mask and the pad token id were not set. As a consequence, you may observe unexpected behavior. Please pass your input's `attention_mask` to obtain reliable results.\n",
            "Setting `pad_token_id` to `eos_token_id`:2 for open-end generation.\n",
            " 85%|████████▌ | 86/101 [46:19<05:50, 23.34s/it]The attention mask and the pad token id were not set. As a consequence, you may observe unexpected behavior. Please pass your input's `attention_mask` to obtain reliable results.\n",
            "Setting `pad_token_id` to `eos_token_id`:2 for open-end generation.\n",
            " 86%|████████▌ | 87/101 [46:39<05:13, 22.40s/it]The attention mask and the pad token id were not set. As a consequence, you may observe unexpected behavior. Please pass your input's `attention_mask` to obtain reliable results.\n",
            "Setting `pad_token_id` to `eos_token_id`:2 for open-end generation.\n",
            " 87%|████████▋ | 88/101 [47:26<06:25, 29.62s/it]The attention mask and the pad token id were not set. As a consequence, you may observe unexpected behavior. Please pass your input's `attention_mask` to obtain reliable results.\n",
            "Setting `pad_token_id` to `eos_token_id`:2 for open-end generation.\n",
            " 88%|████████▊ | 89/101 [47:52<05:41, 28.44s/it]The attention mask and the pad token id were not set. As a consequence, you may observe unexpected behavior. Please pass your input's `attention_mask` to obtain reliable results.\n",
            "Setting `pad_token_id` to `eos_token_id`:2 for open-end generation.\n",
            " 89%|████████▉ | 90/101 [48:29<05:40, 31.00s/it]The attention mask and the pad token id were not set. As a consequence, you may observe unexpected behavior. Please pass your input's `attention_mask` to obtain reliable results.\n",
            "Setting `pad_token_id` to `eos_token_id`:2 for open-end generation.\n",
            " 90%|█████████ | 91/101 [48:57<05:03, 30.36s/it]The attention mask and the pad token id were not set. As a consequence, you may observe unexpected behavior. Please pass your input's `attention_mask` to obtain reliable results.\n",
            "Setting `pad_token_id` to `eos_token_id`:2 for open-end generation.\n",
            " 91%|█████████ | 92/101 [49:45<05:19, 35.53s/it]The attention mask and the pad token id were not set. As a consequence, you may observe unexpected behavior. Please pass your input's `attention_mask` to obtain reliable results.\n",
            "Setting `pad_token_id` to `eos_token_id`:2 for open-end generation.\n",
            " 92%|█████████▏| 93/101 [50:06<04:09, 31.17s/it]The attention mask and the pad token id were not set. As a consequence, you may observe unexpected behavior. Please pass your input's `attention_mask` to obtain reliable results.\n",
            "Setting `pad_token_id` to `eos_token_id`:2 for open-end generation.\n",
            " 93%|█████████▎| 94/101 [50:44<03:52, 33.16s/it]The attention mask and the pad token id were not set. As a consequence, you may observe unexpected behavior. Please pass your input's `attention_mask` to obtain reliable results.\n",
            "Setting `pad_token_id` to `eos_token_id`:2 for open-end generation.\n",
            " 94%|█████████▍| 95/101 [51:12<03:09, 31.67s/it]The attention mask and the pad token id were not set. As a consequence, you may observe unexpected behavior. Please pass your input's `attention_mask` to obtain reliable results.\n",
            "Setting `pad_token_id` to `eos_token_id`:2 for open-end generation.\n",
            " 95%|█████████▌| 96/101 [51:42<02:36, 31.27s/it]The attention mask and the pad token id were not set. As a consequence, you may observe unexpected behavior. Please pass your input's `attention_mask` to obtain reliable results.\n",
            "Setting `pad_token_id` to `eos_token_id`:2 for open-end generation.\n",
            " 96%|█████████▌| 97/101 [52:06<01:56, 29.11s/it]The attention mask and the pad token id were not set. As a consequence, you may observe unexpected behavior. Please pass your input's `attention_mask` to obtain reliable results.\n",
            "Setting `pad_token_id` to `eos_token_id`:2 for open-end generation.\n",
            " 97%|█████████▋| 98/101 [52:30<01:22, 27.50s/it]The attention mask and the pad token id were not set. As a consequence, you may observe unexpected behavior. Please pass your input's `attention_mask` to obtain reliable results.\n",
            "Setting `pad_token_id` to `eos_token_id`:2 for open-end generation.\n",
            " 98%|█████████▊| 99/101 [53:05<00:59, 29.69s/it]The attention mask and the pad token id were not set. As a consequence, you may observe unexpected behavior. Please pass your input's `attention_mask` to obtain reliable results.\n",
            "Setting `pad_token_id` to `eos_token_id`:2 for open-end generation.\n",
            " 99%|█████████▉| 100/101 [53:26<00:27, 27.02s/it]The attention mask and the pad token id were not set. As a consequence, you may observe unexpected behavior. Please pass your input's `attention_mask` to obtain reliable results.\n",
            "Setting `pad_token_id` to `eos_token_id`:2 for open-end generation.\n",
            "100%|██████████| 101/101 [54:38<00:00, 32.46s/it]"
          ]
        },
        {
          "output_type": "stream",
          "name": "stdout",
          "text": [
            "[\"Here's a possible planning for the given composite task:\\n\\n{'Translate article into Language-1': {'next_modes': ['Translate article into Language-2', 'Translate article into Language-3'],\\n'failure': ['Retry translation with a different translator', 'Switch to a different article', 'Log and analyze the issue']},\\n'Translate article into Language-2': {'next_modes': ['Translate article into Language-3'], 'failure': ['Retry translation with a different translator', 'Switch to a different article', 'Log and analyze the issue']},\\n'Translate article into Language-3': {'next_modes': ['Narrate article in Language-1', 'Narrate article in Language-2', 'Narrate article in Language-3'], 'failure': ['Retry translation with a different translator', 'Switch to a different article', 'Log and analyze the issue']},\\n'Narrate article in Language-1': {'next_modes': ['Analyze narration quality'], 'failure': ['Retry narration', 'Switch to a different narrator', 'Log and analyze the issue']},\\n'Narrate article in Language-2': {'next_modes': ['Analyze narration quality'], 'failure': ['Retry narration', 'Switch to a different narrator', 'Log and analyze the issue']},\\n'Narrate article in Language-3': {'next_modes': ['Analyze narration quality'], 'failure': ['Retry narration', 'Switch to a different narrator', 'Log and analyze the issue']},\\n'Analyze narration quality': {'next_modes': [], 'failure': None}}</s>\", \"Here's a detailed planning for designing a digital billboard ad for a fashion brand, incorporating motion graphics:\\n\\n{'Brainstorming and Conceptualization': {'next_modes': ['Designing the Ad Layout', 'Creating Motion Graphics'],\\n'detailed description of failure': ['Retry with a different concept', 'Switch to a different advertising medium', 'Request Human Intervention']},\\n'Designing the Ad Layout': {'next_modes': ['Creating Motion Graphics'], 'failure': ['Retry with a different layout', 'Fallback to a static ad design', 'Request Human Intervention']},\\n'Creating Motion Graphics': {'next_modes': ['Finalizing the Ad'], 'failure': ['Retry with a different approach', 'Fallback to a static graphic', 'Request Human Intervention']},\\n'Finalizing the Ad': {'next_modes': ['Analyzer'], 'failure': None},\\n'Analyzer': {'next_modes': [], 'failure': None}}</s>\", \"Here's a detailed planning for creating a video documentary about local wildlife:\\n\\n{'Conducting field recordings': {'next_modes': ['Conducting interviews', 'Writing the script'],\\n'detailed description of failure': ['Retry the recording session', 'Switch to using stock footage', 'Request assistance from a professional wildlife videographer']},\\n'Conducting interviews': {'next_modes': ['Writing the script'],\\n'detailed description of failure': ['Retry the interview session', 'Use previously recorded interviews', 'Consider alternative interview subjects']},\\n'Writing the script': {'next_modes': ['Recording the narration'],\\n'detailed description of failure': ['Revise the script', 'Seek feedback from a scriptwriter', 'Consider alternative narration styles']},\\n'Recording the narration': {'next_modes': ['Editing the documentary'],\\n'detailed description of failure': ['Retry the narration session', 'Use text-to-speech software', 'Consider alternative narrators']},\\n'Editing the documentary': {'next_modes': ['Finalizing the documentary'],\\n'detailed description of failure': ['Retry the editing process', 'Outsource the editing to a professional', 'Consider alternative editing software']},\\n'Finalizing the documentary': {'next_modes': [], 'failure': None}}</s>\", \"Here's a sample for the given composite task:\\n\\n{'Write a tutorial video on baking a chocolate cake': {'next_modes': ['Write a detailed recipe blog post', 'Capture high-quality photos of each step'], 'failure': ['Retry the video shoot', 'Switch to a different recipe', 'Request assistance from a baking expert']},\\n'Write a detailed recipe blog post': {'next_modes': ['Capture high-quality photos of each step'], 'failure': ['Retry the writing process', 'Use a different recipe', 'Seek feedback from a professional writer']},\\n'Capture high-quality photos of each step': {'next_modes': ['Analyzer'], 'failure': ['Retry the photo shoot', 'Use stock photos', 'Consult a photography expert']},\\n'Analyzer': {'next_modes': [], 'failure': None}}</s>\", \"Here's a possible planning for designing an educational video series on basic astronomy concepts:\\n\\n{'Researching astronomy concepts': {'next_modes': ['Scripting video content', 'Designing visuals'], 'failure': ['Retry research with different sources', 'Switch to a different astronomy topic']},\\n'Scripting video content': {'next_modes': ['Recording voice-over', 'Editing video'], 'failure': ['Retry scripting with a different approach', 'Outsource scripting to a professional']},\\n'Designing visuals': {'next_modes': ['Recording voice-over', 'Editing video'], 'failure': ['Retry designing with different software', 'Outsource designing to a professional']},\\n'Recording voice-over': {'next_modes': ['Editing video'], 'failure': ['Retry recording with a different setup', 'Use stock audio']},\\n'Editing video': {'next_modes': ['Analyzer'], 'failure': ['Retry editing with a different approach', 'Outsource editing to a professional']},\\n'Analyzer': {'next_modes': [], 'failure': None}}</s>\", \"Here's a possible planning for the podcast episode about the evolution of video game music:\\n\\n{'Researching the history of video game music': {'next_modes': ['Interviewing experts in the field', 'Selecting and editing music clips'], 'failure': ['Retry the research with different sources', 'Switch to a different topic if necessary']},\\n 'Interviewing experts in the field': {'next_modes': ['Recording and editing interviews'], 'failure': ['Retry the interview if the audio quality is poor', 'Use alternative sources if the expert is unavailable']},\\n 'Selecting and editing music clips': {'next_modes': ['Writing the script for the podcast'], 'failure': ['Retry the selection and editing process', 'Use royalty-free music if original clips cannot be used']},\\n 'Writing the script for the podcast': {'next_modes': ['Recording the podcast episode'], 'failure': ['Retry the writing process', 'Use a pre-written script as a backup']},\\n 'Recording the podcast episode': {'next_modes': ['Editing the podcast episode'], 'failure': ['Retry the recording', 'Use a pre-recorded episode as a backup']},\\n 'Editing the podcast episode': {'next_modes': ['Analyzer'], 'failure': None},\\n 'Analyzer': {'next_modes': [], 'failure': None}}</s>\", \"#### Translate a short story from English to French:{'translate story': {'next_modes': ['create illustrated ebook', 'create audio version'], 'failure': ['Retry with different translation software', 'Switch to a different translation method', 'Request human intervention']},\\n 'create illustrated ebook': {'next_modes': ['Analyzer'], 'failure': ['Retry with different software', 'Switch to a different format', 'Request human intervention']},\\n 'create audio version': {'next_modes': ['Analyzer'], 'failure': ['Retry with different software', 'Switch to a different format', 'Request human intervention']},\\n 'Analyzer': {'next_modes': [], 'failure': None}}</s>\", \"Here's a detailed planning for the given composite task:\\n\\n{'Conduct a scientific research study': {'next_modes': ['Write a research paper', 'Prepare a webinar presentation'],\\n'detailed description of failure': ['Retry the experiment', 'Switch to a different research topic', 'Document the failure and analyze the reasons']},\\n'Write a research paper': {'next_modes': ['Submit the paper for publication'], 'failure': ['Revise and resubmit', 'Seek feedback from peers', 'Consider alternative publication venues']},\\n'Prepare a webinar presentation': {'next_modes': ['Host the webinar'], 'failure': ['Revise and resubmit', 'Use a different presentation format', 'Seek assistance from a presentation expert']},\\n'Submit the paper for publication': {'next_modes': ['Analyzer'], 'failure': ['Revise and resubmit', 'Consider alternative publication venues', 'Request feedback from peers']},\\n'Host the webinar': {'next_modes': [], 'failure': None},\\n'Analyzer': {'next_modes': [], 'failure': None}}</s>\", \"Here's a detailed planning for the given composite task:\\n\\n{'Develop a mobile application to identify plant species from photos': {'next_modes': ['Compile a user guide'], 'failure': ['Retry with improved code', 'Switch to a different development approach', 'Log and analyze errors for future improvements']},\\n'Compile a user guide': {'next_modes': [], 'failure': None},\\n'Detailed description of the mobile application development process': {'next_modes': ['Detailed description of the user guide compilation process'], 'failure': ['Retry with improved documentation', 'Switch to a different documentation tool', 'Log and analyze errors for future improvements']},\\n'Detailed description of the user guide compilation process': {'next_modes': ['Detailed description of the Analyzer'], 'failure': ['Retry with improved content', 'Switch to a different format', 'Log and analyze errors for future improvements']},\\n'Detailed description of the Analyzer': {'next_modes': [], 'failure': None}}</s>\", \"Here's a possible planning for creating a VR educational experience showcasing the evolution of the Earth's continents over millions of years:\\n\\n{'Create 3D models of continents at different time periods': {'next_modes': ['Design VR environment', 'Develop interactive elements'], 'failure': ['Retry with different data sources', 'Switch to alternative content', 'Request human intervention']},\\n'Design VR environment': {'next_modes': ['Integrate 3D models', 'Add educational content'], 'failure': ['Retry with different design approaches', 'Fallback to simpler design', 'Request human intervention']},\\n'Integrate 3D models': {'next_modes': ['Add educational content'], 'failure': ['Retry with different integration methods', 'Switch to alternative content', 'Request human intervention']},\\n'Add educational content': {'next_modes': ['Test VR experience'], 'failure': ['Retry with different content', 'Fallback to simpler content', 'Request human intervention']},\\n'Test VR experience': {'next_modes': ['Analyzer'], 'failure': ['Retry with different testing methods', 'Switch to alternative testing tools', 'Request human intervention']},\\n'Analyzer': {'next_modes': [], 'failure': None}}</s>\", \"Here's a more detailed version of the structure:\\n{'Conduct a market research survey': {'next_modes': ['Analyze survey data'], 'failure': ['Retry survey with different questions', 'Switch to alternative data sources', 'Log and Analyze failure']},\\n'Analyze survey data': {'next_modes': ['Generate a report with visual graphs'], 'failure': ['Retry data analysis with different tools', 'Request human intervention for manual analysis', 'Fallback to pre-prepared reports']},\\n'Generate a report with visual graphs': {'next_modes': [], 'failure': None}}</s>\", \"#### Translate a short story into a graphic novel format:{'Translate story to visual script': {'next_modes': ['Design characters and settings', 'Script storyboard'], 'failure': ['Retry with different visualization techniques', 'Switch to a different medium', 'Request human intervention']},\\n 'Design characters and settings': {'next_modes': ['Illustrate characters and scenes'], 'failure': ['Retry with different design approaches', 'Switch to a different style', 'Request human intervention']},\\n 'Illustrate characters and scenes': {'next_modes': ['Finalize graphic novel layout'], 'failure': ['Retry with different illustration techniques', 'Switch to a different medium', 'Request human intervention']},\\n 'Finalize graphic novel layout': {'next_modes': ['Analyzer'], 'failure': None}}\\n\\n#### Create an audiobook version:{'Select narrator and record audio': {'next_modes': ['Edit and finalize audiobook'], 'failure': ['Retry with a different narrator', 'Switch to text-to-speech', 'Request human intervention']},\\n 'Edit and finalize audiobook': {'next_modes': ['Analyzer'], 'failure': None}}\\n\\n#### Develop an educational curriculum based on the story:{'Outline curriculum objectives': {'next_modes': ['Create lesson plans and materials'], 'failure': ['Retry with different objectives', 'Switch to a different curriculum model', 'Request human intervention']},\\n 'Create lesson plans and materials': {'next_modes': ['Analyzer'], 'failure': None}}\\n\\n#### Analyzer:{'Analyze the overall project progress': {'next_modes': [], 'failure': None}}</s>\", \"Here's a more detailed planning for the task:\\n\\n{'Conduct extensive research on renewable energy sources': {'next_modes': ['Compile research findings into a coherent paper'], 'failure': ['Retry research with a different approach', 'Switch to a different topic', 'Request assistance from a research expert']},\\n'Compile research findings into a coherent paper': {'next_modes': ['Prepare a webinar presentation based on the research paper'], 'failure': ['Retry with a different format or structure', 'Seek feedback from a peer reviewer', 'Consider publishing the paper in a journal']},\\n'Prepare a webinar presentation based on the research paper': {'next_modes': ['Conduct a webinar with interactive Q&A'], 'failure': ['Retry with a different presentation style', 'Use a different platform for the webinar', 'Record the presentation for later use']},\\n'Conduct a webinar with interactive Q&A': {'next_modes': [], 'failure': None}}</s>\", \"Here's a detailed planning for organizing a virtual photography exhibition and writing and disseminating a press release to publicize the event:\\n\\n{'Organize virtual photography exhibition': {'next_modes': ['Write press release'], 'failure': ['Retry organizing the exhibition', 'Switch to a different event format', 'Log and analyze the failure']},\\n 'Write press release': {'next_modes': ['Disseminate press release'], 'failure': ['Retry writing the press release', 'Use a template', 'Seek professional help']},\\n 'Disseminate press release': {'next_modes': ['Analyzer'], 'failure': ['Retry disseminating the press release', 'Switch to alternative dissemination methods', 'Log and analyze the failure']},\\n 'Analyzer': {'next_modes': [], 'failure': None}}</s>\", \"Here's a possible planning for the given composite task:\\n\\n{'Analyze sentiment of reviews for a new movie': {'next_modes': ['Generate an infographic summarizing the findings', 'Discuss potential impact on future marketing strategies'],\\n'failure': ['Retry the analysis with a different sentiment analysis tool', 'Switch to manual analysis', 'Log and analyze the failure for future improvements']},\\n'Generate an infographic summarizing the findings': {'next_modes': ['Discuss potential impact on future marketing strategies'], 'failure': ['Retry the generation with different design elements', 'Fallback to a textual summary', 'Request human intervention for design']},\\n'Discuss potential impact on future marketing strategies': {'next_modes': [], 'failure': None}}</s>\", \"Here's a detailed planning for designing a VR educational module on marine life that includes interactive quizzes and a guided virtual tour:\\n\\n{'Design VR environment for marine life': {'next_modes': ['Develop interactive quizzes', 'Create guided virtual tour'],\\n'failure': ['Retry with different design elements', 'Switch to a different VR platform', 'Fallback to a 2D educational module']},\\n'Develop interactive quizzes': {'next_modes': ['Integrate quizzes into VR environment'], 'failure': ['Retry with different quiz formats', 'Request assistance from a VR developer', 'Use pre-existing quiz templates']},\\n'Create guided virtual tour': {'next_modes': ['Integrate tour into VR environment'], 'failure': ['Retry with different tour elements', 'Switch to a different VR platform', 'Fallback to a 2D educational module']},\\n'Integrate quizzes into VR environment': {'next_modes': ['Integrate tour into VR environment'], 'failure': ['Retry with different integration methods', 'Request assistance from a VR developer', 'Fallback to a text-based quiz']},\\n'Integrate tour into VR environment': {'next_modes': ['Analyzer'], 'failure': None},\\n'Analyzer': {'next_modes': [], 'failure': None}}</s>\", \"### Subtask 1: Conceptualize and sketch ideas for digital artwork themed around the four seasons\\n{'next_modes': ['Create digital artwork based on selected sketches'], 'failure': ['Retry with different sketches', 'Switch to a different theme', 'Request human intervention']}\\n\\n### Subtask 2: Create digital artwork based on selected sketches\\n{'next_modes': ['Design an interactive online gallery'], 'failure': ['Retry with different artwork', 'Switch to a different medium', 'Request human intervention']}\\n\\n### Subtask 3: Design an interactive online gallery\\n{'next_modes': ['Analyzer'], 'failure': ['Retry with different design elements', 'Switch to a different platform', 'Request human intervention']}\\n\\n### Subtask 4: Analyzer\\n{'next_modes': [], 'failure': None}</s>\", \"Here's a detailed planning for the given composite task:\\n\\n{'Translate article to Spanish': {'next_modes': ['Create infographic'], 'failure': ['Retry translation with different tools or settings', 'Request human translation', 'Fallback to a summary of the article in Spanish']},\\n 'Create infographic': {'next_modes': ['Analyzer'], 'failure': ['Retry with different design tools or templates', 'Fallback to a text summary of the article', 'Request human assistance for design']},\\n 'Analyzer': {'next_modes': [], 'failure': None}}</s>\", \"Here's a detailed planning for designing a logo and creating a matching social media banner:\\n\\n{'Design a logo': {'next_modes': ['Create a social media banner'], 'failure': ['Retry with a different design', 'Switch to a different design tool', 'Request human intervention']},\\n 'Create a social media banner': {'next_modes': ['Analyzer'], 'failure': ['Retry with a different design', 'Switch to a different design tool', 'Request human intervention']},\\n 'Analyzer': {'next_modes': [], 'failure': None}}</s>\", \"Here's a detailed planning for the composite task:\\n\\n{'Design a tutorial for creating 3D models of furniture': {'next_modes': ['Record the tutorial as a video course'], 'failure': ['Retry the tutorial design with different content or presentation style', 'Switch to a different tutorial topic', 'Request assistance from a 3D modeling expert']},\\n 'Record the tutorial as a video course': {'next_modes': ['Write a review article comparing various 3D modeling software'], 'failure': ['Retry the recording with improved equipment or lighting', 'Use a different recording platform', 'Outsource the video editing to a professional']},\\n 'Write a review article comparing various 3D modeling software': {'next_modes': ['Analyzer'], 'failure': ['Retry the article with additional research or sources', 'Switch to a different software comparison topic', 'Seek feedback from a professional writer']},\\n 'Analyzer': {'next_modes': [], 'failure': None}}</s>\", \"Here's a detailed planning for the given composite task:\\n\\n{'Research and write an in-depth article on renewable energy': {'next_modes': ['Create an infographic summarizing key points', 'Record a podcast discussing the article'],\\n'failure': ['Retry the research with a different approach', 'Switch to a different topic', 'Request human intervention for assistance']},\\n'Create an infographic summarizing key points': {'next_modes': ['Analyzer'], 'failure': ['Retry the design with a different layout', 'Use a template', 'Seek feedback from a design expert']},\\n'Record a podcast discussing the article': {'next_modes': ['Analyzer'], 'failure': ['Retry the recording with improved audio quality', 'Use a different format', 'Consider alternative distribution channels']},\\n'Analyzer': {'next_modes': [], 'failure': None}}</s>\", \"Here's a possible planning for your podcast series:\\n\\n{'Conceptualize podcast series': {'next_modes': ['Research technology trends', 'Identify expert interviewees'], 'failure': ['Retry with a different concept', 'Fallback to a previously successful format']},\\n'Research technology trends': {'next_modes': ['Plan episode structure'], 'failure': ['Retry with a different topic', 'Fallback to a previously researched trend']},\\n'Identify expert interviewees': {'next_modes': ['Plan episode structure'], 'failure': ['Retry with alternative experts', 'Fallback to previously recorded interviews']},\\n'Plan episode structure': {'next_modes': ['Record interviews', 'Analyze trends'], 'failure': ['Retry with a different episode structure', 'Fallback to a previously successful format']},\\n'Record interviews': {'next_modes': ['Edit interviews', 'Prepare listener Q&A segments'], 'failure': ['Retry with a different recording setup', 'Fallback to previously recorded interviews']},\\n'Edit interviews': {'next_modes': ['Produce podcast episodes'], 'failure': ['Retry with a different editing approach', 'Fallback to previously edited content']},\\n'Analyze trends': {'next_modes': ['Produce podcast episodes'], 'failure': ['Retry with a different analysis approach', 'Fallback to previously analyzed data']},\\n'Produce podcast episodes': {'next_modes': ['Analyzer'], 'failure': ['Retry with a different production approach', 'Fallback to previously produced episodes']},\\n'Analyzer': {'next_modes': [], 'failure': None}}</s>\", \"Here's a detailed planning for creating a promotional video for a new tech product:\\n\\n{'Scriptwriting': {'next_modes': ['Filming', 'Editing'], 'failure': ['Retry with a different script', 'Switch to a different mode of promotion', 'Request human intervention']},\\n 'Filming': {'next_modes': ['Editing'], 'failure': ['Retry with a different setup', 'Switch to a different mode of filming', 'Request human intervention']},\\n 'Editing': {'next_modes': ['Analyzer'], 'failure': ['Retry with a different editing software', 'Switch to a different mode of editing', 'Request human intervention']},\\n 'Analyzer': {'next_modes': [], 'failure': None}}</s>\", \"Here's a detailed planning for designing a brand logo, creating a matching social media banner, and writing a brand story:\\n\\n{'Design a brand logo': {'next_modes': ['Create a matching social media banner', 'Write a brand story'],\\n'detailed description of failure': ['Retry the design process with different concepts', 'Switch to a different design tool or platform', 'Seek feedback from a design expert']},\\n'Create a matching social media banner': {'next_modes': ['Analyzer'], 'failure': ['Retry the design process with different concepts', 'Use a pre-made template as a temporary solution', 'Request assistance from a design professional']},\\n'Write a brand story': {'next_modes': ['Analyzer'], 'failure': ['Retry the writing process with a different approach', 'Outsource the writing to a professional copywriter', 'Use a generic brand story as a temporary solution']},\\n'Analyzer': {'next_modes': [], 'failure': None}}</s>\", \"Here's a detailed planning for designing and conducting a virtual reality (VR) tour of a historical site, complete with narrative audio guide, interactive elements, and a quiz at the end to test knowledge:\\n\\n{'Design VR environment': {'next_modes': ['Create narrative audio guide', 'Develop interactive elements'],\\n'failure': ['Retry with different VR software', 'Switch to a 2D virtual tour', 'Request assistance from a VR expert']},\\n'Create narrative audio guide': {'next_modes': ['Integrate audio guide into VR environment'],\\n'failure': ['Retry with a different script', 'Use pre-recorded audio', 'Fallback to text-based descriptions']},\\n'Develop interactive elements': {'next_modes': ['Integrate interactive elements into VR environment'],\\n'failure': ['Retry with alternative interactive elements', 'Use static objects instead', 'Seek help from a developer']},\\n'Integrate audio guide into VR environment': {'next_modes': ['Integrate interactive elements into VR environment'],\\n'failure': ['Retry with a different audio format', 'Use a text-to-speech system', 'Consider a different VR platform']},\\n'Integrate interactive elements into VR environment': {'next_modes': ['Conduct a pilot test of the VR tour'],\\n'failure': ['Retry with simplified interactive elements', 'Use pre-existing interactive elements', 'Request assistance from a VR developer']},\\n'Conduct a pilot test of the VR tour': {'next_modes': ['Analyze user feedback and performance data'],\\n'failure': ['Retry with a different group of testers', 'Adjust the VR environment based on feedback', 'Consider alternative testing methods']},\\n'Analyze user feedback and performance data': {'next_modes': ['Design and implement a quiz'],\\n'failure': ['Retry with a different set of data', 'Use a different analysis tool', 'Consider alternative evaluation methods']},\\n'Design and implement a quiz': {'next_modes': ['Analyze quiz results'],\\n'failure': ['Retry with a different quiz format', 'Use a different quiz software', 'Consider alternative evaluation methods']},\\n'Analyze quiz results': {'next_modes': ['Finalize the VR tour and make it\", \"Here's a sample for narrating a children's storybook and creating an accompanying soundtrack:\\n\\n{'Narrating the storybook': {'next_modes': ['Composing the soundtrack'], 'failure': ['Retry the narration with improved pronunciation or tone', 'Switch to a different storybook', 'Record the narration with background noise and enhance it later']},\\n'Composing the soundtrack': {'next_modes': ['Recording the soundtrack'], 'failure': ['Retry the composition with different instruments or melodies', 'Use pre-existing music with appropriate licenses', 'Consider using sound effects instead of a full soundtrack']},\\n'Recording the soundtrack': {'next_modes': ['Mixing and mastering the soundtrack'], 'failure': ['Retry the recording with improved equipment or technique', 'Use a different recording setup or location', 'Consider using royalty-free music instead']},\\n'Mixing and mastering the soundtrack': {'next_modes': ['Analyzer'], 'failure': None}}</s>\", \"Here's a sample for the given composite task:\\n\\n{'Analyze sentiment from customer feedback texts': {'next_modes': ['Compile insights into a report'], 'failure': ['Retry with different sentiment analysis tools', 'Switch to manual analysis', 'Log and Analyze for future improvements']},\\n'Compile insights into a report': {'next_modes': ['Present findings through a webinar'], 'failure': ['Retry with different data visualization tools', 'Switch to a different reporting format', 'Log and Analyze for future improvements']},\\n'Present findings through a webinar': {'next_modes': [], 'failure': None}}</s>\", \"Here's a possible planning for the task:\\n\\n{'Translate blog post into a script': {'next_modes': ['Conduct interviews with experts', 'Gather real-life footage'],\\n'failure': ['Retry with a different translation approach', 'Fallback to a summary of the blog post']},\\n'Conduct interviews with experts': {'next_modes': ['Edit interviews for the documentary'], 'failure': ['Retry with a different expert', 'Use stock footage or animations']},\\n'Gather real-life footage': {'next_modes': ['Edit footage for the documentary'], 'failure': ['Retry with a different location or time', 'Use stock footage or animations']},\\n'Edit interviews for the documentary': {'next_modes': ['Edit footage for the documentary'], 'failure': ['Retry with a different editing approach', 'Fallback to a voiceover narration']},\\n'Edit footage for the documentary': {'next_modes': ['Finalize the documentary'], 'failure': ['Retry with a different editing software', 'Fallback to a slideshow of images']},\\n'Finalize the documentary': {'next_modes': [], 'failure': None}}</s>\", \"Here's a detailed planning for designing an infographic on climate change impacts and generating a brief explainer video using the infographic:\\n\\n{'Design an infographic on climate change impacts': {'next_modes': ['Create a brief explainer video using the infographic'], 'failure': ['Retry with different design elements', 'Switch to a different infographic topic', 'Request human intervention for design suggestions']},\\n 'Create a brief explainer video using the infographic': {'next_modes': ['Analyzer'], 'failure': ['Retry with different video editing techniques', 'Switch to a different video format', 'Request human intervention for video editing']},\\n 'Analyzer': {'next_modes': [], 'failure': None}}</s>\", \"Here's a detailed planning for developing a mobile app, designing its UI/UX, and creating a promo video:\\n\\n{'Develop a mobile app': {'next_modes': ['Design UI/UX', 'Create a promo video'],\\n'detailed description of failure': ['Retry development with adjusted requirements', 'Switch to a different app concept', 'Log and analyze errors for future improvements']},\\n'Design UI/UX': {'next_modes': ['Create a promo video'],\\n'detailed description of failure': ['Retry design with adjusted requirements', 'Seek external design consultation', 'Fallback to a simpler design']},\\n'Create a promo video': {'next_modes': ['Analyzer'],\\n'detailed description of failure': ['Retry video creation with adjusted requirements', 'Use stock footage as a fallback', 'Consider alternative marketing strategies']},\\n'Analyzer': {'next_modes': [], 'failure': None}}</s>\", \"### Here's a detailed planning for the podcast series on the history of music genres:\\n{'Research': {'next_modes': ['Scripting'], 'failure': ['Retry research with different sources', 'Switch to a different genre', 'Request human intervention']},\\n'Scripting': {'next_modes': ['Recording'], 'failure': ['Retry scripting with different approaches', 'Outsource scripting to a professional', 'Fallback to a previously successful script']},\\n'Recording': {'next_modes': ['Editing'], 'failure': ['Retry recording with improved equipment', 'Use a previously recorded episode as a placeholder', 'Consider alternative distribution methods']},\\n'Editing': {'next_modes': ['Distribution'], 'failure': ['Retry editing with different software', 'Outsource editing to a professional', 'Consider alternative distribution methods']},\\n'Distribution': {'next_modes': [], 'failure': None}}</s>\", \"#### Subtask-i: Create a series of digital art pieces inspired by famous historical events\\n{'Create a series of digital art pieces inspired by famous historical events': {'next_modes': ['Curation of online gallery exhibition'], 'failure': ['Retry with a different historical event', 'Switch to a different art medium', 'Request human intervention']},\\n'Curation of online gallery exhibition': {'next_modes': ['Write press releases to publicize the exhibition'], 'failure': ['Retry with a different exhibition theme', 'Seek feedback from peers', 'Fallback to a previously successful exhibition']},\\n'Write press releases to publicize the exhibition': {'next_modes': [], 'failure': None}}\\n\\n#### Subtask-j: Curation of online gallery exhibition\\n{'Curation of online gallery exhibition': {'next_modes': ['Write press releases to publicize the exhibition'], 'failure': ['Retry with a different exhibition theme', 'Seek feedback from peers', 'Fallback to a previously successful exhibition']},\\n'Write press releases to publicize the exhibition': {'next_modes': [], 'failure': None}}\\n\\n#### Subtask-k: Write press releases to publicize the exhibition\\n{'Write press releases to publicize the exhibition': {'next_modes': [], 'failure': None}}</s>\", \"### Subtask-i: Design the online survey\\n{'Design the online survey': {'next_modes': ['Conduct the online survey'], 'failure': ['Retry the design with different questions', 'Switch to a different survey tool', 'Terminate the survey design process']},\\n'Conduct the online survey': {'next_modes': ['Analyze survey results'], 'failure': ['Retry the survey with a smaller sample size', 'Switch to a different survey methodology', 'Terminate the survey process']}}.\\n\\n### Subtask-j: Conduct the online survey\\n{'Conduct the online survey': {'next_modes': ['Analyze survey results'], 'failure': ['Retry the survey with a different mode of communication', 'Switch to a different survey platform', 'Terminate the survey process']}}.\\n\\n### Subtask-k: Analyze survey results\\n{'Analyze survey results': {'next_modes': ['Identify market trends'], 'failure': ['Retry the analysis with a different approach', 'Switch to a different data analysis tool', 'Terminate the analysis process']},\\n'Identify market trends': {'next_modes': [], 'failure': None}}.</s>\", \"Here's a detailed planning for organizing a virtual gallery exhibition showcasing digital art inspired by nature:\\n\\n{'Selecting digital art pieces inspired by nature': {'next_modes': ['Curating the exhibition'], 'failure': ['Retry selecting art pieces', 'Fallback Content', 'Request Human Intervention']},\\n'Curating the exhibition': {'next_modes': ['Designing the virtual gallery space'], 'failure': ['Retry curation', 'Alternative Content', 'Partial Content Delivery']},\\n'Designing the virtual gallery space': {'next_modes': ['Setting up the exhibition'], 'failure': ['Retry designing', 'Fallback Content', 'Partial Content Delivery']},\\n'Setting up the exhibition': {'next_modes': ['Promoting the exhibition'], 'failure': ['Retry setting up', 'Alternative Content', 'Partial Content Delivery']},\\n'Promoting the exhibition': {'next_modes': ['Analyzer'], 'failure': None},\\n'Analyzer': {'next_modes': [], 'failure': None}}</s>\", \"Here's a detailed planning for creating a virtual art gallery tour and producing an audio guide:\\n\\n{'Create a virtual art gallery tour': {'next_modes': ['Produce an audio guide'], 'failure': ['Retry with different artworks', 'Switch to a different medium', 'Request human intervention']},\\n 'Produce an audio guide': {'next_modes': ['Analyzer'], 'failure': ['Retry with different narration styles', 'Switch to a different medium', 'Request human intervention']},\\n 'Analyzer': {'next_modes': [], 'failure': None}}</s>\", \"Here's a possible planning for creating a virtual tour of a historical museum, incorporating narrator audio explanations and interactive multimedia elements:\\n\\n{'Create 3D model of the museum': {'next_modes': ['Record narrator audio explanations', 'Design interactive multimedia elements'],\\n'failure': ['Retry with improved data', 'Switch to a different modeling software', 'Fallback to a 2D representation']},\\n'Record narrator audio explanations': {'next_modes': ['Integrate audio with 3D model'], 'failure': ['Retry with improved recording conditions', 'Use pre-recorded audio', 'Request human intervention for narration']},\\n'Design interactive multimedia elements': {'next_modes': ['Integrate multimedia with 3D model'], 'failure': ['Retry with different design tools', 'Use pre-existing multimedia content', 'Fallback to static images']},\\n'Integrate audio with 3D model': {'next_modes': ['Integrate multimedia with 3D model'], 'failure': ['Retry with improved audio synchronization', 'Use a different audio format', 'Fallback to textual descriptions']},\\n'Integrate multimedia with 3D model': {'next_modes': ['Analyzer'], 'failure': None},\\n'Analyzer': {'next_modes': [], 'failure': None}}</s>\", \"Here's a detailed planning for narrating a documentary script and creating promotional material:\\n\\n{'Narrating a documentary script': {'next_modes': ['Creating promotional material'], 'failure': ['Retry with a different script', 'Switch to a different genre', 'Request human intervention']},\\n 'Creating promotional material': {'next_modes': ['Analyzer'], 'failure': ['Retry with a different design', 'Switch to a different platform', 'Fallback to a simpler design']},\\n 'Analyzer': {'next_modes': [], 'failure': None}}</s>\", \"Here's a possible planning for the composite task:\\n\\n{'Plan and script the documentary': {'next_modes': ['Record wildlife footage', 'Select background music'],\\n'failure': ['Retry the planning phase', 'Switch to a different topic', 'Fallback to a pre-existing script']},\\n'Record wildlife footage': {'next_modes': ['Edit footage for the documentary'], 'failure': ['Retry the recording phase', 'Use stock footage', 'Request assistance from a professional videographer']},\\n'Select background music': {'next_modes': ['Edit footage for the documentary'], 'failure': ['Retry the selection phase', 'Use royalty-free music', 'Fallback to silence']},\\n'Edit footage for the documentary': {'next_modes': ['Narrate the documentary'], 'failure': ['Retry the editing phase', 'Outsource the editing to a professional', 'Use a different editing software']},\\n'Narrate the documentary': {'next_modes': ['Finalize the documentary'], 'failure': ['Retry the narration phase', 'Use text-to-speech software', 'Consider hiring a professional narrator']},\\n'Finalize the documentary': {'next_modes': [], 'failure': None}}</s>\", \"Here's a possible planning for the given composite task:\\n\\n{'Write a short story': {'next_modes': ['Create a storyboard', 'Analyzer'], 'failure': ['Retry writing the story', 'Switch to a different genre', 'Request human intervention']},\\n 'Create a storyboard': {'next_modes': ['Develop an animated short film'], 'failure': ['Retry creating the storyboard', 'Switch to a different medium', 'Request human intervention']},\\n 'Develop an animated short film': {'next_modes': [], 'failure': None},\\n 'Analyzer': {'next_modes': [], 'failure': None}}</s>\", \"Here's a possible planning for the documentary film project:\\n\\n{'Conduct research on the impact of technology on education': {'next_modes': ['Identify potential experts for interviews', 'Gather relevant data'],\\n'failure': ['Retry the research with different keywords or sources', 'Switch to a different topic if necessary']},\\n'Identify potential experts for interviews': {'next_modes': ['Schedule interviews with selected experts'],\\n'failure': ['Retry with alternative experts', 'Use pre-recorded interviews if possible']},\\n'Gather relevant data': {'next_modes': ['Analyze data to support the documentary narrative'],\\n'failure': ['Retry data collection with different sources or methods', 'Use existing data if available']},\\n'Schedule interviews with selected experts': {'next_modes': ['Film interviews with experts'],\\n'failure': ['Reschedule interviews if necessary', 'Use previously recorded interviews if possible']},\\n'Film interviews with experts': {'next_modes': ['Edit interviews to fit the documentary narrative'],\\n'failure': ['Retry filming if technical issues arise', 'Use alternative footage if necessary']},\\n'Analyze data to support the documentary narrative': {'next_modes': ['Edit data visualizations to fit the documentary narrative'],\\n'failure': ['Retry data analysis with different methods or tools', 'Use existing data if available']},\\n'Edit interviews to fit the documentary narrative': {'next_modes': ['Edit data visualizations to fit the documentary narrative'],\\n'failure': ['Retry editing with different approaches', 'Use alternative footage if necessary']},\\n'Edit data visualizations to fit the documentary narrative': {'next_modes': ['Combine interviews and data visualizations in the documentary'],\\n'failure': ['Retry editing with different approaches', 'Use alternative data visualizations if necessary']},\\n'Combine interviews and data visualizations in the documentary': {'next_modes': ['Finalize the documentary'],\\n'failure': ['Retry combining elements if necessary', 'Use alternative footage or data visualizations if necessary']},\\n'Finalize the documentary': {'next_modes': [], 'failure': None}}</s>\", \"### Subtasks:\\n1. Conduct interviews with urban gardeners and experts in the field:{'next_modes': ['Transcribe and edit interviews'], 'failure': ['Retry interview sessions', 'Switch to alternative sources of information']}\\n2. Transcribe and edit interviews:{'next_modes': ['Produce tutorial sections'], 'failure': ['Retry transcription', 'Use alternative sources for content']}\\n3. Produce tutorial sections:{'next_modes': ['Compile community response'], 'failure': ['Retry production', 'Consider alternative formats']}\\n4. Compile community response:{'next_modes': ['Finalize documentary'], 'failure': ['Retry compilation', 'Consider alternative sources for community response']}\\n5. Finalize documentary:{'next_modes': ['Analyzer'], 'failure': None}\\n\\n### Analyzer:\\n{'next_modes': [], 'failure': None}\\n\\n### Analyzer:\\nThe Analyzer subtask is responsible for evaluating the impact of the documentary on community gardening initiatives. This can be done through surveys, interviews, and online engagement metrics. The Analyzer subtask does not have any next modes as it is the final step in the process.</s>\", \"Here's a possible planning for the composite task:\\n\\n{'Create e-book on Roman history': {'next_modes': ['Produce video lectures on Roman history', 'Design quiz questions'],\\n'failure': ['Retry with different content', 'Switch to a different topic', 'Request human intervention']},\\n'Produce video lectures on Roman history': {'next_modes': ['Analyzer'], 'failure': ['Retry with different content', 'Switch to a different format', 'Request human intervention']},\\n'Design quiz questions': {'next_modes': ['Analyzer'], 'failure': ['Retry with different questions', 'Switch to a different format', 'Request human intervention']},\\n'Analyzer': {'next_modes': [], 'failure': None}}</s>\", \"Here's a possible planning for creating a series of educational webinars on sustainable living:\\n\\n{'Create presentation slides': {'next_modes': ['Design handouts', 'Develop quiz questions'],\\n'failure': ['Retry with different slide design', 'Switch to alternative content', 'Request assistance from a design expert']},\\n'Design handouts': {'next_modes': ['Finalize webinar content'],\\n'failure': ['Retry with different handout design', 'Switch to alternative content', 'Request assistance from a design expert']},\\n'Develop quiz questions': {'next_modes': ['Finalize webinar content'],\\n'failure': ['Retry with different quiz questions', 'Switch to alternative content', 'Request assistance from a quiz development expert']},\\n'Finalize webinar content': {'next_modes': ['Record webinar'],\\n'failure': ['Retry with different content', 'Switch to alternative content', 'Request assistance from a content expert']},\\n'Record webinar': {'next_modes': ['Analyzer'],\\n'failure': ['Retry recording', 'Switch to alternative content', 'Request assistance from a recording expert']},\\n'Analyzer': {'next_modes': [], 'failure': None}}</s>\", \"Here's a sample for a story writing, audiobook production, and listener feedback analysis task:\\n\\n{'Write a short story': {'next_modes': ['Produce an audiobook version'], 'failure': ['Retry with a different plot or character, Request human intervention for creative block, Switch to a different genre']},\\n'Produce an audiobook version': {'next_modes': ['Analyze listener feedback'], 'failure': ['Retry with a different narrator, Adjust audio quality, Use text-to-speech as a backup']},\\n'Analyze listener feedback': {'next_modes': [], 'failure': None}}</s>\", \"Here's a possible planning for creating a marketing campaign for a new product:\\n\\n{'Brainstorming brand logo ideas': {'next_modes': ['Brand slogan development'], 'failure': ['Retry with different brainstorming techniques', 'Switch to a different marketing strategy']},\\n'Brand slogan development': {'next_modes': ['Produce a promotional video'], 'failure': ['Retry with different slogan ideas', 'Outsource to a professional copywriter']},\\n'Produce a promotional video': {'next_modes': ['Analyzer'], 'failure': ['Retry with different video production techniques', 'Fallback to a static image campaign']},\\n'Analyzer': {'next_modes': [], 'failure': None}}</s>\", \"Here's a possible planning for the given composite task:\\n\\n{'Write and perform a song inspired by the theme of 'hope'': {'next_modes': ['Create a music video using clips submitted by fans'], 'failure': ['Retry the songwriting process', 'Switch to a different theme', 'Request feedback from a music producer']},\\n'Create a music video using clips submitted by fans': {'next_modes': ['Analyzer'], 'failure': ['Retry the video creation process with different clips', 'Use stock footage as a backup', 'Seek assistance from a professional video editor']},\\n'Analyzer': {'next_modes': [], 'failure': None}}</s>\", \"Here's a detailed planning for the given composite task:\\n\\n{'Develop a mobile app that translates speech to text in real-time': {'next_modes': ['Evaluate app accuracy', 'Evaluate app usability'], 'failure': ['Retry development with different libraries or APIs', 'Switch to a different development approach', 'Log and analyze errors for future improvements']},\\n'Evaluate app accuracy': {'next_modes': ['Analyzer'], 'failure': ['Retry evaluation with a larger dataset', 'Switch to manual testing', 'Log and analyze errors for future improvements']},\\n'Evaluate app usability': {'next_modes': ['Analyzer'], 'failure': ['Retry evaluation with different user groups', 'Switch to alternative usability testing methods', 'Log and analyze errors for future improvements']},\\n'Analyzer': {'next_modes': [], 'failure': None}}</s>\", \"Here's a detailed planning for designing an online course on digital photography, incorporating interactive quizzes and assignments, and gathering learner feedback through surveys:\\n\\n{'Design course content': {'next_modes': ['Create interactive quizzes and assignments', 'Develop survey questions'], 'failure': ['Retry with different content', 'Switch to a different topic', 'Request assistance from a subject matter expert']},\\n 'Create interactive quizzes and assignments': {'next_modes': ['Integrate quizzes and assignments into the course platform'], 'failure': ['Retry with a different format', 'Use pre-existing content', 'Seek help from a technical expert']},\\n 'Develop survey questions': {'next_modes': ['Integrate surveys into the course platform'], 'failure': ['Retry with different questions', 'Use standardized survey templates', 'Consult with a survey design expert']},\\n 'Integrate quizzes and assignments into the course platform': {'next_modes': ['Integrate surveys into the course platform'], 'failure': ['Retry with a different platform', 'Use alternative assessment methods', 'Contact the course platform support']},\\n 'Integrate surveys into the course platform': {'next_modes': ['Analyzer'], 'failure': None},\\n 'Analyzer': {'next_modes': [], 'failure': None}}</s>\", \"Here's a sample planning for creating a video tutorial on how to perform basic maintenance on a bicycle, including a troubleshooting guide for common issues:\\n\\n{'Filming the maintenance process': {'next_modes': ['Editing the video footage', 'Creating a troubleshooting guide'], 'failure': ['Retry filming the process', 'Switch to a different maintenance topic', 'Request assistance from a professional']},\\n'Editing the video footage': {'next_modes': ['Finalizing the video tutorial'], 'failure': ['Retry editing the footage', 'Use stock footage as a placeholder', 'Consider alternative video editing software']},\\n'Creating a troubleshooting guide': {'next_modes': ['Finalizing the video tutorial'], 'failure': ['Retry creating the guide', 'Use a pre-existing troubleshooting guide as a template', 'Consult a bicycle mechanic for expert advice']},\\n'Finalizing the video tutorial': {'next_modes': [], 'failure': None},\\n'Analyzer': {'next_modes': [], 'failure': None}}</s>\", \"Here's a detailed planning for the educational podcast series on historical revolutions:\\n\\n{'Script writing': {'next_modes': ['Recording interviews', 'Integrating sound effects and music'],\\n'failure': ['Retry with a different topic', 'Switch to a different format', 'Request assistance from a professional writer']},\\n'Recording interviews': {'next_modes': ['Integrating sound effects and music'],\\n'failure': ['Retry with a different expert', 'Use previously recorded interviews', 'Consider using stock interviews']},\\n'Integrating sound effects and music': {'next_modes': ['Analyzer'],\\n'failure': ['Retry with different sound effects or music', 'Use royalty-free sound effects or music', 'Consider using text descriptions instead']},\\n'Analyzer': {'next_modes': [], 'failure': None}}</s>\", \"Here's a sample for composing a short story and narrating it in a podcast episode with sound effects:\\n\\n{'Compose a short story': {'next_modes': ['Record a podcast episode with narration and sound effects'], 'failure': ['Retry with a different story idea', 'Switch to a different creative outlet', 'Request human intervention for inspiration']},\\n'Record a podcast episode with narration and sound effects': {'next_modes': ['Analyzer'], 'failure': ['Retry the recording', 'Use a pre-recorded narration', 'Fallback to a text-to-speech engine']},\\n'Analyzer': {'next_modes': [], 'failure': None}}</s>\", \"Here's a possible planning for the given composite task:\\n\\n{'Create social media posts': {'next_modes': ['Create images', 'Create short video clips'],\\n'failure': ['Retry with different content', 'Switch to a different social media platform', 'Log and Analyze for future improvements']},\\n'Create images': {'next_modes': ['Schedule posts'], 'failure': ['Retry with different image', 'Switch to a different image source', 'Log and Analyze for future improvements']},\\n'Create short video clips': {'next_modes': ['Schedule posts'], 'failure': ['Retry with different content', 'Switch to a different video format', 'Log and Analyze for future improvements']},\\n'Schedule posts': {'next_modes': ['Analyze campaign impact'], 'failure': ['Retry at a later time', 'Switch to a different social media platform', 'Log and Analyze for future improvements']},\\n'Analyze campaign impact': {'next_modes': [], 'failure': None}}</s>\", \"#### Translate a short story into a graphic novel format:{'Translate story to script': {'next_modes': ['Design storyboard', 'Create concept art'], 'failure': ['Retry translation with different approach', 'Switch to different format', 'Request human intervention']},\\n'Design storyboard': {'next_modes': ['Create panels', 'Select appropriate visual elements'], 'failure': ['Retry design with different approach', 'Switch to different format', 'Request human intervention']},\\n'Create panels': {'next_modes': ['Add dialogue and captions'], 'failure': ['Retry creation with different approach', 'Switch to different format', 'Request human intervention']},\\n'Add dialogue and captions': {'next_modes': ['Finalize graphic novel'], 'failure': ['Retry addition with different approach', 'Switch to different format', 'Request human intervention']},\\n'Finalize graphic novel': {'next_modes': ['Analyzer'], 'failure': None}}\\n\\n#### Create an audio narration of the translated story:{'Write script for audio narration': {'next_modes': ['Record narration'], 'failure': ['Retry writing with different approach', 'Switch to different format', 'Request human intervention']},\\n'Record narration': {'next_modes': ['Edit audio'], 'failure': ['Retry recording with different approach', 'Switch to different format', 'Request human intervention']},\\n'Edit audio': {'next_modes': ['Analyzer'], 'failure': None}}\\n\\n#### Analyzer:{'Analyze final graphic novel and audio narration': {'next_modes': [], 'failure': None}}</s>\", \"Here's a detailed planning for hosting an online webinar on digital marketing trends, including a live Q&A session:\\n\\n{'Selecting a webinar platform': {'next_modes': ['Creating a webinar agenda', 'Setting up the webinar environment'],\\n'failure': ['Retry selecting a different platform', 'Fallback to a different format (e.g., pre-recorded video)']},\\n'Creating a webinar agenda': {'next_modes': ['Preparing presentation materials', 'Inviting guest speakers'],\\n'failure': ['Retry creating a new agenda', 'Use a previously successful agenda as a backup']},\\n'Preparing presentation materials': {'next_modes': ['Setting up the webinar environment'], 'failure': ['Retry preparing materials', 'Use stock images or templates as a backup']},\\n'Setting up the webinar environment': {'next_modes': ['Conducting the webinar', 'Managing the live Q&A session'], 'failure': ['Retry setting up the environment', 'Switch to a different platform or format']},\\n'Inviting guest speakers': {'next_modes': ['Conducting the webinar'], 'failure': ['Retry inviting speakers', 'Use pre-recorded interviews as a backup']},\\n'Conducting the webinar': {'next_modes': ['Managing the live Q&A session'], 'failure': ['Retry conducting the webinar', 'Switch to a pre-recorded format']},\\n'Managing the live Q&A session': {'next_modes': ['Analyzer'], 'failure': None},\\n'Analyzer': {'next_modes': [], 'failure': None}}</s>\", \"Here's a possible planning for designing a voice-activated mobile app to teach children basic math, incorporating interactive quizzes and rewards:\\n\\n{'Design the user interface': {'next_modes': ['Develop voice recognition functionality', 'Create interactive quizzes'],\\n'failure': ['Retry the design process', 'Switch to a different design approach', 'Fallback to a simpler interface']},\\n'Develop voice recognition functionality': {'next_modes': ['Integrate with the app'], 'failure': ['Retry development', 'Switch to a different recognition method', 'Fallback to text input']},\\n'Create interactive quizzes': {'next_modes': ['Integrate with the app'], 'failure': ['Retry quiz creation', 'Switch to a different quiz format', 'Fallback to static quizzes']},\\n'Integrate with the app': {'next_modes': ['Implement rewards system'], 'failure': ['Retry integration', 'Switch to a different integration method', 'Fallback to a basic app version']},\\n'Implement rewards system': {'next_modes': ['Analyzer'], 'failure': ['Retry implementation', 'Switch to a different reward system', 'Fallback to no rewards']},\\n'Analyzer': {'next_modes': [], 'failure': None}}</s>\", \"Here's a detailed planning for designing a logo and creating an animated introduction video:\\n\\n{'Design a logo': {'next_modes': ['Create an animated introduction video'], 'failure': ['Retry with different design elements', 'Switch to a different design approach', 'Request human intervention']},\\n 'Create an animated introduction video': {'next_modes': ['Analyzer'], 'failure': ['Retry with different animation techniques', 'Switch to a different animation style', 'Request human intervention']},\\n 'Analyzer': {'next_modes': [], 'failure': None}}</s>\", \"Here's a possible planning for the marketing campaign for a new book release:\\n\\n{'Design social media posts': {'next_modes': ['Create promotional videos', 'Organize interactive online events'],\\n'failure': ['Retry with different content', 'Switch to alternative marketing channels', 'Log and analyze for future improvements']},\\n'Create promotional videos': {'next_modes': ['Analyzer'], 'failure': ['Retry with different content', 'Outsource to a professional video editor', 'Fallback to static images']},\\n'Organize interactive online events': {'next_modes': ['Analyzer'], 'failure': ['Retry with different format or time', 'Cancel and refund', 'Adjust expectations and communicate with audience']},\\n'Analyzer': {'next_modes': [], 'failure': None}}</s>\", \"Here's a possible planning for designing a VR tour of a historical site, incorporating educational content and interactive quizzes:\\n\\n{'Design VR environment': {'next_modes': ['Create educational content', 'Develop interactive quizzes'],\\n'failure': ['Retry with different VR software', 'Switch to a 2D virtual tour', 'Request assistance from a VR expert']},\\n'Create educational content': {'next_modes': ['Integrate content into VR environment'],\\n'failure': ['Retry with different content creation tools', 'Use pre-existing educational content', 'Seek help from a content developer']},\\n'Develop interactive quizzes': {'next_modes': ['Integrate quizzes into VR environment'],\\n'failure': ['Retry with different quiz development tools', 'Use pre-existing quizzes', 'Seek help from a quiz developer']},\\n'Integrate content into VR environment': {'next_modes': ['Test VR tour for educational value and interactivity'],\\n'failure': ['Retry with different integration methods', 'Request assistance from a VR developer', 'Fallback to a static presentation']},\\n'Integrate quizzes into VR environment': {'next_modes': ['Test VR tour for educational value and interactivity'],\\n'failure': ['Retry with different integration methods', 'Request assistance from a VR developer', 'Fallback to a static presentation']},\\n'Test VR tour for educational value and interactivity': {'next_modes': ['Analyzer'],\\n'failure': None},\\n'Analyzer': {'next_modes': [], 'failure': None}}</s>\", \"### Subtasks:\\n1. Design VR experience for Mars exploration:{'next_modes': ['Create VR environment', 'Develop interactive elements'], 'failure': ['Retry with different design approach', 'Switch to alternative VR platform', 'Log and analyze failure for future improvements']}\\n2. Create VR environment:{'next_modes': ['Integrate Mars terrain data', 'Add atmospheric effects'], 'failure': ['Retry with different data source', 'Fallback to pre-existing environment', 'Request assistance from VR development community']}\\n3. Integrate Mars terrain data:{'next_modes': ['Test VR environment for user experience'], 'failure': ['Retry with different data processing method', 'Switch to alternative data source', 'Log and analyze failure for future improvements']}\\n4. Add atmospheric effects:{'next_modes': ['Test VR environment for user experience'], 'failure': ['Retry with different effect implementation', 'Fallback to simpler effects', 'Log and analyze failure for future improvements']}\\n5. Develop interactive elements:{'next_modes': ['Test VR environment for user experience'], 'failure': ['Retry with different interaction design', 'Switch to alternative interaction method', 'Log and analyze failure for future improvements']}\\n6. Test VR environment for user experience:{'next_modes': ['Write review article'], 'failure': ['Retry with different testing approach', 'Fallback to pre-existing testing method', 'Log and analyze failure for future improvements']}\\n7. Write review article:{'next_modes': [], 'failure': None}\\n\\n### Analyzer:\\n{'next_modes': [], 'failure': None}</s>\", \"#### Translation:{'Translate storybook into Language-1': {'next_modes': ['Translate storybook into Language-2', 'Translate storybook into Language-3'],\\n'failure': ['Retry with a different translator', 'Switch to a different translation method', 'Fallback to a simpler version of the story']},\\n'Translate storybook into Language-2': {'next_modes': ['Translate storybook into Language-3'], 'failure': ['Retry with a different translator', 'Switch to a different translation method', 'Fallback to a simpler version of the story']},\\n'Translate storybook into Language-3': {'next_modes': ['Create audio book versions for each language'], 'failure': ['Retry with a different translator', 'Switch to a different translation method', 'Fallback to a simpler version of the story']},\\n\\n#### Audio Book Creation{'Create audio book version for Language-1': {'next_modes': ['Create audio book version for Language-2', 'Create audio book version for Language-3'], 'failure': ['Retry with a different narrator', 'Switch to a different audio book creation method', 'Fallback to a text-only version']},\\n'Create audio book version for Language-2': {'next_modes': ['Create audio book version for Language-3'], 'failure': ['Retry with a different narrator', 'Switch to a different audio book creation method', 'Fallback to a text-only version']},\\n'Create audio book version for Language-3': {'next_modes': ['Design promotional material for social media'], 'failure': ['Retry with a different narrator', 'Switch to a different audio book creation method', 'Fallback to a text-only version']},\\n\\n#### Promotional Material{'Design promotional material for social media': {'next_modes': ['Analyzer'], 'failure': None}}\\n\\n#### Analyzer{'Analyzer': {'next_modes': [], 'failure': None}}</s>\", \"Here's a possible planning for the podcast episode:\\n\\n{'Researching the topic': {'next_modes': ['Conducting expert interviews', 'Gathering listener questions'],\\n'failure': ['Retry the research with alternative sources', 'Switch to a different topic']},\\n'Conducting expert interviews': {'next_modes': ['Editing and incorporating interviews'],\\n'failure': ['Retry the interview with a different expert', 'Use pre-recorded interviews']},\\n'Gathering listener questions': {'next_modes': ['Editing and incorporating listener questions'],\\n'failure': ['Retry the collection of questions', 'Use pre-recorded questions']},\\n'Editing and incorporating interviews': {'next_modes': ['Adding futuristic sound effects'],\\n'failure': ['Retry the editing process', 'Use stock sound effects']},\\n'Adding futuristic sound effects': {'next_modes': ['Finalizing the episode'],\\n'failure': ['Retry the addition of sound effects', 'Use simpler sound effects']},\\n'Finalizing the episode': {'next_modes': [], 'failure': None}}</s>\", \"Here's a detailed planning for the given composite task:\\n\\n{'Generate a virtual interior design for a living room': {'next_modes': ['Create a 3D walkthrough video of the design', 'Compose a piece of ambient music to accompany the video'],\\n'failure': ['Retry the design process with different design elements', 'Switch to a different design style', 'Request human intervention for design ideas']},\\n'Create a 3D walkthrough video of the design': {'next_modes': ['Analyzer'], 'failure': ['Retry the video creation process with improved rendering settings', 'Switch to a different video creation software', 'Request human intervention for video editing']},\\n'Compose a piece of ambient music to accompany the video': {'next_modes': ['Analyzer'], 'failure': ['Retry the composition process with different instruments or melodies', 'Switch to a different music genre', 'Request human intervention for musical inspiration']},\\n'Analyzer': {'next_modes': [], 'failure': None}}</s>\", \"Here's a detailed planning for creating an animated short film that illustrates the water cycle, complete with narration, sound effects, and a study guide:\\n\\n{'Create storyboard and script': {'next_modes': ['Design and create animations', 'Record narration', 'Select and create sound effects'],\\n'failure': ['Retry with a simplified storyboard', 'Switch to a different animation style', 'Fallback to a text-based explanation']},\\n'Design and create animations': {'next_modes': ['Integrate animations with narration and sound effects'],\\n'failure': ['Retry with a different animation software', 'Outsource animation creation to a professional', 'Use stock animations as a placeholder']},\\n'Record narration': {'next_modes': ['Integrate narration with animations and sound effects'],\\n'failure': ['Retry with a different recording setup', 'Use text-to-speech software', 'Consider using a voice-over artist']},\\n'Select and create sound effects': {'next_modes': ['Integrate sound effects with animations and narration'],\\n'failure': ['Retry with a different sound effect library', 'Use royalty-free sound effects', 'Consider using music instead of sound effects']},\\n'Integrate animations, narration, and sound effects': {'next_modes': ['Create a study guide'],\\n'failure': ['Retry with a different integration method', 'Fallback to a simplified version of the film', 'Seek assistance from a multimedia expert']},\\n'Create a study guide': {'next_modes': ['Finalize the project'],\\n'failure': ['Retry with a different format or layout', 'Use an existing study guide as a template', 'Consider offering the study guide as a separate download']},\\n'Finalize the project': {'next_modes': [], 'failure': None}}</s>\", \"Here's a possible planning for the educational app development:\\n\\n{'Design interactive lessons': {'next_modes': ['Develop quizzes', 'Create code snippets'], 'failure': ['Retry with different content', 'Switch to alternative teaching methods', 'Log and analyze for future improvements']},\\n'Develop quizzes': {'next_modes': ['Integrate quizzes into lessons'], 'failure': ['Retry with different question types', 'Request human intervention for content review', 'Fallback to simpler quiz formats']},\\n'Create code snippets': {'next_modes': ['Integrate code snippets into lessons'], 'failure': ['Retry with different code examples', 'Switch to alternative code platforms', 'Log and analyze for future improvements']},\\n'Integrate quizzes into lessons': {'next_modes': ['Integrate code snippets into lessons'], 'failure': ['Retry with different quiz formats', 'Request human intervention for content review', 'Fallback to simpler quiz formats']},\\n'Integrate code snippets into lessons': {'next_modes': ['Analyzer'], 'failure': None},\\n'Analyzer': {'next_modes': [], 'failure': None}}</s>\", \"Here's a possible planning for the podcast episode on the impact of AI on education:\\n\\n{'Conduct research on AI in education': {'next_modes': ['Identify and contact experts for interviews'], 'failure': ['Retry with alternative sources', 'Fallback Content: Use existing research']},\\n'Identify and contact experts for interviews': {'next_modes': ['Schedule and conduct interviews'], 'failure': ['Retry with alternative experts', 'Fallback Content: Use existing interviews']},\\n'Schedule and conduct interviews': {'next_modes': ['Record and transcribe interviews'], 'failure': ['Retry with alternative dates', 'Fallback Content: Use existing interviews']},\\n'Record and transcribe interviews': {'next_modes': ['Write and record a synthesized summary'], 'failure': ['Retry with alternative recording equipment', 'Fallback Content: Use existing summaries']},\\n'Write and record a synthesized summary': {'next_modes': ['Edit and finalize the podcast episode'], 'failure': ['Retry with alternative summaries', 'Fallback Content: Use existing summaries']},\\n'Edit and finalize the podcast episode': {'next_modes': [], 'failure': None}}</s>\", \"Here's a possible planning for the task:\\n\\n{'Develop storyline and illustrations': {'next_modes': ['Create interactive puzzles', 'Write code examples'],\\n'failure': ['Retry with a different storyline', 'Switch to a different concept', 'Fallback to a simpler story']},\\n'Create interactive puzzles': {'next_modes': ['Integrate code examples'], 'failure': ['Retry with a different puzzle', 'Request human intervention', 'Use pre-existing puzzles']},\\n'Write code examples': {'next_modes': ['Integrate code examples'], 'failure': ['Retry with a different code example', 'Fallback to a simpler code example', 'Use pre-existing code examples']},\\n'Integrate code examples': {'next_modes': ['Analyzer'], 'failure': None},\\n'Analyzer': {'next_modes': [], 'failure': None}}</s>\", \"Here's a detailed planning for the comparative analysis between two smartphones, culminating in a blog post with a comparison infographic:\\n\\n{'Researching smartphone specifications': {'next_modes': ['Gathering user reviews', 'Creating a comparison table'], 'failure': ['Retry the research', 'Switch to a different comparison topic']},\\n 'Gathering user reviews': {'next_modes': ['Analyzing user feedback'], 'failure': ['Retry the data collection', 'Use alternative data sources']},\\n 'Creating a comparison table': {'next_modes': ['Designing the infographic'], 'failure': ['Retry the table creation', 'Simplify the table']},\\n 'Analyzing user feedback': {'next_modes': ['Identifying common themes'], 'failure': ['Retry the analysis', 'Seek expert advice']},\\n 'Designing the infographic': {'next_modes': ['Writing the blog post'], 'failure': ['Retry the design', 'Use a different visualization method']},\\n 'Writing the blog post': {'next_modes': ['Finalizing the post'], 'failure': ['Retry the writing', 'Use a different writing style']},\\n 'Finalizing the post': {'next_modes': [], 'failure': None}}</s>\", \"### Here's a possible planning for the marketing campaign:\\n{'Create social media ads': {'next_modes': ['Write blog posts', 'Design interactive online experience'],\\n'failure': ['Retry with different ad content', 'Switch to different social media platforms', 'Fallback to email marketing']},\\n'Write blog posts': {'next_modes': ['Design interactive online experience'], 'failure': ['Retry with different content', 'Outsource to a professional blogger', 'Cancel the campaign']},\\n'Design interactive online experience': {'next_modes': ['Analyzer'], 'failure': ['Retry with different design elements', 'Fallback to a simpler online experience', 'Terminate the campaign']},\\n'Analyzer': {'next_modes': [], 'failure': None}}</s>\", \"Here's a possible planning for the multi-platform marketing campaign:\\n\\n{'Draft press release': {'next_modes': ['Design social media content', 'Prepare launch event presentation'],\\n'failure': ['Retry drafting the press release', 'Switch to a different marketing strategy', 'Fallback to a pre-written press release']},\\n'Design social media content': {'next_modes': ['Prepare launch event presentation'], 'failure': ['Retry designing the content', 'Outsource to a social media agency', 'Use generic templates']},\\n'Prepare launch event presentation': {'next_modes': ['Analyzer'], 'failure': ['Retry preparing the presentation', 'Switch to a virtual event', 'Fallback to a PowerPoint presentation']},\\n'Analyzer': {'next_modes': [], 'failure': None}}</s>\", \"Here's a detailed planning for designing a virtual reality (VR) tour of a historical museum, including 360-degree images and informational overlays:\\n\\n{'Capture 360-degree images of the museum': {'next_modes': ['Design informational overlays', 'Integrate 360-degree images and overlays'],\\n'failure': ['Retry capturing images', 'Switch to alternative sources for images', 'Request human intervention for image quality enhancement']},\\n'Design informational overlays': {'next_modes': ['Integrate 360-degree images and overlays'],\\n'failure': ['Retry designing overlays', 'Switch to alternative content sources', 'Request human intervention for design improvements']},\\n'Integrate 360-degree images and overlays': {'next_modes': ['Test VR tour for user experience'],\\n'failure': ['Retry integration', 'Switch to alternative VR platforms', 'Request human intervention for technical issues']},\\n'Test VR tour for user experience': {'next_modes': ['Analyzer'], 'failure': None},\\n'Analyzer': {'next_modes': [], 'failure': None}}</s>\", \"Here's a possible planning for the given composite task:\\n\\n{'Narrate a short story': {'next_modes': ['Create a complementary soundtrack'], 'failure': ['Retry with different story elements', 'Switch to a different genre', 'Request human intervention']},\\n 'Create a complementary soundtrack': {'next_modes': ['Combine both into an audiobook'], 'failure': ['Retry with different music elements', 'Switch to a different genre', 'Request human intervention']},\\n 'Combine both into an audiobook': {'next_modes': [], 'failure': None}}</s>\", \"Here's a detailed planning for creating a marketing video for a new software tool:\\n\\n{'Script writing': {'next_modes': ['Voiceover recording', 'Video editing'], 'failure': ['Retry with a different script', 'Switch to a different marketing strategy', 'Request human intervention']},\\n 'Voiceover recording': {'next_modes': ['Video editing'], 'failure': ['Retry with a different voiceover artist', 'Use text-to-speech software', 'Consider alternative marketing channels']},\\n 'Video editing': {'next_modes': ['Publishing'], 'failure': ['Retry with a different editing software', 'Outsource to a professional video editor', 'Fallback to a simpler video format']},\\n 'Publishing': {'next_modes': [], 'failure': None}}</s>\", \"Here's a detailed planning for designing a virtual interior for a living room and creating a marketing video showcasing the design with a voiceover:\\n\\n{'Design a virtual interior for a living room': {'next_modes': ['Create a marketing video with a voiceover'], 'failure': ['Retry the design process', 'Switch to a different design approach', 'Request human intervention']},\\n 'Create a marketing video with a voiceover': {'next_modes': ['Analyzer'], 'failure': ['Retry the video creation process', 'Switch to a different video format', 'Request human intervention']},\\n 'Analyzer': {'next_modes': [], 'failure': None}}</s>\", \"Here's a sample for the given task:\\n{'Collect customer reviews': {'next_modes': ['Clean and preprocess data', 'Analyze sentiment'], 'failure': ['Retry collection', 'Switch to alternative data source', 'Log and Analyze']},\\n'Clean and preprocess data': {'next_modes': ['Analyze sentiment'], 'failure': ['Retry data cleaning', 'Switch to manual data cleaning', 'Log and Analyze']},\\n'Analyze sentiment': {'next_modes': ['Design infographic'], 'failure': ['Retry sentiment analysis', 'Switch to manual analysis', 'Log and Analyze']},\\n'Design infographic': {'next_modes': [], 'failure': None}}</s>\", \"Here's a detailed planning for composing a narrative podcast episode with background music, sound effects, and multiple character voices, followed by transcribing the episode to text:\\n\\n{'Compose background music': {'next_modes': ['Record sound effects', 'Record character voices'], 'failure': ['Retry with different music, Switch to a different genre, Use royalty-free music']},\\n'Record sound effects': {'next_modes': ['Mix background music and sound effects'], 'failure': ['Retry with better sound quality, Use alternative sound effects, Request assistance from a sound designer']},\\n'Record character voices': {'next_modes': ['Mix background music, sound effects, and character voices'], 'failure': ['Retry with different voice actors, Use text-to-speech, Edit the script to simplify character dialogue']},\\n'Mix background music, sound effects, and character voices': {'next_modes': ['Transcribe the episode to text'], 'failure': ['Retry with better mixing, Use a different audio editing software, Consider outsourcing to a professional audio editor']},\\n'Transcribe the episode to text': {'next_modes': ['Analyzer'], 'failure': None},\\n'Analyzer': {'next_modes': [], 'failure': None}}</s>\", \"Here's a possible planning for creating an engaging educational video on climate change effects and mitigation strategies:\\n\\n{'Research climate change effects and mitigation strategies': {'next_modes': ['Script writing', 'Video production planning'], 'failure': ['Retry research with different sources', 'Switch to a different topic']},\\n'Script writing': {'next_modes': ['Video production'], 'failure': ['Revise the script', 'Seek professional help']},\\n'Video production planning': {'next_modes': ['Video production'], 'failure': ['Revise the plan', 'Outsource the planning to a professional']},\\n'Video production': {'next_modes': ['Video editing'], 'failure': ['Retry the production', 'Use stock footage']},\\n'Video editing': {'next_modes': ['Final review and approval'], 'failure': ['Retry editing', 'Seek professional help']},\\n'Final review and approval': {'next_modes': [], 'failure': None}}</s>\", \"Here's a possible planning for the given composite task:\\n\\n{'Translate the short story into another language': {'next_modes': ['Convert the translated text into a script for a voiceover'], 'failure': ['Retry with a different translation tool', 'Switch to a different language', 'Request human intervention']},\\n 'Convert the translated text into a script for a voiceover': {'next_modes': ['Produce the voiceover audio'], 'failure': ['Retry with a different script format', 'Switch to a different voiceover platform', 'Request human intervention']},\\n 'Produce the voiceover audio': {'next_modes': ['Analyzer'], 'failure': ['Retry with a different voiceover artist', 'Switch to a different audio editing software', 'Request human intervention']},\\n 'Analyzer': {'next_modes': [], 'failure': None}}</s>\", \"Here's a sample for writing a short story and adapting it into a screenplay format:\\n\\n{'Write a short story': {'next_modes': ['Adapt the short story into a screenplay'], 'failure': ['Retry writing the story', 'Switch to a different genre', 'Request human intervention']},\\n'Adapt the short story into a screenplay': {'next_modes': ['Analyzer'], 'failure': ['Retry adapting the screenplay', 'Fallback to a different format', 'Exit the task']},\\n'Analyzer': {'next_modes': [], 'failure': None}}</s>\", \"Here's a possible planning for the given composite task:\\n\\n{'Compose a theme song for a podcast': {'next_modes': ['Produce a transcript of the lyrics'], 'failure': ['Retry the composition with a different melody or mood', 'Switch to a different genre or style', 'Request human intervention for inspiration']},\\n'Produce a transcript of the lyrics': {'next_modes': ['Analyze the sentiment'], 'failure': ['Retry the transcription with improved audio quality', 'Use a different transcription software', 'Manually correct errors']},\\n'Analyze the sentiment': {'next_modes': [], 'failure': None}}</s>\", \"Here's a detailed planning for converting a blog post into a podcast episode and then an animated video summarizing the main points:\\n\\n{'Convert blog post to podcast script': {'next_modes': ['Record podcast episode'], 'failure': ['Retry with modifications to the script', 'Switch to a different format', 'Request human intervention']},\\n 'Record podcast episode': {'next_modes': ['Edit podcast episode'], 'failure': ['Retry recording', 'Use a pre-recorded segment', 'Request human intervention']},\\n 'Edit podcast episode': {'next_modes': ['Create animated video script'], 'failure': ['Retry editing', 'Use a different editing software', 'Request human intervention']},\\n 'Create animated video script': {'next_modes': ['Produce animated video'], 'failure': ['Retry scripting', 'Use a different animation style', 'Request human intervention']},\\n 'Produce animated video': {'next_modes': ['Analyzer'], 'failure': ['Retry production', 'Use a different animation tool', 'Request human intervention']},\\n 'Analyzer': {'next_modes': [], 'failure': None}}</s>\", \"Here's a possible planning for the given composite task:\\n\\n{'Analyze artwork': {'next_modes': ['Create infographic'], 'failure': ['Retry with different analysis techniques', 'Switch to a different artwork', 'Request human intervention']},\\n 'Create infographic': {'next_modes': [], 'failure': ['Retry with different design tools', 'Switch to a different format', 'Request human intervention']},\\n 'Analyzer': {'next_modes': [], 'failure': None}}</s>\", \"Here's a possible planning for creating a short animated video explaining the water cycle:\\n\\n{'Create storyboard and script': {'next_modes': ['Design animations', 'Record narration', 'Select background music'],\\n'failure': ['Retry with a different script', 'Switch to a different medium (e.g., infographic)']},\\n'Design animations': {'next_modes': ['Integrate animations with narration and music'], 'failure': ['Retry with simplified animations', 'Outsource to a professional animator']},\\n'Record narration': {'next_modes': ['Integrate animations with narration and music'], 'failure': ['Retry with a different voiceover artist', 'Use text-to-speech']},\\n'Select background music': {'next_modes': ['Integrate animations with narration and music'], 'failure': ['Retry with different music', 'Use royalty-free music']},\\n'Integrate animations with narration and music': {'next_modes': ['Analyzer'], 'failure': ['Retry with different editing software', 'Request human intervention for editing']},\\n'Analyzer': {'next_modes': [], 'failure': None}}</s>\", \"Here's a possible planning for the given composite task:\\n\\n{'Write a review of a newly launched tech product': {'next_modes': ['Create infographics summarizing key features', 'Share on social media'],\\n'failure': ['Retry the review writing', 'Switch to a different product for review', 'Request assistance from a tech expert']},\\n'Create infographics summarizing key features': {'next_modes': ['Share on social media'], 'failure': ['Retry the infographic creation', 'Use a different design tool', 'Outsource the task to a graphic designer']},\\n'Share on social media': {'next_modes': ['Analyzer'], 'failure': ['Retry the post', 'Switch to a different social media platform', 'Analyze the engagement data to identify the cause of low engagement']},\\n'Analyzer': {'next_modes': [], 'failure': None}}</s>\", \"Here's a possible planning for the given composite task:\\n\\n{'Analyze sales data to identify trends': {'next_modes': ['Write and publish a detailed report with graphs and recommendations'], 'failure': ['Retry the analysis with different parameters', 'Switch to a different data source', 'Log and analyze the failure for future improvements']},\\n'Write and publish a detailed report with graphs and recommendations': {'next_modes': [], 'failure': ['Retry the report writing with different recommendations', 'Request human intervention for report writing', 'Fallback to a simpler report format']},\\n'Analyzer': {'next_modes': [], 'failure': None}}</s>\", \"Here's a possible planning for documenting a cultural festival through photography, compiling the images into a digital photo essay, and narrating the story behind the photos in a podcast episode:\\n\\n{'Document the cultural festival through photography': {'next_modes': ['Compile the images into a digital photo essay'], 'failure': ['Retry the photography session', 'Switch to video recording', 'Use stock images']},\\n 'Compile the images into a digital photo essay': {'next_modes': ['Narrate the story behind the photos in a podcast episode'], 'failure': ['Retry the compilation process', 'Seek professional help', 'Use alternative storytelling methods']},\\n 'Narrate the story behind the photos in a podcast episode': {'next_modes': [], 'failure': None}}</s>\", \"Here's a possible planning for the given composite task:\\n\\n{'Compose a piece of music inspired by a painting': {'next_modes': ['Perform the music live'], 'failure': ['Retry with a different painting', 'Switch to a different art form', 'Record the composition for later analysis']},\\n 'Perform the music live': {'next_modes': ['Analyze the performance impact'], 'failure': ['Retry the performance', 'Record the performance for later analysis', 'Seek feedback from peers']},\\n 'Analyze the performance impact': {'next_modes': [], 'failure': None}}</s>\", \"Here's a detailed planning for designing a logo and creating an animated introduction video:\\n\\n{'Design a logo': {'next_modes': ['Create an animated introduction video'],\\n'detailed description of failure': ['Retry the design process with different concepts', 'Switch to a simpler design', 'Request human intervention for creative direction']},\\n'Create an animated introduction video': {'next_modes': ['Analyzer'],\\n'detailed description of failure': ['Retry the animation process with different techniques', 'Use a pre-made template', 'Request human intervention for animation skills']},\\n'Analyzer': {'next_modes': [], 'failure': None}}</s>\", \"Here's a possible planning for producing and releasing a podcast episode about the Bermuda Triangle:\\n\\n{'Conduct research on Bermuda Triangle': {'next_modes': ['Identify and contact experts for interviews'], 'failure': ['Retry with alternative sources', 'Fallback to pre-existing research']},\\n'Identify and contact experts for interviews': {'next_modes': ['Record interviews with experts'], 'failure': ['Retry with alternative experts', 'Use pre-recorded interviews if necessary']},\\n'Record interviews with experts': {'next_modes': ['Select and edit sound effects', 'Prepare listener interactive segments'], 'failure': ['Retry recording', 'Use stock sound effects']},\\n'Select and edit sound effects': {'next_modes': ['Mix interviews, sound effects, and listener interactive segments'], 'failure': ['Retry selection', 'Use fewer sound effects']},\\n'Prepare listener interactive segments': {'next_modes': ['Mix interviews, sound effects, and listener interactive segments'], 'failure': ['Retry preparation', 'Use simpler interactive segments']},\\n'Mix interviews, sound effects, and listener interactive segments': {'next_modes': ['Finalize episode', 'Analyzer'], 'failure': ['Retry mixing', 'Use a simpler episode structure']},\\n'Finalize episode': {'next_modes': ['Release episode on podcast platforms'], 'failure': ['Retry finalization', 'Release a shorter episode']},\\n'Analyzer': {'next_modes': [], 'failure': None}}</s>\", \"Here's a possible planning for the given composite task:\\n\\n{'Analyze social media trends': {'next_modes': ['Create targeted ad campaign'], 'failure': ['Retry with different keywords or platforms', 'Switch to a different analysis tool', 'Log and Analyze for future improvements']},\\n 'Create targeted ad campaign': {'next_modes': ['Measure ad campaign impact'], 'failure': ['Retry with different ad formats or targeting options', 'Request human intervention for creative direction', 'Fallback to a generic ad campaign']},\\n 'Measure ad campaign impact': {'next_modes': ['Analyzer'], 'failure': ['Retry with different metrics or data sources', 'Switch to a different analytics tool', 'Log and Analyze for future improvements']},\\n 'Analyzer': {'next_modes': [], 'failure': None}}</s>\", \"Here's a possible planning for the given task:\\n\\n{'Develop ebook on beekeeping': {'next_modes': ['Create instructional videos', 'Record podcast episode'],\\n'failure': ['Retry with different content', 'Switch to a different format', 'Request expert assistance']},\\n'Create instructional videos': {'next_modes': ['Edit and finalize videos'],\\n'failure': ['Retry with different filming techniques', 'Use stock footage', 'Seek professional help']},\\n'Edit and finalize videos': {'next_modes': ['Analyzer'], 'failure': ['Retry with different editing software', 'Outsource editing', 'Fallback to text-based content']},\\n'Record podcast episode': {'next_modes': ['Edit and finalize podcast'],\\n'failure': ['Retry with different recording equipment', 'Use pre-recorded content', 'Seek professional help']},\\n'Edit and finalize podcast': {'next_modes': ['Analyzer'], 'failure': ['Retry with different editing software', 'Outsource editing', 'Fallback to text-based content']},\\n'Analyzer': {'next_modes': [], 'failure': None}}</s>\", \"Here's a possible planning for the task:\\n\\n{'Develop voice recognition system': {'next_modes': ['Integrate voice recognition with app', 'Implement feedback system'],\\n'failure': ['Retry with different voice recognition API', 'Switch to text-to-speech input', 'Exit the feature development']},\\n'Integrate voice recognition with app': {'next_modes': ['Test voice recognition accuracy'], 'failure': ['Retry integration', 'Fallback to text input', 'Log and analyze errors']},\\n'Test voice recognition accuracy': {'next_modes': ['Implement feedback system'], 'failure': ['Retry testing', 'Adjust recognition settings', 'Exit the feature development']},\\n'Implement feedback system': {'next_modes': ['Analyzer'], 'failure': ['Retry implementation', 'Switch to manual feedback', 'Log and analyze errors']},\\n'Analyzer': {'next_modes': [], 'failure': None}}</s>\", \"Here's a detailed planning for the VR tour development:\\n\\n{'Develop VR environment': {'next_modes': ['Create narrative audio guides', 'Design interactive displays'],\\n'failure': ['Retry with different VR development tools', 'Switch to a 2D virtual tour', 'Request assistance from a VR expert']},\\n'Create narrative audio guides': {'next_modes': ['Translate audio guides into multiple languages'],\\n'failure': ['Retry with different audio recording equipment', 'Use pre-recorded audio guides', 'Consider using text-to-speech technology']},\\n'Translate audio guides into multiple languages': {'next_modes': ['Integrate audio guides into VR environment'],\\n'failure': ['Retry with different translation software', 'Use pre-existing translations', 'Consider hiring a professional translator']},\\n'Design interactive displays': {'next_modes': ['Integrate interactive displays into VR environment'],\\n'failure': ['Retry with different design software', 'Use pre-designed templates', 'Consider outsourcing to a design agency']},\\n'Integrate interactive displays into VR environment': {'next_modes': ['Integrate audio guides and interactive displays'],\\n'failure': ['Retry with different integration techniques', 'Use a simpler VR environment', 'Consider using a different VR platform']},\\n'Integrate audio guides and interactive displays': {'next_modes': ['Analyzer'],\\n'failure': None},\\n'Analyzer': {'next_modes': [], 'failure': None}}</s>\", \"Here's a possible planning for the given composite task:\\n\\n{'Translate blog post into multiple languages': {'next_modes': ['Convert translated texts into audio format'], 'failure': ['Retry translation with different tools or human translators', 'Switch to a different blog post', 'Log and analyze the failure for future improvements']},\\n'Convert translated texts into audio format': {'next_modes': ['Analyzer'], 'failure': ['Retry recording with improved pronunciation', 'Use text-to-speech software with different voices', 'Fallback to a summary of the blog post in audio format']},\\n'Analyzer': {'next_modes': [], 'failure': None}}</s>\", \"Here's a possible planning for the given composite task:\\n\\n{'Analyze sentiment of news articles': {'next_modes': ['Summarize overall public opinion'], 'failure': ['Retry with different sentiment analysis tools', 'Switch to manual analysis', 'Log and Analyze for future improvements']},\\n'Summarize overall public opinion': {'next_modes': [], 'failure': None}}\\n\\n'Analyze sentiment of news articles':\\n{'Use NLP techniques to identify sentiment': {'next_modes': ['Analyze sentiment distribution'], 'failure': ['Retry with different NLP models', 'Fallback to rule-based sentiment analysis', 'Log and Analyze for future improvements']},\\n'Analyze sentiment distribution': {'next_modes': ['Summarize overall public opinion'], 'failure': ['Retry with different clustering algorithms', 'Switch to manual analysis', 'Log and Analyze for future improvements']},\\n'Summarize overall public opinion': {'next_modes': [], 'failure': None}}\\n\\n'Analyzer':\\n{'Analyze sentiment distribution': {'next_modes': [], 'failure': None},\\n'Summarize sentiment results': {'next_modes': [], 'failure': None}}</s>\", \"Here's a detailed planning for designing a holiday-themed greeting card, writing a heartfelt message, and composing a jingle to accompany it:\\n\\n{'Design a holiday-themed greeting card': {'next_modes': ['Write a heartfelt message', 'Compose a jingle'],\\n'failure': ['Retry with a different design', 'Switch to a different theme', 'Fallback to a pre-made template']},\\n'Write a heartfelt message': {'next_modes': ['Compose a jingle'], 'failure': ['Retry with a different message', 'Fallback to a generic message']},\\n'Compose a jingle': {'next_modes': ['Analyzer'], 'failure': ['Retry with a different melody', 'Fallback to a pre-existing jingle']},\\n'Analyzer': {'next_modes': [], 'failure': None}}</s>\", \"Here's a possible planning for the given composite task:\\n\\n{'Translate the short story from English to Spanish': {'next_modes': ['Record the audiobook version in English', 'Record the audiobook version in Spanish'],\\n'failure': ['Retry the translation with a different tool or dictionary', 'Request human intervention for translation', 'Log and analyze the translation errors for future improvement']},\\n'Record the audiobook version in English': {'next_modes': ['Analyzer'], 'failure': ['Retry the recording with improved audio quality', 'Switch to a different narrator', 'Fallback to a pre-recorded version']},\\n'Record the audiobook version in Spanish': {'next_modes': ['Analyzer'], 'failure': ['Retry the recording with improved audio quality', 'Switch to a different narrator', 'Fallback to a pre-recorded version']},\\n'Analyzer': {'next_modes': [], 'failure': None}}</s>\", \"Here's a sample planning for the given composite task:\\n\\n{'Research emerging technologies': {'next_modes': ['Write blog posts on the researched technologies'], 'failure': ['Retry research with a different approach', 'Switch to a different technology topic', 'Log and analyze the research process for future improvement']},\\n'Write blog posts on the researched technologies': {'next_modes': ['Record a podcast episode discussing the insights and trends highlighted in the blog posts'], 'failure': ['Retry writing the blog post with a different angle', 'Request feedback from a peer or editor', 'Fallback to a previously successful blog post format']},\\n'Record a podcast episode discussing the insights and trends highlighted in the blog posts': {'next_modes': [], 'failure': None}}</s>\", \"For your task, the following is a suggested planning:\\n\\n{'Research renewable energy sources': {'next_modes': ['Create infographic', 'Write blog post'], 'failure': ['Retry with different sources', 'Switch to alternative energy topics']},\\n 'Create infographic': {'next_modes': ['Review and finalize'], 'failure': ['Retry with different design tools', 'Request assistance from a designer']},\\n 'Write blog post': {'next_modes': ['Review and finalize'], 'failure': ['Retry with different writing styles', 'Request assistance from a writer']},\\n 'Review and finalize': {'next_modes': ['Analyzer'], 'failure': None},\\n 'Analyzer': {'next_modes': [], 'failure': None}}</s>\", \"### Here's a detailed planning for creating an educational video series on basic coding principles:\\n{'Script writing': {'next_modes': ['Video production', 'Content editing'], 'failure': ['Retry with a different script', 'Switch to a different topic', 'Request human intervention']},\\n'Video production': {'next_modes': ['Content editing', 'Video editing'], 'failure': ['Retry with a different setup', 'Switch to a different video format', 'Request human intervention']},\\n'Content editing': {'next_modes': ['Video editing'], 'failure': ['Retry with a different approach', 'Switch to a different topic', 'Request human intervention']},\\n'Video editing': {'next_modes': ['Final review'], 'failure': ['Retry with a different editing software', 'Switch to a different video format', 'Request human intervention']},\\n'Final review': {'next_modes': ['Publishing on social media'], 'failure': ['Retry with a different approach', 'Switch to a different platform', 'Request human intervention']},\\n'Publishing on social media': {'next_modes': [], 'failure': None}}</s>\", \"Here's a possible planning for the given composite task:\\n\\n{'Translate the short story from English to French': {'next_modes': ['Record the audiobook version of the translated story'], 'failure': ['Retry the translation with a different approach', 'Switch to a different translation tool', 'Request human intervention']},\\n'Record the audiobook version of the translated story': {'next_modes': ['Analyzer'], 'failure': ['Retry the recording with improved equipment', 'Switch to a different voice actor', 'Fallback to a text-to-speech engine']},\\n'Analyzer': {'next_modes': [], 'failure': None}}</s>\", \"Here's a detailed planning for the composite task:\\n\\n{'Translate blog post into English (original language)': {'next_modes': ['Translate blog post into Spanish', 'Translate blog post into French'], 'failure': ['Retry translation with different tools or techniques', 'Switch to a different blog post', 'Request human intervention']},\\n 'Translate blog post into Spanish': {'next_modes': ['Generate audio narration in Spanish', 'Generate audio narration in French'], 'failure': ['Retry translation with different tools or techniques', 'Switch to a different blog post', 'Request human intervention']},\\n 'Translate blog post into French': {'next_modes': ['Generate audio narration in French', 'Generate audio narration in Spanish'], 'failure': ['Retry translation with different tools or techniques', 'Switch to a different blog post', 'Request human intervention']},\\n 'Generate audio narration in Spanish': {'next_modes': ['Combine narration with thematic visuals in Spanish video'], 'failure': ['Retry narration with different tools or techniques', 'Switch to a different blog post', 'Request human intervention']},\\n 'Generate audio narration in French': {'next_modes': ['Combine narration with thematic visuals in French video'], 'failure': ['Retry narration with different tools or techniques', 'Switch to a different blog post', 'Request human intervention']},\\n 'Generate audio narration in English': {'next_modes': ['Combine narration with thematic visuals in English video'], 'failure': ['Retry narration with different tools or techniques', 'Switch to a different blog post', 'Request human intervention']},\\n 'Combine narration with thematic visuals in Spanish video': {'next_modes': ['Analyzer'], 'failure': ['Retry combining with different visuals', 'Switch to a different blog post', 'Request human intervention']},\\n 'Combine narration with thematic visuals in French video': {'next_modes': ['Analyzer'], 'failure': ['Retry combining with different visuals', 'Switch to a different blog post', 'Request human intervention']},\\n 'Combine narration with thematic visuals in English video': {'next_modes': ['Analyzer'], 'failure': ['Retry combining with different visuals', 'Switch to a different blog post', 'Request human intervention']},\\n 'Analyzer':\"]\n"
          ]
        }
      ]
    },
    {
      "cell_type": "code",
      "source": [
        "test_data_with_blueprint_pred=test_data_blueprint.add_column(\"blueprint-pred-merge\",outputs_blueprint)"
      ],
      "metadata": {
        "colab": {
          "base_uri": "https://localhost:8080/",
          "height": 49,
          "referenced_widgets": [
            "0cf830872cfd4edf9fbb804d2cfc0dd7",
            "8cff4e3af89d4b1486abc148e07dc00e",
            "41f45ff755c24e70ac42f0c11234704f",
            "688fde1ba9604c7db85476adb515e377",
            "a97bc7855e2e47f188947c2e69147530",
            "bf52668824674fa590de20dd61b16665",
            "a1fce3f14b944245989f94c81de1d7f1",
            "a970aaaeea8b40288e82646b5a902709",
            "09c3274d00d34b578e9c66d2f6601491",
            "1ee4c6d25ba64f6290c57062d96cc179",
            "7d057877dbbd4dc19cc86bf7ee482322"
          ]
        },
        "id": "XycEGMFEXZSl",
        "outputId": "f936ca27-a4bd-4689-a6db-b04329346509"
      },
      "execution_count": null,
      "outputs": [
        {
          "output_type": "display_data",
          "data": {
            "text/plain": [
              "<IPython.core.display.HTML object>"
            ],
            "text/html": [
              "\n",
              "  <style>\n",
              "    pre {\n",
              "        white-space: pre-wrap;\n",
              "    }\n",
              "  </style>\n",
              "  "
            ]
          },
          "metadata": {}
        },
        {
          "output_type": "display_data",
          "data": {
            "text/plain": [
              "Flattening the indices:   0%|          | 0/101 [00:00<?, ? examples/s]"
            ],
            "application/vnd.jupyter.widget-view+json": {
              "version_major": 2,
              "version_minor": 0,
              "model_id": "0cf830872cfd4edf9fbb804d2cfc0dd7"
            }
          },
          "metadata": {}
        }
      ]
    },
    {
      "cell_type": "code",
      "source": [
        "df_test_with_blueprint_pred = test_data_with_blueprint_pred.to_pandas()"
      ],
      "metadata": {
        "colab": {
          "base_uri": "https://localhost:8080/",
          "height": 17
        },
        "id": "2stL5WM5sKaB",
        "outputId": "7c0101c1-7c27-477c-b27d-5b3175ed0a3d"
      },
      "execution_count": null,
      "outputs": [
        {
          "output_type": "display_data",
          "data": {
            "text/plain": [
              "<IPython.core.display.HTML object>"
            ],
            "text/html": [
              "\n",
              "  <style>\n",
              "    pre {\n",
              "        white-space: pre-wrap;\n",
              "    }\n",
              "  </style>\n",
              "  "
            ]
          },
          "metadata": {}
        }
      ]
    },
    {
      "cell_type": "code",
      "source": [
        "df_test_with_blueprint_pred.head(5)"
      ],
      "metadata": {
        "colab": {
          "base_uri": "https://localhost:8080/",
          "height": 476
        },
        "id": "ZatC5Ur2sWzT",
        "outputId": "d6bdccb9-bf28-4917-8849-ee9f5802bd76"
      },
      "execution_count": null,
      "outputs": [
        {
          "output_type": "display_data",
          "data": {
            "text/plain": [
              "<IPython.core.display.HTML object>"
            ],
            "text/html": [
              "\n",
              "  <style>\n",
              "    pre {\n",
              "        white-space: pre-wrap;\n",
              "    }\n",
              "  </style>\n",
              "  "
            ]
          },
          "metadata": {}
        },
        {
          "output_type": "execute_result",
          "data": {
            "text/plain": [
              "                                            Detailed  \\\n",
              "0  {'Design and develop an immersive VR tour of t...   \n",
              "1  {'Write a compelling script that highlights th...   \n",
              "2  {'Produce an engaging narrated animation expla...   \n",
              "3  {'Translate the original novel into English, S...   \n",
              "4  {'Design and code a functional mobile app prot...   \n",
              "\n",
              "                                           Blueprint  \\\n",
              "0  {'Develop VR tour': {'next_modes': ['Write edu...   \n",
              "1  {'Develop script': {'next_modes': ['Shoot prod...   \n",
              "2  {'Create narrated animation': {'next_modes': [...   \n",
              "3  {'Translate novel': {'next_modes': ['English',...   \n",
              "4  {'Develop mobile app prototype': {'next_modes'...   \n",
              "\n",
              "                                         Instruction  \\\n",
              "0  Develop a virtual reality (VR) tour of the sol...   \n",
              "1  Produce a promotional video for a new tech gad...   \n",
              "2  Design an interactive educational module for c...   \n",
              "3  Translate a novel into three languages and cre...   \n",
              "4  Develop a mobile app prototype, create a user ...   \n",
              "\n",
              "                                              prompt  \\\n",
              "0  [INST]Below is an instruction that describes a...   \n",
              "1  [INST]Below is an instruction that describes a...   \n",
              "2  [INST]Below is an instruction that describes a...   \n",
              "3  [INST]Below is an instruction that describes a...   \n",
              "4  [INST]Below is an instruction that describes a...   \n",
              "\n",
              "                                            response  \\\n",
              "0  ### Response:{'Develop VR tour': {'next_modes'...   \n",
              "1  ### Response:{'Develop script': {'next_modes':...   \n",
              "2  ### Response:{'Create narrated animation': {'n...   \n",
              "3  ### Response:{'Translate novel': {'next_modes'...   \n",
              "4  ### Response:{'Develop mobile app prototype': ...   \n",
              "\n",
              "                                           input_ids  \\\n",
              "0  [1, 733, 16289, 28793, 20548, 336, 349, 396, 1...   \n",
              "1  [1, 733, 16289, 28793, 20548, 336, 349, 396, 1...   \n",
              "2  [1, 733, 16289, 28793, 20548, 336, 349, 396, 1...   \n",
              "3  [1, 733, 16289, 28793, 20548, 336, 349, 396, 1...   \n",
              "4  [1, 733, 16289, 28793, 20548, 336, 349, 396, 1...   \n",
              "\n",
              "                                      attention_mask  \\\n",
              "0  [1, 1, 1, 1, 1, 1, 1, 1, 1, 1, 1, 1, 1, 1, 1, ...   \n",
              "1  [1, 1, 1, 1, 1, 1, 1, 1, 1, 1, 1, 1, 1, 1, 1, ...   \n",
              "2  [1, 1, 1, 1, 1, 1, 1, 1, 1, 1, 1, 1, 1, 1, 1, ...   \n",
              "3  [1, 1, 1, 1, 1, 1, 1, 1, 1, 1, 1, 1, 1, 1, 1, ...   \n",
              "4  [1, 1, 1, 1, 1, 1, 1, 1, 1, 1, 1, 1, 1, 1, 1, ...   \n",
              "\n",
              "                                blueprint-pred-merge  \n",
              "0  {'Develop VR tour of the solar system': {'next...  \n",
              "1  {'Scripting': {'next_modes': ['Shooting produc...  \n",
              "2  {'Narrated animation creation': {'next_modes':...  \n",
              "3  {'Translate novel to Language-1': {'next_modes...  \n",
              "4  {'Develop mobile app prototype': {'next_modes'...  "
            ],
            "text/html": [
              "\n",
              "  <div id=\"df-d3d5f9ff-9149-46d1-bc26-cee1b2536e17\" class=\"colab-df-container\">\n",
              "    <div>\n",
              "<style scoped>\n",
              "    .dataframe tbody tr th:only-of-type {\n",
              "        vertical-align: middle;\n",
              "    }\n",
              "\n",
              "    .dataframe tbody tr th {\n",
              "        vertical-align: top;\n",
              "    }\n",
              "\n",
              "    .dataframe thead th {\n",
              "        text-align: right;\n",
              "    }\n",
              "</style>\n",
              "<table border=\"1\" class=\"dataframe\">\n",
              "  <thead>\n",
              "    <tr style=\"text-align: right;\">\n",
              "      <th></th>\n",
              "      <th>Detailed</th>\n",
              "      <th>Blueprint</th>\n",
              "      <th>Instruction</th>\n",
              "      <th>prompt</th>\n",
              "      <th>response</th>\n",
              "      <th>input_ids</th>\n",
              "      <th>attention_mask</th>\n",
              "      <th>blueprint-pred-merge</th>\n",
              "    </tr>\n",
              "  </thead>\n",
              "  <tbody>\n",
              "    <tr>\n",
              "      <th>0</th>\n",
              "      <td>{'Design and develop an immersive VR tour of t...</td>\n",
              "      <td>{'Develop VR tour': {'next_modes': ['Write edu...</td>\n",
              "      <td>Develop a virtual reality (VR) tour of the sol...</td>\n",
              "      <td>[INST]Below is an instruction that describes a...</td>\n",
              "      <td>### Response:{'Develop VR tour': {'next_modes'...</td>\n",
              "      <td>[1, 733, 16289, 28793, 20548, 336, 349, 396, 1...</td>\n",
              "      <td>[1, 1, 1, 1, 1, 1, 1, 1, 1, 1, 1, 1, 1, 1, 1, ...</td>\n",
              "      <td>{'Develop VR tour of the solar system': {'next...</td>\n",
              "    </tr>\n",
              "    <tr>\n",
              "      <th>1</th>\n",
              "      <td>{'Write a compelling script that highlights th...</td>\n",
              "      <td>{'Develop script': {'next_modes': ['Shoot prod...</td>\n",
              "      <td>Produce a promotional video for a new tech gad...</td>\n",
              "      <td>[INST]Below is an instruction that describes a...</td>\n",
              "      <td>### Response:{'Develop script': {'next_modes':...</td>\n",
              "      <td>[1, 733, 16289, 28793, 20548, 336, 349, 396, 1...</td>\n",
              "      <td>[1, 1, 1, 1, 1, 1, 1, 1, 1, 1, 1, 1, 1, 1, 1, ...</td>\n",
              "      <td>{'Scripting': {'next_modes': ['Shooting produc...</td>\n",
              "    </tr>\n",
              "    <tr>\n",
              "      <th>2</th>\n",
              "      <td>{'Produce an engaging narrated animation expla...</td>\n",
              "      <td>{'Create narrated animation': {'next_modes': [...</td>\n",
              "      <td>Design an interactive educational module for c...</td>\n",
              "      <td>[INST]Below is an instruction that describes a...</td>\n",
              "      <td>### Response:{'Create narrated animation': {'n...</td>\n",
              "      <td>[1, 733, 16289, 28793, 20548, 336, 349, 396, 1...</td>\n",
              "      <td>[1, 1, 1, 1, 1, 1, 1, 1, 1, 1, 1, 1, 1, 1, 1, ...</td>\n",
              "      <td>{'Narrated animation creation': {'next_modes':...</td>\n",
              "    </tr>\n",
              "    <tr>\n",
              "      <th>3</th>\n",
              "      <td>{'Translate the original novel into English, S...</td>\n",
              "      <td>{'Translate novel': {'next_modes': ['English',...</td>\n",
              "      <td>Translate a novel into three languages and cre...</td>\n",
              "      <td>[INST]Below is an instruction that describes a...</td>\n",
              "      <td>### Response:{'Translate novel': {'next_modes'...</td>\n",
              "      <td>[1, 733, 16289, 28793, 20548, 336, 349, 396, 1...</td>\n",
              "      <td>[1, 1, 1, 1, 1, 1, 1, 1, 1, 1, 1, 1, 1, 1, 1, ...</td>\n",
              "      <td>{'Translate novel to Language-1': {'next_modes...</td>\n",
              "    </tr>\n",
              "    <tr>\n",
              "      <th>4</th>\n",
              "      <td>{'Design and code a functional mobile app prot...</td>\n",
              "      <td>{'Develop mobile app prototype': {'next_modes'...</td>\n",
              "      <td>Develop a mobile app prototype, create a user ...</td>\n",
              "      <td>[INST]Below is an instruction that describes a...</td>\n",
              "      <td>### Response:{'Develop mobile app prototype': ...</td>\n",
              "      <td>[1, 733, 16289, 28793, 20548, 336, 349, 396, 1...</td>\n",
              "      <td>[1, 1, 1, 1, 1, 1, 1, 1, 1, 1, 1, 1, 1, 1, 1, ...</td>\n",
              "      <td>{'Develop mobile app prototype': {'next_modes'...</td>\n",
              "    </tr>\n",
              "  </tbody>\n",
              "</table>\n",
              "</div>\n",
              "    <div class=\"colab-df-buttons\">\n",
              "\n",
              "  <div class=\"colab-df-container\">\n",
              "    <button class=\"colab-df-convert\" onclick=\"convertToInteractive('df-d3d5f9ff-9149-46d1-bc26-cee1b2536e17')\"\n",
              "            title=\"Convert this dataframe to an interactive table.\"\n",
              "            style=\"display:none;\">\n",
              "\n",
              "  <svg xmlns=\"http://www.w3.org/2000/svg\" height=\"24px\" viewBox=\"0 -960 960 960\">\n",
              "    <path d=\"M120-120v-720h720v720H120Zm60-500h600v-160H180v160Zm220 220h160v-160H400v160Zm0 220h160v-160H400v160ZM180-400h160v-160H180v160Zm440 0h160v-160H620v160ZM180-180h160v-160H180v160Zm440 0h160v-160H620v160Z\"/>\n",
              "  </svg>\n",
              "    </button>\n",
              "\n",
              "  <style>\n",
              "    .colab-df-container {\n",
              "      display:flex;\n",
              "      gap: 12px;\n",
              "    }\n",
              "\n",
              "    .colab-df-convert {\n",
              "      background-color: #E8F0FE;\n",
              "      border: none;\n",
              "      border-radius: 50%;\n",
              "      cursor: pointer;\n",
              "      display: none;\n",
              "      fill: #1967D2;\n",
              "      height: 32px;\n",
              "      padding: 0 0 0 0;\n",
              "      width: 32px;\n",
              "    }\n",
              "\n",
              "    .colab-df-convert:hover {\n",
              "      background-color: #E2EBFA;\n",
              "      box-shadow: 0px 1px 2px rgba(60, 64, 67, 0.3), 0px 1px 3px 1px rgba(60, 64, 67, 0.15);\n",
              "      fill: #174EA6;\n",
              "    }\n",
              "\n",
              "    .colab-df-buttons div {\n",
              "      margin-bottom: 4px;\n",
              "    }\n",
              "\n",
              "    [theme=dark] .colab-df-convert {\n",
              "      background-color: #3B4455;\n",
              "      fill: #D2E3FC;\n",
              "    }\n",
              "\n",
              "    [theme=dark] .colab-df-convert:hover {\n",
              "      background-color: #434B5C;\n",
              "      box-shadow: 0px 1px 3px 1px rgba(0, 0, 0, 0.15);\n",
              "      filter: drop-shadow(0px 1px 2px rgba(0, 0, 0, 0.3));\n",
              "      fill: #FFFFFF;\n",
              "    }\n",
              "  </style>\n",
              "\n",
              "    <script>\n",
              "      const buttonEl =\n",
              "        document.querySelector('#df-d3d5f9ff-9149-46d1-bc26-cee1b2536e17 button.colab-df-convert');\n",
              "      buttonEl.style.display =\n",
              "        google.colab.kernel.accessAllowed ? 'block' : 'none';\n",
              "\n",
              "      async function convertToInteractive(key) {\n",
              "        const element = document.querySelector('#df-d3d5f9ff-9149-46d1-bc26-cee1b2536e17');\n",
              "        const dataTable =\n",
              "          await google.colab.kernel.invokeFunction('convertToInteractive',\n",
              "                                                    [key], {});\n",
              "        if (!dataTable) return;\n",
              "\n",
              "        const docLinkHtml = 'Like what you see? Visit the ' +\n",
              "          '<a target=\"_blank\" href=https://colab.research.google.com/notebooks/data_table.ipynb>data table notebook</a>'\n",
              "          + ' to learn more about interactive tables.';\n",
              "        element.innerHTML = '';\n",
              "        dataTable['output_type'] = 'display_data';\n",
              "        await google.colab.output.renderOutput(dataTable, element);\n",
              "        const docLink = document.createElement('div');\n",
              "        docLink.innerHTML = docLinkHtml;\n",
              "        element.appendChild(docLink);\n",
              "      }\n",
              "    </script>\n",
              "  </div>\n",
              "\n",
              "\n",
              "<div id=\"df-7d352cde-3bf7-4132-9396-9b29d17042bc\">\n",
              "  <button class=\"colab-df-quickchart\" onclick=\"quickchart('df-7d352cde-3bf7-4132-9396-9b29d17042bc')\"\n",
              "            title=\"Suggest charts\"\n",
              "            style=\"display:none;\">\n",
              "\n",
              "<svg xmlns=\"http://www.w3.org/2000/svg\" height=\"24px\"viewBox=\"0 0 24 24\"\n",
              "     width=\"24px\">\n",
              "    <g>\n",
              "        <path d=\"M19 3H5c-1.1 0-2 .9-2 2v14c0 1.1.9 2 2 2h14c1.1 0 2-.9 2-2V5c0-1.1-.9-2-2-2zM9 17H7v-7h2v7zm4 0h-2V7h2v10zm4 0h-2v-4h2v4z\"/>\n",
              "    </g>\n",
              "</svg>\n",
              "  </button>\n",
              "\n",
              "<style>\n",
              "  .colab-df-quickchart {\n",
              "      --bg-color: #E8F0FE;\n",
              "      --fill-color: #1967D2;\n",
              "      --hover-bg-color: #E2EBFA;\n",
              "      --hover-fill-color: #174EA6;\n",
              "      --disabled-fill-color: #AAA;\n",
              "      --disabled-bg-color: #DDD;\n",
              "  }\n",
              "\n",
              "  [theme=dark] .colab-df-quickchart {\n",
              "      --bg-color: #3B4455;\n",
              "      --fill-color: #D2E3FC;\n",
              "      --hover-bg-color: #434B5C;\n",
              "      --hover-fill-color: #FFFFFF;\n",
              "      --disabled-bg-color: #3B4455;\n",
              "      --disabled-fill-color: #666;\n",
              "  }\n",
              "\n",
              "  .colab-df-quickchart {\n",
              "    background-color: var(--bg-color);\n",
              "    border: none;\n",
              "    border-radius: 50%;\n",
              "    cursor: pointer;\n",
              "    display: none;\n",
              "    fill: var(--fill-color);\n",
              "    height: 32px;\n",
              "    padding: 0;\n",
              "    width: 32px;\n",
              "  }\n",
              "\n",
              "  .colab-df-quickchart:hover {\n",
              "    background-color: var(--hover-bg-color);\n",
              "    box-shadow: 0 1px 2px rgba(60, 64, 67, 0.3), 0 1px 3px 1px rgba(60, 64, 67, 0.15);\n",
              "    fill: var(--button-hover-fill-color);\n",
              "  }\n",
              "\n",
              "  .colab-df-quickchart-complete:disabled,\n",
              "  .colab-df-quickchart-complete:disabled:hover {\n",
              "    background-color: var(--disabled-bg-color);\n",
              "    fill: var(--disabled-fill-color);\n",
              "    box-shadow: none;\n",
              "  }\n",
              "\n",
              "  .colab-df-spinner {\n",
              "    border: 2px solid var(--fill-color);\n",
              "    border-color: transparent;\n",
              "    border-bottom-color: var(--fill-color);\n",
              "    animation:\n",
              "      spin 1s steps(1) infinite;\n",
              "  }\n",
              "\n",
              "  @keyframes spin {\n",
              "    0% {\n",
              "      border-color: transparent;\n",
              "      border-bottom-color: var(--fill-color);\n",
              "      border-left-color: var(--fill-color);\n",
              "    }\n",
              "    20% {\n",
              "      border-color: transparent;\n",
              "      border-left-color: var(--fill-color);\n",
              "      border-top-color: var(--fill-color);\n",
              "    }\n",
              "    30% {\n",
              "      border-color: transparent;\n",
              "      border-left-color: var(--fill-color);\n",
              "      border-top-color: var(--fill-color);\n",
              "      border-right-color: var(--fill-color);\n",
              "    }\n",
              "    40% {\n",
              "      border-color: transparent;\n",
              "      border-right-color: var(--fill-color);\n",
              "      border-top-color: var(--fill-color);\n",
              "    }\n",
              "    60% {\n",
              "      border-color: transparent;\n",
              "      border-right-color: var(--fill-color);\n",
              "    }\n",
              "    80% {\n",
              "      border-color: transparent;\n",
              "      border-right-color: var(--fill-color);\n",
              "      border-bottom-color: var(--fill-color);\n",
              "    }\n",
              "    90% {\n",
              "      border-color: transparent;\n",
              "      border-bottom-color: var(--fill-color);\n",
              "    }\n",
              "  }\n",
              "</style>\n",
              "\n",
              "  <script>\n",
              "    async function quickchart(key) {\n",
              "      const quickchartButtonEl =\n",
              "        document.querySelector('#' + key + ' button');\n",
              "      quickchartButtonEl.disabled = true;  // To prevent multiple clicks.\n",
              "      quickchartButtonEl.classList.add('colab-df-spinner');\n",
              "      try {\n",
              "        const charts = await google.colab.kernel.invokeFunction(\n",
              "            'suggestCharts', [key], {});\n",
              "      } catch (error) {\n",
              "        console.error('Error during call to suggestCharts:', error);\n",
              "      }\n",
              "      quickchartButtonEl.classList.remove('colab-df-spinner');\n",
              "      quickchartButtonEl.classList.add('colab-df-quickchart-complete');\n",
              "    }\n",
              "    (() => {\n",
              "      let quickchartButtonEl =\n",
              "        document.querySelector('#df-7d352cde-3bf7-4132-9396-9b29d17042bc button');\n",
              "      quickchartButtonEl.style.display =\n",
              "        google.colab.kernel.accessAllowed ? 'block' : 'none';\n",
              "    })();\n",
              "  </script>\n",
              "</div>\n",
              "    </div>\n",
              "  </div>\n"
            ],
            "application/vnd.google.colaboratory.intrinsic+json": {
              "type": "dataframe",
              "variable_name": "df_test_with_blueprint_pred",
              "summary": "{\n  \"name\": \"df_test_with_blueprint_pred\",\n  \"rows\": 101,\n  \"fields\": [\n    {\n      \"column\": \"Detailed\",\n      \"properties\": {\n        \"dtype\": \"string\",\n        \"num_unique_values\": 101,\n        \"samples\": [\n          \"{'Translate the original text of the children\\u2019s storybook into three different languages, ensuring cultural and contextual relevance in each translation': {'next_modes': ['Record audio book versions in each of the translated languages using native speakers with clear, engaging narration', 'Design visually captivating promotional material for social media, highlighting key themes and languages available'], 'failure': ['Retry the translations with feedback from native language experts', 'Request Human Intervention to reevaluate the cultural nuances', 'Log and Analyze errors in translation for future projects']}, 'Record audio book versions in each of the translated languages using native speakers with clear, engaging narration, ensuring consistency with the text': {'next_modes': ['Design visually captivating promotional material for social media, highlighting key themes and languages available'], 'failure': ['Retry recording with improvements in vocal clarity or emotion', 'Fallback Content with segments of professional voice-over samples if full recordings are not viable', 'Quality Assurance Check to ensure audio fidelity and linguistic accuracy']}, 'Design visually captivating promotional material for social media, highlighting key themes and languages available, incorporating the audio book samples and translated text snippets': {'next_modes': ['Conduct a final review of promotional materials, focusing on brand alignment, appeal to the target audience, and effectiveness in generating interest'], 'failure': ['Retry the design process with a focus on alternative themes', 'Switch to Different Mode by considering video teasers if static images lack impact', 'Quality Assurance Check to maintain brand standards and engagement metrics']}, 'Conduct a final review of promotional materials, focusing on brand alignment, appeal to the target audience, and effectiveness in generating interest': {'next_modes': [], 'failure': None}}\",\n          \"{'Sketch preliminary design concepts that represent environmental conservation, focusing on symbolism related to nature and sustainability': {'next_modes': ['Develop the chosen concept into a full logo design using vector graphic software, ensuring it communicates a clear message about environmental conservation'], 'failure': ['Retry by revisiting initial sketches and adjusting elements based on feedback', 'Switch to Different Mode by considering a textual instead of visual representation', 'Fallback Content by using a generic nature-inspired template', 'Log and Analyze reasons for initial design rejection to improve future projects']}, 'Develop the chosen concept into a full logo design using vector graphic software, ensuring it communicates a clear message about environmental conservation': {'next_modes': ['Translate the static logo into an animated version using animation software, highlighting elements that evoke environmental action and awareness'], 'failure': ['Retry with simplified animation techniques', 'Exit if unable to effectively animate within technical or time constraints', 'Quality Assurance Check to ensure animation aligns with environmental message', 'Mode Optimization by adjusting animation parameters for smoother execution']}, 'Translate the static logo into an animated version using animation software, highlighting elements that evoke environmental action and awareness': {'next_modes': ['Conduct a comprehensive review of the animated logo to ensure it meets design, message, and technical quality standards'], 'failure': None}}\",\n          \"{'Deeply analyze the VR game by critiquing its gameplay, graphics, user interface, and immersive experience, ending with a conclusion on its overall value for potential players': {'next_modes': ['Produce a video walkthrough highlighting key aspects of the game mentioned in the review, showing actual gameplay footage to provide visual context to the written review'], 'failure': ['Retry with focus on different game aspects if first review is unbalanced', 'Switch to Different Mode by focusing more on blog post if video is not feasible', 'Exit if the game review cannot meet publication standards', 'Fallback Content by summarizing publicly available reviews and information']}, 'Produce a video walkthrough highlighting key aspects of the game mentioned in the review, showing actual gameplay footage to provide visual context to the written review': {'next_modes': [\\\"Analyze viewer engagement with the video, correlating it with game sales and feedback to gauge the review and walkthrough's impact\\\"], 'failure': ['Retry with improved video quality or editing', 'Request Human Intervention for professional editing assistance', 'Log and Analyze viewer comments for improvements', 'Quality Assurance Check on alignment with review veracity and neutrality']}, \\\"Analyze viewer engagement with the video, correlating it with game sales and feedback to gauge the review and walkthrough's impact\\\": {'next_modes': [], 'failure': None}}\"\n        ],\n        \"semantic_type\": \"\",\n        \"description\": \"\"\n      }\n    },\n    {\n      \"column\": \"Blueprint\",\n      \"properties\": {\n        \"dtype\": \"string\",\n        \"num_unique_values\": 101,\n        \"samples\": [\n          \"{'Translate storybook': {'next_modes': ['Create audio book versions', 'Design promotional material'], 'failure': ['Retry', 'Request Human Intervention', 'Log and Analyze']}, 'Create audio book versions': {'next_modes': ['Design promotional material'], 'failure': ['Retry', 'Fallback Content', 'Quality Assurance Check']}, 'Design promotional material': {'next_modes': ['Analyzer'], 'failure': ['Retry', 'Switch to Different Mode', 'Quality Assurance Check']}, 'Analyzer': {'next_modes': [], 'failure': None}}\",\n          \"{'Design a logo': {'next_modes': ['Create an animated version of the logo'], 'failure': ['Retry', 'Switch to Different Mode', 'Fallback Content', 'Log and Analyze']}, 'Create an animated version of the logo': {'next_modes': ['Analyzer'], 'failure': ['Retry', 'Exit', 'Quality Assurance Check', 'Mode Optimization']}, 'Analyzer': {'next_modes': [], 'failure': None}}\",\n          \"{'Write VR game review': {'next_modes': ['Create video walkthrough'], 'failure': ['Retry', 'Switch to Different Mode', 'Exit', 'Fallback Content']}, 'Create video walkthrough': {'next_modes': ['Analyzer'], 'failure': ['Retry', 'Request Human Intervention', 'Log and Analyze', 'Quality Assurance Check']}, 'Analyzer': {'next_modes': [], 'failure': None}}\"\n        ],\n        \"semantic_type\": \"\",\n        \"description\": \"\"\n      }\n    },\n    {\n      \"column\": \"Instruction\",\n      \"properties\": {\n        \"dtype\": \"string\",\n        \"num_unique_values\": 101,\n        \"samples\": [\n          \"Translate a children\\u2019s storybook into 3 different languages, create audio book versions for each, and design promotional material for social media.\",\n          \"Design a logo inspired by the concept of environmental conservation, then create an animated version of the logo.\",\n          \"Write a review of a virtual reality (VR) game, then create a video walkthrough.\"\n        ],\n        \"semantic_type\": \"\",\n        \"description\": \"\"\n      }\n    },\n    {\n      \"column\": \"prompt\",\n      \"properties\": {\n        \"dtype\": \"string\",\n        \"num_unique_values\": 101,\n        \"samples\": [\n          \"[INST]Below is an instruction that describes a composite task. Provide the structured blueprint planning for the following task.Translate a children\\u2019s storybook into 3 different languages, create audio book versions for each, and design promotional material for social media.[/INST]\\n\\n### Response:{'Translate storybook': {'next_modes': ['Create audio book versions', 'Design promotional material'], 'failure': ['Retry', 'Request Human Intervention', 'Log and Analyze']}, 'Create audio book versions': {'next_modes': ['Design promotional material'], 'failure': ['Retry', 'Fallback Content', 'Quality Assurance Check']}, 'Design promotional material': {'next_modes': ['Analyzer'], 'failure': ['Retry', 'Switch to Different Mode', 'Quality Assurance Check']}, 'Analyzer': {'next_modes': [], 'failure': None}}\",\n          \"[INST]Below is an instruction that describes a composite task. Provide the structured blueprint planning for the following task.Design a logo inspired by the concept of environmental conservation, then create an animated version of the logo.[/INST]\\n\\n### Response:{'Design a logo': {'next_modes': ['Create an animated version of the logo'], 'failure': ['Retry', 'Switch to Different Mode', 'Fallback Content', 'Log and Analyze']}, 'Create an animated version of the logo': {'next_modes': ['Analyzer'], 'failure': ['Retry', 'Exit', 'Quality Assurance Check', 'Mode Optimization']}, 'Analyzer': {'next_modes': [], 'failure': None}}\",\n          \"[INST]Below is an instruction that describes a composite task. Provide the structured blueprint planning for the following task.Write a review of a virtual reality (VR) game, then create a video walkthrough.[/INST]\\n\\n### Response:{'Write VR game review': {'next_modes': ['Create video walkthrough'], 'failure': ['Retry', 'Switch to Different Mode', 'Exit', 'Fallback Content']}, 'Create video walkthrough': {'next_modes': ['Analyzer'], 'failure': ['Retry', 'Request Human Intervention', 'Log and Analyze', 'Quality Assurance Check']}, 'Analyzer': {'next_modes': [], 'failure': None}}\"\n        ],\n        \"semantic_type\": \"\",\n        \"description\": \"\"\n      }\n    },\n    {\n      \"column\": \"response\",\n      \"properties\": {\n        \"dtype\": \"string\",\n        \"num_unique_values\": 101,\n        \"samples\": [\n          \"### Response:{'Translate storybook': {'next_modes': ['Create audio book versions', 'Design promotional material'], 'failure': ['Retry', 'Request Human Intervention', 'Log and Analyze']}, 'Create audio book versions': {'next_modes': ['Design promotional material'], 'failure': ['Retry', 'Fallback Content', 'Quality Assurance Check']}, 'Design promotional material': {'next_modes': ['Analyzer'], 'failure': ['Retry', 'Switch to Different Mode', 'Quality Assurance Check']}, 'Analyzer': {'next_modes': [], 'failure': None}}\",\n          \"### Response:{'Design a logo': {'next_modes': ['Create an animated version of the logo'], 'failure': ['Retry', 'Switch to Different Mode', 'Fallback Content', 'Log and Analyze']}, 'Create an animated version of the logo': {'next_modes': ['Analyzer'], 'failure': ['Retry', 'Exit', 'Quality Assurance Check', 'Mode Optimization']}, 'Analyzer': {'next_modes': [], 'failure': None}}\",\n          \"### Response:{'Write VR game review': {'next_modes': ['Create video walkthrough'], 'failure': ['Retry', 'Switch to Different Mode', 'Exit', 'Fallback Content']}, 'Create video walkthrough': {'next_modes': ['Analyzer'], 'failure': ['Retry', 'Request Human Intervention', 'Log and Analyze', 'Quality Assurance Check']}, 'Analyzer': {'next_modes': [], 'failure': None}}\"\n        ],\n        \"semantic_type\": \"\",\n        \"description\": \"\"\n      }\n    },\n    {\n      \"column\": \"input_ids\",\n      \"properties\": {\n        \"dtype\": \"object\",\n        \"semantic_type\": \"\",\n        \"description\": \"\"\n      }\n    },\n    {\n      \"column\": \"attention_mask\",\n      \"properties\": {\n        \"dtype\": \"object\",\n        \"semantic_type\": \"\",\n        \"description\": \"\"\n      }\n    },\n    {\n      \"column\": \"blueprint-pred-merge\",\n      \"properties\": {\n        \"dtype\": \"string\",\n        \"num_unique_values\": 101,\n        \"samples\": [\n          \"{'Translate storybook': {'next_modes': ['Translate audio book', 'Design promotional material'], 'failure': ['Retry with different translators', 'Fallback to simpler language', 'Request human intervention']},\\n'Translate audio book': {'next_modes': ['Analyzer'], 'failure': ['Retry with different voice actors', 'Fallback to text-to-speech', 'Request human intervention']},\\n'Design promotional material': {'next_modes': ['Analyzer'], 'failure': ['Retry with different design templates', 'Fallback to simpler designs', 'Request human intervention']}}</s>\",\n          \"{'Design a logo inspired by environmental conservation': {'next_modes': ['Create an animated version of the logo'], 'failure': ['Retry with a different concept', 'Switch to a different design tool', 'Request human intervention']},\\n'Create an animated version of the logo': {'next_modes': ['Analyzer'], 'failure': ['Retry with a different animation style', 'Switch to a different animation software', 'Fallback to a static logo']}}</s>\",\n          \"{'Write VR game review': {'next_modes': ['Create VR game walkthrough'], 'failure': ['Retry', 'Switch to Different Game', 'Request Human Intervention']},\\n 'Create VR game walkthrough': {'next_modes': ['Analyzer'], 'failure': ['Retry', 'Fallback Content', 'Log and Analyze']}}</s>\"\n        ],\n        \"semantic_type\": \"\",\n        \"description\": \"\"\n      }\n    }\n  ]\n}"
            }
          },
          "metadata": {},
          "execution_count": 92
        }
      ]
    },
    {
      "cell_type": "code",
      "source": [
        "test_data_with_detail_pred=test_data_detail.add_column(\"detail-pred-merge\",outputs_detail)"
      ],
      "metadata": {
        "colab": {
          "base_uri": "https://localhost:8080/",
          "height": 49,
          "referenced_widgets": [
            "3d6a7fd548f74c438ad24b41149cb5b0",
            "50fd2f62127e43869055cc195e7d0d2e",
            "9ed299d60d7f4ef08043fb432cbaaefd",
            "28414689d62d4bc69fbce6970ee694c3",
            "ead55cbc5e0247a9a802cd2c08adc813",
            "58fe2a2c3b8243cf8a36cbc0f93a13ba",
            "4bbac46b24e94cb69ad16772aba5960f",
            "b49ac944994845f68f7c2319dd9345a1",
            "f6040b2a21304c63a3dcfd94144ad8d6",
            "93bd75deda6341a2912b96b2049a5fe7",
            "db39f1830d38438a9950851334f88cb0"
          ]
        },
        "id": "EpDecuGRsXi2",
        "outputId": "ccb0187b-dca7-4eee-824d-6326a7626a1d"
      },
      "execution_count": null,
      "outputs": [
        {
          "output_type": "display_data",
          "data": {
            "text/plain": [
              "<IPython.core.display.HTML object>"
            ],
            "text/html": [
              "\n",
              "  <style>\n",
              "    pre {\n",
              "        white-space: pre-wrap;\n",
              "    }\n",
              "  </style>\n",
              "  "
            ]
          },
          "metadata": {}
        },
        {
          "output_type": "display_data",
          "data": {
            "text/plain": [
              "Flattening the indices:   0%|          | 0/101 [00:00<?, ? examples/s]"
            ],
            "application/vnd.jupyter.widget-view+json": {
              "version_major": 2,
              "version_minor": 0,
              "model_id": "3d6a7fd548f74c438ad24b41149cb5b0"
            }
          },
          "metadata": {}
        }
      ]
    },
    {
      "cell_type": "code",
      "source": [
        "df_test_with_detail_pred = test_data_with_detail_pred.to_pandas()"
      ],
      "metadata": {
        "colab": {
          "base_uri": "https://localhost:8080/",
          "height": 17
        },
        "id": "-d1v_dXGsXqV",
        "outputId": "ea24a2aa-15a6-4907-845a-25442085a403"
      },
      "execution_count": null,
      "outputs": [
        {
          "output_type": "display_data",
          "data": {
            "text/plain": [
              "<IPython.core.display.HTML object>"
            ],
            "text/html": [
              "\n",
              "  <style>\n",
              "    pre {\n",
              "        white-space: pre-wrap;\n",
              "    }\n",
              "  </style>\n",
              "  "
            ]
          },
          "metadata": {}
        }
      ]
    },
    {
      "cell_type": "code",
      "source": [
        "df_test_with_detail_pred.head(5)"
      ],
      "metadata": {
        "colab": {
          "base_uri": "https://localhost:8080/",
          "height": 527
        },
        "id": "moAI5HBUsXyh",
        "outputId": "20868cdb-2518-4b3c-f0e6-828409103772"
      },
      "execution_count": null,
      "outputs": [
        {
          "output_type": "display_data",
          "data": {
            "text/plain": [
              "<IPython.core.display.HTML object>"
            ],
            "text/html": [
              "\n",
              "  <style>\n",
              "    pre {\n",
              "        white-space: pre-wrap;\n",
              "    }\n",
              "  </style>\n",
              "  "
            ]
          },
          "metadata": {}
        },
        {
          "output_type": "execute_result",
          "data": {
            "text/plain": [
              "                                            Detailed  \\\n",
              "0  {'Identify a science article with broad intern...   \n",
              "1  {\"Develop a creative concept that aligns with ...   \n",
              "2  {\"Research local wildlife species, their habit...   \n",
              "3  {'Film a comprehensive guide on baking a choco...   \n",
              "4  {'Select and review astronomy topics that appe...   \n",
              "\n",
              "                                           Blueprint  \\\n",
              "0  {'Select article': {'next_modes': ['Translate ...   \n",
              "1  {'Conceptualize design': {'next_modes': ['Crea...   \n",
              "2  {'Gather information on local wildlife': {'nex...   \n",
              "3  {'Create a tutorial video': {'next_modes': ['W...   \n",
              "4  {'Identify key astronomy concepts': {'next_mod...   \n",
              "\n",
              "                                         Instruction  \\\n",
              "0  Translate a popular science article into three...   \n",
              "1  Design a digital billboard ad for a fashion br...   \n",
              "2  Create a video documentary about local wildlif...   \n",
              "3  Create a tutorial video on baking a chocolate ...   \n",
              "4  Design an educational video series on basic as...   \n",
              "\n",
              "                                              prompt  \\\n",
              "0  [INST]Below is an instruction that describes a...   \n",
              "1  [INST]Below is an instruction that describes a...   \n",
              "2  [INST]Below is an instruction that describes a...   \n",
              "3  [INST]Below is an instruction that describes a...   \n",
              "4  [INST]Below is an instruction that describes a...   \n",
              "\n",
              "                                            response  \\\n",
              "0  ### Response:{'Identify a science article with...   \n",
              "1  ### Response:{\"Develop a creative concept that...   \n",
              "2  ### Response:{\"Research local wildlife species...   \n",
              "3  ### Response:{'Film a comprehensive guide on b...   \n",
              "4  ### Response:{'Select and review astronomy top...   \n",
              "\n",
              "                                           input_ids  \\\n",
              "0  [1, 733, 16289, 28793, 20548, 336, 349, 396, 1...   \n",
              "1  [1, 733, 16289, 28793, 20548, 336, 349, 396, 1...   \n",
              "2  [1, 733, 16289, 28793, 20548, 336, 349, 396, 1...   \n",
              "3  [1, 733, 16289, 28793, 20548, 336, 349, 396, 1...   \n",
              "4  [1, 733, 16289, 28793, 20548, 336, 349, 396, 1...   \n",
              "\n",
              "                                      attention_mask  \\\n",
              "0  [1, 1, 1, 1, 1, 1, 1, 1, 1, 1, 1, 1, 1, 1, 1, ...   \n",
              "1  [1, 1, 1, 1, 1, 1, 1, 1, 1, 1, 1, 1, 1, 1, 1, ...   \n",
              "2  [1, 1, 1, 1, 1, 1, 1, 1, 1, 1, 1, 1, 1, 1, 1, ...   \n",
              "3  [1, 1, 1, 1, 1, 1, 1, 1, 1, 1, 1, 1, 1, 1, 1, ...   \n",
              "4  [1, 1, 1, 1, 1, 1, 1, 1, 1, 1, 1, 1, 1, 1, 1, ...   \n",
              "\n",
              "                                   detail-pred-merge  \n",
              "0  Here's a possible planning for the given compo...  \n",
              "1  Here's a detailed planning for designing a dig...  \n",
              "2  Here's a detailed planning for creating a vide...  \n",
              "3  Here's a sample for the given composite task:\\...  \n",
              "4  Here's a possible planning for designing an ed...  "
            ],
            "text/html": [
              "\n",
              "  <div id=\"df-35a4b50d-a38b-4307-91ca-d837053c762a\" class=\"colab-df-container\">\n",
              "    <div>\n",
              "<style scoped>\n",
              "    .dataframe tbody tr th:only-of-type {\n",
              "        vertical-align: middle;\n",
              "    }\n",
              "\n",
              "    .dataframe tbody tr th {\n",
              "        vertical-align: top;\n",
              "    }\n",
              "\n",
              "    .dataframe thead th {\n",
              "        text-align: right;\n",
              "    }\n",
              "</style>\n",
              "<table border=\"1\" class=\"dataframe\">\n",
              "  <thead>\n",
              "    <tr style=\"text-align: right;\">\n",
              "      <th></th>\n",
              "      <th>Detailed</th>\n",
              "      <th>Blueprint</th>\n",
              "      <th>Instruction</th>\n",
              "      <th>prompt</th>\n",
              "      <th>response</th>\n",
              "      <th>input_ids</th>\n",
              "      <th>attention_mask</th>\n",
              "      <th>detail-pred-merge</th>\n",
              "    </tr>\n",
              "  </thead>\n",
              "  <tbody>\n",
              "    <tr>\n",
              "      <th>0</th>\n",
              "      <td>{'Identify a science article with broad intern...</td>\n",
              "      <td>{'Select article': {'next_modes': ['Translate ...</td>\n",
              "      <td>Translate a popular science article into three...</td>\n",
              "      <td>[INST]Below is an instruction that describes a...</td>\n",
              "      <td>### Response:{'Identify a science article with...</td>\n",
              "      <td>[1, 733, 16289, 28793, 20548, 336, 349, 396, 1...</td>\n",
              "      <td>[1, 1, 1, 1, 1, 1, 1, 1, 1, 1, 1, 1, 1, 1, 1, ...</td>\n",
              "      <td>Here's a possible planning for the given compo...</td>\n",
              "    </tr>\n",
              "    <tr>\n",
              "      <th>1</th>\n",
              "      <td>{\"Develop a creative concept that aligns with ...</td>\n",
              "      <td>{'Conceptualize design': {'next_modes': ['Crea...</td>\n",
              "      <td>Design a digital billboard ad for a fashion br...</td>\n",
              "      <td>[INST]Below is an instruction that describes a...</td>\n",
              "      <td>### Response:{\"Develop a creative concept that...</td>\n",
              "      <td>[1, 733, 16289, 28793, 20548, 336, 349, 396, 1...</td>\n",
              "      <td>[1, 1, 1, 1, 1, 1, 1, 1, 1, 1, 1, 1, 1, 1, 1, ...</td>\n",
              "      <td>Here's a detailed planning for designing a dig...</td>\n",
              "    </tr>\n",
              "    <tr>\n",
              "      <th>2</th>\n",
              "      <td>{\"Research local wildlife species, their habit...</td>\n",
              "      <td>{'Gather information on local wildlife': {'nex...</td>\n",
              "      <td>Create a video documentary about local wildlif...</td>\n",
              "      <td>[INST]Below is an instruction that describes a...</td>\n",
              "      <td>### Response:{\"Research local wildlife species...</td>\n",
              "      <td>[1, 733, 16289, 28793, 20548, 336, 349, 396, 1...</td>\n",
              "      <td>[1, 1, 1, 1, 1, 1, 1, 1, 1, 1, 1, 1, 1, 1, 1, ...</td>\n",
              "      <td>Here's a detailed planning for creating a vide...</td>\n",
              "    </tr>\n",
              "    <tr>\n",
              "      <th>3</th>\n",
              "      <td>{'Film a comprehensive guide on baking a choco...</td>\n",
              "      <td>{'Create a tutorial video': {'next_modes': ['W...</td>\n",
              "      <td>Create a tutorial video on baking a chocolate ...</td>\n",
              "      <td>[INST]Below is an instruction that describes a...</td>\n",
              "      <td>### Response:{'Film a comprehensive guide on b...</td>\n",
              "      <td>[1, 733, 16289, 28793, 20548, 336, 349, 396, 1...</td>\n",
              "      <td>[1, 1, 1, 1, 1, 1, 1, 1, 1, 1, 1, 1, 1, 1, 1, ...</td>\n",
              "      <td>Here's a sample for the given composite task:\\...</td>\n",
              "    </tr>\n",
              "    <tr>\n",
              "      <th>4</th>\n",
              "      <td>{'Select and review astronomy topics that appe...</td>\n",
              "      <td>{'Identify key astronomy concepts': {'next_mod...</td>\n",
              "      <td>Design an educational video series on basic as...</td>\n",
              "      <td>[INST]Below is an instruction that describes a...</td>\n",
              "      <td>### Response:{'Select and review astronomy top...</td>\n",
              "      <td>[1, 733, 16289, 28793, 20548, 336, 349, 396, 1...</td>\n",
              "      <td>[1, 1, 1, 1, 1, 1, 1, 1, 1, 1, 1, 1, 1, 1, 1, ...</td>\n",
              "      <td>Here's a possible planning for designing an ed...</td>\n",
              "    </tr>\n",
              "  </tbody>\n",
              "</table>\n",
              "</div>\n",
              "    <div class=\"colab-df-buttons\">\n",
              "\n",
              "  <div class=\"colab-df-container\">\n",
              "    <button class=\"colab-df-convert\" onclick=\"convertToInteractive('df-35a4b50d-a38b-4307-91ca-d837053c762a')\"\n",
              "            title=\"Convert this dataframe to an interactive table.\"\n",
              "            style=\"display:none;\">\n",
              "\n",
              "  <svg xmlns=\"http://www.w3.org/2000/svg\" height=\"24px\" viewBox=\"0 -960 960 960\">\n",
              "    <path d=\"M120-120v-720h720v720H120Zm60-500h600v-160H180v160Zm220 220h160v-160H400v160Zm0 220h160v-160H400v160ZM180-400h160v-160H180v160Zm440 0h160v-160H620v160ZM180-180h160v-160H180v160Zm440 0h160v-160H620v160Z\"/>\n",
              "  </svg>\n",
              "    </button>\n",
              "\n",
              "  <style>\n",
              "    .colab-df-container {\n",
              "      display:flex;\n",
              "      gap: 12px;\n",
              "    }\n",
              "\n",
              "    .colab-df-convert {\n",
              "      background-color: #E8F0FE;\n",
              "      border: none;\n",
              "      border-radius: 50%;\n",
              "      cursor: pointer;\n",
              "      display: none;\n",
              "      fill: #1967D2;\n",
              "      height: 32px;\n",
              "      padding: 0 0 0 0;\n",
              "      width: 32px;\n",
              "    }\n",
              "\n",
              "    .colab-df-convert:hover {\n",
              "      background-color: #E2EBFA;\n",
              "      box-shadow: 0px 1px 2px rgba(60, 64, 67, 0.3), 0px 1px 3px 1px rgba(60, 64, 67, 0.15);\n",
              "      fill: #174EA6;\n",
              "    }\n",
              "\n",
              "    .colab-df-buttons div {\n",
              "      margin-bottom: 4px;\n",
              "    }\n",
              "\n",
              "    [theme=dark] .colab-df-convert {\n",
              "      background-color: #3B4455;\n",
              "      fill: #D2E3FC;\n",
              "    }\n",
              "\n",
              "    [theme=dark] .colab-df-convert:hover {\n",
              "      background-color: #434B5C;\n",
              "      box-shadow: 0px 1px 3px 1px rgba(0, 0, 0, 0.15);\n",
              "      filter: drop-shadow(0px 1px 2px rgba(0, 0, 0, 0.3));\n",
              "      fill: #FFFFFF;\n",
              "    }\n",
              "  </style>\n",
              "\n",
              "    <script>\n",
              "      const buttonEl =\n",
              "        document.querySelector('#df-35a4b50d-a38b-4307-91ca-d837053c762a button.colab-df-convert');\n",
              "      buttonEl.style.display =\n",
              "        google.colab.kernel.accessAllowed ? 'block' : 'none';\n",
              "\n",
              "      async function convertToInteractive(key) {\n",
              "        const element = document.querySelector('#df-35a4b50d-a38b-4307-91ca-d837053c762a');\n",
              "        const dataTable =\n",
              "          await google.colab.kernel.invokeFunction('convertToInteractive',\n",
              "                                                    [key], {});\n",
              "        if (!dataTable) return;\n",
              "\n",
              "        const docLinkHtml = 'Like what you see? Visit the ' +\n",
              "          '<a target=\"_blank\" href=https://colab.research.google.com/notebooks/data_table.ipynb>data table notebook</a>'\n",
              "          + ' to learn more about interactive tables.';\n",
              "        element.innerHTML = '';\n",
              "        dataTable['output_type'] = 'display_data';\n",
              "        await google.colab.output.renderOutput(dataTable, element);\n",
              "        const docLink = document.createElement('div');\n",
              "        docLink.innerHTML = docLinkHtml;\n",
              "        element.appendChild(docLink);\n",
              "      }\n",
              "    </script>\n",
              "  </div>\n",
              "\n",
              "\n",
              "<div id=\"df-ab2f86a4-737e-4f6d-a0de-3a90c981eec9\">\n",
              "  <button class=\"colab-df-quickchart\" onclick=\"quickchart('df-ab2f86a4-737e-4f6d-a0de-3a90c981eec9')\"\n",
              "            title=\"Suggest charts\"\n",
              "            style=\"display:none;\">\n",
              "\n",
              "<svg xmlns=\"http://www.w3.org/2000/svg\" height=\"24px\"viewBox=\"0 0 24 24\"\n",
              "     width=\"24px\">\n",
              "    <g>\n",
              "        <path d=\"M19 3H5c-1.1 0-2 .9-2 2v14c0 1.1.9 2 2 2h14c1.1 0 2-.9 2-2V5c0-1.1-.9-2-2-2zM9 17H7v-7h2v7zm4 0h-2V7h2v10zm4 0h-2v-4h2v4z\"/>\n",
              "    </g>\n",
              "</svg>\n",
              "  </button>\n",
              "\n",
              "<style>\n",
              "  .colab-df-quickchart {\n",
              "      --bg-color: #E8F0FE;\n",
              "      --fill-color: #1967D2;\n",
              "      --hover-bg-color: #E2EBFA;\n",
              "      --hover-fill-color: #174EA6;\n",
              "      --disabled-fill-color: #AAA;\n",
              "      --disabled-bg-color: #DDD;\n",
              "  }\n",
              "\n",
              "  [theme=dark] .colab-df-quickchart {\n",
              "      --bg-color: #3B4455;\n",
              "      --fill-color: #D2E3FC;\n",
              "      --hover-bg-color: #434B5C;\n",
              "      --hover-fill-color: #FFFFFF;\n",
              "      --disabled-bg-color: #3B4455;\n",
              "      --disabled-fill-color: #666;\n",
              "  }\n",
              "\n",
              "  .colab-df-quickchart {\n",
              "    background-color: var(--bg-color);\n",
              "    border: none;\n",
              "    border-radius: 50%;\n",
              "    cursor: pointer;\n",
              "    display: none;\n",
              "    fill: var(--fill-color);\n",
              "    height: 32px;\n",
              "    padding: 0;\n",
              "    width: 32px;\n",
              "  }\n",
              "\n",
              "  .colab-df-quickchart:hover {\n",
              "    background-color: var(--hover-bg-color);\n",
              "    box-shadow: 0 1px 2px rgba(60, 64, 67, 0.3), 0 1px 3px 1px rgba(60, 64, 67, 0.15);\n",
              "    fill: var(--button-hover-fill-color);\n",
              "  }\n",
              "\n",
              "  .colab-df-quickchart-complete:disabled,\n",
              "  .colab-df-quickchart-complete:disabled:hover {\n",
              "    background-color: var(--disabled-bg-color);\n",
              "    fill: var(--disabled-fill-color);\n",
              "    box-shadow: none;\n",
              "  }\n",
              "\n",
              "  .colab-df-spinner {\n",
              "    border: 2px solid var(--fill-color);\n",
              "    border-color: transparent;\n",
              "    border-bottom-color: var(--fill-color);\n",
              "    animation:\n",
              "      spin 1s steps(1) infinite;\n",
              "  }\n",
              "\n",
              "  @keyframes spin {\n",
              "    0% {\n",
              "      border-color: transparent;\n",
              "      border-bottom-color: var(--fill-color);\n",
              "      border-left-color: var(--fill-color);\n",
              "    }\n",
              "    20% {\n",
              "      border-color: transparent;\n",
              "      border-left-color: var(--fill-color);\n",
              "      border-top-color: var(--fill-color);\n",
              "    }\n",
              "    30% {\n",
              "      border-color: transparent;\n",
              "      border-left-color: var(--fill-color);\n",
              "      border-top-color: var(--fill-color);\n",
              "      border-right-color: var(--fill-color);\n",
              "    }\n",
              "    40% {\n",
              "      border-color: transparent;\n",
              "      border-right-color: var(--fill-color);\n",
              "      border-top-color: var(--fill-color);\n",
              "    }\n",
              "    60% {\n",
              "      border-color: transparent;\n",
              "      border-right-color: var(--fill-color);\n",
              "    }\n",
              "    80% {\n",
              "      border-color: transparent;\n",
              "      border-right-color: var(--fill-color);\n",
              "      border-bottom-color: var(--fill-color);\n",
              "    }\n",
              "    90% {\n",
              "      border-color: transparent;\n",
              "      border-bottom-color: var(--fill-color);\n",
              "    }\n",
              "  }\n",
              "</style>\n",
              "\n",
              "  <script>\n",
              "    async function quickchart(key) {\n",
              "      const quickchartButtonEl =\n",
              "        document.querySelector('#' + key + ' button');\n",
              "      quickchartButtonEl.disabled = true;  // To prevent multiple clicks.\n",
              "      quickchartButtonEl.classList.add('colab-df-spinner');\n",
              "      try {\n",
              "        const charts = await google.colab.kernel.invokeFunction(\n",
              "            'suggestCharts', [key], {});\n",
              "      } catch (error) {\n",
              "        console.error('Error during call to suggestCharts:', error);\n",
              "      }\n",
              "      quickchartButtonEl.classList.remove('colab-df-spinner');\n",
              "      quickchartButtonEl.classList.add('colab-df-quickchart-complete');\n",
              "    }\n",
              "    (() => {\n",
              "      let quickchartButtonEl =\n",
              "        document.querySelector('#df-ab2f86a4-737e-4f6d-a0de-3a90c981eec9 button');\n",
              "      quickchartButtonEl.style.display =\n",
              "        google.colab.kernel.accessAllowed ? 'block' : 'none';\n",
              "    })();\n",
              "  </script>\n",
              "</div>\n",
              "    </div>\n",
              "  </div>\n"
            ],
            "application/vnd.google.colaboratory.intrinsic+json": {
              "type": "dataframe",
              "variable_name": "df_test_with_detail_pred",
              "summary": "{\n  \"name\": \"df_test_with_detail_pred\",\n  \"rows\": 101,\n  \"fields\": [\n    {\n      \"column\": \"Detailed\",\n      \"properties\": {\n        \"dtype\": \"string\",\n        \"num_unique_values\": 101,\n        \"samples\": [\n          \"{'Capture the essence of the cultural festival through high-quality photographs, focusing on candid moments, vibrant scenes, and unique cultural expressions': {'next_modes': ['Assemble the photographs into a cohesive digital photo essay, providing context and narrative to each image', 'Develop a podcast episode script that weaves together the stories behind the photographs, offering insights and personal reflections'], 'failure': ['Retake photographs with improved focus on cultural authenticity', 'Seek assistance from a cultural festival organizer for documentary accuracy', 'Analyze and adapt photographic technique based on feedback', 'Deliver a selection of the best captures with annotations about missing elements']}, 'Assemble the photographs into a cohesive digital photo essay, providing context and narrative to each image, and publish it online': {'next_modes': ['Evaluate the digital photo essay for visual storytelling effectiveness, cultural representation, and viewer engagement'], 'failure': ['Rework the photo essay with improved narrative flow', 'Explore different online platforms for broader reach', 'Ensure visual and textual content is culturally sensitive', 'Share a portion of the completed essay pending revisions for feedback']}, 'Develop a podcast episode script that weaves together the stories behind the photographs, offering insights and personal reflections, and record the episode': {'next_modes': ['Assess the podcast episode for narrative quality, cultural depth, and audio clarity'], 'failure': ['Re-record the podcast with enhanced audio quality and script refinements', 'Conclude the episode prematurely if core objectives are unmet', 'Verify narrative accuracy with cultural experts', 'Optimize audio settings based on technical evaluations']}, 'Evaluate the digital photo essay and the podcast episode for coherence, accuracy, and cultural sensitivity': {'next_modes': [], 'failure': None}}\",\n          \"{'Design a creative logo that effectively represents the brand identity including color schemes and symbolic elements': {'next_modes': ['Produce an animated introduction video embedding the logo, ensuring brand themes and values are communicated visually and audibly'], 'failure': ['Attempt the design again focusing on feedback, if available', \\\"Cease the creation process and evaluate the project's direction\\\", 'Use a basic, pre-designed logo template as a placeholder', 'Notify the project manager for direct input or redesign approval']}, \\\"Produce an animated introduction video embedding the logo, ensuring brand themes and values are communicated visually and audibly, including background music that aligns with the brand's tone\\\": {'next_modes': [\\\"Conduct a detailed analysis of the video's appeal, brand consistency, and viewer engagement potential\\\"], 'failure': ['Retry creating the video with adjusted animation styles or pacing', 'Switch to a static video mode if animation fails repeatedly', 'Document the failed attempts and analyze for common errors', 'Automatically check for brand consistency and viewer engagement metrics']}, \\\"Conduct a detailed analysis of the video's appeal, brand consistency, and viewer engagement potential\\\": {'next_modes': [], 'failure': None}}\",\n          \"{'Collect detailed specifications, features, and pricing information for both smartphones from official sources and credible tech reviews': {'next_modes': ['Analyze the collected data to identify key differences and similarities, focusing on performance, camera quality, battery life, and overall value'], 'failure': ['Retry collection with a broader range of sources', 'Alternative Data Sources by including user forums', 'Log and Analyze any discrepancies found during collection']}, 'Analyze the collected data to identify key differences and similarities, focusing on performance, camera quality, battery life, and overall value for comparison': {'next_modes': ['Compose a comprehensive blog post detailing the comparative analysis, incorporating user experience anecdotes', 'Create a visually appealing infographic summarizing the comparison for easy understanding'], 'failure': ['Retry analysis for deeper insights', 'Request Human Intervention for a second opinion', 'Quality Assurance Check to verify factual accuracy']}, 'Compose a comprehensive blog post detailing the comparative analysis, including pros and cons, with a neutral and informative tone, aiming to assist consumers in decision-making': {'next_modes': ['Publish the detailed blog post on tech websites and forums for widespread reach'], 'failure': ['Retry with a refined tone or updated information', 'Fallback Content by focusing on the most impactful comparison points', 'Partial Content Delivery if under time constraints']}, 'Create a visually appealing infographic summarizing the smartphone comparison, ensuring it includes key points from the analysis for easy social media sharing': {'next_modes': ['Incorporate the infographic into the blog post before publication'], 'failure': ['Retry with improved design or clarity', 'Switch to Different Mode by preparing a slideshow if the infographic is not compelling', 'Graceful Degradation by simplifying the content']}, 'Publish the detailed blog post on tech websites and forums, incorporating the infographic to enhance reader engagement and comprehension': {'next_modes': ['Gather reader feedback and questions for future updates or follow-up posts'], 'failure': ['Retry due to technical issues with website hosting', 'Exit if the content is deemed not suitable for the platform', 'Log and Analyze reader interactions']}, 'Gather reader feedback and questions for future updates or follow-up posts': {'next_modes': [], 'failure': None}}\"\n        ],\n        \"semantic_type\": \"\",\n        \"description\": \"\"\n      }\n    },\n    {\n      \"column\": \"Blueprint\",\n      \"properties\": {\n        \"dtype\": \"string\",\n        \"num_unique_values\": 101,\n        \"samples\": [\n          \"{'Photograph cultural festival': {'next_modes': ['Compile photo essay', 'Narrate story in podcast'], 'failure': ['Retry', 'Request Human Intervention', 'Log and Analyze', 'Partial Content Delivery']}, 'Compile photo essay': {'next_modes': ['Analyzer'], 'failure': ['Retry', 'Switch to Different Mode', 'Quality Assurance Check', 'Alternative Data Sources']}, 'Narrate story in podcast': {'next_modes': ['Analyzer'], 'failure': ['Retry', 'Exit', 'Quality Assurance Check', 'Mode Optimization']}, 'Analyzer': {'next_modes': [], 'failure': None}}\",\n          \"{'Design a logo': {'next_modes': ['Create an animated introduction video'], 'failure': ['Retry', 'Exit', 'Fallback Content', 'Request Human Intervention']}, 'Create an animated introduction video': {'next_modes': ['Analyzer'], 'failure': ['Retry', 'Switch to Different Mode', 'Log and Analyze', 'Quality Assurance Check']}, 'Analyzer': {'next_modes': [], 'failure': None}}\",\n          \"{'Gather smartphone specifications': {'next_modes': ['Conduct analysis'], 'failure': ['Retry', 'Alternative Data Sources', 'Log and Analyze']}, 'Conduct analysis': {'next_modes': ['Write blog post', 'Design infographic'], 'failure': ['Retry', 'Request Human Intervention', 'Quality Assurance Check']}, 'Write blog post': {'next_modes': ['Publish blog post'], 'failure': ['Retry', 'Fallback Content', 'Partial Content Delivery']}, 'Design infographic': {'next_modes': ['Integrate infographic with blog post'], 'failure': ['Retry', 'Switch to Different Mode', 'Graceful Degradation']}, 'Publish blog post': {'next_modes': ['Analyzer'], 'failure': ['Retry', 'Exit', 'Log and Analyze']}, 'Integrate infographic with blog post': {'next_modes': ['Publish blog post'], 'failure': ['Retry', 'Exit', 'Log and Analyze']}, 'Analyzer': {'next_modes': [], 'failure': None}}\"\n        ],\n        \"semantic_type\": \"\",\n        \"description\": \"\"\n      }\n    },\n    {\n      \"column\": \"Instruction\",\n      \"properties\": {\n        \"dtype\": \"string\",\n        \"num_unique_values\": 101,\n        \"samples\": [\n          \"Document a cultural festival through photography, compile the images into a digital photo essay, and narrate the story behind the photos in a podcast episode.\",\n          \"Design a logo, then create an animated introduction video that incorporates the logo.\",\n          \"Conduct a comparative analysis between two smartphones, culminating in a detailed blog post with a comparison infographic.\"\n        ],\n        \"semantic_type\": \"\",\n        \"description\": \"\"\n      }\n    },\n    {\n      \"column\": \"prompt\",\n      \"properties\": {\n        \"dtype\": \"string\",\n        \"num_unique_values\": 101,\n        \"samples\": [\n          \"[INST]Below is an instruction that describes a composite task. Provide the structured detail planning for the following task.Document a cultural festival through photography, compile the images into a digital photo essay, and narrate the story behind the photos in a podcast episode.[/INST]\\n\\n### Response:{'Capture the essence of the cultural festival through high-quality photographs, focusing on candid moments, vibrant scenes, and unique cultural expressions': {'next_modes': ['Assemble the photographs into a cohesive digital photo essay, providing context and narrative to each image', 'Develop a podcast episode script that weaves together the stories behind the photographs, offering insights and personal reflections'], 'failure': ['Retake photographs with improved focus on cultural authenticity', 'Seek assistance from a cultural festival organizer for documentary accuracy', 'Analyze and adapt photographic technique based on feedback', 'Deliver a selection of the best captures with annotations about missing elements']}, 'Assemble the photographs into a cohesive digital photo essay, providing context and narrative to each image, and publish it online': {'next_modes': ['Evaluate the digital photo essay for visual storytelling effectiveness, cultural representation, and viewer engagement'], 'failure': ['Rework the photo essay with improved narrative flow', 'Explore different online platforms for broader reach', 'Ensure visual and textual content is culturally sensitive', 'Share a portion of the completed essay pending revisions for feedback']}, 'Develop a podcast episode script that weaves together the stories behind the photographs, offering insights and personal reflections, and record the episode': {'next_modes': ['Assess the podcast episode for narrative quality, cultural depth, and audio clarity'], 'failure': ['Re-record the podcast with enhanced audio quality and script refinements', 'Conclude the episode prematurely if core objectives are unmet', 'Verify narrative accuracy with cultural experts', 'Optimize audio settings based on technical evaluations']}, 'Evaluate the digital photo essay and the podcast episode for coherence, accuracy, and cultural sensitivity': {'next_modes': [], 'failure': None}}\",\n          \"[INST]Below is an instruction that describes a composite task. Provide the structured detail planning for the following task.Design a logo, then create an animated introduction video that incorporates the logo.[/INST]\\n\\n### Response:{'Design a creative logo that effectively represents the brand identity including color schemes and symbolic elements': {'next_modes': ['Produce an animated introduction video embedding the logo, ensuring brand themes and values are communicated visually and audibly'], 'failure': ['Attempt the design again focusing on feedback, if available', \\\"Cease the creation process and evaluate the project's direction\\\", 'Use a basic, pre-designed logo template as a placeholder', 'Notify the project manager for direct input or redesign approval']}, \\\"Produce an animated introduction video embedding the logo, ensuring brand themes and values are communicated visually and audibly, including background music that aligns with the brand's tone\\\": {'next_modes': [\\\"Conduct a detailed analysis of the video's appeal, brand consistency, and viewer engagement potential\\\"], 'failure': ['Retry creating the video with adjusted animation styles or pacing', 'Switch to a static video mode if animation fails repeatedly', 'Document the failed attempts and analyze for common errors', 'Automatically check for brand consistency and viewer engagement metrics']}, \\\"Conduct a detailed analysis of the video's appeal, brand consistency, and viewer engagement potential\\\": {'next_modes': [], 'failure': None}}\",\n          \"[INST]Below is an instruction that describes a composite task. Provide the structured detail planning for the following task.Conduct a comparative analysis between two smartphones, culminating in a detailed blog post with a comparison infographic.[/INST]\\n\\n### Response:{'Collect detailed specifications, features, and pricing information for both smartphones from official sources and credible tech reviews': {'next_modes': ['Analyze the collected data to identify key differences and similarities, focusing on performance, camera quality, battery life, and overall value'], 'failure': ['Retry collection with a broader range of sources', 'Alternative Data Sources by including user forums', 'Log and Analyze any discrepancies found during collection']}, 'Analyze the collected data to identify key differences and similarities, focusing on performance, camera quality, battery life, and overall value for comparison': {'next_modes': ['Compose a comprehensive blog post detailing the comparative analysis, incorporating user experience anecdotes', 'Create a visually appealing infographic summarizing the comparison for easy understanding'], 'failure': ['Retry analysis for deeper insights', 'Request Human Intervention for a second opinion', 'Quality Assurance Check to verify factual accuracy']}, 'Compose a comprehensive blog post detailing the comparative analysis, including pros and cons, with a neutral and informative tone, aiming to assist consumers in decision-making': {'next_modes': ['Publish the detailed blog post on tech websites and forums for widespread reach'], 'failure': ['Retry with a refined tone or updated information', 'Fallback Content by focusing on the most impactful comparison points', 'Partial Content Delivery if under time constraints']}, 'Create a visually appealing infographic summarizing the smartphone comparison, ensuring it includes key points from the analysis for easy social media sharing': {'next_modes': ['Incorporate the infographic into the blog post before publication'], 'failure': ['Retry with improved design or clarity', 'Switch to Different Mode by preparing a slideshow if the infographic is not compelling', 'Graceful Degradation by simplifying the content']}, 'Publish the detailed blog post on tech websites and forums, incorporating the infographic to enhance reader engagement and comprehension': {'next_modes': ['Gather reader feedback and questions for future updates or follow-up posts'], 'failure': ['Retry due to technical issues with website hosting', 'Exit if the content is deemed not suitable for the platform', 'Log and Analyze reader interactions']}, 'Gather reader feedback and questions for future updates or follow-up posts': {'next_modes': [], 'failure': None}}\"\n        ],\n        \"semantic_type\": \"\",\n        \"description\": \"\"\n      }\n    },\n    {\n      \"column\": \"response\",\n      \"properties\": {\n        \"dtype\": \"string\",\n        \"num_unique_values\": 101,\n        \"samples\": [\n          \"### Response:{'Capture the essence of the cultural festival through high-quality photographs, focusing on candid moments, vibrant scenes, and unique cultural expressions': {'next_modes': ['Assemble the photographs into a cohesive digital photo essay, providing context and narrative to each image', 'Develop a podcast episode script that weaves together the stories behind the photographs, offering insights and personal reflections'], 'failure': ['Retake photographs with improved focus on cultural authenticity', 'Seek assistance from a cultural festival organizer for documentary accuracy', 'Analyze and adapt photographic technique based on feedback', 'Deliver a selection of the best captures with annotations about missing elements']}, 'Assemble the photographs into a cohesive digital photo essay, providing context and narrative to each image, and publish it online': {'next_modes': ['Evaluate the digital photo essay for visual storytelling effectiveness, cultural representation, and viewer engagement'], 'failure': ['Rework the photo essay with improved narrative flow', 'Explore different online platforms for broader reach', 'Ensure visual and textual content is culturally sensitive', 'Share a portion of the completed essay pending revisions for feedback']}, 'Develop a podcast episode script that weaves together the stories behind the photographs, offering insights and personal reflections, and record the episode': {'next_modes': ['Assess the podcast episode for narrative quality, cultural depth, and audio clarity'], 'failure': ['Re-record the podcast with enhanced audio quality and script refinements', 'Conclude the episode prematurely if core objectives are unmet', 'Verify narrative accuracy with cultural experts', 'Optimize audio settings based on technical evaluations']}, 'Evaluate the digital photo essay and the podcast episode for coherence, accuracy, and cultural sensitivity': {'next_modes': [], 'failure': None}}\",\n          \"### Response:{'Design a creative logo that effectively represents the brand identity including color schemes and symbolic elements': {'next_modes': ['Produce an animated introduction video embedding the logo, ensuring brand themes and values are communicated visually and audibly'], 'failure': ['Attempt the design again focusing on feedback, if available', \\\"Cease the creation process and evaluate the project's direction\\\", 'Use a basic, pre-designed logo template as a placeholder', 'Notify the project manager for direct input or redesign approval']}, \\\"Produce an animated introduction video embedding the logo, ensuring brand themes and values are communicated visually and audibly, including background music that aligns with the brand's tone\\\": {'next_modes': [\\\"Conduct a detailed analysis of the video's appeal, brand consistency, and viewer engagement potential\\\"], 'failure': ['Retry creating the video with adjusted animation styles or pacing', 'Switch to a static video mode if animation fails repeatedly', 'Document the failed attempts and analyze for common errors', 'Automatically check for brand consistency and viewer engagement metrics']}, \\\"Conduct a detailed analysis of the video's appeal, brand consistency, and viewer engagement potential\\\": {'next_modes': [], 'failure': None}}\",\n          \"### Response:{'Collect detailed specifications, features, and pricing information for both smartphones from official sources and credible tech reviews': {'next_modes': ['Analyze the collected data to identify key differences and similarities, focusing on performance, camera quality, battery life, and overall value'], 'failure': ['Retry collection with a broader range of sources', 'Alternative Data Sources by including user forums', 'Log and Analyze any discrepancies found during collection']}, 'Analyze the collected data to identify key differences and similarities, focusing on performance, camera quality, battery life, and overall value for comparison': {'next_modes': ['Compose a comprehensive blog post detailing the comparative analysis, incorporating user experience anecdotes', 'Create a visually appealing infographic summarizing the comparison for easy understanding'], 'failure': ['Retry analysis for deeper insights', 'Request Human Intervention for a second opinion', 'Quality Assurance Check to verify factual accuracy']}, 'Compose a comprehensive blog post detailing the comparative analysis, including pros and cons, with a neutral and informative tone, aiming to assist consumers in decision-making': {'next_modes': ['Publish the detailed blog post on tech websites and forums for widespread reach'], 'failure': ['Retry with a refined tone or updated information', 'Fallback Content by focusing on the most impactful comparison points', 'Partial Content Delivery if under time constraints']}, 'Create a visually appealing infographic summarizing the smartphone comparison, ensuring it includes key points from the analysis for easy social media sharing': {'next_modes': ['Incorporate the infographic into the blog post before publication'], 'failure': ['Retry with improved design or clarity', 'Switch to Different Mode by preparing a slideshow if the infographic is not compelling', 'Graceful Degradation by simplifying the content']}, 'Publish the detailed blog post on tech websites and forums, incorporating the infographic to enhance reader engagement and comprehension': {'next_modes': ['Gather reader feedback and questions for future updates or follow-up posts'], 'failure': ['Retry due to technical issues with website hosting', 'Exit if the content is deemed not suitable for the platform', 'Log and Analyze reader interactions']}, 'Gather reader feedback and questions for future updates or follow-up posts': {'next_modes': [], 'failure': None}}\"\n        ],\n        \"semantic_type\": \"\",\n        \"description\": \"\"\n      }\n    },\n    {\n      \"column\": \"input_ids\",\n      \"properties\": {\n        \"dtype\": \"object\",\n        \"semantic_type\": \"\",\n        \"description\": \"\"\n      }\n    },\n    {\n      \"column\": \"attention_mask\",\n      \"properties\": {\n        \"dtype\": \"object\",\n        \"semantic_type\": \"\",\n        \"description\": \"\"\n      }\n    },\n    {\n      \"column\": \"detail-pred-merge\",\n      \"properties\": {\n        \"dtype\": \"string\",\n        \"num_unique_values\": 101,\n        \"samples\": [\n          \"Here's a possible planning for documenting a cultural festival through photography, compiling the images into a digital photo essay, and narrating the story behind the photos in a podcast episode:\\n\\n{'Document the cultural festival through photography': {'next_modes': ['Compile the images into a digital photo essay'], 'failure': ['Retry the photography session', 'Switch to video recording', 'Use stock images']},\\n 'Compile the images into a digital photo essay': {'next_modes': ['Narrate the story behind the photos in a podcast episode'], 'failure': ['Retry the compilation process', 'Seek professional help', 'Use alternative storytelling methods']},\\n 'Narrate the story behind the photos in a podcast episode': {'next_modes': [], 'failure': None}}</s>\",\n          \"Here's a detailed planning for designing a logo and creating an animated introduction video:\\n\\n{'Design a logo': {'next_modes': ['Create an animated introduction video'], 'failure': ['Retry with different design elements', 'Switch to a different design approach', 'Request human intervention']},\\n 'Create an animated introduction video': {'next_modes': ['Analyzer'], 'failure': ['Retry with different animation techniques', 'Switch to a different animation style', 'Request human intervention']},\\n 'Analyzer': {'next_modes': [], 'failure': None}}</s>\",\n          \"Here's a detailed planning for the comparative analysis between two smartphones, culminating in a blog post with a comparison infographic:\\n\\n{'Researching smartphone specifications': {'next_modes': ['Gathering user reviews', 'Creating a comparison table'], 'failure': ['Retry the research', 'Switch to a different comparison topic']},\\n 'Gathering user reviews': {'next_modes': ['Analyzing user feedback'], 'failure': ['Retry the data collection', 'Use alternative data sources']},\\n 'Creating a comparison table': {'next_modes': ['Designing the infographic'], 'failure': ['Retry the table creation', 'Simplify the table']},\\n 'Analyzing user feedback': {'next_modes': ['Identifying common themes'], 'failure': ['Retry the analysis', 'Seek expert advice']},\\n 'Designing the infographic': {'next_modes': ['Writing the blog post'], 'failure': ['Retry the design', 'Use a different visualization method']},\\n 'Writing the blog post': {'next_modes': ['Finalizing the post'], 'failure': ['Retry the writing', 'Use a different writing style']},\\n 'Finalizing the post': {'next_modes': [], 'failure': None}}</s>\"\n        ],\n        \"semantic_type\": \"\",\n        \"description\": \"\"\n      }\n    }\n  ]\n}"
            }
          },
          "metadata": {},
          "execution_count": 95
        }
      ]
    },
    {
      "cell_type": "code",
      "source": [
        "import json\n",
        "import numpy as np\n",
        "\n",
        "\n",
        "class NumpyEncoder(json.JSONEncoder):\n",
        "    \"\"\" Special json encoder for numpy types \"\"\"\n",
        "    def default(self, obj):\n",
        "        if isinstance(obj, np.integer):\n",
        "            return int(obj)\n",
        "        elif isinstance(obj, np.floating):\n",
        "            return float(obj)\n",
        "        elif isinstance(obj, np.ndarray):\n",
        "            return obj.tolist()\n",
        "        return json.JSONEncoder.default(self, obj)"
      ],
      "metadata": {
        "colab": {
          "base_uri": "https://localhost:8080/",
          "height": 17
        },
        "id": "hmeIVatatFPm",
        "outputId": "0008f498-9644-465e-bfd4-7eb3124ad5e7"
      },
      "execution_count": null,
      "outputs": [
        {
          "output_type": "display_data",
          "data": {
            "text/plain": [
              "<IPython.core.display.HTML object>"
            ],
            "text/html": [
              "\n",
              "  <style>\n",
              "    pre {\n",
              "        white-space: pre-wrap;\n",
              "    }\n",
              "  </style>\n",
              "  "
            ]
          },
          "metadata": {}
        }
      ]
    },
    {
      "cell_type": "code",
      "source": [
        "# Convert DataFrame to a dictionary for prettier JSON\n",
        "data_blueprint_dict = df_test_with_blueprint_pred.to_dict(orient='records')\n",
        "\n",
        "dumped_blueprint = json.dumps(data_blueprint_dict, cls=NumpyEncoder)\n",
        "\n",
        "# Writing prettified JSON to a file\n",
        "with open('data_test_with_blueprint_pred_merge.json', 'w') as f:\n",
        "    json.dump(dumped_blueprint, f, indent=4)"
      ],
      "metadata": {
        "colab": {
          "base_uri": "https://localhost:8080/",
          "height": 17
        },
        "id": "4N1I-AxnsX6h",
        "outputId": "1df65abc-6467-4255-a7fc-8341a8559f95"
      },
      "execution_count": null,
      "outputs": [
        {
          "output_type": "display_data",
          "data": {
            "text/plain": [
              "<IPython.core.display.HTML object>"
            ],
            "text/html": [
              "\n",
              "  <style>\n",
              "    pre {\n",
              "        white-space: pre-wrap;\n",
              "    }\n",
              "  </style>\n",
              "  "
            ]
          },
          "metadata": {}
        }
      ]
    },
    {
      "cell_type": "code",
      "source": [
        "# Convert DataFrame to a dictionary for prettier JSON\n",
        "data_detail_dict = df_test_with_detail_pred.to_dict(orient='records')\n",
        "\n",
        "dumped_detail = json.dumps(data_detail_dict, cls=NumpyEncoder)\n",
        "\n",
        "# Writing prettified JSON to a file\n",
        "with open('data_test_with_detail_pred_merge.json', 'w') as f:\n",
        "    json.dump(dumped_detail, f, indent=4)"
      ],
      "metadata": {
        "colab": {
          "base_uri": "https://localhost:8080/",
          "height": 17
        },
        "id": "N3Qv0XnFs9Fw",
        "outputId": "8e99009d-3873-4bc0-8c31-aa9d8147a53b"
      },
      "execution_count": null,
      "outputs": [
        {
          "output_type": "display_data",
          "data": {
            "text/plain": [
              "<IPython.core.display.HTML object>"
            ],
            "text/html": [
              "\n",
              "  <style>\n",
              "    pre {\n",
              "        white-space: pre-wrap;\n",
              "    }\n",
              "  </style>\n",
              "  "
            ]
          },
          "metadata": {}
        }
      ]
    },
    {
      "cell_type": "code",
      "source": [
        "from google.colab import files\n",
        "\n",
        "files.download('data_test_with_blueprint_pred_merge.json')"
      ],
      "metadata": {
        "colab": {
          "base_uri": "https://localhost:8080/",
          "height": 17
        },
        "id": "InSukSZhs9MF",
        "outputId": "020cfe1d-af14-4f9c-8bbb-9438aaaafd37"
      },
      "execution_count": null,
      "outputs": [
        {
          "output_type": "display_data",
          "data": {
            "text/plain": [
              "<IPython.core.display.HTML object>"
            ],
            "text/html": [
              "\n",
              "  <style>\n",
              "    pre {\n",
              "        white-space: pre-wrap;\n",
              "    }\n",
              "  </style>\n",
              "  "
            ]
          },
          "metadata": {}
        },
        {
          "output_type": "display_data",
          "data": {
            "text/plain": [
              "<IPython.core.display.Javascript object>"
            ],
            "application/javascript": [
              "\n",
              "    async function download(id, filename, size) {\n",
              "      if (!google.colab.kernel.accessAllowed) {\n",
              "        return;\n",
              "      }\n",
              "      const div = document.createElement('div');\n",
              "      const label = document.createElement('label');\n",
              "      label.textContent = `Downloading \"${filename}\": `;\n",
              "      div.appendChild(label);\n",
              "      const progress = document.createElement('progress');\n",
              "      progress.max = size;\n",
              "      div.appendChild(progress);\n",
              "      document.body.appendChild(div);\n",
              "\n",
              "      const buffers = [];\n",
              "      let downloaded = 0;\n",
              "\n",
              "      const channel = await google.colab.kernel.comms.open(id);\n",
              "      // Send a message to notify the kernel that we're ready.\n",
              "      channel.send({})\n",
              "\n",
              "      for await (const message of channel.messages) {\n",
              "        // Send a message to notify the kernel that we're ready.\n",
              "        channel.send({})\n",
              "        if (message.buffers) {\n",
              "          for (const buffer of message.buffers) {\n",
              "            buffers.push(buffer);\n",
              "            downloaded += buffer.byteLength;\n",
              "            progress.value = downloaded;\n",
              "          }\n",
              "        }\n",
              "      }\n",
              "      const blob = new Blob(buffers, {type: 'application/binary'});\n",
              "      const a = document.createElement('a');\n",
              "      a.href = window.URL.createObjectURL(blob);\n",
              "      a.download = filename;\n",
              "      div.appendChild(a);\n",
              "      a.click();\n",
              "      div.remove();\n",
              "    }\n",
              "  "
            ]
          },
          "metadata": {}
        },
        {
          "output_type": "display_data",
          "data": {
            "text/plain": [
              "<IPython.core.display.Javascript object>"
            ],
            "application/javascript": [
              "download(\"download_d0c8520f-8491-450a-b3d5-bea9dd473a99\", \"data_test_with_blueprint_pred_merge.json\", 709266)"
            ]
          },
          "metadata": {}
        }
      ]
    },
    {
      "cell_type": "code",
      "source": [
        "from google.colab import files\n",
        "\n",
        "files.download('data_test_with_detail_pred_merge.json')"
      ],
      "metadata": {
        "colab": {
          "base_uri": "https://localhost:8080/",
          "height": 17
        },
        "id": "gEXrbqS4s9US",
        "outputId": "82520df9-66d0-4730-a245-ccf52e151f47"
      },
      "execution_count": null,
      "outputs": [
        {
          "output_type": "display_data",
          "data": {
            "text/plain": [
              "<IPython.core.display.HTML object>"
            ],
            "text/html": [
              "\n",
              "  <style>\n",
              "    pre {\n",
              "        white-space: pre-wrap;\n",
              "    }\n",
              "  </style>\n",
              "  "
            ]
          },
          "metadata": {}
        },
        {
          "output_type": "display_data",
          "data": {
            "text/plain": [
              "<IPython.core.display.Javascript object>"
            ],
            "application/javascript": [
              "\n",
              "    async function download(id, filename, size) {\n",
              "      if (!google.colab.kernel.accessAllowed) {\n",
              "        return;\n",
              "      }\n",
              "      const div = document.createElement('div');\n",
              "      const label = document.createElement('label');\n",
              "      label.textContent = `Downloading \"${filename}\": `;\n",
              "      div.appendChild(label);\n",
              "      const progress = document.createElement('progress');\n",
              "      progress.max = size;\n",
              "      div.appendChild(progress);\n",
              "      document.body.appendChild(div);\n",
              "\n",
              "      const buffers = [];\n",
              "      let downloaded = 0;\n",
              "\n",
              "      const channel = await google.colab.kernel.comms.open(id);\n",
              "      // Send a message to notify the kernel that we're ready.\n",
              "      channel.send({})\n",
              "\n",
              "      for await (const message of channel.messages) {\n",
              "        // Send a message to notify the kernel that we're ready.\n",
              "        channel.send({})\n",
              "        if (message.buffers) {\n",
              "          for (const buffer of message.buffers) {\n",
              "            buffers.push(buffer);\n",
              "            downloaded += buffer.byteLength;\n",
              "            progress.value = downloaded;\n",
              "          }\n",
              "        }\n",
              "      }\n",
              "      const blob = new Blob(buffers, {type: 'application/binary'});\n",
              "      const a = document.createElement('a');\n",
              "      a.href = window.URL.createObjectURL(blob);\n",
              "      a.download = filename;\n",
              "      div.appendChild(a);\n",
              "      a.click();\n",
              "      div.remove();\n",
              "    }\n",
              "  "
            ]
          },
          "metadata": {}
        },
        {
          "output_type": "display_data",
          "data": {
            "text/plain": [
              "<IPython.core.display.Javascript object>"
            ],
            "application/javascript": [
              "download(\"download_b838bbcf-18ad-47f1-9f77-1744cd0dbf5b\", \"data_test_with_detail_pred_merge.json\", 1286903)"
            ]
          },
          "metadata": {}
        }
      ]
    },
    {
      "cell_type": "code",
      "source": [
        "model.peft_config"
      ],
      "metadata": {
        "colab": {
          "base_uri": "https://localhost:8080/",
          "height": 102
        },
        "id": "-ECVOYY_SnZc",
        "outputId": "8565e7a3-0055-40fd-cb47-1a204e7f034a"
      },
      "execution_count": null,
      "outputs": [
        {
          "output_type": "display_data",
          "data": {
            "text/plain": [
              "<IPython.core.display.HTML object>"
            ],
            "text/html": [
              "\n",
              "  <style>\n",
              "    pre {\n",
              "        white-space: pre-wrap;\n",
              "    }\n",
              "  </style>\n",
              "  "
            ]
          },
          "metadata": {}
        },
        {
          "output_type": "execute_result",
          "data": {
            "text/plain": [
              "{'merge': LoraConfig(peft_type=<PeftType.LORA: 'LORA'>, auto_mapping=None, base_model_name_or_path='mistralai/Mistral-7B-Instruct-v0.2', revision=None, task_type='CAUSAL_LM', inference_mode=True, r=8, target_modules={'gate_proj', 'k_proj', 'down_proj', 'o_proj', 'up_proj', 'v_proj', 'q_proj'}, lora_alpha=8, lora_dropout=0.05, fan_in_fan_out=False, bias='none', use_rslora=False, modules_to_save=None, init_lora_weights=True, layers_to_transform=None, layers_pattern=None, rank_pattern={}, alpha_pattern={}, megatron_config=None, megatron_core='megatron.core', loftq_config={}, use_dora=False, layer_replication=None)}"
            ]
          },
          "metadata": {},
          "execution_count": 101
        }
      ]
    },
    {
      "cell_type": "code",
      "source": [
        "model.save_pretrained(\".\")"
      ],
      "metadata": {
        "colab": {
          "base_uri": "https://localhost:8080/",
          "height": 119
        },
        "id": "4ZiSNE06XZYi",
        "outputId": "28c5bed7-b78b-4573-dc9f-07da1cca543e"
      },
      "execution_count": null,
      "outputs": [
        {
          "output_type": "display_data",
          "data": {
            "text/plain": [
              "<IPython.core.display.HTML object>"
            ],
            "text/html": [
              "\n",
              "  <style>\n",
              "    pre {\n",
              "        white-space: pre-wrap;\n",
              "    }\n",
              "  </style>\n",
              "  "
            ]
          },
          "metadata": {}
        },
        {
          "output_type": "stream",
          "name": "stderr",
          "text": [
            "/usr/local/lib/python3.10/dist-packages/huggingface_hub/file_download.py:1132: FutureWarning: `resume_download` is deprecated and will be removed in version 1.0.0. Downloads always resume when possible. If you want to force a new download, use `force_download=True`.\n",
            "  warnings.warn(\n",
            "/usr/local/lib/python3.10/dist-packages/peft/utils/save_and_load.py:209: UserWarning: Setting `save_embedding_layers` to `True` as the embedding layer has been resized during finetuning.\n",
            "  warnings.warn(\n"
          ]
        }
      ]
    },
    {
      "cell_type": "code",
      "source": [
        "!zip -r merge.zip merge/"
      ],
      "metadata": {
        "colab": {
          "base_uri": "https://localhost:8080/",
          "height": 68
        },
        "id": "V12hOH7LTT4G",
        "outputId": "38894a51-9f56-4855-c976-c5526bd2ae19"
      },
      "execution_count": null,
      "outputs": [
        {
          "output_type": "display_data",
          "data": {
            "text/plain": [
              "<IPython.core.display.HTML object>"
            ],
            "text/html": [
              "\n",
              "  <style>\n",
              "    pre {\n",
              "        white-space: pre-wrap;\n",
              "    }\n",
              "  </style>\n",
              "  "
            ]
          },
          "metadata": {}
        },
        {
          "output_type": "stream",
          "name": "stdout",
          "text": [
            "  adding: merge/ (stored 0%)\n",
            "  adding: merge/adapter_config.json (deflated 54%)\n",
            "  adding: merge/adapter_model.safetensors (deflated 28%)\n"
          ]
        }
      ]
    },
    {
      "cell_type": "code",
      "source": [
        "from google.colab import drive\n",
        "drive.mount('/content/drive',force_remount=True)"
      ],
      "metadata": {
        "colab": {
          "base_uri": "https://localhost:8080/",
          "height": 34
        },
        "id": "czBtJ3XKs9fS",
        "outputId": "7c60ab8b-6846-4776-9e95-3b1dffc75738"
      },
      "execution_count": null,
      "outputs": [
        {
          "output_type": "display_data",
          "data": {
            "text/plain": [
              "<IPython.core.display.HTML object>"
            ],
            "text/html": [
              "\n",
              "  <style>\n",
              "    pre {\n",
              "        white-space: pre-wrap;\n",
              "    }\n",
              "  </style>\n",
              "  "
            ]
          },
          "metadata": {}
        },
        {
          "output_type": "stream",
          "name": "stdout",
          "text": [
            "Mounted at /content/drive\n"
          ]
        }
      ]
    },
    {
      "cell_type": "code",
      "source": [
        "!cp merge.zip '/content/drive/MyDrive'"
      ],
      "metadata": {
        "colab": {
          "base_uri": "https://localhost:8080/",
          "height": 17
        },
        "id": "VKJ1wJcHutzS",
        "outputId": "2182d0ef-18ba-449c-df00-837511ef3311"
      },
      "execution_count": null,
      "outputs": [
        {
          "output_type": "display_data",
          "data": {
            "text/plain": [
              "<IPython.core.display.HTML object>"
            ],
            "text/html": [
              "\n",
              "  <style>\n",
              "    pre {\n",
              "        white-space: pre-wrap;\n",
              "    }\n",
              "  </style>\n",
              "  "
            ]
          },
          "metadata": {}
        }
      ]
    },
    {
      "cell_type": "code",
      "source": [
        "# from huggingface_hub import create_repo\n",
        "\n",
        "# new_model = MERGED_MODEL_NAME\n",
        "\n",
        "# user = whoami(token=hf_token)['name']\n",
        "# repo_id = f'{user}/{new_model}'\n",
        "\n",
        "# # Set exist_ok to False if the repo has not been created yet\n",
        "# url = create_repo(repo_id, token=hf_token, exist_ok=True)\n",
        "\n",
        "# print(url)"
      ],
      "metadata": {
        "id": "oqChJmJBWql7"
      },
      "execution_count": null,
      "outputs": []
    },
    {
      "cell_type": "code",
      "source": [
        "# # Uncomment if you haven't created the model card\n",
        "# from pathlib import Path\n",
        "\n",
        "# from huggingface_hub import ModelCard, ModelCardData\n",
        "\n",
        "# card_data = ModelCardData(language='en', license='MIT', library_name='torch')\n",
        "\n",
        "# # Define your jinja template\n",
        "# template_text = \"\"\"\n",
        "# ---\n",
        "# {{ card_data }}\n",
        "# ---\n",
        "\n",
        "# # Model Card for Hierarchical_Planning_Decomposition_Mistral-7B-Instruct-v0.2\n",
        "\n",
        "# ## Model Details\n",
        "\n",
        "# ### Model Description\n",
        "\n",
        "# This model decomposes a multi-modal composite task to actionable subtasks with two layers of abstraction.\n",
        "\n",
        "# Layer-1 Abstract Planning: Dedicated to learning the decomposition of multi-modal composite tasks into keywords, modes for each subtask, and their ordered sequence for task completion.\n",
        "# Layer-2 Detailed Planning: Focused on distilling tasks into detailed actionable subtasks, outlining the necessary steps for completing the composite task in order.\n",
        "\n",
        "\n",
        "# - **Developed by:** Arash Shahmansoori\n",
        "# - **Language(s) (NLP):** en\n",
        "# - **License:** mit\n",
        "# - **Finetuned from model:** Mistral-7B-v0.1\n",
        "\n",
        "# ### Model Sources\n",
        "\n",
        "# - **Repository:** https://github.com/arash-shahmansoori/hierarchical_planning_decompose_net.git\n",
        "# \"\"\".strip()\n",
        "\n",
        "# # Write the template to a file\n",
        "# Path('custom_template.md').write_text(template_text)\n",
        "\n",
        "# # Define card metadata\n",
        "# card_data = ModelCardData(language='en', license='mit', library_name='torch')\n",
        "\n",
        "# # Create card from template, passing it any jinja template variables you want.\n",
        "# # In our case, we'll pass author\n",
        "# card = ModelCard.from_template(card_data, template_path='custom_template.md', author='Arash Shahmansoori')\n",
        "# card.save('decompose_net_card.md')\n",
        "# print(card)\n",
        "# card.push_to_hub(repo_id, token=hf_token)"
      ],
      "metadata": {
        "id": "JtEaFQTTXPx4"
      },
      "execution_count": null,
      "outputs": []
    },
    {
      "cell_type": "code",
      "source": [
        "# model.push_to_hub(repo_id, token=hf_token)\n",
        "# tokenizer.push_to_hub(repo_id, token=hf_token)"
      ],
      "metadata": {
        "id": "nvmc1Yr6Zf72"
      },
      "execution_count": null,
      "outputs": []
    }
  ]
}