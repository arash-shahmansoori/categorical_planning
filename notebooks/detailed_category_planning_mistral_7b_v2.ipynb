{
  "cells": [
    {
      "cell_type": "code",
      "execution_count": null,
      "metadata": {
        "id": "aeOWx4IR8leF",
        "colab": {
          "base_uri": "https://localhost:8080/"
        },
        "outputId": "91026d4e-dbf7-4c75-efd9-87c6fc325b12"
      },
      "outputs": [
        {
          "output_type": "stream",
          "name": "stdout",
          "text": [
            "  Installing build dependencies ... \u001b[?25l\u001b[?25hdone\n",
            "  Getting requirements to build wheel ... \u001b[?25l\u001b[?25hdone\n",
            "  Preparing metadata (pyproject.toml) ... \u001b[?25l\u001b[?25hdone\n",
            "\u001b[2K     \u001b[90m━━━━━━━━━━━━━━━━━━━━━━━━━━━━━━━━━━━━━━━━\u001b[0m \u001b[32m401.2/401.2 kB\u001b[0m \u001b[31m8.9 MB/s\u001b[0m eta \u001b[36m0:00:00\u001b[0m\n",
            "\u001b[?25h  Building wheel for transformers (pyproject.toml) ... \u001b[?25l\u001b[?25hdone\n",
            "  Installing build dependencies ... \u001b[?25l\u001b[?25hdone\n",
            "  Getting requirements to build wheel ... \u001b[?25l\u001b[?25hdone\n",
            "  Preparing metadata (pyproject.toml) ... \u001b[?25l\u001b[?25hdone\n",
            "  Building wheel for accelerate (pyproject.toml) ... \u001b[?25l\u001b[?25hdone\n",
            "\u001b[2K     \u001b[90m━━━━━━━━━━━━━━━━━━━━━━━━━━━━━━━━━━━━━━━━\u001b[0m \u001b[32m119.8/119.8 MB\u001b[0m \u001b[31m8.5 MB/s\u001b[0m eta \u001b[36m0:00:00\u001b[0m\n",
            "\u001b[?25h  Installing build dependencies ... \u001b[?25l\u001b[?25hdone\n",
            "  Getting requirements to build wheel ... \u001b[?25l\u001b[?25hdone\n",
            "  Preparing metadata (pyproject.toml) ... \u001b[?25l\u001b[?25hdone\n",
            "  Building wheel for peft (pyproject.toml) ... \u001b[?25l\u001b[?25hdone\n",
            "\u001b[2K     \u001b[90m━━━━━━━━━━━━━━━━━━━━━━━━━━━━━━━━━━━━━━━━\u001b[0m \u001b[32m38.0/38.0 MB\u001b[0m \u001b[31m44.6 MB/s\u001b[0m eta \u001b[36m0:00:00\u001b[0m\n",
            "\u001b[2K     \u001b[90m━━━━━━━━━━━━━━━━━━━━━━━━━━━━━━━━━━━━━━━━\u001b[0m \u001b[32m542.0/542.0 kB\u001b[0m \u001b[31m11.1 MB/s\u001b[0m eta \u001b[36m0:00:00\u001b[0m\n",
            "\u001b[2K     \u001b[90m━━━━━━━━━━━━━━━━━━━━━━━━━━━━━━━━━━━━━━━━\u001b[0m \u001b[32m116.3/116.3 kB\u001b[0m \u001b[31m17.5 MB/s\u001b[0m eta \u001b[36m0:00:00\u001b[0m\n",
            "\u001b[2K     \u001b[90m━━━━━━━━━━━━━━━━━━━━━━━━━━━━━━━━━━━━━━━━\u001b[0m \u001b[32m194.1/194.1 kB\u001b[0m \u001b[31m23.5 MB/s\u001b[0m eta \u001b[36m0:00:00\u001b[0m\n",
            "\u001b[2K     \u001b[90m━━━━━━━━━━━━━━━━━━━━━━━━━━━━━━━━━━━━━━━━\u001b[0m \u001b[32m134.8/134.8 kB\u001b[0m \u001b[31m19.6 MB/s\u001b[0m eta \u001b[36m0:00:00\u001b[0m\n",
            "\u001b[?25hCollecting wandb\n",
            "  Downloading wandb-0.17.0-py3-none-manylinux_2_5_x86_64.manylinux1_x86_64.manylinux_2_17_x86_64.manylinux2014_x86_64.whl (6.7 MB)\n",
            "\u001b[2K     \u001b[90m━━━━━━━━━━━━━━━━━━━━━━━━━━━━━━━━━━━━━━━━\u001b[0m \u001b[32m6.7/6.7 MB\u001b[0m \u001b[31m42.9 MB/s\u001b[0m eta \u001b[36m0:00:00\u001b[0m\n",
            "\u001b[?25hRequirement already satisfied: click!=8.0.0,>=7.1 in /usr/local/lib/python3.10/dist-packages (from wandb) (8.1.7)\n",
            "Collecting docker-pycreds>=0.4.0 (from wandb)\n",
            "  Downloading docker_pycreds-0.4.0-py2.py3-none-any.whl (9.0 kB)\n",
            "Collecting gitpython!=3.1.29,>=1.0.0 (from wandb)\n",
            "  Downloading GitPython-3.1.43-py3-none-any.whl (207 kB)\n",
            "\u001b[2K     \u001b[90m━━━━━━━━━━━━━━━━━━━━━━━━━━━━━━━━━━━━━━━━\u001b[0m \u001b[32m207.3/207.3 kB\u001b[0m \u001b[31m27.7 MB/s\u001b[0m eta \u001b[36m0:00:00\u001b[0m\n",
            "\u001b[?25hRequirement already satisfied: platformdirs in /usr/local/lib/python3.10/dist-packages (from wandb) (4.2.1)\n",
            "Requirement already satisfied: protobuf!=4.21.0,<5,>=3.19.0 in /usr/local/lib/python3.10/dist-packages (from wandb) (3.20.3)\n",
            "Requirement already satisfied: psutil>=5.0.0 in /usr/local/lib/python3.10/dist-packages (from wandb) (5.9.5)\n",
            "Requirement already satisfied: pyyaml in /usr/local/lib/python3.10/dist-packages (from wandb) (6.0.1)\n",
            "Requirement already satisfied: requests<3,>=2.0.0 in /usr/local/lib/python3.10/dist-packages (from wandb) (2.31.0)\n",
            "Collecting sentry-sdk>=1.0.0 (from wandb)\n",
            "  Downloading sentry_sdk-2.1.1-py2.py3-none-any.whl (277 kB)\n",
            "\u001b[2K     \u001b[90m━━━━━━━━━━━━━━━━━━━━━━━━━━━━━━━━━━━━━━━━\u001b[0m \u001b[32m277.3/277.3 kB\u001b[0m \u001b[31m34.2 MB/s\u001b[0m eta \u001b[36m0:00:00\u001b[0m\n",
            "\u001b[?25hCollecting setproctitle (from wandb)\n",
            "  Downloading setproctitle-1.3.3-cp310-cp310-manylinux_2_5_x86_64.manylinux1_x86_64.manylinux_2_17_x86_64.manylinux2014_x86_64.whl (30 kB)\n",
            "Requirement already satisfied: setuptools in /usr/local/lib/python3.10/dist-packages (from wandb) (67.7.2)\n",
            "Requirement already satisfied: six>=1.4.0 in /usr/local/lib/python3.10/dist-packages (from docker-pycreds>=0.4.0->wandb) (1.16.0)\n",
            "Collecting gitdb<5,>=4.0.1 (from gitpython!=3.1.29,>=1.0.0->wandb)\n",
            "  Downloading gitdb-4.0.11-py3-none-any.whl (62 kB)\n",
            "\u001b[2K     \u001b[90m━━━━━━━━━━━━━━━━━━━━━━━━━━━━━━━━━━━━━━━━\u001b[0m \u001b[32m62.7/62.7 kB\u001b[0m \u001b[31m8.1 MB/s\u001b[0m eta \u001b[36m0:00:00\u001b[0m\n",
            "\u001b[?25hRequirement already satisfied: charset-normalizer<4,>=2 in /usr/local/lib/python3.10/dist-packages (from requests<3,>=2.0.0->wandb) (3.3.2)\n",
            "Requirement already satisfied: idna<4,>=2.5 in /usr/local/lib/python3.10/dist-packages (from requests<3,>=2.0.0->wandb) (3.7)\n",
            "Requirement already satisfied: urllib3<3,>=1.21.1 in /usr/local/lib/python3.10/dist-packages (from requests<3,>=2.0.0->wandb) (2.0.7)\n",
            "Requirement already satisfied: certifi>=2017.4.17 in /usr/local/lib/python3.10/dist-packages (from requests<3,>=2.0.0->wandb) (2024.2.2)\n",
            "Collecting smmap<6,>=3.0.1 (from gitdb<5,>=4.0.1->gitpython!=3.1.29,>=1.0.0->wandb)\n",
            "  Downloading smmap-5.0.1-py3-none-any.whl (24 kB)\n",
            "Installing collected packages: smmap, setproctitle, sentry-sdk, docker-pycreds, gitdb, gitpython, wandb\n",
            "Successfully installed docker-pycreds-0.4.0 gitdb-4.0.11 gitpython-3.1.43 sentry-sdk-2.1.1 setproctitle-1.3.3 smmap-5.0.1 wandb-0.17.0\n"
          ]
        }
      ],
      "source": [
        "!pip install -q -U git+https://github.com/huggingface/transformers.git\n",
        "!pip install -q -U git+https://github.com/huggingface/accelerate.git\n",
        "!pip install -q torch\n",
        "!pip install -q -U bitsandbytes\n",
        "!pip install -q -U git+https://github.com/huggingface/peft.git\n",
        "!pip install -q pyarrow==14.0.1\n",
        "!pip install -q datasets\n",
        "!pip install wandb"
      ]
    },
    {
      "cell_type": "code",
      "execution_count": null,
      "metadata": {
        "id": "X6Dk5_9ZIBZY",
        "colab": {
          "base_uri": "https://localhost:8080/"
        },
        "outputId": "dfca49de-9c24-4bd7-a135-bc911aacb293"
      },
      "outputs": [
        {
          "output_type": "stream",
          "name": "stdout",
          "text": [
            "Cloning into 'trl'...\n",
            "remote: Enumerating objects: 7046, done.\u001b[K\n",
            "remote: Counting objects: 100% (1745/1745), done.\u001b[K\n",
            "remote: Compressing objects: 100% (326/326), done.\u001b[K\n",
            "remote: Total 7046 (delta 1580), reused 1513 (delta 1413), pack-reused 5301\u001b[K\n",
            "Receiving objects: 100% (7046/7046), 6.50 MiB | 3.50 MiB/s, done.\n",
            "Resolving deltas: 100% (4759/4759), done.\n",
            "/content/trl\n",
            "Processing /content/trl\n",
            "  Installing build dependencies ... \u001b[?25l\u001b[?25hdone\n",
            "  Getting requirements to build wheel ... \u001b[?25l\u001b[?25hdone\n",
            "  Preparing metadata (pyproject.toml) ... \u001b[?25l\u001b[?25hdone\n",
            "Requirement already satisfied: torch>=1.4.0 in /usr/local/lib/python3.10/dist-packages (from trl==0.8.7.dev0) (2.2.1+cu121)\n",
            "Requirement already satisfied: transformers>=4.31.0 in /usr/local/lib/python3.10/dist-packages (from trl==0.8.7.dev0) (4.41.0.dev0)\n",
            "Requirement already satisfied: numpy>=1.18.2 in /usr/local/lib/python3.10/dist-packages (from trl==0.8.7.dev0) (1.25.2)\n",
            "Requirement already satisfied: accelerate in /usr/local/lib/python3.10/dist-packages (from trl==0.8.7.dev0) (0.31.0.dev0)\n",
            "Requirement already satisfied: datasets in /usr/local/lib/python3.10/dist-packages (from trl==0.8.7.dev0) (2.19.1)\n",
            "Collecting tyro>=0.5.11 (from trl==0.8.7.dev0)\n",
            "  Downloading tyro-0.8.3-py3-none-any.whl (102 kB)\n",
            "\u001b[2K     \u001b[90m━━━━━━━━━━━━━━━━━━━━━━━━━━━━━━━━━━━━━━━━\u001b[0m \u001b[32m102.0/102.0 kB\u001b[0m \u001b[31m3.2 MB/s\u001b[0m eta \u001b[36m0:00:00\u001b[0m\n",
            "\u001b[?25hRequirement already satisfied: filelock in /usr/local/lib/python3.10/dist-packages (from torch>=1.4.0->trl==0.8.7.dev0) (3.14.0)\n",
            "Requirement already satisfied: typing-extensions>=4.8.0 in /usr/local/lib/python3.10/dist-packages (from torch>=1.4.0->trl==0.8.7.dev0) (4.11.0)\n",
            "Requirement already satisfied: sympy in /usr/local/lib/python3.10/dist-packages (from torch>=1.4.0->trl==0.8.7.dev0) (1.12)\n",
            "Requirement already satisfied: networkx in /usr/local/lib/python3.10/dist-packages (from torch>=1.4.0->trl==0.8.7.dev0) (3.3)\n",
            "Requirement already satisfied: jinja2 in /usr/local/lib/python3.10/dist-packages (from torch>=1.4.0->trl==0.8.7.dev0) (3.1.4)\n",
            "Requirement already satisfied: fsspec in /usr/local/lib/python3.10/dist-packages (from torch>=1.4.0->trl==0.8.7.dev0) (2023.6.0)\n",
            "Requirement already satisfied: nvidia-cuda-nvrtc-cu12==12.1.105 in /usr/local/lib/python3.10/dist-packages (from torch>=1.4.0->trl==0.8.7.dev0) (12.1.105)\n",
            "Requirement already satisfied: nvidia-cuda-runtime-cu12==12.1.105 in /usr/local/lib/python3.10/dist-packages (from torch>=1.4.0->trl==0.8.7.dev0) (12.1.105)\n",
            "Requirement already satisfied: nvidia-cuda-cupti-cu12==12.1.105 in /usr/local/lib/python3.10/dist-packages (from torch>=1.4.0->trl==0.8.7.dev0) (12.1.105)\n",
            "Requirement already satisfied: nvidia-cudnn-cu12==8.9.2.26 in /usr/local/lib/python3.10/dist-packages (from torch>=1.4.0->trl==0.8.7.dev0) (8.9.2.26)\n",
            "Requirement already satisfied: nvidia-cublas-cu12==12.1.3.1 in /usr/local/lib/python3.10/dist-packages (from torch>=1.4.0->trl==0.8.7.dev0) (12.1.3.1)\n",
            "Requirement already satisfied: nvidia-cufft-cu12==11.0.2.54 in /usr/local/lib/python3.10/dist-packages (from torch>=1.4.0->trl==0.8.7.dev0) (11.0.2.54)\n",
            "Requirement already satisfied: nvidia-curand-cu12==10.3.2.106 in /usr/local/lib/python3.10/dist-packages (from torch>=1.4.0->trl==0.8.7.dev0) (10.3.2.106)\n",
            "Requirement already satisfied: nvidia-cusolver-cu12==11.4.5.107 in /usr/local/lib/python3.10/dist-packages (from torch>=1.4.0->trl==0.8.7.dev0) (11.4.5.107)\n",
            "Requirement already satisfied: nvidia-cusparse-cu12==12.1.0.106 in /usr/local/lib/python3.10/dist-packages (from torch>=1.4.0->trl==0.8.7.dev0) (12.1.0.106)\n",
            "Requirement already satisfied: nvidia-nccl-cu12==2.19.3 in /usr/local/lib/python3.10/dist-packages (from torch>=1.4.0->trl==0.8.7.dev0) (2.19.3)\n",
            "Requirement already satisfied: nvidia-nvtx-cu12==12.1.105 in /usr/local/lib/python3.10/dist-packages (from torch>=1.4.0->trl==0.8.7.dev0) (12.1.105)\n",
            "Requirement already satisfied: triton==2.2.0 in /usr/local/lib/python3.10/dist-packages (from torch>=1.4.0->trl==0.8.7.dev0) (2.2.0)\n",
            "Requirement already satisfied: nvidia-nvjitlink-cu12 in /usr/local/lib/python3.10/dist-packages (from nvidia-cusolver-cu12==11.4.5.107->torch>=1.4.0->trl==0.8.7.dev0) (12.4.127)\n",
            "Requirement already satisfied: huggingface-hub<1.0,>=0.23.0 in /usr/local/lib/python3.10/dist-packages (from transformers>=4.31.0->trl==0.8.7.dev0) (0.23.0)\n",
            "Requirement already satisfied: packaging>=20.0 in /usr/local/lib/python3.10/dist-packages (from transformers>=4.31.0->trl==0.8.7.dev0) (24.0)\n",
            "Requirement already satisfied: pyyaml>=5.1 in /usr/local/lib/python3.10/dist-packages (from transformers>=4.31.0->trl==0.8.7.dev0) (6.0.1)\n",
            "Requirement already satisfied: regex!=2019.12.17 in /usr/local/lib/python3.10/dist-packages (from transformers>=4.31.0->trl==0.8.7.dev0) (2023.12.25)\n",
            "Requirement already satisfied: requests in /usr/local/lib/python3.10/dist-packages (from transformers>=4.31.0->trl==0.8.7.dev0) (2.31.0)\n",
            "Requirement already satisfied: tokenizers<0.20,>=0.19 in /usr/local/lib/python3.10/dist-packages (from transformers>=4.31.0->trl==0.8.7.dev0) (0.19.1)\n",
            "Requirement already satisfied: safetensors>=0.4.1 in /usr/local/lib/python3.10/dist-packages (from transformers>=4.31.0->trl==0.8.7.dev0) (0.4.3)\n",
            "Requirement already satisfied: tqdm>=4.27 in /usr/local/lib/python3.10/dist-packages (from transformers>=4.31.0->trl==0.8.7.dev0) (4.66.4)\n",
            "Requirement already satisfied: docstring-parser>=0.14.1 in /usr/local/lib/python3.10/dist-packages (from tyro>=0.5.11->trl==0.8.7.dev0) (0.16)\n",
            "Requirement already satisfied: rich>=11.1.0 in /usr/local/lib/python3.10/dist-packages (from tyro>=0.5.11->trl==0.8.7.dev0) (13.7.1)\n",
            "Collecting shtab>=1.5.6 (from tyro>=0.5.11->trl==0.8.7.dev0)\n",
            "  Downloading shtab-1.7.1-py3-none-any.whl (14 kB)\n",
            "Requirement already satisfied: psutil in /usr/local/lib/python3.10/dist-packages (from accelerate->trl==0.8.7.dev0) (5.9.5)\n",
            "Requirement already satisfied: pyarrow>=12.0.0 in /usr/local/lib/python3.10/dist-packages (from datasets->trl==0.8.7.dev0) (14.0.1)\n",
            "Requirement already satisfied: pyarrow-hotfix in /usr/local/lib/python3.10/dist-packages (from datasets->trl==0.8.7.dev0) (0.6)\n",
            "Requirement already satisfied: dill<0.3.9,>=0.3.0 in /usr/local/lib/python3.10/dist-packages (from datasets->trl==0.8.7.dev0) (0.3.8)\n",
            "Requirement already satisfied: pandas in /usr/local/lib/python3.10/dist-packages (from datasets->trl==0.8.7.dev0) (2.0.3)\n",
            "Requirement already satisfied: xxhash in /usr/local/lib/python3.10/dist-packages (from datasets->trl==0.8.7.dev0) (3.4.1)\n",
            "Requirement already satisfied: multiprocess in /usr/local/lib/python3.10/dist-packages (from datasets->trl==0.8.7.dev0) (0.70.16)\n",
            "Requirement already satisfied: aiohttp in /usr/local/lib/python3.10/dist-packages (from datasets->trl==0.8.7.dev0) (3.9.5)\n",
            "Requirement already satisfied: aiosignal>=1.1.2 in /usr/local/lib/python3.10/dist-packages (from aiohttp->datasets->trl==0.8.7.dev0) (1.3.1)\n",
            "Requirement already satisfied: attrs>=17.3.0 in /usr/local/lib/python3.10/dist-packages (from aiohttp->datasets->trl==0.8.7.dev0) (23.2.0)\n",
            "Requirement already satisfied: frozenlist>=1.1.1 in /usr/local/lib/python3.10/dist-packages (from aiohttp->datasets->trl==0.8.7.dev0) (1.4.1)\n",
            "Requirement already satisfied: multidict<7.0,>=4.5 in /usr/local/lib/python3.10/dist-packages (from aiohttp->datasets->trl==0.8.7.dev0) (6.0.5)\n",
            "Requirement already satisfied: yarl<2.0,>=1.0 in /usr/local/lib/python3.10/dist-packages (from aiohttp->datasets->trl==0.8.7.dev0) (1.9.4)\n",
            "Requirement already satisfied: async-timeout<5.0,>=4.0 in /usr/local/lib/python3.10/dist-packages (from aiohttp->datasets->trl==0.8.7.dev0) (4.0.3)\n",
            "Requirement already satisfied: charset-normalizer<4,>=2 in /usr/local/lib/python3.10/dist-packages (from requests->transformers>=4.31.0->trl==0.8.7.dev0) (3.3.2)\n",
            "Requirement already satisfied: idna<4,>=2.5 in /usr/local/lib/python3.10/dist-packages (from requests->transformers>=4.31.0->trl==0.8.7.dev0) (3.7)\n",
            "Requirement already satisfied: urllib3<3,>=1.21.1 in /usr/local/lib/python3.10/dist-packages (from requests->transformers>=4.31.0->trl==0.8.7.dev0) (2.0.7)\n",
            "Requirement already satisfied: certifi>=2017.4.17 in /usr/local/lib/python3.10/dist-packages (from requests->transformers>=4.31.0->trl==0.8.7.dev0) (2024.2.2)\n",
            "Requirement already satisfied: markdown-it-py>=2.2.0 in /usr/local/lib/python3.10/dist-packages (from rich>=11.1.0->tyro>=0.5.11->trl==0.8.7.dev0) (3.0.0)\n",
            "Requirement already satisfied: pygments<3.0.0,>=2.13.0 in /usr/local/lib/python3.10/dist-packages (from rich>=11.1.0->tyro>=0.5.11->trl==0.8.7.dev0) (2.16.1)\n",
            "Requirement already satisfied: MarkupSafe>=2.0 in /usr/local/lib/python3.10/dist-packages (from jinja2->torch>=1.4.0->trl==0.8.7.dev0) (2.1.5)\n",
            "Requirement already satisfied: python-dateutil>=2.8.2 in /usr/local/lib/python3.10/dist-packages (from pandas->datasets->trl==0.8.7.dev0) (2.8.2)\n",
            "Requirement already satisfied: pytz>=2020.1 in /usr/local/lib/python3.10/dist-packages (from pandas->datasets->trl==0.8.7.dev0) (2023.4)\n",
            "Requirement already satisfied: tzdata>=2022.1 in /usr/local/lib/python3.10/dist-packages (from pandas->datasets->trl==0.8.7.dev0) (2024.1)\n",
            "Requirement already satisfied: mpmath>=0.19 in /usr/local/lib/python3.10/dist-packages (from sympy->torch>=1.4.0->trl==0.8.7.dev0) (1.3.0)\n",
            "Requirement already satisfied: mdurl~=0.1 in /usr/local/lib/python3.10/dist-packages (from markdown-it-py>=2.2.0->rich>=11.1.0->tyro>=0.5.11->trl==0.8.7.dev0) (0.1.2)\n",
            "Requirement already satisfied: six>=1.5 in /usr/local/lib/python3.10/dist-packages (from python-dateutil>=2.8.2->pandas->datasets->trl==0.8.7.dev0) (1.16.0)\n",
            "Building wheels for collected packages: trl\n",
            "  Building wheel for trl (pyproject.toml) ... \u001b[?25l\u001b[?25hdone\n",
            "  Created wheel for trl: filename=trl-0.8.7.dev0-py3-none-any.whl size=207432 sha256=e28c6a37c31c094985743cdc74f8c2d0b1cf97b2ea9b811b1c556893af55a7c3\n",
            "  Stored in directory: /tmp/pip-ephem-wheel-cache-vc7pk6ed/wheels/6b/25/27/3b1530fe7be4495c561eaab87402fdaffaf39de50283890e8e\n",
            "Successfully built trl\n",
            "Installing collected packages: shtab, tyro, trl\n",
            "Successfully installed shtab-1.7.1 trl-0.8.7.dev0 tyro-0.8.3\n"
          ]
        }
      ],
      "source": [
        "!git clone https://github.com/huggingface/trl.git\n",
        "%cd trl/\n",
        "!pip install ."
      ]
    },
    {
      "cell_type": "code",
      "execution_count": null,
      "metadata": {
        "id": "Pm_u2j2aICd8",
        "colab": {
          "base_uri": "https://localhost:8080/"
        },
        "outputId": "ca4f712f-9e9d-4df2-a495-1ed2fce62a17"
      },
      "outputs": [
        {
          "output_type": "stream",
          "name": "stdout",
          "text": [
            "/content\n"
          ]
        }
      ],
      "source": [
        "%cd .."
      ]
    },
    {
      "cell_type": "code",
      "execution_count": null,
      "metadata": {
        "id": "DODkVMmCs_PD",
        "colab": {
          "base_uri": "https://localhost:8080/"
        },
        "outputId": "aba1270a-b75a-4c88-9303-2b0ef21c6b9a"
      },
      "outputs": [
        {
          "output_type": "stream",
          "name": "stderr",
          "text": [
            "\u001b[34m\u001b[1mwandb\u001b[0m: W&B API key is configured. Use \u001b[1m`wandb login --relogin`\u001b[0m to force relogin\n",
            "\u001b[34m\u001b[1mwandb\u001b[0m: \u001b[33mWARNING\u001b[0m If you're specifying your api key in code, ensure this code is not shared publicly.\n",
            "\u001b[34m\u001b[1mwandb\u001b[0m: \u001b[33mWARNING\u001b[0m Consider setting the WANDB_API_KEY environment variable, or running `wandb login` from the command line.\n",
            "\u001b[34m\u001b[1mwandb\u001b[0m: Appending key for api.wandb.ai to your netrc file: /root/.netrc\n"
          ]
        },
        {
          "output_type": "execute_result",
          "data": {
            "text/plain": [
              "True"
            ]
          },
          "metadata": {},
          "execution_count": 4
        }
      ],
      "source": [
        "import wandb\n",
        "from google.colab import userdata, drive\n",
        "\n",
        "# Defined in the secrets tab in Google Colab\n",
        "hf_token = userdata.get('HuggingFace')\n",
        "wb_token = userdata.get('wandb')\n",
        "wandb.login(key=wb_token)"
      ]
    },
    {
      "cell_type": "code",
      "execution_count": null,
      "metadata": {
        "id": "uOSPEMlWatol"
      },
      "outputs": [],
      "source": [
        "from huggingface_hub import whoami\n",
        "\n",
        "user = whoami(token=hf_token)['name']"
      ]
    },
    {
      "cell_type": "code",
      "execution_count": null,
      "metadata": {
        "id": "VS50XVTzuN7P",
        "colab": {
          "base_uri": "https://localhost:8080/"
        },
        "outputId": "f60c5555-2e50-41ac-858f-fa1759233fbd"
      },
      "outputs": [
        {
          "output_type": "stream",
          "name": "stdout",
          "text": [
            "Mounted at /content/drive\n"
          ]
        }
      ],
      "source": [
        "drive.mount('/content/drive')"
      ]
    },
    {
      "cell_type": "code",
      "execution_count": null,
      "metadata": {
        "id": "CGH60MCtF_6p"
      },
      "outputs": [],
      "source": [
        "from IPython.display import HTML, display\n",
        "\n",
        "def set_css():\n",
        "  display(HTML('''\n",
        "  <style>\n",
        "    pre {\n",
        "        white-space: pre-wrap;\n",
        "    }\n",
        "  </style>\n",
        "  '''))\n",
        "get_ipython().events.register('pre_run_cell', set_css)"
      ]
    },
    {
      "cell_type": "code",
      "execution_count": null,
      "metadata": {
        "id": "QWF_bxt6ycJL",
        "colab": {
          "base_uri": "https://localhost:8080/",
          "height": 17
        },
        "outputId": "14521aee-fc59-43ed-b774-50012eff9cfe"
      },
      "outputs": [
        {
          "output_type": "display_data",
          "data": {
            "text/plain": [
              "<IPython.core.display.HTML object>"
            ],
            "text/html": [
              "\n",
              "  <style>\n",
              "    pre {\n",
              "        white-space: pre-wrap;\n",
              "    }\n",
              "  </style>\n",
              "  "
            ]
          },
          "metadata": {}
        }
      ],
      "source": [
        "from typing import TypeVar, List, Tuple, Dict, NoReturn\n",
        "from datasets import DatasetDict, Dataset, IterableDatasetDict, IterableDataset\n",
        "\n",
        "T = TypeVar(\"T\")\n",
        "\n",
        "DataPointType=DatasetDict | Dataset | IterableDatasetDict | IterableDataset\n",
        "DataPointTrain =Dataset | List | T\n",
        "DataPointTest =Dataset | List | T\n",
        "\n",
        "from transformers.models.llama.tokenization_llama_fast import LlamaTokenizerFast\n",
        "from transformers.models.mistral.modeling_mistral import MistralForCausalLM"
      ]
    },
    {
      "cell_type": "code",
      "execution_count": null,
      "metadata": {
        "id": "7TqEAuZbt9gW",
        "colab": {
          "base_uri": "https://localhost:8080/",
          "height": 17
        },
        "outputId": "d944ea90-1365-4342-b871-5a1312a7203d"
      },
      "outputs": [
        {
          "output_type": "display_data",
          "data": {
            "text/plain": [
              "<IPython.core.display.HTML object>"
            ],
            "text/html": [
              "\n",
              "  <style>\n",
              "    pre {\n",
              "        white-space: pre-wrap;\n",
              "    }\n",
              "  </style>\n",
              "  "
            ]
          },
          "metadata": {}
        }
      ],
      "source": [
        "# BASE_MODEL_NAME = \"mistralai/Mistral-7B-v0.1\"\n",
        "BASE_MODEL_NAME=\"mistralai/Mistral-7B-Instruct-v0.2\"\n",
        "\n",
        "OUTPUT_DIR_NAME = \"Detailed_Planning_Mistral_7B_v2\"\n",
        "ADAPTER_CHECKPOINTS_NAME = \"ckpts_mistral_7B_detailed_planning_v2\""
      ]
    },
    {
      "cell_type": "code",
      "execution_count": null,
      "metadata": {
        "id": "mn7O5oBr7lfJ",
        "colab": {
          "base_uri": "https://localhost:8080/",
          "height": 17
        },
        "outputId": "98461c71-cdc2-4fc6-bd96-f8ef9adffd94"
      },
      "outputs": [
        {
          "output_type": "display_data",
          "data": {
            "text/plain": [
              "<IPython.core.display.HTML object>"
            ],
            "text/html": [
              "\n",
              "  <style>\n",
              "    pre {\n",
              "        white-space: pre-wrap;\n",
              "    }\n",
              "  </style>\n",
              "  "
            ]
          },
          "metadata": {}
        }
      ],
      "source": [
        "from transformers import AutoTokenizer\n",
        "\n",
        "def load_tokenizer(model_id: str = BASE_MODEL_NAME)->LlamaTokenizerFast:\n",
        "    tokenizer = AutoTokenizer.from_pretrained(model_id, add_eos_token=True)\n",
        "\n",
        "    # Check if the pad token is already in the tokenizer\n",
        "    if '[<pad>]' not in tokenizer.get_vocab():\n",
        "        # Add the pad token\n",
        "        tokenizer.add_tokens(['[<pad>]'])\n",
        "        print(\"Added pad token\")\n",
        "\n",
        "    # Set the pad token\n",
        "    tokenizer.pad_token = '[<pad>]'\n",
        "\n",
        "    tokenizer.padding_side='left'\n",
        "\n",
        "    # Print the pad token ids\n",
        "    print('Tokenizer pad token ID:', tokenizer.pad_token_id)\n",
        "    return tokenizer"
      ]
    },
    {
      "cell_type": "code",
      "source": [
        "!pip install --upgrade huggingface_hub"
      ],
      "metadata": {
        "id": "Nx9EBhBP8NzO",
        "colab": {
          "base_uri": "https://localhost:8080/",
          "height": 238
        },
        "outputId": "d3bc86fc-b4e6-4194-fbf4-6b3bb083fb23"
      },
      "execution_count": null,
      "outputs": [
        {
          "output_type": "display_data",
          "data": {
            "text/plain": [
              "<IPython.core.display.HTML object>"
            ],
            "text/html": [
              "\n",
              "  <style>\n",
              "    pre {\n",
              "        white-space: pre-wrap;\n",
              "    }\n",
              "  </style>\n",
              "  "
            ]
          },
          "metadata": {}
        },
        {
          "output_type": "stream",
          "name": "stdout",
          "text": [
            "Requirement already satisfied: huggingface_hub in /usr/local/lib/python3.10/dist-packages (0.23.0)\n",
            "Requirement already satisfied: filelock in /usr/local/lib/python3.10/dist-packages (from huggingface_hub) (3.14.0)\n",
            "Requirement already satisfied: fsspec>=2023.5.0 in /usr/local/lib/python3.10/dist-packages (from huggingface_hub) (2023.6.0)\n",
            "Requirement already satisfied: packaging>=20.9 in /usr/local/lib/python3.10/dist-packages (from huggingface_hub) (24.0)\n",
            "Requirement already satisfied: pyyaml>=5.1 in /usr/local/lib/python3.10/dist-packages (from huggingface_hub) (6.0.1)\n",
            "Requirement already satisfied: requests in /usr/local/lib/python3.10/dist-packages (from huggingface_hub) (2.31.0)\n",
            "Requirement already satisfied: tqdm>=4.42.1 in /usr/local/lib/python3.10/dist-packages (from huggingface_hub) (4.66.4)\n",
            "Requirement already satisfied: typing-extensions>=3.7.4.3 in /usr/local/lib/python3.10/dist-packages (from huggingface_hub) (4.11.0)\n",
            "Requirement already satisfied: charset-normalizer<4,>=2 in /usr/local/lib/python3.10/dist-packages (from requests->huggingface_hub) (3.3.2)\n",
            "Requirement already satisfied: idna<4,>=2.5 in /usr/local/lib/python3.10/dist-packages (from requests->huggingface_hub) (3.7)\n",
            "Requirement already satisfied: urllib3<3,>=1.21.1 in /usr/local/lib/python3.10/dist-packages (from requests->huggingface_hub) (2.0.7)\n",
            "Requirement already satisfied: certifi>=2017.4.17 in /usr/local/lib/python3.10/dist-packages (from requests->huggingface_hub) (2024.2.2)\n"
          ]
        }
      ]
    },
    {
      "cell_type": "code",
      "source": [
        "from huggingface_hub import login\n",
        "login()"
      ],
      "metadata": {
        "id": "D-KDtFlY8Oos",
        "colab": {
          "base_uri": "https://localhost:8080/",
          "height": 145,
          "referenced_widgets": [
            "e10ba8444436418ca05998080eff5c25",
            "f6a1b1e4c72d47e6802f22bf9ed7ee41",
            "9f02b5e6bb6c4f969509100c5b749b09",
            "83beef97b9074339811e943e00a54d26",
            "5e7b27130d9d473b99122c2c33b935f1",
            "23e1b757b0834eeebb9d0a10a3a73b10",
            "bba4d33080a64ac4a11a7de84efd1398",
            "f358d4b56c904dabbab553b291e268c1",
            "b7da8dd5642d46fbbd6859f4926177dd",
            "3258e904d77e43349c9d721ca9f7428a",
            "7caa170cc19f4ea5aed8ade4e4be970f",
            "5a63afde44f4403fb6ab66dc402e8b89",
            "987ecf5cdffd48de94aa2c4574e39bda",
            "41d1aff57044457190780cb4453a8617",
            "63ae49320b2f40118b3841c98d33b55b",
            "5e21c5b2260444ac8ddfec2fafa6bb94",
            "e8237f4b2eba482f8004f1c089f23107",
            "174edfbae05840709cf006c9c2748548",
            "849155fd7e394a779af9b90fa10dee81",
            "f897636cc7d04221bb5c6a568f644466",
            "30e26b9c3f6848c7b320b200616c6e7b",
            "2a6cd89c1f734f5f98dc688859263750",
            "a1eb9b7daec14c06a82929504a643ee0",
            "faa54cfeb4604f02977882c17c3ea76b",
            "8432767c16d148f19278d17dd73289ac",
            "c3a92b1330dc4b039efa815b6b818fc5",
            "6e17403fb3744265b03000234e396f26",
            "b091e90b84cf4d4aa69e8f7db5c7bca8",
            "c8ac60f0f30a4338b78911cffa910830",
            "a4c393e7a913449f9f883e5d8b2c2bdf",
            "e2f21e9c9a11445693c6ec4cb4eaf9b1",
            "3e46d22ad3b94477be29fa818307fd21"
          ]
        },
        "outputId": "fb95675a-fdd4-4d68-e21b-1fed473f7f4b"
      },
      "execution_count": null,
      "outputs": [
        {
          "output_type": "display_data",
          "data": {
            "text/plain": [
              "<IPython.core.display.HTML object>"
            ],
            "text/html": [
              "\n",
              "  <style>\n",
              "    pre {\n",
              "        white-space: pre-wrap;\n",
              "    }\n",
              "  </style>\n",
              "  "
            ]
          },
          "metadata": {}
        },
        {
          "output_type": "display_data",
          "data": {
            "text/plain": [
              "VBox(children=(HTML(value='<center> <img\\nsrc=https://huggingface.co/front/assets/huggingface_logo-noborder.sv…"
            ],
            "application/vnd.jupyter.widget-view+json": {
              "version_major": 2,
              "version_minor": 0,
              "model_id": "e10ba8444436418ca05998080eff5c25"
            }
          },
          "metadata": {}
        }
      ]
    },
    {
      "cell_type": "code",
      "execution_count": null,
      "metadata": {
        "id": "i5deyYoanryb",
        "colab": {
          "base_uri": "https://localhost:8080/",
          "height": 298,
          "referenced_widgets": [
            "a6a8ec4fff7d4f0c9bd7447f3b8c3064",
            "1f1f4597ed7e47d8b4a1665424a9e4c4",
            "51c686ba112b4c9f89c0ecf26b648fce",
            "62981e6d5e234ad7b59d314f2b07fc46",
            "4397e27efdfb45daa7a8f934db381298",
            "82b465bf847740f8a5127ecddf077678",
            "64643b4ed0c14d54accc10c1dc7bba44",
            "525a0a806a7d476aad53fb31dc6311a5",
            "c4efd844a7474cae81b9ae4e510267e4",
            "ee86bd8ae7bb494da428c2ebcb3c2cf1",
            "29dada27cb454618867df5e20db0ddbd",
            "9feb7114b9fe497ba84f54d148cdbf03",
            "980f7321a84141ea8bc4bd956f04d729",
            "91ddcd466d2544fda53037820ce2fd50",
            "0606c25cb1cb46aea8792ee367a4431d",
            "9331aaa87b604a94aac6cd929dfe7fd8",
            "7604ecc60c3e4a9b9a575e90987408a4",
            "81818b83d9be4e8eb54ce47d483aaf2d",
            "71a79931eac046ab9d3f7ed523b3b757",
            "9928c9566a5c491988228fd6d8a698c0",
            "5be5c684d8aa456da08aac10ed26dea1",
            "ac54c07e973146b0a02d57d8f1e758a3",
            "b71b573430ba4e0f932c319910d80d26",
            "715257d64af441d8bedf38422b01f2c3",
            "c85bef70c33c4a0e8c22445ba7c20b4e",
            "5937eaa063154a4da59fc44c4d096352",
            "b1cff98e5dd2410fa295bddc783435e6",
            "f61c17756b1c4258adda3cf3ec2b8ff4",
            "eb42fe4d43a3480b8e58bf8595c5636c",
            "6d49905b1c9044c89a559fa3a6c63634",
            "58040ee6262f4ae0aabdbd25dbf6e8df",
            "5aaf9e64828b46f0b6fc9a0dba89ff6b",
            "47bc44a3d9a2434296cb036e91578530",
            "ebb8bf41347a4b12b82cbe94761812a0",
            "b8e0d740f3764f88b4ea4ed0e1245b32",
            "2459dca46b4e492aa8e89249cb508914",
            "b62f5c15463e4a48b23138b148c60e5f",
            "3e0e65a4b1f140f8a7a4a4fdf6261db8",
            "e0706ca1bb324126a4b11905707c20ac",
            "3a84621701f5455fb968891d9f7b1b6e",
            "8f3430555d524078911f132fab3d5a14",
            "8937d1381d04439f8a89d0a3cb4d8cb2",
            "8ac76eb404e94061a24a5f94acee223d",
            "194e81d93670453da4ef5e4831d44d68"
          ]
        },
        "outputId": "7c01e7d2-289a-4f97-e524-91444e55f827"
      },
      "outputs": [
        {
          "output_type": "display_data",
          "data": {
            "text/plain": [
              "<IPython.core.display.HTML object>"
            ],
            "text/html": [
              "\n",
              "  <style>\n",
              "    pre {\n",
              "        white-space: pre-wrap;\n",
              "    }\n",
              "  </style>\n",
              "  "
            ]
          },
          "metadata": {}
        },
        {
          "output_type": "stream",
          "name": "stderr",
          "text": [
            "/usr/local/lib/python3.10/dist-packages/huggingface_hub/utils/_token.py:89: UserWarning: \n",
            "The secret `HF_TOKEN` does not exist in your Colab secrets.\n",
            "To authenticate with the Hugging Face Hub, create a token in your settings tab (https://huggingface.co/settings/tokens), set it as secret in your Google Colab and restart your session.\n",
            "You will be able to reuse this secret in all of your notebooks.\n",
            "Please note that authentication is recommended but still optional to access public models or datasets.\n",
            "  warnings.warn(\n"
          ]
        },
        {
          "output_type": "display_data",
          "data": {
            "text/plain": [
              "tokenizer_config.json:   0%|          | 0.00/1.46k [00:00<?, ?B/s]"
            ],
            "application/vnd.jupyter.widget-view+json": {
              "version_major": 2,
              "version_minor": 0,
              "model_id": "a6a8ec4fff7d4f0c9bd7447f3b8c3064"
            }
          },
          "metadata": {}
        },
        {
          "output_type": "display_data",
          "data": {
            "text/plain": [
              "tokenizer.model:   0%|          | 0.00/493k [00:00<?, ?B/s]"
            ],
            "application/vnd.jupyter.widget-view+json": {
              "version_major": 2,
              "version_minor": 0,
              "model_id": "9feb7114b9fe497ba84f54d148cdbf03"
            }
          },
          "metadata": {}
        },
        {
          "output_type": "display_data",
          "data": {
            "text/plain": [
              "tokenizer.json:   0%|          | 0.00/1.80M [00:00<?, ?B/s]"
            ],
            "application/vnd.jupyter.widget-view+json": {
              "version_major": 2,
              "version_minor": 0,
              "model_id": "b71b573430ba4e0f932c319910d80d26"
            }
          },
          "metadata": {}
        },
        {
          "output_type": "display_data",
          "data": {
            "text/plain": [
              "special_tokens_map.json:   0%|          | 0.00/72.0 [00:00<?, ?B/s]"
            ],
            "application/vnd.jupyter.widget-view+json": {
              "version_major": 2,
              "version_minor": 0,
              "model_id": "ebb8bf41347a4b12b82cbe94761812a0"
            }
          },
          "metadata": {}
        },
        {
          "output_type": "stream",
          "name": "stdout",
          "text": [
            "Added pad token\n",
            "Tokenizer pad token ID: 32000\n"
          ]
        }
      ],
      "source": [
        "tokenizer=load_tokenizer()"
      ]
    },
    {
      "cell_type": "code",
      "execution_count": null,
      "metadata": {
        "id": "WYJ_oOv2n3Vj",
        "colab": {
          "base_uri": "https://localhost:8080/",
          "height": 221
        },
        "outputId": "d3e6c031-a16e-448c-dda1-86b100a11429"
      },
      "outputs": [
        {
          "output_type": "display_data",
          "data": {
            "text/plain": [
              "<IPython.core.display.HTML object>"
            ],
            "text/html": [
              "\n",
              "  <style>\n",
              "    pre {\n",
              "        white-space: pre-wrap;\n",
              "    }\n",
              "  </style>\n",
              "  "
            ]
          },
          "metadata": {}
        },
        {
          "output_type": "stream",
          "name": "stdout",
          "text": [
            "EOS token: </s>\n",
            "EOS token id: 2\n",
            "Pad token:  [<pad>]\n",
            "Pad token ID:  32000\n",
            "LlamaTokenizerFast(name_or_path='mistralai/Mistral-7B-Instruct-v0.2', vocab_size=32000, model_max_length=1000000000000000019884624838656, is_fast=True, padding_side='left', truncation_side='right', special_tokens={'bos_token': '<s>', 'eos_token': '</s>', 'unk_token': '<unk>', 'pad_token': '[<pad>]'}, clean_up_tokenization_spaces=False),  added_tokens_decoder={\n",
            "\t0: AddedToken(\"<unk>\", rstrip=False, lstrip=False, single_word=False, normalized=False, special=True),\n",
            "\t1: AddedToken(\"<s>\", rstrip=False, lstrip=False, single_word=False, normalized=False, special=True),\n",
            "\t2: AddedToken(\"</s>\", rstrip=False, lstrip=False, single_word=False, normalized=False, special=True),\n",
            "\t32000: AddedToken(\"[<pad>]\", rstrip=False, lstrip=False, single_word=False, normalized=True, special=False),\n",
            "}\n"
          ]
        }
      ],
      "source": [
        "print(\"EOS token:\", tokenizer.eos_token)\n",
        "print(\"EOS token id:\", tokenizer.eos_token_id)\n",
        "\n",
        "print(\"Pad token: \", tokenizer.pad_token)\n",
        "print(\"Pad token ID: \", tokenizer.pad_token_id)\n",
        "\n",
        "print(tokenizer)"
      ]
    },
    {
      "cell_type": "code",
      "execution_count": null,
      "metadata": {
        "id": "Wyjbw7dbIEY2",
        "colab": {
          "base_uri": "https://localhost:8080/",
          "height": 17
        },
        "outputId": "e41d387e-aab5-4b69-b3e3-b0c73dc71a71"
      },
      "outputs": [
        {
          "output_type": "display_data",
          "data": {
            "text/plain": [
              "<IPython.core.display.HTML object>"
            ],
            "text/html": [
              "\n",
              "  <style>\n",
              "    pre {\n",
              "        white-space: pre-wrap;\n",
              "    }\n",
              "  </style>\n",
              "  "
            ]
          },
          "metadata": {}
        }
      ],
      "source": [
        "from datasets import load_dataset\n",
        "\n",
        "def custom_dataset_load(data_dir: str)->DataPointType:\n",
        "    data = load_dataset(data_dir, split=\"train\")\n",
        "    return data"
      ]
    },
    {
      "cell_type": "code",
      "execution_count": null,
      "metadata": {
        "id": "V3CIoZGfAUvE",
        "colab": {
          "base_uri": "https://localhost:8080/",
          "height": 17
        },
        "outputId": "8afb4157-85bd-4593-91c8-274b9d8c9c42"
      },
      "outputs": [
        {
          "output_type": "display_data",
          "data": {
            "text/plain": [
              "<IPython.core.display.HTML object>"
            ],
            "text/html": [
              "\n",
              "  <style>\n",
              "    pre {\n",
              "        white-space: pre-wrap;\n",
              "    }\n",
              "  </style>\n",
              "  "
            ]
          },
          "metadata": {}
        }
      ],
      "source": [
        "def format_dataset_detail_fn(data_points: DataPointType) -> DataPointType:\n",
        "    template = \"Below is an instruction that describes a composite task. Provide the structured detail planning for the following task.\"\n",
        "\n",
        "    INST = \"### Instruction:\"\n",
        "    RESP = \"### Response:\"\n",
        "\n",
        "    # Create the formatted text\n",
        "    formatted_dataset = data_points.map(\n",
        "        lambda x: {\n",
        "            \"prompt\": \"\".join(\n",
        "                [\n",
        "                    f\"{template}\\n\\n\",\n",
        "                    f\"{INST}{x['Instruction'].strip()}\\n\\n\",\n",
        "                    f\"{RESP}{x['Detailed'].strip()}\",\n",
        "                ]\n",
        "            ),\n",
        "            \"response\": \"\".join(\n",
        "                [\n",
        "                    f\"{RESP}{x['Detailed'].strip()}\",\n",
        "                ]\n",
        "            ),\n",
        "        }\n",
        "    )\n",
        "    return formatted_dataset"
      ]
    },
    {
      "cell_type": "code",
      "source": [
        "def format_dataset_detail_instruct_fn(data_points: DataPointType) -> DataPointType:\n",
        "    template = \"Below is an instruction that describes a composite task. Provide the structured detail planning for the following task.\"\n",
        "\n",
        "    B_INST, E_INST = \"[INST]\", \"[/INST]\"\n",
        "    RESP = \"### Response:\"\n",
        "\n",
        "    # Create the formatted text\n",
        "    formatted_dataset = data_points.map(\n",
        "        lambda x: {\n",
        "            \"prompt\": \"\".join(\n",
        "                [\n",
        "                    f\"{B_INST}{template.strip()}{x['Instruction'].strip()}{E_INST}\\n\\n\",\n",
        "                    f\"{RESP}{x['Detailed'].strip()}\",\n",
        "                ]\n",
        "            ),\n",
        "            \"response\": \"\".join(\n",
        "                [\n",
        "                    f\"{RESP}{x['Detailed'].strip()}\",\n",
        "                ]\n",
        "            ),\n",
        "        }\n",
        "    )\n",
        "    return formatted_dataset"
      ],
      "metadata": {
        "colab": {
          "base_uri": "https://localhost:8080/",
          "height": 17
        },
        "id": "OEFtQDxkeb5Z",
        "outputId": "be00b852-c6f9-4bf3-bf0c-c42cf6480e94"
      },
      "execution_count": null,
      "outputs": [
        {
          "output_type": "display_data",
          "data": {
            "text/plain": [
              "<IPython.core.display.HTML object>"
            ],
            "text/html": [
              "\n",
              "  <style>\n",
              "    pre {\n",
              "        white-space: pre-wrap;\n",
              "    }\n",
              "  </style>\n",
              "  "
            ]
          },
          "metadata": {}
        }
      ]
    },
    {
      "cell_type": "code",
      "execution_count": null,
      "metadata": {
        "id": "kK8G6dIKWLBK",
        "colab": {
          "base_uri": "https://localhost:8080/",
          "height": 17
        },
        "outputId": "4f600f05-14e2-4b17-d7ab-300553d49c5f"
      },
      "outputs": [
        {
          "output_type": "display_data",
          "data": {
            "text/plain": [
              "<IPython.core.display.HTML object>"
            ],
            "text/html": [
              "\n",
              "  <style>\n",
              "    pre {\n",
              "        white-space: pre-wrap;\n",
              "    }\n",
              "  </style>\n",
              "  "
            ]
          },
          "metadata": {}
        }
      ],
      "source": [
        "def shuffle_tokenize_batch(data:DataPointType, tokenizer:LlamaTokenizerFast)->DataPointType:\n",
        "    data = data.shuffle(seed=1234)  # Shuffle dataset here\n",
        "    data = data.map(lambda samples: tokenizer(samples[\"prompt\"]), batched=True)\n",
        "    return data"
      ]
    },
    {
      "cell_type": "code",
      "execution_count": null,
      "metadata": {
        "id": "MAkx8ZFrU4ly",
        "colab": {
          "base_uri": "https://localhost:8080/",
          "height": 17
        },
        "outputId": "16b1d922-3c16-4f85-f729-da0643edccdd"
      },
      "outputs": [
        {
          "output_type": "display_data",
          "data": {
            "text/plain": [
              "<IPython.core.display.HTML object>"
            ],
            "text/html": [
              "\n",
              "  <style>\n",
              "    pre {\n",
              "        white-space: pre-wrap;\n",
              "    }\n",
              "  </style>\n",
              "  "
            ]
          },
          "metadata": {}
        }
      ],
      "source": [
        "def split_train_test_dataset(data:DataPointType, split_size: float = 0.1)->Tuple[DataPointTrain,DataPointTest]:\n",
        "    data = data.train_test_split(test_size=split_size)\n",
        "    train_data = data[\"train\"]\n",
        "    test_data = data[\"test\"]\n",
        "    return train_data, test_data"
      ]
    },
    {
      "cell_type": "code",
      "source": [
        "def format_prediction_detail_fn(data_point: DataPointType) -> str:\n",
        "    template=\"Below is an instruction that describes a composite task. Provide the structured detailed planning for the following task. Your response should be in the form of a dictionary with transitions (one-to-one or one-to-many depending on the task) between different subtasks and appropriate failure handling options. \"\n",
        "\n",
        "    INST = \"### Instruction:\"\n",
        "    RESP = \"### Response:\"\n",
        "\n",
        "    # Create the formatted text\n",
        "    formatted_prediction = \"\".join(\n",
        "        [\n",
        "            f\"{template}\\n\\n\",\n",
        "            f\"{INST}{data_point['Instruction'].strip()}\\n\\n\",\n",
        "            f\"{RESP}\",\n",
        "        ]\n",
        "    )\n",
        "    return formatted_prediction"
      ],
      "metadata": {
        "id": "Ra5cgsQF6txn",
        "colab": {
          "base_uri": "https://localhost:8080/",
          "height": 17
        },
        "outputId": "474fd081-f27a-4b34-c6fe-be6e3ba0ea2b"
      },
      "execution_count": null,
      "outputs": [
        {
          "output_type": "display_data",
          "data": {
            "text/plain": [
              "<IPython.core.display.HTML object>"
            ],
            "text/html": [
              "\n",
              "  <style>\n",
              "    pre {\n",
              "        white-space: pre-wrap;\n",
              "    }\n",
              "  </style>\n",
              "  "
            ]
          },
          "metadata": {}
        }
      ]
    },
    {
      "cell_type": "code",
      "source": [
        "def format_prediction_detail_instruct_fn(data_point: DataPointType) -> str:\n",
        "    template=\"Below is an instruction that describes a composite task. Provide the structured detailed planning for the following task. Your response should be in the form of a dictionary with transitions (one-to-one or one-to-many depending on the task) between different subtasks and appropriate failure handling options. \"\n",
        "\n",
        "    B_INST, E_INST = \"[INST]\", \"[/INST]\"\n",
        "    RESP = \"### Response:\"\n",
        "\n",
        "    # Create the formatted text\n",
        "    formatted_prediction = \"\".join(\n",
        "        [\n",
        "            f\"{B_INST}{template}{data_point['Instruction'].strip()}{E_INST}\\n\\n\",\n",
        "            f\"{RESP}\",\n",
        "        ]\n",
        "    )\n",
        "    return formatted_prediction"
      ],
      "metadata": {
        "colab": {
          "base_uri": "https://localhost:8080/",
          "height": 17
        },
        "id": "Ble_TFMAie4i",
        "outputId": "79231d63-cc67-460c-d733-faa4dda1147e"
      },
      "execution_count": null,
      "outputs": [
        {
          "output_type": "display_data",
          "data": {
            "text/plain": [
              "<IPython.core.display.HTML object>"
            ],
            "text/html": [
              "\n",
              "  <style>\n",
              "    pre {\n",
              "        white-space: pre-wrap;\n",
              "    }\n",
              "  </style>\n",
              "  "
            ]
          },
          "metadata": {}
        }
      ]
    },
    {
      "cell_type": "code",
      "execution_count": null,
      "metadata": {
        "id": "j1E-X3evCc8S",
        "colab": {
          "base_uri": "https://localhost:8080/",
          "height": 17
        },
        "outputId": "f44484e8-53cc-49cd-a558-ca1b325e826d"
      },
      "outputs": [
        {
          "output_type": "display_data",
          "data": {
            "text/plain": [
              "<IPython.core.display.HTML object>"
            ],
            "text/html": [
              "\n",
              "  <style>\n",
              "    pre {\n",
              "        white-space: pre-wrap;\n",
              "    }\n",
              "  </style>\n",
              "  "
            ]
          },
          "metadata": {}
        }
      ],
      "source": [
        "import torch\n",
        "from transformers import StoppingCriteria\n",
        "\n",
        "class KeywordsStoppingCriteria(StoppingCriteria):\n",
        "    def __init__(self, keywords, tokenizer, input_ids):\n",
        "        self.keywords = keywords\n",
        "        self.keyword_ids = []\n",
        "        self.max_keyword_len = 0\n",
        "        for keyword in keywords:\n",
        "            cur_keyword_ids = tokenizer(keyword).input_ids\n",
        "            if len(cur_keyword_ids) > 1 and cur_keyword_ids[0] == tokenizer.bos_token_id:\n",
        "                cur_keyword_ids = cur_keyword_ids[1:]\n",
        "            if len(cur_keyword_ids) > self.max_keyword_len:\n",
        "                self.max_keyword_len = len(cur_keyword_ids)\n",
        "            self.keyword_ids.append(torch.tensor(cur_keyword_ids))\n",
        "        self.tokenizer = tokenizer\n",
        "        self.start_len = input_ids.shape[1]\n",
        "\n",
        "    def call_for_batch(self, output_ids: torch.LongTensor, scores: torch.FloatTensor, **kwargs) -> bool:\n",
        "        offset = min(output_ids.shape[1] - self.start_len, self.max_keyword_len)\n",
        "        self.keyword_ids = [keyword_id.to(output_ids.device) for keyword_id in self.keyword_ids]\n",
        "        for keyword_id in self.keyword_ids:\n",
        "            if (output_ids[0, -keyword_id.shape[0]:] == keyword_id).all():\n",
        "                return True\n",
        "        outputs = self.tokenizer.batch_decode(output_ids[:, -offset:], skip_special_tokens=True)[0]\n",
        "        for keyword in self.keywords:\n",
        "            if keyword in outputs:\n",
        "                return True\n",
        "        return False\n",
        "\n",
        "    def __call__(self, output_ids: torch.LongTensor, scores: torch.FloatTensor, **kwargs) -> bool:\n",
        "        outputs = []\n",
        "        for i in range(output_ids.shape[0]):\n",
        "            outputs.append(self.call_for_batch(output_ids[i].unsqueeze(0), scores))\n",
        "        return all(outputs)"
      ]
    },
    {
      "cell_type": "code",
      "execution_count": null,
      "metadata": {
        "id": "f8vk5MwoDFFe",
        "colab": {
          "base_uri": "https://localhost:8080/",
          "height": 17
        },
        "outputId": "796b0865-5ebe-45dc-b066-084e5b56f17e"
      },
      "outputs": [
        {
          "output_type": "display_data",
          "data": {
            "text/plain": [
              "<IPython.core.display.HTML object>"
            ],
            "text/html": [
              "\n",
              "  <style>\n",
              "    pre {\n",
              "        white-space: pre-wrap;\n",
              "    }\n",
              "  </style>\n",
              "  "
            ]
          },
          "metadata": {}
        }
      ],
      "source": [
        "def get_completion(prompt:str, model:MistralForCausalLM, tokenizer:LlamaTokenizerFast, keywords:List[str], keyword_stopping_criteria:KeywordsStoppingCriteria)->str:\n",
        "    input_ids = tokenizer.encode(prompt, return_tensors=\"pt\").to(model.device)\n",
        "\n",
        "    stopping_criteria = keyword_stopping_criteria(keywords, tokenizer, input_ids)\n",
        "\n",
        "    with torch.inference_mode():\n",
        "      output_ids = model.generate(\n",
        "          inputs=input_ids,\n",
        "          use_cache=True,\n",
        "          max_new_tokens=512,\n",
        "          stopping_criteria=[stopping_criteria],\n",
        "          attention_mask=None,\n",
        "          do_sample=False,\n",
        "          output_attentions=True,\n",
        "          output_scores=True,\n",
        "          return_dict_in_generate=True,\n",
        "      )\n",
        "\n",
        "    output = tokenizer.decode(output_ids['sequences'][0, input_ids.shape[1]:],skip_spectial_tokens=True).strip()\n",
        "\n",
        "    return output"
      ]
    },
    {
      "cell_type": "code",
      "execution_count": null,
      "metadata": {
        "id": "4dAMz8ZlKq3B",
        "colab": {
          "base_uri": "https://localhost:8080/",
          "height": 113,
          "referenced_widgets": [
            "8e228391aa81486badef35a1bc48a46e",
            "3c0efb9470b845588c5be40c0c93add9",
            "5ad75dba964a457b82f3303c5d58a2e7",
            "30ae4dc4710a4908b1ef6ba14d4f4256",
            "41d88437a4924d7d8a36b953c5f332ac",
            "253d3fbe5a2140dba419696f45075783",
            "7fb069a1488849648ab4de4c850137cb",
            "648020f8cf974fbfb38a169c5b73ce71",
            "6ee167aeb3024b19a1b7c8c4cc5ed135",
            "94e90718b3dc4b2e80f093d66f0fed1e",
            "02277c84c2d04a8482fec77ab2198847",
            "a026a16833014b66a110063b8076ce18",
            "6ad658e218b344228d672136958cf3b1",
            "8b74bb245a3042f8a36d8f805cfdc096",
            "3961da64492c4bde933e2d308a89c470",
            "4ef510607893422a9a4c7b08fd0bdaf8",
            "8409694a90bb428ba5c7122533f62262",
            "b373e3a0afed4d0b83e5e1291f0642a5",
            "c99a4c071e95461488b0b5197a758d2b",
            "a2b21eaafc114b2db19d9b9f8a1c60ef",
            "27d109ba22fd4894b903a3db73027814",
            "1dac09b6a238411e99af8e6b6e539240",
            "95cbe86360de4cad83649318ded7074f",
            "f7b6063e28f544dda81d0f8ac40e3f97",
            "bf6f50270b3346cf9007fb5a6d22acdc",
            "e47f2a7dbfda4634971677276bca4fa8",
            "6252fc0df9564db0bd19d5c659f2d527",
            "48710750760044dead3049f49c38d27f",
            "181ae429ac8f4cc08e2aa01b0a6d79f5",
            "6100cc3c13964b01bc25e377e551c5a6",
            "4a11b638e9054e44a8c2dd04e393b1bd",
            "4b515a3bb01240e09353df7e8b7d660a",
            "8237e5c644c943e79ee8993b320dcc71"
          ]
        },
        "outputId": "a154f221-25dc-48fd-a6db-fef7b433716d"
      },
      "outputs": [
        {
          "output_type": "display_data",
          "data": {
            "text/plain": [
              "<IPython.core.display.HTML object>"
            ],
            "text/html": [
              "\n",
              "  <style>\n",
              "    pre {\n",
              "        white-space: pre-wrap;\n",
              "    }\n",
              "  </style>\n",
              "  "
            ]
          },
          "metadata": {}
        },
        {
          "output_type": "display_data",
          "data": {
            "text/plain": [
              "Resolving data files:   0%|          | 0/202 [00:00<?, ?it/s]"
            ],
            "application/vnd.jupyter.widget-view+json": {
              "version_major": 2,
              "version_minor": 0,
              "model_id": "8e228391aa81486badef35a1bc48a46e"
            }
          },
          "metadata": {}
        },
        {
          "output_type": "display_data",
          "data": {
            "text/plain": [
              "Downloading data:   0%|          | 0/202 [00:00<?, ?files/s]"
            ],
            "application/vnd.jupyter.widget-view+json": {
              "version_major": 2,
              "version_minor": 0,
              "model_id": "a026a16833014b66a110063b8076ce18"
            }
          },
          "metadata": {}
        },
        {
          "output_type": "display_data",
          "data": {
            "text/plain": [
              "Generating train split: 0 examples [00:00, ? examples/s]"
            ],
            "application/vnd.jupyter.widget-view+json": {
              "version_major": 2,
              "version_minor": 0,
              "model_id": "95cbe86360de4cad83649318ded7074f"
            }
          },
          "metadata": {}
        }
      ],
      "source": [
        "data=custom_dataset_load('/content/drive/MyDrive/data')"
      ]
    },
    {
      "cell_type": "code",
      "execution_count": null,
      "metadata": {
        "id": "ISGZlUOcHIyp",
        "colab": {
          "base_uri": "https://localhost:8080/",
          "height": 49,
          "referenced_widgets": [
            "34304a47da5a46e3b6f51a52906892e3",
            "8cc8b535e0f74952a8c7e249c2986856",
            "6ce4df32e6964d2fb390e8f310e6e6ca",
            "7643efb0a7054deda7d0efa8e1d30446",
            "4c3dff7cde1c47ef84910f4694443da5",
            "208fe31678ca4b3ebed8aa4423a72dd1",
            "26aa409d8ff642c5874a46b8c478ef2a",
            "11c0e4122d1d45b0993a83f633635329",
            "8b149f5a98e3445680c967dd3f673b03",
            "79f394d81b7a4ca2b34b6597d0b77669",
            "833377cb63994ef393889a5d1d0735ea"
          ]
        },
        "outputId": "2ac19d25-b740-4422-d76e-7a127fabc8ed"
      },
      "outputs": [
        {
          "output_type": "display_data",
          "data": {
            "text/plain": [
              "<IPython.core.display.HTML object>"
            ],
            "text/html": [
              "\n",
              "  <style>\n",
              "    pre {\n",
              "        white-space: pre-wrap;\n",
              "    }\n",
              "  </style>\n",
              "  "
            ]
          },
          "metadata": {}
        },
        {
          "output_type": "display_data",
          "data": {
            "text/plain": [
              "Map:   0%|          | 0/1007 [00:00<?, ? examples/s]"
            ],
            "application/vnd.jupyter.widget-view+json": {
              "version_major": 2,
              "version_minor": 0,
              "model_id": "34304a47da5a46e3b6f51a52906892e3"
            }
          },
          "metadata": {}
        }
      ],
      "source": [
        "data_detail=format_dataset_detail_instruct_fn(data)"
      ]
    },
    {
      "cell_type": "code",
      "execution_count": null,
      "metadata": {
        "id": "u6MQz9viYH0e",
        "colab": {
          "base_uri": "https://localhost:8080/",
          "height": 49,
          "referenced_widgets": [
            "41f7f168fd6f4b5c81af50bdd67a8370",
            "ec472ffadbae4a07be691285d68e0ba2",
            "3ae8923ee2d64ecf9fb609ec092ae863",
            "7975099538514d4f853a86ae2f31f556",
            "4f4c8db7d6f14559bf6f005f83291559",
            "b1c359de6c344a5ca70f9685b67d08d1",
            "895ab052c574497c89b26e876ebf6cfc",
            "96d78b70c3be48ccabf33cc8c68f5cf6",
            "690d49588c3a4ff79c60443020d39647",
            "a55be1ead7194ff181f6ff46aa688c01",
            "98a6a1771f5341a29f40e5bcc6e0bad8"
          ]
        },
        "outputId": "daf7a08d-26b0-44bc-d6e5-f534b7278d5d"
      },
      "outputs": [
        {
          "output_type": "display_data",
          "data": {
            "text/plain": [
              "<IPython.core.display.HTML object>"
            ],
            "text/html": [
              "\n",
              "  <style>\n",
              "    pre {\n",
              "        white-space: pre-wrap;\n",
              "    }\n",
              "  </style>\n",
              "  "
            ]
          },
          "metadata": {}
        },
        {
          "output_type": "display_data",
          "data": {
            "text/plain": [
              "Map:   0%|          | 0/1007 [00:00<?, ? examples/s]"
            ],
            "application/vnd.jupyter.widget-view+json": {
              "version_major": 2,
              "version_minor": 0,
              "model_id": "41f7f168fd6f4b5c81af50bdd67a8370"
            }
          },
          "metadata": {}
        }
      ],
      "source": [
        "processed_data_detail=shuffle_tokenize_batch(data_detail,tokenizer)"
      ]
    },
    {
      "cell_type": "code",
      "execution_count": null,
      "metadata": {
        "id": "dDNuasIE-p5j",
        "colab": {
          "base_uri": "https://localhost:8080/",
          "height": 374
        },
        "outputId": "1fffe148-3df9-4213-c41e-eaa5b77cbb5e"
      },
      "outputs": [
        {
          "output_type": "display_data",
          "data": {
            "text/plain": [
              "<IPython.core.display.HTML object>"
            ],
            "text/html": [
              "\n",
              "  <style>\n",
              "    pre {\n",
              "        white-space: pre-wrap;\n",
              "    }\n",
              "  </style>\n",
              "  "
            ]
          },
          "metadata": {}
        },
        {
          "output_type": "execute_result",
          "data": {
            "text/plain": [
              "                                           Blueprint  \\\n",
              "0  {'Translate short story into screenplay': {'ne...   \n",
              "1  {'Select artworks': {'next_modes': ['Write bio...   \n",
              "2  {'Analyze sentiment': {'next_modes': ['Visuali...   \n",
              "3  {'Capture drone footage': {'next_modes': ['Ana...   \n",
              "4  {'Topic selection': {'next_modes': ['Script wr...   \n",
              "\n",
              "                                            Detailed  \\\n",
              "0  {'Convert the narrative and dialogues of a bri...   \n",
              "1  {\"Curate a collection of digital artworks that...   \n",
              "2  {'Utilize advanced text analysis tools to gaug...   \n",
              "3  {'Collect high-resolution aerial footage of ta...   \n",
              "4  {'Identify fundamental programming concepts an...   \n",
              "\n",
              "                                         Instruction  \\\n",
              "0  Translate a short story into a screenplay, the...   \n",
              "1  Create a virtual art gallery exhibit, featurin...   \n",
              "2  Analyze the sentiment of tweets related to a s...   \n",
              "3  Analyze traffic patterns from drone footage of...   \n",
              "4  Develop a software tutorial series including s...   \n",
              "\n",
              "                                              prompt  \\\n",
              "0  [INST]Below is an instruction that describes a...   \n",
              "1  [INST]Below is an instruction that describes a...   \n",
              "2  [INST]Below is an instruction that describes a...   \n",
              "3  [INST]Below is an instruction that describes a...   \n",
              "4  [INST]Below is an instruction that describes a...   \n",
              "\n",
              "                                            response  \\\n",
              "0  ### Response:{'Convert the narrative and dialo...   \n",
              "1  ### Response:{\"Curate a collection of digital ...   \n",
              "2  ### Response:{'Utilize advanced text analysis ...   \n",
              "3  ### Response:{'Collect high-resolution aerial ...   \n",
              "4  ### Response:{'Identify fundamental programmin...   \n",
              "\n",
              "                                           input_ids  \\\n",
              "0  [1, 733, 16289, 28793, 20548, 336, 349, 396, 1...   \n",
              "1  [1, 733, 16289, 28793, 20548, 336, 349, 396, 1...   \n",
              "2  [1, 733, 16289, 28793, 20548, 336, 349, 396, 1...   \n",
              "3  [1, 733, 16289, 28793, 20548, 336, 349, 396, 1...   \n",
              "4  [1, 733, 16289, 28793, 20548, 336, 349, 396, 1...   \n",
              "\n",
              "                                      attention_mask  \n",
              "0  [1, 1, 1, 1, 1, 1, 1, 1, 1, 1, 1, 1, 1, 1, 1, ...  \n",
              "1  [1, 1, 1, 1, 1, 1, 1, 1, 1, 1, 1, 1, 1, 1, 1, ...  \n",
              "2  [1, 1, 1, 1, 1, 1, 1, 1, 1, 1, 1, 1, 1, 1, 1, ...  \n",
              "3  [1, 1, 1, 1, 1, 1, 1, 1, 1, 1, 1, 1, 1, 1, 1, ...  \n",
              "4  [1, 1, 1, 1, 1, 1, 1, 1, 1, 1, 1, 1, 1, 1, 1, ...  "
            ],
            "text/html": [
              "\n",
              "  <div id=\"df-28484ece-2251-4198-a2bb-724c82c8c13b\" class=\"colab-df-container\">\n",
              "    <div>\n",
              "<style scoped>\n",
              "    .dataframe tbody tr th:only-of-type {\n",
              "        vertical-align: middle;\n",
              "    }\n",
              "\n",
              "    .dataframe tbody tr th {\n",
              "        vertical-align: top;\n",
              "    }\n",
              "\n",
              "    .dataframe thead th {\n",
              "        text-align: right;\n",
              "    }\n",
              "</style>\n",
              "<table border=\"1\" class=\"dataframe\">\n",
              "  <thead>\n",
              "    <tr style=\"text-align: right;\">\n",
              "      <th></th>\n",
              "      <th>Blueprint</th>\n",
              "      <th>Detailed</th>\n",
              "      <th>Instruction</th>\n",
              "      <th>prompt</th>\n",
              "      <th>response</th>\n",
              "      <th>input_ids</th>\n",
              "      <th>attention_mask</th>\n",
              "    </tr>\n",
              "  </thead>\n",
              "  <tbody>\n",
              "    <tr>\n",
              "      <th>0</th>\n",
              "      <td>{'Translate short story into screenplay': {'ne...</td>\n",
              "      <td>{'Convert the narrative and dialogues of a bri...</td>\n",
              "      <td>Translate a short story into a screenplay, the...</td>\n",
              "      <td>[INST]Below is an instruction that describes a...</td>\n",
              "      <td>### Response:{'Convert the narrative and dialo...</td>\n",
              "      <td>[1, 733, 16289, 28793, 20548, 336, 349, 396, 1...</td>\n",
              "      <td>[1, 1, 1, 1, 1, 1, 1, 1, 1, 1, 1, 1, 1, 1, 1, ...</td>\n",
              "    </tr>\n",
              "    <tr>\n",
              "      <th>1</th>\n",
              "      <td>{'Select artworks': {'next_modes': ['Write bio...</td>\n",
              "      <td>{\"Curate a collection of digital artworks that...</td>\n",
              "      <td>Create a virtual art gallery exhibit, featurin...</td>\n",
              "      <td>[INST]Below is an instruction that describes a...</td>\n",
              "      <td>### Response:{\"Curate a collection of digital ...</td>\n",
              "      <td>[1, 733, 16289, 28793, 20548, 336, 349, 396, 1...</td>\n",
              "      <td>[1, 1, 1, 1, 1, 1, 1, 1, 1, 1, 1, 1, 1, 1, 1, ...</td>\n",
              "    </tr>\n",
              "    <tr>\n",
              "      <th>2</th>\n",
              "      <td>{'Analyze sentiment': {'next_modes': ['Visuali...</td>\n",
              "      <td>{'Utilize advanced text analysis tools to gaug...</td>\n",
              "      <td>Analyze the sentiment of tweets related to a s...</td>\n",
              "      <td>[INST]Below is an instruction that describes a...</td>\n",
              "      <td>### Response:{'Utilize advanced text analysis ...</td>\n",
              "      <td>[1, 733, 16289, 28793, 20548, 336, 349, 396, 1...</td>\n",
              "      <td>[1, 1, 1, 1, 1, 1, 1, 1, 1, 1, 1, 1, 1, 1, 1, ...</td>\n",
              "    </tr>\n",
              "    <tr>\n",
              "      <th>3</th>\n",
              "      <td>{'Capture drone footage': {'next_modes': ['Ana...</td>\n",
              "      <td>{'Collect high-resolution aerial footage of ta...</td>\n",
              "      <td>Analyze traffic patterns from drone footage of...</td>\n",
              "      <td>[INST]Below is an instruction that describes a...</td>\n",
              "      <td>### Response:{'Collect high-resolution aerial ...</td>\n",
              "      <td>[1, 733, 16289, 28793, 20548, 336, 349, 396, 1...</td>\n",
              "      <td>[1, 1, 1, 1, 1, 1, 1, 1, 1, 1, 1, 1, 1, 1, 1, ...</td>\n",
              "    </tr>\n",
              "    <tr>\n",
              "      <th>4</th>\n",
              "      <td>{'Topic selection': {'next_modes': ['Script wr...</td>\n",
              "      <td>{'Identify fundamental programming concepts an...</td>\n",
              "      <td>Develop a software tutorial series including s...</td>\n",
              "      <td>[INST]Below is an instruction that describes a...</td>\n",
              "      <td>### Response:{'Identify fundamental programmin...</td>\n",
              "      <td>[1, 733, 16289, 28793, 20548, 336, 349, 396, 1...</td>\n",
              "      <td>[1, 1, 1, 1, 1, 1, 1, 1, 1, 1, 1, 1, 1, 1, 1, ...</td>\n",
              "    </tr>\n",
              "  </tbody>\n",
              "</table>\n",
              "</div>\n",
              "    <div class=\"colab-df-buttons\">\n",
              "\n",
              "  <div class=\"colab-df-container\">\n",
              "    <button class=\"colab-df-convert\" onclick=\"convertToInteractive('df-28484ece-2251-4198-a2bb-724c82c8c13b')\"\n",
              "            title=\"Convert this dataframe to an interactive table.\"\n",
              "            style=\"display:none;\">\n",
              "\n",
              "  <svg xmlns=\"http://www.w3.org/2000/svg\" height=\"24px\" viewBox=\"0 -960 960 960\">\n",
              "    <path d=\"M120-120v-720h720v720H120Zm60-500h600v-160H180v160Zm220 220h160v-160H400v160Zm0 220h160v-160H400v160ZM180-400h160v-160H180v160Zm440 0h160v-160H620v160ZM180-180h160v-160H180v160Zm440 0h160v-160H620v160Z\"/>\n",
              "  </svg>\n",
              "    </button>\n",
              "\n",
              "  <style>\n",
              "    .colab-df-container {\n",
              "      display:flex;\n",
              "      gap: 12px;\n",
              "    }\n",
              "\n",
              "    .colab-df-convert {\n",
              "      background-color: #E8F0FE;\n",
              "      border: none;\n",
              "      border-radius: 50%;\n",
              "      cursor: pointer;\n",
              "      display: none;\n",
              "      fill: #1967D2;\n",
              "      height: 32px;\n",
              "      padding: 0 0 0 0;\n",
              "      width: 32px;\n",
              "    }\n",
              "\n",
              "    .colab-df-convert:hover {\n",
              "      background-color: #E2EBFA;\n",
              "      box-shadow: 0px 1px 2px rgba(60, 64, 67, 0.3), 0px 1px 3px 1px rgba(60, 64, 67, 0.15);\n",
              "      fill: #174EA6;\n",
              "    }\n",
              "\n",
              "    .colab-df-buttons div {\n",
              "      margin-bottom: 4px;\n",
              "    }\n",
              "\n",
              "    [theme=dark] .colab-df-convert {\n",
              "      background-color: #3B4455;\n",
              "      fill: #D2E3FC;\n",
              "    }\n",
              "\n",
              "    [theme=dark] .colab-df-convert:hover {\n",
              "      background-color: #434B5C;\n",
              "      box-shadow: 0px 1px 3px 1px rgba(0, 0, 0, 0.15);\n",
              "      filter: drop-shadow(0px 1px 2px rgba(0, 0, 0, 0.3));\n",
              "      fill: #FFFFFF;\n",
              "    }\n",
              "  </style>\n",
              "\n",
              "    <script>\n",
              "      const buttonEl =\n",
              "        document.querySelector('#df-28484ece-2251-4198-a2bb-724c82c8c13b button.colab-df-convert');\n",
              "      buttonEl.style.display =\n",
              "        google.colab.kernel.accessAllowed ? 'block' : 'none';\n",
              "\n",
              "      async function convertToInteractive(key) {\n",
              "        const element = document.querySelector('#df-28484ece-2251-4198-a2bb-724c82c8c13b');\n",
              "        const dataTable =\n",
              "          await google.colab.kernel.invokeFunction('convertToInteractive',\n",
              "                                                    [key], {});\n",
              "        if (!dataTable) return;\n",
              "\n",
              "        const docLinkHtml = 'Like what you see? Visit the ' +\n",
              "          '<a target=\"_blank\" href=https://colab.research.google.com/notebooks/data_table.ipynb>data table notebook</a>'\n",
              "          + ' to learn more about interactive tables.';\n",
              "        element.innerHTML = '';\n",
              "        dataTable['output_type'] = 'display_data';\n",
              "        await google.colab.output.renderOutput(dataTable, element);\n",
              "        const docLink = document.createElement('div');\n",
              "        docLink.innerHTML = docLinkHtml;\n",
              "        element.appendChild(docLink);\n",
              "      }\n",
              "    </script>\n",
              "  </div>\n",
              "\n",
              "\n",
              "<div id=\"df-c5adc128-0f97-4d64-9bc6-359537d988d3\">\n",
              "  <button class=\"colab-df-quickchart\" onclick=\"quickchart('df-c5adc128-0f97-4d64-9bc6-359537d988d3')\"\n",
              "            title=\"Suggest charts\"\n",
              "            style=\"display:none;\">\n",
              "\n",
              "<svg xmlns=\"http://www.w3.org/2000/svg\" height=\"24px\"viewBox=\"0 0 24 24\"\n",
              "     width=\"24px\">\n",
              "    <g>\n",
              "        <path d=\"M19 3H5c-1.1 0-2 .9-2 2v14c0 1.1.9 2 2 2h14c1.1 0 2-.9 2-2V5c0-1.1-.9-2-2-2zM9 17H7v-7h2v7zm4 0h-2V7h2v10zm4 0h-2v-4h2v4z\"/>\n",
              "    </g>\n",
              "</svg>\n",
              "  </button>\n",
              "\n",
              "<style>\n",
              "  .colab-df-quickchart {\n",
              "      --bg-color: #E8F0FE;\n",
              "      --fill-color: #1967D2;\n",
              "      --hover-bg-color: #E2EBFA;\n",
              "      --hover-fill-color: #174EA6;\n",
              "      --disabled-fill-color: #AAA;\n",
              "      --disabled-bg-color: #DDD;\n",
              "  }\n",
              "\n",
              "  [theme=dark] .colab-df-quickchart {\n",
              "      --bg-color: #3B4455;\n",
              "      --fill-color: #D2E3FC;\n",
              "      --hover-bg-color: #434B5C;\n",
              "      --hover-fill-color: #FFFFFF;\n",
              "      --disabled-bg-color: #3B4455;\n",
              "      --disabled-fill-color: #666;\n",
              "  }\n",
              "\n",
              "  .colab-df-quickchart {\n",
              "    background-color: var(--bg-color);\n",
              "    border: none;\n",
              "    border-radius: 50%;\n",
              "    cursor: pointer;\n",
              "    display: none;\n",
              "    fill: var(--fill-color);\n",
              "    height: 32px;\n",
              "    padding: 0;\n",
              "    width: 32px;\n",
              "  }\n",
              "\n",
              "  .colab-df-quickchart:hover {\n",
              "    background-color: var(--hover-bg-color);\n",
              "    box-shadow: 0 1px 2px rgba(60, 64, 67, 0.3), 0 1px 3px 1px rgba(60, 64, 67, 0.15);\n",
              "    fill: var(--button-hover-fill-color);\n",
              "  }\n",
              "\n",
              "  .colab-df-quickchart-complete:disabled,\n",
              "  .colab-df-quickchart-complete:disabled:hover {\n",
              "    background-color: var(--disabled-bg-color);\n",
              "    fill: var(--disabled-fill-color);\n",
              "    box-shadow: none;\n",
              "  }\n",
              "\n",
              "  .colab-df-spinner {\n",
              "    border: 2px solid var(--fill-color);\n",
              "    border-color: transparent;\n",
              "    border-bottom-color: var(--fill-color);\n",
              "    animation:\n",
              "      spin 1s steps(1) infinite;\n",
              "  }\n",
              "\n",
              "  @keyframes spin {\n",
              "    0% {\n",
              "      border-color: transparent;\n",
              "      border-bottom-color: var(--fill-color);\n",
              "      border-left-color: var(--fill-color);\n",
              "    }\n",
              "    20% {\n",
              "      border-color: transparent;\n",
              "      border-left-color: var(--fill-color);\n",
              "      border-top-color: var(--fill-color);\n",
              "    }\n",
              "    30% {\n",
              "      border-color: transparent;\n",
              "      border-left-color: var(--fill-color);\n",
              "      border-top-color: var(--fill-color);\n",
              "      border-right-color: var(--fill-color);\n",
              "    }\n",
              "    40% {\n",
              "      border-color: transparent;\n",
              "      border-right-color: var(--fill-color);\n",
              "      border-top-color: var(--fill-color);\n",
              "    }\n",
              "    60% {\n",
              "      border-color: transparent;\n",
              "      border-right-color: var(--fill-color);\n",
              "    }\n",
              "    80% {\n",
              "      border-color: transparent;\n",
              "      border-right-color: var(--fill-color);\n",
              "      border-bottom-color: var(--fill-color);\n",
              "    }\n",
              "    90% {\n",
              "      border-color: transparent;\n",
              "      border-bottom-color: var(--fill-color);\n",
              "    }\n",
              "  }\n",
              "</style>\n",
              "\n",
              "  <script>\n",
              "    async function quickchart(key) {\n",
              "      const quickchartButtonEl =\n",
              "        document.querySelector('#' + key + ' button');\n",
              "      quickchartButtonEl.disabled = true;  // To prevent multiple clicks.\n",
              "      quickchartButtonEl.classList.add('colab-df-spinner');\n",
              "      try {\n",
              "        const charts = await google.colab.kernel.invokeFunction(\n",
              "            'suggestCharts', [key], {});\n",
              "      } catch (error) {\n",
              "        console.error('Error during call to suggestCharts:', error);\n",
              "      }\n",
              "      quickchartButtonEl.classList.remove('colab-df-spinner');\n",
              "      quickchartButtonEl.classList.add('colab-df-quickchart-complete');\n",
              "    }\n",
              "    (() => {\n",
              "      let quickchartButtonEl =\n",
              "        document.querySelector('#df-c5adc128-0f97-4d64-9bc6-359537d988d3 button');\n",
              "      quickchartButtonEl.style.display =\n",
              "        google.colab.kernel.accessAllowed ? 'block' : 'none';\n",
              "    })();\n",
              "  </script>\n",
              "</div>\n",
              "    </div>\n",
              "  </div>\n"
            ],
            "application/vnd.google.colaboratory.intrinsic+json": {
              "type": "dataframe",
              "variable_name": "processed_df_detail",
              "summary": "{\n  \"name\": \"processed_df_detail\",\n  \"rows\": 1007,\n  \"fields\": [\n    {\n      \"column\": \"Blueprint\",\n      \"properties\": {\n        \"dtype\": \"string\",\n        \"num_unique_values\": 1006,\n        \"samples\": [\n          \"{'Analyze social media trends': {'next_modes': ['Craft tweets', 'Create Instagram stories', 'Produce promotional video'], 'failure': ['Retry', 'Exit', 'Log and Analyze']}, 'Craft tweets': {'next_modes': ['Analyzer'], 'failure': ['Retry', 'Fallback Content', 'Quality Assurance Check']}, 'Create Instagram stories': {'next_modes': ['Analyzer'], 'failure': ['Retry', 'Switch to Different Mode', 'Partial Content Delivery']}, 'Produce promotional video': {'next_modes': ['Analyzer'], 'failure': ['Retry', 'Request Human Intervention', 'Mode Optimization']}, 'Analyzer': {'next_modes': [], 'failure': None}}\",\n          \"{'Develop VR simulation': {'next_modes': ['Create audio guide'], 'failure': ['Retry', 'Exit', 'Fallback Content']}, 'Create audio guide': {'next_modes': ['Analyzer'], 'failure': ['Retry', 'Alternative Data Sources', 'Partial Content Delivery']}}\",\n          \"{'Translate short story to French': {'next_modes': ['Create audiobook in French'], 'failure': ['Retry', 'Exit', 'Request Human Intervention', 'Fallback Content']}, 'Create audiobook in French': {'next_modes': ['Analyzer'], 'failure': ['Retry', 'Switch to Different Mode', 'Log and Analyze', 'Quality Assurance Check']}, 'Analyzer': {'next_modes': [], 'failure': None}}\"\n        ],\n        \"semantic_type\": \"\",\n        \"description\": \"\"\n      }\n    },\n    {\n      \"column\": \"Detailed\",\n      \"properties\": {\n        \"dtype\": \"string\",\n        \"num_unique_values\": 1007,\n        \"samples\": [\n          \"{'Perform exhaustive research on climate change, gathering current data, trends, and expert opinions to inform the content of the series': {'next_modes': ['Compose detailed scripts that cover varied aspects of climate change, ensuring factual accuracy and audience engagement', 'Capture high-quality video footage that visually supports the scripted content'], 'failure': ['Retry the research incorporating recent findings', 'Exit the project if sufficient and reliable data cannot be obtained', 'Fallback Content with general climate education information', 'Log and Analyze difficulties in data gathering and expert consultation']}, 'Compose detailed scripts that cover varied aspects of climate change, ensuring factual accuracy and audience engagement, including outlines for visual aids': {'next_modes': ['Capture high-quality video footage that visually supports the scripted content'], 'failure': ['Retry with revisions based on peer or expert feedback', 'Request Human Intervention by consulting educational content experts', 'Quality Assurance Check to ensure alignment with educational standards']}, 'Capture high-quality video footage that visually supports the scripted content, including interviews with experts and on-location shots': {'next_modes': ['Use advanced editing software to piece together video clips, add visual effects, and overlay engaging narration'], 'failure': [\\\"Retry capturing footage that better aligns with the script's requirements\\\", 'Switch to Different Mode by incorporating stock footage or animation', 'Partial Content Delivery by focusing on the strongest segments produced so far']}, 'Use advanced editing software to piece together video clips, add visual effects, and overlay engaging narration, ensuring a cohesive and engaging narrative': {'next_modes': ['Publish the series on educational platforms and social media to reach a broad audience, accompanied by interactive learning materials'], 'failure': ['Retry with enhanced editing for clarity and engagement', 'Exit if the series does not meet educational quality standards', 'Quality Assurance Check for technical and narrative coherence', 'Mode Optimization by adjusting video formats for different platforms']}, 'Publish the series on educational platforms and social media to reach a broad audience, accompanied by interactive learning materials': {'next_modes': [], 'failure': None}}\",\n          \"{'Design and program a VR simulation that accurately depicts the chosen historical event, integrating interactive elements to engage users': {'next_modes': ['Record and synchronize a descriptive audio guide providing context and insights about the historical event within the VR simulation'], 'failure': ['Retry the development with adjusted historical accuracy or user engagement features', 'Exit the development if technical limitations are insurmountable', 'Fallback Content using a simplified version of the VR simulation']}, 'Record and synchronize a descriptive audio guide providing context and insights about the historical event within the VR simulation': {'next_modes': ['Perform a comprehensive quality assurance test on the VR simulation with the integrated audio guide'], 'failure': ['Retry the recording with improved script or audio quality', 'Alternative Data Sources for more accurate historical information', 'Partial Content Delivery with a note explaining missing elements']}}\",\n          \"{'Precisely translate the narrative, idiomatic expressions, and dialogues of the English short story to French, ensuring cultural nuances are respected': {'next_modes': [\\\"Narrate the translated French text, incorporating appropriate intonation and pacing to capture the story's mood\\\"], 'failure': ['Attempt translation again, perhaps consulting another language expert', 'Terminate the project if translation fidelity cannot be achieved', 'Notify a bilingual expert to review and intervene if necessary', 'Utilize a pre-existing French translation of a similar story as a placeholder']}, \\\"Narrate the translated French text, incorporating appropriate intonation and pacing to capture the story's mood\\\": {'next_modes': ['Perform final quality checks on the audiobook recording, focusing on clarity, volume, and listener engagement'], 'failure': ['Redo narration with adjustments based on feedback', 'Adopt a different storytelling technique or change narrator', 'Document the issue and analyze for recurrent problems', 'Ensure the audiobook passes a set of predefined quality standards']}, 'Perform final quality checks on the audiobook recording, focusing on clarity, volume, and listener engagement': {'next_modes': [], 'failure': None}}\"\n        ],\n        \"semantic_type\": \"\",\n        \"description\": \"\"\n      }\n    },\n    {\n      \"column\": \"Instruction\",\n      \"properties\": {\n        \"dtype\": \"string\",\n        \"num_unique_values\": 998,\n        \"samples\": [\n          \"Create a podcast episode discussing the impact of climate change on global agriculture, supported by expert interviews and soundscapes.\",\n          \"Write a short story, turn it into a screenplay, and then produce a trailer based on the screenplay.\",\n          \"Design a logo based on a client's brief, then create a promotional video showcasing the logo in various applications.\"\n        ],\n        \"semantic_type\": \"\",\n        \"description\": \"\"\n      }\n    },\n    {\n      \"column\": \"prompt\",\n      \"properties\": {\n        \"dtype\": \"string\",\n        \"num_unique_values\": 1007,\n        \"samples\": [\n          \"[INST]Below is an instruction that describes a composite task. Provide the structured detail planning for the following task.Create an educational video series on climate change, including research, scripting, filming, and editing before dissemination.[/INST]\\n\\n### Response:{'Perform exhaustive research on climate change, gathering current data, trends, and expert opinions to inform the content of the series': {'next_modes': ['Compose detailed scripts that cover varied aspects of climate change, ensuring factual accuracy and audience engagement', 'Capture high-quality video footage that visually supports the scripted content'], 'failure': ['Retry the research incorporating recent findings', 'Exit the project if sufficient and reliable data cannot be obtained', 'Fallback Content with general climate education information', 'Log and Analyze difficulties in data gathering and expert consultation']}, 'Compose detailed scripts that cover varied aspects of climate change, ensuring factual accuracy and audience engagement, including outlines for visual aids': {'next_modes': ['Capture high-quality video footage that visually supports the scripted content'], 'failure': ['Retry with revisions based on peer or expert feedback', 'Request Human Intervention by consulting educational content experts', 'Quality Assurance Check to ensure alignment with educational standards']}, 'Capture high-quality video footage that visually supports the scripted content, including interviews with experts and on-location shots': {'next_modes': ['Use advanced editing software to piece together video clips, add visual effects, and overlay engaging narration'], 'failure': [\\\"Retry capturing footage that better aligns with the script's requirements\\\", 'Switch to Different Mode by incorporating stock footage or animation', 'Partial Content Delivery by focusing on the strongest segments produced so far']}, 'Use advanced editing software to piece together video clips, add visual effects, and overlay engaging narration, ensuring a cohesive and engaging narrative': {'next_modes': ['Publish the series on educational platforms and social media to reach a broad audience, accompanied by interactive learning materials'], 'failure': ['Retry with enhanced editing for clarity and engagement', 'Exit if the series does not meet educational quality standards', 'Quality Assurance Check for technical and narrative coherence', 'Mode Optimization by adjusting video formats for different platforms']}, 'Publish the series on educational platforms and social media to reach a broad audience, accompanied by interactive learning materials': {'next_modes': [], 'failure': None}}\",\n          \"[INST]Below is an instruction that describes a composite task. Provide the structured detail planning for the following task.Develop a virtual reality (VR) simulation of a historical event, including a descriptive audio guide.[/INST]\\n\\n### Response:{'Design and program a VR simulation that accurately depicts the chosen historical event, integrating interactive elements to engage users': {'next_modes': ['Record and synchronize a descriptive audio guide providing context and insights about the historical event within the VR simulation'], 'failure': ['Retry the development with adjusted historical accuracy or user engagement features', 'Exit the development if technical limitations are insurmountable', 'Fallback Content using a simplified version of the VR simulation']}, 'Record and synchronize a descriptive audio guide providing context and insights about the historical event within the VR simulation': {'next_modes': ['Perform a comprehensive quality assurance test on the VR simulation with the integrated audio guide'], 'failure': ['Retry the recording with improved script or audio quality', 'Alternative Data Sources for more accurate historical information', 'Partial Content Delivery with a note explaining missing elements']}}\",\n          \"[INST]Below is an instruction that describes a composite task. Provide the structured detail planning for the following task.Translate a short story from English to French, then create an audiobook version of the French translation.[/INST]\\n\\n### Response:{'Precisely translate the narrative, idiomatic expressions, and dialogues of the English short story to French, ensuring cultural nuances are respected': {'next_modes': [\\\"Narrate the translated French text, incorporating appropriate intonation and pacing to capture the story's mood\\\"], 'failure': ['Attempt translation again, perhaps consulting another language expert', 'Terminate the project if translation fidelity cannot be achieved', 'Notify a bilingual expert to review and intervene if necessary', 'Utilize a pre-existing French translation of a similar story as a placeholder']}, \\\"Narrate the translated French text, incorporating appropriate intonation and pacing to capture the story's mood\\\": {'next_modes': ['Perform final quality checks on the audiobook recording, focusing on clarity, volume, and listener engagement'], 'failure': ['Redo narration with adjustments based on feedback', 'Adopt a different storytelling technique or change narrator', 'Document the issue and analyze for recurrent problems', 'Ensure the audiobook passes a set of predefined quality standards']}, 'Perform final quality checks on the audiobook recording, focusing on clarity, volume, and listener engagement': {'next_modes': [], 'failure': None}}\"\n        ],\n        \"semantic_type\": \"\",\n        \"description\": \"\"\n      }\n    },\n    {\n      \"column\": \"response\",\n      \"properties\": {\n        \"dtype\": \"string\",\n        \"num_unique_values\": 1007,\n        \"samples\": [\n          \"### Response:{'Perform exhaustive research on climate change, gathering current data, trends, and expert opinions to inform the content of the series': {'next_modes': ['Compose detailed scripts that cover varied aspects of climate change, ensuring factual accuracy and audience engagement', 'Capture high-quality video footage that visually supports the scripted content'], 'failure': ['Retry the research incorporating recent findings', 'Exit the project if sufficient and reliable data cannot be obtained', 'Fallback Content with general climate education information', 'Log and Analyze difficulties in data gathering and expert consultation']}, 'Compose detailed scripts that cover varied aspects of climate change, ensuring factual accuracy and audience engagement, including outlines for visual aids': {'next_modes': ['Capture high-quality video footage that visually supports the scripted content'], 'failure': ['Retry with revisions based on peer or expert feedback', 'Request Human Intervention by consulting educational content experts', 'Quality Assurance Check to ensure alignment with educational standards']}, 'Capture high-quality video footage that visually supports the scripted content, including interviews with experts and on-location shots': {'next_modes': ['Use advanced editing software to piece together video clips, add visual effects, and overlay engaging narration'], 'failure': [\\\"Retry capturing footage that better aligns with the script's requirements\\\", 'Switch to Different Mode by incorporating stock footage or animation', 'Partial Content Delivery by focusing on the strongest segments produced so far']}, 'Use advanced editing software to piece together video clips, add visual effects, and overlay engaging narration, ensuring a cohesive and engaging narrative': {'next_modes': ['Publish the series on educational platforms and social media to reach a broad audience, accompanied by interactive learning materials'], 'failure': ['Retry with enhanced editing for clarity and engagement', 'Exit if the series does not meet educational quality standards', 'Quality Assurance Check for technical and narrative coherence', 'Mode Optimization by adjusting video formats for different platforms']}, 'Publish the series on educational platforms and social media to reach a broad audience, accompanied by interactive learning materials': {'next_modes': [], 'failure': None}}\",\n          \"### Response:{'Design and program a VR simulation that accurately depicts the chosen historical event, integrating interactive elements to engage users': {'next_modes': ['Record and synchronize a descriptive audio guide providing context and insights about the historical event within the VR simulation'], 'failure': ['Retry the development with adjusted historical accuracy or user engagement features', 'Exit the development if technical limitations are insurmountable', 'Fallback Content using a simplified version of the VR simulation']}, 'Record and synchronize a descriptive audio guide providing context and insights about the historical event within the VR simulation': {'next_modes': ['Perform a comprehensive quality assurance test on the VR simulation with the integrated audio guide'], 'failure': ['Retry the recording with improved script or audio quality', 'Alternative Data Sources for more accurate historical information', 'Partial Content Delivery with a note explaining missing elements']}}\",\n          \"### Response:{'Precisely translate the narrative, idiomatic expressions, and dialogues of the English short story to French, ensuring cultural nuances are respected': {'next_modes': [\\\"Narrate the translated French text, incorporating appropriate intonation and pacing to capture the story's mood\\\"], 'failure': ['Attempt translation again, perhaps consulting another language expert', 'Terminate the project if translation fidelity cannot be achieved', 'Notify a bilingual expert to review and intervene if necessary', 'Utilize a pre-existing French translation of a similar story as a placeholder']}, \\\"Narrate the translated French text, incorporating appropriate intonation and pacing to capture the story's mood\\\": {'next_modes': ['Perform final quality checks on the audiobook recording, focusing on clarity, volume, and listener engagement'], 'failure': ['Redo narration with adjustments based on feedback', 'Adopt a different storytelling technique or change narrator', 'Document the issue and analyze for recurrent problems', 'Ensure the audiobook passes a set of predefined quality standards']}, 'Perform final quality checks on the audiobook recording, focusing on clarity, volume, and listener engagement': {'next_modes': [], 'failure': None}}\"\n        ],\n        \"semantic_type\": \"\",\n        \"description\": \"\"\n      }\n    },\n    {\n      \"column\": \"input_ids\",\n      \"properties\": {\n        \"dtype\": \"object\",\n        \"semantic_type\": \"\",\n        \"description\": \"\"\n      }\n    },\n    {\n      \"column\": \"attention_mask\",\n      \"properties\": {\n        \"dtype\": \"object\",\n        \"semantic_type\": \"\",\n        \"description\": \"\"\n      }\n    }\n  ]\n}"
            }
          },
          "metadata": {},
          "execution_count": 27
        }
      ],
      "source": [
        "processed_df_detail = processed_data_detail.to_pandas()\n",
        "processed_df_detail.head(5)"
      ]
    },
    {
      "cell_type": "code",
      "execution_count": null,
      "metadata": {
        "id": "fpDVg7HZZC66",
        "colab": {
          "base_uri": "https://localhost:8080/",
          "height": 17
        },
        "outputId": "cee78c8c-9c32-49d5-bc63-d513df001564"
      },
      "outputs": [
        {
          "output_type": "display_data",
          "data": {
            "text/plain": [
              "<IPython.core.display.HTML object>"
            ],
            "text/html": [
              "\n",
              "  <style>\n",
              "    pre {\n",
              "        white-space: pre-wrap;\n",
              "    }\n",
              "  </style>\n",
              "  "
            ]
          },
          "metadata": {}
        }
      ],
      "source": [
        "train_data_detail,test_data_detail=split_train_test_dataset(processed_data_detail)"
      ]
    },
    {
      "cell_type": "code",
      "execution_count": null,
      "metadata": {
        "id": "Dj-mTURqZeiw",
        "colab": {
          "base_uri": "https://localhost:8080/",
          "height": 34
        },
        "outputId": "6973dd51-6100-44c8-e833-010aad9418c1"
      },
      "outputs": [
        {
          "output_type": "display_data",
          "data": {
            "text/plain": [
              "<IPython.core.display.HTML object>"
            ],
            "text/html": [
              "\n",
              "  <style>\n",
              "    pre {\n",
              "        white-space: pre-wrap;\n",
              "    }\n",
              "  </style>\n",
              "  "
            ]
          },
          "metadata": {}
        },
        {
          "output_type": "stream",
          "name": "stdout",
          "text": [
            "906 101\n"
          ]
        }
      ],
      "source": [
        "print(len(train_data_detail),len(test_data_detail))"
      ]
    },
    {
      "cell_type": "code",
      "execution_count": null,
      "metadata": {
        "id": "izdmQ8Ll_meY",
        "colab": {
          "base_uri": "https://localhost:8080/",
          "height": 449
        },
        "outputId": "dbffdf6e-76d5-4487-96cf-c77b7a0b168f"
      },
      "outputs": [
        {
          "output_type": "display_data",
          "data": {
            "text/plain": [
              "<IPython.core.display.HTML object>"
            ],
            "text/html": [
              "\n",
              "  <style>\n",
              "    pre {\n",
              "        white-space: pre-wrap;\n",
              "    }\n",
              "  </style>\n",
              "  "
            ]
          },
          "metadata": {}
        },
        {
          "output_type": "display_data",
          "data": {
            "text/plain": [
              "<Figure size 640x480 with 1 Axes>"
            ],
            "image/png": "[encoded data removed]"
          },
          "metadata": {}
        }
      ],
      "source": [
        "from matplotlib import pyplot as plt\n",
        "\n",
        "token_counts = []\n",
        "for example in train_data_detail:\n",
        "    token_counts.append(\n",
        "        len(tokenizer(example['prompt'], add_special_tokens=True, return_attention_mask=False)[\"input_ids\"])\n",
        "    )\n",
        "plt.hist(token_counts)\n",
        "plt.xlabel(\"Tokens\")\n",
        "plt.ylabel(\"Count\")\n",
        "plt.show();"
      ]
    },
    {
      "cell_type": "code",
      "execution_count": null,
      "metadata": {
        "id": "ErLSwxPZ9SnS",
        "colab": {
          "base_uri": "https://localhost:8080/",
          "height": 17
        },
        "outputId": "83718a20-c61e-4585-a3aa-baf51497fda2"
      },
      "outputs": [
        {
          "output_type": "display_data",
          "data": {
            "text/plain": [
              "<IPython.core.display.HTML object>"
            ],
            "text/html": [
              "\n",
              "  <style>\n",
              "    pre {\n",
              "        white-space: pre-wrap;\n",
              "    }\n",
              "  </style>\n",
              "  "
            ]
          },
          "metadata": {}
        }
      ],
      "source": [
        "import torch\n",
        "from transformers import AutoModelForCausalLM,BitsAndBytesConfig\n",
        "\n",
        "def load_model_quantized(model_id: str = BASE_MODEL_NAME,device_map:Dict[str,int]={\"\": 0})->MistralForCausalLM:\n",
        "\n",
        "    bnb_config = BitsAndBytesConfig(\n",
        "        load_in_4bit=True,\n",
        "        bnb_4bit_use_double_quant=True,\n",
        "        bnb_4bit_quant_type=\"nf4\",\n",
        "        bnb_4bit_compute_dtype=torch.bfloat16,\n",
        "    )\n",
        "\n",
        "    model = AutoModelForCausalLM.from_pretrained(\n",
        "        model_id, quantization_config=bnb_config, device_map=device_map\n",
        "    )\n",
        "    return model"
      ]
    },
    {
      "cell_type": "code",
      "source": [
        "import torch\n",
        "from transformers import AutoModelForCausalLM\n",
        "\n",
        "def load_model(model_id: str = BASE_MODEL_NAME,device_map:Dict[str,int]={\"\": 0})->MistralForCausalLM:\n",
        "\n",
        "    model = AutoModelForCausalLM.from_pretrained(\n",
        "        model_id, quantization_config=bnb_config, device_map=device_map\n",
        "    )\n",
        "    return model"
      ],
      "metadata": {
        "colab": {
          "base_uri": "https://localhost:8080/",
          "height": 17
        },
        "id": "-5tk7ISCjIKA",
        "outputId": "92dd517d-0b92-499a-b5f3-9514a7bd25f7"
      },
      "execution_count": null,
      "outputs": [
        {
          "output_type": "display_data",
          "data": {
            "text/plain": [
              "<IPython.core.display.HTML object>"
            ],
            "text/html": [
              "\n",
              "  <style>\n",
              "    pre {\n",
              "        white-space: pre-wrap;\n",
              "    }\n",
              "  </style>\n",
              "  "
            ]
          },
          "metadata": {}
        }
      ]
    },
    {
      "cell_type": "code",
      "execution_count": null,
      "metadata": {
        "id": "LrybFetG5cZA",
        "colab": {
          "base_uri": "https://localhost:8080/",
          "height": 273,
          "referenced_widgets": [
            "945bdd9ce080499a8dd18d0bf6db57a3",
            "ae59a0e157be4d7aa3265aad5b7b4e78",
            "67def3580e2d45d8a7d4bcba5f7d3115",
            "c0211dba7e104c479da1eb2a54898464",
            "f0fbcdb1c47a4b60adfc3e75c691b4ab",
            "8f48d7d025ee40468a698d1e221b9f16",
            "be5ccd4673d84bed80b3c29bc14270ed",
            "ef7b63af5b1b465588aa153d71e44569",
            "86a6ab554dfc4f88a16c08b67be580e0",
            "615d4d756d614394b40265e16bcb444d",
            "eae172fbb3714c5980e9191190618ec1",
            "a03e3b7c0e664171a3a457482471355c",
            "0e9a22d90199491ba38a8ccff88e8f86",
            "07de2cc32cf543e39a0acf746380d969",
            "7968c3366f574e749f43275153310d8a",
            "7d436516bced4a1fab18f64d046c40f0",
            "d4202fdfb2e64e3f9a2a0976a62b3b5f",
            "2f0c32f3fdd34fe095077c12244a9bdb",
            "85924ab725d04fdb987a2682491068a4",
            "16eec0cd317d4d75a5bbbd52a0c574e1",
            "86645d892294401480eba37956d9e5ff",
            "d7f8436aee8c4c77bfee0e5e5735f7ea",
            "ba553e6b5d5d4497bb3b6fb3f1123f6d",
            "ed86cac47ed14d8ba6691b4f51b3108f",
            "afa6cba46ddf451ea0aaea2c24115e65",
            "2e7959bdb9324c6aaaf92d476901f700",
            "598bae271fc646d0b9db4f2042fdcdf3",
            "0c685d522a684d43bac14e87d5884fc6",
            "d4528e10926d479188f33ab58409782f",
            "90d6a2134fff4601ae1cdd501414c437",
            "4b63a96423c741deb235df761bc2f5ee",
            "2791e7f7c7724fe7a0fa584c19d93ad6",
            "d54a0ddd4716493dad450ad28894e72c",
            "47d780753d9c4a9482f83ba759163ce6",
            "b0a7353386094c66bb99d5837c12d60e",
            "433c29aa389a44cfa333df2e32c96551",
            "7e7fce8b1a1e4765b241baed5576f457",
            "915ccc9ee2c14960af0d3ec18039e86d",
            "5ce50a149fef4981a93e0791426950a3",
            "ce5a4fdaba7040aca3f14c46a60da1e5",
            "f7fb745e73a84387a9ed869795f9b257",
            "b50f4921f5684f1ea985da6eece78645",
            "fe078882822c4b8684a4d82eb1110ecb",
            "9ad644cc7c664400aa9b18973be7ff4e",
            "4a39f07e8efd4e04823e823888c6eb61",
            "2cf246acf98544049586b00920ec678f",
            "f2e92aa6485248d28817ca27f73984f8",
            "e00ca0a476b54b06973c3c43bc652e48",
            "e9b5d65f1075435fa02ac335ae620904",
            "0087d46ca6fc42b8bdea19c71a1440b3",
            "28315bf93aab4b17856452fc2ad0b350",
            "f534b95eed854929932f4674af83f8e0",
            "cfae4e657b55471386f56ad30537fbee",
            "36bd64c444f645b4991392dcbe4a4e47",
            "8802c8fb69f544358f35601bbea8f865",
            "843942ed24724294b9d8849426b7aeef",
            "b182bcd904994d919b4bbdae5b273236",
            "c6ca50c6ef7848b0a0fe9a06aaeb7e6b",
            "d95d8f125aab49c5b7a66702ce97c34a",
            "f6892e7af5494c789b38ea26be3e22ff",
            "4096466609054f40a3cf2d121de5635d",
            "12f169c75c444301adee29d66e056c3f",
            "8650aedb83534ab187822222e7aa8431",
            "9602dcc85bad4337ae4609e4d7b1e928",
            "92a8f8e9d0b94ddea5995f3582aec000",
            "6ddf4eb2997946c0b58080bb814bccd1",
            "94c643889da84552850592272b610e2f",
            "63c94248e98d4193aefb68386e60d9a0",
            "f4dce374af8e4eb9940d32b6ca5ae9df",
            "f1fbd74ea8674f7fa17cc8d32ab7f5dd",
            "ffdc74122c204bc29342e9b252c0693a",
            "7e58f27256844d7183c4f1fb24e92df8",
            "16d9dde0d7284136b9a0f16c590b1dfb",
            "8d5e15da4a274847bb51153f1ae04157",
            "cb46fc32664d43e39774c87b96b44260",
            "8b19d934339e4310a3e192b5ebd4e5a9",
            "6488bba3c038481fa44bd21e37fded0d",
            "ccc69ebfe5d54e71b8f5895673fa7557",
            "53c14d042a324033a4443adbb49f1d41",
            "7d189676bc884d93bb29b06fd003097b",
            "4cc6d07ae9014a7abd947881a42ada59",
            "86fc12a0b345409bb6fca6cd7f028e50",
            "1f16a28ae4c5441da27b305938350b73",
            "4c3f282bf05b4a55a8e0b5ef9aba7720",
            "87c23bf228e942eaabab25d1bca0dee4",
            "0441a70a16854bada5e7b1cc6f8c4d99",
            "2592050b573f403fb3ac4510297ae34d",
            "b31d1ada5dd246fa9e2fc76d7fe2ef23"
          ]
        },
        "outputId": "8042b1d6-f740-4371-b398-cc0e78362a63"
      },
      "outputs": [
        {
          "output_type": "display_data",
          "data": {
            "text/plain": [
              "<IPython.core.display.HTML object>"
            ],
            "text/html": [
              "\n",
              "  <style>\n",
              "    pre {\n",
              "        white-space: pre-wrap;\n",
              "    }\n",
              "  </style>\n",
              "  "
            ]
          },
          "metadata": {}
        },
        {
          "output_type": "display_data",
          "data": {
            "text/plain": [
              "config.json:   0%|          | 0.00/596 [00:00<?, ?B/s]"
            ],
            "application/vnd.jupyter.widget-view+json": {
              "version_major": 2,
              "version_minor": 0,
              "model_id": "945bdd9ce080499a8dd18d0bf6db57a3"
            }
          },
          "metadata": {}
        },
        {
          "output_type": "display_data",
          "data": {
            "text/plain": [
              "model.safetensors.index.json:   0%|          | 0.00/25.1k [00:00<?, ?B/s]"
            ],
            "application/vnd.jupyter.widget-view+json": {
              "version_major": 2,
              "version_minor": 0,
              "model_id": "a03e3b7c0e664171a3a457482471355c"
            }
          },
          "metadata": {}
        },
        {
          "output_type": "display_data",
          "data": {
            "text/plain": [
              "Downloading shards:   0%|          | 0/3 [00:00<?, ?it/s]"
            ],
            "application/vnd.jupyter.widget-view+json": {
              "version_major": 2,
              "version_minor": 0,
              "model_id": "ba553e6b5d5d4497bb3b6fb3f1123f6d"
            }
          },
          "metadata": {}
        },
        {
          "output_type": "display_data",
          "data": {
            "text/plain": [
              "model-00001-of-00003.safetensors:   0%|          | 0.00/4.94G [00:00<?, ?B/s]"
            ],
            "application/vnd.jupyter.widget-view+json": {
              "version_major": 2,
              "version_minor": 0,
              "model_id": "47d780753d9c4a9482f83ba759163ce6"
            }
          },
          "metadata": {}
        },
        {
          "output_type": "display_data",
          "data": {
            "text/plain": [
              "model-00002-of-00003.safetensors:   0%|          | 0.00/5.00G [00:00<?, ?B/s]"
            ],
            "application/vnd.jupyter.widget-view+json": {
              "version_major": 2,
              "version_minor": 0,
              "model_id": "4a39f07e8efd4e04823e823888c6eb61"
            }
          },
          "metadata": {}
        },
        {
          "output_type": "display_data",
          "data": {
            "text/plain": [
              "model-00003-of-00003.safetensors:   0%|          | 0.00/4.54G [00:00<?, ?B/s]"
            ],
            "application/vnd.jupyter.widget-view+json": {
              "version_major": 2,
              "version_minor": 0,
              "model_id": "843942ed24724294b9d8849426b7aeef"
            }
          },
          "metadata": {}
        },
        {
          "output_type": "display_data",
          "data": {
            "text/plain": [
              "Loading checkpoint shards:   0%|          | 0/3 [00:00<?, ?it/s]"
            ],
            "application/vnd.jupyter.widget-view+json": {
              "version_major": 2,
              "version_minor": 0,
              "model_id": "94c643889da84552850592272b610e2f"
            }
          },
          "metadata": {}
        },
        {
          "output_type": "display_data",
          "data": {
            "text/plain": [
              "generation_config.json:   0%|          | 0.00/111 [00:00<?, ?B/s]"
            ],
            "application/vnd.jupyter.widget-view+json": {
              "version_major": 2,
              "version_minor": 0,
              "model_id": "ccc69ebfe5d54e71b8f5895673fa7557"
            }
          },
          "metadata": {}
        }
      ],
      "source": [
        "model=load_model_quantized()"
      ]
    },
    {
      "cell_type": "code",
      "execution_count": null,
      "metadata": {
        "id": "cIBtryLB_0YG",
        "colab": {
          "base_uri": "https://localhost:8080/",
          "height": 17
        },
        "outputId": "62b624a1-89db-4217-b04c-d26c76c02c5e"
      },
      "outputs": [
        {
          "output_type": "display_data",
          "data": {
            "text/plain": [
              "<IPython.core.display.HTML object>"
            ],
            "text/html": [
              "\n",
              "  <style>\n",
              "    pre {\n",
              "        white-space: pre-wrap;\n",
              "    }\n",
              "  </style>\n",
              "  "
            ]
          },
          "metadata": {}
        }
      ],
      "source": [
        "# Resize token embeddings\n",
        "model.resize_token_embeddings(len(tokenizer))\n",
        "\n",
        "# Update pad token id in model and its config\n",
        "model.pad_token_id = tokenizer.pad_token_id\n",
        "model.config.pad_token_id = tokenizer.pad_token_id\n",
        "\n",
        "# Check if they are equal\n",
        "assert model.pad_token_id == tokenizer.pad_token_id, \"The model's pad token ID does not match the tokenizer's pad token ID\""
      ]
    },
    {
      "cell_type": "code",
      "execution_count": null,
      "metadata": {
        "id": "KPX7SJvGNfbL",
        "colab": {
          "base_uri": "https://localhost:8080/",
          "height": 17
        },
        "outputId": "d9698f7e-897d-44d3-8d8b-37d96bce924e"
      },
      "outputs": [
        {
          "output_type": "display_data",
          "data": {
            "text/plain": [
              "<IPython.core.display.HTML object>"
            ],
            "text/html": [
              "\n",
              "  <style>\n",
              "    pre {\n",
              "        white-space: pre-wrap;\n",
              "    }\n",
              "  </style>\n",
              "  "
            ]
          },
          "metadata": {}
        }
      ],
      "source": [
        "stop_keywords = [\"</s>\",\" </s>\", \"</s> \"]"
      ]
    },
    {
      "cell_type": "code",
      "execution_count": null,
      "metadata": {
        "id": "pSL01qzVnBRz",
        "colab": {
          "base_uri": "https://localhost:8080/",
          "height": 119
        },
        "outputId": "e787ee63-b566-4f21-caf8-ec9ea15ca238"
      },
      "outputs": [
        {
          "output_type": "display_data",
          "data": {
            "text/plain": [
              "<IPython.core.display.HTML object>"
            ],
            "text/html": [
              "\n",
              "  <style>\n",
              "    pre {\n",
              "        white-space: pre-wrap;\n",
              "    }\n",
              "  </style>\n",
              "  "
            ]
          },
          "metadata": {}
        },
        {
          "output_type": "stream",
          "name": "stdout",
          "text": [
            "[INST]Below is an instruction that describes a composite task. Provide the structured detailed planning for the following task. Your response should be in the form of a dictionary with transitions (one-to-one or one-to-many depending on the task) between different subtasks and appropriate failure handling options. Organize a virtual conference with multiple speakers, create a landing page for the event, and curate a playlist of background music appropriate for breaks.[/INST]\n",
            "\n",
            "### Response:\n"
          ]
        }
      ],
      "source": [
        "pred_prompt=format_prediction_detail_instruct_fn(test_data_detail[0])\n",
        "print(pred_prompt)"
      ]
    },
    {
      "cell_type": "code",
      "execution_count": null,
      "metadata": {
        "id": "C-XpmGpMJJ9j",
        "colab": {
          "base_uri": "https://localhost:8080/",
          "height": 782
        },
        "outputId": "b7fd16ed-f491-4a3f-a08b-9a6f62507b22"
      },
      "outputs": [
        {
          "output_type": "display_data",
          "data": {
            "text/plain": [
              "<IPython.core.display.HTML object>"
            ],
            "text/html": [
              "\n",
              "  <style>\n",
              "    pre {\n",
              "        white-space: pre-wrap;\n",
              "    }\n",
              "  </style>\n",
              "  "
            ]
          },
          "metadata": {}
        },
        {
          "output_type": "stream",
          "name": "stderr",
          "text": [
            "The attention mask and the pad token id were not set. As a consequence, you may observe unexpected behavior. Please pass your input's `attention_mask` to obtain reliable results.\n",
            "Setting `pad_token_id` to `eos_token_id`:2 for open-end generation.\n",
            "MistralModel is using MistralSdpaAttention, but `torch.nn.functional.scaled_dot_product_attention` does not support `output_attentions=True`. Falling back to the manual attention implementation, but specifying the manual implementation will be required from Transformers version v5.0.0 onwards. This warning can be removed using the argument `attn_implementation=\"eager\"` when loading the model.\n"
          ]
        },
        {
          "output_type": "stream",
          "name": "stdout",
          "text": [
            "```python\n",
            "conference = {\n",
            "    \"organize_virtual_conference\": {\n",
            "        \"choose_conference_platform\": {\n",
            "            \"research_platforms\": \"Search for virtual conference platforms\",\n",
            "            \"compare_features\": \"Compare features of shortlisted platforms\",\n",
            "            \"select_platform\": \"Select the preferred conference platform\",\n",
            "            \"failure\": \"If no suitable platform is found, consider alternative solutions like custom-built solutions or alternative platforms\"\n",
            "        },\n",
            "        \"invite_speakers\": {\n",
            "            \"identify_potential_speakers\": \"Research and identify potential speakers\",\n",
            "            \"send_invitations\": \"Send invitations to speakers with all necessary details\",\n",
            "            \"follow_up\": \"Follow up with speakers for confirmation\",\n",
            "            \"failure\": \"If a speaker declines or fails to respond, consider backup speakers\"\n",
            "        },\n",
            "        \"schedule_sessions\": {\n",
            "            \"coordinate_with_speakers\": \"Coordinate with speakers to finalize session times\",\n",
            "            \"create_schedule\": \"Create a finalized schedule for the conference\",\n",
            "            \"failure\": \"If a speaker is unable to make it on the scheduled time, consider rescheduling or finding a backup speaker\"\n",
            "        },\n",
            "        \"technical_setup\": {\n",
            "            \"test_equipment\": \"Test all necessary equipment for the conference\",\n",
            "            \"troubleshoot\": \"Troubleshoot any technical issues\",\n",
            "            \"failure\": \"If technical issues persist, consider alternative solutions like using a backup platform or equipment\"\n",
            "        }\n",
            "    },\n",
            "    \"create_landing_page\": {\n",
            "        \"design_page\": \"Design the landing page for the event\",\n",
            "        \"add_event_details\": \"Add all necessary details about the conference\",\n",
            "        \"publish_page\": \"Publish the landing page\",\n",
            "        \"failure\": \"If unable to publish the page, consider alternative publishing methods or platforms\"\n",
            "    },\n",
            "    \"curate_background_music\": {\n",
            "        \"select_music\": \"Select appropriate background music for breaks\",\n",
            "        \"obtain_music_rights\": \"Obtain necessary music rights or licenses\",\n",
            "        \"create_playlist\": \"Create a playlist of selected background music\",\n",
            "        \"failure\": \"If unable to obtain music rights, consider\n"
          ]
        }
      ],
      "source": [
        "output_base=get_completion(pred_prompt, model, tokenizer, stop_keywords, KeywordsStoppingCriteria)\n",
        "print(output_base)"
      ]
    },
    {
      "cell_type": "code",
      "execution_count": null,
      "metadata": {
        "id": "evzPaUbTZkwD",
        "colab": {
          "base_uri": "https://localhost:8080/",
          "height": 17
        },
        "outputId": "87523e90-cb91-42f2-af12-1f30f43921fa"
      },
      "outputs": [
        {
          "output_type": "display_data",
          "data": {
            "text/plain": [
              "<IPython.core.display.HTML object>"
            ],
            "text/html": [
              "\n",
              "  <style>\n",
              "    pre {\n",
              "        white-space: pre-wrap;\n",
              "    }\n",
              "  </style>\n",
              "  "
            ]
          },
          "metadata": {}
        }
      ],
      "source": [
        "from peft import prepare_model_for_kbit_training,get_peft_model\n",
        "\n",
        "def prepare_model_for_qlora_training(model:MistralForCausalLM,lora_config)->MistralForCausalLM:\n",
        "  # Enable gradient checkpointing for the model\n",
        "  model.gradient_checkpointing_enable()\n",
        "\n",
        "  # Prepare the model for k-bit training using the \"prepare_model_for_kbit_training\" function\n",
        "  model = prepare_model_for_kbit_training(model)\n",
        "\n",
        "  # Get a model with LoRA applied to it using the defined configuration\n",
        "  model = get_peft_model(model, lora_config)\n",
        "\n",
        "  return model"
      ]
    },
    {
      "cell_type": "code",
      "execution_count": null,
      "metadata": {
        "id": "GxTGbsO0kEij",
        "colab": {
          "base_uri": "https://localhost:8080/",
          "height": 17
        },
        "outputId": "a56f45b9-6985-4d5e-d383-508642b76223"
      },
      "outputs": [
        {
          "output_type": "display_data",
          "data": {
            "text/plain": [
              "<IPython.core.display.HTML object>"
            ],
            "text/html": [
              "\n",
              "  <style>\n",
              "    pre {\n",
              "        white-space: pre-wrap;\n",
              "    }\n",
              "  </style>\n",
              "  "
            ]
          },
          "metadata": {}
        }
      ],
      "source": [
        "def print_trainable_parameters(model:MistralForCausalLM)->NoReturn:\n",
        "    \"\"\"\n",
        "    Prints the number of trainable parameters in the model.\n",
        "    \"\"\"\n",
        "    trainable_params = 0\n",
        "    all_param = 0\n",
        "    # Iterate through model parameters\n",
        "    for _, param in model.named_parameters():\n",
        "        all_param += param.numel()\n",
        "        if param.requires_grad:\n",
        "            trainable_params += param.numel()\n",
        "    # Print the number of trainable parameters, total parameters, and the percentage of trainable parameters\n",
        "    print(\n",
        "        f\"trainable params: {trainable_params} || all params: {all_param} || trainable%: {100 * trainable_params / all_param}\"\n",
        "    )"
      ]
    },
    {
      "cell_type": "code",
      "execution_count": null,
      "metadata": {
        "id": "wbM28NnIbsR2",
        "colab": {
          "base_uri": "https://localhost:8080/",
          "height": 17
        },
        "outputId": "4519f15f-12f1-43e1-c480-690ae2634295"
      },
      "outputs": [
        {
          "output_type": "display_data",
          "data": {
            "text/plain": [
              "<IPython.core.display.HTML object>"
            ],
            "text/html": [
              "\n",
              "  <style>\n",
              "    pre {\n",
              "        white-space: pre-wrap;\n",
              "    }\n",
              "  </style>\n",
              "  "
            ]
          },
          "metadata": {}
        }
      ],
      "source": [
        "from trl import DataCollatorForCompletionOnlyLM\n",
        "\n",
        "def custom_collator(tokenizer:LlamaTokenizerFast,response_template_with_context:str = \"\\n### Response:\"):\n",
        "  response_template_ids = tokenizer.encode(response_template_with_context, add_special_tokens=False)[2:]\n",
        "  collator = DataCollatorForCompletionOnlyLM(response_template_ids, tokenizer=tokenizer)\n",
        "  return collator"
      ]
    },
    {
      "cell_type": "code",
      "execution_count": null,
      "metadata": {
        "id": "-iJRQRRwe433",
        "colab": {
          "base_uri": "https://localhost:8080/",
          "height": 17
        },
        "outputId": "cf529a80-b89c-4756-b79c-636d68956bc8"
      },
      "outputs": [
        {
          "output_type": "display_data",
          "data": {
            "text/plain": [
              "<IPython.core.display.HTML object>"
            ],
            "text/html": [
              "\n",
              "  <style>\n",
              "    pre {\n",
              "        white-space: pre-wrap;\n",
              "    }\n",
              "  </style>\n",
              "  "
            ]
          },
          "metadata": {}
        }
      ],
      "source": [
        "from transformers import Trainer\n",
        "\n",
        "def qlora_training_with_custom_collator(training_args,model:MistralForCausalLM,tokenizer:LlamaTokenizerFast,train_data,test_data,collator):\n",
        "  # Create a trainer for fine-tuning a model\n",
        "  trainer = Trainer(\n",
        "      model=model,               # The model to be trained\n",
        "      train_dataset=train_data,  # Training dataset\n",
        "      eval_dataset=test_data,    # Evaluation dataset\n",
        "      args=training_args,\n",
        "      data_collator=collator,    # Custom data collator for completion\n",
        "  )\n",
        "\n",
        "  model.config.use_cache = False  # silence the warnings. Please re-enable for inference!\n",
        "\n",
        "  trainer.train()\n",
        "\n",
        "  return trainer, tokenizer, model"
      ]
    },
    {
      "cell_type": "code",
      "execution_count": null,
      "metadata": {
        "id": "qROqi401kVu2",
        "colab": {
          "base_uri": "https://localhost:8080/",
          "height": 17
        },
        "outputId": "bb7723cd-916d-491a-ccaf-154422f6b294"
      },
      "outputs": [
        {
          "output_type": "display_data",
          "data": {
            "text/plain": [
              "<IPython.core.display.HTML object>"
            ],
            "text/html": [
              "\n",
              "  <style>\n",
              "    pre {\n",
              "        white-space: pre-wrap;\n",
              "    }\n",
              "  </style>\n",
              "  "
            ]
          },
          "metadata": {}
        }
      ],
      "source": [
        "from peft import LoraConfig\n",
        "\n",
        "# Define a configuration for the LoRA (Learnable Requantization Activation) method\n",
        "lora_config = LoraConfig(\n",
        "    r=8,                                   # Number of quantization levels\n",
        "    lora_alpha=32,                         # Hyperparameter for LoRA\n",
        "    target_modules=[\"q_proj\",\n",
        "                    \"k_proj\",\n",
        "                    \"v_proj\",\n",
        "                    \"o_proj\",\n",
        "                    \"gate_proj\",\n",
        "                    \"up_proj\",\n",
        "                    \"down_proj\"\n",
        "                    ],             # Modules to apply LoRA to\n",
        "    lora_dropout=0.05,                     # Dropout probability\n",
        "    bias=\"none\",                           # Type of bias\n",
        "    task_type=\"CAUSAL_LM\"                  # Task type (in this case, Causal Language Modeling)\n",
        ")"
      ]
    },
    {
      "cell_type": "code",
      "source": [
        "from transformers import TrainingArguments"
      ],
      "metadata": {
        "id": "lUgoYozS3JFX",
        "colab": {
          "base_uri": "https://localhost:8080/",
          "height": 17
        },
        "outputId": "ac99bc87-2138-4cf3-91c5-978cc4f94c0d"
      },
      "execution_count": null,
      "outputs": [
        {
          "output_type": "display_data",
          "data": {
            "text/plain": [
              "<IPython.core.display.HTML object>"
            ],
            "text/html": [
              "\n",
              "  <style>\n",
              "    pre {\n",
              "        white-space: pre-wrap;\n",
              "    }\n",
              "  </style>\n",
              "  "
            ]
          },
          "metadata": {}
        }
      ]
    },
    {
      "cell_type": "code",
      "execution_count": null,
      "metadata": {
        "id": "-eW2UwJSk8ry",
        "colab": {
          "base_uri": "https://localhost:8080/",
          "height": 68
        },
        "outputId": "175c7854-db09-4fc7-b390-d16fdaa1e14a"
      },
      "outputs": [
        {
          "output_type": "display_data",
          "data": {
            "text/plain": [
              "<IPython.core.display.HTML object>"
            ],
            "text/html": [
              "\n",
              "  <style>\n",
              "    pre {\n",
              "        white-space: pre-wrap;\n",
              "    }\n",
              "  </style>\n",
              "  "
            ]
          },
          "metadata": {}
        },
        {
          "output_type": "stream",
          "name": "stderr",
          "text": [
            "/usr/local/lib/python3.10/dist-packages/transformers/training_args.py:1474: FutureWarning: `evaluation_strategy` is deprecated and will be removed in version 4.46 of 🤗 Transformers. Use `eval_strategy` instead\n",
            "  warnings.warn(\n"
          ]
        }
      ],
      "source": [
        "# Define a configuration for the training\n",
        "training_args_detail=TrainingArguments(\n",
        "        per_device_train_batch_size=4,        # Batch size per device during training\n",
        "        gradient_accumulation_steps=4,        # Number of gradient accumulation steps\n",
        "        gradient_checkpointing=True,\n",
        "        warmup_ratio = 0.03 ,                 # Number of warm-up steps for learning rate\n",
        "        max_steps=100,                        # Maximum number of training steps\n",
        "        learning_rate=5e-5,                   # Learning rate\n",
        "        lr_scheduler_type=\"cosine\",           # cosine learning rate scheduler\n",
        "        # bf16=True,                          # Enable mixed-precision training (Amper GPU)\n",
        "        fp16=True,\n",
        "        logging_steps=1,                      # Logging frequency during training\n",
        "        output_dir=OUTPUT_DIR_NAME,           # Directory to save output files\n",
        "        optim=\"paged_adamw_32bit\",            # Optimizer type\n",
        "        save_strategy=\"epoch\",                # Strategy for saving checkpoints\n",
        "        # push_to_hub=True                    # Push to the Hugging Face model hub\n",
        "        report_to=\"wandb\",\n",
        "        do_eval=True,\n",
        "        evaluation_strategy=\"steps\",\n",
        "        eval_steps=5,\n",
        "    )"
      ]
    },
    {
      "cell_type": "code",
      "execution_count": null,
      "metadata": {
        "id": "wrGTlqBQn8h2",
        "colab": {
          "base_uri": "https://localhost:8080/",
          "height": 17
        },
        "outputId": "48fcac7d-e037-458b-9f83-fb659cb2744a"
      },
      "outputs": [
        {
          "output_type": "display_data",
          "data": {
            "text/plain": [
              "<IPython.core.display.HTML object>"
            ],
            "text/html": [
              "\n",
              "  <style>\n",
              "    pre {\n",
              "        white-space: pre-wrap;\n",
              "    }\n",
              "  </style>\n",
              "  "
            ]
          },
          "metadata": {}
        }
      ],
      "source": [
        "model = prepare_model_for_qlora_training(model,lora_config)"
      ]
    },
    {
      "cell_type": "code",
      "execution_count": null,
      "metadata": {
        "id": "1l8m3m7Fn-CP",
        "colab": {
          "base_uri": "https://localhost:8080/",
          "height": 34
        },
        "outputId": "3bd81648-9c2f-4fff-e2d7-2dad521e5b9f"
      },
      "outputs": [
        {
          "output_type": "display_data",
          "data": {
            "text/plain": [
              "<IPython.core.display.HTML object>"
            ],
            "text/html": [
              "\n",
              "  <style>\n",
              "    pre {\n",
              "        white-space: pre-wrap;\n",
              "    }\n",
              "  </style>\n",
              "  "
            ]
          },
          "metadata": {}
        },
        {
          "output_type": "stream",
          "name": "stdout",
          "text": [
            "trainable params: 20971520 || all params: 3773050880 || trainable%: 0.5558239384251293\n"
          ]
        }
      ],
      "source": [
        "# Print the number of trainable parameters in the model after applying LoRA\n",
        "print_trainable_parameters(model)"
      ]
    },
    {
      "cell_type": "code",
      "execution_count": null,
      "metadata": {
        "id": "id-8xvOCchqZ",
        "colab": {
          "base_uri": "https://localhost:8080/",
          "height": 17
        },
        "outputId": "3ef0bc49-afd3-4fdf-de82-57bdc3b65c19"
      },
      "outputs": [
        {
          "output_type": "display_data",
          "data": {
            "text/plain": [
              "<IPython.core.display.HTML object>"
            ],
            "text/html": [
              "\n",
              "  <style>\n",
              "    pre {\n",
              "        white-space: pre-wrap;\n",
              "    }\n",
              "  </style>\n",
              "  "
            ]
          },
          "metadata": {}
        }
      ],
      "source": [
        "collator=custom_collator(tokenizer)"
      ]
    },
    {
      "cell_type": "code",
      "source": [
        "wandb.init(project=\"fine-tune mistral 7b for detailed planning v2\", name=\"detail_planning_v2\")"
      ],
      "metadata": {
        "colab": {
          "base_uri": "https://localhost:8080/",
          "height": 201,
          "referenced_widgets": [
            "a5bc82a7cfff48859ab3dac9881334a9",
            "a3e17c1328734f67b2dfff4a715d265b",
            "2a46614d53a646f99c91e79ebb1f6592",
            "77b7d6bc4715432eaf48bde12844e7fc",
            "0f49180ed1364afd873475756f86d6b9",
            "61d38d39596b4957a55c96514b8d471a",
            "54f30190b97b4bdc9b70fe26d27b19d2",
            "4c7f2a6fe1e74ecbbed6b9f18fdf0d5c"
          ]
        },
        "id": "RpqHtm3daf4N",
        "outputId": "3c2fe78e-bea2-4b93-c4a8-22174eb957df"
      },
      "execution_count": null,
      "outputs": [
        {
          "output_type": "display_data",
          "data": {
            "text/plain": [
              "<IPython.core.display.HTML object>"
            ],
            "text/html": [
              "\n",
              "  <style>\n",
              "    pre {\n",
              "        white-space: pre-wrap;\n",
              "    }\n",
              "  </style>\n",
              "  "
            ]
          },
          "metadata": {}
        },
        {
          "output_type": "stream",
          "name": "stderr",
          "text": [
            "\u001b[34m\u001b[1mwandb\u001b[0m: Currently logged in as: \u001b[33mashmsn8665\u001b[0m. Use \u001b[1m`wandb login --relogin`\u001b[0m to force relogin\n"
          ]
        },
        {
          "output_type": "display_data",
          "data": {
            "text/plain": [
              "VBox(children=(Label(value='Waiting for wandb.init()...\\r'), FloatProgress(value=0.011112327122221662, max=1.0…"
            ],
            "application/vnd.jupyter.widget-view+json": {
              "version_major": 2,
              "version_minor": 0,
              "model_id": "a5bc82a7cfff48859ab3dac9881334a9"
            }
          },
          "metadata": {}
        },
        {
          "output_type": "display_data",
          "data": {
            "text/plain": [
              "<IPython.core.display.HTML object>"
            ],
            "text/html": [
              "Tracking run with wandb version 0.17.0"
            ]
          },
          "metadata": {}
        },
        {
          "output_type": "display_data",
          "data": {
            "text/plain": [
              "<IPython.core.display.HTML object>"
            ],
            "text/html": [
              "Run data is saved locally in <code>/content/wandb/run-20240510_082433-a1zu1z8d</code>"
            ]
          },
          "metadata": {}
        },
        {
          "output_type": "display_data",
          "data": {
            "text/plain": [
              "<IPython.core.display.HTML object>"
            ],
            "text/html": [
              "Syncing run <strong><a href='https://wandb.ai/ashmsn8665/fine-tune%20mistral%207b%20for%20detailed%20planning%20v2/runs/a1zu1z8d' target=\"_blank\">detail_planning_v2</a></strong> to <a href='https://wandb.ai/ashmsn8665/fine-tune%20mistral%207b%20for%20detailed%20planning%20v2' target=\"_blank\">Weights & Biases</a> (<a href='https://wandb.me/run' target=\"_blank\">docs</a>)<br/>"
            ]
          },
          "metadata": {}
        },
        {
          "output_type": "display_data",
          "data": {
            "text/plain": [
              "<IPython.core.display.HTML object>"
            ],
            "text/html": [
              " View project at <a href='https://wandb.ai/ashmsn8665/fine-tune%20mistral%207b%20for%20detailed%20planning%20v2' target=\"_blank\">https://wandb.ai/ashmsn8665/fine-tune%20mistral%207b%20for%20detailed%20planning%20v2</a>"
            ]
          },
          "metadata": {}
        },
        {
          "output_type": "display_data",
          "data": {
            "text/plain": [
              "<IPython.core.display.HTML object>"
            ],
            "text/html": [
              " View run at <a href='https://wandb.ai/ashmsn8665/fine-tune%20mistral%207b%20for%20detailed%20planning%20v2/runs/a1zu1z8d' target=\"_blank\">https://wandb.ai/ashmsn8665/fine-tune%20mistral%207b%20for%20detailed%20planning%20v2/runs/a1zu1z8d</a>"
            ]
          },
          "metadata": {}
        },
        {
          "output_type": "execute_result",
          "data": {
            "text/html": [
              "<button onClick=\"this.nextSibling.style.display='block';this.style.display='none';\">Display W&B run</button><iframe src='https://wandb.ai/ashmsn8665/fine-tune%20mistral%207b%20for%20detailed%20planning%20v2/runs/a1zu1z8d?jupyter=true' style='border:none;width:100%;height:420px;display:none;'></iframe>"
            ],
            "text/plain": [
              "<wandb.sdk.wandb_run.Run at 0x7836bbacf9d0>"
            ]
          },
          "metadata": {},
          "execution_count": 48
        }
      ]
    },
    {
      "cell_type": "code",
      "execution_count": null,
      "metadata": {
        "id": "vFjrLaUZCh1N",
        "colab": {
          "base_uri": "https://localhost:8080/",
          "height": 1000
        },
        "outputId": "d818a1d2-e8f7-4b0c-e01a-87e5b4bbc285"
      },
      "outputs": [
        {
          "output_type": "display_data",
          "data": {
            "text/plain": [
              "<IPython.core.display.HTML object>"
            ],
            "text/html": [
              "\n",
              "  <style>\n",
              "    pre {\n",
              "        white-space: pre-wrap;\n",
              "    }\n",
              "  </style>\n",
              "  "
            ]
          },
          "metadata": {}
        },
        {
          "output_type": "stream",
          "name": "stderr",
          "text": [
            "max_steps is given, it will override any value given in num_train_epochs\n",
            "\u001b[34m\u001b[1mwandb\u001b[0m: \u001b[33mWARNING\u001b[0m The `run_name` is currently set to the same value as `TrainingArguments.output_dir`. If this was not intended, please specify a different run name by setting the `TrainingArguments.run_name` parameter.\n",
            "/usr/local/lib/python3.10/dist-packages/huggingface_hub/file_download.py:1132: FutureWarning: `resume_download` is deprecated and will be removed in version 1.0.0. Downloads always resume when possible. If you want to force a new download, use `force_download=True`.\n",
            "  warnings.warn(\n",
            "/usr/local/lib/python3.10/dist-packages/peft/utils/save_and_load.py:209: UserWarning: Setting `save_embedding_layers` to `True` as the embedding layer has been resized during finetuning.\n",
            "  warnings.warn(\n",
            "/usr/local/lib/python3.10/dist-packages/torch/utils/checkpoint.py:460: UserWarning: torch.utils.checkpoint: please pass in use_reentrant=True or use_reentrant=False explicitly. The default value of use_reentrant will be updated to be False in the future. To maintain current behavior, pass use_reentrant=True. It is recommended that you use use_reentrant=False. Refer to docs for more details on the differences between the two variants.\n",
            "  warnings.warn(\n"
          ]
        },
        {
          "output_type": "display_data",
          "data": {
            "text/plain": [
              "<IPython.core.display.HTML object>"
            ],
            "text/html": [
              "\n",
              "    <div>\n",
              "      \n",
              "      <progress value='100' max='100' style='width:300px; height:20px; vertical-align: middle;'></progress>\n",
              "      [100/100 54:33, Epoch 1/2]\n",
              "    </div>\n",
              "    <table border=\"1\" class=\"dataframe\">\n",
              "  <thead>\n",
              " <tr style=\"text-align: left;\">\n",
              "      <th>Step</th>\n",
              "      <th>Training Loss</th>\n",
              "      <th>Validation Loss</th>\n",
              "    </tr>\n",
              "  </thead>\n",
              "  <tbody>\n",
              "    <tr>\n",
              "      <td>5</td>\n",
              "      <td>1.631800</td>\n",
              "      <td>1.521255</td>\n",
              "    </tr>\n",
              "    <tr>\n",
              "      <td>10</td>\n",
              "      <td>1.245300</td>\n",
              "      <td>1.202237</td>\n",
              "    </tr>\n",
              "    <tr>\n",
              "      <td>15</td>\n",
              "      <td>1.088700</td>\n",
              "      <td>1.068278</td>\n",
              "    </tr>\n",
              "    <tr>\n",
              "      <td>20</td>\n",
              "      <td>0.963000</td>\n",
              "      <td>1.010836</td>\n",
              "    </tr>\n",
              "    <tr>\n",
              "      <td>25</td>\n",
              "      <td>0.952500</td>\n",
              "      <td>0.976079</td>\n",
              "    </tr>\n",
              "    <tr>\n",
              "      <td>30</td>\n",
              "      <td>0.884900</td>\n",
              "      <td>0.952711</td>\n",
              "    </tr>\n",
              "    <tr>\n",
              "      <td>35</td>\n",
              "      <td>0.967700</td>\n",
              "      <td>0.937096</td>\n",
              "    </tr>\n",
              "    <tr>\n",
              "      <td>40</td>\n",
              "      <td>0.972000</td>\n",
              "      <td>0.924918</td>\n",
              "    </tr>\n",
              "    <tr>\n",
              "      <td>45</td>\n",
              "      <td>0.900400</td>\n",
              "      <td>0.918351</td>\n",
              "    </tr>\n",
              "    <tr>\n",
              "      <td>50</td>\n",
              "      <td>0.902100</td>\n",
              "      <td>0.909243</td>\n",
              "    </tr>\n",
              "    <tr>\n",
              "      <td>55</td>\n",
              "      <td>0.877600</td>\n",
              "      <td>0.901823</td>\n",
              "    </tr>\n",
              "    <tr>\n",
              "      <td>60</td>\n",
              "      <td>0.835100</td>\n",
              "      <td>0.895731</td>\n",
              "    </tr>\n",
              "    <tr>\n",
              "      <td>65</td>\n",
              "      <td>0.883100</td>\n",
              "      <td>0.893974</td>\n",
              "    </tr>\n",
              "    <tr>\n",
              "      <td>70</td>\n",
              "      <td>0.873700</td>\n",
              "      <td>0.891934</td>\n",
              "    </tr>\n",
              "    <tr>\n",
              "      <td>75</td>\n",
              "      <td>0.803800</td>\n",
              "      <td>0.888598</td>\n",
              "    </tr>\n",
              "    <tr>\n",
              "      <td>80</td>\n",
              "      <td>0.845700</td>\n",
              "      <td>0.886816</td>\n",
              "    </tr>\n",
              "    <tr>\n",
              "      <td>85</td>\n",
              "      <td>0.848800</td>\n",
              "      <td>0.885522</td>\n",
              "    </tr>\n",
              "    <tr>\n",
              "      <td>90</td>\n",
              "      <td>0.853300</td>\n",
              "      <td>0.884699</td>\n",
              "    </tr>\n",
              "    <tr>\n",
              "      <td>95</td>\n",
              "      <td>0.868000</td>\n",
              "      <td>0.884287</td>\n",
              "    </tr>\n",
              "    <tr>\n",
              "      <td>100</td>\n",
              "      <td>0.790600</td>\n",
              "      <td>0.884227</td>\n",
              "    </tr>\n",
              "  </tbody>\n",
              "</table><p>"
            ]
          },
          "metadata": {}
        },
        {
          "output_type": "stream",
          "name": "stderr",
          "text": [
            "/usr/local/lib/python3.10/dist-packages/torch/utils/checkpoint.py:460: UserWarning: torch.utils.checkpoint: please pass in use_reentrant=True or use_reentrant=False explicitly. The default value of use_reentrant will be updated to be False in the future. To maintain current behavior, pass use_reentrant=True. It is recommended that you use use_reentrant=False. Refer to docs for more details on the differences between the two variants.\n",
            "  warnings.warn(\n",
            "/usr/local/lib/python3.10/dist-packages/huggingface_hub/file_download.py:1132: FutureWarning: `resume_download` is deprecated and will be removed in version 1.0.0. Downloads always resume when possible. If you want to force a new download, use `force_download=True`.\n",
            "  warnings.warn(\n",
            "/usr/local/lib/python3.10/dist-packages/peft/utils/save_and_load.py:209: UserWarning: Setting `save_embedding_layers` to `True` as the embedding layer has been resized during finetuning.\n",
            "  warnings.warn(\n"
          ]
        }
      ],
      "source": [
        "# Start QLORA fine-tuning for the detail data (i.e., hard task or layer-2 planning)\n",
        "trainer, tokenizer, model = qlora_training_with_custom_collator(training_args_detail,model,tokenizer,train_data_detail,test_data_detail,collator)"
      ]
    },
    {
      "cell_type": "code",
      "execution_count": null,
      "metadata": {
        "id": "Y4HCXGuMBZkp",
        "colab": {
          "base_uri": "https://localhost:8080/",
          "height": 475,
          "referenced_widgets": [
            "a82cf8ae61504c319306f850322efbb9",
            "b5ae9d8099924d67bc5962b9199a7856",
            "0f0cc2d0f8a44317a968141551e7f5c1",
            "c59f6689d23f4eeab6defa2f96f669f0",
            "b1265edcaddd4d78b438ad4e4df45b8b",
            "a3b6512ffbbe42beba37348bb4b79c56",
            "a9deaed393ef4980a22db79adaade21b",
            "eaa71655c0934d50b6d46c37286e4121"
          ]
        },
        "outputId": "d2493ce8-67a8-4fdb-9415-45a73d47a368"
      },
      "outputs": [
        {
          "output_type": "display_data",
          "data": {
            "text/plain": [
              "<IPython.core.display.HTML object>"
            ],
            "text/html": [
              "\n",
              "  <style>\n",
              "    pre {\n",
              "        white-space: pre-wrap;\n",
              "    }\n",
              "  </style>\n",
              "  "
            ]
          },
          "metadata": {}
        },
        {
          "output_type": "display_data",
          "data": {
            "text/plain": [
              "VBox(children=(Label(value='1080.103 MB of 1080.126 MB uploaded\\r'), FloatProgress(value=0.9999786189959511, m…"
            ],
            "application/vnd.jupyter.widget-view+json": {
              "version_major": 2,
              "version_minor": 0,
              "model_id": "a82cf8ae61504c319306f850322efbb9"
            }
          },
          "metadata": {}
        },
        {
          "output_type": "display_data",
          "data": {
            "text/plain": [
              "<IPython.core.display.HTML object>"
            ],
            "text/html": [
              "<style>\n",
              "    table.wandb td:nth-child(1) { padding: 0 10px; text-align: left ; width: auto;} td:nth-child(2) {text-align: left ; width: 100%}\n",
              "    .wandb-row { display: flex; flex-direction: row; flex-wrap: wrap; justify-content: flex-start; width: 100% }\n",
              "    .wandb-col { display: flex; flex-direction: column; flex-basis: 100%; flex: 1; padding: 10px; }\n",
              "    </style>\n",
              "<div class=\"wandb-row\"><div class=\"wandb-col\"><h3>Run history:</h3><br/><table class=\"wandb\"><tr><td>eval/loss</td><td>█▄▃▂▂▂▂▁▁▁▁▁▁▁▁▁▁▁▁▁</td></tr><tr><td>eval/runtime</td><td>▁▇▇▅▇▅▆▅▆█▆▃▆▇▆▅▅▆▇▆</td></tr><tr><td>eval/samples_per_second</td><td>█▁▁▅▁▃▃▃▃▁▃▆▃▁▃▃▅▃▁▃</td></tr><tr><td>eval/steps_per_second</td><td>▁▁▁▁▁▁▁▁▁▁▁▁▁▁▁▁▁▁▁▁</td></tr><tr><td>train/epoch</td><td>▁▁▁▂▂▂▂▂▂▃▃▃▃▃▄▄▄▄▄▄▅▅▅▅▅▆▆▆▆▆▆▇▇▇▇▇████</td></tr><tr><td>train/global_step</td><td>▁▁▁▂▂▂▂▂▂▃▃▃▃▃▄▄▄▄▄▄▅▅▅▅▅▆▆▆▆▆▆▇▇▇▇▇████</td></tr><tr><td>train/grad_norm</td><td>█▇▃▂▂▁▁▁▁▁▁▁▁▁▁▁▁▁▁▁▁▁▁▁▁▁▁▁▁▁▁▁▁▁▁▁▁▁▁▁</td></tr><tr><td>train/learning_rate</td><td>▃███████▇▇▇▇▇▆▆▆▆▅▅▅▅▄▄▄▃▃▃▃▂▂▂▂▂▁▁▁▁▁▁▁</td></tr><tr><td>train/loss</td><td>██▄▃▃▂▂▂▂▂▂▂▂▂▁▂▂▂▂▂▂▂▁▁▁▁▁▁▁▁▁▁▁▁▁▁▁▁▁▁</td></tr></table><br/></div><div class=\"wandb-col\"><h3>Run summary:</h3><br/><table class=\"wandb\"><tr><td>eval/loss</td><td>0.88423</td></tr><tr><td>eval/runtime</td><td>46.9341</td></tr><tr><td>eval/samples_per_second</td><td>2.152</td></tr><tr><td>eval/steps_per_second</td><td>0.277</td></tr><tr><td>total_flos</td><td>4.099683547437466e+16</td></tr><tr><td>train/epoch</td><td>1.76211</td></tr><tr><td>train/global_step</td><td>100</td></tr><tr><td>train/grad_norm</td><td>1.39899</td></tr><tr><td>train/learning_rate</td><td>0.0</td></tr><tr><td>train/loss</td><td>0.7906</td></tr><tr><td>train_loss</td><td>0.98512</td></tr><tr><td>train_runtime</td><td>3307.2516</td></tr><tr><td>train_samples_per_second</td><td>0.484</td></tr><tr><td>train_steps_per_second</td><td>0.03</td></tr></table><br/></div></div>"
            ]
          },
          "metadata": {}
        },
        {
          "output_type": "display_data",
          "data": {
            "text/plain": [
              "<IPython.core.display.HTML object>"
            ],
            "text/html": [
              " View run <strong style=\"color:#cdcd00\">detail_planning_v2</strong> at: <a href='https://wandb.ai/ashmsn8665/fine-tune%20mistral%207b%20for%20detailed%20planning%20v2/runs/a1zu1z8d' target=\"_blank\">https://wandb.ai/ashmsn8665/fine-tune%20mistral%207b%20for%20detailed%20planning%20v2/runs/a1zu1z8d</a><br/> View project at: <a href='https://wandb.ai/ashmsn8665/fine-tune%20mistral%207b%20for%20detailed%20planning%20v2' target=\"_blank\">https://wandb.ai/ashmsn8665/fine-tune%20mistral%207b%20for%20detailed%20planning%20v2</a><br/>Synced 5 W&B file(s), 0 media file(s), 4 artifact file(s) and 0 other file(s)"
            ]
          },
          "metadata": {}
        },
        {
          "output_type": "display_data",
          "data": {
            "text/plain": [
              "<IPython.core.display.HTML object>"
            ],
            "text/html": [
              "Find logs at: <code>./wandb/run-20240510_082433-a1zu1z8d/logs</code>"
            ]
          },
          "metadata": {}
        }
      ],
      "source": [
        "# Good practice to end your run\n",
        "wandb.finish()"
      ]
    },
    {
      "cell_type": "code",
      "execution_count": null,
      "metadata": {
        "id": "N6eyow9PQJ17",
        "colab": {
          "base_uri": "https://localhost:8080/",
          "height": 204
        },
        "outputId": "f90b2363-72e7-4f4c-b847-24fa4bd84aed"
      },
      "outputs": [
        {
          "output_type": "display_data",
          "data": {
            "text/plain": [
              "<IPython.core.display.HTML object>"
            ],
            "text/html": [
              "\n",
              "  <style>\n",
              "    pre {\n",
              "        white-space: pre-wrap;\n",
              "    }\n",
              "  </style>\n",
              "  "
            ]
          },
          "metadata": {}
        },
        {
          "output_type": "stream",
          "name": "stderr",
          "text": [
            "/usr/local/lib/python3.10/dist-packages/huggingface_hub/file_download.py:1132: FutureWarning: `resume_download` is deprecated and will be removed in version 1.0.0. Downloads always resume when possible. If you want to force a new download, use `force_download=True`.\n",
            "  warnings.warn(\n",
            "/usr/local/lib/python3.10/dist-packages/peft/utils/save_and_load.py:209: UserWarning: Setting `save_embedding_layers` to `True` as the embedding layer has been resized during finetuning.\n",
            "  warnings.warn(\n"
          ]
        },
        {
          "output_type": "execute_result",
          "data": {
            "text/plain": [
              "('ckpts_mistral_7B_detailed_planning_v2/tokenizer_config.json',\n",
              " 'ckpts_mistral_7B_detailed_planning_v2/special_tokens_map.json',\n",
              " 'ckpts_mistral_7B_detailed_planning_v2/tokenizer.model',\n",
              " 'ckpts_mistral_7B_detailed_planning_v2/added_tokens.json',\n",
              " 'ckpts_mistral_7B_detailed_planning_v2/tokenizer.json')"
            ]
          },
          "metadata": {},
          "execution_count": 51
        }
      ],
      "source": [
        "# Save artifacts\n",
        "trainer.model.save_pretrained(ADAPTER_CHECKPOINTS_NAME)\n",
        "tokenizer.save_pretrained(ADAPTER_CHECKPOINTS_NAME)"
      ]
    },
    {
      "cell_type": "code",
      "execution_count": null,
      "metadata": {
        "id": "9lYQxwI4QK7D",
        "colab": {
          "base_uri": "https://localhost:8080/",
          "height": 17
        },
        "outputId": "65f37b38-2132-48a8-a362-c58830bdd186"
      },
      "outputs": [
        {
          "output_type": "display_data",
          "data": {
            "text/plain": [
              "<IPython.core.display.HTML object>"
            ],
            "text/html": [
              "\n",
              "  <style>\n",
              "    pre {\n",
              "        white-space: pre-wrap;\n",
              "    }\n",
              "  </style>\n",
              "  "
            ]
          },
          "metadata": {}
        }
      ],
      "source": [
        "model.pad_token_id=tokenizer.pad_token_id\n",
        "model.config.pad_token_id=tokenizer.pad_token_id\n",
        "\n",
        "model.config.use_cache = True"
      ]
    },
    {
      "cell_type": "code",
      "execution_count": null,
      "metadata": {
        "id": "qXxKPFV3Skpb",
        "colab": {
          "base_uri": "https://localhost:8080/",
          "height": 459
        },
        "outputId": "df7a335c-9683-4ab0-a994-65650959a007"
      },
      "outputs": [
        {
          "output_type": "display_data",
          "data": {
            "text/plain": [
              "<IPython.core.display.HTML object>"
            ],
            "text/html": [
              "\n",
              "  <style>\n",
              "    pre {\n",
              "        white-space: pre-wrap;\n",
              "    }\n",
              "  </style>\n",
              "  "
            ]
          },
          "metadata": {}
        },
        {
          "output_type": "stream",
          "name": "stderr",
          "text": [
            "The attention mask and the pad token id were not set. As a consequence, you may observe unexpected behavior. Please pass your input's `attention_mask` to obtain reliable results.\n",
            "Setting `pad_token_id` to `eos_token_id`:2 for open-end generation.\n"
          ]
        },
        {
          "output_type": "stream",
          "name": "stdout",
          "text": [
            "[INST]Below is an instruction that describes a composite task. Provide the structured detailed planning for the following task. Your response should be in the form of a dictionary with transitions (one-to-one or one-to-many depending on the task) between different subtasks and appropriate failure handling options. Organize a virtual conference with multiple speakers, create a landing page for the event, and curate a playlist of background music appropriate for breaks.[/INST]\n",
            "\n",
            "### Response:\n",
            "{'Organize a virtual conference with multiple speakers, ensuring a diverse range of topics and engaging presentations, and provide a platform for live interaction with the audience': {'next_modes': ['Create a landing page for the event, including speaker bios, schedule, and registration details', 'Carefully select a playlist of background music that complements the conference theme and enhances the virtual experience'], 'failure': ['Retry by adjusting the speaker lineup or presentation format', 'Exit the planning phase if the conference cannot be organized within the given timeframe', 'Fallback Content by using pre-recorded presentations if live sessions are not feasible', 'Request Human Intervention by consulting with a conference planner']}, 'Create a landing page for the event, including speaker bios, schedule, and registration details, ensuring it is user-friendly and visually appealing': {'next_modes': ['Carefully select a playlist of background music that complements the conference theme and enhances the virtual experience'], 'failure': ['Retry with a simplified design if the page is too complex', 'Switch to Different Mode by creating a mobile-optimized version if the desktop version fails', 'Quality Assurance Check to ensure all links and information are accurate', 'Log and Analyze user feedback for improvements']}, 'Carefully select a playlist of background music that complements the conference theme and enhances the virtual experience, ensuring it is royalty-free and suitable for all audiences': {'next_modes': ['Conduct a final review of the conference setup, including the virtual platform, landing page, and playlist, to ensure a seamless and engaging event'], 'failure': ['Retry by selecting different tracks if the initial choices do not fit', 'Exit if suitable music cannot be found within the budget', 'Quality Assurance Check to ensure the music does not interfere with presentations', 'Mode Optimization by adjusting the volume levels for optimal listening']}, 'Conduct a final review of the conference setup, including the virtual platform, landing page, and playlist, to ensure a seamless and engaging event': {'next_modes': [], 'failure': None}}</s>\n"
          ]
        }
      ],
      "source": [
        "output=get_completion(pred_prompt, model, tokenizer, stop_keywords, KeywordsStoppingCriteria)\n",
        "\n",
        "print(pred_prompt)\n",
        "print(output)"
      ]
    },
    {
      "cell_type": "code",
      "execution_count": null,
      "metadata": {
        "id": "VReP87CyXuo-",
        "colab": {
          "base_uri": "https://localhost:8080/",
          "height": 306
        },
        "outputId": "5d83df1f-51d1-4653-8d0b-9542c0c7d203"
      },
      "outputs": [
        {
          "output_type": "display_data",
          "data": {
            "text/plain": [
              "<IPython.core.display.HTML object>"
            ],
            "text/html": [
              "\n",
              "  <style>\n",
              "    pre {\n",
              "        white-space: pre-wrap;\n",
              "    }\n",
              "  </style>\n",
              "  "
            ]
          },
          "metadata": {}
        },
        {
          "output_type": "stream",
          "name": "stdout",
          "text": [
            "{'Organize a virtual conference with multiple speakers, ensuring a diverse range of topics and engaging presentations, and provide a platform for live interaction with the audience': {'next_modes': ['Create a landing page for the event, including speaker bios, schedule, and registration details', 'Carefully select a playlist of background music that complements the conference theme and enhances the virtual experience'], 'failure': ['Retry by adjusting the speaker lineup or presentation format', 'Exit the planning phase if the conference cannot be organized within the given timeframe', 'Fallback Content by using pre-recorded presentations if live sessions are not feasible', 'Request Human Intervention by consulting with a conference planner']}, 'Create a landing page for the event, including speaker bios, schedule, and registration details, ensuring it is user-friendly and visually appealing': {'next_modes': ['Carefully select a playlist of background music that complements the conference theme and enhances the virtual experience'], 'failure': ['Retry with a simplified design if the page is too complex', 'Switch to Different Mode by creating a mobile-optimized version if the desktop version fails', 'Quality Assurance Check to ensure all links and information are accurate', 'Log and Analyze user feedback for improvements']}, 'Carefully select a playlist of background music that complements the conference theme and enhances the virtual experience, ensuring it is royalty-free and suitable for all audiences': {'next_modes': ['Conduct a final review of the conference setup, including the virtual platform, landing page, and playlist, to ensure a seamless and engaging event'], 'failure': ['Retry by selecting different tracks if the initial choices do not fit', 'Exit if suitable music cannot be found within the budget', 'Quality Assurance Check to ensure the music does not interfere with presentations', 'Mode Optimization by adjusting the volume levels for optimal listening']}, 'Conduct a final review of the conference setup, including the virtual platform, landing page, and playlist, to ensure a seamless and engaging event': {'next_modes': [], 'failure': None}}\n"
          ]
        }
      ],
      "source": [
        "print(output.strip(\"### Response:\").strip(\"</s>\"))"
      ]
    },
    {
      "cell_type": "code",
      "execution_count": null,
      "metadata": {
        "id": "pYK4289-R47C",
        "colab": {
          "base_uri": "https://localhost:8080/",
          "height": 1000
        },
        "outputId": "0d42da2f-a695-45f5-9ecb-5817d4ac09e1"
      },
      "outputs": [
        {
          "output_type": "display_data",
          "data": {
            "text/plain": [
              "<IPython.core.display.HTML object>"
            ],
            "text/html": [
              "\n",
              "  <style>\n",
              "    pre {\n",
              "        white-space: pre-wrap;\n",
              "    }\n",
              "  </style>\n",
              "  "
            ]
          },
          "metadata": {}
        },
        {
          "output_type": "stream",
          "name": "stderr",
          "text": [
            "\r  0%|          | 0/101 [00:00<?, ?it/s]The attention mask and the pad token id were not set. As a consequence, you may observe unexpected behavior. Please pass your input's `attention_mask` to obtain reliable results.\n",
            "Setting `pad_token_id` to `eos_token_id`:2 for open-end generation.\n",
            "  1%|          | 1/101 [00:59<1:39:04, 59.44s/it]The attention mask and the pad token id were not set. As a consequence, you may observe unexpected behavior. Please pass your input's `attention_mask` to obtain reliable results.\n",
            "Setting `pad_token_id` to `eos_token_id`:2 for open-end generation.\n",
            "  2%|▏         | 2/101 [02:05<1:44:38, 63.42s/it]The attention mask and the pad token id were not set. As a consequence, you may observe unexpected behavior. Please pass your input's `attention_mask` to obtain reliable results.\n",
            "Setting `pad_token_id` to `eos_token_id`:2 for open-end generation.\n",
            "  3%|▎         | 3/101 [03:04<1:40:21, 61.45s/it]The attention mask and the pad token id were not set. As a consequence, you may observe unexpected behavior. Please pass your input's `attention_mask` to obtain reliable results.\n",
            "Setting `pad_token_id` to `eos_token_id`:2 for open-end generation.\n",
            "  4%|▍         | 4/101 [03:56<1:33:07, 57.60s/it]The attention mask and the pad token id were not set. As a consequence, you may observe unexpected behavior. Please pass your input's `attention_mask` to obtain reliable results.\n",
            "Setting `pad_token_id` to `eos_token_id`:2 for open-end generation.\n",
            "  5%|▍         | 5/101 [05:03<1:37:34, 60.99s/it]The attention mask and the pad token id were not set. As a consequence, you may observe unexpected behavior. Please pass your input's `attention_mask` to obtain reliable results.\n",
            "Setting `pad_token_id` to `eos_token_id`:2 for open-end generation.\n",
            "  6%|▌         | 6/101 [05:55<1:31:55, 58.06s/it]The attention mask and the pad token id were not set. As a consequence, you may observe unexpected behavior. Please pass your input's `attention_mask` to obtain reliable results.\n",
            "Setting `pad_token_id` to `eos_token_id`:2 for open-end generation.\n",
            "  7%|▋         | 7/101 [07:02<1:35:12, 60.77s/it]The attention mask and the pad token id were not set. As a consequence, you may observe unexpected behavior. Please pass your input's `attention_mask` to obtain reliable results.\n",
            "Setting `pad_token_id` to `eos_token_id`:2 for open-end generation.\n",
            "  8%|▊         | 8/101 [07:59<1:32:29, 59.67s/it]The attention mask and the pad token id were not set. As a consequence, you may observe unexpected behavior. Please pass your input's `attention_mask` to obtain reliable results.\n",
            "Setting `pad_token_id` to `eos_token_id`:2 for open-end generation.\n",
            "  9%|▉         | 9/101 [08:47<1:26:03, 56.13s/it]The attention mask and the pad token id were not set. As a consequence, you may observe unexpected behavior. Please pass your input's `attention_mask` to obtain reliable results.\n",
            "Setting `pad_token_id` to `eos_token_id`:2 for open-end generation.\n",
            " 10%|▉         | 10/101 [09:24<1:16:04, 50.16s/it]The attention mask and the pad token id were not set. As a consequence, you may observe unexpected behavior. Please pass your input's `attention_mask` to obtain reliable results.\n",
            "Setting `pad_token_id` to `eos_token_id`:2 for open-end generation.\n",
            " 11%|█         | 11/101 [10:00<1:08:49, 45.88s/it]The attention mask and the pad token id were not set. As a consequence, you may observe unexpected behavior. Please pass your input's `attention_mask` to obtain reliable results.\n",
            "Setting `pad_token_id` to `eos_token_id`:2 for open-end generation.\n",
            " 12%|█▏        | 12/101 [10:58<1:13:22, 49.47s/it]The attention mask and the pad token id were not set. As a consequence, you may observe unexpected behavior. Please pass your input's `attention_mask` to obtain reliable results.\n",
            "Setting `pad_token_id` to `eos_token_id`:2 for open-end generation.\n",
            " 13%|█▎        | 13/101 [11:40<1:09:25, 47.34s/it]The attention mask and the pad token id were not set. As a consequence, you may observe unexpected behavior. Please pass your input's `attention_mask` to obtain reliable results.\n",
            "Setting `pad_token_id` to `eos_token_id`:2 for open-end generation.\n",
            " 14%|█▍        | 14/101 [12:13<1:02:09, 42.86s/it]The attention mask and the pad token id were not set. As a consequence, you may observe unexpected behavior. Please pass your input's `attention_mask` to obtain reliable results.\n",
            "Setting `pad_token_id` to `eos_token_id`:2 for open-end generation.\n",
            " 15%|█▍        | 15/101 [12:58<1:02:24, 43.54s/it]The attention mask and the pad token id were not set. As a consequence, you may observe unexpected behavior. Please pass your input's `attention_mask` to obtain reliable results.\n",
            "Setting `pad_token_id` to `eos_token_id`:2 for open-end generation.\n",
            " 16%|█▌        | 16/101 [13:36<59:19, 41.88s/it]  The attention mask and the pad token id were not set. As a consequence, you may observe unexpected behavior. Please pass your input's `attention_mask` to obtain reliable results.\n",
            "Setting `pad_token_id` to `eos_token_id`:2 for open-end generation.\n",
            " 17%|█▋        | 17/101 [14:26<1:01:50, 44.17s/it]The attention mask and the pad token id were not set. As a consequence, you may observe unexpected behavior. Please pass your input's `attention_mask` to obtain reliable results.\n",
            "Setting `pad_token_id` to `eos_token_id`:2 for open-end generation.\n",
            " 18%|█▊        | 18/101 [15:15<1:03:09, 45.65s/it]The attention mask and the pad token id were not set. As a consequence, you may observe unexpected behavior. Please pass your input's `attention_mask` to obtain reliable results.\n",
            "Setting `pad_token_id` to `eos_token_id`:2 for open-end generation.\n",
            " 19%|█▉        | 19/101 [15:52<58:55, 43.12s/it]  The attention mask and the pad token id were not set. As a consequence, you may observe unexpected behavior. Please pass your input's `attention_mask` to obtain reliable results.\n",
            "Setting `pad_token_id` to `eos_token_id`:2 for open-end generation.\n",
            " 20%|█▉        | 20/101 [16:33<57:16, 42.43s/it]The attention mask and the pad token id were not set. As a consequence, you may observe unexpected behavior. Please pass your input's `attention_mask` to obtain reliable results.\n",
            "Setting `pad_token_id` to `eos_token_id`:2 for open-end generation.\n",
            " 21%|██        | 21/101 [17:34<1:04:01, 48.02s/it]The attention mask and the pad token id were not set. As a consequence, you may observe unexpected behavior. Please pass your input's `attention_mask` to obtain reliable results.\n",
            "Setting `pad_token_id` to `eos_token_id`:2 for open-end generation.\n",
            " 22%|██▏       | 22/101 [18:37<1:09:18, 52.64s/it]The attention mask and the pad token id were not set. As a consequence, you may observe unexpected behavior. Please pass your input's `attention_mask` to obtain reliable results.\n",
            "Setting `pad_token_id` to `eos_token_id`:2 for open-end generation.\n",
            " 23%|██▎       | 23/101 [19:23<1:05:45, 50.59s/it]The attention mask and the pad token id were not set. As a consequence, you may observe unexpected behavior. Please pass your input's `attention_mask` to obtain reliable results.\n",
            "Setting `pad_token_id` to `eos_token_id`:2 for open-end generation.\n",
            " 24%|██▍       | 24/101 [19:56<58:13, 45.37s/it]  The attention mask and the pad token id were not set. As a consequence, you may observe unexpected behavior. Please pass your input's `attention_mask` to obtain reliable results.\n",
            "Setting `pad_token_id` to `eos_token_id`:2 for open-end generation.\n",
            " 25%|██▍       | 25/101 [20:26<51:30, 40.67s/it]The attention mask and the pad token id were not set. As a consequence, you may observe unexpected behavior. Please pass your input's `attention_mask` to obtain reliable results.\n",
            "Setting `pad_token_id` to `eos_token_id`:2 for open-end generation.\n",
            " 26%|██▌       | 26/101 [21:02<49:12, 39.37s/it]The attention mask and the pad token id were not set. As a consequence, you may observe unexpected behavior. Please pass your input's `attention_mask` to obtain reliable results.\n",
            "Setting `pad_token_id` to `eos_token_id`:2 for open-end generation.\n",
            " 27%|██▋       | 27/101 [21:45<49:46, 40.36s/it]The attention mask and the pad token id were not set. As a consequence, you may observe unexpected behavior. Please pass your input's `attention_mask` to obtain reliable results.\n",
            "Setting `pad_token_id` to `eos_token_id`:2 for open-end generation.\n",
            " 28%|██▊       | 28/101 [22:14<44:54, 36.91s/it]The attention mask and the pad token id were not set. As a consequence, you may observe unexpected behavior. Please pass your input's `attention_mask` to obtain reliable results.\n",
            "Setting `pad_token_id` to `eos_token_id`:2 for open-end generation.\n",
            " 29%|██▊       | 29/101 [22:58<47:00, 39.17s/it]The attention mask and the pad token id were not set. As a consequence, you may observe unexpected behavior. Please pass your input's `attention_mask` to obtain reliable results.\n",
            "Setting `pad_token_id` to `eos_token_id`:2 for open-end generation.\n",
            " 30%|██▉       | 30/101 [23:49<50:25, 42.62s/it]The attention mask and the pad token id were not set. As a consequence, you may observe unexpected behavior. Please pass your input's `attention_mask` to obtain reliable results.\n",
            "Setting `pad_token_id` to `eos_token_id`:2 for open-end generation.\n",
            " 31%|███       | 31/101 [24:52<56:46, 48.66s/it]The attention mask and the pad token id were not set. As a consequence, you may observe unexpected behavior. Please pass your input's `attention_mask` to obtain reliable results.\n",
            "Setting `pad_token_id` to `eos_token_id`:2 for open-end generation.\n",
            " 32%|███▏      | 32/101 [25:57<1:01:45, 53.70s/it]The attention mask and the pad token id were not set. As a consequence, you may observe unexpected behavior. Please pass your input's `attention_mask` to obtain reliable results.\n",
            "Setting `pad_token_id` to `eos_token_id`:2 for open-end generation.\n",
            " 33%|███▎      | 33/101 [26:30<53:51, 47.52s/it]  The attention mask and the pad token id were not set. As a consequence, you may observe unexpected behavior. Please pass your input's `attention_mask` to obtain reliable results.\n",
            "Setting `pad_token_id` to `eos_token_id`:2 for open-end generation.\n",
            " 34%|███▎      | 34/101 [27:14<51:47, 46.39s/it]The attention mask and the pad token id were not set. As a consequence, you may observe unexpected behavior. Please pass your input's `attention_mask` to obtain reliable results.\n",
            "Setting `pad_token_id` to `eos_token_id`:2 for open-end generation.\n",
            " 35%|███▍      | 35/101 [28:06<52:45, 47.96s/it]The attention mask and the pad token id were not set. As a consequence, you may observe unexpected behavior. Please pass your input's `attention_mask` to obtain reliable results.\n",
            "Setting `pad_token_id` to `eos_token_id`:2 for open-end generation.\n",
            " 36%|███▌      | 36/101 [29:12<57:54, 53.46s/it]The attention mask and the pad token id were not set. As a consequence, you may observe unexpected behavior. Please pass your input's `attention_mask` to obtain reliable results.\n",
            "Setting `pad_token_id` to `eos_token_id`:2 for open-end generation.\n",
            " 37%|███▋      | 37/101 [29:55<53:52, 50.51s/it]The attention mask and the pad token id were not set. As a consequence, you may observe unexpected behavior. Please pass your input's `attention_mask` to obtain reliable results.\n",
            "Setting `pad_token_id` to `eos_token_id`:2 for open-end generation.\n",
            " 38%|███▊      | 38/101 [31:02<58:01, 55.27s/it]The attention mask and the pad token id were not set. As a consequence, you may observe unexpected behavior. Please pass your input's `attention_mask` to obtain reliable results.\n",
            "Setting `pad_token_id` to `eos_token_id`:2 for open-end generation.\n",
            " 39%|███▊      | 39/101 [32:09<1:00:44, 58.78s/it]The attention mask and the pad token id were not set. As a consequence, you may observe unexpected behavior. Please pass your input's `attention_mask` to obtain reliable results.\n",
            "Setting `pad_token_id` to `eos_token_id`:2 for open-end generation.\n",
            " 40%|███▉      | 40/101 [32:42<51:55, 51.07s/it]  The attention mask and the pad token id were not set. As a consequence, you may observe unexpected behavior. Please pass your input's `attention_mask` to obtain reliable results.\n",
            "Setting `pad_token_id` to `eos_token_id`:2 for open-end generation.\n",
            " 41%|████      | 41/101 [33:49<55:48, 55.81s/it]The attention mask and the pad token id were not set. As a consequence, you may observe unexpected behavior. Please pass your input's `attention_mask` to obtain reliable results.\n",
            "Setting `pad_token_id` to `eos_token_id`:2 for open-end generation.\n",
            " 42%|████▏     | 42/101 [34:17<46:40, 47.46s/it]The attention mask and the pad token id were not set. As a consequence, you may observe unexpected behavior. Please pass your input's `attention_mask` to obtain reliable results.\n",
            "Setting `pad_token_id` to `eos_token_id`:2 for open-end generation.\n",
            " 43%|████▎     | 43/101 [34:50<41:42, 43.14s/it]The attention mask and the pad token id were not set. As a consequence, you may observe unexpected behavior. Please pass your input's `attention_mask` to obtain reliable results.\n",
            "Setting `pad_token_id` to `eos_token_id`:2 for open-end generation.\n",
            " 44%|████▎     | 44/101 [35:25<38:48, 40.84s/it]The attention mask and the pad token id were not set. As a consequence, you may observe unexpected behavior. Please pass your input's `attention_mask` to obtain reliable results.\n",
            "Setting `pad_token_id` to `eos_token_id`:2 for open-end generation.\n",
            " 45%|████▍     | 45/101 [36:01<36:36, 39.22s/it]The attention mask and the pad token id were not set. As a consequence, you may observe unexpected behavior. Please pass your input's `attention_mask` to obtain reliable results.\n",
            "Setting `pad_token_id` to `eos_token_id`:2 for open-end generation.\n",
            " 46%|████▌     | 46/101 [36:53<39:24, 42.99s/it]The attention mask and the pad token id were not set. As a consequence, you may observe unexpected behavior. Please pass your input's `attention_mask` to obtain reliable results.\n",
            "Setting `pad_token_id` to `eos_token_id`:2 for open-end generation.\n",
            " 47%|████▋     | 47/101 [37:25<35:48, 39.79s/it]The attention mask and the pad token id were not set. As a consequence, you may observe unexpected behavior. Please pass your input's `attention_mask` to obtain reliable results.\n",
            "Setting `pad_token_id` to `eos_token_id`:2 for open-end generation.\n",
            " 48%|████▊     | 48/101 [38:06<35:33, 40.26s/it]The attention mask and the pad token id were not set. As a consequence, you may observe unexpected behavior. Please pass your input's `attention_mask` to obtain reliable results.\n",
            "Setting `pad_token_id` to `eos_token_id`:2 for open-end generation.\n",
            " 49%|████▊     | 49/101 [38:47<35:00, 40.40s/it]The attention mask and the pad token id were not set. As a consequence, you may observe unexpected behavior. Please pass your input's `attention_mask` to obtain reliable results.\n",
            "Setting `pad_token_id` to `eos_token_id`:2 for open-end generation.\n",
            " 50%|████▉     | 50/101 [39:22<32:58, 38.79s/it]The attention mask and the pad token id were not set. As a consequence, you may observe unexpected behavior. Please pass your input's `attention_mask` to obtain reliable results.\n",
            "Setting `pad_token_id` to `eos_token_id`:2 for open-end generation.\n",
            " 50%|█████     | 51/101 [40:06<33:36, 40.33s/it]The attention mask and the pad token id were not set. As a consequence, you may observe unexpected behavior. Please pass your input's `attention_mask` to obtain reliable results.\n",
            "Setting `pad_token_id` to `eos_token_id`:2 for open-end generation.\n",
            " 51%|█████▏    | 52/101 [40:42<31:58, 39.16s/it]The attention mask and the pad token id were not set. As a consequence, you may observe unexpected behavior. Please pass your input's `attention_mask` to obtain reliable results.\n",
            "Setting `pad_token_id` to `eos_token_id`:2 for open-end generation.\n",
            " 52%|█████▏    | 53/101 [41:28<32:56, 41.18s/it]The attention mask and the pad token id were not set. As a consequence, you may observe unexpected behavior. Please pass your input's `attention_mask` to obtain reliable results.\n",
            "Setting `pad_token_id` to `eos_token_id`:2 for open-end generation.\n",
            " 53%|█████▎    | 54/101 [42:35<38:19, 48.93s/it]The attention mask and the pad token id were not set. As a consequence, you may observe unexpected behavior. Please pass your input's `attention_mask` to obtain reliable results.\n",
            "Setting `pad_token_id` to `eos_token_id`:2 for open-end generation.\n",
            " 54%|█████▍    | 55/101 [43:41<41:26, 54.06s/it]The attention mask and the pad token id were not set. As a consequence, you may observe unexpected behavior. Please pass your input's `attention_mask` to obtain reliable results.\n",
            "Setting `pad_token_id` to `eos_token_id`:2 for open-end generation.\n",
            " 55%|█████▌    | 56/101 [44:15<35:54, 47.88s/it]The attention mask and the pad token id were not set. As a consequence, you may observe unexpected behavior. Please pass your input's `attention_mask` to obtain reliable results.\n",
            "Setting `pad_token_id` to `eos_token_id`:2 for open-end generation.\n",
            " 56%|█████▋    | 57/101 [44:47<31:45, 43.30s/it]The attention mask and the pad token id were not set. As a consequence, you may observe unexpected behavior. Please pass your input's `attention_mask` to obtain reliable results.\n",
            "Setting `pad_token_id` to `eos_token_id`:2 for open-end generation.\n",
            " 57%|█████▋    | 58/101 [45:23<29:21, 40.97s/it]The attention mask and the pad token id were not set. As a consequence, you may observe unexpected behavior. Please pass your input's `attention_mask` to obtain reliable results.\n",
            "Setting `pad_token_id` to `eos_token_id`:2 for open-end generation.\n",
            " 58%|█████▊    | 59/101 [45:57<27:18, 39.02s/it]The attention mask and the pad token id were not set. As a consequence, you may observe unexpected behavior. Please pass your input's `attention_mask` to obtain reliable results.\n",
            "Setting `pad_token_id` to `eos_token_id`:2 for open-end generation.\n",
            " 59%|█████▉    | 60/101 [46:51<29:39, 43.40s/it]The attention mask and the pad token id were not set. As a consequence, you may observe unexpected behavior. Please pass your input's `attention_mask` to obtain reliable results.\n",
            "Setting `pad_token_id` to `eos_token_id`:2 for open-end generation.\n",
            " 60%|██████    | 61/101 [47:41<30:09, 45.25s/it]The attention mask and the pad token id were not set. As a consequence, you may observe unexpected behavior. Please pass your input's `attention_mask` to obtain reliable results.\n",
            "Setting `pad_token_id` to `eos_token_id`:2 for open-end generation.\n",
            " 61%|██████▏   | 62/101 [48:34<30:59, 47.67s/it]The attention mask and the pad token id were not set. As a consequence, you may observe unexpected behavior. Please pass your input's `attention_mask` to obtain reliable results.\n",
            "Setting `pad_token_id` to `eos_token_id`:2 for open-end generation.\n",
            " 62%|██████▏   | 63/101 [49:06<27:18, 43.11s/it]The attention mask and the pad token id were not set. As a consequence, you may observe unexpected behavior. Please pass your input's `attention_mask` to obtain reliable results.\n",
            "Setting `pad_token_id` to `eos_token_id`:2 for open-end generation.\n",
            " 63%|██████▎   | 64/101 [49:44<25:31, 41.38s/it]The attention mask and the pad token id were not set. As a consequence, you may observe unexpected behavior. Please pass your input's `attention_mask` to obtain reliable results.\n",
            "Setting `pad_token_id` to `eos_token_id`:2 for open-end generation.\n",
            " 64%|██████▍   | 65/101 [50:19<23:40, 39.47s/it]The attention mask and the pad token id were not set. As a consequence, you may observe unexpected behavior. Please pass your input's `attention_mask` to obtain reliable results.\n",
            "Setting `pad_token_id` to `eos_token_id`:2 for open-end generation.\n",
            " 65%|██████▌   | 66/101 [51:01<23:30, 40.30s/it]The attention mask and the pad token id were not set. As a consequence, you may observe unexpected behavior. Please pass your input's `attention_mask` to obtain reliable results.\n",
            "Setting `pad_token_id` to `eos_token_id`:2 for open-end generation.\n",
            " 66%|██████▋   | 67/101 [51:49<24:09, 42.62s/it]The attention mask and the pad token id were not set. As a consequence, you may observe unexpected behavior. Please pass your input's `attention_mask` to obtain reliable results.\n",
            "Setting `pad_token_id` to `eos_token_id`:2 for open-end generation.\n",
            " 67%|██████▋   | 68/101 [52:34<23:50, 43.33s/it]The attention mask and the pad token id were not set. As a consequence, you may observe unexpected behavior. Please pass your input's `attention_mask` to obtain reliable results.\n",
            "Setting `pad_token_id` to `eos_token_id`:2 for open-end generation.\n",
            " 68%|██████▊   | 69/101 [53:26<24:31, 45.97s/it]The attention mask and the pad token id were not set. As a consequence, you may observe unexpected behavior. Please pass your input's `attention_mask` to obtain reliable results.\n",
            "Setting `pad_token_id` to `eos_token_id`:2 for open-end generation.\n",
            " 69%|██████▉   | 70/101 [54:23<25:26, 49.26s/it]The attention mask and the pad token id were not set. As a consequence, you may observe unexpected behavior. Please pass your input's `attention_mask` to obtain reliable results.\n",
            "Setting `pad_token_id` to `eos_token_id`:2 for open-end generation.\n",
            " 70%|███████   | 71/101 [55:30<27:20, 54.67s/it]The attention mask and the pad token id were not set. As a consequence, you may observe unexpected behavior. Please pass your input's `attention_mask` to obtain reliable results.\n",
            "Setting `pad_token_id` to `eos_token_id`:2 for open-end generation.\n",
            " 71%|███████▏  | 72/101 [56:14<24:50, 51.40s/it]The attention mask and the pad token id were not set. As a consequence, you may observe unexpected behavior. Please pass your input's `attention_mask` to obtain reliable results.\n",
            "Setting `pad_token_id` to `eos_token_id`:2 for open-end generation.\n",
            " 72%|███████▏  | 73/101 [56:45<21:11, 45.40s/it]The attention mask and the pad token id were not set. As a consequence, you may observe unexpected behavior. Please pass your input's `attention_mask` to obtain reliable results.\n",
            "Setting `pad_token_id` to `eos_token_id`:2 for open-end generation.\n",
            " 73%|███████▎  | 74/101 [57:41<21:51, 48.58s/it]The attention mask and the pad token id were not set. As a consequence, you may observe unexpected behavior. Please pass your input's `attention_mask` to obtain reliable results.\n",
            "Setting `pad_token_id` to `eos_token_id`:2 for open-end generation.\n",
            " 74%|███████▍  | 75/101 [58:19<19:34, 45.18s/it]The attention mask and the pad token id were not set. As a consequence, you may observe unexpected behavior. Please pass your input's `attention_mask` to obtain reliable results.\n",
            "Setting `pad_token_id` to `eos_token_id`:2 for open-end generation.\n",
            " 75%|███████▌  | 76/101 [58:48<16:53, 40.54s/it]The attention mask and the pad token id were not set. As a consequence, you may observe unexpected behavior. Please pass your input's `attention_mask` to obtain reliable results.\n",
            "Setting `pad_token_id` to `eos_token_id`:2 for open-end generation.\n",
            " 76%|███████▌  | 77/101 [59:22<15:25, 38.57s/it]The attention mask and the pad token id were not set. As a consequence, you may observe unexpected behavior. Please pass your input's `attention_mask` to obtain reliable results.\n",
            "Setting `pad_token_id` to `eos_token_id`:2 for open-end generation.\n",
            " 77%|███████▋  | 78/101 [1:00:14<16:20, 42.62s/it]The attention mask and the pad token id were not set. As a consequence, you may observe unexpected behavior. Please pass your input's `attention_mask` to obtain reliable results.\n",
            "Setting `pad_token_id` to `eos_token_id`:2 for open-end generation.\n",
            " 78%|███████▊  | 79/101 [1:00:46<14:25, 39.35s/it]The attention mask and the pad token id were not set. As a consequence, you may observe unexpected behavior. Please pass your input's `attention_mask` to obtain reliable results.\n",
            "Setting `pad_token_id` to `eos_token_id`:2 for open-end generation.\n",
            " 79%|███████▉  | 80/101 [1:01:32<14:26, 41.28s/it]The attention mask and the pad token id were not set. As a consequence, you may observe unexpected behavior. Please pass your input's `attention_mask` to obtain reliable results.\n",
            "Setting `pad_token_id` to `eos_token_id`:2 for open-end generation.\n",
            " 80%|████████  | 81/101 [1:02:20<14:23, 43.18s/it]The attention mask and the pad token id were not set. As a consequence, you may observe unexpected behavior. Please pass your input's `attention_mask` to obtain reliable results.\n",
            "Setting `pad_token_id` to `eos_token_id`:2 for open-end generation.\n",
            " 81%|████████  | 82/101 [1:03:09<14:15, 45.00s/it]The attention mask and the pad token id were not set. As a consequence, you may observe unexpected behavior. Please pass your input's `attention_mask` to obtain reliable results.\n",
            "Setting `pad_token_id` to `eos_token_id`:2 for open-end generation.\n",
            " 82%|████████▏ | 83/101 [1:04:16<15:29, 51.66s/it]The attention mask and the pad token id were not set. As a consequence, you may observe unexpected behavior. Please pass your input's `attention_mask` to obtain reliable results.\n",
            "Setting `pad_token_id` to `eos_token_id`:2 for open-end generation.\n",
            " 83%|████████▎ | 84/101 [1:05:22<15:53, 56.08s/it]The attention mask and the pad token id were not set. As a consequence, you may observe unexpected behavior. Please pass your input's `attention_mask` to obtain reliable results.\n",
            "Setting `pad_token_id` to `eos_token_id`:2 for open-end generation.\n",
            " 84%|████████▍ | 85/101 [1:06:21<15:10, 56.88s/it]The attention mask and the pad token id were not set. As a consequence, you may observe unexpected behavior. Please pass your input's `attention_mask` to obtain reliable results.\n",
            "Setting `pad_token_id` to `eos_token_id`:2 for open-end generation.\n",
            " 85%|████████▌ | 86/101 [1:07:02<13:01, 52.08s/it]The attention mask and the pad token id were not set. As a consequence, you may observe unexpected behavior. Please pass your input's `attention_mask` to obtain reliable results.\n",
            "Setting `pad_token_id` to `eos_token_id`:2 for open-end generation.\n",
            " 86%|████████▌ | 87/101 [1:07:49<11:46, 50.48s/it]The attention mask and the pad token id were not set. As a consequence, you may observe unexpected behavior. Please pass your input's `attention_mask` to obtain reliable results.\n",
            "Setting `pad_token_id` to `eos_token_id`:2 for open-end generation.\n",
            " 87%|████████▋ | 88/101 [1:08:37<10:45, 49.69s/it]The attention mask and the pad token id were not set. As a consequence, you may observe unexpected behavior. Please pass your input's `attention_mask` to obtain reliable results.\n",
            "Setting `pad_token_id` to `eos_token_id`:2 for open-end generation.\n",
            " 88%|████████▊ | 89/101 [1:09:11<09:02, 45.23s/it]The attention mask and the pad token id were not set. As a consequence, you may observe unexpected behavior. Please pass your input's `attention_mask` to obtain reliable results.\n",
            "Setting `pad_token_id` to `eos_token_id`:2 for open-end generation.\n",
            " 89%|████████▉ | 90/101 [1:09:59<08:25, 45.95s/it]The attention mask and the pad token id were not set. As a consequence, you may observe unexpected behavior. Please pass your input's `attention_mask` to obtain reliable results.\n",
            "Setting `pad_token_id` to `eos_token_id`:2 for open-end generation.\n",
            " 90%|█████████ | 91/101 [1:10:43<07:33, 45.34s/it]The attention mask and the pad token id were not set. As a consequence, you may observe unexpected behavior. Please pass your input's `attention_mask` to obtain reliable results.\n",
            "Setting `pad_token_id` to `eos_token_id`:2 for open-end generation.\n",
            " 91%|█████████ | 92/101 [1:11:16<06:13, 41.55s/it]The attention mask and the pad token id were not set. As a consequence, you may observe unexpected behavior. Please pass your input's `attention_mask` to obtain reliable results.\n",
            "Setting `pad_token_id` to `eos_token_id`:2 for open-end generation.\n",
            " 92%|█████████▏| 93/101 [1:11:51<05:18, 39.81s/it]The attention mask and the pad token id were not set. As a consequence, you may observe unexpected behavior. Please pass your input's `attention_mask` to obtain reliable results.\n",
            "Setting `pad_token_id` to `eos_token_id`:2 for open-end generation.\n",
            " 93%|█████████▎| 94/101 [1:12:58<05:35, 47.88s/it]The attention mask and the pad token id were not set. As a consequence, you may observe unexpected behavior. Please pass your input's `attention_mask` to obtain reliable results.\n",
            "Setting `pad_token_id` to `eos_token_id`:2 for open-end generation.\n",
            " 94%|█████████▍| 95/101 [1:13:42<04:39, 46.53s/it]The attention mask and the pad token id were not set. As a consequence, you may observe unexpected behavior. Please pass your input's `attention_mask` to obtain reliable results.\n",
            "Setting `pad_token_id` to `eos_token_id`:2 for open-end generation.\n",
            " 95%|█████████▌| 96/101 [1:14:28<03:52, 46.44s/it]The attention mask and the pad token id were not set. As a consequence, you may observe unexpected behavior. Please pass your input's `attention_mask` to obtain reliable results.\n",
            "Setting `pad_token_id` to `eos_token_id`:2 for open-end generation.\n",
            " 96%|█████████▌| 97/101 [1:15:10<03:00, 45.09s/it]The attention mask and the pad token id were not set. As a consequence, you may observe unexpected behavior. Please pass your input's `attention_mask` to obtain reliable results.\n",
            "Setting `pad_token_id` to `eos_token_id`:2 for open-end generation.\n",
            " 97%|█████████▋| 98/101 [1:15:55<02:15, 45.25s/it]The attention mask and the pad token id were not set. As a consequence, you may observe unexpected behavior. Please pass your input's `attention_mask` to obtain reliable results.\n",
            "Setting `pad_token_id` to `eos_token_id`:2 for open-end generation.\n",
            " 98%|█████████▊| 99/101 [1:16:36<01:27, 43.85s/it]The attention mask and the pad token id were not set. As a consequence, you may observe unexpected behavior. Please pass your input's `attention_mask` to obtain reliable results.\n",
            "Setting `pad_token_id` to `eos_token_id`:2 for open-end generation.\n",
            " 99%|█████████▉| 100/101 [1:17:08<00:40, 40.47s/it]The attention mask and the pad token id were not set. As a consequence, you may observe unexpected behavior. Please pass your input's `attention_mask` to obtain reliable results.\n",
            "Setting `pad_token_id` to `eos_token_id`:2 for open-end generation.\n",
            "100%|██████████| 101/101 [1:17:58<00:00, 46.32s/it]"
          ]
        },
        {
          "output_type": "stream",
          "name": "stdout",
          "text": [
            "[\"{'Organize a virtual conference with multiple speakers, ensuring a diverse range of topics and engaging presentations, and provide a platform for live interaction with the audience': {'next_modes': ['Create a landing page for the event, including speaker bios, schedule, and registration details', 'Carefully select a playlist of background music that complements the conference theme and enhances the virtual experience'], 'failure': ['Retry by adjusting the speaker lineup or presentation format', 'Exit the planning phase if the conference cannot be organized within the given timeframe', 'Fallback Content by using pre-recorded presentations if live sessions are not feasible', 'Request Human Intervention by consulting with a conference planner']}, 'Create a landing page for the event, including speaker bios, schedule, and registration details, ensuring it is user-friendly and visually appealing': {'next_modes': ['Carefully select a playlist of background music that complements the conference theme and enhances the virtual experience'], 'failure': ['Retry with a simplified design if the page is too complex', 'Switch to Different Mode by creating a mobile-optimized version if the desktop version fails', 'Quality Assurance Check to ensure all links and information are accurate', 'Log and Analyze user feedback for improvements']}, 'Carefully select a playlist of background music that complements the conference theme and enhances the virtual experience, ensuring it is royalty-free and suitable for all audiences': {'next_modes': ['Conduct a final review of the conference setup, including the virtual platform, landing page, and playlist, to ensure a seamless and engaging event'], 'failure': ['Retry by selecting different tracks if the initial choices do not fit', 'Exit if suitable music cannot be found within the budget', 'Quality Assurance Check to ensure the music does not interfere with presentations', 'Mode Optimization by adjusting the volume levels for optimal listening']}, 'Conduct a final review of the conference setup, including the virtual platform, landing page, and playlist, to ensure a seamless and engaging event': {'next_modes': [], 'failure': None}}</s>\", \"{'Sketch out a storyboard detailing the stages of the water cycle, ensuring it is visually engaging and scientifically accurate': {'next_modes': ['Record a clear and engaging narration that explains each stage of the water cycle', 'Compile a list of sound effects that correspond to each stage of the water cycle'], 'failure': ['Retry with a revised storyboard focusing on clarity and accuracy', 'Exit if the storyboard cannot be completed within a reasonable timeframe', 'Fallback Content by using a generic water cycle animation as a placeholder', 'Request Human Intervention by consulting a science educator for accuracy']}, 'Record a clear and engaging narration that explains each stage of the water cycle, ensuring it matches the pacing of the animation': {'next_modes': ['Combine the narration with the animated short film, synchronizing the audio with the visuals'], 'failure': ['Retry with a different narration style or tone', 'Switch to Different Mode by considering a voice-over artist if self-recording fails', 'Quality Assurance Check to ensure the narration is clear and audible', 'Log and Analyze feedback on initial narration attempts']}, 'Compile a list of sound effects that correspond to each stage of the water cycle, ensuring they enhance the visual storytelling': {'next_modes': ['Combine the narration with the animated short film, synchronizing the audio with the visuals'], 'failure': ['Retry with alternative sound effects if initial choices are not effective', 'Exit if suitable sound effects cannot be found', 'Quality Assurance Check to ensure sound effects are appropriately timed and enhance the narrative', 'Partial Content Delivery by using a simplified set of sound effects if comprehensive effects are not available']}, 'Combine the narration with the animated short film, synchronizing the audio with the visuals, and ensuring the sound effects are appropriately timed': {'next_modes': ['Develop a comprehensive study guide that accompanies the animated short film, providing additional information and interactive elements'], 'failure': ['Retry with adjustments to the audio-visual synchronization', 'Exit if the integration fails', 'Log and Analyze feedback on the integration process', 'Mode Optimization by adjusting audio levels or effects for better integration']}, 'Develop a comprehensive study guide that accompanies the animated short film, providing additional information and interactive elements': {'next_modes':\", \"{'Design a user-friendly interface for the game, ensuring it is engaging and intuitive for users of all ages': {'next_modes': ['Develop interactive math puzzles that gradually increase in difficulty', 'Implement a scoring system that rewards correct answers and encourages progression'], 'failure': ['Retry with a focus on simplifying the interface', 'Exit the design phase if the interface fails to meet user engagement criteria', 'Fallback Content using a standard template', 'Log and Analyze user feedback for improvements']}, 'Develop interactive math puzzles that gradually increase in difficulty, ensuring they are aligned with the intended learning objectives': {'next_modes': ['Integrate the puzzles into the game, ensuring smooth transitions and clear instructions'], 'failure': ['Retry with adjustments to puzzle complexity', 'Request Human Intervention for educational content validation', 'Quality Assurance Check to ensure puzzles are effective learning tools', 'Mode Optimization by adjusting puzzle parameters based on pilot testing']}, 'Implement a scoring system that rewards correct answers and encourages progression, ensuring it is motivating and fair': {'next_modes': ['Integrate the puzzles into the game, ensuring smooth transitions and clear instructions'], 'failure': ['Retry with adjustments to scoring criteria', 'Switch to Different Mode by considering alternative reward systems', 'Partial Content Delivery by releasing a simplified version of the game', 'Graceful Degradation by reducing the complexity of scoring']}, 'Integrate the puzzles into the game, ensuring smooth transitions and clear instructions, and test the game for usability and educational effectiveness': {'next_modes': ['Conduct a comprehensive review of the game to ensure it meets educational standards and is enjoyable for users'], 'failure': ['Retry with adjustments to game flow or puzzle placement', 'Exit if the game fails to meet educational or usability standards', 'Log and Analyze user feedback for improvements', 'Alternative Data Sources for educational content validation']}, 'Conduct a comprehensive review of the game to ensure it meets educational standards and is enjoyable for users': {'next_modes': [], 'failure': None}}</s>\", \"{'Develop a mobile app that utilizes speech recognition technology to transcribe spoken language in real-time, ensuring high accuracy and low latency': {'next_modes': ['Integrate a text-to-speech engine to provide real-time audio output', 'Implement a user interface for easy interaction and feedback'], 'failure': ['Retry with adjusted parameters for speech recognition', 'Exit the development phase if the technology does not meet requirements', 'Fallback Content by using pre-recorded phrases for unrecognized words', 'Request Human Intervention for manual correction of transcriptions']}, 'Integrate a text-to-speech engine to provide real-time audio output, ensuring clear and accurate pronunciation': {'next_modes': ['Conduct thorough testing to ensure the app accurately translates spoken language in real-time, with both text and audio output'], 'failure': ['Retry with different text-to-speech engines', 'Switch to Different Mode by offering text-only output if audio fails', 'Quality Assurance Check to ensure audio clarity and accuracy', 'Log and Analyze any discrepancies between spoken and transcribed words']}, 'Implement a user interface for easy interaction and feedback, including options for manual correction and customization': {'next_modes': ['Conduct thorough testing to ensure the app accurately translates spoken language in real-time, with both text and audio output'], 'failure': ['Retry with simplified UI design', 'Exit the development phase if UI does not meet user needs', 'Quality Assurance Check to ensure UI is intuitive and user-friendly', 'Mode Optimization by adjusting UI elements based on user feedback']}, 'Conduct thorough testing to ensure the app accurately translates spoken language in real-time, with both text and audio output, and gathers user feedback for continuous improvement': {'next_modes': [], 'failure': None}}</s>\", \"{'Conduct comprehensive research on time management techniques, focusing on current trends and best practices, using academic and professional sources': {'next_modes': ['Draft the eBook content, incorporating research findings and practical tips', 'Design an engaging eBook cover that reflects the content theme', 'Develop a layout for the eBook that enhances readability and visual appeal'], 'failure': ['Retry the research phase with a focus on more recent publications', 'Exit the project if sufficient high-quality sources are not found', 'Fallback Content by using widely accepted time management principles', 'Request Human Intervention by consulting a time management expert']}, 'Draft the eBook content, incorporating research findings and practical tips, ensuring clarity and engagement': {'next_modes': ['Design an engaging eBook cover that reflects the content theme', 'Develop a layout for the eBook that enhances readability and visual appeal', 'Conduct a thorough review of the eBook for accuracy, coherence, and reader engagement'], 'failure': ['Retry drafting with a focus on simplifying complex concepts', 'Switch to Different Mode by considering a video series if the eBook format is not effective', 'Quality Assurance Check to ensure all information is factually correct and up-to-date', 'Log and Analyze feedback from early readers for improvement']}, 'Design an engaging eBook cover that reflects the content theme, using graphic design software': {'next_modes': ['Develop a layout for the eBook that enhances readability and visual appeal'], 'failure': ['Retry with a different design approach if initial feedback is negative', 'Exit if the cover does not align with the content', 'Quality Assurance Check to ensure the cover is visually appealing and accurately represents the content', 'Mode Optimization by adjusting design elements based on feedback']}, 'Develop a layout for the eBook that enhances readability and visual appeal, using design software': {'next_modes': ['Conduct a thorough review of the eBook for accuracy, coherence, and reader engagement'], 'failure': ['Retry with a different layout if initial feedback is negative', 'Exit if the layout does not meet design standards', 'Fallback Content by using a standard layout template', 'Alternative Data Sources for design inspiration']}, 'Conduct a thorough review of the eBook for accuracy, coherence, and reader engagement, making necessary adjustments\", \"{'Develop a compelling short story with a clear narrative arc, engaging characters, and a captivating setting, ensuring it is suitable for a wide audience': {'next_modes': ['Create an animated video that visually brings the story to life, focusing on key scenes and character expressions', 'Compose a musical score that complements the story and enhances the emotional impact of the video'], 'failure': ['Retry by refining the story based on feedback', 'Exit if the story does not meet creative standards', 'Fallback Content by using a pre-existing story template', 'Request Human Intervention for creative direction']}, 'Create an animated video that visually brings the story to life, focusing on key scenes and character expressions, ensuring the animation is synchronized with the story': {'next_modes': ['Compose a musical score that complements the story and enhances the emotional impact of the video'], 'failure': ['Retry with adjustments to animation timing or visual effects', 'Switch to Different Mode by considering a voice-over narration if animation fails', 'Quality Assurance Check to ensure animation quality and synchronization', 'Log and Analyze feedback for future projects']}, 'Compose a musical score that complements the story and enhances the emotional impact of the video, using a variety of instruments and musical styles': {'next_modes': ['Perform a final review of the video and music synchronization, ensuring the music enhances the storytelling'], 'failure': ['Retry with adjustments to the music to better fit the video', 'Exit if synchronization cannot be achieved', 'Quality Assurance Check to ensure music quality and emotional impact', 'Mode Optimization by adjusting music tempo or instrumentation']}, 'Perform a final review of the video and music synchronization, ensuring the music enhances the storytelling': {'next_modes': [], 'failure': None}}</s>\", \"{'Develop a comprehensive curriculum for the tutorial series, outlining the learning objectives and content for each module, ensuring it covers a range of coding concepts suitable for beginners': {'next_modes': ['Create engaging and informative video tutorials that demonstrate coding concepts in action', 'Design interactive coding exercises that allow learners to practice and apply concepts', 'Write clear and concise text-based content that complements the video and coding exercises'], 'failure': ['Retry by refining the curriculum based on feedback from educational experts', 'Exit the project if the curriculum does not meet educational standards', 'Fallback Content by using existing educational resources as a base', 'Log and Analyze feedback for continuous improvement']}, 'Create engaging and informative video tutorials that demonstrate coding concepts in action, ensuring clarity and accessibility for learners of all backgrounds': {'next_modes': ['Design interactive coding exercises that allow learners to practice and apply concepts', 'Write clear and concise text-based content that complements the video and coding exercises'], 'failure': ['Retry with adjustments to video quality or content clarity', 'Request Human Intervention by consulting educational experts for content enhancement', 'Quality Assurance Check to ensure educational accuracy and engagement']}, 'Design interactive coding exercises that allow learners to practice and apply concepts, providing instant feedback and guidance': {'next_modes': ['Write clear and concise text-based content that complements the video and coding exercises'], 'failure': ['Retry by simplifying or adjusting the coding exercises based on learner feedback', 'Switch to Different Mode by incorporating more visual aids if textual instructions are not effective', 'Partial Content Delivery by releasing a subset of exercises if full development is not feasible']}, 'Write clear and concise text-based content that complements the video and coding exercises, ensuring it is accessible and engaging for learners': {'next_modes': ['Conduct a comprehensive review of the tutorial series to ensure educational effectiveness and user engagement'], 'failure': ['Retry with revisions to content clarity or engagement', 'Exit if the content does not meet educational standards', 'Log and Analyze feedback for continuous improvement', 'Alternative Data Sources by incorporating additional educational resources']}, 'Conduct a comprehensive review of the tutorial series to ensure educational effectiveness and user engagement': {'next_modes': [], 'failure': None}}</s>\", \"{'Brainstorm and finalize a catchy slogan that encapsulates the unique selling points of the new coffee blend, ensuring it resonates with the target audience': {'next_modes': ['Compose a social media post that highlights the slogan and the new blend, incorporating visuals and hashtags to increase engagement'], 'failure': ['Retry with a different slogan if initial feedback is negative', 'Exit the campaign planning if a compelling slogan cannot be agreed upon', 'Fallback Content by using a generic slogan while refining the brand message', 'Request Human Intervention by consulting a marketing expert']}, 'Compose a social media post that highlights the slogan and the new blend, incorporating visuals and hashtags to increase engagement': {'next_modes': ['Record a jingle that complements the slogan and the brand image, ensuring it is memorable and catchy'], 'failure': ['Retry with a different post format or visual if initial engagement is low', 'Switch to Different Mode by creating a video if the post format does not perform', 'Quality Assurance Check to ensure the post meets brand standards and guidelines', 'Partial Content Delivery by releasing a teaser post if the full post is not ready']}, 'Record a jingle that complements the slogan and the brand image, ensuring it is memorable and catchy': {'next_modes': ['Conduct a final review of the campaign elements, including the slogan, social media post, and jingle, to ensure cohesiveness and impact'], 'failure': ['Retry recording the jingle with adjustments to melody or lyrics', 'Exit the campaign if the jingle does not align with the brand image', 'Log and Analyze feedback on jingle previews for improvements', 'Mode Optimization by adjusting the recording setup or instrumentation']}, 'Conduct a final review of the campaign elements, including the slogan, social media post, and jingle, to ensure cohesiveness and impact': {'next_modes': [], 'failure': None}}</s>\", \"{'Conduct comprehensive research on local wildlife, focusing on unique species and habitats, using academic databases and local experts': {'next_modes': ['Capture high-quality footage of the identified wildlife in their natural habitats, using professional camera equipment'], 'failure': ['Retry with a broader search for more information', 'Exit the research phase if sufficient data is not found', 'Fallback Content using general wildlife knowledge', 'Request Human Intervention by consulting with wildlife experts']}, 'Capture high-quality footage of the identified wildlife in their natural habitats, using professional camera equipment, ensuring ethical practices': {'next_modes': ['Edit the footage to create a cohesive narrative, incorporating interviews with experts and background information on the species'], 'failure': ['Retry with different filming locations or times', 'Switch to Different Mode by using stock footage if original footage is unusable', 'Quality Assurance Check for ethical filming practices', 'Log and Analyze for recurring issues in filming']}, 'Edit the footage to create a cohesive narrative, incorporating interviews with experts and background information on the species, using professional editing software': {'next_modes': ['Publish the documentary online, ensuring it is accessible to a wide audience and optimized for different platforms'], 'failure': ['Retry with adjustments to the narrative flow', 'Exit if the documentary does not meet quality standards', 'Quality Assurance Check for factual accuracy and narrative coherence', 'Mode Optimization by adjusting video settings for different platforms']}, 'Publish the documentary online, ensuring it is accessible to a wide audience and optimized for different platforms, including social media and educational websites': {'next_modes': [], 'failure': None}}</s>\", \"{'Compose a background score for a short film, focusing on themes that align with the film's narrative and emotional tone': {'next_modes': ['Synchronize the music with the film\\\\'s editing timeline, ensuring seamless transitions and timing'], 'failure': ['Retry by adjusting the composition to better fit the film\\\\'s pacing', 'Exit if the music does not align with the film\\\\'s vision', 'Fallback Content by using royalty-free music as a temporary solution', 'Request Human Intervention by consulting a music director for guidance']}, 'Synchronize the music with the film\\\\'s editing timeline, ensuring seamless transitions and timing': {'next_modes': ['Perform a final review to ensure the music enhances the film\\\\'s narrative and emotional impact'], 'failure': ['Retry by adjusting the music timing to better match the film\\\\'s pacing', 'Switch to Different Mode by considering voice-over narration if music synchronization fails', 'Quality Assurance Check to ensure the music enhances the film\\\\'s narrative and emotional impact', 'Log and Analyze discrepancies between music and film for future reference']}, 'Perform a final review to ensure the music enhances the film\\\\'s narrative and emotional impact': {'next_modes': [], 'failure': None}}</s>\", \"{'Write a science fiction story that explores themes of artificial intelligence and space exploration, ensuring the narrative is engaging and thought-provoking': {'next_modes': ['Record the story as a podcast episode, incorporating sound effects and music to enhance the listener experience'], 'failure': ['Retry by revising the story to better align with the intended themes', 'Exit if the story does not meet the creative standards', 'Fallback Content by using a previously written story as a template', 'Request Human Intervention by seeking feedback from a writing group']}, 'Record the story as a podcast episode, incorporating sound effects and music to enhance the listener experience, ensuring the audio quality is high': {'next_modes': ['Perform a detailed analysis of listener feedback and sentiment towards the podcast episode, using AI tools to identify trends and patterns'], 'failure': ['Retry with adjustments to audio levels or sound effects', 'Switch to Different Mode by considering a video version if audio quality is not sufficient', 'Quality Assurance Check to ensure the podcast meets audio standards', 'Alternative Data Sources for additional sound effects or music']}, 'Perform a detailed analysis of listener feedback and sentiment towards the podcast episode, using AI tools to identify trends and patterns': {'next_modes': [], 'failure': None}}</s>\", \"{'Design a game-level based on ancient civilizations, focusing on historical accuracy and educational content, using a game engine': {'next_modes': ['Develop interactive puzzles that require players to apply historical knowledge', 'Create an engaging narrative that immerses players in the civilization'], 'failure': ['Retry with a different historical period or civilization', 'Exit the design phase if the concept is not viable', 'Fallback Content by using a generic civilization template', 'Log and Analyze feedback from initial playtesting']}, 'Develop interactive puzzles that require players to apply historical knowledge, ensuring they are challenging but solvable': {'next_modes': ['Integrate the puzzles into the game level, ensuring they are seamlessly integrated into the narrative'], 'failure': ['Retry with adjusted puzzle difficulty', 'Request Human Intervention by consulting educational experts', 'Quality Assurance Check to ensure historical accuracy', 'Mode Optimization by adjusting puzzle complexity based on playtesting']}, 'Create an engaging narrative that immerses players in the civilization, using historical facts and fictional elements': {'next_modes': ['Integrate the narrative into the game level, ensuring it enhances the educational content and puzzle experience'], 'failure': ['Retry with a different narrative approach', 'Switch to Different Mode by focusing on a more straightforward storytelling', 'Partial Content Delivery by releasing a teaser of the narrative', 'Alternative Data Sources for more accurate historical information']}, 'Integrate the puzzles and narrative into the game level, ensuring they are seamlessly integrated and enhance the player experience': {'next_modes': ['Conduct a comprehensive review of the game level for educational accuracy, puzzle difficulty, and narrative engagement'], 'failure': ['Retry with adjustments based on playtesting feedback', 'Exit if integration fails', 'Quality Assurance Check to ensure all elements work together', 'Log and Analyze player interactions for improvement']}, 'Conduct a comprehensive review of the game level for educational accuracy, puzzle difficulty, and narrative engagement': {'next_modes': [], 'failure': None}}</s>\", \"{'Conduct in-depth research on traditional woodworking techniques, focusing on historical significance and cultural relevance': {'next_modes': ['Produce a series of short videos showcasing various woodworking techniques', 'Develop a comprehensive guide on the history and significance of traditional woodworking'], 'failure': ['Retry with a broader search scope', 'Exit the project if sufficient information cannot be found', 'Fallback Content using general woodworking knowledge', 'Request Human Intervention for expert insights']}, 'Produce a series of short videos showcasing various woodworking techniques, including interviews with master craftsmen': {'next_modes': ['Edit the videos to ensure high-quality production and engaging content'], 'failure': ['Retry with improved filming techniques', 'Switch to Different Mode by creating a photo series if video production fails', 'Quality Assurance Check for technical and informational accuracy']}, 'Edit the videos to ensure high-quality production and engaging content, incorporating interviews and demonstrations': {'next_modes': ['Conduct a final review to ensure the series is informative, engaging, and technically sound'], 'failure': ['Retry with adjustments to pacing or content', 'Exit if the series does not meet educational standards', 'Log and Analyze viewer feedback for future improvements', 'Alternative Data Sources for additional expert insights']}, 'Conduct a final review to ensure the series is informative, engaging, and technically sound': {'next_modes': [], 'failure': None}}</s>\", \"{'Design a visually appealing logo that represents the brand's values and identity, using graphic design software': {'next_modes': ['Create a social media banner that complements the logo, ensuring it is the correct size and resolution for various platforms'], 'failure': ['Retry with a different design concept', 'Exit if the design does not meet brand standards', 'Fallback Content using a generic template', 'Request Human Intervention for creative direction']}, 'Create a social media banner that complements the logo, ensuring it is the correct size and resolution for various platforms, using design software': {'next_modes': ['Conduct a thorough review to ensure the banner and logo are cohesive and meet brand guidelines'], 'failure': ['Retry with adjustments to the banner design', 'Switch to Different Mode by considering a video banner if static images do not convey the message', 'Quality Assurance Check to ensure brand consistency', 'Log and Analyze feedback for future design improvements']}, 'Conduct a thorough review to ensure the banner and logo are cohesive and meet brand guidelines': {'next_modes': [], 'failure': None}}</s>\", \"{'Conduct extensive research on local wildlife, identifying key species and habitats, and gather high-quality footage through fieldwork': {'next_modes': ['Compose a detailed script that highlights the wildlife’s behaviors, habitats, and conservation efforts', 'Record the documentary narration with clear diction and emotional depth'], 'failure': ['Retry by focusing on different species or habitats if initial choices are not viable', 'Exit the project if sufficient footage cannot be obtained', 'Fallback Content by using stock footage and voiceovers if original content is insufficient']}, 'Compose a detailed script that highlights the wildlife’s behaviors, habitats, and conservation efforts, ensuring it is engaging and informative': {'next_modes': ['Record the documentary narration with clear diction and emotional depth'], 'failure': ['Retry by refining the script for clarity and engagement', 'Request Human Intervention by consulting with wildlife experts for accuracy', 'Log and Analyze feedback from test audiences for improvement']}, 'Record the documentary narration with clear diction and emotional depth, ensuring it matches the tone and pace of the documentary': {'next_modes': ['Evaluate the documentary for educational value, engagement, and accuracy of information presented'], 'failure': ['Retry with adjustments to pacing or tone', 'Switch to Different Mode by considering a voiceover artist if self-narration is not effective', 'Quality Assurance Check to ensure narration matches the documentary’s theme']}, 'Evaluate the documentary for educational value, engagement, and accuracy of information presented': {'next_modes': [], 'failure': None}}</s>\", \"{'Translate the document from English to Spanish using a professional translation service, ensuring the translation is culturally accurate and grammatically correct': {'next_modes': ['Record the translated document in Spanish, using a clear and engaging voice to ensure the audio version is engaging and easy to understand'], 'failure': ['Retry the translation with a different service if initial results are not satisfactory', 'Exit the translation process if the document is too complex for accurate translation', 'Fallback Content by using a simpler version of the document if translation fails', 'Request Human Intervention by consulting a bilingual expert for manual translation']}, 'Record the translated document in Spanish, using a clear and engaging voice to ensure the audio version is engaging and easy to understand': {'next_modes': ['Conduct a thorough review of the audio version to ensure it accurately reflects the translated text and is of high audio quality'], 'failure': ['Retry the recording with improved audio equipment or settings', 'Switch to Different Mode by creating a text-to-speech version if direct recording fails', 'Quality Assurance Check to ensure audio clarity and accuracy', 'Log and Analyze any issues with audio quality or clarity']}, 'Conduct a thorough review of the audio version to ensure it accurately reflects the translated text and is of high audio quality': {'next_modes': [], 'failure': None}}</s>\", \"{'Conduct in-depth research on the latest AI advancements and their potential impact on various industries, focusing on job displacement and creation': {'next_modes': ['Compose a script that outlines the research findings, including expert interviews and case studies', 'Identify and select relevant sound effects and music to enhance the podcast episode'], 'failure': ['Retry the research phase with a focus on more recent developments', 'Exit the project if sufficient data cannot be gathered', 'Fallback Content by using general AI trends as a base', 'Request Human Intervention by consulting with AI experts']}, 'Compose a script that outlines the research findings, including expert interviews and case studies, ensuring a clear narrative flow': {'next_modes': ['Record the podcast episode, ensuring high audio quality and engaging delivery'], 'failure': ['Retry the scriptwriting with a focus on clarity and engagement', 'Switch to Different Mode by considering a video format if audio quality is not achievable', 'Quality Assurance Check to ensure the script is coherent and engaging', 'Partial Content Delivery by releasing a teaser episode']}, 'Record the podcast episode, ensuring high audio quality and engaging delivery, with careful editing to maintain listener interest': {'next_modes': ['Conduct a final review of the episode for content accuracy, audio quality, and overall listener engagement'], 'failure': ['Retry the recording with adjustments to pacing or content', 'Exit the project if the episode does not meet quality standards', 'Log and Analyze feedback from test listeners for improvement', 'Mode Optimization by adjusting recording settings for better audio quality']}, 'Conduct a final review of the episode for content accuracy, audio quality, and overall listener engagement': {'next_modes': [], 'failure': None}}</s>\", \"{'Conduct in-depth research on sustainable living practices, focusing on energy conservation, waste reduction, and eco-friendly consumption': {'next_modes': ['Develop a comprehensive tutorial covering various aspects of sustainable living, including practical tips and case studies'], 'failure': ['Retry the research with a focus on more recent studies', 'Exit the project if sufficient information cannot be found', 'Fallback Content using general sustainability principles', 'Request Human Intervention for expert consultation']}, 'Develop a comprehensive tutorial covering various aspects of sustainable living, including practical tips and case studies, ensuring it is accessible and engaging for a wide audience': {'next_modes': ['Distribute the tutorial across multiple platforms, including blogs, social media, and educational websites, to maximize reach and impact'], 'failure': ['Retry with adjustments to content based on feedback', 'Switch to Different Mode by creating a video series if textual content is not effective', 'Quality Assurance Check to ensure all information is accurate and up-to-date', 'Log and Analyze feedback for continuous improvement']}, 'Distribute the tutorial across multiple platforms, including blogs, social media, and educational websites, to maximize reach and impact': {'next_modes': ['Monitor the tutorial’s influence on sustainable practices, tracking engagement metrics and feedback to assess its effectiveness'], 'failure': ['Retry distribution with targeted promotional strategies', 'Exit if the tutorial fails to gain traction', 'Quality Assurance Check to ensure all platforms are optimized for content delivery', 'Mode Optimization by adjusting content format based on platform preferences']}, 'Monitor the tutorial’s influence on sustainable practices, tracking engagement metrics and feedback to assess its effectiveness': {'next_modes': [], 'failure': None}}</s>\", \"{'Compose a song that aligns with the intended theme, using digital audio workstations to arrange melodies, harmonies, and rhythms': {'next_modes': ['Produce a music video that visually complements the song, incorporating storytelling elements and artistic direction'], 'failure': ['Retry by adjusting the composition to better fit the theme', 'Exit if the composition does not meet creative standards', 'Fallback Content by using a pre-existing melody', 'Request Human Intervention for creative direction']}, 'Produce a music video that visually complements the song, incorporating storytelling elements and artistic direction, using video editing software': {'next_modes': ['Write a comprehensive review of the music video, focusing on its artistic merit, narrative coherence, and alignment with the song'], 'failure': ['Retry with different visual elements or storytelling techniques', 'Switch to Different Mode by creating a lyric video if the original concept fails', 'Quality Assurance Check to ensure the video meets production standards', 'Log and Analyze feedback for future improvements']}, 'Write a comprehensive review of the music video, focusing on its artistic merit, narrative coherence, and alignment with the song, using a clear and engaging writing style': {'next_modes': [], 'failure': None}}</s>\", \"{'Narrate a documentary script focusing on a specific theme, ensuring clear and engaging storytelling': {'next_modes': ['Design a poster that captures the essence of the documentary', 'Compose social media posts that highlight key moments and themes'], 'failure': ['Retry with a revised script focusing on clarity and engagement', 'Exit if the script does not meet narrative standards', 'Fallback Content using a generic script template', 'Request Human Intervention for script editing']}, 'Design a poster that captures the essence of the documentary, including key visuals and text': {'next_modes': ['Compose social media posts that highlight key moments and themes'], 'failure': ['Retry with a revised design that better aligns with the documentary theme', 'Switch to Different Mode by creating a digital poster if print is not feasible', 'Quality Assurance Check for visual accuracy and brand consistency']}, 'Compose social media posts that highlight key moments and themes, ensuring they are engaging and shareable': {'next_modes': ['Analyze engagement metrics and feedback to refine future promotional efforts'], 'failure': ['Retry with different post formats or content', 'Exit if engagement targets are not met', 'Log and Analyze engagement patterns for future campaigns', 'Mode Optimization by adjusting post timing or content based on past successes']}, 'Analyze engagement metrics and feedback to refine future promotional efforts': {'next_modes': [], 'failure': None}}</s>\", \"{'Develop a comprehensive marketing strategy for the new tech product, identifying target demographics and key messages': {'next_modes': ['Create engaging social media posts tailored to the identified demographics', 'Produce high-quality promotional videos highlighting product features', 'Organize an interactive online event to introduce the product'], 'failure': ['Retry with a refined strategy focusing on different demographics', 'Exit if the product launch is delayed', 'Fallback Content using generic marketing templates', 'Request Human Intervention for strategic guidance']}, 'Create engaging social media posts tailored to the identified demographics, including visuals and hashtags': {'next_modes': ['Analyze engagement metrics to refine future posts'], 'failure': ['Retry with adjusted content or timing', 'Switch to Different Mode by considering influencer partnerships', 'Quality Assurance Check for brand consistency', 'Log and Analyze engagement patterns for future campaigns']}, 'Produce high-quality promotional videos highlighting product features, ensuring clear messaging and visual appeal': {'next_modes': ['Conduct a thorough review of the videos for quality and alignment with the marketing strategy'], 'failure': ['Retry with revisions based on feedback', 'Exit if the videos do not meet quality standards', 'Quality Assurance Check for brand consistency', 'Mode Optimization by adjusting video length or format']}, 'Organize an interactive online event to introduce the product, including live demos and Q&A sessions': {'next_modes': ['Assess the event for engagement and information dissemination effectiveness'], 'failure': ['Retry with a revised format or content if initial feedback is negative', 'Exit if technical issues persist', 'Log and Analyze viewer feedback for future events', 'Alternative Data Sources for technical support']}, 'Analyze engagement metrics to refine future posts': {'next_modes': [], 'failure': None}, 'Conduct a thorough review of the videos for quality and alignment with the marketing strategy': {'next_modes': [], 'failure': None}, 'Assess the event for engagement and information dissemination effectiveness': {'next_modes': [], 'failure': None}}</s>\", \"{'Create a short, engaging video that introduces the brand and its offerings, ensuring it is optimized for web viewing': {'next_modes': ['Collect and compile testimonials from satisfied customers, highlighting their experiences with the brand', 'Curate a selection of high-quality images that represent the brand and its products'], 'failure': ['Retry with adjustments to video content or format', 'Exit if unable to produce a satisfactory video', 'Fallback Content using stock footage or animation', 'Request Human Intervention for creative direction']}, 'Collect and compile testimonials from satisfied customers, highlighting their experiences with the brand, ensuring authenticity and diversity': {'next_modes': ['Design and develop a landing page layout that seamlessly integrates the video, testimonials, and photo gallery'], 'failure': ['Retry with additional testimonials or different presentation formats', 'Switch to Different Mode by considering a text-based testimonial section', 'Quality Assurance Check for testimonial accuracy and relevance', 'Alternative Data Sources for additional testimonials']}, 'Curate a selection of high-quality images that represent the brand and its products, ensuring they are optimized for web viewing and visually appealing': {'next_modes': ['Design and develop a landing page layout that seamlessly integrates the video, testimonials, and photo gallery'], 'failure': ['Retry with different images or adjustments to image quality', 'Exit if unable to find suitable images', 'Log and Analyze image selection and optimization processes', 'Partial Content Delivery by featuring a subset of images']}, 'Design and develop a landing page layout that seamlessly integrates the video, testimonials, and photo gallery, ensuring user-friendly navigation and visual appeal': {'next_modes': ['Perform a comprehensive review of the landing page for usability, design, and content accuracy'], 'failure': ['Retry with adjustments to layout or content', 'Exit if the landing page does not meet design standards', 'Quality Assurance Check for usability and accessibility', 'Mode Optimization by adjusting page elements for better user engagement']}, 'Perform a comprehensive review of the landing page for usability, design, and content accuracy': {'next_modes': [], 'failure': None}}</s>\", \"{'Design and develop a conversational interface for the virtual assistant, ensuring it is user-friendly and intuitive': {'next_modes': ['Perform a comprehensive nutritional analysis of user-inputted meals, including calorie counts and nutrient breakdowns'], 'failure': ['Retry with adjustments to the interface based on user feedback', 'Exit the development phase if the interface fails to meet basic usability standards', 'Fallback Content by using a simpler, text-based interface', 'Log and Analyze user interactions for insights']}, 'Perform a comprehensive nutritional analysis of user-inputted meals, including calorie counts and nutrient breakdowns': {'next_modes': ['Generate custom recipe suggestions based on dietary preferences and nutritional needs'], 'failure': ['Retry with improved algorithms for nutritional analysis', 'Request Human Intervention by consulting a nutritionist for complex queries', 'Quality Assurance Check to ensure accuracy of nutritional data', 'Mode Optimization by adjusting the analysis parameters based on user feedback']}, 'Generate custom recipe suggestions based on dietary preferences and nutritional needs': {'next_modes': ['Conduct a final review of the virtual assistant, ensuring it meets all functional and usability requirements'], 'failure': ['Retry with a broader range of recipe suggestions', 'Switch to Different Mode by offering generic meal plans if specific suggestions fail', 'Partial Content Delivery by providing a limited selection of recipes', 'Alternative Data Sources for recipe suggestions']}, 'Conduct a final review of the virtual assistant, ensuring it meets all functional and usability requirements': {'next_modes': [], 'failure': None}}</s>\", \"{'Develop an interactive web-based application that introduces programming concepts through interactive modules, ensuring the content is accessible and engaging for beginners': {'next_modes': ['Integrate a chatbot that can answer common programming questions in real-time, enhancing the learning experience', 'Compile user feedback reports to identify areas for improvement and user satisfaction'], 'failure': ['Retry by refining the application interface based on user feedback', 'Exit the development phase if the application fails to meet educational standards', 'Fallback Content by using pre-existing educational modules', 'Log and Analyze user interactions for insights']}, 'Integrate a chatbot that can answer common programming questions in real-time, enhancing the learning experience': {'next_modes': ['Compile user feedback reports to identify areas for improvement and user satisfaction'], 'failure': ['Retry by improving the chatbot’s response accuracy', 'Switch to Different Mode by offering a FAQ section if chatbot fails', 'Request Human Intervention for complex queries', 'Quality Assurance Check to ensure chatbot responses are accurate and helpful']}, 'Compile user feedback reports to identify areas for improvement and user satisfaction': {'next_modes': [], 'failure': None}}</s>\", \"{'Translate the original poem into three different languages, ensuring cultural nuances are respected and the essence of the poem is preserved': {'next_modes': ['Record the translated poems in their respective languages, using native speakers for authenticity'], 'failure': ['Retry with a different translation approach if initial attempts do not capture the poem\\\\'s essence', 'Exit the task if translations are not viable', 'Fallback Content by using simpler language or idioms if complex phrases are not understood']}, 'Record the translated poems in their respective languages, using native speakers for authenticity, and ensuring high-quality audio production': {'next_modes': ['Compile feedback from native speakers to assess the accuracy and cultural appropriateness of the translations'], 'failure': ['Retry with improved audio quality or different recording settings', 'Request Human Intervention by consulting linguistic experts for feedback', 'Log and Analyze feedback for continuous improvement']}, 'Compile feedback from native speakers to assess the accuracy and cultural appropriateness of the translations': {'next_modes': [], 'failure': None}}</s>\", \"{'Develop a mobile app that utilizes advanced speech recognition algorithms to convert spoken language into text in real-time, ensuring user-friendly interface and seamless integration with device microphones': {'next_modes': ['Conduct a comprehensive evaluation of the app’s accuracy in recognizing various accents and languages, as well as its usability in different environments'], 'failure': ['Retry development with adjusted algorithms or settings', 'Exit the project if technical limitations cannot be overcome', 'Fallback Content by using a simpler, less accurate but more reliable text-to-speech engine', 'Request Human Intervention for expert analysis of development challenges']}, 'Conduct a comprehensive evaluation of the app’s accuracy in recognizing various accents and languages, as well as its usability in different environments, including noise levels and user feedback': {'next_modes': ['Analyze the evaluation results to identify areas for improvement and potential bugs'], 'failure': ['Retry the evaluation with a larger sample size or different test scenarios', 'Switch to Different Mode by conducting a user survey for direct feedback', 'Quality Assurance Check to ensure all test cases are met', 'Alternative Data Sources for more diverse test cases']}, 'Analyze the evaluation results to identify areas for improvement and potential bugs': {'next_modes': [], 'failure': None}}</s>\", \"{'Record a step-by-step tutorial of the software application, ensuring clear audio and visual quality, and highlighting key features': {'next_modes': ['Draft a comprehensive FAQ section addressing common questions and issues', 'Edit the video tutorial to enhance clarity and engagement'], 'failure': ['Retry recording with improved lighting or audio settings', 'Exit the project if technical issues persist', 'Fallback Content using stock footage or pre-made tutorials', 'Request Human Intervention for technical support']}, 'Draft a comprehensive FAQ section addressing common questions and issues, ensuring it is easily accessible and searchable': {'next_modes': ['Edit the video tutorial to enhance clarity and engagement'], 'failure': ['Retry drafting with more specific questions', 'Switch to Different Mode by creating a separate FAQ video', 'Quality Assurance Check for accuracy and completeness', 'Alternative Data Sources for additional questions']}, 'Edit the video tutorial to enhance clarity and engagement, adding transitions, annotations, and voice-over enhancements': {'next_modes': ['Conduct a final review to ensure the tutorial is informative, engaging, and technically accurate'], 'failure': ['Retry editing with adjustments to pacing or content', 'Exit if the tutorial does not meet educational standards', 'Log and Analyze viewer feedback for improvements', 'Mode Optimization by adjusting video settings for better playback']}, 'Conduct a final review to ensure the tutorial is informative, engaging, and technically accurate': {'next_modes': [], 'failure': None}}</s>\", \"{'Translate the original story into three different languages, ensuring cultural nuances are accurately represented': {'next_modes': ['Record the story in each language, employing native speakers for authenticity'], 'failure': ['Retry with a different translation approach if initial attempts are inaccurate', 'Exit the project if translations are not viable', 'Fallback Content by using simpler language or well-known idioms', 'Request Human Intervention by consulting linguistic experts']}, 'Record the story in each language, employing native speakers for authenticity': {'next_modes': ['Perform a quality check on the audio books to ensure clarity and engagement'], 'failure': ['Retry with improved audio quality or different narrators', 'Switch to Different Mode by creating a text-to-speech version if recording fails', 'Log and Analyze feedback for future improvements', 'Quality Assurance Check to ensure audio standards are met']}, 'Perform a quality check on the audio books to ensure clarity and engagement': {'next_modes': [], 'failure': None}}</s>\", \"{'Develop a comprehensive written guide detailing the software's features, installation process, and basic usage': {'next_modes': ['Produce a series of instructional videos demonstrating key features and troubleshooting common issues', 'Create an FAQ section addressing common questions and concerns'], 'failure': ['Retry with a focus on clarity and completeness', 'Exit if the guide does not meet quality standards', 'Fallback Content using generic software setup instructions']}, 'Produce a series of instructional videos demonstrating key features and troubleshooting common issues, ensuring clarity and engagement': {'next_modes': ['Conduct a thorough review of the videos for accuracy, engagement, and technical quality'], 'failure': ['Retry with adjustments to video quality or content', 'Request Human Intervention for technical issues', 'Log and Analyze viewer feedback for improvements']}, 'Create an FAQ section addressing common questions and concerns, ensuring it is easily accessible and comprehensive': {'next_modes': ['Conduct a thorough review of the FAQ section for accuracy, completeness, and user-friendliness'], 'failure': ['Retry with additional questions or clearer explanations', 'Switch to Different Mode by considering a live chat support system', 'Quality Assurance Check to ensure all questions are answered accurately']}, 'Conduct a thorough review of the videos for accuracy, engagement, and technical quality': {'next_modes': [], 'failure': None}, 'Conduct a thorough review of the FAQ section for accuracy, completeness, and user-friendliness': {'next_modes': [], 'failure': None}}</s>\", \"{'Develop a compelling product video that showcases the fitness tracker's features, benefits, and user-friendly interface, ensuring it resonates with the target audience': {'next_modes': ['Collect and compile authentic customer testimonials highlighting the product’s impact on their fitness journey', 'Design data-driven graphics that visually represent the tracker’s performance metrics and user engagement'], 'failure': ['Retry with a revised script or improved visual effects', 'Exit the video production phase if it fails to meet quality standards', 'Fallback Content using stock footage and voiceover', 'Request Human Intervention for creative direction']}, 'Collect and compile authentic customer testimonials highlighting the product’s impact on their fitness journey, ensuring diversity and credibility': {'next_modes': ['Design data-driven graphics that visually represent the tracker’s performance metrics and user engagement'], 'failure': ['Retry with additional testimonials or improved editing', 'Switch to Different Mode by focusing on written reviews if video testimonials are not feasible', 'Quality Assurance Check for testimonial authenticity and relevance', 'Log and Analyze feedback for future campaigns']}, 'Design data-driven graphics that visually represent the tracker’s performance metrics and user engagement, ensuring clarity and impact': {'next_modes': ['Conduct a comprehensive review of the campaign materials for coherence, accuracy, and appeal'], 'failure': ['Retry with adjusted data visualization techniques', 'Exit if the graphics do not align with the campaign’s objectives', 'Quality Assurance Check for data accuracy and visual appeal', 'Mode Optimization by adjusting graphic complexity based on target audience']}, 'Conduct a comprehensive review of the campaign materials for coherence, accuracy, and appeal': {'next_modes': [], 'failure': None}}</s>\", \"{'Conduct in-depth research on photosynthesis, focusing on the chemical reactions and their significance': {'next_modes': ['Develop a detailed script that outlines the process of photosynthesis, including key terms and visual aids'], 'failure': ['Retry the research with a focus on more recent studies', 'Exit the project if insufficient information is available', 'Fallback Content using a general overview of photosynthesis', 'Request Human Intervention by consulting a biology expert']}, 'Develop a detailed script that outlines the process of photosynthesis, including key terms and visual aids': {'next_modes': ['Create a storyboard that visually represents the script, highlighting key stages of photosynthesis'], 'failure': ['Retry the script development with a focus on clarity and engagement', 'Switch to Different Mode by considering an animation instead of a live-action video', 'Quality Assurance Check to ensure the script is accurate and engaging', 'Log and Analyze feedback from a pilot audience']}, 'Create a storyboard that visually represents the script, highlighting key stages of photosynthesis': {'next_modes': ['Produce the educational video, incorporating animations and voice-over narration to explain the process'], 'failure': ['Retry the storyboard creation with a focus on visual clarity', 'Exit the project if the storyboard does not effectively convey the information', 'Quality Assurance Check to ensure the storyboard aligns with the script', 'Mode Optimization by adjusting the animation style based on feedback']}, 'Produce the educational video, incorporating animations and voice-over narration to explain the process': {'next_modes': ['Perform a final review of the video for educational accuracy, visual appeal, and audio quality'], 'failure': ['Retry the production with adjustments to the animation or narration', 'Exit the project if the video does not meet educational standards', 'Fallback Content by using a simplified version of the video', 'Partial Content Delivery by releasing a shorter version of the video if the full version is not ready']}, 'Perform a final review of the video for educational accuracy, visual appeal, and audio quality': {'next_modes': [], 'failure': None}}</s>\", \"{'Develop a comprehensive social media strategy focusing on eco-consciousness and product benefits, identifying key platforms and target demographics': {'next_modes': ['Create visually appealing ads that highlight the product and its eco-friendly features', 'Identify and approach influencers in the eco-lifestyle niche for collaborations', 'Plan an interactive launch event with live Q&A sessions and product demonstrations'], 'failure': ['Retry with a refined strategy focusing on different platforms or target groups', 'Exit the campaign planning phase if strategic alignment cannot be achieved', 'Fallback Content using generic eco-friendly themes', 'Request Human Intervention for expert advice on strategy']}, 'Create visually appealing ads that highlight the product and its eco-friendly features, ensuring alignment with the campaign theme': {'next_modes': ['Conduct a thorough review of ad performance metrics and adjust targeting accordingly'], 'failure': ['Retry with adjusted ad content or targeting', 'Switch to Different Mode by considering video ads if static images underperform', 'Quality Assurance Check to ensure ads meet brand standards', 'Log and Analyze ad performance for future campaigns']}, 'Identify and approach influencers in the eco-lifestyle niche for collaborations, negotiating terms and content creation': {'next_modes': ['Monitor influencer content for engagement and brand alignment'], 'failure': ['Retry with a different set of influencers if initial choices are unresponsive', 'Exit the collaboration phase if no suitable influencers are found', 'Quality Assurance Check to ensure influencer content aligns with campaign goals', 'Mode Optimization by adjusting influencer selection criteria']}, 'Plan an interactive launch event with live Q&A sessions and product demonstrations, ensuring a seamless virtual experience': {'next_modes': ['Conduct a final review of event logistics and technical setup'], 'failure': ['Retry with adjustments to the event format or technology if initial plans are not feasible', 'Exit the event planning phase if logistical challenges cannot be resolved', 'Fallback Content by offering a simpler, text-based Q&A session if live interaction is not possible', 'Alternative Data Sources for technical support or event management software']}, 'Conduct a final review of event logistics and technical setup': {'next_modes': [], 'failure': None}}</s>\", \"{'Develop a comprehensive video game tutorial that covers the fundamental gameplay mechanics and strategies, ensuring clarity and accessibility for beginners': {'next_modes': ['Produce educational YouTube videos that delve deeper into game analyses and offer tips for advanced players'], 'failure': ['Retry with a focus on simplifying complex concepts', 'Exit the tutorial development phase if it fails to meet educational standards', 'Fallback Content by using generic gameplay guides', 'Request Human Intervention for expert feedback']}, 'Produce educational YouTube videos that delve deeper into game analyses and offer tips for advanced players, incorporating gameplay footage and expert commentary': {'next_modes': ['Conduct a thorough review of the YouTube content for educational value, engagement, and technical quality'], 'failure': ['Retry with adjustments to video content based on viewer feedback', 'Switch to Different Mode by considering alternative educational formats', 'Quality Assurance Check to ensure all content is accurate and engaging', 'Log and Analyze viewer engagement metrics for future content improvements']}, 'Conduct a thorough review of the YouTube content for educational value, engagement, and technical quality': {'next_modes': [], 'failure': None}}</s>\", \"{'Analyze social media trends using data analytics tools to identify key topics and trends, ensuring accuracy and relevance': {'next_modes': ['Design visually appealing infographics that effectively communicate the analyzed data, using design software'], 'failure': ['Retry the analysis with adjusted parameters', 'Exit the analysis phase if data is insufficient', 'Fallback Content using generic trend data', 'Request Human Intervention for manual data curation']}, 'Design visually appealing infographics that effectively communicate the analyzed data, using design software, ensuring clarity and engagement': {'next_modes': ['Publish the infographics on various social media platforms, targeting the identified audience'], 'failure': ['Retry with different design elements or layouts', 'Switch to Different Mode by creating short videos if infographics are not effective', 'Quality Assurance Check for design consistency and accuracy', 'Alternative Data Sources for more engaging visuals']}, 'Publish the infographics on various social media platforms, targeting the identified audience, and monitor engagement and feedback': {'next_modes': ['Analyze the engagement and feedback to assess the effectiveness of the infographics and adjust future content strategies'], 'failure': ['Retry with different platforms or times if initial engagement is low', 'Exit if engagement does not meet expectations', 'Log and Analyze engagement patterns for future insights', 'Mode Optimization by adjusting publishing frequency or targeting']}, 'Analyze the engagement and feedback to assess the effectiveness of the infographics and adjust future content strategies': {'next_modes': [], 'failure': None}}</s>\", \"{'Conduct in-depth interviews with urban sustainability experts, focusing on their perspectives and experiences': {'next_modes': ['Design and produce engaging infographics that visually represent key sustainability statistics and facts', 'Develop a compelling narrative that ties together the interviews and infographics, highlighting the importance of urban sustainability'], 'failure': ['Retry with additional interviews if initial ones lack depth', 'Exit the project if sufficient quality interviews cannot be obtained', 'Fallback Content using stock interviews as placeholders', 'Request Human Intervention for guidance on interview techniques']}, 'Design and produce engaging infographics that visually represent key sustainability statistics and facts': {'next_modes': ['Develop a compelling narrative that ties together the interviews and infographics, highlighting the importance of urban sustainability'], 'failure': ['Retry with simplified infographics if initial designs are too complex', 'Switch to Different Mode by incorporating more text if visuals are not effective', 'Quality Assurance Check to ensure infographics are accurate and engaging', 'Alternative Data Sources for more up-to-date statistics']}, 'Develop a compelling narrative that ties together the interviews and infographics, highlighting the importance of urban sustainability': {'next_modes': ['Finalize the documentary by integrating all narrative, interview, and infographic elements, ensuring a cohesive and engaging story'], 'failure': ['Retry with a revised narrative if initial version lacks clarity', 'Exit the project if narrative does not align with the documentary’s goals', 'Log and Analyze feedback from test audiences for improvement', 'Mode Optimization by adjusting narrative pacing based on feedback']}, 'Finalize the documentary by integrating all narrative, interview, and infographic elements, ensuring a cohesive and engaging story': {'next_modes': [], 'failure': None}}</s>\", \"{'Conduct in-depth research on the selected historical event, focusing on key figures, locations, and events': {'next_modes': ['Develop a detailed narrative script that guides users through the VR experience', 'Design interactive elements that allow users to engage with the historical event'], 'failure': ['Retry with a broader range of sources', 'Exit the project if sufficient information is not available', 'Fallback Content using general historical facts', 'Request Human Intervention for expert consultation']}, 'Develop a detailed narrative script that guides users through the VR experience, ensuring historical accuracy and engaging storytelling': {'next_modes': ['Create a VR environment that accurately represents the historical setting, including 3D models and interactive elements'], 'failure': ['Retry with a revised script focusing on clarity and engagement', 'Switch to Different Mode by considering a text-based narrative if VR development is not feasible', 'Quality Assurance Check for historical accuracy and narrative flow']}, 'Design interactive elements that allow users to engage with the historical event, such as quizzes or simulations': {'next_modes': ['Create a VR environment that accurately represents the historical setting, including 3D models and interactive elements'], 'failure': ['Retry with simplified interactive elements if complexity hinders development', 'Exit the project if interactive elements do not enhance the experience', 'Log and Analyze user feedback for future improvements', 'Alternative Data Sources for more engaging interactive ideas']}, 'Create a VR environment that accurately represents the historical setting, including 3D models and interactive elements, ensuring user immersion': {'next_modes': ['Integrate the narrative script and interactive elements into the VR environment, ensuring seamless user interaction'], 'failure': ['Retry with adjustments to the environment for better user engagement', 'Exit the project if the VR environment does not meet quality standards', 'Quality Assurance Check for technical and immersive aspects', 'Partial Content Delivery by releasing a beta version for user feedback']}, 'Integrate the narrative script and interactive elements into the VR environment, ensuring seamless user interaction': {'next_modes': ['Conduct a comprehensive review of the VR simulation to ensure historical accuracy, narrative flow, and user engagement'], 'failure': ['Retry with adjustments to the integration for smoother user experience', 'Exit the project if integration fails', 'Log and Analyze user feedback for improvements\", \"{'Conduct in-depth interviews with local artisans, capturing their stories and techniques on video': {'next_modes': ['Compile and edit the video footage into a cohesive documentary, incorporating interviews and visuals of artisans at work'], 'failure': ['Retry with additional interviews if initial ones are inconclusive', 'Exit the project if sufficient content cannot be gathered', 'Fallback Content using stock footage and narration if original content is insufficient']}, 'Compile and edit the video footage into a cohesive documentary, incorporating interviews and visuals of artisans at work': {'next_modes': ['Compose a detailed article summarizing the documentary, including quotes from interviews, and embed relevant video clips and photos'], 'failure': ['Retry with a focus on improving narrative flow', 'Request Human Intervention for professional editing assistance', 'Log and Analyze viewer feedback for future projects']}, 'Compose a detailed article summarizing the documentary, including quotes from interviews, and embed relevant video clips and photos': {'next_modes': ['Perform a final review of the article for factual accuracy, coherence, and visual appeal'], 'failure': ['Retry with adjustments to the article structure or content', 'Switch to Different Mode by creating a podcast summary if the article format does not work', 'Quality Assurance Check to ensure all embedded media is properly linked and displayed']}, 'Perform a final review of the article for factual accuracy, coherence, and visual appeal': {'next_modes': [], 'failure': None}}</s>\", \"{'Develop a script for the video, outlining key points on recycling, its benefits, and the impact on the environment, ensuring it is engaging and informative for a general audience': {'next_modes': ['Create animated content that visually represents the importance of recycling, using a storyboard to guide the animation process', 'Arrange interviews with environmental experts to provide additional insights and perspectives on recycling'], 'failure': ['Retry the scriptwriting with a focus on clarity and engagement', 'Exit the project if the script does not meet educational standards', 'Fallback Content by using a pre-existing script as a base', 'Request Human Intervention by consulting with educational experts']}, 'Create animated content that visually represents the importance of recycling, using a storyboard to guide the animation process, ensuring it is visually appealing and educational': {'next_modes': ['Arrange interviews with environmental experts to provide additional insights and perspectives on recycling'], 'failure': ['Retry the animation with adjustments to visual elements based on feedback', 'Switch to Different Mode by considering a live-action segment if animation is not feasible', 'Quality Assurance Check to ensure the animation aligns with educational goals', 'Log and Analyze viewer feedback for future projects']}, 'Arrange interviews with environmental experts to provide additional insights and perspectives on recycling, ensuring a diverse range of opinions and expertise': {'next_modes': ['Compile the video content, including the scripted segments, animated content, and expert interviews, into a cohesive educational video'], 'failure': ['Retry scheduling interviews if initial attempts are unsuccessful', 'Exit the project if interviews cannot be secured', 'Quality Assurance Check to ensure all content is factually accurate and engaging', 'Mode Optimization by adjusting interview questions for better insights']}, 'Compile the video content, including the scripted segments, animated content, and expert interviews, into a cohesive educational video, ensuring it is engaging and informative': {'next_modes': ['Conduct a final review of the video for educational value, technical quality, and viewer engagement'], 'failure': ['Retry the compilation process with adjustments to pacing or content', 'Exit the project if the video does not meet educational standards', 'Log and Analyze viewer feedback for future projects', 'Quality Assurance Check to ensure the video is technically sound and meets educational objectives']}, 'Con\", \"{'Organize a comprehensive virtual conference on future technologies, ensuring a diverse range of speakers and topics': {'next_modes': ['Record keynote speeches by experts in the field', 'Set up interactive Q&A sessions for live audience engagement', 'Curate a gallery of technology demos for virtual exploration'], 'failure': ['Retry by adjusting the conference theme or speaker selection', 'Exit if unable to secure sufficient speakers', 'Fallback Content by using pre-recorded talks', 'Request Human Intervention for speaker selection or technical issues']}, 'Record keynote speeches by experts in the field, ensuring high-quality video and audio': {'next_modes': ['Edit and finalize the keynote speeches for seamless integration into the conference'], 'failure': ['Retry with improved recording equipment or settings', 'Switch to Different Mode by considering live webinars if video quality is not sufficient', 'Quality Assurance Check to ensure technical standards are met', 'Alternative Data Sources for additional content if needed']}, 'Set up interactive Q&A sessions for live audience engagement, allowing real-time interaction with speakers': {'next_modes': ['Conduct a thorough test of the Q&A platform for functionality and user experience'], 'failure': ['Retry with adjustments to the platform or setup', 'Exit if technical issues persist', 'Log and Analyze for recurring issues', 'Partial Content Delivery by offering text-based Q&A if live sessions are not feasible']}, 'Curate a gallery of technology demos for virtual exploration, ensuring a wide range of technologies are represented': {'next_modes': ['Perform a final review of the demo gallery for technical accuracy and user engagement'], 'failure': ['Retry with additional demos or updates', 'Exit if the gallery does not meet educational standards', 'Quality Assurance Check to ensure all demos are accessible and informative', 'Mode Optimization by adjusting demo formats based on user feedback']}, 'Edit and finalize the keynote speeches for seamless integration into the conference, ensuring a cohesive flow': {'next_modes': ['Conduct a final review of the edited speeches for clarity and engagement'], 'failure': ['Retry with adjustments to the editing process', 'Exit if speeches do not align with the conference theme', 'Fallback Content by using pre-edited speeches', '\", \"{'Collect a diverse set of images depicting various weather conditions, ensuring a balanced representation of each type': {'next_modes': ['Train a deep learning model using the collected dataset to accurately classify weather conditions based on image features'], 'failure': ['Retry by collecting more images if initial dataset is insufficient', 'Exit the task if sufficient images cannot be obtained', 'Fallback Content by using a pre-existing dataset as a placeholder', 'Request Human Intervention for manual curation of images']}, 'Train a deep learning model using the collected dataset to accurately classify weather conditions based on image features, employing techniques like transfer learning and data augmentation': {'next_modes': ['Perform a comprehensive evaluation of the model to assess its accuracy and robustness across various weather conditions'], 'failure': ['Retry with adjusted model parameters or different architectures', 'Switch to Different Mode by considering alternative machine learning algorithms', 'Quality Assurance Check to ensure model performance meets standards', 'Alternative Data Sources for additional training data']}, 'Perform a comprehensive evaluation of the model to assess its accuracy and robustness across various weather conditions': {'next_modes': [], 'failure': None}}</s>\", \"{'Gather comprehensive information about the concert, including the program, performers, and venue': {'next_modes': ['Compose a detailed summary of the concert program', 'Write individual critiques on each performer', 'Reflect on personal experiences and emotions during the concert'], 'failure': ['Retry by seeking additional information from the concert organizers', 'Exit if sufficient information is not available', 'Fallback Content by using general knowledge about classical music', 'Log and Analyze for future reference']}, 'Compose a detailed summary of the concert program, highlighting the musical selections and their significance': {'next_modes': ['Combine the summary, performer critiques, and personal reflections into a cohesive review'], 'failure': ['Retry with a focus on clarity and conciseness', 'Switch to Different Mode by creating a video summary if text is not engaging', 'Quality Assurance Check for factual accuracy and coherence']}, 'Write individual critiques on each performer, focusing on their technique, interpretation, and stage presence': {'next_modes': ['Combine the summary, performer critiques, and personal reflections into a cohesive review'], 'failure': ['Retry with a focus on specific examples and evidence', 'Request Human Intervention for a second opinion', 'Partial Content Delivery by highlighting the most notable performances']}, 'Reflect on personal experiences and emotions during the concert, adding depth and emotion to the review': {'next_modes': ['Combine the summary, performer critiques, and personal reflections into a cohesive review'], 'failure': ['Retry with a focus on personal anecdotes and feelings', 'Exit if unable to articulate personal experiences', 'Log and Analyze for future writing improvement', 'Mode Optimization by adjusting the review structure for better flow']}, 'Combine the summary, performer critiques, and personal reflections into a cohesive review, ensuring it is engaging and informative': {'next_modes': ['Perform a final review for coherence, accuracy, and engagement'], 'failure': ['Retry with a focus on narrative flow and reader engagement', 'Exit if the review does not meet quality standards', 'Quality Assurance Check for grammar, spelling, and factual accuracy']}, 'Perform a final review for coherence, accuracy, and engagement': {'next_modes': [], 'failure':\", \"{'Design a visually appealing and unique logo for the startup, incorporating brand values and target audience preferences': {'next_modes': ['Develop and launch a comprehensive marketing campaign on social media platforms, utilizing targeted ads and engaging content'], 'failure': ['Retry with a different design approach', 'Exit if the design does not align with brand values', 'Fallback Content using a generic template', 'Request Human Intervention for creative direction']}, 'Develop and launch a comprehensive marketing campaign on social media platforms, utilizing targeted ads and engaging content': {'next_modes': ['Analyze campaign performance metrics to gauge effectiveness and adjust strategies accordingly'], 'failure': ['Retry with adjusted targeting or content', 'Switch to Different Mode by exploring alternative marketing channels', 'Quality Assurance Check for campaign coherence and brand consistency', 'Log and Analyze for insights into underperforming strategies']}, 'Analyze campaign performance metrics to gauge effectiveness and adjust strategies accordingly': {'next_modes': [], 'failure': None}}</s>\", \"{'Develop a comprehensive quiz based on a recent science article, ensuring questions cover key concepts and are engaging for a general audience': {'next_modes': ['Create an infographic that visually represents the quiz results, highlighting common misconceptions and areas of improvement'], 'failure': ['Retry by adjusting question difficulty or relevance', 'Exit if the article is not suitable for quiz creation', 'Fallback Content using generic science questions', 'Request Human Intervention for expert review']}, 'Create an infographic that visually represents the quiz results, highlighting common misconceptions and areas of improvement, ensuring it is accessible and informative': {'next_modes': ['Conduct a thorough review of the infographic for accuracy, clarity, and visual appeal'], 'failure': ['Retry with adjustments to data representation or design', 'Switch to Different Mode by creating a video summary if infographic fails', 'Quality Assurance Check to ensure all data is accurate and presented clearly', 'Log and Analyze feedback for future improvements']}, 'Conduct a thorough review of the infographic for accuracy, clarity, and visual appeal': {'next_modes': [], 'failure': None}}</s>\", \"{'Compose a piece of instrumental music that captures the mood and essence of the painting, using digital audio workstations and synthesizers': {'next_modes': ['Create a virtual tour video that guides the viewer through the art gallery, highlighting the painting and incorporating the composed music'], 'failure': ['Retry by adjusting the composition to better match the painting', 'Exit if the music does not align with the painting', 'Fallback Content by using a generic instrumental track', 'Request Human Intervention by consulting with a musicologist']}, 'Create a virtual tour video that guides the viewer through the art gallery, highlighting the painting and incorporating the composed music, using video editing software': {'next_modes': ['Perform a final review to ensure the video seamlessly integrates the music and the virtual tour'], 'failure': ['Retry with adjustments to the video editing or music integration', 'Switch to Different Mode by considering a slideshow format if the virtual tour is not feasible', 'Quality Assurance Check to ensure the video meets technical and aesthetic standards', 'Log and Analyze viewer feedback for future improvements']}, 'Perform a final review to ensure the video seamlessly integrates the music and the virtual tour': {'next_modes': [], 'failure': None}}</s>\", \"{'Design a new product logo that reflects the brand's values and appeals to the target audience, using graphic design software': {'next_modes': ['Produce a promotional video that showcases the new logo in action, highlighting its relevance to the brand and product'], 'failure': ['Retry with a different design approach if initial feedback is negative', 'Exit the design phase if the logo does not align with brand identity', 'Fallback Content by using a generic template as a placeholder', 'Request Human Intervention by consulting a design expert']}, 'Produce a promotional video that showcases the new logo in action, highlighting its relevance to the brand and product, using video editing software': {'next_modes': ['Conduct a comprehensive review of the video for brand consistency, message clarity, and visual appeal'], 'failure': ['Retry with adjustments to the video narrative or visual effects', 'Switch to Different Mode by creating a static image slideshow if video production fails', 'Quality Assurance Check to ensure the video meets brand standards', 'Log and Analyze viewer engagement metrics for future improvements']}, 'Conduct a comprehensive review of the video for brand consistency, message clarity, and visual appeal': {'next_modes': [], 'failure': None}}</s>\", \"{'Write a science fiction story that explores themes of artificial intelligence and space exploration, focusing on character development and plot twists': {'next_modes': ['Record the story in a clear, engaging voice, ensuring the tone matches the narrative', 'Design a series of illustrations that complement the story, highlighting key scenes and characters'], 'failure': ['Retry by revising the story for better pacing or character development', 'Exit if the story does not meet creative standards', 'Fallback Content by using a pre-written story template', 'Request Human Intervention for professional editing or feedback']}, 'Record the story in a clear, engaging voice, ensuring the tone matches the narrative, and adding sound effects to enhance the listening experience': {'next_modes': ['Conduct a thorough review of the audiobook for audio quality, pacing, and narrative clarity'], 'failure': ['Retry with adjustments to pacing or tone', 'Switch to Different Mode by considering a text-to-speech alternative', 'Quality Assurance Check to ensure audio quality standards are met', 'Log and Analyze listener feedback for continuous improvement']}, 'Design a series of illustrations that complement the story, highlighting key scenes and characters, using digital art tools': {'next_modes': ['Conduct a detailed analysis of the illustrations for thematic consistency and artistic quality'], 'failure': ['Retry with adjustments to color schemes or character designs', 'Exit if illustrations do not align with the story', 'Fallback Content by using stock illustrations', 'Request Human Intervention for artistic direction']}, 'Conduct a thorough review of the audiobook for audio quality, pacing, and narrative clarity': {'next_modes': [], 'failure': None}, 'Conduct a detailed analysis of the illustrations for thematic consistency and artistic quality': {'next_modes': [], 'failure': None}}</s>\", \"{'Design and develop a mobile application that integrates interactive stories and games to teach a new language, focusing on immersive learning experiences': {'next_modes': ['Conduct a comprehensive analysis of user feedback and engagement metrics to refine the application and improve user experience'], 'failure': ['Retry the development process with a focus on enhancing user engagement', 'Exit the project if the application fails to meet educational standards', 'Fallback Content by simplifying the application features', 'Log and Analyze user feedback for targeted improvements']}, 'Conduct a comprehensive analysis of user feedback and engagement metrics to refine the application and improve user experience': {'next_modes': ['Perform a final review of the application to ensure it meets educational standards and user expectations'], 'failure': ['Retry the analysis with a focus on more specific user feedback', 'Request Human Intervention by consulting educational experts', 'Quality Assurance Check to ensure the application is ready for release', 'Mode Optimization by adjusting the application based on user feedback trends']}, 'Perform a final review of the application to ensure it meets educational standards and user expectations': {'next_modes': [], 'failure': None}}</s>\", \"{'Curate a selection of digital illustrations that showcase a diverse range of artistic styles and themes, ensuring high-quality visuals and engaging narratives': {'next_modes': ['Design and develop interactive VR installations that complement the illustrations, allowing visitors to explore the art in immersive environments'], 'failure': ['Retry by selecting a different set of illustrations if initial choices do not meet curatorial standards', 'Exit the curation phase if suitable illustrations cannot be found', 'Fallback Content by using a pre-existing collection of digital art', 'Request Human Intervention by consulting with art experts for guidance']}, 'Design and develop interactive VR installations that complement the illustrations, allowing visitors to explore the art in immersive environments, ensuring user-friendly navigation and engaging experiences': {'next_modes': ['Conduct a comprehensive review of the VR installations to ensure they are technically sound, visually appealing, and provide an engaging experience for visitors'], 'failure': ['Retry by refining the VR installations based on user feedback', 'Switch to Different Mode by considering alternative interactive elements if VR fails to engage', 'Quality Assurance Check to ensure all installations meet technical and artistic standards', 'Log and Analyze user interactions for insights on improvements']}, 'Conduct a comprehensive review of the VR installations to ensure they are technically sound, visually appealing, and provide an engaging experience for visitors': {'next_modes': [], 'failure': None}}</s>\", \"{'Design and develop a mobile app that allows users to set fitness goals, track daily activities, and visualize progress through graphs': {'next_modes': ['Implement a feature that sends motivational notifications based on user progress', 'Design and implement a user-friendly interface for tracking daily activities'], 'failure': ['Retry the development process with feedback from beta testers', 'Switch to a simpler feature set if development is too complex', 'Log and analyze development issues for future improvements']}, 'Implement a feature that sends motivational notifications based on user progress, tailored to individual goals and achievements': {'next_modes': ['Conduct a thorough review of the app for usability, functionality, and user engagement'], 'failure': ['Retry with adjusted notification settings based on user feedback', 'Exit the feature if it does not add value to the app', 'Fallback Content by using generic motivational messages']}, 'Design and implement a user-friendly interface for tracking daily activities, including exercise, diet, and sleep patterns': {'next_modes': ['Conduct a thorough review of the app for usability, functionality, and user engagement'], 'failure': ['Retry with simplified interface elements if complexity deters users', 'Request Human Intervention for UI/UX design consultancy', 'Quality Assurance Check to ensure interface meets design standards']}, 'Conduct a thorough review of the app for usability, functionality, and user engagement': {'next_modes': [], 'failure': None}}</s>\", \"{'Design a visually appealing logo for the coffee shop, incorporating elements that reflect the brand's values and target audience': {'next_modes': ['Produce a short advertisement video that showcases the logo and highlights the coffee shop experience'], 'failure': ['Retry with a different design approach if initial concepts do not resonate', 'Exit the design phase if a satisfactory logo cannot be achieved', 'Fallback Content by using a generic coffee shop logo template', 'Request Human Intervention by consulting a professional designer']}, 'Produce a short advertisement video that showcases the logo and highlights the coffee shop experience, including customer testimonials and behind-the-scenes footage': {'next_modes': ['Conduct a comprehensive review of the video for brand consistency, message clarity, and visual appeal'], 'failure': ['Retry with adjustments to the video content or pacing', 'Switch to Different Mode by creating a static advertisement if video production fails', 'Quality Assurance Check to ensure the video meets brand standards', 'Log and Analyze viewer engagement metrics for future improvements']}, 'Conduct a comprehensive review of the video for brand consistency, message clarity, and visual appeal': {'next_modes': [], 'failure': None}}</s>\", \"{'Analyze social media trends to identify popular themes and topics, using data analytics tools to gauge current trends and future predictions': {'next_modes': ['Develop marketing content that aligns with identified trends, ensuring it is engaging and shareable'], 'failure': ['Retry by refining the analysis parameters', 'Exit if trends are not actionable', 'Fallback Content using generic themes', 'Request Human Intervention for expert analysis']}, 'Develop marketing content that aligns with identified trends, ensuring it is engaging and shareable, using a variety of formats such as videos, images, and text': {'next_modes': ['Launch the marketing campaign across multiple social media platforms, tracking engagement metrics and feedback'], 'failure': ['Retry with adjustments based on initial feedback', 'Switch to Different Mode by considering alternative content formats', 'Quality Assurance Check to ensure content meets brand standards', 'Alternative Data Sources for trend validation']}, 'Launch the marketing campaign across multiple social media platforms, tracking engagement metrics and feedback, using analytics tools to measure reach, engagement, and sentiment': {'next_modes': ['Conduct a comprehensive analysis of campaign performance, identifying successes, failures, and areas for improvement'], 'failure': ['Retry with targeted adjustments based on initial performance', 'Exit if campaign does not meet engagement targets', 'Log and Analyze campaign metrics for insights', 'Mode Optimization by adjusting content distribution strategies']}, 'Conduct a comprehensive analysis of campaign performance, identifying successes, failures, and areas for improvement': {'next_modes': [], 'failure': None}}</s>\", \"{'Design and develop a user-friendly mobile app that allows users to track income, expenses, and savings, with an intuitive interface and real-time updates': {'next_modes': ['Integrate an AI chatbot that provides personalized financial advice based on user data and goals'], 'failure': ['Retry with a focus on simplifying the app design', 'Exit the development phase if the app fails to meet basic functionality requirements', 'Fallback Content by using a generic template for the app design', 'Log and Analyze user feedback for improvements']}, 'Integrate an AI chatbot that provides personalized financial advice based on user data and goals, using natural language processing and machine learning algorithms': {'next_modes': ['Perform comprehensive testing to ensure the app is stable, secure, and user-friendly, with a focus on AI chatbot functionality'], 'failure': ['Retry integration with adjusted algorithms for better accuracy', 'Request Human Intervention for manual adjustments to the chatbot', 'Quality Assurance Check to ensure chatbot responses are accurate and helpful', 'Mode Optimization by adjusting the chatbot’s learning parameters']}, 'Perform comprehensive testing to ensure the app is stable, secure, and user-friendly, with a focus on AI chatbot functionality': {'next_modes': [], 'failure': None}}</s>\", \"{'Develop comprehensive lesson plans on web development, covering HTML, CSS, and JavaScript, ensuring content is engaging and accessible to learners of all levels': {'next_modes': ['Design interactive quizzes to test learners on key concepts', 'Implement a feedback system to gather user insights and improve course content'], 'failure': ['Retry by refining lesson plans based on initial feedback', 'Exit the course development if content is not engaging', 'Fallback Content by using pre-existing lesson plans', 'Log and Analyze feedback for continuous improvement']}, 'Design interactive quizzes to test learners on key concepts, incorporating multiple choice questions, fill-in-the-blanks, and coding challenges': {'next_modes': ['Implement a feedback system to gather user insights and improve course content'], 'failure': ['Retry by adjusting quiz difficulty or format based on pilot testing', 'Request Human Intervention for technical quiz development issues', 'Quality Assurance Check to ensure quizzes accurately assess learning outcomes']}, 'Implement a feedback system to gather user insights and improve course content, including surveys and interactive forums': {'next_modes': ['Analyze feedback data to identify areas for improvement and adjust course content accordingly'], 'failure': ['Retry by refining feedback mechanisms based on initial user engagement', 'Switch to Different Mode by using a simpler feedback system if complex tools fail', 'Alternative Data Sources for feedback by reaching out to web development communities', 'Partial Content Delivery by releasing a beta version for initial feedback']}, 'Analyze feedback data to identify areas for improvement and adjust course content accordingly': {'next_modes': [], 'failure': None}}</s>\", \"{'Conduct in-depth research on the latest renewable energy technologies, focusing on solar, wind, and hydroelectric power': {'next_modes': ['Arrange interviews with leading experts in the renewable energy sector', 'Prepare a list of listener questions for a Q&A segment'], 'failure': ['Retry with a broader search if initial sources are limited', 'Exit the research phase if sufficient information cannot be found', 'Fallback Content using general renewable energy information', 'Request Human Intervention by consulting with a renewable energy expert']}, 'Arrange interviews with leading experts in the renewable energy sector, ensuring a diverse range of perspectives': {'next_modes': ['Record high-quality interviews with clear audio and engaging content'], 'failure': ['Retry scheduling interviews if initial attempts fail', 'Switch to Different Mode by considering written interviews if audio quality is poor', 'Quality Assurance Check to ensure all interviews meet podcast standards', 'Alternative Data Sources for additional expert opinions']}, 'Prepare a list of listener questions for a Q&A segment, ensuring a variety of topics and levels of complexity': {'next_modes': ['Record a listener Q&A segment with clear audio and engaging responses'], 'failure': ['Retry with a revised list of questions if initial selection is not engaging', 'Exit the Q&A segment if sufficient questions cannot be gathered', 'Log and Analyze listener feedback for future episodes', 'Mode Optimization by adjusting question selection based on listener feedback']}, 'Record high-quality interviews with clear audio and engaging content, ensuring all necessary permissions are obtained': {'next_modes': ['Edit the interviews to include sound effects and transitions, enhancing the listener experience'], 'failure': ['Retry recording with improved equipment or settings', 'Exit the recording phase if interviews do not meet quality standards', 'Quality Assurance Check to ensure all interviews are legally cleared for use', 'Partial Content Delivery by releasing segments that meet quality standards']}, 'Record a listener Q&A segment with clear audio and engaging responses, ensuring all questions are answered accurately and clearly': {'next_modes': ['Edit the Q&A segment to include sound effects and transitions, enhancing the listener experience'], 'failure': ['Retry recording with improved audio quality', 'Exit the recording phase if Q&A segment does not meet quality standards', 'Quality Assurance Check to ensure all answers are factually correct', 'Partial Content Delivery\", \"{'Design and illustrate characters based on the folk tale, ensuring cultural accuracy and engaging visual appeal': {'next_modes': ['Create dynamic animations for each scene, incorporating character movements and environmental elements', 'Record voice-overs for each character, emphasizing emotion and clarity'], 'failure': ['Retry with alternative character designs if initial feedback is negative', 'Exit the project if cultural accuracy cannot be maintained', 'Fallback Content by using stock characters if original designs fail', 'Request Human Intervention for artistic direction']}, 'Create dynamic animations for each scene, incorporating character movements and environmental elements, ensuring smooth transitions and narrative flow': {'next_modes': ['Compose a soundtrack that complements the story and enhances the emotional impact of the scenes'], 'failure': ['Retry with adjustments to animation timing or quality', 'Switch to Different Mode by considering a simpler animation style if complexity hinders progress', 'Quality Assurance Check to ensure animations meet technical and narrative standards', 'Log and Analyze feedback for continuous improvement']}, 'Record voice-overs for each character, emphasizing emotion and clarity, and synchronize with the animations': {'next_modes': ['Compose a soundtrack that complements the story and enhances the emotional impact of the scenes'], 'failure': ['Retry with different voice actors or recording environments', 'Exit the project if voice-overs do not meet quality standards', 'Quality Assurance Check to ensure voice-overs are clear and emotive', 'Mode Optimization by adjusting microphone settings for better audio quality']}, 'Compose a soundtrack that complements the story and enhances the emotional impact of the scenes, using a variety of instruments and musical styles': {'next_modes': ['Organize a focus group to assess the film’s appeal, including feedback on characters, animation, voice-overs, and soundtrack'], 'failure': ['Retry with different musical themes or arrangements', 'Exit the project if the soundtrack does not align with the film’s tone', 'Fallback Content by using royalty-free music if original compositions are not feasible', 'Alternative Data Sources for inspiration or reference']}, 'Organize a focus group to assess the film’s appeal, including feedback on characters, animation, voice-overs, and soundtrack': {'next_modes': [], 'failure': None}}</s>\", \"{'Analyze social media trends to identify popular topics and trends, using data analytics tools to understand audience preferences and engagement patterns': {'next_modes': ['Design a series of posts and videos that align with identified trends, ensuring content is engaging and relevant to the target audience'], 'failure': ['Retry by refining the analysis parameters', 'Exit if trends are not actionable', 'Fallback Content using generic trend data', 'Request Human Intervention for expert analysis']}, 'Design a series of posts and videos that align with identified trends, ensuring content is engaging and relevant to the target audience, and optimized for different social media platforms': {'next_modes': ['Measure the campaign’s impact through metrics such as engagement rates, reach, and conversions'], 'failure': ['Retry with adjustments to content based on initial feedback', 'Switch to Different Mode by considering alternative content formats', 'Quality Assurance Check to ensure all content meets brand standards', 'Alternative Data Sources for trend validation']}, 'Measure the campaign’s impact through metrics such as engagement rates, reach, and conversions, using analytics tools to evaluate the effectiveness of the campaign': {'next_modes': [], 'failure': None}}</s>\", \"{'Compose a soundtrack for a short film, focusing on themes and moods that align with the film's narrative': {'next_modes': ['Edit the film to synchronize the new soundtrack with the visuals, ensuring seamless integration'], 'failure': ['Retry by adjusting the composition to better fit the film', 'Exit if the soundtrack does not align with the film', 'Fallback Content by using royalty-free music', 'Request Human Intervention by consulting a music director']}, 'Edit the film to synchronize the new soundtrack with the visuals, ensuring seamless integration': {'next_modes': ['Perform a final review to ensure the soundtrack enhances the film without overpowering it'], 'failure': ['Retry with adjustments to the synchronization', 'Switch to Different Mode by considering voice-over narration if music integration fails', 'Quality Assurance Check to ensure audio levels are consistent', 'Log and Analyze discrepancies for future reference']}, 'Perform a final review to ensure the soundtrack enhances the film without overpowering it': {'next_modes': [], 'failure': None}}</s>\", \"{'Analyze current social media trends to identify popular themes and topics, using data analytics tools and social listening software': {'next_modes': ['Develop a viral marketing campaign centered around the identified trends, including a catchy hashtag and engaging content'], 'failure': ['Retry the analysis with a focus on emerging trends', 'Exit the analysis phase if no clear trends emerge', 'Fallback Content using generic trend data', 'Request Human Intervention for expert analysis']}, 'Develop a viral marketing campaign centered around the identified trends, including a catchy hashtag and engaging content, ensuring it aligns with brand values and resonates with the target audience': {'next_modes': ['Formulate a comprehensive follow-up strategy to maintain engagement and expand reach, including influencer collaborations and interactive content'], 'failure': ['Retry with adjustments to the campaign based on initial feedback', 'Switch to Different Mode by considering alternative marketing channels', 'Quality Assurance Check to ensure campaign alignment with brand values', 'Partial Content Delivery by launching a teaser campaign']}, 'Formulate a comprehensive follow-up strategy to maintain engagement and expand reach, including influencer collaborations and interactive content, ensuring it complements the initial campaign': {'next_modes': [], 'failure': None}}</s>\", \"{'Film a detailed tutorial video on making homemade pasta, focusing on the process from mixing the dough to cooking the pasta, ensuring clear instructions and visuals': {'next_modes': ['Write a comprehensive blog post summarizing the video content, including tips and variations for different pasta types'], 'failure': ['Retry filming with improved lighting or sound quality', 'Exit the project if technical issues persist', 'Fallback Content using stock footage or a simplified version of the process', 'Request Human Intervention for technical support']}, 'Write a comprehensive blog post summarizing the video content, including tips and variations for different pasta types, ensuring the content is engaging and informative': {'next_modes': ['Conduct a thorough review of the blog post for accuracy, readability, and SEO optimization'], 'failure': ['Retry with revisions based on feedback', 'Switch to Different Mode by creating an infographic if the text is too lengthy', 'Quality Assurance Check to ensure all information is correct and engaging', 'Log and Analyze reader engagement metrics for future improvements']}, 'Conduct a thorough review of the blog post for accuracy, readability, and SEO optimization': {'next_modes': [], 'failure': None}}</s>\", \"{'Conduct in-depth research on the latest technological advancements and their impact on daily life, focusing on areas such as communication, education, and productivity': {'next_modes': ['Compile and analyze listener questions related to the topic', 'Invite technology experts for a roundtable discussion on the topic'], 'failure': ['Retry the research with a broader scope', 'Exit the project if sufficient information cannot be gathered', 'Fallback Content using general technology trends', 'Log and Analyze gaps in research']}, 'Compile and analyze listener questions related to the topic, ensuring a diverse range of perspectives': {'next_modes': ['Integrate listener questions into the podcast narrative, providing detailed answers'], 'failure': ['Retry the compilation with a focus on clarity and relevance', 'Request Human Intervention for question selection', 'Quality Assurance Check for accuracy and engagement', 'Mode Optimization by adjusting question selection criteria']}, 'Integrate listener questions into the podcast narrative, providing detailed answers and insights': {'next_modes': ['Record the podcast episode, ensuring clear audio quality and engaging content'], 'failure': ['Retry the integration with alternative question formats', 'Switch to Different Mode by using pre-recorded segments', 'Partial Content Delivery by highlighting the most engaging questions', 'Alternative Data Sources for additional insights']}, 'Record the podcast episode, ensuring clear audio quality and engaging content, and incorporating expert opinions': {'next_modes': ['Conduct a final review of the episode for coherence, accuracy, and listener engagement'], 'failure': ['Retry the recording with improved audio settings', 'Exit the project if the episode does not meet quality standards', 'Log and Analyze listener feedback for improvement', 'Quality Assurance Check for factual accuracy and listener engagement']}, 'Conduct a final review of the episode for coherence, accuracy, and listener engagement': {'next_modes': [], 'failure': None}}</s>\", \"{'Design a visually appealing logo that encapsulates the product's essence, using brand colors and typography': {'next_modes': ['Produce a promotional video that highlights the product features, using the logo as a branding element', 'Plan a launch event that aligns with the product’s theme, including venue selection and guest list'], 'failure': ['Retry with a different design approach if initial feedback is negative', 'Exit the design phase if consensus cannot be reached', 'Fallback Content by using a generic template', 'Request Human Intervention by consulting a design expert']}, 'Produce a promotional video that highlights the product features, using the logo as a branding element, and ensuring high-quality production values': {'next_modes': ['Plan a launch event that aligns with the product’s theme, including venue selection and guest list'], 'failure': ['Retry with a different video concept if initial feedback is negative', 'Switch to Different Mode by creating a series of short teaser videos', 'Quality Assurance Check to ensure video meets brand standards', 'Alternative Data Sources for better video content']}, 'Plan a launch event that aligns with the product’s theme, including venue selection and guest list, ensuring a memorable and engaging experience': {'next_modes': ['Conduct a final review of all campaign elements to ensure cohesion and effectiveness'], 'failure': ['Retry with a different event format if initial planning fails', 'Exit the planning phase if logistical challenges cannot be overcome', 'Log and Analyze feedback for future event planning', 'Mode Optimization by adjusting event details based on feedback']}, 'Conduct a final review of all campaign elements to ensure cohesion and effectiveness': {'next_modes': [], 'failure': None}}</s>\", \"{'Develop a comprehensive social media strategy that aligns with the campaign's goals, targeting fitness enthusiasts and those new to home workouts': {'next_modes': ['Create engaging and informative content that showcases various home workout routines', 'Design visually appealing graphics and videos to accompany the content'], 'failure': ['Retry with a refined strategy focusing on different platforms or target groups', 'Exit if the strategy does not align with the campaign objectives', 'Fallback Content using generic workout tips and inspiration']}, 'Create engaging and informative content that showcases various home workout routines, including step-by-step instructions and tips for beginners': {'next_modes': ['Launch the campaign across multiple social media platforms, including Facebook, Instagram, and Twitter'], 'failure': ['Retry with adjusted content based on feedback or engagement metrics', 'Request Human Intervention for content creation or curation', 'Log and Analyze engagement and reach for future campaigns']}, 'Design visually appealing graphics and videos to accompany the content, ensuring they are high-quality and shareable': {'next_modes': ['Launch the campaign across multiple social media platforms, including Facebook, Instagram, and Twitter'], 'failure': ['Retry with different design elements or formats', 'Switch to Different Mode by considering alternative content formats', 'Quality Assurance Check to ensure all content meets brand standards']}, 'Launch the campaign across multiple social media platforms, including Facebook, Instagram, and Twitter, with a focus on engagement and reach': {'next_modes': ['Monitor campaign performance, adjusting strategies as needed to maximize impact'], 'failure': ['Retry with targeted ads or influencer collaborations', 'Exit if the campaign does not meet engagement or reach goals', 'Log and Analyze campaign performance for future improvements']}, 'Monitor campaign performance, adjusting strategies as needed to maximize impact': {'next_modes': [], 'failure': None}}</s>\", \"{'Develop a VR tour of the solar system, including interactive elements and educational content on each planet': {'next_modes': ['Compose a comprehensive educational guide that covers the VR tour content, focusing on key facts and interactive elements'], 'failure': ['Retry by refining the VR tour based on user feedback', 'Exit if the VR tour development is not feasible', 'Fallback Content by using a simplified version of the tour', 'Log and Analyze user interactions for improvement']}, 'Compose a comprehensive educational guide that covers the VR tour content, focusing on key facts and interactive elements': {'next_modes': ['Conduct a thorough review of the guide for accuracy, clarity, and engagement'], 'failure': ['Retry with revisions based on peer review', 'Switch to Different Mode by creating a video summary if the guide is too text-heavy', 'Quality Assurance Check to ensure all facts are correct', 'Alternative Data Sources for additional educational content']}, 'Conduct a thorough review of the guide for accuracy, clarity, and engagement': {'next_modes': [], 'failure': None}}</s>\", \"{'Sketch and digitally paint artwork representing the essence of each season, focusing on colors and motifs that evoke the seasonal moods': {'next_modes': ['Develop an interactive online gallery using HTML, CSS, and JavaScript, allowing users to navigate through the artwork and learn about each piece'], 'failure': ['Retry by refining the artwork based on feedback', 'Exit if the artwork does not meet the thematic requirements', 'Fallback Content by using stock images if original artwork is not feasible', 'Request Human Intervention for artistic direction']}, 'Develop an interactive online gallery using HTML, CSS, and JavaScript, allowing users to navigate through the artwork and learn about each piece, ensuring the gallery is user-friendly and aesthetically pleasing': {'next_modes': ['Conduct a comprehensive review of the gallery to ensure it is accessible, engaging, and informative'], 'failure': ['Retry with adjustments to the user interface or content', 'Switch to Different Mode by considering a video presentation if the gallery does not engage', 'Quality Assurance Check to ensure all links and information are accurate', 'Log and Analyze user interactions for improvement']}, 'Conduct a comprehensive review of the gallery to ensure it is accessible, engaging, and informative': {'next_modes': [], 'failure': None}}</s>\", \"{'Translate the original story into three target languages, ensuring cultural nuances are preserved and the essence of the story remains intact': {'next_modes': ['Record the story in each language, employing native speakers to ensure authenticity and clarity'], 'failure': ['Retry with a different translation approach if initial attempts are not satisfactory', 'Exit the translation phase if the story cannot be accurately conveyed', 'Fallback Content by using simpler language or cultural references', 'Request Human Intervention by consulting a linguistic expert']}, 'Record the story in each language, employing native speakers to ensure authenticity and clarity': {'next_modes': ['Conduct a comparative analysis of the translations, focusing on linguistic accuracy, cultural adaptations, and overall impact on the story'], 'failure': ['Retry recording with improved audio quality or different speakers', 'Switch to Different Mode by creating a text-to-speech version if recording fails', 'Quality Assurance Check to ensure audio clarity and accuracy', 'Alternative Data Sources by using different recordings or narrators']}, 'Conduct a comparative analysis of the translations, focusing on linguistic accuracy, cultural adaptations, and overall impact on the story': {'next_modes': [], 'failure': None}}</s>\", \"{'Design and distribute a comprehensive market research survey to gather insights on consumer preferences and trends': {'next_modes': ['Analyze the collected data to identify key trends and patterns', 'Generate a detailed report summarizing the findings, including visual graphs to illustrate trends'], 'failure': ['Redesign the survey to better capture the desired data', 'Terminate the survey if it fails to yield meaningful results', 'Use pre-existing market research data as a placeholder', 'Seek expert advice on survey design and distribution']}, 'Analyze the collected data to identify key trends and patterns, using statistical analysis tools': {'next_modes': ['Generate a detailed report summarizing the findings, including visual graphs to illustrate trends'], 'failure': ['Reanalyze the data with adjusted parameters', 'Consult with a data analyst for insights', 'Use a simplified analysis method if complex techniques fail', 'Record and analyze failure events for future improvement']}, 'Generate a detailed report summarizing the findings, including visual graphs to illustrate trends': {'next_modes': ['Conduct a final review of the report for accuracy and clarity'], 'failure': ['Revise the report based on feedback', 'Deliver the report with a note on incomplete sections', 'Ensure all graphs are accurately labeled and sourced', 'Deliver a summary of the findings if the report is not ready']}, 'Conduct a final review of the report for accuracy and clarity': {'next_modes': [], 'failure': None}}</s>\", \"{'Conduct in-depth research on sustainable living practices, focusing on practical tips and expert interviews': {'next_modes': ['Record a podcast episode discussing the research findings, incorporating expert interviews and practical tips'], 'failure': ['Retry the research with a focus on more recent studies', 'Exit the project if sufficient information cannot be gathered', 'Fallback Content using general sustainable living knowledge', 'Request Human Intervention for expert guidance']}, 'Record a podcast episode discussing the research findings, incorporating expert interviews and practical tips, ensuring high audio quality': {'next_modes': ['Edit the podcast episode for clarity, pacing, and audio balance, adding intro and outro music'], 'failure': ['Retry recording with improved equipment or settings', 'Switch to Different Mode by considering a video format if audio quality is not sufficient', 'Quality Assurance Check for audio clarity and content accuracy', 'Alternative Data Sources for additional expert interviews']}, 'Edit the podcast episode for clarity, pacing, and audio balance, adding intro and outro music, ensuring the final product is engaging and informative': {'next_modes': ['Publish the podcast episode on major platforms, including Apple Podcasts, Spotify, and Google Podcasts, for maximum reach'], 'failure': ['Retry editing with adjustments to pacing or audio levels', 'Exit the project if the episode does not meet quality standards', 'Log and Analyze feedback for future episodes', 'Partial Content Delivery by releasing a shorter version if full episode editing is not feasible']}, 'Publish the podcast episode on major platforms, including Apple Podcasts, Spotify, and Google Podcasts, for maximum reach': {'next_modes': [], 'failure': None}}</s>\", \"{'Conduct in-depth interviews with AI experts in the education sector, focusing on their perspectives on AI's current and future impact on education': {'next_modes': ['Compose a comprehensive summary of the interviews, highlighting key points and insights'], 'failure': ['Re-attempt interviews with different experts if initial ones are inconclusive', 'Use pre-recorded interviews as a fallback if live interviews are not feasible', 'Terminate the project if sufficient expert interviews cannot be secured']}, 'Compose a comprehensive summary of the interviews, highlighting key points and insights, and integrating them into a cohesive narrative': {'next_modes': ['Record a podcast episode that includes the interviews, summaries, and background music to enhance listener engagement'], 'failure': ['Re-attempt summarization with a focus on clarity and coherence', 'Switch to a written summary if audio production fails', 'Deliver the summary in a text-only format if audio is not viable']}, 'Record a podcast episode that includes the interviews, summaries, and background music to enhance listener engagement, ensuring high audio quality': {'next_modes': ['Perform a final review of the podcast episode for content accuracy, audio quality, and listener engagement'], 'failure': ['Re-record the episode with improved audio quality or clarity', 'Cease production if the episode does not meet quality standards', 'Adjust audio settings for better listener experience']}, 'Perform a final review of the podcast episode for content accuracy, audio quality, and listener engagement': {'next_modes': [], 'failure': None}}</s>\", \"{'Conduct in-depth research on recent scientific advancements in space exploration, focusing on breakthroughs in technology and discoveries': {'next_modes': ['Arrange and conduct interviews with leading scientists and engineers in the field', 'Compile and edit sound effects that enhance the narrative flow of the episode'], 'failure': ['Retry the research phase with a focus on more recent developments', 'Exit the project if sufficient information cannot be gathered', 'Fallback Content by using general knowledge on space exploration', 'Request Human Intervention by consulting with a space science expert']}, 'Arrange and conduct interviews with leading scientists and engineers in the field, ensuring clear and engaging questions are asked': {'next_modes': ['Compile and edit sound effects that enhance the narrative flow of the episode'], 'failure': ['Retry the interview process with a different set of questions or experts', 'Switch to Different Mode by using pre-recorded interviews if live ones are not feasible', 'Quality Assurance Check to ensure the interviews are informative and engaging', 'Partial Content Delivery by releasing a shorter episode if full interviews cannot be completed']}, 'Compile and edit sound effects that enhance the narrative flow of the episode, ensuring they are appropriately timed and do not detract from the content': {'next_modes': ['Finalize the podcast episode by integrating all recorded content, sound effects, and narrative elements'], 'failure': ['Retry the editing process with adjustments to sound levels or effects placement', 'Exit the project if the episode does not meet quality standards', 'Log and Analyze feedback from test listeners for improvements', 'Mode Optimization by adjusting the sound effects based on listener feedback']}, 'Finalize the podcast episode by integrating all recorded content, sound effects, and narrative elements, ensuring a cohesive and engaging listening experience': {'next_modes': [], 'failure': None}}</s>\", \"{'Develop a comprehensive e-book on Roman history, covering major events, figures, and cultural aspects, ensuring accuracy and engaging content': {'next_modes': ['Produce a series of short video lectures that complement the e-book, offering visual aids and interactive elements', 'Design a quiz to assess the reader’s understanding of the e-book content'], 'failure': ['Retry with a focus on enhancing the e-book’s accessibility and readability', 'Exit the project if the e-book fails to meet educational standards', 'Fallback Content by using a simplified version of the e-book', 'Request Human Intervention for expert review and feedback']}, 'Produce a series of short video lectures that complement the e-book, offering visual aids and interactive elements, ensuring alignment with the e-book content': {'next_modes': ['Design a quiz to assess the viewer’s understanding of the video lectures and e-book content'], 'failure': ['Retry with adjustments to video quality or content clarity', 'Switch to Different Mode by creating a podcast if video production is not feasible', 'Quality Assurance Check to ensure educational accuracy and viewer engagement', 'Log and Analyze viewer feedback for continuous improvement']}, 'Design a quiz to assess the reader’s understanding of the e-book content and the viewer’s understanding of the video lectures': {'next_modes': ['Perform a comprehensive review of the educational module, ensuring all components are cohesive, engaging, and educational'], 'failure': ['Retry with adjustments to quiz difficulty or format', 'Exit if the quiz does not meet educational standards', 'Quality Assurance Check to ensure quiz questions are clear and unbiased', 'Mode Optimization by adjusting quiz parameters based on pilot testing']}, 'Perform a comprehensive review of the educational module, ensuring all components are cohesive, engaging, and educational': {'next_modes': [], 'failure': None}}</s>\", \"{'Develop a comprehensive curriculum covering digital marketing fundamentals, SEO, social media marketing, email marketing, and analytics': {'next_modes': ['Produce high-quality video lessons that cover each topic in detail', 'Design interactive quizzes to test understanding', 'Create engaging assignments that apply course concepts to real-world scenarios'], 'failure': ['Retry with a revised curriculum if initial feedback is negative', 'Exit the course development if it is deemed unviable', 'Fallback Content by using pre-existing educational materials', 'Request Human Intervention for curriculum design consultation']}, 'Produce high-quality video lessons that cover each topic in detail, ensuring clarity and engagement': {'next_modes': ['Integrate the videos into the course platform, ensuring seamless navigation'], 'failure': ['Retry with improved video quality or content clarity', 'Switch to Different Mode by creating text-based lessons if video production fails', 'Quality Assurance Check to ensure educational value and engagement']}, 'Design interactive quizzes to test understanding, incorporating multiple choice and open-ended questions': {'next_modes': ['Integrate the quizzes into the course platform, aligning with video lessons'], 'failure': ['Retry with adjusted question difficulty or format', 'Exit if quizzes do not align with course objectives', 'Log and Analyze quiz performance for improvement', 'Alternative Data Sources for question content']}, 'Create engaging assignments that apply course concepts to real-world scenarios, encouraging critical thinking': {'next_modes': ['Integrate the assignments into the course platform, providing immediate feedback'], 'failure': ['Retry with revised assignments based on student feedback', 'Exit if assignments do not align with course objectives', 'Quality Assurance Check to ensure alignment with learning goals', 'Mode Optimization by adjusting assignment complexity']}, 'Integrate the videos, quizzes, and assignments into the course platform, ensuring seamless navigation and user experience': {'next_modes': ['Conduct a comprehensive review of the course to ensure educational value, engagement, and technical functionality'], 'failure': ['Retry with adjustments to course layout or content delivery', 'Exit if integration fails', 'Fallback Content by using simpler course structures', 'Partial Content Delivery by releasing sections that are ready']}, 'Conduct a comprehensive review of the course to ensure educational value, engagement, and technical functionality': {'next_modes': [], 'failure': None\", \"{'Translate the story into a script format suitable for a visual novel game, focusing on dialogue and narrative flow': {'next_modes': ['Design and illustrate scenes that align with the story’s mood and setting', 'Compose background music and sound effects that complement the narrative'], 'failure': ['Retry with a focus on enhancing the script for better player engagement', 'Exit if the story does not lend itself to a visual novel format', 'Fallback Content by simplifying the narrative for easier adaptation']}, 'Design and illustrate scenes that align with the story’s mood and setting, ensuring they are visually appealing and convey the intended emotions': {'next_modes': ['Compose background music and sound effects that complement the narrative'], 'failure': ['Retry with adjustments to the scene design based on feedback', 'Request Human Intervention by consulting a graphic designer', 'Log and Analyze feedback for future improvements']}, 'Compose background music and sound effects that complement the narrative, enhancing the immersive experience for the player': {'next_modes': ['Integrate all elements into the game, ensuring smooth transitions between scenes and decision points'], 'failure': ['Retry with adjustments to the audio to better fit the narrative', 'Switch to Different Mode by considering voice-over narration if music integration fails', 'Quality Assurance Check to ensure audio quality and synchronization']}, 'Integrate all elements into the game, ensuring smooth transitions between scenes and decision points, and testing for player engagement and immersion': {'next_modes': [], 'failure': None}}</s>\", \"{'Develop a comprehensive presentation on the latest digital marketing trends, incorporating case studies and expert insights': {'next_modes': ['Conduct a live Q&A session to address audience queries and engage in interactive discussions'], 'failure': ['Retry by revising the presentation based on feedback', 'Exit if technical issues prevent successful webinar hosting', 'Fallback Content by using pre-recorded segments if live interaction is not feasible']}, 'Conduct a live Q&A session to address audience queries and engage in interactive discussions, ensuring all questions are answered accurately and in a timely manner': {'next_modes': ['Analyze the webinar feedback for insights on audience engagement and knowledge gain'], 'failure': ['Retry by addressing unanswered questions in a follow-up email', 'Request Human Intervention by involving a marketing expert for complex queries', 'Log and Analyze for recurring questions or technical issues']}, 'Analyze the webinar feedback for insights on audience engagement and knowledge gain, using the data to refine future webinar content and delivery methods': {'next_modes': [], 'failure': None}}</s>\", \"{'Design a detailed VR tour of a historical site, including 3D modeling of structures and landscapes, and scripting a narrative audio guide that highlights key historical facts': {'next_modes': ['Develop interactive elements within the VR tour, such as clickable information points and historical reenactments', 'Create a quiz at the end of the tour to test user knowledge of the site'], 'failure': ['Retry the design phase with a focus on improving historical accuracy', 'Exit the project if the VR environment fails to meet educational standards', 'Fallback Content by using pre-existing VR tours as a template', 'Request Human Intervention by consulting with historians for accuracy']}, 'Develop interactive elements within the VR tour, such as clickable information points and historical reenactments, ensuring they are engaging and informative': {'next_modes': ['Conduct a thorough review of the VR tour for educational value, user engagement, and technical performance'], 'failure': ['Retry with adjustments to interactive elements based on user feedback', 'Switch to Different Mode by considering a simpler, less interactive version if technical limitations persist', 'Quality Assurance Check to ensure all interactive elements function correctly and enhance the learning experience']}, 'Create a quiz at the end of the tour to test user knowledge of the site, incorporating multiple choice questions and feedback mechanisms': {'next_modes': ['Conduct a thorough review of the VR tour for educational value, user engagement, and technical performance'], 'failure': ['Retry with adjustments to quiz questions based on user feedback', 'Exit if the quiz does not align with the educational objectives', 'Log and Analyze user interactions with the quiz for insights', 'Alternative Data Sources by incorporating additional historical facts for quiz questions']}, 'Conduct a thorough review of the VR tour for educational value, user engagement, and technical performance': {'next_modes': [], 'failure': None}}</s>\", \"{'Translate a collection of short stories from English to Spanish, ensuring cultural nuances and literary style are preserved': {'next_modes': ['Record the translated stories in Spanish, employing professional voice actors to bring the stories to life'], 'failure': ['Retry with a different translation approach if initial attempts do not meet linguistic or cultural standards', 'Exit the translation phase if the stories cannot be accurately conveyed', 'Fallback Content by using simpler language or well-known idioms', 'Request Human Intervention by consulting a bilingual literary expert']}, 'Record the translated stories in Spanish, employing professional voice actors to bring the stories to life, ensuring audio quality and clarity': {'next_modes': ['Perform a final review of the audiobook for audio quality, narrative clarity, and overall listener engagement'], 'failure': ['Retry recording with improved sound equipment or different voice actors', 'Switch to Different Mode by considering a text-to-speech alternative if live recording fails', 'Quality Assurance Check to ensure audio levels and clarity meet industry standards', 'Log and Analyze feedback from initial listener tests for improvement']}, 'Perform a final review of the audiobook for audio quality, narrative clarity, and overall listener engagement': {'next_modes': [], 'failure': None}}</s>\", \"{'Conduct an in-depth analysis of the product's features, usability, and market impact, ensuring to include both positive and negative aspects': {'next_modes': ['Design an infographic that visually represents the review, highlighting key points and statistics'], 'failure': ['Retry the review with a focus on areas of improvement', 'Exit the review process if the product does not meet quality standards', 'Fallback Content using a generic template for tech product reviews']}, 'Design an infographic that visually represents the review, highlighting key points and statistics, ensuring it is engaging and informative': {'next_modes': ['Perform a final review of the infographic for accuracy, design quality, and message clarity'], 'failure': ['Retry with adjustments to the design or content based on feedback', 'Request Human Intervention for professional design review', 'Log and Analyze feedback for future improvements']}, 'Perform a final review of the infographic for accuracy, design quality, and message clarity': {'next_modes': [], 'failure': None}}</s>\", \"{'Develop an educational app that includes interactive games to teach kids basic math concepts, ensuring the app is user-friendly and engaging for children': {'next_modes': ['Organize a user testing session with a group of children to evaluate the app’s effectiveness and user experience'], 'failure': ['Retry development with feedback from initial testers', 'Exit the project if the app fails to meet educational standards', 'Fallback Content using simpler games if complex ones are too challenging', 'Log and Analyze user interactions for insights']}, 'Organize a user testing session with a group of children to evaluate the app’s effectiveness and user experience, collecting feedback through surveys and direct interaction': {'next_modes': ['Analyze the feedback to identify areas for improvement and enhance the app’s educational value'], 'failure': ['Retry the testing session with a different group if initial feedback is inconclusive', 'Request Human Intervention for expert analysis of feedback', 'Quality Assurance Check to ensure the app meets educational standards', 'Mode Optimization by adjusting game difficulty based on feedback']}, 'Analyze the feedback to identify areas for improvement and enhance the app’s educational value': {'next_modes': [], 'failure': None}}</s>\", \"{'Write a short story, focusing on character development and plot twists, ensuring it is engaging and suitable for a wide audience': {'next_modes': ['Create an animated film based on the story, using 3D modeling and animation software to bring characters and scenes to life', 'Compose a soundtrack that complements the story and enhances the emotional impact of the animation'], 'failure': ['Retry by revising the story for better pacing or character development', 'Exit if the story does not meet creative standards', 'Fallback Content by using a pre-existing story template', 'Request Human Intervention for creative direction']}, 'Create an animated film based on the story, using 3D modeling and animation software to bring characters and scenes to life, ensuring the animation matches the story': {'next_modes': ['Compose a soundtrack that complements the story and enhances the emotional impact of the animation'], 'failure': ['Retry with adjustments to animation timing or visual effects', 'Switch to Different Mode by considering a simpler animation style', 'Quality Assurance Check to ensure animation quality and story accuracy', 'Alternative Data Sources for animation techniques or inspiration']}, 'Compose a soundtrack that complements the story and enhances the emotional impact of the animation, using a variety of instruments and musical styles': {'next_modes': ['Perform a final review of the animation and soundtrack to ensure they cohesively convey the story'], 'failure': ['Retry with adjustments to the music to better fit the animation', 'Exit if the soundtrack does not enhance the animation', 'Log and Analyze feedback for future compositions', 'Partial Content Delivery by releasing the animation with a placeholder soundtrack']}, 'Perform a final review of the animation and soundtrack to ensure they cohesively convey the story': {'next_modes': [], 'failure': None}}</s>\", \"{'Design a visually appealing logo that represents the brand's values and identity, using graphic design software': {'next_modes': ['Produce a short animated video that showcases the logo in a dynamic and engaging way, using animation software'], 'failure': ['Retry the design with feedback from a focus group', 'Switch to a simpler design if complexity is hindering progress', 'Fallback Content using a generic template', 'Request Human Intervention for creative direction']}, 'Produce a short animated video that showcases the logo in a dynamic and engaging way, using animation software': {'next_modes': ['Conduct a comprehensive review of the video for quality, brand alignment, and viewer engagement'], 'failure': ['Retry with adjustments to animation timing or visual effects', 'Exit the project if alignment with brand values cannot be achieved', 'Log and Analyze viewer feedback for future improvements', 'Quality Assurance Check to ensure technical and creative standards are met']}, 'Conduct a comprehensive review of the video for quality, brand alignment, and viewer engagement': {'next_modes': [], 'failure': None}}</s>\", \"{'Analyze social media trends to identify popular topics and sentiment, using tools like Google Trends and social listening software': {'next_modes': ['Compose ad copy that aligns with identified trends and resonates with target demographics'], 'failure': ['Retry by refining search terms or expanding analysis to additional platforms', 'Exit if trends are not actionable', 'Fallback Content using generic ad copy', 'Request Human Intervention for manual analysis']}, 'Compose ad copy that aligns with identified trends and resonates with target demographics, ensuring it is engaging and concise': {'next_modes': ['Launch the ad campaign across multiple platforms, tracking engagement and conversion rates'], 'failure': ['Retry with adjustments to ad copy based on feedback', 'Switch to Different Mode by considering alternative ad formats', 'Quality Assurance Check to ensure ad compliance with platform guidelines', 'Log and Analyze performance metrics for continuous improvement']}, 'Launch the ad campaign across multiple platforms, tracking engagement and conversion rates, and adjusting as necessary': {'next_modes': ['Conduct a comprehensive analysis of campaign performance, including reach, engagement, and conversion rates, to identify successes and areas for improvement'], 'failure': ['Retry with adjusted targeting or ad content', 'Exit if campaign underperforms significantly', 'Quality Assurance Check to ensure all metrics are accurately recorded', 'Mode Optimization by adjusting ad spend or targeting parameters']}, 'Conduct a comprehensive analysis of campaign performance, including reach, engagement, and conversion rates, to identify successes and areas for improvement': {'next_modes': [], 'failure': None}}</s>\", \"{'Conduct a comprehensive interview with a climate change expert, focusing on current research and future predictions, ensuring clear and engaging dialogue': {'next_modes': ['Select and integrate background music that complements the podcast theme and enhances listener engagement', 'Draft a detailed script that outlines the interview content, background information, and key takeaways'], 'failure': ['Re-attempt the interview with a different expert if initial recording quality is poor', 'Use pre-recorded interviews as a backup if live recording fails', 'Terminate the project if no suitable expert is available']}, 'Select and integrate background music that complements the podcast theme and enhances listener engagement, ensuring it does not overpower the interview content': {'next_modes': ['Draft a detailed script that outlines the interview content, background information, and key takeaways'], 'failure': ['Retry the selection process with different music genres or tracks', 'Use royalty-free music as a temporary solution', 'Adjust the music volume or selection based on feedback']}, 'Draft a detailed script that outlines the interview content, background information, and key takeaways, ensuring it is engaging and informative for the target audience': {'next_modes': ['Finalize the podcast episode by combining the interview, background music, and script, ensuring smooth transitions and coherent narrative'], 'failure': ['Revise the script for clarity and engagement if initial feedback is negative', 'Consult with a scriptwriter for professional guidance', 'Deliver the episode with a note on missing sections if necessary']}, 'Finalize the podcast episode by combining the interview, background music, and script, ensuring smooth transitions and coherent narrative': {'next_modes': [], 'failure': None}}</s>\", \"{'Compose a short story focusing on character development and plot twists, ensuring it is engaging and thematically rich': {'next_modes': ['Adapt the story into a screenplay format, highlighting dialogue and scene directions'], 'failure': ['Retry by refining the story structure', 'Exit if the story does not meet narrative standards', 'Fallback Content by using a template for story development', 'Log and Analyze feedback for improvement']}, 'Adapt the story into a screenplay format, highlighting dialogue and scene directions, ensuring it is cinematic and engaging': {'next_modes': ['Create a storyboard for a key scene, illustrating the scene setup, character actions, and camera angles'], 'failure': ['Retry with a focus on simplifying the screenplay', 'Switch to Different Mode by considering a voiceover narration if visuals are not feasible', 'Quality Assurance Check to ensure the screenplay is cinematically viable', 'Partial Content Delivery by releasing a teaser of the screenplay']}, 'Create a storyboard for a key scene, illustrating the scene setup, character actions, and camera angles, to visualize the scene for potential filming': {'next_modes': ['Perform a detailed analysis of the storyboard for narrative coherence, visual appeal, and feasibility'], 'failure': ['Retry with adjustments to the scene setup or character actions', 'Request Human Intervention by consulting a film director for feedback', 'Mode Optimization by adjusting the storyboard based on production constraints', 'Alternative Data Sources for inspiration on scene composition']}, 'Perform a detailed analysis of the storyboard for narrative coherence, visual appeal, and feasibility': {'next_modes': [], 'failure': None}}</s>\", \"{'Conduct a comprehensive research on the impact of technology on education, focusing on recent trends and future predictions': {'next_modes': ['Arrange and conduct an interview with an educational technology expert', 'Draft a detailed blog post summarizing the podcast episode content and key points'], 'failure': ['Retry the research with a focus on more recent studies', 'Exit the research phase if sufficient data is not available', 'Fallback Content using general educational technology articles', 'Request Human Intervention for expert advice on research gaps']}, 'Arrange and conduct an interview with an educational technology expert, ensuring questions cover a range of topics': {'next_modes': ['Record the interview in a high-quality audio format, ensuring clear audio and minimal background noise'], 'failure': ['Retry the interview with adjusted questions or settings', 'Switch to Different Mode by considering a written interview if audio quality is poor', 'Quality Assurance Check for audio clarity and content relevance', 'Log and Analyze feedback for future interview improvements']}, 'Record the interview in a high-quality audio format, ensuring clear audio and minimal background noise': {'next_modes': ['Edit the podcast episode to include the interview, background music, and intro/outro segments'], 'failure': ['Retry the recording with improved equipment or settings', 'Exit the recording phase if technical issues persist', 'Quality Assurance Check for audio quality and content flow', 'Mode Optimization by adjusting recording settings for better quality']}, 'Edit the podcast episode to include the interview, background music, and intro/outro segments, ensuring a cohesive narrative': {'next_modes': ['Draft a detailed blog post summarizing the podcast episode content and key points, including links to relevant resources'], 'failure': ['Retry editing with adjustments to pacing or content emphasis', 'Exit the editing phase if the episode does not meet quality standards', 'Fallback Content by using a shorter version of the episode', 'Alternative Data Sources for additional insights or quotes']}, 'Draft a detailed blog post summarizing the podcast episode content and key points, including links to relevant resources': {'next_modes': ['Perform a final review of the blog post for accuracy, engagement, and SEO optimization'], 'failure': ['Retry drafting with a focus on clearer explanations or additional insights', 'Exit the blog post phase if it does not align with the podcast content', 'Quality Assurance Check for fact\", \"{'Conduct in-depth research on the benefits of meditation, focusing on scientific studies and personal testimonials, to ensure the blog post is informative and engaging': {'next_modes': ['Draft a comprehensive blog post detailing the benefits of meditation, incorporating research findings and personal experiences', 'Plan and record a guided meditation session tailored to the blog post theme'], 'failure': ['Retry the research phase with a focus on more recent studies', 'Exit the research phase if sufficient information cannot be found', 'Fallback Content using general meditation benefits if specific studies are lacking', 'Request Human Intervention by consulting a meditation expert']}, 'Draft a comprehensive blog post detailing the benefits of meditation, incorporating research findings and personal experiences, ensuring it is accessible and engaging for a broad audience': {'next_modes': ['Produce an intro video that sets the tone for the blog post and guided meditation session, highlighting the importance of meditation'], 'failure': ['Retry drafting with a focus on clarity and engagement', 'Switch to Different Mode by creating an infographic if text is not effective', 'Quality Assurance Check to ensure the post meets SEO standards and is free of errors', 'Partial Content Delivery by publishing a teaser post']}, 'Plan and record a guided meditation session tailored to the blog post theme, ensuring it is accessible and engaging for a broad audience': {'next_modes': ['Combine the blog post, guided meditation session, and intro video into a cohesive package for publication'], 'failure': ['Retry recording with improved audio quality or session content', 'Exit the recording phase if it does not align with the blog post theme', 'Log and Analyze feedback from test listeners for improvements', 'Mode Optimization by adjusting recording settings for better audio clarity']}, 'Produce an intro video that sets the tone for the blog post and guided meditation session, highlighting the importance of meditation': {'next_modes': ['Combine the blog post, guided meditation session, and intro video into a cohesive package for publication'], 'failure': ['Retry filming with improved lighting or script adjustments', 'Exit the video production phase if it does not align with the blog post theme', 'Quality Assurance Check to ensure the video meets production standards', 'Partial Content Delivery by releasing a shorter version if full video is not ready']}, 'Combine the blog post, guided meditation session, and intro video into a cohesive\", \"{'Sketch initial logo concepts focusing on nature, sustainability, and the interconnectedness of ecosystems': {'next_modes': ['Refine the chosen design, incorporating feedback from a focus group', 'Develop a storyboard for the animated version of the logo, highlighting key environmental themes'], 'failure': ['Retry with a new concept if initial designs are not compelling', 'Exit the design phase if a viable concept cannot be identified', 'Fallback Content using a generic eco-themed template', 'Request Human Intervention for creative direction']}, 'Refine the chosen design, incorporating feedback from a focus group': {'next_modes': ['Develop a storyboard for the animated version of the logo, highlighting key environmental themes'], 'failure': ['Retry with adjusted design elements based on feedback', 'Switch to Different Mode by considering a static logo if animation is not feasible', 'Quality Assurance Check to ensure the design meets brand guidelines', 'Log and Analyze feedback for future design iterations']}, 'Develop a storyboard for the animated version of the logo, highlighting key environmental themes': {'next_modes': ['Produce the animated logo, ensuring smooth transitions and clear messaging'], 'failure': ['Retry with a simplified animation if complexity hinders progress', 'Exit if the animation does not align with the logo concept', 'Quality Assurance Check to ensure animation quality and message clarity', 'Partial Content Delivery by releasing a static version of the logo if animation is not feasible']}, 'Produce the animated logo, ensuring smooth transitions and clear messaging': {'next_modes': ['Conduct a final review to ensure the animation aligns with the brand and environmental message'], 'failure': ['Retry with adjustments to animation timing or visual effects', 'Exit if the animation does not meet quality standards', 'Log and Analyze viewer feedback for future improvements', 'Mode Optimization by adjusting animation parameters for better performance']}, 'Conduct a final review to ensure the animation aligns with the brand and environmental message': {'next_modes': [], 'failure': None}}</s>\", \"{'Conduct a comprehensive literature review on the effects of climate change on Arctic wildlife, focusing on recent studies and trends': {'next_modes': ['Synthesize the findings into a coherent narrative, highlighting key insights and gaps in knowledge'], 'failure': ['Retry the literature search with adjusted keywords', 'Exit the research phase if sufficient data is not found', 'Fallback Content using general climate change impact studies', 'Request Human Intervention for expert guidance']}, 'Synthesize the findings into a coherent narrative, highlighting key insights and gaps in knowledge': {'next_modes': ['Design an infographic that visually represents the research findings, focusing on key statistics and trends'], 'failure': ['Retry the synthesis with a clearer structure', 'Switch to Different Mode by considering a podcast format', 'Quality Assurance Check for factual accuracy', 'Alternative Data Sources for additional insights']}, 'Design an infographic that visually represents the research findings, focusing on key statistics and trends': {'next_modes': ['Perform a detailed analysis of the infographic for clarity, accuracy, and engagement'], 'failure': ['Retry with adjustments based on feedback', 'Exit if the infographic does not meet educational standards', 'Log and Analyze feedback for future improvements', 'Mode Optimization by simplifying complex data']}, 'Perform a detailed analysis of the infographic for clarity, accuracy, and engagement': {'next_modes': [], 'failure': None}}</s>\", \"{'Develop a new recipe, focusing on seasonal ingredients and unique flavor combinations, ensuring it is accessible to a wide audience': {'next_modes': ['Capture high-quality step-by-step photography of the cooking process', 'Write a detailed blog post explaining the recipe, its inspiration, and cooking tips'], 'failure': ['Retry the recipe development with adjustments based on feedback', 'Exit the project if the recipe does not meet culinary standards', 'Fallback Content using a previously successful recipe', 'Request Human Intervention for expert culinary advice']}, 'Capture high-quality step-by-step photography of the cooking process, ensuring each step is clearly documented': {'next_modes': ['Write a detailed blog post explaining the recipe, its inspiration, and cooking tips'], 'failure': ['Retry the photography session with better lighting or composition', 'Switch to Different Mode by creating a video tutorial if photography fails', 'Quality Assurance Check for photo clarity and relevance', 'Log and Analyze photography issues for future improvement']}, 'Write a detailed blog post explaining the recipe, its inspiration, and cooking tips, incorporating the photography and ensuring it is engaging and informative': {'next_modes': ['Perform a final review of the blog post for accuracy, engagement, and SEO optimization'], 'failure': ['Retry with revisions based on feedback', 'Exit if the post does not meet editorial standards', 'Quality Assurance Check for factual accuracy and readability', 'Mode Optimization by adjusting the post format based on reader engagement data']}, 'Perform a final review of the blog post for accuracy, engagement, and SEO optimization': {'next_modes': [], 'failure': None}}</s>\", \"{'Design and develop a user-friendly interface for the language learning app, ensuring it is intuitive and accessible to users of all ages and technical abilities': {'next_modes': ['Integrate voice recognition technology to enable users to practice pronunciation', 'Implement a system for providing written feedback on pronunciation and grammar'], 'failure': ['Retry with a focus on simplifying the interface', 'Exit the development phase if the app does not meet basic usability standards', 'Fallback Content by using a simpler, text-based interface', 'Log and Analyze user feedback for interface improvements']}, 'Integrate voice recognition technology to enable users to practice pronunciation, ensuring it accurately identifies and corrects errors': {'next_modes': ['Implement a system for providing written feedback on pronunciation and grammar'], 'failure': ['Retry with adjusted voice recognition settings', 'Switch to Different Mode by offering text-to-speech as an alternative', 'Request Human Intervention for manual correction of voice recognition errors', 'Quality Assurance Check to ensure voice recognition accuracy']}, 'Implement a system for providing written feedback on pronunciation and grammar, using AI to analyze user input and offer suggestions for improvement': {'next_modes': ['Conduct a comprehensive review of the app, focusing on user experience, accuracy of feedback, and overall functionality'], 'failure': ['Retry with adjusted feedback algorithms', 'Exit the development phase if feedback is consistently inaccurate', 'Log and Analyze feedback system performance', 'Alternative Data Sources for more accurate language models']}, 'Conduct a comprehensive review of the app, focusing on user experience, accuracy of feedback, and overall functionality': {'next_modes': [], 'failure': None}}</s>\", \"{'Design a visually appealing logo that aligns with the given theme, ensuring it is scalable and adaptable for various applications': {'next_modes': ['Develop a short animated introduction that showcases the logo in motion, highlighting its key elements and the theme'], 'failure': ['Retry with a different design approach if initial attempts do not meet the theme requirements', 'Exit the design phase if a satisfactory logo cannot be achieved', 'Fallback Content by using a generic template as a placeholder', 'Request Human Intervention by consulting a design expert']}, 'Develop a short animated introduction that showcases the logo in motion, highlighting its key elements and the theme, ensuring it is engaging and aligns with the brand identity': {'next_modes': ['Conduct a comprehensive review of the animation for visual appeal, thematic consistency, and technical quality'], 'failure': ['Retry with adjustments to animation timing or visual effects', 'Switch to Different Mode by creating a static image if animation fails', 'Quality Assurance Check to ensure the animation meets brand standards', 'Log and Analyze feedback for continuous improvement']}, 'Conduct a comprehensive review of the animation for visual appeal, thematic consistency, and technical quality': {'next_modes': [], 'failure': None}}</s>\", \"{'Write a captivating story for children, ensuring it is age-appropriate and engaging, with a clear narrative arc': {'next_modes': ['Create detailed illustrations that complement the story, using vibrant colors and engaging characters'], 'failure': ['Retry with a different story theme if initial feedback is negative', 'Exit the project if the story does not meet the intended audience', 'Fallback Content by using a well-known children’s story as a template']}, 'Create detailed illustrations that complement the story, using vibrant colors and engaging characters, ensuring they are visually appealing and accurately represent the story': {'next_modes': ['Record the story with clear diction, appropriate pacing, and engaging tone, ensuring the audiobook version matches the storybook'], 'failure': ['Retry with adjustments to illustration style or content based on feedback', 'Request Human Intervention by consulting with a children’s literature expert', 'Log and Analyze feedback for continuous improvement']}, 'Record the story with clear diction, appropriate pacing, and engaging tone, ensuring the audiobook version matches the storybook, and is suitable for young listeners': {'next_modes': ['Conduct a thorough review of the audiobook for clarity, engagement, and technical quality'], 'failure': ['Retry with adjustments to recording settings or narration style', 'Switch to Different Mode by considering a text-to-speech version if narration is not feasible', 'Quality Assurance Check to ensure the audiobook meets industry standards']}, 'Conduct a thorough review of the audiobook for clarity, engagement, and technical quality': {'next_modes': [], 'failure': None}}</s>\", \"{'Play the game extensively to understand its mechanics, storyline, and challenges, capturing gameplay footage for review': {'next_modes': ['Conduct in-depth interviews with the game developers to gain insights into the game’s creation process'], 'failure': ['Retry playing the game with different settings or difficulty levels', 'Exit the review if the game is unplayable', 'Fallback Content by using generic gameplay footage if original content is not available']}, 'Conduct in-depth interviews with the game developers to gain insights into the game’s creation process, focusing on challenges faced and future plans': {'next_modes': ['Compile the gameplay footage and developer interviews into a comprehensive review, highlighting key points and providing personal insights'], 'failure': ['Retry scheduling interviews if initial attempts are unsuccessful', 'Request Human Intervention by consulting a gaming expert for additional insights', 'Log and Analyze feedback for future interviews']}, 'Compile the gameplay footage and developer interviews into a comprehensive review, highlighting key points and providing personal insights, ensuring the review is engaging and informative': {'next_modes': ['Perform a final review to ensure the content is accurate, engaging, and meets publication standards'], 'failure': ['Retry editing the review for clarity and engagement', 'Switch to Different Mode by considering a video format if textual content is not effective', 'Quality Assurance Check to ensure factual accuracy and ethical standards']}, 'Perform a final review to ensure the content is accurate, engaging, and meets publication standards': {'next_modes': [], 'failure': None}}</s>\", \"{'Translate the poem into Spanish, French, and German, ensuring cultural nuances are respected': {'next_modes': ['Create a visual representation of the Spanish, French, and German translations, using art that reflects the cultural context'], 'failure': ['Retry with a different translation approach if initial attempts are not culturally accurate', 'Exit the task if translations cannot be completed satisfactorily', 'Fallback Content by using a simpler version of the poem', 'Request Human Intervention for expert linguistic advice']}, 'Create a visual representation of the Spanish, French, and German translations, using art that reflects the cultural context': {'next_modes': ['Conduct a comprehensive review of the visual representations for accuracy and cultural sensitivity'], 'failure': ['Retry with different art styles or themes if initial attempts do not resonate', 'Switch to Different Mode by considering a text-only representation if visuals are not feasible', 'Quality Assurance Check to ensure all visuals meet cultural standards', 'Log and Analyze feedback for future improvements']}, 'Conduct a comprehensive review of the visual representations for accuracy and cultural sensitivity': {'next_modes': [], 'failure': None}}</s>\", \"{'Design a logo based on a client's concept sketch, ensuring it aligns with their brand values and is visually appealing': {'next_modes': ['Develop a comprehensive branding package that includes business cards, letterhead, and a website header, using the designed logo as the central theme'], 'failure': ['Retry with adjustments based on client feedback', 'Exit if the design does not meet the client’s expectations', 'Fallback Content using a generic template', 'Request Human Intervention for creative direction']}, 'Develop a comprehensive branding package that includes business cards, letterhead, and a website header, using the designed logo as the central theme, ensuring consistency across all elements': {'next_modes': ['Conduct a final review to ensure all branding elements are cohesive and meet the client’s standards'], 'failure': ['Retry with adjustments based on feedback from a focus group', 'Switch to Different Mode by considering digital-only branding if print materials are not feasible', 'Quality Assurance Check to ensure all elements meet brand guidelines', 'Log and Analyze feedback for continuous improvement']}, 'Conduct a final review to ensure all branding elements are cohesive and meet the client’s standards': {'next_modes': [], 'failure': None}}</s>\", \"{'Conduct in-depth research on the selected historical event, gathering primary and secondary sources, and identifying key figures and events': {'next_modes': ['Draft a comprehensive script that outlines the documentary’s narrative, including interviews, reenactments, and voiceovers'], 'failure': ['Retry by expanding the research scope if initial sources are insufficient', 'Exit if the event lacks sufficient historical documentation', 'Fallback Content by using general historical knowledge if specifics are unavailable', 'Request Human Intervention by consulting with historians or archivists']}, 'Draft a comprehensive script that outlines the documentary’s narrative, including interviews, reenactments, and voiceovers': {'next_modes': ['Capture footage of interviews with historians and experts, as well as reenactments of key events'], 'failure': ['Retry by refining the script based on feedback', 'Switch to Different Mode by considering a voiceover-only approach if filming is not feasible', 'Quality Assurance Check to ensure script accuracy and coherence', 'Log and Analyze feedback for script improvement']}, 'Capture footage of interviews with historians and experts, as well as reenactments of key events': {'next_modes': ['Edit the documentary, incorporating interviews, reenactments, and voiceovers, to create a cohesive narrative that engages the audience'], 'failure': ['Retry by reshooting interviews or reenactments if quality is lacking', 'Exit if footage does not meet documentary standards', 'Fallback Content by using stock footage or images if original footage is not available', 'Alternative Data Sources by seeking additional interviews or footage']}, 'Edit the documentary, incorporating interviews, reenactments, and voiceovers, to create a cohesive narrative that engages the audience': {'next_modes': ['Conduct a final review to ensure the documentary is historically accurate, engaging, and meets production standards'], 'failure': ['Retry with adjustments to pacing or narrative flow', 'Exit if the documentary does not meet quality standards', 'Quality Assurance Check to ensure historical accuracy and narrative coherence', 'Partial Content Delivery by releasing a shorter version if the full documentary is not ready']}, 'Conduct a final review to ensure the documentary is historically accurate, engaging, and meets production standards': {'next_modes': [], '\", \"{'Develop a comprehensive agenda for the virtual conference, ensuring a diverse range of topics and speakers': {'next_modes': ['Identify and secure high-profile speakers for the event', 'Design visually appealing graphics for the conference website and promotional materials'], 'failure': ['Retry by revising the agenda to better reflect current trends', 'Exit if unable to secure a diverse range of speakers', 'Fallback Content by including pre-recorded sessions if live speakers are unavailable']}, 'Identify and secure high-profile speakers for the event, ensuring a mix of industry experts and emerging voices': {'next_modes': ['Design visually appealing graphics for the conference website and promotional materials'], 'failure': ['Retry by reaching out to additional potential speakers', 'Request Human Intervention by consulting a conference organizer for advice', 'Log and Analyze unsuccessful outreach attempts for future improvement']}, 'Design visually appealing graphics for the conference website and promotional materials, ensuring brand consistency and accessibility': {'next_modes': ['Host a live Q&A session with speakers to engage attendees and answer questions in real-time'], 'failure': ['Retry with a different design approach if initial attempts are not engaging', 'Switch to Different Mode by creating a video introduction if graphics are not feasible', 'Quality Assurance Check to ensure all graphics meet brand standards']}, 'Host a live Q&A session with speakers to engage attendees and answer questions in real-time, ensuring technical stability and audience interaction': {'next_modes': [], 'failure': None}}</s>\", \"{'Develop a mobile application that uses machine learning algorithms to identify plants from photos, ensuring user-friendly interface and accuracy': {'next_modes': ['Write detailed blog posts documenting the development process, including challenges faced and solutions implemented', 'Design and distribute a survey to gather user feedback on the app’s functionality and usability'], 'failure': ['Retry development with adjusted algorithms or user interface', 'Exit the project if technical challenges persist', 'Fallback Content by using pre-existing plant identification models', 'Request Human Intervention for technical support']}, 'Write detailed blog posts documenting the development process, including challenges faced and solutions implemented, ensuring technical accuracy and engaging content': {'next_modes': ['Analyze user feedback from the survey to identify areas for improvement and future development'], 'failure': ['Retry with a focus on clearer explanations or more engaging content', 'Switch to Different Mode by creating video content if blog posts are not effective', 'Quality Assurance Check to ensure accuracy and relevance of content', 'Log and Analyze reader engagement and feedback']}, 'Design and distribute a survey to gather user feedback on the app’s functionality and usability, ensuring clear questions and anonymity': {'next_modes': ['Analyze user feedback from the survey to identify areas for improvement and future development'], 'failure': ['Retry with adjusted questions or distribution methods', 'Exit if feedback is not actionable', 'Quality Assurance Check to ensure survey design is effective', 'Mode Optimization by adjusting survey length or complexity']}, 'Analyze user feedback from the survey to identify areas for improvement and future development, ensuring actionable insights': {'next_modes': [], 'failure': None}}</s>\", \"{'Design a user-friendly interface for the app, focusing on ease of navigation and clear presentation of AR content': {'next_modes': ['Develop AR functionality that accurately overlays historical facts on real-world landmarks', 'Conduct a comprehensive usability test to ensure the app is intuitive and engaging'], 'failure': ['Retry with a focus on simplifying the interface', 'Exit the design phase if the concept is not viable', 'Fallback Content by using a standard template', 'Log and Analyze user feedback for improvements']}, 'Develop AR functionality that accurately overlays historical facts on real-world landmarks, ensuring compatibility with a range of devices': {'next_modes': ['Conduct a comprehensive usability test to ensure the app is intuitive and engaging'], 'failure': ['Retry with adjustments to AR accuracy or device compatibility', 'Request Human Intervention for technical issues', 'Quality Assurance Check to ensure AR accuracy and performance']}, 'Conduct a comprehensive usability test to ensure the app is intuitive and engaging, gathering feedback for future updates': {'next_modes': ['Analyze user feedback for insights on app improvements and user satisfaction'], 'failure': ['Retry with adjustments based on user feedback', 'Switch to Different Mode by considering a simplified version of the app', 'Partial Content Delivery by releasing a beta version for further testing']}, 'Analyze user feedback for insights on app improvements and user satisfaction, preparing for a final launch': {'next_modes': [], 'failure': None}}</s>\", \"{'Develop a mobile app concept that addresses a specific user need, focusing on usability and functionality': {'next_modes': ['Design the app UI, ensuring it is intuitive and visually appealing', 'Create a presentation video that effectively communicates the app concept and its benefits'], 'failure': ['Retry the concept development with feedback from potential users', 'Exit the project if the concept does not align with market needs', 'Fallback Content by using a generic app template as a starting point', 'Request Human Intervention by consulting with a UX expert']}, 'Design the app UI, ensuring it is intuitive and visually appealing, using design software': {'next_modes': ['Create a presentation video that effectively communicates the app concept and its benefits'], 'failure': ['Retry the design with a focus on usability improvements', 'Switch to Different Mode by considering a web app if mobile UI design fails', 'Quality Assurance Check to ensure UI meets design standards', 'Alternative Data Sources for UI inspiration']}, 'Create a presentation video that effectively communicates the app concept and its benefits, using video editing software': {'next_modes': ['Conduct a final review of the presentation video for clarity, engagement, and technical quality'], 'failure': ['Retry the video creation with improved script or visuals', 'Exit the project if the video does not meet presentation standards', 'Log and Analyze feedback for future video creation', 'Mode Optimization by adjusting video length or content based on feedback']}, 'Conduct a final review of the presentation video for clarity, engagement, and technical quality': {'next_modes': [], 'failure': None}}</s>\", \"{'Collect and preprocess meteorological data from various sources, ensuring data quality and consistency': {'next_modes': ['Develop a machine learning model using historical weather data to predict future patterns', 'Design interactive maps to display predicted weather patterns'], 'failure': ['Retry data collection with adjusted parameters', 'Exit the task if data is consistently inadequate', 'Fallback Content using standard weather forecasts', 'Request Human Intervention for manual data verification']}, 'Develop a machine learning model using historical weather data to predict future patterns, employing advanced statistical techniques': {'next_modes': ['Design interactive maps to display predicted weather patterns'], 'failure': ['Retry model development with adjusted parameters', 'Switch to Different Mode by considering simpler statistical models', 'Quality Assurance Check to ensure model accuracy', 'Log and Analyze model performance for future improvements']}, 'Design interactive maps to display predicted weather patterns, incorporating user-friendly interfaces and real-time updates': {'next_modes': ['Perform a comprehensive review of the model and map functionality for accuracy and usability'], 'failure': ['Retry map design with user feedback', 'Exit if the map fails to meet usability standards', 'Quality Assurance Check to ensure map accuracy and user experience', 'Mode Optimization by simplifying map features']}, 'Perform a comprehensive review of the model and map functionality for accuracy and usability': {'next_modes': [], 'failure': None}}</s>\", \"{'Translate the poem from English to French, ensuring the translation captures the original poem's tone and meaning': {'next_modes': ['Record a clear and expressive narration of the translated poem, synchronizing with the selected nature footage'], 'failure': ['Retry the translation with a focus on cultural nuances', 'Exit the task if translation accuracy cannot be guaranteed', 'Fallback Content using a simpler poem', 'Request Human Intervention for a professional translator']}, 'Record a clear and expressive narration of the translated poem, synchronizing with the selected nature footage, ensuring audio quality is high': {'next_modes': ['Perform a final review of the narration and synchronization with the footage for coherence and impact'], 'failure': ['Retry the recording with improved audio equipment', 'Switch to Different Mode by using text-to-speech if narration fails', 'Quality Assurance Check to ensure audio and video sync', 'Log and Analyze any issues with synchronization']}, 'Perform a final review of the narration and synchronization with the footage for coherence and impact': {'next_modes': [], 'failure': None}}</s>\", \"{'Translate the original story into the target language, ensuring cultural nuances are accurately conveyed and the tone is maintained': {'next_modes': ['Record a clear and engaging narration of the translated story, using appropriate voice modulation and pacing'], 'failure': ['Retry the translation with a focus on specific areas of difficulty', 'Exit the translation phase if the story cannot be accurately conveyed', 'Fallback Content by using a simpler version of the story', 'Request Human Intervention by consulting a native speaker']}, 'Record a clear and engaging narration of the translated story, using appropriate voice modulation and pacing': {'next_modes': ['Create a video of the narration, adding subtitles in the original and target languages for accessibility'], 'failure': ['Retry the recording with improved audio quality or different narration styles', 'Switch to Different Mode by considering a text-to-speech alternative', 'Quality Assurance Check to ensure the narration is engaging and clear', 'Log and Analyze feedback for future improvements']}, 'Create a video of the narration, adding subtitles in the original and target languages for accessibility': {'next_modes': ['Perform a final review of the video for audio and visual quality, ensuring subtitles are accurately timed and translated'], 'failure': ['Retry the video editing with adjustments to subtitle timing or audio levels', 'Exit the project if the video does not meet quality standards', 'Quality Assurance Check to ensure all subtitles are correctly displayed and synchronized', 'Mode Optimization by adjusting video settings for better playback']}, 'Perform a final review of the video for audio and visual quality, ensuring subtitles are accurately timed and translated': {'next_modes': [], 'failure': None}}</s>\"]\n"
          ]
        }
      ],
      "source": [
        "from tqdm import tqdm\n",
        "\n",
        "outputs=[]\n",
        "for i in tqdm(range(len(test_data_detail))):\n",
        "  pred_prompt=format_prediction_detail_instruct_fn(test_data_detail[i])\n",
        "\n",
        "  output=get_completion(pred_prompt, model, tokenizer, stop_keywords, KeywordsStoppingCriteria)\n",
        "\n",
        "  outputs.append(output)\n",
        "\n",
        "print(outputs)"
      ]
    },
    {
      "cell_type": "code",
      "execution_count": null,
      "metadata": {
        "id": "QfHSNaxJScnS",
        "colab": {
          "base_uri": "https://localhost:8080/",
          "height": 49,
          "referenced_widgets": [
            "da77c505269847aa9905d21bffe16210",
            "997e12268ec04f1e8edc15836945d5a5",
            "dcebd9bcd1d449afb6d678dfce1f6f58",
            "37cecc5d570b45f28fa376fbf89db801",
            "1945100796714f18a4a0e2eb28142878",
            "a92f5243246e4d3d9319cf506f21328e",
            "4ab11b8a65e84fb293c14d591b79cabb",
            "4cb011d221bb4b20abe5b1ee39a4ec5d",
            "ddfa39b64dc04468b182a9a071c5ea84",
            "830328332b8e42eaad07b06cb7eddbd0",
            "4ea30d96fe7f4abd8556c20b428aadaf"
          ]
        },
        "outputId": "6af5180b-1e7f-4169-ad65-5fbd32aec60a"
      },
      "outputs": [
        {
          "output_type": "display_data",
          "data": {
            "text/plain": [
              "<IPython.core.display.HTML object>"
            ],
            "text/html": [
              "\n",
              "  <style>\n",
              "    pre {\n",
              "        white-space: pre-wrap;\n",
              "    }\n",
              "  </style>\n",
              "  "
            ]
          },
          "metadata": {}
        },
        {
          "output_type": "display_data",
          "data": {
            "text/plain": [
              "Flattening the indices:   0%|          | 0/101 [00:00<?, ? examples/s]"
            ],
            "application/vnd.jupyter.widget-view+json": {
              "version_major": 2,
              "version_minor": 0,
              "model_id": "da77c505269847aa9905d21bffe16210"
            }
          },
          "metadata": {}
        }
      ],
      "source": [
        "test_data_with_detail_pred=test_data_detail.add_column(\"detail-pred\",outputs)"
      ]
    },
    {
      "cell_type": "code",
      "execution_count": null,
      "metadata": {
        "id": "5ew2Hb_qS_Qu",
        "colab": {
          "base_uri": "https://localhost:8080/",
          "height": 17
        },
        "outputId": "5f2afbcc-ca3c-4734-bb30-9c89307de528"
      },
      "outputs": [
        {
          "output_type": "display_data",
          "data": {
            "text/plain": [
              "<IPython.core.display.HTML object>"
            ],
            "text/html": [
              "\n",
              "  <style>\n",
              "    pre {\n",
              "        white-space: pre-wrap;\n",
              "    }\n",
              "  </style>\n",
              "  "
            ]
          },
          "metadata": {}
        }
      ],
      "source": [
        "df_test_with_detail_pred = test_data_with_detail_pred.to_pandas()"
      ]
    },
    {
      "cell_type": "code",
      "execution_count": null,
      "metadata": {
        "id": "tkbDAEtjTDHC",
        "colab": {
          "base_uri": "https://localhost:8080/",
          "height": 459
        },
        "outputId": "fd6fcb71-231f-4410-9f7b-897eb2d010d9"
      },
      "outputs": [
        {
          "output_type": "display_data",
          "data": {
            "text/plain": [
              "<IPython.core.display.HTML object>"
            ],
            "text/html": [
              "\n",
              "  <style>\n",
              "    pre {\n",
              "        white-space: pre-wrap;\n",
              "    }\n",
              "  </style>\n",
              "  "
            ]
          },
          "metadata": {}
        },
        {
          "output_type": "execute_result",
          "data": {
            "text/plain": [
              "                                           Blueprint  \\\n",
              "0  {'Organize conference': {'next_modes': ['Creat...   \n",
              "1  {'Script story': {'next_modes': ['Design anima...   \n",
              "2  {'Draft game concept': {'next_modes': ['Create...   \n",
              "3  {'Design app interface': {'next_modes': ['Impl...   \n",
              "4  {'Research': {'next_modes': ['Write eBook', 'D...   \n",
              "\n",
              "                                            Detailed  \\\n",
              "0  {'Coordinate with speakers to schedule present...   \n",
              "1  {'Write a compelling script that creatively in...   \n",
              "2  {'Outline the primary educational objectives a...   \n",
              "3  {'Sketch and prototype the app’s user interfac...   \n",
              "4  {'Conduct comprehensive research on effective ...   \n",
              "\n",
              "                                         Instruction  \\\n",
              "0  Organize a virtual conference with multiple sp...   \n",
              "1  Create an animated short film that illustrates...   \n",
              "2  Develop an interactive web-based game that tea...   \n",
              "3  Develop a mobile app that translates spoken la...   \n",
              "4  Write an eBook on time management, including t...   \n",
              "\n",
              "                                              prompt  \\\n",
              "0  [INST]Below is an instruction that describes a...   \n",
              "1  [INST]Below is an instruction that describes a...   \n",
              "2  [INST]Below is an instruction that describes a...   \n",
              "3  [INST]Below is an instruction that describes a...   \n",
              "4  [INST]Below is an instruction that describes a...   \n",
              "\n",
              "                                            response  \\\n",
              "0  ### Response:{'Coordinate with speakers to sch...   \n",
              "1  ### Response:{'Write a compelling script that ...   \n",
              "2  ### Response:{'Outline the primary educational...   \n",
              "3  ### Response:{'Sketch and prototype the app’s ...   \n",
              "4  ### Response:{'Conduct comprehensive research ...   \n",
              "\n",
              "                                           input_ids  \\\n",
              "0  [1, 733, 16289, 28793, 20548, 336, 349, 396, 1...   \n",
              "1  [1, 733, 16289, 28793, 20548, 336, 349, 396, 1...   \n",
              "2  [1, 733, 16289, 28793, 20548, 336, 349, 396, 1...   \n",
              "3  [1, 733, 16289, 28793, 20548, 336, 349, 396, 1...   \n",
              "4  [1, 733, 16289, 28793, 20548, 336, 349, 396, 1...   \n",
              "\n",
              "                                      attention_mask  \\\n",
              "0  [1, 1, 1, 1, 1, 1, 1, 1, 1, 1, 1, 1, 1, 1, 1, ...   \n",
              "1  [1, 1, 1, 1, 1, 1, 1, 1, 1, 1, 1, 1, 1, 1, 1, ...   \n",
              "2  [1, 1, 1, 1, 1, 1, 1, 1, 1, 1, 1, 1, 1, 1, 1, ...   \n",
              "3  [1, 1, 1, 1, 1, 1, 1, 1, 1, 1, 1, 1, 1, 1, 1, ...   \n",
              "4  [1, 1, 1, 1, 1, 1, 1, 1, 1, 1, 1, 1, 1, 1, 1, ...   \n",
              "\n",
              "                                         detail-pred  \n",
              "0  {'Organize a virtual conference with multiple ...  \n",
              "1  {'Sketch out a storyboard detailing the stages...  \n",
              "2  {'Design a user-friendly interface for the gam...  \n",
              "3  {'Develop a mobile app that utilizes speech re...  \n",
              "4  {'Conduct comprehensive research on time manag...  "
            ],
            "text/html": [
              "\n",
              "  <div id=\"df-5a40b572-cebc-4720-927d-7b85a28aa6b3\" class=\"colab-df-container\">\n",
              "    <div>\n",
              "<style scoped>\n",
              "    .dataframe tbody tr th:only-of-type {\n",
              "        vertical-align: middle;\n",
              "    }\n",
              "\n",
              "    .dataframe tbody tr th {\n",
              "        vertical-align: top;\n",
              "    }\n",
              "\n",
              "    .dataframe thead th {\n",
              "        text-align: right;\n",
              "    }\n",
              "</style>\n",
              "<table border=\"1\" class=\"dataframe\">\n",
              "  <thead>\n",
              "    <tr style=\"text-align: right;\">\n",
              "      <th></th>\n",
              "      <th>Blueprint</th>\n",
              "      <th>Detailed</th>\n",
              "      <th>Instruction</th>\n",
              "      <th>prompt</th>\n",
              "      <th>response</th>\n",
              "      <th>input_ids</th>\n",
              "      <th>attention_mask</th>\n",
              "      <th>detail-pred</th>\n",
              "    </tr>\n",
              "  </thead>\n",
              "  <tbody>\n",
              "    <tr>\n",
              "      <th>0</th>\n",
              "      <td>{'Organize conference': {'next_modes': ['Creat...</td>\n",
              "      <td>{'Coordinate with speakers to schedule present...</td>\n",
              "      <td>Organize a virtual conference with multiple sp...</td>\n",
              "      <td>[INST]Below is an instruction that describes a...</td>\n",
              "      <td>### Response:{'Coordinate with speakers to sch...</td>\n",
              "      <td>[1, 733, 16289, 28793, 20548, 336, 349, 396, 1...</td>\n",
              "      <td>[1, 1, 1, 1, 1, 1, 1, 1, 1, 1, 1, 1, 1, 1, 1, ...</td>\n",
              "      <td>{'Organize a virtual conference with multiple ...</td>\n",
              "    </tr>\n",
              "    <tr>\n",
              "      <th>1</th>\n",
              "      <td>{'Script story': {'next_modes': ['Design anima...</td>\n",
              "      <td>{'Write a compelling script that creatively in...</td>\n",
              "      <td>Create an animated short film that illustrates...</td>\n",
              "      <td>[INST]Below is an instruction that describes a...</td>\n",
              "      <td>### Response:{'Write a compelling script that ...</td>\n",
              "      <td>[1, 733, 16289, 28793, 20548, 336, 349, 396, 1...</td>\n",
              "      <td>[1, 1, 1, 1, 1, 1, 1, 1, 1, 1, 1, 1, 1, 1, 1, ...</td>\n",
              "      <td>{'Sketch out a storyboard detailing the stages...</td>\n",
              "    </tr>\n",
              "    <tr>\n",
              "      <th>2</th>\n",
              "      <td>{'Draft game concept': {'next_modes': ['Create...</td>\n",
              "      <td>{'Outline the primary educational objectives a...</td>\n",
              "      <td>Develop an interactive web-based game that tea...</td>\n",
              "      <td>[INST]Below is an instruction that describes a...</td>\n",
              "      <td>### Response:{'Outline the primary educational...</td>\n",
              "      <td>[1, 733, 16289, 28793, 20548, 336, 349, 396, 1...</td>\n",
              "      <td>[1, 1, 1, 1, 1, 1, 1, 1, 1, 1, 1, 1, 1, 1, 1, ...</td>\n",
              "      <td>{'Design a user-friendly interface for the gam...</td>\n",
              "    </tr>\n",
              "    <tr>\n",
              "      <th>3</th>\n",
              "      <td>{'Design app interface': {'next_modes': ['Impl...</td>\n",
              "      <td>{'Sketch and prototype the app’s user interfac...</td>\n",
              "      <td>Develop a mobile app that translates spoken la...</td>\n",
              "      <td>[INST]Below is an instruction that describes a...</td>\n",
              "      <td>### Response:{'Sketch and prototype the app’s ...</td>\n",
              "      <td>[1, 733, 16289, 28793, 20548, 336, 349, 396, 1...</td>\n",
              "      <td>[1, 1, 1, 1, 1, 1, 1, 1, 1, 1, 1, 1, 1, 1, 1, ...</td>\n",
              "      <td>{'Develop a mobile app that utilizes speech re...</td>\n",
              "    </tr>\n",
              "    <tr>\n",
              "      <th>4</th>\n",
              "      <td>{'Research': {'next_modes': ['Write eBook', 'D...</td>\n",
              "      <td>{'Conduct comprehensive research on effective ...</td>\n",
              "      <td>Write an eBook on time management, including t...</td>\n",
              "      <td>[INST]Below is an instruction that describes a...</td>\n",
              "      <td>### Response:{'Conduct comprehensive research ...</td>\n",
              "      <td>[1, 733, 16289, 28793, 20548, 336, 349, 396, 1...</td>\n",
              "      <td>[1, 1, 1, 1, 1, 1, 1, 1, 1, 1, 1, 1, 1, 1, 1, ...</td>\n",
              "      <td>{'Conduct comprehensive research on time manag...</td>\n",
              "    </tr>\n",
              "  </tbody>\n",
              "</table>\n",
              "</div>\n",
              "    <div class=\"colab-df-buttons\">\n",
              "\n",
              "  <div class=\"colab-df-container\">\n",
              "    <button class=\"colab-df-convert\" onclick=\"convertToInteractive('df-5a40b572-cebc-4720-927d-7b85a28aa6b3')\"\n",
              "            title=\"Convert this dataframe to an interactive table.\"\n",
              "            style=\"display:none;\">\n",
              "\n",
              "  <svg xmlns=\"http://www.w3.org/2000/svg\" height=\"24px\" viewBox=\"0 -960 960 960\">\n",
              "    <path d=\"M120-120v-720h720v720H120Zm60-500h600v-160H180v160Zm220 220h160v-160H400v160Zm0 220h160v-160H400v160ZM180-400h160v-160H180v160Zm440 0h160v-160H620v160ZM180-180h160v-160H180v160Zm440 0h160v-160H620v160Z\"/>\n",
              "  </svg>\n",
              "    </button>\n",
              "\n",
              "  <style>\n",
              "    .colab-df-container {\n",
              "      display:flex;\n",
              "      gap: 12px;\n",
              "    }\n",
              "\n",
              "    .colab-df-convert {\n",
              "      background-color: #E8F0FE;\n",
              "      border: none;\n",
              "      border-radius: 50%;\n",
              "      cursor: pointer;\n",
              "      display: none;\n",
              "      fill: #1967D2;\n",
              "      height: 32px;\n",
              "      padding: 0 0 0 0;\n",
              "      width: 32px;\n",
              "    }\n",
              "\n",
              "    .colab-df-convert:hover {\n",
              "      background-color: #E2EBFA;\n",
              "      box-shadow: 0px 1px 2px rgba(60, 64, 67, 0.3), 0px 1px 3px 1px rgba(60, 64, 67, 0.15);\n",
              "      fill: #174EA6;\n",
              "    }\n",
              "\n",
              "    .colab-df-buttons div {\n",
              "      margin-bottom: 4px;\n",
              "    }\n",
              "\n",
              "    [theme=dark] .colab-df-convert {\n",
              "      background-color: #3B4455;\n",
              "      fill: #D2E3FC;\n",
              "    }\n",
              "\n",
              "    [theme=dark] .colab-df-convert:hover {\n",
              "      background-color: #434B5C;\n",
              "      box-shadow: 0px 1px 3px 1px rgba(0, 0, 0, 0.15);\n",
              "      filter: drop-shadow(0px 1px 2px rgba(0, 0, 0, 0.3));\n",
              "      fill: #FFFFFF;\n",
              "    }\n",
              "  </style>\n",
              "\n",
              "    <script>\n",
              "      const buttonEl =\n",
              "        document.querySelector('#df-5a40b572-cebc-4720-927d-7b85a28aa6b3 button.colab-df-convert');\n",
              "      buttonEl.style.display =\n",
              "        google.colab.kernel.accessAllowed ? 'block' : 'none';\n",
              "\n",
              "      async function convertToInteractive(key) {\n",
              "        const element = document.querySelector('#df-5a40b572-cebc-4720-927d-7b85a28aa6b3');\n",
              "        const dataTable =\n",
              "          await google.colab.kernel.invokeFunction('convertToInteractive',\n",
              "                                                    [key], {});\n",
              "        if (!dataTable) return;\n",
              "\n",
              "        const docLinkHtml = 'Like what you see? Visit the ' +\n",
              "          '<a target=\"_blank\" href=https://colab.research.google.com/notebooks/data_table.ipynb>data table notebook</a>'\n",
              "          + ' to learn more about interactive tables.';\n",
              "        element.innerHTML = '';\n",
              "        dataTable['output_type'] = 'display_data';\n",
              "        await google.colab.output.renderOutput(dataTable, element);\n",
              "        const docLink = document.createElement('div');\n",
              "        docLink.innerHTML = docLinkHtml;\n",
              "        element.appendChild(docLink);\n",
              "      }\n",
              "    </script>\n",
              "  </div>\n",
              "\n",
              "\n",
              "<div id=\"df-0a075f55-5f90-41c2-bbb2-4492c8b0c264\">\n",
              "  <button class=\"colab-df-quickchart\" onclick=\"quickchart('df-0a075f55-5f90-41c2-bbb2-4492c8b0c264')\"\n",
              "            title=\"Suggest charts\"\n",
              "            style=\"display:none;\">\n",
              "\n",
              "<svg xmlns=\"http://www.w3.org/2000/svg\" height=\"24px\"viewBox=\"0 0 24 24\"\n",
              "     width=\"24px\">\n",
              "    <g>\n",
              "        <path d=\"M19 3H5c-1.1 0-2 .9-2 2v14c0 1.1.9 2 2 2h14c1.1 0 2-.9 2-2V5c0-1.1-.9-2-2-2zM9 17H7v-7h2v7zm4 0h-2V7h2v10zm4 0h-2v-4h2v4z\"/>\n",
              "    </g>\n",
              "</svg>\n",
              "  </button>\n",
              "\n",
              "<style>\n",
              "  .colab-df-quickchart {\n",
              "      --bg-color: #E8F0FE;\n",
              "      --fill-color: #1967D2;\n",
              "      --hover-bg-color: #E2EBFA;\n",
              "      --hover-fill-color: #174EA6;\n",
              "      --disabled-fill-color: #AAA;\n",
              "      --disabled-bg-color: #DDD;\n",
              "  }\n",
              "\n",
              "  [theme=dark] .colab-df-quickchart {\n",
              "      --bg-color: #3B4455;\n",
              "      --fill-color: #D2E3FC;\n",
              "      --hover-bg-color: #434B5C;\n",
              "      --hover-fill-color: #FFFFFF;\n",
              "      --disabled-bg-color: #3B4455;\n",
              "      --disabled-fill-color: #666;\n",
              "  }\n",
              "\n",
              "  .colab-df-quickchart {\n",
              "    background-color: var(--bg-color);\n",
              "    border: none;\n",
              "    border-radius: 50%;\n",
              "    cursor: pointer;\n",
              "    display: none;\n",
              "    fill: var(--fill-color);\n",
              "    height: 32px;\n",
              "    padding: 0;\n",
              "    width: 32px;\n",
              "  }\n",
              "\n",
              "  .colab-df-quickchart:hover {\n",
              "    background-color: var(--hover-bg-color);\n",
              "    box-shadow: 0 1px 2px rgba(60, 64, 67, 0.3), 0 1px 3px 1px rgba(60, 64, 67, 0.15);\n",
              "    fill: var(--button-hover-fill-color);\n",
              "  }\n",
              "\n",
              "  .colab-df-quickchart-complete:disabled,\n",
              "  .colab-df-quickchart-complete:disabled:hover {\n",
              "    background-color: var(--disabled-bg-color);\n",
              "    fill: var(--disabled-fill-color);\n",
              "    box-shadow: none;\n",
              "  }\n",
              "\n",
              "  .colab-df-spinner {\n",
              "    border: 2px solid var(--fill-color);\n",
              "    border-color: transparent;\n",
              "    border-bottom-color: var(--fill-color);\n",
              "    animation:\n",
              "      spin 1s steps(1) infinite;\n",
              "  }\n",
              "\n",
              "  @keyframes spin {\n",
              "    0% {\n",
              "      border-color: transparent;\n",
              "      border-bottom-color: var(--fill-color);\n",
              "      border-left-color: var(--fill-color);\n",
              "    }\n",
              "    20% {\n",
              "      border-color: transparent;\n",
              "      border-left-color: var(--fill-color);\n",
              "      border-top-color: var(--fill-color);\n",
              "    }\n",
              "    30% {\n",
              "      border-color: transparent;\n",
              "      border-left-color: var(--fill-color);\n",
              "      border-top-color: var(--fill-color);\n",
              "      border-right-color: var(--fill-color);\n",
              "    }\n",
              "    40% {\n",
              "      border-color: transparent;\n",
              "      border-right-color: var(--fill-color);\n",
              "      border-top-color: var(--fill-color);\n",
              "    }\n",
              "    60% {\n",
              "      border-color: transparent;\n",
              "      border-right-color: var(--fill-color);\n",
              "    }\n",
              "    80% {\n",
              "      border-color: transparent;\n",
              "      border-right-color: var(--fill-color);\n",
              "      border-bottom-color: var(--fill-color);\n",
              "    }\n",
              "    90% {\n",
              "      border-color: transparent;\n",
              "      border-bottom-color: var(--fill-color);\n",
              "    }\n",
              "  }\n",
              "</style>\n",
              "\n",
              "  <script>\n",
              "    async function quickchart(key) {\n",
              "      const quickchartButtonEl =\n",
              "        document.querySelector('#' + key + ' button');\n",
              "      quickchartButtonEl.disabled = true;  // To prevent multiple clicks.\n",
              "      quickchartButtonEl.classList.add('colab-df-spinner');\n",
              "      try {\n",
              "        const charts = await google.colab.kernel.invokeFunction(\n",
              "            'suggestCharts', [key], {});\n",
              "      } catch (error) {\n",
              "        console.error('Error during call to suggestCharts:', error);\n",
              "      }\n",
              "      quickchartButtonEl.classList.remove('colab-df-spinner');\n",
              "      quickchartButtonEl.classList.add('colab-df-quickchart-complete');\n",
              "    }\n",
              "    (() => {\n",
              "      let quickchartButtonEl =\n",
              "        document.querySelector('#df-0a075f55-5f90-41c2-bbb2-4492c8b0c264 button');\n",
              "      quickchartButtonEl.style.display =\n",
              "        google.colab.kernel.accessAllowed ? 'block' : 'none';\n",
              "    })();\n",
              "  </script>\n",
              "</div>\n",
              "    </div>\n",
              "  </div>\n"
            ],
            "application/vnd.google.colaboratory.intrinsic+json": {
              "type": "dataframe",
              "variable_name": "df_test_with_detail_pred",
              "summary": "{\n  \"name\": \"df_test_with_detail_pred\",\n  \"rows\": 101,\n  \"fields\": [\n    {\n      \"column\": \"Blueprint\",\n      \"properties\": {\n        \"dtype\": \"string\",\n        \"num_unique_values\": 101,\n        \"samples\": [\n          \"{'Design a logo': {'next_modes': ['Create an animated version of the logo'], 'failure': ['Retry', 'Switch to Different Mode', 'Fallback Content', 'Log and Analyze']}, 'Create an animated version of the logo': {'next_modes': ['Analyzer'], 'failure': ['Retry', 'Exit', 'Quality Assurance Check', 'Mode Optimization']}, 'Analyzer': {'next_modes': [], 'failure': None}}\",\n          \"{'Analyze trends': {'next_modes': ['Create campaign', 'Design posts', 'Produce videos'], 'failure': ['Retry', 'Log and Analyze', 'Alternative Data Sources']}, 'Create campaign': {'next_modes': ['Design posts', 'Produce videos'], 'failure': ['Retry', 'Exit', 'Request Human Intervention']}, 'Design posts': {'next_modes': ['Launch campaign'], 'failure': ['Retry', 'Fallback Content', 'Quality Assurance Check']}, 'Produce videos': {'next_modes': ['Launch campaign'], 'failure': ['Retry', 'Switch to Different Mode', 'Partial Content Delivery']}, 'Launch campaign': {'next_modes': ['Analyzer'], 'failure': ['Mode Optimization', 'Retry', 'Log and Analyze']}, 'Analyzer': {'next_modes': [], 'failure': None}}\",\n          \"{'Conduct research': {'next_modes': ['Record episode'], 'failure': ['Retry', 'Exit', 'Log and Analyze']}, 'Record episode': {'next_modes': ['Edit episode'], 'failure': ['Retry', 'Request Human Intervention', 'Graceful Degradation']}, 'Edit episode': {'next_modes': ['Publish podcast'], 'failure': ['Retry', 'Fallback Content', 'Partial Content Delivery']}, 'Publish podcast': {'next_modes': ['Analyzer'], 'failure': ['Retry', 'Alternative Data Sources', 'Quality Assurance Check']}}\"\n        ],\n        \"semantic_type\": \"\",\n        \"description\": \"\"\n      }\n    },\n    {\n      \"column\": \"Detailed\",\n      \"properties\": {\n        \"dtype\": \"string\",\n        \"num_unique_values\": 101,\n        \"samples\": [\n          \"{'Sketch preliminary design concepts that represent environmental conservation, focusing on symbolism related to nature and sustainability': {'next_modes': ['Develop the chosen concept into a full logo design using vector graphic software, ensuring it communicates a clear message about environmental conservation'], 'failure': ['Retry by revisiting initial sketches and adjusting elements based on feedback', 'Switch to Different Mode by considering a textual instead of visual representation', 'Fallback Content by using a generic nature-inspired template', 'Log and Analyze reasons for initial design rejection to improve future projects']}, 'Develop the chosen concept into a full logo design using vector graphic software, ensuring it communicates a clear message about environmental conservation': {'next_modes': ['Translate the static logo into an animated version using animation software, highlighting elements that evoke environmental action and awareness'], 'failure': ['Retry with simplified animation techniques', 'Exit if unable to effectively animate within technical or time constraints', 'Quality Assurance Check to ensure animation aligns with environmental message', 'Mode Optimization by adjusting animation parameters for smoother execution']}, 'Translate the static logo into an animated version using animation software, highlighting elements that evoke environmental action and awareness': {'next_modes': ['Conduct a comprehensive review of the animated logo to ensure it meets design, message, and technical quality standards'], 'failure': None}}\",\n          \"{'Perform a comprehensive analysis of current social media trends, identifying patterns and potential target audiences for a specific product or service, using analytics tools': {'next_modes': ['Develop a strategic marketing campaign tailored to identified trends and audiences, incorporating upcoming social events and holidays', 'Design visually appealing posts that reflect the latest design trends', 'Produce engaging videos that highlight product benefits and user testimonials'], 'failure': ['Retry the analysis with a different set of analytics tools', 'Log and Analyze discrepancies in trend predictions', 'Alternative Data Sources for trend insights, such as influencer feedback']}, 'Develop a strategic marketing campaign tailored to identified trends and audiences, incorporating upcoming social events and holidays, with clear objectives and measurable outcomes': {'next_modes': ['Design visually appealing posts that reflect the latest design trends', 'Produce engaging videos that highlight product benefits and user testimonials'], 'failure': ['Retry the planning phase with a more focused target demographic', \\\"Exit campaign planning if a viable strategy can't be developed\\\", 'Request Human Intervention by engaging a marketing consultant for expert advice']}, \\\"Design visually appealing posts that reflect the latest design trends, using graphic design software to create images and short text snippets capturing the campaign's message\\\": {'next_modes': ['Launch the marketing campaign across multiple social media platforms, scheduling posts for optimal engagement times'], 'failure': ['Retry the design phase with feedback from a focus group', 'Fallback Content by using proven templates with slight modifications', 'Quality Assurance Check for brand consistency across all designs']}, 'Produce engaging videos that highlight product benefits and user testimonials, filming with high-quality equipment and editing for clarity and impact': {'next_modes': ['Launch the marketing campaign across multiple social media platforms, scheduling posts for optimal engagement times'], 'failure': ['Retry shooting with alternative scripts or settings', 'Switch to animated explainer videos if live-action footage fails to convey the intended message', 'Partial Content Delivery by releasing teasers if full video production is delayed']}, 'Launch the marketing campaign across multiple social media platforms, scheduling posts for optimal engagement times, and monitor engagement rates and audience feedback in real-time': {'next_modes': [\\\"Comprehensive analysis and report generation on the campaign's reach, engagement, conversion rates, and ROI, adjusting strategy as needed based on early results\\\"], 'failure': ['Optimization of posting schedules based on initial user engagement feedback', 'Retry limited campaign segments with revised content', 'Log and Analyze performance data to identify areas of improvement']}, \\\"Comprehensive analysis and report generation on the campaign's reach, engagement, conversion rates, and ROI, adjusting strategy as needed based on early results\\\": {'next_modes': [], 'failure': None}}\",\n          \"{'Gather current, credible information on sustainable living practices, including expert interviews and case studies': {'next_modes': ['Use professional-grade recording equipment to capture clear audio of narration and interviews, ensuring minimal background noise'], 'failure': ['Reattempt data gathering with a focus on more accessible sources', 'Cease the research if it becomes too costly or time-consuming', 'Critically assess research methods and outcomes for improvements']}, 'Use professional-grade recording equipment to capture clear audio of narration and interviews, ensuring minimal background noise': {'next_modes': ['Apply audio editing software to enhance sound quality, insert background music, and trim unnecessary segments'], 'failure': ['Rerecord any segments of poor quality', 'Enlist the help of an audio editing specialist', 'Simplify the podcast format to ensure completion']}, 'Apply audio editing software to enhance sound quality, insert background music, and trim unnecessary segments': {'next_modes': ['Upload the final podcast episode to multiple streaming platforms to reach a wide audience'], 'failure': ['Edit the episode again for quality improvements', 'Use a simpler editing software or template', 'Deliver a shortened or simplified version of the episode']}, 'Upload the final podcast episode to multiple streaming platforms to reach a wide audience': {'next_modes': [\\\"Conduct a thorough analysis of listener feedback and engagement metrics to gauge the episode's impact\\\"], 'failure': ['Attempt the upload process again during non-peak hours', 'Seek alternative hosting platforms', \\\"Ensure the podcast's visibility through targeted marketing\\\"]}}\"\n        ],\n        \"semantic_type\": \"\",\n        \"description\": \"\"\n      }\n    },\n    {\n      \"column\": \"Instruction\",\n      \"properties\": {\n        \"dtype\": \"string\",\n        \"num_unique_values\": 101,\n        \"samples\": [\n          \"Design a logo inspired by the concept of environmental conservation, then create an animated version of the logo.\",\n          \"Analyze social media trends to create a targeted marketing campaign, then design a series of posts and videos, followed by measuring the campaign's impact.\",\n          \"Produce a podcast episode about sustainable living, including research, recording, editing, and publishing.\"\n        ],\n        \"semantic_type\": \"\",\n        \"description\": \"\"\n      }\n    },\n    {\n      \"column\": \"prompt\",\n      \"properties\": {\n        \"dtype\": \"string\",\n        \"num_unique_values\": 101,\n        \"samples\": [\n          \"[INST]Below is an instruction that describes a composite task. Provide the structured detail planning for the following task.Design a logo inspired by the concept of environmental conservation, then create an animated version of the logo.[/INST]\\n\\n### Response:{'Sketch preliminary design concepts that represent environmental conservation, focusing on symbolism related to nature and sustainability': {'next_modes': ['Develop the chosen concept into a full logo design using vector graphic software, ensuring it communicates a clear message about environmental conservation'], 'failure': ['Retry by revisiting initial sketches and adjusting elements based on feedback', 'Switch to Different Mode by considering a textual instead of visual representation', 'Fallback Content by using a generic nature-inspired template', 'Log and Analyze reasons for initial design rejection to improve future projects']}, 'Develop the chosen concept into a full logo design using vector graphic software, ensuring it communicates a clear message about environmental conservation': {'next_modes': ['Translate the static logo into an animated version using animation software, highlighting elements that evoke environmental action and awareness'], 'failure': ['Retry with simplified animation techniques', 'Exit if unable to effectively animate within technical or time constraints', 'Quality Assurance Check to ensure animation aligns with environmental message', 'Mode Optimization by adjusting animation parameters for smoother execution']}, 'Translate the static logo into an animated version using animation software, highlighting elements that evoke environmental action and awareness': {'next_modes': ['Conduct a comprehensive review of the animated logo to ensure it meets design, message, and technical quality standards'], 'failure': None}}\",\n          \"[INST]Below is an instruction that describes a composite task. Provide the structured detail planning for the following task.Analyze social media trends to create a targeted marketing campaign, then design a series of posts and videos, followed by measuring the campaign's impact.[/INST]\\n\\n### Response:{'Perform a comprehensive analysis of current social media trends, identifying patterns and potential target audiences for a specific product or service, using analytics tools': {'next_modes': ['Develop a strategic marketing campaign tailored to identified trends and audiences, incorporating upcoming social events and holidays', 'Design visually appealing posts that reflect the latest design trends', 'Produce engaging videos that highlight product benefits and user testimonials'], 'failure': ['Retry the analysis with a different set of analytics tools', 'Log and Analyze discrepancies in trend predictions', 'Alternative Data Sources for trend insights, such as influencer feedback']}, 'Develop a strategic marketing campaign tailored to identified trends and audiences, incorporating upcoming social events and holidays, with clear objectives and measurable outcomes': {'next_modes': ['Design visually appealing posts that reflect the latest design trends', 'Produce engaging videos that highlight product benefits and user testimonials'], 'failure': ['Retry the planning phase with a more focused target demographic', \\\"Exit campaign planning if a viable strategy can't be developed\\\", 'Request Human Intervention by engaging a marketing consultant for expert advice']}, \\\"Design visually appealing posts that reflect the latest design trends, using graphic design software to create images and short text snippets capturing the campaign's message\\\": {'next_modes': ['Launch the marketing campaign across multiple social media platforms, scheduling posts for optimal engagement times'], 'failure': ['Retry the design phase with feedback from a focus group', 'Fallback Content by using proven templates with slight modifications', 'Quality Assurance Check for brand consistency across all designs']}, 'Produce engaging videos that highlight product benefits and user testimonials, filming with high-quality equipment and editing for clarity and impact': {'next_modes': ['Launch the marketing campaign across multiple social media platforms, scheduling posts for optimal engagement times'], 'failure': ['Retry shooting with alternative scripts or settings', 'Switch to animated explainer videos if live-action footage fails to convey the intended message', 'Partial Content Delivery by releasing teasers if full video production is delayed']}, 'Launch the marketing campaign across multiple social media platforms, scheduling posts for optimal engagement times, and monitor engagement rates and audience feedback in real-time': {'next_modes': [\\\"Comprehensive analysis and report generation on the campaign's reach, engagement, conversion rates, and ROI, adjusting strategy as needed based on early results\\\"], 'failure': ['Optimization of posting schedules based on initial user engagement feedback', 'Retry limited campaign segments with revised content', 'Log and Analyze performance data to identify areas of improvement']}, \\\"Comprehensive analysis and report generation on the campaign's reach, engagement, conversion rates, and ROI, adjusting strategy as needed based on early results\\\": {'next_modes': [], 'failure': None}}\",\n          \"[INST]Below is an instruction that describes a composite task. Provide the structured detail planning for the following task.Produce a podcast episode about sustainable living, including research, recording, editing, and publishing.[/INST]\\n\\n### Response:{'Gather current, credible information on sustainable living practices, including expert interviews and case studies': {'next_modes': ['Use professional-grade recording equipment to capture clear audio of narration and interviews, ensuring minimal background noise'], 'failure': ['Reattempt data gathering with a focus on more accessible sources', 'Cease the research if it becomes too costly or time-consuming', 'Critically assess research methods and outcomes for improvements']}, 'Use professional-grade recording equipment to capture clear audio of narration and interviews, ensuring minimal background noise': {'next_modes': ['Apply audio editing software to enhance sound quality, insert background music, and trim unnecessary segments'], 'failure': ['Rerecord any segments of poor quality', 'Enlist the help of an audio editing specialist', 'Simplify the podcast format to ensure completion']}, 'Apply audio editing software to enhance sound quality, insert background music, and trim unnecessary segments': {'next_modes': ['Upload the final podcast episode to multiple streaming platforms to reach a wide audience'], 'failure': ['Edit the episode again for quality improvements', 'Use a simpler editing software or template', 'Deliver a shortened or simplified version of the episode']}, 'Upload the final podcast episode to multiple streaming platforms to reach a wide audience': {'next_modes': [\\\"Conduct a thorough analysis of listener feedback and engagement metrics to gauge the episode's impact\\\"], 'failure': ['Attempt the upload process again during non-peak hours', 'Seek alternative hosting platforms', \\\"Ensure the podcast's visibility through targeted marketing\\\"]}}\"\n        ],\n        \"semantic_type\": \"\",\n        \"description\": \"\"\n      }\n    },\n    {\n      \"column\": \"response\",\n      \"properties\": {\n        \"dtype\": \"string\",\n        \"num_unique_values\": 101,\n        \"samples\": [\n          \"### Response:{'Sketch preliminary design concepts that represent environmental conservation, focusing on symbolism related to nature and sustainability': {'next_modes': ['Develop the chosen concept into a full logo design using vector graphic software, ensuring it communicates a clear message about environmental conservation'], 'failure': ['Retry by revisiting initial sketches and adjusting elements based on feedback', 'Switch to Different Mode by considering a textual instead of visual representation', 'Fallback Content by using a generic nature-inspired template', 'Log and Analyze reasons for initial design rejection to improve future projects']}, 'Develop the chosen concept into a full logo design using vector graphic software, ensuring it communicates a clear message about environmental conservation': {'next_modes': ['Translate the static logo into an animated version using animation software, highlighting elements that evoke environmental action and awareness'], 'failure': ['Retry with simplified animation techniques', 'Exit if unable to effectively animate within technical or time constraints', 'Quality Assurance Check to ensure animation aligns with environmental message', 'Mode Optimization by adjusting animation parameters for smoother execution']}, 'Translate the static logo into an animated version using animation software, highlighting elements that evoke environmental action and awareness': {'next_modes': ['Conduct a comprehensive review of the animated logo to ensure it meets design, message, and technical quality standards'], 'failure': None}}\",\n          \"### Response:{'Perform a comprehensive analysis of current social media trends, identifying patterns and potential target audiences for a specific product or service, using analytics tools': {'next_modes': ['Develop a strategic marketing campaign tailored to identified trends and audiences, incorporating upcoming social events and holidays', 'Design visually appealing posts that reflect the latest design trends', 'Produce engaging videos that highlight product benefits and user testimonials'], 'failure': ['Retry the analysis with a different set of analytics tools', 'Log and Analyze discrepancies in trend predictions', 'Alternative Data Sources for trend insights, such as influencer feedback']}, 'Develop a strategic marketing campaign tailored to identified trends and audiences, incorporating upcoming social events and holidays, with clear objectives and measurable outcomes': {'next_modes': ['Design visually appealing posts that reflect the latest design trends', 'Produce engaging videos that highlight product benefits and user testimonials'], 'failure': ['Retry the planning phase with a more focused target demographic', \\\"Exit campaign planning if a viable strategy can't be developed\\\", 'Request Human Intervention by engaging a marketing consultant for expert advice']}, \\\"Design visually appealing posts that reflect the latest design trends, using graphic design software to create images and short text snippets capturing the campaign's message\\\": {'next_modes': ['Launch the marketing campaign across multiple social media platforms, scheduling posts for optimal engagement times'], 'failure': ['Retry the design phase with feedback from a focus group', 'Fallback Content by using proven templates with slight modifications', 'Quality Assurance Check for brand consistency across all designs']}, 'Produce engaging videos that highlight product benefits and user testimonials, filming with high-quality equipment and editing for clarity and impact': {'next_modes': ['Launch the marketing campaign across multiple social media platforms, scheduling posts for optimal engagement times'], 'failure': ['Retry shooting with alternative scripts or settings', 'Switch to animated explainer videos if live-action footage fails to convey the intended message', 'Partial Content Delivery by releasing teasers if full video production is delayed']}, 'Launch the marketing campaign across multiple social media platforms, scheduling posts for optimal engagement times, and monitor engagement rates and audience feedback in real-time': {'next_modes': [\\\"Comprehensive analysis and report generation on the campaign's reach, engagement, conversion rates, and ROI, adjusting strategy as needed based on early results\\\"], 'failure': ['Optimization of posting schedules based on initial user engagement feedback', 'Retry limited campaign segments with revised content', 'Log and Analyze performance data to identify areas of improvement']}, \\\"Comprehensive analysis and report generation on the campaign's reach, engagement, conversion rates, and ROI, adjusting strategy as needed based on early results\\\": {'next_modes': [], 'failure': None}}\",\n          \"### Response:{'Gather current, credible information on sustainable living practices, including expert interviews and case studies': {'next_modes': ['Use professional-grade recording equipment to capture clear audio of narration and interviews, ensuring minimal background noise'], 'failure': ['Reattempt data gathering with a focus on more accessible sources', 'Cease the research if it becomes too costly or time-consuming', 'Critically assess research methods and outcomes for improvements']}, 'Use professional-grade recording equipment to capture clear audio of narration and interviews, ensuring minimal background noise': {'next_modes': ['Apply audio editing software to enhance sound quality, insert background music, and trim unnecessary segments'], 'failure': ['Rerecord any segments of poor quality', 'Enlist the help of an audio editing specialist', 'Simplify the podcast format to ensure completion']}, 'Apply audio editing software to enhance sound quality, insert background music, and trim unnecessary segments': {'next_modes': ['Upload the final podcast episode to multiple streaming platforms to reach a wide audience'], 'failure': ['Edit the episode again for quality improvements', 'Use a simpler editing software or template', 'Deliver a shortened or simplified version of the episode']}, 'Upload the final podcast episode to multiple streaming platforms to reach a wide audience': {'next_modes': [\\\"Conduct a thorough analysis of listener feedback and engagement metrics to gauge the episode's impact\\\"], 'failure': ['Attempt the upload process again during non-peak hours', 'Seek alternative hosting platforms', \\\"Ensure the podcast's visibility through targeted marketing\\\"]}}\"\n        ],\n        \"semantic_type\": \"\",\n        \"description\": \"\"\n      }\n    },\n    {\n      \"column\": \"input_ids\",\n      \"properties\": {\n        \"dtype\": \"object\",\n        \"semantic_type\": \"\",\n        \"description\": \"\"\n      }\n    },\n    {\n      \"column\": \"attention_mask\",\n      \"properties\": {\n        \"dtype\": \"object\",\n        \"semantic_type\": \"\",\n        \"description\": \"\"\n      }\n    },\n    {\n      \"column\": \"detail-pred\",\n      \"properties\": {\n        \"dtype\": \"string\",\n        \"num_unique_values\": 101,\n        \"samples\": [\n          \"{'Sketch initial logo concepts focusing on nature, sustainability, and the interconnectedness of ecosystems': {'next_modes': ['Refine the chosen design, incorporating feedback from a focus group', 'Develop a storyboard for the animated version of the logo, highlighting key environmental themes'], 'failure': ['Retry with a new concept if initial designs are not compelling', 'Exit the design phase if a viable concept cannot be identified', 'Fallback Content using a generic eco-themed template', 'Request Human Intervention for creative direction']}, 'Refine the chosen design, incorporating feedback from a focus group': {'next_modes': ['Develop a storyboard for the animated version of the logo, highlighting key environmental themes'], 'failure': ['Retry with adjusted design elements based on feedback', 'Switch to Different Mode by considering a static logo if animation is not feasible', 'Quality Assurance Check to ensure the design meets brand guidelines', 'Log and Analyze feedback for future design iterations']}, 'Develop a storyboard for the animated version of the logo, highlighting key environmental themes': {'next_modes': ['Produce the animated logo, ensuring smooth transitions and clear messaging'], 'failure': ['Retry with a simplified animation if complexity hinders progress', 'Exit if the animation does not align with the logo concept', 'Quality Assurance Check to ensure animation quality and message clarity', 'Partial Content Delivery by releasing a static version of the logo if animation is not feasible']}, 'Produce the animated logo, ensuring smooth transitions and clear messaging': {'next_modes': ['Conduct a final review to ensure the animation aligns with the brand and environmental message'], 'failure': ['Retry with adjustments to animation timing or visual effects', 'Exit if the animation does not meet quality standards', 'Log and Analyze viewer feedback for future improvements', 'Mode Optimization by adjusting animation parameters for better performance']}, 'Conduct a final review to ensure the animation aligns with the brand and environmental message': {'next_modes': [], 'failure': None}}</s>\",\n          \"{'Analyze social media trends to identify popular topics and trends, using data analytics tools to understand audience preferences and engagement patterns': {'next_modes': ['Design a series of posts and videos that align with identified trends, ensuring content is engaging and relevant to the target audience'], 'failure': ['Retry by refining the analysis parameters', 'Exit if trends are not actionable', 'Fallback Content using generic trend data', 'Request Human Intervention for expert analysis']}, 'Design a series of posts and videos that align with identified trends, ensuring content is engaging and relevant to the target audience, and optimized for different social media platforms': {'next_modes': ['Measure the campaign\\u2019s impact through metrics such as engagement rates, reach, and conversions'], 'failure': ['Retry with adjustments to content based on initial feedback', 'Switch to Different Mode by considering alternative content formats', 'Quality Assurance Check to ensure all content meets brand standards', 'Alternative Data Sources for trend validation']}, 'Measure the campaign\\u2019s impact through metrics such as engagement rates, reach, and conversions, using analytics tools to evaluate the effectiveness of the campaign': {'next_modes': [], 'failure': None}}</s>\",\n          \"{'Conduct in-depth research on sustainable living practices, focusing on practical tips and expert interviews': {'next_modes': ['Record a podcast episode discussing the research findings, incorporating expert interviews and practical tips'], 'failure': ['Retry the research with a focus on more recent studies', 'Exit the project if sufficient information cannot be gathered', 'Fallback Content using general sustainable living knowledge', 'Request Human Intervention for expert guidance']}, 'Record a podcast episode discussing the research findings, incorporating expert interviews and practical tips, ensuring high audio quality': {'next_modes': ['Edit the podcast episode for clarity, pacing, and audio balance, adding intro and outro music'], 'failure': ['Retry recording with improved equipment or settings', 'Switch to Different Mode by considering a video format if audio quality is not sufficient', 'Quality Assurance Check for audio clarity and content accuracy', 'Alternative Data Sources for additional expert interviews']}, 'Edit the podcast episode for clarity, pacing, and audio balance, adding intro and outro music, ensuring the final product is engaging and informative': {'next_modes': ['Publish the podcast episode on major platforms, including Apple Podcasts, Spotify, and Google Podcasts, for maximum reach'], 'failure': ['Retry editing with adjustments to pacing or audio levels', 'Exit the project if the episode does not meet quality standards', 'Log and Analyze feedback for future episodes', 'Partial Content Delivery by releasing a shorter version if full episode editing is not feasible']}, 'Publish the podcast episode on major platforms, including Apple Podcasts, Spotify, and Google Podcasts, for maximum reach': {'next_modes': [], 'failure': None}}</s>\"\n        ],\n        \"semantic_type\": \"\",\n        \"description\": \"\"\n      }\n    }\n  ]\n}"
            }
          },
          "metadata": {},
          "execution_count": 58
        }
      ],
      "source": [
        "df_test_with_detail_pred.head(5)"
      ]
    },
    {
      "cell_type": "code",
      "execution_count": null,
      "metadata": {
        "id": "sYt_Tgg4TXAt",
        "colab": {
          "base_uri": "https://localhost:8080/",
          "height": 17
        },
        "outputId": "43da762f-c9d2-4529-e164-c7aa6e98866b"
      },
      "outputs": [
        {
          "output_type": "display_data",
          "data": {
            "text/plain": [
              "<IPython.core.display.HTML object>"
            ],
            "text/html": [
              "\n",
              "  <style>\n",
              "    pre {\n",
              "        white-space: pre-wrap;\n",
              "    }\n",
              "  </style>\n",
              "  "
            ]
          },
          "metadata": {}
        }
      ],
      "source": [
        "import json\n",
        "import numpy as np\n",
        "\n",
        "# Convert DataFrame to a dictionary for prettier JSON\n",
        "data_dict = df_test_with_detail_pred.to_dict(orient='records')\n",
        "\n",
        "class NumpyEncoder(json.JSONEncoder):\n",
        "    \"\"\" Special json encoder for numpy types \"\"\"\n",
        "    def default(self, obj):\n",
        "        if isinstance(obj, np.integer):\n",
        "            return int(obj)\n",
        "        elif isinstance(obj, np.floating):\n",
        "            return float(obj)\n",
        "        elif isinstance(obj, np.ndarray):\n",
        "            return obj.tolist()\n",
        "        return json.JSONEncoder.default(self, obj)\n",
        "\n",
        "dumped = json.dumps(data_dict, cls=NumpyEncoder)\n",
        "\n",
        "# Writing prettified JSON to a file\n",
        "with open('data_test_with_detail_pred_v2.json', 'w') as f:\n",
        "    json.dump(dumped, f, indent=4)"
      ]
    },
    {
      "cell_type": "code",
      "execution_count": null,
      "metadata": {
        "id": "V0ZROuajT1J9",
        "colab": {
          "base_uri": "https://localhost:8080/",
          "height": 17
        },
        "outputId": "7482b22f-309f-4ece-8f35-01bdd00ea012"
      },
      "outputs": [
        {
          "output_type": "display_data",
          "data": {
            "text/plain": [
              "<IPython.core.display.HTML object>"
            ],
            "text/html": [
              "\n",
              "  <style>\n",
              "    pre {\n",
              "        white-space: pre-wrap;\n",
              "    }\n",
              "  </style>\n",
              "  "
            ]
          },
          "metadata": {}
        },
        {
          "output_type": "display_data",
          "data": {
            "text/plain": [
              "<IPython.core.display.Javascript object>"
            ],
            "application/javascript": [
              "\n",
              "    async function download(id, filename, size) {\n",
              "      if (!google.colab.kernel.accessAllowed) {\n",
              "        return;\n",
              "      }\n",
              "      const div = document.createElement('div');\n",
              "      const label = document.createElement('label');\n",
              "      label.textContent = `Downloading \"${filename}\": `;\n",
              "      div.appendChild(label);\n",
              "      const progress = document.createElement('progress');\n",
              "      progress.max = size;\n",
              "      div.appendChild(progress);\n",
              "      document.body.appendChild(div);\n",
              "\n",
              "      const buffers = [];\n",
              "      let downloaded = 0;\n",
              "\n",
              "      const channel = await google.colab.kernel.comms.open(id);\n",
              "      // Send a message to notify the kernel that we're ready.\n",
              "      channel.send({})\n",
              "\n",
              "      for await (const message of channel.messages) {\n",
              "        // Send a message to notify the kernel that we're ready.\n",
              "        channel.send({})\n",
              "        if (message.buffers) {\n",
              "          for (const buffer of message.buffers) {\n",
              "            buffers.push(buffer);\n",
              "            downloaded += buffer.byteLength;\n",
              "            progress.value = downloaded;\n",
              "          }\n",
              "        }\n",
              "      }\n",
              "      const blob = new Blob(buffers, {type: 'application/binary'});\n",
              "      const a = document.createElement('a');\n",
              "      a.href = window.URL.createObjectURL(blob);\n",
              "      a.download = filename;\n",
              "      div.appendChild(a);\n",
              "      a.click();\n",
              "      div.remove();\n",
              "    }\n",
              "  "
            ]
          },
          "metadata": {}
        },
        {
          "output_type": "display_data",
          "data": {
            "text/plain": [
              "<IPython.core.display.Javascript object>"
            ],
            "application/javascript": [
              "download(\"download_3e762472-11c0-4010-b485-422aaa11015f\", \"data_test_with_detail_pred_v2.json\", 1348740)"
            ]
          },
          "metadata": {}
        }
      ],
      "source": [
        "from google.colab import files\n",
        "\n",
        "files.download('data_test_with_detail_pred_v2.json')"
      ]
    },
    {
      "cell_type": "code",
      "execution_count": null,
      "metadata": {
        "id": "vd02CmrnT_RS",
        "colab": {
          "base_uri": "https://localhost:8080/",
          "height": 17
        },
        "outputId": "370b279c-5fe0-41d3-bfa0-3d591365b9e0"
      },
      "outputs": [
        {
          "output_type": "display_data",
          "data": {
            "text/plain": [
              "<IPython.core.display.HTML object>"
            ],
            "text/html": [
              "\n",
              "  <style>\n",
              "    pre {\n",
              "        white-space: pre-wrap;\n",
              "    }\n",
              "  </style>\n",
              "  "
            ]
          },
          "metadata": {}
        }
      ],
      "source": [
        "import locale\n",
        "locale.getpreferredencoding = lambda: \"UTF-8\""
      ]
    },
    {
      "cell_type": "code",
      "execution_count": null,
      "metadata": {
        "id": "E2nLRfA-UApE",
        "colab": {
          "base_uri": "https://localhost:8080/",
          "height": 170
        },
        "outputId": "f1bf4deb-2df7-4698-ad2c-338910f98374"
      },
      "outputs": [
        {
          "output_type": "display_data",
          "data": {
            "text/plain": [
              "<IPython.core.display.HTML object>"
            ],
            "text/html": [
              "\n",
              "  <style>\n",
              "    pre {\n",
              "        white-space: pre-wrap;\n",
              "    }\n",
              "  </style>\n",
              "  "
            ]
          },
          "metadata": {}
        },
        {
          "output_type": "stream",
          "name": "stdout",
          "text": [
            "  adding: ckpts_mistral_7B_detailed_planning_v2/ (stored 0%)\n",
            "  adding: ckpts_mistral_7B_detailed_planning_v2/tokenizer.model (deflated 55%)\n",
            "  adding: ckpts_mistral_7B_detailed_planning_v2/tokenizer_config.json (deflated 66%)\n",
            "  adding: ckpts_mistral_7B_detailed_planning_v2/added_tokens.json (stored 0%)\n",
            "  adding: ckpts_mistral_7B_detailed_planning_v2/special_tokens_map.json (deflated 72%)\n",
            "  adding: ckpts_mistral_7B_detailed_planning_v2/adapter_model.safetensors (deflated 50%)\n",
            "  adding: ckpts_mistral_7B_detailed_planning_v2/adapter_config.json (deflated 54%)\n",
            "  adding: ckpts_mistral_7B_detailed_planning_v2/README.md (deflated 66%)\n",
            "  adding: ckpts_mistral_7B_detailed_planning_v2/tokenizer.json (deflated 74%)\n"
          ]
        }
      ],
      "source": [
        "!zip -r ckpts_mistral_7B_detailed_planning_v2.zip ckpts_mistral_7B_detailed_planning_v2/"
      ]
    },
    {
      "cell_type": "code",
      "source": [
        "from google.colab import drive\n",
        "drive.mount('/content/drive',force_remount=True)"
      ],
      "metadata": {
        "colab": {
          "base_uri": "https://localhost:8080/",
          "height": 34
        },
        "id": "p7xG7y1Vj_My",
        "outputId": "476c458b-e93e-45c3-8cdc-6aa2e29b5e24"
      },
      "execution_count": null,
      "outputs": [
        {
          "output_type": "display_data",
          "data": {
            "text/plain": [
              "<IPython.core.display.HTML object>"
            ],
            "text/html": [
              "\n",
              "  <style>\n",
              "    pre {\n",
              "        white-space: pre-wrap;\n",
              "    }\n",
              "  </style>\n",
              "  "
            ]
          },
          "metadata": {}
        },
        {
          "output_type": "stream",
          "name": "stdout",
          "text": [
            "Mounted at /content/drive\n"
          ]
        }
      ]
    },
    {
      "cell_type": "code",
      "execution_count": null,
      "metadata": {
        "id": "WQFl_TK7US9C",
        "colab": {
          "base_uri": "https://localhost:8080/",
          "height": 17
        },
        "outputId": "737586e1-399d-4e18-d64e-ee1a9404d825"
      },
      "outputs": [
        {
          "output_type": "display_data",
          "data": {
            "text/plain": [
              "<IPython.core.display.HTML object>"
            ],
            "text/html": [
              "\n",
              "  <style>\n",
              "    pre {\n",
              "        white-space: pre-wrap;\n",
              "    }\n",
              "  </style>\n",
              "  "
            ]
          },
          "metadata": {}
        }
      ],
      "source": [
        "!cp ckpts_mistral_7B_detailed_planning_v2.zip '/content/drive/MyDrive'"
      ]
    },
    {
      "cell_type": "code",
      "execution_count": null,
      "metadata": {
        "id": "GmMzCJVQr_pI"
      },
      "outputs": [],
      "source": [
        "# from huggingface_hub import create_repo\n",
        "\n",
        "# repo_id = f'{user}/{OUTPUT_DIR_NAME}'\n",
        "\n",
        "# # Set exist_ok to False if the repo has not been created yet\n",
        "# url = create_repo(repo_id, token=hf_token, exist_ok=True)\n",
        "\n",
        "# print(url)"
      ]
    },
    {
      "cell_type": "code",
      "execution_count": null,
      "metadata": {
        "id": "l4Oa2mb-QjLt"
      },
      "outputs": [],
      "source": [
        "# # Flush memory\n",
        "# del trainer, model\n",
        "# gc.collect()\n",
        "# torch.cuda.empty_cache()"
      ]
    },
    {
      "cell_type": "code",
      "execution_count": null,
      "metadata": {
        "id": "9NeTsQOPRSN2"
      },
      "outputs": [],
      "source": [
        "# import torch\n",
        "# from transformers import AutoModelForCausalLM, AutoTokenizer\n",
        "# from peft import PeftModel\n",
        "\n",
        "\n",
        "# base_model = AutoModelForCausalLM.from_pretrained(\n",
        "#     MODEL_NAME,\n",
        "#     device_map=\"auto\",\n",
        "#     torch_dtype=torch.bfloat16,\n",
        "#     attn_implementation=\"flash_attention_2\" # for Amper GPU\n",
        "# )\n",
        "\n",
        "# model = PeftModel.from_pretrained(base_model, ADAPTER_CHECKPOINTS_NAME)\n",
        "# model = model.merge_and_unload()\n",
        "\n",
        "# tokenizer = AutoTokenizer.from_pretrained(ADAPTER_CHECKPOINTS_NAME)\n",
        "# tokenizer.pad_token, tokenizer.pad_token_id, tokenizer.padding_side"
      ]
    },
    {
      "cell_type": "code",
      "execution_count": null,
      "metadata": {
        "id": "dQPO09ETRsDT"
      },
      "outputs": [],
      "source": [
        "# # Save model and tokenizer\n",
        "# model.save_pretrained(OUTPUT_DIR_NAME)\n",
        "# tokenizer.save_pretrained(OUTPUT_DIR_NAME)"
      ]
    },
    {
      "cell_type": "code",
      "execution_count": null,
      "metadata": {
        "id": "XqD3r3aP18ff"
      },
      "outputs": [],
      "source": [
        "# from pathlib import Path\n",
        "\n",
        "# from huggingface_hub import ModelCard, ModelCardData\n",
        "\n",
        "# card_data = ModelCardData(language='en', license='MIT', library_name='torch')\n",
        "\n",
        "# # Define your jinja template\n",
        "# template_text = \"\"\"\n",
        "# ---\n",
        "# {{ card_data }}\n",
        "# ---\n",
        "\n",
        "# # Model Card for Decompose_Task_Mistral-7B\n",
        "\n",
        "# ## Model Details\n",
        "\n",
        "# ### Model Description\n",
        "\n",
        "# This model decomposes a multi-modal composite task to detailed actionable subtasks\n",
        "\n",
        "# - **Developed by:** Arash Shahmansoori\n",
        "# - **Language(s) (NLP):** en\n",
        "# - **License:** mit\n",
        "# - **Finetuned from model:** Mistral-7B-v0.1\n",
        "\n",
        "# ### Model Sources\n",
        "\n",
        "# - **Repository:** https://github.com/arash-shahmansoori/decompose_net.git\n",
        "# - **Paper [optional]:** https://medium.com/@arash.mansoori65/decompose-and-conquer-introducing-the-first-open-source-large-language-model-with-multi-modal-task-9d3683dd8bed\n",
        "# \"\"\".strip()\n",
        "\n",
        "# # Write the template to a file\n",
        "# Path('custom_template.md').write_text(template_text)\n",
        "\n",
        "# # Define card metadata\n",
        "# card_data = ModelCardData(language='en', license='mit', library_name='torch')\n",
        "\n",
        "# # Create card from template, passing it any jinja template variables you want.\n",
        "# # In our case, we'll pass author\n",
        "# card = ModelCard.from_template(card_data, template_path='custom_template.md', author='Arash Shahmansoori')\n",
        "# card.save('decompose_net_card.md')\n",
        "# print(card)"
      ]
    },
    {
      "cell_type": "code",
      "execution_count": null,
      "metadata": {
        "id": "KiQNWo6E6v2W"
      },
      "outputs": [],
      "source": [
        "# card.push_to_hub(repo_id, token=hf_token)"
      ]
    }
  ],
  "metadata": {
    "accelerator": "GPU",
    "colab": {
      "gpuType": "L4",
      "machine_shape": "hm",
      "provenance": []
    },
    "kernelspec": {
      "display_name": "Python 3",
      "name": "python3"
    },
    "language_info": {
      "name": "python"
    },
    "widgets": {
      "application/vnd.jupyter.widget-state+json": {
        "e10ba8444436418ca05998080eff5c25": {
          "model_module": "@jupyter-widgets/controls",
          "model_name": "VBoxModel",
          "model_module_version": "1.5.0",
          "state": {
            "_dom_classes": [],
            "_model_module": "@jupyter-widgets/controls",
            "_model_module_version": "1.5.0",
            "_model_name": "VBoxModel",
            "_view_count": null,
            "_view_module": "@jupyter-widgets/controls",
            "_view_module_version": "1.5.0",
            "_view_name": "VBoxView",
            "box_style": "",
            "children": [
              "IPY_MODEL_30e26b9c3f6848c7b320b200616c6e7b",
              "IPY_MODEL_2a6cd89c1f734f5f98dc688859263750",
              "IPY_MODEL_a1eb9b7daec14c06a82929504a643ee0",
              "IPY_MODEL_faa54cfeb4604f02977882c17c3ea76b"
            ],
            "layout": "IPY_MODEL_bba4d33080a64ac4a11a7de84efd1398"
          }
        },
        "f6a1b1e4c72d47e6802f22bf9ed7ee41": {
          "model_module": "@jupyter-widgets/controls",
          "model_name": "HTMLModel",
          "model_module_version": "1.5.0",
          "state": {
            "_dom_classes": [],
            "_model_module": "@jupyter-widgets/controls",
            "_model_module_version": "1.5.0",
            "_model_name": "HTMLModel",
            "_view_count": null,
            "_view_module": "@jupyter-widgets/controls",
            "_view_module_version": "1.5.0",
            "_view_name": "HTMLView",
            "description": "",
            "description_tooltip": null,
            "layout": "IPY_MODEL_f358d4b56c904dabbab553b291e268c1",
            "placeholder": "​",
            "style": "IPY_MODEL_b7da8dd5642d46fbbd6859f4926177dd",
            "value": "<center> <img\nsrc=https://huggingface.co/front/assets/huggingface_logo-noborder.svg\nalt='Hugging Face'> <br> Copy a token from <a\nhref=\"https://huggingface.co/settings/tokens\" target=\"_blank\">your Hugging Face\ntokens page</a> and paste it below. <br> Immediately click login after copying\nyour token or it might be stored in plain text in this notebook file. </center>"
          }
        },
        "9f02b5e6bb6c4f969509100c5b749b09": {
          "model_module": "@jupyter-widgets/controls",
          "model_name": "PasswordModel",
          "model_module_version": "1.5.0",
          "state": {
            "_dom_classes": [],
            "_model_module": "@jupyter-widgets/controls",
            "_model_module_version": "1.5.0",
            "_model_name": "PasswordModel",
            "_view_count": null,
            "_view_module": "@jupyter-widgets/controls",
            "_view_module_version": "1.5.0",
            "_view_name": "PasswordView",
            "continuous_update": true,
            "description": "Token:",
            "description_tooltip": null,
            "disabled": false,
            "layout": "IPY_MODEL_3258e904d77e43349c9d721ca9f7428a",
            "placeholder": "​",
            "style": "IPY_MODEL_7caa170cc19f4ea5aed8ade4e4be970f",
            "value": ""
          }
        },
        "83beef97b9074339811e943e00a54d26": {
          "model_module": "@jupyter-widgets/controls",
          "model_name": "CheckboxModel",
          "model_module_version": "1.5.0",
          "state": {
            "_dom_classes": [],
            "_model_module": "@jupyter-widgets/controls",
            "_model_module_version": "1.5.0",
            "_model_name": "CheckboxModel",
            "_view_count": null,
            "_view_module": "@jupyter-widgets/controls",
            "_view_module_version": "1.5.0",
            "_view_name": "CheckboxView",
            "description": "Add token as git credential?",
            "description_tooltip": null,
            "disabled": false,
            "indent": true,
            "layout": "IPY_MODEL_5a63afde44f4403fb6ab66dc402e8b89",
            "style": "IPY_MODEL_987ecf5cdffd48de94aa2c4574e39bda",
            "value": true
          }
        },
        "5e7b27130d9d473b99122c2c33b935f1": {
          "model_module": "@jupyter-widgets/controls",
          "model_name": "ButtonModel",
          "model_module_version": "1.5.0",
          "state": {
            "_dom_classes": [],
            "_model_module": "@jupyter-widgets/controls",
            "_model_module_version": "1.5.0",
            "_model_name": "ButtonModel",
            "_view_count": null,
            "_view_module": "@jupyter-widgets/controls",
            "_view_module_version": "1.5.0",
            "_view_name": "ButtonView",
            "button_style": "",
            "description": "Login",
            "disabled": false,
            "icon": "",
            "layout": "IPY_MODEL_41d1aff57044457190780cb4453a8617",
            "style": "IPY_MODEL_63ae49320b2f40118b3841c98d33b55b",
            "tooltip": ""
          }
        },
        "23e1b757b0834eeebb9d0a10a3a73b10": {
          "model_module": "@jupyter-widgets/controls",
          "model_name": "HTMLModel",
          "model_module_version": "1.5.0",
          "state": {
            "_dom_classes": [],
            "_model_module": "@jupyter-widgets/controls",
            "_model_module_version": "1.5.0",
            "_model_name": "HTMLModel",
            "_view_count": null,
            "_view_module": "@jupyter-widgets/controls",
            "_view_module_version": "1.5.0",
            "_view_name": "HTMLView",
            "description": "",
            "description_tooltip": null,
            "layout": "IPY_MODEL_5e21c5b2260444ac8ddfec2fafa6bb94",
            "placeholder": "​",
            "style": "IPY_MODEL_e8237f4b2eba482f8004f1c089f23107",
            "value": "\n<b>Pro Tip:</b> If you don't already have one, you can create a dedicated\n'notebooks' token with 'write' access, that you can then easily reuse for all\nnotebooks. </center>"
          }
        },
        "bba4d33080a64ac4a11a7de84efd1398": {
          "model_module": "@jupyter-widgets/base",
          "model_name": "LayoutModel",
          "model_module_version": "1.2.0",
          "state": {
            "_model_module": "@jupyter-widgets/base",
            "_model_module_version": "1.2.0",
            "_model_name": "LayoutModel",
            "_view_count": null,
            "_view_module": "@jupyter-widgets/base",
            "_view_module_version": "1.2.0",
            "_view_name": "LayoutView",
            "align_content": null,
            "align_items": "center",
            "align_self": null,
            "border": null,
            "bottom": null,
            "display": "flex",
            "flex": null,
            "flex_flow": "column",
            "grid_area": null,
            "grid_auto_columns": null,
            "grid_auto_flow": null,
            "grid_auto_rows": null,
            "grid_column": null,
            "grid_gap": null,
            "grid_row": null,
            "grid_template_areas": null,
            "grid_template_columns": null,
            "grid_template_rows": null,
            "height": null,
            "justify_content": null,
            "justify_items": null,
            "left": null,
            "margin": null,
            "max_height": null,
            "max_width": null,
            "min_height": null,
            "min_width": null,
            "object_fit": null,
            "object_position": null,
            "order": null,
            "overflow": null,
            "overflow_x": null,
            "overflow_y": null,
            "padding": null,
            "right": null,
            "top": null,
            "visibility": null,
            "width": "50%"
          }
        },
        "f358d4b56c904dabbab553b291e268c1": {
          "model_module": "@jupyter-widgets/base",
          "model_name": "LayoutModel",
          "model_module_version": "1.2.0",
          "state": {
            "_model_module": "@jupyter-widgets/base",
            "_model_module_version": "1.2.0",
            "_model_name": "LayoutModel",
            "_view_count": null,
            "_view_module": "@jupyter-widgets/base",
            "_view_module_version": "1.2.0",
            "_view_name": "LayoutView",
            "align_content": null,
            "align_items": null,
            "align_self": null,
            "border": null,
            "bottom": null,
            "display": null,
            "flex": null,
            "flex_flow": null,
            "grid_area": null,
            "grid_auto_columns": null,
            "grid_auto_flow": null,
            "grid_auto_rows": null,
            "grid_column": null,
            "grid_gap": null,
            "grid_row": null,
            "grid_template_areas": null,
            "grid_template_columns": null,
            "grid_template_rows": null,
            "height": null,
            "justify_content": null,
            "justify_items": null,
            "left": null,
            "margin": null,
            "max_height": null,
            "max_width": null,
            "min_height": null,
            "min_width": null,
            "object_fit": null,
            "object_position": null,
            "order": null,
            "overflow": null,
            "overflow_x": null,
            "overflow_y": null,
            "padding": null,
            "right": null,
            "top": null,
            "visibility": null,
            "width": null
          }
        },
        "b7da8dd5642d46fbbd6859f4926177dd": {
          "model_module": "@jupyter-widgets/controls",
          "model_name": "DescriptionStyleModel",
          "model_module_version": "1.5.0",
          "state": {
            "_model_module": "@jupyter-widgets/controls",
            "_model_module_version": "1.5.0",
            "_model_name": "DescriptionStyleModel",
            "_view_count": null,
            "_view_module": "@jupyter-widgets/base",
            "_view_module_version": "1.2.0",
            "_view_name": "StyleView",
            "description_width": ""
          }
        },
        "3258e904d77e43349c9d721ca9f7428a": {
          "model_module": "@jupyter-widgets/base",
          "model_name": "LayoutModel",
          "model_module_version": "1.2.0",
          "state": {
            "_model_module": "@jupyter-widgets/base",
            "_model_module_version": "1.2.0",
            "_model_name": "LayoutModel",
            "_view_count": null,
            "_view_module": "@jupyter-widgets/base",
            "_view_module_version": "1.2.0",
            "_view_name": "LayoutView",
            "align_content": null,
            "align_items": null,
            "align_self": null,
            "border": null,
            "bottom": null,
            "display": null,
            "flex": null,
            "flex_flow": null,
            "grid_area": null,
            "grid_auto_columns": null,
            "grid_auto_flow": null,
            "grid_auto_rows": null,
            "grid_column": null,
            "grid_gap": null,
            "grid_row": null,
            "grid_template_areas": null,
            "grid_template_columns": null,
            "grid_template_rows": null,
            "height": null,
            "justify_content": null,
            "justify_items": null,
            "left": null,
            "margin": null,
            "max_height": null,
            "max_width": null,
            "min_height": null,
            "min_width": null,
            "object_fit": null,
            "object_position": null,
            "order": null,
            "overflow": null,
            "overflow_x": null,
            "overflow_y": null,
            "padding": null,
            "right": null,
            "top": null,
            "visibility": null,
            "width": null
          }
        },
        "7caa170cc19f4ea5aed8ade4e4be970f": {
          "model_module": "@jupyter-widgets/controls",
          "model_name": "DescriptionStyleModel",
          "model_module_version": "1.5.0",
          "state": {
            "_model_module": "@jupyter-widgets/controls",
            "_model_module_version": "1.5.0",
            "_model_name": "DescriptionStyleModel",
            "_view_count": null,
            "_view_module": "@jupyter-widgets/base",
            "_view_module_version": "1.2.0",
            "_view_name": "StyleView",
            "description_width": ""
          }
        },
        "5a63afde44f4403fb6ab66dc402e8b89": {
          "model_module": "@jupyter-widgets/base",
          "model_name": "LayoutModel",
          "model_module_version": "1.2.0",
          "state": {
            "_model_module": "@jupyter-widgets/base",
            "_model_module_version": "1.2.0",
            "_model_name": "LayoutModel",
            "_view_count": null,
            "_view_module": "@jupyter-widgets/base",
            "_view_module_version": "1.2.0",
            "_view_name": "LayoutView",
            "align_content": null,
            "align_items": null,
            "align_self": null,
            "border": null,
            "bottom": null,
            "display": null,
            "flex": null,
            "flex_flow": null,
            "grid_area": null,
            "grid_auto_columns": null,
            "grid_auto_flow": null,
            "grid_auto_rows": null,
            "grid_column": null,
            "grid_gap": null,
            "grid_row": null,
            "grid_template_areas": null,
            "grid_template_columns": null,
            "grid_template_rows": null,
            "height": null,
            "justify_content": null,
            "justify_items": null,
            "left": null,
            "margin": null,
            "max_height": null,
            "max_width": null,
            "min_height": null,
            "min_width": null,
            "object_fit": null,
            "object_position": null,
            "order": null,
            "overflow": null,
            "overflow_x": null,
            "overflow_y": null,
            "padding": null,
            "right": null,
            "top": null,
            "visibility": null,
            "width": null
          }
        },
        "987ecf5cdffd48de94aa2c4574e39bda": {
          "model_module": "@jupyter-widgets/controls",
          "model_name": "DescriptionStyleModel",
          "model_module_version": "1.5.0",
          "state": {
            "_model_module": "@jupyter-widgets/controls",
            "_model_module_version": "1.5.0",
            "_model_name": "DescriptionStyleModel",
            "_view_count": null,
            "_view_module": "@jupyter-widgets/base",
            "_view_module_version": "1.2.0",
            "_view_name": "StyleView",
            "description_width": ""
          }
        },
        "41d1aff57044457190780cb4453a8617": {
          "model_module": "@jupyter-widgets/base",
          "model_name": "LayoutModel",
          "model_module_version": "1.2.0",
          "state": {
            "_model_module": "@jupyter-widgets/base",
            "_model_module_version": "1.2.0",
            "_model_name": "LayoutModel",
            "_view_count": null,
            "_view_module": "@jupyter-widgets/base",
            "_view_module_version": "1.2.0",
            "_view_name": "LayoutView",
            "align_content": null,
            "align_items": null,
            "align_self": null,
            "border": null,
            "bottom": null,
            "display": null,
            "flex": null,
            "flex_flow": null,
            "grid_area": null,
            "grid_auto_columns": null,
            "grid_auto_flow": null,
            "grid_auto_rows": null,
            "grid_column": null,
            "grid_gap": null,
            "grid_row": null,
            "grid_template_areas": null,
            "grid_template_columns": null,
            "grid_template_rows": null,
            "height": null,
            "justify_content": null,
            "justify_items": null,
            "left": null,
            "margin": null,
            "max_height": null,
            "max_width": null,
            "min_height": null,
            "min_width": null,
            "object_fit": null,
            "object_position": null,
            "order": null,
            "overflow": null,
            "overflow_x": null,
            "overflow_y": null,
            "padding": null,
            "right": null,
            "top": null,
            "visibility": null,
            "width": null
          }
        },
        "63ae49320b2f40118b3841c98d33b55b": {
          "model_module": "@jupyter-widgets/controls",
          "model_name": "ButtonStyleModel",
          "model_module_version": "1.5.0",
          "state": {
            "_model_module": "@jupyter-widgets/controls",
            "_model_module_version": "1.5.0",
            "_model_name": "ButtonStyleModel",
            "_view_count": null,
            "_view_module": "@jupyter-widgets/base",
            "_view_module_version": "1.2.0",
            "_view_name": "StyleView",
            "button_color": null,
            "font_weight": ""
          }
        },
        "5e21c5b2260444ac8ddfec2fafa6bb94": {
          "model_module": "@jupyter-widgets/base",
          "model_name": "LayoutModel",
          "model_module_version": "1.2.0",
          "state": {
            "_model_module": "@jupyter-widgets/base",
            "_model_module_version": "1.2.0",
            "_model_name": "LayoutModel",
            "_view_count": null,
            "_view_module": "@jupyter-widgets/base",
            "_view_module_version": "1.2.0",
            "_view_name": "LayoutView",
            "align_content": null,
            "align_items": null,
            "align_self": null,
            "border": null,
            "bottom": null,
            "display": null,
            "flex": null,
            "flex_flow": null,
            "grid_area": null,
            "grid_auto_columns": null,
            "grid_auto_flow": null,
            "grid_auto_rows": null,
            "grid_column": null,
            "grid_gap": null,
            "grid_row": null,
            "grid_template_areas": null,
            "grid_template_columns": null,
            "grid_template_rows": null,
            "height": null,
            "justify_content": null,
            "justify_items": null,
            "left": null,
            "margin": null,
            "max_height": null,
            "max_width": null,
            "min_height": null,
            "min_width": null,
            "object_fit": null,
            "object_position": null,
            "order": null,
            "overflow": null,
            "overflow_x": null,
            "overflow_y": null,
            "padding": null,
            "right": null,
            "top": null,
            "visibility": null,
            "width": null
          }
        },
        "e8237f4b2eba482f8004f1c089f23107": {
          "model_module": "@jupyter-widgets/controls",
          "model_name": "DescriptionStyleModel",
          "model_module_version": "1.5.0",
          "state": {
            "_model_module": "@jupyter-widgets/controls",
            "_model_module_version": "1.5.0",
            "_model_name": "DescriptionStyleModel",
            "_view_count": null,
            "_view_module": "@jupyter-widgets/base",
            "_view_module_version": "1.2.0",
            "_view_name": "StyleView",
            "description_width": ""
          }
        },
        "174edfbae05840709cf006c9c2748548": {
          "model_module": "@jupyter-widgets/controls",
          "model_name": "LabelModel",
          "model_module_version": "1.5.0",
          "state": {
            "_dom_classes": [],
            "_model_module": "@jupyter-widgets/controls",
            "_model_module_version": "1.5.0",
            "_model_name": "LabelModel",
            "_view_count": null,
            "_view_module": "@jupyter-widgets/controls",
            "_view_module_version": "1.5.0",
            "_view_name": "LabelView",
            "description": "",
            "description_tooltip": null,
            "layout": "IPY_MODEL_849155fd7e394a779af9b90fa10dee81",
            "placeholder": "​",
            "style": "IPY_MODEL_f897636cc7d04221bb5c6a568f644466",
            "value": "Connecting..."
          }
        },
        "849155fd7e394a779af9b90fa10dee81": {
          "model_module": "@jupyter-widgets/base",
          "model_name": "LayoutModel",
          "model_module_version": "1.2.0",
          "state": {
            "_model_module": "@jupyter-widgets/base",
            "_model_module_version": "1.2.0",
            "_model_name": "LayoutModel",
            "_view_count": null,
            "_view_module": "@jupyter-widgets/base",
            "_view_module_version": "1.2.0",
            "_view_name": "LayoutView",
            "align_content": null,
            "align_items": null,
            "align_self": null,
            "border": null,
            "bottom": null,
            "display": null,
            "flex": null,
            "flex_flow": null,
            "grid_area": null,
            "grid_auto_columns": null,
            "grid_auto_flow": null,
            "grid_auto_rows": null,
            "grid_column": null,
            "grid_gap": null,
            "grid_row": null,
            "grid_template_areas": null,
            "grid_template_columns": null,
            "grid_template_rows": null,
            "height": null,
            "justify_content": null,
            "justify_items": null,
            "left": null,
            "margin": null,
            "max_height": null,
            "max_width": null,
            "min_height": null,
            "min_width": null,
            "object_fit": null,
            "object_position": null,
            "order": null,
            "overflow": null,
            "overflow_x": null,
            "overflow_y": null,
            "padding": null,
            "right": null,
            "top": null,
            "visibility": null,
            "width": null
          }
        },
        "f897636cc7d04221bb5c6a568f644466": {
          "model_module": "@jupyter-widgets/controls",
          "model_name": "DescriptionStyleModel",
          "model_module_version": "1.5.0",
          "state": {
            "_model_module": "@jupyter-widgets/controls",
            "_model_module_version": "1.5.0",
            "_model_name": "DescriptionStyleModel",
            "_view_count": null,
            "_view_module": "@jupyter-widgets/base",
            "_view_module_version": "1.2.0",
            "_view_name": "StyleView",
            "description_width": ""
          }
        },
        "30e26b9c3f6848c7b320b200616c6e7b": {
          "model_module": "@jupyter-widgets/controls",
          "model_name": "LabelModel",
          "model_module_version": "1.5.0",
          "state": {
            "_dom_classes": [],
            "_model_module": "@jupyter-widgets/controls",
            "_model_module_version": "1.5.0",
            "_model_name": "LabelModel",
            "_view_count": null,
            "_view_module": "@jupyter-widgets/controls",
            "_view_module_version": "1.5.0",
            "_view_name": "LabelView",
            "description": "",
            "description_tooltip": null,
            "layout": "IPY_MODEL_8432767c16d148f19278d17dd73289ac",
            "placeholder": "​",
            "style": "IPY_MODEL_c3a92b1330dc4b039efa815b6b818fc5",
            "value": "Token is valid (permission: write)."
          }
        },
        "2a6cd89c1f734f5f98dc688859263750": {
          "model_module": "@jupyter-widgets/controls",
          "model_name": "LabelModel",
          "model_module_version": "1.5.0",
          "state": {
            "_dom_classes": [],
            "_model_module": "@jupyter-widgets/controls",
            "_model_module_version": "1.5.0",
            "_model_name": "LabelModel",
            "_view_count": null,
            "_view_module": "@jupyter-widgets/controls",
            "_view_module_version": "1.5.0",
            "_view_name": "LabelView",
            "description": "",
            "description_tooltip": null,
            "layout": "IPY_MODEL_6e17403fb3744265b03000234e396f26",
            "placeholder": "​",
            "style": "IPY_MODEL_b091e90b84cf4d4aa69e8f7db5c7bca8",
            "value": "Your token has been saved in your configured git credential helpers (store)."
          }
        },
        "a1eb9b7daec14c06a82929504a643ee0": {
          "model_module": "@jupyter-widgets/controls",
          "model_name": "LabelModel",
          "model_module_version": "1.5.0",
          "state": {
            "_dom_classes": [],
            "_model_module": "@jupyter-widgets/controls",
            "_model_module_version": "1.5.0",
            "_model_name": "LabelModel",
            "_view_count": null,
            "_view_module": "@jupyter-widgets/controls",
            "_view_module_version": "1.5.0",
            "_view_name": "LabelView",
            "description": "",
            "description_tooltip": null,
            "layout": "IPY_MODEL_c8ac60f0f30a4338b78911cffa910830",
            "placeholder": "​",
            "style": "IPY_MODEL_a4c393e7a913449f9f883e5d8b2c2bdf",
            "value": "Your token has been saved to /root/.cache/huggingface/token"
          }
        },
        "faa54cfeb4604f02977882c17c3ea76b": {
          "model_module": "@jupyter-widgets/controls",
          "model_name": "LabelModel",
          "model_module_version": "1.5.0",
          "state": {
            "_dom_classes": [],
            "_model_module": "@jupyter-widgets/controls",
            "_model_module_version": "1.5.0",
            "_model_name": "LabelModel",
            "_view_count": null,
            "_view_module": "@jupyter-widgets/controls",
            "_view_module_version": "1.5.0",
            "_view_name": "LabelView",
            "description": "",
            "description_tooltip": null,
            "layout": "IPY_MODEL_e2f21e9c9a11445693c6ec4cb4eaf9b1",
            "placeholder": "​",
            "style": "IPY_MODEL_3e46d22ad3b94477be29fa818307fd21",
            "value": "Login successful"
          }
        },
        "8432767c16d148f19278d17dd73289ac": {
          "model_module": "@jupyter-widgets/base",
          "model_name": "LayoutModel",
          "model_module_version": "1.2.0",
          "state": {
            "_model_module": "@jupyter-widgets/base",
            "_model_module_version": "1.2.0",
            "_model_name": "LayoutModel",
            "_view_count": null,
            "_view_module": "@jupyter-widgets/base",
            "_view_module_version": "1.2.0",
            "_view_name": "LayoutView",
            "align_content": null,
            "align_items": null,
            "align_self": null,
            "border": null,
            "bottom": null,
            "display": null,
            "flex": null,
            "flex_flow": null,
            "grid_area": null,
            "grid_auto_columns": null,
            "grid_auto_flow": null,
            "grid_auto_rows": null,
            "grid_column": null,
            "grid_gap": null,
            "grid_row": null,
            "grid_template_areas": null,
            "grid_template_columns": null,
            "grid_template_rows": null,
            "height": null,
            "justify_content": null,
            "justify_items": null,
            "left": null,
            "margin": null,
            "max_height": null,
            "max_width": null,
            "min_height": null,
            "min_width": null,
            "object_fit": null,
            "object_position": null,
            "order": null,
            "overflow": null,
            "overflow_x": null,
            "overflow_y": null,
            "padding": null,
            "right": null,
            "top": null,
            "visibility": null,
            "width": null
          }
        },
        "c3a92b1330dc4b039efa815b6b818fc5": {
          "model_module": "@jupyter-widgets/controls",
          "model_name": "DescriptionStyleModel",
          "model_module_version": "1.5.0",
          "state": {
            "_model_module": "@jupyter-widgets/controls",
            "_model_module_version": "1.5.0",
            "_model_name": "DescriptionStyleModel",
            "_view_count": null,
            "_view_module": "@jupyter-widgets/base",
            "_view_module_version": "1.2.0",
            "_view_name": "StyleView",
            "description_width": ""
          }
        },
        "6e17403fb3744265b03000234e396f26": {
          "model_module": "@jupyter-widgets/base",
          "model_name": "LayoutModel",
          "model_module_version": "1.2.0",
          "state": {
            "_model_module": "@jupyter-widgets/base",
            "_model_module_version": "1.2.0",
            "_model_name": "LayoutModel",
            "_view_count": null,
            "_view_module": "@jupyter-widgets/base",
            "_view_module_version": "1.2.0",
            "_view_name": "LayoutView",
            "align_content": null,
            "align_items": null,
            "align_self": null,
            "border": null,
            "bottom": null,
            "display": null,
            "flex": null,
            "flex_flow": null,
            "grid_area": null,
            "grid_auto_columns": null,
            "grid_auto_flow": null,
            "grid_auto_rows": null,
            "grid_column": null,
            "grid_gap": null,
            "grid_row": null,
            "grid_template_areas": null,
            "grid_template_columns": null,
            "grid_template_rows": null,
            "height": null,
            "justify_content": null,
            "justify_items": null,
            "left": null,
            "margin": null,
            "max_height": null,
            "max_width": null,
            "min_height": null,
            "min_width": null,
            "object_fit": null,
            "object_position": null,
            "order": null,
            "overflow": null,
            "overflow_x": null,
            "overflow_y": null,
            "padding": null,
            "right": null,
            "top": null,
            "visibility": null,
            "width": null
          }
        },
        "b091e90b84cf4d4aa69e8f7db5c7bca8": {
          "model_module": "@jupyter-widgets/controls",
          "model_name": "DescriptionStyleModel",
          "model_module_version": "1.5.0",
          "state": {
            "_model_module": "@jupyter-widgets/controls",
            "_model_module_version": "1.5.0",
            "_model_name": "DescriptionStyleModel",
            "_view_count": null,
            "_view_module": "@jupyter-widgets/base",
            "_view_module_version": "1.2.0",
            "_view_name": "StyleView",
            "description_width": ""
          }
        },
        "c8ac60f0f30a4338b78911cffa910830": {
          "model_module": "@jupyter-widgets/base",
          "model_name": "LayoutModel",
          "model_module_version": "1.2.0",
          "state": {
            "_model_module": "@jupyter-widgets/base",
            "_model_module_version": "1.2.0",
            "_model_name": "LayoutModel",
            "_view_count": null,
            "_view_module": "@jupyter-widgets/base",
            "_view_module_version": "1.2.0",
            "_view_name": "LayoutView",
            "align_content": null,
            "align_items": null,
            "align_self": null,
            "border": null,
            "bottom": null,
            "display": null,
            "flex": null,
            "flex_flow": null,
            "grid_area": null,
            "grid_auto_columns": null,
            "grid_auto_flow": null,
            "grid_auto_rows": null,
            "grid_column": null,
            "grid_gap": null,
            "grid_row": null,
            "grid_template_areas": null,
            "grid_template_columns": null,
            "grid_template_rows": null,
            "height": null,
            "justify_content": null,
            "justify_items": null,
            "left": null,
            "margin": null,
            "max_height": null,
            "max_width": null,
            "min_height": null,
            "min_width": null,
            "object_fit": null,
            "object_position": null,
            "order": null,
            "overflow": null,
            "overflow_x": null,
            "overflow_y": null,
            "padding": null,
            "right": null,
            "top": null,
            "visibility": null,
            "width": null
          }
        },
        "a4c393e7a913449f9f883e5d8b2c2bdf": {
          "model_module": "@jupyter-widgets/controls",
          "model_name": "DescriptionStyleModel",
          "model_module_version": "1.5.0",
          "state": {
            "_model_module": "@jupyter-widgets/controls",
            "_model_module_version": "1.5.0",
            "_model_name": "DescriptionStyleModel",
            "_view_count": null,
            "_view_module": "@jupyter-widgets/base",
            "_view_module_version": "1.2.0",
            "_view_name": "StyleView",
            "description_width": ""
          }
        },
        "e2f21e9c9a11445693c6ec4cb4eaf9b1": {
          "model_module": "@jupyter-widgets/base",
          "model_name": "LayoutModel",
          "model_module_version": "1.2.0",
          "state": {
            "_model_module": "@jupyter-widgets/base",
            "_model_module_version": "1.2.0",
            "_model_name": "LayoutModel",
            "_view_count": null,
            "_view_module": "@jupyter-widgets/base",
            "_view_module_version": "1.2.0",
            "_view_name": "LayoutView",
            "align_content": null,
            "align_items": null,
            "align_self": null,
            "border": null,
            "bottom": null,
            "display": null,
            "flex": null,
            "flex_flow": null,
            "grid_area": null,
            "grid_auto_columns": null,
            "grid_auto_flow": null,
            "grid_auto_rows": null,
            "grid_column": null,
            "grid_gap": null,
            "grid_row": null,
            "grid_template_areas": null,
            "grid_template_columns": null,
            "grid_template_rows": null,
            "height": null,
            "justify_content": null,
            "justify_items": null,
            "left": null,
            "margin": null,
            "max_height": null,
            "max_width": null,
            "min_height": null,
            "min_width": null,
            "object_fit": null,
            "object_position": null,
            "order": null,
            "overflow": null,
            "overflow_x": null,
            "overflow_y": null,
            "padding": null,
            "right": null,
            "top": null,
            "visibility": null,
            "width": null
          }
        },
        "3e46d22ad3b94477be29fa818307fd21": {
          "model_module": "@jupyter-widgets/controls",
          "model_name": "DescriptionStyleModel",
          "model_module_version": "1.5.0",
          "state": {
            "_model_module": "@jupyter-widgets/controls",
            "_model_module_version": "1.5.0",
            "_model_name": "DescriptionStyleModel",
            "_view_count": null,
            "_view_module": "@jupyter-widgets/base",
            "_view_module_version": "1.2.0",
            "_view_name": "StyleView",
            "description_width": ""
          }
        },
        "a6a8ec4fff7d4f0c9bd7447f3b8c3064": {
          "model_module": "@jupyter-widgets/controls",
          "model_name": "HBoxModel",
          "model_module_version": "1.5.0",
          "state": {
            "_dom_classes": [],
            "_model_module": "@jupyter-widgets/controls",
            "_model_module_version": "1.5.0",
            "_model_name": "HBoxModel",
            "_view_count": null,
            "_view_module": "@jupyter-widgets/controls",
            "_view_module_version": "1.5.0",
            "_view_name": "HBoxView",
            "box_style": "",
            "children": [
              "IPY_MODEL_1f1f4597ed7e47d8b4a1665424a9e4c4",
              "IPY_MODEL_51c686ba112b4c9f89c0ecf26b648fce",
              "IPY_MODEL_62981e6d5e234ad7b59d314f2b07fc46"
            ],
            "layout": "IPY_MODEL_4397e27efdfb45daa7a8f934db381298"
          }
        },
        "1f1f4597ed7e47d8b4a1665424a9e4c4": {
          "model_module": "@jupyter-widgets/controls",
          "model_name": "HTMLModel",
          "model_module_version": "1.5.0",
          "state": {
            "_dom_classes": [],
            "_model_module": "@jupyter-widgets/controls",
            "_model_module_version": "1.5.0",
            "_model_name": "HTMLModel",
            "_view_count": null,
            "_view_module": "@jupyter-widgets/controls",
            "_view_module_version": "1.5.0",
            "_view_name": "HTMLView",
            "description": "",
            "description_tooltip": null,
            "layout": "IPY_MODEL_82b465bf847740f8a5127ecddf077678",
            "placeholder": "​",
            "style": "IPY_MODEL_64643b4ed0c14d54accc10c1dc7bba44",
            "value": "tokenizer_config.json: 100%"
          }
        },
        "51c686ba112b4c9f89c0ecf26b648fce": {
          "model_module": "@jupyter-widgets/controls",
          "model_name": "FloatProgressModel",
          "model_module_version": "1.5.0",
          "state": {
            "_dom_classes": [],
            "_model_module": "@jupyter-widgets/controls",
            "_model_module_version": "1.5.0",
            "_model_name": "FloatProgressModel",
            "_view_count": null,
            "_view_module": "@jupyter-widgets/controls",
            "_view_module_version": "1.5.0",
            "_view_name": "ProgressView",
            "bar_style": "success",
            "description": "",
            "description_tooltip": null,
            "layout": "IPY_MODEL_525a0a806a7d476aad53fb31dc6311a5",
            "max": 1460,
            "min": 0,
            "orientation": "horizontal",
            "style": "IPY_MODEL_c4efd844a7474cae81b9ae4e510267e4",
            "value": 1460
          }
        },
        "62981e6d5e234ad7b59d314f2b07fc46": {
          "model_module": "@jupyter-widgets/controls",
          "model_name": "HTMLModel",
          "model_module_version": "1.5.0",
          "state": {
            "_dom_classes": [],
            "_model_module": "@jupyter-widgets/controls",
            "_model_module_version": "1.5.0",
            "_model_name": "HTMLModel",
            "_view_count": null,
            "_view_module": "@jupyter-widgets/controls",
            "_view_module_version": "1.5.0",
            "_view_name": "HTMLView",
            "description": "",
            "description_tooltip": null,
            "layout": "IPY_MODEL_ee86bd8ae7bb494da428c2ebcb3c2cf1",
            "placeholder": "​",
            "style": "IPY_MODEL_29dada27cb454618867df5e20db0ddbd",
            "value": " 1.46k/1.46k [00:00&lt;00:00, 115kB/s]"
          }
        },
        "4397e27efdfb45daa7a8f934db381298": {
          "model_module": "@jupyter-widgets/base",
          "model_name": "LayoutModel",
          "model_module_version": "1.2.0",
          "state": {
            "_model_module": "@jupyter-widgets/base",
            "_model_module_version": "1.2.0",
            "_model_name": "LayoutModel",
            "_view_count": null,
            "_view_module": "@jupyter-widgets/base",
            "_view_module_version": "1.2.0",
            "_view_name": "LayoutView",
            "align_content": null,
            "align_items": null,
            "align_self": null,
            "border": null,
            "bottom": null,
            "display": null,
            "flex": null,
            "flex_flow": null,
            "grid_area": null,
            "grid_auto_columns": null,
            "grid_auto_flow": null,
            "grid_auto_rows": null,
            "grid_column": null,
            "grid_gap": null,
            "grid_row": null,
            "grid_template_areas": null,
            "grid_template_columns": null,
            "grid_template_rows": null,
            "height": null,
            "justify_content": null,
            "justify_items": null,
            "left": null,
            "margin": null,
            "max_height": null,
            "max_width": null,
            "min_height": null,
            "min_width": null,
            "object_fit": null,
            "object_position": null,
            "order": null,
            "overflow": null,
            "overflow_x": null,
            "overflow_y": null,
            "padding": null,
            "right": null,
            "top": null,
            "visibility": null,
            "width": null
          }
        },
        "82b465bf847740f8a5127ecddf077678": {
          "model_module": "@jupyter-widgets/base",
          "model_name": "LayoutModel",
          "model_module_version": "1.2.0",
          "state": {
            "_model_module": "@jupyter-widgets/base",
            "_model_module_version": "1.2.0",
            "_model_name": "LayoutModel",
            "_view_count": null,
            "_view_module": "@jupyter-widgets/base",
            "_view_module_version": "1.2.0",
            "_view_name": "LayoutView",
            "align_content": null,
            "align_items": null,
            "align_self": null,
            "border": null,
            "bottom": null,
            "display": null,
            "flex": null,
            "flex_flow": null,
            "grid_area": null,
            "grid_auto_columns": null,
            "grid_auto_flow": null,
            "grid_auto_rows": null,
            "grid_column": null,
            "grid_gap": null,
            "grid_row": null,
            "grid_template_areas": null,
            "grid_template_columns": null,
            "grid_template_rows": null,
            "height": null,
            "justify_content": null,
            "justify_items": null,
            "left": null,
            "margin": null,
            "max_height": null,
            "max_width": null,
            "min_height": null,
            "min_width": null,
            "object_fit": null,
            "object_position": null,
            "order": null,
            "overflow": null,
            "overflow_x": null,
            "overflow_y": null,
            "padding": null,
            "right": null,
            "top": null,
            "visibility": null,
            "width": null
          }
        },
        "64643b4ed0c14d54accc10c1dc7bba44": {
          "model_module": "@jupyter-widgets/controls",
          "model_name": "DescriptionStyleModel",
          "model_module_version": "1.5.0",
          "state": {
            "_model_module": "@jupyter-widgets/controls",
            "_model_module_version": "1.5.0",
            "_model_name": "DescriptionStyleModel",
            "_view_count": null,
            "_view_module": "@jupyter-widgets/base",
            "_view_module_version": "1.2.0",
            "_view_name": "StyleView",
            "description_width": ""
          }
        },
        "525a0a806a7d476aad53fb31dc6311a5": {
          "model_module": "@jupyter-widgets/base",
          "model_name": "LayoutModel",
          "model_module_version": "1.2.0",
          "state": {
            "_model_module": "@jupyter-widgets/base",
            "_model_module_version": "1.2.0",
            "_model_name": "LayoutModel",
            "_view_count": null,
            "_view_module": "@jupyter-widgets/base",
            "_view_module_version": "1.2.0",
            "_view_name": "LayoutView",
            "align_content": null,
            "align_items": null,
            "align_self": null,
            "border": null,
            "bottom": null,
            "display": null,
            "flex": null,
            "flex_flow": null,
            "grid_area": null,
            "grid_auto_columns": null,
            "grid_auto_flow": null,
            "grid_auto_rows": null,
            "grid_column": null,
            "grid_gap": null,
            "grid_row": null,
            "grid_template_areas": null,
            "grid_template_columns": null,
            "grid_template_rows": null,
            "height": null,
            "justify_content": null,
            "justify_items": null,
            "left": null,
            "margin": null,
            "max_height": null,
            "max_width": null,
            "min_height": null,
            "min_width": null,
            "object_fit": null,
            "object_position": null,
            "order": null,
            "overflow": null,
            "overflow_x": null,
            "overflow_y": null,
            "padding": null,
            "right": null,
            "top": null,
            "visibility": null,
            "width": null
          }
        },
        "c4efd844a7474cae81b9ae4e510267e4": {
          "model_module": "@jupyter-widgets/controls",
          "model_name": "ProgressStyleModel",
          "model_module_version": "1.5.0",
          "state": {
            "_model_module": "@jupyter-widgets/controls",
            "_model_module_version": "1.5.0",
            "_model_name": "ProgressStyleModel",
            "_view_count": null,
            "_view_module": "@jupyter-widgets/base",
            "_view_module_version": "1.2.0",
            "_view_name": "StyleView",
            "bar_color": null,
            "description_width": ""
          }
        },
        "ee86bd8ae7bb494da428c2ebcb3c2cf1": {
          "model_module": "@jupyter-widgets/base",
          "model_name": "LayoutModel",
          "model_module_version": "1.2.0",
          "state": {
            "_model_module": "@jupyter-widgets/base",
            "_model_module_version": "1.2.0",
            "_model_name": "LayoutModel",
            "_view_count": null,
            "_view_module": "@jupyter-widgets/base",
            "_view_module_version": "1.2.0",
            "_view_name": "LayoutView",
            "align_content": null,
            "align_items": null,
            "align_self": null,
            "border": null,
            "bottom": null,
            "display": null,
            "flex": null,
            "flex_flow": null,
            "grid_area": null,
            "grid_auto_columns": null,
            "grid_auto_flow": null,
            "grid_auto_rows": null,
            "grid_column": null,
            "grid_gap": null,
            "grid_row": null,
            "grid_template_areas": null,
            "grid_template_columns": null,
            "grid_template_rows": null,
            "height": null,
            "justify_content": null,
            "justify_items": null,
            "left": null,
            "margin": null,
            "max_height": null,
            "max_width": null,
            "min_height": null,
            "min_width": null,
            "object_fit": null,
            "object_position": null,
            "order": null,
            "overflow": null,
            "overflow_x": null,
            "overflow_y": null,
            "padding": null,
            "right": null,
            "top": null,
            "visibility": null,
            "width": null
          }
        },
        "29dada27cb454618867df5e20db0ddbd": {
          "model_module": "@jupyter-widgets/controls",
          "model_name": "DescriptionStyleModel",
          "model_module_version": "1.5.0",
          "state": {
            "_model_module": "@jupyter-widgets/controls",
            "_model_module_version": "1.5.0",
            "_model_name": "DescriptionStyleModel",
            "_view_count": null,
            "_view_module": "@jupyter-widgets/base",
            "_view_module_version": "1.2.0",
            "_view_name": "StyleView",
            "description_width": ""
          }
        },
        "9feb7114b9fe497ba84f54d148cdbf03": {
          "model_module": "@jupyter-widgets/controls",
          "model_name": "HBoxModel",
          "model_module_version": "1.5.0",
          "state": {
            "_dom_classes": [],
            "_model_module": "@jupyter-widgets/controls",
            "_model_module_version": "1.5.0",
            "_model_name": "HBoxModel",
            "_view_count": null,
            "_view_module": "@jupyter-widgets/controls",
            "_view_module_version": "1.5.0",
            "_view_name": "HBoxView",
            "box_style": "",
            "children": [
              "IPY_MODEL_980f7321a84141ea8bc4bd956f04d729",
              "IPY_MODEL_91ddcd466d2544fda53037820ce2fd50",
              "IPY_MODEL_0606c25cb1cb46aea8792ee367a4431d"
            ],
            "layout": "IPY_MODEL_9331aaa87b604a94aac6cd929dfe7fd8"
          }
        },
        "980f7321a84141ea8bc4bd956f04d729": {
          "model_module": "@jupyter-widgets/controls",
          "model_name": "HTMLModel",
          "model_module_version": "1.5.0",
          "state": {
            "_dom_classes": [],
            "_model_module": "@jupyter-widgets/controls",
            "_model_module_version": "1.5.0",
            "_model_name": "HTMLModel",
            "_view_count": null,
            "_view_module": "@jupyter-widgets/controls",
            "_view_module_version": "1.5.0",
            "_view_name": "HTMLView",
            "description": "",
            "description_tooltip": null,
            "layout": "IPY_MODEL_7604ecc60c3e4a9b9a575e90987408a4",
            "placeholder": "​",
            "style": "IPY_MODEL_81818b83d9be4e8eb54ce47d483aaf2d",
            "value": "tokenizer.model: 100%"
          }
        },
        "91ddcd466d2544fda53037820ce2fd50": {
          "model_module": "@jupyter-widgets/controls",
          "model_name": "FloatProgressModel",
          "model_module_version": "1.5.0",
          "state": {
            "_dom_classes": [],
            "_model_module": "@jupyter-widgets/controls",
            "_model_module_version": "1.5.0",
            "_model_name": "FloatProgressModel",
            "_view_count": null,
            "_view_module": "@jupyter-widgets/controls",
            "_view_module_version": "1.5.0",
            "_view_name": "ProgressView",
            "bar_style": "success",
            "description": "",
            "description_tooltip": null,
            "layout": "IPY_MODEL_71a79931eac046ab9d3f7ed523b3b757",
            "max": 493443,
            "min": 0,
            "orientation": "horizontal",
            "style": "IPY_MODEL_9928c9566a5c491988228fd6d8a698c0",
            "value": 493443
          }
        },
        "0606c25cb1cb46aea8792ee367a4431d": {
          "model_module": "@jupyter-widgets/controls",
          "model_name": "HTMLModel",
          "model_module_version": "1.5.0",
          "state": {
            "_dom_classes": [],
            "_model_module": "@jupyter-widgets/controls",
            "_model_module_version": "1.5.0",
            "_model_name": "HTMLModel",
            "_view_count": null,
            "_view_module": "@jupyter-widgets/controls",
            "_view_module_version": "1.5.0",
            "_view_name": "HTMLView",
            "description": "",
            "description_tooltip": null,
            "layout": "IPY_MODEL_5be5c684d8aa456da08aac10ed26dea1",
            "placeholder": "​",
            "style": "IPY_MODEL_ac54c07e973146b0a02d57d8f1e758a3",
            "value": " 493k/493k [00:00&lt;00:00, 14.5MB/s]"
          }
        },
        "9331aaa87b604a94aac6cd929dfe7fd8": {
          "model_module": "@jupyter-widgets/base",
          "model_name": "LayoutModel",
          "model_module_version": "1.2.0",
          "state": {
            "_model_module": "@jupyter-widgets/base",
            "_model_module_version": "1.2.0",
            "_model_name": "LayoutModel",
            "_view_count": null,
            "_view_module": "@jupyter-widgets/base",
            "_view_module_version": "1.2.0",
            "_view_name": "LayoutView",
            "align_content": null,
            "align_items": null,
            "align_self": null,
            "border": null,
            "bottom": null,
            "display": null,
            "flex": null,
            "flex_flow": null,
            "grid_area": null,
            "grid_auto_columns": null,
            "grid_auto_flow": null,
            "grid_auto_rows": null,
            "grid_column": null,
            "grid_gap": null,
            "grid_row": null,
            "grid_template_areas": null,
            "grid_template_columns": null,
            "grid_template_rows": null,
            "height": null,
            "justify_content": null,
            "justify_items": null,
            "left": null,
            "margin": null,
            "max_height": null,
            "max_width": null,
            "min_height": null,
            "min_width": null,
            "object_fit": null,
            "object_position": null,
            "order": null,
            "overflow": null,
            "overflow_x": null,
            "overflow_y": null,
            "padding": null,
            "right": null,
            "top": null,
            "visibility": null,
            "width": null
          }
        },
        "7604ecc60c3e4a9b9a575e90987408a4": {
          "model_module": "@jupyter-widgets/base",
          "model_name": "LayoutModel",
          "model_module_version": "1.2.0",
          "state": {
            "_model_module": "@jupyter-widgets/base",
            "_model_module_version": "1.2.0",
            "_model_name": "LayoutModel",
            "_view_count": null,
            "_view_module": "@jupyter-widgets/base",
            "_view_module_version": "1.2.0",
            "_view_name": "LayoutView",
            "align_content": null,
            "align_items": null,
            "align_self": null,
            "border": null,
            "bottom": null,
            "display": null,
            "flex": null,
            "flex_flow": null,
            "grid_area": null,
            "grid_auto_columns": null,
            "grid_auto_flow": null,
            "grid_auto_rows": null,
            "grid_column": null,
            "grid_gap": null,
            "grid_row": null,
            "grid_template_areas": null,
            "grid_template_columns": null,
            "grid_template_rows": null,
            "height": null,
            "justify_content": null,
            "justify_items": null,
            "left": null,
            "margin": null,
            "max_height": null,
            "max_width": null,
            "min_height": null,
            "min_width": null,
            "object_fit": null,
            "object_position": null,
            "order": null,
            "overflow": null,
            "overflow_x": null,
            "overflow_y": null,
            "padding": null,
            "right": null,
            "top": null,
            "visibility": null,
            "width": null
          }
        },
        "81818b83d9be4e8eb54ce47d483aaf2d": {
          "model_module": "@jupyter-widgets/controls",
          "model_name": "DescriptionStyleModel",
          "model_module_version": "1.5.0",
          "state": {
            "_model_module": "@jupyter-widgets/controls",
            "_model_module_version": "1.5.0",
            "_model_name": "DescriptionStyleModel",
            "_view_count": null,
            "_view_module": "@jupyter-widgets/base",
            "_view_module_version": "1.2.0",
            "_view_name": "StyleView",
            "description_width": ""
          }
        },
        "71a79931eac046ab9d3f7ed523b3b757": {
          "model_module": "@jupyter-widgets/base",
          "model_name": "LayoutModel",
          "model_module_version": "1.2.0",
          "state": {
            "_model_module": "@jupyter-widgets/base",
            "_model_module_version": "1.2.0",
            "_model_name": "LayoutModel",
            "_view_count": null,
            "_view_module": "@jupyter-widgets/base",
            "_view_module_version": "1.2.0",
            "_view_name": "LayoutView",
            "align_content": null,
            "align_items": null,
            "align_self": null,
            "border": null,
            "bottom": null,
            "display": null,
            "flex": null,
            "flex_flow": null,
            "grid_area": null,
            "grid_auto_columns": null,
            "grid_auto_flow": null,
            "grid_auto_rows": null,
            "grid_column": null,
            "grid_gap": null,
            "grid_row": null,
            "grid_template_areas": null,
            "grid_template_columns": null,
            "grid_template_rows": null,
            "height": null,
            "justify_content": null,
            "justify_items": null,
            "left": null,
            "margin": null,
            "max_height": null,
            "max_width": null,
            "min_height": null,
            "min_width": null,
            "object_fit": null,
            "object_position": null,
            "order": null,
            "overflow": null,
            "overflow_x": null,
            "overflow_y": null,
            "padding": null,
            "right": null,
            "top": null,
            "visibility": null,
            "width": null
          }
        },
        "9928c9566a5c491988228fd6d8a698c0": {
          "model_module": "@jupyter-widgets/controls",
          "model_name": "ProgressStyleModel",
          "model_module_version": "1.5.0",
          "state": {
            "_model_module": "@jupyter-widgets/controls",
            "_model_module_version": "1.5.0",
            "_model_name": "ProgressStyleModel",
            "_view_count": null,
            "_view_module": "@jupyter-widgets/base",
            "_view_module_version": "1.2.0",
            "_view_name": "StyleView",
            "bar_color": null,
            "description_width": ""
          }
        },
        "5be5c684d8aa456da08aac10ed26dea1": {
          "model_module": "@jupyter-widgets/base",
          "model_name": "LayoutModel",
          "model_module_version": "1.2.0",
          "state": {
            "_model_module": "@jupyter-widgets/base",
            "_model_module_version": "1.2.0",
            "_model_name": "LayoutModel",
            "_view_count": null,
            "_view_module": "@jupyter-widgets/base",
            "_view_module_version": "1.2.0",
            "_view_name": "LayoutView",
            "align_content": null,
            "align_items": null,
            "align_self": null,
            "border": null,
            "bottom": null,
            "display": null,
            "flex": null,
            "flex_flow": null,
            "grid_area": null,
            "grid_auto_columns": null,
            "grid_auto_flow": null,
            "grid_auto_rows": null,
            "grid_column": null,
            "grid_gap": null,
            "grid_row": null,
            "grid_template_areas": null,
            "grid_template_columns": null,
            "grid_template_rows": null,
            "height": null,
            "justify_content": null,
            "justify_items": null,
            "left": null,
            "margin": null,
            "max_height": null,
            "max_width": null,
            "min_height": null,
            "min_width": null,
            "object_fit": null,
            "object_position": null,
            "order": null,
            "overflow": null,
            "overflow_x": null,
            "overflow_y": null,
            "padding": null,
            "right": null,
            "top": null,
            "visibility": null,
            "width": null
          }
        },
        "ac54c07e973146b0a02d57d8f1e758a3": {
          "model_module": "@jupyter-widgets/controls",
          "model_name": "DescriptionStyleModel",
          "model_module_version": "1.5.0",
          "state": {
            "_model_module": "@jupyter-widgets/controls",
            "_model_module_version": "1.5.0",
            "_model_name": "DescriptionStyleModel",
            "_view_count": null,
            "_view_module": "@jupyter-widgets/base",
            "_view_module_version": "1.2.0",
            "_view_name": "StyleView",
            "description_width": ""
          }
        },
        "b71b573430ba4e0f932c319910d80d26": {
          "model_module": "@jupyter-widgets/controls",
          "model_name": "HBoxModel",
          "model_module_version": "1.5.0",
          "state": {
            "_dom_classes": [],
            "_model_module": "@jupyter-widgets/controls",
            "_model_module_version": "1.5.0",
            "_model_name": "HBoxModel",
            "_view_count": null,
            "_view_module": "@jupyter-widgets/controls",
            "_view_module_version": "1.5.0",
            "_view_name": "HBoxView",
            "box_style": "",
            "children": [
              "IPY_MODEL_715257d64af441d8bedf38422b01f2c3",
              "IPY_MODEL_c85bef70c33c4a0e8c22445ba7c20b4e",
              "IPY_MODEL_5937eaa063154a4da59fc44c4d096352"
            ],
            "layout": "IPY_MODEL_b1cff98e5dd2410fa295bddc783435e6"
          }
        },
        "715257d64af441d8bedf38422b01f2c3": {
          "model_module": "@jupyter-widgets/controls",
          "model_name": "HTMLModel",
          "model_module_version": "1.5.0",
          "state": {
            "_dom_classes": [],
            "_model_module": "@jupyter-widgets/controls",
            "_model_module_version": "1.5.0",
            "_model_name": "HTMLModel",
            "_view_count": null,
            "_view_module": "@jupyter-widgets/controls",
            "_view_module_version": "1.5.0",
            "_view_name": "HTMLView",
            "description": "",
            "description_tooltip": null,
            "layout": "IPY_MODEL_f61c17756b1c4258adda3cf3ec2b8ff4",
            "placeholder": "​",
            "style": "IPY_MODEL_eb42fe4d43a3480b8e58bf8595c5636c",
            "value": "tokenizer.json: 100%"
          }
        },
        "c85bef70c33c4a0e8c22445ba7c20b4e": {
          "model_module": "@jupyter-widgets/controls",
          "model_name": "FloatProgressModel",
          "model_module_version": "1.5.0",
          "state": {
            "_dom_classes": [],
            "_model_module": "@jupyter-widgets/controls",
            "_model_module_version": "1.5.0",
            "_model_name": "FloatProgressModel",
            "_view_count": null,
            "_view_module": "@jupyter-widgets/controls",
            "_view_module_version": "1.5.0",
            "_view_name": "ProgressView",
            "bar_style": "success",
            "description": "",
            "description_tooltip": null,
            "layout": "IPY_MODEL_6d49905b1c9044c89a559fa3a6c63634",
            "max": 1795303,
            "min": 0,
            "orientation": "horizontal",
            "style": "IPY_MODEL_58040ee6262f4ae0aabdbd25dbf6e8df",
            "value": 1795303
          }
        },
        "5937eaa063154a4da59fc44c4d096352": {
          "model_module": "@jupyter-widgets/controls",
          "model_name": "HTMLModel",
          "model_module_version": "1.5.0",
          "state": {
            "_dom_classes": [],
            "_model_module": "@jupyter-widgets/controls",
            "_model_module_version": "1.5.0",
            "_model_name": "HTMLModel",
            "_view_count": null,
            "_view_module": "@jupyter-widgets/controls",
            "_view_module_version": "1.5.0",
            "_view_name": "HTMLView",
            "description": "",
            "description_tooltip": null,
            "layout": "IPY_MODEL_5aaf9e64828b46f0b6fc9a0dba89ff6b",
            "placeholder": "​",
            "style": "IPY_MODEL_47bc44a3d9a2434296cb036e91578530",
            "value": " 1.80M/1.80M [00:00&lt;00:00, 3.98MB/s]"
          }
        },
        "b1cff98e5dd2410fa295bddc783435e6": {
          "model_module": "@jupyter-widgets/base",
          "model_name": "LayoutModel",
          "model_module_version": "1.2.0",
          "state": {
            "_model_module": "@jupyter-widgets/base",
            "_model_module_version": "1.2.0",
            "_model_name": "LayoutModel",
            "_view_count": null,
            "_view_module": "@jupyter-widgets/base",
            "_view_module_version": "1.2.0",
            "_view_name": "LayoutView",
            "align_content": null,
            "align_items": null,
            "align_self": null,
            "border": null,
            "bottom": null,
            "display": null,
            "flex": null,
            "flex_flow": null,
            "grid_area": null,
            "grid_auto_columns": null,
            "grid_auto_flow": null,
            "grid_auto_rows": null,
            "grid_column": null,
            "grid_gap": null,
            "grid_row": null,
            "grid_template_areas": null,
            "grid_template_columns": null,
            "grid_template_rows": null,
            "height": null,
            "justify_content": null,
            "justify_items": null,
            "left": null,
            "margin": null,
            "max_height": null,
            "max_width": null,
            "min_height": null,
            "min_width": null,
            "object_fit": null,
            "object_position": null,
            "order": null,
            "overflow": null,
            "overflow_x": null,
            "overflow_y": null,
            "padding": null,
            "right": null,
            "top": null,
            "visibility": null,
            "width": null
          }
        },
        "f61c17756b1c4258adda3cf3ec2b8ff4": {
          "model_module": "@jupyter-widgets/base",
          "model_name": "LayoutModel",
          "model_module_version": "1.2.0",
          "state": {
            "_model_module": "@jupyter-widgets/base",
            "_model_module_version": "1.2.0",
            "_model_name": "LayoutModel",
            "_view_count": null,
            "_view_module": "@jupyter-widgets/base",
            "_view_module_version": "1.2.0",
            "_view_name": "LayoutView",
            "align_content": null,
            "align_items": null,
            "align_self": null,
            "border": null,
            "bottom": null,
            "display": null,
            "flex": null,
            "flex_flow": null,
            "grid_area": null,
            "grid_auto_columns": null,
            "grid_auto_flow": null,
            "grid_auto_rows": null,
            "grid_column": null,
            "grid_gap": null,
            "grid_row": null,
            "grid_template_areas": null,
            "grid_template_columns": null,
            "grid_template_rows": null,
            "height": null,
            "justify_content": null,
            "justify_items": null,
            "left": null,
            "margin": null,
            "max_height": null,
            "max_width": null,
            "min_height": null,
            "min_width": null,
            "object_fit": null,
            "object_position": null,
            "order": null,
            "overflow": null,
            "overflow_x": null,
            "overflow_y": null,
            "padding": null,
            "right": null,
            "top": null,
            "visibility": null,
            "width": null
          }
        },
        "eb42fe4d43a3480b8e58bf8595c5636c": {
          "model_module": "@jupyter-widgets/controls",
          "model_name": "DescriptionStyleModel",
          "model_module_version": "1.5.0",
          "state": {
            "_model_module": "@jupyter-widgets/controls",
            "_model_module_version": "1.5.0",
            "_model_name": "DescriptionStyleModel",
            "_view_count": null,
            "_view_module": "@jupyter-widgets/base",
            "_view_module_version": "1.2.0",
            "_view_name": "StyleView",
            "description_width": ""
          }
        },
        "6d49905b1c9044c89a559fa3a6c63634": {
          "model_module": "@jupyter-widgets/base",
          "model_name": "LayoutModel",
          "model_module_version": "1.2.0",
          "state": {
            "_model_module": "@jupyter-widgets/base",
            "_model_module_version": "1.2.0",
            "_model_name": "LayoutModel",
            "_view_count": null,
            "_view_module": "@jupyter-widgets/base",
            "_view_module_version": "1.2.0",
            "_view_name": "LayoutView",
            "align_content": null,
            "align_items": null,
            "align_self": null,
            "border": null,
            "bottom": null,
            "display": null,
            "flex": null,
            "flex_flow": null,
            "grid_area": null,
            "grid_auto_columns": null,
            "grid_auto_flow": null,
            "grid_auto_rows": null,
            "grid_column": null,
            "grid_gap": null,
            "grid_row": null,
            "grid_template_areas": null,
            "grid_template_columns": null,
            "grid_template_rows": null,
            "height": null,
            "justify_content": null,
            "justify_items": null,
            "left": null,
            "margin": null,
            "max_height": null,
            "max_width": null,
            "min_height": null,
            "min_width": null,
            "object_fit": null,
            "object_position": null,
            "order": null,
            "overflow": null,
            "overflow_x": null,
            "overflow_y": null,
            "padding": null,
            "right": null,
            "top": null,
            "visibility": null,
            "width": null
          }
        },
        "58040ee6262f4ae0aabdbd25dbf6e8df": {
          "model_module": "@jupyter-widgets/controls",
          "model_name": "ProgressStyleModel",
          "model_module_version": "1.5.0",
          "state": {
            "_model_module": "@jupyter-widgets/controls",
            "_model_module_version": "1.5.0",
            "_model_name": "ProgressStyleModel",
            "_view_count": null,
            "_view_module": "@jupyter-widgets/base",
            "_view_module_version": "1.2.0",
            "_view_name": "StyleView",
            "bar_color": null,
            "description_width": ""
          }
        },
        "5aaf9e64828b46f0b6fc9a0dba89ff6b": {
          "model_module": "@jupyter-widgets/base",
          "model_name": "LayoutModel",
          "model_module_version": "1.2.0",
          "state": {
            "_model_module": "@jupyter-widgets/base",
            "_model_module_version": "1.2.0",
            "_model_name": "LayoutModel",
            "_view_count": null,
            "_view_module": "@jupyter-widgets/base",
            "_view_module_version": "1.2.0",
            "_view_name": "LayoutView",
            "align_content": null,
            "align_items": null,
            "align_self": null,
            "border": null,
            "bottom": null,
            "display": null,
            "flex": null,
            "flex_flow": null,
            "grid_area": null,
            "grid_auto_columns": null,
            "grid_auto_flow": null,
            "grid_auto_rows": null,
            "grid_column": null,
            "grid_gap": null,
            "grid_row": null,
            "grid_template_areas": null,
            "grid_template_columns": null,
            "grid_template_rows": null,
            "height": null,
            "justify_content": null,
            "justify_items": null,
            "left": null,
            "margin": null,
            "max_height": null,
            "max_width": null,
            "min_height": null,
            "min_width": null,
            "object_fit": null,
            "object_position": null,
            "order": null,
            "overflow": null,
            "overflow_x": null,
            "overflow_y": null,
            "padding": null,
            "right": null,
            "top": null,
            "visibility": null,
            "width": null
          }
        },
        "47bc44a3d9a2434296cb036e91578530": {
          "model_module": "@jupyter-widgets/controls",
          "model_name": "DescriptionStyleModel",
          "model_module_version": "1.5.0",
          "state": {
            "_model_module": "@jupyter-widgets/controls",
            "_model_module_version": "1.5.0",
            "_model_name": "DescriptionStyleModel",
            "_view_count": null,
            "_view_module": "@jupyter-widgets/base",
            "_view_module_version": "1.2.0",
            "_view_name": "StyleView",
            "description_width": ""
          }
        },
        "ebb8bf41347a4b12b82cbe94761812a0": {
          "model_module": "@jupyter-widgets/controls",
          "model_name": "HBoxModel",
          "model_module_version": "1.5.0",
          "state": {
            "_dom_classes": [],
            "_model_module": "@jupyter-widgets/controls",
            "_model_module_version": "1.5.0",
            "_model_name": "HBoxModel",
            "_view_count": null,
            "_view_module": "@jupyter-widgets/controls",
            "_view_module_version": "1.5.0",
            "_view_name": "HBoxView",
            "box_style": "",
            "children": [
              "IPY_MODEL_b8e0d740f3764f88b4ea4ed0e1245b32",
              "IPY_MODEL_2459dca46b4e492aa8e89249cb508914",
              "IPY_MODEL_b62f5c15463e4a48b23138b148c60e5f"
            ],
            "layout": "IPY_MODEL_3e0e65a4b1f140f8a7a4a4fdf6261db8"
          }
        },
        "b8e0d740f3764f88b4ea4ed0e1245b32": {
          "model_module": "@jupyter-widgets/controls",
          "model_name": "HTMLModel",
          "model_module_version": "1.5.0",
          "state": {
            "_dom_classes": [],
            "_model_module": "@jupyter-widgets/controls",
            "_model_module_version": "1.5.0",
            "_model_name": "HTMLModel",
            "_view_count": null,
            "_view_module": "@jupyter-widgets/controls",
            "_view_module_version": "1.5.0",
            "_view_name": "HTMLView",
            "description": "",
            "description_tooltip": null,
            "layout": "IPY_MODEL_e0706ca1bb324126a4b11905707c20ac",
            "placeholder": "​",
            "style": "IPY_MODEL_3a84621701f5455fb968891d9f7b1b6e",
            "value": "special_tokens_map.json: 100%"
          }
        },
        "2459dca46b4e492aa8e89249cb508914": {
          "model_module": "@jupyter-widgets/controls",
          "model_name": "FloatProgressModel",
          "model_module_version": "1.5.0",
          "state": {
            "_dom_classes": [],
            "_model_module": "@jupyter-widgets/controls",
            "_model_module_version": "1.5.0",
            "_model_name": "FloatProgressModel",
            "_view_count": null,
            "_view_module": "@jupyter-widgets/controls",
            "_view_module_version": "1.5.0",
            "_view_name": "ProgressView",
            "bar_style": "success",
            "description": "",
            "description_tooltip": null,
            "layout": "IPY_MODEL_8f3430555d524078911f132fab3d5a14",
            "max": 72,
            "min": 0,
            "orientation": "horizontal",
            "style": "IPY_MODEL_8937d1381d04439f8a89d0a3cb4d8cb2",
            "value": 72
          }
        },
        "b62f5c15463e4a48b23138b148c60e5f": {
          "model_module": "@jupyter-widgets/controls",
          "model_name": "HTMLModel",
          "model_module_version": "1.5.0",
          "state": {
            "_dom_classes": [],
            "_model_module": "@jupyter-widgets/controls",
            "_model_module_version": "1.5.0",
            "_model_name": "HTMLModel",
            "_view_count": null,
            "_view_module": "@jupyter-widgets/controls",
            "_view_module_version": "1.5.0",
            "_view_name": "HTMLView",
            "description": "",
            "description_tooltip": null,
            "layout": "IPY_MODEL_8ac76eb404e94061a24a5f94acee223d",
            "placeholder": "​",
            "style": "IPY_MODEL_194e81d93670453da4ef5e4831d44d68",
            "value": " 72.0/72.0 [00:00&lt;00:00, 5.61kB/s]"
          }
        },
        "3e0e65a4b1f140f8a7a4a4fdf6261db8": {
          "model_module": "@jupyter-widgets/base",
          "model_name": "LayoutModel",
          "model_module_version": "1.2.0",
          "state": {
            "_model_module": "@jupyter-widgets/base",
            "_model_module_version": "1.2.0",
            "_model_name": "LayoutModel",
            "_view_count": null,
            "_view_module": "@jupyter-widgets/base",
            "_view_module_version": "1.2.0",
            "_view_name": "LayoutView",
            "align_content": null,
            "align_items": null,
            "align_self": null,
            "border": null,
            "bottom": null,
            "display": null,
            "flex": null,
            "flex_flow": null,
            "grid_area": null,
            "grid_auto_columns": null,
            "grid_auto_flow": null,
            "grid_auto_rows": null,
            "grid_column": null,
            "grid_gap": null,
            "grid_row": null,
            "grid_template_areas": null,
            "grid_template_columns": null,
            "grid_template_rows": null,
            "height": null,
            "justify_content": null,
            "justify_items": null,
            "left": null,
            "margin": null,
            "max_height": null,
            "max_width": null,
            "min_height": null,
            "min_width": null,
            "object_fit": null,
            "object_position": null,
            "order": null,
            "overflow": null,
            "overflow_x": null,
            "overflow_y": null,
            "padding": null,
            "right": null,
            "top": null,
            "visibility": null,
            "width": null
          }
        },
        "e0706ca1bb324126a4b11905707c20ac": {
          "model_module": "@jupyter-widgets/base",
          "model_name": "LayoutModel",
          "model_module_version": "1.2.0",
          "state": {
            "_model_module": "@jupyter-widgets/base",
            "_model_module_version": "1.2.0",
            "_model_name": "LayoutModel",
            "_view_count": null,
            "_view_module": "@jupyter-widgets/base",
            "_view_module_version": "1.2.0",
            "_view_name": "LayoutView",
            "align_content": null,
            "align_items": null,
            "align_self": null,
            "border": null,
            "bottom": null,
            "display": null,
            "flex": null,
            "flex_flow": null,
            "grid_area": null,
            "grid_auto_columns": null,
            "grid_auto_flow": null,
            "grid_auto_rows": null,
            "grid_column": null,
            "grid_gap": null,
            "grid_row": null,
            "grid_template_areas": null,
            "grid_template_columns": null,
            "grid_template_rows": null,
            "height": null,
            "justify_content": null,
            "justify_items": null,
            "left": null,
            "margin": null,
            "max_height": null,
            "max_width": null,
            "min_height": null,
            "min_width": null,
            "object_fit": null,
            "object_position": null,
            "order": null,
            "overflow": null,
            "overflow_x": null,
            "overflow_y": null,
            "padding": null,
            "right": null,
            "top": null,
            "visibility": null,
            "width": null
          }
        },
        "3a84621701f5455fb968891d9f7b1b6e": {
          "model_module": "@jupyter-widgets/controls",
          "model_name": "DescriptionStyleModel",
          "model_module_version": "1.5.0",
          "state": {
            "_model_module": "@jupyter-widgets/controls",
            "_model_module_version": "1.5.0",
            "_model_name": "DescriptionStyleModel",
            "_view_count": null,
            "_view_module": "@jupyter-widgets/base",
            "_view_module_version": "1.2.0",
            "_view_name": "StyleView",
            "description_width": ""
          }
        },
        "8f3430555d524078911f132fab3d5a14": {
          "model_module": "@jupyter-widgets/base",
          "model_name": "LayoutModel",
          "model_module_version": "1.2.0",
          "state": {
            "_model_module": "@jupyter-widgets/base",
            "_model_module_version": "1.2.0",
            "_model_name": "LayoutModel",
            "_view_count": null,
            "_view_module": "@jupyter-widgets/base",
            "_view_module_version": "1.2.0",
            "_view_name": "LayoutView",
            "align_content": null,
            "align_items": null,
            "align_self": null,
            "border": null,
            "bottom": null,
            "display": null,
            "flex": null,
            "flex_flow": null,
            "grid_area": null,
            "grid_auto_columns": null,
            "grid_auto_flow": null,
            "grid_auto_rows": null,
            "grid_column": null,
            "grid_gap": null,
            "grid_row": null,
            "grid_template_areas": null,
            "grid_template_columns": null,
            "grid_template_rows": null,
            "height": null,
            "justify_content": null,
            "justify_items": null,
            "left": null,
            "margin": null,
            "max_height": null,
            "max_width": null,
            "min_height": null,
            "min_width": null,
            "object_fit": null,
            "object_position": null,
            "order": null,
            "overflow": null,
            "overflow_x": null,
            "overflow_y": null,
            "padding": null,
            "right": null,
            "top": null,
            "visibility": null,
            "width": null
          }
        },
        "8937d1381d04439f8a89d0a3cb4d8cb2": {
          "model_module": "@jupyter-widgets/controls",
          "model_name": "ProgressStyleModel",
          "model_module_version": "1.5.0",
          "state": {
            "_model_module": "@jupyter-widgets/controls",
            "_model_module_version": "1.5.0",
            "_model_name": "ProgressStyleModel",
            "_view_count": null,
            "_view_module": "@jupyter-widgets/base",
            "_view_module_version": "1.2.0",
            "_view_name": "StyleView",
            "bar_color": null,
            "description_width": ""
          }
        },
        "8ac76eb404e94061a24a5f94acee223d": {
          "model_module": "@jupyter-widgets/base",
          "model_name": "LayoutModel",
          "model_module_version": "1.2.0",
          "state": {
            "_model_module": "@jupyter-widgets/base",
            "_model_module_version": "1.2.0",
            "_model_name": "LayoutModel",
            "_view_count": null,
            "_view_module": "@jupyter-widgets/base",
            "_view_module_version": "1.2.0",
            "_view_name": "LayoutView",
            "align_content": null,
            "align_items": null,
            "align_self": null,
            "border": null,
            "bottom": null,
            "display": null,
            "flex": null,
            "flex_flow": null,
            "grid_area": null,
            "grid_auto_columns": null,
            "grid_auto_flow": null,
            "grid_auto_rows": null,
            "grid_column": null,
            "grid_gap": null,
            "grid_row": null,
            "grid_template_areas": null,
            "grid_template_columns": null,
            "grid_template_rows": null,
            "height": null,
            "justify_content": null,
            "justify_items": null,
            "left": null,
            "margin": null,
            "max_height": null,
            "max_width": null,
            "min_height": null,
            "min_width": null,
            "object_fit": null,
            "object_position": null,
            "order": null,
            "overflow": null,
            "overflow_x": null,
            "overflow_y": null,
            "padding": null,
            "right": null,
            "top": null,
            "visibility": null,
            "width": null
          }
        },
        "194e81d93670453da4ef5e4831d44d68": {
          "model_module": "@jupyter-widgets/controls",
          "model_name": "DescriptionStyleModel",
          "model_module_version": "1.5.0",
          "state": {
            "_model_module": "@jupyter-widgets/controls",
            "_model_module_version": "1.5.0",
            "_model_name": "DescriptionStyleModel",
            "_view_count": null,
            "_view_module": "@jupyter-widgets/base",
            "_view_module_version": "1.2.0",
            "_view_name": "StyleView",
            "description_width": ""
          }
        },
        "8e228391aa81486badef35a1bc48a46e": {
          "model_module": "@jupyter-widgets/controls",
          "model_name": "HBoxModel",
          "model_module_version": "1.5.0",
          "state": {
            "_dom_classes": [],
            "_model_module": "@jupyter-widgets/controls",
            "_model_module_version": "1.5.0",
            "_model_name": "HBoxModel",
            "_view_count": null,
            "_view_module": "@jupyter-widgets/controls",
            "_view_module_version": "1.5.0",
            "_view_name": "HBoxView",
            "box_style": "",
            "children": [
              "IPY_MODEL_3c0efb9470b845588c5be40c0c93add9",
              "IPY_MODEL_5ad75dba964a457b82f3303c5d58a2e7",
              "IPY_MODEL_30ae4dc4710a4908b1ef6ba14d4f4256"
            ],
            "layout": "IPY_MODEL_41d88437a4924d7d8a36b953c5f332ac"
          }
        },
        "3c0efb9470b845588c5be40c0c93add9": {
          "model_module": "@jupyter-widgets/controls",
          "model_name": "HTMLModel",
          "model_module_version": "1.5.0",
          "state": {
            "_dom_classes": [],
            "_model_module": "@jupyter-widgets/controls",
            "_model_module_version": "1.5.0",
            "_model_name": "HTMLModel",
            "_view_count": null,
            "_view_module": "@jupyter-widgets/controls",
            "_view_module_version": "1.5.0",
            "_view_name": "HTMLView",
            "description": "",
            "description_tooltip": null,
            "layout": "IPY_MODEL_253d3fbe5a2140dba419696f45075783",
            "placeholder": "​",
            "style": "IPY_MODEL_7fb069a1488849648ab4de4c850137cb",
            "value": "Resolving data files: 100%"
          }
        },
        "5ad75dba964a457b82f3303c5d58a2e7": {
          "model_module": "@jupyter-widgets/controls",
          "model_name": "FloatProgressModel",
          "model_module_version": "1.5.0",
          "state": {
            "_dom_classes": [],
            "_model_module": "@jupyter-widgets/controls",
            "_model_module_version": "1.5.0",
            "_model_name": "FloatProgressModel",
            "_view_count": null,
            "_view_module": "@jupyter-widgets/controls",
            "_view_module_version": "1.5.0",
            "_view_name": "ProgressView",
            "bar_style": "success",
            "description": "",
            "description_tooltip": null,
            "layout": "IPY_MODEL_648020f8cf974fbfb38a169c5b73ce71",
            "max": 202,
            "min": 0,
            "orientation": "horizontal",
            "style": "IPY_MODEL_6ee167aeb3024b19a1b7c8c4cc5ed135",
            "value": 202
          }
        },
        "30ae4dc4710a4908b1ef6ba14d4f4256": {
          "model_module": "@jupyter-widgets/controls",
          "model_name": "HTMLModel",
          "model_module_version": "1.5.0",
          "state": {
            "_dom_classes": [],
            "_model_module": "@jupyter-widgets/controls",
            "_model_module_version": "1.5.0",
            "_model_name": "HTMLModel",
            "_view_count": null,
            "_view_module": "@jupyter-widgets/controls",
            "_view_module_version": "1.5.0",
            "_view_name": "HTMLView",
            "description": "",
            "description_tooltip": null,
            "layout": "IPY_MODEL_94e90718b3dc4b2e80f093d66f0fed1e",
            "placeholder": "​",
            "style": "IPY_MODEL_02277c84c2d04a8482fec77ab2198847",
            "value": " 202/202 [00:00&lt;00:00, 7500.57it/s]"
          }
        },
        "41d88437a4924d7d8a36b953c5f332ac": {
          "model_module": "@jupyter-widgets/base",
          "model_name": "LayoutModel",
          "model_module_version": "1.2.0",
          "state": {
            "_model_module": "@jupyter-widgets/base",
            "_model_module_version": "1.2.0",
            "_model_name": "LayoutModel",
            "_view_count": null,
            "_view_module": "@jupyter-widgets/base",
            "_view_module_version": "1.2.0",
            "_view_name": "LayoutView",
            "align_content": null,
            "align_items": null,
            "align_self": null,
            "border": null,
            "bottom": null,
            "display": null,
            "flex": null,
            "flex_flow": null,
            "grid_area": null,
            "grid_auto_columns": null,
            "grid_auto_flow": null,
            "grid_auto_rows": null,
            "grid_column": null,
            "grid_gap": null,
            "grid_row": null,
            "grid_template_areas": null,
            "grid_template_columns": null,
            "grid_template_rows": null,
            "height": null,
            "justify_content": null,
            "justify_items": null,
            "left": null,
            "margin": null,
            "max_height": null,
            "max_width": null,
            "min_height": null,
            "min_width": null,
            "object_fit": null,
            "object_position": null,
            "order": null,
            "overflow": null,
            "overflow_x": null,
            "overflow_y": null,
            "padding": null,
            "right": null,
            "top": null,
            "visibility": null,
            "width": null
          }
        },
        "253d3fbe5a2140dba419696f45075783": {
          "model_module": "@jupyter-widgets/base",
          "model_name": "LayoutModel",
          "model_module_version": "1.2.0",
          "state": {
            "_model_module": "@jupyter-widgets/base",
            "_model_module_version": "1.2.0",
            "_model_name": "LayoutModel",
            "_view_count": null,
            "_view_module": "@jupyter-widgets/base",
            "_view_module_version": "1.2.0",
            "_view_name": "LayoutView",
            "align_content": null,
            "align_items": null,
            "align_self": null,
            "border": null,
            "bottom": null,
            "display": null,
            "flex": null,
            "flex_flow": null,
            "grid_area": null,
            "grid_auto_columns": null,
            "grid_auto_flow": null,
            "grid_auto_rows": null,
            "grid_column": null,
            "grid_gap": null,
            "grid_row": null,
            "grid_template_areas": null,
            "grid_template_columns": null,
            "grid_template_rows": null,
            "height": null,
            "justify_content": null,
            "justify_items": null,
            "left": null,
            "margin": null,
            "max_height": null,
            "max_width": null,
            "min_height": null,
            "min_width": null,
            "object_fit": null,
            "object_position": null,
            "order": null,
            "overflow": null,
            "overflow_x": null,
            "overflow_y": null,
            "padding": null,
            "right": null,
            "top": null,
            "visibility": null,
            "width": null
          }
        },
        "7fb069a1488849648ab4de4c850137cb": {
          "model_module": "@jupyter-widgets/controls",
          "model_name": "DescriptionStyleModel",
          "model_module_version": "1.5.0",
          "state": {
            "_model_module": "@jupyter-widgets/controls",
            "_model_module_version": "1.5.0",
            "_model_name": "DescriptionStyleModel",
            "_view_count": null,
            "_view_module": "@jupyter-widgets/base",
            "_view_module_version": "1.2.0",
            "_view_name": "StyleView",
            "description_width": ""
          }
        },
        "648020f8cf974fbfb38a169c5b73ce71": {
          "model_module": "@jupyter-widgets/base",
          "model_name": "LayoutModel",
          "model_module_version": "1.2.0",
          "state": {
            "_model_module": "@jupyter-widgets/base",
            "_model_module_version": "1.2.0",
            "_model_name": "LayoutModel",
            "_view_count": null,
            "_view_module": "@jupyter-widgets/base",
            "_view_module_version": "1.2.0",
            "_view_name": "LayoutView",
            "align_content": null,
            "align_items": null,
            "align_self": null,
            "border": null,
            "bottom": null,
            "display": null,
            "flex": null,
            "flex_flow": null,
            "grid_area": null,
            "grid_auto_columns": null,
            "grid_auto_flow": null,
            "grid_auto_rows": null,
            "grid_column": null,
            "grid_gap": null,
            "grid_row": null,
            "grid_template_areas": null,
            "grid_template_columns": null,
            "grid_template_rows": null,
            "height": null,
            "justify_content": null,
            "justify_items": null,
            "left": null,
            "margin": null,
            "max_height": null,
            "max_width": null,
            "min_height": null,
            "min_width": null,
            "object_fit": null,
            "object_position": null,
            "order": null,
            "overflow": null,
            "overflow_x": null,
            "overflow_y": null,
            "padding": null,
            "right": null,
            "top": null,
            "visibility": null,
            "width": null
          }
        },
        "6ee167aeb3024b19a1b7c8c4cc5ed135": {
          "model_module": "@jupyter-widgets/controls",
          "model_name": "ProgressStyleModel",
          "model_module_version": "1.5.0",
          "state": {
            "_model_module": "@jupyter-widgets/controls",
            "_model_module_version": "1.5.0",
            "_model_name": "ProgressStyleModel",
            "_view_count": null,
            "_view_module": "@jupyter-widgets/base",
            "_view_module_version": "1.2.0",
            "_view_name": "StyleView",
            "bar_color": null,
            "description_width": ""
          }
        },
        "94e90718b3dc4b2e80f093d66f0fed1e": {
          "model_module": "@jupyter-widgets/base",
          "model_name": "LayoutModel",
          "model_module_version": "1.2.0",
          "state": {
            "_model_module": "@jupyter-widgets/base",
            "_model_module_version": "1.2.0",
            "_model_name": "LayoutModel",
            "_view_count": null,
            "_view_module": "@jupyter-widgets/base",
            "_view_module_version": "1.2.0",
            "_view_name": "LayoutView",
            "align_content": null,
            "align_items": null,
            "align_self": null,
            "border": null,
            "bottom": null,
            "display": null,
            "flex": null,
            "flex_flow": null,
            "grid_area": null,
            "grid_auto_columns": null,
            "grid_auto_flow": null,
            "grid_auto_rows": null,
            "grid_column": null,
            "grid_gap": null,
            "grid_row": null,
            "grid_template_areas": null,
            "grid_template_columns": null,
            "grid_template_rows": null,
            "height": null,
            "justify_content": null,
            "justify_items": null,
            "left": null,
            "margin": null,
            "max_height": null,
            "max_width": null,
            "min_height": null,
            "min_width": null,
            "object_fit": null,
            "object_position": null,
            "order": null,
            "overflow": null,
            "overflow_x": null,
            "overflow_y": null,
            "padding": null,
            "right": null,
            "top": null,
            "visibility": null,
            "width": null
          }
        },
        "02277c84c2d04a8482fec77ab2198847": {
          "model_module": "@jupyter-widgets/controls",
          "model_name": "DescriptionStyleModel",
          "model_module_version": "1.5.0",
          "state": {
            "_model_module": "@jupyter-widgets/controls",
            "_model_module_version": "1.5.0",
            "_model_name": "DescriptionStyleModel",
            "_view_count": null,
            "_view_module": "@jupyter-widgets/base",
            "_view_module_version": "1.2.0",
            "_view_name": "StyleView",
            "description_width": ""
          }
        },
        "a026a16833014b66a110063b8076ce18": {
          "model_module": "@jupyter-widgets/controls",
          "model_name": "HBoxModel",
          "model_module_version": "1.5.0",
          "state": {
            "_dom_classes": [],
            "_model_module": "@jupyter-widgets/controls",
            "_model_module_version": "1.5.0",
            "_model_name": "HBoxModel",
            "_view_count": null,
            "_view_module": "@jupyter-widgets/controls",
            "_view_module_version": "1.5.0",
            "_view_name": "HBoxView",
            "box_style": "",
            "children": [
              "IPY_MODEL_6ad658e218b344228d672136958cf3b1",
              "IPY_MODEL_8b74bb245a3042f8a36d8f805cfdc096",
              "IPY_MODEL_3961da64492c4bde933e2d308a89c470"
            ],
            "layout": "IPY_MODEL_4ef510607893422a9a4c7b08fd0bdaf8"
          }
        },
        "6ad658e218b344228d672136958cf3b1": {
          "model_module": "@jupyter-widgets/controls",
          "model_name": "HTMLModel",
          "model_module_version": "1.5.0",
          "state": {
            "_dom_classes": [],
            "_model_module": "@jupyter-widgets/controls",
            "_model_module_version": "1.5.0",
            "_model_name": "HTMLModel",
            "_view_count": null,
            "_view_module": "@jupyter-widgets/controls",
            "_view_module_version": "1.5.0",
            "_view_name": "HTMLView",
            "description": "",
            "description_tooltip": null,
            "layout": "IPY_MODEL_8409694a90bb428ba5c7122533f62262",
            "placeholder": "​",
            "style": "IPY_MODEL_b373e3a0afed4d0b83e5e1291f0642a5",
            "value": "Downloading data: 100%"
          }
        },
        "8b74bb245a3042f8a36d8f805cfdc096": {
          "model_module": "@jupyter-widgets/controls",
          "model_name": "FloatProgressModel",
          "model_module_version": "1.5.0",
          "state": {
            "_dom_classes": [],
            "_model_module": "@jupyter-widgets/controls",
            "_model_module_version": "1.5.0",
            "_model_name": "FloatProgressModel",
            "_view_count": null,
            "_view_module": "@jupyter-widgets/controls",
            "_view_module_version": "1.5.0",
            "_view_name": "ProgressView",
            "bar_style": "success",
            "description": "",
            "description_tooltip": null,
            "layout": "IPY_MODEL_c99a4c071e95461488b0b5197a758d2b",
            "max": 202,
            "min": 0,
            "orientation": "horizontal",
            "style": "IPY_MODEL_a2b21eaafc114b2db19d9b9f8a1c60ef",
            "value": 202
          }
        },
        "3961da64492c4bde933e2d308a89c470": {
          "model_module": "@jupyter-widgets/controls",
          "model_name": "HTMLModel",
          "model_module_version": "1.5.0",
          "state": {
            "_dom_classes": [],
            "_model_module": "@jupyter-widgets/controls",
            "_model_module_version": "1.5.0",
            "_model_name": "HTMLModel",
            "_view_count": null,
            "_view_module": "@jupyter-widgets/controls",
            "_view_module_version": "1.5.0",
            "_view_name": "HTMLView",
            "description": "",
            "description_tooltip": null,
            "layout": "IPY_MODEL_27d109ba22fd4894b903a3db73027814",
            "placeholder": "​",
            "style": "IPY_MODEL_1dac09b6a238411e99af8e6b6e539240",
            "value": " 202/202 [00:00&lt;00:00, 8778.79files/s]"
          }
        },
        "4ef510607893422a9a4c7b08fd0bdaf8": {
          "model_module": "@jupyter-widgets/base",
          "model_name": "LayoutModel",
          "model_module_version": "1.2.0",
          "state": {
            "_model_module": "@jupyter-widgets/base",
            "_model_module_version": "1.2.0",
            "_model_name": "LayoutModel",
            "_view_count": null,
            "_view_module": "@jupyter-widgets/base",
            "_view_module_version": "1.2.0",
            "_view_name": "LayoutView",
            "align_content": null,
            "align_items": null,
            "align_self": null,
            "border": null,
            "bottom": null,
            "display": null,
            "flex": null,
            "flex_flow": null,
            "grid_area": null,
            "grid_auto_columns": null,
            "grid_auto_flow": null,
            "grid_auto_rows": null,
            "grid_column": null,
            "grid_gap": null,
            "grid_row": null,
            "grid_template_areas": null,
            "grid_template_columns": null,
            "grid_template_rows": null,
            "height": null,
            "justify_content": null,
            "justify_items": null,
            "left": null,
            "margin": null,
            "max_height": null,
            "max_width": null,
            "min_height": null,
            "min_width": null,
            "object_fit": null,
            "object_position": null,
            "order": null,
            "overflow": null,
            "overflow_x": null,
            "overflow_y": null,
            "padding": null,
            "right": null,
            "top": null,
            "visibility": null,
            "width": null
          }
        },
        "8409694a90bb428ba5c7122533f62262": {
          "model_module": "@jupyter-widgets/base",
          "model_name": "LayoutModel",
          "model_module_version": "1.2.0",
          "state": {
            "_model_module": "@jupyter-widgets/base",
            "_model_module_version": "1.2.0",
            "_model_name": "LayoutModel",
            "_view_count": null,
            "_view_module": "@jupyter-widgets/base",
            "_view_module_version": "1.2.0",
            "_view_name": "LayoutView",
            "align_content": null,
            "align_items": null,
            "align_self": null,
            "border": null,
            "bottom": null,
            "display": null,
            "flex": null,
            "flex_flow": null,
            "grid_area": null,
            "grid_auto_columns": null,
            "grid_auto_flow": null,
            "grid_auto_rows": null,
            "grid_column": null,
            "grid_gap": null,
            "grid_row": null,
            "grid_template_areas": null,
            "grid_template_columns": null,
            "grid_template_rows": null,
            "height": null,
            "justify_content": null,
            "justify_items": null,
            "left": null,
            "margin": null,
            "max_height": null,
            "max_width": null,
            "min_height": null,
            "min_width": null,
            "object_fit": null,
            "object_position": null,
            "order": null,
            "overflow": null,
            "overflow_x": null,
            "overflow_y": null,
            "padding": null,
            "right": null,
            "top": null,
            "visibility": null,
            "width": null
          }
        },
        "b373e3a0afed4d0b83e5e1291f0642a5": {
          "model_module": "@jupyter-widgets/controls",
          "model_name": "DescriptionStyleModel",
          "model_module_version": "1.5.0",
          "state": {
            "_model_module": "@jupyter-widgets/controls",
            "_model_module_version": "1.5.0",
            "_model_name": "DescriptionStyleModel",
            "_view_count": null,
            "_view_module": "@jupyter-widgets/base",
            "_view_module_version": "1.2.0",
            "_view_name": "StyleView",
            "description_width": ""
          }
        },
        "c99a4c071e95461488b0b5197a758d2b": {
          "model_module": "@jupyter-widgets/base",
          "model_name": "LayoutModel",
          "model_module_version": "1.2.0",
          "state": {
            "_model_module": "@jupyter-widgets/base",
            "_model_module_version": "1.2.0",
            "_model_name": "LayoutModel",
            "_view_count": null,
            "_view_module": "@jupyter-widgets/base",
            "_view_module_version": "1.2.0",
            "_view_name": "LayoutView",
            "align_content": null,
            "align_items": null,
            "align_self": null,
            "border": null,
            "bottom": null,
            "display": null,
            "flex": null,
            "flex_flow": null,
            "grid_area": null,
            "grid_auto_columns": null,
            "grid_auto_flow": null,
            "grid_auto_rows": null,
            "grid_column": null,
            "grid_gap": null,
            "grid_row": null,
            "grid_template_areas": null,
            "grid_template_columns": null,
            "grid_template_rows": null,
            "height": null,
            "justify_content": null,
            "justify_items": null,
            "left": null,
            "margin": null,
            "max_height": null,
            "max_width": null,
            "min_height": null,
            "min_width": null,
            "object_fit": null,
            "object_position": null,
            "order": null,
            "overflow": null,
            "overflow_x": null,
            "overflow_y": null,
            "padding": null,
            "right": null,
            "top": null,
            "visibility": null,
            "width": null
          }
        },
        "a2b21eaafc114b2db19d9b9f8a1c60ef": {
          "model_module": "@jupyter-widgets/controls",
          "model_name": "ProgressStyleModel",
          "model_module_version": "1.5.0",
          "state": {
            "_model_module": "@jupyter-widgets/controls",
            "_model_module_version": "1.5.0",
            "_model_name": "ProgressStyleModel",
            "_view_count": null,
            "_view_module": "@jupyter-widgets/base",
            "_view_module_version": "1.2.0",
            "_view_name": "StyleView",
            "bar_color": null,
            "description_width": ""
          }
        },
        "27d109ba22fd4894b903a3db73027814": {
          "model_module": "@jupyter-widgets/base",
          "model_name": "LayoutModel",
          "model_module_version": "1.2.0",
          "state": {
            "_model_module": "@jupyter-widgets/base",
            "_model_module_version": "1.2.0",
            "_model_name": "LayoutModel",
            "_view_count": null,
            "_view_module": "@jupyter-widgets/base",
            "_view_module_version": "1.2.0",
            "_view_name": "LayoutView",
            "align_content": null,
            "align_items": null,
            "align_self": null,
            "border": null,
            "bottom": null,
            "display": null,
            "flex": null,
            "flex_flow": null,
            "grid_area": null,
            "grid_auto_columns": null,
            "grid_auto_flow": null,
            "grid_auto_rows": null,
            "grid_column": null,
            "grid_gap": null,
            "grid_row": null,
            "grid_template_areas": null,
            "grid_template_columns": null,
            "grid_template_rows": null,
            "height": null,
            "justify_content": null,
            "justify_items": null,
            "left": null,
            "margin": null,
            "max_height": null,
            "max_width": null,
            "min_height": null,
            "min_width": null,
            "object_fit": null,
            "object_position": null,
            "order": null,
            "overflow": null,
            "overflow_x": null,
            "overflow_y": null,
            "padding": null,
            "right": null,
            "top": null,
            "visibility": null,
            "width": null
          }
        },
        "1dac09b6a238411e99af8e6b6e539240": {
          "model_module": "@jupyter-widgets/controls",
          "model_name": "DescriptionStyleModel",
          "model_module_version": "1.5.0",
          "state": {
            "_model_module": "@jupyter-widgets/controls",
            "_model_module_version": "1.5.0",
            "_model_name": "DescriptionStyleModel",
            "_view_count": null,
            "_view_module": "@jupyter-widgets/base",
            "_view_module_version": "1.2.0",
            "_view_name": "StyleView",
            "description_width": ""
          }
        },
        "95cbe86360de4cad83649318ded7074f": {
          "model_module": "@jupyter-widgets/controls",
          "model_name": "HBoxModel",
          "model_module_version": "1.5.0",
          "state": {
            "_dom_classes": [],
            "_model_module": "@jupyter-widgets/controls",
            "_model_module_version": "1.5.0",
            "_model_name": "HBoxModel",
            "_view_count": null,
            "_view_module": "@jupyter-widgets/controls",
            "_view_module_version": "1.5.0",
            "_view_name": "HBoxView",
            "box_style": "",
            "children": [
              "IPY_MODEL_f7b6063e28f544dda81d0f8ac40e3f97",
              "IPY_MODEL_bf6f50270b3346cf9007fb5a6d22acdc",
              "IPY_MODEL_e47f2a7dbfda4634971677276bca4fa8"
            ],
            "layout": "IPY_MODEL_6252fc0df9564db0bd19d5c659f2d527"
          }
        },
        "f7b6063e28f544dda81d0f8ac40e3f97": {
          "model_module": "@jupyter-widgets/controls",
          "model_name": "HTMLModel",
          "model_module_version": "1.5.0",
          "state": {
            "_dom_classes": [],
            "_model_module": "@jupyter-widgets/controls",
            "_model_module_version": "1.5.0",
            "_model_name": "HTMLModel",
            "_view_count": null,
            "_view_module": "@jupyter-widgets/controls",
            "_view_module_version": "1.5.0",
            "_view_name": "HTMLView",
            "description": "",
            "description_tooltip": null,
            "layout": "IPY_MODEL_48710750760044dead3049f49c38d27f",
            "placeholder": "​",
            "style": "IPY_MODEL_181ae429ac8f4cc08e2aa01b0a6d79f5",
            "value": "Generating train split: "
          }
        },
        "bf6f50270b3346cf9007fb5a6d22acdc": {
          "model_module": "@jupyter-widgets/controls",
          "model_name": "FloatProgressModel",
          "model_module_version": "1.5.0",
          "state": {
            "_dom_classes": [],
            "_model_module": "@jupyter-widgets/controls",
            "_model_module_version": "1.5.0",
            "_model_name": "FloatProgressModel",
            "_view_count": null,
            "_view_module": "@jupyter-widgets/controls",
            "_view_module_version": "1.5.0",
            "_view_name": "ProgressView",
            "bar_style": "success",
            "description": "",
            "description_tooltip": null,
            "layout": "IPY_MODEL_6100cc3c13964b01bc25e377e551c5a6",
            "max": 1,
            "min": 0,
            "orientation": "horizontal",
            "style": "IPY_MODEL_4a11b638e9054e44a8c2dd04e393b1bd",
            "value": 1
          }
        },
        "e47f2a7dbfda4634971677276bca4fa8": {
          "model_module": "@jupyter-widgets/controls",
          "model_name": "HTMLModel",
          "model_module_version": "1.5.0",
          "state": {
            "_dom_classes": [],
            "_model_module": "@jupyter-widgets/controls",
            "_model_module_version": "1.5.0",
            "_model_name": "HTMLModel",
            "_view_count": null,
            "_view_module": "@jupyter-widgets/controls",
            "_view_module_version": "1.5.0",
            "_view_name": "HTMLView",
            "description": "",
            "description_tooltip": null,
            "layout": "IPY_MODEL_4b515a3bb01240e09353df7e8b7d660a",
            "placeholder": "​",
            "style": "IPY_MODEL_8237e5c644c943e79ee8993b320dcc71",
            "value": " 1007/0 [00:00&lt;00:00, 1541.42 examples/s]"
          }
        },
        "6252fc0df9564db0bd19d5c659f2d527": {
          "model_module": "@jupyter-widgets/base",
          "model_name": "LayoutModel",
          "model_module_version": "1.2.0",
          "state": {
            "_model_module": "@jupyter-widgets/base",
            "_model_module_version": "1.2.0",
            "_model_name": "LayoutModel",
            "_view_count": null,
            "_view_module": "@jupyter-widgets/base",
            "_view_module_version": "1.2.0",
            "_view_name": "LayoutView",
            "align_content": null,
            "align_items": null,
            "align_self": null,
            "border": null,
            "bottom": null,
            "display": null,
            "flex": null,
            "flex_flow": null,
            "grid_area": null,
            "grid_auto_columns": null,
            "grid_auto_flow": null,
            "grid_auto_rows": null,
            "grid_column": null,
            "grid_gap": null,
            "grid_row": null,
            "grid_template_areas": null,
            "grid_template_columns": null,
            "grid_template_rows": null,
            "height": null,
            "justify_content": null,
            "justify_items": null,
            "left": null,
            "margin": null,
            "max_height": null,
            "max_width": null,
            "min_height": null,
            "min_width": null,
            "object_fit": null,
            "object_position": null,
            "order": null,
            "overflow": null,
            "overflow_x": null,
            "overflow_y": null,
            "padding": null,
            "right": null,
            "top": null,
            "visibility": null,
            "width": null
          }
        },
        "48710750760044dead3049f49c38d27f": {
          "model_module": "@jupyter-widgets/base",
          "model_name": "LayoutModel",
          "model_module_version": "1.2.0",
          "state": {
            "_model_module": "@jupyter-widgets/base",
            "_model_module_version": "1.2.0",
            "_model_name": "LayoutModel",
            "_view_count": null,
            "_view_module": "@jupyter-widgets/base",
            "_view_module_version": "1.2.0",
            "_view_name": "LayoutView",
            "align_content": null,
            "align_items": null,
            "align_self": null,
            "border": null,
            "bottom": null,
            "display": null,
            "flex": null,
            "flex_flow": null,
            "grid_area": null,
            "grid_auto_columns": null,
            "grid_auto_flow": null,
            "grid_auto_rows": null,
            "grid_column": null,
            "grid_gap": null,
            "grid_row": null,
            "grid_template_areas": null,
            "grid_template_columns": null,
            "grid_template_rows": null,
            "height": null,
            "justify_content": null,
            "justify_items": null,
            "left": null,
            "margin": null,
            "max_height": null,
            "max_width": null,
            "min_height": null,
            "min_width": null,
            "object_fit": null,
            "object_position": null,
            "order": null,
            "overflow": null,
            "overflow_x": null,
            "overflow_y": null,
            "padding": null,
            "right": null,
            "top": null,
            "visibility": null,
            "width": null
          }
        },
        "181ae429ac8f4cc08e2aa01b0a6d79f5": {
          "model_module": "@jupyter-widgets/controls",
          "model_name": "DescriptionStyleModel",
          "model_module_version": "1.5.0",
          "state": {
            "_model_module": "@jupyter-widgets/controls",
            "_model_module_version": "1.5.0",
            "_model_name": "DescriptionStyleModel",
            "_view_count": null,
            "_view_module": "@jupyter-widgets/base",
            "_view_module_version": "1.2.0",
            "_view_name": "StyleView",
            "description_width": ""
          }
        },
        "6100cc3c13964b01bc25e377e551c5a6": {
          "model_module": "@jupyter-widgets/base",
          "model_name": "LayoutModel",
          "model_module_version": "1.2.0",
          "state": {
            "_model_module": "@jupyter-widgets/base",
            "_model_module_version": "1.2.0",
            "_model_name": "LayoutModel",
            "_view_count": null,
            "_view_module": "@jupyter-widgets/base",
            "_view_module_version": "1.2.0",
            "_view_name": "LayoutView",
            "align_content": null,
            "align_items": null,
            "align_self": null,
            "border": null,
            "bottom": null,
            "display": null,
            "flex": null,
            "flex_flow": null,
            "grid_area": null,
            "grid_auto_columns": null,
            "grid_auto_flow": null,
            "grid_auto_rows": null,
            "grid_column": null,
            "grid_gap": null,
            "grid_row": null,
            "grid_template_areas": null,
            "grid_template_columns": null,
            "grid_template_rows": null,
            "height": null,
            "justify_content": null,
            "justify_items": null,
            "left": null,
            "margin": null,
            "max_height": null,
            "max_width": null,
            "min_height": null,
            "min_width": null,
            "object_fit": null,
            "object_position": null,
            "order": null,
            "overflow": null,
            "overflow_x": null,
            "overflow_y": null,
            "padding": null,
            "right": null,
            "top": null,
            "visibility": null,
            "width": "20px"
          }
        },
        "4a11b638e9054e44a8c2dd04e393b1bd": {
          "model_module": "@jupyter-widgets/controls",
          "model_name": "ProgressStyleModel",
          "model_module_version": "1.5.0",
          "state": {
            "_model_module": "@jupyter-widgets/controls",
            "_model_module_version": "1.5.0",
            "_model_name": "ProgressStyleModel",
            "_view_count": null,
            "_view_module": "@jupyter-widgets/base",
            "_view_module_version": "1.2.0",
            "_view_name": "StyleView",
            "bar_color": null,
            "description_width": ""
          }
        },
        "4b515a3bb01240e09353df7e8b7d660a": {
          "model_module": "@jupyter-widgets/base",
          "model_name": "LayoutModel",
          "model_module_version": "1.2.0",
          "state": {
            "_model_module": "@jupyter-widgets/base",
            "_model_module_version": "1.2.0",
            "_model_name": "LayoutModel",
            "_view_count": null,
            "_view_module": "@jupyter-widgets/base",
            "_view_module_version": "1.2.0",
            "_view_name": "LayoutView",
            "align_content": null,
            "align_items": null,
            "align_self": null,
            "border": null,
            "bottom": null,
            "display": null,
            "flex": null,
            "flex_flow": null,
            "grid_area": null,
            "grid_auto_columns": null,
            "grid_auto_flow": null,
            "grid_auto_rows": null,
            "grid_column": null,
            "grid_gap": null,
            "grid_row": null,
            "grid_template_areas": null,
            "grid_template_columns": null,
            "grid_template_rows": null,
            "height": null,
            "justify_content": null,
            "justify_items": null,
            "left": null,
            "margin": null,
            "max_height": null,
            "max_width": null,
            "min_height": null,
            "min_width": null,
            "object_fit": null,
            "object_position": null,
            "order": null,
            "overflow": null,
            "overflow_x": null,
            "overflow_y": null,
            "padding": null,
            "right": null,
            "top": null,
            "visibility": null,
            "width": null
          }
        },
        "8237e5c644c943e79ee8993b320dcc71": {
          "model_module": "@jupyter-widgets/controls",
          "model_name": "DescriptionStyleModel",
          "model_module_version": "1.5.0",
          "state": {
            "_model_module": "@jupyter-widgets/controls",
            "_model_module_version": "1.5.0",
            "_model_name": "DescriptionStyleModel",
            "_view_count": null,
            "_view_module": "@jupyter-widgets/base",
            "_view_module_version": "1.2.0",
            "_view_name": "StyleView",
            "description_width": ""
          }
        },
        "34304a47da5a46e3b6f51a52906892e3": {
          "model_module": "@jupyter-widgets/controls",
          "model_name": "HBoxModel",
          "model_module_version": "1.5.0",
          "state": {
            "_dom_classes": [],
            "_model_module": "@jupyter-widgets/controls",
            "_model_module_version": "1.5.0",
            "_model_name": "HBoxModel",
            "_view_count": null,
            "_view_module": "@jupyter-widgets/controls",
            "_view_module_version": "1.5.0",
            "_view_name": "HBoxView",
            "box_style": "",
            "children": [
              "IPY_MODEL_8cc8b535e0f74952a8c7e249c2986856",
              "IPY_MODEL_6ce4df32e6964d2fb390e8f310e6e6ca",
              "IPY_MODEL_7643efb0a7054deda7d0efa8e1d30446"
            ],
            "layout": "IPY_MODEL_4c3dff7cde1c47ef84910f4694443da5"
          }
        },
        "8cc8b535e0f74952a8c7e249c2986856": {
          "model_module": "@jupyter-widgets/controls",
          "model_name": "HTMLModel",
          "model_module_version": "1.5.0",
          "state": {
            "_dom_classes": [],
            "_model_module": "@jupyter-widgets/controls",
            "_model_module_version": "1.5.0",
            "_model_name": "HTMLModel",
            "_view_count": null,
            "_view_module": "@jupyter-widgets/controls",
            "_view_module_version": "1.5.0",
            "_view_name": "HTMLView",
            "description": "",
            "description_tooltip": null,
            "layout": "IPY_MODEL_208fe31678ca4b3ebed8aa4423a72dd1",
            "placeholder": "​",
            "style": "IPY_MODEL_26aa409d8ff642c5874a46b8c478ef2a",
            "value": "Map: 100%"
          }
        },
        "6ce4df32e6964d2fb390e8f310e6e6ca": {
          "model_module": "@jupyter-widgets/controls",
          "model_name": "FloatProgressModel",
          "model_module_version": "1.5.0",
          "state": {
            "_dom_classes": [],
            "_model_module": "@jupyter-widgets/controls",
            "_model_module_version": "1.5.0",
            "_model_name": "FloatProgressModel",
            "_view_count": null,
            "_view_module": "@jupyter-widgets/controls",
            "_view_module_version": "1.5.0",
            "_view_name": "ProgressView",
            "bar_style": "success",
            "description": "",
            "description_tooltip": null,
            "layout": "IPY_MODEL_11c0e4122d1d45b0993a83f633635329",
            "max": 1007,
            "min": 0,
            "orientation": "horizontal",
            "style": "IPY_MODEL_8b149f5a98e3445680c967dd3f673b03",
            "value": 1007
          }
        },
        "7643efb0a7054deda7d0efa8e1d30446": {
          "model_module": "@jupyter-widgets/controls",
          "model_name": "HTMLModel",
          "model_module_version": "1.5.0",
          "state": {
            "_dom_classes": [],
            "_model_module": "@jupyter-widgets/controls",
            "_model_module_version": "1.5.0",
            "_model_name": "HTMLModel",
            "_view_count": null,
            "_view_module": "@jupyter-widgets/controls",
            "_view_module_version": "1.5.0",
            "_view_name": "HTMLView",
            "description": "",
            "description_tooltip": null,
            "layout": "IPY_MODEL_79f394d81b7a4ca2b34b6597d0b77669",
            "placeholder": "​",
            "style": "IPY_MODEL_833377cb63994ef393889a5d1d0735ea",
            "value": " 1007/1007 [00:00&lt;00:00, 9386.32 examples/s]"
          }
        },
        "4c3dff7cde1c47ef84910f4694443da5": {
          "model_module": "@jupyter-widgets/base",
          "model_name": "LayoutModel",
          "model_module_version": "1.2.0",
          "state": {
            "_model_module": "@jupyter-widgets/base",
            "_model_module_version": "1.2.0",
            "_model_name": "LayoutModel",
            "_view_count": null,
            "_view_module": "@jupyter-widgets/base",
            "_view_module_version": "1.2.0",
            "_view_name": "LayoutView",
            "align_content": null,
            "align_items": null,
            "align_self": null,
            "border": null,
            "bottom": null,
            "display": null,
            "flex": null,
            "flex_flow": null,
            "grid_area": null,
            "grid_auto_columns": null,
            "grid_auto_flow": null,
            "grid_auto_rows": null,
            "grid_column": null,
            "grid_gap": null,
            "grid_row": null,
            "grid_template_areas": null,
            "grid_template_columns": null,
            "grid_template_rows": null,
            "height": null,
            "justify_content": null,
            "justify_items": null,
            "left": null,
            "margin": null,
            "max_height": null,
            "max_width": null,
            "min_height": null,
            "min_width": null,
            "object_fit": null,
            "object_position": null,
            "order": null,
            "overflow": null,
            "overflow_x": null,
            "overflow_y": null,
            "padding": null,
            "right": null,
            "top": null,
            "visibility": null,
            "width": null
          }
        },
        "208fe31678ca4b3ebed8aa4423a72dd1": {
          "model_module": "@jupyter-widgets/base",
          "model_name": "LayoutModel",
          "model_module_version": "1.2.0",
          "state": {
            "_model_module": "@jupyter-widgets/base",
            "_model_module_version": "1.2.0",
            "_model_name": "LayoutModel",
            "_view_count": null,
            "_view_module": "@jupyter-widgets/base",
            "_view_module_version": "1.2.0",
            "_view_name": "LayoutView",
            "align_content": null,
            "align_items": null,
            "align_self": null,
            "border": null,
            "bottom": null,
            "display": null,
            "flex": null,
            "flex_flow": null,
            "grid_area": null,
            "grid_auto_columns": null,
            "grid_auto_flow": null,
            "grid_auto_rows": null,
            "grid_column": null,
            "grid_gap": null,
            "grid_row": null,
            "grid_template_areas": null,
            "grid_template_columns": null,
            "grid_template_rows": null,
            "height": null,
            "justify_content": null,
            "justify_items": null,
            "left": null,
            "margin": null,
            "max_height": null,
            "max_width": null,
            "min_height": null,
            "min_width": null,
            "object_fit": null,
            "object_position": null,
            "order": null,
            "overflow": null,
            "overflow_x": null,
            "overflow_y": null,
            "padding": null,
            "right": null,
            "top": null,
            "visibility": null,
            "width": null
          }
        },
        "26aa409d8ff642c5874a46b8c478ef2a": {
          "model_module": "@jupyter-widgets/controls",
          "model_name": "DescriptionStyleModel",
          "model_module_version": "1.5.0",
          "state": {
            "_model_module": "@jupyter-widgets/controls",
            "_model_module_version": "1.5.0",
            "_model_name": "DescriptionStyleModel",
            "_view_count": null,
            "_view_module": "@jupyter-widgets/base",
            "_view_module_version": "1.2.0",
            "_view_name": "StyleView",
            "description_width": ""
          }
        },
        "11c0e4122d1d45b0993a83f633635329": {
          "model_module": "@jupyter-widgets/base",
          "model_name": "LayoutModel",
          "model_module_version": "1.2.0",
          "state": {
            "_model_module": "@jupyter-widgets/base",
            "_model_module_version": "1.2.0",
            "_model_name": "LayoutModel",
            "_view_count": null,
            "_view_module": "@jupyter-widgets/base",
            "_view_module_version": "1.2.0",
            "_view_name": "LayoutView",
            "align_content": null,
            "align_items": null,
            "align_self": null,
            "border": null,
            "bottom": null,
            "display": null,
            "flex": null,
            "flex_flow": null,
            "grid_area": null,
            "grid_auto_columns": null,
            "grid_auto_flow": null,
            "grid_auto_rows": null,
            "grid_column": null,
            "grid_gap": null,
            "grid_row": null,
            "grid_template_areas": null,
            "grid_template_columns": null,
            "grid_template_rows": null,
            "height": null,
            "justify_content": null,
            "justify_items": null,
            "left": null,
            "margin": null,
            "max_height": null,
            "max_width": null,
            "min_height": null,
            "min_width": null,
            "object_fit": null,
            "object_position": null,
            "order": null,
            "overflow": null,
            "overflow_x": null,
            "overflow_y": null,
            "padding": null,
            "right": null,
            "top": null,
            "visibility": null,
            "width": null
          }
        },
        "8b149f5a98e3445680c967dd3f673b03": {
          "model_module": "@jupyter-widgets/controls",
          "model_name": "ProgressStyleModel",
          "model_module_version": "1.5.0",
          "state": {
            "_model_module": "@jupyter-widgets/controls",
            "_model_module_version": "1.5.0",
            "_model_name": "ProgressStyleModel",
            "_view_count": null,
            "_view_module": "@jupyter-widgets/base",
            "_view_module_version": "1.2.0",
            "_view_name": "StyleView",
            "bar_color": null,
            "description_width": ""
          }
        },
        "79f394d81b7a4ca2b34b6597d0b77669": {
          "model_module": "@jupyter-widgets/base",
          "model_name": "LayoutModel",
          "model_module_version": "1.2.0",
          "state": {
            "_model_module": "@jupyter-widgets/base",
            "_model_module_version": "1.2.0",
            "_model_name": "LayoutModel",
            "_view_count": null,
            "_view_module": "@jupyter-widgets/base",
            "_view_module_version": "1.2.0",
            "_view_name": "LayoutView",
            "align_content": null,
            "align_items": null,
            "align_self": null,
            "border": null,
            "bottom": null,
            "display": null,
            "flex": null,
            "flex_flow": null,
            "grid_area": null,
            "grid_auto_columns": null,
            "grid_auto_flow": null,
            "grid_auto_rows": null,
            "grid_column": null,
            "grid_gap": null,
            "grid_row": null,
            "grid_template_areas": null,
            "grid_template_columns": null,
            "grid_template_rows": null,
            "height": null,
            "justify_content": null,
            "justify_items": null,
            "left": null,
            "margin": null,
            "max_height": null,
            "max_width": null,
            "min_height": null,
            "min_width": null,
            "object_fit": null,
            "object_position": null,
            "order": null,
            "overflow": null,
            "overflow_x": null,
            "overflow_y": null,
            "padding": null,
            "right": null,
            "top": null,
            "visibility": null,
            "width": null
          }
        },
        "833377cb63994ef393889a5d1d0735ea": {
          "model_module": "@jupyter-widgets/controls",
          "model_name": "DescriptionStyleModel",
          "model_module_version": "1.5.0",
          "state": {
            "_model_module": "@jupyter-widgets/controls",
            "_model_module_version": "1.5.0",
            "_model_name": "DescriptionStyleModel",
            "_view_count": null,
            "_view_module": "@jupyter-widgets/base",
            "_view_module_version": "1.2.0",
            "_view_name": "StyleView",
            "description_width": ""
          }
        },
        "41f7f168fd6f4b5c81af50bdd67a8370": {
          "model_module": "@jupyter-widgets/controls",
          "model_name": "HBoxModel",
          "model_module_version": "1.5.0",
          "state": {
            "_dom_classes": [],
            "_model_module": "@jupyter-widgets/controls",
            "_model_module_version": "1.5.0",
            "_model_name": "HBoxModel",
            "_view_count": null,
            "_view_module": "@jupyter-widgets/controls",
            "_view_module_version": "1.5.0",
            "_view_name": "HBoxView",
            "box_style": "",
            "children": [
              "IPY_MODEL_ec472ffadbae4a07be691285d68e0ba2",
              "IPY_MODEL_3ae8923ee2d64ecf9fb609ec092ae863",
              "IPY_MODEL_7975099538514d4f853a86ae2f31f556"
            ],
            "layout": "IPY_MODEL_4f4c8db7d6f14559bf6f005f83291559"
          }
        },
        "ec472ffadbae4a07be691285d68e0ba2": {
          "model_module": "@jupyter-widgets/controls",
          "model_name": "HTMLModel",
          "model_module_version": "1.5.0",
          "state": {
            "_dom_classes": [],
            "_model_module": "@jupyter-widgets/controls",
            "_model_module_version": "1.5.0",
            "_model_name": "HTMLModel",
            "_view_count": null,
            "_view_module": "@jupyter-widgets/controls",
            "_view_module_version": "1.5.0",
            "_view_name": "HTMLView",
            "description": "",
            "description_tooltip": null,
            "layout": "IPY_MODEL_b1c359de6c344a5ca70f9685b67d08d1",
            "placeholder": "​",
            "style": "IPY_MODEL_895ab052c574497c89b26e876ebf6cfc",
            "value": "Map: 100%"
          }
        },
        "3ae8923ee2d64ecf9fb609ec092ae863": {
          "model_module": "@jupyter-widgets/controls",
          "model_name": "FloatProgressModel",
          "model_module_version": "1.5.0",
          "state": {
            "_dom_classes": [],
            "_model_module": "@jupyter-widgets/controls",
            "_model_module_version": "1.5.0",
            "_model_name": "FloatProgressModel",
            "_view_count": null,
            "_view_module": "@jupyter-widgets/controls",
            "_view_module_version": "1.5.0",
            "_view_name": "ProgressView",
            "bar_style": "success",
            "description": "",
            "description_tooltip": null,
            "layout": "IPY_MODEL_96d78b70c3be48ccabf33cc8c68f5cf6",
            "max": 1007,
            "min": 0,
            "orientation": "horizontal",
            "style": "IPY_MODEL_690d49588c3a4ff79c60443020d39647",
            "value": 1007
          }
        },
        "7975099538514d4f853a86ae2f31f556": {
          "model_module": "@jupyter-widgets/controls",
          "model_name": "HTMLModel",
          "model_module_version": "1.5.0",
          "state": {
            "_dom_classes": [],
            "_model_module": "@jupyter-widgets/controls",
            "_model_module_version": "1.5.0",
            "_model_name": "HTMLModel",
            "_view_count": null,
            "_view_module": "@jupyter-widgets/controls",
            "_view_module_version": "1.5.0",
            "_view_name": "HTMLView",
            "description": "",
            "description_tooltip": null,
            "layout": "IPY_MODEL_a55be1ead7194ff181f6ff46aa688c01",
            "placeholder": "​",
            "style": "IPY_MODEL_98a6a1771f5341a29f40e5bcc6e0bad8",
            "value": " 1007/1007 [00:00&lt;00:00, 2455.28 examples/s]"
          }
        },
        "4f4c8db7d6f14559bf6f005f83291559": {
          "model_module": "@jupyter-widgets/base",
          "model_name": "LayoutModel",
          "model_module_version": "1.2.0",
          "state": {
            "_model_module": "@jupyter-widgets/base",
            "_model_module_version": "1.2.0",
            "_model_name": "LayoutModel",
            "_view_count": null,
            "_view_module": "@jupyter-widgets/base",
            "_view_module_version": "1.2.0",
            "_view_name": "LayoutView",
            "align_content": null,
            "align_items": null,
            "align_self": null,
            "border": null,
            "bottom": null,
            "display": null,
            "flex": null,
            "flex_flow": null,
            "grid_area": null,
            "grid_auto_columns": null,
            "grid_auto_flow": null,
            "grid_auto_rows": null,
            "grid_column": null,
            "grid_gap": null,
            "grid_row": null,
            "grid_template_areas": null,
            "grid_template_columns": null,
            "grid_template_rows": null,
            "height": null,
            "justify_content": null,
            "justify_items": null,
            "left": null,
            "margin": null,
            "max_height": null,
            "max_width": null,
            "min_height": null,
            "min_width": null,
            "object_fit": null,
            "object_position": null,
            "order": null,
            "overflow": null,
            "overflow_x": null,
            "overflow_y": null,
            "padding": null,
            "right": null,
            "top": null,
            "visibility": null,
            "width": null
          }
        },
        "b1c359de6c344a5ca70f9685b67d08d1": {
          "model_module": "@jupyter-widgets/base",
          "model_name": "LayoutModel",
          "model_module_version": "1.2.0",
          "state": {
            "_model_module": "@jupyter-widgets/base",
            "_model_module_version": "1.2.0",
            "_model_name": "LayoutModel",
            "_view_count": null,
            "_view_module": "@jupyter-widgets/base",
            "_view_module_version": "1.2.0",
            "_view_name": "LayoutView",
            "align_content": null,
            "align_items": null,
            "align_self": null,
            "border": null,
            "bottom": null,
            "display": null,
            "flex": null,
            "flex_flow": null,
            "grid_area": null,
            "grid_auto_columns": null,
            "grid_auto_flow": null,
            "grid_auto_rows": null,
            "grid_column": null,
            "grid_gap": null,
            "grid_row": null,
            "grid_template_areas": null,
            "grid_template_columns": null,
            "grid_template_rows": null,
            "height": null,
            "justify_content": null,
            "justify_items": null,
            "left": null,
            "margin": null,
            "max_height": null,
            "max_width": null,
            "min_height": null,
            "min_width": null,
            "object_fit": null,
            "object_position": null,
            "order": null,
            "overflow": null,
            "overflow_x": null,
            "overflow_y": null,
            "padding": null,
            "right": null,
            "top": null,
            "visibility": null,
            "width": null
          }
        },
        "895ab052c574497c89b26e876ebf6cfc": {
          "model_module": "@jupyter-widgets/controls",
          "model_name": "DescriptionStyleModel",
          "model_module_version": "1.5.0",
          "state": {
            "_model_module": "@jupyter-widgets/controls",
            "_model_module_version": "1.5.0",
            "_model_name": "DescriptionStyleModel",
            "_view_count": null,
            "_view_module": "@jupyter-widgets/base",
            "_view_module_version": "1.2.0",
            "_view_name": "StyleView",
            "description_width": ""
          }
        },
        "96d78b70c3be48ccabf33cc8c68f5cf6": {
          "model_module": "@jupyter-widgets/base",
          "model_name": "LayoutModel",
          "model_module_version": "1.2.0",
          "state": {
            "_model_module": "@jupyter-widgets/base",
            "_model_module_version": "1.2.0",
            "_model_name": "LayoutModel",
            "_view_count": null,
            "_view_module": "@jupyter-widgets/base",
            "_view_module_version": "1.2.0",
            "_view_name": "LayoutView",
            "align_content": null,
            "align_items": null,
            "align_self": null,
            "border": null,
            "bottom": null,
            "display": null,
            "flex": null,
            "flex_flow": null,
            "grid_area": null,
            "grid_auto_columns": null,
            "grid_auto_flow": null,
            "grid_auto_rows": null,
            "grid_column": null,
            "grid_gap": null,
            "grid_row": null,
            "grid_template_areas": null,
            "grid_template_columns": null,
            "grid_template_rows": null,
            "height": null,
            "justify_content": null,
            "justify_items": null,
            "left": null,
            "margin": null,
            "max_height": null,
            "max_width": null,
            "min_height": null,
            "min_width": null,
            "object_fit": null,
            "object_position": null,
            "order": null,
            "overflow": null,
            "overflow_x": null,
            "overflow_y": null,
            "padding": null,
            "right": null,
            "top": null,
            "visibility": null,
            "width": null
          }
        },
        "690d49588c3a4ff79c60443020d39647": {
          "model_module": "@jupyter-widgets/controls",
          "model_name": "ProgressStyleModel",
          "model_module_version": "1.5.0",
          "state": {
            "_model_module": "@jupyter-widgets/controls",
            "_model_module_version": "1.5.0",
            "_model_name": "ProgressStyleModel",
            "_view_count": null,
            "_view_module": "@jupyter-widgets/base",
            "_view_module_version": "1.2.0",
            "_view_name": "StyleView",
            "bar_color": null,
            "description_width": ""
          }
        },
        "a55be1ead7194ff181f6ff46aa688c01": {
          "model_module": "@jupyter-widgets/base",
          "model_name": "LayoutModel",
          "model_module_version": "1.2.0",
          "state": {
            "_model_module": "@jupyter-widgets/base",
            "_model_module_version": "1.2.0",
            "_model_name": "LayoutModel",
            "_view_count": null,
            "_view_module": "@jupyter-widgets/base",
            "_view_module_version": "1.2.0",
            "_view_name": "LayoutView",
            "align_content": null,
            "align_items": null,
            "align_self": null,
            "border": null,
            "bottom": null,
            "display": null,
            "flex": null,
            "flex_flow": null,
            "grid_area": null,
            "grid_auto_columns": null,
            "grid_auto_flow": null,
            "grid_auto_rows": null,
            "grid_column": null,
            "grid_gap": null,
            "grid_row": null,
            "grid_template_areas": null,
            "grid_template_columns": null,
            "grid_template_rows": null,
            "height": null,
            "justify_content": null,
            "justify_items": null,
            "left": null,
            "margin": null,
            "max_height": null,
            "max_width": null,
            "min_height": null,
            "min_width": null,
            "object_fit": null,
            "object_position": null,
            "order": null,
            "overflow": null,
            "overflow_x": null,
            "overflow_y": null,
            "padding": null,
            "right": null,
            "top": null,
            "visibility": null,
            "width": null
          }
        },
        "98a6a1771f5341a29f40e5bcc6e0bad8": {
          "model_module": "@jupyter-widgets/controls",
          "model_name": "DescriptionStyleModel",
          "model_module_version": "1.5.0",
          "state": {
            "_model_module": "@jupyter-widgets/controls",
            "_model_module_version": "1.5.0",
            "_model_name": "DescriptionStyleModel",
            "_view_count": null,
            "_view_module": "@jupyter-widgets/base",
            "_view_module_version": "1.2.0",
            "_view_name": "StyleView",
            "description_width": ""
          }
        },
        "945bdd9ce080499a8dd18d0bf6db57a3": {
          "model_module": "@jupyter-widgets/controls",
          "model_name": "HBoxModel",
          "model_module_version": "1.5.0",
          "state": {
            "_dom_classes": [],
            "_model_module": "@jupyter-widgets/controls",
            "_model_module_version": "1.5.0",
            "_model_name": "HBoxModel",
            "_view_count": null,
            "_view_module": "@jupyter-widgets/controls",
            "_view_module_version": "1.5.0",
            "_view_name": "HBoxView",
            "box_style": "",
            "children": [
              "IPY_MODEL_ae59a0e157be4d7aa3265aad5b7b4e78",
              "IPY_MODEL_67def3580e2d45d8a7d4bcba5f7d3115",
              "IPY_MODEL_c0211dba7e104c479da1eb2a54898464"
            ],
            "layout": "IPY_MODEL_f0fbcdb1c47a4b60adfc3e75c691b4ab"
          }
        },
        "ae59a0e157be4d7aa3265aad5b7b4e78": {
          "model_module": "@jupyter-widgets/controls",
          "model_name": "HTMLModel",
          "model_module_version": "1.5.0",
          "state": {
            "_dom_classes": [],
            "_model_module": "@jupyter-widgets/controls",
            "_model_module_version": "1.5.0",
            "_model_name": "HTMLModel",
            "_view_count": null,
            "_view_module": "@jupyter-widgets/controls",
            "_view_module_version": "1.5.0",
            "_view_name": "HTMLView",
            "description": "",
            "description_tooltip": null,
            "layout": "IPY_MODEL_8f48d7d025ee40468a698d1e221b9f16",
            "placeholder": "​",
            "style": "IPY_MODEL_be5ccd4673d84bed80b3c29bc14270ed",
            "value": "config.json: 100%"
          }
        },
        "67def3580e2d45d8a7d4bcba5f7d3115": {
          "model_module": "@jupyter-widgets/controls",
          "model_name": "FloatProgressModel",
          "model_module_version": "1.5.0",
          "state": {
            "_dom_classes": [],
            "_model_module": "@jupyter-widgets/controls",
            "_model_module_version": "1.5.0",
            "_model_name": "FloatProgressModel",
            "_view_count": null,
            "_view_module": "@jupyter-widgets/controls",
            "_view_module_version": "1.5.0",
            "_view_name": "ProgressView",
            "bar_style": "success",
            "description": "",
            "description_tooltip": null,
            "layout": "IPY_MODEL_ef7b63af5b1b465588aa153d71e44569",
            "max": 596,
            "min": 0,
            "orientation": "horizontal",
            "style": "IPY_MODEL_86a6ab554dfc4f88a16c08b67be580e0",
            "value": 596
          }
        },
        "c0211dba7e104c479da1eb2a54898464": {
          "model_module": "@jupyter-widgets/controls",
          "model_name": "HTMLModel",
          "model_module_version": "1.5.0",
          "state": {
            "_dom_classes": [],
            "_model_module": "@jupyter-widgets/controls",
            "_model_module_version": "1.5.0",
            "_model_name": "HTMLModel",
            "_view_count": null,
            "_view_module": "@jupyter-widgets/controls",
            "_view_module_version": "1.5.0",
            "_view_name": "HTMLView",
            "description": "",
            "description_tooltip": null,
            "layout": "IPY_MODEL_615d4d756d614394b40265e16bcb444d",
            "placeholder": "​",
            "style": "IPY_MODEL_eae172fbb3714c5980e9191190618ec1",
            "value": " 596/596 [00:00&lt;00:00, 57.7kB/s]"
          }
        },
        "f0fbcdb1c47a4b60adfc3e75c691b4ab": {
          "model_module": "@jupyter-widgets/base",
          "model_name": "LayoutModel",
          "model_module_version": "1.2.0",
          "state": {
            "_model_module": "@jupyter-widgets/base",
            "_model_module_version": "1.2.0",
            "_model_name": "LayoutModel",
            "_view_count": null,
            "_view_module": "@jupyter-widgets/base",
            "_view_module_version": "1.2.0",
            "_view_name": "LayoutView",
            "align_content": null,
            "align_items": null,
            "align_self": null,
            "border": null,
            "bottom": null,
            "display": null,
            "flex": null,
            "flex_flow": null,
            "grid_area": null,
            "grid_auto_columns": null,
            "grid_auto_flow": null,
            "grid_auto_rows": null,
            "grid_column": null,
            "grid_gap": null,
            "grid_row": null,
            "grid_template_areas": null,
            "grid_template_columns": null,
            "grid_template_rows": null,
            "height": null,
            "justify_content": null,
            "justify_items": null,
            "left": null,
            "margin": null,
            "max_height": null,
            "max_width": null,
            "min_height": null,
            "min_width": null,
            "object_fit": null,
            "object_position": null,
            "order": null,
            "overflow": null,
            "overflow_x": null,
            "overflow_y": null,
            "padding": null,
            "right": null,
            "top": null,
            "visibility": null,
            "width": null
          }
        },
        "8f48d7d025ee40468a698d1e221b9f16": {
          "model_module": "@jupyter-widgets/base",
          "model_name": "LayoutModel",
          "model_module_version": "1.2.0",
          "state": {
            "_model_module": "@jupyter-widgets/base",
            "_model_module_version": "1.2.0",
            "_model_name": "LayoutModel",
            "_view_count": null,
            "_view_module": "@jupyter-widgets/base",
            "_view_module_version": "1.2.0",
            "_view_name": "LayoutView",
            "align_content": null,
            "align_items": null,
            "align_self": null,
            "border": null,
            "bottom": null,
            "display": null,
            "flex": null,
            "flex_flow": null,
            "grid_area": null,
            "grid_auto_columns": null,
            "grid_auto_flow": null,
            "grid_auto_rows": null,
            "grid_column": null,
            "grid_gap": null,
            "grid_row": null,
            "grid_template_areas": null,
            "grid_template_columns": null,
            "grid_template_rows": null,
            "height": null,
            "justify_content": null,
            "justify_items": null,
            "left": null,
            "margin": null,
            "max_height": null,
            "max_width": null,
            "min_height": null,
            "min_width": null,
            "object_fit": null,
            "object_position": null,
            "order": null,
            "overflow": null,
            "overflow_x": null,
            "overflow_y": null,
            "padding": null,
            "right": null,
            "top": null,
            "visibility": null,
            "width": null
          }
        },
        "be5ccd4673d84bed80b3c29bc14270ed": {
          "model_module": "@jupyter-widgets/controls",
          "model_name": "DescriptionStyleModel",
          "model_module_version": "1.5.0",
          "state": {
            "_model_module": "@jupyter-widgets/controls",
            "_model_module_version": "1.5.0",
            "_model_name": "DescriptionStyleModel",
            "_view_count": null,
            "_view_module": "@jupyter-widgets/base",
            "_view_module_version": "1.2.0",
            "_view_name": "StyleView",
            "description_width": ""
          }
        },
        "ef7b63af5b1b465588aa153d71e44569": {
          "model_module": "@jupyter-widgets/base",
          "model_name": "LayoutModel",
          "model_module_version": "1.2.0",
          "state": {
            "_model_module": "@jupyter-widgets/base",
            "_model_module_version": "1.2.0",
            "_model_name": "LayoutModel",
            "_view_count": null,
            "_view_module": "@jupyter-widgets/base",
            "_view_module_version": "1.2.0",
            "_view_name": "LayoutView",
            "align_content": null,
            "align_items": null,
            "align_self": null,
            "border": null,
            "bottom": null,
            "display": null,
            "flex": null,
            "flex_flow": null,
            "grid_area": null,
            "grid_auto_columns": null,
            "grid_auto_flow": null,
            "grid_auto_rows": null,
            "grid_column": null,
            "grid_gap": null,
            "grid_row": null,
            "grid_template_areas": null,
            "grid_template_columns": null,
            "grid_template_rows": null,
            "height": null,
            "justify_content": null,
            "justify_items": null,
            "left": null,
            "margin": null,
            "max_height": null,
            "max_width": null,
            "min_height": null,
            "min_width": null,
            "object_fit": null,
            "object_position": null,
            "order": null,
            "overflow": null,
            "overflow_x": null,
            "overflow_y": null,
            "padding": null,
            "right": null,
            "top": null,
            "visibility": null,
            "width": null
          }
        },
        "86a6ab554dfc4f88a16c08b67be580e0": {
          "model_module": "@jupyter-widgets/controls",
          "model_name": "ProgressStyleModel",
          "model_module_version": "1.5.0",
          "state": {
            "_model_module": "@jupyter-widgets/controls",
            "_model_module_version": "1.5.0",
            "_model_name": "ProgressStyleModel",
            "_view_count": null,
            "_view_module": "@jupyter-widgets/base",
            "_view_module_version": "1.2.0",
            "_view_name": "StyleView",
            "bar_color": null,
            "description_width": ""
          }
        },
        "615d4d756d614394b40265e16bcb444d": {
          "model_module": "@jupyter-widgets/base",
          "model_name": "LayoutModel",
          "model_module_version": "1.2.0",
          "state": {
            "_model_module": "@jupyter-widgets/base",
            "_model_module_version": "1.2.0",
            "_model_name": "LayoutModel",
            "_view_count": null,
            "_view_module": "@jupyter-widgets/base",
            "_view_module_version": "1.2.0",
            "_view_name": "LayoutView",
            "align_content": null,
            "align_items": null,
            "align_self": null,
            "border": null,
            "bottom": null,
            "display": null,
            "flex": null,
            "flex_flow": null,
            "grid_area": null,
            "grid_auto_columns": null,
            "grid_auto_flow": null,
            "grid_auto_rows": null,
            "grid_column": null,
            "grid_gap": null,
            "grid_row": null,
            "grid_template_areas": null,
            "grid_template_columns": null,
            "grid_template_rows": null,
            "height": null,
            "justify_content": null,
            "justify_items": null,
            "left": null,
            "margin": null,
            "max_height": null,
            "max_width": null,
            "min_height": null,
            "min_width": null,
            "object_fit": null,
            "object_position": null,
            "order": null,
            "overflow": null,
            "overflow_x": null,
            "overflow_y": null,
            "padding": null,
            "right": null,
            "top": null,
            "visibility": null,
            "width": null
          }
        },
        "eae172fbb3714c5980e9191190618ec1": {
          "model_module": "@jupyter-widgets/controls",
          "model_name": "DescriptionStyleModel",
          "model_module_version": "1.5.0",
          "state": {
            "_model_module": "@jupyter-widgets/controls",
            "_model_module_version": "1.5.0",
            "_model_name": "DescriptionStyleModel",
            "_view_count": null,
            "_view_module": "@jupyter-widgets/base",
            "_view_module_version": "1.2.0",
            "_view_name": "StyleView",
            "description_width": ""
          }
        },
        "a03e3b7c0e664171a3a457482471355c": {
          "model_module": "@jupyter-widgets/controls",
          "model_name": "HBoxModel",
          "model_module_version": "1.5.0",
          "state": {
            "_dom_classes": [],
            "_model_module": "@jupyter-widgets/controls",
            "_model_module_version": "1.5.0",
            "_model_name": "HBoxModel",
            "_view_count": null,
            "_view_module": "@jupyter-widgets/controls",
            "_view_module_version": "1.5.0",
            "_view_name": "HBoxView",
            "box_style": "",
            "children": [
              "IPY_MODEL_0e9a22d90199491ba38a8ccff88e8f86",
              "IPY_MODEL_07de2cc32cf543e39a0acf746380d969",
              "IPY_MODEL_7968c3366f574e749f43275153310d8a"
            ],
            "layout": "IPY_MODEL_7d436516bced4a1fab18f64d046c40f0"
          }
        },
        "0e9a22d90199491ba38a8ccff88e8f86": {
          "model_module": "@jupyter-widgets/controls",
          "model_name": "HTMLModel",
          "model_module_version": "1.5.0",
          "state": {
            "_dom_classes": [],
            "_model_module": "@jupyter-widgets/controls",
            "_model_module_version": "1.5.0",
            "_model_name": "HTMLModel",
            "_view_count": null,
            "_view_module": "@jupyter-widgets/controls",
            "_view_module_version": "1.5.0",
            "_view_name": "HTMLView",
            "description": "",
            "description_tooltip": null,
            "layout": "IPY_MODEL_d4202fdfb2e64e3f9a2a0976a62b3b5f",
            "placeholder": "​",
            "style": "IPY_MODEL_2f0c32f3fdd34fe095077c12244a9bdb",
            "value": "model.safetensors.index.json: 100%"
          }
        },
        "07de2cc32cf543e39a0acf746380d969": {
          "model_module": "@jupyter-widgets/controls",
          "model_name": "FloatProgressModel",
          "model_module_version": "1.5.0",
          "state": {
            "_dom_classes": [],
            "_model_module": "@jupyter-widgets/controls",
            "_model_module_version": "1.5.0",
            "_model_name": "FloatProgressModel",
            "_view_count": null,
            "_view_module": "@jupyter-widgets/controls",
            "_view_module_version": "1.5.0",
            "_view_name": "ProgressView",
            "bar_style": "success",
            "description": "",
            "description_tooltip": null,
            "layout": "IPY_MODEL_85924ab725d04fdb987a2682491068a4",
            "max": 25125,
            "min": 0,
            "orientation": "horizontal",
            "style": "IPY_MODEL_16eec0cd317d4d75a5bbbd52a0c574e1",
            "value": 25125
          }
        },
        "7968c3366f574e749f43275153310d8a": {
          "model_module": "@jupyter-widgets/controls",
          "model_name": "HTMLModel",
          "model_module_version": "1.5.0",
          "state": {
            "_dom_classes": [],
            "_model_module": "@jupyter-widgets/controls",
            "_model_module_version": "1.5.0",
            "_model_name": "HTMLModel",
            "_view_count": null,
            "_view_module": "@jupyter-widgets/controls",
            "_view_module_version": "1.5.0",
            "_view_name": "HTMLView",
            "description": "",
            "description_tooltip": null,
            "layout": "IPY_MODEL_86645d892294401480eba37956d9e5ff",
            "placeholder": "​",
            "style": "IPY_MODEL_d7f8436aee8c4c77bfee0e5e5735f7ea",
            "value": " 25.1k/25.1k [00:00&lt;00:00, 2.06MB/s]"
          }
        },
        "7d436516bced4a1fab18f64d046c40f0": {
          "model_module": "@jupyter-widgets/base",
          "model_name": "LayoutModel",
          "model_module_version": "1.2.0",
          "state": {
            "_model_module": "@jupyter-widgets/base",
            "_model_module_version": "1.2.0",
            "_model_name": "LayoutModel",
            "_view_count": null,
            "_view_module": "@jupyter-widgets/base",
            "_view_module_version": "1.2.0",
            "_view_name": "LayoutView",
            "align_content": null,
            "align_items": null,
            "align_self": null,
            "border": null,
            "bottom": null,
            "display": null,
            "flex": null,
            "flex_flow": null,
            "grid_area": null,
            "grid_auto_columns": null,
            "grid_auto_flow": null,
            "grid_auto_rows": null,
            "grid_column": null,
            "grid_gap": null,
            "grid_row": null,
            "grid_template_areas": null,
            "grid_template_columns": null,
            "grid_template_rows": null,
            "height": null,
            "justify_content": null,
            "justify_items": null,
            "left": null,
            "margin": null,
            "max_height": null,
            "max_width": null,
            "min_height": null,
            "min_width": null,
            "object_fit": null,
            "object_position": null,
            "order": null,
            "overflow": null,
            "overflow_x": null,
            "overflow_y": null,
            "padding": null,
            "right": null,
            "top": null,
            "visibility": null,
            "width": null
          }
        },
        "d4202fdfb2e64e3f9a2a0976a62b3b5f": {
          "model_module": "@jupyter-widgets/base",
          "model_name": "LayoutModel",
          "model_module_version": "1.2.0",
          "state": {
            "_model_module": "@jupyter-widgets/base",
            "_model_module_version": "1.2.0",
            "_model_name": "LayoutModel",
            "_view_count": null,
            "_view_module": "@jupyter-widgets/base",
            "_view_module_version": "1.2.0",
            "_view_name": "LayoutView",
            "align_content": null,
            "align_items": null,
            "align_self": null,
            "border": null,
            "bottom": null,
            "display": null,
            "flex": null,
            "flex_flow": null,
            "grid_area": null,
            "grid_auto_columns": null,
            "grid_auto_flow": null,
            "grid_auto_rows": null,
            "grid_column": null,
            "grid_gap": null,
            "grid_row": null,
            "grid_template_areas": null,
            "grid_template_columns": null,
            "grid_template_rows": null,
            "height": null,
            "justify_content": null,
            "justify_items": null,
            "left": null,
            "margin": null,
            "max_height": null,
            "max_width": null,
            "min_height": null,
            "min_width": null,
            "object_fit": null,
            "object_position": null,
            "order": null,
            "overflow": null,
            "overflow_x": null,
            "overflow_y": null,
            "padding": null,
            "right": null,
            "top": null,
            "visibility": null,
            "width": null
          }
        },
        "2f0c32f3fdd34fe095077c12244a9bdb": {
          "model_module": "@jupyter-widgets/controls",
          "model_name": "DescriptionStyleModel",
          "model_module_version": "1.5.0",
          "state": {
            "_model_module": "@jupyter-widgets/controls",
            "_model_module_version": "1.5.0",
            "_model_name": "DescriptionStyleModel",
            "_view_count": null,
            "_view_module": "@jupyter-widgets/base",
            "_view_module_version": "1.2.0",
            "_view_name": "StyleView",
            "description_width": ""
          }
        },
        "85924ab725d04fdb987a2682491068a4": {
          "model_module": "@jupyter-widgets/base",
          "model_name": "LayoutModel",
          "model_module_version": "1.2.0",
          "state": {
            "_model_module": "@jupyter-widgets/base",
            "_model_module_version": "1.2.0",
            "_model_name": "LayoutModel",
            "_view_count": null,
            "_view_module": "@jupyter-widgets/base",
            "_view_module_version": "1.2.0",
            "_view_name": "LayoutView",
            "align_content": null,
            "align_items": null,
            "align_self": null,
            "border": null,
            "bottom": null,
            "display": null,
            "flex": null,
            "flex_flow": null,
            "grid_area": null,
            "grid_auto_columns": null,
            "grid_auto_flow": null,
            "grid_auto_rows": null,
            "grid_column": null,
            "grid_gap": null,
            "grid_row": null,
            "grid_template_areas": null,
            "grid_template_columns": null,
            "grid_template_rows": null,
            "height": null,
            "justify_content": null,
            "justify_items": null,
            "left": null,
            "margin": null,
            "max_height": null,
            "max_width": null,
            "min_height": null,
            "min_width": null,
            "object_fit": null,
            "object_position": null,
            "order": null,
            "overflow": null,
            "overflow_x": null,
            "overflow_y": null,
            "padding": null,
            "right": null,
            "top": null,
            "visibility": null,
            "width": null
          }
        },
        "16eec0cd317d4d75a5bbbd52a0c574e1": {
          "model_module": "@jupyter-widgets/controls",
          "model_name": "ProgressStyleModel",
          "model_module_version": "1.5.0",
          "state": {
            "_model_module": "@jupyter-widgets/controls",
            "_model_module_version": "1.5.0",
            "_model_name": "ProgressStyleModel",
            "_view_count": null,
            "_view_module": "@jupyter-widgets/base",
            "_view_module_version": "1.2.0",
            "_view_name": "StyleView",
            "bar_color": null,
            "description_width": ""
          }
        },
        "86645d892294401480eba37956d9e5ff": {
          "model_module": "@jupyter-widgets/base",
          "model_name": "LayoutModel",
          "model_module_version": "1.2.0",
          "state": {
            "_model_module": "@jupyter-widgets/base",
            "_model_module_version": "1.2.0",
            "_model_name": "LayoutModel",
            "_view_count": null,
            "_view_module": "@jupyter-widgets/base",
            "_view_module_version": "1.2.0",
            "_view_name": "LayoutView",
            "align_content": null,
            "align_items": null,
            "align_self": null,
            "border": null,
            "bottom": null,
            "display": null,
            "flex": null,
            "flex_flow": null,
            "grid_area": null,
            "grid_auto_columns": null,
            "grid_auto_flow": null,
            "grid_auto_rows": null,
            "grid_column": null,
            "grid_gap": null,
            "grid_row": null,
            "grid_template_areas": null,
            "grid_template_columns": null,
            "grid_template_rows": null,
            "height": null,
            "justify_content": null,
            "justify_items": null,
            "left": null,
            "margin": null,
            "max_height": null,
            "max_width": null,
            "min_height": null,
            "min_width": null,
            "object_fit": null,
            "object_position": null,
            "order": null,
            "overflow": null,
            "overflow_x": null,
            "overflow_y": null,
            "padding": null,
            "right": null,
            "top": null,
            "visibility": null,
            "width": null
          }
        },
        "d7f8436aee8c4c77bfee0e5e5735f7ea": {
          "model_module": "@jupyter-widgets/controls",
          "model_name": "DescriptionStyleModel",
          "model_module_version": "1.5.0",
          "state": {
            "_model_module": "@jupyter-widgets/controls",
            "_model_module_version": "1.5.0",
            "_model_name": "DescriptionStyleModel",
            "_view_count": null,
            "_view_module": "@jupyter-widgets/base",
            "_view_module_version": "1.2.0",
            "_view_name": "StyleView",
            "description_width": ""
          }
        },
        "ba553e6b5d5d4497bb3b6fb3f1123f6d": {
          "model_module": "@jupyter-widgets/controls",
          "model_name": "HBoxModel",
          "model_module_version": "1.5.0",
          "state": {
            "_dom_classes": [],
            "_model_module": "@jupyter-widgets/controls",
            "_model_module_version": "1.5.0",
            "_model_name": "HBoxModel",
            "_view_count": null,
            "_view_module": "@jupyter-widgets/controls",
            "_view_module_version": "1.5.0",
            "_view_name": "HBoxView",
            "box_style": "",
            "children": [
              "IPY_MODEL_ed86cac47ed14d8ba6691b4f51b3108f",
              "IPY_MODEL_afa6cba46ddf451ea0aaea2c24115e65",
              "IPY_MODEL_2e7959bdb9324c6aaaf92d476901f700"
            ],
            "layout": "IPY_MODEL_598bae271fc646d0b9db4f2042fdcdf3"
          }
        },
        "ed86cac47ed14d8ba6691b4f51b3108f": {
          "model_module": "@jupyter-widgets/controls",
          "model_name": "HTMLModel",
          "model_module_version": "1.5.0",
          "state": {
            "_dom_classes": [],
            "_model_module": "@jupyter-widgets/controls",
            "_model_module_version": "1.5.0",
            "_model_name": "HTMLModel",
            "_view_count": null,
            "_view_module": "@jupyter-widgets/controls",
            "_view_module_version": "1.5.0",
            "_view_name": "HTMLView",
            "description": "",
            "description_tooltip": null,
            "layout": "IPY_MODEL_0c685d522a684d43bac14e87d5884fc6",
            "placeholder": "​",
            "style": "IPY_MODEL_d4528e10926d479188f33ab58409782f",
            "value": "Downloading shards: 100%"
          }
        },
        "afa6cba46ddf451ea0aaea2c24115e65": {
          "model_module": "@jupyter-widgets/controls",
          "model_name": "FloatProgressModel",
          "model_module_version": "1.5.0",
          "state": {
            "_dom_classes": [],
            "_model_module": "@jupyter-widgets/controls",
            "_model_module_version": "1.5.0",
            "_model_name": "FloatProgressModel",
            "_view_count": null,
            "_view_module": "@jupyter-widgets/controls",
            "_view_module_version": "1.5.0",
            "_view_name": "ProgressView",
            "bar_style": "success",
            "description": "",
            "description_tooltip": null,
            "layout": "IPY_MODEL_90d6a2134fff4601ae1cdd501414c437",
            "max": 3,
            "min": 0,
            "orientation": "horizontal",
            "style": "IPY_MODEL_4b63a96423c741deb235df761bc2f5ee",
            "value": 3
          }
        },
        "2e7959bdb9324c6aaaf92d476901f700": {
          "model_module": "@jupyter-widgets/controls",
          "model_name": "HTMLModel",
          "model_module_version": "1.5.0",
          "state": {
            "_dom_classes": [],
            "_model_module": "@jupyter-widgets/controls",
            "_model_module_version": "1.5.0",
            "_model_name": "HTMLModel",
            "_view_count": null,
            "_view_module": "@jupyter-widgets/controls",
            "_view_module_version": "1.5.0",
            "_view_name": "HTMLView",
            "description": "",
            "description_tooltip": null,
            "layout": "IPY_MODEL_2791e7f7c7724fe7a0fa584c19d93ad6",
            "placeholder": "​",
            "style": "IPY_MODEL_d54a0ddd4716493dad450ad28894e72c",
            "value": " 3/3 [00:46&lt;00:00, 14.71s/it]"
          }
        },
        "598bae271fc646d0b9db4f2042fdcdf3": {
          "model_module": "@jupyter-widgets/base",
          "model_name": "LayoutModel",
          "model_module_version": "1.2.0",
          "state": {
            "_model_module": "@jupyter-widgets/base",
            "_model_module_version": "1.2.0",
            "_model_name": "LayoutModel",
            "_view_count": null,
            "_view_module": "@jupyter-widgets/base",
            "_view_module_version": "1.2.0",
            "_view_name": "LayoutView",
            "align_content": null,
            "align_items": null,
            "align_self": null,
            "border": null,
            "bottom": null,
            "display": null,
            "flex": null,
            "flex_flow": null,
            "grid_area": null,
            "grid_auto_columns": null,
            "grid_auto_flow": null,
            "grid_auto_rows": null,
            "grid_column": null,
            "grid_gap": null,
            "grid_row": null,
            "grid_template_areas": null,
            "grid_template_columns": null,
            "grid_template_rows": null,
            "height": null,
            "justify_content": null,
            "justify_items": null,
            "left": null,
            "margin": null,
            "max_height": null,
            "max_width": null,
            "min_height": null,
            "min_width": null,
            "object_fit": null,
            "object_position": null,
            "order": null,
            "overflow": null,
            "overflow_x": null,
            "overflow_y": null,
            "padding": null,
            "right": null,
            "top": null,
            "visibility": null,
            "width": null
          }
        },
        "0c685d522a684d43bac14e87d5884fc6": {
          "model_module": "@jupyter-widgets/base",
          "model_name": "LayoutModel",
          "model_module_version": "1.2.0",
          "state": {
            "_model_module": "@jupyter-widgets/base",
            "_model_module_version": "1.2.0",
            "_model_name": "LayoutModel",
            "_view_count": null,
            "_view_module": "@jupyter-widgets/base",
            "_view_module_version": "1.2.0",
            "_view_name": "LayoutView",
            "align_content": null,
            "align_items": null,
            "align_self": null,
            "border": null,
            "bottom": null,
            "display": null,
            "flex": null,
            "flex_flow": null,
            "grid_area": null,
            "grid_auto_columns": null,
            "grid_auto_flow": null,
            "grid_auto_rows": null,
            "grid_column": null,
            "grid_gap": null,
            "grid_row": null,
            "grid_template_areas": null,
            "grid_template_columns": null,
            "grid_template_rows": null,
            "height": null,
            "justify_content": null,
            "justify_items": null,
            "left": null,
            "margin": null,
            "max_height": null,
            "max_width": null,
            "min_height": null,
            "min_width": null,
            "object_fit": null,
            "object_position": null,
            "order": null,
            "overflow": null,
            "overflow_x": null,
            "overflow_y": null,
            "padding": null,
            "right": null,
            "top": null,
            "visibility": null,
            "width": null
          }
        },
        "d4528e10926d479188f33ab58409782f": {
          "model_module": "@jupyter-widgets/controls",
          "model_name": "DescriptionStyleModel",
          "model_module_version": "1.5.0",
          "state": {
            "_model_module": "@jupyter-widgets/controls",
            "_model_module_version": "1.5.0",
            "_model_name": "DescriptionStyleModel",
            "_view_count": null,
            "_view_module": "@jupyter-widgets/base",
            "_view_module_version": "1.2.0",
            "_view_name": "StyleView",
            "description_width": ""
          }
        },
        "90d6a2134fff4601ae1cdd501414c437": {
          "model_module": "@jupyter-widgets/base",
          "model_name": "LayoutModel",
          "model_module_version": "1.2.0",
          "state": {
            "_model_module": "@jupyter-widgets/base",
            "_model_module_version": "1.2.0",
            "_model_name": "LayoutModel",
            "_view_count": null,
            "_view_module": "@jupyter-widgets/base",
            "_view_module_version": "1.2.0",
            "_view_name": "LayoutView",
            "align_content": null,
            "align_items": null,
            "align_self": null,
            "border": null,
            "bottom": null,
            "display": null,
            "flex": null,
            "flex_flow": null,
            "grid_area": null,
            "grid_auto_columns": null,
            "grid_auto_flow": null,
            "grid_auto_rows": null,
            "grid_column": null,
            "grid_gap": null,
            "grid_row": null,
            "grid_template_areas": null,
            "grid_template_columns": null,
            "grid_template_rows": null,
            "height": null,
            "justify_content": null,
            "justify_items": null,
            "left": null,
            "margin": null,
            "max_height": null,
            "max_width": null,
            "min_height": null,
            "min_width": null,
            "object_fit": null,
            "object_position": null,
            "order": null,
            "overflow": null,
            "overflow_x": null,
            "overflow_y": null,
            "padding": null,
            "right": null,
            "top": null,
            "visibility": null,
            "width": null
          }
        },
        "4b63a96423c741deb235df761bc2f5ee": {
          "model_module": "@jupyter-widgets/controls",
          "model_name": "ProgressStyleModel",
          "model_module_version": "1.5.0",
          "state": {
            "_model_module": "@jupyter-widgets/controls",
            "_model_module_version": "1.5.0",
            "_model_name": "ProgressStyleModel",
            "_view_count": null,
            "_view_module": "@jupyter-widgets/base",
            "_view_module_version": "1.2.0",
            "_view_name": "StyleView",
            "bar_color": null,
            "description_width": ""
          }
        },
        "2791e7f7c7724fe7a0fa584c19d93ad6": {
          "model_module": "@jupyter-widgets/base",
          "model_name": "LayoutModel",
          "model_module_version": "1.2.0",
          "state": {
            "_model_module": "@jupyter-widgets/base",
            "_model_module_version": "1.2.0",
            "_model_name": "LayoutModel",
            "_view_count": null,
            "_view_module": "@jupyter-widgets/base",
            "_view_module_version": "1.2.0",
            "_view_name": "LayoutView",
            "align_content": null,
            "align_items": null,
            "align_self": null,
            "border": null,
            "bottom": null,
            "display": null,
            "flex": null,
            "flex_flow": null,
            "grid_area": null,
            "grid_auto_columns": null,
            "grid_auto_flow": null,
            "grid_auto_rows": null,
            "grid_column": null,
            "grid_gap": null,
            "grid_row": null,
            "grid_template_areas": null,
            "grid_template_columns": null,
            "grid_template_rows": null,
            "height": null,
            "justify_content": null,
            "justify_items": null,
            "left": null,
            "margin": null,
            "max_height": null,
            "max_width": null,
            "min_height": null,
            "min_width": null,
            "object_fit": null,
            "object_position": null,
            "order": null,
            "overflow": null,
            "overflow_x": null,
            "overflow_y": null,
            "padding": null,
            "right": null,
            "top": null,
            "visibility": null,
            "width": null
          }
        },
        "d54a0ddd4716493dad450ad28894e72c": {
          "model_module": "@jupyter-widgets/controls",
          "model_name": "DescriptionStyleModel",
          "model_module_version": "1.5.0",
          "state": {
            "_model_module": "@jupyter-widgets/controls",
            "_model_module_version": "1.5.0",
            "_model_name": "DescriptionStyleModel",
            "_view_count": null,
            "_view_module": "@jupyter-widgets/base",
            "_view_module_version": "1.2.0",
            "_view_name": "StyleView",
            "description_width": ""
          }
        },
        "47d780753d9c4a9482f83ba759163ce6": {
          "model_module": "@jupyter-widgets/controls",
          "model_name": "HBoxModel",
          "model_module_version": "1.5.0",
          "state": {
            "_dom_classes": [],
            "_model_module": "@jupyter-widgets/controls",
            "_model_module_version": "1.5.0",
            "_model_name": "HBoxModel",
            "_view_count": null,
            "_view_module": "@jupyter-widgets/controls",
            "_view_module_version": "1.5.0",
            "_view_name": "HBoxView",
            "box_style": "",
            "children": [
              "IPY_MODEL_b0a7353386094c66bb99d5837c12d60e",
              "IPY_MODEL_433c29aa389a44cfa333df2e32c96551",
              "IPY_MODEL_7e7fce8b1a1e4765b241baed5576f457"
            ],
            "layout": "IPY_MODEL_915ccc9ee2c14960af0d3ec18039e86d"
          }
        },
        "b0a7353386094c66bb99d5837c12d60e": {
          "model_module": "@jupyter-widgets/controls",
          "model_name": "HTMLModel",
          "model_module_version": "1.5.0",
          "state": {
            "_dom_classes": [],
            "_model_module": "@jupyter-widgets/controls",
            "_model_module_version": "1.5.0",
            "_model_name": "HTMLModel",
            "_view_count": null,
            "_view_module": "@jupyter-widgets/controls",
            "_view_module_version": "1.5.0",
            "_view_name": "HTMLView",
            "description": "",
            "description_tooltip": null,
            "layout": "IPY_MODEL_5ce50a149fef4981a93e0791426950a3",
            "placeholder": "​",
            "style": "IPY_MODEL_ce5a4fdaba7040aca3f14c46a60da1e5",
            "value": "model-00001-of-00003.safetensors: 100%"
          }
        },
        "433c29aa389a44cfa333df2e32c96551": {
          "model_module": "@jupyter-widgets/controls",
          "model_name": "FloatProgressModel",
          "model_module_version": "1.5.0",
          "state": {
            "_dom_classes": [],
            "_model_module": "@jupyter-widgets/controls",
            "_model_module_version": "1.5.0",
            "_model_name": "FloatProgressModel",
            "_view_count": null,
            "_view_module": "@jupyter-widgets/controls",
            "_view_module_version": "1.5.0",
            "_view_name": "ProgressView",
            "bar_style": "success",
            "description": "",
            "description_tooltip": null,
            "layout": "IPY_MODEL_f7fb745e73a84387a9ed869795f9b257",
            "max": 4943162336,
            "min": 0,
            "orientation": "horizontal",
            "style": "IPY_MODEL_b50f4921f5684f1ea985da6eece78645",
            "value": 4943162336
          }
        },
        "7e7fce8b1a1e4765b241baed5576f457": {
          "model_module": "@jupyter-widgets/controls",
          "model_name": "HTMLModel",
          "model_module_version": "1.5.0",
          "state": {
            "_dom_classes": [],
            "_model_module": "@jupyter-widgets/controls",
            "_model_module_version": "1.5.0",
            "_model_name": "HTMLModel",
            "_view_count": null,
            "_view_module": "@jupyter-widgets/controls",
            "_view_module_version": "1.5.0",
            "_view_name": "HTMLView",
            "description": "",
            "description_tooltip": null,
            "layout": "IPY_MODEL_fe078882822c4b8684a4d82eb1110ecb",
            "placeholder": "​",
            "style": "IPY_MODEL_9ad644cc7c664400aa9b18973be7ff4e",
            "value": " 4.94G/4.94G [00:17&lt;00:00, 375MB/s]"
          }
        },
        "915ccc9ee2c14960af0d3ec18039e86d": {
          "model_module": "@jupyter-widgets/base",
          "model_name": "LayoutModel",
          "model_module_version": "1.2.0",
          "state": {
            "_model_module": "@jupyter-widgets/base",
            "_model_module_version": "1.2.0",
            "_model_name": "LayoutModel",
            "_view_count": null,
            "_view_module": "@jupyter-widgets/base",
            "_view_module_version": "1.2.0",
            "_view_name": "LayoutView",
            "align_content": null,
            "align_items": null,
            "align_self": null,
            "border": null,
            "bottom": null,
            "display": null,
            "flex": null,
            "flex_flow": null,
            "grid_area": null,
            "grid_auto_columns": null,
            "grid_auto_flow": null,
            "grid_auto_rows": null,
            "grid_column": null,
            "grid_gap": null,
            "grid_row": null,
            "grid_template_areas": null,
            "grid_template_columns": null,
            "grid_template_rows": null,
            "height": null,
            "justify_content": null,
            "justify_items": null,
            "left": null,
            "margin": null,
            "max_height": null,
            "max_width": null,
            "min_height": null,
            "min_width": null,
            "object_fit": null,
            "object_position": null,
            "order": null,
            "overflow": null,
            "overflow_x": null,
            "overflow_y": null,
            "padding": null,
            "right": null,
            "top": null,
            "visibility": null,
            "width": null
          }
        },
        "5ce50a149fef4981a93e0791426950a3": {
          "model_module": "@jupyter-widgets/base",
          "model_name": "LayoutModel",
          "model_module_version": "1.2.0",
          "state": {
            "_model_module": "@jupyter-widgets/base",
            "_model_module_version": "1.2.0",
            "_model_name": "LayoutModel",
            "_view_count": null,
            "_view_module": "@jupyter-widgets/base",
            "_view_module_version": "1.2.0",
            "_view_name": "LayoutView",
            "align_content": null,
            "align_items": null,
            "align_self": null,
            "border": null,
            "bottom": null,
            "display": null,
            "flex": null,
            "flex_flow": null,
            "grid_area": null,
            "grid_auto_columns": null,
            "grid_auto_flow": null,
            "grid_auto_rows": null,
            "grid_column": null,
            "grid_gap": null,
            "grid_row": null,
            "grid_template_areas": null,
            "grid_template_columns": null,
            "grid_template_rows": null,
            "height": null,
            "justify_content": null,
            "justify_items": null,
            "left": null,
            "margin": null,
            "max_height": null,
            "max_width": null,
            "min_height": null,
            "min_width": null,
            "object_fit": null,
            "object_position": null,
            "order": null,
            "overflow": null,
            "overflow_x": null,
            "overflow_y": null,
            "padding": null,
            "right": null,
            "top": null,
            "visibility": null,
            "width": null
          }
        },
        "ce5a4fdaba7040aca3f14c46a60da1e5": {
          "model_module": "@jupyter-widgets/controls",
          "model_name": "DescriptionStyleModel",
          "model_module_version": "1.5.0",
          "state": {
            "_model_module": "@jupyter-widgets/controls",
            "_model_module_version": "1.5.0",
            "_model_name": "DescriptionStyleModel",
            "_view_count": null,
            "_view_module": "@jupyter-widgets/base",
            "_view_module_version": "1.2.0",
            "_view_name": "StyleView",
            "description_width": ""
          }
        },
        "f7fb745e73a84387a9ed869795f9b257": {
          "model_module": "@jupyter-widgets/base",
          "model_name": "LayoutModel",
          "model_module_version": "1.2.0",
          "state": {
            "_model_module": "@jupyter-widgets/base",
            "_model_module_version": "1.2.0",
            "_model_name": "LayoutModel",
            "_view_count": null,
            "_view_module": "@jupyter-widgets/base",
            "_view_module_version": "1.2.0",
            "_view_name": "LayoutView",
            "align_content": null,
            "align_items": null,
            "align_self": null,
            "border": null,
            "bottom": null,
            "display": null,
            "flex": null,
            "flex_flow": null,
            "grid_area": null,
            "grid_auto_columns": null,
            "grid_auto_flow": null,
            "grid_auto_rows": null,
            "grid_column": null,
            "grid_gap": null,
            "grid_row": null,
            "grid_template_areas": null,
            "grid_template_columns": null,
            "grid_template_rows": null,
            "height": null,
            "justify_content": null,
            "justify_items": null,
            "left": null,
            "margin": null,
            "max_height": null,
            "max_width": null,
            "min_height": null,
            "min_width": null,
            "object_fit": null,
            "object_position": null,
            "order": null,
            "overflow": null,
            "overflow_x": null,
            "overflow_y": null,
            "padding": null,
            "right": null,
            "top": null,
            "visibility": null,
            "width": null
          }
        },
        "b50f4921f5684f1ea985da6eece78645": {
          "model_module": "@jupyter-widgets/controls",
          "model_name": "ProgressStyleModel",
          "model_module_version": "1.5.0",
          "state": {
            "_model_module": "@jupyter-widgets/controls",
            "_model_module_version": "1.5.0",
            "_model_name": "ProgressStyleModel",
            "_view_count": null,
            "_view_module": "@jupyter-widgets/base",
            "_view_module_version": "1.2.0",
            "_view_name": "StyleView",
            "bar_color": null,
            "description_width": ""
          }
        },
        "fe078882822c4b8684a4d82eb1110ecb": {
          "model_module": "@jupyter-widgets/base",
          "model_name": "LayoutModel",
          "model_module_version": "1.2.0",
          "state": {
            "_model_module": "@jupyter-widgets/base",
            "_model_module_version": "1.2.0",
            "_model_name": "LayoutModel",
            "_view_count": null,
            "_view_module": "@jupyter-widgets/base",
            "_view_module_version": "1.2.0",
            "_view_name": "LayoutView",
            "align_content": null,
            "align_items": null,
            "align_self": null,
            "border": null,
            "bottom": null,
            "display": null,
            "flex": null,
            "flex_flow": null,
            "grid_area": null,
            "grid_auto_columns": null,
            "grid_auto_flow": null,
            "grid_auto_rows": null,
            "grid_column": null,
            "grid_gap": null,
            "grid_row": null,
            "grid_template_areas": null,
            "grid_template_columns": null,
            "grid_template_rows": null,
            "height": null,
            "justify_content": null,
            "justify_items": null,
            "left": null,
            "margin": null,
            "max_height": null,
            "max_width": null,
            "min_height": null,
            "min_width": null,
            "object_fit": null,
            "object_position": null,
            "order": null,
            "overflow": null,
            "overflow_x": null,
            "overflow_y": null,
            "padding": null,
            "right": null,
            "top": null,
            "visibility": null,
            "width": null
          }
        },
        "9ad644cc7c664400aa9b18973be7ff4e": {
          "model_module": "@jupyter-widgets/controls",
          "model_name": "DescriptionStyleModel",
          "model_module_version": "1.5.0",
          "state": {
            "_model_module": "@jupyter-widgets/controls",
            "_model_module_version": "1.5.0",
            "_model_name": "DescriptionStyleModel",
            "_view_count": null,
            "_view_module": "@jupyter-widgets/base",
            "_view_module_version": "1.2.0",
            "_view_name": "StyleView",
            "description_width": ""
          }
        },
        "4a39f07e8efd4e04823e823888c6eb61": {
          "model_module": "@jupyter-widgets/controls",
          "model_name": "HBoxModel",
          "model_module_version": "1.5.0",
          "state": {
            "_dom_classes": [],
            "_model_module": "@jupyter-widgets/controls",
            "_model_module_version": "1.5.0",
            "_model_name": "HBoxModel",
            "_view_count": null,
            "_view_module": "@jupyter-widgets/controls",
            "_view_module_version": "1.5.0",
            "_view_name": "HBoxView",
            "box_style": "",
            "children": [
              "IPY_MODEL_2cf246acf98544049586b00920ec678f",
              "IPY_MODEL_f2e92aa6485248d28817ca27f73984f8",
              "IPY_MODEL_e00ca0a476b54b06973c3c43bc652e48"
            ],
            "layout": "IPY_MODEL_e9b5d65f1075435fa02ac335ae620904"
          }
        },
        "2cf246acf98544049586b00920ec678f": {
          "model_module": "@jupyter-widgets/controls",
          "model_name": "HTMLModel",
          "model_module_version": "1.5.0",
          "state": {
            "_dom_classes": [],
            "_model_module": "@jupyter-widgets/controls",
            "_model_module_version": "1.5.0",
            "_model_name": "HTMLModel",
            "_view_count": null,
            "_view_module": "@jupyter-widgets/controls",
            "_view_module_version": "1.5.0",
            "_view_name": "HTMLView",
            "description": "",
            "description_tooltip": null,
            "layout": "IPY_MODEL_0087d46ca6fc42b8bdea19c71a1440b3",
            "placeholder": "​",
            "style": "IPY_MODEL_28315bf93aab4b17856452fc2ad0b350",
            "value": "model-00002-of-00003.safetensors: 100%"
          }
        },
        "f2e92aa6485248d28817ca27f73984f8": {
          "model_module": "@jupyter-widgets/controls",
          "model_name": "FloatProgressModel",
          "model_module_version": "1.5.0",
          "state": {
            "_dom_classes": [],
            "_model_module": "@jupyter-widgets/controls",
            "_model_module_version": "1.5.0",
            "_model_name": "FloatProgressModel",
            "_view_count": null,
            "_view_module": "@jupyter-widgets/controls",
            "_view_module_version": "1.5.0",
            "_view_name": "ProgressView",
            "bar_style": "success",
            "description": "",
            "description_tooltip": null,
            "layout": "IPY_MODEL_f534b95eed854929932f4674af83f8e0",
            "max": 4999819336,
            "min": 0,
            "orientation": "horizontal",
            "style": "IPY_MODEL_cfae4e657b55471386f56ad30537fbee",
            "value": 4999819336
          }
        },
        "e00ca0a476b54b06973c3c43bc652e48": {
          "model_module": "@jupyter-widgets/controls",
          "model_name": "HTMLModel",
          "model_module_version": "1.5.0",
          "state": {
            "_dom_classes": [],
            "_model_module": "@jupyter-widgets/controls",
            "_model_module_version": "1.5.0",
            "_model_name": "HTMLModel",
            "_view_count": null,
            "_view_module": "@jupyter-widgets/controls",
            "_view_module_version": "1.5.0",
            "_view_name": "HTMLView",
            "description": "",
            "description_tooltip": null,
            "layout": "IPY_MODEL_36bd64c444f645b4991392dcbe4a4e47",
            "placeholder": "​",
            "style": "IPY_MODEL_8802c8fb69f544358f35601bbea8f865",
            "value": " 5.00G/5.00G [00:15&lt;00:00, 391MB/s]"
          }
        },
        "e9b5d65f1075435fa02ac335ae620904": {
          "model_module": "@jupyter-widgets/base",
          "model_name": "LayoutModel",
          "model_module_version": "1.2.0",
          "state": {
            "_model_module": "@jupyter-widgets/base",
            "_model_module_version": "1.2.0",
            "_model_name": "LayoutModel",
            "_view_count": null,
            "_view_module": "@jupyter-widgets/base",
            "_view_module_version": "1.2.0",
            "_view_name": "LayoutView",
            "align_content": null,
            "align_items": null,
            "align_self": null,
            "border": null,
            "bottom": null,
            "display": null,
            "flex": null,
            "flex_flow": null,
            "grid_area": null,
            "grid_auto_columns": null,
            "grid_auto_flow": null,
            "grid_auto_rows": null,
            "grid_column": null,
            "grid_gap": null,
            "grid_row": null,
            "grid_template_areas": null,
            "grid_template_columns": null,
            "grid_template_rows": null,
            "height": null,
            "justify_content": null,
            "justify_items": null,
            "left": null,
            "margin": null,
            "max_height": null,
            "max_width": null,
            "min_height": null,
            "min_width": null,
            "object_fit": null,
            "object_position": null,
            "order": null,
            "overflow": null,
            "overflow_x": null,
            "overflow_y": null,
            "padding": null,
            "right": null,
            "top": null,
            "visibility": null,
            "width": null
          }
        },
        "0087d46ca6fc42b8bdea19c71a1440b3": {
          "model_module": "@jupyter-widgets/base",
          "model_name": "LayoutModel",
          "model_module_version": "1.2.0",
          "state": {
            "_model_module": "@jupyter-widgets/base",
            "_model_module_version": "1.2.0",
            "_model_name": "LayoutModel",
            "_view_count": null,
            "_view_module": "@jupyter-widgets/base",
            "_view_module_version": "1.2.0",
            "_view_name": "LayoutView",
            "align_content": null,
            "align_items": null,
            "align_self": null,
            "border": null,
            "bottom": null,
            "display": null,
            "flex": null,
            "flex_flow": null,
            "grid_area": null,
            "grid_auto_columns": null,
            "grid_auto_flow": null,
            "grid_auto_rows": null,
            "grid_column": null,
            "grid_gap": null,
            "grid_row": null,
            "grid_template_areas": null,
            "grid_template_columns": null,
            "grid_template_rows": null,
            "height": null,
            "justify_content": null,
            "justify_items": null,
            "left": null,
            "margin": null,
            "max_height": null,
            "max_width": null,
            "min_height": null,
            "min_width": null,
            "object_fit": null,
            "object_position": null,
            "order": null,
            "overflow": null,
            "overflow_x": null,
            "overflow_y": null,
            "padding": null,
            "right": null,
            "top": null,
            "visibility": null,
            "width": null
          }
        },
        "28315bf93aab4b17856452fc2ad0b350": {
          "model_module": "@jupyter-widgets/controls",
          "model_name": "DescriptionStyleModel",
          "model_module_version": "1.5.0",
          "state": {
            "_model_module": "@jupyter-widgets/controls",
            "_model_module_version": "1.5.0",
            "_model_name": "DescriptionStyleModel",
            "_view_count": null,
            "_view_module": "@jupyter-widgets/base",
            "_view_module_version": "1.2.0",
            "_view_name": "StyleView",
            "description_width": ""
          }
        },
        "f534b95eed854929932f4674af83f8e0": {
          "model_module": "@jupyter-widgets/base",
          "model_name": "LayoutModel",
          "model_module_version": "1.2.0",
          "state": {
            "_model_module": "@jupyter-widgets/base",
            "_model_module_version": "1.2.0",
            "_model_name": "LayoutModel",
            "_view_count": null,
            "_view_module": "@jupyter-widgets/base",
            "_view_module_version": "1.2.0",
            "_view_name": "LayoutView",
            "align_content": null,
            "align_items": null,
            "align_self": null,
            "border": null,
            "bottom": null,
            "display": null,
            "flex": null,
            "flex_flow": null,
            "grid_area": null,
            "grid_auto_columns": null,
            "grid_auto_flow": null,
            "grid_auto_rows": null,
            "grid_column": null,
            "grid_gap": null,
            "grid_row": null,
            "grid_template_areas": null,
            "grid_template_columns": null,
            "grid_template_rows": null,
            "height": null,
            "justify_content": null,
            "justify_items": null,
            "left": null,
            "margin": null,
            "max_height": null,
            "max_width": null,
            "min_height": null,
            "min_width": null,
            "object_fit": null,
            "object_position": null,
            "order": null,
            "overflow": null,
            "overflow_x": null,
            "overflow_y": null,
            "padding": null,
            "right": null,
            "top": null,
            "visibility": null,
            "width": null
          }
        },
        "cfae4e657b55471386f56ad30537fbee": {
          "model_module": "@jupyter-widgets/controls",
          "model_name": "ProgressStyleModel",
          "model_module_version": "1.5.0",
          "state": {
            "_model_module": "@jupyter-widgets/controls",
            "_model_module_version": "1.5.0",
            "_model_name": "ProgressStyleModel",
            "_view_count": null,
            "_view_module": "@jupyter-widgets/base",
            "_view_module_version": "1.2.0",
            "_view_name": "StyleView",
            "bar_color": null,
            "description_width": ""
          }
        },
        "36bd64c444f645b4991392dcbe4a4e47": {
          "model_module": "@jupyter-widgets/base",
          "model_name": "LayoutModel",
          "model_module_version": "1.2.0",
          "state": {
            "_model_module": "@jupyter-widgets/base",
            "_model_module_version": "1.2.0",
            "_model_name": "LayoutModel",
            "_view_count": null,
            "_view_module": "@jupyter-widgets/base",
            "_view_module_version": "1.2.0",
            "_view_name": "LayoutView",
            "align_content": null,
            "align_items": null,
            "align_self": null,
            "border": null,
            "bottom": null,
            "display": null,
            "flex": null,
            "flex_flow": null,
            "grid_area": null,
            "grid_auto_columns": null,
            "grid_auto_flow": null,
            "grid_auto_rows": null,
            "grid_column": null,
            "grid_gap": null,
            "grid_row": null,
            "grid_template_areas": null,
            "grid_template_columns": null,
            "grid_template_rows": null,
            "height": null,
            "justify_content": null,
            "justify_items": null,
            "left": null,
            "margin": null,
            "max_height": null,
            "max_width": null,
            "min_height": null,
            "min_width": null,
            "object_fit": null,
            "object_position": null,
            "order": null,
            "overflow": null,
            "overflow_x": null,
            "overflow_y": null,
            "padding": null,
            "right": null,
            "top": null,
            "visibility": null,
            "width": null
          }
        },
        "8802c8fb69f544358f35601bbea8f865": {
          "model_module": "@jupyter-widgets/controls",
          "model_name": "DescriptionStyleModel",
          "model_module_version": "1.5.0",
          "state": {
            "_model_module": "@jupyter-widgets/controls",
            "_model_module_version": "1.5.0",
            "_model_name": "DescriptionStyleModel",
            "_view_count": null,
            "_view_module": "@jupyter-widgets/base",
            "_view_module_version": "1.2.0",
            "_view_name": "StyleView",
            "description_width": ""
          }
        },
        "843942ed24724294b9d8849426b7aeef": {
          "model_module": "@jupyter-widgets/controls",
          "model_name": "HBoxModel",
          "model_module_version": "1.5.0",
          "state": {
            "_dom_classes": [],
            "_model_module": "@jupyter-widgets/controls",
            "_model_module_version": "1.5.0",
            "_model_name": "HBoxModel",
            "_view_count": null,
            "_view_module": "@jupyter-widgets/controls",
            "_view_module_version": "1.5.0",
            "_view_name": "HBoxView",
            "box_style": "",
            "children": [
              "IPY_MODEL_b182bcd904994d919b4bbdae5b273236",
              "IPY_MODEL_c6ca50c6ef7848b0a0fe9a06aaeb7e6b",
              "IPY_MODEL_d95d8f125aab49c5b7a66702ce97c34a"
            ],
            "layout": "IPY_MODEL_f6892e7af5494c789b38ea26be3e22ff"
          }
        },
        "b182bcd904994d919b4bbdae5b273236": {
          "model_module": "@jupyter-widgets/controls",
          "model_name": "HTMLModel",
          "model_module_version": "1.5.0",
          "state": {
            "_dom_classes": [],
            "_model_module": "@jupyter-widgets/controls",
            "_model_module_version": "1.5.0",
            "_model_name": "HTMLModel",
            "_view_count": null,
            "_view_module": "@jupyter-widgets/controls",
            "_view_module_version": "1.5.0",
            "_view_name": "HTMLView",
            "description": "",
            "description_tooltip": null,
            "layout": "IPY_MODEL_4096466609054f40a3cf2d121de5635d",
            "placeholder": "​",
            "style": "IPY_MODEL_12f169c75c444301adee29d66e056c3f",
            "value": "model-00003-of-00003.safetensors: 100%"
          }
        },
        "c6ca50c6ef7848b0a0fe9a06aaeb7e6b": {
          "model_module": "@jupyter-widgets/controls",
          "model_name": "FloatProgressModel",
          "model_module_version": "1.5.0",
          "state": {
            "_dom_classes": [],
            "_model_module": "@jupyter-widgets/controls",
            "_model_module_version": "1.5.0",
            "_model_name": "FloatProgressModel",
            "_view_count": null,
            "_view_module": "@jupyter-widgets/controls",
            "_view_module_version": "1.5.0",
            "_view_name": "ProgressView",
            "bar_style": "success",
            "description": "",
            "description_tooltip": null,
            "layout": "IPY_MODEL_8650aedb83534ab187822222e7aa8431",
            "max": 4540516344,
            "min": 0,
            "orientation": "horizontal",
            "style": "IPY_MODEL_9602dcc85bad4337ae4609e4d7b1e928",
            "value": 4540516344
          }
        },
        "d95d8f125aab49c5b7a66702ce97c34a": {
          "model_module": "@jupyter-widgets/controls",
          "model_name": "HTMLModel",
          "model_module_version": "1.5.0",
          "state": {
            "_dom_classes": [],
            "_model_module": "@jupyter-widgets/controls",
            "_model_module_version": "1.5.0",
            "_model_name": "HTMLModel",
            "_view_count": null,
            "_view_module": "@jupyter-widgets/controls",
            "_view_module_version": "1.5.0",
            "_view_name": "HTMLView",
            "description": "",
            "description_tooltip": null,
            "layout": "IPY_MODEL_92a8f8e9d0b94ddea5995f3582aec000",
            "placeholder": "​",
            "style": "IPY_MODEL_6ddf4eb2997946c0b58080bb814bccd1",
            "value": " 4.54G/4.54G [00:11&lt;00:00, 428MB/s]"
          }
        },
        "f6892e7af5494c789b38ea26be3e22ff": {
          "model_module": "@jupyter-widgets/base",
          "model_name": "LayoutModel",
          "model_module_version": "1.2.0",
          "state": {
            "_model_module": "@jupyter-widgets/base",
            "_model_module_version": "1.2.0",
            "_model_name": "LayoutModel",
            "_view_count": null,
            "_view_module": "@jupyter-widgets/base",
            "_view_module_version": "1.2.0",
            "_view_name": "LayoutView",
            "align_content": null,
            "align_items": null,
            "align_self": null,
            "border": null,
            "bottom": null,
            "display": null,
            "flex": null,
            "flex_flow": null,
            "grid_area": null,
            "grid_auto_columns": null,
            "grid_auto_flow": null,
            "grid_auto_rows": null,
            "grid_column": null,
            "grid_gap": null,
            "grid_row": null,
            "grid_template_areas": null,
            "grid_template_columns": null,
            "grid_template_rows": null,
            "height": null,
            "justify_content": null,
            "justify_items": null,
            "left": null,
            "margin": null,
            "max_height": null,
            "max_width": null,
            "min_height": null,
            "min_width": null,
            "object_fit": null,
            "object_position": null,
            "order": null,
            "overflow": null,
            "overflow_x": null,
            "overflow_y": null,
            "padding": null,
            "right": null,
            "top": null,
            "visibility": null,
            "width": null
          }
        },
        "4096466609054f40a3cf2d121de5635d": {
          "model_module": "@jupyter-widgets/base",
          "model_name": "LayoutModel",
          "model_module_version": "1.2.0",
          "state": {
            "_model_module": "@jupyter-widgets/base",
            "_model_module_version": "1.2.0",
            "_model_name": "LayoutModel",
            "_view_count": null,
            "_view_module": "@jupyter-widgets/base",
            "_view_module_version": "1.2.0",
            "_view_name": "LayoutView",
            "align_content": null,
            "align_items": null,
            "align_self": null,
            "border": null,
            "bottom": null,
            "display": null,
            "flex": null,
            "flex_flow": null,
            "grid_area": null,
            "grid_auto_columns": null,
            "grid_auto_flow": null,
            "grid_auto_rows": null,
            "grid_column": null,
            "grid_gap": null,
            "grid_row": null,
            "grid_template_areas": null,
            "grid_template_columns": null,
            "grid_template_rows": null,
            "height": null,
            "justify_content": null,
            "justify_items": null,
            "left": null,
            "margin": null,
            "max_height": null,
            "max_width": null,
            "min_height": null,
            "min_width": null,
            "object_fit": null,
            "object_position": null,
            "order": null,
            "overflow": null,
            "overflow_x": null,
            "overflow_y": null,
            "padding": null,
            "right": null,
            "top": null,
            "visibility": null,
            "width": null
          }
        },
        "12f169c75c444301adee29d66e056c3f": {
          "model_module": "@jupyter-widgets/controls",
          "model_name": "DescriptionStyleModel",
          "model_module_version": "1.5.0",
          "state": {
            "_model_module": "@jupyter-widgets/controls",
            "_model_module_version": "1.5.0",
            "_model_name": "DescriptionStyleModel",
            "_view_count": null,
            "_view_module": "@jupyter-widgets/base",
            "_view_module_version": "1.2.0",
            "_view_name": "StyleView",
            "description_width": ""
          }
        },
        "8650aedb83534ab187822222e7aa8431": {
          "model_module": "@jupyter-widgets/base",
          "model_name": "LayoutModel",
          "model_module_version": "1.2.0",
          "state": {
            "_model_module": "@jupyter-widgets/base",
            "_model_module_version": "1.2.0",
            "_model_name": "LayoutModel",
            "_view_count": null,
            "_view_module": "@jupyter-widgets/base",
            "_view_module_version": "1.2.0",
            "_view_name": "LayoutView",
            "align_content": null,
            "align_items": null,
            "align_self": null,
            "border": null,
            "bottom": null,
            "display": null,
            "flex": null,
            "flex_flow": null,
            "grid_area": null,
            "grid_auto_columns": null,
            "grid_auto_flow": null,
            "grid_auto_rows": null,
            "grid_column": null,
            "grid_gap": null,
            "grid_row": null,
            "grid_template_areas": null,
            "grid_template_columns": null,
            "grid_template_rows": null,
            "height": null,
            "justify_content": null,
            "justify_items": null,
            "left": null,
            "margin": null,
            "max_height": null,
            "max_width": null,
            "min_height": null,
            "min_width": null,
            "object_fit": null,
            "object_position": null,
            "order": null,
            "overflow": null,
            "overflow_x": null,
            "overflow_y": null,
            "padding": null,
            "right": null,
            "top": null,
            "visibility": null,
            "width": null
          }
        },
        "9602dcc85bad4337ae4609e4d7b1e928": {
          "model_module": "@jupyter-widgets/controls",
          "model_name": "ProgressStyleModel",
          "model_module_version": "1.5.0",
          "state": {
            "_model_module": "@jupyter-widgets/controls",
            "_model_module_version": "1.5.0",
            "_model_name": "ProgressStyleModel",
            "_view_count": null,
            "_view_module": "@jupyter-widgets/base",
            "_view_module_version": "1.2.0",
            "_view_name": "StyleView",
            "bar_color": null,
            "description_width": ""
          }
        },
        "92a8f8e9d0b94ddea5995f3582aec000": {
          "model_module": "@jupyter-widgets/base",
          "model_name": "LayoutModel",
          "model_module_version": "1.2.0",
          "state": {
            "_model_module": "@jupyter-widgets/base",
            "_model_module_version": "1.2.0",
            "_model_name": "LayoutModel",
            "_view_count": null,
            "_view_module": "@jupyter-widgets/base",
            "_view_module_version": "1.2.0",
            "_view_name": "LayoutView",
            "align_content": null,
            "align_items": null,
            "align_self": null,
            "border": null,
            "bottom": null,
            "display": null,
            "flex": null,
            "flex_flow": null,
            "grid_area": null,
            "grid_auto_columns": null,
            "grid_auto_flow": null,
            "grid_auto_rows": null,
            "grid_column": null,
            "grid_gap": null,
            "grid_row": null,
            "grid_template_areas": null,
            "grid_template_columns": null,
            "grid_template_rows": null,
            "height": null,
            "justify_content": null,
            "justify_items": null,
            "left": null,
            "margin": null,
            "max_height": null,
            "max_width": null,
            "min_height": null,
            "min_width": null,
            "object_fit": null,
            "object_position": null,
            "order": null,
            "overflow": null,
            "overflow_x": null,
            "overflow_y": null,
            "padding": null,
            "right": null,
            "top": null,
            "visibility": null,
            "width": null
          }
        },
        "6ddf4eb2997946c0b58080bb814bccd1": {
          "model_module": "@jupyter-widgets/controls",
          "model_name": "DescriptionStyleModel",
          "model_module_version": "1.5.0",
          "state": {
            "_model_module": "@jupyter-widgets/controls",
            "_model_module_version": "1.5.0",
            "_model_name": "DescriptionStyleModel",
            "_view_count": null,
            "_view_module": "@jupyter-widgets/base",
            "_view_module_version": "1.2.0",
            "_view_name": "StyleView",
            "description_width": ""
          }
        },
        "94c643889da84552850592272b610e2f": {
          "model_module": "@jupyter-widgets/controls",
          "model_name": "HBoxModel",
          "model_module_version": "1.5.0",
          "state": {
            "_dom_classes": [],
            "_model_module": "@jupyter-widgets/controls",
            "_model_module_version": "1.5.0",
            "_model_name": "HBoxModel",
            "_view_count": null,
            "_view_module": "@jupyter-widgets/controls",
            "_view_module_version": "1.5.0",
            "_view_name": "HBoxView",
            "box_style": "",
            "children": [
              "IPY_MODEL_63c94248e98d4193aefb68386e60d9a0",
              "IPY_MODEL_f4dce374af8e4eb9940d32b6ca5ae9df",
              "IPY_MODEL_f1fbd74ea8674f7fa17cc8d32ab7f5dd"
            ],
            "layout": "IPY_MODEL_ffdc74122c204bc29342e9b252c0693a"
          }
        },
        "63c94248e98d4193aefb68386e60d9a0": {
          "model_module": "@jupyter-widgets/controls",
          "model_name": "HTMLModel",
          "model_module_version": "1.5.0",
          "state": {
            "_dom_classes": [],
            "_model_module": "@jupyter-widgets/controls",
            "_model_module_version": "1.5.0",
            "_model_name": "HTMLModel",
            "_view_count": null,
            "_view_module": "@jupyter-widgets/controls",
            "_view_module_version": "1.5.0",
            "_view_name": "HTMLView",
            "description": "",
            "description_tooltip": null,
            "layout": "IPY_MODEL_7e58f27256844d7183c4f1fb24e92df8",
            "placeholder": "​",
            "style": "IPY_MODEL_16d9dde0d7284136b9a0f16c590b1dfb",
            "value": "Loading checkpoint shards: 100%"
          }
        },
        "f4dce374af8e4eb9940d32b6ca5ae9df": {
          "model_module": "@jupyter-widgets/controls",
          "model_name": "FloatProgressModel",
          "model_module_version": "1.5.0",
          "state": {
            "_dom_classes": [],
            "_model_module": "@jupyter-widgets/controls",
            "_model_module_version": "1.5.0",
            "_model_name": "FloatProgressModel",
            "_view_count": null,
            "_view_module": "@jupyter-widgets/controls",
            "_view_module_version": "1.5.0",
            "_view_name": "ProgressView",
            "bar_style": "success",
            "description": "",
            "description_tooltip": null,
            "layout": "IPY_MODEL_8d5e15da4a274847bb51153f1ae04157",
            "max": 3,
            "min": 0,
            "orientation": "horizontal",
            "style": "IPY_MODEL_cb46fc32664d43e39774c87b96b44260",
            "value": 3
          }
        },
        "f1fbd74ea8674f7fa17cc8d32ab7f5dd": {
          "model_module": "@jupyter-widgets/controls",
          "model_name": "HTMLModel",
          "model_module_version": "1.5.0",
          "state": {
            "_dom_classes": [],
            "_model_module": "@jupyter-widgets/controls",
            "_model_module_version": "1.5.0",
            "_model_name": "HTMLModel",
            "_view_count": null,
            "_view_module": "@jupyter-widgets/controls",
            "_view_module_version": "1.5.0",
            "_view_name": "HTMLView",
            "description": "",
            "description_tooltip": null,
            "layout": "IPY_MODEL_8b19d934339e4310a3e192b5ebd4e5a9",
            "placeholder": "​",
            "style": "IPY_MODEL_6488bba3c038481fa44bd21e37fded0d",
            "value": " 3/3 [00:07&lt;00:00,  2.50s/it]"
          }
        },
        "ffdc74122c204bc29342e9b252c0693a": {
          "model_module": "@jupyter-widgets/base",
          "model_name": "LayoutModel",
          "model_module_version": "1.2.0",
          "state": {
            "_model_module": "@jupyter-widgets/base",
            "_model_module_version": "1.2.0",
            "_model_name": "LayoutModel",
            "_view_count": null,
            "_view_module": "@jupyter-widgets/base",
            "_view_module_version": "1.2.0",
            "_view_name": "LayoutView",
            "align_content": null,
            "align_items": null,
            "align_self": null,
            "border": null,
            "bottom": null,
            "display": null,
            "flex": null,
            "flex_flow": null,
            "grid_area": null,
            "grid_auto_columns": null,
            "grid_auto_flow": null,
            "grid_auto_rows": null,
            "grid_column": null,
            "grid_gap": null,
            "grid_row": null,
            "grid_template_areas": null,
            "grid_template_columns": null,
            "grid_template_rows": null,
            "height": null,
            "justify_content": null,
            "justify_items": null,
            "left": null,
            "margin": null,
            "max_height": null,
            "max_width": null,
            "min_height": null,
            "min_width": null,
            "object_fit": null,
            "object_position": null,
            "order": null,
            "overflow": null,
            "overflow_x": null,
            "overflow_y": null,
            "padding": null,
            "right": null,
            "top": null,
            "visibility": null,
            "width": null
          }
        },
        "7e58f27256844d7183c4f1fb24e92df8": {
          "model_module": "@jupyter-widgets/base",
          "model_name": "LayoutModel",
          "model_module_version": "1.2.0",
          "state": {
            "_model_module": "@jupyter-widgets/base",
            "_model_module_version": "1.2.0",
            "_model_name": "LayoutModel",
            "_view_count": null,
            "_view_module": "@jupyter-widgets/base",
            "_view_module_version": "1.2.0",
            "_view_name": "LayoutView",
            "align_content": null,
            "align_items": null,
            "align_self": null,
            "border": null,
            "bottom": null,
            "display": null,
            "flex": null,
            "flex_flow": null,
            "grid_area": null,
            "grid_auto_columns": null,
            "grid_auto_flow": null,
            "grid_auto_rows": null,
            "grid_column": null,
            "grid_gap": null,
            "grid_row": null,
            "grid_template_areas": null,
            "grid_template_columns": null,
            "grid_template_rows": null,
            "height": null,
            "justify_content": null,
            "justify_items": null,
            "left": null,
            "margin": null,
            "max_height": null,
            "max_width": null,
            "min_height": null,
            "min_width": null,
            "object_fit": null,
            "object_position": null,
            "order": null,
            "overflow": null,
            "overflow_x": null,
            "overflow_y": null,
            "padding": null,
            "right": null,
            "top": null,
            "visibility": null,
            "width": null
          }
        },
        "16d9dde0d7284136b9a0f16c590b1dfb": {
          "model_module": "@jupyter-widgets/controls",
          "model_name": "DescriptionStyleModel",
          "model_module_version": "1.5.0",
          "state": {
            "_model_module": "@jupyter-widgets/controls",
            "_model_module_version": "1.5.0",
            "_model_name": "DescriptionStyleModel",
            "_view_count": null,
            "_view_module": "@jupyter-widgets/base",
            "_view_module_version": "1.2.0",
            "_view_name": "StyleView",
            "description_width": ""
          }
        },
        "8d5e15da4a274847bb51153f1ae04157": {
          "model_module": "@jupyter-widgets/base",
          "model_name": "LayoutModel",
          "model_module_version": "1.2.0",
          "state": {
            "_model_module": "@jupyter-widgets/base",
            "_model_module_version": "1.2.0",
            "_model_name": "LayoutModel",
            "_view_count": null,
            "_view_module": "@jupyter-widgets/base",
            "_view_module_version": "1.2.0",
            "_view_name": "LayoutView",
            "align_content": null,
            "align_items": null,
            "align_self": null,
            "border": null,
            "bottom": null,
            "display": null,
            "flex": null,
            "flex_flow": null,
            "grid_area": null,
            "grid_auto_columns": null,
            "grid_auto_flow": null,
            "grid_auto_rows": null,
            "grid_column": null,
            "grid_gap": null,
            "grid_row": null,
            "grid_template_areas": null,
            "grid_template_columns": null,
            "grid_template_rows": null,
            "height": null,
            "justify_content": null,
            "justify_items": null,
            "left": null,
            "margin": null,
            "max_height": null,
            "max_width": null,
            "min_height": null,
            "min_width": null,
            "object_fit": null,
            "object_position": null,
            "order": null,
            "overflow": null,
            "overflow_x": null,
            "overflow_y": null,
            "padding": null,
            "right": null,
            "top": null,
            "visibility": null,
            "width": null
          }
        },
        "cb46fc32664d43e39774c87b96b44260": {
          "model_module": "@jupyter-widgets/controls",
          "model_name": "ProgressStyleModel",
          "model_module_version": "1.5.0",
          "state": {
            "_model_module": "@jupyter-widgets/controls",
            "_model_module_version": "1.5.0",
            "_model_name": "ProgressStyleModel",
            "_view_count": null,
            "_view_module": "@jupyter-widgets/base",
            "_view_module_version": "1.2.0",
            "_view_name": "StyleView",
            "bar_color": null,
            "description_width": ""
          }
        },
        "8b19d934339e4310a3e192b5ebd4e5a9": {
          "model_module": "@jupyter-widgets/base",
          "model_name": "LayoutModel",
          "model_module_version": "1.2.0",
          "state": {
            "_model_module": "@jupyter-widgets/base",
            "_model_module_version": "1.2.0",
            "_model_name": "LayoutModel",
            "_view_count": null,
            "_view_module": "@jupyter-widgets/base",
            "_view_module_version": "1.2.0",
            "_view_name": "LayoutView",
            "align_content": null,
            "align_items": null,
            "align_self": null,
            "border": null,
            "bottom": null,
            "display": null,
            "flex": null,
            "flex_flow": null,
            "grid_area": null,
            "grid_auto_columns": null,
            "grid_auto_flow": null,
            "grid_auto_rows": null,
            "grid_column": null,
            "grid_gap": null,
            "grid_row": null,
            "grid_template_areas": null,
            "grid_template_columns": null,
            "grid_template_rows": null,
            "height": null,
            "justify_content": null,
            "justify_items": null,
            "left": null,
            "margin": null,
            "max_height": null,
            "max_width": null,
            "min_height": null,
            "min_width": null,
            "object_fit": null,
            "object_position": null,
            "order": null,
            "overflow": null,
            "overflow_x": null,
            "overflow_y": null,
            "padding": null,
            "right": null,
            "top": null,
            "visibility": null,
            "width": null
          }
        },
        "6488bba3c038481fa44bd21e37fded0d": {
          "model_module": "@jupyter-widgets/controls",
          "model_name": "DescriptionStyleModel",
          "model_module_version": "1.5.0",
          "state": {
            "_model_module": "@jupyter-widgets/controls",
            "_model_module_version": "1.5.0",
            "_model_name": "DescriptionStyleModel",
            "_view_count": null,
            "_view_module": "@jupyter-widgets/base",
            "_view_module_version": "1.2.0",
            "_view_name": "StyleView",
            "description_width": ""
          }
        },
        "ccc69ebfe5d54e71b8f5895673fa7557": {
          "model_module": "@jupyter-widgets/controls",
          "model_name": "HBoxModel",
          "model_module_version": "1.5.0",
          "state": {
            "_dom_classes": [],
            "_model_module": "@jupyter-widgets/controls",
            "_model_module_version": "1.5.0",
            "_model_name": "HBoxModel",
            "_view_count": null,
            "_view_module": "@jupyter-widgets/controls",
            "_view_module_version": "1.5.0",
            "_view_name": "HBoxView",
            "box_style": "",
            "children": [
              "IPY_MODEL_53c14d042a324033a4443adbb49f1d41",
              "IPY_MODEL_7d189676bc884d93bb29b06fd003097b",
              "IPY_MODEL_4cc6d07ae9014a7abd947881a42ada59"
            ],
            "layout": "IPY_MODEL_86fc12a0b345409bb6fca6cd7f028e50"
          }
        },
        "53c14d042a324033a4443adbb49f1d41": {
          "model_module": "@jupyter-widgets/controls",
          "model_name": "HTMLModel",
          "model_module_version": "1.5.0",
          "state": {
            "_dom_classes": [],
            "_model_module": "@jupyter-widgets/controls",
            "_model_module_version": "1.5.0",
            "_model_name": "HTMLModel",
            "_view_count": null,
            "_view_module": "@jupyter-widgets/controls",
            "_view_module_version": "1.5.0",
            "_view_name": "HTMLView",
            "description": "",
            "description_tooltip": null,
            "layout": "IPY_MODEL_1f16a28ae4c5441da27b305938350b73",
            "placeholder": "​",
            "style": "IPY_MODEL_4c3f282bf05b4a55a8e0b5ef9aba7720",
            "value": "generation_config.json: 100%"
          }
        },
        "7d189676bc884d93bb29b06fd003097b": {
          "model_module": "@jupyter-widgets/controls",
          "model_name": "FloatProgressModel",
          "model_module_version": "1.5.0",
          "state": {
            "_dom_classes": [],
            "_model_module": "@jupyter-widgets/controls",
            "_model_module_version": "1.5.0",
            "_model_name": "FloatProgressModel",
            "_view_count": null,
            "_view_module": "@jupyter-widgets/controls",
            "_view_module_version": "1.5.0",
            "_view_name": "ProgressView",
            "bar_style": "success",
            "description": "",
            "description_tooltip": null,
            "layout": "IPY_MODEL_87c23bf228e942eaabab25d1bca0dee4",
            "max": 111,
            "min": 0,
            "orientation": "horizontal",
            "style": "IPY_MODEL_0441a70a16854bada5e7b1cc6f8c4d99",
            "value": 111
          }
        },
        "4cc6d07ae9014a7abd947881a42ada59": {
          "model_module": "@jupyter-widgets/controls",
          "model_name": "HTMLModel",
          "model_module_version": "1.5.0",
          "state": {
            "_dom_classes": [],
            "_model_module": "@jupyter-widgets/controls",
            "_model_module_version": "1.5.0",
            "_model_name": "HTMLModel",
            "_view_count": null,
            "_view_module": "@jupyter-widgets/controls",
            "_view_module_version": "1.5.0",
            "_view_name": "HTMLView",
            "description": "",
            "description_tooltip": null,
            "layout": "IPY_MODEL_2592050b573f403fb3ac4510297ae34d",
            "placeholder": "​",
            "style": "IPY_MODEL_b31d1ada5dd246fa9e2fc76d7fe2ef23",
            "value": " 111/111 [00:00&lt;00:00, 10.6kB/s]"
          }
        },
        "86fc12a0b345409bb6fca6cd7f028e50": {
          "model_module": "@jupyter-widgets/base",
          "model_name": "LayoutModel",
          "model_module_version": "1.2.0",
          "state": {
            "_model_module": "@jupyter-widgets/base",
            "_model_module_version": "1.2.0",
            "_model_name": "LayoutModel",
            "_view_count": null,
            "_view_module": "@jupyter-widgets/base",
            "_view_module_version": "1.2.0",
            "_view_name": "LayoutView",
            "align_content": null,
            "align_items": null,
            "align_self": null,
            "border": null,
            "bottom": null,
            "display": null,
            "flex": null,
            "flex_flow": null,
            "grid_area": null,
            "grid_auto_columns": null,
            "grid_auto_flow": null,
            "grid_auto_rows": null,
            "grid_column": null,
            "grid_gap": null,
            "grid_row": null,
            "grid_template_areas": null,
            "grid_template_columns": null,
            "grid_template_rows": null,
            "height": null,
            "justify_content": null,
            "justify_items": null,
            "left": null,
            "margin": null,
            "max_height": null,
            "max_width": null,
            "min_height": null,
            "min_width": null,
            "object_fit": null,
            "object_position": null,
            "order": null,
            "overflow": null,
            "overflow_x": null,
            "overflow_y": null,
            "padding": null,
            "right": null,
            "top": null,
            "visibility": null,
            "width": null
          }
        },
        "1f16a28ae4c5441da27b305938350b73": {
          "model_module": "@jupyter-widgets/base",
          "model_name": "LayoutModel",
          "model_module_version": "1.2.0",
          "state": {
            "_model_module": "@jupyter-widgets/base",
            "_model_module_version": "1.2.0",
            "_model_name": "LayoutModel",
            "_view_count": null,
            "_view_module": "@jupyter-widgets/base",
            "_view_module_version": "1.2.0",
            "_view_name": "LayoutView",
            "align_content": null,
            "align_items": null,
            "align_self": null,
            "border": null,
            "bottom": null,
            "display": null,
            "flex": null,
            "flex_flow": null,
            "grid_area": null,
            "grid_auto_columns": null,
            "grid_auto_flow": null,
            "grid_auto_rows": null,
            "grid_column": null,
            "grid_gap": null,
            "grid_row": null,
            "grid_template_areas": null,
            "grid_template_columns": null,
            "grid_template_rows": null,
            "height": null,
            "justify_content": null,
            "justify_items": null,
            "left": null,
            "margin": null,
            "max_height": null,
            "max_width": null,
            "min_height": null,
            "min_width": null,
            "object_fit": null,
            "object_position": null,
            "order": null,
            "overflow": null,
            "overflow_x": null,
            "overflow_y": null,
            "padding": null,
            "right": null,
            "top": null,
            "visibility": null,
            "width": null
          }
        },
        "4c3f282bf05b4a55a8e0b5ef9aba7720": {
          "model_module": "@jupyter-widgets/controls",
          "model_name": "DescriptionStyleModel",
          "model_module_version": "1.5.0",
          "state": {
            "_model_module": "@jupyter-widgets/controls",
            "_model_module_version": "1.5.0",
            "_model_name": "DescriptionStyleModel",
            "_view_count": null,
            "_view_module": "@jupyter-widgets/base",
            "_view_module_version": "1.2.0",
            "_view_name": "StyleView",
            "description_width": ""
          }
        },
        "87c23bf228e942eaabab25d1bca0dee4": {
          "model_module": "@jupyter-widgets/base",
          "model_name": "LayoutModel",
          "model_module_version": "1.2.0",
          "state": {
            "_model_module": "@jupyter-widgets/base",
            "_model_module_version": "1.2.0",
            "_model_name": "LayoutModel",
            "_view_count": null,
            "_view_module": "@jupyter-widgets/base",
            "_view_module_version": "1.2.0",
            "_view_name": "LayoutView",
            "align_content": null,
            "align_items": null,
            "align_self": null,
            "border": null,
            "bottom": null,
            "display": null,
            "flex": null,
            "flex_flow": null,
            "grid_area": null,
            "grid_auto_columns": null,
            "grid_auto_flow": null,
            "grid_auto_rows": null,
            "grid_column": null,
            "grid_gap": null,
            "grid_row": null,
            "grid_template_areas": null,
            "grid_template_columns": null,
            "grid_template_rows": null,
            "height": null,
            "justify_content": null,
            "justify_items": null,
            "left": null,
            "margin": null,
            "max_height": null,
            "max_width": null,
            "min_height": null,
            "min_width": null,
            "object_fit": null,
            "object_position": null,
            "order": null,
            "overflow": null,
            "overflow_x": null,
            "overflow_y": null,
            "padding": null,
            "right": null,
            "top": null,
            "visibility": null,
            "width": null
          }
        },
        "0441a70a16854bada5e7b1cc6f8c4d99": {
          "model_module": "@jupyter-widgets/controls",
          "model_name": "ProgressStyleModel",
          "model_module_version": "1.5.0",
          "state": {
            "_model_module": "@jupyter-widgets/controls",
            "_model_module_version": "1.5.0",
            "_model_name": "ProgressStyleModel",
            "_view_count": null,
            "_view_module": "@jupyter-widgets/base",
            "_view_module_version": "1.2.0",
            "_view_name": "StyleView",
            "bar_color": null,
            "description_width": ""
          }
        },
        "2592050b573f403fb3ac4510297ae34d": {
          "model_module": "@jupyter-widgets/base",
          "model_name": "LayoutModel",
          "model_module_version": "1.2.0",
          "state": {
            "_model_module": "@jupyter-widgets/base",
            "_model_module_version": "1.2.0",
            "_model_name": "LayoutModel",
            "_view_count": null,
            "_view_module": "@jupyter-widgets/base",
            "_view_module_version": "1.2.0",
            "_view_name": "LayoutView",
            "align_content": null,
            "align_items": null,
            "align_self": null,
            "border": null,
            "bottom": null,
            "display": null,
            "flex": null,
            "flex_flow": null,
            "grid_area": null,
            "grid_auto_columns": null,
            "grid_auto_flow": null,
            "grid_auto_rows": null,
            "grid_column": null,
            "grid_gap": null,
            "grid_row": null,
            "grid_template_areas": null,
            "grid_template_columns": null,
            "grid_template_rows": null,
            "height": null,
            "justify_content": null,
            "justify_items": null,
            "left": null,
            "margin": null,
            "max_height": null,
            "max_width": null,
            "min_height": null,
            "min_width": null,
            "object_fit": null,
            "object_position": null,
            "order": null,
            "overflow": null,
            "overflow_x": null,
            "overflow_y": null,
            "padding": null,
            "right": null,
            "top": null,
            "visibility": null,
            "width": null
          }
        },
        "b31d1ada5dd246fa9e2fc76d7fe2ef23": {
          "model_module": "@jupyter-widgets/controls",
          "model_name": "DescriptionStyleModel",
          "model_module_version": "1.5.0",
          "state": {
            "_model_module": "@jupyter-widgets/controls",
            "_model_module_version": "1.5.0",
            "_model_name": "DescriptionStyleModel",
            "_view_count": null,
            "_view_module": "@jupyter-widgets/base",
            "_view_module_version": "1.2.0",
            "_view_name": "StyleView",
            "description_width": ""
          }
        },
        "a5bc82a7cfff48859ab3dac9881334a9": {
          "model_module": "@jupyter-widgets/controls",
          "model_name": "VBoxModel",
          "model_module_version": "1.5.0",
          "state": {
            "_dom_classes": [],
            "_model_module": "@jupyter-widgets/controls",
            "_model_module_version": "1.5.0",
            "_model_name": "VBoxModel",
            "_view_count": null,
            "_view_module": "@jupyter-widgets/controls",
            "_view_module_version": "1.5.0",
            "_view_name": "VBoxView",
            "box_style": "",
            "children": [
              "IPY_MODEL_a3e17c1328734f67b2dfff4a715d265b",
              "IPY_MODEL_2a46614d53a646f99c91e79ebb1f6592"
            ],
            "layout": "IPY_MODEL_77b7d6bc4715432eaf48bde12844e7fc"
          }
        },
        "a3e17c1328734f67b2dfff4a715d265b": {
          "model_module": "@jupyter-widgets/controls",
          "model_name": "LabelModel",
          "model_module_version": "1.5.0",
          "state": {
            "_dom_classes": [],
            "_model_module": "@jupyter-widgets/controls",
            "_model_module_version": "1.5.0",
            "_model_name": "LabelModel",
            "_view_count": null,
            "_view_module": "@jupyter-widgets/controls",
            "_view_module_version": "1.5.0",
            "_view_name": "LabelView",
            "description": "",
            "description_tooltip": null,
            "layout": "IPY_MODEL_0f49180ed1364afd873475756f86d6b9",
            "placeholder": "​",
            "style": "IPY_MODEL_61d38d39596b4957a55c96514b8d471a",
            "value": "Waiting for wandb.init()...\r"
          }
        },
        "2a46614d53a646f99c91e79ebb1f6592": {
          "model_module": "@jupyter-widgets/controls",
          "model_name": "FloatProgressModel",
          "model_module_version": "1.5.0",
          "state": {
            "_dom_classes": [],
            "_model_module": "@jupyter-widgets/controls",
            "_model_module_version": "1.5.0",
            "_model_name": "FloatProgressModel",
            "_view_count": null,
            "_view_module": "@jupyter-widgets/controls",
            "_view_module_version": "1.5.0",
            "_view_name": "ProgressView",
            "bar_style": "",
            "description": "",
            "description_tooltip": null,
            "layout": "IPY_MODEL_54f30190b97b4bdc9b70fe26d27b19d2",
            "max": 1,
            "min": 0,
            "orientation": "horizontal",
            "style": "IPY_MODEL_4c7f2a6fe1e74ecbbed6b9f18fdf0d5c",
            "value": 1
          }
        },
        "77b7d6bc4715432eaf48bde12844e7fc": {
          "model_module": "@jupyter-widgets/base",
          "model_name": "LayoutModel",
          "model_module_version": "1.2.0",
          "state": {
            "_model_module": "@jupyter-widgets/base",
            "_model_module_version": "1.2.0",
            "_model_name": "LayoutModel",
            "_view_count": null,
            "_view_module": "@jupyter-widgets/base",
            "_view_module_version": "1.2.0",
            "_view_name": "LayoutView",
            "align_content": null,
            "align_items": null,
            "align_self": null,
            "border": null,
            "bottom": null,
            "display": null,
            "flex": null,
            "flex_flow": null,
            "grid_area": null,
            "grid_auto_columns": null,
            "grid_auto_flow": null,
            "grid_auto_rows": null,
            "grid_column": null,
            "grid_gap": null,
            "grid_row": null,
            "grid_template_areas": null,
            "grid_template_columns": null,
            "grid_template_rows": null,
            "height": null,
            "justify_content": null,
            "justify_items": null,
            "left": null,
            "margin": null,
            "max_height": null,
            "max_width": null,
            "min_height": null,
            "min_width": null,
            "object_fit": null,
            "object_position": null,
            "order": null,
            "overflow": null,
            "overflow_x": null,
            "overflow_y": null,
            "padding": null,
            "right": null,
            "top": null,
            "visibility": null,
            "width": null
          }
        },
        "0f49180ed1364afd873475756f86d6b9": {
          "model_module": "@jupyter-widgets/base",
          "model_name": "LayoutModel",
          "model_module_version": "1.2.0",
          "state": {
            "_model_module": "@jupyter-widgets/base",
            "_model_module_version": "1.2.0",
            "_model_name": "LayoutModel",
            "_view_count": null,
            "_view_module": "@jupyter-widgets/base",
            "_view_module_version": "1.2.0",
            "_view_name": "LayoutView",
            "align_content": null,
            "align_items": null,
            "align_self": null,
            "border": null,
            "bottom": null,
            "display": null,
            "flex": null,
            "flex_flow": null,
            "grid_area": null,
            "grid_auto_columns": null,
            "grid_auto_flow": null,
            "grid_auto_rows": null,
            "grid_column": null,
            "grid_gap": null,
            "grid_row": null,
            "grid_template_areas": null,
            "grid_template_columns": null,
            "grid_template_rows": null,
            "height": null,
            "justify_content": null,
            "justify_items": null,
            "left": null,
            "margin": null,
            "max_height": null,
            "max_width": null,
            "min_height": null,
            "min_width": null,
            "object_fit": null,
            "object_position": null,
            "order": null,
            "overflow": null,
            "overflow_x": null,
            "overflow_y": null,
            "padding": null,
            "right": null,
            "top": null,
            "visibility": null,
            "width": null
          }
        },
        "61d38d39596b4957a55c96514b8d471a": {
          "model_module": "@jupyter-widgets/controls",
          "model_name": "DescriptionStyleModel",
          "model_module_version": "1.5.0",
          "state": {
            "_model_module": "@jupyter-widgets/controls",
            "_model_module_version": "1.5.0",
            "_model_name": "DescriptionStyleModel",
            "_view_count": null,
            "_view_module": "@jupyter-widgets/base",
            "_view_module_version": "1.2.0",
            "_view_name": "StyleView",
            "description_width": ""
          }
        },
        "54f30190b97b4bdc9b70fe26d27b19d2": {
          "model_module": "@jupyter-widgets/base",
          "model_name": "LayoutModel",
          "model_module_version": "1.2.0",
          "state": {
            "_model_module": "@jupyter-widgets/base",
            "_model_module_version": "1.2.0",
            "_model_name": "LayoutModel",
            "_view_count": null,
            "_view_module": "@jupyter-widgets/base",
            "_view_module_version": "1.2.0",
            "_view_name": "LayoutView",
            "align_content": null,
            "align_items": null,
            "align_self": null,
            "border": null,
            "bottom": null,
            "display": null,
            "flex": null,
            "flex_flow": null,
            "grid_area": null,
            "grid_auto_columns": null,
            "grid_auto_flow": null,
            "grid_auto_rows": null,
            "grid_column": null,
            "grid_gap": null,
            "grid_row": null,
            "grid_template_areas": null,
            "grid_template_columns": null,
            "grid_template_rows": null,
            "height": null,
            "justify_content": null,
            "justify_items": null,
            "left": null,
            "margin": null,
            "max_height": null,
            "max_width": null,
            "min_height": null,
            "min_width": null,
            "object_fit": null,
            "object_position": null,
            "order": null,
            "overflow": null,
            "overflow_x": null,
            "overflow_y": null,
            "padding": null,
            "right": null,
            "top": null,
            "visibility": null,
            "width": null
          }
        },
        "4c7f2a6fe1e74ecbbed6b9f18fdf0d5c": {
          "model_module": "@jupyter-widgets/controls",
          "model_name": "ProgressStyleModel",
          "model_module_version": "1.5.0",
          "state": {
            "_model_module": "@jupyter-widgets/controls",
            "_model_module_version": "1.5.0",
            "_model_name": "ProgressStyleModel",
            "_view_count": null,
            "_view_module": "@jupyter-widgets/base",
            "_view_module_version": "1.2.0",
            "_view_name": "StyleView",
            "bar_color": null,
            "description_width": ""
          }
        },
        "a82cf8ae61504c319306f850322efbb9": {
          "model_module": "@jupyter-widgets/controls",
          "model_name": "VBoxModel",
          "model_module_version": "1.5.0",
          "state": {
            "_dom_classes": [],
            "_model_module": "@jupyter-widgets/controls",
            "_model_module_version": "1.5.0",
            "_model_name": "VBoxModel",
            "_view_count": null,
            "_view_module": "@jupyter-widgets/controls",
            "_view_module_version": "1.5.0",
            "_view_name": "VBoxView",
            "box_style": "",
            "children": [
              "IPY_MODEL_b5ae9d8099924d67bc5962b9199a7856",
              "IPY_MODEL_0f0cc2d0f8a44317a968141551e7f5c1"
            ],
            "layout": "IPY_MODEL_c59f6689d23f4eeab6defa2f96f669f0"
          }
        },
        "b5ae9d8099924d67bc5962b9199a7856": {
          "model_module": "@jupyter-widgets/controls",
          "model_name": "LabelModel",
          "model_module_version": "1.5.0",
          "state": {
            "_dom_classes": [],
            "_model_module": "@jupyter-widgets/controls",
            "_model_module_version": "1.5.0",
            "_model_name": "LabelModel",
            "_view_count": null,
            "_view_module": "@jupyter-widgets/controls",
            "_view_module_version": "1.5.0",
            "_view_name": "LabelView",
            "description": "",
            "description_tooltip": null,
            "layout": "IPY_MODEL_b1265edcaddd4d78b438ad4e4df45b8b",
            "placeholder": "​",
            "style": "IPY_MODEL_a3b6512ffbbe42beba37348bb4b79c56",
            "value": "1080.126 MB of 1080.126 MB uploaded\r"
          }
        },
        "0f0cc2d0f8a44317a968141551e7f5c1": {
          "model_module": "@jupyter-widgets/controls",
          "model_name": "FloatProgressModel",
          "model_module_version": "1.5.0",
          "state": {
            "_dom_classes": [],
            "_model_module": "@jupyter-widgets/controls",
            "_model_module_version": "1.5.0",
            "_model_name": "FloatProgressModel",
            "_view_count": null,
            "_view_module": "@jupyter-widgets/controls",
            "_view_module_version": "1.5.0",
            "_view_name": "ProgressView",
            "bar_style": "",
            "description": "",
            "description_tooltip": null,
            "layout": "IPY_MODEL_a9deaed393ef4980a22db79adaade21b",
            "max": 1,
            "min": 0,
            "orientation": "horizontal",
            "style": "IPY_MODEL_eaa71655c0934d50b6d46c37286e4121",
            "value": 1
          }
        },
        "c59f6689d23f4eeab6defa2f96f669f0": {
          "model_module": "@jupyter-widgets/base",
          "model_name": "LayoutModel",
          "model_module_version": "1.2.0",
          "state": {
            "_model_module": "@jupyter-widgets/base",
            "_model_module_version": "1.2.0",
            "_model_name": "LayoutModel",
            "_view_count": null,
            "_view_module": "@jupyter-widgets/base",
            "_view_module_version": "1.2.0",
            "_view_name": "LayoutView",
            "align_content": null,
            "align_items": null,
            "align_self": null,
            "border": null,
            "bottom": null,
            "display": null,
            "flex": null,
            "flex_flow": null,
            "grid_area": null,
            "grid_auto_columns": null,
            "grid_auto_flow": null,
            "grid_auto_rows": null,
            "grid_column": null,
            "grid_gap": null,
            "grid_row": null,
            "grid_template_areas": null,
            "grid_template_columns": null,
            "grid_template_rows": null,
            "height": null,
            "justify_content": null,
            "justify_items": null,
            "left": null,
            "margin": null,
            "max_height": null,
            "max_width": null,
            "min_height": null,
            "min_width": null,
            "object_fit": null,
            "object_position": null,
            "order": null,
            "overflow": null,
            "overflow_x": null,
            "overflow_y": null,
            "padding": null,
            "right": null,
            "top": null,
            "visibility": null,
            "width": null
          }
        },
        "b1265edcaddd4d78b438ad4e4df45b8b": {
          "model_module": "@jupyter-widgets/base",
          "model_name": "LayoutModel",
          "model_module_version": "1.2.0",
          "state": {
            "_model_module": "@jupyter-widgets/base",
            "_model_module_version": "1.2.0",
            "_model_name": "LayoutModel",
            "_view_count": null,
            "_view_module": "@jupyter-widgets/base",
            "_view_module_version": "1.2.0",
            "_view_name": "LayoutView",
            "align_content": null,
            "align_items": null,
            "align_self": null,
            "border": null,
            "bottom": null,
            "display": null,
            "flex": null,
            "flex_flow": null,
            "grid_area": null,
            "grid_auto_columns": null,
            "grid_auto_flow": null,
            "grid_auto_rows": null,
            "grid_column": null,
            "grid_gap": null,
            "grid_row": null,
            "grid_template_areas": null,
            "grid_template_columns": null,
            "grid_template_rows": null,
            "height": null,
            "justify_content": null,
            "justify_items": null,
            "left": null,
            "margin": null,
            "max_height": null,
            "max_width": null,
            "min_height": null,
            "min_width": null,
            "object_fit": null,
            "object_position": null,
            "order": null,
            "overflow": null,
            "overflow_x": null,
            "overflow_y": null,
            "padding": null,
            "right": null,
            "top": null,
            "visibility": null,
            "width": null
          }
        },
        "a3b6512ffbbe42beba37348bb4b79c56": {
          "model_module": "@jupyter-widgets/controls",
          "model_name": "DescriptionStyleModel",
          "model_module_version": "1.5.0",
          "state": {
            "_model_module": "@jupyter-widgets/controls",
            "_model_module_version": "1.5.0",
            "_model_name": "DescriptionStyleModel",
            "_view_count": null,
            "_view_module": "@jupyter-widgets/base",
            "_view_module_version": "1.2.0",
            "_view_name": "StyleView",
            "description_width": ""
          }
        },
        "a9deaed393ef4980a22db79adaade21b": {
          "model_module": "@jupyter-widgets/base",
          "model_name": "LayoutModel",
          "model_module_version": "1.2.0",
          "state": {
            "_model_module": "@jupyter-widgets/base",
            "_model_module_version": "1.2.0",
            "_model_name": "LayoutModel",
            "_view_count": null,
            "_view_module": "@jupyter-widgets/base",
            "_view_module_version": "1.2.0",
            "_view_name": "LayoutView",
            "align_content": null,
            "align_items": null,
            "align_self": null,
            "border": null,
            "bottom": null,
            "display": null,
            "flex": null,
            "flex_flow": null,
            "grid_area": null,
            "grid_auto_columns": null,
            "grid_auto_flow": null,
            "grid_auto_rows": null,
            "grid_column": null,
            "grid_gap": null,
            "grid_row": null,
            "grid_template_areas": null,
            "grid_template_columns": null,
            "grid_template_rows": null,
            "height": null,
            "justify_content": null,
            "justify_items": null,
            "left": null,
            "margin": null,
            "max_height": null,
            "max_width": null,
            "min_height": null,
            "min_width": null,
            "object_fit": null,
            "object_position": null,
            "order": null,
            "overflow": null,
            "overflow_x": null,
            "overflow_y": null,
            "padding": null,
            "right": null,
            "top": null,
            "visibility": null,
            "width": null
          }
        },
        "eaa71655c0934d50b6d46c37286e4121": {
          "model_module": "@jupyter-widgets/controls",
          "model_name": "ProgressStyleModel",
          "model_module_version": "1.5.0",
          "state": {
            "_model_module": "@jupyter-widgets/controls",
            "_model_module_version": "1.5.0",
            "_model_name": "ProgressStyleModel",
            "_view_count": null,
            "_view_module": "@jupyter-widgets/base",
            "_view_module_version": "1.2.0",
            "_view_name": "StyleView",
            "bar_color": null,
            "description_width": ""
          }
        },
        "da77c505269847aa9905d21bffe16210": {
          "model_module": "@jupyter-widgets/controls",
          "model_name": "HBoxModel",
          "model_module_version": "1.5.0",
          "state": {
            "_dom_classes": [],
            "_model_module": "@jupyter-widgets/controls",
            "_model_module_version": "1.5.0",
            "_model_name": "HBoxModel",
            "_view_count": null,
            "_view_module": "@jupyter-widgets/controls",
            "_view_module_version": "1.5.0",
            "_view_name": "HBoxView",
            "box_style": "",
            "children": [
              "IPY_MODEL_997e12268ec04f1e8edc15836945d5a5",
              "IPY_MODEL_dcebd9bcd1d449afb6d678dfce1f6f58",
              "IPY_MODEL_37cecc5d570b45f28fa376fbf89db801"
            ],
            "layout": "IPY_MODEL_1945100796714f18a4a0e2eb28142878"
          }
        },
        "997e12268ec04f1e8edc15836945d5a5": {
          "model_module": "@jupyter-widgets/controls",
          "model_name": "HTMLModel",
          "model_module_version": "1.5.0",
          "state": {
            "_dom_classes": [],
            "_model_module": "@jupyter-widgets/controls",
            "_model_module_version": "1.5.0",
            "_model_name": "HTMLModel",
            "_view_count": null,
            "_view_module": "@jupyter-widgets/controls",
            "_view_module_version": "1.5.0",
            "_view_name": "HTMLView",
            "description": "",
            "description_tooltip": null,
            "layout": "IPY_MODEL_a92f5243246e4d3d9319cf506f21328e",
            "placeholder": "​",
            "style": "IPY_MODEL_4ab11b8a65e84fb293c14d591b79cabb",
            "value": "Flattening the indices: 100%"
          }
        },
        "dcebd9bcd1d449afb6d678dfce1f6f58": {
          "model_module": "@jupyter-widgets/controls",
          "model_name": "FloatProgressModel",
          "model_module_version": "1.5.0",
          "state": {
            "_dom_classes": [],
            "_model_module": "@jupyter-widgets/controls",
            "_model_module_version": "1.5.0",
            "_model_name": "FloatProgressModel",
            "_view_count": null,
            "_view_module": "@jupyter-widgets/controls",
            "_view_module_version": "1.5.0",
            "_view_name": "ProgressView",
            "bar_style": "success",
            "description": "",
            "description_tooltip": null,
            "layout": "IPY_MODEL_4cb011d221bb4b20abe5b1ee39a4ec5d",
            "max": 101,
            "min": 0,
            "orientation": "horizontal",
            "style": "IPY_MODEL_ddfa39b64dc04468b182a9a071c5ea84",
            "value": 101
          }
        },
        "37cecc5d570b45f28fa376fbf89db801": {
          "model_module": "@jupyter-widgets/controls",
          "model_name": "HTMLModel",
          "model_module_version": "1.5.0",
          "state": {
            "_dom_classes": [],
            "_model_module": "@jupyter-widgets/controls",
            "_model_module_version": "1.5.0",
            "_model_name": "HTMLModel",
            "_view_count": null,
            "_view_module": "@jupyter-widgets/controls",
            "_view_module_version": "1.5.0",
            "_view_name": "HTMLView",
            "description": "",
            "description_tooltip": null,
            "layout": "IPY_MODEL_830328332b8e42eaad07b06cb7eddbd0",
            "placeholder": "​",
            "style": "IPY_MODEL_4ea30d96fe7f4abd8556c20b428aadaf",
            "value": " 101/101 [00:00&lt;00:00, 3372.14 examples/s]"
          }
        },
        "1945100796714f18a4a0e2eb28142878": {
          "model_module": "@jupyter-widgets/base",
          "model_name": "LayoutModel",
          "model_module_version": "1.2.0",
          "state": {
            "_model_module": "@jupyter-widgets/base",
            "_model_module_version": "1.2.0",
            "_model_name": "LayoutModel",
            "_view_count": null,
            "_view_module": "@jupyter-widgets/base",
            "_view_module_version": "1.2.0",
            "_view_name": "LayoutView",
            "align_content": null,
            "align_items": null,
            "align_self": null,
            "border": null,
            "bottom": null,
            "display": null,
            "flex": null,
            "flex_flow": null,
            "grid_area": null,
            "grid_auto_columns": null,
            "grid_auto_flow": null,
            "grid_auto_rows": null,
            "grid_column": null,
            "grid_gap": null,
            "grid_row": null,
            "grid_template_areas": null,
            "grid_template_columns": null,
            "grid_template_rows": null,
            "height": null,
            "justify_content": null,
            "justify_items": null,
            "left": null,
            "margin": null,
            "max_height": null,
            "max_width": null,
            "min_height": null,
            "min_width": null,
            "object_fit": null,
            "object_position": null,
            "order": null,
            "overflow": null,
            "overflow_x": null,
            "overflow_y": null,
            "padding": null,
            "right": null,
            "top": null,
            "visibility": null,
            "width": null
          }
        },
        "a92f5243246e4d3d9319cf506f21328e": {
          "model_module": "@jupyter-widgets/base",
          "model_name": "LayoutModel",
          "model_module_version": "1.2.0",
          "state": {
            "_model_module": "@jupyter-widgets/base",
            "_model_module_version": "1.2.0",
            "_model_name": "LayoutModel",
            "_view_count": null,
            "_view_module": "@jupyter-widgets/base",
            "_view_module_version": "1.2.0",
            "_view_name": "LayoutView",
            "align_content": null,
            "align_items": null,
            "align_self": null,
            "border": null,
            "bottom": null,
            "display": null,
            "flex": null,
            "flex_flow": null,
            "grid_area": null,
            "grid_auto_columns": null,
            "grid_auto_flow": null,
            "grid_auto_rows": null,
            "grid_column": null,
            "grid_gap": null,
            "grid_row": null,
            "grid_template_areas": null,
            "grid_template_columns": null,
            "grid_template_rows": null,
            "height": null,
            "justify_content": null,
            "justify_items": null,
            "left": null,
            "margin": null,
            "max_height": null,
            "max_width": null,
            "min_height": null,
            "min_width": null,
            "object_fit": null,
            "object_position": null,
            "order": null,
            "overflow": null,
            "overflow_x": null,
            "overflow_y": null,
            "padding": null,
            "right": null,
            "top": null,
            "visibility": null,
            "width": null
          }
        },
        "4ab11b8a65e84fb293c14d591b79cabb": {
          "model_module": "@jupyter-widgets/controls",
          "model_name": "DescriptionStyleModel",
          "model_module_version": "1.5.0",
          "state": {
            "_model_module": "@jupyter-widgets/controls",
            "_model_module_version": "1.5.0",
            "_model_name": "DescriptionStyleModel",
            "_view_count": null,
            "_view_module": "@jupyter-widgets/base",
            "_view_module_version": "1.2.0",
            "_view_name": "StyleView",
            "description_width": ""
          }
        },
        "4cb011d221bb4b20abe5b1ee39a4ec5d": {
          "model_module": "@jupyter-widgets/base",
          "model_name": "LayoutModel",
          "model_module_version": "1.2.0",
          "state": {
            "_model_module": "@jupyter-widgets/base",
            "_model_module_version": "1.2.0",
            "_model_name": "LayoutModel",
            "_view_count": null,
            "_view_module": "@jupyter-widgets/base",
            "_view_module_version": "1.2.0",
            "_view_name": "LayoutView",
            "align_content": null,
            "align_items": null,
            "align_self": null,
            "border": null,
            "bottom": null,
            "display": null,
            "flex": null,
            "flex_flow": null,
            "grid_area": null,
            "grid_auto_columns": null,
            "grid_auto_flow": null,
            "grid_auto_rows": null,
            "grid_column": null,
            "grid_gap": null,
            "grid_row": null,
            "grid_template_areas": null,
            "grid_template_columns": null,
            "grid_template_rows": null,
            "height": null,
            "justify_content": null,
            "justify_items": null,
            "left": null,
            "margin": null,
            "max_height": null,
            "max_width": null,
            "min_height": null,
            "min_width": null,
            "object_fit": null,
            "object_position": null,
            "order": null,
            "overflow": null,
            "overflow_x": null,
            "overflow_y": null,
            "padding": null,
            "right": null,
            "top": null,
            "visibility": null,
            "width": null
          }
        },
        "ddfa39b64dc04468b182a9a071c5ea84": {
          "model_module": "@jupyter-widgets/controls",
          "model_name": "ProgressStyleModel",
          "model_module_version": "1.5.0",
          "state": {
            "_model_module": "@jupyter-widgets/controls",
            "_model_module_version": "1.5.0",
            "_model_name": "ProgressStyleModel",
            "_view_count": null,
            "_view_module": "@jupyter-widgets/base",
            "_view_module_version": "1.2.0",
            "_view_name": "StyleView",
            "bar_color": null,
            "description_width": ""
          }
        },
        "830328332b8e42eaad07b06cb7eddbd0": {
          "model_module": "@jupyter-widgets/base",
          "model_name": "LayoutModel",
          "model_module_version": "1.2.0",
          "state": {
            "_model_module": "@jupyter-widgets/base",
            "_model_module_version": "1.2.0",
            "_model_name": "LayoutModel",
            "_view_count": null,
            "_view_module": "@jupyter-widgets/base",
            "_view_module_version": "1.2.0",
            "_view_name": "LayoutView",
            "align_content": null,
            "align_items": null,
            "align_self": null,
            "border": null,
            "bottom": null,
            "display": null,
            "flex": null,
            "flex_flow": null,
            "grid_area": null,
            "grid_auto_columns": null,
            "grid_auto_flow": null,
            "grid_auto_rows": null,
            "grid_column": null,
            "grid_gap": null,
            "grid_row": null,
            "grid_template_areas": null,
            "grid_template_columns": null,
            "grid_template_rows": null,
            "height": null,
            "justify_content": null,
            "justify_items": null,
            "left": null,
            "margin": null,
            "max_height": null,
            "max_width": null,
            "min_height": null,
            "min_width": null,
            "object_fit": null,
            "object_position": null,
            "order": null,
            "overflow": null,
            "overflow_x": null,
            "overflow_y": null,
            "padding": null,
            "right": null,
            "top": null,
            "visibility": null,
            "width": null
          }
        },
        "4ea30d96fe7f4abd8556c20b428aadaf": {
          "model_module": "@jupyter-widgets/controls",
          "model_name": "DescriptionStyleModel",
          "model_module_version": "1.5.0",
          "state": {
            "_model_module": "@jupyter-widgets/controls",
            "_model_module_version": "1.5.0",
            "_model_name": "DescriptionStyleModel",
            "_view_count": null,
            "_view_module": "@jupyter-widgets/base",
            "_view_module_version": "1.2.0",
            "_view_name": "StyleView",
            "description_width": ""
          }
        }
      }
    }
  },
  "nbformat": 4,
  "nbformat_minor": 0
}